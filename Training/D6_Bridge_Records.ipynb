{
 "cells": [
  {
   "cell_type": "markdown",
   "id": "02d79982-5d76-409b-9a6b-4dde1856900a",
   "metadata": {},
   "source": [
    "# Outline of System\n",
    "\n",
    "Data is stored in a seperate repo, if you see references to file paths that don't exist in the CivilPy package, they are probably for the `D6_Bridge_Records` repository stored internally at `\\\\dotd06file01.dot.state.oh.us\\Users\\dparks1\\Git\\Bridge_Records`. As a general rule, bridge data should not be included within the civilpy repository.\n",
    "\n",
    "Bridge \"Common Name\" defined by cty_rte_section where section is the milepost equivalent of the near abutment, bridge \"Programming Name\" / \"Private Key\" is the SFN. Multiple structures can share a common name, i.e. a pony truss bridge that is replaced by prestressed box girder will have two SFNs, but still share the same common name. Bridge Records are sorted by District -> County -> Common Name -> SFN (Construction Date). The Route should be classified by it's number and contain no spaces or characters (US36 not US-36, U.S.36 or US 36). \"Sister Bridges\" or bridges that are located at the same milepost, but on different routes (US71 NB/SB) are located under the same \"Bridge Record\" folder as in CTY-RTE-SECTION, but are then seperated by SFNs in the subfolders of that record.\n",
    "\n",
    "All bridge data follows standard ODOT conventions, outlined in [the bridge inventory coding guide](https://www.transportation.ohio.gov/working/engineering/structural/inspection/03-inventory-coding). Ideally bridge attributes like span length, loading rating values, and all relevant information regarding the structure should be organized under a common \"Bridge Record\" folder."
   ]
  },
  {
   "cell_type": "markdown",
   "id": "b982c3fe-05ef-49de-b412-1ffa23507edb",
   "metadata": {},
   "source": [
    "# Bridge Record folder Organization\n",
    "\n",
    "\"Bridge Records\" are intended to be bridge files and details not normally captured during the inspection process or otherwise documented in assetwise's reports, as well as serve as a backup of the values stored within assetwise.  These include things like Merlin Dash files, load rating excel sheets, CADD design files, pdf plan sets and any other engineering values relevant to the bridge not otherwise organized necessarily \"by bridge\".\n",
    "\n",
    "The structure of the files system is as outlined. I've created a folder at Q:\\Bridge\\Parks, with the intent for it to eventually be renamed to `D6 Bridge Records`."
   ]
  },
  {
   "cell_type": "markdown",
   "id": "ac379daa-6810-4f54-a203-8823aceb9d1d",
   "metadata": {},
   "source": [
    "```bash\n",
    ".\n",
    "└── D6 Bridge Records (Parks)/\n",
    "    ├── Delaware/\n",
    "    │   ├── DEL-US36-15.03/\n",
    "    │   │   ├── __DEL_36_1503_details.json (Inventory / Misc. Details)\n",
    "    │   │   ├── 1. SFN2101084 (1973)/\n",
    "    │   │   │   ├── 907.1 - Construction Plans/\n",
    "    │   │   │   │   └── As Built Plans (1973)/\n",
    "    │   │   │   │       └── 1973_Planset.pdf\n",
    "    │   │   │   ├── 907.7 - Inspection History/\n",
    "    │   │   │   │   ├── 2023_inspection_report.pdf\n",
    "    │   │   │   │   ├── 2021_inspection_report.pdf\n",
    "    │   │   │   │   └── 2019_inspection_report.pdf\n",
    "    │   │   │   ├── 907.8 - Photographs/\n",
    "    │   │   │   │   ├── 2023 Inspection Photos/\n",
    "    │   │   │   │   │   ├── img0011.jpg\n",
    "    │   │   │   │   │   ├── img0012.jpg\n",
    "    │   │   │   │   │   ├── img0013.jpg\n",
    "    │   │   │   │   │   └── img0014.jpg\n",
    "    │   │   │   │   ├── 2021 Inspection Photos/\n",
    "    │   │   │   │   │   ├── img0078.jpg\n",
    "    │   │   │   │   │   ├── img0079.jpg\n",
    "    │   │   │   │   │   ├── img0080.jpg\n",
    "    │   │   │   │   │   └── img0081.jpg\n",
    "    │   │   │   │   ├── 2020 Site visit/\n",
    "    │   │   │   │   │   ├── img0025.jpg\n",
    "    │   │   │   │   │   ├── img0026.jpg\n",
    "    │   │   │   │   │   ├── img0027.jpg\n",
    "    │   │   │   │   │   └── img0028.jpg\n",
    "    │   │   │   │   └── 2019 Inspection Photos/\n",
    "    │   │   │   │       ├── img0030.jpg\n",
    "    │   │   │   │       ├── img0031.jpg\n",
    "    │   │   │   │       ├── img0032.jpg\n",
    "    │   │   │   │       └── img0033.jpg\n",
    "    │   │   │   ├── 907.9 - Rating Records/\n",
    "    │   │   │   │   ├── Merlin_dash_files\n",
    "    │   │   │   │   └── Load_rating_files\n",
    "    │   │   │   └── 907.11 - Maintenance and Repair History/\n",
    "    │   │   │       ├── Wearing_Surface_Plans(1997)/\n",
    "    │   │   │       │   └── 1997_Planset.pdf\n",
    "    │   │   │       └── Deck_Edge_Repair(2003)/\n",
    "    │   │   │           └── 2003_Planset.pdf\n",
    "    │   │   └── 2. SFN2101106 (1955)/\n",
    "    │   │       └── 907.9 - Rating Records/\n",
    "    │   │           ├── Merlin_dash_files\n",
    "    │   │           └── Load_rating_files.xlsx\n",
    "    │   └── DEL-I71-10.93/\n",
    "    │       └── 1. SFN2102463/\n",
    "    │           ├── 907.7 - Inspection History/\n",
    "    │           │   ├── 2023_inspection_report.pdf\n",
    "    │           │   ├── 2021_inspection_report.pdf\n",
    "    │           │   └── 2019_inspection_report.pdf\n",
    "    │           └── 907.9 - Rating Records/\n",
    "    │               ├── Merlin_dash_files\n",
    "    │               ├── Load_rating_files.xlsx\n",
    "    │               ├── SAP2000_Modeling\n",
    "    │               └── CSI_Concrete_Models      \n",
    "    ├── Fayette/\n",
    "    ├── Franklin/\n",
    "    ├── Madison/\n",
    "    ├── Marion/\n",
    "    └── Morrow/\n",
    "```\n",
    "\n",
    "(note: as a general rule, folders should only be created when they have something to contain, empty folders add to confusion)"
   ]
  },
  {
   "cell_type": "markdown",
   "id": "7b2d717b",
   "metadata": {},
   "source": [
    "This outline is based off of the requirements of [BDM](https://www.transportation.ohio.gov/working/engineering/structural/bdm) [Section 907.](https://www.transportation.ohio.gov/wps/wcm/connect/gov/500258d3-ee36-462f-b7d6-422c9caba872/2020_BDM_01-20-23.pdf?MOD=AJPERES&CONVERT_TO=url&CACHEID=ROOTWORKSPACE.Z18_K9I401S01H7F40QBNJU3SO1F56-500258d3-ee36-462f-b7d6-422c9caba872-onfMhNW) The expected resources are as follows;"
   ]
  },
  {
   "cell_type": "markdown",
   "id": "ffd69e43",
   "metadata": {},
   "source": [
    "## 907.1 - Construction Plans\n",
    "\n",
    "Expected format - .pdf\n",
    "\n",
    "Each bridge record should include one clear and readable set of all drawings used to construct, repair and/or \n",
    "rehabilitate the bridge. In lieu of hard copies, the construction plans may be stored in an electronic format in such a \n",
    "way that clear and readable paper copies can easily be reproduced from the electronic records."
   ]
  },
  {
   "cell_type": "markdown",
   "id": "d080507b",
   "metadata": {},
   "source": [
    "## 907.2 - CMS\n",
    "\n",
    "Expected format - data included in __cty_rte_sec_details.json\n",
    "\n",
    "A copy of each version of the CMS should be stored locally to the records as well.\n",
    "\n",
    "Each bridge record should include the reference to the construction and material specification used during the \n",
    "construction of the bridge. Where general technical specifications were not used, only the special technical provisions \n",
    "need to be incorporated in the bridge record."
   ]
  },
  {
   "cell_type": "markdown",
   "id": "6927f760",
   "metadata": {},
   "source": [
    "## 907.3 - Shop and Working Drawings\n",
    "\n",
    "Expected format - .pdf\n",
    "\n",
    "One set of all shop and working drawings approved for the construction or repair of a bridge should be saved or \n",
    "preserved as a part of the bridge record."
   ]
  },
  {
   "cell_type": "markdown",
   "id": "1900e1ca",
   "metadata": {},
   "source": [
    "## 907.4 - As-Built Drawings\n",
    "\n",
    "Expected format - .pdf\n",
    "\n",
    "If available, each bridge record should include one set of final drawings showing the “as-built” condition of the bridge, \n",
    "complete with signature of the individual responsible for recording the as-built conditions."
   ]
  },
  {
   "cell_type": "markdown",
   "id": "4fb3ff60",
   "metadata": {},
   "source": [
    "## 907.5 - Correspondance\n",
    "\n",
    "Expected format - .msg\n",
    "\n",
    "Include all pertinent letters, memoranda and notices of project completion, telephone memos and other related \n",
    "information directly concerning the bridge in chronological order in the bridge record."
   ]
  },
  {
   "cell_type": "markdown",
   "id": "aec38e15",
   "metadata": {},
   "source": [
    "## 907.6 - Inventory Data\n",
    "\n",
    "Expected format - data included in __cty_rte_sec_details.json\n",
    "\n",
    "A complete inventory of a bridge in the ODOT AssetWise shall be done as soon as a bridge is opened to traffic. \n",
    "FHWA mandates an ODOT bridge shall be inventoried within 90 days and a non-ODOT bridge shall be inventoried \n",
    "within 180 days from the day the bridge was open to traffic. The same rule applies to modifications in the inventory \n",
    "record of replaced bridges or bridges that have been reopened after repairs are done. Initial inventory can be completed \n",
    "using the bridge plans. However, a history of dates of physical closing or opening of the traffic on the bridge should \n",
    "be maintained in the bridge record."
   ]
  },
  {
   "cell_type": "markdown",
   "id": "bd9ff27a",
   "metadata": {},
   "source": [
    "## 907.7 - Inspection History\n",
    "\n",
    "Expected format - Bridge inspections output as .pdf\n",
    "\n",
    "Each bridge record shall include a chronological record of the date and the type of all inspections performed on the \n",
    "bridge. When available, scour, seismic, wind and fatigue evaluation studies; fracture critical information; deck \n",
    "evaluations; field load testing, and; corrosion studies should be part of the bridge record."
   ]
  },
  {
   "cell_type": "markdown",
   "id": "1bc11be6",
   "metadata": {},
   "source": [
    "## 907.8 - Photographs\n",
    "\n",
    "Expected format - Any image (.jpg, .gif, .png, .tiff, .bmp, .jpeg)\n",
    "\n",
    "Each bridge record shall at least contain photographs of the bridges showing top view, approach views and the \n",
    "elevation. For bridges crossing over waterways and relief, include photos of the hydraulic openings on the upstream \n",
    "and the downstream sides. Other photos necessary to show major defects, damages or other important features such \n",
    "as utilities on or under the bridge should also be included."
   ]
  },
  {
   "cell_type": "markdown",
   "id": "467775f5",
   "metadata": {},
   "source": [
    "## 907.9 - Rating Records\n",
    "\n",
    "Expected format - BR100.xlsx, xml data detailing inputs, potentially other file types\n",
    "\n",
    "The bridge record shall include a complete record of the determination of bridge’s load-carrying capacity."
   ]
  },
  {
   "cell_type": "markdown",
   "id": "70d4c542",
   "metadata": {},
   "source": [
    "## 907.10 - Accident Data\n",
    "\n",
    "#// TODO - Determine format for this information\n",
    "\n",
    "Details of accidents or damage occurrences including date, description of accident, member damage and repairs, as \n",
    "supported by photographs and investigation reports, shall be included in the bridge record."
   ]
  },
  {
   "cell_type": "markdown",
   "id": "d1ad9751",
   "metadata": {},
   "source": [
    "## 907.11 - Maintenance and Repair History\n",
    "\n",
    "Expected format - .pdf\n",
    "\n",
    "Each bridge record shall include a chronological record documenting the maintenance and repairs that have occurred \n",
    "since the initial construction of the bridge. Include details such as date, description of project, contractor cost and \n",
    "related data for in-house projects as well as contracted work."
   ]
  },
  {
   "cell_type": "markdown",
   "id": "b9187b9b",
   "metadata": {},
   "source": [
    "## 907.12 - Posting History\n",
    "\n",
    "Expected format - narrative.txt, load rating files (.xlsx, .xml)\n",
    "\n",
    "Each bridge record shall include a summary of all load posting and rescinding actions taken for the bridge, including \n",
    "load capacity calculations, date of posting and description of signing used."
   ]
  },
  {
   "cell_type": "markdown",
   "id": "b93202ea-5b47-4bc7-b3e1-cfbb1b70db09",
   "metadata": {},
   "source": [
    "# Collecting Data\n",
    "\n",
    "The first step is to get a list of every D6 bridge established, accessible to the computer's memory using python.\n",
    "\n",
    "Use the [Assetwise Filter](https://ohiodot-it.bentley.com/filters.aspx?mod_id=0) to create a list of SFNs and export it into excel located at `Bridge_Record_CSVs_(Tracked_Changes)/BridgeListFromAssetWise.xlsx`"
   ]
  },
  {
   "cell_type": "code",
   "execution_count": 1,
   "id": "994e1e4f",
   "metadata": {},
   "outputs": [],
   "source": [
    "from pathlib import Path\n",
    "\n",
    "csv_path = Path(\"C:\\\\Users\\\\dparks1\\\\PycharmProjects\\\\D6_Bridge_Records\\\\Bridge_Record_CSVs_(Tracked_Changes)\\\\BridgeListFromAssetWise.csv\")"
   ]
  },
  {
   "cell_type": "code",
   "execution_count": 2,
   "id": "995d33fa",
   "metadata": {},
   "outputs": [],
   "source": [
    "import pandas as pd\n",
    "df = pd.read_csv(csv_path, sep=',', quotechar=\"'\", encoding='utf8')\n",
    "\n",
    "matrix = df[df.columns[0]]\n"
   ]
  },
  {
   "cell_type": "code",
   "execution_count": 6,
   "id": "60edaf7b",
   "metadata": {},
   "outputs": [
    {
     "data": {
      "text/plain": [
       "0       FAY-00035-2066 _(2400588)\n",
       "1       FAY-00035-2040R_(2401002)\n",
       "2       FAY-00035-2040L_(2400537)\n",
       "3       FAY-00035-1680L_(2400596)\n",
       "4       FAY-00035-1721L_(2400642)\n",
       "                  ...            \n",
       "3670    FRA-00070-1282R_(2504669)\n",
       "3671    FRA-00070-1282L_(2504642)\n",
       "3672    FRA-00070-1248 _(2504634)\n",
       "3673    FRA-00070-1241 _(2504618)\n",
       "3674    FRA-00070-1067 _(2504553)\n",
       "Name: Asset Name, Length: 3675, dtype: object"
      ]
     },
     "execution_count": 6,
     "metadata": {},
     "output_type": "execute_result"
    }
   ],
   "source": [
    "list2 = matrix.tolist()\n",
    "\n",
    "matrix"
   ]
  },
  {
   "cell_type": "code",
   "execution_count": null,
   "id": "287a5657",
   "metadata": {},
   "outputs": [],
   "source": []
  },
  {
   "cell_type": "code",
   "execution_count": null,
   "id": "b3259714",
   "metadata": {},
   "outputs": [],
   "source": []
  },
  {
   "cell_type": "code",
   "execution_count": null,
   "id": "951b48f6",
   "metadata": {},
   "outputs": [],
   "source": []
  },
  {
   "cell_type": "code",
   "execution_count": null,
   "id": "b01c0b04",
   "metadata": {},
   "outputs": [],
   "source": []
  },
  {
   "cell_type": "code",
   "execution_count": 7,
   "id": "9d407b60-0c88-483d-8890-5a6e6519b525",
   "metadata": {
    "tags": []
   },
   "outputs": [],
   "source": [
    "import io\n",
    "import math\n",
    "import pandas as pd\n",
    "import numpy as np\n",
    "import requests\n",
    "from civilpy.state.ohio.search_tools import D6BridgeLookup\n",
    "from civilpy.state.ohio.dot import TimsBridge, get_bridge_data_from_tims"
   ]
  },
  {
   "cell_type": "code",
   "execution_count": 8,
   "id": "bc7ea85e-a542-4284-aa07-03de02b82313",
   "metadata": {
    "tags": []
   },
   "outputs": [
    {
     "name": "stdout",
     "output_type": "stream",
     "text": [
      "\n",
      "TIMS Bridge Initiated\n",
      "\n",
      "\n",
      "Retrieving data from url at https://gis.dot.state.oh.us//arcgis/rest/services/TIMS/Assets/MapServer/5/27512372?f=pjson\n",
      "\n"
     ]
    }
   ],
   "source": [
    "sfn_2135922 = TimsBridge(2135922)"
   ]
  },
  {
   "cell_type": "code",
   "execution_count": null,
   "id": "e2d19598-7692-4000-9da5-f933f97a4885",
   "metadata": {
    "tags": []
   },
   "outputs": [],
   "source": [
    "raw_data = get_bridge_data_from_tims(2135922)\n",
    "raw_data"
   ]
  },
  {
   "cell_type": "code",
   "execution_count": null,
   "id": "26b7848c-c717-45c1-ba24-43af9f567b2c",
   "metadata": {
    "pycharm": {
     "is_executing": true
    },
    "tags": []
   },
   "outputs": [],
   "source": [
    "sfn_2135922.__dict__"
   ]
  },
  {
   "cell_type": "code",
   "execution_count": null,
   "id": "8cf8b94a-2759-4175-97aa-50c68fb6dbed",
   "metadata": {
    "tags": []
   },
   "outputs": [],
   "source": [
    "district_df_path = \"G:\\\\ref\\\\New folder\\\\PLANINDX.TXT\"\n",
    "\n",
    "d6_plans_df = pd.read_csv(district_df_path, delimiter='^', quotechar='~')"
   ]
  },
  {
   "cell_type": "code",
   "execution_count": null,
   "id": "9dcf2f46-7dd6-41f5-a4dd-df2645aee8a1",
   "metadata": {
    "tags": []
   },
   "outputs": [],
   "source": [
    "d6_plans_df.to_csv(\"C:\\\\Users\\\\dparks1\\\\Desktop\\\\plan_index_conv.csv\", index=False)"
   ]
  },
  {
   "cell_type": "code",
   "execution_count": null,
   "id": "f565c086-9b2a-4803-a6b2-7857f21f2cb2",
   "metadata": {
    "tags": []
   },
   "outputs": [],
   "source": [
    "district_df_path = \"C:\\\\Users\\\\dparks1\\\\Desktop\\\\plan_index_conv.csv\"\n",
    "\n",
    "d6_plans_df_from_csv = pd.read_csv(district_df_path)"
   ]
  },
  {
   "cell_type": "code",
   "execution_count": null,
   "id": "4bb0cb37-c432-4235-94d1-8802a5908a5f",
   "metadata": {
    "tags": []
   },
   "outputs": [],
   "source": [
    "d6_plans_df.equals(d6_plans_df_from_csv)"
   ]
  },
  {
   "cell_type": "markdown",
   "id": "181842c8",
   "metadata": {},
   "source": []
  },
  {
   "cell_type": "code",
   "execution_count": null,
   "id": "3eba98a3-99f0-45db-9fc5-685abb6a35a2",
   "metadata": {
    "tags": []
   },
   "outputs": [],
   "source": []
  },
  {
   "cell_type": "code",
   "execution_count": null,
   "id": "723eea4e-ea90-49f9-ba6d-c2a477a47a9d",
   "metadata": {
    "tags": []
   },
   "outputs": [],
   "source": []
  },
  {
   "cell_type": "code",
   "execution_count": null,
   "id": "76116790-62f6-491d-8305-204df9d94013",
   "metadata": {
    "tags": []
   },
   "outputs": [],
   "source": []
  },
  {
   "cell_type": "code",
   "execution_count": null,
   "id": "8fc470a4-9e61-455a-a77a-ecafaf1c4685",
   "metadata": {
    "tags": []
   },
   "outputs": [],
   "source": []
  },
  {
   "cell_type": "markdown",
   "id": "a179d0a9",
   "metadata": {},
   "source": []
  },
  {
   "cell_type": "code",
   "execution_count": null,
   "id": "e2f58223-87c0-4b22-ae90-7f54e7506ebb",
   "metadata": {},
   "outputs": [],
   "source": []
  },
  {
   "cell_type": "code",
   "execution_count": null,
   "id": "07ce0b94-ea8b-4216-9806-a72fd47b6cff",
   "metadata": {},
   "outputs": [],
   "source": [
    "class BridgePlanFinder(TimsBridge):\n",
    "    def __init__(self, sfn, column_labels=default_bridge_labels, data_path=\"G:\\\\ref\\\\New folder\\\\Bridges.tsv\"):\n",
    "        super().__init__(self, sfn)\n",
    "        self.SFN = sfn\n",
    "\n",
    "        self.plan_sets_list = []\n",
    "\n",
    "        # //TODO - Seperate the following lines into a function\n",
    "        dirty_long = str(self.raw_data['Longitude'])\n",
    "        dirty_lat = str(self.raw_data['Latitude'])\n",
    "\n",
    "        self.cty_rte_sec = self.get_summary()\n",
    "\n",
    "    def get_summary(self):\n",
    "        substring_1 = f\"{self.raw_data['County Code']} - \"\n",
    "        substring_2 = f\"{self.raw_data['Facility Carried By Structure']} over \"\n",
    "        substring_3 = f\"{self.raw_data['Feature Intersected']}\"\n",
    "\n",
    "        temp_string = substring_1 + substring_2 + substring_3\n",
    "        print(f'Report for SFN: {self.raw_data[\"Structure File Number\"]} ({temp_string})')\n",
    "\n",
    "        print(f'\\nLatitude: {self.clean_lat:.5f}, Longitude: {self.clean_long:.5f}')\n",
    "\n",
    "        county_code = self.raw_data['County Code']\n",
    "        # The next two values use regex to adjust them after being pulled from the database\n",
    "        route_num = self.raw_data['Inventory Route']\n",
    "        route_num = re.sub('\\D', '', route_num).lstrip('0')\n",
    "        # Inserts a decimal to convert text based milepost to usable value\n",
    "        section_num = self.raw_data['Straight Line Mileage'][:-3] + '.' + self.raw_data['Straight Line Mileage'][2:]\n",
    "        section_num = re.sub('/[^0-9.]/g', '', section_num).lstrip('0')\n",
    "\n",
    "        return f\"{county_code}-{route_num}-{section_num}\"\n",
    "\n",
    "\n",
    "    def get_d6_plan_sets(self, district_df_path=\"G:\\\\ref\\\\New folder\\\\PLANINDX.TXT\"):\n",
    "        \"\"\"\n",
    "        Using the \"CTY-RT-SEC\" from a SFN, this function finds the various\n",
    "        plan sets potentially associated with that structure, it rounds the 'section'\n",
    "        value up and down to be inclusive, effectively giving every plan segment\n",
    "        for that 1 mile segment.\n",
    "\n",
    "        :param district_df_path: set to default but overrideable to allow development on various devices without network\n",
    "        access\n",
    "        :return: Dumps .pdf files into a folder on the local machine at W:\\CivilPy_Output\\pulled_plans\\\n",
    "        \"\"\"\n",
    "        # //TODO - Replace this dataframe with a version that works with new plans, map other districts fs's\n",
    "        d6_plans_df = pd.read_csv(district_df_path, delimiter='^', quotechar='~')\n",
    "        county_code, route_num, section_num = self.cty_rte_sec.split('-')\n",
    "\n",
    "        # The next four lines of code filter the d6_plans_df by county route section to get associated plans\n",
    "        first_filtered_df = d6_plans_df[d6_plans_df['County_code'] == county_code]\n",
    "        second_filtered_df = first_filtered_df[first_filtered_df['Route'] == route_num]\n",
    "        third_filtered_df = second_filtered_df[second_filtered_df['Log_beg'] <= str(math.floor(float(section_num)))]\n",
    "        fourth_filtered_df = third_filtered_df[third_filtered_df['Log_end'] >= math.ceil(float(section_num))]\n",
    "\n",
    "        # Displays the results of the filter to the user via commandline, stores values in list for later\n",
    "        list_of_plan_folder_paths = []\n",
    "\n",
    "        for index, row in fourth_filtered_df.iterrows():\n",
    "            list_of_plan_folder_paths.append(row['Path'])\n",
    "            print(f\"Plan set found:\\n{row['Yr']}-{row['Type']}-{row['Archno']}\\n{row['Commnt']}\\n{row['Path']}\\n\\n\")\n",
    "\n",
    "        dict_of_all_paths = {}\n",
    "\n",
    "        for folder in list_of_plan_folder_paths:\n",
    "            dict_of_all_paths[folder] = self.get_tiff_files(folder)\n",
    "\n",
    "        # Loop through each folder that was found, uses a natural sorting algo imported at top of file\n",
    "        for folder, list_of_files in dict_of_all_paths.items():\n",
    "            sorted_file_list = natsorted(list_of_files)\n",
    "\n",
    "            tiff_objects_list = []\n",
    "\n",
    "            # Create a folder to put the pdf plans into if it doesn't exist\n",
    "            if os.path.exists(f\"W:\\\\CivilPy_Output\\\\pulled_plans\\\\{self.SFN}\"):\n",
    "                pass\n",
    "            else:\n",
    "                os.mkdir(f\"W:\\\\CivilPy_Output\\\\pulled_plans\\\\{self.SFN}\")\n",
    "\n",
    "            file_set_name = Path(sorted_file_list[0]).parent.name\n",
    "\n",
    "            # Turns a list of file paths into a list of tiff objects loaded into memory\n",
    "            for file in sorted_file_list:\n",
    "                tiff_objects_list.append(tifftools.read_tiff(file))\n",
    "\n",
    "            # Converts single page tiffs into multi-page tiffs\n",
    "            for tiff_object in tiff_objects_list[1:]:\n",
    "                tiff_objects_list[0]['ifds'].extend(tiff_object['ifds'])\n",
    "\n",
    "            # Check if file exists, move on if so\n",
    "            if os.path.exists(f\"W:\\\\CivilPy_Output\\\\pulled_plans\\\\{self.SFN}\\\\{file_set_name}.tiff\"):\n",
    "                pass\n",
    "            else:\n",
    "                print(f\"\\nWriting tiff file to W:\\\\CivilPy_Output\\\\pulled_plans\\\\{self.SFN}\\\\{file_set_name}.tiff...\\n\")\n",
    "                try:\n",
    "                    tifftools.write_tiff(tiff_objects_list[0], f\"W:\\\\CivilPy_Output\\\\pulled_plans\\\\{self.SFN}\\\\{file_set_name}.tiff\")\n",
    "                except(AttributeError):\n",
    "                    print(f\"There is a problem with the tiff file at \\nW:\\\\CivilPy_Output\\\\\"\n",
    "                          f\"pulled_plans\\\\{self.SFN}\\\\{file_set_name}.tiff\\nYou might want to check there\"\n",
    "                          f\"to resolve the issue\\n\\n\")\n",
    "\n",
    "            # Convert multipage tiff file to pdf\n",
    "            try:\n",
    "                self.tiff_to_pdf(f\"W:\\\\CivilPy_Output\\\\pulled_plans\\\\{self.SFN}\\\\{file_set_name}.tiff\")\n",
    "            except:\n",
    "                print(f\"There was an error during conversion of the file: W:\\\\CivilPy_Output\\\\pulled_plans\\\\{self.SFN}\"\n",
    "                      f\"\\\\{file_set_name}.tiff, it's possibly corrupted\")\n",
    "\n",
    "        return f\"Files written to W:\\\\CivilPy_Output\\\\pulled_plans\\\\\"\n",
    "\n",
    "    def get_tiff_files(self, path):\n",
    "        \"\"\"\n",
    "        This is a helper function to the self.get_d6_plansets() function, giving it a path to a folder returns a\n",
    "        list of all files in that folder\n",
    "\n",
    "        :return: list of tiff file paths\n",
    "        \"\"\"\n",
    "        # Build a list of tiff files in the folder:\n",
    "        root_path = Path(path)\n",
    "\n",
    "        # List all the files in that directory location\n",
    "        all_tiff_files = os.listdir(root_path)\n",
    "\n",
    "        # Filter by tiff files\n",
    "        tif_files = [f for f in all_tiff_files if f.lower().endswith('.tif')]\n",
    "\n",
    "        # Display all the files for that plan set\n",
    "        all_tiff_files = []\n",
    "\n",
    "        print(f\"folder: {path}\")\n",
    "        for file in tif_files:\n",
    "            all_tiff_files.append(f\"{root_path}\\\\{file}\")\n",
    "            print(f\"{root_path}\\\\{file}\", sep=\"\\n\")\n",
    "\n",
    "        print('\\n')\n",
    "\n",
    "        return all_tiff_files\n",
    "\n",
    "    def tiff_to_pdf(self, tiff_path: str) -> str:\n",
    "        \"\"\"\n",
    "        Helper function to be used by the bridge object to convert tiff files to pdf\n",
    "        :param tiff_path:\n",
    "        :return:\n",
    "        \"\"\"\n",
    "        pdf_path = tiff_path.replace('.tiff', '.pdf')\n",
    "        if not os.path.exists(tiff_path): raise Exception(f'{tiff_path} does not find.')\n",
    "        image = Image.open(tiff_path)\n",
    "\n",
    "        images = []\n",
    "        for i, page in enumerate(ImageSequence.Iterator(image)):\n",
    "            page = page.convert(\"RGB\")\n",
    "            images.append(page)\n",
    "        if len(images) == 1:\n",
    "            images[0].save(pdf_path)\n",
    "        else:\n",
    "            images[0].save(pdf_path, save_all=True, append_images=images[1:])\n",
    "        return pdf_path"
   ]
  },
  {
   "cell_type": "code",
   "execution_count": null,
   "id": "5cf6c43e-c891-419a-8728-8942fdf6d403",
   "metadata": {},
   "outputs": [],
   "source": []
  },
  {
   "cell_type": "code",
   "execution_count": null,
   "id": "e3f169d1-bd20-4ce6-ad60-ac757da68797",
   "metadata": {
    "tags": []
   },
   "outputs": [],
   "source": [
    "sfn_2135922.raw_data"
   ]
  },
  {
   "cell_type": "code",
   "execution_count": null,
   "id": "a4d3be3a-e5bf-4387-8cea-65b23d0db2e7",
   "metadata": {
    "tags": []
   },
   "outputs": [],
   "source": [
    "sfn_2135922.cty_rte_sec"
   ]
  },
  {
   "cell_type": "code",
   "execution_count": null,
   "id": "a6788d5c-699d-4b1c-8be4-de4d1761fa60",
   "metadata": {
    "tags": []
   },
   "outputs": [],
   "source": [
    "district_df_path=\"G:\\\\ref\\\\New folder\\\\PLANINDX.TXT\"\n",
    "d6_plans_df = pd.read_csv(district_df_path, delimiter='^', quotechar='~')\n",
    "county_code, route_num, section_num = sfn_2135922.cty_rte_sec.split('-')"
   ]
  },
  {
   "cell_type": "code",
   "execution_count": null,
   "id": "6218cd92-de70-4c71-bf2e-b4fa6cc47b2f",
   "metadata": {
    "tags": []
   },
   "outputs": [],
   "source": [
    "# The next four lines of code filter the d6_plans_df by county route section to get associated plans\n",
    "first_filtered_df = d6_plans_df[d6_plans_df['County_code'] == county_code]\n",
    "\n",
    "second_filtered_df = first_filtered_df[first_filtered_df['Route'] == route_num]\n",
    "third_filtered_df = second_filtered_df[second_filtered_df['Log_beg'] <= str(math.floor(float(section_num)))]\n",
    "fourth_filtered_df = third_filtered_df[third_filtered_df['Log_end'] >= math.ceil(float(section_num))]"
   ]
  },
  {
   "cell_type": "code",
   "execution_count": null,
   "id": "fe4078df-855b-48f5-8e1e-6b9194019f59",
   "metadata": {
    "tags": []
   },
   "outputs": [],
   "source": [
    "second_filtered_df"
   ]
  },
  {
   "cell_type": "code",
   "execution_count": null,
   "id": "49373220-d977-4c49-abf0-aff14c9eb2f2",
   "metadata": {
    "tags": []
   },
   "outputs": [],
   "source": [
    "temp = set(first_filtered_df['Route'].values)"
   ]
  },
  {
   "cell_type": "code",
   "execution_count": null,
   "id": "f9b9c135-1c2b-4ea4-a583-38554956d5b6",
   "metadata": {
    "tags": []
   },
   "outputs": [],
   "source": []
  },
  {
   "cell_type": "code",
   "execution_count": null,
   "id": "1f0eba7a-1ab9-4a4f-ac63-17482367ee93",
   "metadata": {},
   "outputs": [],
   "source": [
    "test_bridge = BridgePlanFinder(2135922)"
   ]
  },
  {
   "cell_type": "code",
   "execution_count": null,
   "id": "bdec1ef8-ad85-486d-a319-136e08d94fd1",
   "metadata": {},
   "outputs": [],
   "source": [
    "test_bridge.__dict__"
   ]
  },
  {
   "cell_type": "code",
   "execution_count": null,
   "id": "7dd3c927-2fda-4f24-bc67-b3f5b1cb1a30",
   "metadata": {
    "tags": []
   },
   "outputs": [],
   "source": [
    "def get_df_from_url(url):\n",
    "    r = requests.get(url)\n",
    "    if r.ok:\n",
    "        df = pd.read_csv(io.BytesIO(r.content), low_memory=False, quotechar=\"'\")\n",
    "    else:\n",
    "        print(f\"Couldn't find a dataframe at {url} make sure this page is still up\")\n",
    "        df = None\n",
    "\n",
    "    return df"
   ]
  },
  {
   "cell_type": "code",
   "execution_count": null,
   "id": "9432006e-700b-46bf-b216-5f5941e5abd6",
   "metadata": {
    "tags": []
   },
   "outputs": [],
   "source": [
    "from civilpy.state.ohio.dot import convert_place_code\n",
    "\n",
    "ohio_fips = get_df_from_url(\"https://daneparks.com/Dane/civilpy/-/raw/Data/res/2022AllRecordsDelimitedAllStates.txt\")"
   ]
  },
  {
   "cell_type": "code",
   "execution_count": null,
   "id": "f7c74ca3-e9f9-48c9-b338-cb1dc7645c8d",
   "metadata": {
    "tags": []
   },
   "outputs": [],
   "source": [
    "convert_place_code(test_bridge.fips_cd)"
   ]
  },
  {
   "cell_type": "code",
   "execution_count": null,
   "id": "f5bc2d10-cb0d-4c7d-8aae-09b5ec3f7400",
   "metadata": {
    "tags": []
   },
   "outputs": [],
   "source": [
    "test_bridge.county_code"
   ]
  },
  {
   "cell_type": "code",
   "execution_count": null,
   "id": "f33a6b82-6d26-43a9-b1c0-bdcc926552dc",
   "metadata": {
    "tags": []
   },
   "outputs": [],
   "source": [
    "default_bridge_labels = [\n",
    "    'Bridge Status Code', 'Bridge Status Description calc',\n",
    "    'Structure File Number', 'District Number', 'Deck Area',\n",
    "    'Overall Structure Length', 'Over 20 Ft (Fedl Brdg) (Y/N/Null) calc',\n",
    "    'Sufficiency Rating', 'Sufficiency Rating Converted calc', 'SD/FO',\n",
    "    'SD/FO calc', 'Functional Class Code', 'Functional Class Old Name calc',\n",
    "    'Functional Class Old Group calc', 'Functional Class FHWA Code calc',\n",
    "    'Functional Class New Code calc', 'Funct Class New Name calc',\n",
    "    'Maintenance Responsibility Code',\n",
    "    'Maintenance Responsibility Description calc',\n",
    "    'Maintenance Responsibility plus Null calc', 'Type Service On Bridge Code',\n",
    "    'Type of Service On Bridge Description calc',\n",
    "    'Type Service Under Bridge Code', 'County Code', 'Highway System Code',\n",
    "    'Invent Hwy Sys Name calc', 'Invent Hwy Sys Description calc', 'Route',\n",
    "    'Inventory Route', 'Route On Bridge Code', 'Route On Bridge Description calc',\n",
    "    'Route Under Bridge Code', 'Route Under Bridge Description calc',\n",
    "    'Facility Carried By Structure', 'Feature Intersected', 'Latitude',\n",
    "    'Longitude', 'NHS Code', 'NHS (Y/N) calc', 'NHS Description calc',\n",
    "    'Year Rebuilt Calc', 'Load Rating Year', 'Main Span Type Code',\n",
    "    'Main Structure Type', 'Load Inventory Rating', 'Inventory County',\n",
    "    'FIPS Number', 'BTRS Link Number', 'BTRS Linked (Y/N) calc', 'Analyzed By',\n",
    "    'Approach Alignment Code', 'Approach Guardrail Code',\n",
    "    'Approach Pavement Grade Code', 'Approach Pavement Material Code',\n",
    "    'Approach Roadway Width', 'Approach Slab ', 'Approach Slab Length',\n",
    "    'Approach Span Description Code', 'Approach Span Material Code',\n",
    "    'Approach Span Type Code', 'Approach Spans', 'Approach Structure Type',\n",
    "    'BARS Code', 'Bearing Device1 Code', 'Bearing Device2 Code',\n",
    "    'Bridge Roadway Width Cb Cb', 'Bypass Length', 'Calculated Deck Geometry',\n",
    "    'Calculated Structural Evaluation', 'Calculated Underclearance',\n",
    "    'Channel Protection Type Code', 'Min Horizontal Clearance On Bridge Cardinal',\n",
    "    'Min Horizontal Clearance On Bridge Non-Cardinal',\n",
    "    'Min Horizontal Clearance Under Cardinal',\n",
    "    'Min Horizontal Clearance Under Non-Cardinal',\n",
    "    'Min Lateral Clearance Cardinal Left',\n",
    "    'Min Lateral Clearance Cardinal Right',\n",
    "    'Min Lateral Clearance Non-Cardinal Left',\n",
    "    'Min Lateral Clearance Non-Cardinal Right',\n",
    "    'Min Lateral Clearance Under Cardinal Left',\n",
    "    'Min Lateral Clearance Under Cardinal Right',\n",
    "    'Min Lateral Clearance Under Non-Cardinal Left',\n",
    "    'Min Lateral Clearance Under Non-Cardinal Right',\n",
    "    'Min Vertical Clearance Bridge Cardinal',\n",
    "    'Min Vertical Clearance Bridge Non-Cardinal',\n",
    "    'Min Vertical Clearance Under Bridge Cardinal',\n",
    "    'Min Vertical Clearance Under Bridge Non-Cardinal',\n",
    "    'Clearance Practical Max Vertical On Bridge',\n",
    "    'Clearance Practical Max Vertical Under Bridge', 'Combined',\n",
    "    'Composite Structure Code', 'Culvert Fill Depth',\n",
    "    'Culvert Headwalls/Endwalls Type Code', 'Culvert Length',\n",
    "    'Culvert Sufficiency Rating Default', 'Culvert Type Code',\n",
    "    'Curb/Sidewalk Material Type Left',\n",
    "    'Curb/Sidewalk Material Type Right', 'Curb/Sidewalk Type Left',\n",
    "    'Curb/Sidewalk Type Right', 'Deck Concrete Type Code',\n",
    "    'Deck Drainage Type Code', 'Deck Protection External Code',\n",
    "    'Deck Protection Internal Code', 'Deck Type Code',\n",
    "    'Deck Width Out/Out', 'Design Load Code', 'Directional Suffix Code',\n",
    "    'Expansion Joint Retrofit1 Code', 'Expansion Joint Retrofit2 Code',\n",
    "    'Expansion Joint Retrofit3 Code', 'Expansion Joint Type1 Code',\n",
    "    'Expansion Joint Type2 Code', 'Expansion Joint Type3 Code',\n",
    "    'Expansion Joint With Trough Retrofit1',\n",
    "    'Expansion Joint With Trough Retrofit2',\n",
    "    'Expansion Joint With Trough Retrofit3',\n",
    "    'Future ADT', 'Future ADT Year', 'Haunched Girder',\n",
    "    'Haunched Girder Depth', 'Highway Designation Code',\n",
    "    'Hinge Code', 'Horizontal Curve Radius', 'Lanes On Number',\n",
    "    'Lanes Under Number', 'Macro Corridor', 'Main Member Depth',\n",
    "    'Main Member Type Code', 'Main Span Description Code',\n",
    "    'Main Span Material Code', 'Main Spans Number', 'Major Rehab Date',\n",
    "    'Maximum Span Length', 'Median Code', 'Median Type1 Code',\n",
    "    'Median Type2 Code', 'Median Type3 Code', 'Method Of Analysis Code',\n",
    "    'Moment Plates Code', 'MPO Code', 'Min Vertical Clearance Lift Bridge',\n",
    "    'Navigable Stream', 'Navigable Stream Horizontal Clearance',\n",
    "    'Navigable Stream Vertical Clearance', 'Ohio Percent Of Legal Load',\n",
    "    'On/Under', 'Operating Rating HS', 'Parallel Structure Code',\n",
    "    'Paint Condition Rating Date', 'Paint Supplier', 'Paint Surface Area',\n",
    "    'Preferred Route', 'Railing Type Code',\n",
    "    'Ramp Lateral Under Clearance Cardinal Left',\n",
    "    'Ramp Lateral Under Clearance Cardinal Right',\n",
    "    'Ramp Lateral Under Clearance Non-Cardinal Left',\n",
    "    'Ramp Lateral Under Clearance Non-Cardinal Right',\n",
    "    'Ramp Roadway Width Cardinal', 'Ramp Roadway Width Non-Cardinal',\n",
    "    'Ramp Vertical Under Clearance Cardinal',\n",
    "    'Ramp Vertical Under Clearance Non-Cardinal', 'Record Add Date',\n",
    "    'Record Update Date', 'Remarks', 'Retire Reason Code',\n",
    "    'SFN Control Authority', 'Sidewalk Width Left',\n",
    "    'Sidewalk Width Right', 'Skew', 'Slope Protection Type Code',\n",
    "    'Software Of Rating Analysis', 'Inventory Special Designation',\n",
    "    'Straight Line Kilometers', 'Straight Line Mileage',\n",
    "    'Structure Location', 'Toll Road', 'Total Spans',\n",
    "    'Traffic Direction Code', 'Water Direction Code',\n",
    "    'Waterway Adequacy Code', 'Wearing Surface Date',\n",
    "    'Wearing Surface Thickness', 'Wearing Surface Type Code', 'Total',\n",
    "    'SubClass', 'Subclass1', 'SubClass2', 'Cty', '9', '8', '7', '6',\n",
    "    'A', '5', '4', '3', '2', '1', '0', 'N', 'Maintained',\n",
    "    'Inventoried', 'Date Built', 'Contractor Name', 'Drainage Area',\n",
    "    'Framing Type', 'Historical Bridge Type Code',\n",
    "    'Historical Builder Code', 'Historical Significance Code',\n",
    "    'Longitudinal Member Type', 'Microfilm Number',\n",
    "    'Original Project Number', 'Structural Steel Protection Code',\n",
    "    'Railing Structural Steel Type', 'Standard Drawing Number',\n",
    "    'Stream Velocity', 'Structural Steel Fabricator',\n",
    "    'Structural Steel Paint Type Code', 'Structural Steel Pay Weight',\n",
    "    'Predominant Structural Steel Type', 'Boat Inspection',\n",
    "    'Critical Structure', 'Dive Inspection', 'Dive Inspection Date',\n",
    "    'Dive Inspection Frequency', 'Fracture Critical Inspection',\n",
    "    'Fracture Critical Inspection Date',\n",
    "    'Fracture Critical Inspection Frequency', 'Inspection Frequency',\n",
    "    'Inspection Responsibility Code', 'Probe Inspection',\n",
    "    'Probe Inspection Frequency', 'Scour Critical Code',\n",
    "    'Snooper Inspection', 'Special Inspection', 'Special Inspection Date',\n",
    "    'Special Inspection Frequency', 'Major Bridge Indicator (Y/N)',\n",
    "    'NBIS Length (Y/N)', 'Aperture Card Original',\n",
    "    'Aperture Fabrication', 'Aperture Repairs', 'Bridge Dedicated Name',\n",
    "    'Cable Stayed', 'Catwalks', 'Designated National Network', 'Fencing',\n",
    "    'Fencing Height', 'Flared', 'GASB 34', 'Glare Screen', 'Lighting',\n",
    "    'Noise Barrier', 'Other Features', 'Post Tensioned', 'Railroad Code',\n",
    "    'Scenic Waterway', 'Seismic Susceptibility Code', 'Signs Attached On',\n",
    "    'Signs Attached Under', 'Splash Guard', 'Strahnet Highway Designation',\n",
    "    'Temporary Barrier', 'Temporary Debris Netting', 'Temporary Shored',\n",
    "    'Temporary Structure', 'Temporary Subdecking', 'Utility - Electric',\n",
    "    'Utility - Gas', 'Utility - Other', 'Utility - Sewer',\n",
    "    'Utility - Telephone', 'Utility - TV Cable', 'Utility - Water',\n",
    "    'Abutment Forward Material Code', 'Abutment Forward Type Code',\n",
    "    'Abutment Rear Material Code', 'Abutment Rear Type Code',\n",
    "    'Dynamic Load Test Abutment Forward', 'Dynamic Load Test Abutment Rear',\n",
    "    'Dynamic Load Test Pier Predominate', 'Dynamic Load Test Pier Type1',\n",
    "    'Dynamic Load Test Pier Type2', 'Foundation Abutment Forward Code',\n",
    "    'Foundation Abutment Rear Code', 'Foundation Length Abutment',\n",
    "    'Foundation Length Pier', 'Foundation Pier Predominate Code',\n",
    "    'Foundation Pier Type1 Code', 'Foundation Pier Type2 Code',\n",
    "    'Pier Predominant  ', 'Pier Predominate Material Code',\n",
    "    'Pier Predominate Type Code', 'Pier Type1 Number',\n",
    "    'Pier Type1 Material Code', 'Pier Type1 Type Code',\n",
    "    'Pier Type2 Number', 'Pier Type2 Material Code',\n",
    "    'Pier Type2 Type Code', 'Pile Log', 'Static Load Test Abutment Forward',\n",
    "    'Static Load Test Abutment Rear', 'Static Load Test Pier Predominate',\n",
    "    'Static Load Test Pier Type1', 'Static Load Test Pier Type2'\n",
    "]"
   ]
  },
  {
   "cell_type": "code",
   "execution_count": null,
   "id": "e2c9dd4b-a613-45b7-b063-eaf4954d5203",
   "metadata": {},
   "outputs": [],
   "source": []
  },
  {
   "cell_type": "code",
   "execution_count": null,
   "id": "12fd6d3d-be99-45c4-bcca-e41a8e339f07",
   "metadata": {},
   "outputs": [],
   "source": []
  },
  {
   "cell_type": "code",
   "execution_count": null,
   "id": "c4c1e396-184e-4f0e-b3da-8916a23cf072",
   "metadata": {},
   "outputs": [],
   "source": []
  },
  {
   "cell_type": "code",
   "execution_count": null,
   "id": "9d04206e-a4e6-4b60-abd2-5ef5083654e0",
   "metadata": {},
   "outputs": [],
   "source": []
  },
  {
   "cell_type": "code",
   "execution_count": null,
   "id": "3e56c86b-4298-49c1-ba5f-29d62cfec78b",
   "metadata": {},
   "outputs": [],
   "source": []
  },
  {
   "cell_type": "code",
   "execution_count": null,
   "id": "12cbf038-84fd-4125-ab5d-24e979e783e2",
   "metadata": {},
   "outputs": [],
   "source": []
  }
 ],
 "metadata": {
  "kernelspec": {
   "display_name": "Python 3 (ipykernel)",
   "language": "python",
   "name": "python3"
  },
  "language_info": {
   "codemirror_mode": {
    "name": "ipython",
    "version": 3
   },
   "file_extension": ".py",
   "mimetype": "text/x-python",
   "name": "python",
   "nbconvert_exporter": "python",
   "pygments_lexer": "ipython3",
   "version": "3.9.5"
  }
 },
 "nbformat": 4,
 "nbformat_minor": 5
}
