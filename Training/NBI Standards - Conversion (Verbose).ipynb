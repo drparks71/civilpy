{
 "cells": [
  {
   "cell_type": "markdown",
   "id": "2b561b3e",
   "metadata": {},
   "source": [
    "# Over Record Transition\n",
    "\n",
    "[Python Object Oriented Programming Training](https://www.youtube.com/watch?v=ZDa-Z5JzLYM&list=PL-osiE80TeTsqhIuOqKhwlXsIBIdSeYtc) (88 mins)\n",
    "\n",
    "147 records - from FHWA's [Data Crosswalk](https://www.fhwa.dot.gov/bridge/snbi/datacrosswalk.cfm)"
   ]
  },
  {
   "cell_type": "markdown",
   "id": "2ac0aea8",
   "metadata": {},
   "source": [
    "To get access to the civilpy package, install python, then, in a terminal run `pip install civilpy`, after a lengthy first time installation, the below classes will be available."
   ]
  },
  {
   "cell_type": "code",
   "execution_count": 1,
   "id": "73ff7859",
   "metadata": {
    "tags": []
   },
   "outputs": [],
   "source": [
    "from civilpy.state.ohio.dot import TimsBridge"
   ]
  },
  {
   "cell_type": "code",
   "execution_count": 2,
   "id": "09dd57d4",
   "metadata": {
    "tags": []
   },
   "outputs": [
    {
     "name": "stdout",
     "output_type": "stream",
     "text": [
      "\n",
      "TIMS Bridge Initiated\n",
      "\n",
      "\n",
      "Retrieving data from url at https://gis.dot.state.oh.us//arcgis/rest/services/TIMS/Assets/MapServer/5/27716457?f=pjson\n",
      "\n"
     ]
    }
   ],
   "source": [
    "test_bridge = TimsBridge(5901898)"
   ]
  },
  {
   "cell_type": "code",
   "execution_count": 3,
   "id": "8a82d6e0",
   "metadata": {
    "tags": []
   },
   "outputs": [
    {
     "name": "stdout",
     "output_type": "stream",
     "text": [
      "\n",
      "TIMS Bridge Initiated\n",
      "\n",
      "\n",
      "Retrieving data from url at https://gis.dot.state.oh.us//arcgis/rest/services/TIMS/Assets/MapServer/5/27678093?f=pjson\n",
      "\n"
     ]
    }
   ],
   "source": [
    "from civilpy.state.ohio.dot import TimsBridge\n",
    "from datetime import datetime\n",
    "import time\n",
    "import math\n",
    "import pint\n",
    "import os\n",
    "\n",
    "if os.name == 'nt':\n",
    "    import ssl\n",
    "    ssl._create_default_https_context = ssl._create_unverified_context\n",
    "\n",
    "units = pint.UnitRegistry()\n",
    "\n",
    "# 2701464, 6500609\n",
    "\n",
    "test_bridge = TimsBridge(2701464)\n",
    "# test_bridge.__dict__"
   ]
  },
  {
   "cell_type": "code",
   "execution_count": 4,
   "id": "31321b64",
   "metadata": {
    "tags": []
   },
   "outputs": [],
   "source": [
    "from civilpy.state.ohio.dot import TimsBridge\n",
    "import pandas as pd"
   ]
  },
  {
   "cell_type": "code",
   "execution_count": 5,
   "id": "c67157a9",
   "metadata": {
    "tags": []
   },
   "outputs": [],
   "source": [
    "fips_codes = pd.read_csv(\"https://raw.githubusercontent.com/kjhealy/fips-codes/master/state_and_county_fips_master.csv\")\n",
    "ohio_fips = pd.read_csv(\"https://daneparks.com/Dane/civilpy/-/raw/master/res/ohio_fips.csv\")"
   ]
  },
  {
   "cell_type": "code",
   "execution_count": 6,
   "id": "df7b67ef",
   "metadata": {
    "tags": []
   },
   "outputs": [],
   "source": [
    "NBIS_state_codes = {\n",
    "    '014': 'Alabama', \n",
    "    '308': 'Montana',\n",
    "    '020': 'Alaska', \n",
    "    '317': 'Nebraska',\n",
    "    '049': 'Arizona', \n",
    "    '329': 'Nevada',\n",
    "    '056': 'Arkansas', \n",
    "    '331': 'New Hampshire',\n",
    "    '069': 'Californ', \n",
    "    '342': 'New Jersey',\n",
    "    '088': 'Colorado', \n",
    "    '356': 'New Mexico',\n",
    "    '091': 'Connecti', \n",
    "    '362': 'New York',\n",
    "    '103': 'Delaware', \n",
    "    '374': 'North Carolina',\n",
    "    '113': 'District of Columbia',\n",
    "    '388': 'North Dakota',\n",
    "    '124': 'Florida', \n",
    "    '395': 'Ohio',\n",
    "    '134': 'Georgia', \n",
    "    '406': 'Oklahoma',\n",
    "    '159': 'Hawaii', \n",
    "    '410': 'Oregon',\n",
    "    '160': 'Idaho', \n",
    "    '423': 'Pennsylvania',\n",
    "    '175': 'Illinois', \n",
    "    '441': 'Rhode Island',\n",
    "    '185': 'Indiana', \n",
    "    '454': 'South Carolina',\n",
    "    '197': 'Iowa', \n",
    "    '468': 'South Dakota',\n",
    "    '207': 'Kansas', \n",
    "    '474': 'Tennessee',\n",
    "    '214': 'Kentucky', \n",
    "    '486': 'Texas',\n",
    "    '226': 'Louisiana', \n",
    "    '498': 'Utah',\n",
    "    '231': 'Maine', \n",
    "    '501': 'Vermont',\n",
    "    '243': 'Maryland', \n",
    "    '513': 'Virginia',\n",
    "    '251': 'Massachusetts', \n",
    "    '530': 'Washington',\n",
    "    '265': 'Michigan', \n",
    "    '543': 'West Virginia',\n",
    "    '275': 'Minnesota', \n",
    "    '555': 'Wisconsin',\n",
    "    '284': 'Mississippi', \n",
    "    '568': 'Wyoming',\n",
    "    '297': 'Missouri', \n",
    "    '721': 'Puerto Rico',\n",
    "}"
   ]
  },
  {
   "cell_type": "code",
   "execution_count": 7,
   "id": "2eed56a0",
   "metadata": {
    "tags": []
   },
   "outputs": [],
   "source": [
    "ohio_counties = {\n",
    "    \"ADAMS\": \"ADA\",\n",
    "    \"ALLEN\": \"ALL\",\n",
    "    \"ASHLAND\": \"ASD\",\n",
    "    \"ASHTABULA\": \"ATB\",\n",
    "    \"ATHENS\": \"ATH\",\n",
    "    \"AUGLAIZE\": \"AUG\",\n",
    "    \"BELMONT\": \"BEL\",\n",
    "    \"BROWN\": \"BRO\",\n",
    "    \"BUTLER\": \"BUT\",\n",
    "    \"CARROLL\": \"CAR\",\n",
    "    \"CHAMPAIGN\": \"CHP\",\n",
    "    \"CLARK\": \"CLA\",\n",
    "    \"CLERMONT\": \"CLE\",\n",
    "    \"CLINTON\": \"CLI\",\n",
    "    \"COLUMBIANA\": \"COL\",\n",
    "    \"COSHOCTON\": \"COS\",\n",
    "    \"CRAWFORD\": \"CRA\",\n",
    "    \"CUYAHOGA\": \"CUY\",\n",
    "    \"DARKE\": \"DAR\",\n",
    "    \"DEFIANCE\": \"DEF\",\n",
    "    \"DELAWARE\": \"DEL\",\n",
    "    \"ERIE\": \"ERI\",\n",
    "    \"FAIRFIELD\": \"FAI\",\n",
    "    \"FAYETTE\": \"FAY\",\n",
    "    \"FRANKLIN\": \"FRA\",\n",
    "    \"FULTON\": \"FUL\",\n",
    "    \"GALLIA\": \"GAL\",\n",
    "    \"GEAUGA\": \"GEA\",\n",
    "    \"GREENE\": \"GRE\",\n",
    "    \"GUERNSEY\": \"GUE\",\n",
    "    \"HAMILTON\": \"HAM\",\n",
    "    \"HANCOCK\": \"HAN\",\n",
    "    \"HARDIN\": \"HAR\",\n",
    "    \"HARRISON\": \"HAS\",\n",
    "    \"HENRY\": \"HEN\",\n",
    "    \"HIGHLAND\": \"HIG\",\n",
    "    \"HOCKING\": \"HOC\",\n",
    "    \"HOLMES\": \"HOL\",\n",
    "    \"HURON\": \"HUR\",\n",
    "    \"JACKSON\": \"JAC\",\n",
    "    \"JEFFERSON\": \"JEF\",\n",
    "    \"KNOX\": \"KNO\",\n",
    "    \"LAKE\": \"LAK\",\n",
    "    \"LAWRENCE\": \"LAW\",\n",
    "    \"LICKING\": \"LIC\",\n",
    "    \"LOGAN\": \"LOG\",\n",
    "    \"LORAIN\": \"LOR\",\n",
    "    \"LUCAS\": \"LUC\",\n",
    "    \"MADISON\": \"MAD\",\n",
    "    \"MAHONING\": \"MAH\",\n",
    "    \"MARION\": \"MAR\",\n",
    "    \"MEDINA\": \"MED\",\n",
    "    \"MEIGS\": \"MEG\",\n",
    "    \"MERCER\": \"MER\",\n",
    "    \"MIAMI\": \"MIA\",\n",
    "    \"MONROE\": \"MOE\",\n",
    "    \"MONTGOMERY\": \"MOT\",\n",
    "    \"MORGAN\": \"MRG\",\n",
    "    \"MORROW\": \"MRW\",\n",
    "    \"MUSKINGUM\": \"MUS\",\n",
    "    \"NOBLE\": \"NOB\",\n",
    "    \"OTTAWA\": \"OTT\",\n",
    "    \"PAULDING\": \"PAU\",\n",
    "    \"PERRY\": \"PER\",\n",
    "    \"PICKAWAY\": \"PIC\",\n",
    "    \"PIKE\": \"PIK\",\n",
    "    \"PORTAGE\": \"POR\",\n",
    "    \"PREBLE\": \"PRE\",\n",
    "    \"PUTNAM\": \"PUT\",\n",
    "    \"RICHLAND\": \"RIC\",\n",
    "    \"ROSS\": \"ROS\",\n",
    "    \"SANDUSKY\": \"SAN\",\n",
    "    \"SCIOTO\": \"SCI\",\n",
    "    \"SENECA\": \"SEN\",\n",
    "    \"SHELBY\": \"SHE\",\n",
    "    \"STARK\": \"STA\",\n",
    "    \"SUMMIT\": \"SUM\",\n",
    "    \"TRUMBULL\": \"TRU\",\n",
    "    \"TUSCARAWAS\": \"TUS\",\n",
    "    \"UNION\": \"UNI\",\n",
    "    \"VAN WERT\": \"VAN\",\n",
    "    \"VINTON\": \"VIN\",\n",
    "    \"WARREN\": \"WAR\",\n",
    "    \"WASHINGTON\": \"WAS\",\n",
    "    \"WAYNE\": \"WAY\",\n",
    "    \"WILLIAMS\": \"WIL\",\n",
    "    \"WOOD\": \"WOO\",\n",
    "    \"WYANDOT\": \"WYA\",\n",
    "}"
   ]
  },
  {
   "cell_type": "code",
   "execution_count": 8,
   "id": "1822c4db",
   "metadata": {
    "tags": []
   },
   "outputs": [],
   "source": [
    "test_bridge_list = ['2701464', '6500609', '7704232']\n",
    "\n",
    "# //TODO - (1/30/2023 - reverify data source expanded) The first three SFN values don't work with historic data lookups in the NBIS\n",
    "# Bad Values: '1739573', '7338597', '0101893', '0544353', '3402665'\n",
    "\n",
    "# Configuration options (sets parameters to determine state preferences for certain decisions)\n",
    "leading_zeros_user_input = 0 # Affects multiple conversions (BID01, BID03, ...)\n",
    "state_user_input = 'Ohio'"
   ]
  },
  {
   "cell_type": "code",
   "execution_count": 9,
   "id": "3017f7f0",
   "metadata": {
    "tags": []
   },
   "outputs": [
    {
     "name": "stdout",
     "output_type": "stream",
     "text": [
      "\n",
      "TIMS Bridge Initiated\n",
      "\n",
      "\n",
      "Retrieving data from url at https://gis.dot.state.oh.us//arcgis/rest/services/TIMS/Assets/MapServer/5/27678093?f=pjson\n",
      "\n"
     ]
    }
   ],
   "source": [
    "first_bridge = TimsBridge(int(test_bridge_list[0]))"
   ]
  },
  {
   "cell_type": "markdown",
   "id": "ee711e84",
   "metadata": {},
   "source": [
    "## Loading historic data"
   ]
  },
  {
   "cell_type": "code",
   "execution_count": 10,
   "id": "18def8cb",
   "metadata": {
    "pycharm": {
     "is_executing": true
    },
    "scrolled": true,
    "tags": []
   },
   "outputs": [],
   "source": [
    "NBI_df = pd.read_csv(\"https://daneparks.com/Dane/civilpy/-/raw/Data/res/2022AllRecordsDelimitedAllStates.txt\", low_memory=False)\n",
    "\n",
    "ohio_bridges = NBI_df[NBI_df['STATE_CODE_001'] == 39]\n",
    "first_bridge_NBI = ohio_bridges[ohio_bridges['STRUCTURE_NUMBER_008'] == test_bridge_list[0].rjust(15, ' ')]"
   ]
  },
  {
   "cell_type": "markdown",
   "id": "8c9a36c9",
   "metadata": {},
   "source": [
    "# Description of Notebook\n",
    "\n",
    "The above code imports the civilpy package for use in exploring bridge objects. The list of test bridges are randomly selected for testing functions throughout, but any bridge can be specified by changing the SFN used to initate the `first_bridge` object above. Each function ideally takes in the old value and returns an updated, converted value if possible. Sections are defined by their SNBI ID and Item Name. For data types, AN means \"AlphaNumeric\"."
   ]
  },
  {
   "cell_type": "markdown",
   "id": "2a84afab",
   "metadata": {},
   "source": [
    "## B.ID.01 - Bridge Number\n",
    "\n",
    "|  SNBI Format |  1995 Format |  Comments                      |\n",
    "|:------------:|:------------:|:------------------------------:|\n",
    "| AN (15)      |  AN (15)     | Trim leading and trailing spaces.  For Transition Tool, provide option to trim or not trim leading zeroes, or to trim all but one leading zero; do not provide a default selection.  Ask user whether to apply this selection to transitioned legacy (historical) data for that State/Agency.  (Add a note stating that all legacy data will also be preserved in its original form.)  For those who do not use the Transition Tool, we will need to survey. |"
   ]
  },
  {
   "cell_type": "code",
   "execution_count": 11,
   "id": "0158fded",
   "metadata": {
    "pycharm": {
     "is_executing": true
    },
    "tags": []
   },
   "outputs": [
    {
     "name": "stdout",
     "output_type": "stream",
     "text": [
      "Former NBI value: [        2701464]\n",
      "Converted  value: [2701464]\n"
     ]
    }
   ],
   "source": [
    "name_length = len(str(first_bridge.sfn)) + 1 # Gets the length of the original bridge id\n",
    "\n",
    "print(f'Former NBI value: [{first_bridge_NBI[\"STRUCTURE_NUMBER_008\"].iloc[0]}]')\n",
    "\n",
    "def bridge_number_conversion(bridge_number, leading_zeros=0):\n",
    "    \"\"\"\n",
    "    Takes in a bridge number and config value:\n",
    "    \n",
    "    0 - Do not Pad (default)\n",
    "    1 - Pad number w/ single zero? \n",
    "    2 - Pad w/ 0s to 15 \n",
    "    \n",
    "    returns converted value\n",
    "    \"\"\"\n",
    "    \n",
    "    if leading_zeros == 0:\n",
    "        updated_value = f\"{bridge_number}\"\n",
    "    elif leading_zeros == 1:\n",
    "        updated_value = f\"{str(bridge_number).zfill(name_length)}\"\n",
    "    elif leading_zeros == 2:\n",
    "        updated_value = f\"{str(bridge_number).zfill(15)}\"\n",
    "    \n",
    "    return updated_value\n",
    "\n",
    "print(f'Converted  value: [{bridge_number_conversion(first_bridge.sfn, leading_zeros_user_input)}]')"
   ]
  },
  {
   "cell_type": "markdown",
   "id": "aa19fc00",
   "metadata": {},
   "source": [
    "## B.ID.02 - Bridge Name\n",
    "\n",
    "|  SNBI Format |  1995 Format |  Comments                      |\n",
    "|:------------:|:------------:|:------------------------------:|\n",
    "| AN (300)      |  N/A        |                                |\n",
    "\n",
    "This is a previously non-existant value."
   ]
  },
  {
   "cell_type": "markdown",
   "id": "6fcd4c1b",
   "metadata": {},
   "source": [
    "## B.ID.03 - Previous Bridge Number\n",
    "\n",
    "|  SNBI Format |  1995 Format |  Comments                      |\n",
    "|:------------:|:------------:|:------------------------------:|\n",
    "| AN (15)      |  AN (15)     | Populate this field using the history of structure number changes that resides in the NBI from Structure Number Change submittals.  Trim leading and trailing spaces and leading zeroes in accordance with the user's selection for Item B.ID.01 |\n",
    "\n",
    "//TODO - Depends on structure change submittal histories, not sure where existing values are kept."
   ]
  },
  {
   "cell_type": "markdown",
   "id": "9c9fad01",
   "metadata": {},
   "source": [
    "## B.L.01 - State Code\n",
    "\n",
    "|  SNBI Format |  1995 Format |  Comments                      |\n",
    "|:------------:|:------------:|:------------------------------:|\n",
    "| N (2, 0)     |  3/N         | Trim leading zero, drop 3rd digit |"
   ]
  },
  {
   "cell_type": "code",
   "execution_count": 12,
   "id": "110d0e95",
   "metadata": {
    "pycharm": {
     "is_executing": true
    }
   },
   "outputs": [
    {
     "name": "stdout",
     "output_type": "stream",
     "text": [
      "Former NBI value: [39]\n",
      "Converted  value: [Ohio]\n"
     ]
    }
   ],
   "source": [
    "print(f'Former NBI value: [{first_bridge_NBI[\"STATE_CODE_001\"].iloc[0]}]')\n",
    "\n",
    "def get_3_digit_st_cd_from_2(code):\n",
    "    for key, value in NBIS_state_codes.items():\n",
    "        if key[:-1] == str(code):\n",
    "            return key\n",
    "        else:\n",
    "            pass\n",
    "\n",
    "def state_code_conversion(code):\n",
    "    \"\"\"\n",
    "    Takes in a bridge number, returns converted state code from index lookup\n",
    "\n",
    "    returns converted value, since this is written for Ohio, 39\n",
    "    \"\"\"\n",
    "    if len(str(code)) == 2:\n",
    "        state_code = NBIS_state_codes[get_3_digit_st_cd_from_2(code)]\n",
    "    else:\n",
    "        state_code = NBIS_state_codes[code]\n",
    "    \n",
    "    return state_code\n",
    "\n",
    "print(f'Converted  value: [{state_code_conversion(get_3_digit_st_cd_from_2(first_bridge_NBI[\"STATE_CODE_001\"].iloc[0]))}]')\n",
    "\n",
    "# note -Bentley database doesn't seem to have a 'state' field"
   ]
  },
  {
   "cell_type": "markdown",
   "id": "ef35fa2b",
   "metadata": {},
   "source": [
    "## B.L.02 - County Code\n",
    "\n",
    "|  SNBI Format |  1995 Format |  Comments                      |\n",
    "|:------------:|:------------:|:------------------------------:|\n",
    "| N (3,0)      |  3/N         |  Direct Transition             |"
   ]
  },
  {
   "cell_type": "code",
   "execution_count": 13,
   "id": "5fba0b32",
   "metadata": {
    "pycharm": {
     "is_executing": true
    }
   },
   "outputs": [
    {
     "name": "stdout",
     "output_type": "stream",
     "text": [
      "Former NBI value: [53.0]\n",
      "Converted  value: [Gallia County]\n",
      "Current value: [GAL]\n"
     ]
    }
   ],
   "source": [
    "print(f'Former NBI value: [{first_bridge_NBI[\"COUNTY_CODE_003\"].iloc[0]}]')\n",
    "\n",
    "def get_cty_from_code(cty_code, st_code):\n",
    "    \"\"\"\n",
    "    \n",
    "    //TODO - Use geocoding spatial joints with GPS coords to verify bentley value against \n",
    "    result from geocoding library (verify county codes)\n",
    "    \n",
    "    //TODO - Make function not specific to Ohio by replacing \"OH\" below with appropriate dict\n",
    "    \n",
    "    returns: 3 character numeric county code\n",
    "    \"\"\"\n",
    "    # Uses a list comprehesion to go through counties and match full name with county code in database\n",
    "    county_cd = f'{int(cty_code)}'.rjust(3, '0')\n",
    "    lookup_cd = str(st_code) + county_cd\n",
    "    \n",
    "    county_name = fips_codes[fips_codes['fips'] == int(lookup_cd)]['name'].values[0]\n",
    "\n",
    "    return county_name\n",
    "\n",
    "print(f'Converted  value: [{get_cty_from_code(first_bridge_NBI[\"COUNTY_CODE_003\"].iloc[0], first_bridge_NBI[\"STATE_CODE_001\"].iloc[0])}]')\n",
    "print(f'Current value: [{first_bridge.county_cd}]')"
   ]
  },
  {
   "cell_type": "markdown",
   "id": "b82ff232",
   "metadata": {},
   "source": [
    "## B.L.03 - Place Code\n",
    "\n",
    "[Place Code Data Download](https://www.census.gov/library/reference/code-lists/ansi.html#place)\n",
    "\n",
    "|  SNBI Format |  1995 Format |  Comments                      |\n",
    "|:------------:|:------------:|:------------------------------:|\n",
    "| N (5,0)      |  5/N         |                                |"
   ]
  },
  {
   "cell_type": "code",
   "execution_count": 14,
   "id": "a4bd3f58",
   "metadata": {
    "pycharm": {
     "is_executing": true
    }
   },
   "outputs": [
    {
     "name": "stdout",
     "output_type": "stream",
     "text": [
      "Former NBI value: [29218]\n",
      "Converted  value: [County: GALLIA   Township: GALLIPOLIS]\n",
      "Current value: [29218]\n"
     ]
    }
   ],
   "source": [
    "print(f'Former NBI value: [{first_bridge_NBI[\"PLACE_CODE_004\"].iloc[0]}]')\n",
    "\n",
    "def convert_place_code():\n",
    "    \"\"\"\n",
    "    NOTE: There is no coversion here, the SNBI update still uses FIPS Place codes, but those aren't readable\n",
    "    so here's how to convert them, it also checks for bad values.\n",
    "    \n",
    "    Takes in bridge SFN, returns FIPS County Code location conversion, \n",
    "    \n",
    "    //TODO - Download FIPS definitions for various states, currently configured for only Ohio\n",
    "    \n",
    "    returns: Human readable version of 5 digit fips code\n",
    "    \"\"\"\n",
    "    # //TODO - Find a better way to convert these values\n",
    "    url = \"https://raw.githubusercontent.com/kjhealy/fips-codes/master/county_fips_master.csv\"\n",
    "    place_codes = pd.read_csv(url, encoding = \"ISO-8859-1\", sep=',')\n",
    "    \n",
    "    # Searches ohio fips results and converts the township and county to readable values\n",
    "    results_df = ohio_fips[ohio_fips['FIPS CODE'] == int(first_bridge.fips_cd)][['COUNTY CODE', 'TOWNSHIP']]\n",
    "    cty_cd = [i for i in ohio_counties if ohio_counties[i]==results_df.values[0][0]][0]\n",
    "    twn_nme = results_df.values[0][1]\n",
    "    \n",
    "    readable_name = f\"County: {cty_cd}   Township: {twn_nme}\"\n",
    "    \n",
    "    if ohio_fips[ohio_fips['FIPS CODE'] == int(first_bridge.fips_cd)].empty:\n",
    "        print(\"\\nError, Place value not found in conversion data, double check the value\")\n",
    "        print(\"Is a legitimate entry in the FIPS 'place code' system\\n\")\n",
    "    else:\n",
    "        return readable_name\n",
    "    \n",
    "\n",
    "print(f'Converted  value: [{convert_place_code()}]')\n",
    "print(f'Current value: [{first_bridge.fips_cd}]')"
   ]
  },
  {
   "cell_type": "markdown",
   "id": "3de12c1c",
   "metadata": {},
   "source": [
    "## B.L.04 - Highway Agency District\n",
    "\n",
    "|  SNBI Format |  1995 Format |  Comments                      |\n",
    "|:------------:|:------------:|:------------------------------:|\n",
    "| AN (2)       |  2/AN        |      Trim leading zeroes.      |"
   ]
  },
  {
   "cell_type": "code",
   "execution_count": 15,
   "id": "684762da",
   "metadata": {
    "pycharm": {
     "is_executing": true
    }
   },
   "outputs": [
    {
     "name": "stdout",
     "output_type": "stream",
     "text": [
      "Former NBI value: [10]\n",
      "Converted  value: [10] (No Change)\n",
      "Current value: [10]\n"
     ]
    }
   ],
   "source": [
    "print(f'Former NBI value: [{first_bridge_NBI[\"HIGHWAY_DISTRICT_002\"].iloc[0]}]')   \n",
    "print(f'Converted  value: [{first_bridge_NBI[\"HIGHWAY_DISTRICT_002\"].iloc[0]}] (No Change)') # //TODO - def translation\n",
    "print(f'Current value: [{first_bridge.district}]')"
   ]
  },
  {
   "cell_type": "markdown",
   "id": "c94aad09",
   "metadata": {},
   "source": [
    "## B.L.05 - Latitude\n",
    "\n",
    "|  SNBI Format |  1995 Format |  Comments                      |\n",
    "|:------------:|:------------:|:------------------------------:|\n",
    "| N(9,6)       |  8/N        | Convert to decimal degrees  from degrees/minutes/seconds.  Add negative if Item 1 = 60.\tJarvis Island in the U.S. Minor Outlying Islands also has a negative latitude, but there are currently no bridges for that island in the NBI. |"
   ]
  },
  {
   "cell_type": "code",
   "execution_count": 16,
   "id": "969534e9",
   "metadata": {
    "pycharm": {
     "is_executing": true
    }
   },
   "outputs": [
    {
     "name": "stdout",
     "output_type": "stream",
     "text": [
      "Former NBI value: [38500802.0]\n",
      "Converted value: [38.835561]\n",
      "Current value: [38.835555]\n"
     ]
    }
   ],
   "source": [
    "print(f'Former NBI value: [{first_bridge_NBI[\"LAT_016\"].iloc[0]}]')\n",
    "\n",
    "\n",
    "def convert_latitudinal_values(latitude):\n",
    "    \"\"\"\n",
    "    Takes a Longitude in degree minutes seconds, converts it to decimal, prints an error if it's not in North\n",
    "    America\n",
    "    \n",
    "    return: converted value\n",
    "    \"\"\"\n",
    "    latitude_deg = int(str(latitude)[:2])\n",
    "    latitude_min = int(str(latitude)[2:4]) / 60\n",
    "    latitude_sec = (int(str(round(latitude))[4:]) / 100) / 3600\n",
    "    \n",
    "    converted_value = latitude_deg + latitude_min + latitude_sec\n",
    "    \n",
    "    if latitude_deg > 55 or latitude_deg < 16:\n",
    "        print(\"Latitude outside the range of continental US, check values\")\n",
    "\n",
    "    return f\"{converted_value:.6f}\"\n",
    "\n",
    "print(f'Converted value: [{convert_latitudinal_values(first_bridge_NBI[\"LAT_016\"].iloc[0])}]')\n",
    "print(f'Current value: [{first_bridge.latitude_dd:.6f}]')"
   ]
  },
  {
   "cell_type": "markdown",
   "id": "af8d6ac5",
   "metadata": {},
   "source": [
    "## B.L.06 - Longitude\n",
    "\n",
    "|  SNBI Format |  1995 Format |  Comments                      |\n",
    "|:------------:|:------------:|:------------------------------:|\n",
    "| N(10,6)      |  9/N        | Convert to decimal degrees  from degrees/minutes/seconds.  Add negative for all records except if Item 1 = 64, 66, 68, 69, or 70.\tWake Island in the U.S. Minor Outlying Islands also has a positive longitude, but there are currently no bridges for that island in the NBI.  Additionally, some portions of Alaska have a positive longitude, but there are currently no bridges for those areas in the NBI. |"
   ]
  },
  {
   "cell_type": "code",
   "execution_count": 17,
   "id": "e605d4e8",
   "metadata": {
    "pycharm": {
     "is_executing": true
    }
   },
   "outputs": [
    {
     "name": "stdout",
     "output_type": "stream",
     "text": [
      "Former NBI value: [82085608.0]\n",
      "\n",
      "Values are supposed to be negative, performing conversion, but database potentially needs corrected\n",
      "\n",
      "Converted value: [-82.148911]\n",
      "Updated value: [-82.148911]\n"
     ]
    }
   ],
   "source": [
    "print(f'Former NBI value: [{first_bridge_NBI[\"LONG_017\"].iloc[0]}]') # Currently in DD°MM'SS.SS\"\n",
    "\n",
    "def convert_longitudinal_values(longitude):\n",
    "    \"\"\"\n",
    "    Takes a Longitude in degree minutes seconds, converts it to decimal, prints an error if it's not in North\n",
    "    America\n",
    "    \n",
    "    return: converted value\n",
    "    \"\"\"\n",
    "    \n",
    "    longitude_deg = int(str(longitude)[:2])\n",
    "    longitude_min = int(str(longitude)[2:4]) / 60\n",
    "    longitude_sec = (int(str(round(longitude))[4:]) / 100) / 3600\n",
    "    \n",
    "    if longitude_deg + longitude_min + longitude_sec > 0:\n",
    "        print(\"\\nValues are supposed to be negative, performing conversion, but database potentially needs corrected\\n\")\n",
    "        converted_value = -1 * (longitude_deg + longitude_min + longitude_sec)\n",
    "    else:\n",
    "        converted_value = longitude_deg + longitude_min + longitude_sec\n",
    "    \n",
    "    if converted_value > 0 or converted_value < -180:\n",
    "        print(\"\\nLongitude outside the range of continental US, check values, should be negative\\n\")\n",
    "\n",
    "    return f\"{converted_value:.6f}\"\n",
    "\n",
    "print(f'Converted value: [{convert_longitudinal_values(first_bridge_NBI[\"LONG_017\"].iloc[0])}]')\n",
    "print(f'Updated value: [{first_bridge.longitude_dd:.6f}]')"
   ]
  },
  {
   "cell_type": "markdown",
   "id": "6a00af11",
   "metadata": {},
   "source": [
    "## B.L.07 - Border Bridge Number\n",
    "\n",
    "|  SNBI Format |  1995 Format |  Comments                      |\n",
    "|:------------:|:------------:|:------------------------------:|\n",
    "| AN (15)      |  (15)/AN     | Trim leading and trailing spaces and leading zeroes. |\t"
   ]
  },
  {
   "cell_type": "code",
   "execution_count": 18,
   "id": "6cac08e6",
   "metadata": {
    "pycharm": {
     "is_executing": true
    },
    "scrolled": true
   },
   "outputs": [
    {
     "name": "stdout",
     "output_type": "stream",
     "text": [
      "Former NBI value: [00000000027A063]\n",
      "Updated value: [00000000027A063]\n"
     ]
    }
   ],
   "source": [
    "print(f'Former NBI value: [{first_bridge_NBI[\"OTHR_STATE_STRUC_NO_099\"].iloc[0]}]')\n",
    "\n",
    "# //TODO - Determine correct value for translation for this\n",
    "print(f'Updated value: [{first_bridge.brdr_brg_sfn}]') # Verify this is the right field, potentially clean transition if so"
   ]
  },
  {
   "cell_type": "markdown",
   "id": "fa7214f6",
   "metadata": {},
   "source": [
    "## B.L.08 - Border Bridge State or Country Code\n",
    "\n",
    "|  SNBI Format |  1995 Format |  Comments                      |\n",
    "|:------------:|:------------:|:------------------------------:|\n",
    "| AN (2)       |  3/AN        | Trim leading zero, drop 3rd digit, change CAN to CA, MEX to MX. |\n",
    "\n",
    "//TODO - Wasn't immediately clear where this was in Bentley's System"
   ]
  },
  {
   "cell_type": "code",
   "execution_count": 19,
   "id": "b4efad07",
   "metadata": {
    "pycharm": {
     "is_executing": true
    }
   },
   "outputs": [
    {
     "name": "stdout",
     "output_type": "stream",
     "text": [
      "Former NBI value: [543]\n",
      "Converted value: [West Virginia]\n",
      "Updated value: [543]\n"
     ]
    }
   ],
   "source": [
    "print(f'Former NBI value: [{first_bridge_NBI[\"OTHER_STATE_CODE_098A\"].iloc[0]}]')\n",
    "# //TODO - Determine Correct value for this field\n",
    "\n",
    "def convert_nbis_state_code(code):\n",
    "    value = NBIS_state_codes[code]\n",
    "    return value\n",
    "\n",
    "print(f'Converted value: [{convert_nbis_state_code(first_bridge_NBI[\"OTHER_STATE_CODE_098A\"].iloc[0])}]')\n",
    "print(f'Updated value: [{first_bridge.brdr_brg_state}]') # Verify this is the right field, potentially clean transition if so"
   ]
  },
  {
   "cell_type": "markdown",
   "id": "c3720d77",
   "metadata": {},
   "source": [
    "## B.L.09 - Border Bridge Inspection Responsibility\n",
    "\n",
    "|  SNBI Format |  1995 Format |  Comments                      |\n",
    "|:------------:|:------------:|:------------------------------:|\n",
    "| AN (1)       |  2/N         | See tab.  Coding Guide uses FUNDING responsibility.\tTransition assumes that funding responsibility and inspection responsibility are the same.  Agencies will need to update in accordance with FHWA implementation timeline. |\n",
    "\n",
    "//TODO Need to determine exactly how these values are coded, old values can be brought forward, but not sure how they're related to the\n",
    "\n",
    "```\n",
    "'Maintenance Responsibility Code': 1.0,\n",
    "'Maintenance Responsibility Description calc': 'Unknown',\n",
    "'Maintenance Responsibility plus Null calc': 1.0,\n",
    "```\n",
    "\n",
    "values currently in the database"
   ]
  },
  {
   "cell_type": "code",
   "execution_count": 20,
   "id": "9077609b",
   "metadata": {
    "pycharm": {
     "is_executing": true
    }
   },
   "outputs": [
    {
     "name": "stdout",
     "output_type": "stream",
     "text": [
      "Former NBI value: [79.0]\n",
      "Converted value: [Percent Responsibility: 79.0%]\n",
      "Updated value: [79]\n",
      "\n",
      "Unknown_Coding: [01]\n",
      "Unknwon_Coding: [01]\n"
     ]
    }
   ],
   "source": [
    "print(f'Former NBI value: [{first_bridge_NBI[\"OTHER_STATE_PCNT_098B\"].iloc[0]}]')\n",
    "\n",
    "def convert_percent_resp(code):\n",
    "    value = f'Percent Responsibility: {code}%'\n",
    "    return value\n",
    "\n",
    "print(f'Converted value: [{convert_percent_resp(first_bridge_NBI[\"OTHER_STATE_PCNT_098B\"].iloc[0])}]')\n",
    "\n",
    "print(f'Updated value: [{first_bridge.brdr_brg_pct_resp}]\\n')\n",
    "print(f'Unknown_Coding: [{first_bridge.insp_resp_cd}]') # //TODO - Need Translations for this coding\n",
    "print(f'Unknwon_Coding: [{first_bridge.insp_resp_cd_2}]')"
   ]
  },
  {
   "cell_type": "markdown",
   "id": "69ccb19b",
   "metadata": {},
   "source": [
    "## B.L.10 - Border Bridge Designated Lead State\n",
    "\n",
    "|  SNBI Format |  1995 Format |  Comments                      |\n",
    "|:------------:|:------------:|:------------------------------:|\n",
    "| N (2,0)      |  3/N         | Trim leading zero, drop 3rd digit.\tBoth bordering States are designated as Lead States for transition.  Agencies will need to update in accordance with FHWA implementation timeline. |"
   ]
  },
  {
   "cell_type": "code",
   "execution_count": 21,
   "id": "32848bec",
   "metadata": {
    "pycharm": {
     "is_executing": true
    }
   },
   "outputs": [
    {
     "name": "stdout",
     "output_type": "stream",
     "text": [
      "Former NBI value: [39]\n",
      "Converted  value: [Ohio]\n",
      "Updated value: [39]\n"
     ]
    }
   ],
   "source": [
    "print(f'Former NBI value: [{first_bridge_NBI[\"STATE_CODE_001\"].iloc[0]}]')\n",
    "\n",
    "\n",
    "print(f'Converted  value: [{state_code_conversion(first_bridge_NBI[\"STATE_CODE_001\"].iloc[0])}]')\n",
    "print(f'Updated value: [{first_bridge_NBI[\"STATE_CODE_001\"].iloc[0]}]')\n",
    "# //TODO - Determine course of action for this field; Assume Ohio?"
   ]
  },
  {
   "cell_type": "markdown",
   "id": "4d99cdf1",
   "metadata": {},
   "source": [
    "## B.L.11 - Bridge Location\n",
    "\n",
    "|  SNBI Format |  1995 Format |  Comments                      |\n",
    "|:------------:|:------------:|:------------------------------:|\n",
    "| AN (300)     |  25/AN       | Direct transition.\t           |"
   ]
  },
  {
   "cell_type": "code",
   "execution_count": 22,
   "id": "e336b728",
   "metadata": {
    "pycharm": {
     "is_executing": true
    }
   },
   "outputs": [
    {
     "name": "stdout",
     "output_type": "stream",
     "text": [
      "Former NBI value: ['JUST N OF GALLIPOLIS']\n",
      "Updated value: [JUST N OF GALLIPOLIS]\n"
     ]
    }
   ],
   "source": [
    "print(f\"Former NBI value: [{first_bridge_NBI['LOCATION_009'].iloc[0]}]\")\n",
    "print(f\"Updated value: [{first_bridge.str_loc}]\")"
   ]
  },
  {
   "cell_type": "markdown",
   "id": "da3dd307",
   "metadata": {},
   "source": [
    "## B.L.12 - Metropolitan Planning Organization\n",
    "\n",
    "|  SNBI Format |  1995 Format |  Comments                      |\n",
    "|:------------:|:------------:|:------------------------------:|\n",
    "| AN (300)     |  NA          | Didn't Previously exist        |\n",
    "\n",
    "Previously non-existing entry"
   ]
  },
  {
   "cell_type": "markdown",
   "id": "cf041967",
   "metadata": {},
   "source": [
    "## B.CL.01 - Owner\n",
    "\n",
    "|  SNBI Format |  1995 Format |  Comments                      |\n",
    "|:------------:|:------------:|:------------------------------:|\n",
    "| AN (4)       |  2/N         |  See tab.                      |\n",
    "\n",
    "    22\tOwner\n",
    "\n",
    "// TODO - Lots of these comments have \"See Tab\" on them, what exactly is the tab?"
   ]
  },
  {
   "cell_type": "code",
   "execution_count": 23,
   "id": "fca1cb35",
   "metadata": {
    "pycharm": {
     "is_executing": true
    }
   },
   "outputs": [
    {
     "name": "stdout",
     "output_type": "stream",
     "text": [
      "Former NBI value: [1.0]\n",
      "Updated value: [None]\n"
     ]
    }
   ],
   "source": [
    "print(f\"Former NBI value: [{first_bridge_NBI['OWNER_022'].iloc[0]}]\")\n",
    "\n",
    "# //TODO - Assume Ohio?\n",
    "print(f\"Updated value: [{first_bridge.maintenance_authority}]\")"
   ]
  },
  {
   "cell_type": "markdown",
   "id": "bc6ce074",
   "metadata": {},
   "source": [
    "## B.CL.02 - Maintenance Responsibility\n",
    "\n",
    "|  SNBI Format |  1995 Format |  Comments                      |\n",
    "|:------------:|:------------:|:------------------------------:|\n",
    "| AN (4)       |  2/N         |  See tab.                      |\n",
    "\n",
    "    21\tMaintenance Responsibility"
   ]
  },
  {
   "cell_type": "code",
   "execution_count": 24,
   "id": "cfd8fc84",
   "metadata": {
    "pycharm": {
     "is_executing": true
    }
   },
   "outputs": [
    {
     "name": "stdout",
     "output_type": "stream",
     "text": [
      "Former NBI value: [1.0]\n",
      "Updated value: [None]\n",
      "Updated value: [79]\n"
     ]
    }
   ],
   "source": [
    "print(f\"Former NBI value: [{first_bridge_NBI['MAINTENANCE_021'].iloc[0]}]\")\n",
    "print(f\"Updated value: [{first_bridge.maintenance_authority}]\")\n",
    "print(f\"Updated value: [{first_bridge.brdr_brg_pct_resp}]\")"
   ]
  },
  {
   "cell_type": "markdown",
   "id": "20bc1b10",
   "metadata": {},
   "source": [
    "## B.CL.03\t- Federal or Tribal Land Access\n",
    "\n",
    "|  SNBI Format |  1995 Format |  Comments                      |\n",
    "|:------------:|:------------:|:------------------------------:|\n",
    "| AN (5)       |  1/N\t      |  See tab.                      |\n",
    "\n",
    "    105\tFederal Lands Highway"
   ]
  },
  {
   "cell_type": "code",
   "execution_count": 25,
   "id": "ff9522a2",
   "metadata": {
    "pycharm": {
     "is_executing": true
    }
   },
   "outputs": [
    {
     "name": "stdout",
     "output_type": "stream",
     "text": [
      "Former NBI value: [0.0]\n"
     ]
    }
   ],
   "source": [
    "print(f\"Former NBI value: [{first_bridge_NBI['FEDERAL_LANDS_105'].iloc[0]}]\")\n",
    "# //TODO - No Value?"
   ]
  },
  {
   "cell_type": "markdown",
   "id": "a7b9948f",
   "metadata": {},
   "source": [
    "## B.CL.04\t- Historic Significance\n",
    "\n",
    "|  SNBI Format |  1995 Format |  Comments                      |\n",
    "|:------------:|:------------:|:------------------------------:|\n",
    "| AN (1)       |  1/N\t      |  Partial\tSee tab.\tContains temporary codes to be phased out.                     |\n",
    "\n",
    "    37\tHistorical Significance"
   ]
  },
  {
   "cell_type": "code",
   "execution_count": 26,
   "id": "c0787abe",
   "metadata": {
    "pycharm": {
     "is_executing": true
    }
   },
   "outputs": [
    {
     "name": "stdout",
     "output_type": "stream",
     "text": [
      "Former NBI value: [5.0]\n",
      "Updated value: [5]\n"
     ]
    }
   ],
   "source": [
    "print(f\"Former NBI value: [{first_bridge_NBI['HISTORY_037'].iloc[0]}]\")\n",
    "print(f\"Updated value: [{first_bridge.hist_sgn_cd}]\") # //TODO - Define Codings"
   ]
  },
  {
   "cell_type": "markdown",
   "id": "84a055dc",
   "metadata": {},
   "source": [
    "## B.CL.05 - Toll\n",
    "\n",
    "|  SNBI Format |  1995 Format |  Comments                      |\n",
    "|:------------:|:------------:|:------------------------------:|\n",
    "| AN (1)       |  1/N\t      |  See tab.                      |\n",
    "\n",
    "\t20\tToll\t\t"
   ]
  },
  {
   "cell_type": "code",
   "execution_count": 27,
   "id": "ca8a7caf",
   "metadata": {
    "pycharm": {
     "is_executing": true
    }
   },
   "outputs": [
    {
     "name": "stdout",
     "output_type": "stream",
     "text": [
      "Former NBI value: [3.0]\n",
      "Updated value: [3]\n"
     ]
    }
   ],
   "source": [
    "print(f\"Former NBI value: [{first_bridge_NBI['TOLL_020'].iloc[0]}]\")\n",
    "print(f\"Updated value: [{first_bridge.toll_cd}]\") # //TODO - Define Codings"
   ]
  },
  {
   "cell_type": "markdown",
   "id": "7b978a55",
   "metadata": {},
   "source": [
    "## B.CL.06 - Emergency Evacuation Designation\n",
    "\n",
    "|  SNBI Format |  1995 Format |  Comments                      |\n",
    "|:------------:|:------------:|:------------------------------:|\n",
    "| AN (1)       |  N/A\t      |  Vague, no comments just says \"not a clean transition\" |"
   ]
  },
  {
   "cell_type": "code",
   "execution_count": 28,
   "id": "07d112b3",
   "metadata": {
    "pycharm": {
     "is_executing": true
    }
   },
   "outputs": [],
   "source": [
    "# //TODO - Determine what to do with this value"
   ]
  },
  {
   "cell_type": "markdown",
   "id": "dd55e2a7",
   "metadata": {},
   "source": [
    "## B.SP.01 - Span Configuration Designation\n",
    "\n",
    "|  SNBI Format |  1995 Format |  Comments                      |\n",
    "|:------------:|:------------:|:------------------------------:|\n",
    "| AN (3)       |  3/N - 3/N\t      |  Partial\tSee tab.   Item 43 data will partially transition to a main or culvert span configuration data set.  Item 44 data when present will partially transition to an approach or culvert span configuration data set.  SNBI culvert extension and widening span configurations cannot be transitioned.  Multiple main span or approach span configurations cannot be transitioned.                      |\n",
    "\n",
    "    43/44\tStructure Type, Main / Structure Types, Approach Spans"
   ]
  },
  {
   "cell_type": "code",
   "execution_count": 29,
   "id": "145d636a",
   "metadata": {
    "pycharm": {
     "is_executing": true
    }
   },
   "outputs": [
    {
     "name": "stdout",
     "output_type": "stream",
     "text": [
      "Former NBI value: [3.0]\n",
      "Updated value: [3]\n",
      "\n",
      "Former NBI value: [10.0]\n",
      "Updated value: [10]\n",
      "\n",
      "Former NBI value: [3.0]\n",
      "Updated value: [3]\n",
      "\n",
      "Former NBI value: [10.0]\n",
      "Updated value: [10]\n"
     ]
    }
   ],
   "source": [
    "print(f\"Former NBI value: [{first_bridge_NBI['STRUCTURE_KIND_043A'].iloc[0]}]\") # //TODO - Determine Coding for these 4 values\n",
    "print(f\"Updated value: [{first_bridge.main_str_mtl_cd}]\\n\")\n",
    "\n",
    "print(f\"Former NBI value: [{first_bridge_NBI['STRUCTURE_TYPE_043B'].iloc[0]}]\")\n",
    "print(f\"Updated value: [{first_bridge.main_str_type_cd}]\\n\")\n",
    "\n",
    "print(f\"Former NBI value: [{first_bridge_NBI['APPR_KIND_044A'].iloc[0]}]\")\n",
    "print(f\"Updated value: [{first_bridge.apprh_str_mtl_cd}]\\n\")\n",
    "\n",
    "print(f\"Former NBI value: [{first_bridge_NBI['APPR_TYPE_044B'].iloc[0]}]\")\n",
    "print(f\"Updated value: [{first_bridge.apprh_str_type_cd}]\")"
   ]
  },
  {
   "cell_type": "markdown",
   "id": "252ee114",
   "metadata": {},
   "source": [
    "## B.SP.02 - Number of Spans\t\t\t\t\t\n",
    "\n",
    "|  SNBI Format |  1995 Format |  Comments                      |\n",
    "|:------------:|:------------:|:------------------------------:|\n",
    "| AN (5)       |  3/N - 4/N   |  Partial\tUse Item 45 value for M01 or C01, use Item 46 value for A01 or C02.  SNBI culvert extension and widening span configurations cannot be transitioned.  Multiple main span or approach span configurations cannot be transitioned.                      |\n",
    "\n",
    "    45/46\tNumber of Spans in Main Unit / Number of Approach Spans"
   ]
  },
  {
   "cell_type": "code",
   "execution_count": 30,
   "id": "591c4c4a",
   "metadata": {
    "pycharm": {
     "is_executing": true
    }
   },
   "outputs": [
    {
     "name": "stdout",
     "output_type": "stream",
     "text": [
      "Former NBI value: [1.0]\n",
      "Updated value: [1]\n",
      "\n",
      "Former NBI value: [4.0]\n",
      "Updated value: [4]\n"
     ]
    }
   ],
   "source": [
    "print(f\"Former NBI value: [{first_bridge_NBI['MAIN_UNIT_SPANS_045'].iloc[0]}]\")\n",
    "print(f\"Updated value: [{first_bridge.main_spans}]\\n\")\n",
    "\n",
    "print(f\"Former NBI value: [{first_bridge_NBI['APPR_SPANS_046'].iloc[0]}]\")\n",
    "print(f\"Updated value: [{first_bridge.apprh_spans}]\")"
   ]
  },
  {
   "cell_type": "markdown",
   "id": "8b8bc3e4",
   "metadata": {},
   "source": [
    "## B.SP.03 - Number of Beam Lines\n",
    "\n",
    "|  SNBI Format |  1995 Format |  Comments                      |\n",
    "|:------------:|:------------:|:------------------------------:|\n",
    "| N (3,0)      |  NA\t      |  No comments, just 'no' under clean transition |"
   ]
  },
  {
   "cell_type": "code",
   "execution_count": null,
   "id": "f29dd20e",
   "metadata": {
    "pycharm": {
     "is_executing": true
    }
   },
   "outputs": [],
   "source": []
  },
  {
   "cell_type": "markdown",
   "id": "11ad9322",
   "metadata": {},
   "source": [
    "## B.SP.04 - Span Material\t\t\t\t\n",
    "\n",
    "|  SNBI Format |  1995 Format |  Comments                      |\n",
    "|:------------:|:------------:|:------------------------------:|\n",
    "| AN (3)       |  1/N - 1/N   |  Partial See tab.  Use Item 43A value for M01 or C01, use Item 44A value for A01 or C02.\tContains temporary codes to be phased out.                      |\n",
    "\n",
    "    43A/44A\tStructure Type, Main / Structure Types, Approach Spans"
   ]
  },
  {
   "cell_type": "code",
   "execution_count": 31,
   "id": "5bf1d1e7",
   "metadata": {
    "pycharm": {
     "is_executing": true
    }
   },
   "outputs": [
    {
     "name": "stdout",
     "output_type": "stream",
     "text": [
      "Former NBI value: [3.0]\n",
      "Updated value: [3]\n",
      "\n",
      "Former NBI value: [3.0]\n",
      "Updated value: [3]\n"
     ]
    }
   ],
   "source": [
    "print(f\"Former NBI value: [{first_bridge_NBI['STRUCTURE_KIND_043A'].iloc[0]}]\")\n",
    "print(f\"Updated value: [{first_bridge.main_str_mtl_cd}]\\n\")\n",
    "\n",
    "print(f\"Former NBI value: [{first_bridge_NBI['APPR_KIND_044A'].iloc[0]}]\") \n",
    "print(f\"Updated value: [{first_bridge.apprh_str_mtl_cd}]\")"
   ]
  },
  {
   "cell_type": "markdown",
   "id": "3534988c",
   "metadata": {},
   "source": [
    "## B.SP.05 - Span Continuity\n",
    "\n",
    "|  SNBI Format |  1995 Format |  Comments                      |\n",
    "|:------------:|:------------:|:------------------------------:|\n",
    "| AN (1)       |  3/N - 3/N   | Partial\tSee tab.  Use Item 43A/B value for M01 or C01, use Item 44A/B value for A01 or C02.\tContains temporary codes to be phased out. |\n",
    "\n",
    "    43/44\tStructure Type, Main / Structure Types, Approach Spans"
   ]
  },
  {
   "cell_type": "code",
   "execution_count": 32,
   "id": "52bbd0b9",
   "metadata": {
    "pycharm": {
     "is_executing": true
    }
   },
   "outputs": [
    {
     "name": "stdout",
     "output_type": "stream",
     "text": [
      "Former NBI value: [3.0]\n",
      "Updated value: [3]\n",
      "\n",
      "Former NBI value: [3.0]\n",
      "Updated value: [3]\n",
      "\n",
      "Former NBI value: [10.0]\n",
      "Updated value: [10]\n",
      "\n",
      "Former NBI value: [10.0]\n",
      "Updated value: [10]\n",
      "\n"
     ]
    }
   ],
   "source": [
    "print(f\"Former NBI value: [{first_bridge_NBI['STRUCTURE_KIND_043A'].iloc[0]}]\")\n",
    "print(f\"Updated value: [{first_bridge.main_str_mtl_cd}]\\n\")\n",
    "\n",
    "print(f\"Former NBI value: [{first_bridge_NBI['APPR_KIND_044A'].iloc[0]}]\")\n",
    "print(f\"Updated value: [{first_bridge.apprh_str_mtl_cd}]\\n\")\n",
    "\n",
    "print(f\"Former NBI value: [{first_bridge_NBI['STRUCTURE_TYPE_043B'].iloc[0]}]\")\n",
    "print(f\"Updated value: [{first_bridge.main_str_type_cd}]\\n\")\n",
    "\n",
    "print(f\"Former NBI value: [{first_bridge_NBI['APPR_TYPE_044B'].iloc[0]}]\")\n",
    "print(f\"Updated value: [{first_bridge.apprh_str_type_cd}]\\n\")"
   ]
  },
  {
   "cell_type": "markdown",
   "id": "746859fc",
   "metadata": {},
   "source": [
    "## B.SP.06 - Span Type\t\t\t\t\n",
    "\n",
    "|  SNBI Format |  1995 Format |  Comments                      |\n",
    "|:------------:|:------------:|:------------------------------:|\n",
    "| AN (3)       |  2/N - 2/N\t  | Partial\tSee tab.  Use Item 43B value for M01 or C01, use Item 44B value for A01 or C02.\tContains temporary codes to be phased out.  335 bridge records currently have 44B = 20. |\n",
    "\n",
    "    43B/44B\tStructure Type, Main / Structure Types, Approach Spans"
   ]
  },
  {
   "cell_type": "code",
   "execution_count": 33,
   "id": "c146aaed",
   "metadata": {
    "pycharm": {
     "is_executing": true
    }
   },
   "outputs": [
    {
     "name": "stdout",
     "output_type": "stream",
     "text": [
      "Former NBI value: [10.0]\n",
      "Updated value: [10]\n",
      "\n",
      "Former NBI value: [10.0]\n",
      "Updated value: [10]\n"
     ]
    }
   ],
   "source": [
    "print(f\"Former NBI value: [{first_bridge_NBI['STRUCTURE_TYPE_043B'].iloc[0]}]\")\n",
    "print(f\"Updated value: [{first_bridge.main_str_type_cd}]\\n\")\n",
    "\n",
    "print(f\"Former NBI value: [{first_bridge_NBI['APPR_TYPE_044B'].iloc[0]}]\")\n",
    "print(f\"Updated value: [{first_bridge.apprh_str_type_cd}]\")"
   ]
  },
  {
   "cell_type": "markdown",
   "id": "9056eb79",
   "metadata": {},
   "source": [
    "## B.SP.07 - Span Protective System\n",
    "\n",
    "|  SNBI Format |  1995 Format |  Comments                      |\n",
    "|:------------:|:------------:|:------------------------------:|\n",
    "| AN (2)       |  NA\t      |  No comments, just 'No' under clean transition |\n"
   ]
  },
  {
   "cell_type": "code",
   "execution_count": null,
   "id": "55a5a073",
   "metadata": {
    "pycharm": {
     "is_executing": true
    }
   },
   "outputs": [],
   "source": []
  },
  {
   "cell_type": "markdown",
   "id": "ec24cad2",
   "metadata": {},
   "source": [
    "## B.SP.08 - Deck Interaction\n",
    "\n",
    "|  SNBI Format |  1995 Format |  Comments                      |\n",
    "|:------------:|:------------:|:------------------------------:|\n",
    "| AN (2)       |  1/N\t      | No comments, just 'No' under clean transition  |\n"
   ]
  },
  {
   "cell_type": "code",
   "execution_count": null,
   "id": "5ee1585c",
   "metadata": {
    "pycharm": {
     "is_executing": true
    }
   },
   "outputs": [],
   "source": []
  },
  {
   "cell_type": "markdown",
   "id": "2d77e8db",
   "metadata": {},
   "source": [
    "## B.SP.09 - Deck Material and Type\n",
    "\n",
    "|  SNBI Format |  1995 Format |  Comments                      |\n",
    "|:------------:|:------------:|:------------------------------:|\n",
    "| AN (3)       |  1/AN\t      |  Partial\tSee tab.  Use for all span sets.\tContains temporary codes to be phased out. |\n",
    "\n",
    "    107\tDeck Structure Type"
   ]
  },
  {
   "cell_type": "code",
   "execution_count": 34,
   "id": "35e06235",
   "metadata": {
    "pycharm": {
     "is_executing": true
    }
   },
   "outputs": [
    {
     "name": "stdout",
     "output_type": "stream",
     "text": [
      "Former NBI value: [1]\n",
      "Updated value: [1]\n"
     ]
    }
   ],
   "source": [
    "print(f\"Former NBI value: [{first_bridge_NBI['DECK_STRUCTURE_TYPE_107'].iloc[0]}]\")\n",
    "print(f\"Updated value: [{first_bridge.deck_cd}]\")"
   ]
  },
  {
   "cell_type": "markdown",
   "id": "e607cc9d",
   "metadata": {},
   "source": [
    "## B.SP.10 - Wearing Surface\t\t\t\t\n",
    "\n",
    "|  SNBI Format |  1995 Format |  Comments                      |\n",
    "|:------------:|:------------:|:------------------------------:|\n",
    "| AN (3)       |  1/AN\t      |  Partial\tSee tab.  Use for all span sets.  Also reference Item 107.\tContains temporary codes to be phased out. |\n",
    "\n",
    "    108A Type of Wearing Surface"
   ]
  },
  {
   "cell_type": "code",
   "execution_count": 35,
   "id": "764d9e32",
   "metadata": {
    "pycharm": {
     "is_executing": true
    }
   },
   "outputs": [
    {
     "name": "stdout",
     "output_type": "stream",
     "text": [
      "Former NBI value: [3]\n",
      "\n",
      "Updated value: [None]\n",
      "Updated value: [3]\n",
      "Updated value: [0]\n"
     ]
    }
   ],
   "source": [
    "print(f\"Former NBI value: [{first_bridge_NBI['SURFACE_TYPE_108A'].iloc[0]}]\\n\")\n",
    "\n",
    "print(f\"Updated value: [{first_bridge.wear_surf_dt}]\")\n",
    "print(f\"Updated value: [{first_bridge.wearing_surf_cd}]\")\n",
    "print(f\"Updated value: [{first_bridge.wearing_surf_thck}]\")"
   ]
  },
  {
   "cell_type": "markdown",
   "id": "c5958aea",
   "metadata": {},
   "source": [
    "## B.SP.11 - Deck Protective System\t\t\t\t\n",
    "\n",
    "|  SNBI Format |  1995 Format |  Comments                      |\n",
    "|:------------:|:------------:|:------------------------------:|\n",
    "| AN (3)       |  1/AN\t      | Partial\tSee tab.  Use for all span sets.  Also reference Item 107.\tContains temporary codes to be phased out. |\n",
    "\n",
    "    108B - Type of Membrane"
   ]
  },
  {
   "cell_type": "code",
   "execution_count": 36,
   "id": "522aaa52",
   "metadata": {
    "pycharm": {
     "is_executing": true
    }
   },
   "outputs": [
    {
     "name": "stdout",
     "output_type": "stream",
     "text": [
      "Former NBI value: [0]\n",
      "Updated value: [0]\n"
     ]
    }
   ],
   "source": [
    "print(f\"Former NBI value: [{first_bridge_NBI['MEMBRANE_TYPE_108B'].iloc[0]}]\") \n",
    "print(f\"Updated value: [{first_bridge.deck_prot_extl_cd}]\")"
   ]
  },
  {
   "cell_type": "markdown",
   "id": "c4beb6c1",
   "metadata": {},
   "source": [
    "## B.SP.12 - Deck Reinforcing Protective System\t\n",
    "\n",
    "|  SNBI Format |  1995 Format |  Comments                      |\n",
    "|:------------:|:------------:|:------------------------------:|\n",
    "| AN (3)       |  1/AN\t      | Partial\tSee tab.  Use for all span sets.  Also reference Item 107.\tContains temporary codes to be phased out. |\n",
    "\n",
    "    108C Deck Protection\t"
   ]
  },
  {
   "cell_type": "code",
   "execution_count": 37,
   "id": "ed11cb13",
   "metadata": {
    "pycharm": {
     "is_executing": true
    }
   },
   "outputs": [
    {
     "name": "stdout",
     "output_type": "stream",
     "text": [
      "Former NBI value: [7]\n",
      "Updated value: [7]\n"
     ]
    }
   ],
   "source": [
    "print(f\"Former NBI value: [{first_bridge_NBI['DECK_PROTECTION_108C'].iloc[0]}]\")\n",
    "print(f\"Updated value: [{first_bridge.deck_prot_int_cd}]\")"
   ]
  },
  {
   "cell_type": "markdown",
   "id": "1959eede",
   "metadata": {},
   "source": [
    "## B.SP.13 - Deck Stay-In-Place Forms\n",
    "\n",
    "|  SNBI Format |  1995 Format |  Comments                      |\n",
    "|:------------:|:------------:|:------------------------------:|\n",
    "| AN (2)       |  NA\t      |  Just \"No\" under clean transition |\n",
    "\n",
    "//TODO - Determine what to do with all non-clean transitions"
   ]
  },
  {
   "cell_type": "code",
   "execution_count": null,
   "id": "29ac430f",
   "metadata": {
    "pycharm": {
     "is_executing": true
    }
   },
   "outputs": [],
   "source": []
  },
  {
   "cell_type": "markdown",
   "id": "53d9d448",
   "metadata": {},
   "source": [
    "## B.SB.01 - Substructure Configuration Designation\n",
    "\n",
    "|  SNBI Format |  1995 Format |  Comments                      |\n",
    "|:------------:|:------------:|:------------------------------:|\n",
    "| AN (3)       |  NA\t      |  No                      |\n"
   ]
  },
  {
   "cell_type": "code",
   "execution_count": null,
   "id": "464d5f64",
   "metadata": {
    "pycharm": {
     "is_executing": true
    }
   },
   "outputs": [],
   "source": []
  },
  {
   "cell_type": "markdown",
   "id": "608fd4d5",
   "metadata": {},
   "source": [
    "## B.SB.02 - Number of Substructure Units\n",
    "\n",
    "|  SNBI Format |  1995 Format |  Comments                      |\n",
    "|:------------:|:------------:|:------------------------------:|\n",
    "| N (3,0)      |  NA\t      |  No\t                           |\n"
   ]
  },
  {
   "cell_type": "code",
   "execution_count": null,
   "id": "901d1236",
   "metadata": {
    "pycharm": {
     "is_executing": true
    }
   },
   "outputs": [],
   "source": []
  },
  {
   "cell_type": "markdown",
   "id": "6bfc17e1",
   "metadata": {},
   "source": [
    "## B.SB.03 - Substructure Material\n",
    "\n",
    "|  SNBI Format |  1995 Format |  Comments                      |\n",
    "|:------------:|:------------:|:------------------------------:|\n",
    "| AN (3)       |  1/N\t      |  No                            |\n"
   ]
  },
  {
   "cell_type": "code",
   "execution_count": null,
   "id": "82d7eedb",
   "metadata": {
    "pycharm": {
     "is_executing": true
    }
   },
   "outputs": [],
   "source": []
  },
  {
   "cell_type": "markdown",
   "id": "50e0a672",
   "metadata": {},
   "source": [
    "## B.SB.04 - Substructure Type\n",
    "\n",
    "|  SNBI Format |  1995 Format |  Comments                      |\n",
    "|:------------:|:------------:|:------------------------------:|\n",
    "| AN (3)       |  1/N\t      | No                             |\n"
   ]
  },
  {
   "cell_type": "code",
   "execution_count": null,
   "id": "cb0a44d8",
   "metadata": {
    "pycharm": {
     "is_executing": true
    }
   },
   "outputs": [],
   "source": []
  },
  {
   "cell_type": "markdown",
   "id": "d9086b89",
   "metadata": {},
   "source": [
    "## B.SB.05 - Substructure Protective System\n",
    "\n",
    "|  SNBI Format |  1995 Format |  Comments                      |\n",
    "|:------------:|:------------:|:------------------------------:|\n",
    "| AN (3)       |  NA \t      |  No                            |\n"
   ]
  },
  {
   "cell_type": "code",
   "execution_count": null,
   "id": "2addfa18",
   "metadata": {
    "pycharm": {
     "is_executing": true
    }
   },
   "outputs": [],
   "source": []
  },
  {
   "cell_type": "markdown",
   "id": "7be5be42",
   "metadata": {},
   "source": [
    "## B.SB.06 - Foundation Type\n",
    "\n",
    "|  SNBI Format |  1995 Format |  Comments                      |\n",
    "|:------------:|:------------:|:------------------------------:|\n",
    "| AN (3)       |  NA\t      |  No\t                           |\n"
   ]
  },
  {
   "cell_type": "code",
   "execution_count": null,
   "id": "4a9f6ea6",
   "metadata": {
    "pycharm": {
     "is_executing": true
    }
   },
   "outputs": [],
   "source": []
  },
  {
   "cell_type": "markdown",
   "id": "76b0d38b",
   "metadata": {},
   "source": [
    "## B.SB.07 - Foundation Protective System\n",
    "\n",
    "|  SNBI Format |  1995 Format |  Comments                      |\n",
    "|:------------:|:------------:|:------------------------------:|\n",
    "| AN (3)       |  NA \t      |  No\t                           |\n",
    "\n",
    "//TODO - Determine what to do with all non-clean transitions"
   ]
  },
  {
   "cell_type": "code",
   "execution_count": null,
   "id": "9fc246ca",
   "metadata": {
    "pycharm": {
     "is_executing": true
    }
   },
   "outputs": [],
   "source": []
  },
  {
   "cell_type": "markdown",
   "id": "c99b19d1",
   "metadata": {},
   "source": [
    "## B.RH.01 - Bridge Railings\t\t\t\t\n",
    "\n",
    "|  SNBI Format |  1995 Format |  Comments                      |\n",
    "|:------------:|:------------:|:------------------------------:|\n",
    "| AN (4)       |  1/AN \t      |  Partial\tSee tab.\tContains temporary codes to be phased out. |\n",
    "\n",
    "    36A\tTraffic Safety Features"
   ]
  },
  {
   "cell_type": "code",
   "execution_count": 38,
   "id": "2c1830d1",
   "metadata": {
    "pycharm": {
     "is_executing": true
    }
   },
   "outputs": [
    {
     "name": "stdout",
     "output_type": "stream",
     "text": [
      "Former NBI value: [N]\n",
      "Updated value: [N]\n"
     ]
    }
   ],
   "source": [
    "print(f\"Former NBI value: [{first_bridge_NBI['RAILINGS_036A'].iloc[0]}]\")\n",
    "print(f\"Updated value: [{first_bridge.survey_railing}]\")"
   ]
  },
  {
   "cell_type": "markdown",
   "id": "ba6372a3",
   "metadata": {},
   "source": [
    "## B.RH.02 - Transitions\n",
    "\n",
    "|  SNBI Format |  1995 Format |  Comments                      |\n",
    "|:------------:|:------------:|:------------------------------:|\n",
    "| AN (4)       |  1/AN \t      | Partial\tSee tab.\tContains temporary codes to be phased out. |\n",
    "\n",
    "    36B\tTraffic Safety Features\t\t"
   ]
  },
  {
   "cell_type": "code",
   "execution_count": 39,
   "id": "c535547c",
   "metadata": {
    "pycharm": {
     "is_executing": true
    }
   },
   "outputs": [
    {
     "name": "stdout",
     "output_type": "stream",
     "text": [
      "Former NBI value: [N]\n",
      "Updated value: [N]\n"
     ]
    }
   ],
   "source": [
    "print(f\"Former NBI value: [{first_bridge_NBI['TRANSITIONS_036B'].iloc[0]}]\")\n",
    "print(f\"Updated value: [{first_bridge.survey_transition}]\")"
   ]
  },
  {
   "cell_type": "markdown",
   "id": "e718fa5a",
   "metadata": {},
   "source": [
    "## B.G.01 - NBIS Bridge Length\n",
    "\n",
    "|  SNBI Format |  1995 Format |  Comments                      |\n",
    "|:------------:|:------------:|:------------------------------:|\n",
    "| N (7,1)      |  6/N \t      | Partial\tConvert from metric to nearest tenth of a foot when Item 49 is greater than 9.1 meters.  Otherwise no value.\tBridge lengths near 20 feet must be field-measured to ensure accuracy. |\n",
    "\n",
    "    49\tStructure Length"
   ]
  },
  {
   "cell_type": "code",
   "execution_count": 40,
   "id": "b334e19e",
   "metadata": {
    "pycharm": {
     "is_executing": true
    }
   },
   "outputs": [
    {
     "name": "stdout",
     "output_type": "stream",
     "text": [
      "Former NBI value: [598.7]\n",
      "Converted  value: [1964.2 foot]\n",
      "Updated value: [1964.2]\n"
     ]
    }
   ],
   "source": [
    "print(f\"Former NBI value: [{first_bridge_NBI['STRUCTURE_LEN_MT_049'].iloc[0]}]\")\n",
    "\n",
    "def add_units_to_NBI(value, unit='meter'):\n",
    "    return_var = value * units[unit]\n",
    "    return return_var\n",
    "\n",
    "bridge_length_with_units = add_units_to_NBI(first_bridge_NBI[\"STRUCTURE_LEN_MT_049\"].iloc[0])\n",
    "bridge_length_in_ft = bridge_length_with_units.to('feet')\n",
    "\n",
    "print(f'Converted  value: [{bridge_length_in_ft:.1f}]')\n",
    "print(f\"Updated value: [{first_bridge.ovrl_str_len}]\")"
   ]
  },
  {
   "cell_type": "markdown",
   "id": "6011870d",
   "metadata": {},
   "source": [
    "## B.G.02 - Total Bridge Length\t\t\t\t\t\n",
    "\n",
    "|  SNBI Format |  1995 Format |  Comments                      |\n",
    "|:------------:|:------------:|:------------------------------:|\n",
    "| N (7,1)      |  6/N\t      | Yes\tConvert from metric to nearest tenth of a foot. |\n",
    "\n",
    "    49\tStructure Length"
   ]
  },
  {
   "cell_type": "code",
   "execution_count": 41,
   "id": "1bb1e163",
   "metadata": {
    "pycharm": {
     "is_executing": true
    }
   },
   "outputs": [
    {
     "name": "stdout",
     "output_type": "stream",
     "text": [
      "Former NBI value: [598.7]\n",
      "Converted  value: [1964.2 foot]\n",
      "Updated value: [1964.2]\n"
     ]
    }
   ],
   "source": [
    "print(f\"Former NBI value: [{first_bridge_NBI['STRUCTURE_LEN_MT_049'].iloc[0]}]\") # //TODO - Is this a redundant entry?\n",
    "\n",
    "structure_length_with_units = add_units_to_NBI(first_bridge_NBI[\"STRUCTURE_LEN_MT_049\"].iloc[0])\n",
    "structure_length_in_ft = structure_length_with_units.to('feet')\n",
    "\n",
    "print(f'Converted  value: [{structure_length_in_ft:.1f}]')\n",
    "print(f\"Updated value: [{first_bridge.ovrl_str_len}]\")"
   ]
  },
  {
   "cell_type": "markdown",
   "id": "bea59de3",
   "metadata": {},
   "source": [
    "## B.G.03 - Maximum Span Length\n",
    "\n",
    "|  SNBI Format |  1995 Format |  Comments                      |\n",
    "|:------------:|:------------:|:------------------------------:|\n",
    "| N (5,1)       |  5/N \t      |  Yes\tConvert from metric to nearest tenth of a foot. |\n",
    "\n",
    "    48\tLength of Maximum Span"
   ]
  },
  {
   "cell_type": "code",
   "execution_count": 42,
   "id": "d19d8f1f",
   "metadata": {
    "pycharm": {
     "is_executing": true
    }
   },
   "outputs": [
    {
     "name": "stdout",
     "output_type": "stream",
     "text": [
      "Former NBI value: [274.3]\n",
      "\n",
      "Converted  value: [899.9 foot]\n",
      "Updated value: [900]\n"
     ]
    }
   ],
   "source": [
    "print(f\"Former NBI value: [{first_bridge_NBI['MAX_SPAN_LEN_MT_048'].iloc[0]}]\")\n",
    "\n",
    "max_span_length_with_units = add_units_to_NBI(first_bridge_NBI['MAX_SPAN_LEN_MT_048'].iloc[0])\n",
    "max_span_length_in_ft = max_span_length_with_units.to('feet')\n",
    "\n",
    "print(f'\\nConverted  value: [{max_span_length_in_ft:.1f}]')\n",
    "print(f\"Updated value: [{first_bridge.max_span_len}]\")"
   ]
  },
  {
   "cell_type": "markdown",
   "id": "ee29b37a",
   "metadata": {},
   "source": [
    "## B.G.04 - Minimum Span Length\n",
    "\n",
    "|  SNBI Format |  1995 Format |  Comments                      |\n",
    "|:------------:|:------------:|:------------------------------:|\n",
    "| N (5,1)      |  5/N \t      | Partial\tConvert from metric to nearest tenth of a foot if Item 45 = 1 and Item 46 = 0.   Otherwise, no value. |\n",
    "\n",
    "    48\tLength of Maximum Span"
   ]
  },
  {
   "cell_type": "code",
   "execution_count": 43,
   "id": "56a4369c",
   "metadata": {
    "pycharm": {
     "is_executing": true
    }
   },
   "outputs": [
    {
     "name": "stdout",
     "output_type": "stream",
     "text": [
      "Former NBI value: [274.3]\n",
      "\n",
      "Converted  value: [899.9 foot]\n",
      "Updated value: [900]\n"
     ]
    }
   ],
   "source": [
    "print(f\"Former NBI value: [{first_bridge_NBI['MAX_SPAN_LEN_MT_048'].iloc[0]}]\")\n",
    "\n",
    "min_span_length_with_units = add_units_to_NBI(first_bridge_NBI['MAX_SPAN_LEN_MT_048'].iloc[0])\n",
    "min_span_length_in_ft = min_span_length_with_units.to('feet')\n",
    "\n",
    "print(f'\\nConverted  value: [{min_span_length_in_ft:.1f}]')\n",
    "print(f\"Updated value: [{first_bridge.max_span_len}]\") # //TODO - Come back to this one, excel sheet doesn't make sense"
   ]
  },
  {
   "cell_type": "markdown",
   "id": "e84e6ce0",
   "metadata": {},
   "source": [
    "## B.G.05 - Bridge Width Out-to-Out\n",
    "\n",
    "|  SNBI Format |  1995 Format |  Comments                      |\n",
    "|:------------:|:------------:|:------------------------------:|\n",
    "| N (4,1)      |  4/N \t      | Yes\tConvert from metric to nearest tenth of a foot.  Null when Item 52 = 0.\tTPM must continue to use Approach Roadway Width for deck area calculations. |\n",
    "\n",
    "    52\tDeck Width, Out-to-Out"
   ]
  },
  {
   "cell_type": "code",
   "execution_count": 44,
   "id": "f8fa1420",
   "metadata": {
    "pycharm": {
     "is_executing": true
    }
   },
   "outputs": [
    {
     "name": "stdout",
     "output_type": "stream",
     "text": [
      "Former NBI value: [19.6]\n",
      "\n",
      "Converted  value: [64.3 foot]\n",
      "Updated value: [64.3]\n"
     ]
    }
   ],
   "source": [
    "print(f\"Former NBI value: [{first_bridge_NBI['DECK_WIDTH_MT_052'].iloc[0]}]\")\n",
    "\n",
    "deck_out_to_out = add_units_to_NBI(first_bridge_NBI['DECK_WIDTH_MT_052'].iloc[0])\n",
    "deck_out_to_out_in_ft = deck_out_to_out.to('feet')\n",
    "\n",
    "print(f'\\nConverted  value: [{deck_out_to_out_in_ft:.1f}]')\n",
    "print(f\"Updated value: [{first_bridge.deck_wd}]\")"
   ]
  },
  {
   "cell_type": "markdown",
   "id": "f623513c",
   "metadata": {},
   "source": [
    "## B.G.06 - Bridge Width Curb-to-Curb\t\n",
    "\n",
    "\t\t\t\n",
    "\n",
    "|  SNBI Format |  1995 Format |  Comments                      |\n",
    "|:------------:|:------------:|:------------------------------:|\n",
    "| N (4,1)      |  4/N \t      | Yes\tConvert from metric to nearest tenth of a foot.\t|\n",
    "\n",
    "    51\tBridge Roadway Width, Curb-to-Curb"
   ]
  },
  {
   "cell_type": "code",
   "execution_count": 45,
   "id": "1c58654b",
   "metadata": {
    "pycharm": {
     "is_executing": true
    }
   },
   "outputs": [
    {
     "name": "stdout",
     "output_type": "stream",
     "text": [
      "Former NBI value: [18.2]\n",
      "\n",
      "Converted  value: [59.7 foot]\n",
      "Updated value: [59.8]\n"
     ]
    }
   ],
   "source": [
    "print(f\"Former NBI value: [{first_bridge_NBI['ROADWAY_WIDTH_MT_051'].iloc[0]}]\")\n",
    "\n",
    "deck_curb_to_curb = add_units_to_NBI(first_bridge_NBI['ROADWAY_WIDTH_MT_051'].iloc[0])\n",
    "deck_curb_to_curb_in_ft = deck_curb_to_curb.to('feet')\n",
    "\n",
    "print(f'\\nConverted  value: [{deck_curb_to_curb_in_ft:.1f}]')\n",
    "print(f\"Updated value: [{first_bridge.brg_rdw_wd}]\")"
   ]
  },
  {
   "cell_type": "markdown",
   "id": "e26d8f4b",
   "metadata": {},
   "source": [
    "## B.G.07\tLeft Curb or Sidewalk Width\t\t\t\t\t\n",
    "\n",
    "|  SNBI Format |  1995 Format |  Comments                      |\n",
    "|:------------:|:------------:|:------------------------------:|\n",
    "| N (3,1)      |  3/N \t      | Yes\tConvert from metric to nearest tenth of a foot. |\n",
    "\n",
    "    50A\tLeft curb or sidewalk width"
   ]
  },
  {
   "cell_type": "code",
   "execution_count": 46,
   "id": "f9b82ab8",
   "metadata": {
    "pycharm": {
     "is_executing": true
    }
   },
   "outputs": [
    {
     "name": "stdout",
     "output_type": "stream",
     "text": [
      "Former NBI value: [0.0]\n",
      "\n",
      "Converted  value: [0.0 foot]\n",
      "Updated value: [0]\n"
     ]
    }
   ],
   "source": [
    "print(f\"Former NBI value: [{first_bridge_NBI['LEFT_CURB_MT_050A'].iloc[0]}]\")\n",
    "\n",
    "l_sidewalk_width = add_units_to_NBI(first_bridge_NBI['LEFT_CURB_MT_050A'].iloc[0])\n",
    "l_sidewalk_width_in_ft = l_sidewalk_width.to('feet')\n",
    "\n",
    "print(f'\\nConverted  value: [{l_sidewalk_width_in_ft:.1f}]')\n",
    "print(f\"Updated value: [{first_bridge.sidw_wd_l}]\")"
   ]
  },
  {
   "cell_type": "markdown",
   "id": "d8b22b3d",
   "metadata": {},
   "source": [
    "## B.G.08 - Right Curb or Sidewalk Width\n",
    "\n",
    "|  SNBI Format |  1995 Format |  Comments                      |\n",
    "|:------------:|:------------:|:------------------------------:|\n",
    "| N (3,1)      |  3/N \t      | Yes\tConvert from metric to nearest tenth of a foot. |\n",
    "\n",
    "    50B\tRight curb or sidewalk width"
   ]
  },
  {
   "cell_type": "code",
   "execution_count": 47,
   "id": "1d07523f",
   "metadata": {
    "pycharm": {
     "is_executing": true
    }
   },
   "outputs": [
    {
     "name": "stdout",
     "output_type": "stream",
     "text": [
      "Former NBI value: [0.0]\n",
      "\n",
      "Converted  value: [0.0 foot]\n",
      "Updated value: [0]\n"
     ]
    }
   ],
   "source": [
    "print(f\"Former NBI value: [{first_bridge_NBI['RIGHT_CURB_MT_050B'].iloc[0]}]\")\n",
    "\n",
    "r_sidewalk_width = add_units_to_NBI(first_bridge_NBI['RIGHT_CURB_MT_050B'].iloc[0])\n",
    "r_sidewalk_width_in_ft = r_sidewalk_width.to('feet')\n",
    "\n",
    "print(f'\\nConverted  value: [{r_sidewalk_width_in_ft:.1f}]')\n",
    "print(f\"Updated value: [{first_bridge.sidw_wd_r}]\")"
   ]
  },
  {
   "cell_type": "markdown",
   "id": "a2c84496",
   "metadata": {},
   "source": [
    "## B.G.09 - Approach Roadway Width\t\n",
    "\n",
    "\t\t\t\n",
    "\n",
    "|  SNBI Format |  1995 Format |  Comments                      |\n",
    "|:------------:|:------------:|:------------------------------:|\n",
    "| N (4,1)      |  4/N\t      | Yes\tConvert from metric to nearest tenth of a foot.\t|\n",
    "\n",
    "    32\tApproach Roadway Width"
   ]
  },
  {
   "cell_type": "code",
   "execution_count": 48,
   "id": "ec609a30",
   "metadata": {
    "pycharm": {
     "is_executing": true
    }
   },
   "outputs": [
    {
     "name": "stdout",
     "output_type": "stream",
     "text": [
      "Former NBI value: [8.8]\n",
      "\n",
      "Converted  value: [28.9 foot]\n",
      "Updated value: [29]\n"
     ]
    }
   ],
   "source": [
    "print(f\"Former NBI value: [{first_bridge_NBI['APPR_WIDTH_MT_032'].iloc[0]}]\")\n",
    "\n",
    "app_rdwy_width = add_units_to_NBI(first_bridge_NBI['APPR_WIDTH_MT_032'].iloc[0])\n",
    "app_rdwy_width_in_ft = app_rdwy_width.to('feet')\n",
    "\n",
    "print(f'\\nConverted  value: [{app_rdwy_width_in_ft:.1f}]')\n",
    "print(f\"Updated value: [{first_bridge.apprh_rdw_wd}]\")"
   ]
  },
  {
   "cell_type": "markdown",
   "id": "78cc1f85",
   "metadata": {},
   "source": [
    "## B.G.10 - Bridge Median\t\n",
    "\n",
    "\t\t\t\t\n",
    "\n",
    "|  SNBI Format |  1995 Format |  Comments                      |\n",
    "|:------------:|:------------:|:------------------------------:|\n",
    "| AN (1)       |  1/N \t      | Yes\tDirect transition.         |\n",
    "\n",
    "    33\tBridge Median"
   ]
  },
  {
   "cell_type": "code",
   "execution_count": 49,
   "id": "8ad4f6b4",
   "metadata": {
    "pycharm": {
     "is_executing": true
    }
   },
   "outputs": [
    {
     "name": "stdout",
     "output_type": "stream",
     "text": [
      "Former NBI value: [3.0]\n",
      "\n",
      "Updated value: [3]\n",
      "Updated value: [1]\n",
      "Updated value: [N]\n",
      "Updated value: [N]\n"
     ]
    }
   ],
   "source": [
    "print(f\"Former NBI value: [{first_bridge_NBI['MEDIAN_CODE_033'].iloc[0]}]\\n\") # //TODO - Determine definitions\n",
    "\n",
    "print(f\"Updated value: [{first_bridge.median_cd}]\")\n",
    "print(f\"Updated value: [{first_bridge.median_typ1_cd}]\") # //TODO - Why 3?\n",
    "print(f\"Updated value: [{first_bridge.median_typ2_cd}]\")\n",
    "print(f\"Updated value: [{first_bridge.median_typ3_cd}]\")"
   ]
  },
  {
   "cell_type": "markdown",
   "id": "579724b1",
   "metadata": {},
   "source": [
    "## B.G.11 - Skew\n",
    "\n",
    "|  SNBI Format |  1995 Format |  Comments                      |\n",
    "|:------------:|:------------:|:------------------------------:|\n",
    "| N (2,0)      |  2/N \t      | Yes\tDirect transition.\tFor bridges with multiple and different skew angles Coding Guide reports average and SNBI reports maximum.  Agencies will need to update in accordance with FHWA implementation timeline. |\n",
    "\n",
    "    34\tSkew"
   ]
  },
  {
   "cell_type": "code",
   "execution_count": 50,
   "id": "bd5cd19f",
   "metadata": {
    "pycharm": {
     "is_executing": true
    }
   },
   "outputs": [
    {
     "name": "stdout",
     "output_type": "stream",
     "text": [
      "Former NBI value: [0.0]\n",
      "Updated value: [0]\n"
     ]
    }
   ],
   "source": [
    "print(f\"Former NBI value: [{first_bridge_NBI['DEGREES_SKEW_034'].iloc[0]}]\")\n",
    "print(f\"Updated value: [{first_bridge.skew_deg}]\")"
   ]
  },
  {
   "cell_type": "markdown",
   "id": "7e6f8cd8",
   "metadata": {},
   "source": [
    "## B.G.12 - Curved Bridge\t\n",
    "\n",
    "|  SNBI Format |  1995 Format |  Comments                      |\n",
    "|:------------:|:------------:|:------------------------------:|\n",
    "| AN (2)       |  N/A \t      |  No\t                           |"
   ]
  },
  {
   "cell_type": "code",
   "execution_count": null,
   "id": "4f5b0849",
   "metadata": {
    "pycharm": {
     "is_executing": true
    }
   },
   "outputs": [],
   "source": []
  },
  {
   "cell_type": "markdown",
   "id": "f5a53c25",
   "metadata": {},
   "source": [
    "## B.G.13 - Maximum Bridge Height\t\n",
    "\n",
    "|  SNBI Format |  1995 Format |  Comments                      |\n",
    "|:------------:|:------------:|:------------------------------:|\n",
    "| N (3,0)      |  NA \t      |  No\t                           |"
   ]
  },
  {
   "cell_type": "code",
   "execution_count": null,
   "id": "78383bdd",
   "metadata": {
    "pycharm": {
     "is_executing": true
    }
   },
   "outputs": [],
   "source": []
  },
  {
   "cell_type": "markdown",
   "id": "3bf1f42b",
   "metadata": {},
   "source": [
    "## B.G.14 - Sidehill Bridge\n",
    "\n",
    "|  SNBI Format |  1995 Format |  Comments                      |\n",
    "|:------------:|:------------:|:------------------------------:|\n",
    "| AN (1)       |  NA \t      |  No\t                           |"
   ]
  },
  {
   "cell_type": "code",
   "execution_count": null,
   "id": "e8176d03",
   "metadata": {
    "pycharm": {
     "is_executing": true
    }
   },
   "outputs": [],
   "source": []
  },
  {
   "cell_type": "markdown",
   "id": "ce2e483a",
   "metadata": {},
   "source": [
    "## B.G.15 - Irregular Deck Area\t\n",
    "\n",
    "|  SNBI Format |  1995 Format |  Comments                      |\n",
    "|:------------:|:------------:|:------------------------------:|\n",
    "| N (10,1)     |  NA \t      |  No\t                           |"
   ]
  },
  {
   "cell_type": "code",
   "execution_count": null,
   "id": "033113c1",
   "metadata": {
    "pycharm": {
     "is_executing": true
    }
   },
   "outputs": [],
   "source": []
  },
  {
   "cell_type": "markdown",
   "id": "25fae31a",
   "metadata": {},
   "source": [
    "## B.G.16 - Calculated Deck Area\n",
    "\n",
    "|  SNBI Format |  1995 Format |  Comments                      |\n",
    "|:------------:|:------------:|:------------------------------:|\n",
    "| N (10,1)     |  NA \t      | Calculate Multiply Item 49 by Item 52 when Item 52 > 0.  Otherwise multiply Item 49 by Item 32.  Convert from metric to nearest tenth of a square foot. |"
   ]
  },
  {
   "cell_type": "code",
   "execution_count": null,
   "id": "815b3e7f",
   "metadata": {
    "pycharm": {
     "is_executing": true
    }
   },
   "outputs": [],
   "source": []
  },
  {
   "cell_type": "markdown",
   "id": "94d48ced",
   "metadata": {},
   "source": [
    "## B.F.01 - Feature Type\n",
    "\n",
    "|  SNBI Format |  1995 Format |  Comments                      |\n",
    "|:------------:|:------------:|:------------------------------:|\n",
    "| AN (3)       |  2/N \t      |  Yes\tSee tab.               |\n",
    "\n",
    "    42A/42B\tType of Service"
   ]
  },
  {
   "cell_type": "code",
   "execution_count": 51,
   "id": "4b21d24a",
   "metadata": {
    "pycharm": {
     "is_executing": true
    }
   },
   "outputs": [
    {
     "name": "stdout",
     "output_type": "stream",
     "text": [
      "Former NBI value: [1.0]\n",
      "Updated value: [1]\n",
      "\n",
      "Former NBI value: [5.0]\n",
      "Updated value: [5]\n"
     ]
    }
   ],
   "source": [
    "print(f\"Former NBI value: [{first_bridge_NBI['SERVICE_ON_042A'].iloc[0]}]\")\n",
    "print(f\"Updated value: [{first_bridge.type_serv1_cd}]\\n\") # //TODO - Determine definitions\n",
    "\n",
    "print(f\"Former NBI value: [{first_bridge_NBI['SERVICE_UND_042B'].iloc[0]}]\")\n",
    "print(f\"Updated value: [{first_bridge.type_serv2_cd}]\")"
   ]
  },
  {
   "cell_type": "markdown",
   "id": "a4d1e948",
   "metadata": {},
   "source": [
    "## B.F.02 - Feature Location\n",
    "\n",
    "|  SNBI Format |  1995 Format |  Comments                      |\n",
    "|:------------:|:------------:|:------------------------------:|\n",
    "| AN (1)       |  2/N\t      |  Yes\tSee tab.               |\n",
    "\n",
    "    42A/42B\tType of Service"
   ]
  },
  {
   "cell_type": "code",
   "execution_count": 52,
   "id": "a7afba30",
   "metadata": {
    "pycharm": {
     "is_executing": true
    }
   },
   "outputs": [
    {
     "name": "stdout",
     "output_type": "stream",
     "text": [
      "Former NBI value: [1.0]\n",
      "Updated value: [1]\n",
      "\n",
      "Former NBI value: [5.0]\n",
      "Updated value: [5]\n"
     ]
    }
   ],
   "source": [
    "print(f\"Former NBI value: [{first_bridge_NBI['SERVICE_ON_042A'].iloc[0]}]\")\n",
    "print(f\"Updated value: [{first_bridge.type_serv1_cd}]\\n\")\n",
    "\n",
    "print(f\"Former NBI value: [{first_bridge_NBI['SERVICE_UND_042B'].iloc[0]}]\")\n",
    "print(f\"Updated value: [{first_bridge.type_serv2_cd}]\")"
   ]
  },
  {
   "cell_type": "markdown",
   "id": "32e03079",
   "metadata": {},
   "source": [
    "## B.F.03 - Feature Name\n",
    "\n",
    "|  SNBI Format |  1995 Format |  Comments                      |\n",
    "|:------------:|:------------:|:------------------------------:|\n",
    "| AN (300)     | 24/AN - 18/AN | Yes\tSee tab.\t           |\n",
    "\n",
    "    6A/7\tFeatures Intersected / Facility Carried by Structure"
   ]
  },
  {
   "cell_type": "code",
   "execution_count": 53,
   "id": "7f9e8804",
   "metadata": {
    "pycharm": {
     "is_executing": true
    }
   },
   "outputs": [
    {
     "name": "stdout",
     "output_type": "stream",
     "text": [
      "Former NBI value: ['OHIO RIVER']\n",
      "Updated value: [OHIO RIVER]\n",
      "\n",
      "Former NBI value: ['US 35-SILVER MEMOR']\n",
      "Updated value: [US 35-SILVER MEMOR]\n"
     ]
    }
   ],
   "source": [
    "print(f\"Former NBI value: [{first_bridge_NBI['FEATURES_DESC_006A'].iloc[0]}]\")\n",
    "print(f\"Updated value: [{first_bridge.invent_feat}]\\n\")\n",
    "\n",
    "print(f\"Former NBI value: [{first_bridge_NBI['FACILITY_CARRIED_007'].iloc[0]}]\") \n",
    "print(f\"Updated value: [{first_bridge.str_loc_carried}]\")"
   ]
  },
  {
   "cell_type": "markdown",
   "id": "a8aae182",
   "metadata": {},
   "source": [
    "## B.RT.01 - Route Designation\n",
    "\n",
    "|  SNBI Format |  1995 Format |  Comments                      |\n",
    "|:------------:|:------------:|:------------------------------:|\n",
    "| AN (3)       |  NA \t      | Yes\tR01.  Assign to H01 feature. |"
   ]
  },
  {
   "cell_type": "code",
   "execution_count": null,
   "id": "c39fdaff",
   "metadata": {
    "pycharm": {
     "is_executing": true
    }
   },
   "outputs": [],
   "source": []
  },
  {
   "cell_type": "markdown",
   "id": "ed484cf6",
   "metadata": {},
   "source": [
    "## B.RT.02 - Route Number\n",
    "\n",
    "|  SNBI Format |  1995 Format |  Comments                      |\n",
    "|:------------:|:------------:|:------------------------------:|\n",
    "| AN (15)      | 5/AN - 1/N   | Yes\tTrim leading zeroes.  Append Item 5D with Item 5E - see tab.  Use 0 for values that do not contain other digits.  Assign to R01 route on H01 feature.\tExamples:  If 5D = 00035 and 5E = W, B.RT.02 = 35W.  If 5D = 00000, B.RT.02 = 0. |\n",
    "\n",
    "    5D/5E\tRoute Number / Directional Suffix"
   ]
  },
  {
   "cell_type": "code",
   "execution_count": 54,
   "id": "461f267b",
   "metadata": {
    "pycharm": {
     "is_executing": true
    }
   },
   "outputs": [
    {
     "name": "stdout",
     "output_type": "stream",
     "text": [
      "Former NBI value: [00035]\n",
      "# //TODO - No modern value?\n",
      "\n",
      "Former NBI value: [0.0]\n",
      "Updated value: [0]\n"
     ]
    }
   ],
   "source": [
    "print(f\"Former NBI value: [{first_bridge_NBI['ROUTE_NUMBER_005D'].iloc[0]}]\")\n",
    "print(f\"# //TODO - No modern value?\\n\")\n",
    "\n",
    "print(f\"Former NBI value: [{first_bridge_NBI['DIRECTION_005E'].iloc[0]}]\") \n",
    "print(f\"Updated value: [{first_bridge.invent_dir_sfx_cd}]\")"
   ]
  },
  {
   "cell_type": "markdown",
   "id": "4e728cd4",
   "metadata": {},
   "source": [
    "## B.RT.03 - Route Direction\n",
    "\n",
    "|  SNBI Format |  1995 Format |  Comments                      |\n",
    "|:------------:|:------------:|:------------------------------:|\n",
    "| AN (2)       |  1/N\t      | Partial\tSee tab.  Assign to R01 route on H01 feature.\tContains temporary codes to be phased out. |\n",
    "\n",
    "    102\tDirection of Traffic"
   ]
  },
  {
   "cell_type": "code",
   "execution_count": 55,
   "id": "2409f035",
   "metadata": {
    "pycharm": {
     "is_executing": true
    }
   },
   "outputs": [
    {
     "name": "stdout",
     "output_type": "stream",
     "text": [
      "Former NBI value: [2.0]\n",
      "Updated value: [2]\n"
     ]
    }
   ],
   "source": [
    "print(f\"Former NBI value: [{first_bridge_NBI['TRAFFIC_DIRECTION_102'].iloc[0]}]\")\n",
    "print(f\"Updated value: [{first_bridge.dir_traffic_cd}]\")"
   ]
  },
  {
   "cell_type": "markdown",
   "id": "b2f0cdaa",
   "metadata": {},
   "source": [
    "## B.RT.04 - Route Type\n",
    "\n",
    "\t\t\t\t\n",
    "\n",
    "|  SNBI Format |  1995 Format |  Comments                      |\n",
    "|:------------:|:------------:|:------------------------------:|\n",
    "| AN (1)       |  1/N \t      | Yes\tDirect transition except 8 goes to X.  Assign to R01 route on H01 feature. |\n",
    "\n",
    "    5B\tRoute Signing Prefix"
   ]
  },
  {
   "cell_type": "code",
   "execution_count": 56,
   "id": "523af340",
   "metadata": {
    "pycharm": {
     "is_executing": true
    }
   },
   "outputs": [
    {
     "name": "stdout",
     "output_type": "stream",
     "text": [
      "Former NBI value: [2.0]\n",
      "Updated value: [2]\n"
     ]
    }
   ],
   "source": [
    "print(f\"Former NBI value: [{first_bridge_NBI['ROUTE_PREFIX_005B'].iloc[0]}]\")\n",
    "print(f\"Updated value: [{first_bridge.invent_hwy_sys_cd}]\")"
   ]
  },
  {
   "cell_type": "markdown",
   "id": "9f1fd0e4",
   "metadata": {},
   "source": [
    "## B.RT.05 - Service Type\t\n",
    "\n",
    "\t\t\t\n",
    "\n",
    "|  SNBI Format |  1995 Format |  Comments                      |\n",
    "|:------------:|:------------:|:------------------------------:|\n",
    "| AN (1)       |  1/N \t      | Yes\tDirect transition except 0 goes to X.  Assign to R01 route on H01 feature.|\n",
    "\n",
    "    5C\tDesignated Level of Service"
   ]
  },
  {
   "cell_type": "code",
   "execution_count": 57,
   "id": "645b8db2",
   "metadata": {
    "pycharm": {
     "is_executing": true
    }
   },
   "outputs": [
    {
     "name": "stdout",
     "output_type": "stream",
     "text": [
      "Former NBI value: [1.0]\n",
      "Updated value: [1]\n"
     ]
    }
   ],
   "source": [
    "print(f\"Former NBI value: [{first_bridge_NBI['SERVICE_LEVEL_005C'].iloc[0]}]\")\n",
    "print(f\"Updated value: [{first_bridge.invent_hwy_dsgt_cd}]\")"
   ]
  },
  {
   "cell_type": "markdown",
   "id": "70425855",
   "metadata": {},
   "source": [
    "## B.H.01 - Functional Classification\t\n",
    "\n",
    "\t\t\t\n",
    "\n",
    "|  SNBI Format |  1995 Format |  Comments                      |\n",
    "|:------------:|:------------:|:------------------------------:|\n",
    "| AN (1)       |  2/N\t      | Partial\tSee tab.  Assign to H01 feature.\tContains temporary codes to be phased out. |\n",
    "\n",
    "    26\tFunctional Classification of Inventory Route"
   ]
  },
  {
   "cell_type": "code",
   "execution_count": 58,
   "id": "154f1c32",
   "metadata": {
    "pycharm": {
     "is_executing": true
    }
   },
   "outputs": [
    {
     "name": "stdout",
     "output_type": "stream",
     "text": [
      "Former NBI value: [12.0]\n",
      "Updated value: [12]\n"
     ]
    }
   ],
   "source": [
    "print(f\"Former NBI value: [{first_bridge_NBI['FUNCTIONAL_CLASS_026'].iloc[0]}]\")\n",
    "print(f\"Updated value: [{first_bridge.func_clas_cd}]\")"
   ]
  },
  {
   "cell_type": "markdown",
   "id": "8e83607a",
   "metadata": {},
   "source": [
    "## B.H.02 - Urban Code\n",
    "\n",
    "|  SNBI Format |  1995 Format |  Comments                      |\n",
    "|:------------:|:------------:|:------------------------------:|\n",
    "| AN (5)       |  2/N\t      | Partial\tSee tab.  Assign to all H features.\tContains temporary codes to be phased out. |\n",
    "\n",
    "    26\tFunctional Classification of Inventory Route"
   ]
  },
  {
   "cell_type": "code",
   "execution_count": 59,
   "id": "44d2f9e2",
   "metadata": {
    "pycharm": {
     "is_executing": true
    }
   },
   "outputs": [
    {
     "name": "stdout",
     "output_type": "stream",
     "text": [
      "Former NBI value: [12.0]\n",
      "Updated value: [12]\n"
     ]
    }
   ],
   "source": [
    "print(f\"Former NBI value: [{first_bridge_NBI['FUNCTIONAL_CLASS_026'].iloc[0]}]\")\n",
    "print(f\"Updated value: [{first_bridge.func_clas_cd}]\")"
   ]
  },
  {
   "cell_type": "markdown",
   "id": "4dc16a21",
   "metadata": {},
   "source": [
    "## B.H.03 - NHS Designation\t\n",
    "\n",
    "|  SNBI Format |  1995 Format |  Comments                      |\n",
    "|:------------:|:------------:|:------------------------------:|\n",
    "| AN (1)       |  1/N \t      | Yes\tSee tab.  Assign to H01 feature. |\n",
    "\n",
    "    104\tHighway System of the Inventory Route"
   ]
  },
  {
   "cell_type": "code",
   "execution_count": 60,
   "id": "de42c716",
   "metadata": {
    "pycharm": {
     "is_executing": true
    }
   },
   "outputs": [
    {
     "name": "stdout",
     "output_type": "stream",
     "text": [
      "Former NBI value: [1.0]\n",
      "# //TODO - No modern value?\n",
      "\n"
     ]
    }
   ],
   "source": [
    "print(f\"Former NBI value: [{first_bridge_NBI['HIGHWAY_SYSTEM_104'].iloc[0]}]\")\n",
    "print(f\"# //TODO - No modern value?\\n\")"
   ]
  },
  {
   "cell_type": "markdown",
   "id": "40912a6c",
   "metadata": {},
   "source": [
    "## B.H.04 - National Highway Freight Network\n",
    "\n",
    "|  SNBI Format |  1995 Format |  Comments                      |\n",
    "|:------------:|:------------:|:------------------------------:|\n",
    "| AN (1)       |  1/N \t      | Partial\tSee tab.  Assign to H01 feature. Contains temporary codes to be phased out. |\n",
    "\n",
    "    110\tDesignated National Network"
   ]
  },
  {
   "cell_type": "code",
   "execution_count": 61,
   "id": "a1c4b5f2",
   "metadata": {
    "pycharm": {
     "is_executing": true
    }
   },
   "outputs": [
    {
     "name": "stdout",
     "output_type": "stream",
     "text": [
      "Former NBI value: [1.0]\n",
      "Updated value: [1]\n"
     ]
    }
   ],
   "source": [
    "print(f\"Former NBI value: [{first_bridge_NBI['NATIONAL_NETWORK_110'].iloc[0]}]\")\n",
    "print(f\"Updated value: [{first_bridge.dsgt_natl_netw_sw}]\")"
   ]
  },
  {
   "cell_type": "markdown",
   "id": "1815f359",
   "metadata": {},
   "source": [
    "## B.H.05 - STRAHNET Designation\n",
    "\n",
    "|  SNBI Format |  1995 Format |  Comments                      |\n",
    "|:------------:|:------------:|:------------------------------:|\n",
    "| AN (1)       |  1/N\t      | Yes\tSee tab. Assign to H01 feature. |\n",
    "\n",
    "    100\tSTRAHNET Highway Designation"
   ]
  },
  {
   "cell_type": "code",
   "execution_count": 62,
   "id": "bdf99782",
   "metadata": {
    "pycharm": {
     "is_executing": true
    }
   },
   "outputs": [
    {
     "name": "stdout",
     "output_type": "stream",
     "text": [
      "Former NBI value: [0.0]\n",
      "Updated value: [0]\n"
     ]
    }
   ],
   "source": [
    "print(f\"Former NBI value: [{first_bridge_NBI['STRAHNET_HIGHWAY_100'].iloc[0]}]\")\n",
    "print(f\"Updated value: [{first_bridge.dfns_hwy_dsgt_sw}]\")"
   ]
  },
  {
   "cell_type": "markdown",
   "id": "9ddc3632",
   "metadata": {},
   "source": [
    "## B.H.06 - LRS Route ID\n",
    "\n",
    "|  SNBI Format |  1995 Format |  Comments                      |\n",
    "|:------------:|:------------:|:------------------------------:|\n",
    "| AN (120)     |  10/AN - 2/N | Partial\tAssign to H01 feature.  Eliminate all values that reduce to 0.  Trim leading zeroes and spaces.  Combine 13A and 13B into a 12 character (or shorter) string.\tApplies to Highway.  This transition will work for most States. The exceptions are New Jersey where their 13A and HPMS Route IDs have leading zeros and Wyoming where 13B portions were not in their HPMS Route ID. |\n",
    "\n",
    "    13A/13B\tLRS Inventory Route, Subroute Number"
   ]
  },
  {
   "cell_type": "code",
   "execution_count": 63,
   "id": "4b11b35e",
   "metadata": {
    "pycharm": {
     "is_executing": true
    }
   },
   "outputs": [
    {
     "name": "stdout",
     "output_type": "stream",
     "text": [
      "Former NBI value: [0000000035]\n",
      "# //TODO - No modern value?\n",
      "\n",
      "Former NBI value: [0.0]\n",
      "# //TODO - No modern value?\n",
      "\n"
     ]
    }
   ],
   "source": [
    "print(f\"Former NBI value: [{first_bridge_NBI['LRS_INV_ROUTE_013A'].iloc[0]}]\")\n",
    "print(f\"# //TODO - No modern value?\\n\")\n",
    "\n",
    "print(f\"Former NBI value: [{first_bridge_NBI['SUBROUTE_NO_013B'].iloc[0]}]\")\n",
    "print(f\"# //TODO - No modern value?\\n\")\n",
    "\n",
    "# list(first_bridge_NBI.keys())"
   ]
  },
  {
   "cell_type": "markdown",
   "id": "8acc58a5",
   "metadata": {},
   "source": [
    "## B.H.07 - LRS Mile Point\t\n",
    "\n",
    "//TODO - Determine what `Assign to H01 feature.` is referring to.\n",
    "\n",
    "|  SNBI Format |  1995 Format |  Comments                      |\n",
    "|:------------:|:------------:|:------------------------------:|\n",
    "| AN (3)       |  7/N (7,3)   | Yes\tConvert from metric to nearest thousandth of a mile.  Assign to H01 feature. |\n",
    "\n",
    "    11\tKilometerpoint"
   ]
  },
  {
   "cell_type": "code",
   "execution_count": 64,
   "id": "5a817531",
   "metadata": {
    "pycharm": {
     "is_executing": true
    }
   },
   "outputs": [
    {
     "name": "stdout",
     "output_type": "stream",
     "text": [
      "Former NBI value: [28.759]\n",
      "\n",
      "Converted  value: [17.870 mile]\n",
      "# //TODO - No modern value?\n",
      "\n"
     ]
    }
   ],
   "source": [
    "print(f\"Former NBI value: [{first_bridge_NBI['KILOPOINT_011'].iloc[0]}]\")\n",
    "\n",
    "km_pt = add_units_to_NBI(first_bridge_NBI['KILOPOINT_011'].iloc[0], 'kilometer')\n",
    "app_rdwy_width_in_ft = km_pt.to('miles')\n",
    "\n",
    "print(f'\\nConverted  value: [{app_rdwy_width_in_ft:.3f}]')\n",
    "print(f\"# //TODO - No modern value?\\n\")\n",
    "# list(first_bridge_NBI.keys())"
   ]
  },
  {
   "cell_type": "markdown",
   "id": "19667689",
   "metadata": {},
   "source": [
    "## B.H.08 - Lanes on Highway\t\n",
    "\n",
    "|  SNBI Format |  1995 Format |  Comments                      |\n",
    "|:------------:|:------------:|:------------------------------:|\n",
    "| N (2,0)      |  2/N\t      | Yes Direct transition.  Assign to H01 feature. |\n",
    "\n",
    "    28A\tLanes on Structure"
   ]
  },
  {
   "cell_type": "code",
   "execution_count": 65,
   "id": "b1d81cad",
   "metadata": {
    "pycharm": {
     "is_executing": true
    }
   },
   "outputs": [
    {
     "name": "stdout",
     "output_type": "stream",
     "text": [
      "Former NBI value: [4.0]\n",
      "Updated value: [4]\n"
     ]
    }
   ],
   "source": [
    "print(f\"Former NBI value: [{first_bridge_NBI['TRAFFIC_LANES_ON_028A'].iloc[0]}]\")\n",
    "print(f\"Updated value: [{first_bridge.lanes_on}]\")"
   ]
  },
  {
   "cell_type": "markdown",
   "id": "7836d020",
   "metadata": {},
   "source": [
    "## B.H.09 - Annual Average Daily Traffic\t\n",
    "\n",
    "\t\t\t\t\n",
    "\n",
    "|  SNBI Format |  1995 Format |  Comments                      |\n",
    "|:------------:|:------------:|:------------------------------:|\n",
    "| N (8,0)      |  6/N\t      | Yes\tDirect transition.  Trim leading zeroes.  Assign to H01 feature. |\n",
    "\n",
    "    29\tAverage Daily Traffic"
   ]
  },
  {
   "cell_type": "code",
   "execution_count": 66,
   "id": "0d806ed7",
   "metadata": {
    "pycharm": {
     "is_executing": true
    }
   },
   "outputs": [
    {
     "name": "stdout",
     "output_type": "stream",
     "text": [
      "Former NBI value: [22900.0]\n",
      "Updated value: [22900]\n",
      "# //TODO - Different table from Tims potentially needs brought in, check against this value\n",
      "\n"
     ]
    }
   ],
   "source": [
    "print(f\"Former NBI value: [{first_bridge_NBI['ADT_029'].iloc[0]}]\")\n",
    "print(f\"Updated value: [{first_bridge.invent_rte_adt}]\")\n",
    "\n",
    "print(f\"# //TODO - Different table from Tims potentially needs brought in, check against this value\\n\")"
   ]
  },
  {
   "cell_type": "markdown",
   "id": "519c1914",
   "metadata": {},
   "source": [
    "## B.H.10 - Annual Average Daily Truck Traffic\t\n",
    "\n",
    "\t\t\t\n",
    "\n",
    "|  SNBI Format |  1995 Format |  Comments                      |\n",
    "|:------------:|:------------:|:------------------------------:|\n",
    "| N (8,0)      |  2/N\t      | Yes\tMultiply Item 109 (percentage) by Item 29.  Assign to H01 feature.\t |\n",
    "\n",
    "    109\tAverage Daily Truck Traffic"
   ]
  },
  {
   "cell_type": "code",
   "execution_count": 67,
   "id": "ea95ef8c",
   "metadata": {
    "pycharm": {
     "is_executing": true
    }
   },
   "outputs": [
    {
     "name": "stdout",
     "output_type": "stream",
     "text": [
      "Former NBI value: [42.0]\n",
      "# //TODO - Different table from Tims needs brought in\n",
      "\n"
     ]
    }
   ],
   "source": [
    "print(f\"Former NBI value: [{first_bridge_NBI['PERCENT_ADT_TRUCK_109'].iloc[0]}]\")\n",
    "print(f\"# //TODO - Different table from Tims needs brought in\\n\")\n",
    "# list(first_bridge_NBI.keys())"
   ]
  },
  {
   "cell_type": "markdown",
   "id": "3d22ff3c",
   "metadata": {},
   "source": [
    "## B.H.11 - Year of Annual Average Daily Traffic\n",
    "\n",
    "|  SNBI Format |  1995 Format |  Comments                      |\n",
    "|:------------:|:------------:|:------------------------------:|\n",
    "| N (4,0)      |  4/N\t      | Yes\tDirect transition.  Assign to H01 feature. |\n",
    "\n",
    "    30\tYear of Average Daily Traffic"
   ]
  },
  {
   "cell_type": "code",
   "execution_count": 68,
   "id": "6ef6a98c",
   "metadata": {
    "pycharm": {
     "is_executing": true
    }
   },
   "outputs": [
    {
     "name": "stdout",
     "output_type": "stream",
     "text": [
      "Former NBI value: [2013.0]\n",
      "# //TODO - Different table from Tims needs brought in\n",
      "\n"
     ]
    }
   ],
   "source": [
    "print(f\"Former NBI value: [{first_bridge_NBI['YEAR_ADT_030'].iloc[0]}]\")\n",
    "print(f\"# //TODO - Different table from Tims needs brought in\\n\")\n",
    "# list(first_bridge_NBI.keys())"
   ]
  },
  {
   "cell_type": "markdown",
   "id": "c19ca4ed",
   "metadata": {},
   "source": [
    "## B.H.12 - Highway Maximum Usable Vertical Clearance\t\n",
    "\n",
    "|  SNBI Format |  1995 Format |  Comments                      |\n",
    "|:------------:|:------------:|:------------------------------:|\n",
    "| N (3,1)      |  4/N\t      | Yes\tConvert from metric to nearest tenth of a foot (round down).  Use 99.9 for values of 30 meters or greater.  Assign to H01 feature. |\n",
    "\n",
    "    10\tInventory Route, Minimum Vertical Clearance"
   ]
  },
  {
   "cell_type": "code",
   "execution_count": 69,
   "id": "5b04affc",
   "metadata": {
    "pycharm": {
     "is_executing": true
    }
   },
   "outputs": [
    {
     "name": "stdout",
     "output_type": "stream",
     "text": [
      "Former NBI value: [5.27]\n",
      "\n",
      "Converted  value: [17.2 foot]\n",
      "# //TODO - No modern value?\n",
      "\n"
     ]
    }
   ],
   "source": [
    "print(f\"Former NBI value: [{first_bridge_NBI['MIN_VERT_CLR_010'].iloc[0]}]\")\n",
    "\n",
    "# The second line is so convoluted to make sure it always rounds down\n",
    "clr_height = add_units_to_NBI(first_bridge_NBI['MIN_VERT_CLR_010'].iloc[0], 'meter')\n",
    "clr_height_in_ft = math.floor(clr_height.to('foot').magnitude * 10) / 10 * units.foot\n",
    "\n",
    "print(f'\\nConverted  value: [{clr_height_in_ft:.1f}]')\n",
    "print(f\"# //TODO - No modern value?\\n\")\n",
    "\n",
    "# list(first_bridge_NBI.keys())"
   ]
  },
  {
   "cell_type": "markdown",
   "id": "85c65f35",
   "metadata": {},
   "source": [
    "## B.H.13 - Highway Minimum Vertical Clearance\t\n",
    "\n",
    "|  SNBI Format |  1995 Format |  Comments                      |\n",
    "|:------------:|:------------:|:------------------------------:|\n",
    "| N (3,1)      | 4/N - 1/AN - 4/N | Yes\tConvert from metric to nearest tenth of a foot (round down).<br>Use 99.9 for values of 30 meters or greater.<br>Assign Item 53 value to H01 feature (carried).<br>Assign Item 54B value to H02 feature (below) when Item 54A = H.<br>Otherwise no value for highway features below the bridge. |\n",
    "\n",
    "    53/54A/54B\tMinimum Vertical Clearance Over Bridge Roadway / Reference Feature / Minimum Vertical Underclearance"
   ]
  },
  {
   "cell_type": "code",
   "execution_count": 70,
   "id": "e8518bff",
   "metadata": {
    "pycharm": {
     "is_executing": true
    }
   },
   "outputs": [
    {
     "name": "stdout",
     "output_type": "stream",
     "text": [
      "Former NBI value: [N]\n",
      "# //TODO - No modern value?\n",
      "\n",
      "Former NBI value: [5.18]\n",
      "Converted  value: [16.9 foot]\n",
      "Updated value: [17]\n"
     ]
    }
   ],
   "source": [
    "print(f\"Former NBI value: [{first_bridge_NBI['VERT_CLR_UND_REF_054A'].iloc[0]}]\")\n",
    "print(f\"# //TODO - No modern value?\\n\")\n",
    "\n",
    "print(f\"Former NBI value: [{first_bridge_NBI['VERT_CLR_UND_054B'].iloc[0]}]\")\n",
    "\n",
    "und_clr = add_units_to_NBI(first_bridge_NBI['VERT_CLR_UND_054B'].iloc[0], 'meter')\n",
    "und_clr_in_ft = math.floor(und_clr.to('foot').magnitude * 10) / 10 * units.foot\n",
    "\n",
    "print(f'Converted  value: [{und_clr_in_ft:.1f}]')\n",
    "print(f\"Updated value: [{first_bridge.minvrt_undclr_c}]\")"
   ]
  },
  {
   "cell_type": "markdown",
   "id": "9d24977c",
   "metadata": {},
   "source": [
    "## B.H.14 - Highway Minimum Horizontal Clearance, Left\t\n",
    "\n",
    "\t\t\t\n",
    "\n",
    "|  SNBI Format |  1995 Format |  Comments                      |\n",
    "|:------------:|:------------:|:------------------------------:|\n",
    "| N (3,1)      | 1/AN - 3/N   | Yes\tConvert from metric to nearest tenth of a foot (round down).  No value when Item 56 = 99.9 meters.  Otherwise use 99.9 when Item 56 = 30 meters or greater.   Assign Item 56 value to H02 feature (below) when Item 55A = H.  Otherwise no value for highway features below the bridge.\t |\n",
    "\n",
    "    55A/56\tReference Feature / Minimum Lateral Underclearance on Left"
   ]
  },
  {
   "cell_type": "code",
   "execution_count": 71,
   "id": "171d6641",
   "metadata": {
    "pycharm": {
     "is_executing": true
    }
   },
   "outputs": [
    {
     "name": "stdout",
     "output_type": "stream",
     "text": [
      "Former NBI value: [N]\n",
      "Former NBI value: [0.0]\n",
      "Updated value: [17]\n",
      "# //TODO - No modern value?\n",
      "\n"
     ]
    }
   ],
   "source": [
    "print(f\"Former NBI value: [{first_bridge_NBI['LAT_UND_REF_055A'].iloc[0]}]\")\n",
    "print(f\"Former NBI value: [{first_bridge_NBI['LEFT_LAT_UND_MT_056'].iloc[0]}]\")\n",
    "\n",
    "print(f\"Updated value: [{first_bridge.minvrt_undclr_c}]\")\n",
    "print(f\"# //TODO - No modern value?\\n\")"
   ]
  },
  {
   "cell_type": "markdown",
   "id": "43deb657",
   "metadata": {},
   "source": [
    "## B.H.15 - Highway Minimum Horizontal Clearance, Right\n",
    "\n",
    "|  SNBI Format |  1995 Format |  Comments                      |\n",
    "|:------------:|:------------:|:------------------------------:|\n",
    "| N (3,1)      |  1/AN - 3/N  | Yes\tConvert from metric to nearest tenth of a foot (round down).  Use 99.9 when Item 55B = 30 meters or greater.  Assign Item 55B value to H02 feature (below) when Item 55A = H.  Otherwise no value for highway features below the bridge. |\n",
    "\n",
    "    55A/55B\tReference Feature / Minimum Lateral Underclearance on Right"
   ]
  },
  {
   "cell_type": "code",
   "execution_count": 72,
   "id": "26d0e7b9",
   "metadata": {
    "pycharm": {
     "is_executing": true
    }
   },
   "outputs": [
    {
     "name": "stdout",
     "output_type": "stream",
     "text": [
      "Former NBI value: [N]\n",
      "# //TODO - No modern value?\n",
      "\n",
      "Former NBI value: [99.9]\n",
      "# //TODO - No modern value?\n",
      "\n"
     ]
    }
   ],
   "source": [
    "print(f\"Former NBI value: [{first_bridge_NBI['LAT_UND_REF_055A'].iloc[0]}]\")\n",
    "print(f\"# //TODO - No modern value?\\n\")\n",
    "\n",
    "print(f\"Former NBI value: [{first_bridge_NBI['LAT_UND_MT_055B'].iloc[0]}]\")\n",
    "print(f\"# //TODO - No modern value?\\n\")\n",
    "\n",
    "# list(first_bridge_NBI.keys())"
   ]
  },
  {
   "cell_type": "markdown",
   "id": "9f49dc43",
   "metadata": {},
   "source": [
    "## B.H.16 - Highway Maximum Usable Surface Width\t\n",
    "\n",
    "|  SNBI Format |  1995 Format |  Comments                      |\n",
    "|:------------:|:------------:|:------------------------------:|\n",
    "| N (3,1)      | 3/N\t      |  Yes Convert from metric to nearest tenth of a foot (round down).  Use 99.9 for values of 30 meters or greater.  Assign to H01 feature. |\n",
    "\n",
    "    47\tInventory Route, Total Horizontal Clearance"
   ]
  },
  {
   "cell_type": "code",
   "execution_count": 73,
   "id": "d6d753d7",
   "metadata": {
    "pycharm": {
     "is_executing": true
    }
   },
   "outputs": [
    {
     "name": "stdout",
     "output_type": "stream",
     "text": [
      "Former NBI value: [9.1]\n",
      "Converted  value: [29.8 foot]\n",
      "Updated value: [30]\n"
     ]
    }
   ],
   "source": [
    "print(f\"Former NBI value: [{first_bridge_NBI['HORR_CLR_MT_047'].iloc[0]}]\")\n",
    "\n",
    "tot_horz_clr = add_units_to_NBI(first_bridge_NBI['HORR_CLR_MT_047'].iloc[0], 'meter')\n",
    "tot_horz_clr_in_ft = math.floor(tot_horz_clr.to('foot').magnitude * 10) / 10 * units.foot\n",
    "\n",
    "print(f'Converted  value: [{tot_horz_clr_in_ft:.1f}]')\n",
    "print(f\"Updated value: [{first_bridge.min_horiz_clr_c}]\")"
   ]
  },
  {
   "cell_type": "markdown",
   "id": "7b8a0a69",
   "metadata": {},
   "source": [
    "## B.H.17 - Bypass Detour Length\n",
    "\n",
    "|  SNBI Format |  1995 Format |  Comments                      |\n",
    "|:------------:|:------------:|:------------------------------:|\n",
    "| N (3,0)      |  3/N\t      | Yes\t199 converts to 999.  Otherwise convert from metric to nearest mile.   Assign to H01 feature. |\n",
    "\n",
    "    19\tBypass, Detour Length"
   ]
  },
  {
   "cell_type": "code",
   "execution_count": 74,
   "id": "754032b2",
   "metadata": {
    "pycharm": {
     "is_executing": true
    }
   },
   "outputs": [
    {
     "name": "stdout",
     "output_type": "stream",
     "text": [
      "Former NBI value: [80.0]\n",
      "Converted  value: [50 mile]\n",
      "Updated value: [50]\n"
     ]
    }
   ],
   "source": [
    "print(f\"Former NBI value: [{first_bridge_NBI['DETOUR_KILOS_019'].iloc[0]}]\")\n",
    "\n",
    "bypass_length = add_units_to_NBI(first_bridge_NBI['DETOUR_KILOS_019'].iloc[0], 'kilometer')\n",
    "bypass_length_in_mi = bypass_length.to('miles')\n",
    " \n",
    "print(f'Converted  value: [{bypass_length_in_mi:.0f}]')\n",
    "print(f\"Updated value: [{first_bridge.bypass_len}]\")"
   ]
  },
  {
   "cell_type": "markdown",
   "id": "7f64dd1f",
   "metadata": {},
   "source": [
    "## B.H.18 - Crossing Bridge Number\n",
    "\n",
    "|  SNBI Format |  1995 Format |  Comments                      |\n",
    "|:------------:|:------------:|:------------------------------:|\n",
    "| AN (15)      |  NA \t      |  No\t                           |"
   ]
  },
  {
   "cell_type": "code",
   "execution_count": null,
   "id": "09c34c34",
   "metadata": {
    "pycharm": {
     "is_executing": true
    }
   },
   "outputs": [],
   "source": []
  },
  {
   "cell_type": "markdown",
   "id": "ea719aee",
   "metadata": {},
   "source": [
    "## B.RR.01 - Railroad Service \n",
    "\n",
    "|  SNBI Format |  1995 Format |  Comments                      |\n",
    "|:------------:|:------------:|:------------------------------:|\n",
    "| AN (2)       |  NA \t      |  No\t                           |"
   ]
  },
  {
   "cell_type": "code",
   "execution_count": null,
   "id": "b491746a",
   "metadata": {
    "pycharm": {
     "is_executing": true
    }
   },
   "outputs": [],
   "source": []
  },
  {
   "cell_type": "markdown",
   "id": "c577fdb3",
   "metadata": {},
   "source": [
    "## B.RR.02 - Railroad Minimum Vertical Clearance\n",
    "\n",
    "|  SNBI Format |  1995 Format |  Comments                      |\n",
    "|:------------:|:------------:|:------------------------------:|\n",
    "| N (3,1)      | 1/AN - 4/N   | Yes\t\"Convert from metric to nearest tenth of a foot (round down).  Use 99.9 for values of 30 meters or greater.  Use Item 54B value only when Item 54A = R.  Otherwise no value for railroad features below the bridge.<br><br>Assign value to R01 feature (below) when Item 42a ><4.<br>Assign value to R02 feature (below) when Item 42a =4.\"\t|\n",
    "\n",
    "    54A/54B\tReference Feature / Minimum Vertical Underclearance"
   ]
  },
  {
   "cell_type": "code",
   "execution_count": 75,
   "id": "6e0a1c0e",
   "metadata": {
    "pycharm": {
     "is_executing": true
    }
   },
   "outputs": [
    {
     "name": "stdout",
     "output_type": "stream",
     "text": [
      "Former NBI value: [N]\n",
      "# //TODO - No modern value?\n",
      "\n",
      "Former NBI value: [5.18]\n",
      "# //TODO - No modern value?\n",
      "\n"
     ]
    }
   ],
   "source": [
    "print(f\"Former NBI value: [{first_bridge_NBI['VERT_CLR_UND_REF_054A'].iloc[0]}]\")\n",
    "print(f\"# //TODO - No modern value?\\n\")\n",
    "\n",
    "print(f\"Former NBI value: [{first_bridge_NBI['VERT_CLR_UND_054B'].iloc[0]}]\")\n",
    "print(f\"# //TODO - No modern value?\\n\")\n",
    "\n",
    "# list(first_bridge_NBI.keys())"
   ]
  },
  {
   "cell_type": "markdown",
   "id": "25145095",
   "metadata": {},
   "source": [
    "## B.RR.03 - Railroad Minimum Horizontal Offest\t\n",
    "\n",
    "|  SNBI Format |  1995 Format |  Comments                      |\n",
    "|:------------:|:------------:|:------------------------------:|\n",
    "| 1/AN         |  3/N\t      | Yes, Convert from metric to nearest tenth of a foot (round down).  Use 99.9 when Item 55B = 30 meters or greater.    Use Item 55B value only when Item 55A = R.  Otherwise no value for railroad features below the bridge.<br><br>Assign value to R01 feature (below) when Item 42a ><4.<br>Assign value to R02 feature (below) when Item 42a =4. |\n",
    "\n",
    "    55A/55B\tReference Feature / Minimum Lateral Underclearance on Right"
   ]
  },
  {
   "cell_type": "code",
   "execution_count": 76,
   "id": "95eb5a90",
   "metadata": {
    "pycharm": {
     "is_executing": true
    }
   },
   "outputs": [
    {
     "name": "stdout",
     "output_type": "stream",
     "text": [
      "Former NBI value: [N]\n",
      "# //TODO - No modern value?\n",
      "\n",
      "Former NBI value: [5.18]\n",
      "# //TODO - No modern value?\n",
      "\n"
     ]
    }
   ],
   "source": [
    "print(f\"Former NBI value: [{first_bridge_NBI['VERT_CLR_UND_REF_054A'].iloc[0]}]\")\n",
    "print(f\"# //TODO - No modern value?\\n\")\n",
    "\n",
    "print(f\"Former NBI value: [{first_bridge_NBI['VERT_CLR_UND_054B'].iloc[0]}]\")\n",
    "print(f\"# //TODO - No modern value?\\n\")\n",
    "\n",
    "# list(first_bridge_NBI.keys())"
   ]
  },
  {
   "cell_type": "markdown",
   "id": "63f3e737",
   "metadata": {},
   "source": [
    "## B.N.01 - Navigable Waterway\t\n",
    "\n",
    "|  SNBI Format |  1995 Format |  Comments                      |\n",
    "|:------------:|:------------:|:------------------------------:|\n",
    "| AN (1)       | 1/AN\t      | Partial\tSee tab.  Assign value to W01 feature. |\n",
    "\n",
    "    38\tNavigation Control"
   ]
  },
  {
   "cell_type": "code",
   "execution_count": 77,
   "id": "2079b0e7",
   "metadata": {
    "pycharm": {
     "is_executing": true
    }
   },
   "outputs": [
    {
     "name": "stdout",
     "output_type": "stream",
     "text": [
      "Former NBI value: [1]\n",
      "Updated value: [1]\n"
     ]
    }
   ],
   "source": [
    "print(f\"Former NBI value: [{first_bridge_NBI['NAVIGATION_038'].iloc[0]}]\")\n",
    "print(f\"Updated value: [{first_bridge.nav_control_sw}]\")"
   ]
  },
  {
   "cell_type": "markdown",
   "id": "2b9fd21a",
   "metadata": {},
   "source": [
    "## B.N.02 - Navigation Minimum Vertical Clearance\t\n",
    "\n",
    "\t\t\t\n",
    "|  SNBI Format |  1995 Format |  Comments                      |\n",
    "|:------------:|:------------:|:------------------------------:|\n",
    "| N (4,1)      | 4/N - 2/N - 4/N | Yes, See tab.  Convert from metric to nearest tenth of a foot (round down).  Assign value to W01 feature only if Item 38 = 1.  Otherwise no value. |\n",
    "\n",
    "    39/43B/116\tNavigation Vertical Clearance / Type of Design/Construction / Minimum Navigation Vertical Clearance Vertical Lift Bridge"
   ]
  },
  {
   "cell_type": "code",
   "execution_count": 78,
   "id": "d63db34d",
   "metadata": {
    "pycharm": {
     "is_executing": true
    }
   },
   "outputs": [
    {
     "name": "stdout",
     "output_type": "stream",
     "text": [
      "Former NBI value: [21.0]\n",
      "Converted  value: [68.8 foot]\n",
      "Updated value: [69]\n",
      "\n",
      "Former NBI value: [10.0]\n",
      "Updated value: [10]\n",
      "\n",
      "Former NBI value: [0.0]\n",
      "Updated value: [0]\n",
      "\n"
     ]
    }
   ],
   "source": [
    "print(f\"Former NBI value: [{first_bridge_NBI['NAV_VERT_CLR_MT_039'].iloc[0]}]\")\n",
    "\n",
    "nav_vert_clr = add_units_to_NBI(first_bridge_NBI['NAV_VERT_CLR_MT_039'].iloc[0], 'meter')\n",
    "nav_vert_clr_in_ft = math.floor(nav_vert_clr.to('foot').magnitude * 10) / 10 * units.foot\n",
    "\n",
    "print(f'Converted  value: [{nav_vert_clr_in_ft:.1f}]')\n",
    "print(f\"Updated value: [{first_bridge.nav_vrt_clr}]\\n\")\n",
    "\n",
    "print(f\"Former NBI value: [{first_bridge_NBI['STRUCTURE_TYPE_043B'].iloc[0]}]\")\n",
    "print(f\"Updated value: [{first_bridge.main_str_type_cd}]\\n\")\n",
    "\n",
    "print(f\"Former NBI value: [{first_bridge_NBI['MIN_NAV_CLR_MT_116'].iloc[0]}]\")\n",
    "print(f\"Updated value: [{first_bridge.min_nav_vrt_clr}]\\n\")"
   ]
  },
  {
   "cell_type": "markdown",
   "id": "f308f394",
   "metadata": {},
   "source": [
    "## B.N.03 - Movable Bridge Maximum Navigation Vertical Clearance\n",
    "\n",
    "|  SNBI Format |  1995 Format |  Comments                      |\n",
    "|:------------:|:------------:|:------------------------------:|\n",
    "| N (4,1)      | 4/N - 2/N    | Yes\tConvert Item 39 from metric to nearest tenth of a foot (round down).  Assign value to W01 feature only if Item 43B = 15 and Item 38 = 1.  Otherwise no value. |\n",
    "\n",
    "    39/43B\tNavigation Vertical Clearance / Type of Design/Construction"
   ]
  },
  {
   "cell_type": "code",
   "execution_count": 79,
   "id": "577d4615",
   "metadata": {
    "pycharm": {
     "is_executing": true
    }
   },
   "outputs": [
    {
     "name": "stdout",
     "output_type": "stream",
     "text": [
      "Former NBI value: [21.0]\n",
      "Converted  value: [68.8 foot]\n",
      "Updated value: [69]\n",
      "\n",
      "Former NBI value: [10.0]\n",
      "Updated value: [10]\n"
     ]
    }
   ],
   "source": [
    "print(f\"Former NBI value: [{first_bridge_NBI['NAV_VERT_CLR_MT_039'].iloc[0]}]\")\n",
    "\n",
    "mov_max_vert_clr = add_units_to_NBI(first_bridge_NBI['NAV_VERT_CLR_MT_039'].iloc[0], 'meter')\n",
    "mov_max_vert_clr_in_ft = math.floor(mov_max_vert_clr.to('foot').magnitude * 10) / 10 * units.foot\n",
    "\n",
    "print(f'Converted  value: [{mov_max_vert_clr_in_ft:.1f}]')\n",
    "print(f\"Updated value: [{first_bridge.nav_vrt_clr}]\\n\")\n",
    "\n",
    "print(f\"Former NBI value: [{first_bridge_NBI['STRUCTURE_TYPE_043B'].iloc[0]}]\")\n",
    "print(f\"Updated value: [{first_bridge.main_str_type_cd}]\")"
   ]
  },
  {
   "cell_type": "markdown",
   "id": "0ab8b178",
   "metadata": {},
   "source": [
    "## B.N.04 - Navigation Channel Width\n",
    "\n",
    "|  SNBI Format |  1995 Format |  Comments                      |\n",
    "|:------------:|:------------:|:------------------------------:|\n",
    "| N (5,1)      |  5/N\t      | Yes\tConvert from metric to nearest tenth of a foot (round down).  Assign value to W01 feature only if Item 38 = 1.  Otherwise no value. |\n",
    "\n",
    "    40\tNavigation Horizontal Clearance"
   ]
  },
  {
   "cell_type": "code",
   "execution_count": 80,
   "id": "8c04a827",
   "metadata": {
    "pycharm": {
     "is_executing": true
    }
   },
   "outputs": [
    {
     "name": "stdout",
     "output_type": "stream",
     "text": [
      "Former NBI value: [265.2]\n",
      "Converted  value: [870.0 foot]\n",
      "Updated value: [870]\n"
     ]
    }
   ],
   "source": [
    "print(f\"Former NBI value: [{first_bridge_NBI['NAV_HORR_CLR_MT_040'].iloc[0]}]\")\n",
    "\n",
    "nav_horz_clr = add_units_to_NBI(first_bridge_NBI['NAV_HORR_CLR_MT_040'].iloc[0], 'meter')\n",
    "nav_horz_clr_in_ft = math.floor(nav_horz_clr.to('foot').magnitude * 10) / 10 * units.foot\n",
    "\n",
    "print(f'Converted  value: [{nav_horz_clr_in_ft:.1f}]')\n",
    "print(f\"Updated value: [{first_bridge.nav_horiz_clr}]\")"
   ]
  },
  {
   "cell_type": "markdown",
   "id": "59c0b85e",
   "metadata": {},
   "source": [
    "## B.N.05 - Navigation Channel Minimum Horizontal Clearance\n",
    "\n",
    "|  SNBI Format |  1995 Format |  Comments                      |\n",
    "|:------------:|:------------:|:------------------------------:|\n",
    "| N (5,1)       |  NA \t      |  No\t                           |"
   ]
  },
  {
   "cell_type": "code",
   "execution_count": null,
   "id": "4c89cddc",
   "metadata": {
    "pycharm": {
     "is_executing": true
    }
   },
   "outputs": [],
   "source": []
  },
  {
   "cell_type": "markdown",
   "id": "43124643",
   "metadata": {},
   "source": [
    "## B.N.06 - Substructure Navigation Protection\n",
    "\n",
    "|  SNBI Format |  1995 Format |  Comments                      |\n",
    "|:------------:|:------------:|:------------------------------:|\n",
    "| AN (1)       |  1/N\t      | Partial\tSee tab.  Assign value to W01 feature only if Item 38 = 1.  Otherwise no value.\tContains temporary codes to be phased out. |\n",
    "\n",
    "    111\tPier or Abutment Protection (for Navigation)"
   ]
  },
  {
   "cell_type": "code",
   "execution_count": 81,
   "id": "c49dcab1",
   "metadata": {
    "pycharm": {
     "is_executing": true
    }
   },
   "outputs": [
    {
     "name": "stdout",
     "output_type": "stream",
     "text": [
      "Former NBI value: [1.0]\n",
      "Updated value: [1]\n"
     ]
    }
   ],
   "source": [
    "print(f\"Former NBI value: [{first_bridge_NBI['PIER_PROTECTION_111'].iloc[0]}]\")\n",
    "print(f\"Updated value: [{first_bridge.subs_fenders}]\")"
   ]
  },
  {
   "cell_type": "markdown",
   "id": "0b36e983",
   "metadata": {},
   "source": [
    "## B.LR.01 - Design Load\n",
    "\n",
    "|  SNBI Format |  1995 Format |  Comments                      |\n",
    "|:------------:|:------------:|:------------------------------:|\n",
    "| AN (8)       |  1/N \t      | Yes\tSee tab.                   |\n",
    "\n",
    "    31\tDesign Load"
   ]
  },
  {
   "cell_type": "code",
   "execution_count": 82,
   "id": "bd59a6b0",
   "metadata": {
    "pycharm": {
     "is_executing": true
    }
   },
   "outputs": [
    {
     "name": "stdout",
     "output_type": "stream",
     "text": [
      "Former NBI value: [5]\n",
      "Updated value: [5]\n"
     ]
    }
   ],
   "source": [
    "print(f\"Former NBI value: [{first_bridge_NBI['DESIGN_LOAD_031'].iloc[0]}]\")\n",
    "print(f\"Updated value: [{first_bridge.design_load_cd}]\")"
   ]
  },
  {
   "cell_type": "markdown",
   "id": "99f7d974",
   "metadata": {},
   "source": [
    "## B.LR.02 - Design Method\t\n",
    "\n",
    "|  SNBI Format |  1995 Format |  Comments                      |\n",
    "|:------------:|:------------:|:------------------------------:|\n",
    "| AN (4)       |  NA \t      |  No\t                           |"
   ]
  },
  {
   "cell_type": "code",
   "execution_count": null,
   "id": "8808a517",
   "metadata": {
    "pycharm": {
     "is_executing": true
    }
   },
   "outputs": [],
   "source": []
  },
  {
   "cell_type": "markdown",
   "id": "c29f1a63",
   "metadata": {},
   "source": [
    "## B.LR.03 - Load Rating Date\n",
    "\n",
    "|  SNBI Format |  1995 Format |  Comments                      |\n",
    "|:------------:|:------------:|:------------------------------:|\n",
    "| YYYYMMDD     |  NA \t      |  No\t                           |"
   ]
  },
  {
   "cell_type": "code",
   "execution_count": null,
   "id": "826df8ef",
   "metadata": {
    "pycharm": {
     "is_executing": true
    }
   },
   "outputs": [],
   "source": []
  },
  {
   "cell_type": "markdown",
   "id": "c8792fdf",
   "metadata": {},
   "source": [
    "## B.LR.04 - Load Rating Method\t\n",
    "\n",
    "|  SNBI Format |  1995 Format |  Comments                      |\n",
    "|:------------:|:------------:|:------------------------------:|\n",
    "| AN (4)       | 1/N - 1/N    | Yes See tab. Using OR method and assuming IR method is the same. |\n",
    "\n",
    "    63\tMethod Used To Determine Operating Rating"
   ]
  },
  {
   "cell_type": "code",
   "execution_count": 83,
   "id": "74ab5542",
   "metadata": {
    "pycharm": {
     "is_executing": true
    }
   },
   "outputs": [
    {
     "name": "stdout",
     "output_type": "stream",
     "text": [
      "Former NBI value: [5]\n",
      "# //TODO - No modern value?\n",
      "\n"
     ]
    }
   ],
   "source": [
    "print(f\"Former NBI value: [{first_bridge_NBI['OPR_RATING_METH_063'].iloc[0]}]\")\n",
    "print(f\"# //TODO - No modern value?\\n\")\n",
    "\n",
    "# list(first_bridge_NBI.keys()) "
   ]
  },
  {
   "cell_type": "markdown",
   "id": "41be7a01",
   "metadata": {},
   "source": [
    "## B.LR.05 - Inventory Load Rating Factor\t\n",
    "\n",
    "|  SNBI Format |  1995 Format |  Comments                      |\n",
    "|:------------:|:------------:|:------------------------------:|\n",
    "| N (4,2)      |  3/N\t      |  Yes\t\"If Item 65 = 6, 7, 8, D, E, F, do the following:<br>For submittal file, direct transition.<br>For transition of legacy data, divide by 32.4.<br><br>If Item 65 has a value other than 6, 7, 8, D, E, or F, divide by 32.67.\"https://www.fhwa.dot.gov/bridge/032204.cfm |\n",
    "\n",
    "    66\tInventory Rating"
   ]
  },
  {
   "cell_type": "code",
   "execution_count": 84,
   "id": "11e0bc85",
   "metadata": {
    "pycharm": {
     "is_executing": true
    }
   },
   "outputs": [
    {
     "name": "stdout",
     "output_type": "stream",
     "text": [
      "Former NBI value: [30.8]\n",
      "Updated value: [9999]\n"
     ]
    }
   ],
   "source": [
    "print(f\"Former NBI value: [{first_bridge_NBI['INVENTORY_RATING_066'].iloc[0]}]\") # //TODO - Define function to decode those instructions\n",
    "\n",
    "print(f\"Updated value: [{first_bridge.rat_inv_load_fact}]\")"
   ]
  },
  {
   "cell_type": "markdown",
   "id": "2d00a83a",
   "metadata": {},
   "source": [
    "## B.LR.06 - Operating Load Rating Factor\n",
    "\n",
    "\t \t\t \n",
    "\n",
    "|  SNBI Format |  1995 Format |  Comments                      |\n",
    "|:------------:|:------------:|:------------------------------:|\n",
    "| N (4,2)      |  3/N      | Yes, \"If Item 63 = 6, 7, 8, D, E, F, do the following:<br>For submittal file, direct transition.<br>For transition of legacy data, divide by 32.4.<br><br>If Item 63 has a value other than 6, 7, 8, D, E, or F,  divide by 32.67.\"\thttps://www.fhwa.dot.gov/bridge/032204.cfm |\n",
    "\n",
    "    64\tOperating Rating"
   ]
  },
  {
   "cell_type": "code",
   "execution_count": 85,
   "id": "d2f71bb1",
   "metadata": {
    "pycharm": {
     "is_executing": true
    }
   },
   "outputs": [
    {
     "name": "stdout",
     "output_type": "stream",
     "text": [
      "Former NBI value: [51.7]\n",
      "Updated value: [9999]\n"
     ]
    }
   ],
   "source": [
    "print(f\"Former NBI value: [{first_bridge_NBI['OPERATING_RATING_064'].iloc[0]}]\") # //TODO - Define function to decode those instructions\n",
    "\n",
    "print(f\"Updated value: [{first_bridge.rat_opr_load_fact}]\")"
   ]
  },
  {
   "cell_type": "markdown",
   "id": "ba3bd500",
   "metadata": {},
   "source": [
    "## B.LR.07 - Controlling Legal Load Rating Factor\t\n",
    "\n",
    "|  SNBI Format |  1995 Format |  Comments                      |\n",
    "|:------------:|:------------:|:------------------------------:|\n",
    "| N (4,2)      |  NA \t      |  No\t                           |"
   ]
  },
  {
   "cell_type": "code",
   "execution_count": null,
   "id": "6650aeae",
   "metadata": {
    "pycharm": {
     "is_executing": true
    }
   },
   "outputs": [],
   "source": []
  },
  {
   "cell_type": "markdown",
   "id": "62ebeea1",
   "metadata": {},
   "source": [
    "## B.LR.08 - Routine Permit Loads\t\n",
    "\n",
    "|  SNBI Format |  1995 Format |  Comments                      |\n",
    "|:------------:|:------------:|:------------------------------:|\n",
    "| AN (1)       |  NA \t      |  No\t                           |"
   ]
  },
  {
   "cell_type": "code",
   "execution_count": null,
   "id": "fbcf963f",
   "metadata": {
    "pycharm": {
     "is_executing": true
    }
   },
   "outputs": [],
   "source": []
  },
  {
   "cell_type": "markdown",
   "id": "ca1e0460",
   "metadata": {},
   "source": [
    "## B.PS.01 - Load Posting Status\n",
    "\n",
    "|  SNBI Format |  1995 Format |  Comments                      |\n",
    "|:------------:|:------------:|:------------------------------:|\n",
    "| AN (2)       |  1/AN\t      | Partial\tSee tab. Contains temporary codes to be phased out. |\n",
    "\n",
    "    41\tStructure Open, Posted, or Closed to Traffic"
   ]
  },
  {
   "cell_type": "code",
   "execution_count": 86,
   "id": "683c9d17",
   "metadata": {
    "pycharm": {
     "is_executing": true
    }
   },
   "outputs": [
    {
     "name": "stdout",
     "output_type": "stream",
     "text": [
      "Former NBI value: [A]\n",
      "Updated value: [A]\n"
     ]
    }
   ],
   "source": [
    "print(f\"Former NBI value: [{first_bridge_NBI['OPEN_CLOSED_POSTED_041'].iloc[0]}]\")\n",
    "\n",
    "print(f\"Updated value: [{first_bridge.gen_opr_status}]\")"
   ]
  },
  {
   "cell_type": "markdown",
   "id": "2b3efd93",
   "metadata": {},
   "source": [
    "## B.PS.02 - Posting Status Change Date\n",
    "\n",
    "|  SNBI Format |  1995 Format |  Comments                      |\n",
    "|:------------:|:------------:|:------------------------------:|\n",
    "| YYYYMMDD     |  NA \t      |  No\t                           |"
   ]
  },
  {
   "cell_type": "code",
   "execution_count": null,
   "id": "147b7ebd",
   "metadata": {
    "pycharm": {
     "is_executing": true
    }
   },
   "outputs": [],
   "source": []
  },
  {
   "cell_type": "markdown",
   "id": "409f9bcb",
   "metadata": {},
   "source": [
    "## B.EP.01 - Legal Load Configuration\n",
    "\n",
    "|  SNBI Format |  1995 Format |  Comments                      |\n",
    "|:------------:|:------------:|:------------------------------:|\n",
    "| AN (3)       |  NA \t      |  No\t                           |"
   ]
  },
  {
   "cell_type": "code",
   "execution_count": null,
   "id": "5c270c41",
   "metadata": {
    "pycharm": {
     "is_executing": true
    }
   },
   "outputs": [],
   "source": []
  },
  {
   "cell_type": "markdown",
   "id": "c82edfa4",
   "metadata": {},
   "source": [
    "## B.EP.02 - Legal Load Rating Factor\t\n",
    "\n",
    "|  SNBI Format |  1995 Format |  Comments                      |\n",
    "|:------------:|:------------:|:------------------------------:|\n",
    "| N (4,2)      |  NA \t      |  No\t                           |"
   ]
  },
  {
   "cell_type": "code",
   "execution_count": null,
   "id": "86188d4f",
   "metadata": {
    "pycharm": {
     "is_executing": true
    }
   },
   "outputs": [],
   "source": []
  },
  {
   "cell_type": "markdown",
   "id": "f8f25125",
   "metadata": {},
   "source": [
    "## B.EP.03 - Posting Type\n",
    "\n",
    "|  SNBI Format |  1995 Format |  Comments                      |\n",
    "|:------------:|:------------:|:------------------------------:|\n",
    "| AN (1)       |  NA \t      |  No\t                           |"
   ]
  },
  {
   "cell_type": "code",
   "execution_count": null,
   "id": "5d60f37c",
   "metadata": {
    "pycharm": {
     "is_executing": true
    }
   },
   "outputs": [],
   "source": []
  },
  {
   "cell_type": "markdown",
   "id": "6bfe7d5b",
   "metadata": {},
   "source": [
    "## B.EP.04 - Posting Value \n",
    "\n",
    "|  SNBI Format |  1995 Format |  Comments                      |\n",
    "|:------------:|:------------:|:------------------------------:|\n",
    "| N (2,0)      |  NA \t      |  No\t                           |"
   ]
  },
  {
   "cell_type": "code",
   "execution_count": null,
   "id": "09a11b9e",
   "metadata": {
    "pycharm": {
     "is_executing": true
    }
   },
   "outputs": [],
   "source": []
  },
  {
   "cell_type": "markdown",
   "id": "76120487",
   "metadata": {},
   "source": [
    "## B.IR.01 - NSTM Inspection Required\n",
    "\n",
    "|  SNBI Format |  1995 Format |  Comments                      |\n",
    "|:------------:|:------------:|:------------------------------:|\n",
    "| AN (1)       |  3/AN\t      | Yes\tDirect transition.         |\n",
    "\n",
    "    92A\tCritical Feature Inspection- Fracture Critical Details"
   ]
  },
  {
   "cell_type": "code",
   "execution_count": 87,
   "id": "27456c95",
   "metadata": {
    "pycharm": {
     "is_executing": true
    }
   },
   "outputs": [
    {
     "name": "stdout",
     "output_type": "stream",
     "text": [
      "Former NBI value: [Y12]\n",
      "Updated value: [Y]\n",
      "Updated value: [12]\n"
     ]
    }
   ],
   "source": [
    "print(f\"Former NBI value: [{first_bridge_NBI['FRACTURE_092A'].iloc[0]}]\")\n",
    "\n",
    "print(f\"Updated value: [{first_bridge.frac_crit_insp_sw}]\") \n",
    "print(f\"Updated value: [{first_bridge.fraccrit_insp_freq}]\")"
   ]
  },
  {
   "cell_type": "markdown",
   "id": "2e7d3d0a",
   "metadata": {},
   "source": [
    "## B.IR.02 - Fatigue Details\n",
    "\n",
    "|  SNBI Format |  1995 Format |  Comments                      |\n",
    "|:------------:|:------------:|:------------------------------:|\n",
    "| AN (1)       |  NA \t      |  No\t                           |"
   ]
  },
  {
   "cell_type": "code",
   "execution_count": null,
   "id": "714a4776",
   "metadata": {
    "pycharm": {
     "is_executing": true
    }
   },
   "outputs": [],
   "source": []
  },
  {
   "cell_type": "markdown",
   "id": "f0f3db39",
   "metadata": {},
   "source": [
    "## B.IR.03 - Underwater Inspection Required\t\n",
    "\n",
    "|  SNBI Format |  1995 Format |  Comments                      |\n",
    "|:------------:|:------------:|:------------------------------:|\n",
    "| AN (1)       |  3/AN        | Yes\tDirect transition.\t       |\n",
    "\n",
    "    92B\tCritical Feature Inspection - Underwater Inspection"
   ]
  },
  {
   "cell_type": "code",
   "execution_count": 88,
   "id": "b8e554e5",
   "metadata": {
    "pycharm": {
     "is_executing": true
    }
   },
   "outputs": [
    {
     "name": "stdout",
     "output_type": "stream",
     "text": [
      "Former NBI value: [Y60]\n",
      "Updated value: [Y]\n",
      "Updated value: [60]\n"
     ]
    }
   ],
   "source": [
    "print(f\"Former NBI value: [{first_bridge_NBI['UNDWATER_LOOK_SEE_092B'].iloc[0]}]\")\n",
    "\n",
    "print(f\"Updated value: [{first_bridge.dive_insp_sw}]\") \n",
    "print(f\"Updated value: [{first_bridge.dive_insp_freq}]\")"
   ]
  },
  {
   "cell_type": "markdown",
   "id": "8fe6f3cd",
   "metadata": {},
   "source": [
    "## B.IR.04 - Complex Feature\n",
    "\n",
    "|  SNBI Format |  1995 Format |  Comments                      |\n",
    "|:------------:|:------------:|:------------------------------:|\n",
    "| AN (1)       |  NA \t      |  No\t                           |"
   ]
  },
  {
   "cell_type": "code",
   "execution_count": null,
   "id": "c47a5971",
   "metadata": {
    "pycharm": {
     "is_executing": true
    }
   },
   "outputs": [],
   "source": []
  },
  {
   "cell_type": "markdown",
   "id": "1a0cad20",
   "metadata": {},
   "source": [
    "## B.IE.01 - Inspection Type\n",
    "\n",
    "|  SNBI Format |  1995 Format |  Comments                      |\n",
    "|:------------:|:------------:|:------------------------------:|\n",
    "| AN (1)       | 4/N - 3/AN - 4/AN | Partial See tab           |\n",
    "\n",
    "    90/92/93\tInspection Date / Critical Feature Inspection / Critical Feature Inspection Date"
   ]
  },
  {
   "cell_type": "code",
   "execution_count": 89,
   "id": "0d9b23c6",
   "metadata": {
    "pycharm": {
     "is_executing": true
    }
   },
   "outputs": [
    {
     "name": "stdout",
     "output_type": "stream",
     "text": [
      "Former NBI value: [620.0]\n",
      "Updated value: [2020-06-09 00:00:00]\n",
      "\n",
      "Former NBI value: [Y12]\n",
      "Updated value: [Y]\n",
      "Updated value: [12]\n",
      "Former NBI value: [620.0]\n",
      "Updated value: [2021-06-24 00:00:00]\n",
      "\n",
      "Former NBI value: [Y60]\n",
      "Updated value: [Y]\n",
      "Updated value: [60]\n",
      "Former NBI value: [819.0]\n",
      "Updated value: [2019-08-01 00:00:00]\n",
      "\n",
      "Former NBI value: [Y12]\n",
      "Updated value: [Y]\n",
      "Updated value: [12]\n",
      "Former NBI value: [620.0]\n",
      "Updated value: [2021-06-24 00:00:00]\n",
      "\n",
      "Updated value: [N]\n"
     ]
    }
   ],
   "source": [
    "print(f\"Former NBI value: [{first_bridge_NBI['DATE_OF_INSPECT_090'].iloc[0]}]\") # Coding - MMYY\n",
    "print(f\"Updated value: [{str(pd.to_datetime(first_bridge.insp_dt, utc=False, unit='ms'))}]\\n\")\n",
    "\n",
    "print(f\"Former NBI value: [{first_bridge_NBI['FRACTURE_092A'].iloc[0]}]\")\n",
    "print(f\"Updated value: [{first_bridge.frac_crit_insp_sw}]\")\n",
    "print(f\"Updated value: [{first_bridge.fraccrit_insp_freq}]\")\n",
    "print(f\"Former NBI value: [{first_bridge_NBI['FRACTURE_LAST_DATE_093A'].iloc[0]}]\") # Coding - MMYY\n",
    "print(f\"Updated value: [{str(pd.to_datetime(first_bridge.frac_crit_insp_dt, utc=False, unit='ms'))}]\\n\")\n",
    "\n",
    "print(f\"Former NBI value: [{first_bridge_NBI['UNDWATER_LOOK_SEE_092B'].iloc[0]}]\")\n",
    "print(f\"Updated value: [{first_bridge.dive_insp_sw}]\") \n",
    "print(f\"Updated value: [{first_bridge.dive_insp_freq}]\")\n",
    "print(f\"Former NBI value: [{first_bridge_NBI['UNDWATER_LAST_DATE_093B'].iloc[0]}]\") # Coding - MMYY\n",
    "print(f\"Updated value: [{str(pd.to_datetime(first_bridge.dive_insp_dt, utc=False, unit='ms'))}]\\n\")\n",
    "\n",
    "\n",
    "print(f\"Former NBI value: [{first_bridge_NBI['SPEC_INSPECT_092C'].iloc[0]}]\")\n",
    "print(f\"Updated value: [{first_bridge.spcl_insp_sw}]\") \n",
    "print(f\"Updated value: [{first_bridge.spcl_insp_freq}]\")\n",
    "print(f\"Former NBI value: [{first_bridge_NBI['SPEC_LAST_DATE_093C'].iloc[0]}]\") # Coding - MMYY\n",
    "print(f\"Updated value: [{str(pd.to_datetime(first_bridge.spcl_insp_dt, utc=False, unit='ms'))}]\\n\")\n",
    "\n",
    "\n",
    "print(f\"Updated value: [{first_bridge.snooper_insp_sw}]\")"
   ]
  },
  {
   "cell_type": "markdown",
   "id": "ea156d38",
   "metadata": {},
   "source": [
    "### Multiple ways to convert JS timestamps to time string"
   ]
  },
  {
   "cell_type": "code",
   "execution_count": 90,
   "id": "8c3a4c3e",
   "metadata": {
    "pycharm": {
     "is_executing": true
    }
   },
   "outputs": [
    {
     "data": {
      "text/plain": [
       "'2020-06-08'"
      ]
     },
     "execution_count": 90,
     "metadata": {},
     "output_type": "execute_result"
    }
   ],
   "source": [
    "insp_date = datetime.fromtimestamp(first_bridge.insp_dt / 1e3)\n",
    "insp_date.strftime('%Y-%m-%d')"
   ]
  },
  {
   "cell_type": "code",
   "execution_count": 91,
   "id": "a4e2f442",
   "metadata": {
    "pycharm": {
     "is_executing": true
    }
   },
   "outputs": [
    {
     "data": {
      "text/plain": [
       "'2020-06-09 00:00:00'"
      ]
     },
     "execution_count": 91,
     "metadata": {},
     "output_type": "execute_result"
    }
   ],
   "source": [
    "# This ended up matching the correct value\n",
    "str(pd.to_datetime(first_bridge.insp_dt, utc=False, unit='ms'))"
   ]
  },
  {
   "cell_type": "code",
   "execution_count": 92,
   "id": "ed19f5ec",
   "metadata": {
    "pycharm": {
     "is_executing": true
    }
   },
   "outputs": [
    {
     "data": {
      "text/plain": [
       "1591660800000"
      ]
     },
     "execution_count": 92,
     "metadata": {},
     "output_type": "execute_result"
    }
   ],
   "source": [
    "first_bridge.insp_dt # Shows as 03/02/2021 12:00:00 AM in TIMs"
   ]
  },
  {
   "cell_type": "markdown",
   "id": "fbb250d2",
   "metadata": {},
   "source": [
    "## B.IE.02 - Inspection Begin Date\n",
    "\n",
    "|  SNBI Format |  1995 Format |  Comments                      |\n",
    "|:------------:|:------------:|:------------------------------:|\n",
    "| YYYYMMDD     | 4/N - 4/AN   | Partial\tSee tab.               |\n",
    "\n",
    "    90/93\tInspection Date / Critical Feature Inspection Date"
   ]
  },
  {
   "cell_type": "code",
   "execution_count": 93,
   "id": "0b10896a",
   "metadata": {
    "pycharm": {
     "is_executing": true
    }
   },
   "outputs": [
    {
     "name": "stdout",
     "output_type": "stream",
     "text": [
      "Former NBI value: [620.0]\n",
      "Updated value: [2020-06-09 00:00:00]\n",
      "\n",
      "Former NBI value: [620.0]\n",
      "Updated value: [2021-06-24 00:00:00]\n",
      "\n",
      "Former NBI value: [819.0]\n",
      "Updated value: [2019-08-01 00:00:00]\n",
      "\n",
      "Former NBI value: [620.0]\n",
      "\n",
      "Updated value: [2021-06-24 00:00:00]\n"
     ]
    }
   ],
   "source": [
    "print(f\"Former NBI value: [{first_bridge_NBI['DATE_OF_INSPECT_090'].iloc[0]}]\")\n",
    "print(f\"Updated value: [{str(pd.to_datetime(first_bridge.insp_dt, utc=False, unit='ms'))}]\\n\")\n",
    "\n",
    "\n",
    "print(f\"Former NBI value: [{first_bridge_NBI['FRACTURE_LAST_DATE_093A'].iloc[0]}]\")\n",
    "print(f\"Updated value: [{str(pd.to_datetime(first_bridge.frac_crit_insp_dt, utc=False, unit='ms'))}]\\n\")\n",
    "\n",
    "print(f\"Former NBI value: [{first_bridge_NBI['UNDWATER_LAST_DATE_093B'].iloc[0]}]\")\n",
    "print(f\"Updated value: [{str(pd.to_datetime(first_bridge.dive_insp_dt, utc=False, unit='ms'))}]\\n\")\n",
    "\n",
    "print(f\"Former NBI value: [{first_bridge_NBI['SPEC_LAST_DATE_093C'].iloc[0]}]\\n\")\n",
    "print(f\"Updated value: [{str(pd.to_datetime(first_bridge.spcl_insp_dt, utc=False, unit='ms'))}]\")"
   ]
  },
  {
   "cell_type": "markdown",
   "id": "8b065075",
   "metadata": {},
   "source": [
    "## B.IE.03 - Inspection Completion Date\n",
    "\n",
    "|  SNBI Format |  1995 Format |  Comments                      |\n",
    "|:------------:|:------------:|:------------------------------:|\n",
    "| YYYYMMDD     |  NA \t      |  No\t                           |"
   ]
  },
  {
   "cell_type": "code",
   "execution_count": null,
   "id": "97609664",
   "metadata": {
    "pycharm": {
     "is_executing": true
    }
   },
   "outputs": [],
   "source": []
  },
  {
   "cell_type": "markdown",
   "id": "486afd47",
   "metadata": {},
   "source": [
    "## B.IE.04 - Nationally Certified Bridge Inspector\t\n",
    "\n",
    "|  SNBI Format |  1995 Format |  Comments                      |\n",
    "|:------------:|:------------:|:------------------------------:|\n",
    "| AN (15)      |  NA \t      |  No\t                           |"
   ]
  },
  {
   "cell_type": "code",
   "execution_count": null,
   "id": "714469e8",
   "metadata": {
    "pycharm": {
     "is_executing": true
    }
   },
   "outputs": [],
   "source": []
  },
  {
   "cell_type": "markdown",
   "id": "b7c92ec2",
   "metadata": {},
   "source": [
    "## B.IE.05 - Inspection Interval\t\n",
    "\n",
    "\t\t\t\t\n",
    "\n",
    "|  SNBI Format |  1995 Format |  Comments                      |\n",
    "|:------------:|:------------:|:------------------------------:|\n",
    "| N (2,0)      | 2/N - 3/AN   | Partial\tSee tab.               |\n",
    "\n",
    "    91/92\tDesignated Inspection Frequency / Critical Feature Inspection"
   ]
  },
  {
   "cell_type": "code",
   "execution_count": 94,
   "id": "3134149c",
   "metadata": {
    "pycharm": {
     "is_executing": true
    }
   },
   "outputs": [
    {
     "name": "stdout",
     "output_type": "stream",
     "text": [
      "Former NBI value: [24.0]\n",
      "Updated value: [24]\n",
      "\n",
      "Former NBI value: [Y12]\n",
      "Updated value: [Y]\n",
      "Updated value: [12]\n",
      "\n",
      "Former NBI value: [Y60]\n",
      "Updated value: [Y]\n",
      "Updated value: [60]\n",
      "\n",
      "Former NBI value: [Y12]\n",
      "Updated value: [Y]\n",
      "Updated value: [12]\n"
     ]
    }
   ],
   "source": [
    "print(f\"Former NBI value: [{first_bridge_NBI['INSPECT_FREQ_MONTHS_091'].iloc[0]}]\")\n",
    "print(f\"Updated value: [{first_bridge.dsgt_insp_freq}]\\n\")\n",
    "\n",
    "print(f\"Former NBI value: [{first_bridge_NBI['FRACTURE_092A'].iloc[0]}]\")\n",
    "print(f\"Updated value: [{first_bridge.frac_crit_insp_sw}]\")\n",
    "print(f\"Updated value: [{first_bridge.fraccrit_insp_freq}]\\n\")\n",
    "\n",
    "\n",
    "print(f\"Former NBI value: [{first_bridge_NBI['UNDWATER_LOOK_SEE_092B'].iloc[0]}]\")\n",
    "print(f\"Updated value: [{first_bridge.dive_insp_sw}]\") \n",
    "print(f\"Updated value: [{first_bridge.dive_insp_freq}]\\n\")\n",
    "\n",
    "print(f\"Former NBI value: [{first_bridge_NBI['SPEC_INSPECT_092C'].iloc[0]}]\")\n",
    "print(f\"Updated value: [{first_bridge.spcl_insp_sw}]\") \n",
    "print(f\"Updated value: [{first_bridge.spcl_insp_freq}]\")"
   ]
  },
  {
   "cell_type": "markdown",
   "id": "83d57f0a",
   "metadata": {},
   "source": [
    "## B.IE.06 - Inspection Due Date\t\n",
    "\n",
    "|  SNBI Format |  1995 Format |  Comments                      |\n",
    "|:------------:|:------------:|:------------------------------:|\n",
    "| YYYYMMDD     |  NA \t      |  No\t                           |"
   ]
  },
  {
   "cell_type": "code",
   "execution_count": null,
   "id": "56b04131",
   "metadata": {
    "pycharm": {
     "is_executing": true
    }
   },
   "outputs": [],
   "source": []
  },
  {
   "cell_type": "markdown",
   "id": "ab682c3e",
   "metadata": {},
   "source": [
    "## B.IE.07 - Risk-Based Inspection Interval Method\t\n",
    "\n",
    "|  SNBI Format |  1995 Format |  Comments                      |\n",
    "|:------------:|:------------:|:------------------------------:|\n",
    "| AN (1)       |  NA \t      |  No\t                           |"
   ]
  },
  {
   "cell_type": "code",
   "execution_count": null,
   "id": "d9180d43",
   "metadata": {
    "pycharm": {
     "is_executing": true
    }
   },
   "outputs": [],
   "source": []
  },
  {
   "cell_type": "markdown",
   "id": "6e8749cd",
   "metadata": {},
   "source": [
    "## B.IE.08 - Inspection Quality Control Date\n",
    "\n",
    "|  SNBI Format |  1995 Format |  Comments                      |\n",
    "|:------------:|:------------:|:------------------------------:|\n",
    "| YYYYMMDD     |  NA \t      |  No\t                           |"
   ]
  },
  {
   "cell_type": "code",
   "execution_count": null,
   "id": "114b9cf6",
   "metadata": {
    "pycharm": {
     "is_executing": true
    }
   },
   "outputs": [],
   "source": []
  },
  {
   "cell_type": "markdown",
   "id": "409bbf00",
   "metadata": {},
   "source": [
    "## B.IE.09 - Inspection Quality Assurance Date\t\n",
    "\n",
    "|  SNBI Format |  1995 Format |  Comments                      |\n",
    "|:------------:|:------------:|:------------------------------:|\n",
    "| YYYYMMDD     |  NA \t      |  No\t                           |"
   ]
  },
  {
   "cell_type": "code",
   "execution_count": null,
   "id": "59e0e6f0",
   "metadata": {
    "pycharm": {
     "is_executing": true
    }
   },
   "outputs": [],
   "source": []
  },
  {
   "cell_type": "markdown",
   "id": "3419a7ce",
   "metadata": {},
   "source": [
    "## B.IE.10 - Inspection Data Update Date\n",
    "\n",
    "|  SNBI Format |  1995 Format |  Comments                      |\n",
    "|:------------:|:------------:|:------------------------------:|\n",
    "| YYYYMMDD     |  NA \t      |  No\t                           |"
   ]
  },
  {
   "cell_type": "code",
   "execution_count": null,
   "id": "82c8f98d",
   "metadata": {
    "pycharm": {
     "is_executing": true
    }
   },
   "outputs": [],
   "source": []
  },
  {
   "cell_type": "markdown",
   "id": "b3865957",
   "metadata": {},
   "source": [
    "## B.IE.11 - Inspection Note\n",
    "\n",
    "|  SNBI Format |  1995 Format |  Comments                      |\n",
    "|:------------:|:------------:|:------------------------------:|\n",
    "| AN (300)     |  NA \t      |  No\t                           |"
   ]
  },
  {
   "cell_type": "code",
   "execution_count": null,
   "id": "1b39ae7b",
   "metadata": {
    "pycharm": {
     "is_executing": true
    }
   },
   "outputs": [],
   "source": []
  },
  {
   "cell_type": "markdown",
   "id": "0654ead6",
   "metadata": {},
   "source": [
    "## B.IE.12 - Inspection Equipment\n",
    "\n",
    "|  SNBI Format |  1995 Format |  Comments                      |\n",
    "|:------------:|:------------:|:------------------------------:|\n",
    "| AN (120)     |  NA \t      |  No\t                           |"
   ]
  },
  {
   "cell_type": "code",
   "execution_count": null,
   "id": "8336acf5",
   "metadata": {
    "pycharm": {
     "is_executing": true
    }
   },
   "outputs": [],
   "source": []
  },
  {
   "cell_type": "markdown",
   "id": "32904737",
   "metadata": {},
   "source": [
    "## B.C.01 - Deck Condition Rating\t\n",
    "\n",
    "|  SNBI Format |  1995 Format |  Comments                      |\n",
    "|:------------:|:------------:|:------------------------------:|\n",
    "| AN (1)       |  1/AN\t      |  Yes\tDirect transition.\t   |\n",
    "\n",
    "    58\tDeck"
   ]
  },
  {
   "cell_type": "code",
   "execution_count": 95,
   "id": "db99a32b",
   "metadata": {
    "pycharm": {
     "is_executing": true
    }
   },
   "outputs": [
    {
     "name": "stdout",
     "output_type": "stream",
     "text": [
      "Former NBI value: [7]\n",
      "\n",
      "Updated value: [7]\n",
      "Updated value: [N]\n",
      "Updated value: []\n"
     ]
    }
   ],
   "source": [
    "print(f\"Former NBI value: [{first_bridge_NBI['DECK_COND_058'].iloc[0]}]\\n\")\n",
    "\n",
    "print(f\"Updated value: [{first_bridge.deck_summary}]\")\n",
    "print(f\"Updated value: [{first_bridge.deck_wear_surf}]\")\n",
    "print(f\"Updated value: [{first_bridge.deck_expn_joints}]\")"
   ]
  },
  {
   "cell_type": "markdown",
   "id": "26d099ce",
   "metadata": {},
   "source": [
    "## B.C.02 - Superstructure Condition Rating\t\n",
    "\n",
    "\n",
    "\t\t\t\n",
    "\n",
    "|  SNBI Format |  1995 Format |  Comments                      |\n",
    "|:------------:|:------------:|:------------------------------:|\n",
    "|  AN (1)      |  1/AN  \t  | Yes\tDirect transition.\t       |\n",
    "\n",
    "    59\tSuperstructure"
   ]
  },
  {
   "cell_type": "code",
   "execution_count": 96,
   "id": "a02f2101",
   "metadata": {
    "pycharm": {
     "is_executing": true
    }
   },
   "outputs": [
    {
     "name": "stdout",
     "output_type": "stream",
     "text": [
      "Former NBI value: [5]\n",
      "Updated value: [5]\n"
     ]
    }
   ],
   "source": [
    "print(f\"Former NBI value: [{first_bridge_NBI['SUPERSTRUCTURE_COND_059'].iloc[0]}]\")\n",
    "\n",
    "print(f\"Updated value: [{first_bridge.sups_summary}]\")"
   ]
  },
  {
   "cell_type": "markdown",
   "id": "4eca7ef7",
   "metadata": {},
   "source": [
    "## B.C.03 - Substructure Condition Rating\t\t\t\t\n",
    "\n",
    "|  SNBI Format |  1995 Format |  Comments                      |\n",
    "|:------------:|:------------:|:------------------------------:|\n",
    "| AN (1)       | 1/AN         |  Yes\tDirect transition.\t   |\n",
    "\n",
    "    60\tSubstructure"
   ]
  },
  {
   "cell_type": "code",
   "execution_count": 97,
   "id": "eac59740",
   "metadata": {
    "pycharm": {
     "is_executing": true
    }
   },
   "outputs": [
    {
     "name": "stdout",
     "output_type": "stream",
     "text": [
      "Former NBI value: [7]\n",
      "Updated value: [7]\n"
     ]
    }
   ],
   "source": [
    "print(f\"Former NBI value: [{first_bridge_NBI['SUBSTRUCTURE_COND_060'].iloc[0]}]\")\n",
    "\n",
    "print(f\"Updated value: [{first_bridge.subs_summary}]\")"
   ]
  },
  {
   "cell_type": "markdown",
   "id": "3f472c90",
   "metadata": {},
   "source": [
    "## B.C.04 - Culvert Condition Rating\t\n",
    "\n",
    "\t\t\t\t\n",
    "\n",
    "|  SNBI Format |  1995 Format |  Comments                      |\n",
    "|:------------:|:------------:|:------------------------------:|\n",
    "| AN (1)       |  1/AN        |  Yes\tDirect transition.     |\n",
    "\n",
    "    62\tCulvert"
   ]
  },
  {
   "cell_type": "code",
   "execution_count": 98,
   "id": "d0c09c5f",
   "metadata": {
    "pycharm": {
     "is_executing": true
    }
   },
   "outputs": [
    {
     "name": "stdout",
     "output_type": "stream",
     "text": [
      "Former NBI value: [N]\n",
      "Updated value: [N]\n"
     ]
    }
   ],
   "source": [
    "print(f\"Former NBI value: [{first_bridge_NBI['CULVERT_COND_062'].iloc[0]}]\")\n",
    "\n",
    "print(f\"Updated value: [{first_bridge.culvert_summary}]\")"
   ]
  },
  {
   "cell_type": "markdown",
   "id": "06922407",
   "metadata": {},
   "source": [
    "## B.C.05 - Bridge Railing Condition Rating\n",
    "\n",
    "|  SNBI Format |  1995 Format |  Comments                      |\n",
    "|:------------:|:------------:|:------------------------------:|\n",
    "| AN (1)       |  1/AN\t      | Partial\tDirect transition if N. Otherwise no value. |\n",
    "\n",
    "    36A\tBridge railings"
   ]
  },
  {
   "cell_type": "code",
   "execution_count": 99,
   "id": "d454de93",
   "metadata": {
    "pycharm": {
     "is_executing": true
    }
   },
   "outputs": [
    {
     "name": "stdout",
     "output_type": "stream",
     "text": [
      "Former NBI value: [N]\n",
      "Updated value: [N]\n"
     ]
    }
   ],
   "source": [
    "print(f\"Former NBI value: [{first_bridge_NBI['RAILINGS_036A'].iloc[0]}]\")\n",
    "\n",
    "print(f\"Updated value: [{first_bridge.survey_railing}]\")"
   ]
  },
  {
   "cell_type": "markdown",
   "id": "38ce435a",
   "metadata": {},
   "source": [
    "## B.C.06 - Bridge Railing Transitions Condition Rating\t\n",
    "\n",
    "|  SNBI Format |  1995 Format |  Comments                      |\n",
    "|:------------:|:------------:|:------------------------------:|\n",
    "| AN (1)       |  1/AN\t      | Partial Direct transition if N. Otherwise no value. |\n",
    "\n",
    "    36B\tTransitions"
   ]
  },
  {
   "cell_type": "code",
   "execution_count": 100,
   "id": "1fe6b977",
   "metadata": {
    "pycharm": {
     "is_executing": true
    }
   },
   "outputs": [
    {
     "name": "stdout",
     "output_type": "stream",
     "text": [
      "Former NBI value: [N]\n",
      "Updated value: [N]\n"
     ]
    }
   ],
   "source": [
    "print(f\"Former NBI value: [{first_bridge_NBI['TRANSITIONS_036B'].iloc[0]}]\")\n",
    "\n",
    "print(f\"Updated value: [{first_bridge.survey_transition}]\")"
   ]
  },
  {
   "cell_type": "markdown",
   "id": "83525ecf",
   "metadata": {},
   "source": [
    "## B.C.07 - Bridge Bearings Condition Rating\n",
    "\n",
    "|  SNBI Format |  1995 Format |  Comments                      |\n",
    "|:------------:|:------------:|:------------------------------:|\n",
    "| AN (1)       |  NA \t      |  No\t                           |"
   ]
  },
  {
   "cell_type": "code",
   "execution_count": null,
   "id": "679837d2",
   "metadata": {
    "pycharm": {
     "is_executing": true
    }
   },
   "outputs": [],
   "source": []
  },
  {
   "cell_type": "markdown",
   "id": "893f41df",
   "metadata": {},
   "source": [
    "## B.C.08 - Bridge Joints Condition Rating\n",
    "\n",
    "|  SNBI Format |  1995 Format |  Comments                      |\n",
    "|:------------:|:------------:|:------------------------------:|\n",
    "| AN (1)       |  NA \t      |  No\t                           |"
   ]
  },
  {
   "cell_type": "code",
   "execution_count": null,
   "id": "970b3016",
   "metadata": {
    "pycharm": {
     "is_executing": true
    }
   },
   "outputs": [],
   "source": []
  },
  {
   "cell_type": "markdown",
   "id": "ea177315",
   "metadata": {},
   "source": [
    "## B.C.09 - Channel Condition Rating\t\n",
    "\n",
    "\t\t\t\t\n",
    "\n",
    "|  SNBI Format |  1995 Format |  Comments                      |\n",
    "|:------------:|:------------:|:------------------------------:|\n",
    "| AN (1)       |  1/AN\t      | Yes\tDirect transition.         |\n",
    "\n",
    "    61\tChannel and Channel Protetion"
   ]
  },
  {
   "cell_type": "code",
   "execution_count": 101,
   "id": "24a366d2",
   "metadata": {
    "pycharm": {
     "is_executing": true
    }
   },
   "outputs": [
    {
     "name": "stdout",
     "output_type": "stream",
     "text": [
      "Former NBI value: [7]\n",
      "Updated value: [7]\n"
     ]
    }
   ],
   "source": [
    "print(f\"Former NBI value: [{first_bridge_NBI['CHANNEL_COND_061'].iloc[0]}]\")\n",
    "print(f\"Updated value: [{first_bridge.chan_summary}]\")"
   ]
  },
  {
   "cell_type": "markdown",
   "id": "252c8ff1",
   "metadata": {},
   "source": [
    "## B.C.10 - Channel Protection Condition Rating\t\n",
    "\n",
    "\n",
    "|  SNBI Format |  1995 Format |  Comments                      |\n",
    "|:------------:|:------------:|:------------------------------:|\n",
    "| AN (1)       |  NA \t      |  No\t                           |"
   ]
  },
  {
   "cell_type": "code",
   "execution_count": null,
   "id": "7c912038",
   "metadata": {
    "pycharm": {
     "is_executing": true
    }
   },
   "outputs": [],
   "source": []
  },
  {
   "cell_type": "markdown",
   "id": "05795b83",
   "metadata": {},
   "source": [
    "## B.C.11 - Scour Condition Rating\n",
    "\n",
    "|  SNBI Format |  1995 Format |  Comments                      |\n",
    "|:------------:|:------------:|:------------------------------:|\n",
    "| AN (1)       | 1/AN\t      | Partial\tSee tab. Contains temporary codes to be phased out. |\n",
    "\n",
    "    113\tScour Critical Bridges"
   ]
  },
  {
   "cell_type": "code",
   "execution_count": 102,
   "id": "d0d929d6",
   "metadata": {
    "pycharm": {
     "is_executing": true
    }
   },
   "outputs": [
    {
     "name": "stdout",
     "output_type": "stream",
     "text": [
      "Former NBI value: [5]\n",
      "Updated value: [5]\n"
     ]
    }
   ],
   "source": [
    "print(f\"Former NBI value: [{first_bridge_NBI['SCOUR_CRITICAL_113'].iloc[0]}]\")\n",
    "print(f\"Updated value: [{first_bridge.scour_crit_cd}]\")"
   ]
  },
  {
   "cell_type": "markdown",
   "id": "a2d044e8",
   "metadata": {},
   "source": [
    "## B.C.12 - Bridge Condition Classification\n",
    "\n",
    "|  SNBI Format |  1995 Format |  Comments                      |\n",
    "|:------------:|:------------:|:------------------------------:|\n",
    "| AN (1)       |  1/AN        | Yes\tDirect transition.         |\n",
    "\n",
    "    CAT10\tBridge Condition"
   ]
  },
  {
   "cell_type": "code",
   "execution_count": 103,
   "id": "cdd8fe2d",
   "metadata": {
    "pycharm": {
     "is_executing": true
    }
   },
   "outputs": [
    {
     "name": "stdout",
     "output_type": "stream",
     "text": [
      "Former NBI value: [F]\n",
      "# //TODO - No modern value?\n",
      "\n"
     ]
    }
   ],
   "source": [
    "print(f\"Former NBI value: [{first_bridge_NBI['BRIDGE_CONDITION'].iloc[0]}]\")\n",
    "print(f\"# //TODO - No modern value?\\n\")\n",
    "\n",
    "# list(first_bridge_NBI.keys()) // TODO - No modern values?"
   ]
  },
  {
   "cell_type": "markdown",
   "id": "22999d0d",
   "metadata": {},
   "source": [
    "## B.C.13 - Lowest Condition Rating Code\t\n",
    "\n",
    "\t\t\t\t\n",
    "\n",
    "|  SNBI Format |  1995 Format |  Comments                      |\n",
    "|:------------:|:------------:|:------------------------------:|\n",
    "| AN (1)       | 1/N\t      | Yes\tDirect transition.         |\n",
    "\n",
    "    CAT23 Lowest Condition Code"
   ]
  },
  {
   "cell_type": "code",
   "execution_count": 104,
   "id": "a4009881",
   "metadata": {
    "pycharm": {
     "is_executing": true
    }
   },
   "outputs": [
    {
     "name": "stdout",
     "output_type": "stream",
     "text": [
      "Former NBI value: [5]\n",
      "# //TODO - No modern value?\n",
      "\n"
     ]
    }
   ],
   "source": [
    "print(f\"Former NBI value: [{first_bridge_NBI['LOWEST_RATING'].iloc[0]}]\")\n",
    "print(f\"# //TODO - No modern value?\\n\")\n",
    "\n",
    "# list(first_bridge_NBI.keys())"
   ]
  },
  {
   "cell_type": "markdown",
   "id": "c16b2071",
   "metadata": {},
   "source": [
    "## B.C.14 - NSTM Inspection Condition\n",
    "\n",
    "|  SNBI Format |  1995 Format |  Comments                      |\n",
    "|:------------:|:------------:|:------------------------------:|\n",
    "| AN (1)       |  NA \t      |  No\t                           |"
   ]
  },
  {
   "cell_type": "code",
   "execution_count": null,
   "id": "a4aab13c",
   "metadata": {
    "pycharm": {
     "is_executing": true
    }
   },
   "outputs": [],
   "source": []
  },
  {
   "cell_type": "markdown",
   "id": "a0db7565",
   "metadata": {},
   "source": [
    "## B.C.15 - Underwater Inspection Condition\n",
    "\n",
    "|  SNBI Format |  1995 Format |  Comments                      |\n",
    "|:------------:|:------------:|:------------------------------:|\n",
    "| AN (1)       |  NA \t      |  No\t                           |"
   ]
  },
  {
   "cell_type": "code",
   "execution_count": null,
   "id": "7d7d562b",
   "metadata": {
    "pycharm": {
     "is_executing": true
    }
   },
   "outputs": [],
   "source": []
  },
  {
   "cell_type": "markdown",
   "id": "6de6d2ee",
   "metadata": {},
   "source": [
    "## B.AP.01 - Approach Roadway Alignment\n",
    "\n",
    "|  SNBI Format |  1995 Format |  Comments                      |\n",
    "|:------------:|:------------:|:------------------------------:|\n",
    "| AN (1)       |  1/AN        |  Yes\tSee tab.                   |\n",
    "\n",
    "    72\tApproach Roadway Alignment"
   ]
  },
  {
   "cell_type": "code",
   "execution_count": 105,
   "id": "b4682c9a",
   "metadata": {
    "pycharm": {
     "is_executing": true
    }
   },
   "outputs": [
    {
     "name": "stdout",
     "output_type": "stream",
     "text": [
      "Former NBI value: [8.0]\n",
      "Updated value: [8]\n"
     ]
    }
   ],
   "source": [
    "print(f\"Former NBI value: [{first_bridge_NBI['APPR_ROAD_EVAL_072'].iloc[0]}]\")\n",
    "\n",
    "print(f\"Updated value: [{first_bridge.apprh_algn_cd}]\")"
   ]
  },
  {
   "cell_type": "markdown",
   "id": "8f08a5e9",
   "metadata": {},
   "source": [
    "## B.AP.02 - Overtopping Likelihood\n",
    "\n",
    "|  SNBI Format |  1995 Format |  Comments                      |\n",
    "|:------------:|:------------:|:------------------------------:|\n",
    "| AN (1)       |  1/AN\t      | Partial\tSee tab. Contains temporary codes to be phased out. |\n",
    "\n",
    "    71\tWaterway Adequacy"
   ]
  },
  {
   "cell_type": "code",
   "execution_count": 106,
   "id": "e2594794",
   "metadata": {
    "pycharm": {
     "is_executing": true
    }
   },
   "outputs": [
    {
     "name": "stdout",
     "output_type": "stream",
     "text": [
      "Former NBI value: [9]\n",
      "Updated value: [9]\n"
     ]
    }
   ],
   "source": [
    "print(f\"Former NBI value: [{first_bridge_NBI['WATERWAY_EVAL_071'].iloc[0]}]\")\n",
    "\n",
    "print(f\"Updated value: [{first_bridge.ww_adequacy_cd}]\")"
   ]
  },
  {
   "cell_type": "markdown",
   "id": "c63d0eb5",
   "metadata": {},
   "source": [
    "## B.AP.03 - Scour Vulnerability\n",
    "\n",
    "|  SNBI Format |  1995 Format |  Comments                      |\n",
    "|:------------:|:------------:|:------------------------------:|\n",
    "| AN (1)       |  1/AN \t      | Partial\tSee tab. Contains temporary codes to be phased out. |\n",
    "\n",
    "    113\tScour Critical Bridges"
   ]
  },
  {
   "cell_type": "code",
   "execution_count": 107,
   "id": "cd338755",
   "metadata": {
    "pycharm": {
     "is_executing": true
    }
   },
   "outputs": [
    {
     "name": "stdout",
     "output_type": "stream",
     "text": [
      "Former NBI value: [5]\n",
      "Updated value: [5]\n"
     ]
    }
   ],
   "source": [
    "print(f\"Former NBI value: [{first_bridge_NBI['SCOUR_CRITICAL_113'].iloc[0]}]\")\n",
    "\n",
    "print(f\"Updated value: [{first_bridge.scour_crit_cd}]\")"
   ]
  },
  {
   "cell_type": "markdown",
   "id": "1a283e90",
   "metadata": {},
   "source": [
    "## B.AP.04 - Scour Plan of Action\n",
    "\n",
    "|  SNBI Format |  1995 Format |  Comments                      |\n",
    "|:------------:|:------------:|:------------------------------:|\n",
    "| AN (1)       |  NA \t      |  No\t                           |"
   ]
  },
  {
   "cell_type": "code",
   "execution_count": null,
   "id": "38bfc914",
   "metadata": {
    "pycharm": {
     "is_executing": true
    }
   },
   "outputs": [],
   "source": []
  },
  {
   "cell_type": "markdown",
   "id": "a5bd45d4",
   "metadata": {},
   "source": [
    "## B.AP.05\t- Seismic Vulnerability\n",
    "\n",
    "|  SNBI Format |  1995 Format |  Comments                      |\n",
    "|:------------:|:------------:|:------------------------------:|\n",
    "| AN (1)       |  NA \t      |  No\t                           |"
   ]
  },
  {
   "cell_type": "code",
   "execution_count": null,
   "id": "c46794ef",
   "metadata": {
    "pycharm": {
     "is_executing": true
    }
   },
   "outputs": [],
   "source": []
  },
  {
   "cell_type": "markdown",
   "id": "6a6c7232",
   "metadata": {},
   "source": [
    "## B.W.01 - Year Built\t\t\t\n",
    "\n",
    "|  SNBI Format |  1995 Format |  Comments                      |\n",
    "|:------------:|:------------:|:------------------------------:|\n",
    "| N (4,0)       |  4/N \t      |  Yes Direct transition.        |\n",
    "\n",
    "    27\tYear Built"
   ]
  },
  {
   "cell_type": "code",
   "execution_count": 108,
   "id": "445fe642",
   "metadata": {
    "pycharm": {
     "is_executing": true
    }
   },
   "outputs": [
    {
     "name": "stdout",
     "output_type": "stream",
     "text": [
      "Former NBI value: [1969.0]\n",
      "# //TODO - No modern value?\n",
      "\n"
     ]
    }
   ],
   "source": [
    "print(f\"Former NBI value: [{first_bridge_NBI['YEAR_BUILT_027'].iloc[0]}]\")\n",
    "print(f\"# //TODO - No modern value?\\n\")\n",
    "\n",
    "# list(first_bridge_NBI.keys())"
   ]
  },
  {
   "cell_type": "markdown",
   "id": "83e6df70",
   "metadata": {},
   "source": [
    "## B.W.02 - Year Work Performed\n",
    "\n",
    "|  SNBI Format |  1995 Format |  Comments                      |\n",
    "|:------------:|:------------:|:------------------------------:|\n",
    "| N (4,0)      |  4/N\t      | Yes\tDirect transition if > 0. Otherwise no value. |\n",
    "\n",
    "    106\tYear Reconstructed"
   ]
  },
  {
   "cell_type": "code",
   "execution_count": 109,
   "id": "292f7bf7",
   "metadata": {
    "pycharm": {
     "is_executing": true
    }
   },
   "outputs": [
    {
     "name": "stdout",
     "output_type": "stream",
     "text": [
      "Former NBI value: [0.0]\n",
      "Updated value: [None]\n"
     ]
    }
   ],
   "source": [
    "print(f\"Former NBI value: [{first_bridge_NBI['YEAR_RECONSTRUCTED_106'].iloc[0]}]\")\n",
    "\n",
    "print(f\"Updated value: [{first_bridge.maj_recon_dt}]\") # //TODO - Verify this is the correct field"
   ]
  },
  {
   "cell_type": "markdown",
   "id": "35c4f91e",
   "metadata": {},
   "source": [
    "## B.W.03 - Work Performed\t\t\t\n",
    "\n",
    "|  SNBI Format |  1995 Format |  Comments                      |\n",
    "|:------------:|:------------:|:------------------------------:|\n",
    "| AN (120)     |  4/N\t      | Partial\t\"RECONSTRUCTED\" if > 0.  Otherwise no value. \"RECONSTRUCTED is not an SNBI code for this item.  Users may update this value at a later date. |\n",
    "\n",
    "    106\tYear Reconstructed"
   ]
  },
  {
   "cell_type": "code",
   "execution_count": 110,
   "id": "fb188dfd",
   "metadata": {
    "pycharm": {
     "is_executing": true
    }
   },
   "outputs": [
    {
     "name": "stdout",
     "output_type": "stream",
     "text": [
      "Former NBI value: [0.0]\n",
      "Updated value: [None]\n"
     ]
    }
   ],
   "source": [
    "print(f\"Former NBI value: [{first_bridge_NBI['YEAR_RECONSTRUCTED_106'].iloc[0]}]\")\n",
    "\n",
    "print(f\"Updated value: [{first_bridge.maj_recon_dt}]\") # //TODO - Verify this is the correct field"
   ]
  },
  {
   "cell_type": "markdown",
   "id": "1b4b34e5",
   "metadata": {},
   "source": [
    "# Under Records\n",
    "\n",
    "I don't totally understand the point of reporting these, how there's a BH16 Over and Under record for basically the same attribute... none of these properties are necessarily attributes of the bridge can be tied together in state/local systems by "
   ]
  },
  {
   "cell_type": "markdown",
   "id": "ebea3563",
   "metadata": {},
   "source": [
    "## B.F.01 - Feature Type\t\n",
    "\n",
    "|  SNBI Format |  1995 Format |  Comments                      |\n",
    "|:------------:|:------------:|:------------------------------:|\n",
    "| AN (3)       |  2/N\t      | Yes, H02 Applies to (Highway) Feature |\n",
    "\n",
    "    42A/42B\tType of Service"
   ]
  },
  {
   "cell_type": "code",
   "execution_count": 111,
   "id": "2e4928ea",
   "metadata": {
    "pycharm": {
     "is_executing": true
    }
   },
   "outputs": [
    {
     "name": "stdout",
     "output_type": "stream",
     "text": [
      "WARN_UNDER_RECORD Former NBI value: [1.0]\n",
      "WARN_UNDER_RECORD Updated value: [1]\n",
      "\n",
      "WARN_UNDER_RECORD Former NBI value: [5.0]\n",
      "WARN_UNDER_RECORD Updated value: [5]\n"
     ]
    }
   ],
   "source": [
    "# //TODO - These values are only for the bridge under the current bridge, verify these values correspond correctly,\n",
    "# and remove the repeat values above\n",
    "\n",
    "print(f\"WARN_UNDER_RECORD Former NBI value: [{first_bridge_NBI['SERVICE_ON_042A'].iloc[0]}]\")\n",
    "print(f\"WARN_UNDER_RECORD Updated value: [{first_bridge.type_serv1_cd}]\\n\")\n",
    "\n",
    "print(f\"WARN_UNDER_RECORD Former NBI value: [{first_bridge_NBI['SERVICE_UND_042B'].iloc[0]}]\")\n",
    "print(f\"WARN_UNDER_RECORD Updated value: [{first_bridge.type_serv2_cd}]\")"
   ]
  },
  {
   "cell_type": "markdown",
   "id": "37128b9d",
   "metadata": {},
   "source": [
    "## B.F.02 - Feature Location\n",
    "\n",
    "|  SNBI Format |  1995 Format |  Comments                      |\n",
    "|:------------:|:------------:|:------------------------------:|\n",
    "| AN (1)       |  2/N\t      | Yes B Applies to (Highway) Feature |\n",
    "\n",
    "    42A/42B\tType of Service"
   ]
  },
  {
   "cell_type": "code",
   "execution_count": 112,
   "id": "5bc7478c",
   "metadata": {
    "pycharm": {
     "is_executing": true
    }
   },
   "outputs": [
    {
     "name": "stdout",
     "output_type": "stream",
     "text": [
      "WARN_UNDER_RECORD Former NBI value: [1.0]\n",
      "WARN_UNDER_RECORD Updated value: [1]\n",
      "\n",
      "WARN_UNDER_RECORD Former NBI value: [5.0]\n",
      "WARN_UNDER_RECORD Updated value: [5]\n"
     ]
    }
   ],
   "source": [
    "# //TODO - These values are only for the bridge under the current bridge, verify these values correspond correctly,\n",
    "# and remove the repeat values above\n",
    "\n",
    "print(f\"WARN_UNDER_RECORD Former NBI value: [{first_bridge_NBI['SERVICE_ON_042A'].iloc[0]}]\")\n",
    "print(f\"WARN_UNDER_RECORD Updated value: [{first_bridge.type_serv1_cd}]\\n\")\n",
    "\n",
    "print(f\"WARN_UNDER_RECORD Former NBI value: [{first_bridge_NBI['SERVICE_UND_042B'].iloc[0]}]\")\n",
    "print(f\"WARN_UNDER_RECORD Updated value: [{first_bridge.type_serv2_cd}]\")"
   ]
  },
  {
   "cell_type": "markdown",
   "id": "9e3c56a0",
   "metadata": {},
   "source": [
    "## B.F.03 - Feature Name\t\t\t\t\n",
    "\n",
    "|  SNBI Format |  1995 Format |  Comments                      |\n",
    "|:------------:|:------------:|:------------------------------:|\n",
    "| AN (300)     | 24/AN - 18/AN | Yes Straight transition.  The \"under\" record value for this item takes precedence over the \"over\" record value when an \"under\" record exists.\tApplies to (Highway) Feature |\n",
    "\n",
    "    6A\tFeatures Intersected"
   ]
  },
  {
   "cell_type": "code",
   "execution_count": 113,
   "id": "82a60f27",
   "metadata": {
    "pycharm": {
     "is_executing": true
    }
   },
   "outputs": [
    {
     "name": "stdout",
     "output_type": "stream",
     "text": [
      "WARN_UNDER_RECORD Former NBI value: ['OHIO RIVER']\n",
      "WARN_UNDER_RECORD Updated value: [OHIO RIVER]\n",
      "\n"
     ]
    }
   ],
   "source": [
    "# //TODO - No modern values? assume the values are tied to the sfn of the under structure? that's the reasonable way to do it\n",
    "\n",
    "print(f\"WARN_UNDER_RECORD Former NBI value: [{first_bridge_NBI['FEATURES_DESC_006A'].iloc[0]}]\")\n",
    "print(f\"WARN_UNDER_RECORD Updated value: [{first_bridge.invent_feat}]\\n\")"
   ]
  },
  {
   "cell_type": "markdown",
   "id": "e55dccb4",
   "metadata": {},
   "source": [
    "## B.RT.01 - Route Designation\t\n",
    "\n",
    "|  SNBI Format |  1995 Format |  Comments                      |\n",
    "|:------------:|:------------:|:------------------------------:|\n",
    "| AN (3)       |  NA \t      | Yes\tR01.  Assign to H02 feature. Applies to Route. |"
   ]
  },
  {
   "cell_type": "code",
   "execution_count": null,
   "id": "7c35f713",
   "metadata": {
    "pycharm": {
     "is_executing": true
    }
   },
   "outputs": [],
   "source": []
  },
  {
   "cell_type": "markdown",
   "id": "aa27e5f9",
   "metadata": {},
   "source": [
    "## B.RT.02 - Route Number\n",
    "\n",
    "|  SNBI Format |  1995 Format |  Comments                      |\n",
    "|:------------:|:------------:|:------------------------------:|\n",
    "| AN (15)      | 5/AN - 1/N   | Yes\tTrim leading zeroes.  Append Item 5D with Item 5E - see tab.  Use 0 for values that do not contain other digits.  Assign to R01 Route on H02 Feature.\tApplies to Route.  Examples:  If 5D = 00035 and 5E = W, B.RT.02 = 35W.  If 5D = 00000, B.RT.02 = 0. |\n",
    "\n",
    "    5D/5E - Route Number / Directional Suffix"
   ]
  },
  {
   "cell_type": "code",
   "execution_count": 114,
   "id": "108c1856",
   "metadata": {
    "pycharm": {
     "is_executing": true
    }
   },
   "outputs": [
    {
     "name": "stdout",
     "output_type": "stream",
     "text": [
      "WARN_UNDER_RECORD Former NBI value: [00035]\n",
      "WARN_UNDER_RECORD Former NBI value: [0.0]\n",
      "WARN_UNDER_RECORD Updated value: [0]\n"
     ]
    }
   ],
   "source": [
    "print(f\"WARN_UNDER_RECORD Former NBI value: [{first_bridge_NBI['ROUTE_NUMBER_005D'].iloc[0]}]\")\n",
    "print(f\"WARN_UNDER_RECORD Former NBI value: [{first_bridge_NBI['DIRECTION_005E'].iloc[0]}]\")\n",
    "print(f\"WARN_UNDER_RECORD Updated value: [{first_bridge.invent_dir_sfx_cd}]\")"
   ]
  },
  {
   "cell_type": "markdown",
   "id": "44189cd7",
   "metadata": {},
   "source": [
    "## B.RT.03 - Route Direction\n",
    "\n",
    "|  SNBI Format |  1995 Format |  Comments                      |\n",
    "|:------------:|:------------:|:------------------------------:|\n",
    "| AN (2)       |  1/N\t      | Partial\tSee tab.  Assign to R01 Route on H02 Feature. Applies to Route |\n",
    "\n",
    "    102\tDirection of Traffic"
   ]
  },
  {
   "cell_type": "code",
   "execution_count": 115,
   "id": "34e42fa3",
   "metadata": {
    "pycharm": {
     "is_executing": true
    }
   },
   "outputs": [
    {
     "name": "stdout",
     "output_type": "stream",
     "text": [
      "WARN_UNDER_RECORD Former NBI value: [2.0]\n",
      "WARN_UNDER_RECORD Updated value: [2]\n"
     ]
    }
   ],
   "source": [
    "print(f\"WARN_UNDER_RECORD Former NBI value: [{first_bridge_NBI['TRAFFIC_DIRECTION_102'].iloc[0]}]\")\n",
    "\n",
    "print(f\"WARN_UNDER_RECORD Updated value: [{first_bridge.dir_traffic_cd}]\")"
   ]
  },
  {
   "cell_type": "markdown",
   "id": "db591972",
   "metadata": {},
   "source": [
    "## B.RT.04 - Route Type\n",
    "\n",
    "|  SNBI Format |  1995 Format |  Comments                      |\n",
    "|:------------:|:------------:|:------------------------------:|\n",
    "| AN (1)       | 1/N\t      | Yes\tDirect transition except 8 goes to X.  Assign to R01 Route on H02 Feature.\tApplies to Route |\n",
    "\n",
    "    5B\tRoute Signing Prefix"
   ]
  },
  {
   "cell_type": "code",
   "execution_count": 116,
   "id": "e5c3e057",
   "metadata": {
    "pycharm": {
     "is_executing": true
    }
   },
   "outputs": [
    {
     "name": "stdout",
     "output_type": "stream",
     "text": [
      "WARN_UNDER_RECORD Former NBI value: [2.0]\n",
      "WARN_UNDER_RECORD Updated value: [2]\n"
     ]
    }
   ],
   "source": [
    "print(f\"WARN_UNDER_RECORD Former NBI value: [{first_bridge_NBI['ROUTE_PREFIX_005B'].iloc[0]}]\")\n",
    "\n",
    "print(f\"WARN_UNDER_RECORD Updated value: [{first_bridge.invent_hwy_sys_cd}]\")"
   ]
  },
  {
   "cell_type": "markdown",
   "id": "c0a423e4",
   "metadata": {},
   "source": [
    "## B.RT.05 - Service Type\t\n",
    "\n",
    "\t\t\t\n",
    "\n",
    "|  SNBI Format |  1995 Format |  Comments                      |\n",
    "|:------------:|:------------:|:------------------------------:|\n",
    "| AN (1)       |  1/N\t      | Yes\tDirect transition except 0 goes to X.  Assign to R01 Route on H02 Feature.\tApplies to Route |\n",
    "\n",
    "    5C\tDesignated Level of Service"
   ]
  },
  {
   "cell_type": "code",
   "execution_count": 117,
   "id": "be100eb5",
   "metadata": {
    "pycharm": {
     "is_executing": true
    }
   },
   "outputs": [
    {
     "name": "stdout",
     "output_type": "stream",
     "text": [
      "WARN_UNDER_RECORD Former NBI value: [2.0]\n",
      "WARN_UNDER_RECORD Updated value: [1]\n"
     ]
    }
   ],
   "source": [
    "print(f\"WARN_UNDER_RECORD Former NBI value: [{first_bridge_NBI['ROUTE_PREFIX_005B'].iloc[0]}]\")\n",
    "\n",
    "print(f\"WARN_UNDER_RECORD Updated value: [{first_bridge.invent_hwy_dsgt_cd}]\")"
   ]
  },
  {
   "cell_type": "markdown",
   "id": "a5576b08",
   "metadata": {},
   "source": [
    "## B.H.01 - Functional Classification\n",
    "\n",
    "|  SNBI Format |  1995 Format |  Comments                      |\n",
    "|:------------:|:------------:|:------------------------------:|\n",
    "| AN (1)       | 2/N\t      | Yes\tSee tab.  Assign to H02 feature. Applies to Highway |\n",
    "\n",
    "    26\tFunctional Classification of Inventory Route"
   ]
  },
  {
   "cell_type": "code",
   "execution_count": 118,
   "id": "7cc357c3",
   "metadata": {
    "pycharm": {
     "is_executing": true
    }
   },
   "outputs": [
    {
     "name": "stdout",
     "output_type": "stream",
     "text": [
      "WARN_UNDER_RECORD Former NBI value: [12.0]\n",
      "WARN_UNDER_RECORD Updated value: [12]\n"
     ]
    }
   ],
   "source": [
    "print(f\"WARN_UNDER_RECORD Former NBI value: [{first_bridge_NBI['FUNCTIONAL_CLASS_026'].iloc[0]}]\")\n",
    "\n",
    "print(f\"WARN_UNDER_RECORD Updated value: [{first_bridge.func_clas_cd}]\")"
   ]
  },
  {
   "cell_type": "markdown",
   "id": "b62059e3",
   "metadata": {},
   "source": [
    "## B.H.02 - Urban Code\n",
    "\n",
    "|  SNBI Format |  1995 Format |  Comments                      |\n",
    "|:------------:|:------------:|:------------------------------:|\n",
    "| AN (5)       |  2/N\t      | Partial\tSee tab.  Assign to all H features.\tApplies to Highway |\n",
    "\n",
    "    26\tFunctional Classification of Inventory Route"
   ]
  },
  {
   "cell_type": "code",
   "execution_count": 119,
   "id": "febfedf0",
   "metadata": {
    "pycharm": {
     "is_executing": true
    }
   },
   "outputs": [
    {
     "name": "stdout",
     "output_type": "stream",
     "text": [
      "WARN_UNDER_RECORD Former NBI value: [12.0]\n",
      "WARN_UNDER_RECORD Updated value: [12]\n"
     ]
    }
   ],
   "source": [
    "print(f\"WARN_UNDER_RECORD Former NBI value: [{first_bridge_NBI['FUNCTIONAL_CLASS_026'].iloc[0]}]\")\n",
    "\n",
    "print(f\"WARN_UNDER_RECORD Updated value: [{first_bridge.func_clas_cd}]\")"
   ]
  },
  {
   "cell_type": "markdown",
   "id": "eb2f1339",
   "metadata": {},
   "source": [
    "## B.H.03 - NHS Designation\t\n",
    "\n",
    "\t\t\t\n",
    "\n",
    "|  SNBI Format |  1995 Format |  Comments                      |\n",
    "|:------------:|:------------:|:------------------------------:|\n",
    "| AN (1)       |  1/N\t      | Yes\tSee tab. Assign to H02 feature. Applies to Highway |"
   ]
  },
  {
   "cell_type": "code",
   "execution_count": null,
   "id": "ff25de05",
   "metadata": {
    "pycharm": {
     "is_executing": true
    }
   },
   "outputs": [],
   "source": []
  },
  {
   "cell_type": "markdown",
   "id": "91aeedd7",
   "metadata": {},
   "source": [
    "## B.H.04 - National Highway Freight Network\t\n",
    "\n",
    "|  SNBI Format |  1995 Format |  Comments                      |\n",
    "|:------------:|:------------:|:------------------------------:|\n",
    "| AN (1)       |  1/N\t      | Partial\tSee tab.  Assign to H02 feature. Applies to Highway |\n",
    "\n",
    "    110\tDesignated National Network\t"
   ]
  },
  {
   "cell_type": "code",
   "execution_count": 120,
   "id": "664a60c3",
   "metadata": {
    "pycharm": {
     "is_executing": true
    }
   },
   "outputs": [
    {
     "name": "stdout",
     "output_type": "stream",
     "text": [
      "WARN_UNDER_RECORD Former NBI value: [1.0]\n",
      "WARN_UNDER_RECORD Updated value: [1]\n"
     ]
    }
   ],
   "source": [
    "print(f\"WARN_UNDER_RECORD Former NBI value: [{first_bridge_NBI['NATIONAL_NETWORK_110'].iloc[0]}]\")\n",
    "\n",
    "print(f\"WARN_UNDER_RECORD Updated value: [{first_bridge.dsgt_natl_netw_sw}]\")"
   ]
  },
  {
   "cell_type": "markdown",
   "id": "14345682",
   "metadata": {},
   "source": [
    "## B.H.05 - STRAHNET Designation\t\t\n",
    "\n",
    "|  SNBI Format |  1995 Format |  Comments                      |\n",
    "|:------------:|:------------:|:------------------------------:|\n",
    "| AN (1)       | 1/N\t      | Yes\tSee tab. Assign to H02 feature. Applies to Highway |\n",
    "\n",
    "    100\tSTRAHNET Highway Designation"
   ]
  },
  {
   "cell_type": "code",
   "execution_count": 121,
   "id": "2d2e5ea1",
   "metadata": {
    "pycharm": {
     "is_executing": true
    }
   },
   "outputs": [
    {
     "name": "stdout",
     "output_type": "stream",
     "text": [
      "WARN_UNDER_RECORD Former NBI value: [0.0]\n",
      "WARN_UNDER_RECORD Updated value: [0]\n"
     ]
    }
   ],
   "source": [
    "print(f\"WARN_UNDER_RECORD Former NBI value: [{first_bridge_NBI['STRAHNET_HIGHWAY_100'].iloc[0]}]\")\n",
    "print(f\"WARN_UNDER_RECORD Updated value: [{first_bridge.dfns_hwy_dsgt_sw}]\")"
   ]
  },
  {
   "cell_type": "markdown",
   "id": "ae4af6e0",
   "metadata": {},
   "source": [
    "## B.H.06 - LRS Route ID\n",
    "\n",
    "|  SNBI Format |  1995 Format |  Comments                      |\n",
    "|:------------:|:------------:|:------------------------------:|\n",
    "| AN (120)     | 10/AN - 2/N | Partial\tAssign to H02 feature.  Eliminate all values that reduce to 0.  Trim leading zeroes and spaces.  Combine 13A and 13B into a 12 character (or shorter) string.\tApplies to Highway.  This transition will work for most States. The exceptions are New Jersey where their 13A and HPMS Route IDs have leading zeros and Wyoming where 13B portions were not in their HPMS Route ID. |\n",
    "\n",
    "    13A/13B\tLRS Inventory Route, Subroute Number"
   ]
  },
  {
   "cell_type": "code",
   "execution_count": 122,
   "id": "705202bd",
   "metadata": {
    "pycharm": {
     "is_executing": true
    }
   },
   "outputs": [
    {
     "name": "stdout",
     "output_type": "stream",
     "text": [
      "WARN_UNDER_RECORD Former NBI value: [0000000035]\n",
      "WARN_UNDER_RECORD Former NBI value: [0.0]\n"
     ]
    }
   ],
   "source": [
    "print(f\"WARN_UNDER_RECORD Former NBI value: [{first_bridge_NBI['LRS_INV_ROUTE_013A'].iloc[0]}]\")\n",
    "print(f\"WARN_UNDER_RECORD Former NBI value: [{first_bridge_NBI['SUBROUTE_NO_013B'].iloc[0]}]\")\n",
    "\n",
    "# print(f\"Updated value: [{first_bridge.dfns_hwy_dsgt_sw}]\") # //TODO - No modern values?"
   ]
  },
  {
   "cell_type": "markdown",
   "id": "215a3729",
   "metadata": {},
   "source": [
    "## B.H.07 - LRS Mile Point\n",
    "\n",
    "|  SNBI Format |  1995 Format |  Comments                      |\n",
    "|:------------:|:------------:|:------------------------------:|\n",
    "| N (8,3)      | 7/N (7,3)    | Yes\tConvert from metric to nearest tenth of a foot. Assign to H02 feature. Applies to Highway |\n",
    "\n",
    "    11\tKilometerpoint"
   ]
  },
  {
   "cell_type": "code",
   "execution_count": 123,
   "id": "61ca8b3b",
   "metadata": {
    "pycharm": {
     "is_executing": true
    }
   },
   "outputs": [
    {
     "name": "stdout",
     "output_type": "stream",
     "text": [
      "WARN_UNDER_RECORD Former NBI value: [28.759]\n"
     ]
    }
   ],
   "source": [
    "print(f\"WARN_UNDER_RECORD Former NBI value: [{first_bridge_NBI['KILOPOINT_011'].iloc[0]}]\")\n",
    "\n",
    "# print(f\"Updated value: [{first_bridge.dfns_hwy_dsgt_sw}]\") # //TODO - No modern values?"
   ]
  },
  {
   "cell_type": "markdown",
   "id": "8a2dd01a",
   "metadata": {},
   "source": [
    "## B.H.08 - Lanes on Highway\n",
    "\n",
    "|  SNBI Format |  1995 Format |  Comments                      |\n",
    "|:------------:|:------------:|:------------------------------:|\n",
    "| N (2,0)      | 2/N \t      | Yes\tDirect transition. Assign to H02 feature. Applies to Highway |\n",
    "\n",
    "     28B\tLanes Under Structure"
   ]
  },
  {
   "cell_type": "code",
   "execution_count": 124,
   "id": "87db9779",
   "metadata": {
    "pycharm": {
     "is_executing": true
    }
   },
   "outputs": [
    {
     "name": "stdout",
     "output_type": "stream",
     "text": [
      "WARN_UNDER_RECORD Former NBI value: [0.0]\n",
      "WARN_UNDER_RECORD Updated value: [0]\n"
     ]
    }
   ],
   "source": [
    "print(f\"WARN_UNDER_RECORD Former NBI value: [{first_bridge_NBI['TRAFFIC_LANES_UND_028B'].iloc[0]}]\")\n",
    "\n",
    "print(f\"WARN_UNDER_RECORD Updated value: [{first_bridge.lanes_und}]\")"
   ]
  },
  {
   "cell_type": "markdown",
   "id": "ccbd0e10",
   "metadata": {},
   "source": [
    "## B.H.09 - Annual Average Daily Traffic\n",
    "\n",
    "\t\t\n",
    "\n",
    "|  SNBI Format |  1995 Format |  Comments                      |\n",
    "|:------------:|:------------:|:------------------------------:|\n",
    "| N (8,0)      |  6/N         | Yes\tDirect transition. Trim leading zeroes. Assign to H02 feature. Applies to Highway |\n",
    "\n",
    "    29\tAverage Daily Traffic"
   ]
  },
  {
   "cell_type": "code",
   "execution_count": 125,
   "id": "d55d621b",
   "metadata": {
    "pycharm": {
     "is_executing": true
    }
   },
   "outputs": [
    {
     "name": "stdout",
     "output_type": "stream",
     "text": [
      "WARN_UNDER_RECORD Former NBI value: [22900.0]\n",
      "WARN_UNDER_RECORD Updated value: [22900]\n"
     ]
    }
   ],
   "source": [
    "print(f\"WARN_UNDER_RECORD Former NBI value: [{first_bridge_NBI['ADT_029'].iloc[0]}]\")\n",
    "\n",
    "\n",
    "print(f\"WARN_UNDER_RECORD Updated value: [{first_bridge.invent_rte_adt}]\") # //TODO - Fairly sure this is an over record value, double check"
   ]
  },
  {
   "cell_type": "markdown",
   "id": "b325675b",
   "metadata": {},
   "source": [
    "## B.H.10 - Annual Average Daily Truck Traffic\t\n",
    "\n",
    "\t\t\t\n",
    "\n",
    "|  SNBI Format |  1995 Format |  Comments                      |\n",
    "|:------------:|:------------:|:------------------------------:|\n",
    "| N (8,0)      | 2/N\t      | Yes\tMultiply Item 109 (percentage) by Item 29.  Assign to H02 feature.\tApplies to Highway |\n",
    "\n",
    "    109\tAverage Daily Truck Traffic"
   ]
  },
  {
   "cell_type": "code",
   "execution_count": 126,
   "id": "8bb7a4bc",
   "metadata": {
    "pycharm": {
     "is_executing": true
    }
   },
   "outputs": [
    {
     "name": "stdout",
     "output_type": "stream",
     "text": [
      "WARN_UNDER_RECORD Former NBI value: [42.0]\n",
      "# //TODO - No modern value?\n",
      "\n"
     ]
    }
   ],
   "source": [
    "print(f\"WARN_UNDER_RECORD Former NBI value: [{first_bridge_NBI['PERCENT_ADT_TRUCK_109'].iloc[0]}]\")\n",
    "print(f\"# //TODO - No modern value?\\n\")\n",
    "\n",
    "# print(f\"Updated value: [{first_bridge.dfns_hwy_dsgt_sw}]\")"
   ]
  },
  {
   "cell_type": "markdown",
   "id": "ed4e41d9",
   "metadata": {},
   "source": [
    "## B.H.11 - Year of Annual Average Daily Traffic\n",
    "\n",
    "|  SNBI Format |  1995 Format |  Comments                      |\n",
    "|:------------:|:------------:|:------------------------------:|\n",
    "| N (4,0)      |  4/N\t      | Yes\tDirect transition. Assign to H02 feature. Applies to Highway |\n",
    "\n",
    "    30\tYear of Average Daily Traffic"
   ]
  },
  {
   "cell_type": "code",
   "execution_count": 127,
   "id": "9c68ab15",
   "metadata": {
    "pycharm": {
     "is_executing": true
    }
   },
   "outputs": [
    {
     "name": "stdout",
     "output_type": "stream",
     "text": [
      "WARN_UNDER_RECORD Former NBI value: [2013.0]\n",
      "# //TODO - No modern value?\n",
      "\n"
     ]
    }
   ],
   "source": [
    "print(f\"WARN_UNDER_RECORD Former NBI value: [{first_bridge_NBI['YEAR_ADT_030'].iloc[0]}]\")\n",
    "print(f\"# //TODO - No modern value?\\n\")\n",
    "\n",
    "# print(f\"Updated value: [{first_bridge.dfns_hwy_dsgt_sw}]\")"
   ]
  },
  {
   "cell_type": "markdown",
   "id": "25e1e38e",
   "metadata": {},
   "source": [
    "## B.H.12 - Highway Maximum Usable Vertical Clearance\n",
    "\n",
    "|  SNBI Format |  1995 Format |  Comments                      |\n",
    "|:------------:|:------------:|:------------------------------:|\n",
    "| N(3,1)       |  4/N  \t      | Yes\tConvert from metric to nearest tenth of a foot. Use 99.9 for values of 30 meters or greater. Assign to H02 feature. Applies to Highway |\n",
    "\n",
    "    10\tInventory Route, Minimum Vertical Clearance"
   ]
  },
  {
   "cell_type": "code",
   "execution_count": 128,
   "id": "a6038d97",
   "metadata": {
    "pycharm": {
     "is_executing": true
    }
   },
   "outputs": [
    {
     "name": "stdout",
     "output_type": "stream",
     "text": [
      "WARN_UNDER_RECORD Former NBI value: [5.27]\n",
      "WARN_UNDER_RECORD Converted  value: [17.2 foot]\n",
      "# //TODO - No modern value?\n",
      "\n"
     ]
    }
   ],
   "source": [
    "print(f\"WARN_UNDER_RECORD Former NBI value: [{first_bridge_NBI['MIN_VERT_CLR_010'].iloc[0]}]\")\n",
    "\n",
    "und_tot_vert_clr = add_units_to_NBI(first_bridge_NBI['MIN_VERT_CLR_010'].iloc[0], 'meter')\n",
    "und_tot_vert_clr_in_ft = math.floor(und_tot_vert_clr.to('foot').magnitude * 10) / 10 * units.foot\n",
    "\n",
    "print(f'WARN_UNDER_RECORD Converted  value: [{und_tot_vert_clr_in_ft:.1f}]')\n",
    "print(f\"# //TODO - No modern value?\\n\")\n",
    "# print(f\"Updated value: [{first_bridge.dfns_hwy_dsgt_sw}]\")"
   ]
  },
  {
   "cell_type": "markdown",
   "id": "9035d904",
   "metadata": {},
   "source": [
    "## B.H.16\tBH16\tHighway Maximum Usable Surface Width\t\n",
    "\n",
    "\t\t\t\n",
    "\n",
    "|  SNBI Format |  1995 Format |  Comments                      |\n",
    "|:------------:|:------------:|:------------------------------:|\n",
    "| N (3,1)      | 3/N \t      | Yes, Convert from metric to nearest tenth of a foot (round down). Use 99.9 for values of 30 meters or greater. Assign to H02 feature. Applies to Highway |\n",
    "\n",
    "    47\tInventory Route, Total Horizontal Clearance"
   ]
  },
  {
   "cell_type": "code",
   "execution_count": 129,
   "id": "73bc321e",
   "metadata": {
    "pycharm": {
     "is_executing": true
    }
   },
   "outputs": [
    {
     "name": "stdout",
     "output_type": "stream",
     "text": [
      "WARN_UNDER_RECORD Former NBI value: [9.1]\n",
      "WARN_UNDER_RECORD Converted  value: [29.8 foot]\n",
      "WARN_UNDER_RECORD Updated value: [30]\n"
     ]
    }
   ],
   "source": [
    "print(f\"WARN_UNDER_RECORD Former NBI value: [{first_bridge_NBI['HORR_CLR_MT_047'].iloc[0]}]\")\n",
    "\n",
    "und_tot_horz_clr = add_units_to_NBI(first_bridge_NBI['HORR_CLR_MT_047'].iloc[0], 'meter')\n",
    "und_tot_horz_clr_in_ft = math.floor(und_tot_horz_clr.to('foot').magnitude * 10) / 10 * units.foot\n",
    "\n",
    "print(f'WARN_UNDER_RECORD Converted  value: [{tot_horz_clr_in_ft:.1f}]')\n",
    "print(f\"WARN_UNDER_RECORD Updated value: [{first_bridge.min_horiz_clr_c}]\") # This is probably the over record value"
   ]
  },
  {
   "cell_type": "markdown",
   "id": "5cae4ebb",
   "metadata": {},
   "source": [
    "## B.H.17 - Bypass Detour Length\n",
    "\n",
    "|  SNBI Format |  1995 Format |  Comments                      |\n",
    "|:------------:|:------------:|:------------------------------:|\n",
    "| N (3,0)      |  3/N\t      | Yes\t199 converts to 999. Otherwise convert from metric to nearest tenth of a foot. Assign to H02 feature. Applies to Highway |\n",
    "\n",
    "    19\tBypass, Detour Length"
   ]
  },
  {
   "cell_type": "code",
   "execution_count": 130,
   "id": "de30ac46",
   "metadata": {
    "pycharm": {
     "is_executing": true
    }
   },
   "outputs": [
    {
     "name": "stdout",
     "output_type": "stream",
     "text": [
      "WARN_UNDER_RECORD Former NBI value: [80.0]\n",
      "\n",
      "Converted  value: [49.710 mile]\n",
      "WARN_UNDER_RECORD Updated value: [50]\n"
     ]
    }
   ],
   "source": [
    "print(f\"WARN_UNDER_RECORD Former NBI value: [{first_bridge_NBI['DETOUR_KILOS_019'].iloc[0]}]\")\n",
    "\n",
    "und_det_ln = add_units_to_NBI(first_bridge_NBI['DETOUR_KILOS_019'].iloc[0], 'kilometer')\n",
    "und_det_ln_in_mi = und_det_ln.to('miles')\n",
    "\n",
    "print(f'\\nConverted  value: [{und_det_ln_in_mi:.3f}]')\n",
    "print(f\"WARN_UNDER_RECORD Updated value: [{first_bridge.bypass_len}]\")"
   ]
  },
  {
   "cell_type": "markdown",
   "id": "015a6982",
   "metadata": {},
   "source": [
    "# Appendix Data and Definitions"
   ]
  },
  {
   "cell_type": "code",
   "execution_count": 131,
   "id": "fe7938d5",
   "metadata": {
    "pycharm": {
     "is_executing": true
    }
   },
   "outputs": [],
   "source": [
    "remainder_dict = {\n",
    "# TIMS attributes not currently used above\n",
    "'OBJECTID': 'OBJECTID)',\n",
    "'RTE_ON_BRG_CD': '(208) Route on the Bridge)',\n",
    "'INVENT_SPCL_DSGT': '(201) Special Designation)',\n",
    "'INVENT_ON_UND_CD': 'NBI 005A: Inventory Route: Record Type)',\n",
    "'PAINT_DT': '(483) Protective Coating System Date)',\n",
    "'YR_BUILT': '(263) Date Built)',\n",
    "'MAJ_RECON_DT': '(264) Major Reconstruction Date)',\n",
    "'LANES_UND': 'NBI 028B: Lanes Under the Structure)',\n",
    "'NBIS_LEN_SW': 'NBI 112: NBIS Bridge Length)',\n",
    "'INVENT_NHS_CD': 'NBI 104: Highway System of the Inventory Route)',\n",
    "'PARALLEL_STR_CD': 'NBI 101: Parallel Structure Designation)',\n",
    "'TEMP_STR_SW': 'NBI 103: Temporary Structure Designation)',\n",
    "'ROUTINE_RESP_CD': '(225A) Routine Maintenance Responsibility A)',\n",
    "'ROUTINE_RESP_CD_2': '(225B) Routine Maintenance Responsibility B)',\n",
    "'MAINT_RESP_CD': 'NBI 021: Maintenance Responsibility)',\n",
    "'MAINT_RESP_CD_2': '(21B) Major Maint. Responsibility B)',\n",
    "'INSP_RESP_CD': '(221A) Inspection Program Responsibility(A))',\n",
    "'INSP_RESP_CD_2': '(221B) Inspection Program Responsibility(B))',\n",
    "'NAV_CONTROL_SW': 'NBI 038: Navigation Control)',\n",
    "'SNOOPER_INSP_SW': '(92D.01) Snooper Inspection)',\n",
    "'PAINT': '(59.01) Protective Coating System (PCS))',\n",
    "'SUBS_SCOUR': '(61.01) Scour)',\n",
    "'GEN_APPRAISAL': '(67.01) General Appraisal (lowest bold))',\n",
    "'RAT_INV_LOAD_CD': 'NBI 065: Method Used to Determine Inventory Rating)',\n",
    "'BRG_POSTING': 'NBI 070: Bridge Posting)',\n",
    "'CALC_STR_EVAL': 'NBI 067: Structural Evaluation)',\n",
    "'CALC_DECK_GEOM': 'NBI 068: Deck Geometry)',\n",
    "'CALC_UNDC': 'NBI 069: Underclearances, Vertical and Horizontal',\n",
    "'WW_ADEQUACY_CD': 'NBI 071: Waterway Adequacy',\n",
    "'APPRH_ALGN_CD': 'NBI 072: Approach Roadway Alignment',\n",
    "'SURVEY_GUARDRAIL': 'NBI 036C: Traffic Safety Features: Approach Guardr... ',\n",
    "'SURVEY_RAIL_ENDS': 'NBI 036D: Traffic Safety Features: Approach Guardr... ',\n",
    "'FLARED_SW': 'NBI 035: Structure Flared',\n",
    "'IMPR_TYP_WORK_CD': 'NBI 075A: Type of Work: Type of Work Proposed',\n",
    "'IMPR_TYP_MEANS_CD': 'NBI 075B: Type of Work: Work Done by',\n",
    "'IMPR_LNG': 'NBI 076: Length of Structure Improvement',\n",
    "'IMPR_BRG_COST': 'NBI 094: Bridge Improvement Cost',\n",
    "'IMPR_RDW_COST': 'NBI 095: Roadway Improvement Cost',\n",
    "'IMPR_TOT_PROJ_COST': 'NBI 096: Total Project Cost',\n",
    "'IMPR_COST_EST_YR': 'NBI 097: Year of Improvement Cost Estimate',\n",
    "'FUTURE_ADT': 'NBI 114: Future Average Daily Traffic',\n",
    "'FUTURE_ADT_YR': 'NBI 115: Year of Future Average Daily Traffic',\n",
    "'DEDICATED_NME': '(203) Bridge Name (Dedicated Name)',\n",
    "'INVENT_PREF_RTE': '(206) Inventory Preferred Route',\n",
    "'MAJOR_BRG_SW': '(218) Major Bridge',\n",
    "'SEISMIC_SUSCEPT_CD': '(226) Seismic Susceptibility',\n",
    "'GASB_34_SW': '(227) GASB',\n",
    "'APERTURE_FABR_SW': '(245) Aperture Cards Fabrication',\n",
    "'APERTURE_ORIG_SW': '(246) Aperture Cards Original',\n",
    "'APERTURE_REP_SW': '(247) Aperture Cards Repair',\n",
    "'ORIG_PROJ_NBR': '(248) Original Construction Project Number',\n",
    "'STD_DRW_NBR': '(251) Standard Drawing Number',\n",
    "'MICROFILM_NBR': '(252) Microfilm Reel Number',\n",
    "'REMARKS': '(261) Bridge Remarks',\n",
    "'UTL_ELECTRIC_SW': '(265) Electric Line Present',\n",
    "'UTL_GAS_SW': '(266) Gas Line Present',\n",
    "'UTL_SEWER_SW': '(269) Sanitary Sewer Present',\n",
    "'NBIS_BRIDGE_LENGTH': '(306) NBIS Bridge Length',\n",
    "'RTE_UND_BRG_CD': '(207) Route System Under the Bridge',\n",
    "'LOAD_RAT_PCT': '(734) Ohio Percent Legal',\n",
    "'LOAD_RAT_YR': '(704) Load Rating Date',\n",
    "'RATING_SOFT_CD': '(708) Load Rating Software',\n",
    "'CATWALKS_SW': '(459) Inspection Access System',\n",
    "'RETIRE_REASON_CD': '(257) Record Retiring Reason',\n",
    "'REC_ADD_DT': '(259) Record Add Date',\n",
    "'MPO_CD': '(204) Ohio Designated MPO',\n",
    "'TEMP_SUBDECKING_SW': '(224) Temporary Subdecking',\n",
    "'APPRH_SLAB_SW': '(404) Approach Slab Type',\n",
    "'RAILING_TYP_CD': '(407) Bridge Railing Type',\n",
    "'COMPOSITE_STR_CD': '(408) Composite Deck Code',\n",
    "'ELAS_STRP_TROU2_SW': '(419) Expansion Joint with Trough Retrofit 2',\n",
    "'ELAS_STRP_TROU3_SW': '(421) Joint Trough (Y/N)',\n",
    "'FENCING_SW': '(431) Fence',\n",
    "'GLARE_SCREEN_SW': '(433) Glare Screen',\n",
    "'NOISE_BARRIER_SW': '(434) Noise Barrier Walls',\n",
    "'DECK_AREA': '(424) Deck Area',\n",
    "'CURB_SIDW_MTL_L': '(427) Left Sidewalk/Curb Material',\n",
    "'CURB_SIDW_MTL_R': '(428) Left Sidewalk/Curb Type',\n",
    "'CURB_SIDW_TYP_L': '(429) Right Sidewalk/Curb Material',\n",
    "'CURB_SIDW_TYP_R': '(430) Right Sidewalk/Curb Type',\n",
    "'HINGE_CD': '(468) Hinges/Pins/Hangers Type',\n",
    "'DECK_DRN_CD': '(409) Deck Drainage Type',\n",
    "'DECK_CONC_TYP_CD': '(411) Deck Concrete Type',\n",
    "'EXPN_JOINT1_CD': '(414A) Expansion Joint Type 1',\n",
    "'EXPN_JOINT2_CD': '(414B) Expansion Joint Type 2',\n",
    "'EXPN_JOINT3_CD': '(414C) Expansion Joint Type 3',\n",
    "'HORIZ_CRV_RADIUS': '(301) Horizontal Curve Degree',\n",
    "'BEARING_DEVICE1_CD': '(453) Bearing Device 1, Type',\n",
    "'BEARING_DEVICE2_CD': '(455) Bearing Device 2, Type',\n",
    "'FRAMING_TYP_CD': '(465) Framing Type',\n",
    "'HAUNCH_GIRD_SW': '(466) Haunched Girder',\n",
    "'LONG_MEMB_TYP_CD': '(474) Main Structure System',\n",
    "'MAIN_MEM_CD': '(475) Main Member Type',\n",
    "'STR_STEEL_PROT_CD': '(482) Protective Coating System Type',\n",
    "'PRED_STR_STEEL_TYP': '(487) Structural Member Steel Type',\n",
    "'PAINT_SURFACE_AREA': '(498) Protective Coating System Surface Area',\n",
    "'STR_STEEL_PAINT_CD': '(499) Structural Steel Paint',\n",
    "'POST_TENSION_SW': '(478) Post Tensioned Main Member Code',\n",
    "'ABUT_FWD_TYP_CD': '(526) Abutment Forward Type',\n",
    "'ABUT_FWD_MATL_CD': '(527) Abutment Forward Material Type',\n",
    "'ABUT_FWD_CD': '(528) Abutment Forward - Foundation Type',\n",
    "'ABUT_REAR_TYP_CD': '(531) Abutment Rear Type',\n",
    "'ABUT_REAR_MATL_CD': '(532) Abutment Rear Material Type',\n",
    "'ABUT_REAR_CD': '(533) Abutment Rear - Foundation Type',\n",
    "'PRED_PIER_TYP_CD': '(534) Pier 1 (Predominate) Type',\n",
    "'PRED_PIER_MATL_CD': '(535) Pier 1 (Predominate) Material',\n",
    "'PIER_PRED_CD': '(536) Pier 1 Type - Foundation Type',\n",
    "'PIER_1_TYP_CD': '(537) Pier 2 Type',\n",
    "'PIER_1_MATL_CD': '(538) Pier 2 Material',\n",
    "'PIER_OTH1_CD': '(539) Pier 2 Type - Foundation Type',\n",
    "'SLOPE_PROT_TYP_CD': '(547) Slope Protection Type',\n",
    "'CULVERT_TYP_CD': '(575) Culvert Type',\n",
    "'CULVERT_LEN': '(578) Culvert Length Inlet_to_Outlet',\n",
    "'CULVERT_FILL_DEPTH': '(580) Fill Depth Over Culvert',\n",
    "'SCENIC_WATERWAY_SW': '(651) Scenic River',\n",
    "'CHAN_PROT_TYPE_CD': '(655) Channel Protection Type',\n",
    "'STREAM_VELOCITY': '(663) Stream Velocity',\n",
    "'HIST_TYP_CD': '(828) Historical Bridge Type',\n",
    "'HIST_BUILDER_CD': '(831) Historical Builder',\n",
    "'SUFF_RATING': 'Unofficial Sufficiency Rating',\n",
    "'DEFIC_FUNC_RATING': 'Status',\n",
    "'MAIN_STR_DESCR_CD': '(43C) Main Structure Description',\n",
    "'APPRH_STR_DESCR_CD': '(44C) Approach Structure Description',\n",
    "'HIST_BUILD_YR': '(827) Historical Year Built',\n",
    "'NLFID': 'NLFID',\n",
    "'CTL_BEGIN_NBR': 'CTL_BEGIN_NBR',\n",
    "'ROUTE_TYPE': 'ROUTE_TYPE',\n",
    "'ROUTE_NBR': 'ROUTE_NBR',\n",
    "'ROUTE_SUFFIX': 'ROUTE_SUFFIX',\n",
    "'ROUTINE_INSP_DUE': 'ROUTINE_INSP_DUE',\n",
    "'FRAC_CRIT_INSP_DUE': 'FRAC_CRIT_INSP_DUE',\n",
    "'DIVE_INSP_DUE': 'DIVE_INSP_DUE',\n",
    "'SPCL_INSP_DUE': 'SPCL_INSP_DUE',\n",
    "'BIA_REPORT': 'BIA_REPORT',\n",
    "'STATE_ROUTE_BR_PHOTOS': 'STATE_ROUTE_BR_PHOTOS',\n",
    "'JURISDICTION': 'JURISDICTION',\n",
    "'DIVIDED_HWY': 'DIVIDED_HWY',\n",
    "'ACCESS_CONTROL': 'ACCESS_CONTROL',\n",
    "'URBAN_AREA_CODE': 'URBAN_AREA_CODE',\n",
    "'BASE_TYPE': 'BASE_TYPE',\n",
    "'FUNCTIONAL_CLASS': 'FUNCTIONAL_CLASS',\n",
    "'HPMS_SAMPLE_ID': 'HPMS_SAMPLE_ID',\n",
    "'LANES': 'LANES',\n",
    "'NHS': 'NHS',\n",
    "'PRIORITY_SYSTEM': 'PRIORITY_SYSTEM',\n",
    "'SURFACE_TYPE': 'SURFACE_TYPE',\n",
    "'SURFACE_WIDTH': 'SURFACE_WIDTH',\n",
    "'ESAL_TOTAL': 'ESAL_TOTAL',\n",
    "'PAVE_TYPE': 'PAVE_TYPE',\n",
    "'PCR_YEAR': 'PCR_YEAR',\n",
    "'ROADWAY_WIDTH_NBR': 'ROADWAY_WIDTH_NBR',\n",
    "'created_user': 'created_user',\n",
    "'created_date': 'created_date',\n",
    "'last_edited_user': 'last_edited_user',\n",
    "'last_edited_date': 'last_edited_date',\n",
    "'SHAPE': 'SHAPE'\n",
    "}"
   ]
  },
  {
   "cell_type": "code",
   "execution_count": 132,
   "id": "8f46afd5",
   "metadata": {
    "pycharm": {
     "is_executing": true
    }
   },
   "outputs": [
    {
     "data": {
      "text/plain": [
       "{'SFN': 2701464,\n",
       " 'objectid': 27678093,\n",
       " 'sfn': '2701464',\n",
       " 'str_loc_carried': 'US 35-SILVER MEMOR',\n",
       " 'rte_on_brg_cd': '10',\n",
       " 'district': '10',\n",
       " 'county_cd': 'GAL',\n",
       " 'invent_spcl_dsgt': '',\n",
       " 'fips_cd': '29218',\n",
       " 'invent_on_und_cd': '1',\n",
       " 'invent_hwy_sys_cd': '2',\n",
       " 'invent_hwy_dsgt_cd': '1',\n",
       " 'invent_dir_sfx_cd': '0',\n",
       " 'invent_feat': 'OHIO RIVER',\n",
       " 'str_loc': 'JUST N OF GALLIPOLIS',\n",
       " 'latitude_dd': 38.835555,\n",
       " 'longitude_dd': -82.148911,\n",
       " 'brdr_brg_state': '543',\n",
       " 'brdr_brg_pct_resp': '79',\n",
       " 'brdr_brg_sfn': '00000000027A063',\n",
       " 'main_str_mtl_cd': '3',\n",
       " 'main_str_type_cd': '10',\n",
       " 'apprh_str_mtl_cd': '3',\n",
       " 'apprh_str_type_cd': '10',\n",
       " 'main_spans': 1,\n",
       " 'apprh_spans': 4,\n",
       " 'deck_cd': '1',\n",
       " 'deck_prot_extl_cd': '0',\n",
       " 'deck_prot_int_cd': '7',\n",
       " 'wear_surf_dt': None,\n",
       " 'wearing_surf_cd': '3',\n",
       " 'wearing_surf_thck': 0,\n",
       " 'paint_dt': None,\n",
       " 'yr_built': -15897600000,\n",
       " 'maj_recon_dt': None,\n",
       " 'type_serv1_cd': '1',\n",
       " 'type_serv2_cd': '5',\n",
       " 'lanes_on': 4,\n",
       " 'lanes_und': 0,\n",
       " 'invent_rte_adt': 22900,\n",
       " 'bypass_len': '50',\n",
       " 'nbis_len_sw': 'Y',\n",
       " 'invent_nhs_cd': '1',\n",
       " 'func_clas_cd': '12',\n",
       " 'dfns_hwy_dsgt_sw': '0',\n",
       " 'parallel_str_cd': 'N',\n",
       " 'dir_traffic_cd': '2',\n",
       " 'temp_str_sw': '',\n",
       " 'dsgt_natl_netw_sw': '1',\n",
       " 'toll_cd': '3',\n",
       " 'routine_resp_cd': '01',\n",
       " 'routine_resp_cd_2': '01',\n",
       " 'maint_resp_cd': '01',\n",
       " 'maint_resp_cd_2': '01',\n",
       " 'insp_resp_cd': '01',\n",
       " 'insp_resp_cd_2': '01',\n",
       " 'hist_sgn_cd': '5',\n",
       " 'nav_control_sw': '1',\n",
       " 'nav_vrt_clr': 69,\n",
       " 'nav_horiz_clr': 870,\n",
       " 'subs_fenders': '1',\n",
       " 'min_nav_vrt_clr': 0,\n",
       " 'insp_dt': 1591660800000,\n",
       " 'dsgt_insp_freq': 24,\n",
       " 'frac_crit_insp_sw': 'Y',\n",
       " 'fraccrit_insp_freq': 12,\n",
       " 'frac_crit_insp_dt': 1624492800000,\n",
       " 'dive_insp_sw': 'Y',\n",
       " 'dive_insp_freq': 60,\n",
       " 'dive_insp_dt': 1564617600000,\n",
       " 'spcl_insp_sw': 'Y',\n",
       " 'spcl_insp_freq': 12,\n",
       " 'spcl_insp_dt': 1624492800000,\n",
       " 'snooper_insp_sw': 'N',\n",
       " 'deck_summary': '7',\n",
       " 'deck_wear_surf': 'N',\n",
       " 'deck_expn_joints': '',\n",
       " 'sups_summary': '5',\n",
       " 'paint': 'N',\n",
       " 'subs_summary': '7',\n",
       " 'chan_summary': '7',\n",
       " 'subs_scour': '',\n",
       " 'culvert_summary': 'N',\n",
       " 'gen_appraisal': '5',\n",
       " 'design_load_cd': '5',\n",
       " 'rat_opr_load_fact': '9999',\n",
       " 'rat_inv_load_cd': '5',\n",
       " 'rat_inv_load_fact': '9999',\n",
       " 'gen_opr_status': 'A',\n",
       " 'brg_posting': '5',\n",
       " 'calc_str_eval': '5',\n",
       " 'calc_deck_geom': '4',\n",
       " 'calc_undc': 'N',\n",
       " 'ww_adequacy_cd': '9',\n",
       " 'apprh_algn_cd': '8',\n",
       " 'survey_railing': 'N',\n",
       " 'survey_transition': 'N',\n",
       " 'survey_guardrail': 'N',\n",
       " 'survey_rail_ends': 'N',\n",
       " 'scour_crit_cd': '5',\n",
       " 'max_span_len': 900,\n",
       " 'ovrl_str_len': 1964.2,\n",
       " 'sidw_wd_l': 0,\n",
       " 'sidw_wd_r': 0,\n",
       " 'brg_rdw_wd': 59.8,\n",
       " 'deck_wd': 64.3,\n",
       " 'apprh_rdw_wd': 29,\n",
       " 'median_cd': '3',\n",
       " 'skew_deg': 0,\n",
       " 'flared_sw': '0',\n",
       " 'min_horiz_clr_c': 30,\n",
       " 'minvrt_undclr_c': 17,\n",
       " 'impr_typ_work_cd': '35',\n",
       " 'impr_typ_means_cd': '1',\n",
       " 'impr_lng': 1964,\n",
       " 'impr_brg_cost': 30000,\n",
       " 'impr_rdw_cost': 0,\n",
       " 'impr_tot_proj_cost': 30000,\n",
       " 'impr_cost_est_yr': 2017,\n",
       " 'future_adt': 31785,\n",
       " 'future_adt_yr': 2040,\n",
       " 'dedicated_nme': 'SILVER MEMORIAL BRIDGE',\n",
       " 'invent_pref_rte': 'N',\n",
       " 'major_brg_sw': 'Y',\n",
       " 'invent_county': 'DIS',\n",
       " 'seismic_suscept_cd': 'N',\n",
       " 'gasb_34_sw': 'Y',\n",
       " 'aperture_fabr_sw': '2',\n",
       " 'aperture_orig_sw': '2',\n",
       " 'aperture_rep_sw': '2',\n",
       " 'orig_proj_nbr': '',\n",
       " 'std_drw_nbr': '',\n",
       " 'microfilm_nbr': '',\n",
       " 'remarks': '',\n",
       " 'utl_electric_sw': 'U',\n",
       " 'utl_gas_sw': 'N',\n",
       " 'utl_sewer_sw': 'N',\n",
       " 'nbis_bridge_length': 1964.2,\n",
       " 'rte_und_brg_cd': '99',\n",
       " 'load_rat_pct': 150,\n",
       " 'load_rat_yr': 2012,\n",
       " 'rating_soft_cd': '0',\n",
       " 'catwalks_sw': 'Y',\n",
       " 'retire_reason_cd': '',\n",
       " 'rec_add_dt': 1348444800000,\n",
       " 'mpo_cd': 'NN',\n",
       " 'temp_subdecking_sw': 'N',\n",
       " 'apprh_slab_sw': 'N',\n",
       " 'median_typ1_cd': '1',\n",
       " 'median_typ2_cd': 'N',\n",
       " 'median_typ3_cd': 'N',\n",
       " 'railing_typ_cd': 'C',\n",
       " 'composite_str_cd': 'Y',\n",
       " 'elas_strp_trou2_sw': '',\n",
       " 'elas_strp_trou3_sw': '',\n",
       " 'fencing_sw': 'N',\n",
       " 'glare_screen_sw': 'N',\n",
       " 'noise_barrier_sw': 'N',\n",
       " 'deck_area': 126298,\n",
       " 'curb_sidw_mtl_l': 'N',\n",
       " 'curb_sidw_mtl_r': 'N',\n",
       " 'curb_sidw_typ_l': 'N',\n",
       " 'curb_sidw_typ_r': 'N',\n",
       " 'hinge_cd': 'N',\n",
       " 'deck_drn_cd': '3',\n",
       " 'deck_conc_typ_cd': 'U',\n",
       " 'expn_joint1_cd': '1',\n",
       " 'expn_joint2_cd': 'N',\n",
       " 'expn_joint3_cd': 'N',\n",
       " 'horiz_crv_radius': '',\n",
       " 'bearing_device1_cd': '1',\n",
       " 'bearing_device2_cd': '2',\n",
       " 'framing_typ_cd': 'N',\n",
       " 'haunch_gird_sw': 'N',\n",
       " 'long_memb_typ_cd': '4',\n",
       " 'main_mem_cd': 'N',\n",
       " 'str_steel_prot_cd': 'N',\n",
       " 'pred_str_steel_typ': 'U',\n",
       " 'paint_surface_area': 0,\n",
       " 'str_steel_paint_cd': 'N',\n",
       " 'post_tension_sw': 'N',\n",
       " 'abut_fwd_typ_cd': '9',\n",
       " 'abut_fwd_matl_cd': '2',\n",
       " 'abut_fwd_cd': '8',\n",
       " 'abut_rear_typ_cd': '9',\n",
       " 'abut_rear_matl_cd': '2',\n",
       " 'abut_rear_cd': '8',\n",
       " 'pred_pier_typ_cd': '1',\n",
       " 'pred_pier_matl_cd': '2',\n",
       " 'pier_pred_cd': '4',\n",
       " 'pier_1_typ_cd': '8',\n",
       " 'pier_1_matl_cd': '2',\n",
       " 'pier_oth1_cd': '8',\n",
       " 'slope_prot_typ_cd': 'N',\n",
       " 'culvert_typ_cd': 'N',\n",
       " 'culvert_len': 0,\n",
       " 'culvert_fill_depth': 0,\n",
       " 'scenic_waterway_sw': 'N',\n",
       " 'chan_prot_type_cd': '0',\n",
       " 'stream_velocity': '00000',\n",
       " 'hist_typ_cd': '009',\n",
       " 'hist_builder_cd': '000',\n",
       " 'suff_rating': '066.0',\n",
       " 'defic_func_rating': '0',\n",
       " 'main_str_descr_cd': 'N',\n",
       " 'apprh_str_descr_cd': 'N',\n",
       " 'hist_build_yr': '1969',\n",
       " 'nlfid': None,\n",
       " 'ctl_begin_nbr': None,\n",
       " 'route_type': None,\n",
       " 'route_nbr': None,\n",
       " 'route_suffix': None,\n",
       " 'routine_insp_due': 1654041600000,\n",
       " 'frac_crit_insp_due': 1654041600000,\n",
       " 'dive_insp_due': 1722470400000,\n",
       " 'spcl_insp_due': 1654041600000,\n",
       " 'bia_report': 'https://smsreports.dot.state.oh.us/CreateReport.aspx?SFN=2701464&IsBIA=true',\n",
       " 'state_route_br_photos': 'https://brphotos.dot.state.oh.us/Bridges.aspx?county=GAL',\n",
       " 'jurisdiction': None,\n",
       " 'divided_hwy': None,\n",
       " 'access_control': None,\n",
       " 'urban_area_code': None,\n",
       " 'base_type': None,\n",
       " 'functional_class': None,\n",
       " 'hpms_sample_id': None,\n",
       " 'lanes': None,\n",
       " 'maintenance_authority': None,\n",
       " 'nhs': None,\n",
       " 'priority_system': None,\n",
       " 'surface_type': None,\n",
       " 'surface_width': None,\n",
       " 'esal_total': None,\n",
       " 'pave_type': None,\n",
       " 'pcr_year': None,\n",
       " 'roadway_width_nbr': None,\n",
       " 'created_user': 'TIMS@P31_AG',\n",
       " 'created_date': 1683535378000,\n",
       " 'last_edited_user': 'TIMS@P31_AG',\n",
       " 'last_edited_date': 1683535378000,\n",
       " 'photo_url': '',\n",
       " 'plan_sets_list': [],\n",
       " 'latitude': 38.835555,\n",
       " 'longitude': -82.148911,\n",
       " 'map': <folium.folium.Map at 0x1c7da821d60>}"
      ]
     },
     "execution_count": 132,
     "metadata": {},
     "output_type": "execute_result"
    }
   ],
   "source": [
    "first_bridge.__dict__"
   ]
  },
  {
   "attachments": {
    "image.png": {
     "image/png": "[encoded data removed]"
    }
   },
   "cell_type": "markdown",
   "id": "e3df545c",
   "metadata": {},
   "source": [
    "![image.png](attachment:image.png)"
   ]
  },
  {
   "cell_type": "code",
   "execution_count": null,
   "id": "9e32ac48",
   "metadata": {
    "pycharm": {
     "is_executing": true
    }
   },
   "outputs": [],
   "source": []
  }
 ],
 "metadata": {
  "kernelspec": {
   "display_name": "Python 3 (ipykernel)",
   "language": "python",
   "name": "python3"
  },
  "language_info": {
   "codemirror_mode": {
    "name": "ipython",
    "version": 3
   },
   "file_extension": ".py",
   "mimetype": "text/x-python",
   "name": "python",
   "nbconvert_exporter": "python",
   "pygments_lexer": "ipython3",
   "version": "3.9.5"
  }
 },
 "nbformat": 4,
 "nbformat_minor": 5
}
