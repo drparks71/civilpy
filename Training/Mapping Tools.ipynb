{
 "cells": [
  {
   "cell_type": "markdown",
   "id": "a5b890b2-9b83-4f66-b777-df8fd83a521d",
   "metadata": {},
   "source": [
    "# Displaying a basic map"
   ]
  },
  {
   "cell_type": "code",
   "execution_count": 1,
   "id": "a99541ea-89aa-49e6-a0c0-0f88d1cbae39",
   "metadata": {
    "tags": []
   },
   "outputs": [],
   "source": [
    "# Lines that start with `#` are comments, they don't execute code, these next lines import the necessary libraries to process the data\n",
    "import os\n",
    "import re\n",
    "import folium\n",
    "import openpyxl\n",
    "import pandas as pd\n",
    "import earthpy as et\n",
    "import geopandas as gpd\n",
    "from pathlib import Path"
   ]
  },
  {
   "cell_type": "code",
   "execution_count": 2,
   "id": "aea7bc96-618b-484c-baf7-6046833f5a95",
   "metadata": {
    "tags": []
   },
   "outputs": [
    {
     "data": {
      "text/html": [
       "<div style=\"width:100%;\"><div style=\"position:relative;width:100%;height:0;padding-bottom:60%;\"><span style=\"color:#565656\">Make this Notebook Trusted to load map: File -> Trust Notebook</span><iframe srcdoc=\"&lt;!DOCTYPE html&gt;\n",
       "&lt;html&gt;\n",
       "&lt;head&gt;\n",
       "    \n",
       "    &lt;meta http-equiv=&quot;content-type&quot; content=&quot;text/html; charset=UTF-8&quot; /&gt;\n",
       "    \n",
       "        &lt;script&gt;\n",
       "            L_NO_TOUCH = false;\n",
       "            L_DISABLE_3D = false;\n",
       "        &lt;/script&gt;\n",
       "    \n",
       "    &lt;style&gt;html, body {width: 100%;height: 100%;margin: 0;padding: 0;}&lt;/style&gt;\n",
       "    &lt;style&gt;#map {position:absolute;top:0;bottom:0;right:0;left:0;}&lt;/style&gt;\n",
       "    &lt;script src=&quot;https://cdn.jsdelivr.net/npm/leaflet@1.9.3/dist/leaflet.js&quot;&gt;&lt;/script&gt;\n",
       "    &lt;script src=&quot;https://code.jquery.com/jquery-1.12.4.min.js&quot;&gt;&lt;/script&gt;\n",
       "    &lt;script src=&quot;https://cdn.jsdelivr.net/npm/bootstrap@5.2.2/dist/js/bootstrap.bundle.min.js&quot;&gt;&lt;/script&gt;\n",
       "    &lt;script src=&quot;https://cdnjs.cloudflare.com/ajax/libs/Leaflet.awesome-markers/2.0.2/leaflet.awesome-markers.js&quot;&gt;&lt;/script&gt;\n",
       "    &lt;link rel=&quot;stylesheet&quot; href=&quot;https://cdn.jsdelivr.net/npm/leaflet@1.9.3/dist/leaflet.css&quot;/&gt;\n",
       "    &lt;link rel=&quot;stylesheet&quot; href=&quot;https://cdn.jsdelivr.net/npm/bootstrap@5.2.2/dist/css/bootstrap.min.css&quot;/&gt;\n",
       "    &lt;link rel=&quot;stylesheet&quot; href=&quot;https://netdna.bootstrapcdn.com/bootstrap/3.0.0/css/bootstrap.min.css&quot;/&gt;\n",
       "    &lt;link rel=&quot;stylesheet&quot; href=&quot;https://cdn.jsdelivr.net/npm/@fortawesome/fontawesome-free@6.2.0/css/all.min.css&quot;/&gt;\n",
       "    &lt;link rel=&quot;stylesheet&quot; href=&quot;https://cdnjs.cloudflare.com/ajax/libs/Leaflet.awesome-markers/2.0.2/leaflet.awesome-markers.css&quot;/&gt;\n",
       "    &lt;link rel=&quot;stylesheet&quot; href=&quot;https://cdn.jsdelivr.net/gh/python-visualization/folium/folium/templates/leaflet.awesome.rotate.min.css&quot;/&gt;\n",
       "    \n",
       "            &lt;meta name=&quot;viewport&quot; content=&quot;width=device-width,\n",
       "                initial-scale=1.0, maximum-scale=1.0, user-scalable=no&quot; /&gt;\n",
       "            &lt;style&gt;\n",
       "                #map_8b551b67903ff23e5e197324c81fc061 {\n",
       "                    position: relative;\n",
       "                    width: 100.0%;\n",
       "                    height: 100.0%;\n",
       "                    left: 0.0%;\n",
       "                    top: 0.0%;\n",
       "                }\n",
       "                .leaflet-container { font-size: 1rem; }\n",
       "            &lt;/style&gt;\n",
       "        \n",
       "&lt;/head&gt;\n",
       "&lt;body&gt;\n",
       "    \n",
       "    \n",
       "            &lt;div class=&quot;folium-map&quot; id=&quot;map_8b551b67903ff23e5e197324c81fc061&quot; &gt;&lt;/div&gt;\n",
       "        \n",
       "&lt;/body&gt;\n",
       "&lt;script&gt;\n",
       "    \n",
       "    \n",
       "            var map_8b551b67903ff23e5e197324c81fc061 = L.map(\n",
       "                &quot;map_8b551b67903ff23e5e197324c81fc061&quot;,\n",
       "                {\n",
       "                    center: [39.983334, -82.98333],\n",
       "                    crs: L.CRS.EPSG3857,\n",
       "                    zoom: 11,\n",
       "                    zoomControl: true,\n",
       "                    preferCanvas: false,\n",
       "                }\n",
       "            );\n",
       "\n",
       "            \n",
       "\n",
       "        \n",
       "    \n",
       "            var tile_layer_c1d081f0dce6d7a948000ed2aa470a9e = L.tileLayer(\n",
       "                &quot;https://{s}.tile.openstreetmap.org/{z}/{x}/{y}.png&quot;,\n",
       "                {&quot;attribution&quot;: &quot;Data by \\u0026copy; \\u003ca target=\\&quot;_blank\\&quot; href=\\&quot;http://openstreetmap.org\\&quot;\\u003eOpenStreetMap\\u003c/a\\u003e, under \\u003ca target=\\&quot;_blank\\&quot; href=\\&quot;http://www.openstreetmap.org/copyright\\&quot;\\u003eODbL\\u003c/a\\u003e.&quot;, &quot;detectRetina&quot;: false, &quot;maxNativeZoom&quot;: 18, &quot;maxZoom&quot;: 18, &quot;minZoom&quot;: 0, &quot;noWrap&quot;: false, &quot;opacity&quot;: 1, &quot;subdomains&quot;: &quot;abc&quot;, &quot;tms&quot;: false}\n",
       "            ).addTo(map_8b551b67903ff23e5e197324c81fc061);\n",
       "        \n",
       "&lt;/script&gt;\n",
       "&lt;/html&gt;\" style=\"position:absolute;width:100%;height:100%;left:0;top:0;border:none !important;\" allowfullscreen webkitallowfullscreen mozallowfullscreen></iframe></div></div>"
      ],
      "text/plain": [
       "<folium.folium.Map at 0x14ecbcb7fa0>"
      ]
     },
     "execution_count": 2,
     "metadata": {},
     "output_type": "execute_result"
    }
   ],
   "source": [
    "# Create a map using the City of Columbus's GPS Coordinates\n",
    "map_osm = folium.Map(location=[39.983334, -82.983330], zoom_start=11)\n",
    "map_osm"
   ]
  },
  {
   "cell_type": "markdown",
   "id": "505be831-4a71-4c1b-8409-f9e4b17b496c",
   "metadata": {
    "tags": []
   },
   "source": [
    "# Building out a map from datapoints\n",
    "\n",
    "List of relevant Bridges to D6 - Within \"D6 Bridge Records project (ODOT internal)\": `Bridge_Record_CSVs_(Tracked_Changes)/BridgeListFromAssetWise.xlsx`\n",
    "\n",
    "Excel file is every bridge in Assetwise assigned to D6, filtered in assetwise and then exported as an excel file.\n",
    "\n",
    "Loading file via python (change the path in the next cell to use your own data):"
   ]
  },
  {
   "cell_type": "code",
   "execution_count": 3,
   "id": "7dc561c5-d4d9-468b-a66d-57dec34fde93",
   "metadata": {
    "tags": []
   },
   "outputs": [],
   "source": [
    "assetwise_export_path = Path(\"C:\\\\Users\\\\dparks1\\\\PycharmProjects\\\\D6_Bridge_Records\\\\Bridge_Record_CSVs_(Tracked_Changes)\\\\BridgeListFromAssetWise.xlsx\")"
   ]
  },
  {
   "cell_type": "code",
   "execution_count": 4,
   "id": "a16eb37f-53e1-4d7c-bb38-b9fa78c64d59",
   "metadata": {
    "tags": []
   },
   "outputs": [],
   "source": [
    "wb = openpyxl.load_workbook(assetwise_export_path)"
   ]
  },
  {
   "cell_type": "markdown",
   "id": "7f8111a5-eb0b-4be6-a72d-f5edc4b9edc8",
   "metadata": {},
   "source": [
    "make sure the correct file was found and that the hyperlinks are working/available by printing out first hyperlink:"
   ]
  },
  {
   "cell_type": "code",
   "execution_count": 5,
   "id": "6b544bbb-ca1f-4f3a-bf33-03ed3a7cf129",
   "metadata": {
    "tags": []
   },
   "outputs": [
    {
     "name": "stdout",
     "output_type": "stream",
     "text": [
      "https://ohiodot-it.bentley.com/bridgedetail.aspx?type=0&as_id=78769\n"
     ]
    }
   ],
   "source": [
    "ws = wb[\"BridgeListFromAssetWise\"]\n",
    "print(ws.cell(row=2, column=1).hyperlink.target)"
   ]
  },
  {
   "cell_type": "markdown",
   "id": "1d983dd7-f4ba-494f-b1d6-00ddebbd0074",
   "metadata": {
    "tags": []
   },
   "source": [
    "## Using Pandas to access and filter raw data\n",
    "\n",
    "openpyxl is good for accessing aspects of excel's interface, like reading hyperlinks, but to filter/modify data, it needs to be loaded into pandas\n",
    "\n",
    "filter bridges by state maintenance (Column H - NBI 21 = 01)"
   ]
  },
  {
   "cell_type": "code",
   "execution_count": 6,
   "id": "353beaf7-a29c-4b07-805e-9157fc520a71",
   "metadata": {
    "tags": []
   },
   "outputs": [],
   "source": [
    "# Read the data into memory\n",
    "all_bridges_df = pd.read_excel(assetwise_export_path)\n",
    "\n",
    "# Filter the data\n",
    "d6_bridges = all_bridges_df.loc[all_bridges_df['NBI 021: Maintenance Responsibility(Report)'] == 1.0]"
   ]
  },
  {
   "cell_type": "markdown",
   "id": "b18f7a62-69e6-4970-bf05-91a4f5082749",
   "metadata": {},
   "source": [
    "Make sure the only values left in the table are one's ODOT Maintains"
   ]
  },
  {
   "cell_type": "code",
   "execution_count": 7,
   "id": "9d54b998-4318-471e-b71d-27f6735cff76",
   "metadata": {
    "tags": []
   },
   "outputs": [
    {
     "data": {
      "text/plain": [
       "array([1.])"
      ]
     },
     "execution_count": 7,
     "metadata": {},
     "output_type": "execute_result"
    }
   ],
   "source": [
    "# Displays all unique values contained in the specified column of the dataframe\n",
    "d6_bridges['NBI 021: Maintenance Responsibility(Report)'].unique()"
   ]
  },
  {
   "cell_type": "markdown",
   "id": "8bfe95cd-9f8b-4fec-9c0a-f9e945e55516",
   "metadata": {},
   "source": [
    "## Getting SFN from larger string\n",
    "\n",
    "The format assetwise uses to hold the bridge name is regular, but not simple. Although Regex isn't necessarily required for this bit, as the built in split function for strings would work, it's powerful and understanding it is helpful.\n",
    "\n",
    "The goal is to get all the characters between the `(` and `)` from the following value. [This website](https://regex101.com/) is useful for testing the patterns, in this case, the pattern used is `'\\((.*?)\\)'`."
   ]
  },
  {
   "cell_type": "code",
   "execution_count": 8,
   "id": "9d25bda1-0176-4194-a218-45ccc67a3b54",
   "metadata": {
    "tags": []
   },
   "outputs": [
    {
     "data": {
      "text/plain": [
       "'FAY-00035-2066 _(2400588)'"
      ]
     },
     "execution_count": 8,
     "metadata": {},
     "output_type": "execute_result"
    }
   ],
   "source": [
    "# Display the text that will be searched in the next cell\n",
    "d6_bridges.iloc[0]['Asset Name']"
   ]
  },
  {
   "cell_type": "code",
   "execution_count": 9,
   "id": "36338d52-d8c6-4ca4-a8f4-7b5665bc9ab9",
   "metadata": {
    "tags": []
   },
   "outputs": [
    {
     "data": {
      "text/plain": [
       "'2400588'"
      ]
     },
     "execution_count": 9,
     "metadata": {},
     "output_type": "execute_result"
    }
   ],
   "source": [
    "# Use a regular expression to extract the necessary value from the data and print it\n",
    "bridge_sfn = re.search(r'\\((.*?)\\)',d6_bridges.iloc[0]['Asset Name']).group(1)\n",
    "bridge_sfn"
   ]
  },
  {
   "cell_type": "markdown",
   "id": "7753a77b-ce5b-4ac0-a7d9-7fd4afa92ef8",
   "metadata": {},
   "source": [
    "Now that we have the bridge's SFN, we can use the existing Civilpy tools to get a map for the structure, and various attributes from TIMs for it."
   ]
  },
  {
   "cell_type": "code",
   "execution_count": 10,
   "id": "2e64415f-acdd-40ef-9a5d-365e43f3dc19",
   "metadata": {
    "tags": []
   },
   "outputs": [
    {
     "name": "stdout",
     "output_type": "stream",
     "text": [
      "\n",
      "TIMS Bridge Initiated\n",
      "\n",
      "\n",
      "Retrieving data from url at https://gis.dot.state.oh.us//arcgis/rest/services/TIMS/Assets/MapServer/5/27715386?f=pjson\n",
      "\n"
     ]
    }
   ],
   "source": [
    "# Load the library I wrote/published\n",
    "from civilpy.state.ohio.dot import TimsBridge\n",
    "\n",
    "# Lookup bridge values by sfn\n",
    "bridge_lookup_result = TimsBridge(bridge_sfn)"
   ]
  },
  {
   "cell_type": "code",
   "execution_count": 12,
   "id": "35325d50-1e75-4c32-bf86-78a3adeab0ca",
   "metadata": {
    "tags": []
   },
   "outputs": [
    {
     "data": {
      "text/html": [
       "<iframe srcdoc=\"&lt;!DOCTYPE html&gt;\n",
       "&lt;html&gt;\n",
       "&lt;head&gt;\n",
       "    \n",
       "    &lt;meta http-equiv=&quot;content-type&quot; content=&quot;text/html; charset=UTF-8&quot; /&gt;\n",
       "    \n",
       "        &lt;script&gt;\n",
       "            L_NO_TOUCH = false;\n",
       "            L_DISABLE_3D = false;\n",
       "        &lt;/script&gt;\n",
       "    \n",
       "    &lt;style&gt;html, body {width: 100%;height: 100%;margin: 0;padding: 0;}&lt;/style&gt;\n",
       "    &lt;style&gt;#map {position:absolute;top:0;bottom:0;right:0;left:0;}&lt;/style&gt;\n",
       "    &lt;script src=&quot;https://cdn.jsdelivr.net/npm/leaflet@1.9.3/dist/leaflet.js&quot;&gt;&lt;/script&gt;\n",
       "    &lt;script src=&quot;https://code.jquery.com/jquery-1.12.4.min.js&quot;&gt;&lt;/script&gt;\n",
       "    &lt;script src=&quot;https://cdn.jsdelivr.net/npm/bootstrap@5.2.2/dist/js/bootstrap.bundle.min.js&quot;&gt;&lt;/script&gt;\n",
       "    &lt;script src=&quot;https://cdnjs.cloudflare.com/ajax/libs/Leaflet.awesome-markers/2.0.2/leaflet.awesome-markers.js&quot;&gt;&lt;/script&gt;\n",
       "    &lt;link rel=&quot;stylesheet&quot; href=&quot;https://cdn.jsdelivr.net/npm/leaflet@1.9.3/dist/leaflet.css&quot;/&gt;\n",
       "    &lt;link rel=&quot;stylesheet&quot; href=&quot;https://cdn.jsdelivr.net/npm/bootstrap@5.2.2/dist/css/bootstrap.min.css&quot;/&gt;\n",
       "    &lt;link rel=&quot;stylesheet&quot; href=&quot;https://netdna.bootstrapcdn.com/bootstrap/3.0.0/css/bootstrap.min.css&quot;/&gt;\n",
       "    &lt;link rel=&quot;stylesheet&quot; href=&quot;https://cdn.jsdelivr.net/npm/@fortawesome/fontawesome-free@6.2.0/css/all.min.css&quot;/&gt;\n",
       "    &lt;link rel=&quot;stylesheet&quot; href=&quot;https://cdnjs.cloudflare.com/ajax/libs/Leaflet.awesome-markers/2.0.2/leaflet.awesome-markers.css&quot;/&gt;\n",
       "    &lt;link rel=&quot;stylesheet&quot; href=&quot;https://cdn.jsdelivr.net/gh/python-visualization/folium/folium/templates/leaflet.awesome.rotate.min.css&quot;/&gt;\n",
       "    \n",
       "            &lt;meta name=&quot;viewport&quot; content=&quot;width=device-width,\n",
       "                initial-scale=1.0, maximum-scale=1.0, user-scalable=no&quot; /&gt;\n",
       "            &lt;style&gt;\n",
       "                #map_5930c972f2301e92e1417217b7e187dd {\n",
       "                    position: relative;\n",
       "                    width: 1500.0px;\n",
       "                    height: 700.0px;\n",
       "                    left: 0.0%;\n",
       "                    top: 0.0%;\n",
       "                }\n",
       "                .leaflet-container { font-size: 1rem; }\n",
       "            &lt;/style&gt;\n",
       "        \n",
       "&lt;/head&gt;\n",
       "&lt;body&gt;\n",
       "    \n",
       "    \n",
       "            &lt;div class=&quot;folium-map&quot; id=&quot;map_5930c972f2301e92e1417217b7e187dd&quot; &gt;&lt;/div&gt;\n",
       "        \n",
       "&lt;/body&gt;\n",
       "&lt;script&gt;\n",
       "    \n",
       "    \n",
       "            var map_5930c972f2301e92e1417217b7e187dd = L.map(\n",
       "                &quot;map_5930c972f2301e92e1417217b7e187dd&quot;,\n",
       "                {\n",
       "                    center: [39.5075, -83.34675],\n",
       "                    crs: L.CRS.EPSG3857,\n",
       "                    zoom: 14,\n",
       "                    zoomControl: true,\n",
       "                    preferCanvas: false,\n",
       "                }\n",
       "            );\n",
       "\n",
       "            \n",
       "\n",
       "        \n",
       "    \n",
       "            var tile_layer_3dea0b379e6f3ac365b449a70cea4c28 = L.tileLayer(\n",
       "                &quot;https://{s}.tile.openstreetmap.org/{z}/{x}/{y}.png&quot;,\n",
       "                {&quot;attribution&quot;: &quot;Data by \\u0026copy; \\u003ca target=\\&quot;_blank\\&quot; href=\\&quot;http://openstreetmap.org\\&quot;\\u003eOpenStreetMap\\u003c/a\\u003e, under \\u003ca target=\\&quot;_blank\\&quot; href=\\&quot;http://www.openstreetmap.org/copyright\\&quot;\\u003eODbL\\u003c/a\\u003e.&quot;, &quot;detectRetina&quot;: false, &quot;maxNativeZoom&quot;: 18, &quot;maxZoom&quot;: 18, &quot;minZoom&quot;: 0, &quot;noWrap&quot;: false, &quot;opacity&quot;: 1, &quot;subdomains&quot;: &quot;abc&quot;, &quot;tms&quot;: false}\n",
       "            ).addTo(map_5930c972f2301e92e1417217b7e187dd);\n",
       "        \n",
       "    \n",
       "            var marker_cc5c2726e3a009d017dec8e35c9eddbf = L.marker(\n",
       "                [39.5075, -83.34675],\n",
       "                {}\n",
       "            ).addTo(map_5930c972f2301e92e1417217b7e187dd);\n",
       "        \n",
       "    \n",
       "            var icon_d5d75a6f50daf50d29432e8dcaa70696 = L.AwesomeMarkers.icon(\n",
       "                {&quot;extraClasses&quot;: &quot;fa-rotate-0&quot;, &quot;icon&quot;: &quot;info-sign&quot;, &quot;iconColor&quot;: &quot;white&quot;, &quot;markerColor&quot;: &quot;blue&quot;, &quot;prefix&quot;: &quot;glyphicon&quot;}\n",
       "            );\n",
       "            marker_cc5c2726e3a009d017dec8e35c9eddbf.setIcon(icon_d5d75a6f50daf50d29432e8dcaa70696);\n",
       "        \n",
       "    \n",
       "        var popup_4dde2f8ba3a3399688a91e2575bb3e18 = L.popup({&quot;maxWidth&quot;: &quot;100%&quot;});\n",
       "\n",
       "        \n",
       "            \n",
       "                var html_406f2674915eb84900b8dbfa1337817e = $(`&lt;div id=&quot;html_406f2674915eb84900b8dbfa1337817e&quot; style=&quot;width: 100.0%; height: 100.0%;&quot;&gt;2400588&lt;br&gt;&lt;br&gt;Lat: 39.5075&lt;br&gt;Long: -83.34675&lt;/div&gt;`)[0];\n",
       "                popup_4dde2f8ba3a3399688a91e2575bb3e18.setContent(html_406f2674915eb84900b8dbfa1337817e);\n",
       "            \n",
       "        \n",
       "\n",
       "        marker_cc5c2726e3a009d017dec8e35c9eddbf.bindPopup(popup_4dde2f8ba3a3399688a91e2575bb3e18)\n",
       "        ;\n",
       "\n",
       "        \n",
       "    \n",
       "    \n",
       "            marker_cc5c2726e3a009d017dec8e35c9eddbf.bindTooltip(\n",
       "                `&lt;div&gt;\n",
       "                     2400588\n",
       "                 &lt;/div&gt;`,\n",
       "                {&quot;sticky&quot;: true}\n",
       "            );\n",
       "        \n",
       "&lt;/script&gt;\n",
       "&lt;/html&gt;\" width=\"1500\" height=\"700\"style=\"border:none !important;\" \"allowfullscreen\" \"webkitallowfullscreen\" \"mozallowfullscreen\"></iframe>"
      ],
      "text/plain": [
       "<folium.folium.Map at 0x14e8005ff70>"
      ]
     },
     "execution_count": 12,
     "metadata": {},
     "output_type": "execute_result"
    }
   ],
   "source": [
    "bridge_lookup_result.map"
   ]
  },
  {
   "cell_type": "code",
   "execution_count": 13,
   "id": "ba4ca489-1bc5-4512-bc61-85bb14b08e1d",
   "metadata": {},
   "outputs": [
    {
     "data": {
      "text/plain": [
       "{'SFN': '2400588',\n",
       " 'objectid': 27715386,\n",
       " 'sfn': '2400588',\n",
       " 'str_loc_carried': 'CR 142 CAMP GROVE',\n",
       " 'rte_on_brg_cd': '40',\n",
       " 'district': '06',\n",
       " 'county_cd': 'FAY',\n",
       " 'invent_spcl_dsgt': '',\n",
       " 'fips_cd': '82166',\n",
       " 'invent_on_und_cd': '1',\n",
       " 'invent_hwy_sys_cd': '4',\n",
       " 'invent_hwy_dsgt_cd': '1',\n",
       " 'invent_dir_sfx_cd': '0',\n",
       " 'invent_feat': 'OVER SR-35',\n",
       " 'str_loc': '3.4 MI E OF SR-753',\n",
       " 'latitude_dd': 39.5075,\n",
       " 'longitude_dd': -83.34675,\n",
       " 'brdr_brg_state': None,\n",
       " 'brdr_brg_pct_resp': None,\n",
       " 'brdr_brg_sfn': None,\n",
       " 'main_str_mtl_cd': '4',\n",
       " 'main_str_type_cd': '02',\n",
       " 'apprh_str_mtl_cd': '0',\n",
       " 'apprh_str_type_cd': '00',\n",
       " 'main_spans': 2,\n",
       " 'apprh_spans': 0,\n",
       " 'deck_cd': '1',\n",
       " 'deck_prot_extl_cd': 'N',\n",
       " 'deck_prot_int_cd': '1',\n",
       " 'wear_surf_dt': 905990400000,\n",
       " 'wearing_surf_cd': '1',\n",
       " 'wearing_surf_thck': 1,\n",
       " 'paint_dt': 905990400000,\n",
       " 'yr_built': 905990400000,\n",
       " 'maj_recon_dt': None,\n",
       " 'type_serv1_cd': '1',\n",
       " 'type_serv2_cd': '1',\n",
       " 'lanes_on': 2,\n",
       " 'lanes_und': 4,\n",
       " 'invent_rte_adt': 477,\n",
       " 'bypass_len': '00',\n",
       " 'nbis_len_sw': 'Y',\n",
       " 'invent_nhs_cd': '0',\n",
       " 'func_clas_cd': '09',\n",
       " 'dfns_hwy_dsgt_sw': '0',\n",
       " 'parallel_str_cd': 'N',\n",
       " 'dir_traffic_cd': '2',\n",
       " 'temp_str_sw': '',\n",
       " 'dsgt_natl_netw_sw': '0',\n",
       " 'toll_cd': '3',\n",
       " 'routine_resp_cd': '01',\n",
       " 'routine_resp_cd_2': '  ',\n",
       " 'maint_resp_cd': '01',\n",
       " 'maint_resp_cd_2': '  ',\n",
       " 'insp_resp_cd': '01',\n",
       " 'insp_resp_cd_2': '  ',\n",
       " 'hist_sgn_cd': '5',\n",
       " 'nav_control_sw': 'N',\n",
       " 'nav_vrt_clr': 0,\n",
       " 'nav_horiz_clr': 0,\n",
       " 'subs_fenders': '1',\n",
       " 'min_nav_vrt_clr': 0,\n",
       " 'insp_dt': 1682553600000,\n",
       " 'dsgt_insp_freq': 24,\n",
       " 'frac_crit_insp_sw': 'N',\n",
       " 'fraccrit_insp_freq': 0,\n",
       " 'frac_crit_insp_dt': None,\n",
       " 'dive_insp_sw': 'N',\n",
       " 'dive_insp_freq': 0,\n",
       " 'dive_insp_dt': None,\n",
       " 'spcl_insp_sw': 'N',\n",
       " 'spcl_insp_freq': 0,\n",
       " 'spcl_insp_dt': None,\n",
       " 'snooper_insp_sw': 'N',\n",
       " 'deck_summary': '8',\n",
       " 'deck_wear_surf': '8',\n",
       " 'deck_expn_joints': '',\n",
       " 'sups_summary': '9',\n",
       " 'paint': '6',\n",
       " 'subs_summary': '8',\n",
       " 'chan_summary': 'N',\n",
       " 'subs_scour': '',\n",
       " 'culvert_summary': 'N',\n",
       " 'gen_appraisal': '8',\n",
       " 'design_load_cd': '6',\n",
       " 'rat_opr_load_fact': '1300',\n",
       " 'rat_inv_load_cd': '6',\n",
       " 'rat_inv_load_fact': '1000',\n",
       " 'gen_opr_status': 'A',\n",
       " 'brg_posting': '5',\n",
       " 'calc_str_eval': '8',\n",
       " 'calc_deck_geom': '6',\n",
       " 'calc_undc': '7',\n",
       " 'ww_adequacy_cd': 'N',\n",
       " 'apprh_algn_cd': '6',\n",
       " 'survey_railing': '1',\n",
       " 'survey_transition': '1',\n",
       " 'survey_guardrail': '1',\n",
       " 'survey_rail_ends': 'N',\n",
       " 'scour_crit_cd': 'N',\n",
       " 'max_span_len': 121,\n",
       " 'ovrl_str_len': 242,\n",
       " 'sidw_wd_l': 0,\n",
       " 'sidw_wd_r': 0,\n",
       " 'brg_rdw_wd': 32,\n",
       " 'deck_wd': 35,\n",
       " 'apprh_rdw_wd': 20,\n",
       " 'median_cd': '0',\n",
       " 'skew_deg': 2,\n",
       " 'flared_sw': '0',\n",
       " 'min_horiz_clr_c': 32,\n",
       " 'minvrt_undclr_c': 16.7,\n",
       " 'impr_typ_work_cd': '  ',\n",
       " 'impr_typ_means_cd': ' ',\n",
       " 'impr_lng': 0,\n",
       " 'impr_brg_cost': 0,\n",
       " 'impr_rdw_cost': 0,\n",
       " 'impr_tot_proj_cost': 0,\n",
       " 'impr_cost_est_yr': 0,\n",
       " 'future_adt': 662,\n",
       " 'future_adt_yr': 2038,\n",
       " 'dedicated_nme': '',\n",
       " 'invent_pref_rte': 'P',\n",
       " 'major_brg_sw': 'N',\n",
       " 'invent_county': 'DIS',\n",
       " 'seismic_suscept_cd': 'N',\n",
       " 'gasb_34_sw': 'Y',\n",
       " 'aperture_fabr_sw': '2',\n",
       " 'aperture_orig_sw': '2',\n",
       " 'aperture_rep_sw': '2',\n",
       " 'orig_proj_nbr': '029896',\n",
       " 'std_drw_nbr': '',\n",
       " 'microfilm_nbr': '',\n",
       " 'remarks': 'PXS FAY-35-(17.54-23.95)',\n",
       " 'utl_electric_sw': 'U',\n",
       " 'utl_gas_sw': 'U',\n",
       " 'utl_sewer_sw': 'U',\n",
       " 'nbis_bridge_length': 242,\n",
       " 'rte_und_brg_cd': '10',\n",
       " 'load_rat_pct': 150,\n",
       " 'load_rat_yr': 1999,\n",
       " 'rating_soft_cd': '1',\n",
       " 'catwalks_sw': 'N',\n",
       " 'retire_reason_cd': '',\n",
       " 'rec_add_dt': 925776000000,\n",
       " 'mpo_cd': 'NN',\n",
       " 'temp_subdecking_sw': 'N',\n",
       " 'apprh_slab_sw': 'Y',\n",
       " 'median_typ1_cd': 'N',\n",
       " 'median_typ2_cd': 'N',\n",
       " 'median_typ3_cd': 'N',\n",
       " 'railing_typ_cd': 'C',\n",
       " 'composite_str_cd': 'Y',\n",
       " 'elas_strp_trou2_sw': 'N',\n",
       " 'elas_strp_trou3_sw': 'N',\n",
       " 'fencing_sw': 'N',\n",
       " 'glare_screen_sw': 'N',\n",
       " 'noise_barrier_sw': 'N',\n",
       " 'deck_area': 8470,\n",
       " 'curb_sidw_mtl_l': 'N',\n",
       " 'curb_sidw_mtl_r': 'N',\n",
       " 'curb_sidw_typ_l': 'N',\n",
       " 'curb_sidw_typ_r': 'N',\n",
       " 'hinge_cd': 'N',\n",
       " 'deck_drn_cd': '0',\n",
       " 'deck_conc_typ_cd': '2',\n",
       " 'expn_joint1_cd': 'N',\n",
       " 'expn_joint2_cd': 'N',\n",
       " 'expn_joint3_cd': 'N',\n",
       " 'horiz_crv_radius': '',\n",
       " 'bearing_device1_cd': '4',\n",
       " 'bearing_device2_cd': 'D',\n",
       " 'framing_typ_cd': '4',\n",
       " 'haunch_gird_sw': 'N',\n",
       " 'long_memb_typ_cd': 'N',\n",
       " 'main_mem_cd': '3',\n",
       " 'str_steel_prot_cd': '9',\n",
       " 'pred_str_steel_typ': '2',\n",
       " 'paint_surface_area': 0,\n",
       " 'str_steel_paint_cd': '1',\n",
       " 'post_tension_sw': 'N',\n",
       " 'abut_fwd_typ_cd': '7',\n",
       " 'abut_fwd_matl_cd': '2',\n",
       " 'abut_fwd_cd': 'A',\n",
       " 'abut_rear_typ_cd': '7',\n",
       " 'abut_rear_matl_cd': '2',\n",
       " 'abut_rear_cd': 'A',\n",
       " 'pred_pier_typ_cd': '5',\n",
       " 'pred_pier_matl_cd': '2',\n",
       " 'pier_pred_cd': 'B',\n",
       " 'pier_1_typ_cd': 'N',\n",
       " 'pier_1_matl_cd': 'N',\n",
       " 'pier_oth1_cd': 'N',\n",
       " 'slope_prot_typ_cd': '2',\n",
       " 'culvert_typ_cd': 'N',\n",
       " 'culvert_len': 0,\n",
       " 'culvert_fill_depth': 0,\n",
       " 'scenic_waterway_sw': 'N',\n",
       " 'chan_prot_type_cd': 'X',\n",
       " 'stream_velocity': '00000',\n",
       " 'hist_typ_cd': '',\n",
       " 'hist_builder_cd': '000',\n",
       " 'suff_rating': '100.0',\n",
       " 'defic_func_rating': '0',\n",
       " 'main_str_descr_cd': 'N',\n",
       " 'apprh_str_descr_cd': 'N',\n",
       " 'hist_build_yr': '    ',\n",
       " 'nlfid': 'CFAYCR00142**C',\n",
       " 'ctl_begin_nbr': 4.733,\n",
       " 'route_type': 'CR',\n",
       " 'route_nbr': '00142',\n",
       " 'route_suffix': '*',\n",
       " 'routine_insp_due': 1743465600000,\n",
       " 'frac_crit_insp_due': None,\n",
       " 'dive_insp_due': None,\n",
       " 'spcl_insp_due': None,\n",
       " 'bia_report': 'https://smsreports.dot.state.oh.us/CreateReport.aspx?SFN=2400588&IsBIA=true',\n",
       " 'state_route_br_photos': 'https://brphotos.dot.state.oh.us/Bridges.aspx?county=FAY',\n",
       " 'jurisdiction': 'C',\n",
       " 'divided_hwy': 'N',\n",
       " 'access_control': None,\n",
       " 'urban_area_code': '99999',\n",
       " 'base_type': None,\n",
       " 'functional_class': '7',\n",
       " 'hpms_sample_id': None,\n",
       " 'lanes': 2,\n",
       " 'maintenance_authority': None,\n",
       " 'nhs': None,\n",
       " 'priority_system': None,\n",
       " 'surface_type': 'G',\n",
       " 'surface_width': 20,\n",
       " 'esal_total': None,\n",
       " 'pave_type': 'FLEX',\n",
       " 'pcr_year': None,\n",
       " 'roadway_width_nbr': 24,\n",
       " 'created_user': 'TIMS@P31_AG',\n",
       " 'created_date': 1683535378000,\n",
       " 'last_edited_user': 'TIMS@P31_AG',\n",
       " 'last_edited_date': 1683535378000,\n",
       " 'photo_url': '',\n",
       " 'plan_sets_list': [],\n",
       " 'latitude': 39.5075,\n",
       " 'longitude': -83.34675,\n",
       " 'map': <folium.folium.Map at 0x14e8005ff70>}"
      ]
     },
     "execution_count": 13,
     "metadata": {},
     "output_type": "execute_result"
    }
   ],
   "source": [
    "bridge_lookup_result.__dict__"
   ]
  },
  {
   "cell_type": "code",
   "execution_count": null,
   "id": "60618032-5d1c-4a9b-a43d-9aea401e37be",
   "metadata": {},
   "outputs": [],
   "source": []
  }
 ],
 "metadata": {
  "kernelspec": {
   "display_name": "Python 3 (ipykernel)",
   "language": "python",
   "name": "python3"
  },
  "language_info": {
   "codemirror_mode": {
    "name": "ipython",
    "version": 3
   },
   "file_extension": ".py",
   "mimetype": "text/x-python",
   "name": "python",
   "nbconvert_exporter": "python",
   "pygments_lexer": "ipython3",
   "version": "3.9.5"
  }
 },
 "nbformat": 4,
 "nbformat_minor": 5
}
