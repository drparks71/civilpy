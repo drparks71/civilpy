{
 "cells": [
  {
   "cell_type": "markdown",
   "source": [
    "# Component Object Model\n",
    "\n",
    "[Microsoft COM documentation](https://learn.microsoft.com/en-us/windows/win32/com/com-technical-overview)\n",
    "\n",
    "[Hunting COM Objects (Fireeye article)]("
   ],
   "metadata": {
    "collapsed": false
   },
   "id": "dbe42bd245945853"
  }
 ],
 "metadata": {
  "kernelspec": {
   "display_name": "Python 3",
   "language": "python",
   "name": "python3"
  },
  "language_info": {
   "codemirror_mode": {
    "name": "ipython",
    "version": 2
   },
   "file_extension": ".py",
   "mimetype": "text/x-python",
   "name": "python",
   "nbconvert_exporter": "python",
   "pygments_lexer": "ipython2",
   "version": "2.7.6"
  }
 },
 "nbformat": 4,
 "nbformat_minor": 5
}
