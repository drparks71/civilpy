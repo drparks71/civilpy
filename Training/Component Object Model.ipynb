{
 "cells": [
  {
   "cell_type": "markdown",
   "source": [
    "# Component Object Model\n",
    "\n",
    "[Microsoft COM documentation](https://learn.microsoft.com/en-us/windows/win32/com/com-technical-overview)\n",
    "\n",
    "[Hunting COM Objects (Fireeye article)](https://www.mandiant.com/resources/blog/hunting-com-objects)\n",
    "\n"
   ],
   "metadata": {
    "collapsed": false
   },
   "id": "dbe42bd245945853"
  },
  {
   "cell_type": "code",
   "execution_count": 2,
   "outputs": [],
   "source": [
    "import win32com.client\n",
    "\n",
    "xl = win32com.client.Dispatch(\"Excel.Application\")"
   ],
   "metadata": {
    "collapsed": false,
    "ExecuteTime": {
     "end_time": "2023-09-16T13:28:20.262306900Z",
     "start_time": "2023-09-16T13:28:20.255986100Z"
    }
   },
   "id": "bc6e8c055baffae1"
  },
  {
   "cell_type": "code",
   "execution_count": 3,
   "outputs": [
    {
     "data": {
      "text/plain": "False"
     },
     "execution_count": 3,
     "metadata": {},
     "output_type": "execute_result"
    }
   ],
   "source": [
    "xl.Visible"
   ],
   "metadata": {
    "collapsed": false,
    "ExecuteTime": {
     "end_time": "2023-09-16T13:28:38.467596300Z",
     "start_time": "2023-09-16T13:28:38.451663600Z"
    }
   },
   "id": "45fb6c7c6e632791"
  },
  {
   "cell_type": "code",
   "execution_count": 4,
   "outputs": [],
   "source": [
    "xl.Visible = 1"
   ],
   "metadata": {
    "collapsed": false,
    "ExecuteTime": {
     "end_time": "2023-09-16T13:28:50.709024Z",
     "start_time": "2023-09-16T13:28:50.663722600Z"
    }
   },
   "id": "af343ef06fe99a5a"
  },
  {
   "cell_type": "code",
   "execution_count": null,
   "outputs": [],
   "source": [],
   "metadata": {
    "collapsed": false
   },
   "id": "10a946c3c2e5b9e4"
  }
 ],
 "metadata": {
  "kernelspec": {
   "display_name": "Python 3",
   "language": "python",
   "name": "python3"
  },
  "language_info": {
   "codemirror_mode": {
    "name": "ipython",
    "version": 2
   },
   "file_extension": ".py",
   "mimetype": "text/x-python",
   "name": "python",
   "nbconvert_exporter": "python",
   "pygments_lexer": "ipython2",
   "version": "2.7.6"
  }
 },
 "nbformat": 4,
 "nbformat_minor": 5
}
