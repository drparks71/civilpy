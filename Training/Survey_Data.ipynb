{
 "cells": [
  {
   "cell_type": "markdown",
   "id": "6486a699-9509-43c8-9e81-ee16dc183e5a",
   "metadata": {},
   "source": [
    "## How to pull survey data from CSV files given a list of attributes"
   ]
  },
  {
   "cell_type": "code",
   "execution_count": 1,
   "id": "9a1e079b-fe01-4963-a599-c898659524eb",
   "metadata": {
    "tags": []
   },
   "outputs": [],
   "source": [
    "import os\n",
    "import pandas as pd\n",
    "from pathlib import Path"
   ]
  },
  {
   "cell_type": "code",
   "execution_count": 11,
   "id": "378b8dde-621f-42bb-a465-cf42fbeca1cd",
   "metadata": {
    "tags": []
   },
   "outputs": [],
   "source": [
    "# These are the only values that need to bechanged by the user\n",
    "path_to_csvs = Path(\"C:\\\\Users\\\\dparks1\\\\Desktop\\\\Survey_CSVs\")\n",
    "list_of_codes_to_pull = ['WIRE', 'EB1', 'CP3', 'DM', 'EB2', 'EP1', 'EP2', 'PP', 'WALLH', 'WALLH PC', 'WALLH PT', 'D1 BL*']\n",
    "output_location = Path(\"C:\\\\Users\\\\dparks1\\\\Desktop\\\\Survey_CSVs\\\\script_output.csv\")"
   ]
  },
  {
   "cell_type": "code",
   "execution_count": 12,
   "id": "f66919f6-93e2-40f8-a9eb-2fdb30007bd0",
   "metadata": {
    "tags": []
   },
   "outputs": [],
   "source": [
    "# List all CSVs in the folder\n",
    "def build_file_list_from_path(path=None):\n",
    "    empty_list = []\n",
    "    \n",
    "    # Build a list of every file directory in the given folder\n",
    "    for root, dirs, files in os.walk(path.resolve()):\n",
    "        # Filter out directories that contain unimportant or hidden files\n",
    "        dirs[:] = [d for d in dirs if not d[0] == '.']\n",
    "        dirs[:] = [d for d in dirs if not d[0] == '_']\n",
    "            \n",
    "        for file_var in os.listdir(path):\n",
    "            root_dir = Path(f\"{root}\")\n",
    "            print(f\"Found CSV File: {Path(root+'/'+file_var)}\")\n",
    "\n",
    "            empty_list.append(f\"{Path(root+'/'+file_var)}\")\n",
    "    \n",
    "    return empty_list"
   ]
  },
  {
   "cell_type": "code",
   "execution_count": 13,
   "id": "dcca0982-049f-4995-9636-655df9266443",
   "metadata": {
    "tags": []
   },
   "outputs": [
    {
     "name": "stdout",
     "output_type": "stream",
     "text": [
      "Found CSV File: C:\\Users\\dparks1\\Desktop\\Survey_CSVs\\Final MAR US23 MM 3-4 ROW Notes.csv\n",
      "Found CSV File: C:\\Users\\dparks1\\Desktop\\Survey_CSVs\\Final MAR-23 03.35 Total Station Full.csv\n",
      "Found CSV File: C:\\Users\\dparks1\\Desktop\\Survey_CSVs\\Final MAR23 MM4.00 Total Station.csv\n",
      "Found CSV File: C:\\Users\\dparks1\\Desktop\\Survey_CSVs\\Full MAR 23 3.35 Scan.csv\n",
      "Found CSV File: C:\\Users\\dparks1\\Desktop\\Survey_CSVs\\Full MAR 23 MM4.0 Scan.csv\n",
      "Found CSV File: C:\\Users\\dparks1\\Desktop\\Survey_CSVs\\MAR-23-03.35_Extra on 119.csv\n"
     ]
    }
   ],
   "source": [
    "list_of_files = build_file_list_from_path(path_to_csvs)"
   ]
  },
  {
   "cell_type": "code",
   "execution_count": 14,
   "id": "1ecaf3f8-71b7-4cda-ad02-8772ba4382aa",
   "metadata": {
    "tags": []
   },
   "outputs": [],
   "source": [
    "test_df = pd.read_csv(list_of_files[2], header=None)"
   ]
  },
  {
   "cell_type": "code",
   "execution_count": 15,
   "id": "2a186f11-9443-4285-81ab-3771d71d180d",
   "metadata": {
    "tags": []
   },
   "outputs": [],
   "source": [
    "for file in list_of_files:\n",
    "    test_df = pd.read_csv(file, header=None)\n",
    "    final_df = test_df[test_df[4].isin(list_of_codes_to_pull)]"
   ]
  },
  {
   "cell_type": "code",
   "execution_count": 16,
   "id": "f6c2624f-034f-451d-bbcd-bb71d2593895",
   "metadata": {
    "tags": []
   },
   "outputs": [
    {
     "data": {
      "text/html": [
       "<div>\n",
       "<style scoped>\n",
       "    .dataframe tbody tr th:only-of-type {\n",
       "        vertical-align: middle;\n",
       "    }\n",
       "\n",
       "    .dataframe tbody tr th {\n",
       "        vertical-align: top;\n",
       "    }\n",
       "\n",
       "    .dataframe thead th {\n",
       "        text-align: right;\n",
       "    }\n",
       "</style>\n",
       "<table border=\"1\" class=\"dataframe\">\n",
       "  <thead>\n",
       "    <tr style=\"text-align: right;\">\n",
       "      <th></th>\n",
       "      <th>0</th>\n",
       "      <th>1</th>\n",
       "      <th>2</th>\n",
       "      <th>3</th>\n",
       "      <th>4</th>\n",
       "    </tr>\n",
       "  </thead>\n",
       "  <tbody>\n",
       "    <tr>\n",
       "      <th>4</th>\n",
       "      <td>SV10004</td>\n",
       "      <td>298367.049</td>\n",
       "      <td>1808960.301</td>\n",
       "      <td>960.899</td>\n",
       "      <td>EB2</td>\n",
       "    </tr>\n",
       "    <tr>\n",
       "      <th>5</th>\n",
       "      <td>SV10005</td>\n",
       "      <td>298368.850</td>\n",
       "      <td>1808959.985</td>\n",
       "      <td>961.278</td>\n",
       "      <td>EP2</td>\n",
       "    </tr>\n",
       "    <tr>\n",
       "      <th>6</th>\n",
       "      <td>SV10006</td>\n",
       "      <td>298377.170</td>\n",
       "      <td>1808960.301</td>\n",
       "      <td>961.639</td>\n",
       "      <td>CP3</td>\n",
       "    </tr>\n",
       "    <tr>\n",
       "      <th>7</th>\n",
       "      <td>SV10007</td>\n",
       "      <td>298386.578</td>\n",
       "      <td>1808960.541</td>\n",
       "      <td>961.373</td>\n",
       "      <td>EP2</td>\n",
       "    </tr>\n",
       "    <tr>\n",
       "      <th>8</th>\n",
       "      <td>SV10008</td>\n",
       "      <td>298388.103</td>\n",
       "      <td>1808960.602</td>\n",
       "      <td>961.220</td>\n",
       "      <td>EB2</td>\n",
       "    </tr>\n",
       "    <tr>\n",
       "      <th>...</th>\n",
       "      <td>...</td>\n",
       "      <td>...</td>\n",
       "      <td>...</td>\n",
       "      <td>...</td>\n",
       "      <td>...</td>\n",
       "    </tr>\n",
       "    <tr>\n",
       "      <th>188</th>\n",
       "      <td>SV10188</td>\n",
       "      <td>298381.375</td>\n",
       "      <td>1808492.784</td>\n",
       "      <td>963.547</td>\n",
       "      <td>EP1</td>\n",
       "    </tr>\n",
       "    <tr>\n",
       "      <th>189</th>\n",
       "      <td>SV10189</td>\n",
       "      <td>298384.672</td>\n",
       "      <td>1808492.257</td>\n",
       "      <td>963.388</td>\n",
       "      <td>EB1</td>\n",
       "    </tr>\n",
       "    <tr>\n",
       "      <th>202</th>\n",
       "      <td>SV10202</td>\n",
       "      <td>298277.768</td>\n",
       "      <td>1808537.164</td>\n",
       "      <td>995.489</td>\n",
       "      <td>WIRE</td>\n",
       "    </tr>\n",
       "    <tr>\n",
       "      <th>203</th>\n",
       "      <td>SV10203</td>\n",
       "      <td>298255.473</td>\n",
       "      <td>1808540.825</td>\n",
       "      <td>980.152</td>\n",
       "      <td>WIRE</td>\n",
       "    </tr>\n",
       "    <tr>\n",
       "      <th>204</th>\n",
       "      <td>SV10204</td>\n",
       "      <td>298247.285</td>\n",
       "      <td>1808541.252</td>\n",
       "      <td>980.286</td>\n",
       "      <td>WIRE</td>\n",
       "    </tr>\n",
       "  </tbody>\n",
       "</table>\n",
       "<p>72 rows × 5 columns</p>\n",
       "</div>"
      ],
      "text/plain": [
       "           0           1            2        3     4\n",
       "4    SV10004  298367.049  1808960.301  960.899   EB2\n",
       "5    SV10005  298368.850  1808959.985  961.278   EP2\n",
       "6    SV10006  298377.170  1808960.301  961.639   CP3\n",
       "7    SV10007  298386.578  1808960.541  961.373   EP2\n",
       "8    SV10008  298388.103  1808960.602  961.220   EB2\n",
       "..       ...         ...          ...      ...   ...\n",
       "188  SV10188  298381.375  1808492.784  963.547   EP1\n",
       "189  SV10189  298384.672  1808492.257  963.388   EB1\n",
       "202  SV10202  298277.768  1808537.164  995.489  WIRE\n",
       "203  SV10203  298255.473  1808540.825  980.152  WIRE\n",
       "204  SV10204  298247.285  1808541.252  980.286  WIRE\n",
       "\n",
       "[72 rows x 5 columns]"
      ]
     },
     "execution_count": 16,
     "metadata": {},
     "output_type": "execute_result"
    }
   ],
   "source": [
    "final_df"
   ]
  },
  {
   "cell_type": "code",
   "execution_count": 17,
   "id": "0000e67c-1e70-4ff8-a85d-41d618344d6e",
   "metadata": {
    "tags": []
   },
   "outputs": [],
   "source": [
    "final_df.to_csv(output_location)"
   ]
  }
 ],
 "metadata": {
  "kernelspec": {
   "display_name": "Python 3 (ipykernel)",
   "language": "python",
   "name": "python3"
  },
  "language_info": {
   "codemirror_mode": {
    "name": "ipython",
    "version": 3
   },
   "file_extension": ".py",
   "mimetype": "text/x-python",
   "name": "python",
   "nbconvert_exporter": "python",
   "pygments_lexer": "ipython3",
   "version": "3.9.5"
  }
 },
 "nbformat": 4,
 "nbformat_minor": 5
}
