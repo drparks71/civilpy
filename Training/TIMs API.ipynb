{
 "cells": [
  {
   "cell_type": "markdown",
   "id": "8a185d68",
   "metadata": {},
   "source": [
    "# TIMs REST API\n",
    "\n",
    "Based on [ESRI ArcGIS API](https://developers.arcgis.com/rest/services-reference/enterprise/get-started-with-the-services-directory.htm)\n",
    "\n"
   ]
  },
  {
   "cell_type": "code",
   "execution_count": null,
   "id": "4ffb0a12",
   "metadata": {},
   "outputs": [],
   "source": []
  }
 ],
 "metadata": {
  "kernelspec": {
   "display_name": "Python 3 (ipykernel)",
   "language": "python",
   "name": "python3"
  },
  "language_info": {
   "codemirror_mode": {
    "name": "ipython",
    "version": 3
   },
   "file_extension": ".py",
   "mimetype": "text/x-python",
   "name": "python",
   "nbconvert_exporter": "python",
   "pygments_lexer": "ipython3",
   "version": "3.10.9"
  }
 },
 "nbformat": 4,
 "nbformat_minor": 5
}
