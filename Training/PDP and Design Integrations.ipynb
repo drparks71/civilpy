{
 "cells": [
  {
   "cell_type": "markdown",
   "source": [
    "# Load A Project"
   ],
   "metadata": {
    "collapsed": false
   }
  },
  {
   "cell_type": "code",
   "execution_count": 1,
   "outputs": [],
   "source": [
    "from civilpy.state.ohio.dot import Project"
   ],
   "metadata": {
    "collapsed": false
   }
  },
  {
   "cell_type": "code",
   "execution_count": 2,
   "outputs": [
    {
     "name": "stdout",
     "output_type": "stream",
     "text": [
      "\n",
      "Retrieving data from url at https://gis.dot.state.oh.us/arcgis/rest/services/TIMS/Projects/MapServer/0/33796747?f=pjson\n",
      "\n",
      "Retrieving data from url at https://gis.dot.state.oh.us/arcgis/rest/services/TIMS/Projects/MapServer/0/33796748?f=pjson\n",
      "\n",
      "Retrieving data from url at https://gis.dot.state.oh.us/arcgis/rest/services/TIMS/Projects/MapServer/0/33797189?f=pjson\n",
      "\n",
      "Retrieving data from url at https://gis.dot.state.oh.us/arcgis/rest/services/TIMS/Projects/MapServer/0/33799065?f=pjson\n"
     ]
    }
   ],
   "source": [
    "proj_112664 = Project('112664')"
   ],
   "metadata": {
    "collapsed": false
   }
  },
  {
   "cell_type": "code",
   "execution_count": 3,
   "outputs": [
    {
     "data": {
      "text/plain": "{'PID': '112664',\n 'raw_data': {'33796747': {'ObjectID': 33796747,\n   'GIS_ID': 69813,\n   'PID_NBR': 112664,\n   'DISTRICT_NBR': 6,\n   'LOCALE_SHORT_NME': 'FRA',\n   'COUNTY_NME': 'Franklin',\n   'PROJECT_NME': 'D06-FY23 Bridge Repair',\n   'CONTRACT_TYPE': 'Standard Build',\n   'PRIMARY_FUND_CATEGORY_TXT': 'District Preservation (Pv & Br)',\n   'PROJECT_MANAGER_NME': 'PARKS, DANE RICHARD',\n   'RESERVOIR_YEAR': None,\n   'TIER': None,\n   'ODOT_LETTING': 'ODOT Let',\n   'SCHEDULE_TYPE_SHORT_NME': 'Standard',\n   'ENV_PROJECT_MANAGER_NME': 'GARTNER, JANICE M',\n   'AREA_ENGINEER_NME': 'WISE, DANIEL S',\n   'PROJECT_ENGINEER_NME': 'FIRIS, BENJAMIN L',\n   'DESIGN_AGENCY': 'DISTRICT 6-ENGINEERING',\n   'SPONSORING_AGENCY': 'DISTRICT 6-BRIDGES',\n   'PDP_SHORT_NAME': 'Path 1',\n   'PRIMARY_WORK_CATEGORY': 'Bridge Preservation',\n   'PROJECT_STATUS': 'Filed',\n   'FISCAL_YEAR': '2023',\n   'INHOUSE_DESIGN_FULL_NME': 'BLOOR, CLAYTON  ',\n   'EST_TOTAL_CONSTR_COST': 571848.74,\n   'STATE_PROJECT_NBR': None,\n   'CONSTR_VENDOR_NME': None,\n   'STIP_FLAG': None,\n   'CURRENT_STIP_CO_AMT': None,\n   'PROJECT_PLANS_URL': 'http://contracts.dot.state.oh.us/search.jsp?cabinetId=1002&PID_NUM=112664',\n   'PROJECT_ADDENDA_URL': 'http://contracts.dot.state.oh.us/search.jsp?cabinetId=1000&PID_NUM=112664',\n   'PROJECT_PROPOSAL_URL': 'http://contracts.dot.state.oh.us/search.jsp?cabinetId=1003&PID_NUM=112664',\n   'FMIS_PROJ_DESC': None,\n   'AWARD_MILESTONE_DT': 1676851200000,\n   'BEGIN_CONSTR_MILESTONE_DT': 1681516800000,\n   'END_CONSTR_MILESTONE_DT': 1693440000000,\n   'OPEN_TRAFFIC_DT': None,\n   'CENTRAL_OFFICE_CLOSE_DT': None,\n   'SOURCE_LAST_UPDATED': 1675209600000,\n   'COD_LAST_UPDATED': 1675209600000,\n   'PRESERV_FUNDS_IND': 'Y',\n   'MAJOR_BRG_FUNDS_IND': 'N',\n   'MAJOR_NEW_FUNDS_IND': 'N',\n   'MAJOR_REHAB_FUNDS_IND': 'N',\n   'MPO_FUNDS_IND': 'N',\n   'SAFETY_FUNDS_IND': 'N',\n   'LOCAL_FUNDS_IND': 'N',\n   'OTHER_FUNDS_IND': 'N',\n   'NLF_ID': 'SFRASR00003**C',\n   'CTL_BEGIN': 23.83,\n   'CTL_END': None,\n   'GIS_FEATURE_TYPE': 'POINT',\n   'ROUTE_TYPE': 'SR',\n   'ROUTE_ID': '00003',\n   'STRUCTURE_FILE_NBR': '2500191',\n   'MAIN_STRUCTURE_TYPE': '201N',\n   'SUFFICIENCY_RATING': '086.7',\n   'OVRL_STRUCTURE_LENGTH': 64.7,\n   'DECK_AREA': 3319,\n   'DECK_WIDTH': 51.3,\n   'FEATURE_INTERSECT': '                         ',\n   'YEAR_BUILT': '1975',\n   'LONGITUDE_BEGIN_NBR': -82.928876,\n   'LATITUDE_BEGIN_NBR': 40.070569,\n   'LONGITUDE_END_NBR': None,\n   'LATITUDE_END_NBR': None,\n   'COUNTY_CD_WORK_LOCATION': 'FRA',\n   'COUNTY_NME_WORK_LOCATION': 'FRANKLIN',\n   'DISTRICT_WORK_LOCATION': '06',\n   'PAVEMENT_TREATMENT_TYPE': None,\n   'PAVEMENT_TREATMENT_CATEGORY': None,\n   'created_user': 'TIMS@P31_AG',\n   'created_date': 1675242448000,\n   'last_edited_user': 'TIMS@P31_AG',\n   'last_edited_date': 1675242448000},\n  '33796748': {'ObjectID': 33796748,\n   'GIS_ID': 69812,\n   'PID_NBR': 112664,\n   'DISTRICT_NBR': 6,\n   'LOCALE_SHORT_NME': 'FRA',\n   'COUNTY_NME': 'Franklin',\n   'PROJECT_NME': 'D06-FY23 Bridge Repair',\n   'CONTRACT_TYPE': 'Standard Build',\n   'PRIMARY_FUND_CATEGORY_TXT': 'District Preservation (Pv & Br)',\n   'PROJECT_MANAGER_NME': 'PARKS, DANE RICHARD',\n   'RESERVOIR_YEAR': None,\n   'TIER': None,\n   'ODOT_LETTING': 'ODOT Let',\n   'SCHEDULE_TYPE_SHORT_NME': 'Standard',\n   'ENV_PROJECT_MANAGER_NME': 'GARTNER, JANICE M',\n   'AREA_ENGINEER_NME': 'WISE, DANIEL S',\n   'PROJECT_ENGINEER_NME': 'FIRIS, BENJAMIN L',\n   'DESIGN_AGENCY': 'DISTRICT 6-ENGINEERING',\n   'SPONSORING_AGENCY': 'DISTRICT 6-BRIDGES',\n   'PDP_SHORT_NAME': 'Path 1',\n   'PRIMARY_WORK_CATEGORY': 'Bridge Preservation',\n   'PROJECT_STATUS': 'Filed',\n   'FISCAL_YEAR': '2023',\n   'INHOUSE_DESIGN_FULL_NME': 'BLOOR, CLAYTON  ',\n   'EST_TOTAL_CONSTR_COST': 571848.74,\n   'STATE_PROJECT_NBR': None,\n   'CONSTR_VENDOR_NME': None,\n   'STIP_FLAG': None,\n   'CURRENT_STIP_CO_AMT': None,\n   'PROJECT_PLANS_URL': 'http://contracts.dot.state.oh.us/search.jsp?cabinetId=1002&PID_NUM=112664',\n   'PROJECT_ADDENDA_URL': 'http://contracts.dot.state.oh.us/search.jsp?cabinetId=1000&PID_NUM=112664',\n   'PROJECT_PROPOSAL_URL': 'http://contracts.dot.state.oh.us/search.jsp?cabinetId=1003&PID_NUM=112664',\n   'FMIS_PROJ_DESC': None,\n   'AWARD_MILESTONE_DT': 1676851200000,\n   'BEGIN_CONSTR_MILESTONE_DT': 1681516800000,\n   'END_CONSTR_MILESTONE_DT': 1693440000000,\n   'OPEN_TRAFFIC_DT': None,\n   'CENTRAL_OFFICE_CLOSE_DT': None,\n   'SOURCE_LAST_UPDATED': 1675209600000,\n   'COD_LAST_UPDATED': 1675209600000,\n   'PRESERV_FUNDS_IND': 'Y',\n   'MAJOR_BRG_FUNDS_IND': 'N',\n   'MAJOR_NEW_FUNDS_IND': 'N',\n   'MAJOR_REHAB_FUNDS_IND': 'N',\n   'MPO_FUNDS_IND': 'N',\n   'SAFETY_FUNDS_IND': 'N',\n   'LOCAL_FUNDS_IND': 'N',\n   'OTHER_FUNDS_IND': 'N',\n   'NLF_ID': 'CFRACR00124**C',\n   'CTL_BEGIN': 8.64,\n   'CTL_END': None,\n   'GIS_FEATURE_TYPE': 'POINT',\n   'ROUTE_TYPE': 'CR',\n   'ROUTE_ID': '00124',\n   'STRUCTURE_FILE_NBR': '2506696',\n   'MAIN_STRUCTURE_TYPE': '302N',\n   'SUFFICIENCY_RATING': '073.6',\n   'OVRL_STRUCTURE_LENGTH': 147.8,\n   'DECK_AREA': 8454,\n   'DECK_WIDTH': 57.2,\n   'FEATURE_INTERSECT': 'UNDER PARSONS AVE        ',\n   'YEAR_BUILT': '1963',\n   'LONGITUDE_BEGIN_NBR': -82.982093,\n   'LATITUDE_BEGIN_NBR': 39.957094,\n   'LONGITUDE_END_NBR': None,\n   'LATITUDE_END_NBR': None,\n   'COUNTY_CD_WORK_LOCATION': 'FRA',\n   'COUNTY_NME_WORK_LOCATION': 'FRANKLIN',\n   'DISTRICT_WORK_LOCATION': '06',\n   'PAVEMENT_TREATMENT_TYPE': None,\n   'PAVEMENT_TREATMENT_CATEGORY': None,\n   'created_user': 'TIMS@P31_AG',\n   'created_date': 1675242448000,\n   'last_edited_user': 'TIMS@P31_AG',\n   'last_edited_date': 1675242448000},\n  '33797189': {'ObjectID': 33797189,\n   'GIS_ID': 69814,\n   'PID_NBR': 112664,\n   'DISTRICT_NBR': 6,\n   'LOCALE_SHORT_NME': 'FRA',\n   'COUNTY_NME': 'Franklin',\n   'PROJECT_NME': 'D06-FY23 Bridge Repair',\n   'CONTRACT_TYPE': 'Standard Build',\n   'PRIMARY_FUND_CATEGORY_TXT': 'District Preservation (Pv & Br)',\n   'PROJECT_MANAGER_NME': 'PARKS, DANE RICHARD',\n   'RESERVOIR_YEAR': None,\n   'TIER': None,\n   'ODOT_LETTING': 'ODOT Let',\n   'SCHEDULE_TYPE_SHORT_NME': 'Standard',\n   'ENV_PROJECT_MANAGER_NME': 'GARTNER, JANICE M',\n   'AREA_ENGINEER_NME': 'WISE, DANIEL S',\n   'PROJECT_ENGINEER_NME': 'FIRIS, BENJAMIN L',\n   'DESIGN_AGENCY': 'DISTRICT 6-ENGINEERING',\n   'SPONSORING_AGENCY': 'DISTRICT 6-BRIDGES',\n   'PDP_SHORT_NAME': 'Path 1',\n   'PRIMARY_WORK_CATEGORY': 'Bridge Preservation',\n   'PROJECT_STATUS': 'Filed',\n   'FISCAL_YEAR': '2023',\n   'INHOUSE_DESIGN_FULL_NME': 'BLOOR, CLAYTON  ',\n   'EST_TOTAL_CONSTR_COST': 571848.74,\n   'STATE_PROJECT_NBR': None,\n   'CONSTR_VENDOR_NME': None,\n   'STIP_FLAG': None,\n   'CURRENT_STIP_CO_AMT': None,\n   'PROJECT_PLANS_URL': 'http://contracts.dot.state.oh.us/search.jsp?cabinetId=1002&PID_NUM=112664',\n   'PROJECT_ADDENDA_URL': 'http://contracts.dot.state.oh.us/search.jsp?cabinetId=1000&PID_NUM=112664',\n   'PROJECT_PROPOSAL_URL': 'http://contracts.dot.state.oh.us/search.jsp?cabinetId=1003&PID_NUM=112664',\n   'FMIS_PROJ_DESC': None,\n   'AWARD_MILESTONE_DT': 1676851200000,\n   'BEGIN_CONSTR_MILESTONE_DT': 1681516800000,\n   'END_CONSTR_MILESTONE_DT': 1693440000000,\n   'OPEN_TRAFFIC_DT': None,\n   'CENTRAL_OFFICE_CLOSE_DT': None,\n   'SOURCE_LAST_UPDATED': 1675209600000,\n   'COD_LAST_UPDATED': 1675209600000,\n   'PRESERV_FUNDS_IND': 'Y',\n   'MAJOR_BRG_FUNDS_IND': 'N',\n   'MAJOR_NEW_FUNDS_IND': 'N',\n   'MAJOR_REHAB_FUNDS_IND': 'N',\n   'MPO_FUNDS_IND': 'N',\n   'SAFETY_FUNDS_IND': 'N',\n   'LOCAL_FUNDS_IND': 'N',\n   'OTHER_FUNDS_IND': 'N',\n   'NLF_ID': 'CFRACR00122**C',\n   'CTL_BEGIN': 6.3,\n   'CTL_END': None,\n   'GIS_FEATURE_TYPE': 'POINT',\n   'ROUTE_TYPE': 'CR',\n   'ROUTE_ID': '00122',\n   'STRUCTURE_FILE_NBR': '2508923',\n   'MAIN_STRUCTURE_TYPE': '402N',\n   'SUFFICIENCY_RATING': '088.5',\n   'OVRL_STRUCTURE_LENGTH': 240,\n   'DECK_AREA': 18480,\n   'DECK_WIDTH': 77,\n   'FEATURE_INTERSECT': 'ALUM CREEK DRIVE         ',\n   'YEAR_BUILT': '1986',\n   'LONGITUDE_BEGIN_NBR': -82.931349,\n   'LATITUDE_BEGIN_NBR': 39.91958,\n   'LONGITUDE_END_NBR': None,\n   'LATITUDE_END_NBR': None,\n   'COUNTY_CD_WORK_LOCATION': 'FRA',\n   'COUNTY_NME_WORK_LOCATION': 'FRANKLIN',\n   'DISTRICT_WORK_LOCATION': '06',\n   'PAVEMENT_TREATMENT_TYPE': None,\n   'PAVEMENT_TREATMENT_CATEGORY': None,\n   'created_user': 'TIMS@P31_AG',\n   'created_date': 1675242448000,\n   'last_edited_user': 'TIMS@P31_AG',\n   'last_edited_date': 1675242448000},\n  '33799065': {'ObjectID': 33799065,\n   'GIS_ID': 69811,\n   'PID_NBR': 112664,\n   'DISTRICT_NBR': 6,\n   'LOCALE_SHORT_NME': 'FRA',\n   'COUNTY_NME': 'Franklin',\n   'PROJECT_NME': 'D06-FY23 Bridge Repair',\n   'CONTRACT_TYPE': 'Standard Build',\n   'PRIMARY_FUND_CATEGORY_TXT': 'District Preservation (Pv & Br)',\n   'PROJECT_MANAGER_NME': 'PARKS, DANE RICHARD',\n   'RESERVOIR_YEAR': None,\n   'TIER': None,\n   'ODOT_LETTING': 'ODOT Let',\n   'SCHEDULE_TYPE_SHORT_NME': 'Standard',\n   'ENV_PROJECT_MANAGER_NME': 'GARTNER, JANICE M',\n   'AREA_ENGINEER_NME': 'WISE, DANIEL S',\n   'PROJECT_ENGINEER_NME': 'FIRIS, BENJAMIN L',\n   'DESIGN_AGENCY': 'DISTRICT 6-ENGINEERING',\n   'SPONSORING_AGENCY': 'DISTRICT 6-BRIDGES',\n   'PDP_SHORT_NAME': 'Path 1',\n   'PRIMARY_WORK_CATEGORY': 'Bridge Preservation',\n   'PROJECT_STATUS': 'Filed',\n   'FISCAL_YEAR': '2023',\n   'INHOUSE_DESIGN_FULL_NME': 'BLOOR, CLAYTON  ',\n   'EST_TOTAL_CONSTR_COST': 571848.74,\n   'STATE_PROJECT_NBR': None,\n   'CONSTR_VENDOR_NME': None,\n   'STIP_FLAG': None,\n   'CURRENT_STIP_CO_AMT': None,\n   'PROJECT_PLANS_URL': 'http://contracts.dot.state.oh.us/search.jsp?cabinetId=1002&PID_NUM=112664',\n   'PROJECT_ADDENDA_URL': 'http://contracts.dot.state.oh.us/search.jsp?cabinetId=1000&PID_NUM=112664',\n   'PROJECT_PROPOSAL_URL': 'http://contracts.dot.state.oh.us/search.jsp?cabinetId=1003&PID_NUM=112664',\n   'FMIS_PROJ_DESC': None,\n   'AWARD_MILESTONE_DT': 1676851200000,\n   'BEGIN_CONSTR_MILESTONE_DT': 1681516800000,\n   'END_CONSTR_MILESTONE_DT': 1693440000000,\n   'OPEN_TRAFFIC_DT': None,\n   'CENTRAL_OFFICE_CLOSE_DT': None,\n   'SOURCE_LAST_UPDATED': 1675209600000,\n   'COD_LAST_UPDATED': 1675209600000,\n   'PRESERV_FUNDS_IND': 'Y',\n   'MAJOR_BRG_FUNDS_IND': 'N',\n   'MAJOR_NEW_FUNDS_IND': 'N',\n   'MAJOR_REHAB_FUNDS_IND': 'N',\n   'MPO_FUNDS_IND': 'N',\n   'SAFETY_FUNDS_IND': 'N',\n   'LOCAL_FUNDS_IND': 'N',\n   'OTHER_FUNDS_IND': 'N',\n   'NLF_ID': 'CUNICR00165**C',\n   'CTL_BEGIN': 2.06,\n   'CTL_END': None,\n   'GIS_FEATURE_TYPE': 'POINT',\n   'ROUTE_TYPE': 'CR',\n   'ROUTE_ID': '00165',\n   'STRUCTURE_FILE_NBR': '8000743',\n   'MAIN_STRUCTURE_TYPE': '402N',\n   'SUFFICIENCY_RATING': '095.9',\n   'OVRL_STRUCTURE_LENGTH': 232,\n   'DECK_AREA': 12482,\n   'DECK_WIDTH': 53.8,\n   'FEATURE_INTERSECT': 'UNDER HOLYCROSS-EPPS C158',\n   'YEAR_BUILT': '1988',\n   'LONGITUDE_BEGIN_NBR': -83.498119,\n   'LATITUDE_BEGIN_NBR': 40.268397,\n   'LONGITUDE_END_NBR': None,\n   'LATITUDE_END_NBR': None,\n   'COUNTY_CD_WORK_LOCATION': 'UNI',\n   'COUNTY_NME_WORK_LOCATION': 'UNION',\n   'DISTRICT_WORK_LOCATION': '06',\n   'PAVEMENT_TREATMENT_TYPE': None,\n   'PAVEMENT_TREATMENT_CATEGORY': None,\n   'created_user': 'TIMS@P31_AG',\n   'created_date': 1675242448000,\n   'last_edited_user': 'TIMS@P31_AG',\n   'last_edited_date': 1675242448000},\n  'no_of_pts': 4}}"
     },
     "execution_count": 3,
     "metadata": {},
     "output_type": "execute_result"
    }
   ],
   "source": [
    "proj_112664.__dict__"
   ],
   "metadata": {
    "collapsed": false
   }
  },
  {
   "cell_type": "code",
   "execution_count": null,
   "outputs": [],
   "source": [],
   "metadata": {
    "collapsed": false
   }
  }
 ],
 "metadata": {
  "kernelspec": {
   "display_name": "Python 3",
   "language": "python",
   "name": "python3"
  },
  "language_info": {
   "codemirror_mode": {
    "name": "ipython",
    "version": 2
   },
   "file_extension": ".py",
   "mimetype": "text/x-python",
   "name": "python",
   "nbconvert_exporter": "python",
   "pygments_lexer": "ipython2",
   "version": "2.7.6"
  }
 },
 "nbformat": 4,
 "nbformat_minor": 0
}
