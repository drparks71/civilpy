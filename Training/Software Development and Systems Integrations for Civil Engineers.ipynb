{
 "cells": [
  {
   "cell_type": "markdown",
   "id": "2c126581",
   "metadata": {
    "pycharm": {
     "name": "#%% md\n"
    }
   },
   "source": [
    "# Premise - If shown a dirt path that provides a quicker route to perform a task, dedicated engineers will turn it into a highway."
   ]
  },
  {
   "cell_type": "code",
   "execution_count": 1,
   "id": "28442801",
   "metadata": {
    "pycharm": {
     "name": "#%%\n"
    }
   },
   "outputs": [],
   "source": [
    "# import civilpy"
   ]
  },
  {
   "cell_type": "markdown",
   "id": "adcb7462",
   "metadata": {
    "pycharm": {
     "name": "#%% md\n"
    }
   },
   "source": [
    "# Why Python\n",
    "\n",
    "Because python provides a simple interface to relay information, it's easy to use, easy to setup pipelines and integrations, it's not sandboxed, it's repeatable and explicit, and many of the tools we rely on were developed alongside modern tools similar to it or actually with it, and due to that, a large portion of the work is already done. I am not a good python instructor, [this guy is,](https://www.youtube.com/@coreyms) watch his videos to learn HOW to use python, this is WHY to use python. [Harvard CS50](https://www.youtube.com/watch?v=hbT7vzCvEc8) is also a good resource for general computer science. Paid boot camps or courses generally offer little additional benefit to the previous two resources beyond the pressure to attend due to investment, certificates, and networking with industry recruiters upon completion.\n",
    "\n",
    "### Can We Use VBA/Excel?\n",
    "\n",
    "Not for most of these tasks as you'll see, it's too sandboxed. It's constrained to the functions that Microsoft allows it to do, which often don't allow for direct manipulation of certain external file or data types and/or certain remote connections and functions. I assume it's extensible, but I hate writing stuff in it, so if anyone could get this stuff working in it I'd happily swap for it$^1$, but I legitimately don't believe it's entirely possible, an efficient use of resources, or that the individual willing to attempt it exists within the organization. Sandboxing standard users who may damage a system is a good thing, sandboxing integration tooling, APIs and power users is a bad thing.\n",
    "\n",
    "1. (Thats a lie)"
   ]
  },
  {
   "cell_type": "markdown",
   "id": "bdad3c7d",
   "metadata": {
    "pycharm": {
     "name": "#%% md\n"
    }
   },
   "source": [
    "### What about C# and the .NET ecosystem?\n",
    "\n",
    "I don't personally know it, I have Java experience because I ran scripts on video games with it as a kid and wrote some android apps. I don't know if the GIS, geospatial and engineering libraries are available for it, like I know they are in python, which is heavily used in academic research. From what I've read and understand, it's not as cross-platform or web friendly, and it's difficult to train engineering employees on C style coding, memory management and pointers, none of which are needed to effectively 'use' python. I would be willing to learn it, but I don't think the organization would be willing to expend the resources to enable that or that it would significantly change any outcomes.\n",
    "\n",
    "I know the general consensus I've seen online, [as well as my personal experience](https://daneparks.com), is that it's much simpler to design and publicly host a webapp using other open source solutions (ruby-on-rails, Nginx, Go, and JS), than it is to compile a functional application into Microsoft's ecosystem which is complex. Most importantly, throughout my learning experience, python leaning open-source communities have shown to be much more focused on making high quality, free training available to people trying to learn new tools while most .NET courses required payment, which isn't an option for people looking to explore \"potential\" avenues that might not work out and I think is a bad indicator for the community. I firmly believe the most valuable aspect of python is the number of people who have tried to learn it and it's resulting ability to be learned quickly with a combination of google and [especially youtube](https://www.youtube.com/results?search_query=python+course&sp=CAM%253D).\n",
    "\n",
    "Utimately if I wanted to modify an existing Windows application, C#/.NET would probably be the way to go, but 3rd party companies (Bentley) are often unsupportive of those types of solutions, and in my experience it's generally easier to circumvent 3rd party providers entirely than it is to get them to bespoke their software to you or try to get them to support an API."
   ]
  },
  {
   "cell_type": "markdown",
   "id": "f232e4e1",
   "metadata": {
    "pycharm": {
     "name": "#%% md\n"
    }
   },
   "source": [
    "### What's The Difference?\n",
    "\n",
    "Mostly design philosphy, for years, the prevalent design philosphy for programming user interfaces [has been the MVC](https://developer.mozilla.org/en-US/docs/Glossary/MVC#:~:text=MVC%20(Model%2DView%2DController,software's%20business%20logic%20and%20display.) or model view controller. Which is the underlying philosphy most applications still use today.\n",
    "\n",
    "![MVC Layout](https://upload.wikimedia.org/wikipedia/commons/a/a0/MVC-Process.svg)\n",
    "\n",
    "### Web/Cloud Development\n",
    "\n",
    "Web developers have preferred to use the terms 'frontend' or 'backend' to describe the systems. Basically the takeaway is the code that interacts with the server-side processor is written differently and has a different purpose to the code that works with the client(user)-side processor. User interface languages would be HTML/CSS/JS, things that are rendered or data that is transformed on the \"client\" side of the connection. Server side languages would be ruby on rails, python, Java, PHP."
   ]
  },
  {
   "cell_type": "markdown",
   "id": "ea567044",
   "metadata": {
    "pycharm": {
     "name": "#%% md\n"
    }
   },
   "source": [
    "## Client Vs. Server\n",
    "\n",
    "#### Should Civil Applications be written from a client side perspective or a server? \n",
    "\n",
    "The main issue you run into is compatibility. Launching a dedicated app with a fully fleshed out accessible, cross-platform compatible interface requires a decent understanding of your user devices, and use cases, so that you can tailor your code to only features available on your user's devices. If instead you write your applications and libraries with a specific server environment in mind, or basically \"device agnostic\" you don't have to worry as much about it.  You may realize this means that you could loose direct access to say, the Iphone 8 camera's API for taking photos, but a workaround for this would be making the application work with existing photos already on the device, and having the application open the photo application for the user to point it to the correct folder on the device to interact with the photos. Although a bespoke Iphone app written in swift by a professional team of apple developers would obviously be better than anything I could write, I haven't seen those getting created at any of the organizations I've been a part of, and I can't see the result being cost effective or well-integrated. I can personally provide a (relatively) cross-platform solution to a number of issues with python today."
   ]
  },
  {
   "cell_type": "markdown",
   "id": "7b023163",
   "metadata": {
    "pycharm": {
     "name": "#%% md\n"
    }
   },
   "source": [
    "#### So Why Server Side Tools\n",
    "\n",
    "Modern server and database software is insanely powerful, in the server world the open-source packages are legitimately superior for many applications, with the advent of IoT, linux based servers like Ubuntu or RHEL have exploded in popularity due to users being able to throw them on any device without worrying about license management. Tiny core linux is 11 MB total, the entire operating system is 11 MB, you could put it on a microusb and integrate it into a streetlamp. Obviously simplicity generally comes with reduced features, but one of the features most if not all do come with is python, further the \"import only what you need\" mentality ensures these systems always run efficiently, and are rarely bogged down. Due to this, certain sectors have organically grown to basically depend on certain python libraries and other open source packages. This isn't without it's headaches, but it's better than not defining a standard at all. GIS, Data Science and Robotics all have very developed python libraries written by skilled professionals from that space that learned how to program. Nothing is stopping roadway, structural or hydraulic engineering from developing the same kinds of tools today, except existing policies geared towards closed and incompatible workflows. \n",
    "\n",
    "Software written in python may be able to be improved or rewritten in other languages to be made to be more efficient. For now, I think it's important to get working software tools and standards created, which we could optimize later. The fact is currently, the tools don't exist at all, some not even in a disjointed way. It's easier to teach an engineer python than to teach them .NET, and it's more realistic to teach an engineer how to __USE__ python tools than to teach a .NET developer the full workflow and duties of a roadway engineer."
   ]
  },
  {
   "cell_type": "markdown",
   "id": "61cb9182",
   "metadata": {
    "pycharm": {
     "name": "#%% md\n"
    }
   },
   "source": [
    "#### So what's the difference between client and server applications?\n",
    "\n",
    "Primarily the resources available to the program, the permissions it operates under, and the APIs it has access to with regard to other software.  When you run a jupyter notebook, it boots up a server on your local computer you're able to connect to with your webbrowser as the client. This process is device agnostic and works on windows, mac and linux machines. Basically notebooks replace the view and controller in the MVC diagram, giving the user direct access to the server side model. The model can be anything, a .txt file, a .csv file, a .pdf, a database connection, a .jpg, a .dwg, a datastream or a webhook. This is what seperates python from Excel/VBA, it's ability to seamlessly function and integrate with essentially any 'model' or data type on any kind of system with little to no work on the part of the developer beyond a simple google search.\n",
    "\n",
    "Since the notebook server is being run on your local machine, there's no external access, an alternative to this would be to have a centralized server where individuals had their own user profiles, as well as shared folders between all users, network folders also accomplish the same purpose. Generally this can be done in a way that builds off the existing userprofiles and permissions that already exist. If each user is given an account on a centralized server, they could open the terminal and run the following command to access the server.\n",
    "\n",
    "`ssh -NL [PORT]:localhost:[PORT] [USER]@[SERVERNAME]`\n",
    "\n",
    "where `[PORT]` is replaced by the port the jupyter server is listening on, `[USER]` is replaced by the user name (so for me `dparks1`) and server name would be the name of the local server listening for locations. This server could be set up to accept internal connections only, meaning organization tools/data would stay internal to the organization, which isn't true of modern cloud systems.\n",
    "\n",
    "If they were to then open their web browser, and navigate to `http://localhost:[PORT]` in their browsers URL, they would find themselves within a jupyter notebook environment within the server.  "
   ]
  },
  {
   "cell_type": "markdown",
   "id": "67569d0f",
   "metadata": {
    "pycharm": {
     "name": "#%% md\n"
    }
   },
   "source": [
    "#### Two design philosphies to help with good python programming\n",
    "\n",
    "four original rules from bell systems;\n",
    "\n",
    "1. Make each program do one thing well. To do a new job, build afresh rather than complicate old programs by adding new \"features\".\n",
    "2. Expect the output of every program to become the input to another, as yet unknown, program. Don't clutter output with extraneous information. Avoid stringently columnar or binary input formats. Don't insist on interactive input.\n",
    "3. Design and build software, even operating systems, to be tried early, ideally within weeks. Don't hesitate to throw away the clumsy parts and rebuild them.\n",
    "4. Use tools in preference to unskilled help to lighten a programming task, even if you have to detour to build the tools and expect to throw some of them out after you've finished using them.\n",
    "\n",
    "and, __The zen of python__\n",
    "\n",
    "1. Beautiful is better than ugly.\n",
    "1. Explicit is better than implicit.\n",
    "1. Simple is better than complex.\n",
    "1. Complex is better than complicated.\n",
    "1. Flat is better than nested.\n",
    "1. Sparse is better than dense.\n",
    "1. Readability counts.\n",
    "1. Special cases aren't special enough to break the rules.\n",
    "1. Although practicality beats purity.\n",
    "1. Errors should never pass silently.\n",
    "1. Unless explicitly silenced.\n",
    "1. In the face of ambiguity, refuse the temptation to guess.\n",
    "1. There should be one-- and preferably only one --obvious way to do it.\n",
    "1. Although that way may not be obvious at first unless you're Dutch.\n",
    "1. Now is better than never.\n",
    "1. Although never is often better than *right* now.\n",
    "1. If the implementation is hard to explain, it's a bad idea.\n",
    "1. If the implementation is easy to explain, it may be a good idea.\n",
    "1. Namespaces are one honking great idea -- let's do more of those\n",
    "\n",
    "Neither of these are meant to be hard and fast rules, they're simply intended to direct your decision making at a general level."
   ]
  },
  {
   "cell_type": "markdown",
   "id": "d78df00d",
   "metadata": {
    "pycharm": {
     "name": "#%% md\n"
    }
   },
   "source": [
    "## What's an API?\n",
    "\n",
    "Application program interface, [essentially the \"list of commands\"](https://www.youtube.com/watch?v=s7wmiS2mSXY) available to be run within the development evironment. APIs are commonly thought of in terms of client server relationships, the most famous of which being http methods (get, post) that the internet and webservers fuction on. Engineering schools were still teaching Putty/HTML coding when I was there. It seems like two missing elements have contributed to the decline of the modern civil engineers technical skillset. I believe these to be the lack of a firm understanding of Object Oriented Programming, and various protocols, like HTTP, that have effectively built the digital world but have largely functioned in the background and have been ignored by our field entirely. They truely are as critical to our modern roles as any individual formula taught in statics, they're more modern building blocks of the engineering systems we function in."
   ]
  },
  {
   "cell_type": "markdown",
   "id": "38ba2a05",
   "metadata": {
    "pycharm": {
     "name": "#%% md\n"
    }
   },
   "source": [
    "## Object Oriented Programming\n",
    "\n",
    "I don't know why but it felt like every college level math class I took started out with a review of triginometry, so here's the trig derivatives,\n",
    "\n",
    "![image.png](https://d138zd1ktt9iqe.cloudfront.net/media/seo_landing_files/differentiation-of-trigonometric-functions-1628153737.png)\n",
    "\n",
    "Now that you're set let's get into object oriented programming! The reason I'm demoing in python is because it's accessible to a beginner, as an engineer I assume you've used matlab or definately excel. Functions in python work similiarly to excel, but the important thing to realize is that everything is an 'Object'."
   ]
  },
  {
   "cell_type": "code",
   "execution_count": 2,
   "id": "095d8d28",
   "metadata": {
    "pycharm": {
     "name": "#%%\n"
    }
   },
   "outputs": [
    {
     "data": {
      "text/plain": [
       "int"
      ]
     },
     "execution_count": 2,
     "metadata": {},
     "output_type": "execute_result"
    }
   ],
   "source": [
    "type(3)"
   ]
  },
  {
   "cell_type": "markdown",
   "id": "16f67176",
   "metadata": {
    "pycharm": {
     "name": "#%% md\n"
    }
   },
   "source": [
    "in python there is a function called `type()` this function returns the type of data that you passed into it, `int` is short for integer, because the number 3 is a whole number without a decimal representation. Excel actually also has the `TYPE()` function which does exactly the same thing and returns one of five categories,\n",
    "\n",
    "```Excel\n",
    "=TYPE(100) // returns 1\n",
    "=TYPE('apple') // returns 2\n",
    "=TYPE(TRUE) // returns 4\n",
    "=TYPE({1;2;3}) // returns 64\n",
    "```"
   ]
  },
  {
   "cell_type": "markdown",
   "id": "0cb92014",
   "metadata": {
    "pycharm": {
     "name": "#%% md\n"
    }
   },
   "source": [
    "Right away we can see one of the common criticisms of working in excel, rather than returning \"Human Readable\" results to me, it's returning a code which requires decrypting, if I want to know what those results are while looking at the sheet, a common solution would be to provide the following formula in another cell.\n",
    "\n",
    "```Excel\n",
    "=IF(TYPE(A1)=1,\"Number\",IF(TYPE(A1)=2,\"Text\",IF(TYPE(A1)=4,\"Logical Value\",IF(TYPE(A1)=16,\"Error Value\",\"Array\"))))\n",
    "```\n",
    "\n",
    "and if you think that's fun and cool... idk what to tell you.\n",
    "\n",
    "Even though that entire function is completely unneccesary in python because it returned something readable to you in the first place, here's what it would look like;\n",
    "\n",
    "```python\n",
    "if type(A1) == 1:\n",
    "    print('Number')\n",
    "elif type(A1) == 2:\n",
    "    print('Text')\n",
    "elif type(A1) == 4:\n",
    "    print('Logical Value')\n",
    "elif type(A1) == 16:\n",
    "    print('Error Value')\n",
    "else:\n",
    "    print('Array')    \n",
    "```\n",
    "\n",
    "which still isn't great to be honest, but at least it's a lot easier to read and understand from a review standpoint."
   ]
  },
  {
   "cell_type": "markdown",
   "id": "cba57ffb",
   "metadata": {
    "pycharm": {
     "name": "#%% md\n"
    }
   },
   "source": [
    "### Python vs. C#\n",
    "\n",
    "I occasionally have to diverge from my overarching theme to address what I think people will bring forward as valid criticisims of python, some would say that not having the objects fixed to a specific type causes issues, and they are correct, and if that is happening, the code can be modified to be statically typed if needed. Another argument against python is that it is slow, which can also be true, but it's much much faster with big data than excel for example, because there's less \"computational overhead\", if you were to run into an issue where the speed of python was causing issues, those particular functions could always be rewritten in a faster language, or pushed to a faster server with more computational resources available, there are always multiple solutions to a problem, which is why we would be remiss to limit ourselves strictly to one.\n",
    "\n",
    "Why not use a language that's more \"professional\" or 'secure'? Here is how you tell a terminal to display the text `Hello World!` in the terminal in C#;\n",
    "\n",
    "``` C#\n",
    "// Hello World! program\n",
    "namespace HelloWorld\n",
    "{\n",
    "    class Hello {         \n",
    "        static void Main(string[] args)\n",
    "        {\n",
    "            System.Console.WriteLine(\"Hello World!\");\n",
    "        }\n",
    "    }\n",
    "}\n",
    "```\n",
    "\n",
    "and here is the same program in python,\n",
    "\n",
    "``` python\n",
    "print('Hello World!')\n",
    "```\n",
    "\n",
    "This is purely coming from a \"What are we trying to get from this system?\" perspective, I have no ill will towards C# developers, or stand-alone applications in general, for civil engineering needs, I'm theorizing we can assume a slightly more talented user base, but not people able to commit the resources C# requires, where we can mostly focus on in-memory manipulation of data, and displaying critical information to the engineer in as few steps as possible, while still giving them access to all the 'software functions' they need in their current workflow, via a command line interface."
   ]
  },
  {
   "cell_type": "markdown",
   "id": "28f248f5",
   "metadata": {
    "pycharm": {
     "name": "#%% md\n"
    }
   },
   "source": [
    "### Types in python\n",
    "\n",
    "Variables can store data of different types, and different types can do different things.\n",
    "\n",
    "Python has the following data types built-in by default, in these categories:\n",
    "\n",
    "Text Type:\t`str`  \n",
    "Numeric Types:\t`int`, `float`, `complex`  \n",
    "Sequence Types:\t`list`, `tuple`, `range`  \n",
    "Mapping Type:\t`dict`  \n",
    "Set Types:\t`set`, `frozenset`  \n",
    "Boolean Type:\t`bool`  \n",
    "Binary Types:\t`bytes`, `bytearray`, `memoryview`  \n",
    "None Type:\t`NoneType`  \n",
    "\n",
    "to assign a variable in python, use the following syntax;"
   ]
  },
  {
   "cell_type": "code",
   "execution_count": 3,
   "id": "f0ad3732",
   "metadata": {
    "pycharm": {
     "name": "#%%\n"
    }
   },
   "outputs": [],
   "source": [
    "x = 3"
   ]
  },
  {
   "cell_type": "markdown",
   "id": "2c3740f5",
   "metadata": {
    "pycharm": {
     "name": "#%% md\n"
    }
   },
   "source": [
    "Since we're working in a notebook, that value is available within any cell, similar to how matlab works."
   ]
  },
  {
   "cell_type": "code",
   "execution_count": 4,
   "id": "e0901105",
   "metadata": {
    "pycharm": {
     "name": "#%%\n"
    }
   },
   "outputs": [
    {
     "name": "stdout",
     "output_type": "stream",
     "text": [
      "3\n"
     ]
    }
   ],
   "source": [
    "print(x)"
   ]
  },
  {
   "cell_type": "markdown",
   "id": "d2227ca6",
   "metadata": {
    "pycharm": {
     "name": "#%% md\n"
    }
   },
   "source": [
    "Rember how everything is an object? Objects can have attributes and functions, but generally, objects of one type will have different attributes and functions based on the type of object they are. This is a concept known as __inheritance__. This is one of the ways object oriented languages help us to quickly build models of the real world. One of the primary object types is a string, or text object;"
   ]
  },
  {
   "cell_type": "code",
   "execution_count": 5,
   "id": "fb3e21c9",
   "metadata": {
    "pycharm": {
     "name": "#%%\n"
    }
   },
   "outputs": [
    {
     "name": "stdout",
     "output_type": "stream",
     "text": [
      "3\n"
     ]
    }
   ],
   "source": [
    "x_as_string = '3'\n",
    "print(x_as_string)"
   ]
  },
  {
   "cell_type": "markdown",
   "id": "7355f732",
   "metadata": {
    "pycharm": {
     "name": "#%% md\n"
    }
   },
   "source": [
    "Because we used the `'` character around the number three, python read the value as text instead of as an integer. Loading objects as strings instead of integers can have unintended consequesences, when you apply a function meant for one data type to another, for instance;"
   ]
  },
  {
   "cell_type": "code",
   "execution_count": 6,
   "id": "7cc0e854",
   "metadata": {
    "pycharm": {
     "name": "#%%\n"
    }
   },
   "outputs": [
    {
     "name": "stdout",
     "output_type": "stream",
     "text": [
      "9\n"
     ]
    }
   ],
   "source": [
    "print(x * 3)"
   ]
  },
  {
   "cell_type": "code",
   "execution_count": 7,
   "id": "aa5a591c",
   "metadata": {
    "pycharm": {
     "name": "#%%\n"
    }
   },
   "outputs": [
    {
     "name": "stdout",
     "output_type": "stream",
     "text": [
      "333\n"
     ]
    }
   ],
   "source": [
    "print(x_as_string * 3)"
   ]
  },
  {
   "cell_type": "markdown",
   "id": "fa4f67ff",
   "metadata": {
    "pycharm": {
     "name": "#%% md\n"
    }
   },
   "source": [
    "So as you can see, when you apply the `*` operator to two numbers in python, it performs the simple math multiplication function, however when applied to a string, it repeats the character 3 times. [Here's the other operators in python and their effects](https://www.w3schools.com/python/python_operators.asp). Its for sure going to do wacky stuff that frustrates you at first, but it's far far more likely for those things to result in fatal errors that crash your cell and result in an error, rather than minor errors that pass unnoticed."
   ]
  },
  {
   "cell_type": "code",
   "execution_count": 8,
   "id": "58be03b8",
   "metadata": {
    "pycharm": {
     "name": "#%%\n"
    }
   },
   "outputs": [],
   "source": [
    "#### Uncomment the line below to see an example of an error ######\n",
    "\n",
    "# x.replace('3', '15')"
   ]
  },
  {
   "cell_type": "code",
   "execution_count": 9,
   "id": "8ce4b2b1",
   "metadata": {
    "pycharm": {
     "name": "#%%\n"
    }
   },
   "outputs": [
    {
     "data": {
      "text/plain": [
       "'15'"
      ]
     },
     "execution_count": 9,
     "metadata": {},
     "output_type": "execute_result"
    }
   ],
   "source": [
    "x_as_string.replace('3', '15')"
   ]
  },
  {
   "cell_type": "markdown",
   "id": "2bd4c8dd",
   "metadata": {
    "pycharm": {
     "name": "#%% md\n"
    }
   },
   "source": [
    "Beyond the basic number and text values, python has advanced data types that provide powerful functions, one of my favorites to implement is a `dict` or dictionary object which has the ability to rapidily determine values based on previously defined definitions. Remember the excel if statement from before?"
   ]
  },
  {
   "cell_type": "code",
   "execution_count": 10,
   "id": "ae6ceabc",
   "metadata": {
    "pycharm": {
     "name": "#%%\n"
    }
   },
   "outputs": [
    {
     "data": {
      "text/plain": [
       "'Logical Value'"
      ]
     },
     "execution_count": 10,
     "metadata": {},
     "output_type": "execute_result"
    }
   ],
   "source": [
    "excel_type_conversion_dict = {\n",
    "    1: 'Number',\n",
    "    2: 'Text',\n",
    "    4: 'Logical Value',\n",
    "    16: 'Error Value',\n",
    "    64: 'Array'\n",
    "}\n",
    "\n",
    "\n",
    "excel_type_conversion_dict[4]"
   ]
  },
  {
   "cell_type": "markdown",
   "id": "a24185ca",
   "metadata": {
    "pycharm": {
     "name": "#%% md\n"
    }
   },
   "source": [
    "If you pass the value of `4` into the `excel_type_conversion_dict` it returns the corresponding value, effectively replacing a very long `if/elif` statement and extending it indefinately if more options are needed, python has no problem quickly parsing through dicts with thousands of keys and values. You'll notice that I'm using long, explicit variable names that describe what the object actually contains, that's because python programmers _want_ people to read and check their code. Now that this dict has been defined once, it's very easy to copy and paste it, or import the definitions into other python software. Better yet, people familiar with the JSON standard may realize that a python dict looks pretty similar to a json file. Python contains libraries to load json files directly into memory in less lines of code than our C# hello_world from earlier.\n",
    "\n",
    "Lots of data is available directly online in json format, for instance [fips conversions](https://gist.github.com/wavded/1250983/bf7c1c08f7b1596ca10822baeb8049d7350b0a4b#file-statecodetofips-json) using just a link to the file, python can load that file into memory. With the correct organizational controls (dedicated urls) we could have standards at dedicated locations for applications to pull the most up to date standard from. Sharepoint doesn't do this very well, every Linux and open source package repository does, usually by using `url/latest` or by keeping old revisions under different urls."
   ]
  },
  {
   "cell_type": "code",
   "execution_count": 11,
   "id": "e26d12cf",
   "metadata": {
    "pycharm": {
     "name": "#%%\n"
    }
   },
   "outputs": [
    {
     "data": {
      "text/plain": [
       "'39'"
      ]
     },
     "execution_count": 11,
     "metadata": {},
     "output_type": "execute_result"
    }
   ],
   "source": [
    "from urllib.request import urlopen\n",
    "import json\n",
    "\n",
    "url = \"https://gist.githubusercontent.com/wavded/1250983/raw/bf7c1c08f7b1596ca10822baeb8049d7350b0a4b/stateToFips.json\"\n",
    "\n",
    "response = urlopen(url)\n",
    "fips_data_json = json.loads(response.read())\n",
    "\n",
    "fips_data_json['Ohio']"
   ]
  },
  {
   "cell_type": "markdown",
   "id": "2f632021",
   "metadata": {
    "pycharm": {
     "name": "#%% md\n"
    }
   },
   "source": [
    "## How can python simplify this process?\n",
    "\n",
    "By encouraging development of standardized file systems and checks, as well defining data structures at a fundamental level in a way the organization controls. There are a lot of things Python can help us with that are repetitive tasks with structured rules, allowing engineering department employees to spend more time making decisions with good, organized data, vs. spending a significant amount of their time seeking out, learning how to navigate the data, and how things have historically been encoded.\n",
    "\n",
    "Some of the more useful tasks python is capable of performing are indicated below,"
   ]
  },
  {
   "cell_type": "code",
   "execution_count": 12,
   "id": "93d35f94",
   "metadata": {},
   "outputs": [],
   "source": [
    "####### TEMPORARY USE WHILE DEFINING FUNCTIONS IN PACKAGE, DELETE BEFORE COMMITTING #########\n",
    "import sys\n",
    " \n",
    "# setting path\n",
    "sys.path.append(\"../\")"
   ]
  },
  {
   "cell_type": "markdown",
   "id": "92a7bc38",
   "metadata": {},
   "source": [
    "## Direct connection to a database/single source of truth"
   ]
  },
  {
   "cell_type": "code",
   "execution_count": 13,
   "id": "0ab2125c",
   "metadata": {
    "pycharm": {
     "name": "#%%\n"
    }
   },
   "outputs": [],
   "source": [
    "creds = json.load(open(\"../secrets/secrets.json\", 'r'))"
   ]
  },
  {
   "cell_type": "code",
   "execution_count": 14,
   "id": "f1db719e",
   "metadata": {
    "pycharm": {
     "name": "#%%\n"
    }
   },
   "outputs": [],
   "source": [
    "from civilpy.general.database_tools import ssh_into_postgres\n",
    "import pandas as pd"
   ]
  },
  {
   "cell_type": "code",
   "execution_count": 15,
   "id": "d16a8fb2",
   "metadata": {
    "pycharm": {
     "name": "#%%\n"
    }
   },
   "outputs": [],
   "source": [
    "database_connection = ssh_into_postgres(creds)\n",
    "db_cursor = database_connection.cursor()"
   ]
  },
  {
   "cell_type": "code",
   "execution_count": 16,
   "id": "10b75d38",
   "metadata": {
    "pycharm": {
     "name": "#%%\n"
    },
    "scrolled": true
   },
   "outputs": [],
   "source": [
    "db_cursor.execute(\"SELECT * FROM bridges\")"
   ]
  },
  {
   "cell_type": "code",
   "execution_count": 17,
   "id": "c53fa547",
   "metadata": {
    "pycharm": {
     "name": "#%%\n"
    }
   },
   "outputs": [],
   "source": [
    "table_rows = db_cursor.fetchall()\n",
    "bridges_df = pd.DataFrame(table_rows)"
   ]
  },
  {
   "cell_type": "code",
   "execution_count": 18,
   "id": "01e92b1a",
   "metadata": {
    "pycharm": {
     "name": "#%%\n"
    }
   },
   "outputs": [
    {
     "data": {
      "text/html": [
       "<div>\n",
       "<style scoped>\n",
       "    .dataframe tbody tr th:only-of-type {\n",
       "        vertical-align: middle;\n",
       "    }\n",
       "\n",
       "    .dataframe tbody tr th {\n",
       "        vertical-align: top;\n",
       "    }\n",
       "\n",
       "    .dataframe thead th {\n",
       "        text-align: right;\n",
       "    }\n",
       "</style>\n",
       "<table border=\"1\" class=\"dataframe\">\n",
       "  <thead>\n",
       "    <tr style=\"text-align: right;\">\n",
       "      <th></th>\n",
       "      <th>0</th>\n",
       "      <th>1</th>\n",
       "      <th>2</th>\n",
       "      <th>3</th>\n",
       "      <th>4</th>\n",
       "      <th>5</th>\n",
       "      <th>6</th>\n",
       "      <th>7</th>\n",
       "      <th>8</th>\n",
       "      <th>9</th>\n",
       "      <th>...</th>\n",
       "      <th>296</th>\n",
       "      <th>297</th>\n",
       "      <th>298</th>\n",
       "      <th>299</th>\n",
       "      <th>300</th>\n",
       "      <th>301</th>\n",
       "      <th>302</th>\n",
       "      <th>303</th>\n",
       "      <th>304</th>\n",
       "      <th>305</th>\n",
       "    </tr>\n",
       "  </thead>\n",
       "  <tbody>\n",
       "    <tr>\n",
       "      <th>0</th>\n",
       "      <td>A</td>\n",
       "      <td>Active</td>\n",
       "      <td>100021</td>\n",
       "      <td>9.0</td>\n",
       "      <td>8,011</td>\n",
       "      <td>191.2</td>\n",
       "      <td>Y</td>\n",
       "      <td>092.3</td>\n",
       "      <td>92.3</td>\n",
       "      <td>0.0</td>\n",
       "      <td>...</td>\n",
       "      <td>N</td>\n",
       "      <td></td>\n",
       "      <td></td>\n",
       "      <td></td>\n",
       "      <td></td>\n",
       "      <td>N</td>\n",
       "      <td>N</td>\n",
       "      <td>N</td>\n",
       "      <td>N</td>\n",
       "      <td>N</td>\n",
       "    </tr>\n",
       "    <tr>\n",
       "      <th>1</th>\n",
       "      <td>A</td>\n",
       "      <td>Active</td>\n",
       "      <td>100048</td>\n",
       "      <td>9.0</td>\n",
       "      <td>8,129</td>\n",
       "      <td>194</td>\n",
       "      <td>Y</td>\n",
       "      <td>097.4</td>\n",
       "      <td>97.4</td>\n",
       "      <td>0.0</td>\n",
       "      <td>...</td>\n",
       "      <td>N</td>\n",
       "      <td></td>\n",
       "      <td></td>\n",
       "      <td></td>\n",
       "      <td></td>\n",
       "      <td>N</td>\n",
       "      <td>N</td>\n",
       "      <td>N</td>\n",
       "      <td>N</td>\n",
       "      <td>N</td>\n",
       "    </tr>\n",
       "    <tr>\n",
       "      <th>2</th>\n",
       "      <td>A</td>\n",
       "      <td>Active</td>\n",
       "      <td>100072</td>\n",
       "      <td>9.0</td>\n",
       "      <td>881</td>\n",
       "      <td>12</td>\n",
       "      <td>N</td>\n",
       "      <td>081.6</td>\n",
       "      <td>81.6</td>\n",
       "      <td>0.0</td>\n",
       "      <td>...</td>\n",
       "      <td>N</td>\n",
       "      <td></td>\n",
       "      <td></td>\n",
       "      <td></td>\n",
       "      <td></td>\n",
       "      <td>N</td>\n",
       "      <td>N</td>\n",
       "      <td>N</td>\n",
       "      <td>N</td>\n",
       "      <td>N</td>\n",
       "    </tr>\n",
       "    <tr>\n",
       "      <th>3</th>\n",
       "      <td>A</td>\n",
       "      <td>Active</td>\n",
       "      <td>100080</td>\n",
       "      <td>9.0</td>\n",
       "      <td>900</td>\n",
       "      <td>12</td>\n",
       "      <td>N</td>\n",
       "      <td>081.6</td>\n",
       "      <td>81.6</td>\n",
       "      <td>0.0</td>\n",
       "      <td>...</td>\n",
       "      <td>N</td>\n",
       "      <td></td>\n",
       "      <td></td>\n",
       "      <td></td>\n",
       "      <td></td>\n",
       "      <td>N</td>\n",
       "      <td>N</td>\n",
       "      <td>N</td>\n",
       "      <td>N</td>\n",
       "      <td>N</td>\n",
       "    </tr>\n",
       "    <tr>\n",
       "      <th>4</th>\n",
       "      <td>A</td>\n",
       "      <td>Active</td>\n",
       "      <td>100137</td>\n",
       "      <td>9.0</td>\n",
       "      <td>9,680</td>\n",
       "      <td>242</td>\n",
       "      <td>Y</td>\n",
       "      <td>097.5</td>\n",
       "      <td>97.5</td>\n",
       "      <td>0.0</td>\n",
       "      <td>...</td>\n",
       "      <td>N</td>\n",
       "      <td></td>\n",
       "      <td></td>\n",
       "      <td></td>\n",
       "      <td></td>\n",
       "      <td>N</td>\n",
       "      <td>N</td>\n",
       "      <td>N</td>\n",
       "      <td>N</td>\n",
       "      <td>N</td>\n",
       "    </tr>\n",
       "    <tr>\n",
       "      <th>...</th>\n",
       "      <td>...</td>\n",
       "      <td>...</td>\n",
       "      <td>...</td>\n",
       "      <td>...</td>\n",
       "      <td>...</td>\n",
       "      <td>...</td>\n",
       "      <td>...</td>\n",
       "      <td>...</td>\n",
       "      <td>...</td>\n",
       "      <td>...</td>\n",
       "      <td>...</td>\n",
       "      <td>...</td>\n",
       "      <td>...</td>\n",
       "      <td>...</td>\n",
       "      <td>...</td>\n",
       "      <td>...</td>\n",
       "      <td>...</td>\n",
       "      <td>...</td>\n",
       "      <td>...</td>\n",
       "      <td>...</td>\n",
       "      <td>...</td>\n",
       "    </tr>\n",
       "    <tr>\n",
       "      <th>64713</th>\n",
       "      <td>R</td>\n",
       "      <td>Retired</td>\n",
       "      <td>8860068</td>\n",
       "      <td>1.0</td>\n",
       "      <td>345</td>\n",
       "      <td>15</td>\n",
       "      <td>N</td>\n",
       "      <td>IDA</td>\n",
       "      <td>None</td>\n",
       "      <td>NaN</td>\n",
       "      <td>...</td>\n",
       "      <td>N</td>\n",
       "      <td></td>\n",
       "      <td></td>\n",
       "      <td></td>\n",
       "      <td></td>\n",
       "      <td>N</td>\n",
       "      <td>N</td>\n",
       "      <td>N</td>\n",
       "      <td>N</td>\n",
       "      <td>N</td>\n",
       "    </tr>\n",
       "    <tr>\n",
       "      <th>64714</th>\n",
       "      <td>R</td>\n",
       "      <td>Retired</td>\n",
       "      <td>8860114</td>\n",
       "      <td>1.0</td>\n",
       "      <td>360</td>\n",
       "      <td>18</td>\n",
       "      <td>N</td>\n",
       "      <td>IDA</td>\n",
       "      <td>None</td>\n",
       "      <td>NaN</td>\n",
       "      <td>...</td>\n",
       "      <td>N</td>\n",
       "      <td></td>\n",
       "      <td></td>\n",
       "      <td></td>\n",
       "      <td></td>\n",
       "      <td>N</td>\n",
       "      <td>N</td>\n",
       "      <td>N</td>\n",
       "      <td>N</td>\n",
       "      <td>N</td>\n",
       "    </tr>\n",
       "    <tr>\n",
       "      <th>64715</th>\n",
       "      <td>R</td>\n",
       "      <td>Retired</td>\n",
       "      <td>8860165</td>\n",
       "      <td>1.0</td>\n",
       "      <td>1,350</td>\n",
       "      <td>75</td>\n",
       "      <td>Y</td>\n",
       "      <td>027.7</td>\n",
       "      <td>27.7</td>\n",
       "      <td>2.0</td>\n",
       "      <td>...</td>\n",
       "      <td>N</td>\n",
       "      <td></td>\n",
       "      <td></td>\n",
       "      <td></td>\n",
       "      <td></td>\n",
       "      <td>N</td>\n",
       "      <td>N</td>\n",
       "      <td>N</td>\n",
       "      <td>N</td>\n",
       "      <td>N</td>\n",
       "    </tr>\n",
       "    <tr>\n",
       "      <th>64716</th>\n",
       "      <td>R</td>\n",
       "      <td>Retired</td>\n",
       "      <td>8860173</td>\n",
       "      <td>1.0</td>\n",
       "      <td>1,500</td>\n",
       "      <td>75</td>\n",
       "      <td>Y</td>\n",
       "      <td>040.0</td>\n",
       "      <td>40</td>\n",
       "      <td>0.0</td>\n",
       "      <td>...</td>\n",
       "      <td>N</td>\n",
       "      <td></td>\n",
       "      <td></td>\n",
       "      <td></td>\n",
       "      <td></td>\n",
       "      <td>N</td>\n",
       "      <td>N</td>\n",
       "      <td>N</td>\n",
       "      <td>N</td>\n",
       "      <td>N</td>\n",
       "    </tr>\n",
       "    <tr>\n",
       "      <th>64717</th>\n",
       "      <td>R</td>\n",
       "      <td>Retired</td>\n",
       "      <td>8860238</td>\n",
       "      <td>1.0</td>\n",
       "      <td>648</td>\n",
       "      <td>27</td>\n",
       "      <td>Y</td>\n",
       "      <td>038.0</td>\n",
       "      <td>38</td>\n",
       "      <td>1.0</td>\n",
       "      <td>...</td>\n",
       "      <td>N</td>\n",
       "      <td></td>\n",
       "      <td></td>\n",
       "      <td></td>\n",
       "      <td></td>\n",
       "      <td>N</td>\n",
       "      <td>N</td>\n",
       "      <td>N</td>\n",
       "      <td>N</td>\n",
       "      <td>N</td>\n",
       "    </tr>\n",
       "  </tbody>\n",
       "</table>\n",
       "<p>64718 rows × 306 columns</p>\n",
       "</div>"
      ],
      "text/plain": [
       "      0        1        2    3      4      5   6      7     8    9    ... 296  \\\n",
       "0       A   Active   100021  9.0  8,011  191.2   Y  092.3  92.3  0.0  ...   N   \n",
       "1       A   Active   100048  9.0  8,129    194   Y  097.4  97.4  0.0  ...   N   \n",
       "2       A   Active   100072  9.0    881     12   N  081.6  81.6  0.0  ...   N   \n",
       "3       A   Active   100080  9.0    900     12   N  081.6  81.6  0.0  ...   N   \n",
       "4       A   Active   100137  9.0  9,680    242   Y  097.5  97.5  0.0  ...   N   \n",
       "...    ..      ...      ...  ...    ...    ...  ..    ...   ...  ...  ...  ..   \n",
       "64713   R  Retired  8860068  1.0    345     15   N    IDA  None  NaN  ...   N   \n",
       "64714   R  Retired  8860114  1.0    360     18   N    IDA  None  NaN  ...   N   \n",
       "64715   R  Retired  8860165  1.0  1,350     75   Y  027.7  27.7  2.0  ...   N   \n",
       "64716   R  Retired  8860173  1.0  1,500     75   Y  040.0    40  0.0  ...   N   \n",
       "64717   R  Retired  8860238  1.0    648     27   Y  038.0    38  1.0  ...   N   \n",
       "\n",
       "      297 298 299 300  301 302  303 304  305  \n",
       "0                        N   N    N   N    N  \n",
       "1                        N   N    N   N    N  \n",
       "2                        N   N    N   N    N  \n",
       "3                        N   N    N   N    N  \n",
       "4                        N   N    N   N    N  \n",
       "...    ..  ..  ..  ..  ...  ..  ...  ..  ...  \n",
       "64713                    N   N    N   N    N  \n",
       "64714                    N   N    N   N    N  \n",
       "64715                    N   N    N   N    N  \n",
       "64716                    N   N    N   N    N  \n",
       "64717                    N   N    N   N    N  \n",
       "\n",
       "[64718 rows x 306 columns]"
      ]
     },
     "execution_count": 18,
     "metadata": {},
     "output_type": "execute_result"
    }
   ],
   "source": [
    "bridges_df"
   ]
  },
  {
   "cell_type": "markdown",
   "id": "ebfb3a67",
   "metadata": {
    "pycharm": {
     "name": "#%%\n"
    }
   },
   "source": [
    "## Return data from a Rest API Query\n",
    "\n",
    "Many websites allow you to get custom responses by altering their urls, like TIMS."
   ]
  },
  {
   "cell_type": "code",
   "execution_count": 19,
   "id": "ad2bb53f",
   "metadata": {
    "pycharm": {
     "name": "#%%\n"
    }
   },
   "outputs": [],
   "source": [
    "# //TODO - Transfer functions from scratch file to CivilPy\n",
    "from scratch import get_bridge_data_from_tims"
   ]
  },
  {
   "cell_type": "code",
   "execution_count": 20,
   "id": "4648cd50",
   "metadata": {
    "pycharm": {
     "name": "#%%\n"
    }
   },
   "outputs": [
    {
     "name": "stdout",
     "output_type": "stream",
     "text": [
      "\n",
      "Retrieving data from url at https://gis.dot.state.oh.us//arcgis/rest/services/TIMS/Assets/MapServer/5/23370741?f=pjson\n",
      "\n"
     ]
    }
   ],
   "source": [
    "bridge_data = get_bridge_data_from_tims(6500609)"
   ]
  },
  {
   "cell_type": "code",
   "execution_count": 39,
   "id": "3f7c60e1",
   "metadata": {
    "pycharm": {
     "name": "#%%\n"
    }
   },
   "outputs": [
    {
     "data": {
      "text/plain": [
       "{'OBJECTID': 23370741,\n",
       " 'SFN': '6500609',\n",
       " 'STR_LOC_CARRIED': 'US 23SB',\n",
       " 'RTE_ON_BRG_CD': '10',\n",
       " 'DISTRICT': '06',\n",
       " 'COUNTY_CD': 'PIC',\n",
       " 'INVENT_SPCL_DSGT': 'L',\n",
       " 'FIPS_CD': '62484',\n",
       " 'INVENT_ON_UND_CD': '1',\n",
       " 'INVENT_HWY_SYS_CD': '2',\n",
       " 'INVENT_HWY_DSGT_CD': '1',\n",
       " 'INVENT_DIR_SFX_CD': '0',\n",
       " 'INVENT_FEAT': 'SCIPPO CR',\n",
       " 'STR_LOC': '1.6 MI N OF SR361',\n",
       " 'LATITUDE_DD': 39.531378,\n",
       " 'LONGITUDE_DD': -82.967494,\n",
       " 'BRDR_BRG_STATE': None,\n",
       " 'BRDR_BRG_PCT_RESP': None,\n",
       " 'BRDR_BRG_SFN': None,\n",
       " 'MAIN_STR_MTL_CD': '4',\n",
       " 'MAIN_STR_TYPE_CD': '02',\n",
       " 'APPRH_STR_MTL_CD': '0',\n",
       " 'APPRH_STR_TYPE_CD': '00',\n",
       " 'MAIN_SPANS': 3,\n",
       " 'APPRH_SPANS': 0,\n",
       " 'DECK_CD': '1',\n",
       " 'DECK_PROT_EXTL_CD': 'N',\n",
       " 'DECK_PROT_INT_CD': '1',\n",
       " 'WEAR_SURF_DT': 1290556800000,\n",
       " 'WEARING_SURF_CD': '1',\n",
       " 'WEARING_SURF_THCK': 1,\n",
       " 'PAINT_DT': 1290556800000,\n",
       " 'YR_BUILT': -426124800000,\n",
       " 'MAJ_RECON_DT': 1290556800000,\n",
       " 'TYPE_SERV1_CD': '1',\n",
       " 'TYPE_SERV2_CD': '5',\n",
       " 'LANES_ON': 2,\n",
       " 'LANES_UND': 0,\n",
       " 'INVENT_RTE_ADT': 12006,\n",
       " 'BYPASS_LEN': '12',\n",
       " 'NBIS_LEN_SW': 'Y',\n",
       " 'INVENT_NHS_CD': '1',\n",
       " 'FUNC_CLAS_CD': '02',\n",
       " 'DFNS_HWY_DSGT_SW': '0',\n",
       " 'PARALLEL_STR_CD': 'L',\n",
       " 'DIR_TRAFFIC_CD': '1',\n",
       " 'TEMP_STR_SW': '',\n",
       " 'DSGT_NATL_NETW_SW': '0',\n",
       " 'TOLL_CD': '3',\n",
       " 'ROUTINE_RESP_CD': '01',\n",
       " 'ROUTINE_RESP_CD_2': '  ',\n",
       " 'MAINT_RESP_CD': '01',\n",
       " 'MAINT_RESP_CD_2': '  ',\n",
       " 'INSP_RESP_CD': '01',\n",
       " 'INSP_RESP_CD_2': '  ',\n",
       " 'HIST_SGN_CD': '5',\n",
       " 'NAV_CONTROL_SW': '0',\n",
       " 'NAV_VRT_CLR': 0,\n",
       " 'NAV_HORIZ_CLR': 0,\n",
       " 'SUBS_FENDERS': '1',\n",
       " 'MIN_NAV_VRT_CLR': 0,\n",
       " 'INSP_DT': 1614643200000,\n",
       " 'DSGT_INSP_FREQ': 24,\n",
       " 'FRAC_CRIT_INSP_SW': 'N',\n",
       " 'FRACCRIT_INSP_FREQ': 0,\n",
       " 'FRAC_CRIT_INSP_DT': None,\n",
       " 'DIVE_INSP_SW': 'N',\n",
       " 'DIVE_INSP_FREQ': 0,\n",
       " 'DIVE_INSP_DT': None,\n",
       " 'SPCL_INSP_SW': 'N',\n",
       " 'SPCL_INSP_FREQ': 0,\n",
       " 'SPCL_INSP_DT': None,\n",
       " 'SNOOPER_INSP_SW': 'N',\n",
       " 'DECK_SUMMARY': '8',\n",
       " 'DECK_WEAR_SURF': '8',\n",
       " 'DECK_EXPN_JOINTS': '',\n",
       " 'SUPS_SUMMARY': '9',\n",
       " 'PAINT': '8',\n",
       " 'SUBS_SUMMARY': '9',\n",
       " 'CHAN_SUMMARY': '6',\n",
       " 'SUBS_SCOUR': '7',\n",
       " 'CULVERT_SUMMARY': 'N',\n",
       " 'GEN_APPRAISAL': '9',\n",
       " 'DESIGN_LOAD_CD': '9',\n",
       " 'RAT_OPR_LOAD_FACT': '2400',\n",
       " 'RAT_INV_LOAD_CD': '7',\n",
       " 'RAT_INV_LOAD_FACT': '2300',\n",
       " 'GEN_OPR_STATUS': 'A',\n",
       " 'BRG_POSTING': '5',\n",
       " 'CALC_STR_EVAL': '9',\n",
       " 'CALC_DECK_GEOM': '8',\n",
       " 'CALC_UNDC': 'N',\n",
       " 'WW_ADEQUACY_CD': '6',\n",
       " 'APPRH_ALGN_CD': '8',\n",
       " 'SURVEY_RAILING': '1',\n",
       " 'SURVEY_TRANSITION': '1',\n",
       " 'SURVEY_GUARDRAIL': '1',\n",
       " 'SURVEY_RAIL_ENDS': '1',\n",
       " 'SCOUR_CRIT_CD': '8',\n",
       " 'MAX_SPAN_LEN': 65,\n",
       " 'OVRL_STR_LEN': 175.5,\n",
       " 'SIDW_WD_L': 0,\n",
       " 'SIDW_WD_R': 0,\n",
       " 'BRG_RDW_WD': 42,\n",
       " 'DECK_WD': 45,\n",
       " 'APPRH_RDW_WD': 42,\n",
       " 'MEDIAN_CD': '0',\n",
       " 'SKEW_DEG': 40,\n",
       " 'FLARED_SW': '0',\n",
       " 'MIN_HORIZ_CLR_C': 42,\n",
       " 'MINVRT_UNDCLR_C': 0,\n",
       " 'IMPR_TYP_WORK_CD': '  ',\n",
       " 'IMPR_TYP_MEANS_CD': ' ',\n",
       " 'IMPR_LNG': 0,\n",
       " 'IMPR_BRG_COST': 0,\n",
       " 'IMPR_RDW_COST': 0,\n",
       " 'IMPR_TOT_PROJ_COST': 0,\n",
       " 'IMPR_COST_EST_YR': 0,\n",
       " 'FUTURE_ADT': 16664,\n",
       " 'FUTURE_ADT_YR': 2038,\n",
       " 'DEDICATED_NME': '',\n",
       " 'INVENT_PREF_RTE': 'N',\n",
       " 'MAJOR_BRG_SW': 'N',\n",
       " 'INVENT_COUNTY': 'DIS',\n",
       " 'SEISMIC_SUSCEPT_CD': 'N',\n",
       " 'GASB_34_SW': 'Y',\n",
       " 'APERTURE_FABR_SW': '2',\n",
       " 'APERTURE_ORIG_SW': '2',\n",
       " 'APERTURE_REP_SW': '1',\n",
       " 'ORIG_PROJ_NBR': '044955',\n",
       " 'STD_DRW_NBR': '',\n",
       " 'MICROFILM_NBR': 'PIC003',\n",
       " 'REMARKS': '',\n",
       " 'UTL_ELECTRIC_SW': 'N',\n",
       " 'UTL_GAS_SW': 'N',\n",
       " 'UTL_SEWER_SW': 'N',\n",
       " 'NBIS_BRIDGE_LENGTH': 175.5,\n",
       " 'RTE_UND_BRG_CD': '99',\n",
       " 'LOAD_RAT_PCT': 150,\n",
       " 'LOAD_RAT_YR': 2006,\n",
       " 'RATING_SOFT_CD': '1',\n",
       " 'CATWALKS_SW': 'N',\n",
       " 'RETIRE_REASON_CD': '',\n",
       " 'REC_ADD_DT': -2208988800000,\n",
       " 'MPO_CD': 'NN',\n",
       " 'TEMP_SUBDECKING_SW': 'N',\n",
       " 'APPRH_SLAB_SW': 'Y',\n",
       " 'MEDIAN_TYP1_CD': 'N',\n",
       " 'MEDIAN_TYP2_CD': 'N',\n",
       " 'MEDIAN_TYP3_CD': 'N',\n",
       " 'RAILING_TYP_CD': 'I',\n",
       " 'COMPOSITE_STR_CD': 'Y',\n",
       " 'ELAS_STRP_TROU2_SW': 'N',\n",
       " 'ELAS_STRP_TROU3_SW': 'N',\n",
       " 'FENCING_SW': 'N',\n",
       " 'GLARE_SCREEN_SW': 'N',\n",
       " 'NOISE_BARRIER_SW': 'N',\n",
       " 'DECK_AREA': 7898,\n",
       " 'CURB_SIDW_MTL_L': 'N',\n",
       " 'CURB_SIDW_MTL_R': 'N',\n",
       " 'CURB_SIDW_TYP_L': 'N',\n",
       " 'CURB_SIDW_TYP_R': 'N',\n",
       " 'HINGE_CD': 'N',\n",
       " 'DECK_DRN_CD': '0',\n",
       " 'DECK_CONC_TYP_CD': 'B',\n",
       " 'EXPN_JOINT1_CD': 'N',\n",
       " 'EXPN_JOINT2_CD': 'N',\n",
       " 'EXPN_JOINT3_CD': 'N',\n",
       " 'HORIZ_CRV_RADIUS': '',\n",
       " 'BEARING_DEVICE1_CD': 'C',\n",
       " 'BEARING_DEVICE2_CD': 'N',\n",
       " 'FRAMING_TYP_CD': '4',\n",
       " 'HAUNCH_GIRD_SW': 'N',\n",
       " 'LONG_MEMB_TYP_CD': 'N',\n",
       " 'MAIN_MEM_CD': '1',\n",
       " 'STR_STEEL_PROT_CD': '5',\n",
       " 'PRED_STR_STEEL_TYP': 'D',\n",
       " 'PAINT_SURFACE_AREA': 25457,\n",
       " 'STR_STEEL_PAINT_CD': '2',\n",
       " 'POST_TENSION_SW': 'N',\n",
       " 'ABUT_FWD_TYP_CD': 'D',\n",
       " 'ABUT_FWD_MATL_CD': '2',\n",
       " 'ABUT_FWD_CD': 'A',\n",
       " 'ABUT_REAR_TYP_CD': 'D',\n",
       " 'ABUT_REAR_MATL_CD': '2',\n",
       " 'ABUT_REAR_CD': 'A',\n",
       " 'PRED_PIER_TYP_CD': '1',\n",
       " 'PRED_PIER_MATL_CD': '2',\n",
       " 'PIER_PRED_CD': 'A',\n",
       " 'PIER_1_TYP_CD': 'N',\n",
       " 'PIER_1_MATL_CD': 'N',\n",
       " 'PIER_OTH1_CD': 'N',\n",
       " 'SLOPE_PROT_TYP_CD': '3',\n",
       " 'CULVERT_TYP_CD': 'N',\n",
       " 'CULVERT_LEN': 0,\n",
       " 'CULVERT_FILL_DEPTH': 0,\n",
       " 'SCENIC_WATERWAY_SW': 'N',\n",
       " 'CHAN_PROT_TYPE_CD': '5',\n",
       " 'STREAM_VELOCITY': '00000',\n",
       " 'HIST_TYP_CD': '330',\n",
       " 'HIST_BUILDER_CD': '192',\n",
       " 'SUFF_RATING': '089.3',\n",
       " 'DEFIC_FUNC_RATING': '0',\n",
       " 'MAIN_STR_DESCR_CD': 'N',\n",
       " 'APPRH_STR_DESCR_CD': 'N',\n",
       " 'HIST_BUILD_YR': '1956',\n",
       " 'NLFID': 'SPICUS00023**N',\n",
       " 'CTL_BEGIN_NBR': 3.68,\n",
       " 'ROUTE_TYPE': 'US',\n",
       " 'ROUTE_NBR': '00023',\n",
       " 'ROUTE_SUFFIX': '*',\n",
       " 'ROUTINE_INSP_DUE': 1677628800000,\n",
       " 'FRAC_CRIT_INSP_DUE': None,\n",
       " 'DIVE_INSP_DUE': None,\n",
       " 'SPCL_INSP_DUE': None,\n",
       " 'BIA_REPORT': 'https://smsreports.dot.state.oh.us/CreateReport.aspx?SFN=6500609&IsBIA=true',\n",
       " 'STATE_ROUTE_BR_PHOTOS': 'https://brphotos.dot.state.oh.us/Bridges.aspx?county=PIC',\n",
       " 'JURISDICTION': 'S',\n",
       " 'DIVIDED_HWY': 'Y',\n",
       " 'ACCESS_CONTROL': None,\n",
       " 'URBAN_AREA_CODE': '99999',\n",
       " 'BASE_TYPE': None,\n",
       " 'FUNCTIONAL_CLASS': '3',\n",
       " 'HPMS_SAMPLE_ID': None,\n",
       " 'LANES': None,\n",
       " 'MAINTENANCE_AUTHORITY': None,\n",
       " 'NHS': 'H',\n",
       " 'PRIORITY_SYSTEM': None,\n",
       " 'SURFACE_TYPE': None,\n",
       " 'SURFACE_WIDTH': None,\n",
       " 'ESAL_TOTAL': None,\n",
       " 'PAVE_TYPE': 'FLEX',\n",
       " 'PCR_YEAR': None,\n",
       " 'ROADWAY_WIDTH_NBR': None,\n",
       " 'created_user': 'TIMS@P31_AG',\n",
       " 'created_date': 1674726130000,\n",
       " 'last_edited_user': 'TIMS@P31_AG',\n",
       " 'last_edited_date': 1674726130000}"
      ]
     },
     "execution_count": 39,
     "metadata": {},
     "output_type": "execute_result"
    }
   ],
   "source": [
    "bridge_data"
   ]
  },
  {
   "cell_type": "markdown",
   "id": "396f61ac",
   "metadata": {
    "pycharm": {
     "name": "#%%\n"
    }
   },
   "source": [
    "### Map Creation"
   ]
  },
  {
   "cell_type": "code",
   "execution_count": 27,
   "id": "8552edae",
   "metadata": {
    "pycharm": {
     "name": "#%%\n"
    }
   },
   "outputs": [],
   "source": [
    "import geopandas # Very powerful geospatial relationship/filtering tool\n",
    "import fiona\n",
    "import folium"
   ]
  },
  {
   "cell_type": "code",
   "execution_count": 34,
   "id": "e11dd0de",
   "metadata": {
    "pycharm": {
     "name": "#%%\n"
    },
    "scrolled": false
   },
   "outputs": [
    {
     "data": {
      "text/html": [
       "<div style=\"width:100%;\"><div style=\"position:relative;width:100%;height:0;padding-bottom:60%;\"><span style=\"color:#565656\">Make this Notebook Trusted to load map: File -> Trust Notebook</span><iframe srcdoc=\"&lt;!DOCTYPE html&gt;\n",
       "&lt;head&gt;    \n",
       "    &lt;meta http-equiv=&quot;content-type&quot; content=&quot;text/html; charset=UTF-8&quot; /&gt;\n",
       "    \n",
       "        &lt;script&gt;\n",
       "            L_NO_TOUCH = false;\n",
       "            L_DISABLE_3D = false;\n",
       "        &lt;/script&gt;\n",
       "    \n",
       "    &lt;style&gt;html, body {width: 100%;height: 100%;margin: 0;padding: 0;}&lt;/style&gt;\n",
       "    &lt;style&gt;#map {position:absolute;top:0;bottom:0;right:0;left:0;}&lt;/style&gt;\n",
       "    &lt;script src=&quot;https://cdn.jsdelivr.net/npm/leaflet@1.6.0/dist/leaflet.js&quot;&gt;&lt;/script&gt;\n",
       "    &lt;script src=&quot;https://code.jquery.com/jquery-1.12.4.min.js&quot;&gt;&lt;/script&gt;\n",
       "    &lt;script src=&quot;https://maxcdn.bootstrapcdn.com/bootstrap/3.2.0/js/bootstrap.min.js&quot;&gt;&lt;/script&gt;\n",
       "    &lt;script src=&quot;https://cdnjs.cloudflare.com/ajax/libs/Leaflet.awesome-markers/2.0.2/leaflet.awesome-markers.js&quot;&gt;&lt;/script&gt;\n",
       "    &lt;link rel=&quot;stylesheet&quot; href=&quot;https://cdn.jsdelivr.net/npm/leaflet@1.6.0/dist/leaflet.css&quot;/&gt;\n",
       "    &lt;link rel=&quot;stylesheet&quot; href=&quot;https://maxcdn.bootstrapcdn.com/bootstrap/3.2.0/css/bootstrap.min.css&quot;/&gt;\n",
       "    &lt;link rel=&quot;stylesheet&quot; href=&quot;https://maxcdn.bootstrapcdn.com/bootstrap/3.2.0/css/bootstrap-theme.min.css&quot;/&gt;\n",
       "    &lt;link rel=&quot;stylesheet&quot; href=&quot;https://maxcdn.bootstrapcdn.com/font-awesome/4.6.3/css/font-awesome.min.css&quot;/&gt;\n",
       "    &lt;link rel=&quot;stylesheet&quot; href=&quot;https://cdnjs.cloudflare.com/ajax/libs/Leaflet.awesome-markers/2.0.2/leaflet.awesome-markers.css&quot;/&gt;\n",
       "    &lt;link rel=&quot;stylesheet&quot; href=&quot;https://cdn.jsdelivr.net/gh/python-visualization/folium/folium/templates/leaflet.awesome.rotate.min.css&quot;/&gt;\n",
       "    \n",
       "            &lt;meta name=&quot;viewport&quot; content=&quot;width=device-width,\n",
       "                initial-scale=1.0, maximum-scale=1.0, user-scalable=no&quot; /&gt;\n",
       "            &lt;style&gt;\n",
       "                #map_80aacac1217e69b458c9d13af8725a94 {\n",
       "                    position: relative;\n",
       "                    width: 100.0%;\n",
       "                    height: 100.0%;\n",
       "                    left: 0.0%;\n",
       "                    top: 0.0%;\n",
       "                }\n",
       "            &lt;/style&gt;\n",
       "        \n",
       "&lt;/head&gt;\n",
       "&lt;body&gt;    \n",
       "    \n",
       "            &lt;div class=&quot;folium-map&quot; id=&quot;map_80aacac1217e69b458c9d13af8725a94&quot; &gt;&lt;/div&gt;\n",
       "        \n",
       "&lt;/body&gt;\n",
       "&lt;script&gt;    \n",
       "    \n",
       "            var map_80aacac1217e69b458c9d13af8725a94 = L.map(\n",
       "                &quot;map_80aacac1217e69b458c9d13af8725a94&quot;,\n",
       "                {\n",
       "                    center: [39.531378, -82.967494],\n",
       "                    crs: L.CRS.EPSG3857,\n",
       "                    zoom: 13,\n",
       "                    zoomControl: true,\n",
       "                    preferCanvas: false,\n",
       "                }\n",
       "            );\n",
       "\n",
       "            \n",
       "\n",
       "        \n",
       "    \n",
       "            var tile_layer_f88fff58c7e073aeea53adc8f128b703 = L.tileLayer(\n",
       "                &quot;https://{s}.tile.openstreetmap.org/{z}/{x}/{y}.png&quot;,\n",
       "                {&quot;attribution&quot;: &quot;Data by \\u0026copy; \\u003ca href=\\&quot;http://openstreetmap.org\\&quot;\\u003eOpenStreetMap\\u003c/a\\u003e, under \\u003ca href=\\&quot;http://www.openstreetmap.org/copyright\\&quot;\\u003eODbL\\u003c/a\\u003e.&quot;, &quot;detectRetina&quot;: false, &quot;maxNativeZoom&quot;: 18, &quot;maxZoom&quot;: 18, &quot;minZoom&quot;: 0, &quot;noWrap&quot;: false, &quot;opacity&quot;: 1, &quot;subdomains&quot;: &quot;abc&quot;, &quot;tms&quot;: false}\n",
       "            ).addTo(map_80aacac1217e69b458c9d13af8725a94);\n",
       "        \n",
       "    \n",
       "            var marker_02ef2cd54b2d15b06f278afb897cea68 = L.marker(\n",
       "                [39.531378, -82.967494],\n",
       "                {&quot;fillColor&quot;: &quot;#43d9de&quot;, &quot;radius&quot;: 8}\n",
       "            ).addTo(map_80aacac1217e69b458c9d13af8725a94);\n",
       "        \n",
       "&lt;/script&gt;\" style=\"position:absolute;width:100%;height:100%;left:0;top:0;border:none !important;\" allowfullscreen webkitallowfullscreen mozallowfullscreen></iframe></div></div>"
      ],
      "text/plain": [
       "<folium.folium.Map at 0x1ec26c9ed00>"
      ]
     },
     "execution_count": 34,
     "metadata": {},
     "output_type": "execute_result"
    }
   ],
   "source": [
    "map_object = None\n",
    "\n",
    "lat_lon = [bridge_data['LATITUDE_DD'], bridge_data['LONGITUDE_DD']]\n",
    "\n",
    "# Define Map Centerpoint\n",
    "map_object = folium.Map(location=[lat_lon[0], lat_lon[1]], zoom_start=13)\n",
    "\n",
    "# Add Marker\n",
    "folium.Marker( location=[ lat_lon[0], lat_lon[1] ], fill_color='#43d9de', radius=8 ).add_to( map_object )\n",
    "\n",
    "map_object"
   ]
  },
  {
   "cell_type": "markdown",
   "id": "e9d93441",
   "metadata": {},
   "source": [
    "seamless integration with other opensource formats like kml,"
   ]
  },
  {
   "cell_type": "code",
   "execution_count": 38,
   "id": "c6d4b726",
   "metadata": {},
   "outputs": [],
   "source": [
    "import simplekml\n",
    "\n",
    "kml = simplekml.Kml()\n",
    "kml.newpoint(name=bridge_data['SFN'], coords=[(lat_lon[1], lat_lon[0])])\n",
    "\n",
    "kml.save('samplekml.kml')"
   ]
  },
  {
   "cell_type": "markdown",
   "id": "bd8bf06f",
   "metadata": {
    "pycharm": {
     "name": "#%%\n"
    }
   },
   "source": [
    "### "
   ]
  },
  {
   "cell_type": "code",
   "execution_count": null,
   "id": "88404e43",
   "metadata": {
    "pycharm": {
     "name": "#%%\n"
    }
   },
   "outputs": [],
   "source": []
  },
  {
   "cell_type": "code",
   "execution_count": null,
   "id": "8e172956",
   "metadata": {
    "pycharm": {
     "name": "#%%\n"
    }
   },
   "outputs": [],
   "source": []
  },
  {
   "cell_type": "markdown",
   "id": "a687ac1c",
   "metadata": {
    "pycharm": {
     "name": "#%% md\n"
    }
   },
   "source": [
    "## Where Are The Issues/Hangups?\n",
    "\n",
    "__3 Primary Pain Points to solve__\n",
    "\n",
    "1. \"Approved Software Lists\"; they're difficult to maintain at a 'package' level, like impossibly difficult in open source without just blanket approving a parent package/product like \"Ubuntu\", which would implicity approve any dependency it's built on in perpetuity? Most organizational software policies contain confusing language like this, at least to me, it doesn't feel like these standards were written with the more modern modular tooling and software packages available today particularly in mind, it's written in regards to full, packaged applications which is an entirely different realm. \n",
    "\n",
    "    To alleviate some of the risk with this, open-source systems are generally designed to be more \"ephemeral\" and segmented. Some examples of this, with a large amount of popularity are \"container\" systems like Docker or Kubernetes. These systems rely on extensive API's which they try to keep as consistent as possible, as the products are changed and updated they're kept on release schedules and generally come with fantastic documentation.  \n",
    "\n",
    "\n",
    "2. Lack of organizational standards pertaining to file systems; no matter what system environment, programming language, or software package we're talking about, certain general conventions apply.  Microsoft has traditionally been more willing to accomodate a wide variaty of file system hierarchies and in general, the ones I see are heavily catered to human use, and by extension very poorly designed for scripting or bots. Working in windows environments has historically inspired certain conventions, some of which I think are mostly still around as vestigial structures.\n",
    "\n",
    "    Things like encoding documents with 15 digit numbers are ridiculous, nested file systems generated by a bot where 60% of the folders are never used are pervasive in our industry. Bad metadata, nothing checking it, inconsistent file names and folder locations due to human error. If you were to hand a professional programmer 90% of the file systems I've encountered on a drive they'd triple their hourly rate on the spot. We can't feign ignorance and act like it's not our mess as an industry to clean up. These are more often than not records and documents of critical structures, that with little effort could be preserved indefinately. I have zero faith that our industry across the board isn't destroying hundreds of gigabytes of unrecoverable, important data every day via poorly implemented content managment systems, entirely accidentally.\n",
    "\n",
    "\n",
    "3. Not understanding the foundational principles of the tools we use every day. At some point our industry seemed content to push our work onto 3rd party software providers that have frankly, done a mostly terrible job and have increasingly displayed concerning behaviors at an instituional level. At a most basic level, engineers understand economics and competition of the free market place. There are two providers for CAD software in our industry. One of them is more expensive and has a wide variety of API's and tools available that can be integrated into their products easily and is generally more pleasant to work with. The other doesn't let you import an object from one of their software packages to another (OpenRoads to OpenBridges) and is overly complicated to the point that organizations struggle to maintain effective drafting evironments.\n",
    "\n",
    "    Further on this point, the existance of all of our drafting/design data as .dgn, .dwg or other proprietary file formats presents an issue with archival records. CADD files are proprietary and can only be read by the system that created them. Many CADD files can't be read by earlier versions of __THE SAME SOFTWARE THAT CREATED THEM__ these companies are clearly making an attempt at \"locking\" their clients into their systems and subscription based services, which I've seen little to no pushback to from the general industry. I fully believe their attempts at locking in their clients have gotten to the point that it's clear we need to start making real effort towards dumping files into plain text formats, or at the very least a filesystem backup we have control over.\n",
    "\n",
    "People may push back and say \"Well what legitimate alternatives are available?\" and there aren't any. I'm not telling you to stop using Autodesk or Bentley products at all, I'm especially not telling you to stop using filesystems or Windows or learn git and try to replace projectwise with it. What I'm saying, is that if you look into open source software, specifically [The unix philosophy](https://en.wikipedia.org/wiki/Unix_philosophy#:~:text=The%20Unix%20philosophy%20emphasizes%20building,as%20opposed%20to%20monolithic%20design.), and by extension the design philosphies of the various open-source packages they inspired. You'll see that it's really much more about keeping everything simple, and setting easily implementable standards that can be checked for at a glance and easily referenced. Better yet, they already set out and defined most of these general principles for complicated systems, and told us we can take them, so really all any modern engineer has to do is read them once and keep them in mind. This is a critical aspect to being an informed software consumer and really understanding what we're paying for, and what sacrifices we're making to use certain products."
   ]
  },
  {
   "cell_type": "code",
   "execution_count": null,
   "id": "7ae09a95",
   "metadata": {
    "pycharm": {
     "name": "#%%\n"
    }
   },
   "outputs": [],
   "source": []
  },
  {
   "cell_type": "code",
   "execution_count": null,
   "id": "2cd66775",
   "metadata": {
    "pycharm": {
     "name": "#%%\n"
    }
   },
   "outputs": [],
   "source": []
  }
 ],
 "metadata": {
  "kernelspec": {
   "display_name": "Python 3 (ipykernel)",
   "language": "python",
   "name": "python3"
  },
  "language_info": {
   "codemirror_mode": {
    "name": "ipython",
    "version": 3
   },
   "file_extension": ".py",
   "mimetype": "text/x-python",
   "name": "python",
   "nbconvert_exporter": "python",
   "pygments_lexer": "ipython3",
   "version": "3.8.13"
  }
 },
 "nbformat": 4,
 "nbformat_minor": 5
}
