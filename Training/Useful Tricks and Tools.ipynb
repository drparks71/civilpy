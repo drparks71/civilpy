{
 "cells": [
  {
   "cell_type": "markdown",
   "metadata": {
    "collapsed": true
   },
   "source": [
    "# Folder navigation"
   ]
  },
  {
   "cell_type": "code",
   "execution_count": 1,
   "metadata": {},
   "outputs": [],
   "source": [
    "import os\n",
    "import re\n",
    "from pathlib import Path"
   ]
  },
  {
   "cell_type": "code",
   "execution_count": 2,
   "metadata": {},
   "outputs": [],
   "source": [
    "def build_file_list_from_path(path=Path('..')):\n",
    "    empty_list = []\n",
    "    \n",
    "    # Build a list of every file directory in the given folder\n",
    "    for root, dirs, files in os.walk(path.resolve()):\n",
    "        print(root)\n",
    "        # Filter out directories that contain unimportant or hidden files\n",
    "        dirs[:] = [d for d in dirs if not d[0] == '.']\n",
    "        dirs[:] = [d for d in dirs if not d[0] == '_']\n",
    "        \n",
    "        # use files and dirs\n",
    "        for directory in dirs:\n",
    "            print(f\"\\n\\nSaving files in: {root}/{directory}\")\n",
    "            directory = Path(f\"{root}/{directory}\")\n",
    "            \n",
    "            for file_var in os.listdir(directory):\n",
    "                root_dir = Path(f\"{root}\")\n",
    "                print(f\"Saving: {Path(root/directory/file_var)}\")\n",
    "                \n",
    "                empty_list.append(f\"{Path(root/directory/file_var)}\")\n",
    "    \n",
    "    return empty_list"
   ]
  },
  {
   "cell_type": "code",
   "execution_count": 3,
   "metadata": {},
   "outputs": [
    {
     "name": "stdout",
     "output_type": "stream",
     "text": [
      "C:\\Users\\drpar\\PycharmProjects\\civilpy\n",
      "\n",
      "\n",
      "Saving files in: C:\\Users\\drpar\\PycharmProjects\\civilpy/civilpy\n",
      "Saving: C:\\Users\\drpar\\PycharmProjects\\civilpy\\civilpy\\CLI.py\n",
      "Saving: C:\\Users\\drpar\\PycharmProjects\\civilpy\\civilpy\\construction\n",
      "Saving: C:\\Users\\drpar\\PycharmProjects\\civilpy\\civilpy\\environmental\n",
      "Saving: C:\\Users\\drpar\\PycharmProjects\\civilpy\\civilpy\\general\n",
      "Saving: C:\\Users\\drpar\\PycharmProjects\\civilpy\\civilpy\\geotechnical\n",
      "Saving: C:\\Users\\drpar\\PycharmProjects\\civilpy\\civilpy\\state\n",
      "Saving: C:\\Users\\drpar\\PycharmProjects\\civilpy\\civilpy\\structural\n",
      "Saving: C:\\Users\\drpar\\PycharmProjects\\civilpy\\civilpy\\transportation\n",
      "Saving: C:\\Users\\drpar\\PycharmProjects\\civilpy\\civilpy\\water_resources\n",
      "Saving: C:\\Users\\drpar\\PycharmProjects\\civilpy\\civilpy\\webpages\n",
      "Saving: C:\\Users\\drpar\\PycharmProjects\\civilpy\\civilpy\\__init__.py\n",
      "Saving: C:\\Users\\drpar\\PycharmProjects\\civilpy\\civilpy\\__pycache__\n",
      "\n",
      "\n",
      "Saving files in: C:\\Users\\drpar\\PycharmProjects\\civilpy/res\n",
      "Saving: C:\\Users\\drpar\\PycharmProjects\\civilpy\\res\\ODOT_sample_plans.pdf\n",
      "Saving: C:\\Users\\drpar\\PycharmProjects\\civilpy\\res\\ODOT_sample_plans_modified.pdf\n",
      "Saving: C:\\Users\\drpar\\PycharmProjects\\civilpy\\res\\ohio_fips.csv\n",
      "Saving: C:\\Users\\drpar\\PycharmProjects\\civilpy\\res\\Ohio_Fips.pdf\n",
      "Saving: C:\\Users\\drpar\\PycharmProjects\\civilpy\\res\\photos\n",
      "Saving: C:\\Users\\drpar\\PycharmProjects\\civilpy\\res\\Proposed 808.hy8\n",
      "\n",
      "\n",
      "Saving files in: C:\\Users\\drpar\\PycharmProjects\\civilpy/secrets\n",
      "Saving: C:\\Users\\drpar\\PycharmProjects\\civilpy\\secrets\\secrets.json\n",
      "\n",
      "\n",
      "Saving files in: C:\\Users\\drpar\\PycharmProjects\\civilpy/tests\n",
      "Saving: C:\\Users\\drpar\\PycharmProjects\\civilpy\\tests\\.ipynb_checkpoints\n",
      "Saving: C:\\Users\\drpar\\PycharmProjects\\civilpy\\tests\\tests.ipynb\n",
      "Saving: C:\\Users\\drpar\\PycharmProjects\\civilpy\\tests\\test_ohio_dot_bridge.py\n",
      "Saving: C:\\Users\\drpar\\PycharmProjects\\civilpy\\tests\\test_ohio_dot_project.py\n",
      "Saving: C:\\Users\\drpar\\PycharmProjects\\civilpy\\tests\\test_steel.py\n",
      "Saving: C:\\Users\\drpar\\PycharmProjects\\civilpy\\tests\\__pycache__\n",
      "\n",
      "\n",
      "Saving files in: C:\\Users\\drpar\\PycharmProjects\\civilpy/Training\n",
      "Saving: C:\\Users\\drpar\\PycharmProjects\\civilpy\\Training\\.ipynb_checkpoints\n",
      "Saving: C:\\Users\\drpar\\PycharmProjects\\civilpy\\Training\\NBI Standards - Conversion (Clean).ipynb\n",
      "Saving: C:\\Users\\drpar\\PycharmProjects\\civilpy\\Training\\NBI Standards - Conversion (Verbose).ipynb\n",
      "Saving: C:\\Users\\drpar\\PycharmProjects\\civilpy\\Training\\PDP and Design Integrations.ipynb\n",
      "Saving: C:\\Users\\drpar\\PycharmProjects\\civilpy\\Training\\scratch.py\n",
      "Saving: C:\\Users\\drpar\\PycharmProjects\\civilpy\\Training\\Software Development and Systems Integrations for Civil Engineers.ipynb\n",
      "Saving: C:\\Users\\drpar\\PycharmProjects\\civilpy\\Training\\Useful Tricks and Tools.ipynb\n",
      "Saving: C:\\Users\\drpar\\PycharmProjects\\civilpy\\Training\\__pycache__\n",
      "C:\\Users\\drpar\\PycharmProjects\\civilpy\\civilpy\n",
      "\n",
      "\n",
      "Saving files in: C:\\Users\\drpar\\PycharmProjects\\civilpy\\civilpy/construction\n",
      "Saving: C:\\Users\\drpar\\PycharmProjects\\civilpy\\civilpy\\construction\\__init__.py\n",
      "\n",
      "\n",
      "Saving files in: C:\\Users\\drpar\\PycharmProjects\\civilpy\\civilpy/environmental\n",
      "Saving: C:\\Users\\drpar\\PycharmProjects\\civilpy\\civilpy\\environmental\\__init__.py\n",
      "\n",
      "\n",
      "Saving files in: C:\\Users\\drpar\\PycharmProjects\\civilpy\\civilpy/general\n",
      "Saving: C:\\Users\\drpar\\PycharmProjects\\civilpy\\civilpy\\general\\database_tools.py\n",
      "Saving: C:\\Users\\drpar\\PycharmProjects\\civilpy\\civilpy\\general\\gis.py\n",
      "Saving: C:\\Users\\drpar\\PycharmProjects\\civilpy\\civilpy\\general\\kml_tools.py\n",
      "Saving: C:\\Users\\drpar\\PycharmProjects\\civilpy\\civilpy\\general\\math.py\n",
      "Saving: C:\\Users\\drpar\\PycharmProjects\\civilpy\\civilpy\\general\\pdf.py\n",
      "Saving: C:\\Users\\drpar\\PycharmProjects\\civilpy\\civilpy\\general\\physics.py\n",
      "Saving: C:\\Users\\drpar\\PycharmProjects\\civilpy\\civilpy\\general\\plan_development.py\n",
      "Saving: C:\\Users\\drpar\\PycharmProjects\\civilpy\\civilpy\\general\\tello_drone.py\n",
      "Saving: C:\\Users\\drpar\\PycharmProjects\\civilpy\\civilpy\\general\\__init__.py\n",
      "Saving: C:\\Users\\drpar\\PycharmProjects\\civilpy\\civilpy\\general\\__pycache__\n",
      "\n",
      "\n",
      "Saving files in: C:\\Users\\drpar\\PycharmProjects\\civilpy\\civilpy/geotechnical\n",
      "Saving: C:\\Users\\drpar\\PycharmProjects\\civilpy\\civilpy\\geotechnical\\__init__.py\n",
      "\n",
      "\n",
      "Saving files in: C:\\Users\\drpar\\PycharmProjects\\civilpy\\civilpy/state\n",
      "Saving: C:\\Users\\drpar\\PycharmProjects\\civilpy\\civilpy\\state\\ohio\n",
      "Saving: C:\\Users\\drpar\\PycharmProjects\\civilpy\\civilpy\\state\\__init__.py\n",
      "Saving: C:\\Users\\drpar\\PycharmProjects\\civilpy\\civilpy\\state\\__pycache__\n",
      "\n",
      "\n",
      "Saving files in: C:\\Users\\drpar\\PycharmProjects\\civilpy\\civilpy/structural\n",
      "Saving: C:\\Users\\drpar\\PycharmProjects\\civilpy\\civilpy\\structural\\beam_bending.py\n",
      "Saving: C:\\Users\\drpar\\PycharmProjects\\civilpy\\civilpy\\structural\\res\n",
      "Saving: C:\\Users\\drpar\\PycharmProjects\\civilpy\\civilpy\\structural\\search_tools.py\n",
      "Saving: C:\\Users\\drpar\\PycharmProjects\\civilpy\\civilpy\\structural\\steel.py\n",
      "Saving: C:\\Users\\drpar\\PycharmProjects\\civilpy\\civilpy\\structural\\__init__.py\n",
      "Saving: C:\\Users\\drpar\\PycharmProjects\\civilpy\\civilpy\\structural\\__pycache__\n",
      "\n",
      "\n",
      "Saving files in: C:\\Users\\drpar\\PycharmProjects\\civilpy\\civilpy/transportation\n",
      "Saving: C:\\Users\\drpar\\PycharmProjects\\civilpy\\civilpy\\transportation\\__init__.py\n",
      "\n",
      "\n",
      "Saving files in: C:\\Users\\drpar\\PycharmProjects\\civilpy\\civilpy/water_resources\n",
      "Saving: C:\\Users\\drpar\\PycharmProjects\\civilpy\\civilpy\\water_resources\\hydraulics.py\n",
      "Saving: C:\\Users\\drpar\\PycharmProjects\\civilpy\\civilpy\\water_resources\\__init__.py\n",
      "\n",
      "\n",
      "Saving files in: C:\\Users\\drpar\\PycharmProjects\\civilpy\\civilpy/webpages\n",
      "Saving: C:\\Users\\drpar\\PycharmProjects\\civilpy\\civilpy\\webpages\\index.html\n",
      "C:\\Users\\drpar\\PycharmProjects\\civilpy\\civilpy\\construction\n",
      "C:\\Users\\drpar\\PycharmProjects\\civilpy\\civilpy\\environmental\n",
      "C:\\Users\\drpar\\PycharmProjects\\civilpy\\civilpy\\general\n",
      "C:\\Users\\drpar\\PycharmProjects\\civilpy\\civilpy\\geotechnical\n",
      "C:\\Users\\drpar\\PycharmProjects\\civilpy\\civilpy\\state\n",
      "\n",
      "\n",
      "Saving files in: C:\\Users\\drpar\\PycharmProjects\\civilpy\\civilpy\\state/ohio\n",
      "Saving: C:\\Users\\drpar\\PycharmProjects\\civilpy\\civilpy\\state\\ohio\\dot.py\n",
      "Saving: C:\\Users\\drpar\\PycharmProjects\\civilpy\\civilpy\\state\\ohio\\__init__.py\n",
      "Saving: C:\\Users\\drpar\\PycharmProjects\\civilpy\\civilpy\\state\\ohio\\__pycache__\n",
      "C:\\Users\\drpar\\PycharmProjects\\civilpy\\civilpy\\state\\ohio\n",
      "C:\\Users\\drpar\\PycharmProjects\\civilpy\\civilpy\\structural\n",
      "\n",
      "\n",
      "Saving files in: C:\\Users\\drpar\\PycharmProjects\\civilpy\\civilpy\\structural/res\n",
      "Saving: C:\\Users\\drpar\\PycharmProjects\\civilpy\\civilpy\\structural\\res\\steel_shapes.csv\n",
      "C:\\Users\\drpar\\PycharmProjects\\civilpy\\civilpy\\structural\\res\n",
      "C:\\Users\\drpar\\PycharmProjects\\civilpy\\civilpy\\transportation\n",
      "C:\\Users\\drpar\\PycharmProjects\\civilpy\\civilpy\\water_resources\n",
      "C:\\Users\\drpar\\PycharmProjects\\civilpy\\civilpy\\webpages\n",
      "C:\\Users\\drpar\\PycharmProjects\\civilpy\\res\n",
      "\n",
      "\n",
      "Saving files in: C:\\Users\\drpar\\PycharmProjects\\civilpy\\res/photos\n",
      "Saving: C:\\Users\\drpar\\PycharmProjects\\civilpy\\res\\photos\\demo_photo_1.JPG\n",
      "Saving: C:\\Users\\drpar\\PycharmProjects\\civilpy\\res\\photos\\demo_photo_2.JPG\n",
      "Saving: C:\\Users\\drpar\\PycharmProjects\\civilpy\\res\\photos\\demo_photo_3.JPG\n",
      "Saving: C:\\Users\\drpar\\PycharmProjects\\civilpy\\res\\photos\\demo_photo_4.jpg\n",
      "Saving: C:\\Users\\drpar\\PycharmProjects\\civilpy\\res\\photos\\demo_photo_5.jpg\n",
      "Saving: C:\\Users\\drpar\\PycharmProjects\\civilpy\\res\\photos\\demo_photo_6.jpg\n",
      "C:\\Users\\drpar\\PycharmProjects\\civilpy\\res\\photos\n",
      "C:\\Users\\drpar\\PycharmProjects\\civilpy\\secrets\n",
      "C:\\Users\\drpar\\PycharmProjects\\civilpy\\tests\n",
      "C:\\Users\\drpar\\PycharmProjects\\civilpy\\Training\n"
     ]
    }
   ],
   "source": [
    "list_of_files = build_file_list_from_path()"
   ]
  },
  {
   "cell_type": "code",
   "execution_count": 4,
   "metadata": {},
   "outputs": [
    {
     "name": "stdout",
     "output_type": "stream",
     "text": [
      "'C:\\\\Users\\\\drpar\\\\PycharmProjects\\\\civilpy\\\\civilpy\\\\CLI.py'\n",
      "'C:\\\\Users\\\\drpar\\\\PycharmProjects\\\\civilpy\\\\civilpy\\\\construction'\n",
      "'C:\\\\Users\\\\drpar\\\\PycharmProjects\\\\civilpy\\\\civilpy\\\\environmental'\n",
      "'C:\\\\Users\\\\drpar\\\\PycharmProjects\\\\civilpy\\\\civilpy\\\\general'\n",
      "'C:\\\\Users\\\\drpar\\\\PycharmProjects\\\\civilpy\\\\civilpy\\\\geotechnical'\n",
      "'C:\\\\Users\\\\drpar\\\\PycharmProjects\\\\civilpy\\\\civilpy\\\\state'\n",
      "'C:\\\\Users\\\\drpar\\\\PycharmProjects\\\\civilpy\\\\civilpy\\\\structural'\n",
      "'C:\\\\Users\\\\drpar\\\\PycharmProjects\\\\civilpy\\\\civilpy\\\\transportation'\n",
      "'C:\\\\Users\\\\drpar\\\\PycharmProjects\\\\civilpy\\\\civilpy\\\\water_resources'\n",
      "'C:\\\\Users\\\\drpar\\\\PycharmProjects\\\\civilpy\\\\civilpy\\\\webpages'\n",
      "'C:\\\\Users\\\\drpar\\\\PycharmProjects\\\\civilpy\\\\civilpy\\\\__init__.py'\n",
      "'C:\\\\Users\\\\drpar\\\\PycharmProjects\\\\civilpy\\\\civilpy\\\\__pycache__'\n",
      "'C:\\\\Users\\\\drpar\\\\PycharmProjects\\\\civilpy\\\\res\\\\ODOT_sample_plans.pdf'\n",
      "'C:\\\\Users\\\\drpar\\\\PycharmProjects\\\\civilpy\\\\res\\\\ODOT_sample_plans_modified.pdf'\n",
      "'C:\\\\Users\\\\drpar\\\\PycharmProjects\\\\civilpy\\\\res\\\\ohio_fips.csv'\n",
      "'C:\\\\Users\\\\drpar\\\\PycharmProjects\\\\civilpy\\\\res\\\\Ohio_Fips.pdf'\n",
      "'C:\\\\Users\\\\drpar\\\\PycharmProjects\\\\civilpy\\\\res\\\\photos'\n",
      "'C:\\\\Users\\\\drpar\\\\PycharmProjects\\\\civilpy\\\\res\\\\Proposed 808.hy8'\n",
      "'C:\\\\Users\\\\drpar\\\\PycharmProjects\\\\civilpy\\\\secrets\\\\secrets.json'\n",
      "'C:\\\\Users\\\\drpar\\\\PycharmProjects\\\\civilpy\\\\tests\\\\.ipynb_checkpoints'\n",
      "'C:\\\\Users\\\\drpar\\\\PycharmProjects\\\\civilpy\\\\tests\\\\tests.ipynb'\n",
      "'C:\\\\Users\\\\drpar\\\\PycharmProjects\\\\civilpy\\\\tests\\\\test_ohio_dot_bridge.py'\n",
      "'C:\\\\Users\\\\drpar\\\\PycharmProjects\\\\civilpy\\\\tests\\\\test_ohio_dot_project.py'\n",
      "'C:\\\\Users\\\\drpar\\\\PycharmProjects\\\\civilpy\\\\tests\\\\test_steel.py'\n",
      "'C:\\\\Users\\\\drpar\\\\PycharmProjects\\\\civilpy\\\\tests\\\\__pycache__'\n",
      "'C:\\\\Users\\\\drpar\\\\PycharmProjects\\\\civilpy\\\\Training\\\\.ipynb_checkpoints'\n",
      "('C:\\\\Users\\\\drpar\\\\PycharmProjects\\\\civilpy\\\\Training\\\\NBI Standards - '\n",
      " 'Conversion (Clean).ipynb')\n",
      "('C:\\\\Users\\\\drpar\\\\PycharmProjects\\\\civilpy\\\\Training\\\\NBI Standards - '\n",
      " 'Conversion (Verbose).ipynb')\n",
      "('C:\\\\Users\\\\drpar\\\\PycharmProjects\\\\civilpy\\\\Training\\\\PDP and Design '\n",
      " 'Integrations.ipynb')\n",
      "'C:\\\\Users\\\\drpar\\\\PycharmProjects\\\\civilpy\\\\Training\\\\scratch.py'\n",
      "('C:\\\\Users\\\\drpar\\\\PycharmProjects\\\\civilpy\\\\Training\\\\Software Development '\n",
      " 'and Systems Integrations for Civil Engineers.ipynb')\n",
      "('C:\\\\Users\\\\drpar\\\\PycharmProjects\\\\civilpy\\\\Training\\\\Useful Tricks and '\n",
      " 'Tools.ipynb')\n",
      "'C:\\\\Users\\\\drpar\\\\PycharmProjects\\\\civilpy\\\\Training\\\\__pycache__'\n",
      "'C:\\\\Users\\\\drpar\\\\PycharmProjects\\\\civilpy\\\\civilpy\\\\construction\\\\__init__.py'\n",
      "'C:\\\\Users\\\\drpar\\\\PycharmProjects\\\\civilpy\\\\civilpy\\\\environmental\\\\__init__.py'\n",
      "'C:\\\\Users\\\\drpar\\\\PycharmProjects\\\\civilpy\\\\civilpy\\\\general\\\\database_tools.py'\n",
      "'C:\\\\Users\\\\drpar\\\\PycharmProjects\\\\civilpy\\\\civilpy\\\\general\\\\gis.py'\n",
      "'C:\\\\Users\\\\drpar\\\\PycharmProjects\\\\civilpy\\\\civilpy\\\\general\\\\kml_tools.py'\n",
      "'C:\\\\Users\\\\drpar\\\\PycharmProjects\\\\civilpy\\\\civilpy\\\\general\\\\math.py'\n",
      "'C:\\\\Users\\\\drpar\\\\PycharmProjects\\\\civilpy\\\\civilpy\\\\general\\\\pdf.py'\n",
      "'C:\\\\Users\\\\drpar\\\\PycharmProjects\\\\civilpy\\\\civilpy\\\\general\\\\physics.py'\n",
      "'C:\\\\Users\\\\drpar\\\\PycharmProjects\\\\civilpy\\\\civilpy\\\\general\\\\plan_development.py'\n",
      "'C:\\\\Users\\\\drpar\\\\PycharmProjects\\\\civilpy\\\\civilpy\\\\general\\\\tello_drone.py'\n",
      "'C:\\\\Users\\\\drpar\\\\PycharmProjects\\\\civilpy\\\\civilpy\\\\general\\\\__init__.py'\n",
      "'C:\\\\Users\\\\drpar\\\\PycharmProjects\\\\civilpy\\\\civilpy\\\\general\\\\__pycache__'\n",
      "'C:\\\\Users\\\\drpar\\\\PycharmProjects\\\\civilpy\\\\civilpy\\\\geotechnical\\\\__init__.py'\n",
      "'C:\\\\Users\\\\drpar\\\\PycharmProjects\\\\civilpy\\\\civilpy\\\\state\\\\ohio'\n",
      "'C:\\\\Users\\\\drpar\\\\PycharmProjects\\\\civilpy\\\\civilpy\\\\state\\\\__init__.py'\n",
      "'C:\\\\Users\\\\drpar\\\\PycharmProjects\\\\civilpy\\\\civilpy\\\\state\\\\__pycache__'\n",
      "'C:\\\\Users\\\\drpar\\\\PycharmProjects\\\\civilpy\\\\civilpy\\\\structural\\\\beam_bending.py'\n",
      "'C:\\\\Users\\\\drpar\\\\PycharmProjects\\\\civilpy\\\\civilpy\\\\structural\\\\res'\n",
      "'C:\\\\Users\\\\drpar\\\\PycharmProjects\\\\civilpy\\\\civilpy\\\\structural\\\\search_tools.py'\n",
      "'C:\\\\Users\\\\drpar\\\\PycharmProjects\\\\civilpy\\\\civilpy\\\\structural\\\\steel.py'\n",
      "'C:\\\\Users\\\\drpar\\\\PycharmProjects\\\\civilpy\\\\civilpy\\\\structural\\\\__init__.py'\n",
      "'C:\\\\Users\\\\drpar\\\\PycharmProjects\\\\civilpy\\\\civilpy\\\\structural\\\\__pycache__'\n",
      "'C:\\\\Users\\\\drpar\\\\PycharmProjects\\\\civilpy\\\\civilpy\\\\transportation\\\\__init__.py'\n",
      "'C:\\\\Users\\\\drpar\\\\PycharmProjects\\\\civilpy\\\\civilpy\\\\water_resources\\\\hydraulics.py'\n",
      "'C:\\\\Users\\\\drpar\\\\PycharmProjects\\\\civilpy\\\\civilpy\\\\water_resources\\\\__init__.py'\n",
      "'C:\\\\Users\\\\drpar\\\\PycharmProjects\\\\civilpy\\\\civilpy\\\\webpages\\\\index.html'\n",
      "'C:\\\\Users\\\\drpar\\\\PycharmProjects\\\\civilpy\\\\civilpy\\\\state\\\\ohio\\\\dot.py'\n",
      "'C:\\\\Users\\\\drpar\\\\PycharmProjects\\\\civilpy\\\\civilpy\\\\state\\\\ohio\\\\__init__.py'\n",
      "'C:\\\\Users\\\\drpar\\\\PycharmProjects\\\\civilpy\\\\civilpy\\\\state\\\\ohio\\\\__pycache__'\n",
      "'C:\\\\Users\\\\drpar\\\\PycharmProjects\\\\civilpy\\\\civilpy\\\\structural\\\\res\\\\steel_shapes.csv'\n",
      "'C:\\\\Users\\\\drpar\\\\PycharmProjects\\\\civilpy\\\\res\\\\photos\\\\demo_photo_1.JPG'\n",
      "'C:\\\\Users\\\\drpar\\\\PycharmProjects\\\\civilpy\\\\res\\\\photos\\\\demo_photo_2.JPG'\n",
      "'C:\\\\Users\\\\drpar\\\\PycharmProjects\\\\civilpy\\\\res\\\\photos\\\\demo_photo_3.JPG'\n",
      "'C:\\\\Users\\\\drpar\\\\PycharmProjects\\\\civilpy\\\\res\\\\photos\\\\demo_photo_4.jpg'\n",
      "'C:\\\\Users\\\\drpar\\\\PycharmProjects\\\\civilpy\\\\res\\\\photos\\\\demo_photo_5.jpg'\n",
      "'C:\\\\Users\\\\drpar\\\\PycharmProjects\\\\civilpy\\\\res\\\\photos\\\\demo_photo_6.jpg'\n"
     ]
    }
   ],
   "source": [
    "from pprint import pprint\n",
    "\n",
    "for file in list_of_files:\n",
    "    pprint(str(file))"
   ]
  },
  {
   "cell_type": "markdown",
   "metadata": {},
   "source": [
    "### Filter list of files for certain file types"
   ]
  },
  {
   "cell_type": "code",
   "execution_count": 5,
   "metadata": {},
   "outputs": [],
   "source": [
    "photos = [ fi for fi in list_of_files if re.search(\"(svg|heif|bmp|tiff|webp|jpeg|png|jpg)$\", str(fi), re.IGNORECASE)]"
   ]
  },
  {
   "cell_type": "code",
   "execution_count": 6,
   "metadata": {},
   "outputs": [
    {
     "data": {
      "text/plain": [
       "['C:\\\\Users\\\\drpar\\\\PycharmProjects\\\\civilpy\\\\res\\\\photos\\\\demo_photo_1.JPG',\n",
       " 'C:\\\\Users\\\\drpar\\\\PycharmProjects\\\\civilpy\\\\res\\\\photos\\\\demo_photo_2.JPG',\n",
       " 'C:\\\\Users\\\\drpar\\\\PycharmProjects\\\\civilpy\\\\res\\\\photos\\\\demo_photo_3.JPG',\n",
       " 'C:\\\\Users\\\\drpar\\\\PycharmProjects\\\\civilpy\\\\res\\\\photos\\\\demo_photo_4.jpg',\n",
       " 'C:\\\\Users\\\\drpar\\\\PycharmProjects\\\\civilpy\\\\res\\\\photos\\\\demo_photo_5.jpg',\n",
       " 'C:\\\\Users\\\\drpar\\\\PycharmProjects\\\\civilpy\\\\res\\\\photos\\\\demo_photo_6.jpg']"
      ]
     },
     "execution_count": 6,
     "metadata": {},
     "output_type": "execute_result"
    }
   ],
   "source": [
    "photos"
   ]
  },
  {
   "cell_type": "markdown",
   "metadata": {},
   "source": [
    "### Map Out Photos"
   ]
  },
  {
   "cell_type": "code",
   "execution_count": 7,
   "metadata": {},
   "outputs": [],
   "source": [
    "from PIL import Image\n",
    "from PIL.Image import Exif\n",
    "from PIL.ExifTags import TAGS, GPSTAGS\n",
    "\n",
    "def get_exif(file_name) -> Exif:\n",
    "    image: Image.Image = Image.open(file_name)\n",
    "    return image.getexif()\n",
    "\n",
    "\n",
    "def get_geo(exif):\n",
    "    for key, value in TAGS.items():\n",
    "        if value == \"GPSInfo\":\n",
    "            break\n",
    "    gps_info = exif.get_ifd(key)\n",
    "    return {\n",
    "        GPSTAGS.get(key, key): value\n",
    "        for key, value in gps_info.items()\n",
    "    }"
   ]
  },
  {
   "cell_type": "code",
   "execution_count": 8,
   "metadata": {},
   "outputs": [],
   "source": [
    "photo_dict = {}\n",
    "\n",
    "for photo in photos:\n",
    "    exif = get_exif(photo)\n",
    "    geo = get_geo(exif)\n",
    "    photo_dict[photo] = geo"
   ]
  },
  {
   "cell_type": "code",
   "execution_count": 9,
   "metadata": {},
   "outputs": [],
   "source": [
    "gps_info = photo_dict['C:\\\\Users\\\\drpar\\\\PycharmProjects\\\\civilpy\\\\res\\\\photos\\\\demo_photo_5.jpg']"
   ]
  },
  {
   "cell_type": "code",
   "execution_count": 10,
   "metadata": {},
   "outputs": [],
   "source": [
    "#Get Latitude and Longitude\n",
    "lat=gps_info['GPSLatitude']\n",
    "long=gps_info['GPSLongitude']\n",
    "#Convert to degrees\n",
    "lat=float(lat[0]+(lat[1]/60)+(lat[2]/(3600*100)))\n",
    "long=float(long[0]+(long[1]/60)+(long[2]/(3600*100)))\n",
    "#Negative if LatitudeRef:S or LongitudeRef:W\n",
    "if gps_info['GPSLatitudeRef']=='S':\n",
    "    lat=-lat\n",
    "if gps_info['GPSLongitudeRef']=='W':\n",
    "    long=-long"
   ]
  },
  {
   "cell_type": "code",
   "execution_count": 11,
   "metadata": {},
   "outputs": [
    {
     "ename": "PermissionError",
     "evalue": "[WinError 32] The process cannot access the file because it is being used by another process: 'C:\\\\Users\\\\drpar\\\\AppData\\\\Local\\\\Temp\\\\tmppykwa0r5'",
     "output_type": "error",
     "traceback": [
      "\u001b[1;31m---------------------------------------------------------------------------\u001b[0m",
      "\u001b[1;31mValueError\u001b[0m                                Traceback (most recent call last)",
      "File \u001b[1;32mC:\\Program Files\\WindowsApps\\PythonSoftwareFoundation.Python.3.10_3.10.2544.0_x64__qbz5n2kfra8p0\\lib\\importlib\\_common.py:92\u001b[0m, in \u001b[0;36m_tempfile\u001b[1;34m(reader, suffix, _os_remove)\u001b[0m\n\u001b[0;32m     91\u001b[0m \u001b[38;5;28;01mtry\u001b[39;00m:\n\u001b[1;32m---> 92\u001b[0m     os\u001b[38;5;241m.\u001b[39mwrite(fd, \u001b[43mreader\u001b[49m\u001b[43m(\u001b[49m\u001b[43m)\u001b[49m)\n\u001b[0;32m     93\u001b[0m     os\u001b[38;5;241m.\u001b[39mclose(fd)\n",
      "File \u001b[1;32mC:\\Program Files\\WindowsApps\\PythonSoftwareFoundation.Python.3.10_3.10.2544.0_x64__qbz5n2kfra8p0\\lib\\importlib\\abc.py:371\u001b[0m, in \u001b[0;36mTraversable.read_bytes\u001b[1;34m(self)\u001b[0m\n\u001b[0;32m    368\u001b[0m \u001b[38;5;250m\u001b[39m\u001b[38;5;124;03m\"\"\"\u001b[39;00m\n\u001b[0;32m    369\u001b[0m \u001b[38;5;124;03mRead contents of self as bytes\u001b[39;00m\n\u001b[0;32m    370\u001b[0m \u001b[38;5;124;03m\"\"\"\u001b[39;00m\n\u001b[1;32m--> 371\u001b[0m \u001b[38;5;28;01mwith\u001b[39;00m \u001b[38;5;28;43mself\u001b[39;49m\u001b[38;5;241;43m.\u001b[39;49m\u001b[43mopen\u001b[49m\u001b[43m(\u001b[49m\u001b[38;5;124;43m'\u001b[39;49m\u001b[38;5;124;43mrb\u001b[39;49m\u001b[38;5;124;43m'\u001b[39;49m\u001b[43m)\u001b[49m \u001b[38;5;28;01mas\u001b[39;00m strm:\n\u001b[0;32m    372\u001b[0m     \u001b[38;5;28;01mreturn\u001b[39;00m strm\u001b[38;5;241m.\u001b[39mread()\n",
      "File \u001b[1;32mC:\\Program Files\\WindowsApps\\PythonSoftwareFoundation.Python.3.10_3.10.2544.0_x64__qbz5n2kfra8p0\\lib\\importlib\\_adapters.py:54\u001b[0m, in \u001b[0;36mDegenerateFiles.Path.open\u001b[1;34m(self, mode, *args, **kwargs)\u001b[0m\n\u001b[0;32m     53\u001b[0m \u001b[38;5;28;01mdef\u001b[39;00m \u001b[38;5;21mopen\u001b[39m(\u001b[38;5;28mself\u001b[39m, mode\u001b[38;5;241m=\u001b[39m\u001b[38;5;124m'\u001b[39m\u001b[38;5;124mrb\u001b[39m\u001b[38;5;124m'\u001b[39m, \u001b[38;5;241m*\u001b[39margs, \u001b[38;5;241m*\u001b[39m\u001b[38;5;241m*\u001b[39mkwargs):\n\u001b[1;32m---> 54\u001b[0m     \u001b[38;5;28;01mraise\u001b[39;00m \u001b[38;5;167;01mValueError\u001b[39;00m()\n",
      "\u001b[1;31mValueError\u001b[0m: ",
      "\nDuring handling of the above exception, another exception occurred:\n",
      "\u001b[1;31mPermissionError\u001b[0m                           Traceback (most recent call last)",
      "Cell \u001b[1;32mIn[11], line 1\u001b[0m\n\u001b[1;32m----> 1\u001b[0m \u001b[38;5;28;01mimport\u001b[39;00m \u001b[38;5;21;01mfolium\u001b[39;00m\n\u001b[0;32m      2\u001b[0m \u001b[38;5;66;03m# Create map\u001b[39;00m\n\u001b[0;32m      3\u001b[0m m\u001b[38;5;241m=\u001b[39mfolium\u001b[38;5;241m.\u001b[39mMap(location\u001b[38;5;241m=\u001b[39m[lat,long],zoom_start\u001b[38;5;241m=\u001b[39m\u001b[38;5;241m5\u001b[39m) \n",
      "File \u001b[1;32m~\\anaconda3\\envs\\civilpy_3.10\\lib\\site-packages\\folium\\__init__.py:17\u001b[0m\n\u001b[0;32m      4\u001b[0m \u001b[38;5;28;01mfrom\u001b[39;00m \u001b[38;5;21;01mbranca\u001b[39;00m\u001b[38;5;21;01m.\u001b[39;00m\u001b[38;5;21;01mcolormap\u001b[39;00m \u001b[38;5;28;01mimport\u001b[39;00m ColorMap, LinearColormap, StepColormap\n\u001b[0;32m      5\u001b[0m \u001b[38;5;28;01mfrom\u001b[39;00m \u001b[38;5;21;01mbranca\u001b[39;00m\u001b[38;5;21;01m.\u001b[39;00m\u001b[38;5;21;01melement\u001b[39;00m \u001b[38;5;28;01mimport\u001b[39;00m (\n\u001b[0;32m      6\u001b[0m     CssLink,\n\u001b[0;32m      7\u001b[0m     Div,\n\u001b[1;32m   (...)\u001b[0m\n\u001b[0;32m     14\u001b[0m     MacroElement,\n\u001b[0;32m     15\u001b[0m )\n\u001b[1;32m---> 17\u001b[0m \u001b[38;5;28;01mfrom\u001b[39;00m \u001b[38;5;21;01mfolium\u001b[39;00m\u001b[38;5;21;01m.\u001b[39;00m\u001b[38;5;21;01mfeatures\u001b[39;00m \u001b[38;5;28;01mimport\u001b[39;00m (\n\u001b[0;32m     18\u001b[0m     Choropleth,\n\u001b[0;32m     19\u001b[0m     ClickForLatLng,\n\u001b[0;32m     20\u001b[0m     ClickForMarker,\n\u001b[0;32m     21\u001b[0m     ColorLine,\n\u001b[0;32m     22\u001b[0m     CustomIcon,\n\u001b[0;32m     23\u001b[0m     DivIcon,\n\u001b[0;32m     24\u001b[0m     GeoJson,\n\u001b[0;32m     25\u001b[0m     GeoJsonPopup,\n\u001b[0;32m     26\u001b[0m     GeoJsonTooltip,\n\u001b[0;32m     27\u001b[0m     LatLngPopup,\n\u001b[0;32m     28\u001b[0m     RegularPolygonMarker,\n\u001b[0;32m     29\u001b[0m     TopoJson,\n\u001b[0;32m     30\u001b[0m     Vega,\n\u001b[0;32m     31\u001b[0m     VegaLite,\n\u001b[0;32m     32\u001b[0m )\n\u001b[0;32m     33\u001b[0m \u001b[38;5;28;01mfrom\u001b[39;00m \u001b[38;5;21;01mfolium\u001b[39;00m\u001b[38;5;21;01m.\u001b[39;00m\u001b[38;5;21;01mfolium\u001b[39;00m \u001b[38;5;28;01mimport\u001b[39;00m Map\n\u001b[0;32m     34\u001b[0m \u001b[38;5;28;01mfrom\u001b[39;00m \u001b[38;5;21;01mfolium\u001b[39;00m\u001b[38;5;21;01m.\u001b[39;00m\u001b[38;5;21;01mmap\u001b[39;00m \u001b[38;5;28;01mimport\u001b[39;00m (\n\u001b[0;32m     35\u001b[0m     FeatureGroup,\n\u001b[0;32m     36\u001b[0m     FitBounds,\n\u001b[1;32m   (...)\u001b[0m\n\u001b[0;32m     41\u001b[0m     Tooltip,\n\u001b[0;32m     42\u001b[0m )\n",
      "File \u001b[1;32m~\\anaconda3\\envs\\civilpy_3.10\\lib\\site-packages\\folium\\features.py:12\u001b[0m\n\u001b[0;32m      9\u001b[0m \u001b[38;5;28;01mimport\u001b[39;00m \u001b[38;5;21;01mwarnings\u001b[39;00m\n\u001b[0;32m     11\u001b[0m \u001b[38;5;28;01mimport\u001b[39;00m \u001b[38;5;21;01mnumpy\u001b[39;00m \u001b[38;5;28;01mas\u001b[39;00m \u001b[38;5;21;01mnp\u001b[39;00m\n\u001b[1;32m---> 12\u001b[0m \u001b[38;5;28;01mimport\u001b[39;00m \u001b[38;5;21;01mrequests\u001b[39;00m\n\u001b[0;32m     13\u001b[0m \u001b[38;5;28;01mfrom\u001b[39;00m \u001b[38;5;21;01mbranca\u001b[39;00m\u001b[38;5;21;01m.\u001b[39;00m\u001b[38;5;21;01mcolormap\u001b[39;00m \u001b[38;5;28;01mimport\u001b[39;00m LinearColormap, StepColormap\n\u001b[0;32m     14\u001b[0m \u001b[38;5;28;01mfrom\u001b[39;00m \u001b[38;5;21;01mbranca\u001b[39;00m\u001b[38;5;21;01m.\u001b[39;00m\u001b[38;5;21;01melement\u001b[39;00m \u001b[38;5;28;01mimport\u001b[39;00m Element, Figure, JavascriptLink, MacroElement\n",
      "File \u001b[1;32m~\\anaconda3\\envs\\civilpy_3.10\\lib\\site-packages\\requests\\__init__.py:147\u001b[0m\n\u001b[0;32m    144\u001b[0m \u001b[38;5;28;01mimport\u001b[39;00m \u001b[38;5;21;01mlogging\u001b[39;00m\n\u001b[0;32m    145\u001b[0m \u001b[38;5;28;01mfrom\u001b[39;00m \u001b[38;5;21;01mlogging\u001b[39;00m \u001b[38;5;28;01mimport\u001b[39;00m NullHandler\n\u001b[1;32m--> 147\u001b[0m \u001b[38;5;28;01mfrom\u001b[39;00m \u001b[38;5;21;01m.\u001b[39;00m \u001b[38;5;28;01mimport\u001b[39;00m packages, utils\n\u001b[0;32m    148\u001b[0m \u001b[38;5;28;01mfrom\u001b[39;00m \u001b[38;5;21;01m.\u001b[39;00m\u001b[38;5;21;01m__version__\u001b[39;00m \u001b[38;5;28;01mimport\u001b[39;00m (\n\u001b[0;32m    149\u001b[0m     __author__,\n\u001b[0;32m    150\u001b[0m     __author_email__,\n\u001b[1;32m   (...)\u001b[0m\n\u001b[0;32m    158\u001b[0m     __version__,\n\u001b[0;32m    159\u001b[0m )\n\u001b[0;32m    160\u001b[0m \u001b[38;5;28;01mfrom\u001b[39;00m \u001b[38;5;21;01m.\u001b[39;00m\u001b[38;5;21;01mapi\u001b[39;00m \u001b[38;5;28;01mimport\u001b[39;00m delete, get, head, options, patch, post, put, request\n",
      "File \u001b[1;32m~\\anaconda3\\envs\\civilpy_3.10\\lib\\site-packages\\requests\\utils.py:24\u001b[0m\n\u001b[0;32m     20\u001b[0m \u001b[38;5;28;01mfrom\u001b[39;00m \u001b[38;5;21;01mcollections\u001b[39;00m \u001b[38;5;28;01mimport\u001b[39;00m OrderedDict\n\u001b[0;32m     22\u001b[0m \u001b[38;5;28;01mfrom\u001b[39;00m \u001b[38;5;21;01murllib3\u001b[39;00m\u001b[38;5;21;01m.\u001b[39;00m\u001b[38;5;21;01mutil\u001b[39;00m \u001b[38;5;28;01mimport\u001b[39;00m make_headers, parse_url\n\u001b[1;32m---> 24\u001b[0m \u001b[38;5;28;01mfrom\u001b[39;00m \u001b[38;5;21;01m.\u001b[39;00m \u001b[38;5;28;01mimport\u001b[39;00m certs\n\u001b[0;32m     25\u001b[0m \u001b[38;5;28;01mfrom\u001b[39;00m \u001b[38;5;21;01m.\u001b[39;00m\u001b[38;5;21;01m__version__\u001b[39;00m \u001b[38;5;28;01mimport\u001b[39;00m __version__\n\u001b[0;32m     27\u001b[0m \u001b[38;5;66;03m# to_native_string is unused here, but imported here for backwards compatibility\u001b[39;00m\n",
      "File \u001b[1;32m~\\anaconda3\\envs\\civilpy_3.10\\lib\\site-packages\\requests\\certs.py:14\u001b[0m\n\u001b[0;32m      1\u001b[0m \u001b[38;5;66;03m#!/usr/bin/env python\u001b[39;00m\n\u001b[0;32m      3\u001b[0m \u001b[38;5;124;03m\"\"\"\u001b[39;00m\n\u001b[0;32m      4\u001b[0m \u001b[38;5;124;03mrequests.certs\u001b[39;00m\n\u001b[0;32m      5\u001b[0m \u001b[38;5;124;03m~~~~~~~~~~~~~~\u001b[39;00m\n\u001b[1;32m   (...)\u001b[0m\n\u001b[0;32m     12\u001b[0m \u001b[38;5;124;03mpackaged CA bundle.\u001b[39;00m\n\u001b[0;32m     13\u001b[0m \u001b[38;5;124;03m\"\"\"\u001b[39;00m\n\u001b[1;32m---> 14\u001b[0m \u001b[38;5;28;01mfrom\u001b[39;00m \u001b[38;5;21;01mcertifi\u001b[39;00m \u001b[38;5;28;01mimport\u001b[39;00m where\n\u001b[0;32m     16\u001b[0m \u001b[38;5;28;01mif\u001b[39;00m \u001b[38;5;18m__name__\u001b[39m \u001b[38;5;241m==\u001b[39m \u001b[38;5;124m\"\u001b[39m\u001b[38;5;124m__main__\u001b[39m\u001b[38;5;124m\"\u001b[39m:\n\u001b[0;32m     17\u001b[0m     \u001b[38;5;28mprint\u001b[39m(where())\n",
      "File \u001b[1;32m<frozen importlib._bootstrap>:1027\u001b[0m, in \u001b[0;36m_find_and_load\u001b[1;34m(name, import_)\u001b[0m\n",
      "File \u001b[1;32m<frozen importlib._bootstrap>:1006\u001b[0m, in \u001b[0;36m_find_and_load_unlocked\u001b[1;34m(name, import_)\u001b[0m\n",
      "File \u001b[1;32m<frozen importlib._bootstrap>:688\u001b[0m, in \u001b[0;36m_load_unlocked\u001b[1;34m(spec)\u001b[0m\n",
      "File \u001b[1;32m~\\anaconda3\\envs\\civilpy_3.10\\lib\\site-packages\\wrapt\\importer.py:177\u001b[0m, in \u001b[0;36m_ImportHookChainedLoader._exec_module\u001b[1;34m(self, module)\u001b[0m\n\u001b[0;32m    175\u001b[0m \u001b[38;5;28;01mdef\u001b[39;00m \u001b[38;5;21m_exec_module\u001b[39m(\u001b[38;5;28mself\u001b[39m, module):\n\u001b[0;32m    176\u001b[0m     \u001b[38;5;28mself\u001b[39m\u001b[38;5;241m.\u001b[39mloader\u001b[38;5;241m.\u001b[39mexec_module(module)\n\u001b[1;32m--> 177\u001b[0m     \u001b[43mnotify_module_loaded\u001b[49m\u001b[43m(\u001b[49m\u001b[43mmodule\u001b[49m\u001b[43m)\u001b[49m\n",
      "File \u001b[1;32m~\\anaconda3\\envs\\civilpy_3.10\\lib\\site-packages\\wrapt\\decorators.py:470\u001b[0m, in \u001b[0;36msynchronized.<locals>._synchronized\u001b[1;34m(wrapped, instance, args, kwargs)\u001b[0m\n\u001b[0;32m    464\u001b[0m \u001b[38;5;129m@decorator\u001b[39m\n\u001b[0;32m    465\u001b[0m \u001b[38;5;28;01mdef\u001b[39;00m \u001b[38;5;21m_synchronized\u001b[39m(wrapped, instance, args, kwargs):\n\u001b[0;32m    466\u001b[0m     \u001b[38;5;66;03m# Execute the wrapped function while the original supplied\u001b[39;00m\n\u001b[0;32m    467\u001b[0m     \u001b[38;5;66;03m# lock is held.\u001b[39;00m\n\u001b[0;32m    469\u001b[0m     \u001b[38;5;28;01mwith\u001b[39;00m lock:\n\u001b[1;32m--> 470\u001b[0m         \u001b[38;5;28;01mreturn\u001b[39;00m wrapped(\u001b[38;5;241m*\u001b[39margs, \u001b[38;5;241m*\u001b[39m\u001b[38;5;241m*\u001b[39mkwargs)\n",
      "File \u001b[1;32m~\\anaconda3\\envs\\civilpy_3.10\\lib\\site-packages\\wrapt\\importer.py:136\u001b[0m, in \u001b[0;36mnotify_module_loaded\u001b[1;34m(module)\u001b[0m\n\u001b[0;32m    133\u001b[0m _post_import_hooks[name] \u001b[38;5;241m=\u001b[39m []\n\u001b[0;32m    135\u001b[0m \u001b[38;5;28;01mfor\u001b[39;00m hook \u001b[38;5;129;01min\u001b[39;00m hooks:\n\u001b[1;32m--> 136\u001b[0m     \u001b[43mhook\u001b[49m\u001b[43m(\u001b[49m\u001b[43mmodule\u001b[49m\u001b[43m)\u001b[49m\n",
      "File \u001b[1;32m~\\anaconda3\\envs\\civilpy_3.10\\lib\\site-packages\\certifi_win32\\wrapt_certifi.py:20\u001b[0m, in \u001b[0;36mapply_patches\u001b[1;34m(certifi)\u001b[0m\n\u001b[0;32m     18\u001b[0m certifi_where \u001b[38;5;241m=\u001b[39m certifi\u001b[38;5;241m.\u001b[39mwhere\n\u001b[0;32m     19\u001b[0m \u001b[38;5;28;01mimport\u001b[39;00m \u001b[38;5;21;01mcertifi_win32\u001b[39;00m\u001b[38;5;21;01m.\u001b[39;00m\u001b[38;5;21;01mwincerts\u001b[39;00m\n\u001b[1;32m---> 20\u001b[0m certifi_win32\u001b[38;5;241m.\u001b[39mwincerts\u001b[38;5;241m.\u001b[39mCERTIFI_PEM \u001b[38;5;241m=\u001b[39m \u001b[43mcertifi\u001b[49m\u001b[38;5;241;43m.\u001b[39;49m\u001b[43mwhere\u001b[49m\u001b[43m(\u001b[49m\u001b[43m)\u001b[49m\n\u001b[0;32m     22\u001b[0m \u001b[38;5;66;03m# Wrap the certify.where function\u001b[39;00m\n\u001b[0;32m     23\u001b[0m wrapt\u001b[38;5;241m.\u001b[39mwrap_function_wrapper(certifi, \u001b[38;5;124m'\u001b[39m\u001b[38;5;124mwhere\u001b[39m\u001b[38;5;124m'\u001b[39m, wrap_where)\n",
      "File \u001b[1;32m~\\anaconda3\\envs\\civilpy_3.10\\lib\\site-packages\\certifi\\core.py:72\u001b[0m, in \u001b[0;36mwhere\u001b[1;34m()\u001b[0m\n\u001b[0;32m     59\u001b[0m \u001b[38;5;28;01mif\u001b[39;00m _CACERT_PATH \u001b[38;5;129;01mis\u001b[39;00m \u001b[38;5;28;01mNone\u001b[39;00m:\n\u001b[0;32m     60\u001b[0m     \u001b[38;5;66;03m# This is slightly janky, the importlib.resources API wants you\u001b[39;00m\n\u001b[0;32m     61\u001b[0m     \u001b[38;5;66;03m# to manage the cleanup of this file, so it doesn't actually\u001b[39;00m\n\u001b[1;32m   (...)\u001b[0m\n\u001b[0;32m     69\u001b[0m     \u001b[38;5;66;03m# it will do the cleanup whenever it gets garbage collected, so\u001b[39;00m\n\u001b[0;32m     70\u001b[0m     \u001b[38;5;66;03m# we will also store that at the global level as well.\u001b[39;00m\n\u001b[0;32m     71\u001b[0m     _CACERT_CTX \u001b[38;5;241m=\u001b[39m get_path(\u001b[38;5;124m\"\u001b[39m\u001b[38;5;124mcertifi\u001b[39m\u001b[38;5;124m\"\u001b[39m, \u001b[38;5;124m\"\u001b[39m\u001b[38;5;124mcacert.pem\u001b[39m\u001b[38;5;124m\"\u001b[39m)\n\u001b[1;32m---> 72\u001b[0m     _CACERT_PATH \u001b[38;5;241m=\u001b[39m \u001b[38;5;28mstr\u001b[39m(\u001b[43m_CACERT_CTX\u001b[49m\u001b[38;5;241;43m.\u001b[39;49m\u001b[38;5;21;43m__enter__\u001b[39;49m\u001b[43m(\u001b[49m\u001b[43m)\u001b[49m)\n\u001b[0;32m     74\u001b[0m \u001b[38;5;28;01mreturn\u001b[39;00m _CACERT_PATH\n",
      "File \u001b[1;32mC:\\Program Files\\WindowsApps\\PythonSoftwareFoundation.Python.3.10_3.10.2544.0_x64__qbz5n2kfra8p0\\lib\\contextlib.py:135\u001b[0m, in \u001b[0;36m_GeneratorContextManager.__enter__\u001b[1;34m(self)\u001b[0m\n\u001b[0;32m    133\u001b[0m \u001b[38;5;28;01mdel\u001b[39;00m \u001b[38;5;28mself\u001b[39m\u001b[38;5;241m.\u001b[39margs, \u001b[38;5;28mself\u001b[39m\u001b[38;5;241m.\u001b[39mkwds, \u001b[38;5;28mself\u001b[39m\u001b[38;5;241m.\u001b[39mfunc\n\u001b[0;32m    134\u001b[0m \u001b[38;5;28;01mtry\u001b[39;00m:\n\u001b[1;32m--> 135\u001b[0m     \u001b[38;5;28;01mreturn\u001b[39;00m \u001b[38;5;28;43mnext\u001b[39;49m\u001b[43m(\u001b[49m\u001b[38;5;28;43mself\u001b[39;49m\u001b[38;5;241;43m.\u001b[39;49m\u001b[43mgen\u001b[49m\u001b[43m)\u001b[49m\n\u001b[0;32m    136\u001b[0m \u001b[38;5;28;01mexcept\u001b[39;00m \u001b[38;5;167;01mStopIteration\u001b[39;00m:\n\u001b[0;32m    137\u001b[0m     \u001b[38;5;28;01mraise\u001b[39;00m \u001b[38;5;167;01mRuntimeError\u001b[39;00m(\u001b[38;5;124m\"\u001b[39m\u001b[38;5;124mgenerator didn\u001b[39m\u001b[38;5;124m'\u001b[39m\u001b[38;5;124mt yield\u001b[39m\u001b[38;5;124m\"\u001b[39m) \u001b[38;5;28;01mfrom\u001b[39;00m \u001b[38;5;28mNone\u001b[39m\n",
      "File \u001b[1;32mC:\\Program Files\\WindowsApps\\PythonSoftwareFoundation.Python.3.10_3.10.2544.0_x64__qbz5n2kfra8p0\\lib\\importlib\\_common.py:98\u001b[0m, in \u001b[0;36m_tempfile\u001b[1;34m(reader, suffix, _os_remove)\u001b[0m\n\u001b[0;32m     96\u001b[0m \u001b[38;5;28;01mfinally\u001b[39;00m:\n\u001b[0;32m     97\u001b[0m     \u001b[38;5;28;01mtry\u001b[39;00m:\n\u001b[1;32m---> 98\u001b[0m         \u001b[43m_os_remove\u001b[49m\u001b[43m(\u001b[49m\u001b[43mraw_path\u001b[49m\u001b[43m)\u001b[49m\n\u001b[0;32m     99\u001b[0m     \u001b[38;5;28;01mexcept\u001b[39;00m \u001b[38;5;167;01mFileNotFoundError\u001b[39;00m:\n\u001b[0;32m    100\u001b[0m         \u001b[38;5;28;01mpass\u001b[39;00m\n",
      "\u001b[1;31mPermissionError\u001b[0m: [WinError 32] The process cannot access the file because it is being used by another process: 'C:\\\\Users\\\\drpar\\\\AppData\\\\Local\\\\Temp\\\\tmppykwa0r5'"
     ]
    }
   ],
   "source": [
    "import folium\n",
    "# Create map\n",
    "m=folium.Map(location=[lat,long],zoom_start=5) \n",
    "# Add Circle Marker\n",
    "folium.CircleMarker(location=[lat,long],fill=True, color='red',fill_color='red').add_to(m)\n",
    "# View Map\n",
    "m"
   ]
  },
  {
   "cell_type": "markdown",
   "metadata": {},
   "source": [
    "### Display the image"
   ]
  },
  {
   "cell_type": "code",
   "execution_count": null,
   "metadata": {},
   "outputs": [],
   "source": [
    "img = Image.open(photos[4])\n",
    "img"
   ]
  },
  {
   "cell_type": "markdown",
   "metadata": {},
   "source": [
    "## import civilpy functions"
   ]
  },
  {
   "cell_type": "code",
   "execution_count": null,
   "metadata": {},
   "outputs": [],
   "source": [
    "from civilpy.state.ohio.dot import Project"
   ]
  },
  {
   "cell_type": "code",
   "execution_count": null,
   "metadata": {
    "scrolled": false
   },
   "outputs": [],
   "source": [
    "from arcgis.gis import GIS\n",
    "my_gis = GIS()\n",
    "m = my_gis.map()\n",
    "m"
   ]
  },
  {
   "cell_type": "code",
   "execution_count": null,
   "metadata": {},
   "outputs": [],
   "source": []
  },
  {
   "cell_type": "code",
   "execution_count": null,
   "metadata": {},
   "outputs": [],
   "source": [
    "full_data_url = \"https://gis.dot.state.oh.us/arcgis/rest/services/TIMS/Projects/MapServer/0/33846832?f=pjsonpage.content\"\n",
    "\n",
    "page = requests.get(full_data_url)\n",
    "data_json = json.loads(page.content)"
   ]
  },
  {
   "cell_type": "code",
   "execution_count": null,
   "metadata": {},
   "outputs": [],
   "source": [
    "def get_project_data_from_tims(pid='112664'):\n",
    "    url = f\"https://gis.dot.state.oh.us/arcgis/rest/services/TIMS/Projects/MapServer/0/query?where=PID_NBR%3D{pid}&text=&objectIds=&time=&geometry=&geometryType=esriGeometryEnvelope&inSR=&spatialRel=esriSpatialRelIntersects&relationParam=&outFields=&returnGeometry=true&returnTrueCurves=false&maxAllowableOffset=&geometryPrecision=&outSR=&having=&returnIdsOnly=true&returnCountOnly=false&orderByFields=&groupByFieldsForStatistics=&outStatistics=&returnZ=false&returnM=false&gdbVersion=&historicMoment=&returnDistinctValues=false&resultOffset=&resultRecordCount=&queryByDistance=&returnExtentOnly=false&datumTransformation=&parameterValues=&rangeValues=&quantizationParameters=&featureEncoding=esriDefault&f=html\"\n",
    "\n",
    "    page = requests.get(url)\n",
    "    url_base = 'https://gis.dot.state.oh.us'\n",
    "    soup = BeautifulSoup(page.content, 'html5lib')\n",
    "\n",
    "    all_page_links = soup.find_all('a')\n",
    "    project_point_links = {}\n",
    "    counter = 0\n",
    "\n",
    "    for link in all_page_links:\n",
    "        print(link.text)\n",
    "        if link.text.isnumeric():\n",
    "            counter += 1\n",
    "            full_data_url = url_base + link.get('href') + '?f=pjson'\n",
    "            print(f\"Retrieving data from url at {full_data_url}\\n\")\n",
    "\n",
    "            page = requests.get(full_data_url)\n",
    "            data_json = json.loads(page.content)\n",
    "            temp = data_json\n",
    "            \n",
    "            try:\n",
    "                extracted_data = data_json['feature']['attributes']\n",
    "            except:\n",
    "                return data_json\n",
    "\n",
    "            project_point_links[link.text] = extracted_data\n",
    "\n",
    "        else:\n",
    "            data_json = ''\n",
    "\n",
    "    project_point_links['no_of_pts'] = counter\n",
    "\n",
    "    return project_point_links"
   ]
  },
  {
   "cell_type": "code",
   "execution_count": null,
   "metadata": {},
   "outputs": [],
   "source": [
    "test = get_project_data_from_tims('112664')\n",
    "test"
   ]
  },
  {
   "cell_type": "code",
   "execution_count": null,
   "metadata": {},
   "outputs": [],
   "source": [
    "single_dict = test[list(test.keys())[0]]"
   ]
  },
  {
   "cell_type": "code",
   "execution_count": null,
   "metadata": {},
   "outputs": [],
   "source": [
    "single_dict"
   ]
  },
  {
   "cell_type": "code",
   "execution_count": null,
   "metadata": {},
   "outputs": [],
   "source": []
  }
 ],
 "metadata": {
  "kernelspec": {
   "display_name": "Python 3 (ipykernel)",
   "language": "python",
   "name": "python3"
  },
  "language_info": {
   "codemirror_mode": {
    "name": "ipython",
    "version": 3
   },
   "file_extension": ".py",
   "mimetype": "text/x-python",
   "name": "python",
   "nbconvert_exporter": "python",
   "pygments_lexer": "ipython3",
   "version": "3.10.9"
  }
 },
 "nbformat": 4,
 "nbformat_minor": 1
}
