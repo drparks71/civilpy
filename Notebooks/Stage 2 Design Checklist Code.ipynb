{
 "cells": [
  {
   "cell_type": "markdown",
   "id": "9f9719ee-b4cd-4af8-bcb3-32b1db4fd182",
   "metadata": {},
   "source": [
    "# Stage 2 Design Checklist - With Code\n",
    "\n",
    "This is the full version of the ODOT OSE Stage 2 Design checklist. The  \n",
    "purpose of this document is to provide documentation on how the main stage  \n",
    "2 design checklist file is working. Updates should ideally be made to both  \n",
    "files simultaneously and this file should be kept up to date with the  \n",
    "production version.\n",
    "\n",
    "The code will (for now) be housed within the [civilpy](https://github.com/drparks71/civilpy/blob/master/Notebooks/Stage%202%20Design%20Checklist.ipynb) library. This  \n",
    "minimizes the amount of code that must be interacted with by the end user."
   ]
  },
  {
   "cell_type": "markdown",
   "id": "fbd86702-bc30-4bba-a7aa-8bc356251164",
   "metadata": {},
   "source": [
    "## User Input Forms\n",
    "Basic Outline of the how the various input options are generated,"
   ]
  },
  {
   "cell_type": "code",
   "execution_count": 1,
   "id": "1ae791c8-6eae-47cf-b86c-ad654e005216",
   "metadata": {},
   "outputs": [
    {
     "data": {
      "application/vnd.jupyter.widget-view+json": {
       "model_id": "76a2b914a07a4859a0ffd65d3c4cb630",
       "version_major": 2,
       "version_minor": 0
      },
      "text/plain": [
       "Checkbox(value=False, description='Check me!')"
      ]
     },
     "metadata": {},
     "output_type": "display_data"
    }
   ],
   "source": [
    "import ipywidgets as widgets\n",
    "from IPython.display import display\n",
    "\n",
    "# Create a checkbox widget\n",
    "checkbox = widgets.Checkbox(\n",
    "    value=False,                      # Initial value (unchecked)\n",
    "    description='Check me!',          # Label next to the checkbox\n",
    "    disabled=False                    # If True, checkbox is disabled\n",
    ")\n",
    "\n",
    "# Display the widget in the notebook\n",
    "display(checkbox)"
   ]
  },
  {
   "cell_type": "code",
   "execution_count": 2,
   "id": "0b2fb0c7-e183-4d2a-91a8-e7397dbacc0c",
   "metadata": {},
   "outputs": [
    {
     "data": {
      "application/vnd.jupyter.widget-view+json": {
       "model_id": "9188361a5cd846eb82da15211fe28f56",
       "version_major": 2,
       "version_minor": 0
      },
      "text/plain": [
       "Dropdown(description='Choose:', options=('Option 1', 'Option 2', 'Option 3'), value='Option 1')"
      ]
     },
     "metadata": {},
     "output_type": "display_data"
    }
   ],
   "source": [
    "# Create a dropdown widget\n",
    "dropdown = widgets.Dropdown(\n",
    "    options=['Option 1', 'Option 2', 'Option 3'],  # List of options\n",
    "    value='Option 1',                              # Default selected value\n",
    "    description='Choose:',                         # Label for the dropdown\n",
    "    disabled=False                                 # Enable/Disable dropdown\n",
    ")\n",
    "\n",
    "# Display the dropdown widget\n",
    "display(dropdown)"
   ]
  },
  {
   "cell_type": "code",
   "execution_count": 3,
   "id": "eb6fb0da-f930-4226-b9ee-20ec783b3732",
   "metadata": {},
   "outputs": [
    {
     "data": {
      "application/vnd.jupyter.widget-view+json": {
       "model_id": "9d4f77f657cb4c6da31d5a13f69984c7",
       "version_major": 2,
       "version_minor": 0
      },
      "text/plain": [
       "DatePicker(value=None, description='Pick a Date:', step=1)"
      ]
     },
     "metadata": {},
     "output_type": "display_data"
    }
   ],
   "source": [
    "# Create a DatePicker widget\n",
    "date_picker = widgets.DatePicker(\n",
    "    description='Pick a Date:',  # Label for the widget\n",
    "    disabled=False               # Enable the widget\n",
    ")\n",
    "\n",
    "# Display the date picker\n",
    "display(date_picker)\n"
   ]
  },
  {
   "cell_type": "code",
   "execution_count": 4,
   "id": "017182be-e1a0-4e7f-987b-8071fc793c16",
   "metadata": {},
   "outputs": [
    {
     "data": {
      "application/vnd.jupyter.widget-view+json": {
       "model_id": "e5f3d6426ec2410ab8a933e63e235d5b",
       "version_major": 2,
       "version_minor": 0
      },
      "text/plain": [
       "Text(value='', description='Name:', placeholder='Enter your name', tooltip='Provide your full name here')"
      ]
     },
     "metadata": {},
     "output_type": "display_data"
    }
   ],
   "source": [
    "# Create a text input widget\n",
    "text_input = widgets.Text(\n",
    "    description='Name:',         # Label for the input box\n",
    "    placeholder='Enter your name',  # Placeholder text\n",
    "    tooltip='Provide your full name here'  # Acts like a \"hover\" help text\n",
    ")\n",
    "\n",
    "# Display the widget\n",
    "display(text_input)"
   ]
  },
  {
   "cell_type": "markdown",
   "id": "0333f406-1982-4a40-86b8-a7abbaa4af08",
   "metadata": {},
   "source": [
    "# Getting Project Information From User\n",
    "\n",
    "Stored as \"gen_info\" in consolidated Data Model"
   ]
  },
  {
   "cell_type": "code",
   "execution_count": 5,
   "id": "8aa0f2f2-cf05-455f-80ea-7dc7e57cfbe3",
   "metadata": {},
   "outputs": [
    {
     "data": {
      "application/vnd.jupyter.widget-view+json": {
       "model_id": "767116cdf2bd4ec0a529d899690de495",
       "version_major": 2,
       "version_minor": 0
      },
      "text/plain": [
       "Text(value='', description='CTY-RTE-SEC: ', placeholder='Bridge CTY-RTE-SEC')"
      ]
     },
     "metadata": {},
     "output_type": "display_data"
    }
   ],
   "source": [
    "cty_rte_sec = widgets.Text(\n",
    "    description='CTY-RTE-SEC: ',\n",
    "    placeholder='Bridge CTY-RTE-SEC'\n",
    ")\n",
    "\n",
    "display(cty_rte_sec)"
   ]
  },
  {
   "cell_type": "code",
   "execution_count": 6,
   "id": "57f03c7b-2e72-434e-8675-7d56b571e323",
   "metadata": {},
   "outputs": [
    {
     "data": {
      "application/vnd.jupyter.widget-view+json": {
       "model_id": "a0ff48e3759a46fc90653b525b0393e9",
       "version_major": 2,
       "version_minor": 0
      },
      "text/plain": [
       "Text(value='', description='Checked By: ', placeholder=\"Employee's Initials\")"
      ]
     },
     "metadata": {},
     "output_type": "display_data"
    }
   ],
   "source": [
    "checker = widgets.Text(\n",
    "    description='Checked By: ',\n",
    "    placeholder=\"Employee's Initials\"\n",
    ")\n",
    "\n",
    "display(checker)"
   ]
  },
  {
   "cell_type": "code",
   "execution_count": 7,
   "id": "819cc859-d955-425c-9c65-11885db4bb54",
   "metadata": {},
   "outputs": [
    {
     "data": {
      "application/vnd.jupyter.widget-view+json": {
       "model_id": "14be3b78c0a2487385b7a480c4b94947",
       "version_major": 2,
       "version_minor": 0
      },
      "text/plain": [
       "Text(value='', description='SFN: ', placeholder=\"Enter 'multiple' if more than one\")"
      ]
     },
     "metadata": {},
     "output_type": "display_data"
    }
   ],
   "source": [
    "sfn = widgets.Text(\n",
    "    description='SFN: ',\n",
    "    placeholder=\"Enter 'multiple' if more than one\"\n",
    ")\n",
    "\n",
    "display(sfn)"
   ]
  },
  {
   "cell_type": "code",
   "execution_count": 8,
   "id": "214ac687-b7d1-4157-9a4f-cdb3da3e5ab7",
   "metadata": {},
   "outputs": [
    {
     "data": {
      "application/vnd.jupyter.widget-view+json": {
       "model_id": "d91ac428e0c34ad3be1c0166161ac5b4",
       "version_major": 2,
       "version_minor": 0
      },
      "text/plain": [
       "Text(value='', description='PID: ', placeholder='Project PID')"
      ]
     },
     "metadata": {},
     "output_type": "display_data"
    }
   ],
   "source": [
    "pid = widgets.Text(\n",
    "    description='PID: ',\n",
    "    placeholder=\"Project PID\"\n",
    ")\n",
    "\n",
    "display(pid)"
   ]
  },
  {
   "cell_type": "code",
   "execution_count": 9,
   "id": "556dd107-a274-4465-9d60-123c5eae9477",
   "metadata": {},
   "outputs": [],
   "source": [
    "import ipywidgets as widgets\n",
    "from IPython.display import display\n",
    "from datetime import date\n",
    "\n",
    "stage_2_check = {}"
   ]
  },
  {
   "cell_type": "code",
   "execution_count": 10,
   "id": "eb26acf4-a230-4134-966f-036f5899727a",
   "metadata": {},
   "outputs": [],
   "source": [
    "import ipywidgets as widgets\n",
    "from IPython.display import display\n",
    "from datetime import date\n",
    "\n",
    "stage_2_check = {}  # Initialize the stage_2_check dictionary\n",
    "\n",
    "# Function to create input fields and a button\n",
    "def gen_info_input():\n",
    "    cty_rte_sec_input = widgets.Text(\n",
    "        description='CTY-RTE-SEC: ',\n",
    "        placeholder='Bridge CTY-RTE-SEC'\n",
    "    )\n",
    "    checker_input = widgets.Text(\n",
    "        description='Checked By: ',\n",
    "        placeholder=\"Employee's Initials\"\n",
    "    )\n",
    "    sfn_input = widgets.Text(\n",
    "        description='SFN: ',\n",
    "        placeholder=\"Enter 'multiple' if more than one\"\n",
    "    )\n",
    "    date_input = widgets.DatePicker(\n",
    "        description='Date:',\n",
    "        disabled=False,\n",
    "        value=date.today()  # Initialize with today's date\n",
    "    )\n",
    "    pid_input = widgets.Text(\n",
    "        description='PID: ',\n",
    "        placeholder=\"Project PID\"\n",
    "    )\n",
    "    submit_button = widgets.Button(\n",
    "        description='Update Values',\n",
    "        button_style='success',\n",
    "        tooltip='Click to submit inputs',\n",
    "        icon='check'\n",
    "    )\n",
    "\n",
    "    # Display all widgets\n",
    "    display(\n",
    "        cty_rte_sec_input, \n",
    "        checker_input, \n",
    "        date_input,\n",
    "        sfn_input, \n",
    "        pid_input, \n",
    "        submit_button)\n",
    "\n",
    "    # Return all input widgets and the button\n",
    "    return cty_rte_sec_input, checker_input, date_input, sfn_input, pid_input, submit_button\n",
    "\n",
    "\n",
    "# Function to collect data from widgets\n",
    "def get_gen_info(cty_rte_sec, checker, check_date, sfn, pid):\n",
    "    return {\n",
    "        'cty_rte_sec': cty_rte_sec.value,\n",
    "        'checker': checker.value,\n",
    "        'date': check_date.value.strftime('%B %d, %Y') if check_date.value else \"No date selected\",\n",
    "        'sfn': sfn.value,\n",
    "        'pid': pid.value\n",
    "    }\n",
    "\n",
    "\n",
    "# Define the button click handler function\n",
    "def on_submit_button_clicked(b):\n",
    "    global stage_2_check\n",
    "    # Update gen_info with the latest input values\n",
    "    stage_2_check['gen_info'] = get_gen_info(cty_rte_sec, checker, check_date, sfn, pid)\n",
    "    print(\"Updated gen_info:\")\n",
    "    print(stage_2_check)"
   ]
  },
  {
   "cell_type": "code",
   "execution_count": 11,
   "id": "f833d68d-5db8-42d0-a814-a7fd884a941d",
   "metadata": {},
   "outputs": [
    {
     "data": {
      "application/vnd.jupyter.widget-view+json": {
       "model_id": "d87e89c296ab4c9e8497445d2b898a1a",
       "version_major": 2,
       "version_minor": 0
      },
      "text/plain": [
       "Text(value='', description='CTY-RTE-SEC: ', placeholder='Bridge CTY-RTE-SEC')"
      ]
     },
     "metadata": {},
     "output_type": "display_data"
    },
    {
     "data": {
      "application/vnd.jupyter.widget-view+json": {
       "model_id": "a8c358c88ab44b5ab2b85e27cc4a52d6",
       "version_major": 2,
       "version_minor": 0
      },
      "text/plain": [
       "Text(value='', description='Checked By: ', placeholder=\"Employee's Initials\")"
      ]
     },
     "metadata": {},
     "output_type": "display_data"
    },
    {
     "data": {
      "application/vnd.jupyter.widget-view+json": {
       "model_id": "32f0b7499b4640a0b6fc5ed8e0316433",
       "version_major": 2,
       "version_minor": 0
      },
      "text/plain": [
       "DatePicker(value=datetime.date(2025, 5, 27), description='Date:', step=1)"
      ]
     },
     "metadata": {},
     "output_type": "display_data"
    },
    {
     "data": {
      "application/vnd.jupyter.widget-view+json": {
       "model_id": "ef4f7d9bf7114372870d885b24ab2c23",
       "version_major": 2,
       "version_minor": 0
      },
      "text/plain": [
       "Text(value='', description='SFN: ', placeholder=\"Enter 'multiple' if more than one\")"
      ]
     },
     "metadata": {},
     "output_type": "display_data"
    },
    {
     "data": {
      "application/vnd.jupyter.widget-view+json": {
       "model_id": "2b058ad09a6640b3acb9a7b17f8409b0",
       "version_major": 2,
       "version_minor": 0
      },
      "text/plain": [
       "Text(value='', description='PID: ', placeholder='Project PID')"
      ]
     },
     "metadata": {},
     "output_type": "display_data"
    },
    {
     "data": {
      "application/vnd.jupyter.widget-view+json": {
       "model_id": "dfba5605acd34bd59e034200e6d18aef",
       "version_major": 2,
       "version_minor": 0
      },
      "text/plain": [
       "Button(button_style='success', description='Update Values', icon='check', style=ButtonStyle(), tooltip='Click …"
      ]
     },
     "metadata": {},
     "output_type": "display_data"
    }
   ],
   "source": [
    "# Generate widgets and button\n",
    "cty_rte_sec, checker, check_date, sfn, pid, submit_button = gen_info_input()\n",
    "\n",
    "# Attach the button click event\n",
    "submit_button.on_click(on_submit_button_clicked)"
   ]
  },
  {
   "cell_type": "code",
   "execution_count": 12,
   "id": "7f70ab85-b5e7-49f7-892c-821e12956896",
   "metadata": {},
   "outputs": [
    {
     "data": {
      "text/plain": [
       "{}"
      ]
     },
     "execution_count": 12,
     "metadata": {},
     "output_type": "execute_result"
    }
   ],
   "source": [
    "stage_2_check"
   ]
  },
  {
   "cell_type": "markdown",
   "id": "7a18e0f7-7bf6-4435-9b60-26c87f80a3d8",
   "metadata": {},
   "source": [
    "# General"
   ]
  },
  {
   "cell_type": "code",
   "execution_count": 13,
   "id": "85b545b5-cdd0-4886-b250-1b33cd1e4ceb",
   "metadata": {},
   "outputs": [],
   "source": [
    "# Define the checklist items as a list of dictionaries with \"label\" and optionally \"section\"\n",
    "general_criteria = [\n",
    "    {\"label\": \"All Stage I comments resolved and detailed design is as per approved Stage I.\"},\n",
    "    {\"label\": \"All correspondence has been reviewed?\"},\n",
    "    {\"label\": \"All bridge plan sheet are in order.\", \"section\": \"103\"},\n",
    "    {\"label\": \"Title block okay on all sheets? (As shown on Figure 102-4 in the Bridge Design Manual [BDM]) Designed, checked and reviewed blocks complete on all sheets?\"},\n",
    "    {\"label\": \"Project number and bridge number correct?\", \"section\": \"102.4\"},\n",
    "    {\"label\": \"All lettering No. 5 or larger? Caps 5/32 inches in height) Sheets in an appropriate order? As per\", \"section\": \"102.2\"},\n",
    "    {\"label\": \"Supplemental Site Plan, if prepared during Stage 1 has not been included in plans?\"},\n",
    "    {\"label\": \"Site Plan been checked with the final approved Sage 1 Site Plan? Deck transverse sections matches that approved in Stage I?\"},\n",
    "    {\"label\": \"Call-outs are consistent on all sheets? (Span designation number, pier numbers, etc.)\"},\n",
    "    {\"label\": \"North arrow shown on all plan views, all sheets.\", \"section\": \"102\"},\n",
    "    {\"label\": \"Each drilled shaft in the structure has been assigned a unique number?\", \"section\": \"305.4.4\"},\n",
    "    {\"label\": \"Each pile in the structure has been assigned a unique number?\"},\n",
    "    {\"label\": \"Pier(s) and forward abutment elevations and the superstructure transverse section shown looking forward? Rear abutment elevation looking to the rear?\", \"section\": \"102\"},\n",
    "    {\"label\": \"Appropriate centerline/reference line used and referenced exclusively (consistent nomenclature) throughout the details.\"},\n",
    "    {\"label\": \"If an auxiliary reference line is established, is stationing given along this line only, near the bridge? Is a geometric diagram provided, if necessary?\"},\n",
    "    {\"label\": \"For bridge with variable super-elevation, has a super-elevation transition diagram been provided?\", \"section\": \"309.3.6.1 & 309.3.6.1a\"},\n",
    "    {\"label\": \"Break over (1/2 inch per foot slope) provided on high side of superelevated decks for shoulder widths >4 feet? Rounding beginning at edge of roadway used when change in cross slope at break over exceeds 3 percent 4-foot rounding for shoulders < 8 feet and 5 foot rounding for shoulders > 8 feet)?\", \"section\": \"309.3.6.1 Figure 309-9 & 309-10\"},\n",
    "    {\"label\": \"Approach slabs have been detailed as per Designer Supplement: AS-2-15-Approach Slab Installation?\"},\n",
    "    {\"label\": \"Items that should be included with roadway quantities (e.g., Rock Channel Protection, Portable Concrete Barrier and Temporary Guardrail) have been designated as such?\"},\n",
    "    {\"label\": \"Portions of existing structure that are to be removed have been properly indicated?\"},\n",
    "    {\"label\": \"± Symbol used for existing structure dimensions? Dashed lines used to denote existing structures?\", \"section\": \"207.4\"},\n",
    "    {\"label\": \"Detail plans for temporary sheeting/shoring included if required by the\", \"section\": \"310.1\"},\n",
    "    {\"label\": \"Detail plans for a temporary runaround bridge included if required by the Scope?\", \"section\": \"503\"},\n",
    "    {\"label\": \"Concrete surfaces sealed per\", \"section\": \"306.1.2, 309.2.1 and 403.3\"},\n",
    "    {\"label\": \"Epoxy only sealer not used.\", \"section\": \"309.2.1-G\"}\n",
    "]"
   ]
  },
  {
   "cell_type": "code",
   "execution_count": 14,
   "id": "9764b596-16ec-42c5-81b5-97fa8c589e8c",
   "metadata": {},
   "outputs": [
    {
     "data": {
      "application/vnd.jupyter.widget-view+json": {
       "model_id": "114f2a5e1ce6426fb0038c05f5f2bd66",
       "version_major": 2,
       "version_minor": 0
      },
      "text/plain": [
       "HTML(value='<b><u>General Criteria</u></b>')"
      ]
     },
     "metadata": {},
     "output_type": "display_data"
    },
    {
     "data": {
      "application/vnd.jupyter.widget-view+json": {
       "model_id": "fd7d3df9bb8d4317be40d1264faf0d6f",
       "version_major": 2,
       "version_minor": 0
      },
      "text/plain": [
       "Checkbox(value=False, description='All Stage I comments resolved and detailed design is as per approved Stage …"
      ]
     },
     "metadata": {},
     "output_type": "display_data"
    },
    {
     "data": {
      "application/vnd.jupyter.widget-view+json": {
       "model_id": "b70145eef90645d8978f1c0441a49535",
       "version_major": 2,
       "version_minor": 0
      },
      "text/plain": [
       "Checkbox(value=False, description='All correspondence has been reviewed?', indent=False, layout=Layout(margin=…"
      ]
     },
     "metadata": {},
     "output_type": "display_data"
    },
    {
     "data": {
      "application/vnd.jupyter.widget-view+json": {
       "model_id": "0324edeef50642d5a33c32ded60cabe4",
       "version_major": 2,
       "version_minor": 0
      },
      "text/plain": [
       "Checkbox(value=False, description='All bridge plan sheet are in order. See BDM 103', indent=False, layout=Layo…"
      ]
     },
     "metadata": {},
     "output_type": "display_data"
    },
    {
     "data": {
      "application/vnd.jupyter.widget-view+json": {
       "model_id": "6faacf29cb584b209bbc57fae7cd95d7",
       "version_major": 2,
       "version_minor": 0
      },
      "text/plain": [
       "Checkbox(value=False, description='Title block okay on all sheets? (As shown on Figure 102-4 in the Bridge Des…"
      ]
     },
     "metadata": {},
     "output_type": "display_data"
    },
    {
     "data": {
      "application/vnd.jupyter.widget-view+json": {
       "model_id": "f17e72b51e6f4934804cd1d66d25b1a7",
       "version_major": 2,
       "version_minor": 0
      },
      "text/plain": [
       "Checkbox(value=False, description='Project number and bridge number correct? See BDM 102.4', indent=False, lay…"
      ]
     },
     "metadata": {},
     "output_type": "display_data"
    },
    {
     "data": {
      "application/vnd.jupyter.widget-view+json": {
       "model_id": "fcd7353b8cae46f2aed350b0f87377ed",
       "version_major": 2,
       "version_minor": 0
      },
      "text/plain": [
       "Checkbox(value=False, description='All lettering No. 5 or larger? Caps 5/32 inches in height) Sheets in an app…"
      ]
     },
     "metadata": {},
     "output_type": "display_data"
    },
    {
     "data": {
      "application/vnd.jupyter.widget-view+json": {
       "model_id": "5a65993a5e774e849ef886b3d03ac1d6",
       "version_major": 2,
       "version_minor": 0
      },
      "text/plain": [
       "Checkbox(value=False, description='Supplemental Site Plan, if prepared during Stage 1 has not been included in…"
      ]
     },
     "metadata": {},
     "output_type": "display_data"
    },
    {
     "data": {
      "application/vnd.jupyter.widget-view+json": {
       "model_id": "b852b04c642d441eac7b562e7728ed04",
       "version_major": 2,
       "version_minor": 0
      },
      "text/plain": [
       "Checkbox(value=False, description='Site Plan been checked with the final approved Sage 1 Site Plan? Deck trans…"
      ]
     },
     "metadata": {},
     "output_type": "display_data"
    },
    {
     "data": {
      "application/vnd.jupyter.widget-view+json": {
       "model_id": "fa76a6e27673452ea6331f948fb3b643",
       "version_major": 2,
       "version_minor": 0
      },
      "text/plain": [
       "Checkbox(value=False, description='Call-outs are consistent on all sheets? (Span designation number, pier numb…"
      ]
     },
     "metadata": {},
     "output_type": "display_data"
    },
    {
     "data": {
      "application/vnd.jupyter.widget-view+json": {
       "model_id": "bb8c005f0cbd41019fc8f81e4a86b0c7",
       "version_major": 2,
       "version_minor": 0
      },
      "text/plain": [
       "Checkbox(value=False, description='North arrow shown on all plan views, all sheets. See BDM 102', indent=False…"
      ]
     },
     "metadata": {},
     "output_type": "display_data"
    },
    {
     "data": {
      "application/vnd.jupyter.widget-view+json": {
       "model_id": "93af6d80a765499abb0b8be65692c8bb",
       "version_major": 2,
       "version_minor": 0
      },
      "text/plain": [
       "Checkbox(value=False, description='Each drilled shaft in the structure has been assigned a unique number? See …"
      ]
     },
     "metadata": {},
     "output_type": "display_data"
    },
    {
     "data": {
      "application/vnd.jupyter.widget-view+json": {
       "model_id": "d2aae050b8cc4f6fbefd0f1606feec70",
       "version_major": 2,
       "version_minor": 0
      },
      "text/plain": [
       "Checkbox(value=False, description='Each pile in the structure has been assigned a unique number?', indent=Fals…"
      ]
     },
     "metadata": {},
     "output_type": "display_data"
    },
    {
     "data": {
      "application/vnd.jupyter.widget-view+json": {
       "model_id": "92e3bd5c991d4a8aa584cd274dd6a487",
       "version_major": 2,
       "version_minor": 0
      },
      "text/plain": [
       "Checkbox(value=False, description='Pier(s) and forward abutment elevations and the superstructure transverse s…"
      ]
     },
     "metadata": {},
     "output_type": "display_data"
    },
    {
     "data": {
      "application/vnd.jupyter.widget-view+json": {
       "model_id": "db7d4bde390d428ea9e58d49e7ce1e9b",
       "version_major": 2,
       "version_minor": 0
      },
      "text/plain": [
       "Checkbox(value=False, description='Appropriate centerline/reference line used and referenced exclusively (cons…"
      ]
     },
     "metadata": {},
     "output_type": "display_data"
    },
    {
     "data": {
      "application/vnd.jupyter.widget-view+json": {
       "model_id": "a50809c0f7104a38bf3dbe92fa45dcda",
       "version_major": 2,
       "version_minor": 0
      },
      "text/plain": [
       "Checkbox(value=False, description='If an auxiliary reference line is established, is stationing given along th…"
      ]
     },
     "metadata": {},
     "output_type": "display_data"
    },
    {
     "data": {
      "application/vnd.jupyter.widget-view+json": {
       "model_id": "dc5c70379e2342458d32a4626b209346",
       "version_major": 2,
       "version_minor": 0
      },
      "text/plain": [
       "Checkbox(value=False, description='For bridge with variable super-elevation, has a super-elevation transition …"
      ]
     },
     "metadata": {},
     "output_type": "display_data"
    },
    {
     "data": {
      "application/vnd.jupyter.widget-view+json": {
       "model_id": "b6c2472ccac3454280eb3a87372ac26b",
       "version_major": 2,
       "version_minor": 0
      },
      "text/plain": [
       "Checkbox(value=False, description='Break over (1/2 inch per foot slope) provided on high side of superelevated…"
      ]
     },
     "metadata": {},
     "output_type": "display_data"
    },
    {
     "data": {
      "application/vnd.jupyter.widget-view+json": {
       "model_id": "26cd1af20581486abce84de96896f74e",
       "version_major": 2,
       "version_minor": 0
      },
      "text/plain": [
       "Checkbox(value=False, description='Approach slabs have been detailed as per Designer Supplement: AS-2-15-Appro…"
      ]
     },
     "metadata": {},
     "output_type": "display_data"
    },
    {
     "data": {
      "application/vnd.jupyter.widget-view+json": {
       "model_id": "7fff635f9a0643648eb09af1269b42b7",
       "version_major": 2,
       "version_minor": 0
      },
      "text/plain": [
       "Checkbox(value=False, description='Items that should be included with roadway quantities (e.g., Rock Channel P…"
      ]
     },
     "metadata": {},
     "output_type": "display_data"
    },
    {
     "data": {
      "application/vnd.jupyter.widget-view+json": {
       "model_id": "9355c230e01d4f6399bb6bec5aaf172d",
       "version_major": 2,
       "version_minor": 0
      },
      "text/plain": [
       "Checkbox(value=False, description='Portions of existing structure that are to be removed have been properly in…"
      ]
     },
     "metadata": {},
     "output_type": "display_data"
    },
    {
     "data": {
      "application/vnd.jupyter.widget-view+json": {
       "model_id": "49046a0a40d3479aa0085ba25fcbd8d8",
       "version_major": 2,
       "version_minor": 0
      },
      "text/plain": [
       "Checkbox(value=False, description='± Symbol used for existing structure dimensions? Dashed lines used to denot…"
      ]
     },
     "metadata": {},
     "output_type": "display_data"
    },
    {
     "data": {
      "application/vnd.jupyter.widget-view+json": {
       "model_id": "5ad2d2514abb483e98133a9638689c52",
       "version_major": 2,
       "version_minor": 0
      },
      "text/plain": [
       "Checkbox(value=False, description='Detail plans for temporary sheeting/shoring included if required by the See…"
      ]
     },
     "metadata": {},
     "output_type": "display_data"
    },
    {
     "data": {
      "application/vnd.jupyter.widget-view+json": {
       "model_id": "038f6e5a35124ea7b6b2e33fb2ce2aad",
       "version_major": 2,
       "version_minor": 0
      },
      "text/plain": [
       "Checkbox(value=False, description='Detail plans for a temporary runaround bridge included if required by the S…"
      ]
     },
     "metadata": {},
     "output_type": "display_data"
    },
    {
     "data": {
      "application/vnd.jupyter.widget-view+json": {
       "model_id": "4e4a924b67db4ece93cd1947fac5cba0",
       "version_major": 2,
       "version_minor": 0
      },
      "text/plain": [
       "Checkbox(value=False, description='Concrete surfaces sealed per See BDM 306.1.2, 309.2.1 and 403.3', indent=Fa…"
      ]
     },
     "metadata": {},
     "output_type": "display_data"
    },
    {
     "data": {
      "application/vnd.jupyter.widget-view+json": {
       "model_id": "4345b8ae4e354900a80c878229839c94",
       "version_major": 2,
       "version_minor": 0
      },
      "text/plain": [
       "Checkbox(value=False, description='Epoxy only sealer not used. See BDM 309.2.1-G', indent=False, layout=Layout…"
      ]
     },
     "metadata": {},
     "output_type": "display_data"
    }
   ],
   "source": [
    "# Function to display the \"site_plan\" section\n",
    "def display_general():\n",
    "    header = widgets.HTML(\"<b><u>General Criteria</u></b>\")\n",
    "    display(header)\n",
    "    checkboxes = []\n",
    "    for criterion in general_criteria:\n",
    "        label = criterion[\"label\"]\n",
    "        # Append \"BDM\" to the section number if available\n",
    "        if \"section\" in criterion:\n",
    "            label = f\"{label} See BDM {criterion['section']}\"\n",
    "        \n",
    "        # Create a checkbox with proper styling for multiline labels\n",
    "        checkbox = widgets.Checkbox(\n",
    "            description=label,\n",
    "            value=False,\n",
    "            indent=False,\n",
    "            layout=widgets.Layout(width='100%', margin='6px 0 0 0px')  # Full width and tight vertical spacing\n",
    "        )\n",
    "        checkbox.style = {'description_width': '0px'}  # Keep the checkbox aligned to the far left\n",
    "        checkboxes.append(checkbox)\n",
    "        display(checkbox)\n",
    "\n",
    "# Display the \"site_plan\" section\n",
    "display_general()"
   ]
  },
  {
   "cell_type": "markdown",
   "id": "691e3d19-306b-48f0-a177-f938c361b52e",
   "metadata": {},
   "source": [
    "# Plans"
   ]
  },
  {
   "cell_type": "markdown",
   "id": "66b20b34-def2-4025-a73c-6c58787666e3",
   "metadata": {},
   "source": [
    "## Site Plan"
   ]
  },
  {
   "cell_type": "code",
   "execution_count": 15,
   "id": "75b6b020-993b-4cf3-854e-bdc0e3882d71",
   "metadata": {},
   "outputs": [],
   "source": [
    "site_plan_criteria = [\n",
    "    {\"label\": \"In the proposed structure data block verify the Latitude and Longitude.\\nThe Latitude and Longitude of the begin Bridge limit station should be given to the nearest 0.01 second. The 0.01 second precision will be included in the next update.\"},\n",
    "    {\"label\": \"In the profile view provide the highest known high-water mark; normal water elevation and Ordinary High-Water Mark (OHWM).\", \"section\": \"201.2.1\"},\n",
    "    {\"label\": \"Show the length of the bedrock socket in the profile view.\", \"section\": \"305.4.2\"}\n",
    "]"
   ]
  },
  {
   "cell_type": "code",
   "execution_count": 16,
   "id": "d2485b3f-23d9-4f0b-a1c1-a7d936b91eda",
   "metadata": {},
   "outputs": [
    {
     "data": {
      "application/vnd.jupyter.widget-view+json": {
       "model_id": "aa660c59475e4e1eaf470318deab0511",
       "version_major": 2,
       "version_minor": 0
      },
      "text/plain": [
       "HTML(value='<b><u>Site Plan</u></b>')"
      ]
     },
     "metadata": {},
     "output_type": "display_data"
    },
    {
     "data": {
      "application/vnd.jupyter.widget-view+json": {
       "model_id": "090e860c3d224e029b80f5b41779741c",
       "version_major": 2,
       "version_minor": 0
      },
      "text/plain": [
       "Checkbox(value=False, description='In the proposed structure data block verify the Latitude and Longitude.\\nTh…"
      ]
     },
     "metadata": {},
     "output_type": "display_data"
    },
    {
     "data": {
      "application/vnd.jupyter.widget-view+json": {
       "model_id": "def3bd5c10664c26b346e334dff174af",
       "version_major": 2,
       "version_minor": 0
      },
      "text/plain": [
       "Checkbox(value=False, description='In the profile view provide the highest known high-water mark; normal water…"
      ]
     },
     "metadata": {},
     "output_type": "display_data"
    },
    {
     "data": {
      "application/vnd.jupyter.widget-view+json": {
       "model_id": "68e25891bd9346a5a697f96d75dd7315",
       "version_major": 2,
       "version_minor": 0
      },
      "text/plain": [
       "Checkbox(value=False, description='Show the length of the bedrock socket in the profile view. See BDM 305.4.2'…"
      ]
     },
     "metadata": {},
     "output_type": "display_data"
    }
   ],
   "source": [
    "# Function to display the \"site_plan\" section\n",
    "def display_site_plan():\n",
    "    header = widgets.HTML(\"<b><u>Site Plan</u></b>\")\n",
    "    display(header)\n",
    "    checkboxes = []\n",
    "    for criterion in site_plan_criteria:\n",
    "        label = criterion[\"label\"]\n",
    "        # Append \"BDM\" to the section number if available\n",
    "        if \"section\" in criterion:\n",
    "            label = f\"{label} See BDM {criterion['section']}\"\n",
    "        \n",
    "        # Create a checkbox with proper styling for multiline labels\n",
    "        checkbox = widgets.Checkbox(\n",
    "            description=label,\n",
    "            value=False,\n",
    "            indent=False,\n",
    "            layout=widgets.Layout(width='100%', margin='6px 0 0 0px')  # Full width and tight vertical spacing\n",
    "        )\n",
    "        checkbox.style = {'description_width': '0px'}  # Keep the checkbox aligned to the far left\n",
    "        checkboxes.append(checkbox)\n",
    "        display(checkbox)\n",
    "\n",
    "# Display the \"site_plan\" section\n",
    "display_site_plan()"
   ]
  },
  {
   "cell_type": "markdown",
   "id": "3dcf244b-4763-44bd-8361-334850668779",
   "metadata": {},
   "source": [
    "## General Plan"
   ]
  },
  {
   "cell_type": "code",
   "execution_count": 17,
   "id": "668062c9-e13b-4e97-b518-54e04d6c6667",
   "metadata": {},
   "outputs": [],
   "source": [
    "# Define the general_plan criteria\n",
    "general_plan_criteria = [\n",
    "    {\"label\": \"Reference line shown for curved bridges, and stations should be shown where it intersects curve.\"},\n",
    "    {\"label\": \"Span lengths agree with Site Plan?\", \"section\": \"202.1.1\"},\n",
    "    {\"label\": \"Stage construction joint shown on appropriate plan views and details.\"},\n",
    "    {\"label\": \"Highway lighting feature shown, if applicable?\"},\n",
    "    {\"label\": \"Scuppers shown, if applicable?\"},\n",
    "    {\"label\": \"Approach drainage details (Gutters/catch basins).\"},\n",
    "    {\"label\": \"Limits of slope protection.\"}\n",
    "]"
   ]
  },
  {
   "cell_type": "code",
   "execution_count": 18,
   "id": "d91d4bc8-a8f8-4593-9ffb-03ad25dbfb55",
   "metadata": {},
   "outputs": [
    {
     "data": {
      "application/vnd.jupyter.widget-view+json": {
       "model_id": "07ea010a004e48368e56639cf7e5af4c",
       "version_major": 2,
       "version_minor": 0
      },
      "text/plain": [
       "HTML(value='<b><u>General Plan</u></b>')"
      ]
     },
     "metadata": {},
     "output_type": "display_data"
    },
    {
     "data": {
      "application/vnd.jupyter.widget-view+json": {
       "model_id": "d326b903f0ae47d19c4b49a58c79b673",
       "version_major": 2,
       "version_minor": 0
      },
      "text/plain": [
       "Checkbox(value=False, description='Reference line shown for curved bridges, and stations should be shown where…"
      ]
     },
     "metadata": {},
     "output_type": "display_data"
    },
    {
     "data": {
      "application/vnd.jupyter.widget-view+json": {
       "model_id": "53eeca68eb2643efb792a7eb28fc12f7",
       "version_major": 2,
       "version_minor": 0
      },
      "text/plain": [
       "Checkbox(value=False, description='Span lengths agree with Site Plan? See BDM 202.1.1', indent=False, layout=L…"
      ]
     },
     "metadata": {},
     "output_type": "display_data"
    },
    {
     "data": {
      "application/vnd.jupyter.widget-view+json": {
       "model_id": "52a8401c64b0488886aeecff7bf8869e",
       "version_major": 2,
       "version_minor": 0
      },
      "text/plain": [
       "Checkbox(value=False, description='Stage construction joint shown on appropriate plan views and details.', ind…"
      ]
     },
     "metadata": {},
     "output_type": "display_data"
    },
    {
     "data": {
      "application/vnd.jupyter.widget-view+json": {
       "model_id": "59b29da47b7d4ea0b172905969d0563d",
       "version_major": 2,
       "version_minor": 0
      },
      "text/plain": [
       "Checkbox(value=False, description='Highway lighting feature shown, if applicable?', indent=False, layout=Layou…"
      ]
     },
     "metadata": {},
     "output_type": "display_data"
    },
    {
     "data": {
      "application/vnd.jupyter.widget-view+json": {
       "model_id": "7905550dd48e40fcb4d39518ed9731a8",
       "version_major": 2,
       "version_minor": 0
      },
      "text/plain": [
       "Checkbox(value=False, description='Scuppers shown, if applicable?', indent=False, layout=Layout(margin='6px 0 …"
      ]
     },
     "metadata": {},
     "output_type": "display_data"
    },
    {
     "data": {
      "application/vnd.jupyter.widget-view+json": {
       "model_id": "1847a4fe87ba4316bf1864ee2ee5e841",
       "version_major": 2,
       "version_minor": 0
      },
      "text/plain": [
       "Checkbox(value=False, description='Approach drainage details (Gutters/catch basins).', indent=False, layout=La…"
      ]
     },
     "metadata": {},
     "output_type": "display_data"
    },
    {
     "data": {
      "application/vnd.jupyter.widget-view+json": {
       "model_id": "1e6706914f944976921695e0ed2add3d",
       "version_major": 2,
       "version_minor": 0
      },
      "text/plain": [
       "Checkbox(value=False, description='Limits of slope protection.', indent=False, layout=Layout(margin='6px 0 0 0…"
      ]
     },
     "metadata": {},
     "output_type": "display_data"
    }
   ],
   "source": [
    "# Function to display the \"general_plan\" section\n",
    "def display_general_plan():\n",
    "    header = widgets.HTML(\"<b><u>General Plan</u></b>\")\n",
    "    display(header)\n",
    "    checkboxes = []\n",
    "    for criterion in general_plan_criteria:\n",
    "        label = criterion[\"label\"]\n",
    "        # Append \"BDM\" to the section number if available\n",
    "        if \"section\" in criterion:\n",
    "            label = f\"{label} See BDM {criterion['section']}\"\n",
    "        checkbox = widgets.Checkbox(\n",
    "            description=label,\n",
    "            value=False,\n",
    "            indent=False,\n",
    "            layout=widgets.Layout(width='100%', margin='6px 0 0 0px')\n",
    "        )\n",
    "        checkbox.style = {'description_width': '0px'}\n",
    "        checkboxes.append(checkbox)\n",
    "        display(checkbox)\n",
    "\n",
    "# Display the \"general_plan\" section\n",
    "display_general_plan()"
   ]
  },
  {
   "cell_type": "markdown",
   "id": "f101f5e6-ea9d-4cce-b27f-4802d55adefd",
   "metadata": {},
   "source": [
    "## General Notes/Estimated Quantities"
   ]
  },
  {
   "cell_type": "markdown",
   "id": "f8d35850-5de1-4035-8ffd-5a21ddfe3ce0",
   "metadata": {},
   "source": [
    "### General Notes (Refer to 600)"
   ]
  },
  {
   "cell_type": "code",
   "execution_count": 19,
   "id": "bb2d6f75-951e-464f-bec6-d94e3248f9ab",
   "metadata": {},
   "outputs": [],
   "source": [
    "# Define the general_notes criteria\n",
    "general_notes_criteria = [\n",
    "    {\"label\": \"All applicable general notes from BDM Section 600 included?\"},\n",
    "    {\"label\": \"Wording of 'standard general notes' suit the project? (Do the notes make sense for this project?)\"},\n",
    "    {\"label\": \"General notes included where necessary to describe 'as per plan' items?\"},\n",
    "    {\"label\": \"In addition to the typical general notes given in the BDM, general notes are usually included to describe any 'non-standard' bid items or situations. Have these been included?\"},\n",
    "    {\"label\": \"For rehabilitation projects, is the scope work itemized and clearly described under a PROPOSED WORK note?\"},\n",
    "    {\"label\": \"Construction procedure for unusual conditions\"}\n",
    "]"
   ]
  },
  {
   "cell_type": "code",
   "execution_count": 20,
   "id": "9be721ba-d563-469a-9f84-9ccbbc49e99d",
   "metadata": {},
   "outputs": [
    {
     "data": {
      "application/vnd.jupyter.widget-view+json": {
       "model_id": "b23bff26e2074b2fabf4af225224bc41",
       "version_major": 2,
       "version_minor": 0
      },
      "text/plain": [
       "HTML(value='<b><u>General Notes</u></b>')"
      ]
     },
     "metadata": {},
     "output_type": "display_data"
    },
    {
     "data": {
      "application/vnd.jupyter.widget-view+json": {
       "model_id": "7980ff2d53c24eed8a3838d43b6f9f24",
       "version_major": 2,
       "version_minor": 0
      },
      "text/plain": [
       "Checkbox(value=False, description='All applicable general notes from BDM Section 600 included?', indent=False,…"
      ]
     },
     "metadata": {},
     "output_type": "display_data"
    },
    {
     "data": {
      "application/vnd.jupyter.widget-view+json": {
       "model_id": "7e811e0bd52e42a98031e3d83ade8048",
       "version_major": 2,
       "version_minor": 0
      },
      "text/plain": [
       "Checkbox(value=False, description=\"Wording of 'standard general notes' suit the project? (Do the notes make se…"
      ]
     },
     "metadata": {},
     "output_type": "display_data"
    },
    {
     "data": {
      "application/vnd.jupyter.widget-view+json": {
       "model_id": "0194d7f3ccfb43eb95ebe7d8905c0405",
       "version_major": 2,
       "version_minor": 0
      },
      "text/plain": [
       "Checkbox(value=False, description=\"General notes included where necessary to describe 'as per plan' items?\", i…"
      ]
     },
     "metadata": {},
     "output_type": "display_data"
    },
    {
     "data": {
      "application/vnd.jupyter.widget-view+json": {
       "model_id": "96dbd998bd45494ab512fc93115e32bf",
       "version_major": 2,
       "version_minor": 0
      },
      "text/plain": [
       "Checkbox(value=False, description=\"In addition to the typical general notes given in the BDM, general notes ar…"
      ]
     },
     "metadata": {},
     "output_type": "display_data"
    },
    {
     "data": {
      "application/vnd.jupyter.widget-view+json": {
       "model_id": "e8e5ba3768334a1ea3aac836dfc64052",
       "version_major": 2,
       "version_minor": 0
      },
      "text/plain": [
       "Checkbox(value=False, description='For rehabilitation projects, is the scope work itemized and clearly describ…"
      ]
     },
     "metadata": {},
     "output_type": "display_data"
    },
    {
     "data": {
      "application/vnd.jupyter.widget-view+json": {
       "model_id": "b2317a136cf74670a9b7c2200ca2f54f",
       "version_major": 2,
       "version_minor": 0
      },
      "text/plain": [
       "Checkbox(value=False, description='Construction procedure for unusual conditions', indent=False, layout=Layout…"
      ]
     },
     "metadata": {},
     "output_type": "display_data"
    }
   ],
   "source": [
    "# Function to display the \"general_notes\" section\n",
    "def display_general_notes():\n",
    "    header = widgets.HTML(\"<b><u>General Notes</u></b>\")\n",
    "    display(header)\n",
    "    checkboxes = []\n",
    "    for criterion in general_notes_criteria:\n",
    "        label = criterion[\"label\"]\n",
    "        # Append \"BDM\" to the section number if available\n",
    "        if \"section\" in criterion:\n",
    "            label = f\"{label} See BDM {criterion['section']}\"\n",
    "        checkbox = widgets.Checkbox(\n",
    "            description=label,\n",
    "            value=False,\n",
    "            indent=False,\n",
    "            layout=widgets.Layout(width='100%', margin='6px 0 0 0px')\n",
    "        )\n",
    "        checkbox.style = {'description_width': '0px'}\n",
    "        checkboxes.append(checkbox)\n",
    "        display(checkbox)\n",
    "\n",
    "# Display the \"general_notes\" section\n",
    "display_general_notes()"
   ]
  },
  {
   "cell_type": "markdown",
   "id": "a489f1d1-00c1-4ac2-9869-dec00123643d",
   "metadata": {},
   "source": [
    "### Detail Notes"
   ]
  },
  {
   "cell_type": "code",
   "execution_count": 21,
   "id": "8d7ec82e-4871-4f8e-8894-e7101b7e59d6",
   "metadata": {},
   "outputs": [],
   "source": [
    "# Define the detail_notes criteria\n",
    "detail_notes_criteria = [\n",
    "    {\"label\": \"See Section 700 of the Bridge Design Manual for a reminder list of typical detail notes.\"}\n",
    "]"
   ]
  },
  {
   "cell_type": "code",
   "execution_count": 22,
   "id": "89a83cca-f31b-402f-9454-f5b285c629b4",
   "metadata": {},
   "outputs": [
    {
     "data": {
      "application/vnd.jupyter.widget-view+json": {
       "model_id": "38dc8ab7b69445de8daf1f586bdfb21a",
       "version_major": 2,
       "version_minor": 0
      },
      "text/plain": [
       "HTML(value='<b><u>Detail Notes</u></b>')"
      ]
     },
     "metadata": {},
     "output_type": "display_data"
    },
    {
     "data": {
      "application/vnd.jupyter.widget-view+json": {
       "model_id": "c9116c935e044607add487789a694d16",
       "version_major": 2,
       "version_minor": 0
      },
      "text/plain": [
       "Checkbox(value=False, description='See Section 700 of the Bridge Design Manual for a reminder list of typical …"
      ]
     },
     "metadata": {},
     "output_type": "display_data"
    }
   ],
   "source": [
    "# Function to display the \"detail_notes\" section\n",
    "def display_detail_notes():\n",
    "    header = widgets.HTML(\"<b><u>Detail Notes</u></b>\")\n",
    "    display(header)\n",
    "    checkboxes = []\n",
    "    for criterion in detail_notes_criteria:\n",
    "        label = criterion[\"label\"]\n",
    "        # Append \"BDM\" to the section number if available\n",
    "        if \"section\" in criterion:\n",
    "            label = f\"{label} See BDM {criterion['section']}\"\n",
    "        checkbox = widgets.Checkbox(\n",
    "            description=label,\n",
    "            value=False,\n",
    "            indent=False,\n",
    "            layout=widgets.Layout(width='100%', margin='6px 0 0 0px')\n",
    "        )\n",
    "        checkbox.style = {'description_width': '0px'}\n",
    "        checkboxes.append(checkbox)\n",
    "        display(checkbox)\n",
    "\n",
    "# Display the \"detail_notes\" section\n",
    "display_detail_notes()"
   ]
  },
  {
   "cell_type": "markdown",
   "id": "f39c21f2-7158-4ec8-b6c9-bc75b1d50882",
   "metadata": {},
   "source": [
    "### Estimated Quantitites"
   ]
  },
  {
   "cell_type": "code",
   "execution_count": 23,
   "id": "8aec3349-b540-46a0-ba52-9307355a1511",
   "metadata": {},
   "outputs": [],
   "source": [
    "# Define the estimated_notes criteria\n",
    "estimated_quantitites_criteria = [\n",
    "    {\"label\": \"All Items should be listed in the Estimated Quantities sheet in stage 2 without quantities.\"},\n",
    "    {\"label\": \"Pay-Item for cofferdam and excavation bracing included if required by section 310.1.1 of the BDM.\"}\n",
    "]"
   ]
  },
  {
   "cell_type": "code",
   "execution_count": 24,
   "id": "343f9384-f9d9-4109-8447-4b9278054e1a",
   "metadata": {},
   "outputs": [
    {
     "data": {
      "application/vnd.jupyter.widget-view+json": {
       "model_id": "2c71d74449a94eba9ff6650ef2b19d33",
       "version_major": 2,
       "version_minor": 0
      },
      "text/plain": [
       "HTML(value='<b><u>Estimated Quantities</u></b>')"
      ]
     },
     "metadata": {},
     "output_type": "display_data"
    },
    {
     "data": {
      "application/vnd.jupyter.widget-view+json": {
       "model_id": "a63c90a7a1cd40beae45bdf807126045",
       "version_major": 2,
       "version_minor": 0
      },
      "text/plain": [
       "Checkbox(value=False, description='All Items should be listed in the Estimated Quantities sheet in stage 2 wit…"
      ]
     },
     "metadata": {},
     "output_type": "display_data"
    },
    {
     "data": {
      "application/vnd.jupyter.widget-view+json": {
       "model_id": "b5fdbf0f05754e039ff94bc3dd76bfc9",
       "version_major": 2,
       "version_minor": 0
      },
      "text/plain": [
       "Checkbox(value=False, description='Pay-Item for cofferdam and excavation bracing included if required by secti…"
      ]
     },
     "metadata": {},
     "output_type": "display_data"
    }
   ],
   "source": [
    "# Function to display the \"detail_notes\" section\n",
    "def display_estimated_quantities():\n",
    "    header = widgets.HTML(\"<b><u>Estimated Quantities</u></b>\")\n",
    "    display(header)\n",
    "    checkboxes = []\n",
    "    for criterion in estimated_quantitites_criteria:\n",
    "        label = criterion[\"label\"]\n",
    "        # Append \"BDM\" to the section number if available\n",
    "        if \"section\" in criterion:\n",
    "            label = f\"{label} See BDM {criterion['section']}\"\n",
    "        checkbox = widgets.Checkbox(\n",
    "            description=label,\n",
    "            value=False,\n",
    "            indent=False,\n",
    "            layout=widgets.Layout(width='100%', margin='6px 0 0 0px')\n",
    "        )\n",
    "        checkbox.style = {'description_width': '0px'}\n",
    "        checkboxes.append(checkbox)\n",
    "        display(checkbox)\n",
    "\n",
    "# Display the \"detail_notes\" section\n",
    "display_estimated_quantities()"
   ]
  },
  {
   "cell_type": "markdown",
   "id": "dd989360-be52-4712-85cf-81c8482ea2f6",
   "metadata": {},
   "source": [
    "### Reinforcing Details"
   ]
  },
  {
   "cell_type": "code",
   "execution_count": 25,
   "id": "2a182942-ca78-45d4-84da-a2a802adb989",
   "metadata": {},
   "outputs": [],
   "source": [
    "# Define the reinforcing_details criteria\n",
    "reinforcing_details_criteria = [\n",
    "    {\"label\": \"Bar lengths conform to The maximum bar length should be approximately 40 feet. For longitudinal deck reinforcing, bar lengths of 30 feet are preferred, except for one odd length at end of run.\", \"section\": \"304.4.1\"},\n",
    "    {\"label\": \"Length of the short leg of L-shaped bars less than 8'-0\\\"?\", \"section\": \"304.4.1\"},\n",
    "    {\"label\": \"Minimum reinforcing steel provided in all faces of retaining walls and wall-type abutments and piers for shrinkage and temperature reinforcement?\", \"section\": \"304.4.9 LRFD 5.10.6\"},\n",
    "    {\"label\": \"Splice and development lengths for epoxy bars conform to current AASHTO requirements?\", \"section\": \"LRFD 5.10.8\"},\n",
    "    {\"label\": \"All bar splice lengths shown by plan note, on plan details, combination or reference?\"},\n",
    "    {\"label\": \"Bridge seat reinforcement adequately clear of bearing anchors?\", \"section\": \"306.2.1.2\"},\n",
    "    {\"label\": \"Treatment of reinforcing steel appropriate at all construction, contraction, and expansion joints?\", \"section\": \"306.2.5\"},\n",
    "    {\"label\": \"Reinforcing steel in footings comply with (i.e., secondary rebars under main rebars, rebars at bottom of footing and not top of piles, dowel legs placed at bottom layer of footing rebars)?\", \"section\": \"305.2.1.4\"},\n",
    "    {\"label\": \"For cantilevered pier caps (T-type and cap and column), is the top layer of bars bent down the end face of the cap? Side faces adequately reinforced to resist longitudinal superstructure forces?\", \"section\": \"306.3.3.3\"},\n",
    "    {\"label\": \"Lateral ties between vertical bars in T-type and wall type piers as per section\", \"section\": \"306.3.3\"},\n",
    "    {\"label\": \"All reinforcing shall be epoxy coated?\", \"section\": \"304.4\"},\n",
    "    {\"label\": \"Letter prefix A (abutments), P (piers), S (superstructure), SP (spirals), DS (drilled shafts) generally used in bar marks?\", \"section\": \"304.4.2\"},\n",
    "    {\"label\": \"Mechanical connectors used where appropriate?\", \"section\": \"304.4.4\"},\n",
    "    {\"label\": \"Splices avoided at pier horizontal construction joints, except at top of footing?\", \"section\": \"304.4.3\"},\n",
    "]"
   ]
  },
  {
   "cell_type": "code",
   "execution_count": 26,
   "id": "55fdd85a-4841-4873-a716-396ae7ecea6b",
   "metadata": {},
   "outputs": [
    {
     "data": {
      "application/vnd.jupyter.widget-view+json": {
       "model_id": "b3d7172e8b7b40768c923351dbdf2f68",
       "version_major": 2,
       "version_minor": 0
      },
      "text/plain": [
       "HTML(value='<b><u>Reinforcing Details</u></b>')"
      ]
     },
     "metadata": {},
     "output_type": "display_data"
    },
    {
     "data": {
      "application/vnd.jupyter.widget-view+json": {
       "model_id": "4a299b59f63c4b49a24be7caab11a721",
       "version_major": 2,
       "version_minor": 0
      },
      "text/plain": [
       "Checkbox(value=False, description='Bar lengths conform to The maximum bar length should be approximately 40 fe…"
      ]
     },
     "metadata": {},
     "output_type": "display_data"
    },
    {
     "data": {
      "application/vnd.jupyter.widget-view+json": {
       "model_id": "d314bd2bc77543578607b81be3e49d6d",
       "version_major": 2,
       "version_minor": 0
      },
      "text/plain": [
       "Checkbox(value=False, description='Length of the short leg of L-shaped bars less than 8\\'-0\"? See BDM 304.4.1'…"
      ]
     },
     "metadata": {},
     "output_type": "display_data"
    },
    {
     "data": {
      "application/vnd.jupyter.widget-view+json": {
       "model_id": "82164127aa2448e2ba6c70d4ba395875",
       "version_major": 2,
       "version_minor": 0
      },
      "text/plain": [
       "Checkbox(value=False, description='Minimum reinforcing steel provided in all faces of retaining walls and wall…"
      ]
     },
     "metadata": {},
     "output_type": "display_data"
    },
    {
     "data": {
      "application/vnd.jupyter.widget-view+json": {
       "model_id": "56745db5cf87460c8f6561fb82879384",
       "version_major": 2,
       "version_minor": 0
      },
      "text/plain": [
       "Checkbox(value=False, description='Splice and development lengths for epoxy bars conform to current AASHTO req…"
      ]
     },
     "metadata": {},
     "output_type": "display_data"
    },
    {
     "data": {
      "application/vnd.jupyter.widget-view+json": {
       "model_id": "833eeb2fbfcc42b18a5ae29d9688412e",
       "version_major": 2,
       "version_minor": 0
      },
      "text/plain": [
       "Checkbox(value=False, description='All bar splice lengths shown by plan note, on plan details, combination or …"
      ]
     },
     "metadata": {},
     "output_type": "display_data"
    },
    {
     "data": {
      "application/vnd.jupyter.widget-view+json": {
       "model_id": "f77187a44c1645c89d38216a2710c41d",
       "version_major": 2,
       "version_minor": 0
      },
      "text/plain": [
       "Checkbox(value=False, description='Bridge seat reinforcement adequately clear of bearing anchors? See BDM 306.…"
      ]
     },
     "metadata": {},
     "output_type": "display_data"
    },
    {
     "data": {
      "application/vnd.jupyter.widget-view+json": {
       "model_id": "c06b0ce6b02a463c800efcf041d5fb7a",
       "version_major": 2,
       "version_minor": 0
      },
      "text/plain": [
       "Checkbox(value=False, description='Treatment of reinforcing steel appropriate at all construction, contraction…"
      ]
     },
     "metadata": {},
     "output_type": "display_data"
    },
    {
     "data": {
      "application/vnd.jupyter.widget-view+json": {
       "model_id": "d2f931ecfcc8437dbf7f1a34184d036f",
       "version_major": 2,
       "version_minor": 0
      },
      "text/plain": [
       "Checkbox(value=False, description='Reinforcing steel in footings comply with (i.e., secondary rebars under mai…"
      ]
     },
     "metadata": {},
     "output_type": "display_data"
    },
    {
     "data": {
      "application/vnd.jupyter.widget-view+json": {
       "model_id": "bac5efcd00674e6fa6d2adbbd7fab5ec",
       "version_major": 2,
       "version_minor": 0
      },
      "text/plain": [
       "Checkbox(value=False, description='For cantilevered pier caps (T-type and cap and column), is the top layer of…"
      ]
     },
     "metadata": {},
     "output_type": "display_data"
    },
    {
     "data": {
      "application/vnd.jupyter.widget-view+json": {
       "model_id": "c54e097096ef4dd490012f4dd48bfa0a",
       "version_major": 2,
       "version_minor": 0
      },
      "text/plain": [
       "Checkbox(value=False, description='Lateral ties between vertical bars in T-type and wall type piers as per sec…"
      ]
     },
     "metadata": {},
     "output_type": "display_data"
    },
    {
     "data": {
      "application/vnd.jupyter.widget-view+json": {
       "model_id": "ab15e6fe42ea4e8783c89621520db500",
       "version_major": 2,
       "version_minor": 0
      },
      "text/plain": [
       "Checkbox(value=False, description='All reinforcing shall be epoxy coated? See BDM 304.4', indent=False, layout…"
      ]
     },
     "metadata": {},
     "output_type": "display_data"
    },
    {
     "data": {
      "application/vnd.jupyter.widget-view+json": {
       "model_id": "800a07e8f46349a0868d880eecfcfcad",
       "version_major": 2,
       "version_minor": 0
      },
      "text/plain": [
       "Checkbox(value=False, description='Letter prefix A (abutments), P (piers), S (superstructure), SP (spirals), D…"
      ]
     },
     "metadata": {},
     "output_type": "display_data"
    },
    {
     "data": {
      "application/vnd.jupyter.widget-view+json": {
       "model_id": "1b8387147ac6458e8b614086174d1976",
       "version_major": 2,
       "version_minor": 0
      },
      "text/plain": [
       "Checkbox(value=False, description='Mechanical connectors used where appropriate? See BDM 304.4.4', indent=Fals…"
      ]
     },
     "metadata": {},
     "output_type": "display_data"
    },
    {
     "data": {
      "application/vnd.jupyter.widget-view+json": {
       "model_id": "14402a96e15f45fbadb310fc11838c5b",
       "version_major": 2,
       "version_minor": 0
      },
      "text/plain": [
       "Checkbox(value=False, description='Splices avoided at pier horizontal construction joints, except at top of fo…"
      ]
     },
     "metadata": {},
     "output_type": "display_data"
    }
   ],
   "source": [
    "# Function to display the \"reinforcing_details\" section\n",
    "def display_reinforcing_details():\n",
    "    header = widgets.HTML(\"<b><u>Reinforcing Details</u></b>\")\n",
    "    display(header)\n",
    "    checkboxes = []\n",
    "    for criterion in reinforcing_details_criteria:\n",
    "        label = criterion[\"label\"]\n",
    "        # Append \"BDM\" to the section number if available\n",
    "        if \"section\" in criterion:\n",
    "            label = f\"{label} See BDM {criterion['section']}\"\n",
    "        checkbox = widgets.Checkbox(\n",
    "            description=label,\n",
    "            value=False,\n",
    "            indent=False,\n",
    "            layout=widgets.Layout(width='100%', margin='6px 0 0 0px')\n",
    "        )\n",
    "        checkbox.style = {'description_width': '0px'}\n",
    "        checkboxes.append(checkbox)\n",
    "        display(checkbox)\n",
    "\n",
    "# Display the \"reinforcing_details\" section\n",
    "display_reinforcing_details()"
   ]
  },
  {
   "cell_type": "markdown",
   "id": "13b68d75-0fd9-484a-8385-cb743e9d4545",
   "metadata": {},
   "source": [
    "# Stage Construction"
   ]
  },
  {
   "cell_type": "markdown",
   "id": "680a537d-685f-4521-a4bf-8bf53a320171",
   "metadata": {},
   "source": [
    "Design checklist question - \n",
    "\n",
    "Does the project involve temporary shoring sheeting or railing?"
   ]
  },
  {
   "cell_type": "code",
   "execution_count": 27,
   "id": "d41f1017-fa88-4714-bf35-8d8de83fc371",
   "metadata": {},
   "outputs": [
    {
     "name": "stdout",
     "output_type": "stream",
     "text": [
      "Does the project involve any tempoary works? Select all that apply.\n"
     ]
    },
    {
     "data": {
      "application/vnd.jupyter.widget-view+json": {
       "model_id": "31d20f7cde9b4155b1da76c8a9b510f5",
       "version_major": 2,
       "version_minor": 0
      },
      "text/plain": [
       "SelectMultiple(description='Select: ', options=(None, 'Shoring', 'Sheeting', 'Cofferdams', 'Water Diversion'),…"
      ]
     },
     "metadata": {},
     "output_type": "display_data"
    }
   ],
   "source": [
    "print('Does the project involve any tempoary works? Select all that apply.')\n",
    "\n",
    "temporary_works = widgets.SelectMultiple(\n",
    "    options=[\n",
    "        None, \n",
    "        'Shoring', \n",
    "        'Sheeting', \n",
    "        'Cofferdams', \n",
    "        'Water Diversion'\n",
    "    ],\n",
    "    value=[],\n",
    "    description='Select: ',\n",
    "    disabled=False\n",
    ")\n",
    "\n",
    "display(temporary_works)"
   ]
  },
  {
   "cell_type": "code",
   "execution_count": 28,
   "id": "cf6385b0-e52c-4607-a886-a6e6a0301332",
   "metadata": {},
   "outputs": [
    {
     "data": {
      "text/plain": [
       "()"
      ]
     },
     "execution_count": 28,
     "metadata": {},
     "output_type": "execute_result"
    }
   ],
   "source": [
    "temporary_works.value"
   ]
  },
  {
   "cell_type": "markdown",
   "id": "8db7db35-86d0-4335-9af2-b0433756ba38",
   "metadata": {},
   "source": [
    "## Typical Sections"
   ]
  },
  {
   "cell_type": "code",
   "execution_count": 29,
   "id": "981b41b2-96dc-4570-8261-bc4ad4237211",
   "metadata": {},
   "outputs": [],
   "source": [
    "# Define the typical_sections criteria\n",
    "typical_sections_criteria = [\n",
    "    {\"label\": \"Large scale typical sections of existing and proposed superstructures provided to show removal and construction stages?\"},\n",
    "    {\"label\": \"Location of cut lines and stage construction joints established with respect to primary survey line?\"},\n",
    "    {\"label\": \"Typical section of existing structure conforms to current photographs and site inspection sketches?\"},\n",
    "    {\"label\": \"Stage construction details sheet should include notes that detail the sequence of construction.\", \"section\": \"309.3.8.5\"}\n",
    "]"
   ]
  },
  {
   "cell_type": "code",
   "execution_count": 30,
   "id": "d0dad188-22b6-4a70-8e1d-829221936636",
   "metadata": {},
   "outputs": [
    {
     "data": {
      "application/vnd.jupyter.widget-view+json": {
       "model_id": "893ff8cc027e48c99ef3ab8419274cc6",
       "version_major": 2,
       "version_minor": 0
      },
      "text/plain": [
       "HTML(value='<b><u>Typical Sections</u></b>')"
      ]
     },
     "metadata": {},
     "output_type": "display_data"
    },
    {
     "data": {
      "application/vnd.jupyter.widget-view+json": {
       "model_id": "d5f6a2566b1740419ea38512a03ebaa4",
       "version_major": 2,
       "version_minor": 0
      },
      "text/plain": [
       "Checkbox(value=False, description='Large scale typical sections of existing and proposed superstructures provi…"
      ]
     },
     "metadata": {},
     "output_type": "display_data"
    },
    {
     "data": {
      "application/vnd.jupyter.widget-view+json": {
       "model_id": "c7b709bbd0cc4434a4282854f13ad8ea",
       "version_major": 2,
       "version_minor": 0
      },
      "text/plain": [
       "Checkbox(value=False, description='Location of cut lines and stage construction joints established with respec…"
      ]
     },
     "metadata": {},
     "output_type": "display_data"
    },
    {
     "data": {
      "application/vnd.jupyter.widget-view+json": {
       "model_id": "3964485329584f6eb0682acf85310e47",
       "version_major": 2,
       "version_minor": 0
      },
      "text/plain": [
       "Checkbox(value=False, description='Typical section of existing structure conforms to current photographs and s…"
      ]
     },
     "metadata": {},
     "output_type": "display_data"
    },
    {
     "data": {
      "application/vnd.jupyter.widget-view+json": {
       "model_id": "cc0c87c8f43845eaba20c77ef6855541",
       "version_major": 2,
       "version_minor": 0
      },
      "text/plain": [
       "Checkbox(value=False, description='Stage construction details sheet should include notes that detail the seque…"
      ]
     },
     "metadata": {},
     "output_type": "display_data"
    }
   ],
   "source": [
    "# Function to display the \"typical_sections\" section\n",
    "def display_typical_sections():\n",
    "    header = widgets.HTML(\"<b><u>Typical Sections</u></b>\")\n",
    "    display(header)\n",
    "    checkboxes = []\n",
    "    for criterion in typical_sections_criteria:\n",
    "        label = criterion[\"label\"]\n",
    "        # Use the updated label format if \"section\" exists\n",
    "        if \"section\" in criterion:\n",
    "            label = f\"{label} See BDM {criterion['section']}\"\n",
    "        checkbox = widgets.Checkbox(\n",
    "            description=label,\n",
    "            value=False,\n",
    "            indent=False,\n",
    "            layout=widgets.Layout(width='100%', margin='6px 0 0 0px')\n",
    "        )\n",
    "        checkbox.style = {'description_width': '0px'}\n",
    "        checkboxes.append(checkbox)\n",
    "        display(checkbox)\n",
    "\n",
    "# Display the \"typical_sections\" section\n",
    "display_typical_sections()"
   ]
  },
  {
   "cell_type": "markdown",
   "id": "96a9aa8d-b80b-4f25-83f3-178cce0ce4bb",
   "metadata": {},
   "source": [
    "## Part Plan Views"
   ]
  },
  {
   "cell_type": "code",
   "execution_count": 31,
   "id": "3735e84b-a920-4e8d-b391-cb5ff88e1432",
   "metadata": {},
   "outputs": [],
   "source": [
    "# Define the part_plan_views criteria\n",
    "part_plan_views_criteria = [\n",
    "    {\"label\": \"Part Plan views provided to show the relative relationship of the existing and proposed abutments during Stage 1 construction and relevant basic dimensions and clearances?\"},\n",
    "    {\"label\": \"Sufficient room provided between temporary sheeting and proposed abutment for form construction and removal?\"},\n",
    "    {\"label\": \"Sufficient room provided for pile driving?\"}\n",
    "]"
   ]
  },
  {
   "cell_type": "code",
   "execution_count": 32,
   "id": "847a96cb-4d69-456c-9626-f790681817fe",
   "metadata": {},
   "outputs": [
    {
     "data": {
      "application/vnd.jupyter.widget-view+json": {
       "model_id": "b3a5b479ea97423c8939bcfba23c9161",
       "version_major": 2,
       "version_minor": 0
      },
      "text/plain": [
       "HTML(value='<b><u>Part Plan Views</u></b>')"
      ]
     },
     "metadata": {},
     "output_type": "display_data"
    },
    {
     "data": {
      "application/vnd.jupyter.widget-view+json": {
       "model_id": "117081fcb4654c4aa263f3656e49081f",
       "version_major": 2,
       "version_minor": 0
      },
      "text/plain": [
       "Checkbox(value=False, description='Part Plan views provided to show the relative relationship of the existing …"
      ]
     },
     "metadata": {},
     "output_type": "display_data"
    },
    {
     "data": {
      "application/vnd.jupyter.widget-view+json": {
       "model_id": "a824f049569f480d8561d50ce34c4668",
       "version_major": 2,
       "version_minor": 0
      },
      "text/plain": [
       "Checkbox(value=False, description='Sufficient room provided between temporary sheeting and proposed abutment f…"
      ]
     },
     "metadata": {},
     "output_type": "display_data"
    },
    {
     "data": {
      "application/vnd.jupyter.widget-view+json": {
       "model_id": "5fb1a45409e447f7b0579e0f9ecaddc3",
       "version_major": 2,
       "version_minor": 0
      },
      "text/plain": [
       "Checkbox(value=False, description='Sufficient room provided for pile driving?', indent=False, layout=Layout(ma…"
      ]
     },
     "metadata": {},
     "output_type": "display_data"
    }
   ],
   "source": [
    "# Function to display the \"part_plan_views\" section\n",
    "def display_part_plan_views():\n",
    "    header = widgets.HTML(\"<b><u>Part Plan Views</u></b>\")\n",
    "    display(header)\n",
    "    checkboxes = []\n",
    "    for criterion in part_plan_views_criteria:\n",
    "        label = criterion[\"label\"]\n",
    "        # Since no \"section\" field is provided, no additional formatting is required\n",
    "        checkbox = widgets.Checkbox(\n",
    "            description=label,\n",
    "            value=False,\n",
    "            indent=False,\n",
    "            layout=widgets.Layout(width='100%', margin='6px 0 0 0px')\n",
    "        )\n",
    "        checkbox.style = {'description_width': '0px'}\n",
    "        checkboxes.append(checkbox)\n",
    "        display(checkbox)\n",
    "\n",
    "# Display the \"part_plan_views\" section\n",
    "display_part_plan_views()"
   ]
  },
  {
   "cell_type": "markdown",
   "id": "4f73c2c5-5a51-4ff1-9f08-5fb85f796503",
   "metadata": {},
   "source": [
    "## Temporary Sheeting"
   ]
  },
  {
   "cell_type": "code",
   "execution_count": 33,
   "id": "a24f1441-3763-4879-a722-2f6700d85d32",
   "metadata": {},
   "outputs": [],
   "source": [
    "# Define the temporary_sheeting criteria\n",
    "temporary_sheeting_criteria = [\n",
    "    {\"label\": \"Consultant designed sheeting details provided in the plan when traffic is being maintained and the height of the retained earth is over 8 feet\", \"section\": \"310.1.1.2\"},\n",
    "    {\"label\": \"Temporary sheeting shown on the Site Plan and/or General Plan?\"},\n",
    "    {\"label\": \"Cofferdams and Excavation Bracing item provided in quantities?\"},\n",
    "    {\"label\": \"Tentative location of temporary sheeting shown on abutment plan views to retain backfill and permit partial removal and excavation for proposed construction?\"}\n",
    "]"
   ]
  },
  {
   "cell_type": "code",
   "execution_count": 34,
   "id": "c403d3d4-8763-430f-94e6-e04cca32a369",
   "metadata": {},
   "outputs": [
    {
     "data": {
      "application/vnd.jupyter.widget-view+json": {
       "model_id": "8bc52d4a060a4ecfbe898acf99e32209",
       "version_major": 2,
       "version_minor": 0
      },
      "text/plain": [
       "HTML(value='<b><u>Temporary Sheeting</u></b>')"
      ]
     },
     "metadata": {},
     "output_type": "display_data"
    },
    {
     "data": {
      "application/vnd.jupyter.widget-view+json": {
       "model_id": "b1865dd4eb7d496e92cab8a2ad9a0a2e",
       "version_major": 2,
       "version_minor": 0
      },
      "text/plain": [
       "Checkbox(value=False, description='Consultant designed sheeting details provided in the plan when traffic is b…"
      ]
     },
     "metadata": {},
     "output_type": "display_data"
    },
    {
     "data": {
      "application/vnd.jupyter.widget-view+json": {
       "model_id": "191d6ae35555469d96ab6c5a777c4f72",
       "version_major": 2,
       "version_minor": 0
      },
      "text/plain": [
       "Checkbox(value=False, description='Temporary sheeting shown on the Site Plan and/or General Plan?', indent=Fal…"
      ]
     },
     "metadata": {},
     "output_type": "display_data"
    },
    {
     "data": {
      "application/vnd.jupyter.widget-view+json": {
       "model_id": "6de29ce235fc431d9449ff0765564e15",
       "version_major": 2,
       "version_minor": 0
      },
      "text/plain": [
       "Checkbox(value=False, description='Cofferdams and Excavation Bracing item provided in quantities?', indent=Fal…"
      ]
     },
     "metadata": {},
     "output_type": "display_data"
    },
    {
     "data": {
      "application/vnd.jupyter.widget-view+json": {
       "model_id": "05576103d9f54be791802d8d8d0197c4",
       "version_major": 2,
       "version_minor": 0
      },
      "text/plain": [
       "Checkbox(value=False, description='Tentative location of temporary sheeting shown on abutment plan views to re…"
      ]
     },
     "metadata": {},
     "output_type": "display_data"
    }
   ],
   "source": [
    "# Function to display the \"temporary_sheeting\" section\n",
    "def display_temporary_sheeting():\n",
    "    header = widgets.HTML(\"<b><u>Temporary Sheeting</u></b>\")\n",
    "    display(header)\n",
    "    checkboxes = []\n",
    "    for criterion in temporary_sheeting_criteria:\n",
    "        label = criterion[\"label\"]\n",
    "        # Use the specified label format if \"section\" exists\n",
    "        if \"section\" in criterion:\n",
    "            label = f\"{label} See BDM {criterion['section']}\"\n",
    "        checkbox = widgets.Checkbox(\n",
    "            description=label,\n",
    "            value=False,\n",
    "            indent=False,\n",
    "            layout=widgets.Layout(width='100%', margin='6px 0 0 0px')\n",
    "        )\n",
    "        checkbox.style = {'description_width': '0px'}\n",
    "        checkboxes.append(checkbox)\n",
    "        display(checkbox)\n",
    "\n",
    "# Display the \"temporary_sheeting\" section\n",
    "display_temporary_sheeting()"
   ]
  },
  {
   "cell_type": "markdown",
   "id": "2cce4e72-e5a3-4764-9fd0-0a851c02c0a3",
   "metadata": {},
   "source": [
    "## Temporary Railing"
   ]
  },
  {
   "cell_type": "code",
   "execution_count": 35,
   "id": "aafa362b-7869-490a-a6db-273cfea31a91",
   "metadata": {},
   "outputs": [],
   "source": [
    "# Define the temporary_railing criteria\n",
    "temporary_railing_criteria = [\n",
    "    {\"label\": \"Reference for barrier details given to Standard Drawing PCB-91?\"},\n",
    "    {\"label\": \"Barrier anchors provided not less than two per segment for barriers located less than 6'- 0\\\" from the edge of deck for bridges over roadways, railroad, or recreational areas: or less than 1'-0\\\" from the edge of the deck for other bridge application (PCB-DD)?\"},\n",
    "    {\"label\": \"Double the number of anchor if the barrier location is less than 1 foot. (PCB-DD)?\"},\n",
    "    {\"label\": \"Complete details given for temporary steel railing?\"}\n",
    "]"
   ]
  },
  {
   "cell_type": "code",
   "execution_count": 36,
   "id": "a5df2464-a63d-4e7c-993e-76ecc8768fde",
   "metadata": {},
   "outputs": [
    {
     "data": {
      "application/vnd.jupyter.widget-view+json": {
       "model_id": "dedc7426f51c4fcdadb4246560c728d6",
       "version_major": 2,
       "version_minor": 0
      },
      "text/plain": [
       "HTML(value='<b><u>Temporary Railing</u></b>')"
      ]
     },
     "metadata": {},
     "output_type": "display_data"
    },
    {
     "data": {
      "application/vnd.jupyter.widget-view+json": {
       "model_id": "bb3d0098e55641f5bd0ccec6f8ee1d89",
       "version_major": 2,
       "version_minor": 0
      },
      "text/plain": [
       "Checkbox(value=False, description='Reference for barrier details given to Standard Drawing PCB-91?', indent=Fa…"
      ]
     },
     "metadata": {},
     "output_type": "display_data"
    },
    {
     "data": {
      "application/vnd.jupyter.widget-view+json": {
       "model_id": "2f3783d5783640ee8b6640a58024af42",
       "version_major": 2,
       "version_minor": 0
      },
      "text/plain": [
       "Checkbox(value=False, description='Barrier anchors provided not less than two per segment for barriers located…"
      ]
     },
     "metadata": {},
     "output_type": "display_data"
    },
    {
     "data": {
      "application/vnd.jupyter.widget-view+json": {
       "model_id": "8e035a75fc874fdbab05bb241dc01005",
       "version_major": 2,
       "version_minor": 0
      },
      "text/plain": [
       "Checkbox(value=False, description='Double the number of anchor if the barrier location is less than 1 foot. (P…"
      ]
     },
     "metadata": {},
     "output_type": "display_data"
    },
    {
     "data": {
      "application/vnd.jupyter.widget-view+json": {
       "model_id": "f8562853606d44d595011f9415df3edb",
       "version_major": 2,
       "version_minor": 0
      },
      "text/plain": [
       "Checkbox(value=False, description='Complete details given for temporary steel railing?', indent=False, layout=…"
      ]
     },
     "metadata": {},
     "output_type": "display_data"
    }
   ],
   "source": [
    "# Function to display the \"temporary_railing\" section\n",
    "def display_temporary_railing():\n",
    "    header = widgets.HTML(\"<b><u>Temporary Railing</u></b>\")\n",
    "    display(header)\n",
    "    checkboxes = []\n",
    "    for criterion in temporary_railing_criteria:\n",
    "        label = criterion[\"label\"]\n",
    "        # No \"section\" field exists, so we simply use the label as-is\n",
    "        checkbox = widgets.Checkbox(\n",
    "            description=label,\n",
    "            value=False,\n",
    "            indent=False,\n",
    "            layout=widgets.Layout(width='100%', margin='6px 0 0 0px')\n",
    "        )\n",
    "        checkbox.style = {'description_width': '0px'}\n",
    "        checkboxes.append(checkbox)\n",
    "        display(checkbox)\n",
    "\n",
    "# Display the \"temporary_railing\" section\n",
    "display_temporary_railing()"
   ]
  },
  {
   "cell_type": "markdown",
   "id": "f82bd02c-5cf6-41fd-b9a5-de03bfa60eec",
   "metadata": {},
   "source": [
    "## Slab Bridges"
   ]
  },
  {
   "cell_type": "code",
   "execution_count": 37,
   "id": "18e0e085-499f-4c86-8755-13b9e3a7bc5a",
   "metadata": {},
   "outputs": [],
   "source": [
    "# Define the slab_bridges criteria\n",
    "slab_bridges_criteria = [\n",
    "    {\"label\": \"Slab removal cut lines lie transverse to primary slab reinforcing steel?\", \"section\": \"BDM201.2.6, 404.5\"},\n",
    "    {\"label\": \"Temporary slab supports provided for such slabs\", \"section\": \"310.1.2\"},\n",
    "    {\"label\": \"Both stages of slab bridges supported by false work until second stage slab concrete has fully cured before false work is released (to avoid the use of a third stage closure section and high dead load shear forces on stage construction joints due to the premature release of false work)? (False work should be designed for live load)\"}\n",
    "]"
   ]
  },
  {
   "cell_type": "code",
   "execution_count": 38,
   "id": "3e9762a7-a1cf-4e73-a272-d67c35131cd9",
   "metadata": {},
   "outputs": [
    {
     "data": {
      "application/vnd.jupyter.widget-view+json": {
       "model_id": "d8e036bbf2a14a95bd404cfee6a33aab",
       "version_major": 2,
       "version_minor": 0
      },
      "text/plain": [
       "HTML(value='<b><u>Slab Bridges</u></b>')"
      ]
     },
     "metadata": {},
     "output_type": "display_data"
    },
    {
     "data": {
      "application/vnd.jupyter.widget-view+json": {
       "model_id": "e06e04748b2343a5967ceeb4f00c8b0e",
       "version_major": 2,
       "version_minor": 0
      },
      "text/plain": [
       "Checkbox(value=False, description='Slab removal cut lines lie transverse to primary slab reinforcing steel? Se…"
      ]
     },
     "metadata": {},
     "output_type": "display_data"
    },
    {
     "data": {
      "application/vnd.jupyter.widget-view+json": {
       "model_id": "fe9a3f6796d64af5a325256990888281",
       "version_major": 2,
       "version_minor": 0
      },
      "text/plain": [
       "Checkbox(value=False, description='Temporary slab supports provided for such slabs See BDM 310.1.2', indent=Fa…"
      ]
     },
     "metadata": {},
     "output_type": "display_data"
    },
    {
     "data": {
      "application/vnd.jupyter.widget-view+json": {
       "model_id": "713dab37381c4b048878c88c00c9d537",
       "version_major": 2,
       "version_minor": 0
      },
      "text/plain": [
       "Checkbox(value=False, description='Both stages of slab bridges supported by false work until second stage slab…"
      ]
     },
     "metadata": {},
     "output_type": "display_data"
    }
   ],
   "source": [
    "# Function to display the \"slab_bridges\" section\n",
    "def display_slab_bridges():\n",
    "    header = widgets.HTML(\"<b><u>Slab Bridges</u></b>\")\n",
    "    display(header)\n",
    "    checkboxes = []\n",
    "    for criterion in slab_bridges_criteria:\n",
    "        label = criterion[\"label\"]\n",
    "        # Append \"See BDM {section}\" if \"section\" field exists\n",
    "        if \"section\" in criterion:\n",
    "            label = f\"{label} See BDM {criterion['section']}\"\n",
    "        checkbox = widgets.Checkbox(\n",
    "            description=label,\n",
    "            value=False,\n",
    "            indent=False,\n",
    "            layout=widgets.Layout(width='100%', margin='6px 0 0 0px')\n",
    "        )\n",
    "        checkbox.style = {'description_width': '0px'}\n",
    "        checkboxes.append(checkbox)\n",
    "        display(checkbox)\n",
    "\n",
    "# Display the \"slab_bridges\" section\n",
    "display_slab_bridges()"
   ]
  },
  {
   "cell_type": "markdown",
   "id": "3a4a3f1f-16ee-4c37-9326-6d3d8c872ca0",
   "metadata": {},
   "source": [
    "## Lateral Restraint"
   ]
  },
  {
   "cell_type": "code",
   "execution_count": 39,
   "id": "4fd3df5d-94cb-40cb-b7c3-4f615f13e122",
   "metadata": {},
   "outputs": [],
   "source": [
    "# Define the lateral_restraint criteria\n",
    "lateral_restraint_criteria = [\n",
    "    {\"label\": \"Temporary lateral restraint provided to prevent rotational movement of the first stage superstructures of semi-integral bridges towards the unrestrained (no guide bearing) acute corners at stage construction joints?\"},\n",
    "    {\"label\": \"For re-decking an existing structure without a closure section, a deck slab placement procedure provided requiring relatively complete second stage deck placement before placement of second stage integral end-diaphragms?\"},\n",
    "    {\"label\": \"Semi-Integral Abutment Diaphragm Guide provided as per standard drawing SICD-2-14.\"}\n",
    "]"
   ]
  },
  {
   "cell_type": "code",
   "execution_count": 40,
   "id": "6b4152b5-5e40-4d83-a750-fc15ce8682a2",
   "metadata": {},
   "outputs": [
    {
     "data": {
      "application/vnd.jupyter.widget-view+json": {
       "model_id": "6cca5c61900449cfa5ed4b7b64a0acb1",
       "version_major": 2,
       "version_minor": 0
      },
      "text/plain": [
       "HTML(value='<b><u>Lateral Restraint</u></b>')"
      ]
     },
     "metadata": {},
     "output_type": "display_data"
    },
    {
     "data": {
      "application/vnd.jupyter.widget-view+json": {
       "model_id": "747e2659f5f5451cb41ddadde8d9cf17",
       "version_major": 2,
       "version_minor": 0
      },
      "text/plain": [
       "Checkbox(value=False, description='Temporary lateral restraint provided to prevent rotational movement of the …"
      ]
     },
     "metadata": {},
     "output_type": "display_data"
    },
    {
     "data": {
      "application/vnd.jupyter.widget-view+json": {
       "model_id": "663a132f6c954be5bd7881ba3a66290c",
       "version_major": 2,
       "version_minor": 0
      },
      "text/plain": [
       "Checkbox(value=False, description='For re-decking an existing structure without a closure section, a deck slab…"
      ]
     },
     "metadata": {},
     "output_type": "display_data"
    },
    {
     "data": {
      "application/vnd.jupyter.widget-view+json": {
       "model_id": "15ac5d63b58348e0a6579cd5cad44224",
       "version_major": 2,
       "version_minor": 0
      },
      "text/plain": [
       "Checkbox(value=False, description='Semi-Integral Abutment Diaphragm Guide provided as per standard drawing SIC…"
      ]
     },
     "metadata": {},
     "output_type": "display_data"
    }
   ],
   "source": [
    "# Function to display the \"lateral_restraint\" section\n",
    "def display_lateral_restraint():\n",
    "    header = widgets.HTML(\"<b><u>Lateral Restraint</u></b>\")\n",
    "    display(header)\n",
    "    checkboxes = []\n",
    "    for criterion in lateral_restraint_criteria:\n",
    "        label = criterion[\"label\"]\n",
    "        # Since no \"section\" exists, we use the label as-is\n",
    "        checkbox = widgets.Checkbox(\n",
    "            description=label,\n",
    "            value=False,\n",
    "            indent=False,\n",
    "            layout=widgets.Layout(width='100%', margin='6px 0 0 0px')\n",
    "        )\n",
    "        checkbox.style = {'description_width': '0px'}\n",
    "        checkboxes.append(checkbox)\n",
    "        display(checkbox)\n",
    "\n",
    "# Display the \"lateral_restraint\" section\n",
    "display_lateral_restraint()"
   ]
  },
  {
   "cell_type": "markdown",
   "id": "5265ac43-c921-4728-ba4a-59692e181abd",
   "metadata": {},
   "source": [
    "## End Dams"
   ]
  },
  {
   "cell_type": "code",
   "execution_count": 41,
   "id": "0263cbbc-a7a5-455f-80ac-22bfe7ba1f61",
   "metadata": {},
   "outputs": [],
   "source": [
    "# Define the end_dams criteria\n",
    "end_dams_criteria = [\n",
    "    {\"label\": \"Full penetration butt-welded field splices provided at or near stage construction joints for superstructure portion of the end dams?\"},\n",
    "    {\"label\": \"Bolted field splices provided for the abutment portion?\"},\n",
    "    {\"label\": \"Offset between the two splices provided to facilitate butt-welding?\"},\n",
    "    {\"label\": \"Superstructure splice located to clear beam flanges and cross frames gusset plates?\"}\n",
    "]"
   ]
  },
  {
   "cell_type": "code",
   "execution_count": 42,
   "id": "0128cb3f-30d3-49c7-ab04-6fb7c45d4b48",
   "metadata": {},
   "outputs": [
    {
     "data": {
      "application/vnd.jupyter.widget-view+json": {
       "model_id": "e16b01a6916543c6b5a15f3466aa884a",
       "version_major": 2,
       "version_minor": 0
      },
      "text/plain": [
       "HTML(value='<b><u>End Dams</u></b>')"
      ]
     },
     "metadata": {},
     "output_type": "display_data"
    },
    {
     "data": {
      "application/vnd.jupyter.widget-view+json": {
       "model_id": "feb86485782b4a0a920cc590ca4d6f6b",
       "version_major": 2,
       "version_minor": 0
      },
      "text/plain": [
       "Checkbox(value=False, description='Full penetration butt-welded field splices provided at or near stage constr…"
      ]
     },
     "metadata": {},
     "output_type": "display_data"
    },
    {
     "data": {
      "application/vnd.jupyter.widget-view+json": {
       "model_id": "8c98a0cc8f2a4ca7b515c7de0b525207",
       "version_major": 2,
       "version_minor": 0
      },
      "text/plain": [
       "Checkbox(value=False, description='Bolted field splices provided for the abutment portion?', indent=False, lay…"
      ]
     },
     "metadata": {},
     "output_type": "display_data"
    },
    {
     "data": {
      "application/vnd.jupyter.widget-view+json": {
       "model_id": "8a6e842093e44f5b884ae00d5accc094",
       "version_major": 2,
       "version_minor": 0
      },
      "text/plain": [
       "Checkbox(value=False, description='Offset between the two splices provided to facilitate butt-welding?', inden…"
      ]
     },
     "metadata": {},
     "output_type": "display_data"
    },
    {
     "data": {
      "application/vnd.jupyter.widget-view+json": {
       "model_id": "a85e118cebe54c08a9b70226e93dc086",
       "version_major": 2,
       "version_minor": 0
      },
      "text/plain": [
       "Checkbox(value=False, description='Superstructure splice located to clear beam flanges and cross frames gusset…"
      ]
     },
     "metadata": {},
     "output_type": "display_data"
    }
   ],
   "source": [
    "# Function to display the \"end_dams\" section\n",
    "def display_end_dams():\n",
    "    header = widgets.HTML(\"<b><u>End Dams</u></b>\")\n",
    "    display(header)\n",
    "    checkboxes = []\n",
    "    for criterion in end_dams_criteria:\n",
    "        label = criterion[\"label\"]\n",
    "        # Display the label directly as no \"section\" field exists\n",
    "        checkbox = widgets.Checkbox(\n",
    "            description=label,\n",
    "            value=False,\n",
    "            indent=False,\n",
    "            layout=widgets.Layout(width='100%', margin='6px 0 0 0px')\n",
    "        )\n",
    "        checkbox.style = {'description_width': '0px'}\n",
    "        checkboxes.append(checkbox)\n",
    "        display(checkbox)\n",
    "\n",
    "# Display the \"end_dams\" section\n",
    "display_end_dams()"
   ]
  },
  {
   "cell_type": "markdown",
   "id": "95d76f1e-97b1-4fff-ba34-6c758b37e30f",
   "metadata": {},
   "source": [
    "## Stage Construction - Miscellaneous"
   ]
  },
  {
   "cell_type": "code",
   "execution_count": 43,
   "id": "d918f9d0-a0df-4f9d-91d0-14fd90f29bd7",
   "metadata": {},
   "outputs": [],
   "source": [
    "# Define the stage_cons_misc criteria\n",
    "stage_cons_misc_criteria = [\n",
    "    {\"label\": \"Removal limits clearly shown or are apparent? Cross-hatching used to designate removal areas?\"},\n",
    "    {\"label\": \"Removal Cut lines: Full-depth saw cut-lines specified for deck slab removals where the integrity of the slab is needed to support temporary railing? Cut-lines shown on plan and/or elevation views of substructure?\", \"section\": \"201.2.6\"},\n",
    "    {\"label\": \"Construction Access: Adequate space provided between Stage 1 construction and the remainder of the existing structure for temporary sheeting and form construction?\"},\n",
    "    {\"label\": \"Closure Placements: 2'-6\\\" minimum wide third stage closure section provided for “new\\\" stringer superstructures?\", \"section\": \"309.3.8.5\"},\n",
    "    {\"label\": \"Are stage construction joints shown in all relevant views?\"},\n",
    "    {\"label\": \"Cofferdam Sheeting: Vertical clearance available under 20 + feet) and/or adjacent to the existing structure to permit driving sheeting? Plan details shown tentative position of such sheeting where clearances are tight?\"},\n",
    "    {\"label\": \"Provisions made for the complete or partial removal of temporary railing anchors and the grouting of resulting voids?\"},\n",
    "    {\"label\": \"Roadway Item 614: Note provided referring to roadway plans for other temporary railing details and to Item 614 (roadway plans) for payment?\"},\n",
    "    {\"label\": \"Approach slab details provided showing the same railing type as used on the bridge and with the same limiting edge clearances and/or anchorage (unless a different type of anchorage has been provided)?\"},\n",
    "    {\"label\": \"Joint Type: An expansion or contraction joint used in lieu of a stage \\\"construction\\\" joint to simplify construction by eliminated lap splicing or mechanical connector splicing of reinforcing steel, where appropriate? (Abutment back walls, breast walls and certain pier walls, etc.)\"},\n",
    "    {\"label\": \"Differential Shear: Vertical construction joints provided with shear keys and generous transverse reinforcement to resist the potentially high shear forces induced by differential deformation of foundations (piles, soil, etc.)? Formed joint surfaces artificially roughened to improve shear resistance\", \"section\": \"LRFD 5.8.4\"},\n",
    "    {\"label\": \"Battered Piles: Room adjacent to the existing structure to drive piles? Batter piles? New piles clear existing battered piles? Sufficient room available for pile length and leads to position batter piles for driving?\"},\n",
    "    {\"label\": \"Screed Elevations: The presence or absence of cross frames at stage construction joints on stringer deflection taken into account when establishing screed elevations at stage construction joints.\"},\n",
    "    {\"label\": \"Integral Construction: Closure sections provided in bridges for both the deck slab and integral end-diaphragms?\", \"section\": \"306.2.2.5\"},\n",
    "    {\"label\": \"Elastomer Seals: Note provided requiring seals for each joint to be installed in one continuous piece?\"},\n",
    "    {\"label\": \"Drain Pipes: Abut porous backfill drain pipes terminated and capped on both sides of temporary sheeting?\"},\n",
    "    {\"label\": \"Utility conduits located clear of stage construction joints and temporary sheeting?\"},\n",
    "    {\"label\": \"The design for adhesive concrete anchors shall be in accordance with AASHTO LRFD Section 513.\"}\n",
    "]"
   ]
  },
  {
   "cell_type": "code",
   "execution_count": 44,
   "id": "550bf145-9387-41b5-8229-f31f8f35d4f7",
   "metadata": {},
   "outputs": [
    {
     "data": {
      "application/vnd.jupyter.widget-view+json": {
       "model_id": "e429633226f54125b4decd187bacaa90",
       "version_major": 2,
       "version_minor": 0
      },
      "text/plain": [
       "HTML(value='<b><u>Stage Construction: Miscellaneous</u></b>')"
      ]
     },
     "metadata": {},
     "output_type": "display_data"
    },
    {
     "data": {
      "application/vnd.jupyter.widget-view+json": {
       "model_id": "b0785b2ecb1e4fc1a3f86277653d959a",
       "version_major": 2,
       "version_minor": 0
      },
      "text/plain": [
       "Checkbox(value=False, description='Removal limits clearly shown or are apparent? Cross-hatching used to design…"
      ]
     },
     "metadata": {},
     "output_type": "display_data"
    },
    {
     "data": {
      "application/vnd.jupyter.widget-view+json": {
       "model_id": "4261b554db6540d4b7cb7ab3e49c41fc",
       "version_major": 2,
       "version_minor": 0
      },
      "text/plain": [
       "Checkbox(value=False, description='Removal Cut lines: Full-depth saw cut-lines specified for deck slab removal…"
      ]
     },
     "metadata": {},
     "output_type": "display_data"
    },
    {
     "data": {
      "application/vnd.jupyter.widget-view+json": {
       "model_id": "47a7194207a0490181e478a3935b170a",
       "version_major": 2,
       "version_minor": 0
      },
      "text/plain": [
       "Checkbox(value=False, description='Construction Access: Adequate space provided between Stage 1 construction a…"
      ]
     },
     "metadata": {},
     "output_type": "display_data"
    },
    {
     "data": {
      "application/vnd.jupyter.widget-view+json": {
       "model_id": "769514841d0b48e2b9b7a92b5d2b1c59",
       "version_major": 2,
       "version_minor": 0
      },
      "text/plain": [
       "Checkbox(value=False, description='Closure Placements: 2\\'-6\" minimum wide third stage closure section provide…"
      ]
     },
     "metadata": {},
     "output_type": "display_data"
    },
    {
     "data": {
      "application/vnd.jupyter.widget-view+json": {
       "model_id": "6278ae5af40941c9ac447266d411f992",
       "version_major": 2,
       "version_minor": 0
      },
      "text/plain": [
       "Checkbox(value=False, description='Are stage construction joints shown in all relevant views?', indent=False, …"
      ]
     },
     "metadata": {},
     "output_type": "display_data"
    },
    {
     "data": {
      "application/vnd.jupyter.widget-view+json": {
       "model_id": "fe227b310b3f4f768b3bbe667a432b78",
       "version_major": 2,
       "version_minor": 0
      },
      "text/plain": [
       "Checkbox(value=False, description='Cofferdam Sheeting: Vertical clearance available under 20 + feet) and/or ad…"
      ]
     },
     "metadata": {},
     "output_type": "display_data"
    },
    {
     "data": {
      "application/vnd.jupyter.widget-view+json": {
       "model_id": "3fdad648c754466e985cfd7847da2c83",
       "version_major": 2,
       "version_minor": 0
      },
      "text/plain": [
       "Checkbox(value=False, description='Provisions made for the complete or partial removal of temporary railing an…"
      ]
     },
     "metadata": {},
     "output_type": "display_data"
    },
    {
     "data": {
      "application/vnd.jupyter.widget-view+json": {
       "model_id": "174fd20a647448f6910f10e93b16cc9e",
       "version_major": 2,
       "version_minor": 0
      },
      "text/plain": [
       "Checkbox(value=False, description='Roadway Item 614: Note provided referring to roadway plans for other tempor…"
      ]
     },
     "metadata": {},
     "output_type": "display_data"
    },
    {
     "data": {
      "application/vnd.jupyter.widget-view+json": {
       "model_id": "9d4c9e9f39804ba4b808ad9b965930ee",
       "version_major": 2,
       "version_minor": 0
      },
      "text/plain": [
       "Checkbox(value=False, description='Approach slab details provided showing the same railing type as used on the…"
      ]
     },
     "metadata": {},
     "output_type": "display_data"
    },
    {
     "data": {
      "application/vnd.jupyter.widget-view+json": {
       "model_id": "97b901d965f54322b0f991f270dd2736",
       "version_major": 2,
       "version_minor": 0
      },
      "text/plain": [
       "Checkbox(value=False, description='Joint Type: An expansion or contraction joint used in lieu of a stage \"cons…"
      ]
     },
     "metadata": {},
     "output_type": "display_data"
    },
    {
     "data": {
      "application/vnd.jupyter.widget-view+json": {
       "model_id": "08608c5e566a43c3b83fa77d95b433d1",
       "version_major": 2,
       "version_minor": 0
      },
      "text/plain": [
       "Checkbox(value=False, description='Differential Shear: Vertical construction joints provided with shear keys a…"
      ]
     },
     "metadata": {},
     "output_type": "display_data"
    },
    {
     "data": {
      "application/vnd.jupyter.widget-view+json": {
       "model_id": "f0b823d3e3254a59a675c9a731b99001",
       "version_major": 2,
       "version_minor": 0
      },
      "text/plain": [
       "Checkbox(value=False, description='Battered Piles: Room adjacent to the existing structure to drive piles? Bat…"
      ]
     },
     "metadata": {},
     "output_type": "display_data"
    },
    {
     "data": {
      "application/vnd.jupyter.widget-view+json": {
       "model_id": "9ab2a9fa19ca45f189e4094b5ce4af28",
       "version_major": 2,
       "version_minor": 0
      },
      "text/plain": [
       "Checkbox(value=False, description='Screed Elevations: The presence or absence of cross frames at stage constru…"
      ]
     },
     "metadata": {},
     "output_type": "display_data"
    },
    {
     "data": {
      "application/vnd.jupyter.widget-view+json": {
       "model_id": "6c6f065aafb54dada42ef942d0a4454c",
       "version_major": 2,
       "version_minor": 0
      },
      "text/plain": [
       "Checkbox(value=False, description='Integral Construction: Closure sections provided in bridges for both the de…"
      ]
     },
     "metadata": {},
     "output_type": "display_data"
    },
    {
     "data": {
      "application/vnd.jupyter.widget-view+json": {
       "model_id": "b3787c9de72d4ae69abeed6b7ffdff6e",
       "version_major": 2,
       "version_minor": 0
      },
      "text/plain": [
       "Checkbox(value=False, description='Elastomer Seals: Note provided requiring seals for each joint to be install…"
      ]
     },
     "metadata": {},
     "output_type": "display_data"
    },
    {
     "data": {
      "application/vnd.jupyter.widget-view+json": {
       "model_id": "ef4f059f697f41268c0a1ac69ab64d86",
       "version_major": 2,
       "version_minor": 0
      },
      "text/plain": [
       "Checkbox(value=False, description='Drain Pipes: Abut porous backfill drain pipes terminated and capped on both…"
      ]
     },
     "metadata": {},
     "output_type": "display_data"
    },
    {
     "data": {
      "application/vnd.jupyter.widget-view+json": {
       "model_id": "468f2a04a3fd422688f923af6f7bf69d",
       "version_major": 2,
       "version_minor": 0
      },
      "text/plain": [
       "Checkbox(value=False, description='Utility conduits located clear of stage construction joints and temporary s…"
      ]
     },
     "metadata": {},
     "output_type": "display_data"
    },
    {
     "data": {
      "application/vnd.jupyter.widget-view+json": {
       "model_id": "7b10a121f39f4d41adafc8146c344aec",
       "version_major": 2,
       "version_minor": 0
      },
      "text/plain": [
       "Checkbox(value=False, description='The design for adhesive concrete anchors shall be in accordance with AASHTO…"
      ]
     },
     "metadata": {},
     "output_type": "display_data"
    }
   ],
   "source": [
    "# Function to display the \"stage_cons_misc\" section\n",
    "def display_stage_cons_misc():\n",
    "    header = widgets.HTML(\"<b><u>Stage Construction: Miscellaneous</u></b>\")\n",
    "    display(header)\n",
    "    checkboxes = []\n",
    "    for criterion in stage_cons_misc_criteria:\n",
    "        label = criterion[\"label\"]\n",
    "        # Append \"See BDM {section}\" if \"section\" field exists\n",
    "        if \"section\" in criterion:\n",
    "            label = f\"{label} See BDM {criterion['section']}\"\n",
    "        checkbox = widgets.Checkbox(\n",
    "            description=label,\n",
    "            value=False,\n",
    "            indent=False,\n",
    "            layout=widgets.Layout(width='100%', margin='6px 0 0 0px')\n",
    "        )\n",
    "        checkbox.style = {'description_width': '0px'}\n",
    "        checkboxes.append(checkbox)\n",
    "        display(checkbox)\n",
    "\n",
    "# Display the \"stage_cons_misc\" section\n",
    "display_stage_cons_misc()"
   ]
  },
  {
   "cell_type": "markdown",
   "id": "611e7124-52d5-4d88-84f9-b0d79976d5a5",
   "metadata": {},
   "source": [
    "# Superstructure\n",
    "\n",
    "Design checklist question - \n",
    "\n",
    "Does the project involve Superstructure Design?"
   ]
  },
  {
   "cell_type": "code",
   "execution_count": 45,
   "id": "27a5f4a7-ec6c-47cb-a069-f8190eea9c91",
   "metadata": {},
   "outputs": [
    {
     "name": "stdout",
     "output_type": "stream",
     "text": [
      "Select the superstructure components included in the project scope\n"
     ]
    },
    {
     "data": {
      "application/vnd.jupyter.widget-view+json": {
       "model_id": "d36485b9328745c0a98ba2696b264067",
       "version_major": 2,
       "version_minor": 0
      },
      "text/plain": [
       "SelectMultiple(description='Select: ', options=(None, 'Slab', 'Prestressed Concrete Box Beams', 'Prestressed C…"
      ]
     },
     "metadata": {},
     "output_type": "display_data"
    }
   ],
   "source": [
    "print('Select the superstructure components included in the project scope')\n",
    "\n",
    "superstructure_work = widgets.SelectMultiple(\n",
    "    options=[\n",
    "        None, \n",
    "        'Slab', \n",
    "        'Prestressed Concrete Box Beams', \n",
    "        'Prestressed Concrete I-Beams', \n",
    "        'Steel Stringers',\n",
    "        'Railing/Fence',\n",
    "        'Bearings',\n",
    "        'Deck Joints',\n",
    "        'Deck Drainage',\n",
    "        'Utilities',\n",
    "        'Structure Grounding',\n",
    "        'Approach Slab'\n",
    "    ],\n",
    "    value=[],\n",
    "    description='Select: ',\n",
    "    rows=12,\n",
    "    disabled=False\n",
    ")\n",
    "\n",
    "display(superstructure_work)"
   ]
  },
  {
   "cell_type": "markdown",
   "id": "7a5e2919-ce4c-425d-a020-9ee2533acdf6",
   "metadata": {},
   "source": [
    "## Slab"
   ]
  },
  {
   "cell_type": "code",
   "execution_count": 46,
   "id": "e2fa3af8-afa5-4ebc-b0a7-c6c5d2cbbd28",
   "metadata": {},
   "outputs": [],
   "source": [
    "# Define the slab criteria\n",
    "slab_criteria = [\n",
    "    {\"label\": \"Sealing of concrete surfaces shown and appropriate?\", \"section\": \"306.1.2\"},\n",
    "    {\"label\": \"Stainless steel drip strip provided on decks with over-the-side drainage?\", \"section\": \"309.2 and 309.7\"},\n",
    "    {\"label\": \"Verify reinforcing steel accommodate HL-93 loading.\"},\n",
    "    {\"label\": \"Lap lengths to other bars.\"},\n",
    "    {\"label\": \"Centerline of bearing stations\"},\n",
    "    {\"label\": \"Continuous Deck Slab Placement Detail.\", \"section\": \"ODOT STD. DWG. PSID-1-13\"}\n",
    "]"
   ]
  },
  {
   "cell_type": "code",
   "execution_count": 47,
   "id": "36642307-9f41-4029-aa54-3e355f978c6c",
   "metadata": {},
   "outputs": [
    {
     "data": {
      "application/vnd.jupyter.widget-view+json": {
       "model_id": "942fa4d6a49f4842b80ef8b0beab56f3",
       "version_major": 2,
       "version_minor": 0
      },
      "text/plain": [
       "HTML(value='<b><u>Slab</u></b>')"
      ]
     },
     "metadata": {},
     "output_type": "display_data"
    },
    {
     "data": {
      "application/vnd.jupyter.widget-view+json": {
       "model_id": "a1c5bfb6e50547dbbdc60f8e48d8e6cf",
       "version_major": 2,
       "version_minor": 0
      },
      "text/plain": [
       "Checkbox(value=False, description='Sealing of concrete surfaces shown and appropriate? See BDM 306.1.2', inden…"
      ]
     },
     "metadata": {},
     "output_type": "display_data"
    },
    {
     "data": {
      "application/vnd.jupyter.widget-view+json": {
       "model_id": "e7a69e533fe144bb99ed309245af2970",
       "version_major": 2,
       "version_minor": 0
      },
      "text/plain": [
       "Checkbox(value=False, description='Stainless steel drip strip provided on decks with over-the-side drainage? S…"
      ]
     },
     "metadata": {},
     "output_type": "display_data"
    },
    {
     "data": {
      "application/vnd.jupyter.widget-view+json": {
       "model_id": "fc3f1ac54a514ac5bb7c189bc830dc1e",
       "version_major": 2,
       "version_minor": 0
      },
      "text/plain": [
       "Checkbox(value=False, description='Verify reinforcing steel accommodate HL-93 loading.', indent=False, layout=…"
      ]
     },
     "metadata": {},
     "output_type": "display_data"
    },
    {
     "data": {
      "application/vnd.jupyter.widget-view+json": {
       "model_id": "53364cd40fa14d3e86fb8f3b4eaece8b",
       "version_major": 2,
       "version_minor": 0
      },
      "text/plain": [
       "Checkbox(value=False, description='Lap lengths to other bars.', indent=False, layout=Layout(margin='6px 0 0 0p…"
      ]
     },
     "metadata": {},
     "output_type": "display_data"
    },
    {
     "data": {
      "application/vnd.jupyter.widget-view+json": {
       "model_id": "e7d3d72ac1f7489f8a3efaf6a29a2724",
       "version_major": 2,
       "version_minor": 0
      },
      "text/plain": [
       "Checkbox(value=False, description='Centerline of bearing stations', indent=False, layout=Layout(margin='6px 0 …"
      ]
     },
     "metadata": {},
     "output_type": "display_data"
    },
    {
     "data": {
      "application/vnd.jupyter.widget-view+json": {
       "model_id": "03118881c8e14dc484d9350cbc061c6b",
       "version_major": 2,
       "version_minor": 0
      },
      "text/plain": [
       "Checkbox(value=False, description='Continuous Deck Slab Placement Detail. See BDM ODOT STD. DWG. PSID-1-13', i…"
      ]
     },
     "metadata": {},
     "output_type": "display_data"
    }
   ],
   "source": [
    "# Function to display the \"slab\" section\n",
    "def display_slab():\n",
    "    header = widgets.HTML(\"<b><u>Slab</u></b>\")\n",
    "    display(header)\n",
    "    checkboxes = []\n",
    "    for criterion in slab_criteria:\n",
    "        label = criterion[\"label\"]\n",
    "        # Append \"See BDM {section}\" if \"section\" field exists\n",
    "        if \"section\" in criterion:\n",
    "            label = f\"{label} See BDM {criterion['section']}\"\n",
    "        checkbox = widgets.Checkbox(\n",
    "            description=label,\n",
    "            value=False,\n",
    "            indent=False,\n",
    "            layout=widgets.Layout(width='100%', margin='6px 0 0 0px')\n",
    "        )\n",
    "        checkbox.style = {'description_width': '0px'}\n",
    "        checkboxes.append(checkbox)\n",
    "        display(checkbox)\n",
    "\n",
    "# Display the \"slab\" section\n",
    "display_slab()"
   ]
  },
  {
   "cell_type": "markdown",
   "id": "f4874226-f2c2-454d-baa0-8086380f5cca",
   "metadata": {},
   "source": [
    "## Prestressed Concrete Box Beams"
   ]
  },
  {
   "cell_type": "code",
   "execution_count": 48,
   "id": "06f323db-dcc3-44a1-b785-f004e08a8093",
   "metadata": {},
   "outputs": [],
   "source": [
    "# Define the prestressed_concrete_box criteria\n",
    "prestressed_concrete_box_criteria = [\n",
    "    {\"label\": \"For multiple span bridges, has the superstructure been detailed as continuous as per Standard Drawing PSBD-2-07?\", \"section\": \"308.2.3.3\"},\n",
    "    {\"label\": \"Multiple span bridges of less than 200-foot total length with flexible piers and abutments fixed at all substructure units?\"},\n",
    "    {\"label\": \"Standard Drawings PSBD-2-07 has been reviewed and items required by it provided? It is not intended that details and notes shown on the Standard Drawing be repeated unnecessarily.\"},\n",
    "    {\"label\": \"All beams anchored?\", \"section\": \"308.2.3.3f\"},\n",
    "    {\"label\": \"Membrane waterproofing (Type 3) used on all non-composite box beam Bridge?\", \"section\": \"308.2.3.3d\"},\n",
    "    {\"label\": \"For bridge with poured sealant joints, has waterproofing been extended 2 feet past the bridge limits?\", \"section\": \"CMS 512.08H\"},\n",
    "    {\"label\": \"Two-inch spacing or multiple thereof provided between strands? If space permits, place all strands in bottom row.\", \"section\": \"302.5.1.2.b\"},\n",
    "    {\"label\": \"Location, length, and number of debonded strands shown?\", \"section\": \"308.2.3.4a\"},\n",
    "    {\"label\": \"Additional strand debonding and supplemental mild reinforcing steel provided at beam ends for skews over 30 degrees? Limit box beam to 30-degree skew or less except rare occasions approved by Office of Structural Engineering.\"},\n",
    "    {\"label\": \"Strands and rebars miss anchor, diaphragm, and bearing rod holes? Are there any conflicts between strands, rebars, tie-rod holes, beam anchor rod holes, rail post anchors, joint armor, etc.?\", \"section\": \"PSBD-2-07\"},\n",
    "    {\"label\": \"PEJF specified as grout retainer at dowels and under beam connection at piers?\", \"section\": \"Standard Drawing PSBD-2-07\"},\n",
    "    {\"label\": \"Two bearings provided for each box beam?\", \"section\": \"308.2.3.3\"},\n",
    "    {\"label\": \"Proper camber/wearing surface notes used?\", \"section\": \"702.7\"},\n",
    "    {\"label\": \"Wearing surface/composite topping thickness diagram shown?\", \"section\": \"308.2.3.4b\"},\n",
    "    {\"label\": \"If over-the-side drainage will occur, has a drip strip been specified? Reference should be made to Standard Drawing DS-1-92.\"},\n",
    "    {\"label\": \"Sealing of concrete surfaces provided as directed in\", \"section\": \"309.2.1.D\"},\n",
    "    {\"label\": \"Shear key mortar finishing detail shown? (Not required for composite concrete decks)\", \"section\": \"PSBD-2-07\"},\n",
    "    {\"label\": \"Sufficient dimensions furnished for the beam fabricator to locate the railing post anchors? Have location of inserts for stage construction temporary railing shown? Has conflict between post anchors and tie rods and/or T-section been avoided?\", \"section\": \"308.2.3.3\"},\n",
    "    {\"label\": \"Proper allowances for fit-up between beams accounted for and shown?\", \"section\": \"308.2.3.3\"},\n",
    "    {\"label\": \"Maximum of three beams tied together by one tie-rod?\", \"section\": \"PSBD-2-07\"},\n",
    "    {\"label\": \"Transverse tie-rods provided at abutment ends and located per\", \"section\": \"308.2.3.3g\"},\n",
    "    {\"label\": \"For non-composite design, is asphalt thickness 8 inches or less?\", \"section\": \"308.2.3\"},\n",
    "    {\"label\": \"For multiple span bridges, has the same beam depth been specified for all spans?\", \"section\": \"308.2.3\"},\n",
    "    {\"label\": \"For beams greater than 100 ft. long, for concrete release strength greater than 5 ksi, and for 28 days concrete strength greater than 7 ksi, provide a letter per\", \"section\": \"308.2.3\"},\n",
    "    {\"label\": \"Strand location and clearance consistent with PSBD-2-07.\"},\n",
    "    {\"label\": \"Diaphragms and tie rods located\", \"section\": \"308.2.3.3g\"},\n",
    "    {\"label\": \"For composite box beams, six-inch minimum slab thickness specified?\", \"section\": \"308.2.3.3.c\"},\n",
    "    {\"label\": \"No. 6 at 18 inches longitudinal and No. 6 at 9 inches transverse bars specified\", \"section\": \"308.2.3.3.c\"},\n",
    "    {\"label\": \"Additional bars over piers specified to meet the requirements of\", \"section\": \"308.2.3.3.c and LRFD 5.10.8.1.2c\"},\n",
    "    {\"label\": \"Epoxy coated bars (Grade 60) specified in the composite slab?\", \"section\": \"304.4\"},\n",
    "    {\"label\": \"Bars projecting from beam into composite slab specified as epoxy coated?\", \"section\": \"304.4\"},\n",
    "    {\"label\": \"Construction joint shown between the cast-in-place 'T' section at piers and the composite slab?\"},\n",
    "    {\"label\": \"The effect that the longitudinal grade has on dimensions measured along a beam’s length addressed in the plans?\", \"section\": \"308.2.3.2\"},\n",
    "    {\"label\": \"Verify that design uses severe corrosive factor as per Section S.5.9.2.3.2b by changing the design parameter in Conspan. The limiting stress factor for tension (service III) should be .0948 instead of 0.19.\"}\n",
    "]"
   ]
  },
  {
   "cell_type": "code",
   "execution_count": 49,
   "id": "dbecedf0-64a5-4ff3-8d1f-ca053e27dd97",
   "metadata": {},
   "outputs": [
    {
     "data": {
      "application/vnd.jupyter.widget-view+json": {
       "model_id": "0835ec2a886541e68d7fc079be575ca9",
       "version_major": 2,
       "version_minor": 0
      },
      "text/plain": [
       "HTML(value='<b><u>Prestressed Concrete Box</u></b>')"
      ]
     },
     "metadata": {},
     "output_type": "display_data"
    },
    {
     "data": {
      "application/vnd.jupyter.widget-view+json": {
       "model_id": "eacdc6c283424421b9ce53d68ed28428",
       "version_major": 2,
       "version_minor": 0
      },
      "text/plain": [
       "Checkbox(value=False, description='For multiple span bridges, has the superstructure been detailed as continuo…"
      ]
     },
     "metadata": {},
     "output_type": "display_data"
    },
    {
     "data": {
      "application/vnd.jupyter.widget-view+json": {
       "model_id": "2fb563857a054b99b3a7349f510134fd",
       "version_major": 2,
       "version_minor": 0
      },
      "text/plain": [
       "Checkbox(value=False, description='Multiple span bridges of less than 200-foot total length with flexible pier…"
      ]
     },
     "metadata": {},
     "output_type": "display_data"
    },
    {
     "data": {
      "application/vnd.jupyter.widget-view+json": {
       "model_id": "e6bae0eb232445998a7de2ec1465d14c",
       "version_major": 2,
       "version_minor": 0
      },
      "text/plain": [
       "Checkbox(value=False, description='Standard Drawings PSBD-2-07 has been reviewed and items required by it prov…"
      ]
     },
     "metadata": {},
     "output_type": "display_data"
    },
    {
     "data": {
      "application/vnd.jupyter.widget-view+json": {
       "model_id": "9b7721aabc04433fa0f84906f306c893",
       "version_major": 2,
       "version_minor": 0
      },
      "text/plain": [
       "Checkbox(value=False, description='All beams anchored? See BDM 308.2.3.3f', indent=False, layout=Layout(margin…"
      ]
     },
     "metadata": {},
     "output_type": "display_data"
    },
    {
     "data": {
      "application/vnd.jupyter.widget-view+json": {
       "model_id": "f2a1e986cdf34ce79387260413c6e8d2",
       "version_major": 2,
       "version_minor": 0
      },
      "text/plain": [
       "Checkbox(value=False, description='Membrane waterproofing (Type 3) used on all non-composite box beam Bridge? …"
      ]
     },
     "metadata": {},
     "output_type": "display_data"
    },
    {
     "data": {
      "application/vnd.jupyter.widget-view+json": {
       "model_id": "1e3f78bc31de465db421b81d52a51a96",
       "version_major": 2,
       "version_minor": 0
      },
      "text/plain": [
       "Checkbox(value=False, description='For bridge with poured sealant joints, has waterproofing been extended 2 fe…"
      ]
     },
     "metadata": {},
     "output_type": "display_data"
    },
    {
     "data": {
      "application/vnd.jupyter.widget-view+json": {
       "model_id": "78c2fab8d1fd44fab8e0c0a9470efcfd",
       "version_major": 2,
       "version_minor": 0
      },
      "text/plain": [
       "Checkbox(value=False, description='Two-inch spacing or multiple thereof provided between strands? If space per…"
      ]
     },
     "metadata": {},
     "output_type": "display_data"
    },
    {
     "data": {
      "application/vnd.jupyter.widget-view+json": {
       "model_id": "c76926e8b2284d1dbdaa3bf9ae5559eb",
       "version_major": 2,
       "version_minor": 0
      },
      "text/plain": [
       "Checkbox(value=False, description='Location, length, and number of debonded strands shown? See BDM 308.2.3.4a'…"
      ]
     },
     "metadata": {},
     "output_type": "display_data"
    },
    {
     "data": {
      "application/vnd.jupyter.widget-view+json": {
       "model_id": "8a3d0511eaac49b98f206bf6ea26b817",
       "version_major": 2,
       "version_minor": 0
      },
      "text/plain": [
       "Checkbox(value=False, description='Additional strand debonding and supplemental mild reinforcing steel provide…"
      ]
     },
     "metadata": {},
     "output_type": "display_data"
    },
    {
     "data": {
      "application/vnd.jupyter.widget-view+json": {
       "model_id": "e80cc6e8e3d3499c8c67c11c7c037be0",
       "version_major": 2,
       "version_minor": 0
      },
      "text/plain": [
       "Checkbox(value=False, description='Strands and rebars miss anchor, diaphragm, and bearing rod holes? Are there…"
      ]
     },
     "metadata": {},
     "output_type": "display_data"
    },
    {
     "data": {
      "application/vnd.jupyter.widget-view+json": {
       "model_id": "ae4458b387c84726bd0ef0cdbb646ac6",
       "version_major": 2,
       "version_minor": 0
      },
      "text/plain": [
       "Checkbox(value=False, description='PEJF specified as grout retainer at dowels and under beam connection at pie…"
      ]
     },
     "metadata": {},
     "output_type": "display_data"
    },
    {
     "data": {
      "application/vnd.jupyter.widget-view+json": {
       "model_id": "ef3afbde67fb4cd8b0b725fbaf4e0945",
       "version_major": 2,
       "version_minor": 0
      },
      "text/plain": [
       "Checkbox(value=False, description='Two bearings provided for each box beam? See BDM 308.2.3.3', indent=False, …"
      ]
     },
     "metadata": {},
     "output_type": "display_data"
    },
    {
     "data": {
      "application/vnd.jupyter.widget-view+json": {
       "model_id": "89f9bd05721643e1a03552f98dbee5ed",
       "version_major": 2,
       "version_minor": 0
      },
      "text/plain": [
       "Checkbox(value=False, description='Proper camber/wearing surface notes used? See BDM 702.7', indent=False, lay…"
      ]
     },
     "metadata": {},
     "output_type": "display_data"
    },
    {
     "data": {
      "application/vnd.jupyter.widget-view+json": {
       "model_id": "77b1eb1fa3674b0db69aef974257bcb3",
       "version_major": 2,
       "version_minor": 0
      },
      "text/plain": [
       "Checkbox(value=False, description='Wearing surface/composite topping thickness diagram shown? See BDM 308.2.3.…"
      ]
     },
     "metadata": {},
     "output_type": "display_data"
    },
    {
     "data": {
      "application/vnd.jupyter.widget-view+json": {
       "model_id": "3477ea0be47d4f28abf2e779ae8d4310",
       "version_major": 2,
       "version_minor": 0
      },
      "text/plain": [
       "Checkbox(value=False, description='If over-the-side drainage will occur, has a drip strip been specified? Refe…"
      ]
     },
     "metadata": {},
     "output_type": "display_data"
    },
    {
     "data": {
      "application/vnd.jupyter.widget-view+json": {
       "model_id": "ebc11c9a629b45bb977aaed4e6a90dd2",
       "version_major": 2,
       "version_minor": 0
      },
      "text/plain": [
       "Checkbox(value=False, description='Sealing of concrete surfaces provided as directed in See BDM 309.2.1.D', in…"
      ]
     },
     "metadata": {},
     "output_type": "display_data"
    },
    {
     "data": {
      "application/vnd.jupyter.widget-view+json": {
       "model_id": "c0830a16ddeb44398687bf041f0be310",
       "version_major": 2,
       "version_minor": 0
      },
      "text/plain": [
       "Checkbox(value=False, description='Shear key mortar finishing detail shown? (Not required for composite concre…"
      ]
     },
     "metadata": {},
     "output_type": "display_data"
    },
    {
     "data": {
      "application/vnd.jupyter.widget-view+json": {
       "model_id": "a5b6537841b14f459dc34b0e60446959",
       "version_major": 2,
       "version_minor": 0
      },
      "text/plain": [
       "Checkbox(value=False, description='Sufficient dimensions furnished for the beam fabricator to locate the raili…"
      ]
     },
     "metadata": {},
     "output_type": "display_data"
    },
    {
     "data": {
      "application/vnd.jupyter.widget-view+json": {
       "model_id": "1e4d1c1ee8924764bf3bc696c155d60f",
       "version_major": 2,
       "version_minor": 0
      },
      "text/plain": [
       "Checkbox(value=False, description='Proper allowances for fit-up between beams accounted for and shown? See BDM…"
      ]
     },
     "metadata": {},
     "output_type": "display_data"
    },
    {
     "data": {
      "application/vnd.jupyter.widget-view+json": {
       "model_id": "64692cde855744548b1679b8289b6a1b",
       "version_major": 2,
       "version_minor": 0
      },
      "text/plain": [
       "Checkbox(value=False, description='Maximum of three beams tied together by one tie-rod? See BDM PSBD-2-07', in…"
      ]
     },
     "metadata": {},
     "output_type": "display_data"
    },
    {
     "data": {
      "application/vnd.jupyter.widget-view+json": {
       "model_id": "4ac5b2c66ced44d3bdd23d9e98a8c4a6",
       "version_major": 2,
       "version_minor": 0
      },
      "text/plain": [
       "Checkbox(value=False, description='Transverse tie-rods provided at abutment ends and located per See BDM 308.2…"
      ]
     },
     "metadata": {},
     "output_type": "display_data"
    },
    {
     "data": {
      "application/vnd.jupyter.widget-view+json": {
       "model_id": "687aced38a0d450ba2e9db3bdf112804",
       "version_major": 2,
       "version_minor": 0
      },
      "text/plain": [
       "Checkbox(value=False, description='For non-composite design, is asphalt thickness 8 inches or less? See BDM 30…"
      ]
     },
     "metadata": {},
     "output_type": "display_data"
    },
    {
     "data": {
      "application/vnd.jupyter.widget-view+json": {
       "model_id": "5bf2be7718324da9a78fa73ac834b9fc",
       "version_major": 2,
       "version_minor": 0
      },
      "text/plain": [
       "Checkbox(value=False, description='For multiple span bridges, has the same beam depth been specified for all s…"
      ]
     },
     "metadata": {},
     "output_type": "display_data"
    },
    {
     "data": {
      "application/vnd.jupyter.widget-view+json": {
       "model_id": "ee277ad367f44b0689443441707b5c76",
       "version_major": 2,
       "version_minor": 0
      },
      "text/plain": [
       "Checkbox(value=False, description='For beams greater than 100 ft. long, for concrete release strength greater …"
      ]
     },
     "metadata": {},
     "output_type": "display_data"
    },
    {
     "data": {
      "application/vnd.jupyter.widget-view+json": {
       "model_id": "ae77697c196d4a03810516a065612cac",
       "version_major": 2,
       "version_minor": 0
      },
      "text/plain": [
       "Checkbox(value=False, description='Strand location and clearance consistent with PSBD-2-07.', indent=False, la…"
      ]
     },
     "metadata": {},
     "output_type": "display_data"
    },
    {
     "data": {
      "application/vnd.jupyter.widget-view+json": {
       "model_id": "57c8d6c4a9024b278820c86a4f91bbbb",
       "version_major": 2,
       "version_minor": 0
      },
      "text/plain": [
       "Checkbox(value=False, description='Diaphragms and tie rods located See BDM 308.2.3.3g', indent=False, layout=L…"
      ]
     },
     "metadata": {},
     "output_type": "display_data"
    },
    {
     "data": {
      "application/vnd.jupyter.widget-view+json": {
       "model_id": "85c8098fe59d446283d3a5947cdc17c0",
       "version_major": 2,
       "version_minor": 0
      },
      "text/plain": [
       "Checkbox(value=False, description='For composite box beams, six-inch minimum slab thickness specified? See BDM…"
      ]
     },
     "metadata": {},
     "output_type": "display_data"
    },
    {
     "data": {
      "application/vnd.jupyter.widget-view+json": {
       "model_id": "d68a52125c3e4c6291994ea742e97fff",
       "version_major": 2,
       "version_minor": 0
      },
      "text/plain": [
       "Checkbox(value=False, description='No. 6 at 18 inches longitudinal and No. 6 at 9 inches transverse bars speci…"
      ]
     },
     "metadata": {},
     "output_type": "display_data"
    },
    {
     "data": {
      "application/vnd.jupyter.widget-view+json": {
       "model_id": "f7d194c5314e4e9e823d011e7ac294ff",
       "version_major": 2,
       "version_minor": 0
      },
      "text/plain": [
       "Checkbox(value=False, description='Additional bars over piers specified to meet the requirements of See BDM 30…"
      ]
     },
     "metadata": {},
     "output_type": "display_data"
    },
    {
     "data": {
      "application/vnd.jupyter.widget-view+json": {
       "model_id": "55f798884812466995ffa5436cfbf47b",
       "version_major": 2,
       "version_minor": 0
      },
      "text/plain": [
       "Checkbox(value=False, description='Epoxy coated bars (Grade 60) specified in the composite slab? See BDM 304.4…"
      ]
     },
     "metadata": {},
     "output_type": "display_data"
    },
    {
     "data": {
      "application/vnd.jupyter.widget-view+json": {
       "model_id": "4700d0e10e4043d7bcee03c539f1d5b7",
       "version_major": 2,
       "version_minor": 0
      },
      "text/plain": [
       "Checkbox(value=False, description='Bars projecting from beam into composite slab specified as epoxy coated? Se…"
      ]
     },
     "metadata": {},
     "output_type": "display_data"
    },
    {
     "data": {
      "application/vnd.jupyter.widget-view+json": {
       "model_id": "b1e8d39624bb4ee587358d491e1c2bb8",
       "version_major": 2,
       "version_minor": 0
      },
      "text/plain": [
       "Checkbox(value=False, description=\"Construction joint shown between the cast-in-place 'T' section at piers and…"
      ]
     },
     "metadata": {},
     "output_type": "display_data"
    },
    {
     "data": {
      "application/vnd.jupyter.widget-view+json": {
       "model_id": "bb306839e1384c3baf8e3b5e2d262115",
       "version_major": 2,
       "version_minor": 0
      },
      "text/plain": [
       "Checkbox(value=False, description='The effect that the longitudinal grade has on dimensions measured along a b…"
      ]
     },
     "metadata": {},
     "output_type": "display_data"
    },
    {
     "data": {
      "application/vnd.jupyter.widget-view+json": {
       "model_id": "695bdb564558486387f420ac47c31e22",
       "version_major": 2,
       "version_minor": 0
      },
      "text/plain": [
       "Checkbox(value=False, description='Verify that design uses severe corrosive factor as per Section S.5.9.2.3.2b…"
      ]
     },
     "metadata": {},
     "output_type": "display_data"
    }
   ],
   "source": [
    "# Function to display the \"prestressed_concrete_box\" section\n",
    "def display_prestressed_concrete_box():\n",
    "    header = widgets.HTML(\"<b><u>Prestressed Concrete Box</u></b>\")\n",
    "    display(header)\n",
    "    checkboxes = []\n",
    "    for criterion in prestressed_concrete_box_criteria:\n",
    "        label = criterion[\"label\"]\n",
    "        # Add \"See BDM {section}\" for items with a 'section' entry\n",
    "        if \"section\" in criterion:\n",
    "            label = f\"{label} See BDM {criterion['section']}\"\n",
    "        checkbox = widgets.Checkbox(\n",
    "            description=label,\n",
    "            value=False,\n",
    "            indent=False,\n",
    "            layout=widgets.Layout(width='100%', margin='6px 0 0 0px')\n",
    "        )\n",
    "        checkbox.style = {'description_width': '0px'}\n",
    "        checkboxes.append(checkbox)\n",
    "        display(checkbox)\n",
    "\n",
    "# Display the \"prestressed_concrete_box\" section\n",
    "display_prestressed_concrete_box()"
   ]
  },
  {
   "cell_type": "markdown",
   "id": "3e0360f6-c440-4bd8-b5d2-2d326f88b58c",
   "metadata": {},
   "source": [
    "## Prestressed Concrete I-Beams"
   ]
  },
  {
   "cell_type": "code",
   "execution_count": 50,
   "id": "67d802ad-b60f-492b-b6de-10f58169f0b4",
   "metadata": {},
   "outputs": [],
   "source": [
    "# Define the steel_stringers criteria\n",
    "steel_stringers_criteria = [\n",
    "    {\"label\": \"Are the proposed beam shapes per\", \"section\": \"308.2.3.4\"},\n",
    "    {\"label\": \"Low-relaxation, 270 ksi, 0.6-inch strands used? (Initial stress = 0.75 f’s)\", \"section\": \"304.5.1, 304.5.2\"},\n",
    "    {\"label\": \"Straight strands, debonded at ends if necessary, used? Draped strands should be provided as per\", \"section\": \"308.2.3.3.a 308.2.3.4.a.3\"},\n",
    "    {\"label\": \"No more than 25% of the total strands debonded?\", \"section\": \"302.5.2.2.h\"},\n",
    "    {\"label\": \"No more than 45% of the strands in any row debonded\", \"section\": \"302.5.2.2.d\"},\n",
    "    {\"label\": \"Number and spacing of debonded strands, and the length of debonding, shown?\", \"section\": \"302.5.2.2.d\"},\n",
    "    {\"label\": \"Strand location and spacing meet requirements of\", \"section\": \"308.2.3.3.b\"},\n",
    "    {\"label\": \"Initial prestressed loads shown in the plans\", \"section\": \"304.5.2\"},\n",
    "    {\"label\": \"Joint details appropriate? Details from Standard Drawings EXJ-6-06.\"},\n",
    "    {\"label\": \"Grade 60 mild reinforcing used?\", \"section\": \"304.4\"},\n",
    "    {\"label\": \"Bars projecting from I-beam been epoxy coated?\", \"section\": \"304.4\"},\n",
    "    {\"label\": \"Diaphragms placed at intervals not exceeding 40 feet\", \"section\": \"308.2.3.4.d\"},\n",
    "    {\"label\": \"Intermediate diaphragms do not make contact with the underside of the deck?\", \"section\": \"308.2.3.4.d\"},\n",
    "    {\"label\": \"End diaphragms make complete contact with the underside of the deck?\", \"section\": \"308.2.3.4.d\"},\n",
    "    {\"label\": \"Threaded inserts used to connect diaphragm rebars to beams? Type and coating requirements for inserts shown?\", \"section\": \"308.2.3.4.d\"},\n",
    "    {\"label\": \"Note provided restricting deck placement to a minimum of 48 hours after diaphragms are placed and cured? If the Standard Bridge Drawing for I-beams is not referenced by the contract plans\", \"section\": \"308.2.3.4.d\"},\n",
    "    {\"label\": \"Bridge seat elevations been computed as directed in\", \"section\": \"308.2.3.4.b\"},\n",
    "    {\"label\": \"Diagram provided showing slab thickness at center of each span and at each centerline of bearings?\", \"section\": \"308.2.3.4.b\"},\n",
    "    {\"label\": \"Beam anchorage meets the requirements of\", \"section\": \"308.2.3.4.c\"},\n",
    "    {\"label\": \"Full-depth cast-in-place concrete deck specified/ precast deck panels should not be used.\", \"section\": \"309\"},\n",
    "    {\"label\": \"Threaded insert location shown on the beam elevation view for draped strands.\", \"section\": \"PSID-1-13\"},\n",
    "    {\"label\": \"The longitudinal superstructure cross section in the plans detailing the total topping thickness, including the design slab thickness and the haunch thickness at the centerline of spans and bearings.\", \"section\": \"308.2.3.4.b\"},\n",
    "    {\"label\": \"Camber at the time of release, at the time of erection, long term camber and a screed elevation table shown\", \"section\": \"308.2.3.4.b\"},\n",
    "    {\"label\": \"Verify that design use severe corrosive factor as per Section S.5.9.2.3.2b by changing the design parameter in Conspan. The limiting stress factor for tension (service III) should be .0948 instead of 0.19\"}\n",
    "]"
   ]
  },
  {
   "cell_type": "code",
   "execution_count": 51,
   "id": "60921915-9336-4ba5-91a4-d45212a15074",
   "metadata": {},
   "outputs": [
    {
     "data": {
      "application/vnd.jupyter.widget-view+json": {
       "model_id": "b1b463a96d9f4335bc7b36bbce609466",
       "version_major": 2,
       "version_minor": 0
      },
      "text/plain": [
       "HTML(value='<b><u>Steel Stringers</u></b>')"
      ]
     },
     "metadata": {},
     "output_type": "display_data"
    },
    {
     "data": {
      "application/vnd.jupyter.widget-view+json": {
       "model_id": "cc0eedcd7d36489e911d8e88ce4631d9",
       "version_major": 2,
       "version_minor": 0
      },
      "text/plain": [
       "Checkbox(value=False, description='Are the proposed beam shapes per See BDM 308.2.3.4', indent=False, layout=L…"
      ]
     },
     "metadata": {},
     "output_type": "display_data"
    },
    {
     "data": {
      "application/vnd.jupyter.widget-view+json": {
       "model_id": "05b5a0546ab544cca8ae9a0574d53ffb",
       "version_major": 2,
       "version_minor": 0
      },
      "text/plain": [
       "Checkbox(value=False, description='Low-relaxation, 270 ksi, 0.6-inch strands used? (Initial stress = 0.75 f’s)…"
      ]
     },
     "metadata": {},
     "output_type": "display_data"
    },
    {
     "data": {
      "application/vnd.jupyter.widget-view+json": {
       "model_id": "62c189db8f524f78abe57645876cfda1",
       "version_major": 2,
       "version_minor": 0
      },
      "text/plain": [
       "Checkbox(value=False, description='Straight strands, debonded at ends if necessary, used? Draped strands shoul…"
      ]
     },
     "metadata": {},
     "output_type": "display_data"
    },
    {
     "data": {
      "application/vnd.jupyter.widget-view+json": {
       "model_id": "356f2ce9c85d45b7bd70cdc05291c339",
       "version_major": 2,
       "version_minor": 0
      },
      "text/plain": [
       "Checkbox(value=False, description='No more than 25% of the total strands debonded? See BDM 302.5.2.2.h', inden…"
      ]
     },
     "metadata": {},
     "output_type": "display_data"
    },
    {
     "data": {
      "application/vnd.jupyter.widget-view+json": {
       "model_id": "c2ad9fa1679b4ada9ad457af8d774ee1",
       "version_major": 2,
       "version_minor": 0
      },
      "text/plain": [
       "Checkbox(value=False, description='No more than 45% of the strands in any row debonded See BDM 302.5.2.2.d', i…"
      ]
     },
     "metadata": {},
     "output_type": "display_data"
    },
    {
     "data": {
      "application/vnd.jupyter.widget-view+json": {
       "model_id": "130a4d1aae1b47a68546e0f658f5a479",
       "version_major": 2,
       "version_minor": 0
      },
      "text/plain": [
       "Checkbox(value=False, description='Number and spacing of debonded strands, and the length of debonding, shown?…"
      ]
     },
     "metadata": {},
     "output_type": "display_data"
    },
    {
     "data": {
      "application/vnd.jupyter.widget-view+json": {
       "model_id": "d523257b45d943d48234547cc3ebe295",
       "version_major": 2,
       "version_minor": 0
      },
      "text/plain": [
       "Checkbox(value=False, description='Strand location and spacing meet requirements of See BDM 308.2.3.3.b', inde…"
      ]
     },
     "metadata": {},
     "output_type": "display_data"
    },
    {
     "data": {
      "application/vnd.jupyter.widget-view+json": {
       "model_id": "d88280be1e1446d1a888669860629e15",
       "version_major": 2,
       "version_minor": 0
      },
      "text/plain": [
       "Checkbox(value=False, description='Initial prestressed loads shown in the plans See BDM 304.5.2', indent=False…"
      ]
     },
     "metadata": {},
     "output_type": "display_data"
    },
    {
     "data": {
      "application/vnd.jupyter.widget-view+json": {
       "model_id": "679e3b7f360144069ba6b19f7ba0c5ad",
       "version_major": 2,
       "version_minor": 0
      },
      "text/plain": [
       "Checkbox(value=False, description='Joint details appropriate? Details from Standard Drawings EXJ-6-06.', inden…"
      ]
     },
     "metadata": {},
     "output_type": "display_data"
    },
    {
     "data": {
      "application/vnd.jupyter.widget-view+json": {
       "model_id": "676b9fb0770a4933af088948fe828761",
       "version_major": 2,
       "version_minor": 0
      },
      "text/plain": [
       "Checkbox(value=False, description='Grade 60 mild reinforcing used? See BDM 304.4', indent=False, layout=Layout…"
      ]
     },
     "metadata": {},
     "output_type": "display_data"
    },
    {
     "data": {
      "application/vnd.jupyter.widget-view+json": {
       "model_id": "8b2262b365d94b74a1b82d777fbfc0a2",
       "version_major": 2,
       "version_minor": 0
      },
      "text/plain": [
       "Checkbox(value=False, description='Bars projecting from I-beam been epoxy coated? See BDM 304.4', indent=False…"
      ]
     },
     "metadata": {},
     "output_type": "display_data"
    },
    {
     "data": {
      "application/vnd.jupyter.widget-view+json": {
       "model_id": "a573711198084c33bf439d1c3e9c59a9",
       "version_major": 2,
       "version_minor": 0
      },
      "text/plain": [
       "Checkbox(value=False, description='Diaphragms placed at intervals not exceeding 40 feet See BDM 308.2.3.4.d', …"
      ]
     },
     "metadata": {},
     "output_type": "display_data"
    },
    {
     "data": {
      "application/vnd.jupyter.widget-view+json": {
       "model_id": "266d72fa92f64b3b952c63b0f3fd59f6",
       "version_major": 2,
       "version_minor": 0
      },
      "text/plain": [
       "Checkbox(value=False, description='Intermediate diaphragms do not make contact with the underside of the deck?…"
      ]
     },
     "metadata": {},
     "output_type": "display_data"
    },
    {
     "data": {
      "application/vnd.jupyter.widget-view+json": {
       "model_id": "2be0e87f366f4d68b8fc36420311c3ef",
       "version_major": 2,
       "version_minor": 0
      },
      "text/plain": [
       "Checkbox(value=False, description='End diaphragms make complete contact with the underside of the deck? See BD…"
      ]
     },
     "metadata": {},
     "output_type": "display_data"
    },
    {
     "data": {
      "application/vnd.jupyter.widget-view+json": {
       "model_id": "55e89b745cb54a389fb4ab0350caf206",
       "version_major": 2,
       "version_minor": 0
      },
      "text/plain": [
       "Checkbox(value=False, description='Threaded inserts used to connect diaphragm rebars to beams? Type and coatin…"
      ]
     },
     "metadata": {},
     "output_type": "display_data"
    },
    {
     "data": {
      "application/vnd.jupyter.widget-view+json": {
       "model_id": "0e46ee813d9a481e84ba77e92396c176",
       "version_major": 2,
       "version_minor": 0
      },
      "text/plain": [
       "Checkbox(value=False, description='Note provided restricting deck placement to a minimum of 48 hours after dia…"
      ]
     },
     "metadata": {},
     "output_type": "display_data"
    },
    {
     "data": {
      "application/vnd.jupyter.widget-view+json": {
       "model_id": "02fccf8b28b44250adc034091b9314c2",
       "version_major": 2,
       "version_minor": 0
      },
      "text/plain": [
       "Checkbox(value=False, description='Bridge seat elevations been computed as directed in See BDM 308.2.3.4.b', i…"
      ]
     },
     "metadata": {},
     "output_type": "display_data"
    },
    {
     "data": {
      "application/vnd.jupyter.widget-view+json": {
       "model_id": "cff9e474c88d433e99ae8a762641adc0",
       "version_major": 2,
       "version_minor": 0
      },
      "text/plain": [
       "Checkbox(value=False, description='Diagram provided showing slab thickness at center of each span and at each …"
      ]
     },
     "metadata": {},
     "output_type": "display_data"
    },
    {
     "data": {
      "application/vnd.jupyter.widget-view+json": {
       "model_id": "d1da33e5ce354bdbbe9f977534ad2e01",
       "version_major": 2,
       "version_minor": 0
      },
      "text/plain": [
       "Checkbox(value=False, description='Beam anchorage meets the requirements of See BDM 308.2.3.4.c', indent=False…"
      ]
     },
     "metadata": {},
     "output_type": "display_data"
    },
    {
     "data": {
      "application/vnd.jupyter.widget-view+json": {
       "model_id": "38ad528c2383403ba695851d68b579b1",
       "version_major": 2,
       "version_minor": 0
      },
      "text/plain": [
       "Checkbox(value=False, description='Full-depth cast-in-place concrete deck specified/ precast deck panels shoul…"
      ]
     },
     "metadata": {},
     "output_type": "display_data"
    },
    {
     "data": {
      "application/vnd.jupyter.widget-view+json": {
       "model_id": "87b4e269b9eb4f6a8d8e3ba5e72a6f73",
       "version_major": 2,
       "version_minor": 0
      },
      "text/plain": [
       "Checkbox(value=False, description='Threaded insert location shown on the beam elevation view for draped strand…"
      ]
     },
     "metadata": {},
     "output_type": "display_data"
    },
    {
     "data": {
      "application/vnd.jupyter.widget-view+json": {
       "model_id": "e47c5a9679cc49d685a816bb488522c6",
       "version_major": 2,
       "version_minor": 0
      },
      "text/plain": [
       "Checkbox(value=False, description='The longitudinal superstructure cross section in the plans detailing the to…"
      ]
     },
     "metadata": {},
     "output_type": "display_data"
    },
    {
     "data": {
      "application/vnd.jupyter.widget-view+json": {
       "model_id": "be81637c51ab451c9fc23291e0c8138b",
       "version_major": 2,
       "version_minor": 0
      },
      "text/plain": [
       "Checkbox(value=False, description='Camber at the time of release, at the time of erection, long term camber an…"
      ]
     },
     "metadata": {},
     "output_type": "display_data"
    },
    {
     "data": {
      "application/vnd.jupyter.widget-view+json": {
       "model_id": "7a4578afd4334b9fb3badbfb66a51444",
       "version_major": 2,
       "version_minor": 0
      },
      "text/plain": [
       "Checkbox(value=False, description='Verify that design use severe corrosive factor as per Section S.5.9.2.3.2b …"
      ]
     },
     "metadata": {},
     "output_type": "display_data"
    }
   ],
   "source": [
    "# Function to display the \"steel_stringers\" section\n",
    "def display_steel_stringers():\n",
    "    header = widgets.HTML(\"<b><u>Steel Stringers</u></b>\")\n",
    "    display(header)\n",
    "    checkboxes = []\n",
    "    for criterion in steel_stringers_criteria:\n",
    "        label = criterion[\"label\"]\n",
    "        # Add \"See BDM {section}\" for items with a 'section' entry\n",
    "        if \"section\" in criterion:\n",
    "            label = f\"{label} See BDM {criterion['section']}\"\n",
    "        checkbox = widgets.Checkbox(\n",
    "            description=label,\n",
    "            value=False,\n",
    "            indent=False,\n",
    "            layout=widgets.Layout(width='100%', margin='6px 0 0 0px')\n",
    "        )\n",
    "        checkbox.style = {'description_width': '0px'}\n",
    "        checkboxes.append(checkbox)\n",
    "        display(checkbox)\n",
    "\n",
    "# Display the \"steel_stringers\" section\n",
    "display_steel_stringers()"
   ]
  },
  {
   "cell_type": "markdown",
   "id": "8a6b711f-c1a9-4f2f-823f-56e33ddea702",
   "metadata": {},
   "source": [
    "## Steel Stringers\n",
    "\n",
    "question - What kind of stringers is the project utilizing"
   ]
  },
  {
   "cell_type": "code",
   "execution_count": 52,
   "id": "410c7a12-98ca-470c-9705-c028b531c894",
   "metadata": {},
   "outputs": [
    {
     "data": {
      "application/vnd.jupyter.widget-view+json": {
       "model_id": "a3b6c8b857a448af8d07e9e0f373c8e3",
       "version_major": 2,
       "version_minor": 0
      },
      "text/plain": [
       "SelectMultiple(description='Select: ', options=('Rolled', 'Plate'), rows=2, value=())"
      ]
     },
     "execution_count": 52,
     "metadata": {},
     "output_type": "execute_result"
    }
   ],
   "source": [
    "substructure_work = widgets.SelectMultiple(\n",
    "    options=[\n",
    "        'Rolled',\n",
    "        'Plate',\n",
    "    ],\n",
    "    value=[],\n",
    "    description='Select: ',\n",
    "    rows=2,\n",
    "    disabled=False\n",
    ")\n",
    "\n",
    "substructure_work"
   ]
  },
  {
   "cell_type": "markdown",
   "id": "d2a6e40d-3144-4bf0-9e6c-6a684f9c2d13",
   "metadata": {},
   "source": [
    "### Steel Stringers - General"
   ]
  },
  {
   "cell_type": "code",
   "execution_count": 53,
   "id": "900100b1-4e18-4ea2-81bc-b53e5b7d2185",
   "metadata": {},
   "outputs": [],
   "source": [
    "# Define the steel_stringers_general criteria\n",
    "steel_stringers_general_criteria = [\n",
    "    {\"label\": \"A709 Grade 50W steel shall be specified for un-coated weathering steel bridges, A709 Grade 50 specified for a coated steel bridge.\", \"section\": \"30.4.1\"},\n",
    "    {\"label\": \"A709 Grade 50W structural steel within 10 feet from end of stringer adjacent to deck joint painted and note provided\", \"section\": \"308.2.2.1.d.1\"},\n",
    "    {\"label\": \"Proper painting system used? Formerly called, System IZEU on new steel and System OZEU on existing steel?\", \"section\": \"308.2.2.1.d.1\"},\n",
    "    {\"label\": \"All main load carrying members such as rolled beams, girder web/flanges, moment plates, splice plates, and horizontally curved stringer cross frames designated as CVN for Charpy V-notch testing and plan note provided?\", \"section\": \"308.2.2.1.b and 702.2\"},\n",
    "    {\"label\": \"Clearance between the bottom mat and top of the bolt over splice plate.\"},\n",
    "    {\"label\": \"Steel fabricator certification given in pay item description as Classification Levels 1 thru 6, SF or UF.\", \"section\": \"308.2.2.1.b\"},\n",
    "    {\"label\": \"Cross frames and field splices for dog-legged (deflected) stringers conform with, Additional horizontal cross frames angle provided near top flange of horizontally curved stringers?\", \"section\": \"308.2.2.1.j, 308.2.2.1.j.1 and 308.2.2.2.b\"},\n",
    "    {\"label\": \"Plan note provided for High Strength Bolts?\", \"section\": \"702.3\"},\n",
    "    {\"label\": \"Leg size specified for fillet welds 1/4 inch minimum for material < 3/4 inch thick and 5/16 inch minimum for thicker material)?\", \"section\": \"308.2.2.2.c.1\"},\n",
    "    {\"label\": \"Complete penetration groove welds designated as CP with weld configuration left unspecified? Partial penetration groove welds not permitted on structural elements.\", \"section\": \"308.2.2.2.c and ANSI/AASHTO / AWS D1.5 Bridge Welding Code\"},\n",
    "    {\"label\": \"Stud shear connectors preferably 7/8 inch diameter and uniformly spaced transversely not closer than 4 diameters center to center with at least 1 inch clearance from flange edges? (Typically, three studs transversely for flanges 12 inches and wider)\", \"section\": \"404.1.6 & AASHTO LRFD 6.10.10\"},\n",
    "    {\"label\": \"Shear connector length penetrates at least 2 inches above bottom reinforcing steel of slab and provides at least 2 inches top cover?\"},\n",
    "    {\"label\": \"7/8 inch diameter Shear stud not recommended for vertical application due to longer welding times and difficulties. Use a 3/4 inch diameter shear stud recommended by the industry.\"},\n",
    "    {\"label\": \"Shear connector maximum spacing generally not greater than 24 inches? Usually, fatigue and strength criteria produce maximum spacing near piers, smallest spacing near abutments, and moderate spacing near mid spans? No conflict near field splices or deck joint anchorage?\", \"section\": \"AASHTO LRFD 6.10.10\"},\n",
    "    {\"label\": \"Extra shear connectors provided at contra flexure points and longitudinal slab reinforcement properly extended if shear connectors are omitted over piers?\", \"section\": \"AASHTO LRFD 6.10.10\"},\n",
    "    {\"label\": \"Field splices located near points of dead load contra flexure as appropriate to facilitate erection and to limit field section lengths to 90 feet maximum for rolled beams and 120 feet maximum for plate girders? Additional optional field splices may be shown recognizing greater availability of short lengths)\", \"section\": \"308.2.2.1.c and 308.2.2.1.j.3\"},\n",
    "    {\"label\": \"Plate thicknesses specified in the following standard sizes: 7/8\\\" to 3” In 1/8” Increments, 3\\\" And above 1/4\\\" Increments?\", \"section\": \"308.2.2.3.c\"},\n",
    "    {\"label\": \"Buoyant superstructures typically integral or semi-integral designs) where inundation is possible details with appropriate countermeasures (e.g., holes drilled in stringer webs for egress of confined air, support anchorage, etc.)?\"},\n",
    "    {\"label\": \"Stringer top flange compression and tension zones shown and Welded Attachment Note provided?\", \"section\": \"702.11\"},\n",
    "    {\"label\": \"Camber and deflection table provided for information given at center of spans, splices points, and at 25 foot maximum intervals?\", \"section\": \"702.1, 309.3.3\"},\n",
    "    {\"label\": \"Camber diagram provided and blocking dimension from bottom of stringer at each support to chord between end supports) shown?\", \"section\": \"309.3.3\"},\n",
    "    {\"label\": \"Camber adjustment provided for horizontally heat-curved stringers and for straight stringers on curved bridges?\", \"section\": \"AASHTO LRFD 6.7.7\"},\n",
    "    {\"label\": \"Sign (direction) of camber adjustment for vertical curve correct?\"},\n",
    "    {\"label\": \"Edge distances used for field splices as per LRFD table 6.13.2.6.6-1?\", \"section\": \"308.2.2.1.j.1 & 308.2.2.1.j.2\"},\n",
    "    {\"label\": \"For galvanized structures, the bolt hole size requires a 1/16 inch increase.\", \"section\": \"308.2.2.1.j.1\"},\n",
    "    {\"label\": \"Field splices located so as not to interfere with other details (i.e., intermediate stiffeners, cross frames, etc.)?\", \"section\": \"308.2.2.2.b\"},\n",
    "    {\"label\": \"Fatigue prone details avoided if possible?\", \"section\": \"308.2.2.1.g\"},\n",
    "    {\"label\": \"Cross frame connection stiffeners rigidly attached to stringer top and bottom flanges?\", \"section\": \"308.2.2.2.a\"},\n",
    "    {\"label\": \"Lateral bracing provided only when required?\", \"section\": \"AASHTO LRFD 6.7.5\"},\n",
    "    {\"label\": \"Curved girder with stage construction should be checked for deflection at each stage.\"}\n",
    "]"
   ]
  },
  {
   "cell_type": "code",
   "execution_count": 54,
   "id": "2e6050b8-5e19-46cb-8172-3b4a1ef544be",
   "metadata": {},
   "outputs": [
    {
     "data": {
      "application/vnd.jupyter.widget-view+json": {
       "model_id": "c4fb7872787f4ab691b10a75cfd474ff",
       "version_major": 2,
       "version_minor": 0
      },
      "text/plain": [
       "HTML(value='<b><u>Steel Stringers: General</u></b>')"
      ]
     },
     "metadata": {},
     "output_type": "display_data"
    },
    {
     "data": {
      "application/vnd.jupyter.widget-view+json": {
       "model_id": "00b0a696a67842b08e987511fabf771c",
       "version_major": 2,
       "version_minor": 0
      },
      "text/plain": [
       "Checkbox(value=False, description='A709 Grade 50W steel shall be specified for un-coated weathering steel brid…"
      ]
     },
     "metadata": {},
     "output_type": "display_data"
    },
    {
     "data": {
      "application/vnd.jupyter.widget-view+json": {
       "model_id": "f2d5b8993522493b8863a9ab40806371",
       "version_major": 2,
       "version_minor": 0
      },
      "text/plain": [
       "Checkbox(value=False, description='A709 Grade 50W structural steel within 10 feet from end of stringer adjacen…"
      ]
     },
     "metadata": {},
     "output_type": "display_data"
    },
    {
     "data": {
      "application/vnd.jupyter.widget-view+json": {
       "model_id": "703bcc0f97fb4aa7932da8668032138d",
       "version_major": 2,
       "version_minor": 0
      },
      "text/plain": [
       "Checkbox(value=False, description='Proper painting system used? Formerly called, System IZEU on new steel and …"
      ]
     },
     "metadata": {},
     "output_type": "display_data"
    },
    {
     "data": {
      "application/vnd.jupyter.widget-view+json": {
       "model_id": "e9ed4651e3554ca2b83467d2b081d85b",
       "version_major": 2,
       "version_minor": 0
      },
      "text/plain": [
       "Checkbox(value=False, description='All main load carrying members such as rolled beams, girder web/flanges, mo…"
      ]
     },
     "metadata": {},
     "output_type": "display_data"
    },
    {
     "data": {
      "application/vnd.jupyter.widget-view+json": {
       "model_id": "2148eb09666442ba9436397478df4752",
       "version_major": 2,
       "version_minor": 0
      },
      "text/plain": [
       "Checkbox(value=False, description='Clearance between the bottom mat and top of the bolt over splice plate.', i…"
      ]
     },
     "metadata": {},
     "output_type": "display_data"
    },
    {
     "data": {
      "application/vnd.jupyter.widget-view+json": {
       "model_id": "2ec5f872de39437f9fc694394e9c82e6",
       "version_major": 2,
       "version_minor": 0
      },
      "text/plain": [
       "Checkbox(value=False, description='Steel fabricator certification given in pay item description as Classificat…"
      ]
     },
     "metadata": {},
     "output_type": "display_data"
    },
    {
     "data": {
      "application/vnd.jupyter.widget-view+json": {
       "model_id": "d0ca2ea4b8954c1b8c9fb4f7ab8ac2d0",
       "version_major": 2,
       "version_minor": 0
      },
      "text/plain": [
       "Checkbox(value=False, description='Cross frames and field splices for dog-legged (deflected) stringers conform…"
      ]
     },
     "metadata": {},
     "output_type": "display_data"
    },
    {
     "data": {
      "application/vnd.jupyter.widget-view+json": {
       "model_id": "63f72a0b3f034be9805f10a907cf8efe",
       "version_major": 2,
       "version_minor": 0
      },
      "text/plain": [
       "Checkbox(value=False, description='Plan note provided for High Strength Bolts? See BDM 702.3', indent=False, l…"
      ]
     },
     "metadata": {},
     "output_type": "display_data"
    },
    {
     "data": {
      "application/vnd.jupyter.widget-view+json": {
       "model_id": "8b3aea6503ce4c28bbd71c0424af6e7e",
       "version_major": 2,
       "version_minor": 0
      },
      "text/plain": [
       "Checkbox(value=False, description='Leg size specified for fillet welds 1/4 inch minimum for material < 3/4 inc…"
      ]
     },
     "metadata": {},
     "output_type": "display_data"
    },
    {
     "data": {
      "application/vnd.jupyter.widget-view+json": {
       "model_id": "a083b54abf8c4f0ca777b1f2b2598a27",
       "version_major": 2,
       "version_minor": 0
      },
      "text/plain": [
       "Checkbox(value=False, description='Complete penetration groove welds designated as CP with weld configuration …"
      ]
     },
     "metadata": {},
     "output_type": "display_data"
    },
    {
     "data": {
      "application/vnd.jupyter.widget-view+json": {
       "model_id": "166f919e9d314a85899cf46522c7ef3d",
       "version_major": 2,
       "version_minor": 0
      },
      "text/plain": [
       "Checkbox(value=False, description='Stud shear connectors preferably 7/8 inch diameter and uniformly spaced tra…"
      ]
     },
     "metadata": {},
     "output_type": "display_data"
    },
    {
     "data": {
      "application/vnd.jupyter.widget-view+json": {
       "model_id": "6207962186b74f7ebe0fd3d96d922dd4",
       "version_major": 2,
       "version_minor": 0
      },
      "text/plain": [
       "Checkbox(value=False, description='Shear connector length penetrates at least 2 inches above bottom reinforcin…"
      ]
     },
     "metadata": {},
     "output_type": "display_data"
    },
    {
     "data": {
      "application/vnd.jupyter.widget-view+json": {
       "model_id": "90851b0fbf194c52a77d2cb92f4b061f",
       "version_major": 2,
       "version_minor": 0
      },
      "text/plain": [
       "Checkbox(value=False, description='7/8 inch diameter Shear stud not recommended for vertical application due t…"
      ]
     },
     "metadata": {},
     "output_type": "display_data"
    },
    {
     "data": {
      "application/vnd.jupyter.widget-view+json": {
       "model_id": "417ce42fddcf4d62af116773a76b8bb3",
       "version_major": 2,
       "version_minor": 0
      },
      "text/plain": [
       "Checkbox(value=False, description='Shear connector maximum spacing generally not greater than 24 inches? Usual…"
      ]
     },
     "metadata": {},
     "output_type": "display_data"
    },
    {
     "data": {
      "application/vnd.jupyter.widget-view+json": {
       "model_id": "72d6ec84fa5c481cadc5a1f4a110a280",
       "version_major": 2,
       "version_minor": 0
      },
      "text/plain": [
       "Checkbox(value=False, description='Extra shear connectors provided at contra flexure points and longitudinal s…"
      ]
     },
     "metadata": {},
     "output_type": "display_data"
    },
    {
     "data": {
      "application/vnd.jupyter.widget-view+json": {
       "model_id": "0e75c6316e2c4bebb324eb42427c8f43",
       "version_major": 2,
       "version_minor": 0
      },
      "text/plain": [
       "Checkbox(value=False, description='Field splices located near points of dead load contra flexure as appropriat…"
      ]
     },
     "metadata": {},
     "output_type": "display_data"
    },
    {
     "data": {
      "application/vnd.jupyter.widget-view+json": {
       "model_id": "8b6aa2c80aa14327b098c12f101a2777",
       "version_major": 2,
       "version_minor": 0
      },
      "text/plain": [
       "Checkbox(value=False, description='Plate thicknesses specified in the following standard sizes: 7/8\" to 3” In …"
      ]
     },
     "metadata": {},
     "output_type": "display_data"
    },
    {
     "data": {
      "application/vnd.jupyter.widget-view+json": {
       "model_id": "53a80a7e9da442dd8d1adec2cee82a73",
       "version_major": 2,
       "version_minor": 0
      },
      "text/plain": [
       "Checkbox(value=False, description='Buoyant superstructures typically integral or semi-integral designs) where …"
      ]
     },
     "metadata": {},
     "output_type": "display_data"
    },
    {
     "data": {
      "application/vnd.jupyter.widget-view+json": {
       "model_id": "b20a0af4e6a349a0b3dbfa4f5807275e",
       "version_major": 2,
       "version_minor": 0
      },
      "text/plain": [
       "Checkbox(value=False, description='Stringer top flange compression and tension zones shown and Welded Attachme…"
      ]
     },
     "metadata": {},
     "output_type": "display_data"
    },
    {
     "data": {
      "application/vnd.jupyter.widget-view+json": {
       "model_id": "da4b73ee154e43608ea0d9e12b61d204",
       "version_major": 2,
       "version_minor": 0
      },
      "text/plain": [
       "Checkbox(value=False, description='Camber and deflection table provided for information given at center of spa…"
      ]
     },
     "metadata": {},
     "output_type": "display_data"
    },
    {
     "data": {
      "application/vnd.jupyter.widget-view+json": {
       "model_id": "ca9913755980496a959d84dc4f139309",
       "version_major": 2,
       "version_minor": 0
      },
      "text/plain": [
       "Checkbox(value=False, description='Camber diagram provided and blocking dimension from bottom of stringer at e…"
      ]
     },
     "metadata": {},
     "output_type": "display_data"
    },
    {
     "data": {
      "application/vnd.jupyter.widget-view+json": {
       "model_id": "c84ec4d4f7b646e190e58de213a0647b",
       "version_major": 2,
       "version_minor": 0
      },
      "text/plain": [
       "Checkbox(value=False, description='Camber adjustment provided for horizontally heat-curved stringers and for s…"
      ]
     },
     "metadata": {},
     "output_type": "display_data"
    },
    {
     "data": {
      "application/vnd.jupyter.widget-view+json": {
       "model_id": "9ec91c72dacc4199a20b2c37e6f6b1cc",
       "version_major": 2,
       "version_minor": 0
      },
      "text/plain": [
       "Checkbox(value=False, description='Sign (direction) of camber adjustment for vertical curve correct?', indent=…"
      ]
     },
     "metadata": {},
     "output_type": "display_data"
    },
    {
     "data": {
      "application/vnd.jupyter.widget-view+json": {
       "model_id": "7a0b322c325a4dec84ed747019105750",
       "version_major": 2,
       "version_minor": 0
      },
      "text/plain": [
       "Checkbox(value=False, description='Edge distances used for field splices as per LRFD table 6.13.2.6.6-1? See B…"
      ]
     },
     "metadata": {},
     "output_type": "display_data"
    },
    {
     "data": {
      "application/vnd.jupyter.widget-view+json": {
       "model_id": "915d4c97bf3040bda83b9b423ffaefbd",
       "version_major": 2,
       "version_minor": 0
      },
      "text/plain": [
       "Checkbox(value=False, description='For galvanized structures, the bolt hole size requires a 1/16 inch increase…"
      ]
     },
     "metadata": {},
     "output_type": "display_data"
    },
    {
     "data": {
      "application/vnd.jupyter.widget-view+json": {
       "model_id": "54dbe84e5bdc4185867387de7e7bed61",
       "version_major": 2,
       "version_minor": 0
      },
      "text/plain": [
       "Checkbox(value=False, description='Field splices located so as not to interfere with other details (i.e., inte…"
      ]
     },
     "metadata": {},
     "output_type": "display_data"
    },
    {
     "data": {
      "application/vnd.jupyter.widget-view+json": {
       "model_id": "1888fed7c054494a89cf140c7bbe8764",
       "version_major": 2,
       "version_minor": 0
      },
      "text/plain": [
       "Checkbox(value=False, description='Fatigue prone details avoided if possible? See BDM 308.2.2.1.g', indent=Fal…"
      ]
     },
     "metadata": {},
     "output_type": "display_data"
    },
    {
     "data": {
      "application/vnd.jupyter.widget-view+json": {
       "model_id": "98fb2b7b72174946b4d1bfe6c1002e2c",
       "version_major": 2,
       "version_minor": 0
      },
      "text/plain": [
       "Checkbox(value=False, description='Cross frame connection stiffeners rigidly attached to stringer top and bott…"
      ]
     },
     "metadata": {},
     "output_type": "display_data"
    },
    {
     "data": {
      "application/vnd.jupyter.widget-view+json": {
       "model_id": "1208269096a048cb8967ed14928a0249",
       "version_major": 2,
       "version_minor": 0
      },
      "text/plain": [
       "Checkbox(value=False, description='Lateral bracing provided only when required? See BDM AASHTO LRFD 6.7.5', in…"
      ]
     },
     "metadata": {},
     "output_type": "display_data"
    },
    {
     "data": {
      "application/vnd.jupyter.widget-view+json": {
       "model_id": "2aa863bded974d94bca37d30ff95d731",
       "version_major": 2,
       "version_minor": 0
      },
      "text/plain": [
       "Checkbox(value=False, description='Curved girder with stage construction should be checked for deflection at e…"
      ]
     },
     "metadata": {},
     "output_type": "display_data"
    }
   ],
   "source": [
    "# Function to display the \"steel_stringers_general\" section\n",
    "def display_steel_stringers_general():\n",
    "    header = widgets.HTML(\"<b><u>Steel Stringers: General</u></b>\")\n",
    "    display(header)\n",
    "    checkboxes = []\n",
    "    for criterion in steel_stringers_general_criteria:\n",
    "        label = criterion[\"label\"]\n",
    "        # Add \"See BDM {section}\" for items with a 'section' entry\n",
    "        if \"section\" in criterion:\n",
    "            label = f\"{label} See BDM {criterion['section']}\"\n",
    "        checkbox = widgets.Checkbox(\n",
    "            description=label,\n",
    "            value=False,\n",
    "            indent=False,\n",
    "            layout=widgets.Layout(width='100%', margin='6px 0 0 0px')\n",
    "        )\n",
    "        checkbox.style = {'description_width': '0px'}\n",
    "        checkboxes.append(checkbox)\n",
    "        display(checkbox)\n",
    "\n",
    "# Display the \"steel_stringers_general\" section\n",
    "display_steel_stringers_general()"
   ]
  },
  {
   "cell_type": "markdown",
   "id": "e60cbc3c-93d8-4730-8bc8-ac269214c170",
   "metadata": {},
   "source": [
    "### Rolled Beams"
   ]
  },
  {
   "cell_type": "code",
   "execution_count": 55,
   "id": "71d198e3-bb6d-4b86-8ba2-e698ceeb8848",
   "metadata": {},
   "outputs": [],
   "source": [
    "# Define the rolled_beams criteria\n",
    "rolled_beams_criteria = [\n",
    "    {\"label\": \"Welded moment plates not used in areas of tensile stress?\", \"section\": \"308.2.2.2.d\"},\n",
    "    {\"label\": \"Bearing stiffeners provided only when necessary?\", \"section\": \"AASHTO LRFD 6.10.11.2\"},\n",
    "    {\"label\": \"Galvanized beams limited in length to 60 feet maximum and utilize bolted connections only?\", \"section\": \"308.2.2.1.d.2\"}\n",
    "]"
   ]
  },
  {
   "cell_type": "code",
   "execution_count": 56,
   "id": "bfd71c19-df0d-4795-9087-9ec1bb124e5b",
   "metadata": {},
   "outputs": [
    {
     "data": {
      "application/vnd.jupyter.widget-view+json": {
       "model_id": "63cca682dd76426a8b7ff3bef825a06e",
       "version_major": 2,
       "version_minor": 0
      },
      "text/plain": [
       "HTML(value='<b><u>Rolled Beams</u></b>')"
      ]
     },
     "metadata": {},
     "output_type": "display_data"
    },
    {
     "data": {
      "application/vnd.jupyter.widget-view+json": {
       "model_id": "ccea12994efa4fb2a8dc1047dc95aa07",
       "version_major": 2,
       "version_minor": 0
      },
      "text/plain": [
       "Checkbox(value=False, description='Welded moment plates not used in areas of tensile stress? See BDM 308.2.2.2…"
      ]
     },
     "metadata": {},
     "output_type": "display_data"
    },
    {
     "data": {
      "application/vnd.jupyter.widget-view+json": {
       "model_id": "949da8fe59a845b388daa0bd845cd56e",
       "version_major": 2,
       "version_minor": 0
      },
      "text/plain": [
       "Checkbox(value=False, description='Bearing stiffeners provided only when necessary? See BDM AASHTO LRFD 6.10.1…"
      ]
     },
     "metadata": {},
     "output_type": "display_data"
    },
    {
     "data": {
      "application/vnd.jupyter.widget-view+json": {
       "model_id": "b6c7a28b2c4f487a9ec28794a66d5e77",
       "version_major": 2,
       "version_minor": 0
      },
      "text/plain": [
       "Checkbox(value=False, description='Galvanized beams limited in length to 60 feet maximum and utilize bolted co…"
      ]
     },
     "metadata": {},
     "output_type": "display_data"
    }
   ],
   "source": [
    "# Function to display the \"rolled_beams\" section\n",
    "def display_rolled_beams():\n",
    "    header = widgets.HTML(\"<b><u>Rolled Beams</u></b>\")\n",
    "    display(header)\n",
    "    checkboxes = []\n",
    "    for criterion in rolled_beams_criteria:\n",
    "        label = criterion[\"label\"]\n",
    "        # Add \"See BDM {section}\" for items with a 'section' entry\n",
    "        if \"section\" in criterion:\n",
    "            label = f\"{label} See BDM {criterion['section']}\"\n",
    "        checkbox = widgets.Checkbox(\n",
    "            description=label,\n",
    "            value=False,\n",
    "            indent=False,\n",
    "            layout=widgets.Layout(width='100%', margin='6px 0 0 0px')\n",
    "        )\n",
    "        checkbox.style = {'description_width': '0px'}\n",
    "        checkboxes.append(checkbox)\n",
    "        display(checkbox)\n",
    "\n",
    "# Display the \"rolled_beams\" section\n",
    "display_rolled_beams()"
   ]
  },
  {
   "cell_type": "markdown",
   "id": "8f5bff64-b325-48ee-8884-b3203921551c",
   "metadata": {},
   "source": [
    "### Plate Girders"
   ]
  },
  {
   "cell_type": "code",
   "execution_count": 57,
   "id": "df4697cd-e587-4102-b5e0-00999445f4cf",
   "metadata": {},
   "outputs": [],
   "source": [
    "# Define the plate_girders criteria\n",
    "plate_girders_criteria = [\n",
    "    {\"label\": \"Top flange width as per\", \"section\": \"308.2.2.3.c.1\"},\n",
    "    {\"label\": \"Flange thickness at least 7/8 inch?\", \"section\": \"308.2.2.3.c.1\"},\n",
    "    {\"label\": \"Web thickness and stiffener thickness at least 3/8 inch\", \"section\": \"308.2.2.3.c.2\"},\n",
    "    {\"label\": \"Flange butt welds subject only to compressive stresses identified as CS and complete joint penetration as CP.\", \"section\": \"308.2.2.3.f.2\"},\n",
    "    {\"label\": \"Non-redundant main steel members identified as FCM (Fracture Critical Member)? Proper pay item and plan note provided\", \"section\": \"BMD 308.2.2.3.b\"},\n",
    "    {\"label\": \"Longitudinal stiffeners not used? Transverse stiffeners preferably not used (except cross frame connection stiffeners)\", \"section\": \"308.2.2.3\"},\n",
    "    {\"label\": \"Transverse stiffeners (if used) placed on alternate sides of interior girders and inside face only of fascia girders, made same size throughout, and detailed?\", \"section\": \"308.2.2.3.d\"},\n",
    "    {\"label\": \"Cross frame connection stiffeners fillet welded to web and both flanges\", \"section\": \"308.2.2.3.d\"},\n",
    "    {\"label\": \"Bearing stiffeners made to extend as near as practicable to outer edges of flange plate and detailed as tight fit at top flange, mill to bear at bottom flange? (Rigid attachment to both flanges may be appropriate if used also as a connection plate)\", \"section\": \"AASHTO LRFD 6.10.11.2.1 / LRFD 6.10.11.2\"},\n",
    "    {\"label\": \"Intermediate cross frame angle size and connections conform with STD DWG GSD-1-19? For beam/Girder D < 6 feet.\"},\n",
    "    {\"label\": \"Constant flange widths used whenever possible? Make changes in flange width at field splice to facilitate fabrication. Changes in flange plate section appropriate based on cost criteria given in\", \"section\": \"308.2.2.3.c.1 Steel Bridge Design Handbook FHWA-IF-12-052-Vol. 6\"},\n",
    "    {\"label\": \"Clearance between the bottom mat and top of the bolt over splice plate\", \"section\": \"309.3.4.2\"}\n",
    "]"
   ]
  },
  {
   "cell_type": "code",
   "execution_count": 58,
   "id": "81c7741e-d92d-4e6c-ac37-7804b828f36d",
   "metadata": {},
   "outputs": [
    {
     "data": {
      "application/vnd.jupyter.widget-view+json": {
       "model_id": "dc144c041b7d4a73bdaecebbf029d496",
       "version_major": 2,
       "version_minor": 0
      },
      "text/plain": [
       "HTML(value='<b><u>Plate Girders</u></b>')"
      ]
     },
     "metadata": {},
     "output_type": "display_data"
    },
    {
     "data": {
      "application/vnd.jupyter.widget-view+json": {
       "model_id": "e769e9144dc2411289d9ad2efc1f9b82",
       "version_major": 2,
       "version_minor": 0
      },
      "text/plain": [
       "Checkbox(value=False, description='Top flange width as per See BDM 308.2.2.3.c.1', indent=False, layout=Layout…"
      ]
     },
     "metadata": {},
     "output_type": "display_data"
    },
    {
     "data": {
      "application/vnd.jupyter.widget-view+json": {
       "model_id": "4d24570b77ad40bc9fc630629597a7ba",
       "version_major": 2,
       "version_minor": 0
      },
      "text/plain": [
       "Checkbox(value=False, description='Flange thickness at least 7/8 inch? See BDM 308.2.2.3.c.1', indent=False, l…"
      ]
     },
     "metadata": {},
     "output_type": "display_data"
    },
    {
     "data": {
      "application/vnd.jupyter.widget-view+json": {
       "model_id": "b2a03f575ead4b1abcfb0b0c757271af",
       "version_major": 2,
       "version_minor": 0
      },
      "text/plain": [
       "Checkbox(value=False, description='Web thickness and stiffener thickness at least 3/8 inch See BDM 308.2.2.3.c…"
      ]
     },
     "metadata": {},
     "output_type": "display_data"
    },
    {
     "data": {
      "application/vnd.jupyter.widget-view+json": {
       "model_id": "0386e6cf7a89488395916e95cf61d6ab",
       "version_major": 2,
       "version_minor": 0
      },
      "text/plain": [
       "Checkbox(value=False, description='Flange butt welds subject only to compressive stresses identified as CS and…"
      ]
     },
     "metadata": {},
     "output_type": "display_data"
    },
    {
     "data": {
      "application/vnd.jupyter.widget-view+json": {
       "model_id": "9b283d76a2f6435288e21e30bc776c72",
       "version_major": 2,
       "version_minor": 0
      },
      "text/plain": [
       "Checkbox(value=False, description='Non-redundant main steel members identified as FCM (Fracture Critical Membe…"
      ]
     },
     "metadata": {},
     "output_type": "display_data"
    },
    {
     "data": {
      "application/vnd.jupyter.widget-view+json": {
       "model_id": "299b6f7b495e44ba8fe421eeb19f0a3c",
       "version_major": 2,
       "version_minor": 0
      },
      "text/plain": [
       "Checkbox(value=False, description='Longitudinal stiffeners not used? Transverse stiffeners preferably not used…"
      ]
     },
     "metadata": {},
     "output_type": "display_data"
    },
    {
     "data": {
      "application/vnd.jupyter.widget-view+json": {
       "model_id": "1c1a44bb41c5493dad5213b3f823aaf5",
       "version_major": 2,
       "version_minor": 0
      },
      "text/plain": [
       "Checkbox(value=False, description='Transverse stiffeners (if used) placed on alternate sides of interior girde…"
      ]
     },
     "metadata": {},
     "output_type": "display_data"
    },
    {
     "data": {
      "application/vnd.jupyter.widget-view+json": {
       "model_id": "0b6ac1189b8c40ea9056d285ce1f68ec",
       "version_major": 2,
       "version_minor": 0
      },
      "text/plain": [
       "Checkbox(value=False, description='Cross frame connection stiffeners fillet welded to web and both flanges See…"
      ]
     },
     "metadata": {},
     "output_type": "display_data"
    },
    {
     "data": {
      "application/vnd.jupyter.widget-view+json": {
       "model_id": "9ace8c98c9fb4d3ba5febcc1be33aa63",
       "version_major": 2,
       "version_minor": 0
      },
      "text/plain": [
       "Checkbox(value=False, description='Bearing stiffeners made to extend as near as practicable to outer edges of …"
      ]
     },
     "metadata": {},
     "output_type": "display_data"
    },
    {
     "data": {
      "application/vnd.jupyter.widget-view+json": {
       "model_id": "d18e6dc9d9ca41f290f7e38a2ced32f3",
       "version_major": 2,
       "version_minor": 0
      },
      "text/plain": [
       "Checkbox(value=False, description='Intermediate cross frame angle size and connections conform with STD DWG GS…"
      ]
     },
     "metadata": {},
     "output_type": "display_data"
    },
    {
     "data": {
      "application/vnd.jupyter.widget-view+json": {
       "model_id": "4a7c14b9a10a4d0494be4359095587b8",
       "version_major": 2,
       "version_minor": 0
      },
      "text/plain": [
       "Checkbox(value=False, description='Constant flange widths used whenever possible? Make changes in flange width…"
      ]
     },
     "metadata": {},
     "output_type": "display_data"
    },
    {
     "data": {
      "application/vnd.jupyter.widget-view+json": {
       "model_id": "e2094e035d854a0fb6ca6a9a48c94c0c",
       "version_major": 2,
       "version_minor": 0
      },
      "text/plain": [
       "Checkbox(value=False, description='Clearance between the bottom mat and top of the bolt over splice plate See …"
      ]
     },
     "metadata": {},
     "output_type": "display_data"
    }
   ],
   "source": [
    "# Function to display the \"plate_girders\" section\n",
    "def display_plate_girders():\n",
    "    header = widgets.HTML(\"<b><u>Plate Girders</u></b>\")\n",
    "    display(header)\n",
    "    checkboxes = []\n",
    "    for criterion in plate_girders_criteria:\n",
    "        label = criterion[\"label\"]\n",
    "        # Add \"See BDM {section}\" for items with a 'section' entry\n",
    "        if \"section\" in criterion:\n",
    "            label = f\"{label} See BDM {criterion['section']}\"\n",
    "        checkbox = widgets.Checkbox(\n",
    "            description=label,\n",
    "            value=False,\n",
    "            indent=False,\n",
    "            layout=widgets.Layout(width='100%', margin='6px 0 0 0px')\n",
    "        )\n",
    "        checkbox.style = {'description_width': '0px'}\n",
    "        checkboxes.append(checkbox)\n",
    "        display(checkbox)\n",
    "\n",
    "# Display the \"plate_girders\" section\n",
    "display_plate_girders()"
   ]
  },
  {
   "cell_type": "markdown",
   "id": "d839f110-bc88-4f05-855d-80dbe85e9319",
   "metadata": {},
   "source": [
    "## Concrete Deck on Concrete I-Beams or Steel Stringers"
   ]
  },
  {
   "cell_type": "code",
   "execution_count": 59,
   "id": "edf5428d-a040-48fb-a3db-3b671d8a51e5",
   "metadata": {},
   "outputs": [],
   "source": [
    "# Define the concrete_deck_on_stringers criteria\n",
    "concrete_deck_on_stringers_criteria = [\n",
    "    {\"label\": \"Verify bottom concrete cover of bars in the overhang deck\", \"section\": \"LRFD 5.10.1, 304.4.8\"},\n",
    "    {\"label\": \"Sealing of concrete surfaces shown and appropriate\", \"section\": \"309.2.1\"},\n",
    "    {\"label\": \"Stainless steel drip strip provided on decks with over-the-side drainage?\", \"section\": \"309.7 and 309.2\"},\n",
    "    {\"label\": \"Deck slab depth over stringers shown to top of web for plate girders and to top of flange for rolled beams or prestressed concrete I-beams and plan note provided\", \"section\": \"702.5 and 702.6\"},\n",
    "    {\"label\": \"2-inch minimum concrete haunch depth used over stringers (top of thickest flange section to bottom of slab)\", \"section\": \"309.3.5\"},\n",
    "    {\"label\": \"For steel beam or girder bridges with skew less than 15 degrees the transverse bars parallel to abutment and for skew more than 15 degrees or interference with shear stud, transverse bars placed perpendicular to the centerline of bridge.\", \"section\": \"309.3.4.2\"},\n",
    "    {\"label\": \"For prestressed I-beam or composite box beam bridge deck, transverse bars perpendicular to the centerline of bridge.\", \"section\": \"309.3.4.2\"},\n",
    "    {\"label\": \"Slab thickness and reinforcement conform to\", \"section\": \"Figure 309-3, 309-4 or 309-5\"},\n",
    "    {\"label\": \"Top and bottom main (transverse) bars at same spacing and placed to coincide in a vertical plane?\", \"section\": \"309.3.4.2\"},\n",
    "    {\"label\": \"Transverse bars placed parallel to abutments for bridges with skews less than 15 degrees?\", \"section\": \"309.3.4.2\"},\n",
    "    {\"label\": \"Length of transverse bars without lap splices 5 inches shorter than deck (edge to edge distance) to ensure adequate cover at ends of bar, allowing for shop cutting tolerances?\"},\n",
    "    {\"label\": \"(Transverse) bars\", \"section\": \"309.3.4.1\"},\n",
    "    {\"label\": \"Secondary (longitudinal) bars placed above main\", \"section\": \"309.3.4.1\"},\n",
    "    {\"label\": \"Additional top longitudinal bars with ends staggered 3'-0\\\" provided over piers on continuous structures? Total longitudinal reinforcement meets the requirements of AASHTO LRFD 6.10.1.7 for steel stringers or for prestressed concrete I-beam? Generally, No. 6 bars midspaced between top full length longitudinal bars will be adequate and will provide enough clearance between bars to facilitate concrete placement and vibration.\", \"section\": \"308.2.3.3.c\"},\n",
    "    {\"label\": \"Screed elevations given along curb lines/edges of deck, roadway crown, transverse grade-break lines and phase construction lines at all bearings, quarter-span, mid-span, and splice points, plus any points required for a maximum 25 foot spacing.\", \"section\": \"309.3.3.1\"},\n",
    "    {\"label\": \"Slab pour sequence generally specified only when uplift during construction or differential deflections at intermediate expansion joints are of concern.\", \"section\": \"2.2.3.g, 403.5.4\"},\n",
    "    {\"label\": \"Check three independent sources of girder twist resulting from deck placement: global superstructure distortion, oil-canning and girder warping.\", \"section\": \"309.3.8.2\"},\n",
    "    {\"label\": \"Neglect girder twist due to global deformation if the tributary deck load carried by the fascia girder is less than 110% of the average of the tributary deck load carried by the interior members for new structure and 115% for existing structure.\", \"section\": \"309.3.8.2.a\"},\n",
    "    {\"label\": \"For web depth greater than 84 inches note for location of lower contact point of the overhang false work included.\", \"section\": \"611.4.1\"},\n",
    "    {\"label\": \"Screed, top of haunch and finished deck surface shown and note included?\", \"section\": \"309.3.3.1, 309.3.3.2, 309.3.3.3, 702.12.1, 702.12.2, 702.12.3\"},\n",
    "    {\"label\": \"The final deck surface elevation locations should be identified in a plan view.\", \"section\": \"309.3.3.3\"},\n",
    "    {\"label\": \"The screed elevation locations should be identified on the transverse section.\", \"section\": \"702.12.1\"},\n",
    "    {\"label\": \"The top of haunch elevation locations should be identified on the transverse section.\", \"section\": \"702.12.2\"},\n",
    "    {\"label\": \"Deck placement design assumptions note is included.\", \"section\": \"611.4.2\"}\n",
    "]"
   ]
  },
  {
   "cell_type": "code",
   "execution_count": 60,
   "id": "9088d84e-fe71-46e7-b5a6-5318288afda7",
   "metadata": {},
   "outputs": [
    {
     "data": {
      "application/vnd.jupyter.widget-view+json": {
       "model_id": "6d79a61f8c8447a1b702fe6ce9ac10bb",
       "version_major": 2,
       "version_minor": 0
      },
      "text/plain": [
       "HTML(value='<b><u>Concrete Deck on Stringers</u></b>')"
      ]
     },
     "metadata": {},
     "output_type": "display_data"
    },
    {
     "data": {
      "application/vnd.jupyter.widget-view+json": {
       "model_id": "0e4a49cf13c3445daf37067654e9ab21",
       "version_major": 2,
       "version_minor": 0
      },
      "text/plain": [
       "Checkbox(value=False, description='Verify bottom concrete cover of bars in the overhang deck See BDM LRFD 5.10…"
      ]
     },
     "metadata": {},
     "output_type": "display_data"
    },
    {
     "data": {
      "application/vnd.jupyter.widget-view+json": {
       "model_id": "6a134f5c29ce4a23aadca8729bd667f2",
       "version_major": 2,
       "version_minor": 0
      },
      "text/plain": [
       "Checkbox(value=False, description='Sealing of concrete surfaces shown and appropriate See BDM 309.2.1', indent…"
      ]
     },
     "metadata": {},
     "output_type": "display_data"
    },
    {
     "data": {
      "application/vnd.jupyter.widget-view+json": {
       "model_id": "ee65474eeb2f4a05ac024d5500d3523b",
       "version_major": 2,
       "version_minor": 0
      },
      "text/plain": [
       "Checkbox(value=False, description='Stainless steel drip strip provided on decks with over-the-side drainage? S…"
      ]
     },
     "metadata": {},
     "output_type": "display_data"
    },
    {
     "data": {
      "application/vnd.jupyter.widget-view+json": {
       "model_id": "2752798af55044fda17f62bf2ee3d6a8",
       "version_major": 2,
       "version_minor": 0
      },
      "text/plain": [
       "Checkbox(value=False, description='Deck slab depth over stringers shown to top of web for plate girders and to…"
      ]
     },
     "metadata": {},
     "output_type": "display_data"
    },
    {
     "data": {
      "application/vnd.jupyter.widget-view+json": {
       "model_id": "ae63e648ead7419f8433d36389226305",
       "version_major": 2,
       "version_minor": 0
      },
      "text/plain": [
       "Checkbox(value=False, description='2-inch minimum concrete haunch depth used over stringers (top of thickest f…"
      ]
     },
     "metadata": {},
     "output_type": "display_data"
    },
    {
     "data": {
      "application/vnd.jupyter.widget-view+json": {
       "model_id": "19b8cb60a1124ee49810b94903a4be6a",
       "version_major": 2,
       "version_minor": 0
      },
      "text/plain": [
       "Checkbox(value=False, description='For steel beam or girder bridges with skew less than 15 degrees the transve…"
      ]
     },
     "metadata": {},
     "output_type": "display_data"
    },
    {
     "data": {
      "application/vnd.jupyter.widget-view+json": {
       "model_id": "2b2bb512e53649fea116db5fc8305526",
       "version_major": 2,
       "version_minor": 0
      },
      "text/plain": [
       "Checkbox(value=False, description='For prestressed I-beam or composite box beam bridge deck, transverse bars p…"
      ]
     },
     "metadata": {},
     "output_type": "display_data"
    },
    {
     "data": {
      "application/vnd.jupyter.widget-view+json": {
       "model_id": "c294512c50a84b69ab3146feaf7ccc2a",
       "version_major": 2,
       "version_minor": 0
      },
      "text/plain": [
       "Checkbox(value=False, description='Slab thickness and reinforcement conform to See BDM Figure 309-3, 309-4 or …"
      ]
     },
     "metadata": {},
     "output_type": "display_data"
    },
    {
     "data": {
      "application/vnd.jupyter.widget-view+json": {
       "model_id": "d72bbe5064da45d596bcaf50359f46ec",
       "version_major": 2,
       "version_minor": 0
      },
      "text/plain": [
       "Checkbox(value=False, description='Top and bottom main (transverse) bars at same spacing and placed to coincid…"
      ]
     },
     "metadata": {},
     "output_type": "display_data"
    },
    {
     "data": {
      "application/vnd.jupyter.widget-view+json": {
       "model_id": "c5a6ceb740ce48a0839443fba8b7e7be",
       "version_major": 2,
       "version_minor": 0
      },
      "text/plain": [
       "Checkbox(value=False, description='Transverse bars placed parallel to abutments for bridges with skews less th…"
      ]
     },
     "metadata": {},
     "output_type": "display_data"
    },
    {
     "data": {
      "application/vnd.jupyter.widget-view+json": {
       "model_id": "5a82b60f068d453d8ee9501b1111c880",
       "version_major": 2,
       "version_minor": 0
      },
      "text/plain": [
       "Checkbox(value=False, description='Length of transverse bars without lap splices 5 inches shorter than deck (e…"
      ]
     },
     "metadata": {},
     "output_type": "display_data"
    },
    {
     "data": {
      "application/vnd.jupyter.widget-view+json": {
       "model_id": "fa3323a3eac34d7db2abb273c46b7bf0",
       "version_major": 2,
       "version_minor": 0
      },
      "text/plain": [
       "Checkbox(value=False, description='(Transverse) bars See BDM 309.3.4.1', indent=False, layout=Layout(margin='6…"
      ]
     },
     "metadata": {},
     "output_type": "display_data"
    },
    {
     "data": {
      "application/vnd.jupyter.widget-view+json": {
       "model_id": "185013af54274365be589d0b1797518b",
       "version_major": 2,
       "version_minor": 0
      },
      "text/plain": [
       "Checkbox(value=False, description='Secondary (longitudinal) bars placed above main See BDM 309.3.4.1', indent=…"
      ]
     },
     "metadata": {},
     "output_type": "display_data"
    },
    {
     "data": {
      "application/vnd.jupyter.widget-view+json": {
       "model_id": "7926e49c1c5a459694bf2313d31c5241",
       "version_major": 2,
       "version_minor": 0
      },
      "text/plain": [
       "Checkbox(value=False, description='Additional top longitudinal bars with ends staggered 3\\'-0\" provided over p…"
      ]
     },
     "metadata": {},
     "output_type": "display_data"
    },
    {
     "data": {
      "application/vnd.jupyter.widget-view+json": {
       "model_id": "be0a7f564d87450ba40c33e02f519358",
       "version_major": 2,
       "version_minor": 0
      },
      "text/plain": [
       "Checkbox(value=False, description='Screed elevations given along curb lines/edges of deck, roadway crown, tran…"
      ]
     },
     "metadata": {},
     "output_type": "display_data"
    },
    {
     "data": {
      "application/vnd.jupyter.widget-view+json": {
       "model_id": "01888af393174a818f169b0879e80e84",
       "version_major": 2,
       "version_minor": 0
      },
      "text/plain": [
       "Checkbox(value=False, description='Slab pour sequence generally specified only when uplift during construction…"
      ]
     },
     "metadata": {},
     "output_type": "display_data"
    },
    {
     "data": {
      "application/vnd.jupyter.widget-view+json": {
       "model_id": "9168c84fba184fdcbf3d6b87b09232cc",
       "version_major": 2,
       "version_minor": 0
      },
      "text/plain": [
       "Checkbox(value=False, description='Check three independent sources of girder twist resulting from deck placeme…"
      ]
     },
     "metadata": {},
     "output_type": "display_data"
    },
    {
     "data": {
      "application/vnd.jupyter.widget-view+json": {
       "model_id": "21951627a0d04be0af3e3967b5902452",
       "version_major": 2,
       "version_minor": 0
      },
      "text/plain": [
       "Checkbox(value=False, description='Neglect girder twist due to global deformation if the tributary deck load c…"
      ]
     },
     "metadata": {},
     "output_type": "display_data"
    },
    {
     "data": {
      "application/vnd.jupyter.widget-view+json": {
       "model_id": "e936ba9df69c4809b926550a97442b3c",
       "version_major": 2,
       "version_minor": 0
      },
      "text/plain": [
       "Checkbox(value=False, description='For web depth greater than 84 inches note for location of lower contact poi…"
      ]
     },
     "metadata": {},
     "output_type": "display_data"
    },
    {
     "data": {
      "application/vnd.jupyter.widget-view+json": {
       "model_id": "86aac9b89a4943468b67d5b5469de2e1",
       "version_major": 2,
       "version_minor": 0
      },
      "text/plain": [
       "Checkbox(value=False, description='Screed, top of haunch and finished deck surface shown and note included? Se…"
      ]
     },
     "metadata": {},
     "output_type": "display_data"
    },
    {
     "data": {
      "application/vnd.jupyter.widget-view+json": {
       "model_id": "e7817e67662d425b92362eabaa428692",
       "version_major": 2,
       "version_minor": 0
      },
      "text/plain": [
       "Checkbox(value=False, description='The final deck surface elevation locations should be identified in a plan v…"
      ]
     },
     "metadata": {},
     "output_type": "display_data"
    },
    {
     "data": {
      "application/vnd.jupyter.widget-view+json": {
       "model_id": "133fe1f1a5dd4e25889134114fcfc828",
       "version_major": 2,
       "version_minor": 0
      },
      "text/plain": [
       "Checkbox(value=False, description='The screed elevation locations should be identified on the transverse secti…"
      ]
     },
     "metadata": {},
     "output_type": "display_data"
    },
    {
     "data": {
      "application/vnd.jupyter.widget-view+json": {
       "model_id": "f338ef62f62f4c63a89b4c4caaf6f613",
       "version_major": 2,
       "version_minor": 0
      },
      "text/plain": [
       "Checkbox(value=False, description='The top of haunch elevation locations should be identified on the transvers…"
      ]
     },
     "metadata": {},
     "output_type": "display_data"
    },
    {
     "data": {
      "application/vnd.jupyter.widget-view+json": {
       "model_id": "14e960b3c8954e71b90ba7c13f219a46",
       "version_major": 2,
       "version_minor": 0
      },
      "text/plain": [
       "Checkbox(value=False, description='Deck placement design assumptions note is included. See BDM 611.4.2', inden…"
      ]
     },
     "metadata": {},
     "output_type": "display_data"
    }
   ],
   "source": [
    "# Function to display the \"concrete_deck_on_stringers\" section\n",
    "def display_concrete_deck_on_stringers():\n",
    "    header = widgets.HTML(\"<b><u>Concrete Deck on Stringers</u></b>\")\n",
    "    display(header)\n",
    "    checkboxes = []\n",
    "    for criterion in concrete_deck_on_stringers_criteria:\n",
    "        label = criterion[\"label\"]\n",
    "        # Add \"See BDM {section}\" for items with a 'section' entry\n",
    "        if \"section\" in criterion:\n",
    "            label = f\"{label} See BDM {criterion['section']}\"\n",
    "        checkbox = widgets.Checkbox(\n",
    "            description=label,\n",
    "            value=False,\n",
    "            indent=False,\n",
    "            layout=widgets.Layout(width='100%', margin='6px 0 0 0px')\n",
    "        )\n",
    "        checkbox.style = {'description_width': '0px'}\n",
    "        checkboxes.append(checkbox)\n",
    "        display(checkbox)\n",
    "\n",
    "# Display the \"concrete_deck_on_stringers\" section\n",
    "display_concrete_deck_on_stringers()"
   ]
  },
  {
   "cell_type": "markdown",
   "id": "a5586ae5-9959-4512-9f69-121d9cb3a76a",
   "metadata": {},
   "source": [
    "## Railing/Fence"
   ]
  },
  {
   "cell_type": "markdown",
   "id": "d9617f71-5640-4d26-977d-9a84ab293bc4",
   "metadata": {},
   "source": [
    "### Deep Beam Railing"
   ]
  },
  {
   "cell_type": "code",
   "execution_count": 61,
   "id": "85ff97ab-239d-4208-8c96-92b899d9da6d",
   "metadata": {},
   "outputs": [],
   "source": [
    "# Define the deep_beam_railing criteria\n",
    "deep_beam_railing_criteria = [\n",
    "    {\"label\": \"Deep beam guardrail must be used in accordance with\", \"section\": \"309.4.3.4\"}\n",
    "]"
   ]
  },
  {
   "cell_type": "code",
   "execution_count": 62,
   "id": "e766eef8-f6a4-4b90-8aaf-009892ced96e",
   "metadata": {},
   "outputs": [
    {
     "data": {
      "application/vnd.jupyter.widget-view+json": {
       "model_id": "b7d0e8ff9f8d450f9980fd0b7e08a36f",
       "version_major": 2,
       "version_minor": 0
      },
      "text/plain": [
       "HTML(value='<b><u>Deep Beam Railing</u></b>')"
      ]
     },
     "metadata": {},
     "output_type": "display_data"
    },
    {
     "data": {
      "application/vnd.jupyter.widget-view+json": {
       "model_id": "e74b1b23becf4b569767428190e154f5",
       "version_major": 2,
       "version_minor": 0
      },
      "text/plain": [
       "Checkbox(value=False, description='Deep beam guardrail must be used in accordance with See BDM 309.4.3.4', ind…"
      ]
     },
     "metadata": {},
     "output_type": "display_data"
    }
   ],
   "source": [
    "# Function to display the \"deep_beam_railing\" section\n",
    "def display_deep_beam_railing():\n",
    "    header = widgets.HTML(\"<b><u>Deep Beam Railing</u></b>\")\n",
    "    display(header)\n",
    "    checkboxes = []\n",
    "    for criterion in deep_beam_railing_criteria:\n",
    "        label = criterion[\"label\"]\n",
    "        # Add \"See BDM {section}\" for items with a 'section' entry\n",
    "        if \"section\" in criterion:\n",
    "            label = f\"{label} See BDM {criterion['section']}\"\n",
    "        checkbox = widgets.Checkbox(\n",
    "            description=label,\n",
    "            value=False,\n",
    "            indent=False,\n",
    "            layout=widgets.Layout(width='100%', margin='6px 0 0 0px')\n",
    "        )\n",
    "        checkbox.style = {'description_width': '0px'}\n",
    "        checkboxes.append(checkbox)\n",
    "        display(checkbox)\n",
    "\n",
    "# Display the \"deep_beam_railing\" section\n",
    "display_deep_beam_railing()"
   ]
  },
  {
   "cell_type": "markdown",
   "id": "e818f979-7fb4-4183-8dc8-4fd662c19fcd",
   "metadata": {},
   "source": [
    "### Twin Steel Tube Rail"
   ]
  },
  {
   "cell_type": "code",
   "execution_count": 63,
   "id": "aaa9319a-3236-46cd-926e-4bb29052c245",
   "metadata": {},
   "outputs": [],
   "source": [
    "# Define the twin_steel_tube criteria\n",
    "twin_steel_tube_criteria = [\n",
    "    {\"label\": \"Reference to Standard Drawing. TST-1-99 Given.\"},\n",
    "    {\"label\": \"Pay limits for bridge railing measured center-to-center of the second posts on the approaches?\"},\n",
    "    {\"label\": \"Rail post spacing of 6'-3\\\" c/c of post maintained except one post spacing per span can be decreased to allow for construction clearances.\"},\n",
    "    {\"label\": \"Suitable clearances between posts and back walls and between post anchors and expansion joint armor anchors provided?\"},\n",
    "    {\"label\": \"Wing-wall mounted post used to provide suitable post and anchor bar clearances?\"},\n",
    "    {\"label\": \"For box beam bridges with steel railing, the post spacing and position of post anchorage shall be detailed on the plans.\"},\n",
    "    {\"label\": \"Enlarged details provided to describe post anchorage to composite box beams?\"}\n",
    "]"
   ]
  },
  {
   "cell_type": "code",
   "execution_count": 64,
   "id": "fdf56e86-04f4-48e0-8c28-5eeafaaf8eb4",
   "metadata": {},
   "outputs": [
    {
     "data": {
      "application/vnd.jupyter.widget-view+json": {
       "model_id": "c1c54da970fa4766b7c5515a4d0da45a",
       "version_major": 2,
       "version_minor": 0
      },
      "text/plain": [
       "HTML(value='<b><u>Twin Steel Tube</u></b>')"
      ]
     },
     "metadata": {},
     "output_type": "display_data"
    },
    {
     "data": {
      "application/vnd.jupyter.widget-view+json": {
       "model_id": "9811e0fb72ce4e38852315daa59a37e1",
       "version_major": 2,
       "version_minor": 0
      },
      "text/plain": [
       "Checkbox(value=False, description='Reference to Standard Drawing. TST-1-99 Given.', indent=False, layout=Layou…"
      ]
     },
     "metadata": {},
     "output_type": "display_data"
    },
    {
     "data": {
      "application/vnd.jupyter.widget-view+json": {
       "model_id": "7869792851b34e51a9838b6ce9559cd5",
       "version_major": 2,
       "version_minor": 0
      },
      "text/plain": [
       "Checkbox(value=False, description='Pay limits for bridge railing measured center-to-center of the second posts…"
      ]
     },
     "metadata": {},
     "output_type": "display_data"
    },
    {
     "data": {
      "application/vnd.jupyter.widget-view+json": {
       "model_id": "d55272a3f14b4583ba9806bb2ada6873",
       "version_major": 2,
       "version_minor": 0
      },
      "text/plain": [
       "Checkbox(value=False, description='Rail post spacing of 6\\'-3\" c/c of post maintained except one post spacing …"
      ]
     },
     "metadata": {},
     "output_type": "display_data"
    },
    {
     "data": {
      "application/vnd.jupyter.widget-view+json": {
       "model_id": "f5d045f251dc4c17ae5e91901f8877d1",
       "version_major": 2,
       "version_minor": 0
      },
      "text/plain": [
       "Checkbox(value=False, description='Suitable clearances between posts and back walls and between post anchors a…"
      ]
     },
     "metadata": {},
     "output_type": "display_data"
    },
    {
     "data": {
      "application/vnd.jupyter.widget-view+json": {
       "model_id": "eba814606a01401a98ba307e2e90b62c",
       "version_major": 2,
       "version_minor": 0
      },
      "text/plain": [
       "Checkbox(value=False, description='Wing-wall mounted post used to provide suitable post and anchor bar clearan…"
      ]
     },
     "metadata": {},
     "output_type": "display_data"
    },
    {
     "data": {
      "application/vnd.jupyter.widget-view+json": {
       "model_id": "c24402f754f6464b98132437d8a4151b",
       "version_major": 2,
       "version_minor": 0
      },
      "text/plain": [
       "Checkbox(value=False, description='For box beam bridges with steel railing, the post spacing and position of p…"
      ]
     },
     "metadata": {},
     "output_type": "display_data"
    },
    {
     "data": {
      "application/vnd.jupyter.widget-view+json": {
       "model_id": "44d2deb861644331a885d269986ac052",
       "version_major": 2,
       "version_minor": 0
      },
      "text/plain": [
       "Checkbox(value=False, description='Enlarged details provided to describe post anchorage to composite box beams…"
      ]
     },
     "metadata": {},
     "output_type": "display_data"
    }
   ],
   "source": [
    "# Function to display the \"twin_steel_tube\" section\n",
    "def display_twin_steel_tube():\n",
    "    header = widgets.HTML(\"<b><u>Twin Steel Tube</u></b>\")\n",
    "    display(header)\n",
    "    checkboxes = []\n",
    "    for criterion in twin_steel_tube_criteria:\n",
    "        label = criterion[\"label\"]\n",
    "        checkbox = widgets.Checkbox(\n",
    "            description=label,\n",
    "            value=False,\n",
    "            indent=False,\n",
    "            layout=widgets.Layout(width='100%', margin='6px 0 0 0px')\n",
    "        )\n",
    "        checkbox.style = {'description_width': '0px'}\n",
    "        checkboxes.append(checkbox)\n",
    "        display(checkbox)\n",
    "\n",
    "# Display the \"twin_steel_tube\" section\n",
    "display_twin_steel_tube()"
   ]
  },
  {
   "cell_type": "markdown",
   "id": "6e8193f8-ac93-4a42-9f43-2bf0329f4fec",
   "metadata": {},
   "source": [
    "### Sidewalk Railing with Concrete Parapet (BR-2-98 Type Railing)"
   ]
  },
  {
   "cell_type": "code",
   "execution_count": 65,
   "id": "e8e36b59-438b-496a-bfab-84f6139278fd",
   "metadata": {},
   "outputs": [],
   "source": [
    "# Define the sidewalk_with_conc_para criteria\n",
    "sidewalk_with_conc_para_criteria = [\n",
    "    {\"label\": \"Railing posts spaced to clear parapet deflection joints as per STD-BR-2-15.\"},\n",
    "    {\"label\": \"Radius of curved railing not less than 20 feet without special details. This is noted in STD-BR-2-15 Sheet 5 of 5 Under Horizontal Curvatures Title.\"},\n",
    "    {\"label\": \"All horizontal reinforcing steel should be detailed as per STD-BR-2-15.\"},\n",
    "    {\"label\": \"Steel tubing has provision for Expansion and Contraction as shown on STD-BR-2-15 Sheet 1 of 5 View D-D.\"}\n",
    "]"
   ]
  },
  {
   "cell_type": "code",
   "execution_count": 66,
   "id": "eb898087-f267-4ef3-9a48-1f1bcc0e4ea1",
   "metadata": {},
   "outputs": [
    {
     "data": {
      "application/vnd.jupyter.widget-view+json": {
       "model_id": "99e3e08ad3e14cc8a7038c417eaf0df7",
       "version_major": 2,
       "version_minor": 0
      },
      "text/plain": [
       "HTML(value='<b><u>Sidewalk with Concrete Parapet</u></b>')"
      ]
     },
     "metadata": {},
     "output_type": "display_data"
    },
    {
     "data": {
      "application/vnd.jupyter.widget-view+json": {
       "model_id": "963611c297ca406f844c5ac54bbd96ef",
       "version_major": 2,
       "version_minor": 0
      },
      "text/plain": [
       "Checkbox(value=False, description='Railing posts spaced to clear parapet deflection joints as per STD-BR-2-15.…"
      ]
     },
     "metadata": {},
     "output_type": "display_data"
    },
    {
     "data": {
      "application/vnd.jupyter.widget-view+json": {
       "model_id": "7ca927b0cbda46b9a9f7114f388215e2",
       "version_major": 2,
       "version_minor": 0
      },
      "text/plain": [
       "Checkbox(value=False, description='Radius of curved railing not less than 20 feet without special details. Thi…"
      ]
     },
     "metadata": {},
     "output_type": "display_data"
    },
    {
     "data": {
      "application/vnd.jupyter.widget-view+json": {
       "model_id": "02d4ba5fca1741c7b4daafe656f75114",
       "version_major": 2,
       "version_minor": 0
      },
      "text/plain": [
       "Checkbox(value=False, description='All horizontal reinforcing steel should be detailed as per STD-BR-2-15.', i…"
      ]
     },
     "metadata": {},
     "output_type": "display_data"
    },
    {
     "data": {
      "application/vnd.jupyter.widget-view+json": {
       "model_id": "05898d8d1f734582b25e6840c573932f",
       "version_major": 2,
       "version_minor": 0
      },
      "text/plain": [
       "Checkbox(value=False, description='Steel tubing has provision for Expansion and Contraction as shown on STD-BR…"
      ]
     },
     "metadata": {},
     "output_type": "display_data"
    }
   ],
   "source": [
    "# Function to display the \"sidewalk_with_conc_para\" section\n",
    "def display_sidewalk_with_conc_para():\n",
    "    header = widgets.HTML(\"<b><u>Sidewalk with Concrete Parapet</u></b>\")\n",
    "    display(header)\n",
    "    checkboxes = []\n",
    "    for criterion in sidewalk_with_conc_para_criteria:\n",
    "        label = criterion[\"label\"]\n",
    "        checkbox = widgets.Checkbox(\n",
    "            description=label,\n",
    "            value=False,\n",
    "            indent=False,\n",
    "            layout=widgets.Layout(width='100%', margin='6px 0 0 0px')\n",
    "        )\n",
    "        checkbox.style = {'description_width': '0px'}\n",
    "        checkboxes.append(checkbox)\n",
    "        display(checkbox)\n",
    "\n",
    "# Display the \"sidewalk_with_conc_para\" section\n",
    "display_sidewalk_with_conc_para()"
   ]
  },
  {
   "cell_type": "markdown",
   "id": "7b588534-5344-4df9-8b18-e4cad1a905c0",
   "metadata": {},
   "source": [
    "### Parapet Type Railing"
   ]
  },
  {
   "cell_type": "code",
   "execution_count": 67,
   "id": "bcae8ab7-faeb-4981-834c-00de95526cf7",
   "metadata": {},
   "outputs": [],
   "source": [
    "# Define the parapet_railing criteria\n",
    "parapet_railing_criteria = [\n",
    "    {\"label\": \"Parapet when to use per\", \"section\": \"309.4.3\"},\n",
    "    {\"label\": \"Complete details of the Parapet Type bridge railing shown on the plans?\"},\n",
    "    {\"label\": \"Railing transition preferably mounted on turn back abutment wingwalls or approach slabs?\"},\n",
    "    {\"label\": \"For bridges with expansion joints and with parapets mounted on approach slabs, the 1'-1\\\" high base portion of the parapets within the width of back walls are reinforced and placed as part of the abutments to provide an integral structure for mounting the expansion joint armor?\"},\n",
    "    {\"label\": \"Such parapets provided with special reinforcement and joint details to allow consolidation induced rotation of the approach slabs without parapet distress?\"},\n",
    "    {\"label\": \"Curb heights on approach slabs limited to 4 inches as shown in Section F-F on Deflector Parapet Type drawing?\"},\n",
    "    {\"label\": \"Details of filler between approach slab and turn back wing-wall at the base of the parapet made to conform to DETAIL F of Standard Drawing AS-1-15.\"},\n",
    "    {\"label\": \"Parapet length of 14'-0\\\" or more provided to allow the standard transition length to be used?\"},\n",
    "    {\"label\": \"Reference made to the roadway plans for details and payment provisions for Bridge Terminal Assembly\", \"section\": \"Drawings MGS-3.1 and MGS-3.2\"}\n",
    "]"
   ]
  },
  {
   "cell_type": "code",
   "execution_count": 68,
   "id": "e64285c6-39e9-46eb-bf97-3d8c04265431",
   "metadata": {},
   "outputs": [
    {
     "data": {
      "application/vnd.jupyter.widget-view+json": {
       "model_id": "a3254a4b6fd543e1a438aa038e7a4734",
       "version_major": 2,
       "version_minor": 0
      },
      "text/plain": [
       "HTML(value='<b><u>Parapet Railing</u></b>')"
      ]
     },
     "metadata": {},
     "output_type": "display_data"
    },
    {
     "data": {
      "application/vnd.jupyter.widget-view+json": {
       "model_id": "e3898e4cc3af46bb83253f6506d11ca6",
       "version_major": 2,
       "version_minor": 0
      },
      "text/plain": [
       "Checkbox(value=False, description='Parapet when to use per See BDM 309.4.3', indent=False, layout=Layout(margi…"
      ]
     },
     "metadata": {},
     "output_type": "display_data"
    },
    {
     "data": {
      "application/vnd.jupyter.widget-view+json": {
       "model_id": "93cc9128e3a34db4bd0b3af4b1c43af0",
       "version_major": 2,
       "version_minor": 0
      },
      "text/plain": [
       "Checkbox(value=False, description='Complete details of the Parapet Type bridge railing shown on the plans?', i…"
      ]
     },
     "metadata": {},
     "output_type": "display_data"
    },
    {
     "data": {
      "application/vnd.jupyter.widget-view+json": {
       "model_id": "cf28b756890f4c44944b6b32b7ba4fc2",
       "version_major": 2,
       "version_minor": 0
      },
      "text/plain": [
       "Checkbox(value=False, description='Railing transition preferably mounted on turn back abutment wingwalls or ap…"
      ]
     },
     "metadata": {},
     "output_type": "display_data"
    },
    {
     "data": {
      "application/vnd.jupyter.widget-view+json": {
       "model_id": "b20d3f3f7c924e1bbbd0fecf6ee6fc0f",
       "version_major": 2,
       "version_minor": 0
      },
      "text/plain": [
       "Checkbox(value=False, description='For bridges with expansion joints and with parapets mounted on approach sla…"
      ]
     },
     "metadata": {},
     "output_type": "display_data"
    },
    {
     "data": {
      "application/vnd.jupyter.widget-view+json": {
       "model_id": "742146b1868644f59d163afc12f7fb64",
       "version_major": 2,
       "version_minor": 0
      },
      "text/plain": [
       "Checkbox(value=False, description='Such parapets provided with special reinforcement and joint details to allo…"
      ]
     },
     "metadata": {},
     "output_type": "display_data"
    },
    {
     "data": {
      "application/vnd.jupyter.widget-view+json": {
       "model_id": "de996352fd9c4c36864a91a1d0ceaa2a",
       "version_major": 2,
       "version_minor": 0
      },
      "text/plain": [
       "Checkbox(value=False, description='Curb heights on approach slabs limited to 4 inches as shown in Section F-F …"
      ]
     },
     "metadata": {},
     "output_type": "display_data"
    },
    {
     "data": {
      "application/vnd.jupyter.widget-view+json": {
       "model_id": "1969d713d0e6483493826233b144fbab",
       "version_major": 2,
       "version_minor": 0
      },
      "text/plain": [
       "Checkbox(value=False, description='Details of filler between approach slab and turn back wing-wall at the base…"
      ]
     },
     "metadata": {},
     "output_type": "display_data"
    },
    {
     "data": {
      "application/vnd.jupyter.widget-view+json": {
       "model_id": "815385fdb74d4eec9a6f6ac2d2581220",
       "version_major": 2,
       "version_minor": 0
      },
      "text/plain": [
       "Checkbox(value=False, description='Parapet length of 14\\'-0\" or more provided to allow the standard transition…"
      ]
     },
     "metadata": {},
     "output_type": "display_data"
    },
    {
     "data": {
      "application/vnd.jupyter.widget-view+json": {
       "model_id": "94eae8677d474f50b9654aa30254be1e",
       "version_major": 2,
       "version_minor": 0
      },
      "text/plain": [
       "Checkbox(value=False, description='Reference made to the roadway plans for details and payment provisions for …"
      ]
     },
     "metadata": {},
     "output_type": "display_data"
    }
   ],
   "source": [
    "# Function to display the \"parapet_railing\" section\n",
    "def display_parapet_railing():\n",
    "    header = widgets.HTML(\"<b><u>Parapet Railing</u></b>\")\n",
    "    display(header)\n",
    "    checkboxes = []\n",
    "    for criterion in parapet_railing_criteria:\n",
    "        label = criterion[\"label\"]\n",
    "        # Add \"See BDM {section}\" for items with a 'section' entry\n",
    "        if \"section\" in criterion:\n",
    "            label = f\"{label} See BDM {criterion['section']}\"\n",
    "        checkbox = widgets.Checkbox(\n",
    "            description=label,\n",
    "            value=False,\n",
    "            indent=False,\n",
    "            layout=widgets.Layout(width='100%', margin='6px 0 0 0px')\n",
    "        )\n",
    "        checkbox.style = {'description_width': '0px'}\n",
    "        checkboxes.append(checkbox)\n",
    "        display(checkbox)\n",
    "\n",
    "# Display the \"parapet_railing\" section\n",
    "display_parapet_railing()"
   ]
  },
  {
   "cell_type": "markdown",
   "id": "bc3ecef4-c6bc-4aaa-b882-0d234d4610ca",
   "metadata": {},
   "source": [
    "### Parapet and Fence Type Railing"
   ]
  },
  {
   "cell_type": "code",
   "execution_count": 69,
   "id": "b703a891-aae4-46ce-98ff-264a8403a0a2",
   "metadata": {},
   "outputs": [],
   "source": [
    "# Define the parapet_and_fence criteria\n",
    "parapet_and_fence_criteria = [\n",
    "    {\"label\": \"2'-8\\\" high parapets provided?\"},\n",
    "    {\"label\": \"New guideline for fencing? Fence used on all structure over live traffic except over County and Township roads.\"},\n",
    "    {\"label\": \"Fence details conform to Standard Drawings VPF-1-90?\"}\n",
    "]"
   ]
  },
  {
   "cell_type": "code",
   "execution_count": 70,
   "id": "16d3a376-af6e-4c3d-8914-8da0726cba3c",
   "metadata": {},
   "outputs": [
    {
     "data": {
      "application/vnd.jupyter.widget-view+json": {
       "model_id": "abdd49ccec46432db04f4d2b13acda35",
       "version_major": 2,
       "version_minor": 0
      },
      "text/plain": [
       "HTML(value='<b><u>Parapet and Fence</u></b>')"
      ]
     },
     "metadata": {},
     "output_type": "display_data"
    },
    {
     "data": {
      "application/vnd.jupyter.widget-view+json": {
       "model_id": "895ebf22491e42079b89e13f3771b644",
       "version_major": 2,
       "version_minor": 0
      },
      "text/plain": [
       "Checkbox(value=False, description='2\\'-8\" high parapets provided?', indent=False, layout=Layout(margin='6px 0 …"
      ]
     },
     "metadata": {},
     "output_type": "display_data"
    },
    {
     "data": {
      "application/vnd.jupyter.widget-view+json": {
       "model_id": "eda9613fc2ea443b8504d6c24aa53698",
       "version_major": 2,
       "version_minor": 0
      },
      "text/plain": [
       "Checkbox(value=False, description='New guideline for fencing? Fence used on all structure over live traffic ex…"
      ]
     },
     "metadata": {},
     "output_type": "display_data"
    },
    {
     "data": {
      "application/vnd.jupyter.widget-view+json": {
       "model_id": "78d5ad7173e44fbfa3deabd3c9a976d6",
       "version_major": 2,
       "version_minor": 0
      },
      "text/plain": [
       "Checkbox(value=False, description='Fence details conform to Standard Drawings VPF-1-90?', indent=False, layout…"
      ]
     },
     "metadata": {},
     "output_type": "display_data"
    }
   ],
   "source": [
    "# Function to display the \"parapet_and_fence\" section\n",
    "def display_parapet_and_fence():\n",
    "    header = widgets.HTML(\"<b><u>Parapet and Fence</u></b>\")\n",
    "    display(header)\n",
    "    checkboxes = []\n",
    "    for criterion in parapet_and_fence_criteria:\n",
    "        label = criterion[\"label\"]\n",
    "        checkbox = widgets.Checkbox(\n",
    "            description=label,\n",
    "            value=False,\n",
    "            indent=False,\n",
    "            layout=widgets.Layout(width='100%', margin='6px 0 0 0px')\n",
    "        )\n",
    "        checkbox.style = {'description_width': '0px'}\n",
    "        checkboxes.append(checkbox)\n",
    "        display(checkbox)\n",
    "\n",
    "# Display the \"parapet_and_fence\" section\n",
    "display_parapet_and_fence()"
   ]
  },
  {
   "cell_type": "markdown",
   "id": "1c3fff0f-9d82-4d76-8d57-a7d7bc5ff927",
   "metadata": {},
   "source": [
    "## Bearings"
   ]
  },
  {
   "cell_type": "markdown",
   "id": "9588dcfd-c372-490a-8abf-3c1cf7c0ace1",
   "metadata": {},
   "source": [
    "### Elastomeric Bearings"
   ]
  },
  {
   "cell_type": "code",
   "execution_count": 71,
   "id": "4f85e22c-65b2-4563-90cf-7cf7114ba9d5",
   "metadata": {},
   "outputs": [],
   "source": [
    "# Define the elastomeric_bearings criteria\n",
    "elastomeric_bearings_criteria = [\n",
    "    {\"label\": \"Steel load plate provided for attachment to steel members?\", \"section\": \"306.4.2\"},\n",
    "    {\"label\": \"Elastomer hardness specified?\", \"section\": \"306.4.2\"},\n",
    "    {\"label\": \"An elastomeric pad thickness of 1 inch or more provided (Such pads generally must be reinforced with steel laminates)?\", \"section\": \"306.4.2\"},\n",
    "    {\"label\": \"A tabulation of unfactored dead load, live load excluding impact, and 'Maximum Design Load' given?\"},\n",
    "    {\"label\": \"For prestressed box beam bridges without external steel load plates, bearing shall conform to Standard Drawing BD-1-11?\"},\n",
    "    {\"label\": \"Elastomeric bearing with a load plate shall have the plate beveled if the rotation and/or grade exceed the limitations of AASHTO LRFD 14.7.5.3.3 Method B and 14.7.6.3.5 Method A?\"},\n",
    "    {\"label\": \"Provided with bearing details.\", \"section\": \"Note no. 702.13\"},\n",
    "    {\"label\": \"Top and bottom cover layers should not be thicker than 70% of internal layers\", \"section\": \"AASHTO LRFD 14.7.6.1\"},\n",
    "    {\"label\": \"No top cover layer for bearing with load plate.\", \"section\": \"AASHTO LRFD 14.7.6.1\"},\n",
    "    {\"label\": \"Following note included: 'All bearings shall be marked prior to shipping. The marks shall include the bearing location on the bridge, and a direction arrow that points up-station. All marks shall be permanent and be visible after the bearing is installed.'\"},\n",
    "    {\"label\": \"A plate bigger than bottom flange on top of HP section so that it can be welded from the top.\"}\n",
    "]"
   ]
  },
  {
   "cell_type": "code",
   "execution_count": 72,
   "id": "7c7f8b4f-a31d-42b3-94ef-09db211eda9b",
   "metadata": {},
   "outputs": [
    {
     "data": {
      "application/vnd.jupyter.widget-view+json": {
       "model_id": "c52a949dfd32455896e4aa8380c7d60f",
       "version_major": 2,
       "version_minor": 0
      },
      "text/plain": [
       "HTML(value='<b><u>Elastomeric Bearings</u></b>')"
      ]
     },
     "metadata": {},
     "output_type": "display_data"
    },
    {
     "data": {
      "application/vnd.jupyter.widget-view+json": {
       "model_id": "6432daa4617f43f3a67cad27a6503a0e",
       "version_major": 2,
       "version_minor": 0
      },
      "text/plain": [
       "Checkbox(value=False, description='Steel load plate provided for attachment to steel members? See BDM 306.4.2'…"
      ]
     },
     "metadata": {},
     "output_type": "display_data"
    },
    {
     "data": {
      "application/vnd.jupyter.widget-view+json": {
       "model_id": "8c0d307b7e654878abf37cae4de4fd54",
       "version_major": 2,
       "version_minor": 0
      },
      "text/plain": [
       "Checkbox(value=False, description='Elastomer hardness specified? See BDM 306.4.2', indent=False, layout=Layout…"
      ]
     },
     "metadata": {},
     "output_type": "display_data"
    },
    {
     "data": {
      "application/vnd.jupyter.widget-view+json": {
       "model_id": "a4d4194ed9294a148f37ea9c4205ed44",
       "version_major": 2,
       "version_minor": 0
      },
      "text/plain": [
       "Checkbox(value=False, description='An elastomeric pad thickness of 1 inch or more provided (Such pads generall…"
      ]
     },
     "metadata": {},
     "output_type": "display_data"
    },
    {
     "data": {
      "application/vnd.jupyter.widget-view+json": {
       "model_id": "dfaad24fcd0140a1b92fb68db82f9fc1",
       "version_major": 2,
       "version_minor": 0
      },
      "text/plain": [
       "Checkbox(value=False, description=\"A tabulation of unfactored dead load, live load excluding impact, and 'Maxi…"
      ]
     },
     "metadata": {},
     "output_type": "display_data"
    },
    {
     "data": {
      "application/vnd.jupyter.widget-view+json": {
       "model_id": "f622526c4a094762805731738a8de2e5",
       "version_major": 2,
       "version_minor": 0
      },
      "text/plain": [
       "Checkbox(value=False, description='For prestressed box beam bridges without external steel load plates, bearin…"
      ]
     },
     "metadata": {},
     "output_type": "display_data"
    },
    {
     "data": {
      "application/vnd.jupyter.widget-view+json": {
       "model_id": "ed7a7b6a15f24d698141a55291b7ea4c",
       "version_major": 2,
       "version_minor": 0
      },
      "text/plain": [
       "Checkbox(value=False, description='Elastomeric bearing with a load plate shall have the plate beveled if the r…"
      ]
     },
     "metadata": {},
     "output_type": "display_data"
    },
    {
     "data": {
      "application/vnd.jupyter.widget-view+json": {
       "model_id": "5b74f3d514914bb4929b3c05a02fc138",
       "version_major": 2,
       "version_minor": 0
      },
      "text/plain": [
       "Checkbox(value=False, description='Provided with bearing details. See BDM Note no. 702.13', indent=False, layo…"
      ]
     },
     "metadata": {},
     "output_type": "display_data"
    },
    {
     "data": {
      "application/vnd.jupyter.widget-view+json": {
       "model_id": "52ea525c84bc4abaa3204a554052f594",
       "version_major": 2,
       "version_minor": 0
      },
      "text/plain": [
       "Checkbox(value=False, description='Top and bottom cover layers should not be thicker than 70% of internal laye…"
      ]
     },
     "metadata": {},
     "output_type": "display_data"
    },
    {
     "data": {
      "application/vnd.jupyter.widget-view+json": {
       "model_id": "49a263727e2f471aa9270765b980574f",
       "version_major": 2,
       "version_minor": 0
      },
      "text/plain": [
       "Checkbox(value=False, description='No top cover layer for bearing with load plate. See BDM AASHTO LRFD 14.7.6.…"
      ]
     },
     "metadata": {},
     "output_type": "display_data"
    },
    {
     "data": {
      "application/vnd.jupyter.widget-view+json": {
       "model_id": "4ef5b49be9f94201b874ed29532516f5",
       "version_major": 2,
       "version_minor": 0
      },
      "text/plain": [
       "Checkbox(value=False, description=\"Following note included: 'All bearings shall be marked prior to shipping. T…"
      ]
     },
     "metadata": {},
     "output_type": "display_data"
    },
    {
     "data": {
      "application/vnd.jupyter.widget-view+json": {
       "model_id": "545d4921603c4a08908fa2629829f832",
       "version_major": 2,
       "version_minor": 0
      },
      "text/plain": [
       "Checkbox(value=False, description='A plate bigger than bottom flange on top of HP section so that it can be we…"
      ]
     },
     "metadata": {},
     "output_type": "display_data"
    }
   ],
   "source": [
    "# Function to display the \"elastomeric_bearings\" section\n",
    "def display_elastomeric_bearings():\n",
    "    header = widgets.HTML(\"<b><u>Elastomeric Bearings</u></b>\")\n",
    "    display(header)\n",
    "    checkboxes = []\n",
    "    for criterion in elastomeric_bearings_criteria:\n",
    "        label = criterion[\"label\"]\n",
    "        # Add \"See BDM {section}\" for items with a 'section' entry\n",
    "        if \"section\" in criterion:\n",
    "            label = f\"{label} See BDM {criterion['section']}\"\n",
    "        checkbox = widgets.Checkbox(\n",
    "            description=label,\n",
    "            value=False,\n",
    "            indent=False,\n",
    "            layout=widgets.Layout(width='100%', margin='6px 0 0 0px')\n",
    "        )\n",
    "        checkbox.style = {'description_width': '0px'}\n",
    "        checkboxes.append(checkbox)\n",
    "        display(checkbox)\n",
    "\n",
    "# Display the \"elastomeric_bearings\" section\n",
    "display_elastomeric_bearings()"
   ]
  },
  {
   "cell_type": "markdown",
   "id": "3910a000-dfd8-4406-82e6-871dbfc25103",
   "metadata": {},
   "source": [
    "### Anchor Bars"
   ]
  },
  {
   "cell_type": "code",
   "execution_count": 73,
   "id": "17fa340b-b6e2-432e-884a-633b179b9804",
   "metadata": {},
   "outputs": [],
   "source": [
    "# Define the anchor_bars criteria\n",
    "anchor_bars_criteria = [\n",
    "    {\n",
    "        \"label\": \"Furnishing and placing anchor bars and ¾” galvanized threaded rod included with Bearing box beams or I-beams) for payment?\",\n",
    "        \"section\": \"Standard Drawing BD-1-11, PSBD-2-07. Not required for PSBD-2-07\"\n",
    "    },\n",
    "    {\n",
    "        \"label\": \"For steel bearings, furnishing and placing anchor bars included with bearings for payment?\",\n",
    "        \"section\": \"RB-1-55 and FB-1-82\"\n",
    "    }\n",
    "]"
   ]
  },
  {
   "cell_type": "code",
   "execution_count": 74,
   "id": "7d91f722-8bb4-406a-ae21-5aaacfca957f",
   "metadata": {},
   "outputs": [
    {
     "data": {
      "application/vnd.jupyter.widget-view+json": {
       "model_id": "400cf8a027de443daff144574cde54b4",
       "version_major": 2,
       "version_minor": 0
      },
      "text/plain": [
       "HTML(value='<b><u>Anchor Bars</u></b>')"
      ]
     },
     "metadata": {},
     "output_type": "display_data"
    },
    {
     "data": {
      "application/vnd.jupyter.widget-view+json": {
       "model_id": "53345b660d7849ba9d289a5fe9fe1ef7",
       "version_major": 2,
       "version_minor": 0
      },
      "text/plain": [
       "Checkbox(value=False, description='Furnishing and placing anchor bars and ¾” galvanized threaded rod included …"
      ]
     },
     "metadata": {},
     "output_type": "display_data"
    },
    {
     "data": {
      "application/vnd.jupyter.widget-view+json": {
       "model_id": "3ebb0fe3d169434086cfbc9b017aedab",
       "version_major": 2,
       "version_minor": 0
      },
      "text/plain": [
       "Checkbox(value=False, description='For steel bearings, furnishing and placing anchor bars included with bearin…"
      ]
     },
     "metadata": {},
     "output_type": "display_data"
    }
   ],
   "source": [
    "# Function to display the \"anchor_bars\" section\n",
    "def display_anchor_bars():\n",
    "    header = widgets.HTML(\"<b><u>Anchor Bars</u></b>\")\n",
    "    display(header)\n",
    "    checkboxes = []\n",
    "    for criterion in anchor_bars_criteria:\n",
    "        label = criterion[\"label\"]\n",
    "        # Add \"See BDM {section}\" for items with a 'section' entry\n",
    "        if \"section\" in criterion:\n",
    "            label = f\"{label} See BDM {criterion['section']}\"\n",
    "        checkbox = widgets.Checkbox(\n",
    "            description=label,\n",
    "            value=False,\n",
    "            indent=False,\n",
    "            layout=widgets.Layout(width='100%', margin='6px 0 0 0px')\n",
    "        )\n",
    "        checkbox.style = {'description_width': '0px'}\n",
    "        checkboxes.append(checkbox)\n",
    "        display(checkbox)\n",
    "\n",
    "# Display the \"anchor_bars\" section\n",
    "display_anchor_bars()"
   ]
  },
  {
   "cell_type": "markdown",
   "id": "530e9dd7-b3a0-45b1-8e2d-5e3d3cf6ae80",
   "metadata": {},
   "source": [
    "### Anchor Bolt Layout"
   ]
  },
  {
   "cell_type": "code",
   "execution_count": 75,
   "id": "b6a6f14c-5454-486c-8b04-507df2fa6ceb",
   "metadata": {},
   "outputs": [],
   "source": [
    "# Define the anchor_bolt criteria\n",
    "anchor_bolt_criteria = [\n",
    "    {\"label\": \"Outline of masonry plate?\"},\n",
    "    {\"label\": \"Anchor bolt size and embedment length.\"},\n",
    "    {\"label\": \"Bearing Anchor Plan to adequately show the location of the bearing anchors with respect to the main reinforcing bars and the edges of the bridge seats shall be provided.\", \"section\": \"306.2.1.2\"}\n",
    "]"
   ]
  },
  {
   "cell_type": "code",
   "execution_count": 76,
   "id": "f8498da7-a987-4c27-8449-b79a7f8ebe54",
   "metadata": {},
   "outputs": [
    {
     "data": {
      "application/vnd.jupyter.widget-view+json": {
       "model_id": "60d3fe2494aa40e788c66f1694c4b766",
       "version_major": 2,
       "version_minor": 0
      },
      "text/plain": [
       "HTML(value='<b><u>Anchor Bolt</u></b>')"
      ]
     },
     "metadata": {},
     "output_type": "display_data"
    },
    {
     "data": {
      "application/vnd.jupyter.widget-view+json": {
       "model_id": "95dde454e89f4689bd3f8cf2c465cb60",
       "version_major": 2,
       "version_minor": 0
      },
      "text/plain": [
       "Checkbox(value=False, description='Outline of masonry plate?', indent=False, layout=Layout(margin='6px 0 0 0px…"
      ]
     },
     "metadata": {},
     "output_type": "display_data"
    },
    {
     "data": {
      "application/vnd.jupyter.widget-view+json": {
       "model_id": "b035aeab468b4e5191f17f15647a3901",
       "version_major": 2,
       "version_minor": 0
      },
      "text/plain": [
       "Checkbox(value=False, description='Anchor bolt size and embedment length.', indent=False, layout=Layout(margin…"
      ]
     },
     "metadata": {},
     "output_type": "display_data"
    },
    {
     "data": {
      "application/vnd.jupyter.widget-view+json": {
       "model_id": "1bedd8f2da844a93a087bb29dcafe61a",
       "version_major": 2,
       "version_minor": 0
      },
      "text/plain": [
       "Checkbox(value=False, description='Bearing Anchor Plan to adequately show the location of the bearing anchors …"
      ]
     },
     "metadata": {},
     "output_type": "display_data"
    }
   ],
   "source": [
    "# Function to display the \"anchor_bolt\" section\n",
    "def display_anchor_bolt():\n",
    "    header = widgets.HTML(\"<b><u>Anchor Bolt</u></b>\")\n",
    "    display(header)\n",
    "    checkboxes = []\n",
    "    for criterion in anchor_bolt_criteria:\n",
    "        label = criterion[\"label\"]\n",
    "        # Add \"See BDM {section}\" for items with a 'section' entry\n",
    "        if \"section\" in criterion:\n",
    "            label = f\"{label} See BDM {criterion['section']}\"\n",
    "        checkbox = widgets.Checkbox(\n",
    "            description=label,\n",
    "            value=False,\n",
    "            indent=False,\n",
    "            layout=widgets.Layout(width='100%', margin='6px 0 0 0px')\n",
    "        )\n",
    "        checkbox.style = {'description_width': '0px'}\n",
    "        checkboxes.append(checkbox)\n",
    "        display(checkbox)\n",
    "\n",
    "# Display the \"anchor_bolt\" section\n",
    "display_anchor_bolt()"
   ]
  },
  {
   "cell_type": "markdown",
   "id": "5d28b073-9411-4d25-93b7-e94adf38d7c3",
   "metadata": {},
   "source": [
    "### Bearings - Miscellaneous"
   ]
  },
  {
   "cell_type": "code",
   "execution_count": 77,
   "id": "d0e01e5f-5eab-4636-b000-019d25167666",
   "metadata": {},
   "outputs": [],
   "source": [
    "# Define the bearings_misc criteria\n",
    "bearings_misc_criteria = [\n",
    "    {\n",
    "        \"label\": \"Movement Provisions: Bearing movement provisions (Fixed, expansion restrained) indicated on the Site Plan and General Plan?\",\n",
    "        \"section\": \"201.1.2.2KI\"\n",
    "    },\n",
    "    {\"label\": \"Bearing designation (i.e., R-200) for each substructure unit indicated on the framing plan, beam elevation, or deck plan?\"},\n",
    "    {\"label\": \"Bearing details or reference to standard drawings given? Separate pay item provided for other than standard steel bearings (steel bearings for steel bridge are usually included with structural steel for payment)?\"},\n",
    "    {\"label\": \"Bearing types provided consistent with superstructure movement (longitudinal, lateral, and rotational)?\"},\n",
    "    {\"label\": \"Bearings/Joints: For bridges with sidewalk, bearing types compatible with deck joint characteristics?\"},\n",
    "    {\"label\": \"Bridge Seats: Bridge seats large enough for the size bearing used taken into account the need for edge clearances and construction tolerances (wider seats are usually provided for some bridges which are skewed greater than 30 degrees)?\"},\n",
    "    {\"label\": \"Grade Considerations: Tapered sole plates provided for rocker and bolster bearings for grades of 2 percent or greater?\"},\n",
    "    {\"label\": \"Coatings: Are notes provided to specify the type of coating required, if other than bare ASTM steel or Elastomeric bearings?\"},\n",
    "    {\"label\": \"Bridge seats adequate for earthquake provision?\", \"section\": \"306.2.1.1\"},\n",
    "    {\"label\": \"Are seismic restraints required?\", \"section\": \"1003 - S3.10.9.2, 303.1.4.1.a\"}\n",
    "]"
   ]
  },
  {
   "cell_type": "code",
   "execution_count": 78,
   "id": "6c351d7f-ea61-46f5-8c39-04eb6cde70d2",
   "metadata": {},
   "outputs": [
    {
     "data": {
      "application/vnd.jupyter.widget-view+json": {
       "model_id": "4be2ea0fef5c441a93811869937eec57",
       "version_major": 2,
       "version_minor": 0
      },
      "text/plain": [
       "HTML(value='<b><u>Bearings Misc</u></b>')"
      ]
     },
     "metadata": {},
     "output_type": "display_data"
    },
    {
     "data": {
      "application/vnd.jupyter.widget-view+json": {
       "model_id": "4085bfd623924c2c9da2f72a22e13d3c",
       "version_major": 2,
       "version_minor": 0
      },
      "text/plain": [
       "Checkbox(value=False, description='Movement Provisions: Bearing movement provisions (Fixed, expansion restrain…"
      ]
     },
     "metadata": {},
     "output_type": "display_data"
    },
    {
     "data": {
      "application/vnd.jupyter.widget-view+json": {
       "model_id": "448d202485a4452aa4f8b790c2c4801e",
       "version_major": 2,
       "version_minor": 0
      },
      "text/plain": [
       "Checkbox(value=False, description='Bearing designation (i.e., R-200) for each substructure unit indicated on t…"
      ]
     },
     "metadata": {},
     "output_type": "display_data"
    },
    {
     "data": {
      "application/vnd.jupyter.widget-view+json": {
       "model_id": "9ad4eee23f474c03bee68e498e63bd4f",
       "version_major": 2,
       "version_minor": 0
      },
      "text/plain": [
       "Checkbox(value=False, description='Bearing details or reference to standard drawings given? Separate pay item …"
      ]
     },
     "metadata": {},
     "output_type": "display_data"
    },
    {
     "data": {
      "application/vnd.jupyter.widget-view+json": {
       "model_id": "3854bfe8827746939de98218ebb473ed",
       "version_major": 2,
       "version_minor": 0
      },
      "text/plain": [
       "Checkbox(value=False, description='Bearing types provided consistent with superstructure movement (longitudina…"
      ]
     },
     "metadata": {},
     "output_type": "display_data"
    },
    {
     "data": {
      "application/vnd.jupyter.widget-view+json": {
       "model_id": "95f2bcbf9106476fac4cfda931c6ab7e",
       "version_major": 2,
       "version_minor": 0
      },
      "text/plain": [
       "Checkbox(value=False, description='Bearings/Joints: For bridges with sidewalk, bearing types compatible with d…"
      ]
     },
     "metadata": {},
     "output_type": "display_data"
    },
    {
     "data": {
      "application/vnd.jupyter.widget-view+json": {
       "model_id": "889d409c2ccd4b31b894a2cfeb68e17c",
       "version_major": 2,
       "version_minor": 0
      },
      "text/plain": [
       "Checkbox(value=False, description='Bridge Seats: Bridge seats large enough for the size bearing used taken int…"
      ]
     },
     "metadata": {},
     "output_type": "display_data"
    },
    {
     "data": {
      "application/vnd.jupyter.widget-view+json": {
       "model_id": "8b7b7e5b10ce4d8497d197550f18158f",
       "version_major": 2,
       "version_minor": 0
      },
      "text/plain": [
       "Checkbox(value=False, description='Grade Considerations: Tapered sole plates provided for rocker and bolster b…"
      ]
     },
     "metadata": {},
     "output_type": "display_data"
    },
    {
     "data": {
      "application/vnd.jupyter.widget-view+json": {
       "model_id": "647bdcb97fab49eba352ae139d2be27b",
       "version_major": 2,
       "version_minor": 0
      },
      "text/plain": [
       "Checkbox(value=False, description='Coatings: Are notes provided to specify the type of coating required, if ot…"
      ]
     },
     "metadata": {},
     "output_type": "display_data"
    },
    {
     "data": {
      "application/vnd.jupyter.widget-view+json": {
       "model_id": "29e4946eff8149e389ae04eaab67ccfd",
       "version_major": 2,
       "version_minor": 0
      },
      "text/plain": [
       "Checkbox(value=False, description='Bridge seats adequate for earthquake provision? See BDM 306.2.1.1', indent=…"
      ]
     },
     "metadata": {},
     "output_type": "display_data"
    },
    {
     "data": {
      "application/vnd.jupyter.widget-view+json": {
       "model_id": "b053dc1ccc7e4500a4fa71354b387365",
       "version_major": 2,
       "version_minor": 0
      },
      "text/plain": [
       "Checkbox(value=False, description='Are seismic restraints required? See BDM 1003 - S3.10.9.2, 303.1.4.1.a', in…"
      ]
     },
     "metadata": {},
     "output_type": "display_data"
    }
   ],
   "source": [
    "# Function to display the \"bearings_misc\" section\n",
    "def display_bearings_misc():\n",
    "    header = widgets.HTML(\"<b><u>Bearings Misc</u></b>\")\n",
    "    display(header)\n",
    "    checkboxes = []\n",
    "    for criterion in bearings_misc_criteria:\n",
    "        label = criterion[\"label\"]\n",
    "        # Add \"See BDM {section}\" for items with a 'section' entry\n",
    "        if \"section\" in criterion:\n",
    "            label = f\"{label} See BDM {criterion['section']}\"\n",
    "        checkbox = widgets.Checkbox(\n",
    "            description=label,\n",
    "            value=False,\n",
    "            indent=False,\n",
    "            layout=widgets.Layout(width='100%', margin='6px 0 0 0px')\n",
    "        )\n",
    "        checkbox.style = {'description_width': '0px'}\n",
    "        checkboxes.append(checkbox)\n",
    "        display(checkbox)\n",
    "\n",
    "# Display the \"bearings_misc\" section\n",
    "display_bearings_misc()"
   ]
  },
  {
   "cell_type": "markdown",
   "id": "052551f9-5f45-42df-a0bd-737e55a3f06c",
   "metadata": {},
   "source": [
    "## Deck Joints"
   ]
  },
  {
   "cell_type": "markdown",
   "id": "30595bd8-f483-45b2-b898-a94f44a47264",
   "metadata": {},
   "source": [
    "### Terminal Details"
   ]
  },
  {
   "cell_type": "code",
   "execution_count": 79,
   "id": "188728d6-883a-42c0-85f4-f14cced6fc04",
   "metadata": {},
   "outputs": [],
   "source": [
    "# Define the deck_joint_terminal criteria\n",
    "deck_joint_terminal_criteria = [\n",
    "    {\n",
    "        \"label\": \"To confine deck drainage, recessed joint seals, joints terminated as shown in Sections A-A and F-F of Standard Drawings EXJ-2-81 and EXJ-3-82; and Sections B-B and F-F Of Standard Drawing EXJ-4-87 and EXJ-5-93.\"\n",
    "    },\n",
    "    {\n",
    "        \"label\": \"For new bridges with over the side drainage and wall-type abutments, abutment wing-walls or retaining walls positioned flush with the back wall to allow extension of sealed deck joints beyond the bridge seats?\"\n",
    "    }\n",
    "]"
   ]
  },
  {
   "cell_type": "code",
   "execution_count": 80,
   "id": "9b83bbf7-2452-4bae-86ef-0ea448205e81",
   "metadata": {},
   "outputs": [
    {
     "data": {
      "application/vnd.jupyter.widget-view+json": {
       "model_id": "cb7b84e150d24537b6af0a92630e3919",
       "version_major": 2,
       "version_minor": 0
      },
      "text/plain": [
       "HTML(value='<b><u>Deck Joint Terminal</u></b>')"
      ]
     },
     "metadata": {},
     "output_type": "display_data"
    },
    {
     "data": {
      "application/vnd.jupyter.widget-view+json": {
       "model_id": "4c0853d1106d462d89dca740249c65fe",
       "version_major": 2,
       "version_minor": 0
      },
      "text/plain": [
       "Checkbox(value=False, description='To confine deck drainage, recessed joint seals, joints terminated as shown …"
      ]
     },
     "metadata": {},
     "output_type": "display_data"
    },
    {
     "data": {
      "application/vnd.jupyter.widget-view+json": {
       "model_id": "1f1bd399c7664d409dab355f5d6a902e",
       "version_major": 2,
       "version_minor": 0
      },
      "text/plain": [
       "Checkbox(value=False, description='For new bridges with over the side drainage and wall-type abutments, abutme…"
      ]
     },
     "metadata": {},
     "output_type": "display_data"
    }
   ],
   "source": [
    "# Function to display the \"deck_joint_terminal\" section\n",
    "def display_deck_joint_terminal():\n",
    "    header = widgets.HTML(\"<b><u>Deck Joint Terminal</u></b>\")\n",
    "    display(header)\n",
    "    checkboxes = []\n",
    "    for criterion in deck_joint_terminal_criteria:\n",
    "        label = criterion[\"label\"]\n",
    "        checkbox = widgets.Checkbox(\n",
    "            description=label,\n",
    "            value=False,\n",
    "            indent=False,\n",
    "            layout=widgets.Layout(width='100%', margin='6px 0 0 0px')\n",
    "        )\n",
    "        checkbox.style = {'description_width': '0px'}\n",
    "        checkboxes.append(checkbox)\n",
    "        display(checkbox)\n",
    "\n",
    "# Display the \"deck_joint_terminal\" section\n",
    "display_deck_joint_terminal()"
   ]
  },
  {
   "cell_type": "markdown",
   "id": "18903753-7cc0-4542-97db-9900582ef16a",
   "metadata": {},
   "source": [
    "### Joint/Bearing Coordination"
   ]
  },
  {
   "cell_type": "code",
   "execution_count": 81,
   "id": "f2c32a31-4f00-4cb0-8447-cb9f37606b4d",
   "metadata": {},
   "outputs": [],
   "source": [
    "# Define the joint_bearing_coordination criteria\n",
    "joint_bearing_coordination_criteria = [\n",
    "    {\n",
    "        \"label\": \"For bridges with elastomeric bearings and sliding plate type joints, bridging plates positioned cantilevered from the abutment side of the joint to prevent the plate from binding due to the compressive deflection of the bearings?\"\n",
    "    },\n",
    "    {\n",
    "        \"label\": \"For sliding plate type joints on grades, a bevel fill attached to the underside of the cantilever plate to provide a level sliding surface to parallel the direction of bearing movement?\"\n",
    "    },\n",
    "    {\n",
    "        \"label\": \"Sliding plate type joints avoided on all structures?\"\n",
    "    }\n",
    "]"
   ]
  },
  {
   "cell_type": "code",
   "execution_count": 82,
   "id": "c4e83ed0-d24c-4a4c-8b12-48de9b7b037e",
   "metadata": {},
   "outputs": [
    {
     "data": {
      "application/vnd.jupyter.widget-view+json": {
       "model_id": "4944707ca2e6480f870e38c77a0387f1",
       "version_major": 2,
       "version_minor": 0
      },
      "text/plain": [
       "HTML(value='<b><u>Joint Bearing Coordination</u></b>')"
      ]
     },
     "metadata": {},
     "output_type": "display_data"
    },
    {
     "data": {
      "application/vnd.jupyter.widget-view+json": {
       "model_id": "62027b9585574afe847961f5dbf5f1f1",
       "version_major": 2,
       "version_minor": 0
      },
      "text/plain": [
       "Checkbox(value=False, description='For bridges with elastomeric bearings and sliding plate type joints, bridgi…"
      ]
     },
     "metadata": {},
     "output_type": "display_data"
    },
    {
     "data": {
      "application/vnd.jupyter.widget-view+json": {
       "model_id": "25dc8216e2f747588da203e37a744ec8",
       "version_major": 2,
       "version_minor": 0
      },
      "text/plain": [
       "Checkbox(value=False, description='For sliding plate type joints on grades, a bevel fill attached to the under…"
      ]
     },
     "metadata": {},
     "output_type": "display_data"
    },
    {
     "data": {
      "application/vnd.jupyter.widget-view+json": {
       "model_id": "995c90ab97e242978d5c3ec124646d51",
       "version_major": 2,
       "version_minor": 0
      },
      "text/plain": [
       "Checkbox(value=False, description='Sliding plate type joints avoided on all structures?', indent=False, layout…"
      ]
     },
     "metadata": {},
     "output_type": "display_data"
    }
   ],
   "source": [
    "# Function to display the \"joint_bearing_coordination\" section\n",
    "def display_joint_bearing_coordination():\n",
    "    header = widgets.HTML(\"<b><u>Joint Bearing Coordination</u></b>\")\n",
    "    display(header)\n",
    "    checkboxes = []\n",
    "    for criterion in joint_bearing_coordination_criteria:\n",
    "        label = criterion[\"label\"]\n",
    "        checkbox = widgets.Checkbox(\n",
    "            description=label,\n",
    "            value=False,\n",
    "            indent=False,\n",
    "            layout=widgets.Layout(width='100%', margin='6px 0 0 0px')\n",
    "        )\n",
    "        checkbox.style = {'description_width': '0px'}\n",
    "        checkboxes.append(checkbox)\n",
    "        display(checkbox)\n",
    "\n",
    "# Display the \"joint_bearing_coordination\" section\n",
    "display_joint_bearing_coordination()"
   ]
  },
  {
   "cell_type": "markdown",
   "id": "9ffb10f0-262c-44c9-b218-c2a0834ea2f7",
   "metadata": {},
   "source": [
    "### Deck Joints - Miscellaneous"
   ]
  },
  {
   "cell_type": "code",
   "execution_count": 83,
   "id": "707f88b5-d0ef-455f-9379-e3c91557b1f2",
   "metadata": {},
   "outputs": [],
   "source": [
    "# Define the deck_joints_misc criteria\n",
    "deck_joints_misc_criteria = [\n",
    "    {\n",
    "        \"label\": \"Box Beams: The use of joints generally follows the guidelines given in\",\n",
    "        \"section\": \"309.6.3\"\n",
    "    },\n",
    "    {\n",
    "        \"label\": \"Recessed Seals: Joint seals recessed below the roadway surface (i.e. strip and compression), with channel deck drainage laterally, detailed to prevent discharge of deck drainage on bridge seats?\"\n",
    "    },\n",
    "    {\n",
    "        \"label\": \"Adjustment: A joint width adjustment table, in 10 degree increments for 30 degrees to 90 degrees, given for setting joint widths other than the 60 degree installation temperature? The effect of joint skew taken into account when computing joint adjustment dimensions?\"\n",
    "    },\n",
    "    {\n",
    "        \"label\": \"Sawing and Sealing Bituminous Joints detail sheet provided for box beam bridges with poured seal type joints at abutments?\"\n",
    "    },\n",
    "    {\n",
    "        \"label\": \"Prestressed concrete I-beam bridges follow the guidelines given in section\",\n",
    "        \"section\": \"309.6.3\"\n",
    "    }\n",
    "]"
   ]
  },
  {
   "cell_type": "code",
   "execution_count": 84,
   "id": "cc319c0a-b74a-48db-8ee1-a98c357537b8",
   "metadata": {},
   "outputs": [
    {
     "data": {
      "application/vnd.jupyter.widget-view+json": {
       "model_id": "37e37399d8f34e5db77f44a1ee6c0acf",
       "version_major": 2,
       "version_minor": 0
      },
      "text/plain": [
       "HTML(value='<b><u>Deck Joints Misc</u></b>')"
      ]
     },
     "metadata": {},
     "output_type": "display_data"
    },
    {
     "data": {
      "application/vnd.jupyter.widget-view+json": {
       "model_id": "fb50d6b69c224ea798c4a7fe5b9d656f",
       "version_major": 2,
       "version_minor": 0
      },
      "text/plain": [
       "Checkbox(value=False, description='Box Beams: The use of joints generally follows the guidelines given in See …"
      ]
     },
     "metadata": {},
     "output_type": "display_data"
    },
    {
     "data": {
      "application/vnd.jupyter.widget-view+json": {
       "model_id": "2026d5d9333d4840b3849ced1c63e0ed",
       "version_major": 2,
       "version_minor": 0
      },
      "text/plain": [
       "Checkbox(value=False, description='Recessed Seals: Joint seals recessed below the roadway surface (i.e. strip …"
      ]
     },
     "metadata": {},
     "output_type": "display_data"
    },
    {
     "data": {
      "application/vnd.jupyter.widget-view+json": {
       "model_id": "b8684c256311417d9a04c294b2585997",
       "version_major": 2,
       "version_minor": 0
      },
      "text/plain": [
       "Checkbox(value=False, description='Adjustment: A joint width adjustment table, in 10 degree increments for 30 …"
      ]
     },
     "metadata": {},
     "output_type": "display_data"
    },
    {
     "data": {
      "application/vnd.jupyter.widget-view+json": {
       "model_id": "6684b72c5b1d43ccbd99b82c020a5ada",
       "version_major": 2,
       "version_minor": 0
      },
      "text/plain": [
       "Checkbox(value=False, description='Sawing and Sealing Bituminous Joints detail sheet provided for box beam bri…"
      ]
     },
     "metadata": {},
     "output_type": "display_data"
    },
    {
     "data": {
      "application/vnd.jupyter.widget-view+json": {
       "model_id": "42f8eeeadb504a72a8eb62ce89aef188",
       "version_major": 2,
       "version_minor": 0
      },
      "text/plain": [
       "Checkbox(value=False, description='Prestressed concrete I-beam bridges follow the guidelines given in section …"
      ]
     },
     "metadata": {},
     "output_type": "display_data"
    }
   ],
   "source": [
    "# Function to display the \"deck_joints_misc\" section\n",
    "def display_deck_joints_misc():\n",
    "    header = widgets.HTML(\"<b><u>Deck Joints Misc</u></b>\")\n",
    "    display(header)\n",
    "    checkboxes = []\n",
    "    for criterion in deck_joints_misc_criteria:\n",
    "        label = criterion[\"label\"]\n",
    "        # Add \"See BDM {section}\" for items with a 'section' entry\n",
    "        if \"section\" in criterion:\n",
    "            label = f\"{label} See BDM {criterion['section']}\"\n",
    "        checkbox = widgets.Checkbox(\n",
    "            description=label,\n",
    "            value=False,\n",
    "            indent=False,\n",
    "            layout=widgets.Layout(width='100%', margin='6px 0 0 0px')\n",
    "        )\n",
    "        checkbox.style = {'description_width': '0px'}\n",
    "        checkboxes.append(checkbox)\n",
    "        display(checkbox)\n",
    "\n",
    "# Display the \"deck_joints_misc\" section\n",
    "display_deck_joints_misc()"
   ]
  },
  {
   "cell_type": "markdown",
   "id": "69c734cd-ad00-46c6-a7a1-57f2c94844cc",
   "metadata": {},
   "source": [
    "## Deck Drainage"
   ]
  },
  {
   "cell_type": "markdown",
   "id": "70e62203-78da-464a-ad86-be662ebfd116",
   "metadata": {},
   "source": [
    "### Scuppers"
   ]
  },
  {
   "cell_type": "code",
   "execution_count": 85,
   "id": "be821d35-fcd8-47dc-a59a-24b73d3f2e0f",
   "metadata": {},
   "outputs": [],
   "source": [
    "# Define the scuppers criteria\n",
    "scuppers_criteria = [\n",
    "    {\n",
    "        \"label\": \"Is/was the use of scuppers avoided? Scuppers avoided over embankment slopes? Scuppers spaced to clear cross frames, placed at least 6 feet from the face of piers and abutments; extended at least 8 inches below beams and girders; located inside of fascia beams of grade separation structures and other highly visible structures; not been placed through box beams unless such placement cannot be avoided? See BDM 309.7 and 'Bridge Deck Drainage Guidelines,' FHWA HEC 21 & 22.\"\n",
    "    }\n",
    "]"
   ]
  },
  {
   "cell_type": "code",
   "execution_count": 86,
   "id": "44cdcbef-1c9c-424c-9fd8-005e37f07fcd",
   "metadata": {},
   "outputs": [
    {
     "data": {
      "application/vnd.jupyter.widget-view+json": {
       "model_id": "1b5e76f8b5fc423a9572dbd86149d597",
       "version_major": 2,
       "version_minor": 0
      },
      "text/plain": [
       "HTML(value='<b><u>Scuppers</u></b>')"
      ]
     },
     "metadata": {},
     "output_type": "display_data"
    },
    {
     "data": {
      "application/vnd.jupyter.widget-view+json": {
       "model_id": "99434ba7f0404cf59b881a333223f7f1",
       "version_major": 2,
       "version_minor": 0
      },
      "text/plain": [
       "Checkbox(value=False, description=\"Is/was the use of scuppers avoided? Scuppers avoided over embankment slopes…"
      ]
     },
     "metadata": {},
     "output_type": "display_data"
    }
   ],
   "source": [
    "# Function to display the \"scuppers\" section\n",
    "def display_scuppers():\n",
    "    header = widgets.HTML(\"<b><u>Scuppers</u></b>\")\n",
    "    display(header)\n",
    "    checkboxes = []\n",
    "    for criterion in scuppers_criteria:\n",
    "        label = criterion[\"label\"]\n",
    "        checkbox = widgets.Checkbox(\n",
    "            description=label,\n",
    "            value=False,\n",
    "            indent=False,\n",
    "            layout=widgets.Layout(width='100%', margin='6px 0 0 0px')\n",
    "        )\n",
    "        checkbox.style = {'description_width': '0px'}\n",
    "        checkboxes.append(checkbox)\n",
    "        display(checkbox)\n",
    "\n",
    "# Display the \"scuppers\" section\n",
    "display_scuppers()"
   ]
  },
  {
   "cell_type": "markdown",
   "id": "9e593e83-7c8f-401b-a47b-f5ef7f407b35",
   "metadata": {},
   "source": [
    "### Approach Drainage"
   ]
  },
  {
   "cell_type": "code",
   "execution_count": 87,
   "id": "914038a8-2742-4a0d-977e-f669ac58f6a2",
   "metadata": {},
   "outputs": [],
   "source": [
    "# Define the approach_drainage criteria\n",
    "approach_drainage_criteria = [\n",
    "    {\n",
    "        \"label\": \"Use made of parapet transitions and curbs on approach slabs to channel deck drainage away from structures towards approach inlets or embankment side slope flumes. See Standard Construction Drawing DM-4.1.\"\n",
    "    }\n",
    "]"
   ]
  },
  {
   "cell_type": "code",
   "execution_count": 88,
   "id": "73fef806-7b01-4e1c-80fd-bb8aaf71081b",
   "metadata": {},
   "outputs": [
    {
     "data": {
      "application/vnd.jupyter.widget-view+json": {
       "model_id": "221d6afa71aa4b6a98e0d678feaeebb5",
       "version_major": 2,
       "version_minor": 0
      },
      "text/plain": [
       "HTML(value='<b><u>Approach Drainage</u></b>')"
      ]
     },
     "metadata": {},
     "output_type": "display_data"
    },
    {
     "data": {
      "application/vnd.jupyter.widget-view+json": {
       "model_id": "3da71300c1854bfaaf3024f52d54e7ee",
       "version_major": 2,
       "version_minor": 0
      },
      "text/plain": [
       "Checkbox(value=False, description='Use made of parapet transitions and curbs on approach slabs to channel deck…"
      ]
     },
     "metadata": {},
     "output_type": "display_data"
    }
   ],
   "source": [
    "# Function to display the \"approach_drainage\" section\n",
    "def display_approach_drainage():\n",
    "    header = widgets.HTML(\"<b><u>Approach Drainage</u></b>\")\n",
    "    display(header)\n",
    "    checkboxes = []\n",
    "    for criterion in approach_drainage_criteria:\n",
    "        label = criterion[\"label\"]\n",
    "        checkbox = widgets.Checkbox(\n",
    "            description=label,\n",
    "            value=False,\n",
    "            indent=False,\n",
    "            layout=widgets.Layout(width='100%', margin='6px 0 0 0px')\n",
    "        )\n",
    "        checkbox.style = {'description_width': '0px'}\n",
    "        checkboxes.append(checkbox)\n",
    "        display(checkbox)\n",
    "\n",
    "# Display the \"approach_drainage\" section\n",
    "display_approach_drainage()"
   ]
  },
  {
   "cell_type": "markdown",
   "id": "8e6efd6d-2f41-4136-b97a-753df8c2f284",
   "metadata": {},
   "source": [
    "### Drainage Collection System"
   ]
  },
  {
   "cell_type": "code",
   "execution_count": 89,
   "id": "e1162359-2d55-4d96-b67d-b9b8e8a5665f",
   "metadata": {},
   "outputs": [],
   "source": [
    "# Define the drainage_collection criteria\n",
    "drainage_collection_criteria = [\n",
    "    {\n",
    "        \"label\": \"These avoided? Where their use cannot be avoided, steepest possible slopes provided? Large sizes used to help avoid blockage? Convenient clean out provided? Type of field splices specified? Supports adequate to provide a rigid system?\"\n",
    "    }\n",
    "]"
   ]
  },
  {
   "cell_type": "code",
   "execution_count": 90,
   "id": "3337e5bb-0377-43df-bc77-7c6aacf0a7f7",
   "metadata": {},
   "outputs": [
    {
     "data": {
      "application/vnd.jupyter.widget-view+json": {
       "model_id": "09add3c29abf461ba6bf7e70f3621faf",
       "version_major": 2,
       "version_minor": 0
      },
      "text/plain": [
       "HTML(value='<b><u>Drainage Collection System</u></b>')"
      ]
     },
     "metadata": {},
     "output_type": "display_data"
    },
    {
     "data": {
      "application/vnd.jupyter.widget-view+json": {
       "model_id": "62c087abcba04343aeeeb80453c69874",
       "version_major": 2,
       "version_minor": 0
      },
      "text/plain": [
       "Checkbox(value=False, description='These avoided? Where their use cannot be avoided, steepest possible slopes …"
      ]
     },
     "metadata": {},
     "output_type": "display_data"
    }
   ],
   "source": [
    "# Function to display the \"drainage_collection\" section\n",
    "def display_drainage_collection():\n",
    "    header = widgets.HTML(\"<b><u>Drainage Collection System</u></b>\")\n",
    "    display(header)\n",
    "    checkboxes = []\n",
    "    for criterion in drainage_collection_criteria:\n",
    "        label = criterion[\"label\"]\n",
    "        checkbox = widgets.Checkbox(\n",
    "            description=label,\n",
    "            value=False,\n",
    "            indent=False,\n",
    "            layout=widgets.Layout(width='100%', margin='6px 0 0 0px')\n",
    "        )\n",
    "        checkbox.style = {'description_width': '0px'}\n",
    "        checkboxes.append(checkbox)\n",
    "        display(checkbox)\n",
    "\n",
    "# Display the \"drainage_collection\" section\n",
    "display_drainage_collection()"
   ]
  },
  {
   "cell_type": "markdown",
   "id": "2ea8663b-4b2e-4834-a2f1-c504be7b860a",
   "metadata": {},
   "source": [
    "### Elastomeric Troughs"
   ]
  },
  {
   "cell_type": "code",
   "execution_count": 91,
   "id": "720a4269-910e-4cae-9b11-b30f2ce658c0",
   "metadata": {},
   "outputs": [],
   "source": [
    "# Define the elastomeric_trough criteria\n",
    "elastomeric_trough_criteria = [\n",
    "    {\n",
    "        \"label\": \"Reinforced elastomer required by performance specification?\"\n",
    "    },\n",
    "    {\n",
    "        \"label\": \"Joint made by vulcanization under heat and pressure?\"\n",
    "    },\n",
    "    {\n",
    "        \"label\": \"Steep slopes (2 inches per foot or more) used to increase drainage velocity?\"\n",
    "    },\n",
    "    {\n",
    "        \"label\": \"Large discharge openings (12 inch diameter minimum)?\"\n",
    "    },\n",
    "    {\n",
    "        \"label\": \"Fasteners for scuppers located outside of the trough for convenient access?\"\n",
    "    },\n",
    "    {\n",
    "        \"label\": \"Galvanized hardware used?\"\n",
    "    },\n",
    "    {\n",
    "        \"label\": \"Interior steel surfaces metalized and asphalt coated?\"\n",
    "    }\n",
    "]"
   ]
  },
  {
   "cell_type": "code",
   "execution_count": 92,
   "id": "1c2f4031-3eee-4948-88de-109572b26e6e",
   "metadata": {},
   "outputs": [
    {
     "data": {
      "application/vnd.jupyter.widget-view+json": {
       "model_id": "6629b46a2d6d4cbcbd0f439dd245a70d",
       "version_major": 2,
       "version_minor": 0
      },
      "text/plain": [
       "HTML(value='<b><u>Elastomeric Trough</u></b>')"
      ]
     },
     "metadata": {},
     "output_type": "display_data"
    },
    {
     "data": {
      "application/vnd.jupyter.widget-view+json": {
       "model_id": "15443dd6af3043abb70ef24185eb2ea1",
       "version_major": 2,
       "version_minor": 0
      },
      "text/plain": [
       "Checkbox(value=False, description='Reinforced elastomer required by performance specification?', indent=False,…"
      ]
     },
     "metadata": {},
     "output_type": "display_data"
    },
    {
     "data": {
      "application/vnd.jupyter.widget-view+json": {
       "model_id": "993ff7231662479ea16c7a8db7894728",
       "version_major": 2,
       "version_minor": 0
      },
      "text/plain": [
       "Checkbox(value=False, description='Joint made by vulcanization under heat and pressure?', indent=False, layout…"
      ]
     },
     "metadata": {},
     "output_type": "display_data"
    },
    {
     "data": {
      "application/vnd.jupyter.widget-view+json": {
       "model_id": "fd1529cd7e8b4fb1813784cac8eb94b5",
       "version_major": 2,
       "version_minor": 0
      },
      "text/plain": [
       "Checkbox(value=False, description='Steep slopes (2 inches per foot or more) used to increase drainage velocity…"
      ]
     },
     "metadata": {},
     "output_type": "display_data"
    },
    {
     "data": {
      "application/vnd.jupyter.widget-view+json": {
       "model_id": "f964ab2398de45768edd061aacdc9565",
       "version_major": 2,
       "version_minor": 0
      },
      "text/plain": [
       "Checkbox(value=False, description='Large discharge openings (12 inch diameter minimum)?', indent=False, layout…"
      ]
     },
     "metadata": {},
     "output_type": "display_data"
    },
    {
     "data": {
      "application/vnd.jupyter.widget-view+json": {
       "model_id": "232aef6b7d5c4ecb9e33ab9327bece58",
       "version_major": 2,
       "version_minor": 0
      },
      "text/plain": [
       "Checkbox(value=False, description='Fasteners for scuppers located outside of the trough for convenient access?…"
      ]
     },
     "metadata": {},
     "output_type": "display_data"
    },
    {
     "data": {
      "application/vnd.jupyter.widget-view+json": {
       "model_id": "513e8e3c3398495b8c151f8c2f145ba9",
       "version_major": 2,
       "version_minor": 0
      },
      "text/plain": [
       "Checkbox(value=False, description='Galvanized hardware used?', indent=False, layout=Layout(margin='6px 0 0 0px…"
      ]
     },
     "metadata": {},
     "output_type": "display_data"
    },
    {
     "data": {
      "application/vnd.jupyter.widget-view+json": {
       "model_id": "8626751baf2a4f839f9685ddf47ce827",
       "version_major": 2,
       "version_minor": 0
      },
      "text/plain": [
       "Checkbox(value=False, description='Interior steel surfaces metalized and asphalt coated?', indent=False, layou…"
      ]
     },
     "metadata": {},
     "output_type": "display_data"
    }
   ],
   "source": [
    "# Function to display the \"elastomeric_trough\" section\n",
    "def display_elastomeric_trough():\n",
    "    header = widgets.HTML(\"<b><u>Elastomeric Trough</u></b>\")\n",
    "    display(header)\n",
    "    checkboxes = []\n",
    "    for criterion in elastomeric_trough_criteria:\n",
    "        label = criterion[\"label\"]\n",
    "        checkbox = widgets.Checkbox(\n",
    "            description=label,\n",
    "            value=False,\n",
    "            indent=False,\n",
    "            layout=widgets.Layout(width='100%', margin='6px 0 0 0px')\n",
    "        )\n",
    "        checkbox.style = {'description_width': '0px'}\n",
    "        checkboxes.append(checkbox)\n",
    "        display(checkbox)\n",
    "\n",
    "# Display the \"elastomeric_trough\" section\n",
    "display_elastomeric_trough()"
   ]
  },
  {
   "cell_type": "markdown",
   "id": "78985508-b619-4e9d-9625-adc5caca752f",
   "metadata": {},
   "source": [
    "### Erosion Protection"
   ]
  },
  {
   "cell_type": "code",
   "execution_count": 93,
   "id": "ea50c923-accd-449e-805e-2ec2a10954d5",
   "metadata": {},
   "outputs": [],
   "source": [
    "# Define the erosion_protection criteria\n",
    "erosion_protection_criteria = [\n",
    "    {\n",
    "        \"label\": \"Ground surfaces below scuppers protected by crushed aggregate or concrete slope protection?\"\n",
    "    },\n",
    "    {\n",
    "        \"label\": \"Crushed aggregate or concrete slope protection extended (3'-0\\\" minimum) beyond edges of open decks?\"\n",
    "    },\n",
    "    {\n",
    "        \"label\": \"At acute corners of bridges, slope protection extends normal to toe of slope?\"\n",
    "    }\n",
    "]"
   ]
  },
  {
   "cell_type": "code",
   "execution_count": 94,
   "id": "2b27d6e3-1cfb-4e4b-b1ef-a3ad262eef85",
   "metadata": {},
   "outputs": [
    {
     "data": {
      "application/vnd.jupyter.widget-view+json": {
       "model_id": "80fd0cb263244d9fb9a4c5998c69f858",
       "version_major": 2,
       "version_minor": 0
      },
      "text/plain": [
       "HTML(value='<b><u>Erosion Protection</u></b>')"
      ]
     },
     "metadata": {},
     "output_type": "display_data"
    },
    {
     "data": {
      "application/vnd.jupyter.widget-view+json": {
       "model_id": "15459a02aade418b9debd20a66946fec",
       "version_major": 2,
       "version_minor": 0
      },
      "text/plain": [
       "Checkbox(value=False, description='Ground surfaces below scuppers protected by crushed aggregate or concrete s…"
      ]
     },
     "metadata": {},
     "output_type": "display_data"
    },
    {
     "data": {
      "application/vnd.jupyter.widget-view+json": {
       "model_id": "2e3ddea29a0e4e448ca7a9e31f1407cd",
       "version_major": 2,
       "version_minor": 0
      },
      "text/plain": [
       "Checkbox(value=False, description='Crushed aggregate or concrete slope protection extended (3\\'-0\" minimum) be…"
      ]
     },
     "metadata": {},
     "output_type": "display_data"
    },
    {
     "data": {
      "application/vnd.jupyter.widget-view+json": {
       "model_id": "b9978432d3564ed790165f292a8a92f4",
       "version_major": 2,
       "version_minor": 0
      },
      "text/plain": [
       "Checkbox(value=False, description='At acute corners of bridges, slope protection extends normal to toe of slop…"
      ]
     },
     "metadata": {},
     "output_type": "display_data"
    }
   ],
   "source": [
    "# Function to display the \"erosion_protection\" section\n",
    "def display_erosion_protection():\n",
    "    header = widgets.HTML(\"<b><u>Erosion Protection</u></b>\")\n",
    "    display(header)\n",
    "    checkboxes = []\n",
    "    for criterion in erosion_protection_criteria:\n",
    "        label = criterion[\"label\"]\n",
    "        checkbox = widgets.Checkbox(\n",
    "            description=label,\n",
    "            value=False,\n",
    "            indent=False,\n",
    "            layout=widgets.Layout(width='100%', margin='6px 0 0 0px')\n",
    "        )\n",
    "        checkbox.style = {'description_width': '0px'}\n",
    "        checkboxes.append(checkbox)\n",
    "        display(checkbox)\n",
    "\n",
    "# Display the \"erosion_protection\" section\n",
    "display_erosion_protection()"
   ]
  },
  {
   "cell_type": "markdown",
   "id": "fe212b51-4223-4c87-9880-2e1ec0851c7f",
   "metadata": {},
   "source": [
    "## Utilities"
   ]
  },
  {
   "cell_type": "code",
   "execution_count": 95,
   "id": "e5220d56-7585-45f8-965b-45ab18e789a4",
   "metadata": {},
   "outputs": [],
   "source": [
    "# Define the utilities criteria\n",
    "utilities_criteria = [\n",
    "    {\n",
    "        \"label\": \"Documentation on file approved placement of utility on bridge?\"\n",
    "    },\n",
    "    {\n",
    "        \"label\": \"Concrete embedded utility conduits shown to clear construction joints by 1 inch minimum and other conduits by 2 inches minimum?\"\n",
    "    },\n",
    "    {\n",
    "        \"label\": \"Utilities not supported on fascia or below bottom of superstructure? On grade separation structures, no utilities in bay adjacent to fascia stringer?\"\n",
    "    },\n",
    "    {\n",
    "        \"label\": \"Gas and water lines not embedded in concrete? Not embedded in section of deck supporting vehicular traffic?\"\n",
    "    },\n",
    "    {\n",
    "        \"label\": \"Expansion provisions for utilities shown if appropriate? (Sometimes shown only on utility sheets)\"\n",
    "    },\n",
    "    {\n",
    "        \"label\": \"Payment for utility supports clearly described by plan note and estimated quantities? (e.g., quantity table footnote stating portion of Item 513 Structural Steel to be paid for by the utility company)\"\n",
    "    }\n",
    "]"
   ]
  },
  {
   "cell_type": "code",
   "execution_count": 96,
   "id": "2299c57c-35f9-4e4f-bd1a-b414d7544c48",
   "metadata": {},
   "outputs": [
    {
     "data": {
      "application/vnd.jupyter.widget-view+json": {
       "model_id": "fbf3b5df0d8546a7ac8399e36102ea3e",
       "version_major": 2,
       "version_minor": 0
      },
      "text/plain": [
       "HTML(value='<b><u>Utilities</u></b>')"
      ]
     },
     "metadata": {},
     "output_type": "display_data"
    },
    {
     "data": {
      "application/vnd.jupyter.widget-view+json": {
       "model_id": "308b0c9f1cd34c658ef287839a099aae",
       "version_major": 2,
       "version_minor": 0
      },
      "text/plain": [
       "Checkbox(value=False, description='Documentation on file approved placement of utility on bridge?', indent=Fal…"
      ]
     },
     "metadata": {},
     "output_type": "display_data"
    },
    {
     "data": {
      "application/vnd.jupyter.widget-view+json": {
       "model_id": "a8b47021654c499ea66f2b1abe608e2c",
       "version_major": 2,
       "version_minor": 0
      },
      "text/plain": [
       "Checkbox(value=False, description='Concrete embedded utility conduits shown to clear construction joints by 1 …"
      ]
     },
     "metadata": {},
     "output_type": "display_data"
    },
    {
     "data": {
      "application/vnd.jupyter.widget-view+json": {
       "model_id": "aecefa2bbdb64b3782fcf4ab1b3dd3ce",
       "version_major": 2,
       "version_minor": 0
      },
      "text/plain": [
       "Checkbox(value=False, description='Utilities not supported on fascia or below bottom of superstructure? On gra…"
      ]
     },
     "metadata": {},
     "output_type": "display_data"
    },
    {
     "data": {
      "application/vnd.jupyter.widget-view+json": {
       "model_id": "0260596982dd4d3c9250936ef65fb73f",
       "version_major": 2,
       "version_minor": 0
      },
      "text/plain": [
       "Checkbox(value=False, description='Gas and water lines not embedded in concrete? Not embedded in section of de…"
      ]
     },
     "metadata": {},
     "output_type": "display_data"
    },
    {
     "data": {
      "application/vnd.jupyter.widget-view+json": {
       "model_id": "55f71380b5aa40228ae52683243c9898",
       "version_major": 2,
       "version_minor": 0
      },
      "text/plain": [
       "Checkbox(value=False, description='Expansion provisions for utilities shown if appropriate? (Sometimes shown o…"
      ]
     },
     "metadata": {},
     "output_type": "display_data"
    },
    {
     "data": {
      "application/vnd.jupyter.widget-view+json": {
       "model_id": "f675bcb7560e4d0999c6cf3215e223cf",
       "version_major": 2,
       "version_minor": 0
      },
      "text/plain": [
       "Checkbox(value=False, description='Payment for utility supports clearly described by plan note and estimated q…"
      ]
     },
     "metadata": {},
     "output_type": "display_data"
    }
   ],
   "source": [
    "# Function to display the \"utilities\" section\n",
    "def display_utilities():\n",
    "    header = widgets.HTML(\"<b><u>Utilities</u></b>\")\n",
    "    display(header)\n",
    "    checkboxes = []\n",
    "    for criterion in utilities_criteria:\n",
    "        label = criterion[\"label\"]\n",
    "        checkbox = widgets.Checkbox(\n",
    "            description=label,\n",
    "            value=False,\n",
    "            indent=False,\n",
    "            layout=widgets.Layout(width='100%', margin='6px 0 0 0px')\n",
    "        )\n",
    "        checkbox.style = {'description_width': '0px'}\n",
    "        checkboxes.append(checkbox)\n",
    "        display(checkbox)\n",
    "\n",
    "# Display the \"utilities\" section\n",
    "display_utilities()"
   ]
  },
  {
   "cell_type": "markdown",
   "id": "81a48288-c91f-4904-b88a-998c8ab3f9cd",
   "metadata": {},
   "source": [
    "## Structure Grounding"
   ]
  },
  {
   "cell_type": "code",
   "execution_count": 97,
   "id": "6fdbe95f-4de6-4124-922f-135a3a895c84",
   "metadata": {},
   "outputs": [],
   "source": [
    "# Define the grounding criteria\n",
    "grounding_criteria = [\n",
    "    {\n",
    "        \"label\": \"Verify the structure is properly grounded as per Standard Drawing HL-50.21.\"\n",
    "    }\n",
    "]"
   ]
  },
  {
   "cell_type": "code",
   "execution_count": 98,
   "id": "87e1b810-c77b-412b-b239-26a1511b9931",
   "metadata": {},
   "outputs": [
    {
     "data": {
      "application/vnd.jupyter.widget-view+json": {
       "model_id": "9de93e503a824fe9b59d2b1872dc946a",
       "version_major": 2,
       "version_minor": 0
      },
      "text/plain": [
       "HTML(value='<b><u>Grounding</u></b>')"
      ]
     },
     "metadata": {},
     "output_type": "display_data"
    },
    {
     "data": {
      "application/vnd.jupyter.widget-view+json": {
       "model_id": "a2e7b1fd7570408b99572511024130e4",
       "version_major": 2,
       "version_minor": 0
      },
      "text/plain": [
       "Checkbox(value=False, description='Verify the structure is properly grounded as per Standard Drawing HL-50.21.…"
      ]
     },
     "metadata": {},
     "output_type": "display_data"
    }
   ],
   "source": [
    "# Function to display the \"grounding\" section\n",
    "def display_grounding():\n",
    "    header = widgets.HTML(\"<b><u>Grounding</u></b>\")\n",
    "    display(header)\n",
    "    checkboxes = []\n",
    "    for criterion in grounding_criteria:\n",
    "        label = criterion[\"label\"]\n",
    "        checkbox = widgets.Checkbox(\n",
    "            description=label,\n",
    "            value=False,\n",
    "            indent=False,\n",
    "            layout=widgets.Layout(width='100%', margin='6px 0 0 0px')\n",
    "        )\n",
    "        checkbox.style = {'description_width': '0px'}\n",
    "        checkboxes.append(checkbox)\n",
    "        display(checkbox)\n",
    "\n",
    "# Display the \"grounding\" section\n",
    "display_grounding()"
   ]
  },
  {
   "cell_type": "markdown",
   "id": "3ae6be40-69b5-49b0-b4d4-083f32610c98",
   "metadata": {},
   "source": [
    "## Approach Slab"
   ]
  },
  {
   "cell_type": "code",
   "execution_count": 99,
   "id": "03106ca8-b9f2-4b3d-94bb-22dad3c618d2",
   "metadata": {},
   "outputs": [],
   "source": [
    "# Define the approach_slab criteria\n",
    "approach_slab_criteria = [\n",
    "    {\n",
    "        \"label\": \"Removal of existing approach slab included in the estimated quantities 310.2\"\n",
    "    },\n",
    "    {\n",
    "        \"label\": \"Removal of existing Wearing Surface included in the estimated quantities as per CMS 202\"\n",
    "    },\n",
    "    {\n",
    "        \"label\": \"Non-standard approach slab shown 'Modified' in the structure block.\"\n",
    "    },\n",
    "    {\n",
    "        \"label\": \"Current Standard Drawing reference in proposed structure data block and in the General Notes.\"\n",
    "    },\n",
    "    {\n",
    "        \"label\": \"Bars D801 or D802 included in the reinforcing steel list?\"\n",
    "    },\n",
    "    {\n",
    "        \"label\": \"Pay-Item 526 for Type _ Installation included?\"\n",
    "    },\n",
    "    {\n",
    "        \"label\": \"Pay-Item for Polymer Modified Asphalt Expansion Joint System or Item 516 – Armorless Preformed Joint Seal included?\"\n",
    "    }\n",
    "]"
   ]
  },
  {
   "cell_type": "code",
   "execution_count": 100,
   "id": "a6507ce7-0ece-4d96-9945-d484e8021470",
   "metadata": {},
   "outputs": [
    {
     "data": {
      "application/vnd.jupyter.widget-view+json": {
       "model_id": "9d21540462e74d3cbcba78a0896eecdb",
       "version_major": 2,
       "version_minor": 0
      },
      "text/plain": [
       "HTML(value='<b><u>Approach Slab</u></b>')"
      ]
     },
     "metadata": {},
     "output_type": "display_data"
    },
    {
     "data": {
      "application/vnd.jupyter.widget-view+json": {
       "model_id": "9ce39d308e794da181dadd60d6c4a96f",
       "version_major": 2,
       "version_minor": 0
      },
      "text/plain": [
       "Checkbox(value=False, description='Removal of existing approach slab included in the estimated quantities 310.…"
      ]
     },
     "metadata": {},
     "output_type": "display_data"
    },
    {
     "data": {
      "application/vnd.jupyter.widget-view+json": {
       "model_id": "07628d1d29814dbb9b3de38d3dce226b",
       "version_major": 2,
       "version_minor": 0
      },
      "text/plain": [
       "Checkbox(value=False, description='Removal of existing Wearing Surface included in the estimated quantities as…"
      ]
     },
     "metadata": {},
     "output_type": "display_data"
    },
    {
     "data": {
      "application/vnd.jupyter.widget-view+json": {
       "model_id": "1d5cf2bf9b914c76b8f052f3ceb971f0",
       "version_major": 2,
       "version_minor": 0
      },
      "text/plain": [
       "Checkbox(value=False, description=\"Non-standard approach slab shown 'Modified' in the structure block.\", inden…"
      ]
     },
     "metadata": {},
     "output_type": "display_data"
    },
    {
     "data": {
      "application/vnd.jupyter.widget-view+json": {
       "model_id": "bcd28b1396504e03955b2dac6f18e146",
       "version_major": 2,
       "version_minor": 0
      },
      "text/plain": [
       "Checkbox(value=False, description='Current Standard Drawing reference in proposed structure data block and in …"
      ]
     },
     "metadata": {},
     "output_type": "display_data"
    },
    {
     "data": {
      "application/vnd.jupyter.widget-view+json": {
       "model_id": "e09f515bea414962bc6f51b90b346362",
       "version_major": 2,
       "version_minor": 0
      },
      "text/plain": [
       "Checkbox(value=False, description='Bars D801 or D802 included in the reinforcing steel list?', indent=False, l…"
      ]
     },
     "metadata": {},
     "output_type": "display_data"
    },
    {
     "data": {
      "application/vnd.jupyter.widget-view+json": {
       "model_id": "92cf8a89f695450e97e30e9ae1351f90",
       "version_major": 2,
       "version_minor": 0
      },
      "text/plain": [
       "Checkbox(value=False, description='Pay-Item 526 for Type _ Installation included?', indent=False, layout=Layou…"
      ]
     },
     "metadata": {},
     "output_type": "display_data"
    },
    {
     "data": {
      "application/vnd.jupyter.widget-view+json": {
       "model_id": "4d67d136dccc4cbaaf3f6060e6c89230",
       "version_major": 2,
       "version_minor": 0
      },
      "text/plain": [
       "Checkbox(value=False, description='Pay-Item for Polymer Modified Asphalt Expansion Joint System or Item 516 – …"
      ]
     },
     "metadata": {},
     "output_type": "display_data"
    }
   ],
   "source": [
    "# Function to display the \"approach_slab\" section\n",
    "def display_approach_slab():\n",
    "    header = widgets.HTML(\"<b><u>Approach Slab</u></b>\")\n",
    "    display(header)\n",
    "    checkboxes = []\n",
    "    for criterion in approach_slab_criteria:\n",
    "        label = criterion[\"label\"]\n",
    "        checkbox = widgets.Checkbox(\n",
    "            description=label,\n",
    "            value=False,\n",
    "            indent=False,\n",
    "            layout=widgets.Layout(width='100%', margin='6px 0 0 0px')\n",
    "        )\n",
    "        checkbox.style = {'description_width': '0px'}\n",
    "        checkboxes.append(checkbox)\n",
    "        display(checkbox)\n",
    "\n",
    "# Display the \"approach_slab\" section\n",
    "display_approach_slab()"
   ]
  },
  {
   "cell_type": "markdown",
   "id": "55b3962c-323a-48e6-9ca9-3c1bb2314c59",
   "metadata": {},
   "source": [
    "# Substructure\n",
    "\n",
    "Design checklist question -\n",
    "\n",
    "Does the project involve Substructure Design?"
   ]
  },
  {
   "cell_type": "code",
   "execution_count": 101,
   "id": "be2e831e-6ae6-4265-a4e6-5ffa25427cc3",
   "metadata": {},
   "outputs": [
    {
     "name": "stdout",
     "output_type": "stream",
     "text": [
      "Select the Substructure components included in the project scope\n"
     ]
    },
    {
     "data": {
      "application/vnd.jupyter.widget-view+json": {
       "model_id": "73f3239c363d4cef94a7271a2851c700",
       "version_major": 2,
       "version_minor": 0
      },
      "text/plain": [
       "SelectMultiple(description='Select: ', options=(None, 'Piers', 'Abutments', 'Drilled Shafts'), rows=4, value=(…"
      ]
     },
     "metadata": {},
     "output_type": "display_data"
    }
   ],
   "source": [
    "print('Select the Substructure components included in the project scope')\n",
    "\n",
    "substructure_work = widgets.SelectMultiple(\n",
    "    options=[\n",
    "        None, \n",
    "        'Piers', \n",
    "        'Abutments',\n",
    "        'Drilled Shafts'\n",
    "    ],\n",
    "    value=[],\n",
    "    description='Select: ',\n",
    "    rows=4,\n",
    "    disabled=False\n",
    ")\n",
    "\n",
    "display(substructure_work)"
   ]
  },
  {
   "cell_type": "markdown",
   "id": "6bd380c0-573f-40cc-a51b-f2dcce75d635",
   "metadata": {},
   "source": [
    "## Piers"
   ]
  },
  {
   "cell_type": "markdown",
   "id": "8ea4ddde-0f72-4771-a5e3-43a344e612bd",
   "metadata": {},
   "source": [
    "### Piers - General"
   ]
  },
  {
   "cell_type": "code",
   "execution_count": 102,
   "id": "9c908fec-a6f1-4346-96b7-7cf26fd50aa9",
   "metadata": {},
   "outputs": [],
   "source": [
    "# Define the piers_general criteria\n",
    "piers_general_criteria = [\n",
    "    {\n",
    "        \"label\": \"For freestanding piers, is the footing width at least one-fourth the height where founded on soil, one-fifth the height where founded on rock, and one-fifth the height between centers of outside piles? 306.3.1\"\n",
    "    },\n",
    "    {\n",
    "        \"label\": \"For cap and column piers on piles or bedrock, columns should generally have separate footings. 306.3.3.1.a\"\n",
    "    },\n",
    "    {\n",
    "        \"label\": \"Pier cap terminate inside the fascia and drip groove? (For box beam bridges, pier width should allow for 1/4 inch per joint fit-up between box beams) 308.2.3.3\"\n",
    "    },\n",
    "    {\n",
    "        \"label\": \"Bearing Anchor Plan shown? Are anchor bolt dimensions normal and parallel to the centerline of bearing?\"\n",
    "    },\n",
    "    {\n",
    "        \"label\": \"Cap and column piers preferably designed with a cantilevered cap? 306.3.1\"\n",
    "    },\n",
    "    {\n",
    "        \"label\": \"For slab bridges, is a construction joint placed at the top of the pier cap? 306.3.3.2\"\n",
    "    },\n",
    "    {\n",
    "        \"label\": \"Piers in navigable waterways designed to resist collision forces based on AASHTO LRFD bridge design Specification. 306.3.7\"\n",
    "    },\n",
    "    {\n",
    "        \"label\": \"Ends of pier caps (all surfaces) under the edge of decks with over-the-side drainage sealed? 306.1.2\"\n",
    "    },\n",
    "    {\n",
    "        \"label\": \"Appropriate surfaces of roadway shoulder piers sealed? 306.1.2\"\n",
    "    },\n",
    "    {\n",
    "        \"label\": \"For phased construction, is each phase supported by a minimum of three piles or two drilled shafts? 306.3.1\"\n",
    "    }\n",
    "]"
   ]
  },
  {
   "cell_type": "code",
   "execution_count": 103,
   "id": "4f5d5b8b-38be-412d-8b82-53c4eefe718a",
   "metadata": {},
   "outputs": [
    {
     "data": {
      "application/vnd.jupyter.widget-view+json": {
       "model_id": "be0d64e3792f4f47aaf2ab732b3d4675",
       "version_major": 2,
       "version_minor": 0
      },
      "text/plain": [
       "HTML(value='<b><u>Piers General</u></b>')"
      ]
     },
     "metadata": {},
     "output_type": "display_data"
    },
    {
     "data": {
      "application/vnd.jupyter.widget-view+json": {
       "model_id": "9cf1bbfef1ad4807a7626e0c86e06ffe",
       "version_major": 2,
       "version_minor": 0
      },
      "text/plain": [
       "Checkbox(value=False, description='For freestanding piers, is the footing width at least one-fourth the height…"
      ]
     },
     "metadata": {},
     "output_type": "display_data"
    },
    {
     "data": {
      "application/vnd.jupyter.widget-view+json": {
       "model_id": "d87cab5ea778480bbce7558d9d5dbe50",
       "version_major": 2,
       "version_minor": 0
      },
      "text/plain": [
       "Checkbox(value=False, description='For cap and column piers on piles or bedrock, columns should generally have…"
      ]
     },
     "metadata": {},
     "output_type": "display_data"
    },
    {
     "data": {
      "application/vnd.jupyter.widget-view+json": {
       "model_id": "1bff05127421431b8370c8eef24dc9e0",
       "version_major": 2,
       "version_minor": 0
      },
      "text/plain": [
       "Checkbox(value=False, description='Pier cap terminate inside the fascia and drip groove? (For box beam bridges…"
      ]
     },
     "metadata": {},
     "output_type": "display_data"
    },
    {
     "data": {
      "application/vnd.jupyter.widget-view+json": {
       "model_id": "5775613682f340668b88181c68fe0dfd",
       "version_major": 2,
       "version_minor": 0
      },
      "text/plain": [
       "Checkbox(value=False, description='Bearing Anchor Plan shown? Are anchor bolt dimensions normal and parallel t…"
      ]
     },
     "metadata": {},
     "output_type": "display_data"
    },
    {
     "data": {
      "application/vnd.jupyter.widget-view+json": {
       "model_id": "e9e9ea90221a48a1b25fa43be4ec53be",
       "version_major": 2,
       "version_minor": 0
      },
      "text/plain": [
       "Checkbox(value=False, description='Cap and column piers preferably designed with a cantilevered cap? 306.3.1',…"
      ]
     },
     "metadata": {},
     "output_type": "display_data"
    },
    {
     "data": {
      "application/vnd.jupyter.widget-view+json": {
       "model_id": "24e5697365e548b496e17e0327ff04b1",
       "version_major": 2,
       "version_minor": 0
      },
      "text/plain": [
       "Checkbox(value=False, description='For slab bridges, is a construction joint placed at the top of the pier cap…"
      ]
     },
     "metadata": {},
     "output_type": "display_data"
    },
    {
     "data": {
      "application/vnd.jupyter.widget-view+json": {
       "model_id": "0d020bcca9bd4dee9ad0149ec3b79dc9",
       "version_major": 2,
       "version_minor": 0
      },
      "text/plain": [
       "Checkbox(value=False, description='Piers in navigable waterways designed to resist collision forces based on A…"
      ]
     },
     "metadata": {},
     "output_type": "display_data"
    },
    {
     "data": {
      "application/vnd.jupyter.widget-view+json": {
       "model_id": "c60984d6f60e43cabed6fdb747b7c738",
       "version_major": 2,
       "version_minor": 0
      },
      "text/plain": [
       "Checkbox(value=False, description='Ends of pier caps (all surfaces) under the edge of decks with over-the-side…"
      ]
     },
     "metadata": {},
     "output_type": "display_data"
    },
    {
     "data": {
      "application/vnd.jupyter.widget-view+json": {
       "model_id": "f9a16f668b694743a9979c88bd1a953b",
       "version_major": 2,
       "version_minor": 0
      },
      "text/plain": [
       "Checkbox(value=False, description='Appropriate surfaces of roadway shoulder piers sealed? 306.1.2', indent=Fal…"
      ]
     },
     "metadata": {},
     "output_type": "display_data"
    },
    {
     "data": {
      "application/vnd.jupyter.widget-view+json": {
       "model_id": "91e404d888dc4de3ac38d7b6becc0f1a",
       "version_major": 2,
       "version_minor": 0
      },
      "text/plain": [
       "Checkbox(value=False, description='For phased construction, is each phase supported by a minimum of three pile…"
      ]
     },
     "metadata": {},
     "output_type": "display_data"
    }
   ],
   "source": [
    "# Function to display the \"piers_general\" section\n",
    "def display_piers_general():\n",
    "    header = widgets.HTML(\"<b><u>Piers General</u></b>\")\n",
    "    display(header)\n",
    "    checkboxes = []\n",
    "    for criterion in piers_general_criteria:\n",
    "        label = criterion[\"label\"]\n",
    "        checkbox = widgets.Checkbox(\n",
    "            description=label,\n",
    "            value=False,\n",
    "            indent=False,\n",
    "            layout=widgets.Layout(width='100%', margin='6px 0 0 0px')\n",
    "        )\n",
    "        checkbox.style = {'description_width': '0px'}\n",
    "        checkboxes.append(checkbox)\n",
    "        display(checkbox)\n",
    "\n",
    "# Display the \"piers_general\" section\n",
    "display_piers_general()"
   ]
  },
  {
   "cell_type": "markdown",
   "id": "809dc388-b187-4c56-a9a4-359802b40acc",
   "metadata": {},
   "source": [
    "### Pile Foundations"
   ]
  },
  {
   "cell_type": "code",
   "execution_count": 104,
   "id": "3dbec773-def8-4b6c-ad8c-9c80f76653c4",
   "metadata": {},
   "outputs": [],
   "source": [
    "# Define the pile_foundations criteria\n",
    "pile_foundations_criteria = [\n",
    "    {\n",
    "        \"label\": \"Design strives to utilize maximum allowable pile spaces and maximum allowable design loads to minimize the number of piles 305.3.5.1\"\n",
    "    },\n",
    "    {\n",
    "        \"label\": \"At least four piles per footing? 305.3.5.1 & 306.3.3.1.a\"\n",
    "    },\n",
    "    {\n",
    "        \"label\": \"Battered piles required 305.3.5.8\"\n",
    "    },\n",
    "    {\n",
    "        \"label\": \"Pile spacing a minimum of 2'-6\\\" or 2.5 times the pile width/diameter? AASHTO LRFD 10.7.1.2\"\n",
    "    },\n",
    "    {\n",
    "        \"label\": \"Distance from center of piles to edge of footing at least 1'-6\\\"? 305.3.5.1\"\n",
    "    },\n",
    "    {\n",
    "        \"label\": \"Can piles be driven without interfering with sheeting, cofferdams, or other bridge or adjacent building components?\"\n",
    "    },\n",
    "    {\n",
    "        \"label\": \"Station of intersection of the centerline of bearings and station line.\"\n",
    "    },\n",
    "    {\n",
    "        \"label\": \"Tie the pile spacing to the intersection of the centerline of bearings and station line.\"\n",
    "    },\n",
    "    {\n",
    "        \"label\": \"Number all piles 305.4.4\"\n",
    "    }\n",
    "]"
   ]
  },
  {
   "cell_type": "code",
   "execution_count": 105,
   "id": "842a1e8e-6222-4c48-964c-e4e297c7d02b",
   "metadata": {},
   "outputs": [
    {
     "data": {
      "application/vnd.jupyter.widget-view+json": {
       "model_id": "43c5afa1b6164ac3b302f39fba188333",
       "version_major": 2,
       "version_minor": 0
      },
      "text/plain": [
       "HTML(value='<b><u>Pile Foundations</u></b>')"
      ]
     },
     "metadata": {},
     "output_type": "display_data"
    },
    {
     "data": {
      "application/vnd.jupyter.widget-view+json": {
       "model_id": "3602de6e972a47d59732d04665987c65",
       "version_major": 2,
       "version_minor": 0
      },
      "text/plain": [
       "Checkbox(value=False, description='Design strives to utilize maximum allowable pile spaces and maximum allowab…"
      ]
     },
     "metadata": {},
     "output_type": "display_data"
    },
    {
     "data": {
      "application/vnd.jupyter.widget-view+json": {
       "model_id": "cdb359917cd3445c817bba8a2e65db91",
       "version_major": 2,
       "version_minor": 0
      },
      "text/plain": [
       "Checkbox(value=False, description='At least four piles per footing? 305.3.5.1 & 306.3.3.1.a', indent=False, la…"
      ]
     },
     "metadata": {},
     "output_type": "display_data"
    },
    {
     "data": {
      "application/vnd.jupyter.widget-view+json": {
       "model_id": "15d59f0c7ace4e57b25a5f828fcce762",
       "version_major": 2,
       "version_minor": 0
      },
      "text/plain": [
       "Checkbox(value=False, description='Battered piles required 305.3.5.8', indent=False, layout=Layout(margin='6px…"
      ]
     },
     "metadata": {},
     "output_type": "display_data"
    },
    {
     "data": {
      "application/vnd.jupyter.widget-view+json": {
       "model_id": "e50d2f55e93845b6b86e34cf824ad492",
       "version_major": 2,
       "version_minor": 0
      },
      "text/plain": [
       "Checkbox(value=False, description='Pile spacing a minimum of 2\\'-6\" or 2.5 times the pile width/diameter? AASH…"
      ]
     },
     "metadata": {},
     "output_type": "display_data"
    },
    {
     "data": {
      "application/vnd.jupyter.widget-view+json": {
       "model_id": "cce55cd9cfd94d5794920b61fed7f084",
       "version_major": 2,
       "version_minor": 0
      },
      "text/plain": [
       "Checkbox(value=False, description='Distance from center of piles to edge of footing at least 1\\'-6\"? 305.3.5.1…"
      ]
     },
     "metadata": {},
     "output_type": "display_data"
    },
    {
     "data": {
      "application/vnd.jupyter.widget-view+json": {
       "model_id": "5cee8a1364e1437a9c2e61b6552cf32c",
       "version_major": 2,
       "version_minor": 0
      },
      "text/plain": [
       "Checkbox(value=False, description='Can piles be driven without interfering with sheeting, cofferdams, or other…"
      ]
     },
     "metadata": {},
     "output_type": "display_data"
    },
    {
     "data": {
      "application/vnd.jupyter.widget-view+json": {
       "model_id": "dbcf37ccbad74454a2980a6f0d31e3b8",
       "version_major": 2,
       "version_minor": 0
      },
      "text/plain": [
       "Checkbox(value=False, description='Station of intersection of the centerline of bearings and station line.', i…"
      ]
     },
     "metadata": {},
     "output_type": "display_data"
    },
    {
     "data": {
      "application/vnd.jupyter.widget-view+json": {
       "model_id": "63680a1ac82a44089f0f1e6a6692a88b",
       "version_major": 2,
       "version_minor": 0
      },
      "text/plain": [
       "Checkbox(value=False, description='Tie the pile spacing to the intersection of the centerline of bearings and …"
      ]
     },
     "metadata": {},
     "output_type": "display_data"
    },
    {
     "data": {
      "application/vnd.jupyter.widget-view+json": {
       "model_id": "8c8423772fb2402b811db23e0826754f",
       "version_major": 2,
       "version_minor": 0
      },
      "text/plain": [
       "Checkbox(value=False, description='Number all piles 305.4.4', indent=False, layout=Layout(margin='6px 0 0 0px'…"
      ]
     },
     "metadata": {},
     "output_type": "display_data"
    }
   ],
   "source": [
    "# Function to display the \"pile_foundations\" section\n",
    "def display_pile_foundations():\n",
    "    header = widgets.HTML(\"<b><u>Pile Foundations</u></b>\")\n",
    "    display(header)\n",
    "    checkboxes = []\n",
    "    for criterion in pile_foundations_criteria:\n",
    "        label = criterion[\"label\"]\n",
    "        checkbox = widgets.Checkbox(\n",
    "            description=label,\n",
    "            value=False,\n",
    "            indent=False,\n",
    "            layout=widgets.Layout(width='100%', margin='6px 0 0 0px')\n",
    "        )\n",
    "        checkbox.style = {'description_width': '0px'}\n",
    "        checkboxes.append(checkbox)\n",
    "        display(checkbox)\n",
    "\n",
    "# Display the \"pile_foundations\" section\n",
    "display_pile_foundations()"
   ]
  },
  {
   "cell_type": "markdown",
   "id": "b8ff8012-73f8-404e-8f4d-53582902a5b1",
   "metadata": {},
   "source": [
    "### Capped-Pile Piers"
   ]
  },
  {
   "cell_type": "code",
   "execution_count": 106,
   "id": "ecdd789c-1dec-4cc2-8c18-df5285d5b58c",
   "metadata": {},
   "outputs": [],
   "source": [
    "# Define the capped_pile_piers criteria\n",
    "capped_pile_piers_criteria = [\n",
    "    {\n",
    "        \"label\": \"Pile spacing less than or equal to 7.5 feet? 305.3.5.1\"\n",
    "    },\n",
    "    {\n",
    "        \"label\": \"Height above flow line generally limited to 20 feet, or piles specially designed? 306.3.3\"\n",
    "    },\n",
    "    {\n",
    "        \"label\": \"Distance from edge of pile to face of pier cap is at least 9 inches? 305.3.5.1\"\n",
    "    },\n",
    "    {\n",
    "        \"label\": \"Pile encasements specified and paid for H-piles)? 606.5-1\"\n",
    "    },\n",
    "    {\n",
    "        \"label\": \"Minimum of 1'-6\\\" cover provided above the piles? 305.3.5.1\"\n",
    "    }\n",
    "]"
   ]
  },
  {
   "cell_type": "code",
   "execution_count": 107,
   "id": "9bddd540-12a8-4c88-8681-a0c86e104850",
   "metadata": {},
   "outputs": [
    {
     "data": {
      "application/vnd.jupyter.widget-view+json": {
       "model_id": "f195831e35114594832e337020f80f97",
       "version_major": 2,
       "version_minor": 0
      },
      "text/plain": [
       "HTML(value='<b><u>Capped Pile Piers</u></b>')"
      ]
     },
     "metadata": {},
     "output_type": "display_data"
    },
    {
     "data": {
      "application/vnd.jupyter.widget-view+json": {
       "model_id": "6c2b85ef00b448809f7494f197d59e90",
       "version_major": 2,
       "version_minor": 0
      },
      "text/plain": [
       "Checkbox(value=False, description='Pile spacing less than or equal to 7.5 feet? 305.3.5.1', indent=False, layo…"
      ]
     },
     "metadata": {},
     "output_type": "display_data"
    },
    {
     "data": {
      "application/vnd.jupyter.widget-view+json": {
       "model_id": "87cf050cdbc54f15a33c9e9f81e7e9d5",
       "version_major": 2,
       "version_minor": 0
      },
      "text/plain": [
       "Checkbox(value=False, description='Height above flow line generally limited to 20 feet, or piles specially des…"
      ]
     },
     "metadata": {},
     "output_type": "display_data"
    },
    {
     "data": {
      "application/vnd.jupyter.widget-view+json": {
       "model_id": "70aad501b8a9472bb024ecad16b34069",
       "version_major": 2,
       "version_minor": 0
      },
      "text/plain": [
       "Checkbox(value=False, description='Distance from edge of pile to face of pier cap is at least 9 inches? 305.3.…"
      ]
     },
     "metadata": {},
     "output_type": "display_data"
    },
    {
     "data": {
      "application/vnd.jupyter.widget-view+json": {
       "model_id": "76f8b6fbf9e0420fba54b26e82bbab9a",
       "version_major": 2,
       "version_minor": 0
      },
      "text/plain": [
       "Checkbox(value=False, description='Pile encasements specified and paid for H-piles)? 606.5-1', indent=False, l…"
      ]
     },
     "metadata": {},
     "output_type": "display_data"
    },
    {
     "data": {
      "application/vnd.jupyter.widget-view+json": {
       "model_id": "88dfcb8c6f404c40b7530a516a5e6284",
       "version_major": 2,
       "version_minor": 0
      },
      "text/plain": [
       "Checkbox(value=False, description='Minimum of 1\\'-6\" cover provided above the piles? 305.3.5.1', indent=False,…"
      ]
     },
     "metadata": {},
     "output_type": "display_data"
    }
   ],
   "source": [
    "# Function to display the \"capped_pile_piers\" section\n",
    "def display_capped_pile_piers():\n",
    "    header = widgets.HTML(\"<b><u>Capped Pile Piers</u></b>\")\n",
    "    display(header)\n",
    "    checkboxes = []\n",
    "    for criterion in capped_pile_piers_criteria:\n",
    "        label = criterion[\"label\"]\n",
    "        checkbox = widgets.Checkbox(\n",
    "            description=label,\n",
    "            value=False,\n",
    "            indent=False,\n",
    "            layout=widgets.Layout(width='100%', margin='6px 0 0 0px')\n",
    "        )\n",
    "        checkbox.style = {'description_width': '0px'}\n",
    "        checkboxes.append(checkbox)\n",
    "        display(checkbox)\n",
    "\n",
    "# Display the \"capped_pile_piers\" section\n",
    "display_capped_pile_piers()"
   ]
  },
  {
   "cell_type": "markdown",
   "id": "6cf6ce24-4aa9-43a8-9d3b-039aa7c835dc",
   "metadata": {},
   "source": [
    "### Cap and Column Piers"
   ]
  },
  {
   "cell_type": "code",
   "execution_count": 108,
   "id": "99079f56-7782-46e5-bf1d-b63daa33672c",
   "metadata": {},
   "outputs": [],
   "source": [
    "# Define the cap_and_column_piers criteria\n",
    "cap_and_column_piers_criteria = [\n",
    "    {\n",
    "        \"label\": \"Diameter of the pier column specified to be 3'-0\\\" and the drilled shaft diameter a minimum of 3'-6\\\"? 305.4.4.2\"\n",
    "    },\n",
    "    {\n",
    "        \"label\": \"Location of the construction joint at the pier column/drilled shaft interface appropriate? (Usually 1 foot above OHWM elevation, for piers in water, and 1 foot below the ground line elsewhere.) 305.4.4\"\n",
    "    },\n",
    "    {\n",
    "        \"label\": \"A construction joint between the top of drilled shaft and the bottom of the column shown and splice cage provided? FIG. 303.5.4\"\n",
    "    },\n",
    "    {\n",
    "        \"label\": \"Reinforcing details at the column/drilled shaft construction joint appropriate? Typically, the reinforcing cage diameter is a common size between the column, drilled shaft, and bedrock socket.\"\n",
    "    },\n",
    "    {\n",
    "        \"label\": \"Bedrock socket depth shown on the plans? (Bottom of socket elevation should generally not be given) 305.4.2\"\n",
    "    },\n",
    "    {\n",
    "        \"label\": \"Reinforcing Steel in the drilled shafts? BDM305.4.4.3\"\n",
    "    },\n",
    "    {\n",
    "        \"label\": \"Spacing of the drilled shafts appropriate? Typically, spacings from 12 to 18 feet are used.\"\n",
    "    },\n",
    "    {\n",
    "        \"label\": \"Drilled shafts should be spaced to utilize the maximum bedrock end bearing pressures and a minimum number of drilled shafts.\"\n",
    "    }\n",
    "]"
   ]
  },
  {
   "cell_type": "code",
   "execution_count": 109,
   "id": "e5bfd817-65bd-4fb5-86e7-a51235437e9e",
   "metadata": {},
   "outputs": [
    {
     "data": {
      "application/vnd.jupyter.widget-view+json": {
       "model_id": "4cc77b11eeac44d6a41c1f88cbf45653",
       "version_major": 2,
       "version_minor": 0
      },
      "text/plain": [
       "HTML(value='<b><u>Cap and Column Piers</u></b>')"
      ]
     },
     "metadata": {},
     "output_type": "display_data"
    },
    {
     "data": {
      "application/vnd.jupyter.widget-view+json": {
       "model_id": "6dc3e0397efa4b1bac09b4dad8a8fd1c",
       "version_major": 2,
       "version_minor": 0
      },
      "text/plain": [
       "Checkbox(value=False, description='Diameter of the pier column specified to be 3\\'-0\" and the drilled shaft di…"
      ]
     },
     "metadata": {},
     "output_type": "display_data"
    },
    {
     "data": {
      "application/vnd.jupyter.widget-view+json": {
       "model_id": "b865325e11d3490c90ca510e4a0e4e1a",
       "version_major": 2,
       "version_minor": 0
      },
      "text/plain": [
       "Checkbox(value=False, description='Location of the construction joint at the pier column/drilled shaft interfa…"
      ]
     },
     "metadata": {},
     "output_type": "display_data"
    },
    {
     "data": {
      "application/vnd.jupyter.widget-view+json": {
       "model_id": "fae9412f03e34f24b0915886ec2d944b",
       "version_major": 2,
       "version_minor": 0
      },
      "text/plain": [
       "Checkbox(value=False, description='A construction joint between the top of drilled shaft and the bottom of the…"
      ]
     },
     "metadata": {},
     "output_type": "display_data"
    },
    {
     "data": {
      "application/vnd.jupyter.widget-view+json": {
       "model_id": "b4657c299e5a46d1b089213d5617a955",
       "version_major": 2,
       "version_minor": 0
      },
      "text/plain": [
       "Checkbox(value=False, description='Reinforcing details at the column/drilled shaft construction joint appropri…"
      ]
     },
     "metadata": {},
     "output_type": "display_data"
    },
    {
     "data": {
      "application/vnd.jupyter.widget-view+json": {
       "model_id": "40daa2cdc96145b297cde8ca5cad84a9",
       "version_major": 2,
       "version_minor": 0
      },
      "text/plain": [
       "Checkbox(value=False, description='Bedrock socket depth shown on the plans? (Bottom of socket elevation should…"
      ]
     },
     "metadata": {},
     "output_type": "display_data"
    },
    {
     "data": {
      "application/vnd.jupyter.widget-view+json": {
       "model_id": "841581be070146388509f9ed8d912456",
       "version_major": 2,
       "version_minor": 0
      },
      "text/plain": [
       "Checkbox(value=False, description='Reinforcing Steel in the drilled shafts? BDM305.4.4.3', indent=False, layou…"
      ]
     },
     "metadata": {},
     "output_type": "display_data"
    },
    {
     "data": {
      "application/vnd.jupyter.widget-view+json": {
       "model_id": "e9d02f4877724e209a466e10501bfb0c",
       "version_major": 2,
       "version_minor": 0
      },
      "text/plain": [
       "Checkbox(value=False, description='Spacing of the drilled shafts appropriate? Typically, spacings from 12 to 1…"
      ]
     },
     "metadata": {},
     "output_type": "display_data"
    },
    {
     "data": {
      "application/vnd.jupyter.widget-view+json": {
       "model_id": "924e7b09eb744ad8b42bd50b7e63d19d",
       "version_major": 2,
       "version_minor": 0
      },
      "text/plain": [
       "Checkbox(value=False, description='Drilled shafts should be spaced to utilize the maximum bedrock end bearing …"
      ]
     },
     "metadata": {},
     "output_type": "display_data"
    }
   ],
   "source": [
    "# Function to display the \"cap_and_column_piers\" section\n",
    "def display_cap_and_column_piers():\n",
    "    header = widgets.HTML(\"<b><u>Cap and Column Piers</u></b>\")\n",
    "    display(header)\n",
    "    checkboxes = []\n",
    "    for criterion in cap_and_column_piers_criteria:\n",
    "        label = criterion[\"label\"]\n",
    "        checkbox = widgets.Checkbox(\n",
    "            description=label,\n",
    "            value=False,\n",
    "            indent=False,\n",
    "            layout=widgets.Layout(width='100%', margin='6px 0 0 0px')\n",
    "        )\n",
    "        checkbox.style = {'description_width': '0px'}\n",
    "        checkboxes.append(checkbox)\n",
    "        display(checkbox)\n",
    "\n",
    "# Display the \"cap_and_column_piers\" section\n",
    "display_cap_and_column_piers()"
   ]
  },
  {
   "cell_type": "markdown",
   "id": "85716873-9766-45fe-8dd0-fae597ebc4c4",
   "metadata": {},
   "source": [
    "## Abutments"
   ]
  },
  {
   "cell_type": "markdown",
   "id": "7ba031f3-f63d-48fc-bd69-4cd504af6c96",
   "metadata": {},
   "source": [
    "### General"
   ]
  },
  {
   "cell_type": "code",
   "execution_count": 110,
   "id": "e0062127-dbce-4acb-8c95-f2901dcd366d",
   "metadata": {},
   "outputs": [],
   "source": [
    "# Define the abutments_general criteria\n",
    "abutments_general_criteria = [\n",
    "    {\n",
    "        \"label\": \"Abutments easily located? Station and overall dimensions?\"\n",
    "    },\n",
    "    {\n",
    "        \"label\": \"Dimensions referenced from the proper working points? Beam/girder bridges (steel or concrete) intersection of centerline of survey and centerline of bearings. Concrete slab bridges centerline of survey is assumed 12 inches behind the face of the abutment. 201.2.1.1\"\n",
    "    },\n",
    "    {\n",
    "        \"label\": \"Types of Abutments 306.2 & 306.2.2\"\n",
    "    },\n",
    "    {\n",
    "        \"label\": \"Wing-wall lengths checked?\"\n",
    "    },\n",
    "    {\n",
    "        \"label\": \"If ground lines are shown, are they appropriate?\"\n",
    "    },\n",
    "    {\n",
    "        \"label\": \"Earth benches not been used for new designs? Depth of approach slab seat Shown? 306.2.1.4 for CPA-1-08 abutments\"\n",
    "    },\n",
    "    {\n",
    "        \"label\": \"Bridge seat sloped to drain toward the face of abutment for beam or girder bridges on spill-through abutments except at bearings)? (For grade separations on wall-type abutments, are the bridge seats sloped to drain toward the back wall, with a depressed gutter and drainage system provided? 306.2.3.2\"\n",
    "    },\n",
    "    {\n",
    "        \"label\": \"For box beam bridges, are provisions necessary to ensure proper fit of the elastomeric bearings i.e., sloped bridge seats or tapered bearings)? DB-1-11\"\n",
    "    },\n",
    "    {\n",
    "        \"label\": \"For box beam bridges, is the bridge seat length adequate to support all bearings, accounting for 1/2-inch fit-up per beam joint? Beam seat should not protrude from beneath deck edge when a fit-up allowance of 1/4 inch per foot is used for pier. 308.2.3.3\"\n",
    "    },\n",
    "    {\n",
    "        \"label\": \"For box beam bridges, has the proper wearing surface thickness at the abutments being used to compute bridge seat elevations? 309.1\"\n",
    "    },\n",
    "    {\n",
    "        \"label\": \"Dowel holes drilled parallel to a free edge clear concrete surface by at least 4 inches?\"\n",
    "    },\n",
    "    {\n",
    "        \"label\": \"Bearing anchor plan shown? Anchor bolt location dimensions normal and parallel to centerline of bearing? 306.2.1.2 & 701.2\"\n",
    "    },\n",
    "    {\n",
    "        \"label\": \"Joint filler shown between concrete box beams and wing-wall concrete? 308.2.3.3\"\n",
    "    },\n",
    "    {\n",
    "        \"label\": \"Construction joint shown at the level of the approach slab seat for steel superstructures?\"\n",
    "    },\n",
    "    {\n",
    "        \"label\": \"Construction joint provided in wing-walls of box beam bridges at bridge seat elevation? 308.2.3.3\"\n",
    "    },\n",
    "    {\n",
    "        \"label\": \"Plan note restricting placement of wing-wall concrete included for box beam bridges?\"\n",
    "    },\n",
    "    {\n",
    "        \"label\": \"Appropriate surfaces sealed using an appropriate sealer? 306.1.2 & 309.2.1\"\n",
    "    },\n",
    "    {\n",
    "        \"label\": \"Type 2 waterproofing used at construction joints? Typically used above ground at stage construction joints, or joints between existing and proposed concrete) 306.2.1.3\"\n",
    "    },\n",
    "    {\n",
    "        \"label\": \"Expansion & Contraction joints provided as appropriate? 306.2.5\"\n",
    "    },\n",
    "    {\n",
    "        \"label\": \"Weep-holes located 6 inches to 1 foot above ground level or normal waterline? 306.2.3.3\"\n",
    "    },\n",
    "    {\n",
    "        \"label\": \"Porous backfill shown 6 inches below weep holes 306.2.3.3\"\n",
    "    },\n",
    "    {\n",
    "        \"label\": \"Geotextile fabric specified between the porous backfill and the approach fill? Has it been turned up 6 inches at the wall? 306.2.3.1\"\n",
    "    },\n",
    "    {\n",
    "        \"label\": \"Lateral limits of porous backfill 2'-0\\\" thick) clearly indicated in the elevation view as described by 306.2.3.1\"\n",
    "    },\n",
    "    {\n",
    "        \"label\": \"End caps shown on drain pipes, except at outlets? 306.2.3.1\"\n",
    "    },\n",
    "    {\n",
    "        \"label\": \"For wall-type abutments where strut action of the superstructure is relied upon for stability, has a plan note been provided limiting height of backfill until superstructure is placed?\"\n",
    "    },\n",
    "    {\n",
    "        \"label\": \"Pipe drainage system used? 306.2.3.1\"\n",
    "    },\n",
    "    {\n",
    "        \"label\": \"For rehabilitation, does the connection between the new and existing concrete appear adequate? Existing reinforcing that is incorporated into the new work should generally be shown in the proposed cross-section.\"\n",
    "    },\n",
    "    {\n",
    "        \"label\": \"Aesthetic for wall-type abutments 306.2.2.1\"\n",
    "    },\n",
    "    {\n",
    "        \"label\": \"For phase construction, is each phase supported by a minimum of three piles or two drilled shafts? 306.2.2.3, 306.2.2.4 & 306.2.2.5\"\n",
    "    },\n",
    "    {\n",
    "        \"label\": \"Top strap of the MSE wall should be 6” below the footing. See figure 201-2 & 201-3 of the BDM.\"\n",
    "    },\n",
    "    {\n",
    "        \"label\": \"What type of protection is used to prevent the weed growth in the area between the footing and MSE wall?\"\n",
    "    },\n",
    "    {\n",
    "        \"label\": \"For high skew semi-integral bridges keep the beam seat level and use variable height of the HP section. Not possible to bend # 8 bars.\"\n",
    "    }\n",
    "]"
   ]
  },
  {
   "cell_type": "code",
   "execution_count": 111,
   "id": "94ff9329-f154-46c6-938d-f0bbc735b4f4",
   "metadata": {},
   "outputs": [
    {
     "data": {
      "application/vnd.jupyter.widget-view+json": {
       "model_id": "183e42e82953411e85cf1f3ccf4fc2a4",
       "version_major": 2,
       "version_minor": 0
      },
      "text/plain": [
       "HTML(value='<b><u>Abutments General</u></b>')"
      ]
     },
     "metadata": {},
     "output_type": "display_data"
    },
    {
     "data": {
      "application/vnd.jupyter.widget-view+json": {
       "model_id": "68c67c6cd37c46b589de278645822c0f",
       "version_major": 2,
       "version_minor": 0
      },
      "text/plain": [
       "Checkbox(value=False, description='Abutments easily located? Station and overall dimensions?', indent=False, l…"
      ]
     },
     "metadata": {},
     "output_type": "display_data"
    },
    {
     "data": {
      "application/vnd.jupyter.widget-view+json": {
       "model_id": "30d08155d9e7488fbb72c760d0b78b82",
       "version_major": 2,
       "version_minor": 0
      },
      "text/plain": [
       "Checkbox(value=False, description='Dimensions referenced from the proper working points? Beam/girder bridges (…"
      ]
     },
     "metadata": {},
     "output_type": "display_data"
    },
    {
     "data": {
      "application/vnd.jupyter.widget-view+json": {
       "model_id": "b8c61a2066c840aaad32feb35aa505f6",
       "version_major": 2,
       "version_minor": 0
      },
      "text/plain": [
       "Checkbox(value=False, description='Types of Abutments 306.2 & 306.2.2', indent=False, layout=Layout(margin='6p…"
      ]
     },
     "metadata": {},
     "output_type": "display_data"
    },
    {
     "data": {
      "application/vnd.jupyter.widget-view+json": {
       "model_id": "060b18f94b954a179776fe62a6b4d2c2",
       "version_major": 2,
       "version_minor": 0
      },
      "text/plain": [
       "Checkbox(value=False, description='Wing-wall lengths checked?', indent=False, layout=Layout(margin='6px 0 0 0p…"
      ]
     },
     "metadata": {},
     "output_type": "display_data"
    },
    {
     "data": {
      "application/vnd.jupyter.widget-view+json": {
       "model_id": "37980cbc6bbf482e9765bf15ff8fb2b9",
       "version_major": 2,
       "version_minor": 0
      },
      "text/plain": [
       "Checkbox(value=False, description='If ground lines are shown, are they appropriate?', indent=False, layout=Lay…"
      ]
     },
     "metadata": {},
     "output_type": "display_data"
    },
    {
     "data": {
      "application/vnd.jupyter.widget-view+json": {
       "model_id": "a753f99e4fa84056a05b28468a3ac6e1",
       "version_major": 2,
       "version_minor": 0
      },
      "text/plain": [
       "Checkbox(value=False, description='Earth benches not been used for new designs? Depth of approach slab seat Sh…"
      ]
     },
     "metadata": {},
     "output_type": "display_data"
    },
    {
     "data": {
      "application/vnd.jupyter.widget-view+json": {
       "model_id": "e347588e3c464f12b28505768ad9b6c6",
       "version_major": 2,
       "version_minor": 0
      },
      "text/plain": [
       "Checkbox(value=False, description='Bridge seat sloped to drain toward the face of abutment for beam or girder …"
      ]
     },
     "metadata": {},
     "output_type": "display_data"
    },
    {
     "data": {
      "application/vnd.jupyter.widget-view+json": {
       "model_id": "2b43dcafcd254776b07e09e40c4cbe62",
       "version_major": 2,
       "version_minor": 0
      },
      "text/plain": [
       "Checkbox(value=False, description='For box beam bridges, are provisions necessary to ensure proper fit of the …"
      ]
     },
     "metadata": {},
     "output_type": "display_data"
    },
    {
     "data": {
      "application/vnd.jupyter.widget-view+json": {
       "model_id": "58cab4b7f34c4df39d88aed474fec5f3",
       "version_major": 2,
       "version_minor": 0
      },
      "text/plain": [
       "Checkbox(value=False, description='For box beam bridges, is the bridge seat length adequate to support all bea…"
      ]
     },
     "metadata": {},
     "output_type": "display_data"
    },
    {
     "data": {
      "application/vnd.jupyter.widget-view+json": {
       "model_id": "33cc38472d3543bc866cd9ba9aaf4367",
       "version_major": 2,
       "version_minor": 0
      },
      "text/plain": [
       "Checkbox(value=False, description='For box beam bridges, has the proper wearing surface thickness at the abutm…"
      ]
     },
     "metadata": {},
     "output_type": "display_data"
    },
    {
     "data": {
      "application/vnd.jupyter.widget-view+json": {
       "model_id": "cfd76de9aac8418a9823f3edf6708a8e",
       "version_major": 2,
       "version_minor": 0
      },
      "text/plain": [
       "Checkbox(value=False, description='Dowel holes drilled parallel to a free edge clear concrete surface by at le…"
      ]
     },
     "metadata": {},
     "output_type": "display_data"
    },
    {
     "data": {
      "application/vnd.jupyter.widget-view+json": {
       "model_id": "0e4456a61b0d473489f8384fd58a3865",
       "version_major": 2,
       "version_minor": 0
      },
      "text/plain": [
       "Checkbox(value=False, description='Bearing anchor plan shown? Anchor bolt location dimensions normal and paral…"
      ]
     },
     "metadata": {},
     "output_type": "display_data"
    },
    {
     "data": {
      "application/vnd.jupyter.widget-view+json": {
       "model_id": "0860faabd28046dba70a6a8d48b10412",
       "version_major": 2,
       "version_minor": 0
      },
      "text/plain": [
       "Checkbox(value=False, description='Joint filler shown between concrete box beams and wing-wall concrete? 308.2…"
      ]
     },
     "metadata": {},
     "output_type": "display_data"
    },
    {
     "data": {
      "application/vnd.jupyter.widget-view+json": {
       "model_id": "9670687dddb14eb1b2e856132774a038",
       "version_major": 2,
       "version_minor": 0
      },
      "text/plain": [
       "Checkbox(value=False, description='Construction joint shown at the level of the approach slab seat for steel s…"
      ]
     },
     "metadata": {},
     "output_type": "display_data"
    },
    {
     "data": {
      "application/vnd.jupyter.widget-view+json": {
       "model_id": "67789c1c5f4c458ab82592dc34e93a02",
       "version_major": 2,
       "version_minor": 0
      },
      "text/plain": [
       "Checkbox(value=False, description='Construction joint provided in wing-walls of box beam bridges at bridge sea…"
      ]
     },
     "metadata": {},
     "output_type": "display_data"
    },
    {
     "data": {
      "application/vnd.jupyter.widget-view+json": {
       "model_id": "552ca3cfe5f941fd9bb77eddb12bcf41",
       "version_major": 2,
       "version_minor": 0
      },
      "text/plain": [
       "Checkbox(value=False, description='Plan note restricting placement of wing-wall concrete included for box beam…"
      ]
     },
     "metadata": {},
     "output_type": "display_data"
    },
    {
     "data": {
      "application/vnd.jupyter.widget-view+json": {
       "model_id": "529c90eba6e3486ebf56da13e6995cab",
       "version_major": 2,
       "version_minor": 0
      },
      "text/plain": [
       "Checkbox(value=False, description='Appropriate surfaces sealed using an appropriate sealer? 306.1.2 & 309.2.1'…"
      ]
     },
     "metadata": {},
     "output_type": "display_data"
    },
    {
     "data": {
      "application/vnd.jupyter.widget-view+json": {
       "model_id": "13ac8708f29d4870ac09cda6ad14797b",
       "version_major": 2,
       "version_minor": 0
      },
      "text/plain": [
       "Checkbox(value=False, description='Type 2 waterproofing used at construction joints? Typically used above grou…"
      ]
     },
     "metadata": {},
     "output_type": "display_data"
    },
    {
     "data": {
      "application/vnd.jupyter.widget-view+json": {
       "model_id": "2684312b704c4569b0aa7775371165dd",
       "version_major": 2,
       "version_minor": 0
      },
      "text/plain": [
       "Checkbox(value=False, description='Expansion & Contraction joints provided as appropriate? 306.2.5', indent=Fa…"
      ]
     },
     "metadata": {},
     "output_type": "display_data"
    },
    {
     "data": {
      "application/vnd.jupyter.widget-view+json": {
       "model_id": "e1fbf41075344f73b79de68ee057feee",
       "version_major": 2,
       "version_minor": 0
      },
      "text/plain": [
       "Checkbox(value=False, description='Weep-holes located 6 inches to 1 foot above ground level or normal waterlin…"
      ]
     },
     "metadata": {},
     "output_type": "display_data"
    },
    {
     "data": {
      "application/vnd.jupyter.widget-view+json": {
       "model_id": "73714780afcb40c6ae0a179d8cd47bbe",
       "version_major": 2,
       "version_minor": 0
      },
      "text/plain": [
       "Checkbox(value=False, description='Porous backfill shown 6 inches below weep holes 306.2.3.3', indent=False, l…"
      ]
     },
     "metadata": {},
     "output_type": "display_data"
    },
    {
     "data": {
      "application/vnd.jupyter.widget-view+json": {
       "model_id": "d83595dc932f4a9d8264d427294cfeac",
       "version_major": 2,
       "version_minor": 0
      },
      "text/plain": [
       "Checkbox(value=False, description='Geotextile fabric specified between the porous backfill and the approach fi…"
      ]
     },
     "metadata": {},
     "output_type": "display_data"
    },
    {
     "data": {
      "application/vnd.jupyter.widget-view+json": {
       "model_id": "bf05f9fc48aa4c508ff61fec9b94e3b8",
       "version_major": 2,
       "version_minor": 0
      },
      "text/plain": [
       "Checkbox(value=False, description='Lateral limits of porous backfill 2\\'-0\" thick) clearly indicated in the el…"
      ]
     },
     "metadata": {},
     "output_type": "display_data"
    },
    {
     "data": {
      "application/vnd.jupyter.widget-view+json": {
       "model_id": "3bc098ee66b64855bc9875371df947df",
       "version_major": 2,
       "version_minor": 0
      },
      "text/plain": [
       "Checkbox(value=False, description='End caps shown on drain pipes, except at outlets? 306.2.3.1', indent=False,…"
      ]
     },
     "metadata": {},
     "output_type": "display_data"
    },
    {
     "data": {
      "application/vnd.jupyter.widget-view+json": {
       "model_id": "cff6982778ac4c6f83841b25bb549b9e",
       "version_major": 2,
       "version_minor": 0
      },
      "text/plain": [
       "Checkbox(value=False, description='For wall-type abutments where strut action of the superstructure is relied …"
      ]
     },
     "metadata": {},
     "output_type": "display_data"
    },
    {
     "data": {
      "application/vnd.jupyter.widget-view+json": {
       "model_id": "b1405101fcd7444e84dc7f8f981e0913",
       "version_major": 2,
       "version_minor": 0
      },
      "text/plain": [
       "Checkbox(value=False, description='Pipe drainage system used? 306.2.3.1', indent=False, layout=Layout(margin='…"
      ]
     },
     "metadata": {},
     "output_type": "display_data"
    },
    {
     "data": {
      "application/vnd.jupyter.widget-view+json": {
       "model_id": "edecb08e54f84f1ea0084c911cd272c1",
       "version_major": 2,
       "version_minor": 0
      },
      "text/plain": [
       "Checkbox(value=False, description='For rehabilitation, does the connection between the new and existing concre…"
      ]
     },
     "metadata": {},
     "output_type": "display_data"
    },
    {
     "data": {
      "application/vnd.jupyter.widget-view+json": {
       "model_id": "7f2201914b93408294ee7b5fae2d44b7",
       "version_major": 2,
       "version_minor": 0
      },
      "text/plain": [
       "Checkbox(value=False, description='Aesthetic for wall-type abutments 306.2.2.1', indent=False, layout=Layout(m…"
      ]
     },
     "metadata": {},
     "output_type": "display_data"
    },
    {
     "data": {
      "application/vnd.jupyter.widget-view+json": {
       "model_id": "82f795afced84394a32846b9d9ef49fb",
       "version_major": 2,
       "version_minor": 0
      },
      "text/plain": [
       "Checkbox(value=False, description='For phase construction, is each phase supported by a minimum of three piles…"
      ]
     },
     "metadata": {},
     "output_type": "display_data"
    },
    {
     "data": {
      "application/vnd.jupyter.widget-view+json": {
       "model_id": "9b415ab2433b4ee3a231b6503ae2b85a",
       "version_major": 2,
       "version_minor": 0
      },
      "text/plain": [
       "Checkbox(value=False, description='Top strap of the MSE wall should be 6” below the footing. See figure 201-2 …"
      ]
     },
     "metadata": {},
     "output_type": "display_data"
    },
    {
     "data": {
      "application/vnd.jupyter.widget-view+json": {
       "model_id": "5690cf267b8448a19cc285798822d7d7",
       "version_major": 2,
       "version_minor": 0
      },
      "text/plain": [
       "Checkbox(value=False, description='What type of protection is used to prevent the weed growth in the area betw…"
      ]
     },
     "metadata": {},
     "output_type": "display_data"
    },
    {
     "data": {
      "application/vnd.jupyter.widget-view+json": {
       "model_id": "dc02fbf059064a18a2e24523523645ea",
       "version_major": 2,
       "version_minor": 0
      },
      "text/plain": [
       "Checkbox(value=False, description='For high skew semi-integral bridges keep the beam seat level and use variab…"
      ]
     },
     "metadata": {},
     "output_type": "display_data"
    }
   ],
   "source": [
    "# Function to display the \"abutments_general\" section\n",
    "def display_abutments_general():\n",
    "    header = widgets.HTML(\"<b><u>Abutments General</u></b>\")\n",
    "    display(header)\n",
    "    checkboxes = []\n",
    "    for criterion in abutments_general_criteria:\n",
    "        label = criterion[\"label\"]\n",
    "        checkbox = widgets.Checkbox(\n",
    "            description=label,\n",
    "            value=False,\n",
    "            indent=False,\n",
    "            layout=widgets.Layout(width='100%', margin='6px 0 0 0px')\n",
    "        )\n",
    "        checkbox.style = {'description_width': '0px'}\n",
    "        checkboxes.append(checkbox)\n",
    "        display(checkbox)\n",
    "\n",
    "# Display the \"abutments_general\" section\n",
    "display_abutments_general()"
   ]
  },
  {
   "cell_type": "markdown",
   "id": "320488b1-ba93-4b68-8b41-4d7a2ebb4c10",
   "metadata": {},
   "source": [
    "### Pile Foundations"
   ]
  },
  {
   "cell_type": "code",
   "execution_count": 112,
   "id": "409dfa4d-c177-4406-a96b-2b222a109db8",
   "metadata": {},
   "outputs": [],
   "source": [
    "# Define the pile_foundations criteria\n",
    "pile_foundations_criteria = [\n",
    "    {\n",
    "        \"label\": \"Flanges of piles parallel to face of rigid abutments; webs parallel to face of flexible abutment (including CPA-1-08/ICD-1-82 abutments and CPP-1-08 piers)?\"\n",
    "    },\n",
    "    {\n",
    "        \"label\": \"Battered piles required? (Rate of batter shown? 1:4 desirable, 1:3 acceptable) 305.3.5.8\"\n",
    "    },\n",
    "    {\n",
    "        \"label\": \"Pile embedment into footing shown as 1'-6\\\" cover shown above piles or as per 305.3.5\"\n",
    "    },\n",
    "    {\n",
    "        \"label\": \"Pile design load 305.3.3 & 305.3.4\"\n",
    "    },\n",
    "    {\n",
    "        \"label\": \"Distance from center of piles to edge of footing at least 1'-6\\\"? (Not the Ultimate Bearing Value UBV pile load) shown in the General Notes? UBV as per 305.3.5.1\"\n",
    "    },\n",
    "    {\n",
    "        \"label\": \"For abutments on a single row of piles, have closed ties been provided around the piles? For example, see Standard Drawing ICD-1-82\"\n",
    "    },\n",
    "    {\n",
    "        \"label\": \"Design utilizes maximum allowable pile spacing and maximum allowable design loads to minimize the number of piles 305.3.5, 305.3.3 & 305.3.4\"\n",
    "    },\n",
    "    {\n",
    "        \"label\": \"For abutments on a single row of piles, has the footing been extended to the ends of the wingwalls and straight wing-walls used?\"\n",
    "    }\n",
    "]"
   ]
  },
  {
   "cell_type": "code",
   "execution_count": 113,
   "id": "44e1968e-4595-4083-9380-6670bee27c52",
   "metadata": {},
   "outputs": [
    {
     "data": {
      "application/vnd.jupyter.widget-view+json": {
       "model_id": "5008b70511af4b8999dcc2338b5ac8cb",
       "version_major": 2,
       "version_minor": 0
      },
      "text/plain": [
       "HTML(value='<b><u>Pile Foundations</u></b>')"
      ]
     },
     "metadata": {},
     "output_type": "display_data"
    },
    {
     "data": {
      "application/vnd.jupyter.widget-view+json": {
       "model_id": "ca6fc0ec630d44469ed22c1dc18e5d55",
       "version_major": 2,
       "version_minor": 0
      },
      "text/plain": [
       "Checkbox(value=False, description='Flanges of piles parallel to face of rigid abutments; webs parallel to face…"
      ]
     },
     "metadata": {},
     "output_type": "display_data"
    },
    {
     "data": {
      "application/vnd.jupyter.widget-view+json": {
       "model_id": "632b8c0ac3fd49b8b43c47c5ef38dad6",
       "version_major": 2,
       "version_minor": 0
      },
      "text/plain": [
       "Checkbox(value=False, description='Battered piles required? (Rate of batter shown? 1:4 desirable, 1:3 acceptab…"
      ]
     },
     "metadata": {},
     "output_type": "display_data"
    },
    {
     "data": {
      "application/vnd.jupyter.widget-view+json": {
       "model_id": "5743338e7afd4b58a1e6b4e15e1a66f2",
       "version_major": 2,
       "version_minor": 0
      },
      "text/plain": [
       "Checkbox(value=False, description='Pile embedment into footing shown as 1\\'-6\" cover shown above piles or as p…"
      ]
     },
     "metadata": {},
     "output_type": "display_data"
    },
    {
     "data": {
      "application/vnd.jupyter.widget-view+json": {
       "model_id": "44a7c5a2c7fe43eeabe23c34d4d50a17",
       "version_major": 2,
       "version_minor": 0
      },
      "text/plain": [
       "Checkbox(value=False, description='Pile design load 305.3.3 & 305.3.4', indent=False, layout=Layout(margin='6p…"
      ]
     },
     "metadata": {},
     "output_type": "display_data"
    },
    {
     "data": {
      "application/vnd.jupyter.widget-view+json": {
       "model_id": "728b3ccf30c34c5caeb95f0aa90d47d3",
       "version_major": 2,
       "version_minor": 0
      },
      "text/plain": [
       "Checkbox(value=False, description='Distance from center of piles to edge of footing at least 1\\'-6\"? (Not the …"
      ]
     },
     "metadata": {},
     "output_type": "display_data"
    },
    {
     "data": {
      "application/vnd.jupyter.widget-view+json": {
       "model_id": "1adef8f49e904cef905021148ae1e880",
       "version_major": 2,
       "version_minor": 0
      },
      "text/plain": [
       "Checkbox(value=False, description='For abutments on a single row of piles, have closed ties been provided arou…"
      ]
     },
     "metadata": {},
     "output_type": "display_data"
    },
    {
     "data": {
      "application/vnd.jupyter.widget-view+json": {
       "model_id": "4809af2515e54fdf9b92852a01a40f4d",
       "version_major": 2,
       "version_minor": 0
      },
      "text/plain": [
       "Checkbox(value=False, description='Design utilizes maximum allowable pile spacing and maximum allowable design…"
      ]
     },
     "metadata": {},
     "output_type": "display_data"
    },
    {
     "data": {
      "application/vnd.jupyter.widget-view+json": {
       "model_id": "b8fac7db13e9486998f5e26e6bbaf3c4",
       "version_major": 2,
       "version_minor": 0
      },
      "text/plain": [
       "Checkbox(value=False, description='For abutments on a single row of piles, has the footing been extended to th…"
      ]
     },
     "metadata": {},
     "output_type": "display_data"
    }
   ],
   "source": [
    "# Function to display the \"pile_foundations\" section\n",
    "def display_pile_foundations():\n",
    "    header = widgets.HTML(\"<b><u>Pile Foundations</u></b>\")\n",
    "    display(header)\n",
    "    checkboxes = []\n",
    "    for criterion in pile_foundations_criteria:\n",
    "        label = criterion[\"label\"]\n",
    "        checkbox = widgets.Checkbox(\n",
    "            description=label,\n",
    "            value=False,\n",
    "            indent=False,\n",
    "            layout=widgets.Layout(width='100%', margin='6px 0 0 0px')\n",
    "        )\n",
    "        checkbox.style = {'description_width': '0px'}\n",
    "        checkboxes.append(checkbox)\n",
    "        display(checkbox)\n",
    "\n",
    "# Display the \"pile_foundations\" section\n",
    "display_pile_foundations()"
   ]
  },
  {
   "cell_type": "markdown",
   "id": "6e7a6722-aef2-4c27-ac44-d41162a31943",
   "metadata": {},
   "source": [
    "## Drilled Shaft"
   ]
  },
  {
   "cell_type": "code",
   "execution_count": 114,
   "id": "1c3e2e43-89ca-4d42-b1bd-acfd352e56de",
   "metadata": {},
   "outputs": [],
   "source": [
    "# Define the drilled_shaft criteria\n",
    "drilled_shaft_criteria = [\n",
    "    {\n",
    "        \"label\": \"Drilled shaft diameter a minimum of 3'-0\\\"? 305.4\"\n",
    "    },\n",
    "    {\n",
    "        \"label\": \"Bedrock socket depth shown on the plans? (Bottom of socket elevation should generally not be given)\"\n",
    "    },\n",
    "    {\n",
    "        \"label\": \"Spacing of the drilled shafts appropriate? Typically, spacing for 12 to 18 feet are used. Drilled shafts should attempt to be spaced to utilize the maximum bedrock end bearing pressures and a minimum number of drilled shafts.\"\n",
    "    },\n",
    "    {\n",
    "        \"label\": \"Splice cage specified? 303.4.4.3 & Fig. 305-4\"\n",
    "    },\n",
    "    {\n",
    "        \"label\": \"Use of friction drilled shaft requires previous approval of OGE? 305.4.3\"\n",
    "    }\n",
    "]"
   ]
  },
  {
   "cell_type": "code",
   "execution_count": 115,
   "id": "208ba548-1726-4eb3-84ba-6b3b1e155851",
   "metadata": {},
   "outputs": [
    {
     "data": {
      "application/vnd.jupyter.widget-view+json": {
       "model_id": "5ef7299dadeb49e8b91c2a918c206e40",
       "version_major": 2,
       "version_minor": 0
      },
      "text/plain": [
       "HTML(value='<b><u>Drilled Shaft</u></b>')"
      ]
     },
     "metadata": {},
     "output_type": "display_data"
    },
    {
     "data": {
      "application/vnd.jupyter.widget-view+json": {
       "model_id": "6e8c68f62f22491bb7187ce85a736ed2",
       "version_major": 2,
       "version_minor": 0
      },
      "text/plain": [
       "Checkbox(value=False, description='Drilled shaft diameter a minimum of 3\\'-0\"? 305.4', indent=False, layout=La…"
      ]
     },
     "metadata": {},
     "output_type": "display_data"
    },
    {
     "data": {
      "application/vnd.jupyter.widget-view+json": {
       "model_id": "84556ef6b1be465f98ebd263b18b15da",
       "version_major": 2,
       "version_minor": 0
      },
      "text/plain": [
       "Checkbox(value=False, description='Bedrock socket depth shown on the plans? (Bottom of socket elevation should…"
      ]
     },
     "metadata": {},
     "output_type": "display_data"
    },
    {
     "data": {
      "application/vnd.jupyter.widget-view+json": {
       "model_id": "4b6a00f4d29d4a8c96953b82a19fadd9",
       "version_major": 2,
       "version_minor": 0
      },
      "text/plain": [
       "Checkbox(value=False, description='Spacing of the drilled shafts appropriate? Typically, spacing for 12 to 18 …"
      ]
     },
     "metadata": {},
     "output_type": "display_data"
    },
    {
     "data": {
      "application/vnd.jupyter.widget-view+json": {
       "model_id": "742848f59794447e8cd93c85a6c1eed7",
       "version_major": 2,
       "version_minor": 0
      },
      "text/plain": [
       "Checkbox(value=False, description='Splice cage specified? 303.4.4.3 & Fig. 305-4', indent=False, layout=Layout…"
      ]
     },
     "metadata": {},
     "output_type": "display_data"
    },
    {
     "data": {
      "application/vnd.jupyter.widget-view+json": {
       "model_id": "2ccad87b97914142a9d7e1e7bbb5b40a",
       "version_major": 2,
       "version_minor": 0
      },
      "text/plain": [
       "Checkbox(value=False, description='Use of friction drilled shaft requires previous approval of OGE? 305.4.3', …"
      ]
     },
     "metadata": {},
     "output_type": "display_data"
    }
   ],
   "source": [
    "# Function to display the \"drilled_shaft\" section\n",
    "def display_drilled_shaft():\n",
    "    header = widgets.HTML(\"<b><u>Drilled Shaft</u></b>\")\n",
    "    display(header)\n",
    "    checkboxes = []\n",
    "    for criterion in drilled_shaft_criteria:\n",
    "        label = criterion[\"label\"]\n",
    "        checkbox = widgets.Checkbox(\n",
    "            description=label,\n",
    "            value=False,\n",
    "            indent=False,\n",
    "            layout=widgets.Layout(width='100%', margin='6px 0 0 0px')\n",
    "        )\n",
    "        checkbox.style = {'description_width': '0px'}\n",
    "        checkboxes.append(checkbox)\n",
    "        display(checkbox)\n",
    "\n",
    "# Display the \"drilled_shaft\" section\n",
    "display_drilled_shaft()"
   ]
  },
  {
   "cell_type": "markdown",
   "id": "1d022798-496b-40e9-8bad-f6780b0fc577",
   "metadata": {},
   "source": [
    "# Appendix"
   ]
  },
  {
   "cell_type": "markdown",
   "id": "4ece951e-f046-4f13-a511-cb96fbd4b104",
   "metadata": {},
   "source": [
    "## A - Legacy Checklist from Excel"
   ]
  },
  {
   "cell_type": "raw",
   "id": "361427c4-204c-43d5-aa36-35bd81444458",
   "metadata": {},
   "source": [
    "\t\t\t\t\t\n",
    "\tOhio Department of Transportation\t\t\t\t\n",
    "\tBRIDGE STAGE 2 PLAN REVIEW CHECKLIST\t\t\t\t\n",
    "\tVERSION 4 – JULY 17, 2020\t\t\t\t\n",
    "\tComplies with 2019 CMS\t\t\t\t\n",
    "\tPrepared by:  OSE\t\t\t\t\n",
    "\t                                                                                    \t\t\t\t\n",
    "\t\t\t\t\t\n",
    "\t                                                         Send all changes to this checklist to: teddy.antonios@dot.ohio.gov\t\t\t\t\n",
    "\t                                                         \t\t\t\t\n",
    "\tBridge No:  CTY-RTE-0000\t\t\t\t\n",
    "\tChecker:  Name\tDate: MM/DD/YY\t\t\t\n",
    "\tPID:  123456\t\t\t\t\n",
    "\t\t\t\t\t\n",
    "\tApplicable bullet items shall be included in each Stage 2 design review submittal. This “checklist” should be considered as a starting point for each Stage 2 design review. Each structure will contain anomalies specific to that site and should be reviewed/analyzed accordingly.\t\t\t\t\n",
    "\tLegend:\t\t\t\t\n",
    "\t?\tChecked\t\t\t\n",
    "\tN/A – Not Applicable\t\t\t\t\n",
    "\tNotes by/to Reviewer\t\t\t\t\n",
    "\t                                                         \t\t\t\t\n",
    "\tContents\t\t\t\t\n",
    "\tGENERAL\t4\t\t\t\n",
    "\tPLANS\t5\t\t\t\n",
    "\tA.\tSITE PLAN\t5\t\t\n",
    "\tB.\tGENERAL PLAN\t5\t\t\n",
    "\tC.\tGENERAL NOTES/ESTIMATED QUANTITIES\t5\t\t\n",
    "\t1)\tGENERAL NOTES Refer to ( 600)\t5\t\t\n",
    "\t2)\tDETAIL NOTES\t6\t\t\n",
    "\t3)\tESTIMATED QUANTITIES\t6\t\t\n",
    "\t4)\tREINFORCING DETAILS\t6\t\t\n",
    "\tSTAGE CONSTRUCTION\t7\t\t\t\n",
    "\t1)\tTypical Sections\t7\t\t\n",
    "\t2)\tPart Plan Views\t7\t\t\n",
    "\t3)\tTemporary Sheeting\t7\t\t\n",
    "\t4)\tTemporary Railing\t7\t\t\n",
    "\t5)\tSlab Bridges\t7\t\t\n",
    "\t6)\tLateral Restraint\t8\t\t\n",
    "\t7)\tEnd Dams\t8\t\t\n",
    "\t8)\tMiscellaneous\t8\t\t\n",
    "\tSUPERSTRUCTURE\t9\t\t\t\n",
    "\tA)\tSLAB\t9\t\t\n",
    "\tB)\tPRESTRESSED CONCRETE BOX BEAMS\t10\t\t\n",
    "\tC)\tPRESTRESSED CONCRETE I-BEAMS\t11\t\t\n",
    "\tD)\tSTEEL STRINGERS\t13\t\t\n",
    "\t1)\tGeneral\t13\t\t\n",
    "\t2)\tRolled Beams\t15\t\t\n",
    "\t3)\tPlate Girders\t15\t\t\n",
    "\tE)\tCONCRETE DECK ON CONCRETE I-BEAMS OR STEEL STRINGERS\t15\t\t\n",
    "\tF)\tRAILING/FENCE\t17\t\t\n",
    "\t1)\tDeep Beam Railing\t17\t\t\n",
    "\t2)\tTwin Steel Tube Rail\t17\t\t\n",
    "\t3)\tSidewalk Railing with Concrete Parapet (BR-2-98 Type Railing)\t17\t\t\n",
    "\t4)\tParapet Type Railing\t17\t\t\n",
    "\t5)\tParapet and Fence Type Railing\t18\t\t\n",
    "\tG)\tBEARINGS\t18\t\t\n",
    "\t1\tElastomeric Bearings\t18\t\t\n",
    "\t2\tAnchor Bars\t19\t\t\n",
    "\t3\tAnchor Bolt Layout\t19\t\t\n",
    "\t4\tMiscellaneous\t19\t\t\n",
    "\tH)\tDECK JOINTS\t20\t\t\n",
    "\t1\tTerminal Details\t20\t\t\n",
    "\t2\tJoint/Bearing Coordination\t20\t\t\n",
    "\t3\tMiscellaneous\t20\t\t\n",
    "\tI)\tDECK DRAINAGE\t20\t\t\n",
    "\t1)\tScuppers\t20\t\t\n",
    "\t2)\tApproaches\t21\t\t\n",
    "\t3)\tDrainage Collection System\t21\t\t\n",
    "\t4)\tElastomeric Troughs\t21\t\t\n",
    "\t5)\tErosion Protection\t21\t\t\n",
    "\tJ)\tUTILITIES ( 301.7)\t21\t\t\n",
    "\tK)\tSTRUCTURE GROUNDING\t21\t\t\n",
    "\tL)\tAPPROACH SLAB\t21\t\t\n",
    "\t\tSUBSTRUCTURE\t\t\t\n",
    "\tA.\tPIERS\t22\t\t\n",
    "\t1\tGeneral\t22\t\t\n",
    "\t2\tPile Foundations\t22\t\t\n",
    "\t3\tCapped-Pile Piers\t23\t\t\n",
    "\t4\tCap and Column Piers\t23\t\t\n",
    "\tB.\tABUTMENTS\t23\t\t\n",
    "\t1\tGeneral\t23\t\t\n",
    "\t2\tPile Foundations\t25\t\t\n",
    "\tC.\tDRILLED SHAFT\t26\t\t\n",
    "\t\t\t\t\t\n",
    "1\t\tGENERAL\t\t\t\n",
    "1.1\t?\tAll Stage I comments resolved and detailed design is as per approved Stage I.\t\t\t\n",
    "1.2\t?\tAll correspondence has been reviewed?\t\t\t\n",
    "1.3\t?\tAll bridge plan sheet are in order. \t103\t\t\n",
    "1.4\t?\tTitle block okay on all sheets?  (As shown on Figure 102-4 in the Bridge Design Manual [BDM]) Designed, checked and reviewed blocks complete on all sheets?  (If not, or if it appears a thorough independent check and review has not occurred, plans should be returned)\t\t\t\n",
    "1.5\t?\tProject number and bridge number correct? \t102.4\t\t\n",
    "1.6\t?\tAll lettering No. 5 or larger?  Caps 5/32 inches in height) Sheets in an appropriate order?  As per \t102.2\t\t\n",
    "1.7\t?\tSupplemental Site Plan, if prepared during Stage 1 has not been included in plans?\t\t\t\n",
    "1.8\t?\tSite Plan been checked with the final approved Sage 1 Site Plan?  Deck transverse sections matches that approved in Stage I?\t\t\t\n",
    "1.9\t?\tCall-outs are consistent on all sheets?  (Span designation number, pier numbers, etc.)\t\t\t\n",
    "1.10\t?\tNorth arrow shown on all plan views, all sheets. \t102\t\t\n",
    "1.11\t?\tEach drilled shaft in the structure has been assigned a unique number? \t305.4.4\t\t\n",
    "1.12\t?\tEach pile in the structure has been assigned a unique number? \t\t\t\n",
    "1.13\t?\tPier (s) and forward abutment elevations and the superstructure transverse section shown looking forward?  Rear abutment elevation looking to the rear?  \t102\t\t\n",
    "1.14\t?\tAppropriate centerline/reference line used and referenced exclusively (consistent nomenclature) throughout the details.\t\t\t\n",
    "1.15\t?\tIf an auxiliary reference line is established, is stationing given along this line only, near the bridge? Is a geometric diagram provided, if necessary?\t\t\t\n",
    "1.16\t?\tFor bridge with variable super-elevation, has a super-elevation transition diagram been provided? \t309.3.6.1 & 309.3.6.1a\t\t\n",
    "1.17\t?\tBreak over (1/2 inch per foot slope) provided on high side of superelevated decks for shoulder widths >4 feet?  Rounding beginning at edge of roadway used when change in cross slope at break over exceeds 3 percent 4-foot rounding for shoulders < 8 feet and 5 foot rounding for shoulders   > 8 feet)?\t309.3.6.1 Figure 309-9 & 309-10\t\t\n",
    "1.18\t?\tApproach slabs have been detailed as per Designer Supplement: AS-2-15-Approach Slab Installation?\t\t\t\n",
    "1.19\t?\tItems that should be included with roadway quantities (e.g., Rock Channel Protection, Portable Concrete Barrier and Temporary Guardrail) have been designated as such?\t\t\t\n",
    "1.20\t?\tPortions of existing structure that are to be removed have been properly indicated?\t\t\t\n",
    "1.21\t?\t± Symbol used for existing structure dimensions?  Dashed lines used to denote existing structures? \t207.4\t\t\n",
    "1.22\t?\tDetail plans for temporary sheeting/shoring included if required by the \t310.1\t\t\n",
    "1.32\t?\tDetail plans for a temporary runaround bridge included if required by the Scope? \t503\t\t\n",
    "1.42\t?\tConcrete surfaces sealed per \t306.1.2, 309.2.1 and 403.3 .\t\t\n",
    "1.52\t?\tEpoxy only sealer not used. \t309.2.1-G\t\t\n",
    "\t\t     PLANS\t\t\t\n",
    "2\t\tA. SITE PLAN\t\t\t\n",
    "2.1\t?\tIn the proposed structure data block verify the Latitude and Longitude. The Latitude and Longitude of the begin Bridge limit station should be given to the nearest 0.01 second. The 0.01 second precision will be included in the next  update.  \t\t\t\n",
    "2.2\t?\tIn the profile view provide the highest known high-water mark; normal water elevation and Ordinary High-Water Mark \tOHWM See section 201.2.1 BDM.\t\t\n",
    "2.3\t?\tShow the length of the bedrock socket in the profile view. See section 305.4.2 BDM.\t\t\t\n",
    "2.4\t\tB. GENERAL PLAN\t\t\t\n",
    "2.5\t?\tReference line shown for curved bridges, and stations should be shown where it intersects curve?\t\t\t\n",
    "2.6\t?\tSpan lengths agree with Site Plan? \t202.1.1\t\t\n",
    "2.7\t?\tStage construction joint shown on appropriate plan views and details \t\t\t\n",
    "2.8\t?\tHighway lighting feature shown, if applicable?\t\t\t\n",
    "2.9\t?\tScuppers shown, if applicable?\t\t\t\n",
    "2.10\t?\tApproach drainage details (Gutters/catch basins)\t\t\t\n",
    "2.11\t?\tLimits of slope protection.\t\t\t\n",
    "2.12\t\tC. GENERAL NOTES/ESTIMATED QUANTITIES\t\t\t\n",
    "2\t\t1) GENERAL NOTES Refer to ( 600)\t\t\t\n",
    "2.1\t?\tAll applicable general notes from \t600 included?\t\t\n",
    "2.2\t?\tWording of \"standard general notes” suit the project?  (Do the notes make sense for this project?)\t\t\t\n",
    "2.3\t?\tGeneral notes included where necessary to describe \"as per plan\" items?\t\t\t\n",
    "2.4\t?\tIn addition to the typical general notes given in the BDM, general notes are usually included to describe any \"non-standard\" bid items or situations.  Have these been included?\t\t\t\n",
    "2.5\t?\tFor rehabilitation projects, is the scope work itemized and clearly described under a PROPOSED WORK note?\t\t\t\n",
    "2.6\t?\tConstruction procedure for unusual conditions\t\t\t\n",
    "2.7\t\t\t\t\t\n",
    "2.8\t\t2) DETAIL NOTES\t\t\t\n",
    "2.9\t?\tSee Section 700 of the Bridge Design Manual for a reminder list of typical detail notes.\t\t\t\n",
    "2.10\t\t3) ESTIMATED QUANTITIES\t\t\t\n",
    "2.11\t?\tAll Items should be listed in the Estimated Quantities sheet in stage 2 without quantities.\t\t\t\n",
    "2.12\t?\tPay-Item for cofferdam and excavation bracing included if required by section 310.1.1 of the BDM.\t\t\t\n",
    "\t\t4) REINFORCING DETAILS\t\t\t\n",
    "\t?\tBar lengths conform to The maximum bar length should be approximately 40 feet.  For longitudinal deck reinforcing, bar lengths of 30 feet are preferred, except for one odd length at end of run.\t304.4.1 ?\t\t\n",
    "\t?\tLength of the short leg of L-shaped bars less than 8'-0\"?  \t304.4.1\t\t\n",
    "\t?\tMinimum reinforcing steel provided in all faces of retaining walls and wall-type abutments and piers for shrinkage and temperature reinforcement?  \t304.4.9 LRFD 5.10.6\t\t\n",
    "\t?\tSplice and development lengths for epoxy bars conform to current AASHTO requirements? \tLRFD 5.10.8\t\t\n",
    "\t?\tAll bar splice lengths shown by plan note, on plan details, combination or reference?\t\t\t\n",
    "\t?\tBridge seat reinforcement adequately clear of bearing anchors? \t306.2.1.2\t\t\n",
    "\t?\tTreatment of reinforcing steel appropriate at all construction, contraction, and expansion joints? \t306.2.5\t\t\n",
    "\t?\tReinforcing steel in footings comply with (i.e., secondary rebars under main rebars, rebars at bottom of footing and not top of piles, dowel legs placed at bottom layer of footing rebars)?\t305.2.1.4\t\t\n",
    "\t?\tFor cantilevered pier caps  (T-type and cap and column), is the top layer of bars bent down the end face of the cap?  Side faces adequately reinforced to resist longitudinal superstructure forces? \t306.3.3.3\t\t\n",
    "\t?\tLateral ties between vertical bars in T-type and wall type piers as per section \t306.3.3\t\t\n",
    "\t?\tAll reinforcing shall be epoxy coated?  \t304.4\t\t\n",
    "\t?\tLetter prefix A (abutments), P (piers), S (superstructure), SP (spirals), DS (drilled shafts) generally used in bar marks?  \t304.4.2\t\t\n",
    "\t?\tMechanical connectors used where appropriate? \t304.4.4\t\t\n",
    "\t?\tSplices avoided at pier horizontal construction joints, except at top of footing?  \t304.4.3\t\t\n",
    "\t\t     STAGE CONSTRUCTION\t\t\t\n",
    "\t\t1) Typical Sections\t\t\t\n",
    "\t?\tLarge scale typical sections of existing and proposed superstructures provided to show removal and construction stages?\t\t\t\n",
    "\t?\tLocation of cut lines and stage construction joints established with respect to primary survey line?\t\t\t\n",
    "\t?\tTypical section of existing structure conforms to current photographs and site inspection sketches?\t\t\t\n",
    "\t?\tStage construction details sheet should include notes that detail the sequence of construction \t309.3.8.5\t\t\n",
    "\t\t2) Part Plan Views\t\t\t\n",
    "\t?\tPart Plan views provided to show the relative relationship of the existing and proposed abutments during Stage 1 construction and relevant basic dimensions and clearances?\t\t\t\n",
    "\t?\tSufficient room provided between temporary sheeting and proposed abutment for form construction and removal?\t\t\t\n",
    "\t?\tSufficient room provided for pile driving?\t\t\t\n",
    "\t\t3) Temporary Sheeting\t\t\t\n",
    "\t?\tConsultant designed sheeting details provided in the plan when traffic is being maintained and the height of the retained earth is over 8 feet \t310.1.1.2\t\t\n",
    "\t?\tTemporary sheeting shown on the Site Plan and/or General Plan?\t\t\t\n",
    "\t?\tCofferdams and Excavation Bracing item provided in quantities?\t\t\t\n",
    "\t?\tTentative location of temporary sheeting shown on abutment plan views to retain backfill and permit partial removal and excavation for proposed construction?\t\t\t\n",
    "\t\t4) Temporary Railing\t\t\t\n",
    "\t?\tReference for barrier details given to Standard Drawing PCB-91?\t\t\t\n",
    "\t?\tBarrier anchors provided not less than two per segment for barriers located less than 6'- 0\" from the edge of deck for bridges over roadways, railroad, or recreational areas: or less than 1'-0\" from the edge of the deck for other bridge application (PCB-DD)?\t\t\t\n",
    "\t?\tDouble the number of anchor if the barrier location is less than 1 foot. (PCB-DD)\t\t\t\n",
    "\t?\tComplete details given for temporary steel railing?\t\t\t\n",
    "\t\t5) Slab Bridges\t\t\t\n",
    "\t?\tSlab removal cut lines lie transverse to primary slab reinforcing steel? \tBDM201.2.6, 404.5\t\t\n",
    "\t?\tTemporary slab supports provided for such slabs \t310.1.2 ?\t\t\n",
    "\t?\tBoth stages of slab bridges supported by false work until second stage slab concrete has fully cured before false work is released (to avoid the use of a third stage closure section and high dead load shear forces on stage construction joints due to the premature release of false work)? (False work should be designed for live load)\t\t\t\n",
    "\t\t6) Lateral Restraint\t\t\t\n",
    "\t?\tTemporary lateral restraint provided to prevent rotational movement of the first stage superstructures of semi-integral bridges towards the unrestrained (no guide bearing) acute corners at stage construction joints?\t\t\t\n",
    "\t?\tFor re-decking an existing structure without a closure section, a deck slab placement procedure provided requiring relatively complete second stage deck placement before placement of second stage integral end-diaphragms?\t\t\t\n",
    "\t?\tSemi-Integral Abutment Diaphragm Guide provided as per standard drawing SICD-2-14.\t\t\t\n",
    "\t\t7) End Dams\t\t\t\n",
    "\t?\tFull penetration butt-welded field splices provided at or near stage construction joints for superstructure portion of the end dams?\t\t\t\n",
    "\t?\tBolted field splices provided for the abutment portion?\t\t\t\n",
    "\t?\tOffset between the two splices provided to facilitate butt-welding?\t\t\t\n",
    "\t?\tSuperstructure splice located to clear beam flanges and cross frames gusset plates?\t\t\t\n",
    "\t\t8) Miscellaneous\t\t\t\n",
    "\t?\tRemoval limits clearly shown or are apparent?  Cross-hatching used to designate removal areas?\t\t\t\n",
    "\t?\tRemoval Cut lines: Full-depth saw cut-lines specified for deck slab removals where the integrity of the slab is needed to support temporary railing?  Cut-lines shown on plan and/or elevation views of substructure? \t201.2.6\t\t\n",
    "\t?\tConstruction Access: Adequate space provided between Stage 1 construction and the remainder of the existing structure for temporary sheeting and form construction?\t\t\t\n",
    "\t?\tClosure Placements: 2'-6\" minimum wide third stage closure section provided for “new\" stringer superstructures?  \t309.3.8.5\t\t\n",
    "\t?\tAre stage construction joints shown in all relevant views?\t\t\t\n",
    "\t?\tCofferdam Sheeting: Vertical clearance available under 20 + feet) and/or adjacent to the existing structure to permit driving sheeting?  Plan details shown tentative position of such sheeting where clearances are tight?\t\t\t\n",
    "\t? \tProvisions made for the complete or partial removal of temporary railing anchors and the grouting of resulting voids?\t\t\t\n",
    "\t?\tRoadway Item 614: Note provided referring to roadway plans for other temporary railing details and to Item 614 (roadway plans) for payment?\t\t\t\n",
    "\t?\tApproach slab details provided showing the same railing type as used on the bridge and with the same limiting edge clearances and/or anchorage (unless a different type of anchorage has been provided)?\t\t\t\n",
    "\t?\tJoint Type: An expansion or contraction joint used in lieu of a stage \"construction\" joint to simplify construction by eliminated lap splicing or mechanical connector splicing of reinforcing steel, where appropriate?  (Abutment back walls, breast walls and certain pier walls, etc.)\t\t\t\n",
    "\t?\tDifferential Shear: Vertical construction joints provided with shear keys and generous transverse reinforcement to resist the potentially high shear forces induced by differential deformation of foundations (piles, soil, etc.)? Formed joint surfaces artificially roughened to improve shear resistance \tLRFD 5.8.4 ?\t\t\n",
    "\t?\tBattered Piles: Room adjacent to the existing structure to drive piles?  Batter piles?  New piles clear existing battered piles?  Sufficient room available for pile length and leads to position batter piles for driving?\t\t\t\n",
    "\t?\tScreed Elevations: The presence or absence of cross frames at stage construction joints on stringer deflection taken into account when establishing screed elevations at stage construction joints.\t\t\t\n",
    "\t?\tIntegral Construction: Closure sections provided in bridges for both the deck slab and integral end-diaphragms? \t306.2.2.5\t\t\n",
    "\t?\tElastomer Seals: Note provided requiring seals for each joint to be installed in one continuous piece?\t\t\t\n",
    "\t?\tDrain Pipes: Abut porous backfill drain pipes terminated and capped on both sides of temporary sheeting?\t\t\t\n",
    "\t?\tUtility conduits located clear of stage construction joints and temporary sheeting?\t\t\t\n",
    "\t?\tThe design for adhesive concrete anchors shall be in accordance with AASHTO LRFD Section 513. \t\t\t\n",
    "\t\t     SUPERSTRUCTURE\t\t\t\n",
    "\t\tA) SLAB \t\t\t\n",
    "\t?\tSealing of concrete surfaces shown and appropriate?  \t306.1.2\t\t\n",
    "\t?\tStainless steel drip strip provided on decks with over-the-side drainage?  \t309.2 and 309.7\t\t\n",
    "\t?\tVerify reinforcing steel accommodate HL-93 loading.\t\t\t\n",
    "\t?\tLap lengths to other bars.\t\t\t\n",
    "\t?\tCenterline of bearing stations\t\t\t\n",
    "\t?\tContinuous Deck Slab Placement Detail. \tODOT STD. DWG. PSID-1-13\t\t\n",
    "\t\tB) PRESTRESSED CONCRETE BOX BEAMS\t\t\t\n",
    "\t?\tFor multiple span bridges, has the superstructure been detailed as continuous as per Standard Drawing PSBD-2-07?  \t308.2.3.3\t\t\n",
    "\t?\tMultiple span bridges of less than 200-foot total length with flexible piers and abutments fixed at all substructure units?\t\t\t\n",
    "\t?\tStandard Drawings PSBD-2-07 has been reviewed and items required by it provided?  It is not intended that details and notes shown on the Standard Drawing be repeated unnecessarily.\t\t\t\n",
    "\t?\tAll beams anchored?  \t308.2.3.3f\t\t\n",
    "\t?\tMembrane waterproofing (Type 3) used on all non-composite box beam Bridge?  \t308.2.3.3d.\t\t\n",
    "\t?\tFor bridge with poured sealant joints, has waterproofing been extended 2 feet past the bridge limits? \tCMS 512.08H\t\t\n",
    "\t?\tTwo-inch spacing or multiple therefore provided between strands?   If space permits, place all strands in bottom row.\t302.5.1.2.b\t\t\n",
    "\t?\tLocation, length, and number of debonded strands shown?  \t308.2.3.4a\t\t\n",
    "\t?\tAdditional strand debonding and supplemental mild reinforcing steel provided at beam ends for skews over 30 degree? Limit box beam to 30 degree skew or less except rare occasions approved by Office of Structural Engineering.\t\t\t\n",
    "\t?\tStrands and rebars miss anchor, diaphragm, and bearing rod holes?  Are there any conflicts between strands, rebars, tie-rod holes, beam anchor rod holes, rail post anchors, joint armor, etc.? \tPSBD-2-07\t\t\n",
    "\t?\tPEJF specified as grout retainer at dowels and under beam connection at piers? \tStandard Drawing PSBD-2-07\t\t\n",
    "\t?\tTwo bearings provided for each box beam?  \t308.2.3.3\t\t\n",
    "\t?\tProper camber/wearing surface notes used?  \t702.7\t\t\n",
    "\t?\tWearing surface/composite topping thickness diagram shown?  \t308.2.3.4b\t\t\n",
    "\t?\tIf over the side drainage will occur, has a drip strip been specified?  Reference should be made to Standard Drawing DS-1-92.\t\t\t\n",
    "\t?\tSealing of concrete surfaces provided as directed in \t309.2.1.D\t\t\n",
    "\t?\tShear key mortar finishing detail shown?  (Not required for composite concrete decks) \tPSBD-2-07\t\t\n",
    "\t\t\t\t\t\n",
    "\t?\tSufficient dimensions furnished for the beam fabricator to locate the railing post anchors? Have location of inserts for stage construction temporary railing shown?  Has conflict between post anchors and tie rods and/or T-section been avoided? \t308.2.3.3\t\t\n",
    "\t?\tProper allowances for fit-up between beams accounted for and shown?  \t308.2.3.3\t\t\n",
    "\t?\tMaximum of three beams been tied together by one tie rod? \tPSBD-2-07\t\t\n",
    "\t?\tTransverse tie-rods provided at abutment ends and located per \t308.2.3.3g\t\t\n",
    "\t?\tFor non-composite design, is asphalt thickness 8 inches or less? \t308.2.3\t\t\n",
    "\t?\tFor multiple span bridges, has the same beam depth been specified for all spans? \t308.2.3\t\t\n",
    "\t?\tFor beams greater than 100 ft. long, for concrete release strength greater than 5 ksi, and for 28 days concrete strength greater than 7 ksi, provide a letter per  308.2.3  \t\t\t\n",
    "\t?\tStrand location and clearance consistent with PSBD-2-07\t\t\t\n",
    "\t?\tDiaphragms and tie rods located \t308.2.3.3g\t\t\n",
    "\t?\tFor composite box beams Six-inch minimum slab thickness specified? \t308.2.3.3.c\t\t\n",
    "\t?\tNo. 6 at 18 inches longitudinal and No. 6 at 9 inches transverse bars specified \t308.2.3.3.c\t\t\n",
    "\t?\tAdditional bars over piers specified to meet the requirements of \t308.2.3.3.c and LRFD 5.10.8.1.2c\t\t\n",
    "\t?\tEpoxy coated bars (Grade 60) specified in the composite slab?  \t304.4\t\t\n",
    "\t?\tBars projecting from beam into composite slab specified as epoxy coated? \t304.4\t\t\n",
    "\t?\tConstruction joint shown between the cast-in-place \"T\" section at piers and the composite slab?\t\t\t\n",
    "\t?\tThe effect that the longitudinal grade has on dimensions measured along a beam’s length should be addressed in the plans \t308.2.3.2\t\t\n",
    "\t?\tVerify that design use severe corrosive factor as per Section S.5.9.2.3.2b of  by changing the design parameter in Conspan. The limiting stress factor for tension (service III) should be .0948 instead of 0.19 \t\t\t\n",
    "\t\t\t\t\t\n",
    "\t\tC) PRESTRESSED CONCRETE I-BEAMS\t\t\t\n",
    "\t?\tAre the proposed beam shapes per  308.2.3.4?\t\t\t\n",
    "\t?\tLow-relaxation, 270 ksi, 0.6-inch strands used?  (Initial street = 0.75 f’s) \t304.5.1, 304.5.2\t\t\n",
    "\t?\tStraight strands, debonded at ends if necessary, used? Draped strands should be provided as per\t308.2.3.3.a 308.2.3.4.a.3 .\t\t\n",
    "\t?\tNo more than 25 % of the total strands debonded? \t302.5.2.2.h\t\t\n",
    "\t?\tNo more than 45 % of the strands in any row debonded \t302.5.2.2.d\t\t\n",
    "\t?\tNumber and spacing of debonded strands, and the length of debonding, shown? \t302.5.2.2.d\t\t\n",
    "\t?\tStrand location and spacing meet requirements of \t308.2.3.3.b\t\t\n",
    "\t?\tInitial prestressed loads shown in the plans \t304.5.2\t\t\n",
    "\t?\tJoint details appropriate?  Details from Standard Drawings EXJ-6-06.\t\t\t\n",
    "\t?\tGrade 60 mild reinforcing used? \t304.4\t\t\n",
    "\t?\tBars projecting from I-beam been epoxy coated?  \t304.4\t\t\n",
    "\t?\tDiaphragms placed at intervals not exceeding 40 feet \t308.2.3.4.d\t\t\n",
    "\t?\tIntermediate diaphragms do not make contact with the underside of the deck? \t308.2.3.4.d\t\t\n",
    "\t?\tEnd diaphragms make complete contact with the underside of the deck? \t308.2.3.4.d\t\t\n",
    "\t?\tThreaded inserts used to connect diaphragm rebars to beams?  Type and coating requirements for inserts shown?  \t308.2.3.4.d\t\t\n",
    "\t?\tNote provided restricting deck placement to a minimum of 48 hours after diaphragms are placed and cured? If the Standard Bridge Drawing for I-beams is not referenced by the contract plans \t308.2.3.4.d\t\t\n",
    "\t?\tBridge seat elevations been computed as directed in \t308.2.3.4.b\t\t\n",
    "\t?\tDiagram provided showing slab thickness at center of each span and at each centerline of bearings? \t308.2.3.4.b\t\t\n",
    "\t?\tBeam anchorage meets the requirements of \t308.2.3.4.c\t\t\n",
    "\t?\tFull-depth cast-in-place concrete deck specified/ precast deck panels should not be used. \t309\t\t\n",
    "\t?\tThreaded insert location shown on the beam elevation view for draped strands. \tPSID-1-13\t\t\n",
    "\t?\tThe longitudinal superstructure cross section in the plans detailing the total topping thickness, including the design slab thickness and the haunch thickness at the centerline of spans and bearings. \t308.2.3.4.b\t\t\n",
    "\t?\tCamber at the time of release, at the time of erection, long term camber and a screed elevation table shown \t308.2.3.4.b\t\t\n",
    "\t?\tVerify that design use severe corrosive factor as per Section S.5.9.2.3.2b of  by changing the design parameter in Conspan. The limiting stress factor for tension (service III) should be .0948 instead of 0.19 \t\t\t\n",
    "\t\t\t\t\t\n",
    "\t\tD) STEEL STRINGERS\t\t\t\n",
    "\t\t1) General\t\t\t\n",
    "\t?\tA709 Grade 50W steel shall be specified for un-coated weathering steel bridges, A709 Grade 50 specified for a coated steel bridge. \t30.4.1\t\t\n",
    "\t?\tA709 Grade 50W structural steel within 10 feet from end of stringer adjacent to deck joint painted and note provided \t308.2.2.1.d.1\t\t\n",
    "\t?\tProper painting system used?  Formerly called, System IZEU on new steel and System OZEU on existing steel? \t308.2.2.1.d.1\t\t\n",
    "\t?\tAll main load carrying members such as rolled beams, girder web/flanges, moment plates, splice plates, and horizontally curved stringer cross frames designated as CVN for Charpy V-notch testing and plan note provided? \t308.2.2.1.b and 702.2\t\t\n",
    "\t?\tClearance between the bottom mat and top of the bolt over splice plate.\t\t\t\n",
    "\t?\tSteel fabricator certification given in pay item description as Classification Levels 1 thru 6, SF or UF. \t308.2.2.1.b\t\t\n",
    "\t?\tCross frames and field splices for dog-leggeddeflected) stringers conform with ,  Additional horizontal cross frames angle provided near top flange of horizontally curved stringers?\t308.2.2.1.j 308.2.2.1.j.1 and 308.2.2.2.b, .\t\t\n",
    "\t?\tPlan note provided for High Strength Bolts?  \t702.3\t\t\n",
    "\t?\tLeg size specified for fillet welds 1/4 inch minimum for material < 3/4 inch thick and 5/16 inch minimum for thicker material)? \t308.2.2.2.c.1\t\t\n",
    "\t?\tComplete penetration groove welds designated as CP with weld configuration left unspecified?  Partial penetration groove welds not permitted on structural elements)\t308.2.2.2.c and ANSI/AASHTO / AWS D1.5 Bridge Welding Code\t\t\n",
    "\t?\tStud shear connectors preferably 7/8 inch diameter and uniformly spaced transversely not closer than 4 diameters center to center with at least 1 inch clearance from flange edges? (Typically, three studs transversely for flanges 12 inches and wider)\t404.1.6 & AASHTO LRFD 6.10.10\t\t\n",
    "\t?\tShear connector length penetrates at least 2 inches above bottom reinforcing steel of slab and provides at least 2 inches top cover? \t\t\t\n",
    "\t?\t7/8? diameter Shear stud are not recommended for vertical application due to the longer welding times required to weld larger diameter studs, more molten metal is produced in the process. With ore molten metal, welding to a vertical surface proves to be more difficult with a larger diameter stud. The use of standard ceramic ferrules resulted in poor weld flash formation on the “top side” of the weld fillet, and excessive metal loss out of the vents at the bottom of the ferrule. Use a 3/4? diameter shear stud recommend by the industry.\t\t\t\n",
    "\t?\tShear connector maximum spacing generally not greater than 24 inches? Usually, fatigue and strength criteria produce maximum spacing near piers, smallest spacing near abutments, and moderate spacing near mid spans) No conflict near field spices or deck joint anchorage? \tAASHTO LRFD 6.10.10\t\t\n",
    "\t?\tExtra shear connectors provided at contra flexure points and longitudinal slab reinforcement properly extended if shear connectors are omitted over piers?  \tAASHTO LRFD 6.10.10\t\t\n",
    "\t?\tField splices located near points of dead load contra flexure as appropriate to facilitate erection and to limit field section lengths to 90 feet maximum for rolled beams and 120 feet maximum for plate girders?  Additional optional field splices may be shown recognizing greater availability of short lengths) \t308.2.2.1.c and 308.2.2.1.j.3\t\t\n",
    "\t?\tPlate thicknesses specified in the following standard sizes \t308.2.2.3.c :\t\t\n",
    "\t\t7/8\" to 3” In 1/8” Increments\t\t\t\n",
    "\t\t\t\t\t\n",
    "\t\t3\" And above 1/4\"Increments\t\t\t\n",
    "\t?\tBuoyant superstructures typically integral or semi-integral designs) where inundation is possible details with appropriate countermeasures e.g., holes drilled in stringer webs for egress of confined air, support anchorage, etc.)?\t\t\t\n",
    "\t?\tStringer top flange compression and tension zones shown and Welded Attachment Note provided? \t702.11\t\t\n",
    "\t?\tCamber and deflection table provided for information given at center of spans, splices points, and at 25 foot maximum intervals? \t702.1, 309.3.3\t\t\n",
    "\t?\tCamber diagram provided and blocking dimension from bottom of stringer at each support to chord between end supports) shown? \t309.3.3\t\t\n",
    "\t?\tCamber adjustment provided for horizontally heat curved stringers and for straight stringers on curved bridges?\tAASHTO LRFD 6.7.7\t\t\n",
    "\t?\tSign direction) of camber adjustment for vertical curve correct?\t\t\t\n",
    "\t?\tEdge distances used for field splices as per LRFD table 6.13.2.6.6-1? \t308.2.2.1.j.1 & 308.2.2.1.j.2\t\t\n",
    "\t?\tFor galvanized structures, the bolt hole size requires a 1/16 inch increase. \t308.2.2.1.j.1\t\t\n",
    "\t?\tField splices located so as not to interfere with other details (i.e., intermediate stiffeners, cross frames, etc.)? \t308.2.2.2.b\t\t\n",
    "\t?\tFatigue prone details avoided if possible? \t308.2.2.1.g\t\t\n",
    "\t?\tCross frame connection stiffeners rigidly attached to stringer top and bottom flanges? \t308.2.2.2.a\t\t\n",
    "\t?\tLateral bracing provided only when required?  \tAASHTO LRFD 6.7.5\t\t\n",
    "\t?\tCurve girder with stage construction should be checked for deflection at each stage.\t\t\t\n",
    "\t\t2) Rolled Beams\t\t\t\n",
    "\t?\tWelded moment plates not used in areas of tensile stress? \t308.2.2.2.d\t\t\n",
    "\t?\tBearing stiffeners provided only when necessary?  \tAASHTO LRFD 6.10.11.2\t\t\n",
    "\t?\tGalvanized beams limited in length to 60 feet maximum and utilize bolted connections only?  \t308.2.2.1.d.2\t\t\n",
    "\t\t3) Plate Girders\t\t\t\n",
    "\t?\tTop flange width as per  308.2.2.3.c.1\t\t\t\n",
    "\t?\tFlange thickness at least 7/8 inch? \t308.2.2.3.c.1\t\t\n",
    "\t?\tWeb thickness and stiffener thickness at least 3/8 inch \t308.2.2.3.c.2\t\t\n",
    "\t?\tFlange butt welds subject only to compressive stresses identified as CS and complete joint penetration as CP. \t308.2.2.3.f.2\t\t\n",
    "\t?\tNon-redundant main steel members identified as FCM (Fracture Critical Member)? Proper pay item and plan note provided \tBMD 308.2.2.3.b\t\t\n",
    "\t?\tLongitudinal stiffeners not used? Transverse stiffeners preferably not used (except cross frame connection stiffeners) \t308.2.2.3\t\t\n",
    "\t?\tTransverse stiffeners (if used) placed on alternate sides of interior girders and inside face only of fascia girders , made same size throughout, and detailed?\t308.2.2.3.d\t\t\n",
    "\t?\tCross frame connection stiffeners fillet welded to web and both flanges \t308.2.2.3.d\t\t\n",
    "\t?\tBearing stiffeners made to extend as near as practicable to outer edges of flange plate and detailed as tight fit at top flange, mill to bear at bottom flange?  (Rigid attachment to both flanges may be appropriate if used also as a connection plate) \tAASHTO LRFD 6.10.11.2.1)/LRFD 6.10.11.2\t\t\n",
    "\t?\tIntermediate cross frame angel size and connections conform with STD DWG GSD-1- 19? For beam/Girder D < 6 feet.\t\t\t\n",
    "\t?\tConstant flange widths used whenever possible? Make changes in flange width at field splice to facilitate fabrication) Changes in flange plate section appropriate based on cost criteria given in \t308.2.2.3.c.1 Steel Bridge Design Handbook FHWA-IF-12-052-Vol. 6)? \t\t\n",
    "\t?\tClearance between the bottom mat and top of the bolt over splice plate \t309.3.4.2\t\t\n",
    "\t\tE) CONCRETE DECK ON CONCRETE I-BEAMS OR STEEL STRINGERS\t\t\t\n",
    "\t?\tVerify bottom concrete cover of bars in the overhang deck \tLRFD 5.10.1, 304.4.8\t\t\n",
    "\t?\tSealing of concrete surfaces shown and appropriate \t309.2.1\t\t\n",
    "\t?\tStainless steel drip strip provided on decks with over-the-side drainage? \t309.7 and 309.2\t\t\n",
    "\t?\tDeck slab depth over stringers shown to top of web for plate girders and to top of flange for rolled beams or prestressed concrete I-beams and plan note provided \t702.5 and 702.6 .\t\t\n",
    "\t?\t2-inch minimum concrete haunch depth used over stringers  (top of thickest flange section to bottom of slab) \t309.3.5\t\t\n",
    "\t?\tFor steel beam or girder bridges with skew less than 15 degrees the transverse bars parallel to abutment and for skew more than 15 degrees or interference with shear stud, transverse bars place perpendicular to the centerline of bridge. \t309.3.4.2\t\t\n",
    "\t?\tFor prestressed I-beam or composite box beam bridge deck, transverse bars perpendicular to the centerline of bridge. \t309.3.4.2\t\t\n",
    "\t?\tSlab thickness and reinforcement conform to \tFigure 309-3, 309-4 or 309-5\t\t\n",
    "\t?\tTop and bottom main transverse) bars at same spacing and placed to coincide in a vertical plane? \t309.3.4.2\t\t\n",
    "\t?\tTransverse bars placed parallel to abutments for bridges with skews less than 15 degrees? \t309.3.4.2\t\t\n",
    "\t?\tLength of transverse bars without lap splices 5 inches shorter than deck (edge to edge distance) to ensure adequate cover at ends of bar, allowing for shop cutting tolerances?\t\t\t\n",
    "\t?\t(transverse) bars \t309.3.4.1\t\t\n",
    "\t?\tSecondary (longitudinal) bars placed above main \t309.3.4.1\t\t\n",
    "\t?\tAdditional top longitudinal bars with ends staggered 3'-0\" provided over piers on continuous structures?  Total longitudinal reinforcement meets the requirements of AASHTO LRFD 6.10.1.7 for steel stringers or for prestressed concrete I-beam? Generally, No. 6 bars midspaced between top full length longitudinal bars will be adequate and will provide enough clearance between bars to facilitate concrete placement and vibration).\t308.2.3.3.c\t\t\n",
    "\t?\tScreed elevations given along curb lines/edges of deck, roadway crown, transverse grade- break lines and phase construction lines at all bearings, quarter-span, mid-span, and splice points, plus any points required for a maximum 25 foot spacing. \t309.3.3.1\t\t\n",
    "\t?\tSlab pour sequence generally specified only when uplift during construction or differential deflections at intermediate expansion joints are of concern. \t2.2.3.g, 403.5.4\t\t\n",
    "\t?\tCheck three independent sources of girder twist resulting from deck placement: global superstructure distortion, oil-canning and girder warping. \t309.3.8.2\t\t\n",
    "\t?\tNeglect girder twist due to global deformation if the tributary deck load carried by the fascia girder is less than 110 % of the average of the tributary deck load carried by the interior members for new structure and 115 % for existing structure. \t309.3.8.2.a\t\t\n",
    "\t?\tFor web depth greater than 84 inches note for location of lower contact point of the overhang false work included. \t611.4.1\t\t\n",
    "\t?\tScreed, top of haunch and finished deck surface shown and note included? \t309.3.3.1, 309.3.3.2, 309.3.3.3, 702.12.1, 702.12.2, 702.12.3\t\t\n",
    "\t?\tThe final deck surface elevation locations should be identified in a plan view. \t309.3.3.3\t\t\n",
    "\t?\tThe screed elevation locations should be identified on the transverse section. \t702.12.1\t\t\n",
    "\t?\tThe top of haunch elevation locations should be identified on the transverse section. \t702.12.2\t\t\n",
    "\t?\tDeck placement design assumptions note is included. \t611.4.2\t\t\n",
    "\t\tF) RAILING/FENCE\t\t\t\n",
    "\t\t1) Deep Beam Railing\t\t\t\n",
    "\t?\tDeep beam guardrail must be used in accordance with \t309.4.3.4\t\t\n",
    "\t\t2) Twin Steel Tube Rail\t\t\t\n",
    "\t?\tReference to Standard Drawing. TST-1-99 Given.\t\t\t\n",
    "\t?\tPay limits for bridge railing measured center-to-center of the second posts on the approaches?\t\t\t\n",
    "\t?\tRail post spacing of 6'-3\" c/c of post maintained except one post spacing per span can be decreased to allow for construction clearances.\t\t\t\n",
    "\t?\tSuitable clearances between posts and back walls and between post anchors and expansion joint armor anchors provided?\t\t\t\n",
    "\t?\tWing-wall mounted post used to provide suitable post and anchor bar clearances?\t\t\t\n",
    "\t?\tFor box beam bridges with steel railing, the post spacing and position of post anchorage shall be detailed on the plans.\t\t\t\n",
    "\t?\tEnlarged details provided to describe post anchorage to composite box beams?\t\t\t\n",
    "\t\t3) Sidewalk Railing with Concrete Parapet (BR-2-15 Type Railing)  309.4.3.3\t\t\t\n",
    "\t?\tRailing posts spaced to clear parapet deflection joints as per STD- BR-2-15.\t\t\t\n",
    "\t?\tRadius of curved railing not less than 20 feet without special details. This is noted in STD-BR-2-15 Sheet 5 of 5 Under Horizontal Curvatures Title.\t\t\t\n",
    "\t?\tAll horizontal reinforcing steel should be detailed as per STD-BR-2-15\t\t\t\n",
    "\t?\tSteel tubing has provision for Expansion and Contraction as shown on STD-BR-2-15 Sheet 1 of 5 View D-D.\t\t\t\n",
    "\t\t4) Parapet Type Railing\t\t\t\n",
    "\t?\tParapet when to use per  309.4.3\t\t\t\n",
    "\t?\tComplete details of the Parapet Type bridge railing shown on the plans?\t\t\t\n",
    "\t?\tRailing transition preferably mounted on turn back abutment wingwalls or approach slabs?\t\t\t\n",
    "\t?\tFor bridges with expansion joints and with parapets mounted on approach slabs, the 1'-1\" high base portion of the parapets within the width of back walls are reinforced and placed as part of the abutments to provide an integral structure for mounting the expansion joint armor?\t\t\t\n",
    "\t?\tSuch parapets provided with special reinforcement and joint details to allow consolidation induced rotation of the approach slabs without parapet distress?\t\t\t\n",
    "\t?\tCurb heights on approach slabs limited to 4 inches as shown in Section F-F on Deflector Parapet Type drawing?\t\t\t\n",
    "\t?\tDetails of filler between approach slab and turn back wing-wall at the base of the parapet made to conform to DETAIL F of Standard Drawing AS-1-15. \t\t\t\n",
    "\t?\tParapet length of 14'-0\" or more provided to allow the standard transition length to be used?\t\t\t\n",
    "\t?\tReference made to the roadway plans for details and payment provisions for Bridge Terminal Assembly \tDrawings MGS-3.1 and MGS-3.2 ?\t\t\n",
    "\t\t5) Parapet and Fence Type Railing\t\t\t\n",
    "\t?\t2'-8\" high parapets provided?\t\t\t\n",
    "\t?\tNew guideline for fencing?  Fence used on all structure over live traffic except over County and Township roads. \t\t\t\n",
    "\t?\t Fence details conform to Standard Drawings VPF-1-90?\t\t\t\n",
    "\t\tG) BEARINGS\t\t\t\n",
    "\t\t1. Elastomeric Bearings\t\t\t\n",
    "\t?\tSteel load plate provided for attachment to steel members? \t306.4.2\t\t\n",
    "\t?\tElastomer hardness specified? \t306.4.2\t\t\n",
    "\t?\tAn elastomeric pad thickness of 1 inch or more provided (Such pads generally must be reinforced with steel laminates)? \t306.4.2\t\t\n",
    "\t?\tA tabulation of unfactored dead load, live load excluding impact) and \"Maximum Design Load\" given?\t\t\t\n",
    "\t?\tFor prestressed box beam bridges without external steel load plates, bearing shall conform to Standard Drawing BD-1-11?  \t\t\t\n",
    "\t?\tElastomeric bearing with a load plate shall have the plate beveled if the rotation and/or grade exceed the limitations of AASHTO LRFD 14.7.5.3.3 Method B 14.7.6.3.5 Method A? \t\t\t\n",
    "\t?\tprovided with bearing details.\tNote no. 702.13\t\t\n",
    "\t?\tTop and bottom cover layers should not be thicker than 70 % of internal layers \tAASHTO LRFD 14.7.6.1\t\t\n",
    "\t?\tNo top cover layer for bearing with load plate.  \tAASHTO LRFD 14.7.6.1\t\t\n",
    "\t?\tFollowing note included:\t\t\t\n",
    "\t\t“All bearings shall be marked prior to shipping. The marks shall include the bearing location on the bridge, and a direction arrow that points up-station. All marks shall be permanent and be visible after the bearing is installed”.\t\t\t\n",
    "\t?\tA plate bigger than bottom flange on top of HP section so that it can be welded from the top.\t\t\t\n",
    "\t\t\t\t\t\n",
    "\t\t2. Anchor Bars\t\t\t\n",
    "\t?\tFurnishing and placing anchor bars and ¾” galvanized threaded rod included with Bearing box beams or I-beams) for payment?\tStandard Drawing BD-1-11, PSBD-2-07. Not required for PSBD-2-07\t\t\n",
    "\t?\tFor steel bearings , furnishing and placing anchor bars included with bearings for payment?\tRB-1-55 and FB-1-82\t\t\n",
    "\t\t3.   Anchor Bolt Layout\t\t\t\n",
    "\t?\tOutline of masonry plate?\t\t\t\n",
    "\t?\tAnchor bolt size and embedment length.\t\t\t\n",
    "\t?\tBearing Anchor Plan to adequately show the location of the bearing anchors with respect to the main reinforcing bars and the edges of the bridge seats shall be provided. \t306.2.1.2\t\t\n",
    "\t\t3. Miscellaneous\t\t\t\n",
    "\t?\tMovement Provisions:  Bearing movement provisions (Fixed, expansion restrained) indicated on the Site Plan and General Plan? \t201.1.2.2KI\t\t\n",
    "\t?\tBearing designation (i.e., R-200) for each substructure unit indicated on the framing plan, beam elevation, or deck plan?\t\t\t\n",
    "\t?\tBearing details or reference to standard drawings given? Separate pay item provided for other than standard steel bearings (steel bearings for steel bridge are usually included with structural steel for payment)?\t\t\t\n",
    "\t?\tBearing types provided consistent with superstructure movement (longitudinal, lateral, and rotational)?\t\t\t\n",
    "\t?\tBearings/Joints: For bridges with sidewalk, bearing types compatible with deck joint characteristics? \t\t\t\n",
    "\t?\tBridge Seats: Bridge seats large enough for the size bearing used taken into account the need for edge clearances and construction tolerances (wider seats are usually provided for some bridges which are skewed greater than 30 degrees)?\t\t\t\n",
    "\t?\tGrade Considerations: Tapered sole plates provided for rocker and bolster bearings for grades of 2 percent or greater?\t\t\t\n",
    "\t?\tCoatings: Are notes provided to specify the type of coating required, if other than bare ASTM steel or Elastomeric bearings?\t\t\t\n",
    "\t?\tBridge seats adequate for earthquake provision? \t306.2.1.1\t\t\n",
    "\t?\tAre seismic restraints required? \t1003 - S3.10.9.2, 303.1.4.1.a\t\t\n",
    "\t\t\t\t\t\n",
    "\t\tH) DECK JOINTS\t\t\t\n",
    "\t\t1. Terminal Details\t\t\t\n",
    "\t?\tTo confine deck drainage, recessed joint seals, joints terminated as shown in Sections A-A and F-F of Standard Drawings EXJ-2-81 and EXJ-3-82; and Sections B-B and F-F Of Standard Drawing EXJ-4-87 and EXJ-5-93.\t\t\t\n",
    "\t?\tFor new bridges with over the side drainage and wall-type abutments, abutment wing- walls or retaining walls positioned flush with the back wall to allow extension of sealed deck joints beyond the bridge seats?\t\t\t\n",
    "\t\t2. Joint/Bearing Coordination\t\t\t\n",
    "\t?\tFor bridges with elastomeric bearings and sliding plate type joints, bridging plates positioned cantilevered from the abutment side of the joint) to prevent the plate from binding due to the compressive deflection of the bearings?\t\t\t\n",
    "\t?\tFor sliding plate type joints on grades, a bevel fill attached to the underside of the cantilever plate to provide a level sliding surface to parallel the direction of bearing movement?\t\t\t\n",
    "\t?\tSliding plate type joints avoided on all structures? \t\t\t\n",
    "\t\t3. Miscellaneous\t\t\t\n",
    "\t?\tBox Beams: The use of joints generally follows the guidelines given in \t309.6.3\t\t\n",
    "\t?\tRecessed Seals: Joint seals recessed below the roadway surface (i.e. strip and compression), with channel deck drainage laterally, detailed to prevent discharge of deck drainage on bridge seats?\t\t\t\n",
    "\t?\tAdjustment: A joint width adjustment table, in 10 degree increments for 30 degrees to 90 degrees, given for setting joint widths other than the 60 degree installation temperature?  The effect of joint skew taken into account when computing joint adjustment dimensions?\t\t\t\n",
    "\t?\tSawing and Sealing Bituminous Joints detail sheet provided for box beam bridges with poured seal type joints at abutments?\t\t\t\n",
    "\t?\tPrestressed concrete I-beam bridges follow the guidelines given in section \t309.6.3\t\t\n",
    "\t\tI) DECK DRAINAGE\t\t\t\n",
    "\t\t1) Scuppers\t\t\t\n",
    "\t?\tIs/was the use of scuppers avoided? Scuppers avoided over embankment slopes? Scuppers spaced to clear cross. frames, places at least 6 feet from the face of piers and abutments; extended at least 8 inches below beams and girders; located inside of fascia beams of grade separation structures and other highly visible structures; not been placed through box beams unless such placement cannot be avoided?\t309.7 and “Bridge Deck Drainage Guidelines,\" FHWA HEC 21 & 22 ?\t\t\n",
    "\t\t2) Approaches\t\t\t\n",
    "\t?\tUse made of parapet transitions and curbs on approach slabs to channel deck drainage away from structures towards approach inlets or embankment side slope flumes \tStandard Construction Drawing DM-4.1\t\t\n",
    "\t\t3) Drainage Collection System\t\t\t\n",
    "\t?\tThese avoided?  Where their use cannot be avoided, steepest possible slopes provided? Large sizes used to help avoid blockage? Convenient clean out provided?  Type of field splices specified?  Supports adequate to provide a rigid system?\t\t\t\n",
    "\t\t4) Elastomeric Troughs\t\t\t\n",
    "\t?\tReinforced elastomer required by performance specification? Joint made by vulcanization under heat and pressure?  Steep slopes 2 inches per foot or more) used to increase drainage velocity?  Large discharge openings (12 inch diameter minimum)?  Fasteners for scuppers located outside of the trough for convenient access? Galvanized hardware used?  Interior steel surfaces metalized and asphalt coated? \t\t\t\n",
    "\t\t5) Erosion Protection\t\t\t\n",
    "\t?\tGround surfaces below scuppers protected by crushed aggregate or concrete slope protection? Crushed aggregate or concrete slope protection extended (3'- 0\" minimum) beyond edges of open decks? At acute corners of bridges, slope protection extends normal to toe of slope?\t\t\t\n",
    "\t\tJ) UTILITIES ( 301.7)\t\t\t\n",
    "\t?\tDocumentation on file approved placement of utility on bridge?\t\t\t\n",
    "\t?\tConcrete embedded utility conduits shown to clear construction joints by 1 inch minimum and other conduits by 2 inches minimum?\t\t\t\n",
    "\t?\tUtilities not supported on fascia or below bottom of superstructure?  On grade separation structures, no utilities in bay adjacent to fascia stringer?\t\t\t\n",
    "\t?\tGas and water lines not embedded in concrete?  Not embedded in section of deck supporting vehicular traffic?\t\t\t\n",
    "\t?\tExpansion provisions for utilities shown if appropriate?  (Sometimes shown only on utility sheets)\t\t\t\n",
    "\t?\tPayment for utility supports clearly described by plan note and estimated quantities? (e.g., quantity table footnote stating portion of Item 513 Structural Steel to be paid for by the utility company)\t\t\t\n",
    "\t\tK) STRUCTURE GROUNDING \t\t\t\n",
    "\t?\tVerify the structure is properly grounded as per Standard Drawing HL-50.21. \t\t\t\n",
    "\t\tL) APPROACH SLAB\t\t\t\n",
    "\t?\tRemoval of existing approach slab included in the estimated quantities \t310.2\t\t\n",
    "\t?\tRemoval of existing Wearing Surface included in the estimated quantities as per CMS 202\t\t\t\n",
    "\t?\tNon-standard approach slab shown “Modified” in the structure block.\t\t\t\n",
    "\t?\tCurrent Standard Drawing reference in proposed structure data block and in the General Notes.\t\t\t\n",
    "\t?\tBars D801 or D802 included in the reinforcing steel list?\t\t\t\n",
    "\t?\tPay-Item 526 for Type _ Installation included?\t\t\t\n",
    "\t?\tPay-Item for Polymer Modified Asphalt Expansion Joint System or Item 516 – Armorless Preformed Joint Seal included?\t\t\t\n",
    "\t\t     SUBSTRUCTURE\t\t\t\n",
    "\t\tA. PIERS\t\t\t\n",
    "\t\t1. General\t\t\t\n",
    "\t?\tFor freestanding piers, is the footing width at least one-fourth the height where founded on soil, one-fifth the height where founded on rock, and one-fifth the height between centers of outside piles? \t306.3.1\t\t\n",
    "\t?\tFor cap and column piers on piles or bedrock, columns should generally have separate footings. \t306.3.3.1.a\t\t\n",
    "\t?\tPier cap terminate inside the fascia and drip groove? (For box beam bridges, pier width should allow for 1/4 inch per joint fit-up between box beams)\t308.2.3.3\t\t\n",
    "\t?\tBearing Anchor Plan shown? Are anchor bolt dimensions normal and parallel to the centerline of bearing?\t\t\t\n",
    "\t?\tCap and column piers preferably designed with a cantilevered cap? \t306.3.1 ?\t\t\n",
    "\t?\tFor slab bridges, is a construction joint placed at the top of the pier cap? \t306.3.3.2\t\t\n",
    "\t?\tPiers in navigable waterways designed to resist collision forces based on AASHTO LRFD bridge design Specification. \t306.3.7\t\t\n",
    "\t?\tEnds of pier caps (all surfaces) under the edge of decks with over-the-side drainage sealed? \t306.1.2\t\t\n",
    "\t?\tAppropriate surfaces of roadway shoulder piers sealed? \t306.1.2\t\t\n",
    "\t?\tFor phased construction, is each phase supported by a minimum of three piles or two drilled shafts? \t306.3.1\t\t\n",
    "\t\t2. Pile Foundations\t\t\t\n",
    "\t?\tDesign strives to utilize maximum allowable pile spaces and maximum allowable design loads to minimize the number of piles \t305.3.5.1\t\t\n",
    "\t?\tAt least four piles per footing? \t305.3.5.1 & 306.3.3.1.a\t\t\n",
    "\t?\tBattered piles required \t305.3.5.8\t\t\n",
    "\t?\tPile spacing a minimum of 2'-6\" or 2.5 times the pile width/diameter?  \tAASHTO LRFD 10.7.1.2\t\t\n",
    "\t?\tDistance from center of piles to edge of footing at least 1'-6\"? \t305.3.5.1\t\t\n",
    "\t?\tCan piles be driven without interfering with sheeting, cofferdams, or other bridge or adjacent building components?\t\t\t\n",
    "\t?\tStation of intersection of the centerline of bearings and station line.\t\t\t\n",
    "\t?\tTie the pile spacing to the intersection of the centerline of bearings and station line.\t\t\t\n",
    "\t?\tNumber all piles \t305.4.4\t\t\n",
    "\t\t3. Capped-Pile Piers\t\t\t\n",
    "\t?\tPile spacing less than or equal to 7.5 feet? \t305.3.5.1\t\t\n",
    "\t?\tHeight above flow line generally limited to 20 feet, or piles specially designed? \t306.3.3\t\t\n",
    "\t?\tDistance from edge of pile to face of pier cap is at least 9 inches? \t305.3.5.1\t\t\n",
    "\t?\tPile encasements specified and paid for H-piles)? \t606.5-1\t\t\n",
    "\t?\tMinimum of 1'-6\" cover provided above the piles? \t305.3.5.1\t\t\n",
    "\t\t4. Cap and Column Piers\t\t\t\n",
    "\t?\tDiameter of the pier column specified to be 3'-0\" and the drilled shaft diameter a minimum of 3'-6\"?  \t305.4.4.2\t\t\n",
    "\t?\tLocation of the construction joint at the pier column/drilled shaft interface appropriate?  (Usually 1 foot above OHWM elevation, for piers in water, and 1 foot below the ground line elsewhere.)\t305.4.4\t\t\n",
    "\t?\tA construction joint between the top of drilled shaft and the bottom of the column shown and splice cage provided? \tFIG. 303.5.4\t\t\n",
    "\t?\tReinforcing details at the column/drilled shaft construction joint appropriate?  Typically, the reinforcing cage diameter is a common size between the column, drilled shaft, and bedrock socket.\t\t\t\n",
    "\t?\tBedrock socket depth shown on the plans?  (Bottom of socket elevation should generally not be given) \t305.4.2\t\t\n",
    "\t?\tReinforcing Steel in the drilled shafts? \tBDM305.4.4.3\t\t\n",
    "\t?\tSpacing of the drilled shafts appropriate?  Typically, spacings from 12 to 18 feet are used.\t\t\t\n",
    "\t?\tDrilled shafts should be spaced to utilize the maximum bedrock end bearing pressures and a minimum number of drilled shafts.\t\t\t\n",
    "\t\tB. ABUTMENTS\t\t\t\n",
    "\t\t1. General\t\t\t\n",
    "\t?\tAbutments easily located?  Station and overall dimensions?\t\t\t\n",
    "\t?\tDimensions referenced from the proper working points?  Beam/girder bridges (steel or concrete) intersection of centerline of survey and centerline of bearings.  Concrete slab bridges centerline of survey is assumed 12 inches behind the face of the abutment. \t201.2.1.1\t\t\n",
    "\t?\tTypes of Abutments \t306.2 & 306.2.2 .\t\t\n",
    "\t?\tWing-wall lengths checked?\t\t\t\n",
    "\t?\tIf ground lines are shown, are they appropriate?\t\t\t\n",
    "\t?\tEarth benches not been used for new designs? Depth of approach slab seat Shown?\t306.2.1.4 for CPA-1-08 abutments\t\t\n",
    "\t?\tBridge seat sloped to drain toward the face of abutment for beam or girder bridges on spill-through abutments except at bearings)? ( For grade separations on wall-type abutments, are the bridge seats sloped to drain toward the back wall, with a depressed gutter and drainage system provided?\t306.2.3.2\t\t\n",
    "\t?\tFor box beam bridges, are provisions necessary to ensure proper fit of the elastomeric bearings i.e., sloped bridge seats or tapered bearings)? \tDB-1-11\t\t\n",
    "\t?\tFor box beam bridges, is the bridge seat length adequate to support all bearings, accounting for 1/2-inch fit-up per beam joint?  Beam seat should not protrude from beneath deck edge when a fit-up allowance of 1/4 inch per foot is used for pier.\t308.2.3.3\t\t\n",
    "\t?\tFor box beam bridges, has the proper wearing surface thickness at the abutments being used to compute bridge seat elevations? \t309.1.\t\t\n",
    "\t?\tDowel holes drilled parallel to a free edge clear concrete surface by at least 4 inches?\t\t\t\n",
    "\t?\tBearing anchor plan shown?  Anchor bolt location dimensions normal and parallel to centerline of bearing? \t306.2.1.2 & 701.2\t\t\n",
    "\t?\tJoint filler shown between concrete box beams and wing-wall concrete? \t308.2.3.3\t\t\n",
    "\t?\tConstruction joint shown at the level of the approach slab seat for steel superstructures?\t\t\t\n",
    "\t?\tConstruction joint provided in wing-walls of box beam bridges at bridge seat elevation? \t308.2.3.3\t\t\n",
    "\t?\tPlan note restricting placement of wing-wall concrete included for box beam bridges?\t\t\t\n",
    "\t?\tAppropriate surfaces sealed using an appropriate sealer? \t306.1.2 & 309.2.1\t\t\n",
    "\t?\tType 2 waterproofing used at construction joints?  Typically used above ground at stage construction joints, or joints between existing and proposed concrete) \t306.2.1.3\t\t\n",
    "\t?\tExpansion & Contraction joints provided as appropriate? \t306.2.5 .\t\t\n",
    "\t?\tWeep-holes located 6 inches to 1 foot above ground level or normal waterline? \t306.2.3.3\t\t\n",
    "\t?\tPorous backfill shown 6 inches below weep holes \t306.2.3.3 .\t\t\n",
    "\t?\tGeotextile fabric specified between the porous backfill and the approach fill? has it been turned up 6 inches at the wall?\t306.2.3.1\t\t\n",
    "\t?\tLateral limits of porous backfill 2'-0\" thick) clearly indicated in the elevation view as described by\t306.2.3.1\t\t\n",
    "\t?\tEnd caps shown on drain pipes, except at outlets? \t306.2.3.1\t\t\n",
    "\t?\tFor wall-type abutments where strut action of the superstructure is relied upon for stability, has a plan note been provided limiting height of backfill until superstructure is placed?\t\t\t\n",
    "\t?\tPipe drainage system used? \t306.2.3.1\t\t\n",
    "\t?\tFor rehabilitation, does the connection between the new and existing concrete appear adequate?  Existing reinforcing that is incorporated into the new work should generally be shown in the proposed cross-section.\t\t\t\n",
    "\t?\tAesthetic for wall-type abutments \t306.2.2.1\t\t\n",
    "\t?\tFor phase construction, is each phase supported by a minimum of three piles or two drilled shafts? \t306.2.2.3, 306.2.2.4 & 306.2.2.5\t\t\n",
    "\t?\tTop strap of the MSE wall should be 6” below the footing. See figure 201-2 & 201-3 of the BDM.\t\t\t\n",
    "\t?\tWhat type of protection is used to prevent the weed growth in the area between the footing and MSE wall?\t\t\t\n",
    "\t\t\t\t\t\n",
    "\t?\tFor high skew semi-integral bridges keep the beam seat level and use variable height of the HP section. Not possible to bend # 8 bars.\t\t\t\n",
    "\t\t\t\t\t\n",
    "\t\t\t\t\t\n",
    "\t\t2. Pile Foundations\t\t\t\n",
    "\t?\tFlanges of piles parallel to face of rigid abutments; webs parallel to face of flexible abutment \tincluding CPA-1-08/ICD-1-82 abutments and CPP-1-08 piers ?\t\t\n",
    "\t?\tBattered piles required? (Rate of batter shown?  1:4 desirable, 1:3 acceptable)\t305.3.5.8\t\t\n",
    "\t?\tPile embedment into footing shown as 1'-6\" cover shown above piles or as per  305.3.5\t\t\t\n",
    "\t?\tPile design load \t305.3.3 & 305.3.4\t\t\n",
    "\t?\tDistance from center of piles to edge of footing at least 1'-6\"? not the Ultimate Bearing Value UBV pile load) shown in the General Notes?  UBV as per \t305.3.5.1\t\t\n",
    "\t?\tFor abutments on a single row of piles, have closed ties been provided around the piles? \tFor example, see Standard Drawing ICD-1-82\t\t\n",
    "\t?\tDesign utilize maximum allowable pile spacing and maximum allowable design loads to minimize the number of piles  305.3.5,  305.3.3 & 305.3.4\t\t\t\n",
    "\t?\tFor abutments on a single row of piles, has the footing been extended to the ends of the wingwalls and straight wing-walls used?\t\t\t\n",
    "\t\tC. DRILLED SHAFT\t\t\t\n",
    "\t?\tDrills shaft diameter a minimum of 3'-0\"? \t305.4\t\t\n",
    "\t?\tBedrock socket depth shown on the plans? (Bottom of socket elevation should generally not be given)\t\t\t\n",
    "\t?\tSpacing of the drilled shafts appropriate? Typically, spacing for 12 to 18 feet are used. Drilled shafts should attempt to be spaced to utilize the maximum bedrock end bearing pressures and a minimum number of drilled shafts.\t\t\t\n",
    "\t?\tSplice cage specified? \t303.4.4.3 & Fig. 305-4\t\t\n",
    "\t ?\tUse of friction Drilled shaft requires previous approval of OGE? \t305.4.3\t\t\n",
    "\t\t\t\t\t\n",
    "\t\t\t\t\t\n",
    "\t\tI acknowledge that the Stage 2 Design Plans have been reviewed in accordance with this checklist and that all responses are correct and accurately reflect the information presented on the submitted Design Plans.\t\t\t\n",
    "\t\t\t\t\t\n",
    "\t\t\t\t\t\n",
    "\t\tSignature\t\t\t\n",
    "\t\tDate\t\t\t\n",
    "\t\tPage 2 of 18\t\t\t\n"
   ]
  },
  {
   "cell_type": "code",
   "execution_count": null,
   "id": "84a583b3-bff4-4e72-af6b-091e7cd17012",
   "metadata": {},
   "outputs": [],
   "source": []
  }
 ],
 "metadata": {
  "kernelspec": {
   "display_name": "Python 3 (ipykernel)",
   "language": "python",
   "name": "python3"
  },
  "language_info": {
   "codemirror_mode": {
    "name": "ipython",
    "version": 3
   },
   "file_extension": ".py",
   "mimetype": "text/x-python",
   "name": "python",
   "nbconvert_exporter": "python",
   "pygments_lexer": "ipython3",
   "version": "3.13.3"
  }
 },
 "nbformat": 4,
 "nbformat_minor": 5
}
