{
 "cells": [
  {
   "cell_type": "markdown",
   "id": "9f9719ee-b4cd-4af8-bcb3-32b1db4fd182",
   "metadata": {},
   "source": [
    "# Stage 2 Design Checklist - With Code\n",
    "\n",
    "This is the full version of the ODOT OSE Stage 2 Design checklist. The  \n",
    "purpose of this document is to provide documentation on how the main stage  \n",
    "2 design checklist file is working. Updates should ideally be made to both  \n",
    "files simultaneously and this file should be kept up to date with the  \n",
    "production version.\n",
    "\n",
    "The code will (for now) be housed within the [civilpy](https://github.com/drparks71/civilpy/blob/master/Notebooks/Stage%202%20Design%20Checklist.ipynb) library. This  \n",
    "minimizes the amount of code that must be interacted with by the end user."
   ]
  },
  {
   "cell_type": "markdown",
   "id": "fbd86702-bc30-4bba-a7aa-8bc356251164",
   "metadata": {},
   "source": [
    "## User Input Forms\n",
    "Basic Outline of the how the various input options are generated,"
   ]
  },
  {
   "cell_type": "code",
   "execution_count": 1,
   "id": "1ae791c8-6eae-47cf-b86c-ad654e005216",
   "metadata": {},
   "outputs": [
    {
     "data": {
      "application/vnd.jupyter.widget-view+json": {
       "model_id": "58bc8698c9174d169416c446e95aff0e",
       "version_major": 2,
       "version_minor": 0
      },
      "text/plain": [
       "Checkbox(value=False, description='Check me!')"
      ]
     },
     "metadata": {},
     "output_type": "display_data"
    }
   ],
   "source": [
    "import ipywidgets as widgets\n",
    "from IPython.display import display\n",
    "\n",
    "# Create a checkbox widget\n",
    "checkbox = widgets.Checkbox(\n",
    "    value=False,                      # Initial value (unchecked)\n",
    "    description='Check me!',          # Label next to the checkbox\n",
    "    disabled=False                    # If True, checkbox is disabled\n",
    ")\n",
    "\n",
    "# Display the widget in the notebook\n",
    "display(checkbox)"
   ]
  },
  {
   "cell_type": "code",
   "execution_count": 2,
   "id": "0b2fb0c7-e183-4d2a-91a8-e7397dbacc0c",
   "metadata": {},
   "outputs": [
    {
     "data": {
      "application/vnd.jupyter.widget-view+json": {
       "model_id": "81b538a006da4f97a7b6162541b3c8ab",
       "version_major": 2,
       "version_minor": 0
      },
      "text/plain": [
       "Dropdown(description='Choose:', options=('Option 1', 'Option 2', 'Option 3'), value='Option 1')"
      ]
     },
     "metadata": {},
     "output_type": "display_data"
    }
   ],
   "source": [
    "# Create a dropdown widget\n",
    "dropdown = widgets.Dropdown(\n",
    "    options=['Option 1', 'Option 2', 'Option 3'],  # List of options\n",
    "    value='Option 1',                              # Default selected value\n",
    "    description='Choose:',                         # Label for the dropdown\n",
    "    disabled=False                                 # Enable/Disable dropdown\n",
    ")\n",
    "\n",
    "# Display the dropdown widget\n",
    "display(dropdown)"
   ]
  },
  {
   "cell_type": "code",
   "execution_count": 3,
   "id": "eb6fb0da-f930-4226-b9ee-20ec783b3732",
   "metadata": {},
   "outputs": [
    {
     "data": {
      "application/vnd.jupyter.widget-view+json": {
       "model_id": "cb2241fb44434e2d96f318fdc7aa46b5",
       "version_major": 2,
       "version_minor": 0
      },
      "text/plain": [
       "DatePicker(value=None, description='Pick a Date:', step=1)"
      ]
     },
     "metadata": {},
     "output_type": "display_data"
    }
   ],
   "source": [
    "# Create a DatePicker widget\n",
    "date_picker = widgets.DatePicker(\n",
    "    description='Pick a Date:',  # Label for the widget\n",
    "    disabled=False               # Enable the widget\n",
    ")\n",
    "\n",
    "# Display the date picker\n",
    "display(date_picker)\n"
   ]
  },
  {
   "cell_type": "code",
   "execution_count": 4,
   "id": "017182be-e1a0-4e7f-987b-8071fc793c16",
   "metadata": {},
   "outputs": [
    {
     "data": {
      "application/vnd.jupyter.widget-view+json": {
       "model_id": "d36c8f2b605a42d09df424b76ad39c54",
       "version_major": 2,
       "version_minor": 0
      },
      "text/plain": [
       "Text(value='', description='Name:', placeholder='Enter your name', tooltip='Provide your full name here')"
      ]
     },
     "metadata": {},
     "output_type": "display_data"
    }
   ],
   "source": [
    "# Create a text input widget\n",
    "text_input = widgets.Text(\n",
    "    description='Name:',         # Label for the input box\n",
    "    placeholder='Enter your name',  # Placeholder text\n",
    "    tooltip='Provide your full name here'  # Acts like a \"hover\" help text\n",
    ")\n",
    "\n",
    "# Display the widget\n",
    "display(text_input)"
   ]
  },
  {
   "cell_type": "markdown",
   "id": "0333f406-1982-4a40-86b8-a7abbaa4af08",
   "metadata": {},
   "source": [
    "# Getting Project Information From User\n",
    "\n",
    "Stored as \"gen_info\" in consolidated Data Model"
   ]
  },
  {
   "cell_type": "code",
   "execution_count": 5,
   "id": "8aa0f2f2-cf05-455f-80ea-7dc7e57cfbe3",
   "metadata": {},
   "outputs": [
    {
     "data": {
      "application/vnd.jupyter.widget-view+json": {
       "model_id": "34c02db3a81d4987a4c26d37f8ff05f6",
       "version_major": 2,
       "version_minor": 0
      },
      "text/plain": [
       "Text(value='', description='CTY-RTE-SEC: ', placeholder='Bridge CTY-RTE-SEC')"
      ]
     },
     "metadata": {},
     "output_type": "display_data"
    }
   ],
   "source": [
    "cty_rte_sec = widgets.Text(\n",
    "    description='CTY-RTE-SEC: ',\n",
    "    placeholder='Bridge CTY-RTE-SEC'\n",
    ")\n",
    "\n",
    "display(cty_rte_sec)"
   ]
  },
  {
   "cell_type": "code",
   "execution_count": 6,
   "id": "57f03c7b-2e72-434e-8675-7d56b571e323",
   "metadata": {},
   "outputs": [
    {
     "data": {
      "application/vnd.jupyter.widget-view+json": {
       "model_id": "9a5f242522d045a2b1380a7a9e9dcb2a",
       "version_major": 2,
       "version_minor": 0
      },
      "text/plain": [
       "Text(value='', description='Checked By: ', placeholder=\"Employee's Initials\")"
      ]
     },
     "metadata": {},
     "output_type": "display_data"
    }
   ],
   "source": [
    "checker = widgets.Text(\n",
    "    description='Checked By: ',\n",
    "    placeholder=\"Employee's Initials\"\n",
    ")\n",
    "\n",
    "display(checker)"
   ]
  },
  {
   "cell_type": "code",
   "execution_count": 7,
   "id": "819cc859-d955-425c-9c65-11885db4bb54",
   "metadata": {},
   "outputs": [
    {
     "data": {
      "application/vnd.jupyter.widget-view+json": {
       "model_id": "259d6f23917d48808fe420b23e7dce44",
       "version_major": 2,
       "version_minor": 0
      },
      "text/plain": [
       "Text(value='', description='SFN: ', placeholder=\"Enter 'multiple' if more than one\")"
      ]
     },
     "metadata": {},
     "output_type": "display_data"
    }
   ],
   "source": [
    "sfn = widgets.Text(\n",
    "    description='SFN: ',\n",
    "    placeholder=\"Enter 'multiple' if more than one\"\n",
    ")\n",
    "\n",
    "display(sfn)"
   ]
  },
  {
   "cell_type": "code",
   "execution_count": 8,
   "id": "214ac687-b7d1-4157-9a4f-cdb3da3e5ab7",
   "metadata": {},
   "outputs": [
    {
     "data": {
      "application/vnd.jupyter.widget-view+json": {
       "model_id": "4ecb8ede31ca4363bd4c5a4988d636ef",
       "version_major": 2,
       "version_minor": 0
      },
      "text/plain": [
       "Text(value='', description='PID: ', placeholder='Project PID')"
      ]
     },
     "metadata": {},
     "output_type": "display_data"
    }
   ],
   "source": [
    "pid = widgets.Text(\n",
    "    description='PID: ',\n",
    "    placeholder=\"Project PID\"\n",
    ")\n",
    "\n",
    "display(pid)"
   ]
  },
  {
   "cell_type": "code",
   "execution_count": 9,
   "id": "556dd107-a274-4465-9d60-123c5eae9477",
   "metadata": {},
   "outputs": [],
   "source": [
    "import ipywidgets as widgets\n",
    "from IPython.display import display\n",
    "from datetime import date\n",
    "\n",
    "stage_2_check = {}"
   ]
  },
  {
   "cell_type": "code",
   "execution_count": 10,
   "id": "eb26acf4-a230-4134-966f-036f5899727a",
   "metadata": {},
   "outputs": [],
   "source": [
    "import ipywidgets as widgets\n",
    "from IPython.display import display\n",
    "from datetime import date\n",
    "\n",
    "stage_2_check = {}  # Initialize the stage_2_check dictionary\n",
    "\n",
    "# Function to create input fields and a button\n",
    "def gen_info_input():\n",
    "    cty_rte_sec_input = widgets.Text(\n",
    "        description='CTY-RTE-SEC: ',\n",
    "        placeholder='Bridge CTY-RTE-SEC'\n",
    "    )\n",
    "    checker_input = widgets.Text(\n",
    "        description='Checked By: ',\n",
    "        placeholder=\"Employee's Initials\"\n",
    "    )\n",
    "    sfn_input = widgets.Text(\n",
    "        description='SFN: ',\n",
    "        placeholder=\"Enter 'multiple' if more than one\"\n",
    "    )\n",
    "    date_input = widgets.DatePicker(\n",
    "        description='Date:',\n",
    "        disabled=False,\n",
    "        value=date.today()  # Initialize with today's date\n",
    "    )\n",
    "    pid_input = widgets.Text(\n",
    "        description='PID: ',\n",
    "        placeholder=\"Project PID\"\n",
    "    )\n",
    "    submit_button = widgets.Button(\n",
    "        description='Update Values',\n",
    "        button_style='success',\n",
    "        tooltip='Click to submit inputs',\n",
    "        icon='check'\n",
    "    )\n",
    "\n",
    "    # Display all widgets\n",
    "    display(\n",
    "        cty_rte_sec_input, \n",
    "        checker_input, \n",
    "        date_input,\n",
    "        sfn_input, \n",
    "        pid_input, \n",
    "        submit_button)\n",
    "\n",
    "    # Return all input widgets and the button\n",
    "    return cty_rte_sec_input, checker_input, date_input, sfn_input, pid_input, submit_button\n",
    "\n",
    "\n",
    "# Function to collect data from widgets\n",
    "def get_gen_info(cty_rte_sec, checker, check_date, sfn, pid):\n",
    "    return {\n",
    "        'cty_rte_sec': cty_rte_sec.value,\n",
    "        'checker': checker.value,\n",
    "        'date': check_date.value.strftime('%B %d, %Y') if check_date.value else \"No date selected\",\n",
    "        'sfn': sfn.value,\n",
    "        'pid': pid.value\n",
    "    }\n",
    "\n",
    "\n",
    "# Define the button click handler function\n",
    "def on_submit_button_clicked(b):\n",
    "    global stage_2_check\n",
    "    # Update gen_info with the latest input values\n",
    "    stage_2_check['gen_info'] = get_gen_info(cty_rte_sec, checker, check_date, sfn, pid)\n",
    "    print(\"Updated gen_info:\")\n",
    "    print(stage_2_check)"
   ]
  },
  {
   "cell_type": "code",
   "execution_count": 11,
   "id": "f833d68d-5db8-42d0-a814-a7fd884a941d",
   "metadata": {},
   "outputs": [
    {
     "data": {
      "application/vnd.jupyter.widget-view+json": {
       "model_id": "41d54760ce804884a9382261a9a961e0",
       "version_major": 2,
       "version_minor": 0
      },
      "text/plain": [
       "Text(value='', description='CTY-RTE-SEC: ', placeholder='Bridge CTY-RTE-SEC')"
      ]
     },
     "metadata": {},
     "output_type": "display_data"
    },
    {
     "data": {
      "application/vnd.jupyter.widget-view+json": {
       "model_id": "ec5710a51de24e73a02b25f4af267c94",
       "version_major": 2,
       "version_minor": 0
      },
      "text/plain": [
       "Text(value='', description='Checked By: ', placeholder=\"Employee's Initials\")"
      ]
     },
     "metadata": {},
     "output_type": "display_data"
    },
    {
     "data": {
      "application/vnd.jupyter.widget-view+json": {
       "model_id": "c41c1dc51fd4463c8ff9ff2d01bf2205",
       "version_major": 2,
       "version_minor": 0
      },
      "text/plain": [
       "DatePicker(value=datetime.date(2025, 6, 2), description='Date:', step=1)"
      ]
     },
     "metadata": {},
     "output_type": "display_data"
    },
    {
     "data": {
      "application/vnd.jupyter.widget-view+json": {
       "model_id": "5f4affed812641af9b7031b3f3e4996d",
       "version_major": 2,
       "version_minor": 0
      },
      "text/plain": [
       "Text(value='', description='SFN: ', placeholder=\"Enter 'multiple' if more than one\")"
      ]
     },
     "metadata": {},
     "output_type": "display_data"
    },
    {
     "data": {
      "application/vnd.jupyter.widget-view+json": {
       "model_id": "f83bae221a9d4567927bad1c9a6bcfd5",
       "version_major": 2,
       "version_minor": 0
      },
      "text/plain": [
       "Text(value='', description='PID: ', placeholder='Project PID')"
      ]
     },
     "metadata": {},
     "output_type": "display_data"
    },
    {
     "data": {
      "application/vnd.jupyter.widget-view+json": {
       "model_id": "1baf449268284231b38e03e3e49564bf",
       "version_major": 2,
       "version_minor": 0
      },
      "text/plain": [
       "Button(button_style='success', description='Update Values', icon='check', style=ButtonStyle(), tooltip='Click …"
      ]
     },
     "metadata": {},
     "output_type": "display_data"
    }
   ],
   "source": [
    "# Generate widgets and button\n",
    "cty_rte_sec, checker, check_date, sfn, pid, submit_button = gen_info_input()\n",
    "\n",
    "# Attach the button click event\n",
    "submit_button.on_click(on_submit_button_clicked)"
   ]
  },
  {
   "cell_type": "code",
   "execution_count": 12,
   "id": "7f70ab85-b5e7-49f7-892c-821e12956896",
   "metadata": {},
   "outputs": [
    {
     "data": {
      "text/plain": [
       "{}"
      ]
     },
     "execution_count": 12,
     "metadata": {},
     "output_type": "execute_result"
    }
   ],
   "source": [
    "stage_2_check"
   ]
  },
  {
   "cell_type": "markdown",
   "id": "bbd09947-83b2-4a06-b9eb-5be89b11cd5e",
   "metadata": {},
   "source": [
    "## Checking if Project Folder Already Exists"
   ]
  },
  {
   "cell_type": "code",
   "execution_count": 13,
   "id": "e5bbdfe2-0ddc-4d51-91f7-3423fbbf0569",
   "metadata": {},
   "outputs": [],
   "source": [
    "import os\n",
    "\n",
    "def check_if_review_folder_exists():\n",
    "    # Path to the user's Documents folder\n",
    "    documents_path = os.path.expanduser(\"~/Documents\")\n",
    "    \n",
    "    # Path to the Reviews folder\n",
    "    reviews_folder = os.path.join(documents_path, \"Reviews\")\n",
    "    \n",
    "    # Check if the folder exists\n",
    "    if not os.path.exists(reviews_folder):\n",
    "        print(\"generating documents folder...\")\n",
    "        # Create the Reviews folder\n",
    "        os.makedirs(reviews_folder)\n",
    "    else:\n",
    "        pass"
   ]
  },
  {
   "cell_type": "code",
   "execution_count": 14,
   "id": "66f90ff4-2870-423b-aa93-9f43e1171505",
   "metadata": {},
   "outputs": [],
   "source": [
    "import json\n",
    "from pathlib import Path\n",
    "\n",
    "def generate_project_info(pid):\n",
    "    \"\"\"\n",
    "    Ensures that a folder for the entered PID exists in the user's Documents folder.\n",
    "    If it doesn't exist, create it.\n",
    "    \"\"\"\n",
    "    documents_path = Path(os.path.expanduser(\"~/Documents/Reviews\"))\n",
    "    pid_folder_path = documents_path / pid\n",
    "    \n",
    "    # Check if the folder exists and create it and the json file if not\n",
    "    if not os.path.exists(pid_folder_path):\n",
    "        print(f\"Generating folder for PID '{pid}' in Documents...\")\n",
    "        os.makedirs(pid_folder_path)\n",
    "        file_path = f\"{pid}.json\"\n",
    "        print(pid_folder_path / file_path)\n",
    "\n",
    "        with open(pid_folder_path / file_path, \"w\") as json_file:\n",
    "            json.dump({}, json_file)  # Writes an empty JSON object\n",
    "            print(f\"Empty JSON file created at: {file_path}\")\n",
    "    else:\n",
    "        print(f\"Folder for PID '{pid}' already exists in Documents, loading...\")"
   ]
  },
  {
   "cell_type": "code",
   "execution_count": 15,
   "id": "407b0b2a-4846-4a82-8e81-475d804acaa0",
   "metadata": {},
   "outputs": [
    {
     "name": "stdout",
     "output_type": "stream",
     "text": [
      "C:\\Users\\dparks1/Documents/Reviews\\/.json\n"
     ]
    }
   ],
   "source": [
    "documents_path = os.path.expanduser(\"~/Documents/Reviews\")\n",
    "pid_folder_path = os.path.join(documents_path, pid.value)\n",
    "file_path = f\"{pid.value}.json\"\n",
    "print(pid_folder_path + '/' + file_path)"
   ]
  },
  {
   "cell_type": "code",
   "execution_count": 16,
   "id": "46ae5cd7-5320-4acf-967f-aa6f9d4488cd",
   "metadata": {},
   "outputs": [
    {
     "name": "stdout",
     "output_type": "stream",
     "text": [
      "Folder for PID '' already exists in Documents, loading...\n"
     ]
    }
   ],
   "source": [
    "generate_project_info(pid.value)"
   ]
  },
  {
   "cell_type": "code",
   "execution_count": 144,
   "id": "c92cceba-6bd2-4da7-aa2d-eb5a80fd44e9",
   "metadata": {},
   "outputs": [
    {
     "data": {
      "text/plain": [
       "([{'label': 'All Stage I comments resolved and detailed design is as per approved Stage I.'},\n",
       "  {'label': 'All correspondence has been reviewed?'},\n",
       "  {'label': 'All bridge plan sheet are in order.', 'reference': 'BDM 103'},\n",
       "  {'label': 'Title block okay on all sheets? (As shown on Figure 102-2 in the Bridge Design Manual [BDM]) Designed,checked and reviewed blocks complete on all sheets?',\n",
       "   'reference': 'BDM 102.4'},\n",
       "  {'label': 'Project number and bridge number correct?', 'reference': '102.4'},\n",
       "  {'label': 'Plans compliant with L&D, Vol. 3?', 'reference': 'L&D Vol. 3'},\n",
       "  {'label': 'Supplemental Site Plan, if prepared during Stage 1 has not been included in plans?'},\n",
       "  {'label': 'Site Plan been checked with the final approved Sage 1 Site Plan? Deck transverse sections matches that approved in Stage I?'},\n",
       "  {'label': 'Call-outs are consistent on all sheets? (Span designation number, pier numbers, etc.)'},\n",
       "  {'label': 'North arrow shown on all plan views, all sheets.',\n",
       "   'reference': '102'},\n",
       "  {'label': 'Appropriate centerline/reference line used and referenced exclusively (consistent nomenclature) throughout the details.'},\n",
       "  {'label': 'If an auxiliary reference line is established, is stationing given along this line only, near the bridge? Is a geometric diagram provided, if necessary?'},\n",
       "  {'label': 'For bridge with variable super-elevation, has a super-elevation transition diagram been provided?',\n",
       "   'reference': '309.3.6.1 & 309.3.6.1a'},\n",
       "  {'label': 'Deck sections comply with BDM Fig. 309-10',\n",
       "   'reference': '309.3.6.1 Figure 309-9 & 309-10'},\n",
       "  {'label': 'Estimated Quantities in accordance with BDM 102.5',\n",
       "   'reference': 'BDM 102.5'},\n",
       "  {'label': 'Portions of existing structure that are to be removed have been properly indicated?'},\n",
       "  {'label': '± Symbol used for existing structure dimensions? Dashed lines used to denote existing structures?',\n",
       "   'reference': '207.4'},\n",
       "  {'label': 'Concrete surfaces sealed per',\n",
       "   'reference': '306.1.2, 309.2.1 and 403.3'},\n",
       "  {'label': 'Epoxy only sealer not used.', 'reference': '309.2.1-G'}],)"
      ]
     },
     "execution_count": 144,
     "metadata": {},
     "output_type": "execute_result"
    }
   ],
   "source": [
    "from civilpy.state.ohio.DOT.stage_2_comments import general_criteria\n",
    "general_criteria"
   ]
  },
  {
   "cell_type": "markdown",
   "id": "7a18e0f7-7bf6-4435-9b60-26c87f80a3d8",
   "metadata": {},
   "source": [
    "# General"
   ]
  },
  {
   "cell_type": "code",
   "execution_count": 17,
   "id": "7b6ba355-b826-476f-ab22-47f91a7f6e1c",
   "metadata": {},
   "outputs": [],
   "source": [
    "# These are shown in their original format. For updated checking items, see\n",
    "# civilpy.state.ohio.DOT \n",
    "\n",
    "general_criteria = [\n",
    "    {\"label\": \"All Stage I comments resolved and detailed design is as per approved Stage I.\"},\n",
    "    {\"label\": \"All correspondence has been reviewed?\"},\n",
    "    {\"label\": \"All bridge plan sheet are in order.\", \"section\": \"103\"},\n",
    "    {\"label\": \"Title block okay on all sheets? (As shown on Figure 102-4 in the Bridge Design Manual [BDM]) Designed, checked and reviewed blocks complete on all sheets?\"},\n",
    "    {\"label\": \"Project number and bridge number correct?\", \"section\": \"102.4\"},\n",
    "    {\"label\": \"All lettering No. 5 or larger? Caps 5/32 inches in height) Sheets in an appropriate order? As per\", \"section\": \"102.2\"},\n",
    "    {\"label\": \"Supplemental Site Plan, if prepared during Stage 1 has not been included in plans?\"},\n",
    "    {\"label\": \"Site Plan been checked with the final approved Sage 1 Site Plan? Deck transverse sections matches that approved in Stage I?\"},\n",
    "    {\"label\": \"Call-outs are consistent on all sheets? (Span designation number, pier numbers, etc.)\"},\n",
    "    {\"label\": \"North arrow shown on all plan views, all sheets.\", \"section\": \"102\"},\n",
    "    {\"label\": \"Each drilled shaft in the structure has been assigned a unique number?\", \"section\": \"305.4.4\"},\n",
    "    {\"label\": \"Each pile in the structure has been assigned a unique number?\"},\n",
    "    {\"label\": \"Pier(s) and forward abutment elevations and the superstructure transverse section shown looking forward? Rear abutment elevation looking to the rear?\", \"section\": \"102\"},\n",
    "    {\"label\": \"Appropriate centerline/reference line used and referenced exclusively (consistent nomenclature) throughout the details.\"},\n",
    "    {\"label\": \"If an auxiliary reference line is established, is stationing given along this line only, near the bridge? Is a geometric diagram provided, if necessary?\"},\n",
    "    {\"label\": \"For bridge with variable super-elevation, has a super-elevation transition diagram been provided?\", \"section\": \"309.3.6.1 & 309.3.6.1a\"},\n",
    "    {\"label\": \"Break over (1/2 inch per foot slope) provided on high side of superelevated decks for shoulder widths >4 feet? Rounding beginning at edge of roadway used when change in cross slope at break over exceeds 3 percent 4-foot rounding for shoulders < 8 feet and 5 foot rounding for shoulders > 8 feet)?\", \"section\": \"309.3.6.1 Figure 309-9 & 309-10\"},\n",
    "    {\"label\": \"Approach slabs have been detailed as per Designer Supplement: AS-2-15-Approach Slab Installation?\"},\n",
    "    {\"label\": \"Items that should be included with roadway quantities (e.g., Rock Channel Protection, Portable Concrete Barrier and Temporary Guardrail) have been designated as such?\"},\n",
    "    {\"label\": \"Portions of existing structure that are to be removed have been properly indicated?\"},\n",
    "    {\"label\": \"± Symbol used for existing structure dimensions? Dashed lines used to denote existing structures?\", \"section\": \"207.4\"},\n",
    "    {\"label\": \"Detail plans for temporary sheeting/shoring included if required by the\", \"section\": \"310.1\"},\n",
    "    {\"label\": \"Detail plans for a temporary runaround bridge included if required by the Scope?\", \"section\": \"503\"},\n",
    "    {\"label\": \"Concrete surfaces sealed per\", \"section\": \"306.1.2, 309.2.1 and 403.3\"},\n",
    "    {\"label\": \"Epoxy only sealer not used.\", \"section\": \"309.2.1-G\"}\n",
    "]"
   ]
  },
  {
   "cell_type": "code",
   "execution_count": 18,
   "id": "9764b596-16ec-42c5-81b5-97fa8c589e8c",
   "metadata": {
    "scrolled": true
   },
   "outputs": [
    {
     "data": {
      "application/vnd.jupyter.widget-view+json": {
       "model_id": "9de006de3bd848e1971c051e055003f2",
       "version_major": 2,
       "version_minor": 0
      },
      "text/plain": [
       "HTML(value='<H1><b><u>General Criteria</u></b>')"
      ]
     },
     "metadata": {},
     "output_type": "display_data"
    },
    {
     "data": {
      "application/vnd.jupyter.widget-view+json": {
       "model_id": "59ca831c74254eda85a87a699c8a6fda",
       "version_major": 2,
       "version_minor": 0
      },
      "text/plain": [
       "Checkbox(value=False, description='All Stage I comments resolved and detailed design is as per approved Stage …"
      ]
     },
     "metadata": {},
     "output_type": "display_data"
    },
    {
     "data": {
      "application/vnd.jupyter.widget-view+json": {
       "model_id": "08ce51a04fb04563954dba9182bf4176",
       "version_major": 2,
       "version_minor": 0
      },
      "text/plain": [
       "Checkbox(value=False, description='All correspondence has been reviewed?', indent=False, layout=Layout(margin=…"
      ]
     },
     "metadata": {},
     "output_type": "display_data"
    },
    {
     "data": {
      "application/vnd.jupyter.widget-view+json": {
       "model_id": "6beff2db22504c7c9118b9a5c5817724",
       "version_major": 2,
       "version_minor": 0
      },
      "text/plain": [
       "Checkbox(value=False, description='All bridge plan sheet are in order. See BDM 103', indent=False, layout=Layo…"
      ]
     },
     "metadata": {},
     "output_type": "display_data"
    },
    {
     "data": {
      "application/vnd.jupyter.widget-view+json": {
       "model_id": "164bfefc495b4683b707a0959c3d7329",
       "version_major": 2,
       "version_minor": 0
      },
      "text/plain": [
       "Checkbox(value=False, description='Title block okay on all sheets? (As shown on Figure 102-4 in the Bridge Des…"
      ]
     },
     "metadata": {},
     "output_type": "display_data"
    },
    {
     "data": {
      "application/vnd.jupyter.widget-view+json": {
       "model_id": "18f6193ef5234257ae78a51ca6090437",
       "version_major": 2,
       "version_minor": 0
      },
      "text/plain": [
       "Checkbox(value=False, description='Project number and bridge number correct? See BDM 102.4', indent=False, lay…"
      ]
     },
     "metadata": {},
     "output_type": "display_data"
    },
    {
     "data": {
      "application/vnd.jupyter.widget-view+json": {
       "model_id": "9fc60d6f8b4d434895c8e194db09e935",
       "version_major": 2,
       "version_minor": 0
      },
      "text/plain": [
       "Checkbox(value=False, description='All lettering No. 5 or larger? Caps 5/32 inches in height) Sheets in an app…"
      ]
     },
     "metadata": {},
     "output_type": "display_data"
    },
    {
     "data": {
      "application/vnd.jupyter.widget-view+json": {
       "model_id": "baf259223f994fb4ac7d9ac3f1c4620f",
       "version_major": 2,
       "version_minor": 0
      },
      "text/plain": [
       "Checkbox(value=False, description='Supplemental Site Plan, if prepared during Stage 1 has not been included in…"
      ]
     },
     "metadata": {},
     "output_type": "display_data"
    },
    {
     "data": {
      "application/vnd.jupyter.widget-view+json": {
       "model_id": "31984df63bf74d2e8eb251688edff38c",
       "version_major": 2,
       "version_minor": 0
      },
      "text/plain": [
       "Checkbox(value=False, description='Site Plan been checked with the final approved Sage 1 Site Plan? Deck trans…"
      ]
     },
     "metadata": {},
     "output_type": "display_data"
    },
    {
     "data": {
      "application/vnd.jupyter.widget-view+json": {
       "model_id": "98482bac25c54eda8a248ea01675ccc6",
       "version_major": 2,
       "version_minor": 0
      },
      "text/plain": [
       "Checkbox(value=False, description='Call-outs are consistent on all sheets? (Span designation number, pier numb…"
      ]
     },
     "metadata": {},
     "output_type": "display_data"
    },
    {
     "data": {
      "application/vnd.jupyter.widget-view+json": {
       "model_id": "bdf74bada3654bae8f2d2065be425966",
       "version_major": 2,
       "version_minor": 0
      },
      "text/plain": [
       "Checkbox(value=False, description='North arrow shown on all plan views, all sheets. See BDM 102', indent=False…"
      ]
     },
     "metadata": {},
     "output_type": "display_data"
    },
    {
     "data": {
      "application/vnd.jupyter.widget-view+json": {
       "model_id": "002970a906d64dcea3da9dd0954d5765",
       "version_major": 2,
       "version_minor": 0
      },
      "text/plain": [
       "Checkbox(value=False, description='Each drilled shaft in the structure has been assigned a unique number? See …"
      ]
     },
     "metadata": {},
     "output_type": "display_data"
    },
    {
     "data": {
      "application/vnd.jupyter.widget-view+json": {
       "model_id": "ddf42e82d769481dadeb4b616e58ff6a",
       "version_major": 2,
       "version_minor": 0
      },
      "text/plain": [
       "Checkbox(value=False, description='Each pile in the structure has been assigned a unique number?', indent=Fals…"
      ]
     },
     "metadata": {},
     "output_type": "display_data"
    },
    {
     "data": {
      "application/vnd.jupyter.widget-view+json": {
       "model_id": "fafda9027a4343f498a5647f28fbd770",
       "version_major": 2,
       "version_minor": 0
      },
      "text/plain": [
       "Checkbox(value=False, description='Pier(s) and forward abutment elevations and the superstructure transverse s…"
      ]
     },
     "metadata": {},
     "output_type": "display_data"
    },
    {
     "data": {
      "application/vnd.jupyter.widget-view+json": {
       "model_id": "3aff780efd2649618837fe42a1ae2f40",
       "version_major": 2,
       "version_minor": 0
      },
      "text/plain": [
       "Checkbox(value=False, description='Appropriate centerline/reference line used and referenced exclusively (cons…"
      ]
     },
     "metadata": {},
     "output_type": "display_data"
    },
    {
     "data": {
      "application/vnd.jupyter.widget-view+json": {
       "model_id": "7de125dc732c40d1b1af383817854810",
       "version_major": 2,
       "version_minor": 0
      },
      "text/plain": [
       "Checkbox(value=False, description='If an auxiliary reference line is established, is stationing given along th…"
      ]
     },
     "metadata": {},
     "output_type": "display_data"
    },
    {
     "data": {
      "application/vnd.jupyter.widget-view+json": {
       "model_id": "88ca918119a84bd8b67050afd2c91cd1",
       "version_major": 2,
       "version_minor": 0
      },
      "text/plain": [
       "Checkbox(value=False, description='For bridge with variable super-elevation, has a super-elevation transition …"
      ]
     },
     "metadata": {},
     "output_type": "display_data"
    },
    {
     "data": {
      "application/vnd.jupyter.widget-view+json": {
       "model_id": "905aa08779ac4cca990b8ec7f0c64fcc",
       "version_major": 2,
       "version_minor": 0
      },
      "text/plain": [
       "Checkbox(value=False, description='Break over (1/2 inch per foot slope) provided on high side of superelevated…"
      ]
     },
     "metadata": {},
     "output_type": "display_data"
    },
    {
     "data": {
      "application/vnd.jupyter.widget-view+json": {
       "model_id": "80c783cf0f6b4e1ea87ba0d157aaac37",
       "version_major": 2,
       "version_minor": 0
      },
      "text/plain": [
       "Checkbox(value=False, description='Approach slabs have been detailed as per Designer Supplement: AS-2-15-Appro…"
      ]
     },
     "metadata": {},
     "output_type": "display_data"
    },
    {
     "data": {
      "application/vnd.jupyter.widget-view+json": {
       "model_id": "a08158351dde452b8e6548c5611c4897",
       "version_major": 2,
       "version_minor": 0
      },
      "text/plain": [
       "Checkbox(value=False, description='Items that should be included with roadway quantities (e.g., Rock Channel P…"
      ]
     },
     "metadata": {},
     "output_type": "display_data"
    },
    {
     "data": {
      "application/vnd.jupyter.widget-view+json": {
       "model_id": "6e1547382c2f4ee28c138df749f37bbf",
       "version_major": 2,
       "version_minor": 0
      },
      "text/plain": [
       "Checkbox(value=False, description='Portions of existing structure that are to be removed have been properly in…"
      ]
     },
     "metadata": {},
     "output_type": "display_data"
    },
    {
     "data": {
      "application/vnd.jupyter.widget-view+json": {
       "model_id": "1445a9dd65f04dd9a2c73939599c6cf6",
       "version_major": 2,
       "version_minor": 0
      },
      "text/plain": [
       "Checkbox(value=False, description='± Symbol used for existing structure dimensions? Dashed lines used to denot…"
      ]
     },
     "metadata": {},
     "output_type": "display_data"
    },
    {
     "data": {
      "application/vnd.jupyter.widget-view+json": {
       "model_id": "3075c7bd0991458cba33970278dff66b",
       "version_major": 2,
       "version_minor": 0
      },
      "text/plain": [
       "Checkbox(value=False, description='Detail plans for temporary sheeting/shoring included if required by the See…"
      ]
     },
     "metadata": {},
     "output_type": "display_data"
    },
    {
     "data": {
      "application/vnd.jupyter.widget-view+json": {
       "model_id": "633b7f49936e48659717e8aa6792bd37",
       "version_major": 2,
       "version_minor": 0
      },
      "text/plain": [
       "Checkbox(value=False, description='Detail plans for a temporary runaround bridge included if required by the S…"
      ]
     },
     "metadata": {},
     "output_type": "display_data"
    },
    {
     "data": {
      "application/vnd.jupyter.widget-view+json": {
       "model_id": "6955fbccb77a4fd2aa5fcfe58ecc2fe1",
       "version_major": 2,
       "version_minor": 0
      },
      "text/plain": [
       "Checkbox(value=False, description='Concrete surfaces sealed per See BDM 306.1.2, 309.2.1 and 403.3', indent=Fa…"
      ]
     },
     "metadata": {},
     "output_type": "display_data"
    },
    {
     "data": {
      "application/vnd.jupyter.widget-view+json": {
       "model_id": "ce010a54025a44b09e09ba3b446a31d7",
       "version_major": 2,
       "version_minor": 0
      },
      "text/plain": [
       "Checkbox(value=False, description='Epoxy only sealer not used. See BDM 309.2.1-G', indent=False, layout=Layout…"
      ]
     },
     "metadata": {},
     "output_type": "display_data"
    }
   ],
   "source": [
    "# Function to display the \"site_plan\" section\n",
    "def display_general():\n",
    "    header = widgets.HTML(\"<H1><b><u>General Criteria</u></b>\")\n",
    "    display(header)\n",
    "    checkboxes = []\n",
    "    for criterion in general_criteria:\n",
    "        label = criterion[\"label\"]\n",
    "        # Append \"BDM\" to the section number if available\n",
    "        if \"section\" in criterion:\n",
    "            label = f\"{label} See BDM {criterion['section']}\"\n",
    "        \n",
    "        # Create a checkbox with proper styling for multiline labels\n",
    "        checkbox = widgets.Checkbox(\n",
    "            description=label,\n",
    "            value=False,\n",
    "            indent=False,\n",
    "            layout=widgets.Layout(width='100%', margin='6px 0 0 0px')  # Full width and tight vertical spacing\n",
    "        )\n",
    "        checkbox.style = {'description_width': '0px'}  # Keep the checkbox aligned to the far left\n",
    "        checkboxes.append(checkbox)\n",
    "        display(checkbox)\n",
    "\n",
    "# Display the \"site_plan\" section\n",
    "display_general()"
   ]
  },
  {
   "cell_type": "markdown",
   "id": "691e3d19-306b-48f0-a177-f938c361b52e",
   "metadata": {},
   "source": [
    "# Plans"
   ]
  },
  {
   "cell_type": "markdown",
   "id": "66b20b34-def2-4025-a73c-6c58787666e3",
   "metadata": {},
   "source": [
    "## Site Plan"
   ]
  },
  {
   "cell_type": "code",
   "execution_count": 19,
   "id": "75b6b020-993b-4cf3-854e-bdc0e3882d71",
   "metadata": {},
   "outputs": [],
   "source": [
    "site_plan_criteria = [\n",
    "    {\"label\": \"In the proposed structure data block verify the Latitude and Longitude.\\nThe Latitude and Longitude of the begin Bridge limit station should be given to the nearest 0.01 second. The 0.01 second precision will be included in the next update.\"},\n",
    "    {\"label\": \"In the profile view provide the highest known high-water mark; normal water elevation and Ordinary High-Water Mark (OHWM).\", \"section\": \"201.2.1\"},\n",
    "    {\"label\": \"Show the length of the bedrock socket in the profile view.\", \"section\": \"305.4.2\"}\n",
    "]"
   ]
  },
  {
   "cell_type": "code",
   "execution_count": 20,
   "id": "d2485b3f-23d9-4f0b-a1c1-a7d936b91eda",
   "metadata": {},
   "outputs": [
    {
     "data": {
      "application/vnd.jupyter.widget-view+json": {
       "model_id": "813a8a44a06f4e729971985bc949b5b1",
       "version_major": 2,
       "version_minor": 0
      },
      "text/plain": [
       "HTML(value='<h2><b><u>Site Plan</u></b>')"
      ]
     },
     "metadata": {},
     "output_type": "display_data"
    },
    {
     "data": {
      "application/vnd.jupyter.widget-view+json": {
       "model_id": "3654e52d54a64fa584ae2fadd6fe20a2",
       "version_major": 2,
       "version_minor": 0
      },
      "text/plain": [
       "Checkbox(value=False, description='In the proposed structure data block verify the Latitude and Longitude.\\nTh…"
      ]
     },
     "metadata": {},
     "output_type": "display_data"
    },
    {
     "data": {
      "application/vnd.jupyter.widget-view+json": {
       "model_id": "f405794ae68c47099bed054456ae2051",
       "version_major": 2,
       "version_minor": 0
      },
      "text/plain": [
       "Checkbox(value=False, description='In the profile view provide the highest known high-water mark; normal water…"
      ]
     },
     "metadata": {},
     "output_type": "display_data"
    },
    {
     "data": {
      "application/vnd.jupyter.widget-view+json": {
       "model_id": "8a2332330c394070931ce85edb9a2447",
       "version_major": 2,
       "version_minor": 0
      },
      "text/plain": [
       "Checkbox(value=False, description='Show the length of the bedrock socket in the profile view. See BDM 305.4.2'…"
      ]
     },
     "metadata": {},
     "output_type": "display_data"
    }
   ],
   "source": [
    "# Function to display the \"site_plan\" section\n",
    "def display_site_plan():\n",
    "    header = widgets.HTML(\"<h2><b><u>Site Plan</u></b>\")\n",
    "    display(header)\n",
    "    checkboxes = []\n",
    "    for criterion in site_plan_criteria:\n",
    "        label = criterion[\"label\"]\n",
    "        # Append \"BDM\" to the section number if available\n",
    "        if \"section\" in criterion:\n",
    "            label = f\"{label} See BDM {criterion['section']}\"\n",
    "        \n",
    "        # Create a checkbox with proper styling for multiline labels\n",
    "        checkbox = widgets.Checkbox(\n",
    "            description=label,\n",
    "            value=False,\n",
    "            indent=False,\n",
    "            layout=widgets.Layout(width='100%', margin='6px 0 0 0px')  # Full width and tight vertical spacing\n",
    "        )\n",
    "        checkbox.style = {'description_width': '0px'}  # Keep the checkbox aligned to the far left\n",
    "        checkboxes.append(checkbox)\n",
    "        display(checkbox)\n",
    "\n",
    "# Display the \"site_plan\" section\n",
    "display_site_plan()"
   ]
  },
  {
   "cell_type": "markdown",
   "id": "3dcf244b-4763-44bd-8361-334850668779",
   "metadata": {},
   "source": [
    "## General Plan"
   ]
  },
  {
   "cell_type": "code",
   "execution_count": 21,
   "id": "668062c9-e13b-4e97-b518-54e04d6c6667",
   "metadata": {},
   "outputs": [],
   "source": [
    "# Define the general_plan criteria\n",
    "general_plan_criteria = [\n",
    "    {\"label\": \"Reference line shown for curved bridges, and stations should be shown where it intersects curve.\"},\n",
    "    {\"label\": \"Span lengths agree with Site Plan?\", \"section\": \"202.1.1\"},\n",
    "    {\"label\": \"Stage construction joint shown on appropriate plan views and details.\"},\n",
    "    {\"label\": \"Highway lighting feature shown, if applicable?\"},\n",
    "    {\"label\": \"Scuppers shown, if applicable?\"},\n",
    "    {\"label\": \"Approach drainage details (Gutters/catch basins).\"},\n",
    "    {\"label\": \"Limits of slope protection.\"}\n",
    "]"
   ]
  },
  {
   "cell_type": "code",
   "execution_count": 22,
   "id": "d91d4bc8-a8f8-4593-9ffb-03ad25dbfb55",
   "metadata": {},
   "outputs": [
    {
     "data": {
      "application/vnd.jupyter.widget-view+json": {
       "model_id": "b4054b6849ee48f19c4f8db90b6b4c91",
       "version_major": 2,
       "version_minor": 0
      },
      "text/plain": [
       "HTML(value='<H2><b><u>General Plan</u></b>')"
      ]
     },
     "metadata": {},
     "output_type": "display_data"
    },
    {
     "data": {
      "application/vnd.jupyter.widget-view+json": {
       "model_id": "72882bf8cb7547f6911fa83ccf58bf67",
       "version_major": 2,
       "version_minor": 0
      },
      "text/plain": [
       "Checkbox(value=False, description='Reference line shown for curved bridges, and stations should be shown where…"
      ]
     },
     "metadata": {},
     "output_type": "display_data"
    },
    {
     "data": {
      "application/vnd.jupyter.widget-view+json": {
       "model_id": "3c25a7cd6d9a4a83b86b209f125fc4dc",
       "version_major": 2,
       "version_minor": 0
      },
      "text/plain": [
       "Checkbox(value=False, description='Span lengths agree with Site Plan? See BDM 202.1.1', indent=False, layout=L…"
      ]
     },
     "metadata": {},
     "output_type": "display_data"
    },
    {
     "data": {
      "application/vnd.jupyter.widget-view+json": {
       "model_id": "3916a2e6cf7344a49b972adce3ced5b1",
       "version_major": 2,
       "version_minor": 0
      },
      "text/plain": [
       "Checkbox(value=False, description='Stage construction joint shown on appropriate plan views and details.', ind…"
      ]
     },
     "metadata": {},
     "output_type": "display_data"
    },
    {
     "data": {
      "application/vnd.jupyter.widget-view+json": {
       "model_id": "3e596881939c4c7a96efbe1aa5898211",
       "version_major": 2,
       "version_minor": 0
      },
      "text/plain": [
       "Checkbox(value=False, description='Highway lighting feature shown, if applicable?', indent=False, layout=Layou…"
      ]
     },
     "metadata": {},
     "output_type": "display_data"
    },
    {
     "data": {
      "application/vnd.jupyter.widget-view+json": {
       "model_id": "b302a473d99c452f8e4b991b8809bf38",
       "version_major": 2,
       "version_minor": 0
      },
      "text/plain": [
       "Checkbox(value=False, description='Scuppers shown, if applicable?', indent=False, layout=Layout(margin='6px 0 …"
      ]
     },
     "metadata": {},
     "output_type": "display_data"
    },
    {
     "data": {
      "application/vnd.jupyter.widget-view+json": {
       "model_id": "a6ba9a4988c448d8b05934500084fa08",
       "version_major": 2,
       "version_minor": 0
      },
      "text/plain": [
       "Checkbox(value=False, description='Approach drainage details (Gutters/catch basins).', indent=False, layout=La…"
      ]
     },
     "metadata": {},
     "output_type": "display_data"
    },
    {
     "data": {
      "application/vnd.jupyter.widget-view+json": {
       "model_id": "d5c6d0640fbb4fa3a02ea24dc053a6ff",
       "version_major": 2,
       "version_minor": 0
      },
      "text/plain": [
       "Checkbox(value=False, description='Limits of slope protection.', indent=False, layout=Layout(margin='6px 0 0 0…"
      ]
     },
     "metadata": {},
     "output_type": "display_data"
    }
   ],
   "source": [
    "# Function to display the \"general_plan\" section\n",
    "def display_general_plan():\n",
    "    header = widgets.HTML(\"<H2><b><u>General Plan</u></b>\")\n",
    "    display(header)\n",
    "    checkboxes = []\n",
    "    for criterion in general_plan_criteria:\n",
    "        label = criterion[\"label\"]\n",
    "        # Append \"BDM\" to the section number if available\n",
    "        if \"section\" in criterion:\n",
    "            label = f\"{label} See BDM {criterion['section']}\"\n",
    "        checkbox = widgets.Checkbox(\n",
    "            description=label,\n",
    "            value=False,\n",
    "            indent=False,\n",
    "            layout=widgets.Layout(width='100%', margin='6px 0 0 0px')\n",
    "        )\n",
    "        checkbox.style = {'description_width': '0px'}\n",
    "        checkboxes.append(checkbox)\n",
    "        display(checkbox)\n",
    "\n",
    "# Display the \"general_plan\" section\n",
    "display_general_plan()"
   ]
  },
  {
   "cell_type": "markdown",
   "id": "f101f5e6-ea9d-4cce-b27f-4802d55adefd",
   "metadata": {},
   "source": [
    "## General Notes/Estimated Quantities"
   ]
  },
  {
   "cell_type": "markdown",
   "id": "f8d35850-5de1-4035-8ffd-5a21ddfe3ce0",
   "metadata": {},
   "source": [
    "### General Notes (Refer to 600)"
   ]
  },
  {
   "cell_type": "code",
   "execution_count": 23,
   "id": "bb2d6f75-951e-464f-bec6-d94e3248f9ab",
   "metadata": {},
   "outputs": [],
   "source": [
    "# Define the general_notes criteria\n",
    "general_notes_criteria = [\n",
    "    {\"label\": \"All applicable general notes from BDM Section 600 included?\"},\n",
    "    {\"label\": \"Wording of 'standard general notes' suit the project? (Do the notes make sense for this project?)\"},\n",
    "    {\"label\": \"General notes included where necessary to describe 'as per plan' items?\"},\n",
    "    {\"label\": \"In addition to the typical general notes given in the BDM, general notes are usually included to describe any 'non-standard' bid items or situations. Have these been included?\"},\n",
    "    {\"label\": \"For rehabilitation projects, is the scope work itemized and clearly described under a PROPOSED WORK note?\"},\n",
    "    {\"label\": \"Construction procedure for unusual conditions\"}\n",
    "]"
   ]
  },
  {
   "cell_type": "code",
   "execution_count": 24,
   "id": "9be721ba-d563-469a-9f84-9ccbbc49e99d",
   "metadata": {},
   "outputs": [
    {
     "data": {
      "application/vnd.jupyter.widget-view+json": {
       "model_id": "df05a08c125d43c08373bfef0354b1ac",
       "version_major": 2,
       "version_minor": 0
      },
      "text/plain": [
       "HTML(value='<H3><b><u>General Notes</u></b>')"
      ]
     },
     "metadata": {},
     "output_type": "display_data"
    },
    {
     "data": {
      "application/vnd.jupyter.widget-view+json": {
       "model_id": "ac78b152302b479da0c959c7efe396ad",
       "version_major": 2,
       "version_minor": 0
      },
      "text/plain": [
       "Checkbox(value=False, description='All applicable general notes from BDM Section 600 included?', indent=False,…"
      ]
     },
     "metadata": {},
     "output_type": "display_data"
    },
    {
     "data": {
      "application/vnd.jupyter.widget-view+json": {
       "model_id": "a77361997b6b407586ab856bb4d016e9",
       "version_major": 2,
       "version_minor": 0
      },
      "text/plain": [
       "Checkbox(value=False, description=\"Wording of 'standard general notes' suit the project? (Do the notes make se…"
      ]
     },
     "metadata": {},
     "output_type": "display_data"
    },
    {
     "data": {
      "application/vnd.jupyter.widget-view+json": {
       "model_id": "82f50c2a1ebe49d7883c37867ae75bcf",
       "version_major": 2,
       "version_minor": 0
      },
      "text/plain": [
       "Checkbox(value=False, description=\"General notes included where necessary to describe 'as per plan' items?\", i…"
      ]
     },
     "metadata": {},
     "output_type": "display_data"
    },
    {
     "data": {
      "application/vnd.jupyter.widget-view+json": {
       "model_id": "4791a6d54956400fa46349fca776d6aa",
       "version_major": 2,
       "version_minor": 0
      },
      "text/plain": [
       "Checkbox(value=False, description=\"In addition to the typical general notes given in the BDM, general notes ar…"
      ]
     },
     "metadata": {},
     "output_type": "display_data"
    },
    {
     "data": {
      "application/vnd.jupyter.widget-view+json": {
       "model_id": "0ed83093b72a49c3b0cb4002522060eb",
       "version_major": 2,
       "version_minor": 0
      },
      "text/plain": [
       "Checkbox(value=False, description='For rehabilitation projects, is the scope work itemized and clearly describ…"
      ]
     },
     "metadata": {},
     "output_type": "display_data"
    },
    {
     "data": {
      "application/vnd.jupyter.widget-view+json": {
       "model_id": "58d6903c84564f099c75ea4bd021d0f0",
       "version_major": 2,
       "version_minor": 0
      },
      "text/plain": [
       "Checkbox(value=False, description='Construction procedure for unusual conditions', indent=False, layout=Layout…"
      ]
     },
     "metadata": {},
     "output_type": "display_data"
    }
   ],
   "source": [
    "# Function to display the \"general_notes\" section\n",
    "def display_general_notes():\n",
    "    header = widgets.HTML(\"<H3><b><u>General Notes</u></b>\")\n",
    "    display(header)\n",
    "    checkboxes = []\n",
    "    for criterion in general_notes_criteria:\n",
    "        label = criterion[\"label\"]\n",
    "        # Append \"BDM\" to the section number if available\n",
    "        if \"section\" in criterion:\n",
    "            label = f\"{label} See BDM {criterion['section']}\"\n",
    "        checkbox = widgets.Checkbox(\n",
    "            description=label,\n",
    "            value=False,\n",
    "            indent=False,\n",
    "            layout=widgets.Layout(width='100%', margin='6px 0 0 0px')\n",
    "        )\n",
    "        checkbox.style = {'description_width': '0px'}\n",
    "        checkboxes.append(checkbox)\n",
    "        display(checkbox)\n",
    "\n",
    "# Display the \"general_notes\" section\n",
    "display_general_notes()"
   ]
  },
  {
   "cell_type": "markdown",
   "id": "a489f1d1-00c1-4ac2-9869-dec00123643d",
   "metadata": {},
   "source": [
    "### Detail Notes"
   ]
  },
  {
   "cell_type": "code",
   "execution_count": 25,
   "id": "8d7ec82e-4871-4f8e-8894-e7101b7e59d6",
   "metadata": {},
   "outputs": [],
   "source": [
    "# Define the detail_notes criteria\n",
    "detail_notes_criteria = [\n",
    "    {\"label\": \"See Section 700 of the Bridge Design Manual for a reminder list of typical detail notes.\"}\n",
    "]"
   ]
  },
  {
   "cell_type": "code",
   "execution_count": 26,
   "id": "89a83cca-f31b-402f-9454-f5b285c629b4",
   "metadata": {},
   "outputs": [
    {
     "data": {
      "application/vnd.jupyter.widget-view+json": {
       "model_id": "118a38bd807140d5aeb56fd61de97614",
       "version_major": 2,
       "version_minor": 0
      },
      "text/plain": [
       "HTML(value='<b><u>Detail Notes</u></b>')"
      ]
     },
     "metadata": {},
     "output_type": "display_data"
    },
    {
     "data": {
      "application/vnd.jupyter.widget-view+json": {
       "model_id": "f6e218b9a56f4837811f29bf1b74095b",
       "version_major": 2,
       "version_minor": 0
      },
      "text/plain": [
       "Checkbox(value=False, description='See Section 700 of the Bridge Design Manual for a reminder list of typical …"
      ]
     },
     "metadata": {},
     "output_type": "display_data"
    }
   ],
   "source": [
    "# Function to display the \"detail_notes\" section\n",
    "def display_detail_notes():\n",
    "    header = widgets.HTML(\"<b><u>Detail Notes</u></b>\")\n",
    "    display(header)\n",
    "    checkboxes = []\n",
    "    for criterion in detail_notes_criteria:\n",
    "        label = criterion[\"label\"]\n",
    "        # Append \"BDM\" to the section number if available\n",
    "        if \"section\" in criterion:\n",
    "            label = f\"{label} See BDM {criterion['section']}\"\n",
    "        checkbox = widgets.Checkbox(\n",
    "            description=label,\n",
    "            value=False,\n",
    "            indent=False,\n",
    "            layout=widgets.Layout(width='100%', margin='6px 0 0 0px')\n",
    "        )\n",
    "        checkbox.style = {'description_width': '0px'}\n",
    "        checkboxes.append(checkbox)\n",
    "        display(checkbox)\n",
    "\n",
    "# Display the \"detail_notes\" section\n",
    "display_detail_notes()"
   ]
  },
  {
   "cell_type": "markdown",
   "id": "f39c21f2-7158-4ec8-b6c9-bc75b1d50882",
   "metadata": {},
   "source": [
    "### Estimated Quantitites"
   ]
  },
  {
   "cell_type": "code",
   "execution_count": 27,
   "id": "8aec3349-b540-46a0-ba52-9307355a1511",
   "metadata": {},
   "outputs": [],
   "source": [
    "# Define the estimated_notes criteria\n",
    "estimated_quantitites_criteria = [\n",
    "    {\"label\": \"All Items should be listed in the Estimated Quantities sheet in stage 2 without quantities.\"},\n",
    "    {\"label\": \"Pay-Item for cofferdam and excavation bracing included if required by section 310.1.1 of the BDM.\"}\n",
    "]"
   ]
  },
  {
   "cell_type": "code",
   "execution_count": 28,
   "id": "343f9384-f9d9-4109-8447-4b9278054e1a",
   "metadata": {},
   "outputs": [
    {
     "data": {
      "application/vnd.jupyter.widget-view+json": {
       "model_id": "11778f55c28d486d8a13f03eeb6cdf06",
       "version_major": 2,
       "version_minor": 0
      },
      "text/plain": [
       "HTML(value='<b><u>Estimated Quantities</u></b>')"
      ]
     },
     "metadata": {},
     "output_type": "display_data"
    },
    {
     "data": {
      "application/vnd.jupyter.widget-view+json": {
       "model_id": "739784f4696b4d0baedb68ce607b88bf",
       "version_major": 2,
       "version_minor": 0
      },
      "text/plain": [
       "Checkbox(value=False, description='All Items should be listed in the Estimated Quantities sheet in stage 2 wit…"
      ]
     },
     "metadata": {},
     "output_type": "display_data"
    },
    {
     "data": {
      "application/vnd.jupyter.widget-view+json": {
       "model_id": "a3d16621facb416387a0a1ff047a670e",
       "version_major": 2,
       "version_minor": 0
      },
      "text/plain": [
       "Checkbox(value=False, description='Pay-Item for cofferdam and excavation bracing included if required by secti…"
      ]
     },
     "metadata": {},
     "output_type": "display_data"
    }
   ],
   "source": [
    "# Function to display the \"detail_notes\" section\n",
    "def display_estimated_quantities():\n",
    "    header = widgets.HTML(\"<b><u>Estimated Quantities</u></b>\")\n",
    "    display(header)\n",
    "    checkboxes = []\n",
    "    for criterion in estimated_quantitites_criteria:\n",
    "        label = criterion[\"label\"]\n",
    "        # Append \"BDM\" to the section number if available\n",
    "        if \"section\" in criterion:\n",
    "            label = f\"{label} See BDM {criterion['section']}\"\n",
    "        checkbox = widgets.Checkbox(\n",
    "            description=label,\n",
    "            value=False,\n",
    "            indent=False,\n",
    "            layout=widgets.Layout(width='100%', margin='6px 0 0 0px')\n",
    "        )\n",
    "        checkbox.style = {'description_width': '0px'}\n",
    "        checkboxes.append(checkbox)\n",
    "        display(checkbox)\n",
    "\n",
    "# Display the \"detail_notes\" section\n",
    "display_estimated_quantities()"
   ]
  },
  {
   "cell_type": "markdown",
   "id": "dd989360-be52-4712-85cf-81c8482ea2f6",
   "metadata": {},
   "source": [
    "### Reinforcing Details"
   ]
  },
  {
   "cell_type": "code",
   "execution_count": 29,
   "id": "2a182942-ca78-45d4-84da-a2a802adb989",
   "metadata": {},
   "outputs": [],
   "source": [
    "# Define the reinforcing_details criteria\n",
    "reinforcing_details_criteria = [\n",
    "    {\"label\": \"Bar lengths conform to The maximum bar length should be approximately 40 feet. For longitudinal deck reinforcing, bar lengths of 30 feet are preferred, except for one odd length at end of run.\", \"section\": \"304.4.1\"},\n",
    "    {\"label\": \"Length of the short leg of L-shaped bars less than 8'-0\\\"?\", \"section\": \"304.4.1\"},\n",
    "    {\"label\": \"Minimum reinforcing steel provided in all faces of retaining walls and wall-type abutments and piers for shrinkage and temperature reinforcement?\", \"section\": \"304.4.9 LRFD 5.10.6\"},\n",
    "    {\"label\": \"Splice and development lengths for epoxy bars conform to current AASHTO requirements?\", \"section\": \"LRFD 5.10.8\"},\n",
    "    {\"label\": \"All bar splice lengths shown by plan note, on plan details, combination or reference?\"},\n",
    "    {\"label\": \"Bridge seat reinforcement adequately clear of bearing anchors?\", \"section\": \"306.2.1.2\"},\n",
    "    {\"label\": \"Treatment of reinforcing steel appropriate at all construction, contraction, and expansion joints?\", \"section\": \"306.2.5\"},\n",
    "    {\"label\": \"Reinforcing steel in footings comply with (i.e., secondary rebars under main rebars, rebars at bottom of footing and not top of piles, dowel legs placed at bottom layer of footing rebars)?\", \"section\": \"305.2.1.4\"},\n",
    "    {\"label\": \"For cantilevered pier caps (T-type and cap and column), is the top layer of bars bent down the end face of the cap? Side faces adequately reinforced to resist longitudinal superstructure forces?\", \"section\": \"306.3.3.3\"},\n",
    "    {\"label\": \"Lateral ties between vertical bars in T-type and wall type piers as per section\", \"section\": \"306.3.3\"},\n",
    "    {\"label\": \"All reinforcing shall be epoxy coated?\", \"section\": \"304.4\"},\n",
    "    {\"label\": \"Letter prefix A (abutments), P (piers), S (superstructure), SP (spirals), DS (drilled shafts) generally used in bar marks?\", \"section\": \"304.4.2\"},\n",
    "    {\"label\": \"Mechanical connectors used where appropriate?\", \"section\": \"304.4.4\"},\n",
    "    {\"label\": \"Splices avoided at pier horizontal construction joints, except at top of footing?\", \"section\": \"304.4.3\"},\n",
    "]"
   ]
  },
  {
   "cell_type": "code",
   "execution_count": 30,
   "id": "55fdd85a-4841-4873-a716-396ae7ecea6b",
   "metadata": {},
   "outputs": [
    {
     "data": {
      "application/vnd.jupyter.widget-view+json": {
       "model_id": "fadd6dd650ba49c490caea9179630930",
       "version_major": 2,
       "version_minor": 0
      },
      "text/plain": [
       "HTML(value='<b><u>Reinforcing Details</u></b>')"
      ]
     },
     "metadata": {},
     "output_type": "display_data"
    },
    {
     "data": {
      "application/vnd.jupyter.widget-view+json": {
       "model_id": "923af2273d5146218a7bf1d623be84f6",
       "version_major": 2,
       "version_minor": 0
      },
      "text/plain": [
       "Checkbox(value=False, description='Bar lengths conform to The maximum bar length should be approximately 40 fe…"
      ]
     },
     "metadata": {},
     "output_type": "display_data"
    },
    {
     "data": {
      "application/vnd.jupyter.widget-view+json": {
       "model_id": "91359f4ab37947cd8bcc1015507865f7",
       "version_major": 2,
       "version_minor": 0
      },
      "text/plain": [
       "Checkbox(value=False, description='Length of the short leg of L-shaped bars less than 8\\'-0\"? See BDM 304.4.1'…"
      ]
     },
     "metadata": {},
     "output_type": "display_data"
    },
    {
     "data": {
      "application/vnd.jupyter.widget-view+json": {
       "model_id": "80ef79f6f6c74e65b629a8eec3507f01",
       "version_major": 2,
       "version_minor": 0
      },
      "text/plain": [
       "Checkbox(value=False, description='Minimum reinforcing steel provided in all faces of retaining walls and wall…"
      ]
     },
     "metadata": {},
     "output_type": "display_data"
    },
    {
     "data": {
      "application/vnd.jupyter.widget-view+json": {
       "model_id": "7b78ebdfacda4e0d953f9b17618e6587",
       "version_major": 2,
       "version_minor": 0
      },
      "text/plain": [
       "Checkbox(value=False, description='Splice and development lengths for epoxy bars conform to current AASHTO req…"
      ]
     },
     "metadata": {},
     "output_type": "display_data"
    },
    {
     "data": {
      "application/vnd.jupyter.widget-view+json": {
       "model_id": "9af11eb7a8d7444093f8a827c45b8e58",
       "version_major": 2,
       "version_minor": 0
      },
      "text/plain": [
       "Checkbox(value=False, description='All bar splice lengths shown by plan note, on plan details, combination or …"
      ]
     },
     "metadata": {},
     "output_type": "display_data"
    },
    {
     "data": {
      "application/vnd.jupyter.widget-view+json": {
       "model_id": "72cb201053e94424864b7486838a671e",
       "version_major": 2,
       "version_minor": 0
      },
      "text/plain": [
       "Checkbox(value=False, description='Bridge seat reinforcement adequately clear of bearing anchors? See BDM 306.…"
      ]
     },
     "metadata": {},
     "output_type": "display_data"
    },
    {
     "data": {
      "application/vnd.jupyter.widget-view+json": {
       "model_id": "42455506161746ed884975c4c0fed0d6",
       "version_major": 2,
       "version_minor": 0
      },
      "text/plain": [
       "Checkbox(value=False, description='Treatment of reinforcing steel appropriate at all construction, contraction…"
      ]
     },
     "metadata": {},
     "output_type": "display_data"
    },
    {
     "data": {
      "application/vnd.jupyter.widget-view+json": {
       "model_id": "1c4db0378b124573b16c75afc4335e5d",
       "version_major": 2,
       "version_minor": 0
      },
      "text/plain": [
       "Checkbox(value=False, description='Reinforcing steel in footings comply with (i.e., secondary rebars under mai…"
      ]
     },
     "metadata": {},
     "output_type": "display_data"
    },
    {
     "data": {
      "application/vnd.jupyter.widget-view+json": {
       "model_id": "80d4478cba7e4acfb53187c9b00333aa",
       "version_major": 2,
       "version_minor": 0
      },
      "text/plain": [
       "Checkbox(value=False, description='For cantilevered pier caps (T-type and cap and column), is the top layer of…"
      ]
     },
     "metadata": {},
     "output_type": "display_data"
    },
    {
     "data": {
      "application/vnd.jupyter.widget-view+json": {
       "model_id": "0bfcdb8481084783920bf5f96c1ff1a9",
       "version_major": 2,
       "version_minor": 0
      },
      "text/plain": [
       "Checkbox(value=False, description='Lateral ties between vertical bars in T-type and wall type piers as per sec…"
      ]
     },
     "metadata": {},
     "output_type": "display_data"
    },
    {
     "data": {
      "application/vnd.jupyter.widget-view+json": {
       "model_id": "3354ab1a37294bedbfd8db8b999bf269",
       "version_major": 2,
       "version_minor": 0
      },
      "text/plain": [
       "Checkbox(value=False, description='All reinforcing shall be epoxy coated? See BDM 304.4', indent=False, layout…"
      ]
     },
     "metadata": {},
     "output_type": "display_data"
    },
    {
     "data": {
      "application/vnd.jupyter.widget-view+json": {
       "model_id": "f79b22806cfd4047bef8d7c7bb68d29c",
       "version_major": 2,
       "version_minor": 0
      },
      "text/plain": [
       "Checkbox(value=False, description='Letter prefix A (abutments), P (piers), S (superstructure), SP (spirals), D…"
      ]
     },
     "metadata": {},
     "output_type": "display_data"
    },
    {
     "data": {
      "application/vnd.jupyter.widget-view+json": {
       "model_id": "f8ced5237ceb4778a59b7d9df6fa6a8e",
       "version_major": 2,
       "version_minor": 0
      },
      "text/plain": [
       "Checkbox(value=False, description='Mechanical connectors used where appropriate? See BDM 304.4.4', indent=Fals…"
      ]
     },
     "metadata": {},
     "output_type": "display_data"
    },
    {
     "data": {
      "application/vnd.jupyter.widget-view+json": {
       "model_id": "6c91b2d176df48d786988d2209887190",
       "version_major": 2,
       "version_minor": 0
      },
      "text/plain": [
       "Checkbox(value=False, description='Splices avoided at pier horizontal construction joints, except at top of fo…"
      ]
     },
     "metadata": {},
     "output_type": "display_data"
    }
   ],
   "source": [
    "# Function to display the \"reinforcing_details\" section\n",
    "def display_reinforcing_details():\n",
    "    header = widgets.HTML(\"<b><u>Reinforcing Details</u></b>\")\n",
    "    display(header)\n",
    "    checkboxes = []\n",
    "    for criterion in reinforcing_details_criteria:\n",
    "        label = criterion[\"label\"]\n",
    "        # Append \"BDM\" to the section number if available\n",
    "        if \"section\" in criterion:\n",
    "            label = f\"{label} See BDM {criterion['section']}\"\n",
    "        checkbox = widgets.Checkbox(\n",
    "            description=label,\n",
    "            value=False,\n",
    "            indent=False,\n",
    "            layout=widgets.Layout(width='100%', margin='6px 0 0 0px')\n",
    "        )\n",
    "        checkbox.style = {'description_width': '0px'}\n",
    "        checkboxes.append(checkbox)\n",
    "        display(checkbox)\n",
    "\n",
    "# Display the \"reinforcing_details\" section\n",
    "display_reinforcing_details()"
   ]
  },
  {
   "cell_type": "markdown",
   "id": "13b68d75-0fd9-484a-8385-cb743e9d4545",
   "metadata": {},
   "source": [
    "# Stage Construction"
   ]
  },
  {
   "cell_type": "markdown",
   "id": "680a537d-685f-4521-a4bf-8bf53a320171",
   "metadata": {},
   "source": [
    "Design checklist question - \n",
    "\n",
    "Does the project involve temporary shoring sheeting or railing?"
   ]
  },
  {
   "cell_type": "code",
   "execution_count": 31,
   "id": "d41f1017-fa88-4714-bf35-8d8de83fc371",
   "metadata": {},
   "outputs": [
    {
     "name": "stdout",
     "output_type": "stream",
     "text": [
      "Does the project involve any tempoary works? Select all that apply.\n"
     ]
    },
    {
     "data": {
      "application/vnd.jupyter.widget-view+json": {
       "model_id": "1494ceaf9f514ebb849bdc8bb8603dd1",
       "version_major": 2,
       "version_minor": 0
      },
      "text/plain": [
       "SelectMultiple(description='Select: ', options=(None, 'Shoring', 'Sheeting', 'Cofferdams', 'Water Diversion'),…"
      ]
     },
     "metadata": {},
     "output_type": "display_data"
    }
   ],
   "source": [
    "print('Does the project involve any tempoary works? Select all that apply.')\n",
    "\n",
    "temporary_works = widgets.SelectMultiple(\n",
    "    options=[\n",
    "        None, \n",
    "        'Shoring', \n",
    "        'Sheeting', \n",
    "        'Cofferdams', \n",
    "        'Water Diversion'\n",
    "    ],\n",
    "    value=[],\n",
    "    description='Select: ',\n",
    "    disabled=False\n",
    ")\n",
    "\n",
    "display(temporary_works)"
   ]
  },
  {
   "cell_type": "code",
   "execution_count": 32,
   "id": "cf6385b0-e52c-4607-a886-a6e6a0301332",
   "metadata": {},
   "outputs": [
    {
     "data": {
      "text/plain": [
       "()"
      ]
     },
     "execution_count": 32,
     "metadata": {},
     "output_type": "execute_result"
    }
   ],
   "source": [
    "temporary_works.value"
   ]
  },
  {
   "cell_type": "markdown",
   "id": "8db7db35-86d0-4335-9af2-b0433756ba38",
   "metadata": {},
   "source": [
    "## Typical Sections"
   ]
  },
  {
   "cell_type": "code",
   "execution_count": 33,
   "id": "981b41b2-96dc-4570-8261-bc4ad4237211",
   "metadata": {},
   "outputs": [],
   "source": [
    "# Define the typical_sections criteria\n",
    "typical_sections_criteria = [\n",
    "    {\"label\": \"Large scale typical sections of existing and proposed superstructures provided to show removal and construction stages?\"},\n",
    "    {\"label\": \"Location of cut lines and stage construction joints established with respect to primary survey line?\"},\n",
    "    {\"label\": \"Typical section of existing structure conforms to current photographs and site inspection sketches?\"},\n",
    "    {\"label\": \"Stage construction details sheet should include notes that detail the sequence of construction.\", \"section\": \"309.3.8.5\"}\n",
    "]"
   ]
  },
  {
   "cell_type": "code",
   "execution_count": 34,
   "id": "d0dad188-22b6-4a70-8e1d-829221936636",
   "metadata": {},
   "outputs": [
    {
     "data": {
      "application/vnd.jupyter.widget-view+json": {
       "model_id": "632bd2683b4d4c5a9cbf397a15ff2ae3",
       "version_major": 2,
       "version_minor": 0
      },
      "text/plain": [
       "HTML(value='<b><u>Typical Sections</u></b>')"
      ]
     },
     "metadata": {},
     "output_type": "display_data"
    },
    {
     "data": {
      "application/vnd.jupyter.widget-view+json": {
       "model_id": "16d3465e321043f6865c9482fb4b8217",
       "version_major": 2,
       "version_minor": 0
      },
      "text/plain": [
       "Checkbox(value=False, description='Large scale typical sections of existing and proposed superstructures provi…"
      ]
     },
     "metadata": {},
     "output_type": "display_data"
    },
    {
     "data": {
      "application/vnd.jupyter.widget-view+json": {
       "model_id": "4f6d61e374484b3e8209e7e97be2fa3f",
       "version_major": 2,
       "version_minor": 0
      },
      "text/plain": [
       "Checkbox(value=False, description='Location of cut lines and stage construction joints established with respec…"
      ]
     },
     "metadata": {},
     "output_type": "display_data"
    },
    {
     "data": {
      "application/vnd.jupyter.widget-view+json": {
       "model_id": "470ff99c3ddd4a87aa7efa4295595c65",
       "version_major": 2,
       "version_minor": 0
      },
      "text/plain": [
       "Checkbox(value=False, description='Typical section of existing structure conforms to current photographs and s…"
      ]
     },
     "metadata": {},
     "output_type": "display_data"
    },
    {
     "data": {
      "application/vnd.jupyter.widget-view+json": {
       "model_id": "7a2c07afd07440bdaa627b6ad5f0a716",
       "version_major": 2,
       "version_minor": 0
      },
      "text/plain": [
       "Checkbox(value=False, description='Stage construction details sheet should include notes that detail the seque…"
      ]
     },
     "metadata": {},
     "output_type": "display_data"
    }
   ],
   "source": [
    "# Function to display the \"typical_sections\" section\n",
    "def display_typical_sections():\n",
    "    header = widgets.HTML(\"<b><u>Typical Sections</u></b>\")\n",
    "    display(header)\n",
    "    checkboxes = []\n",
    "    for criterion in typical_sections_criteria:\n",
    "        label = criterion[\"label\"]\n",
    "        # Use the updated label format if \"section\" exists\n",
    "        if \"section\" in criterion:\n",
    "            label = f\"{label} See BDM {criterion['section']}\"\n",
    "        checkbox = widgets.Checkbox(\n",
    "            description=label,\n",
    "            value=False,\n",
    "            indent=False,\n",
    "            layout=widgets.Layout(width='100%', margin='6px 0 0 0px')\n",
    "        )\n",
    "        checkbox.style = {'description_width': '0px'}\n",
    "        checkboxes.append(checkbox)\n",
    "        display(checkbox)\n",
    "\n",
    "# Display the \"typical_sections\" section\n",
    "display_typical_sections()"
   ]
  },
  {
   "cell_type": "markdown",
   "id": "96a9aa8d-b80b-4f25-83f3-178cce0ce4bb",
   "metadata": {},
   "source": [
    "## Part Plan Views"
   ]
  },
  {
   "cell_type": "code",
   "execution_count": 35,
   "id": "3735e84b-a920-4e8d-b391-cb5ff88e1432",
   "metadata": {},
   "outputs": [],
   "source": [
    "# Define the part_plan_views criteria\n",
    "part_plan_views_criteria = [\n",
    "    {\"label\": \"Part Plan views provided to show the relative relationship of the existing and proposed abutments during Stage 1 construction and relevant basic dimensions and clearances?\"},\n",
    "    {\"label\": \"Sufficient room provided between temporary sheeting and proposed abutment for form construction and removal?\"},\n",
    "    {\"label\": \"Sufficient room provided for pile driving?\"}\n",
    "]"
   ]
  },
  {
   "cell_type": "code",
   "execution_count": 36,
   "id": "847a96cb-4d69-456c-9626-f790681817fe",
   "metadata": {},
   "outputs": [
    {
     "data": {
      "application/vnd.jupyter.widget-view+json": {
       "model_id": "d4d76dab6edc4165be773057ba73f109",
       "version_major": 2,
       "version_minor": 0
      },
      "text/plain": [
       "HTML(value='<b><u>Part Plan Views</u></b>')"
      ]
     },
     "metadata": {},
     "output_type": "display_data"
    },
    {
     "data": {
      "application/vnd.jupyter.widget-view+json": {
       "model_id": "51c1b34931c145af8a452a3c378e960f",
       "version_major": 2,
       "version_minor": 0
      },
      "text/plain": [
       "Checkbox(value=False, description='Part Plan views provided to show the relative relationship of the existing …"
      ]
     },
     "metadata": {},
     "output_type": "display_data"
    },
    {
     "data": {
      "application/vnd.jupyter.widget-view+json": {
       "model_id": "f28959b3e65841fb82afcd27cdea4e54",
       "version_major": 2,
       "version_minor": 0
      },
      "text/plain": [
       "Checkbox(value=False, description='Sufficient room provided between temporary sheeting and proposed abutment f…"
      ]
     },
     "metadata": {},
     "output_type": "display_data"
    },
    {
     "data": {
      "application/vnd.jupyter.widget-view+json": {
       "model_id": "406fbde2d8c24297ae7bb54277dfad65",
       "version_major": 2,
       "version_minor": 0
      },
      "text/plain": [
       "Checkbox(value=False, description='Sufficient room provided for pile driving?', indent=False, layout=Layout(ma…"
      ]
     },
     "metadata": {},
     "output_type": "display_data"
    }
   ],
   "source": [
    "# Function to display the \"part_plan_views\" section\n",
    "def display_part_plan_views():\n",
    "    header = widgets.HTML(\"<b><u>Part Plan Views</u></b>\")\n",
    "    display(header)\n",
    "    checkboxes = []\n",
    "    for criterion in part_plan_views_criteria:\n",
    "        label = criterion[\"label\"]\n",
    "        # Since no \"section\" field is provided, no additional formatting is required\n",
    "        checkbox = widgets.Checkbox(\n",
    "            description=label,\n",
    "            value=False,\n",
    "            indent=False,\n",
    "            layout=widgets.Layout(width='100%', margin='6px 0 0 0px')\n",
    "        )\n",
    "        checkbox.style = {'description_width': '0px'}\n",
    "        checkboxes.append(checkbox)\n",
    "        display(checkbox)\n",
    "\n",
    "# Display the \"part_plan_views\" section\n",
    "display_part_plan_views()"
   ]
  },
  {
   "cell_type": "markdown",
   "id": "4f73c2c5-5a51-4ff1-9f08-5fb85f796503",
   "metadata": {},
   "source": [
    "## Temporary Sheeting"
   ]
  },
  {
   "cell_type": "code",
   "execution_count": 37,
   "id": "a24f1441-3763-4879-a722-2f6700d85d32",
   "metadata": {},
   "outputs": [],
   "source": [
    "# Define the temporary_sheeting criteria\n",
    "temporary_sheeting_criteria = [\n",
    "    {\"label\": \"Consultant designed sheeting details provided in the plan when traffic is being maintained and the height of the retained earth is over 8 feet\", \"section\": \"310.1.1.2\"},\n",
    "    {\"label\": \"Temporary sheeting shown on the Site Plan and/or General Plan?\"},\n",
    "    {\"label\": \"Cofferdams and Excavation Bracing item provided in quantities?\"},\n",
    "    {\"label\": \"Tentative location of temporary sheeting shown on abutment plan views to retain backfill and permit partial removal and excavation for proposed construction?\"}\n",
    "]"
   ]
  },
  {
   "cell_type": "code",
   "execution_count": 38,
   "id": "c403d3d4-8763-430f-94e6-e04cca32a369",
   "metadata": {},
   "outputs": [
    {
     "data": {
      "application/vnd.jupyter.widget-view+json": {
       "model_id": "062f914406a34c04bf00a9fd24fb77af",
       "version_major": 2,
       "version_minor": 0
      },
      "text/plain": [
       "HTML(value='<b><u>Temporary Sheeting</u></b>')"
      ]
     },
     "metadata": {},
     "output_type": "display_data"
    },
    {
     "data": {
      "application/vnd.jupyter.widget-view+json": {
       "model_id": "8ac0d5bea1c841f09f7ccc2935739053",
       "version_major": 2,
       "version_minor": 0
      },
      "text/plain": [
       "Checkbox(value=False, description='Consultant designed sheeting details provided in the plan when traffic is b…"
      ]
     },
     "metadata": {},
     "output_type": "display_data"
    },
    {
     "data": {
      "application/vnd.jupyter.widget-view+json": {
       "model_id": "362dd3b2e1354de18732f61f730e7d17",
       "version_major": 2,
       "version_minor": 0
      },
      "text/plain": [
       "Checkbox(value=False, description='Temporary sheeting shown on the Site Plan and/or General Plan?', indent=Fal…"
      ]
     },
     "metadata": {},
     "output_type": "display_data"
    },
    {
     "data": {
      "application/vnd.jupyter.widget-view+json": {
       "model_id": "03dad2c3d0d84045b587b665151a6751",
       "version_major": 2,
       "version_minor": 0
      },
      "text/plain": [
       "Checkbox(value=False, description='Cofferdams and Excavation Bracing item provided in quantities?', indent=Fal…"
      ]
     },
     "metadata": {},
     "output_type": "display_data"
    },
    {
     "data": {
      "application/vnd.jupyter.widget-view+json": {
       "model_id": "4fc8567e31b6455f8bdc389124729f2c",
       "version_major": 2,
       "version_minor": 0
      },
      "text/plain": [
       "Checkbox(value=False, description='Tentative location of temporary sheeting shown on abutment plan views to re…"
      ]
     },
     "metadata": {},
     "output_type": "display_data"
    }
   ],
   "source": [
    "# Function to display the \"temporary_sheeting\" section\n",
    "def display_temporary_sheeting():\n",
    "    header = widgets.HTML(\"<b><u>Temporary Sheeting</u></b>\")\n",
    "    display(header)\n",
    "    checkboxes = []\n",
    "    for criterion in temporary_sheeting_criteria:\n",
    "        label = criterion[\"label\"]\n",
    "        # Use the specified label format if \"section\" exists\n",
    "        if \"section\" in criterion:\n",
    "            label = f\"{label} See BDM {criterion['section']}\"\n",
    "        checkbox = widgets.Checkbox(\n",
    "            description=label,\n",
    "            value=False,\n",
    "            indent=False,\n",
    "            layout=widgets.Layout(width='100%', margin='6px 0 0 0px')\n",
    "        )\n",
    "        checkbox.style = {'description_width': '0px'}\n",
    "        checkboxes.append(checkbox)\n",
    "        display(checkbox)\n",
    "\n",
    "# Display the \"temporary_sheeting\" section\n",
    "display_temporary_sheeting()"
   ]
  },
  {
   "cell_type": "markdown",
   "id": "2cce4e72-e5a3-4764-9fd0-0a851c02c0a3",
   "metadata": {},
   "source": [
    "## Temporary Railing"
   ]
  },
  {
   "cell_type": "code",
   "execution_count": 39,
   "id": "aafa362b-7869-490a-a6db-273cfea31a91",
   "metadata": {},
   "outputs": [],
   "source": [
    "# Define the temporary_railing criteria\n",
    "temporary_railing_criteria = [\n",
    "    {\"label\": \"Reference for barrier details given to Standard Drawing PCB-91?\"},\n",
    "    {\"label\": \"Barrier anchors provided not less than two per segment for barriers located less than 6'- 0\\\" from the edge of deck for bridges over roadways, railroad, or recreational areas: or less than 1'-0\\\" from the edge of the deck for other bridge application (PCB-DD)?\"},\n",
    "    {\"label\": \"Double the number of anchor if the barrier location is less than 1 foot. (PCB-DD)?\"},\n",
    "    {\"label\": \"Complete details given for temporary steel railing?\"}\n",
    "]"
   ]
  },
  {
   "cell_type": "code",
   "execution_count": 40,
   "id": "a5df2464-a63d-4e7c-993e-76ecc8768fde",
   "metadata": {},
   "outputs": [
    {
     "data": {
      "application/vnd.jupyter.widget-view+json": {
       "model_id": "76ef34fa832f463e84521e2cee27317f",
       "version_major": 2,
       "version_minor": 0
      },
      "text/plain": [
       "HTML(value='<b><u>Temporary Railing</u></b>')"
      ]
     },
     "metadata": {},
     "output_type": "display_data"
    },
    {
     "data": {
      "application/vnd.jupyter.widget-view+json": {
       "model_id": "d647b15e9c404803a83fd42171d96ae2",
       "version_major": 2,
       "version_minor": 0
      },
      "text/plain": [
       "Checkbox(value=False, description='Reference for barrier details given to Standard Drawing PCB-91?', indent=Fa…"
      ]
     },
     "metadata": {},
     "output_type": "display_data"
    },
    {
     "data": {
      "application/vnd.jupyter.widget-view+json": {
       "model_id": "478f5a626359410781ad06714be68e84",
       "version_major": 2,
       "version_minor": 0
      },
      "text/plain": [
       "Checkbox(value=False, description='Barrier anchors provided not less than two per segment for barriers located…"
      ]
     },
     "metadata": {},
     "output_type": "display_data"
    },
    {
     "data": {
      "application/vnd.jupyter.widget-view+json": {
       "model_id": "f2ff3ad98e884459acae1af0cc99d4ec",
       "version_major": 2,
       "version_minor": 0
      },
      "text/plain": [
       "Checkbox(value=False, description='Double the number of anchor if the barrier location is less than 1 foot. (P…"
      ]
     },
     "metadata": {},
     "output_type": "display_data"
    },
    {
     "data": {
      "application/vnd.jupyter.widget-view+json": {
       "model_id": "bf8c6ce1487544f2a6c27b0e0f81f987",
       "version_major": 2,
       "version_minor": 0
      },
      "text/plain": [
       "Checkbox(value=False, description='Complete details given for temporary steel railing?', indent=False, layout=…"
      ]
     },
     "metadata": {},
     "output_type": "display_data"
    }
   ],
   "source": [
    "# Function to display the \"temporary_railing\" section\n",
    "def display_temporary_railing():\n",
    "    header = widgets.HTML(\"<b><u>Temporary Railing</u></b>\")\n",
    "    display(header)\n",
    "    checkboxes = []\n",
    "    for criterion in temporary_railing_criteria:\n",
    "        label = criterion[\"label\"]\n",
    "        # No \"section\" field exists, so we simply use the label as-is\n",
    "        checkbox = widgets.Checkbox(\n",
    "            description=label,\n",
    "            value=False,\n",
    "            indent=False,\n",
    "            layout=widgets.Layout(width='100%', margin='6px 0 0 0px')\n",
    "        )\n",
    "        checkbox.style = {'description_width': '0px'}\n",
    "        checkboxes.append(checkbox)\n",
    "        display(checkbox)\n",
    "\n",
    "# Display the \"temporary_railing\" section\n",
    "display_temporary_railing()"
   ]
  },
  {
   "cell_type": "markdown",
   "id": "f82bd02c-5cf6-41fd-b9a5-de03bfa60eec",
   "metadata": {},
   "source": [
    "## Slab Bridges"
   ]
  },
  {
   "cell_type": "code",
   "execution_count": 41,
   "id": "18e0e085-499f-4c86-8755-13b9e3a7bc5a",
   "metadata": {},
   "outputs": [],
   "source": [
    "# Define the slab_bridges criteria\n",
    "slab_bridges_criteria = [\n",
    "    {\"label\": \"Slab removal cut lines lie transverse to primary slab reinforcing steel?\", \"section\": \"BDM201.2.6, 404.5\"},\n",
    "    {\"label\": \"Temporary slab supports provided for such slabs\", \"section\": \"310.1.2\"},\n",
    "    {\"label\": \"Both stages of slab bridges supported by false work until second stage slab concrete has fully cured before false work is released (to avoid the use of a third stage closure section and high dead load shear forces on stage construction joints due to the premature release of false work)? (False work should be designed for live load)\"}\n",
    "]"
   ]
  },
  {
   "cell_type": "code",
   "execution_count": 42,
   "id": "3e9762a7-a1cf-4e73-a272-d67c35131cd9",
   "metadata": {},
   "outputs": [
    {
     "data": {
      "application/vnd.jupyter.widget-view+json": {
       "model_id": "842f6143fc3a436dad0f93d31f7313e5",
       "version_major": 2,
       "version_minor": 0
      },
      "text/plain": [
       "HTML(value='<b><u>Slab Bridges</u></b>')"
      ]
     },
     "metadata": {},
     "output_type": "display_data"
    },
    {
     "data": {
      "application/vnd.jupyter.widget-view+json": {
       "model_id": "d1b6e37dbe4945aca43739d88c478301",
       "version_major": 2,
       "version_minor": 0
      },
      "text/plain": [
       "Checkbox(value=False, description='Slab removal cut lines lie transverse to primary slab reinforcing steel? Se…"
      ]
     },
     "metadata": {},
     "output_type": "display_data"
    },
    {
     "data": {
      "application/vnd.jupyter.widget-view+json": {
       "model_id": "e4cc6ed8cc8e4b8fa0b41f421b29f4b5",
       "version_major": 2,
       "version_minor": 0
      },
      "text/plain": [
       "Checkbox(value=False, description='Temporary slab supports provided for such slabs See BDM 310.1.2', indent=Fa…"
      ]
     },
     "metadata": {},
     "output_type": "display_data"
    },
    {
     "data": {
      "application/vnd.jupyter.widget-view+json": {
       "model_id": "34c383e6e2874b8ab4c9ea6956b89872",
       "version_major": 2,
       "version_minor": 0
      },
      "text/plain": [
       "Checkbox(value=False, description='Both stages of slab bridges supported by false work until second stage slab…"
      ]
     },
     "metadata": {},
     "output_type": "display_data"
    }
   ],
   "source": [
    "# Function to display the \"slab_bridges\" section\n",
    "def display_slab_bridges():\n",
    "    header = widgets.HTML(\"<b><u>Slab Bridges</u></b>\")\n",
    "    display(header)\n",
    "    checkboxes = []\n",
    "    for criterion in slab_bridges_criteria:\n",
    "        label = criterion[\"label\"]\n",
    "        # Append \"See BDM {section}\" if \"section\" field exists\n",
    "        if \"section\" in criterion:\n",
    "            label = f\"{label} See BDM {criterion['section']}\"\n",
    "        checkbox = widgets.Checkbox(\n",
    "            description=label,\n",
    "            value=False,\n",
    "            indent=False,\n",
    "            layout=widgets.Layout(width='100%', margin='6px 0 0 0px')\n",
    "        )\n",
    "        checkbox.style = {'description_width': '0px'}\n",
    "        checkboxes.append(checkbox)\n",
    "        display(checkbox)\n",
    "\n",
    "# Display the \"slab_bridges\" section\n",
    "display_slab_bridges()"
   ]
  },
  {
   "cell_type": "markdown",
   "id": "3a4a3f1f-16ee-4c37-9326-6d3d8c872ca0",
   "metadata": {},
   "source": [
    "## Lateral Restraint"
   ]
  },
  {
   "cell_type": "code",
   "execution_count": 43,
   "id": "4fd3df5d-94cb-40cb-b7c3-4f615f13e122",
   "metadata": {},
   "outputs": [],
   "source": [
    "# Define the lateral_restraint criteria\n",
    "lateral_restraint_criteria = [\n",
    "    {\"label\": \"Temporary lateral restraint provided to prevent rotational movement of the first stage superstructures of semi-integral bridges towards the unrestrained (no guide bearing) acute corners at stage construction joints?\"},\n",
    "    {\"label\": \"For re-decking an existing structure without a closure section, a deck slab placement procedure provided requiring relatively complete second stage deck placement before placement of second stage integral end-diaphragms?\"},\n",
    "    {\"label\": \"Semi-Integral Abutment Diaphragm Guide provided as per standard drawing SICD-2-14.\"}\n",
    "]"
   ]
  },
  {
   "cell_type": "code",
   "execution_count": 44,
   "id": "6b4152b5-5e40-4d83-a750-fc15ce8682a2",
   "metadata": {},
   "outputs": [
    {
     "data": {
      "application/vnd.jupyter.widget-view+json": {
       "model_id": "8e3a4369bec04c2dac3df6232f3e9cf8",
       "version_major": 2,
       "version_minor": 0
      },
      "text/plain": [
       "HTML(value='<b><u>Lateral Restraint</u></b>')"
      ]
     },
     "metadata": {},
     "output_type": "display_data"
    },
    {
     "data": {
      "application/vnd.jupyter.widget-view+json": {
       "model_id": "681098de79ab411fb77c51cfe5653ff9",
       "version_major": 2,
       "version_minor": 0
      },
      "text/plain": [
       "Checkbox(value=False, description='Temporary lateral restraint provided to prevent rotational movement of the …"
      ]
     },
     "metadata": {},
     "output_type": "display_data"
    },
    {
     "data": {
      "application/vnd.jupyter.widget-view+json": {
       "model_id": "37f005719e7a4eba86a9e24b0a738260",
       "version_major": 2,
       "version_minor": 0
      },
      "text/plain": [
       "Checkbox(value=False, description='For re-decking an existing structure without a closure section, a deck slab…"
      ]
     },
     "metadata": {},
     "output_type": "display_data"
    },
    {
     "data": {
      "application/vnd.jupyter.widget-view+json": {
       "model_id": "d76f90a629e14ebbb02b314323543aa1",
       "version_major": 2,
       "version_minor": 0
      },
      "text/plain": [
       "Checkbox(value=False, description='Semi-Integral Abutment Diaphragm Guide provided as per standard drawing SIC…"
      ]
     },
     "metadata": {},
     "output_type": "display_data"
    }
   ],
   "source": [
    "# Function to display the \"lateral_restraint\" section\n",
    "def display_lateral_restraint():\n",
    "    header = widgets.HTML(\"<b><u>Lateral Restraint</u></b>\")\n",
    "    display(header)\n",
    "    checkboxes = []\n",
    "    for criterion in lateral_restraint_criteria:\n",
    "        label = criterion[\"label\"]\n",
    "        # Since no \"section\" exists, we use the label as-is\n",
    "        checkbox = widgets.Checkbox(\n",
    "            description=label,\n",
    "            value=False,\n",
    "            indent=False,\n",
    "            layout=widgets.Layout(width='100%', margin='6px 0 0 0px')\n",
    "        )\n",
    "        checkbox.style = {'description_width': '0px'}\n",
    "        checkboxes.append(checkbox)\n",
    "        display(checkbox)\n",
    "\n",
    "# Display the \"lateral_restraint\" section\n",
    "display_lateral_restraint()"
   ]
  },
  {
   "cell_type": "markdown",
   "id": "5265ac43-c921-4728-ba4a-59692e181abd",
   "metadata": {},
   "source": [
    "## End Dams"
   ]
  },
  {
   "cell_type": "code",
   "execution_count": 45,
   "id": "0263cbbc-a7a5-455f-80ac-22bfe7ba1f61",
   "metadata": {},
   "outputs": [],
   "source": [
    "# Define the end_dams criteria\n",
    "end_dams_criteria = [\n",
    "    {\"label\": \"Full penetration butt-welded field splices provided at or near stage construction joints for superstructure portion of the end dams?\"},\n",
    "    {\"label\": \"Bolted field splices provided for the abutment portion?\"},\n",
    "    {\"label\": \"Offset between the two splices provided to facilitate butt-welding?\"},\n",
    "    {\"label\": \"Superstructure splice located to clear beam flanges and cross frames gusset plates?\"}\n",
    "]"
   ]
  },
  {
   "cell_type": "code",
   "execution_count": 46,
   "id": "0128cb3f-30d3-49c7-ab04-6fb7c45d4b48",
   "metadata": {},
   "outputs": [
    {
     "data": {
      "application/vnd.jupyter.widget-view+json": {
       "model_id": "30b8ec03b7b248e0bf810f4516a2f3b9",
       "version_major": 2,
       "version_minor": 0
      },
      "text/plain": [
       "HTML(value='<b><u>End Dams</u></b>')"
      ]
     },
     "metadata": {},
     "output_type": "display_data"
    },
    {
     "data": {
      "application/vnd.jupyter.widget-view+json": {
       "model_id": "2183c7185c5443f49ba93b6d0edfb4c9",
       "version_major": 2,
       "version_minor": 0
      },
      "text/plain": [
       "Checkbox(value=False, description='Full penetration butt-welded field splices provided at or near stage constr…"
      ]
     },
     "metadata": {},
     "output_type": "display_data"
    },
    {
     "data": {
      "application/vnd.jupyter.widget-view+json": {
       "model_id": "9d424e00faaf4959bc5a27406c2b3ff5",
       "version_major": 2,
       "version_minor": 0
      },
      "text/plain": [
       "Checkbox(value=False, description='Bolted field splices provided for the abutment portion?', indent=False, lay…"
      ]
     },
     "metadata": {},
     "output_type": "display_data"
    },
    {
     "data": {
      "application/vnd.jupyter.widget-view+json": {
       "model_id": "441d28a3cf4e44b598d92069d6eccc32",
       "version_major": 2,
       "version_minor": 0
      },
      "text/plain": [
       "Checkbox(value=False, description='Offset between the two splices provided to facilitate butt-welding?', inden…"
      ]
     },
     "metadata": {},
     "output_type": "display_data"
    },
    {
     "data": {
      "application/vnd.jupyter.widget-view+json": {
       "model_id": "fe781f5908654708b10b416376768d04",
       "version_major": 2,
       "version_minor": 0
      },
      "text/plain": [
       "Checkbox(value=False, description='Superstructure splice located to clear beam flanges and cross frames gusset…"
      ]
     },
     "metadata": {},
     "output_type": "display_data"
    }
   ],
   "source": [
    "# Function to display the \"end_dams\" section\n",
    "def display_end_dams():\n",
    "    header = widgets.HTML(\"<b><u>End Dams</u></b>\")\n",
    "    display(header)\n",
    "    checkboxes = []\n",
    "    for criterion in end_dams_criteria:\n",
    "        label = criterion[\"label\"]\n",
    "        # Display the label directly as no \"section\" field exists\n",
    "        checkbox = widgets.Checkbox(\n",
    "            description=label,\n",
    "            value=False,\n",
    "            indent=False,\n",
    "            layout=widgets.Layout(width='100%', margin='6px 0 0 0px')\n",
    "        )\n",
    "        checkbox.style = {'description_width': '0px'}\n",
    "        checkboxes.append(checkbox)\n",
    "        display(checkbox)\n",
    "\n",
    "# Display the \"end_dams\" section\n",
    "display_end_dams()"
   ]
  },
  {
   "cell_type": "markdown",
   "id": "95d76f1e-97b1-4fff-ba34-6c758b37e30f",
   "metadata": {},
   "source": [
    "## Stage Construction - Miscellaneous"
   ]
  },
  {
   "cell_type": "code",
   "execution_count": 47,
   "id": "d918f9d0-a0df-4f9d-91d0-14fd90f29bd7",
   "metadata": {},
   "outputs": [],
   "source": [
    "# Define the stage_cons_misc criteria\n",
    "stage_cons_misc_criteria = [\n",
    "    {\"label\": \"Removal limits clearly shown or are apparent? Cross-hatching used to designate removal areas?\"},\n",
    "    {\"label\": \"Removal Cut lines: Full-depth saw cut-lines specified for deck slab removals where the integrity of the slab is needed to support temporary railing? Cut-lines shown on plan and/or elevation views of substructure?\", \"section\": \"201.2.6\"},\n",
    "    {\"label\": \"Construction Access: Adequate space provided between Stage 1 construction and the remainder of the existing structure for temporary sheeting and form construction?\"},\n",
    "    {\"label\": \"Closure Placements: 2'-6\\\" minimum wide third stage closure section provided for “new\\\" stringer superstructures?\", \"section\": \"309.3.8.5\"},\n",
    "    {\"label\": \"Are stage construction joints shown in all relevant views?\"},\n",
    "    {\"label\": \"Cofferdam Sheeting: Vertical clearance available under 20 + feet) and/or adjacent to the existing structure to permit driving sheeting? Plan details shown tentative position of such sheeting where clearances are tight?\"},\n",
    "    {\"label\": \"Provisions made for the complete or partial removal of temporary railing anchors and the grouting of resulting voids?\"},\n",
    "    {\"label\": \"Roadway Item 614: Note provided referring to roadway plans for other temporary railing details and to Item 614 (roadway plans) for payment?\"},\n",
    "    {\"label\": \"Approach slab details provided showing the same railing type as used on the bridge and with the same limiting edge clearances and/or anchorage (unless a different type of anchorage has been provided)?\"},\n",
    "    {\"label\": \"Joint Type: An expansion or contraction joint used in lieu of a stage \\\"construction\\\" joint to simplify construction by eliminated lap splicing or mechanical connector splicing of reinforcing steel, where appropriate? (Abutment back walls, breast walls and certain pier walls, etc.)\"},\n",
    "    {\"label\": \"Differential Shear: Vertical construction joints provided with shear keys and generous transverse reinforcement to resist the potentially high shear forces induced by differential deformation of foundations (piles, soil, etc.)? Formed joint surfaces artificially roughened to improve shear resistance\", \"section\": \"LRFD 5.8.4\"},\n",
    "    {\"label\": \"Battered Piles: Room adjacent to the existing structure to drive piles? Batter piles? New piles clear existing battered piles? Sufficient room available for pile length and leads to position batter piles for driving?\"},\n",
    "    {\"label\": \"Screed Elevations: The presence or absence of cross frames at stage construction joints on stringer deflection taken into account when establishing screed elevations at stage construction joints.\"},\n",
    "    {\"label\": \"Integral Construction: Closure sections provided in bridges for both the deck slab and integral end-diaphragms?\", \"section\": \"306.2.2.5\"},\n",
    "    {\"label\": \"Elastomer Seals: Note provided requiring seals for each joint to be installed in one continuous piece?\"},\n",
    "    {\"label\": \"Drain Pipes: Abut porous backfill drain pipes terminated and capped on both sides of temporary sheeting?\"},\n",
    "    {\"label\": \"Utility conduits located clear of stage construction joints and temporary sheeting?\"},\n",
    "    {\"label\": \"The design for adhesive concrete anchors shall be in accordance with AASHTO LRFD Section 513.\"}\n",
    "]"
   ]
  },
  {
   "cell_type": "code",
   "execution_count": 48,
   "id": "550bf145-9387-41b5-8229-f31f8f35d4f7",
   "metadata": {},
   "outputs": [
    {
     "data": {
      "application/vnd.jupyter.widget-view+json": {
       "model_id": "167fba4c60b84a49b9967bb51405f2a8",
       "version_major": 2,
       "version_minor": 0
      },
      "text/plain": [
       "HTML(value='<b><u>Stage Construction: Miscellaneous</u></b>')"
      ]
     },
     "metadata": {},
     "output_type": "display_data"
    },
    {
     "data": {
      "application/vnd.jupyter.widget-view+json": {
       "model_id": "a0f4c6d7704c418fbd51e078d8021a33",
       "version_major": 2,
       "version_minor": 0
      },
      "text/plain": [
       "Checkbox(value=False, description='Removal limits clearly shown or are apparent? Cross-hatching used to design…"
      ]
     },
     "metadata": {},
     "output_type": "display_data"
    },
    {
     "data": {
      "application/vnd.jupyter.widget-view+json": {
       "model_id": "ba1f259befad4364b9f2dd2bd6ec1177",
       "version_major": 2,
       "version_minor": 0
      },
      "text/plain": [
       "Checkbox(value=False, description='Removal Cut lines: Full-depth saw cut-lines specified for deck slab removal…"
      ]
     },
     "metadata": {},
     "output_type": "display_data"
    },
    {
     "data": {
      "application/vnd.jupyter.widget-view+json": {
       "model_id": "7a8a9082bfff4a89b6736ac9a27ec49d",
       "version_major": 2,
       "version_minor": 0
      },
      "text/plain": [
       "Checkbox(value=False, description='Construction Access: Adequate space provided between Stage 1 construction a…"
      ]
     },
     "metadata": {},
     "output_type": "display_data"
    },
    {
     "data": {
      "application/vnd.jupyter.widget-view+json": {
       "model_id": "4b6262cf3bb54f82b89ccce4fdc4c182",
       "version_major": 2,
       "version_minor": 0
      },
      "text/plain": [
       "Checkbox(value=False, description='Closure Placements: 2\\'-6\" minimum wide third stage closure section provide…"
      ]
     },
     "metadata": {},
     "output_type": "display_data"
    },
    {
     "data": {
      "application/vnd.jupyter.widget-view+json": {
       "model_id": "89506c9a25a84958ba097130c0d5b209",
       "version_major": 2,
       "version_minor": 0
      },
      "text/plain": [
       "Checkbox(value=False, description='Are stage construction joints shown in all relevant views?', indent=False, …"
      ]
     },
     "metadata": {},
     "output_type": "display_data"
    },
    {
     "data": {
      "application/vnd.jupyter.widget-view+json": {
       "model_id": "d56650001a974a84b90db1dfaa9a7c4d",
       "version_major": 2,
       "version_minor": 0
      },
      "text/plain": [
       "Checkbox(value=False, description='Cofferdam Sheeting: Vertical clearance available under 20 + feet) and/or ad…"
      ]
     },
     "metadata": {},
     "output_type": "display_data"
    },
    {
     "data": {
      "application/vnd.jupyter.widget-view+json": {
       "model_id": "6534df1ae8ba43b289106071d3db04c9",
       "version_major": 2,
       "version_minor": 0
      },
      "text/plain": [
       "Checkbox(value=False, description='Provisions made for the complete or partial removal of temporary railing an…"
      ]
     },
     "metadata": {},
     "output_type": "display_data"
    },
    {
     "data": {
      "application/vnd.jupyter.widget-view+json": {
       "model_id": "91d8001d80c94a979be270eac5dedd8c",
       "version_major": 2,
       "version_minor": 0
      },
      "text/plain": [
       "Checkbox(value=False, description='Roadway Item 614: Note provided referring to roadway plans for other tempor…"
      ]
     },
     "metadata": {},
     "output_type": "display_data"
    },
    {
     "data": {
      "application/vnd.jupyter.widget-view+json": {
       "model_id": "a2d5e876d30f4f65b168edd518124b1d",
       "version_major": 2,
       "version_minor": 0
      },
      "text/plain": [
       "Checkbox(value=False, description='Approach slab details provided showing the same railing type as used on the…"
      ]
     },
     "metadata": {},
     "output_type": "display_data"
    },
    {
     "data": {
      "application/vnd.jupyter.widget-view+json": {
       "model_id": "28c7c822a1b4408f9cded188d9c255e0",
       "version_major": 2,
       "version_minor": 0
      },
      "text/plain": [
       "Checkbox(value=False, description='Joint Type: An expansion or contraction joint used in lieu of a stage \"cons…"
      ]
     },
     "metadata": {},
     "output_type": "display_data"
    },
    {
     "data": {
      "application/vnd.jupyter.widget-view+json": {
       "model_id": "de316610f51347c180b01de3f17873b2",
       "version_major": 2,
       "version_minor": 0
      },
      "text/plain": [
       "Checkbox(value=False, description='Differential Shear: Vertical construction joints provided with shear keys a…"
      ]
     },
     "metadata": {},
     "output_type": "display_data"
    },
    {
     "data": {
      "application/vnd.jupyter.widget-view+json": {
       "model_id": "525791603fa941fdb2102bc1fd64c4b9",
       "version_major": 2,
       "version_minor": 0
      },
      "text/plain": [
       "Checkbox(value=False, description='Battered Piles: Room adjacent to the existing structure to drive piles? Bat…"
      ]
     },
     "metadata": {},
     "output_type": "display_data"
    },
    {
     "data": {
      "application/vnd.jupyter.widget-view+json": {
       "model_id": "668e6f5b4f3d4008847a09cf8eb57588",
       "version_major": 2,
       "version_minor": 0
      },
      "text/plain": [
       "Checkbox(value=False, description='Screed Elevations: The presence or absence of cross frames at stage constru…"
      ]
     },
     "metadata": {},
     "output_type": "display_data"
    },
    {
     "data": {
      "application/vnd.jupyter.widget-view+json": {
       "model_id": "230535e888fc43c58a2c03276b94e722",
       "version_major": 2,
       "version_minor": 0
      },
      "text/plain": [
       "Checkbox(value=False, description='Integral Construction: Closure sections provided in bridges for both the de…"
      ]
     },
     "metadata": {},
     "output_type": "display_data"
    },
    {
     "data": {
      "application/vnd.jupyter.widget-view+json": {
       "model_id": "84b5fd95785d4759a378dc2d0c222a89",
       "version_major": 2,
       "version_minor": 0
      },
      "text/plain": [
       "Checkbox(value=False, description='Elastomer Seals: Note provided requiring seals for each joint to be install…"
      ]
     },
     "metadata": {},
     "output_type": "display_data"
    },
    {
     "data": {
      "application/vnd.jupyter.widget-view+json": {
       "model_id": "578ab714340242d0b0c8602b8c660007",
       "version_major": 2,
       "version_minor": 0
      },
      "text/plain": [
       "Checkbox(value=False, description='Drain Pipes: Abut porous backfill drain pipes terminated and capped on both…"
      ]
     },
     "metadata": {},
     "output_type": "display_data"
    },
    {
     "data": {
      "application/vnd.jupyter.widget-view+json": {
       "model_id": "422b9a003ea84374a8dce6de2a3c4530",
       "version_major": 2,
       "version_minor": 0
      },
      "text/plain": [
       "Checkbox(value=False, description='Utility conduits located clear of stage construction joints and temporary s…"
      ]
     },
     "metadata": {},
     "output_type": "display_data"
    },
    {
     "data": {
      "application/vnd.jupyter.widget-view+json": {
       "model_id": "37bf3e0253194e3598611c73465624fb",
       "version_major": 2,
       "version_minor": 0
      },
      "text/plain": [
       "Checkbox(value=False, description='The design for adhesive concrete anchors shall be in accordance with AASHTO…"
      ]
     },
     "metadata": {},
     "output_type": "display_data"
    }
   ],
   "source": [
    "# Function to display the \"stage_cons_misc\" section\n",
    "def display_stage_cons_misc():\n",
    "    header = widgets.HTML(\"<b><u>Stage Construction: Miscellaneous</u></b>\")\n",
    "    display(header)\n",
    "    checkboxes = []\n",
    "    for criterion in stage_cons_misc_criteria:\n",
    "        label = criterion[\"label\"]\n",
    "        # Append \"See BDM {section}\" if \"section\" field exists\n",
    "        if \"section\" in criterion:\n",
    "            label = f\"{label} See BDM {criterion['section']}\"\n",
    "        checkbox = widgets.Checkbox(\n",
    "            description=label,\n",
    "            value=False,\n",
    "            indent=False,\n",
    "            layout=widgets.Layout(width='100%', margin='6px 0 0 0px')\n",
    "        )\n",
    "        checkbox.style = {'description_width': '0px'}\n",
    "        checkboxes.append(checkbox)\n",
    "        display(checkbox)\n",
    "\n",
    "# Display the \"stage_cons_misc\" section\n",
    "display_stage_cons_misc()"
   ]
  },
  {
   "cell_type": "markdown",
   "id": "611e7124-52d5-4d88-84f9-b0d79976d5a5",
   "metadata": {},
   "source": [
    "# Superstructure\n",
    "\n",
    "Design checklist question - \n",
    "\n",
    "Does the project involve Superstructure Design?"
   ]
  },
  {
   "cell_type": "code",
   "execution_count": 49,
   "id": "27a5f4a7-ec6c-47cb-a069-f8190eea9c91",
   "metadata": {},
   "outputs": [
    {
     "name": "stdout",
     "output_type": "stream",
     "text": [
      "Select the superstructure components included in the project scope\n"
     ]
    },
    {
     "data": {
      "application/vnd.jupyter.widget-view+json": {
       "model_id": "e74e284ae3904c8388731b7ef52d4989",
       "version_major": 2,
       "version_minor": 0
      },
      "text/plain": [
       "SelectMultiple(description='Select: ', options=(None, 'Slab', 'Prestressed Concrete Box Beams', 'Prestressed C…"
      ]
     },
     "metadata": {},
     "output_type": "display_data"
    }
   ],
   "source": [
    "print('Select the superstructure components included in the project scope')\n",
    "\n",
    "superstructure_work = widgets.SelectMultiple(\n",
    "    options=[\n",
    "        None, \n",
    "        'Slab', \n",
    "        'Prestressed Concrete Box Beams', \n",
    "        'Prestressed Concrete I-Beams', \n",
    "        'Steel Stringers',\n",
    "        'Railing/Fence',\n",
    "        'Bearings',\n",
    "        'Deck Joints',\n",
    "        'Deck Drainage',\n",
    "        'Utilities',\n",
    "        'Structure Grounding',\n",
    "        'Approach Slab'\n",
    "    ],\n",
    "    value=[],\n",
    "    description='Select: ',\n",
    "    rows=12,\n",
    "    disabled=False\n",
    ")\n",
    "\n",
    "display(superstructure_work)"
   ]
  },
  {
   "cell_type": "markdown",
   "id": "7a5e2919-ce4c-425d-a020-9ee2533acdf6",
   "metadata": {},
   "source": [
    "## Slab"
   ]
  },
  {
   "cell_type": "code",
   "execution_count": 50,
   "id": "e2fa3af8-afa5-4ebc-b0a7-c6c5d2cbbd28",
   "metadata": {},
   "outputs": [],
   "source": [
    "# Define the slab criteria\n",
    "slab_criteria = [\n",
    "    {\"label\": \"Sealing of concrete surfaces shown and appropriate?\", \"section\": \"306.1.2\"},\n",
    "    {\"label\": \"Stainless steel drip strip provided on decks with over-the-side drainage?\", \"section\": \"309.2 and 309.7\"},\n",
    "    {\"label\": \"Verify reinforcing steel accommodate HL-93 loading.\"},\n",
    "    {\"label\": \"Lap lengths to other bars.\"},\n",
    "    {\"label\": \"Centerline of bearing stations\"},\n",
    "    {\"label\": \"Continuous Deck Slab Placement Detail.\", \"section\": \"ODOT STD. DWG. PSID-1-13\"}\n",
    "]"
   ]
  },
  {
   "cell_type": "code",
   "execution_count": 51,
   "id": "36642307-9f41-4029-aa54-3e355f978c6c",
   "metadata": {},
   "outputs": [
    {
     "data": {
      "application/vnd.jupyter.widget-view+json": {
       "model_id": "7be0f3b0ed1547c2afd5ba3afef6ec05",
       "version_major": 2,
       "version_minor": 0
      },
      "text/plain": [
       "HTML(value='<b><u>Slab</u></b>')"
      ]
     },
     "metadata": {},
     "output_type": "display_data"
    },
    {
     "data": {
      "application/vnd.jupyter.widget-view+json": {
       "model_id": "cb47c2b6bab84663b18ff6f3d3e9948a",
       "version_major": 2,
       "version_minor": 0
      },
      "text/plain": [
       "Checkbox(value=False, description='Sealing of concrete surfaces shown and appropriate? See BDM 306.1.2', inden…"
      ]
     },
     "metadata": {},
     "output_type": "display_data"
    },
    {
     "data": {
      "application/vnd.jupyter.widget-view+json": {
       "model_id": "d25ab76ce4dc4122aefaf157afd5d06e",
       "version_major": 2,
       "version_minor": 0
      },
      "text/plain": [
       "Checkbox(value=False, description='Stainless steel drip strip provided on decks with over-the-side drainage? S…"
      ]
     },
     "metadata": {},
     "output_type": "display_data"
    },
    {
     "data": {
      "application/vnd.jupyter.widget-view+json": {
       "model_id": "15dc1a18aa6c459b993702b084769672",
       "version_major": 2,
       "version_minor": 0
      },
      "text/plain": [
       "Checkbox(value=False, description='Verify reinforcing steel accommodate HL-93 loading.', indent=False, layout=…"
      ]
     },
     "metadata": {},
     "output_type": "display_data"
    },
    {
     "data": {
      "application/vnd.jupyter.widget-view+json": {
       "model_id": "628d1365f6ad4af6a35e22e3399b6a29",
       "version_major": 2,
       "version_minor": 0
      },
      "text/plain": [
       "Checkbox(value=False, description='Lap lengths to other bars.', indent=False, layout=Layout(margin='6px 0 0 0p…"
      ]
     },
     "metadata": {},
     "output_type": "display_data"
    },
    {
     "data": {
      "application/vnd.jupyter.widget-view+json": {
       "model_id": "807aca5622374fb484386316baa35467",
       "version_major": 2,
       "version_minor": 0
      },
      "text/plain": [
       "Checkbox(value=False, description='Centerline of bearing stations', indent=False, layout=Layout(margin='6px 0 …"
      ]
     },
     "metadata": {},
     "output_type": "display_data"
    },
    {
     "data": {
      "application/vnd.jupyter.widget-view+json": {
       "model_id": "ca9edbcbd72749698e005381ac7bb369",
       "version_major": 2,
       "version_minor": 0
      },
      "text/plain": [
       "Checkbox(value=False, description='Continuous Deck Slab Placement Detail. See BDM ODOT STD. DWG. PSID-1-13', i…"
      ]
     },
     "metadata": {},
     "output_type": "display_data"
    }
   ],
   "source": [
    "# Function to display the \"slab\" section\n",
    "def display_slab():\n",
    "    header = widgets.HTML(\"<b><u>Slab</u></b>\")\n",
    "    display(header)\n",
    "    checkboxes = []\n",
    "    for criterion in slab_criteria:\n",
    "        label = criterion[\"label\"]\n",
    "        # Append \"See BDM {section}\" if \"section\" field exists\n",
    "        if \"section\" in criterion:\n",
    "            label = f\"{label} See BDM {criterion['section']}\"\n",
    "        checkbox = widgets.Checkbox(\n",
    "            description=label,\n",
    "            value=False,\n",
    "            indent=False,\n",
    "            layout=widgets.Layout(width='100%', margin='6px 0 0 0px')\n",
    "        )\n",
    "        checkbox.style = {'description_width': '0px'}\n",
    "        checkboxes.append(checkbox)\n",
    "        display(checkbox)\n",
    "\n",
    "# Display the \"slab\" section\n",
    "display_slab()"
   ]
  },
  {
   "cell_type": "markdown",
   "id": "f4874226-f2c2-454d-baa0-8086380f5cca",
   "metadata": {},
   "source": [
    "## Prestressed Concrete Box Beams"
   ]
  },
  {
   "cell_type": "code",
   "execution_count": 52,
   "id": "06f323db-dcc3-44a1-b785-f004e08a8093",
   "metadata": {},
   "outputs": [],
   "source": [
    "# Define the prestressed_concrete_box criteria\n",
    "prestressed_concrete_box_criteria = [\n",
    "    {\"label\": \"For multiple span bridges, has the superstructure been detailed as continuous as per Standard Drawing PSBD-2-07?\", \"section\": \"308.2.3.3\"},\n",
    "    {\"label\": \"Multiple span bridges of less than 200-foot total length with flexible piers and abutments fixed at all substructure units?\"},\n",
    "    {\"label\": \"Standard Drawings PSBD-2-07 has been reviewed and items required by it provided? It is not intended that details and notes shown on the Standard Drawing be repeated unnecessarily.\"},\n",
    "    {\"label\": \"All beams anchored?\", \"section\": \"308.2.3.3f\"},\n",
    "    {\"label\": \"Membrane waterproofing (Type 3) used on all non-composite box beam Bridge?\", \"section\": \"308.2.3.3d\"},\n",
    "    {\"label\": \"For bridge with poured sealant joints, has waterproofing been extended 2 feet past the bridge limits?\", \"section\": \"CMS 512.08H\"},\n",
    "    {\"label\": \"Two-inch spacing or multiple thereof provided between strands? If space permits, place all strands in bottom row.\", \"section\": \"302.5.1.2.b\"},\n",
    "    {\"label\": \"Location, length, and number of debonded strands shown?\", \"section\": \"308.2.3.4a\"},\n",
    "    {\"label\": \"Additional strand debonding and supplemental mild reinforcing steel provided at beam ends for skews over 30 degrees? Limit box beam to 30-degree skew or less except rare occasions approved by Office of Structural Engineering.\"},\n",
    "    {\"label\": \"Strands and rebars miss anchor, diaphragm, and bearing rod holes? Are there any conflicts between strands, rebars, tie-rod holes, beam anchor rod holes, rail post anchors, joint armor, etc.?\", \"section\": \"PSBD-2-07\"},\n",
    "    {\"label\": \"PEJF specified as grout retainer at dowels and under beam connection at piers?\", \"section\": \"Standard Drawing PSBD-2-07\"},\n",
    "    {\"label\": \"Two bearings provided for each box beam?\", \"section\": \"308.2.3.3\"},\n",
    "    {\"label\": \"Proper camber/wearing surface notes used?\", \"section\": \"702.7\"},\n",
    "    {\"label\": \"Wearing surface/composite topping thickness diagram shown?\", \"section\": \"308.2.3.4b\"},\n",
    "    {\"label\": \"If over-the-side drainage will occur, has a drip strip been specified? Reference should be made to Standard Drawing DS-1-92.\"},\n",
    "    {\"label\": \"Sealing of concrete surfaces provided as directed in\", \"section\": \"309.2.1.D\"},\n",
    "    {\"label\": \"Shear key mortar finishing detail shown? (Not required for composite concrete decks)\", \"section\": \"PSBD-2-07\"},\n",
    "    {\"label\": \"Sufficient dimensions furnished for the beam fabricator to locate the railing post anchors? Have location of inserts for stage construction temporary railing shown? Has conflict between post anchors and tie rods and/or T-section been avoided?\", \"section\": \"308.2.3.3\"},\n",
    "    {\"label\": \"Proper allowances for fit-up between beams accounted for and shown?\", \"section\": \"308.2.3.3\"},\n",
    "    {\"label\": \"Maximum of three beams tied together by one tie-rod?\", \"section\": \"PSBD-2-07\"},\n",
    "    {\"label\": \"Transverse tie-rods provided at abutment ends and located per\", \"section\": \"308.2.3.3g\"},\n",
    "    {\"label\": \"For non-composite design, is asphalt thickness 8 inches or less?\", \"section\": \"308.2.3\"},\n",
    "    {\"label\": \"For multiple span bridges, has the same beam depth been specified for all spans?\", \"section\": \"308.2.3\"},\n",
    "    {\"label\": \"For beams greater than 100 ft. long, for concrete release strength greater than 5 ksi, and for 28 days concrete strength greater than 7 ksi, provide a letter per\", \"section\": \"308.2.3\"},\n",
    "    {\"label\": \"Strand location and clearance consistent with PSBD-2-07.\"},\n",
    "    {\"label\": \"Diaphragms and tie rods located\", \"section\": \"308.2.3.3g\"},\n",
    "    {\"label\": \"For composite box beams, six-inch minimum slab thickness specified?\", \"section\": \"308.2.3.3.c\"},\n",
    "    {\"label\": \"No. 6 at 18 inches longitudinal and No. 6 at 9 inches transverse bars specified\", \"section\": \"308.2.3.3.c\"},\n",
    "    {\"label\": \"Additional bars over piers specified to meet the requirements of\", \"section\": \"308.2.3.3.c and LRFD 5.10.8.1.2c\"},\n",
    "    {\"label\": \"Epoxy coated bars (Grade 60) specified in the composite slab?\", \"section\": \"304.4\"},\n",
    "    {\"label\": \"Bars projecting from beam into composite slab specified as epoxy coated?\", \"section\": \"304.4\"},\n",
    "    {\"label\": \"Construction joint shown between the cast-in-place 'T' section at piers and the composite slab?\"},\n",
    "    {\"label\": \"The effect that the longitudinal grade has on dimensions measured along a beam’s length addressed in the plans?\", \"section\": \"308.2.3.2\"},\n",
    "    {\"label\": \"Verify that design uses severe corrosive factor as per Section S.5.9.2.3.2b by changing the design parameter in Conspan. The limiting stress factor for tension (service III) should be .0948 instead of 0.19.\"}\n",
    "]"
   ]
  },
  {
   "cell_type": "code",
   "execution_count": 53,
   "id": "dbecedf0-64a5-4ff3-8d1f-ca053e27dd97",
   "metadata": {},
   "outputs": [
    {
     "data": {
      "application/vnd.jupyter.widget-view+json": {
       "model_id": "f548b6937109402b8f0b6925e188cf84",
       "version_major": 2,
       "version_minor": 0
      },
      "text/plain": [
       "HTML(value='<b><u>Prestressed Concrete Box</u></b>')"
      ]
     },
     "metadata": {},
     "output_type": "display_data"
    },
    {
     "data": {
      "application/vnd.jupyter.widget-view+json": {
       "model_id": "263a1782bb8f47ee93b1bbfd3c100922",
       "version_major": 2,
       "version_minor": 0
      },
      "text/plain": [
       "Checkbox(value=False, description='For multiple span bridges, has the superstructure been detailed as continuo…"
      ]
     },
     "metadata": {},
     "output_type": "display_data"
    },
    {
     "data": {
      "application/vnd.jupyter.widget-view+json": {
       "model_id": "4a777e35512f47829f0b49d0e855e84c",
       "version_major": 2,
       "version_minor": 0
      },
      "text/plain": [
       "Checkbox(value=False, description='Multiple span bridges of less than 200-foot total length with flexible pier…"
      ]
     },
     "metadata": {},
     "output_type": "display_data"
    },
    {
     "data": {
      "application/vnd.jupyter.widget-view+json": {
       "model_id": "754ea1a944514e86b4deda10753cc14e",
       "version_major": 2,
       "version_minor": 0
      },
      "text/plain": [
       "Checkbox(value=False, description='Standard Drawings PSBD-2-07 has been reviewed and items required by it prov…"
      ]
     },
     "metadata": {},
     "output_type": "display_data"
    },
    {
     "data": {
      "application/vnd.jupyter.widget-view+json": {
       "model_id": "ea3d8a35011b4e40b765aeda7a1f1ffb",
       "version_major": 2,
       "version_minor": 0
      },
      "text/plain": [
       "Checkbox(value=False, description='All beams anchored? See BDM 308.2.3.3f', indent=False, layout=Layout(margin…"
      ]
     },
     "metadata": {},
     "output_type": "display_data"
    },
    {
     "data": {
      "application/vnd.jupyter.widget-view+json": {
       "model_id": "8acad248542441d0b1e0f6263e2fb55f",
       "version_major": 2,
       "version_minor": 0
      },
      "text/plain": [
       "Checkbox(value=False, description='Membrane waterproofing (Type 3) used on all non-composite box beam Bridge? …"
      ]
     },
     "metadata": {},
     "output_type": "display_data"
    },
    {
     "data": {
      "application/vnd.jupyter.widget-view+json": {
       "model_id": "fff0115c7ef14c678b045d0da2f85c93",
       "version_major": 2,
       "version_minor": 0
      },
      "text/plain": [
       "Checkbox(value=False, description='For bridge with poured sealant joints, has waterproofing been extended 2 fe…"
      ]
     },
     "metadata": {},
     "output_type": "display_data"
    },
    {
     "data": {
      "application/vnd.jupyter.widget-view+json": {
       "model_id": "e13b37ed0aab47e1b79967b4c624addf",
       "version_major": 2,
       "version_minor": 0
      },
      "text/plain": [
       "Checkbox(value=False, description='Two-inch spacing or multiple thereof provided between strands? If space per…"
      ]
     },
     "metadata": {},
     "output_type": "display_data"
    },
    {
     "data": {
      "application/vnd.jupyter.widget-view+json": {
       "model_id": "7475de45e981466395bb4e8a1e775be7",
       "version_major": 2,
       "version_minor": 0
      },
      "text/plain": [
       "Checkbox(value=False, description='Location, length, and number of debonded strands shown? See BDM 308.2.3.4a'…"
      ]
     },
     "metadata": {},
     "output_type": "display_data"
    },
    {
     "data": {
      "application/vnd.jupyter.widget-view+json": {
       "model_id": "e73fffddd4dc45248661b654eaa56dbb",
       "version_major": 2,
       "version_minor": 0
      },
      "text/plain": [
       "Checkbox(value=False, description='Additional strand debonding and supplemental mild reinforcing steel provide…"
      ]
     },
     "metadata": {},
     "output_type": "display_data"
    },
    {
     "data": {
      "application/vnd.jupyter.widget-view+json": {
       "model_id": "9255fd20fd114c6fbb44b84aee9fccd5",
       "version_major": 2,
       "version_minor": 0
      },
      "text/plain": [
       "Checkbox(value=False, description='Strands and rebars miss anchor, diaphragm, and bearing rod holes? Are there…"
      ]
     },
     "metadata": {},
     "output_type": "display_data"
    },
    {
     "data": {
      "application/vnd.jupyter.widget-view+json": {
       "model_id": "452902f23a9c4fcf915044ec91074543",
       "version_major": 2,
       "version_minor": 0
      },
      "text/plain": [
       "Checkbox(value=False, description='PEJF specified as grout retainer at dowels and under beam connection at pie…"
      ]
     },
     "metadata": {},
     "output_type": "display_data"
    },
    {
     "data": {
      "application/vnd.jupyter.widget-view+json": {
       "model_id": "2ead4c1a187848af823708526a06b99a",
       "version_major": 2,
       "version_minor": 0
      },
      "text/plain": [
       "Checkbox(value=False, description='Two bearings provided for each box beam? See BDM 308.2.3.3', indent=False, …"
      ]
     },
     "metadata": {},
     "output_type": "display_data"
    },
    {
     "data": {
      "application/vnd.jupyter.widget-view+json": {
       "model_id": "46d25212e3dd42159b042ab4d62425d5",
       "version_major": 2,
       "version_minor": 0
      },
      "text/plain": [
       "Checkbox(value=False, description='Proper camber/wearing surface notes used? See BDM 702.7', indent=False, lay…"
      ]
     },
     "metadata": {},
     "output_type": "display_data"
    },
    {
     "data": {
      "application/vnd.jupyter.widget-view+json": {
       "model_id": "322402ef101941a79bcf17c08d4ee750",
       "version_major": 2,
       "version_minor": 0
      },
      "text/plain": [
       "Checkbox(value=False, description='Wearing surface/composite topping thickness diagram shown? See BDM 308.2.3.…"
      ]
     },
     "metadata": {},
     "output_type": "display_data"
    },
    {
     "data": {
      "application/vnd.jupyter.widget-view+json": {
       "model_id": "84ebdf869fd94b0b8b5cea56469ccfb9",
       "version_major": 2,
       "version_minor": 0
      },
      "text/plain": [
       "Checkbox(value=False, description='If over-the-side drainage will occur, has a drip strip been specified? Refe…"
      ]
     },
     "metadata": {},
     "output_type": "display_data"
    },
    {
     "data": {
      "application/vnd.jupyter.widget-view+json": {
       "model_id": "af1b3b3deefa4565a46423561bea5778",
       "version_major": 2,
       "version_minor": 0
      },
      "text/plain": [
       "Checkbox(value=False, description='Sealing of concrete surfaces provided as directed in See BDM 309.2.1.D', in…"
      ]
     },
     "metadata": {},
     "output_type": "display_data"
    },
    {
     "data": {
      "application/vnd.jupyter.widget-view+json": {
       "model_id": "76a7e8e2b2a049f89999196cd8dad708",
       "version_major": 2,
       "version_minor": 0
      },
      "text/plain": [
       "Checkbox(value=False, description='Shear key mortar finishing detail shown? (Not required for composite concre…"
      ]
     },
     "metadata": {},
     "output_type": "display_data"
    },
    {
     "data": {
      "application/vnd.jupyter.widget-view+json": {
       "model_id": "c8dc796ac0df491fa262708100470f8b",
       "version_major": 2,
       "version_minor": 0
      },
      "text/plain": [
       "Checkbox(value=False, description='Sufficient dimensions furnished for the beam fabricator to locate the raili…"
      ]
     },
     "metadata": {},
     "output_type": "display_data"
    },
    {
     "data": {
      "application/vnd.jupyter.widget-view+json": {
       "model_id": "41ab22e277f94facb6d1b0ad8172d16c",
       "version_major": 2,
       "version_minor": 0
      },
      "text/plain": [
       "Checkbox(value=False, description='Proper allowances for fit-up between beams accounted for and shown? See BDM…"
      ]
     },
     "metadata": {},
     "output_type": "display_data"
    },
    {
     "data": {
      "application/vnd.jupyter.widget-view+json": {
       "model_id": "aa85863be69f46f382869da7dddc87d6",
       "version_major": 2,
       "version_minor": 0
      },
      "text/plain": [
       "Checkbox(value=False, description='Maximum of three beams tied together by one tie-rod? See BDM PSBD-2-07', in…"
      ]
     },
     "metadata": {},
     "output_type": "display_data"
    },
    {
     "data": {
      "application/vnd.jupyter.widget-view+json": {
       "model_id": "3aac64b56d424331b87024fdf0e5ad99",
       "version_major": 2,
       "version_minor": 0
      },
      "text/plain": [
       "Checkbox(value=False, description='Transverse tie-rods provided at abutment ends and located per See BDM 308.2…"
      ]
     },
     "metadata": {},
     "output_type": "display_data"
    },
    {
     "data": {
      "application/vnd.jupyter.widget-view+json": {
       "model_id": "566e1b34140c4bf79bb7f89059da168e",
       "version_major": 2,
       "version_minor": 0
      },
      "text/plain": [
       "Checkbox(value=False, description='For non-composite design, is asphalt thickness 8 inches or less? See BDM 30…"
      ]
     },
     "metadata": {},
     "output_type": "display_data"
    },
    {
     "data": {
      "application/vnd.jupyter.widget-view+json": {
       "model_id": "e8ccbf3a783b4d5d8c321026e6214e83",
       "version_major": 2,
       "version_minor": 0
      },
      "text/plain": [
       "Checkbox(value=False, description='For multiple span bridges, has the same beam depth been specified for all s…"
      ]
     },
     "metadata": {},
     "output_type": "display_data"
    },
    {
     "data": {
      "application/vnd.jupyter.widget-view+json": {
       "model_id": "dc6116b899314a459f8d7c200791d3cf",
       "version_major": 2,
       "version_minor": 0
      },
      "text/plain": [
       "Checkbox(value=False, description='For beams greater than 100 ft. long, for concrete release strength greater …"
      ]
     },
     "metadata": {},
     "output_type": "display_data"
    },
    {
     "data": {
      "application/vnd.jupyter.widget-view+json": {
       "model_id": "fa245f8e68394504905c2e29c9869136",
       "version_major": 2,
       "version_minor": 0
      },
      "text/plain": [
       "Checkbox(value=False, description='Strand location and clearance consistent with PSBD-2-07.', indent=False, la…"
      ]
     },
     "metadata": {},
     "output_type": "display_data"
    },
    {
     "data": {
      "application/vnd.jupyter.widget-view+json": {
       "model_id": "ad88f02bc0424f14ab4cb641eb620d81",
       "version_major": 2,
       "version_minor": 0
      },
      "text/plain": [
       "Checkbox(value=False, description='Diaphragms and tie rods located See BDM 308.2.3.3g', indent=False, layout=L…"
      ]
     },
     "metadata": {},
     "output_type": "display_data"
    },
    {
     "data": {
      "application/vnd.jupyter.widget-view+json": {
       "model_id": "6e4b4658af104e8bb032d4532c69acfd",
       "version_major": 2,
       "version_minor": 0
      },
      "text/plain": [
       "Checkbox(value=False, description='For composite box beams, six-inch minimum slab thickness specified? See BDM…"
      ]
     },
     "metadata": {},
     "output_type": "display_data"
    },
    {
     "data": {
      "application/vnd.jupyter.widget-view+json": {
       "model_id": "ddb5307da198426aaf120a28ed02af47",
       "version_major": 2,
       "version_minor": 0
      },
      "text/plain": [
       "Checkbox(value=False, description='No. 6 at 18 inches longitudinal and No. 6 at 9 inches transverse bars speci…"
      ]
     },
     "metadata": {},
     "output_type": "display_data"
    },
    {
     "data": {
      "application/vnd.jupyter.widget-view+json": {
       "model_id": "c604a0b527db47af849fd804a0531a64",
       "version_major": 2,
       "version_minor": 0
      },
      "text/plain": [
       "Checkbox(value=False, description='Additional bars over piers specified to meet the requirements of See BDM 30…"
      ]
     },
     "metadata": {},
     "output_type": "display_data"
    },
    {
     "data": {
      "application/vnd.jupyter.widget-view+json": {
       "model_id": "802b6fa090db4a5c9e84ad216e99f15b",
       "version_major": 2,
       "version_minor": 0
      },
      "text/plain": [
       "Checkbox(value=False, description='Epoxy coated bars (Grade 60) specified in the composite slab? See BDM 304.4…"
      ]
     },
     "metadata": {},
     "output_type": "display_data"
    },
    {
     "data": {
      "application/vnd.jupyter.widget-view+json": {
       "model_id": "8a31220f03be45b8b1015173e8dfc79f",
       "version_major": 2,
       "version_minor": 0
      },
      "text/plain": [
       "Checkbox(value=False, description='Bars projecting from beam into composite slab specified as epoxy coated? Se…"
      ]
     },
     "metadata": {},
     "output_type": "display_data"
    },
    {
     "data": {
      "application/vnd.jupyter.widget-view+json": {
       "model_id": "de92d140e9b44a2a89b0368729850eee",
       "version_major": 2,
       "version_minor": 0
      },
      "text/plain": [
       "Checkbox(value=False, description=\"Construction joint shown between the cast-in-place 'T' section at piers and…"
      ]
     },
     "metadata": {},
     "output_type": "display_data"
    },
    {
     "data": {
      "application/vnd.jupyter.widget-view+json": {
       "model_id": "7e396e6588e64e46a042e27807fdc2ae",
       "version_major": 2,
       "version_minor": 0
      },
      "text/plain": [
       "Checkbox(value=False, description='The effect that the longitudinal grade has on dimensions measured along a b…"
      ]
     },
     "metadata": {},
     "output_type": "display_data"
    },
    {
     "data": {
      "application/vnd.jupyter.widget-view+json": {
       "model_id": "65a9003e0dd14cce9fb03af2508231e9",
       "version_major": 2,
       "version_minor": 0
      },
      "text/plain": [
       "Checkbox(value=False, description='Verify that design uses severe corrosive factor as per Section S.5.9.2.3.2b…"
      ]
     },
     "metadata": {},
     "output_type": "display_data"
    }
   ],
   "source": [
    "# Function to display the \"prestressed_concrete_box\" section\n",
    "def display_prestressed_concrete_box():\n",
    "    header = widgets.HTML(\"<b><u>Prestressed Concrete Box</u></b>\")\n",
    "    display(header)\n",
    "    checkboxes = []\n",
    "    for criterion in prestressed_concrete_box_criteria:\n",
    "        label = criterion[\"label\"]\n",
    "        # Add \"See BDM {section}\" for items with a 'section' entry\n",
    "        if \"section\" in criterion:\n",
    "            label = f\"{label} See BDM {criterion['section']}\"\n",
    "        checkbox = widgets.Checkbox(\n",
    "            description=label,\n",
    "            value=False,\n",
    "            indent=False,\n",
    "            layout=widgets.Layout(width='100%', margin='6px 0 0 0px')\n",
    "        )\n",
    "        checkbox.style = {'description_width': '0px'}\n",
    "        checkboxes.append(checkbox)\n",
    "        display(checkbox)\n",
    "\n",
    "# Display the \"prestressed_concrete_box\" section\n",
    "display_prestressed_concrete_box()"
   ]
  },
  {
   "cell_type": "markdown",
   "id": "3e0360f6-c440-4bd8-b5d2-2d326f88b58c",
   "metadata": {},
   "source": [
    "## Prestressed Concrete I-Beams"
   ]
  },
  {
   "cell_type": "code",
   "execution_count": 54,
   "id": "67d802ad-b60f-492b-b6de-10f58169f0b4",
   "metadata": {},
   "outputs": [],
   "source": [
    "# Define the steel_stringers criteria\n",
    "steel_stringers_criteria = [\n",
    "    {\"label\": \"Are the proposed beam shapes per\", \"section\": \"308.2.3.4\"},\n",
    "    {\"label\": \"Low-relaxation, 270 ksi, 0.6-inch strands used? (Initial stress = 0.75 f’s)\", \"section\": \"304.5.1, 304.5.2\"},\n",
    "    {\"label\": \"Straight strands, debonded at ends if necessary, used? Draped strands should be provided as per\", \"section\": \"308.2.3.3.a 308.2.3.4.a.3\"},\n",
    "    {\"label\": \"No more than 25% of the total strands debonded?\", \"section\": \"302.5.2.2.h\"},\n",
    "    {\"label\": \"No more than 45% of the strands in any row debonded\", \"section\": \"302.5.2.2.d\"},\n",
    "    {\"label\": \"Number and spacing of debonded strands, and the length of debonding, shown?\", \"section\": \"302.5.2.2.d\"},\n",
    "    {\"label\": \"Strand location and spacing meet requirements of\", \"section\": \"308.2.3.3.b\"},\n",
    "    {\"label\": \"Initial prestressed loads shown in the plans\", \"section\": \"304.5.2\"},\n",
    "    {\"label\": \"Joint details appropriate? Details from Standard Drawings EXJ-6-06.\"},\n",
    "    {\"label\": \"Grade 60 mild reinforcing used?\", \"section\": \"304.4\"},\n",
    "    {\"label\": \"Bars projecting from I-beam been epoxy coated?\", \"section\": \"304.4\"},\n",
    "    {\"label\": \"Diaphragms placed at intervals not exceeding 40 feet\", \"section\": \"308.2.3.4.d\"},\n",
    "    {\"label\": \"Intermediate diaphragms do not make contact with the underside of the deck?\", \"section\": \"308.2.3.4.d\"},\n",
    "    {\"label\": \"End diaphragms make complete contact with the underside of the deck?\", \"section\": \"308.2.3.4.d\"},\n",
    "    {\"label\": \"Threaded inserts used to connect diaphragm rebars to beams? Type and coating requirements for inserts shown?\", \"section\": \"308.2.3.4.d\"},\n",
    "    {\"label\": \"Note provided restricting deck placement to a minimum of 48 hours after diaphragms are placed and cured? If the Standard Bridge Drawing for I-beams is not referenced by the contract plans\", \"section\": \"308.2.3.4.d\"},\n",
    "    {\"label\": \"Bridge seat elevations been computed as directed in\", \"section\": \"308.2.3.4.b\"},\n",
    "    {\"label\": \"Diagram provided showing slab thickness at center of each span and at each centerline of bearings?\", \"section\": \"308.2.3.4.b\"},\n",
    "    {\"label\": \"Beam anchorage meets the requirements of\", \"section\": \"308.2.3.4.c\"},\n",
    "    {\"label\": \"Full-depth cast-in-place concrete deck specified/ precast deck panels should not be used.\", \"section\": \"309\"},\n",
    "    {\"label\": \"Threaded insert location shown on the beam elevation view for draped strands.\", \"section\": \"PSID-1-13\"},\n",
    "    {\"label\": \"The longitudinal superstructure cross section in the plans detailing the total topping thickness, including the design slab thickness and the haunch thickness at the centerline of spans and bearings.\", \"section\": \"308.2.3.4.b\"},\n",
    "    {\"label\": \"Camber at the time of release, at the time of erection, long term camber and a screed elevation table shown\", \"section\": \"308.2.3.4.b\"},\n",
    "    {\"label\": \"Verify that design use severe corrosive factor as per Section S.5.9.2.3.2b by changing the design parameter in Conspan. The limiting stress factor for tension (service III) should be .0948 instead of 0.19\"}\n",
    "]"
   ]
  },
  {
   "cell_type": "code",
   "execution_count": 55,
   "id": "60921915-9336-4ba5-91a4-d45212a15074",
   "metadata": {},
   "outputs": [
    {
     "data": {
      "application/vnd.jupyter.widget-view+json": {
       "model_id": "3d247e47c6de4cd9a4cb5e381ffba31f",
       "version_major": 2,
       "version_minor": 0
      },
      "text/plain": [
       "HTML(value='<b><u>Steel Stringers</u></b>')"
      ]
     },
     "metadata": {},
     "output_type": "display_data"
    },
    {
     "data": {
      "application/vnd.jupyter.widget-view+json": {
       "model_id": "6ee923c1f828452881e443b919731443",
       "version_major": 2,
       "version_minor": 0
      },
      "text/plain": [
       "Checkbox(value=False, description='Are the proposed beam shapes per See BDM 308.2.3.4', indent=False, layout=L…"
      ]
     },
     "metadata": {},
     "output_type": "display_data"
    },
    {
     "data": {
      "application/vnd.jupyter.widget-view+json": {
       "model_id": "b50c7cd2d6b84028ba021d7d6c03c817",
       "version_major": 2,
       "version_minor": 0
      },
      "text/plain": [
       "Checkbox(value=False, description='Low-relaxation, 270 ksi, 0.6-inch strands used? (Initial stress = 0.75 f’s)…"
      ]
     },
     "metadata": {},
     "output_type": "display_data"
    },
    {
     "data": {
      "application/vnd.jupyter.widget-view+json": {
       "model_id": "0ce97a2dee714685b52230093ef043a0",
       "version_major": 2,
       "version_minor": 0
      },
      "text/plain": [
       "Checkbox(value=False, description='Straight strands, debonded at ends if necessary, used? Draped strands shoul…"
      ]
     },
     "metadata": {},
     "output_type": "display_data"
    },
    {
     "data": {
      "application/vnd.jupyter.widget-view+json": {
       "model_id": "c62341159eba453f9b5251e231b9c8c6",
       "version_major": 2,
       "version_minor": 0
      },
      "text/plain": [
       "Checkbox(value=False, description='No more than 25% of the total strands debonded? See BDM 302.5.2.2.h', inden…"
      ]
     },
     "metadata": {},
     "output_type": "display_data"
    },
    {
     "data": {
      "application/vnd.jupyter.widget-view+json": {
       "model_id": "a0d272f2c88d404f9c6c14976367f72c",
       "version_major": 2,
       "version_minor": 0
      },
      "text/plain": [
       "Checkbox(value=False, description='No more than 45% of the strands in any row debonded See BDM 302.5.2.2.d', i…"
      ]
     },
     "metadata": {},
     "output_type": "display_data"
    },
    {
     "data": {
      "application/vnd.jupyter.widget-view+json": {
       "model_id": "4e80613fbfc04b3494f9a03b8ace3c3f",
       "version_major": 2,
       "version_minor": 0
      },
      "text/plain": [
       "Checkbox(value=False, description='Number and spacing of debonded strands, and the length of debonding, shown?…"
      ]
     },
     "metadata": {},
     "output_type": "display_data"
    },
    {
     "data": {
      "application/vnd.jupyter.widget-view+json": {
       "model_id": "a0e8ac3885734b00ad681647c333dc59",
       "version_major": 2,
       "version_minor": 0
      },
      "text/plain": [
       "Checkbox(value=False, description='Strand location and spacing meet requirements of See BDM 308.2.3.3.b', inde…"
      ]
     },
     "metadata": {},
     "output_type": "display_data"
    },
    {
     "data": {
      "application/vnd.jupyter.widget-view+json": {
       "model_id": "8324ee8879ca43cfa0fc8940c1e92d4a",
       "version_major": 2,
       "version_minor": 0
      },
      "text/plain": [
       "Checkbox(value=False, description='Initial prestressed loads shown in the plans See BDM 304.5.2', indent=False…"
      ]
     },
     "metadata": {},
     "output_type": "display_data"
    },
    {
     "data": {
      "application/vnd.jupyter.widget-view+json": {
       "model_id": "0a30e9019bf04bd390708134432d7e3b",
       "version_major": 2,
       "version_minor": 0
      },
      "text/plain": [
       "Checkbox(value=False, description='Joint details appropriate? Details from Standard Drawings EXJ-6-06.', inden…"
      ]
     },
     "metadata": {},
     "output_type": "display_data"
    },
    {
     "data": {
      "application/vnd.jupyter.widget-view+json": {
       "model_id": "74fc7e10b757452eb71f2c446be52901",
       "version_major": 2,
       "version_minor": 0
      },
      "text/plain": [
       "Checkbox(value=False, description='Grade 60 mild reinforcing used? See BDM 304.4', indent=False, layout=Layout…"
      ]
     },
     "metadata": {},
     "output_type": "display_data"
    },
    {
     "data": {
      "application/vnd.jupyter.widget-view+json": {
       "model_id": "2afa745374654367a96caa2f18b6f2a1",
       "version_major": 2,
       "version_minor": 0
      },
      "text/plain": [
       "Checkbox(value=False, description='Bars projecting from I-beam been epoxy coated? See BDM 304.4', indent=False…"
      ]
     },
     "metadata": {},
     "output_type": "display_data"
    },
    {
     "data": {
      "application/vnd.jupyter.widget-view+json": {
       "model_id": "bcf4c9db47264f508b8b42cd7f05a882",
       "version_major": 2,
       "version_minor": 0
      },
      "text/plain": [
       "Checkbox(value=False, description='Diaphragms placed at intervals not exceeding 40 feet See BDM 308.2.3.4.d', …"
      ]
     },
     "metadata": {},
     "output_type": "display_data"
    },
    {
     "data": {
      "application/vnd.jupyter.widget-view+json": {
       "model_id": "646e5d5236d14e15ba5f220aee01e84e",
       "version_major": 2,
       "version_minor": 0
      },
      "text/plain": [
       "Checkbox(value=False, description='Intermediate diaphragms do not make contact with the underside of the deck?…"
      ]
     },
     "metadata": {},
     "output_type": "display_data"
    },
    {
     "data": {
      "application/vnd.jupyter.widget-view+json": {
       "model_id": "9b3da1c4decf4a2bac9bb0ae67a11fbd",
       "version_major": 2,
       "version_minor": 0
      },
      "text/plain": [
       "Checkbox(value=False, description='End diaphragms make complete contact with the underside of the deck? See BD…"
      ]
     },
     "metadata": {},
     "output_type": "display_data"
    },
    {
     "data": {
      "application/vnd.jupyter.widget-view+json": {
       "model_id": "0c8dbf02e10243af8f5a3012576043c5",
       "version_major": 2,
       "version_minor": 0
      },
      "text/plain": [
       "Checkbox(value=False, description='Threaded inserts used to connect diaphragm rebars to beams? Type and coatin…"
      ]
     },
     "metadata": {},
     "output_type": "display_data"
    },
    {
     "data": {
      "application/vnd.jupyter.widget-view+json": {
       "model_id": "c6a73f1794a343e0bfb5539686661ea5",
       "version_major": 2,
       "version_minor": 0
      },
      "text/plain": [
       "Checkbox(value=False, description='Note provided restricting deck placement to a minimum of 48 hours after dia…"
      ]
     },
     "metadata": {},
     "output_type": "display_data"
    },
    {
     "data": {
      "application/vnd.jupyter.widget-view+json": {
       "model_id": "18c6a5fee82b46ed9650fd32b0b851df",
       "version_major": 2,
       "version_minor": 0
      },
      "text/plain": [
       "Checkbox(value=False, description='Bridge seat elevations been computed as directed in See BDM 308.2.3.4.b', i…"
      ]
     },
     "metadata": {},
     "output_type": "display_data"
    },
    {
     "data": {
      "application/vnd.jupyter.widget-view+json": {
       "model_id": "36f43a492b85444495ae47e0830ebce2",
       "version_major": 2,
       "version_minor": 0
      },
      "text/plain": [
       "Checkbox(value=False, description='Diagram provided showing slab thickness at center of each span and at each …"
      ]
     },
     "metadata": {},
     "output_type": "display_data"
    },
    {
     "data": {
      "application/vnd.jupyter.widget-view+json": {
       "model_id": "2c2efa70470b4158b988caed3a546a11",
       "version_major": 2,
       "version_minor": 0
      },
      "text/plain": [
       "Checkbox(value=False, description='Beam anchorage meets the requirements of See BDM 308.2.3.4.c', indent=False…"
      ]
     },
     "metadata": {},
     "output_type": "display_data"
    },
    {
     "data": {
      "application/vnd.jupyter.widget-view+json": {
       "model_id": "1a99c052b52b492a9a644ef464fe6180",
       "version_major": 2,
       "version_minor": 0
      },
      "text/plain": [
       "Checkbox(value=False, description='Full-depth cast-in-place concrete deck specified/ precast deck panels shoul…"
      ]
     },
     "metadata": {},
     "output_type": "display_data"
    },
    {
     "data": {
      "application/vnd.jupyter.widget-view+json": {
       "model_id": "c089fd94cecf4461ae9424e1286a41d0",
       "version_major": 2,
       "version_minor": 0
      },
      "text/plain": [
       "Checkbox(value=False, description='Threaded insert location shown on the beam elevation view for draped strand…"
      ]
     },
     "metadata": {},
     "output_type": "display_data"
    },
    {
     "data": {
      "application/vnd.jupyter.widget-view+json": {
       "model_id": "640cb3cd628d448a807e777594b59ea4",
       "version_major": 2,
       "version_minor": 0
      },
      "text/plain": [
       "Checkbox(value=False, description='The longitudinal superstructure cross section in the plans detailing the to…"
      ]
     },
     "metadata": {},
     "output_type": "display_data"
    },
    {
     "data": {
      "application/vnd.jupyter.widget-view+json": {
       "model_id": "69f65de605034e03be85f47276efd62f",
       "version_major": 2,
       "version_minor": 0
      },
      "text/plain": [
       "Checkbox(value=False, description='Camber at the time of release, at the time of erection, long term camber an…"
      ]
     },
     "metadata": {},
     "output_type": "display_data"
    },
    {
     "data": {
      "application/vnd.jupyter.widget-view+json": {
       "model_id": "32b547843cb34884aea803342df11116",
       "version_major": 2,
       "version_minor": 0
      },
      "text/plain": [
       "Checkbox(value=False, description='Verify that design use severe corrosive factor as per Section S.5.9.2.3.2b …"
      ]
     },
     "metadata": {},
     "output_type": "display_data"
    }
   ],
   "source": [
    "# Function to display the \"steel_stringers\" section\n",
    "def display_steel_stringers():\n",
    "    header = widgets.HTML(\"<b><u>Steel Stringers</u></b>\")\n",
    "    display(header)\n",
    "    checkboxes = []\n",
    "    for criterion in steel_stringers_criteria:\n",
    "        label = criterion[\"label\"]\n",
    "        # Add \"See BDM {section}\" for items with a 'section' entry\n",
    "        if \"section\" in criterion:\n",
    "            label = f\"{label} See BDM {criterion['section']}\"\n",
    "        checkbox = widgets.Checkbox(\n",
    "            description=label,\n",
    "            value=False,\n",
    "            indent=False,\n",
    "            layout=widgets.Layout(width='100%', margin='6px 0 0 0px')\n",
    "        )\n",
    "        checkbox.style = {'description_width': '0px'}\n",
    "        checkboxes.append(checkbox)\n",
    "        display(checkbox)\n",
    "\n",
    "# Display the \"steel_stringers\" section\n",
    "display_steel_stringers()"
   ]
  },
  {
   "cell_type": "markdown",
   "id": "8a6b711f-c1a9-4f2f-823f-56e33ddea702",
   "metadata": {},
   "source": [
    "## Steel Stringers\n",
    "\n",
    "question - What kind of stringers is the project utilizing"
   ]
  },
  {
   "cell_type": "code",
   "execution_count": 56,
   "id": "410c7a12-98ca-470c-9705-c028b531c894",
   "metadata": {},
   "outputs": [
    {
     "data": {
      "application/vnd.jupyter.widget-view+json": {
       "model_id": "be1bca95b455470ea1cf45754adff602",
       "version_major": 2,
       "version_minor": 0
      },
      "text/plain": [
       "SelectMultiple(description='Select: ', options=('Rolled', 'Plate'), rows=2, value=())"
      ]
     },
     "execution_count": 56,
     "metadata": {},
     "output_type": "execute_result"
    }
   ],
   "source": [
    "substructure_work = widgets.SelectMultiple(\n",
    "    options=[\n",
    "        'Rolled',\n",
    "        'Plate',\n",
    "    ],\n",
    "    value=[],\n",
    "    description='Select: ',\n",
    "    rows=2,\n",
    "    disabled=False\n",
    ")\n",
    "\n",
    "substructure_work"
   ]
  },
  {
   "cell_type": "markdown",
   "id": "d2a6e40d-3144-4bf0-9e6c-6a684f9c2d13",
   "metadata": {},
   "source": [
    "### Steel Stringers - General"
   ]
  },
  {
   "cell_type": "code",
   "execution_count": 57,
   "id": "900100b1-4e18-4ea2-81bc-b53e5b7d2185",
   "metadata": {},
   "outputs": [],
   "source": [
    "# Define the steel_stringers_general criteria\n",
    "steel_stringers_general_criteria = [\n",
    "    {\"label\": \"A709 Grade 50W steel shall be specified for un-coated weathering steel bridges, A709 Grade 50 specified for a coated steel bridge.\", \"section\": \"30.4.1\"},\n",
    "    {\"label\": \"A709 Grade 50W structural steel within 10 feet from end of stringer adjacent to deck joint painted and note provided\", \"section\": \"308.2.2.1.d.1\"},\n",
    "    {\"label\": \"Proper painting system used? Formerly called, System IZEU on new steel and System OZEU on existing steel?\", \"section\": \"308.2.2.1.d.1\"},\n",
    "    {\"label\": \"All main load carrying members such as rolled beams, girder web/flanges, moment plates, splice plates, and horizontally curved stringer cross frames designated as CVN for Charpy V-notch testing and plan note provided?\", \"section\": \"308.2.2.1.b and 702.2\"},\n",
    "    {\"label\": \"Clearance between the bottom mat and top of the bolt over splice plate.\"},\n",
    "    {\"label\": \"Steel fabricator certification given in pay item description as Classification Levels 1 thru 6, SF or UF.\", \"section\": \"308.2.2.1.b\"},\n",
    "    {\"label\": \"Cross frames and field splices for dog-legged (deflected) stringers conform with, Additional horizontal cross frames angle provided near top flange of horizontally curved stringers?\", \"section\": \"308.2.2.1.j, 308.2.2.1.j.1 and 308.2.2.2.b\"},\n",
    "    {\"label\": \"Plan note provided for High Strength Bolts?\", \"section\": \"702.3\"},\n",
    "    {\"label\": \"Leg size specified for fillet welds 1/4 inch minimum for material < 3/4 inch thick and 5/16 inch minimum for thicker material)?\", \"section\": \"308.2.2.2.c.1\"},\n",
    "    {\"label\": \"Complete penetration groove welds designated as CP with weld configuration left unspecified? Partial penetration groove welds not permitted on structural elements.\", \"section\": \"308.2.2.2.c and ANSI/AASHTO / AWS D1.5 Bridge Welding Code\"},\n",
    "    {\"label\": \"Stud shear connectors preferably 7/8 inch diameter and uniformly spaced transversely not closer than 4 diameters center to center with at least 1 inch clearance from flange edges? (Typically, three studs transversely for flanges 12 inches and wider)\", \"section\": \"404.1.6 & AASHTO LRFD 6.10.10\"},\n",
    "    {\"label\": \"Shear connector length penetrates at least 2 inches above bottom reinforcing steel of slab and provides at least 2 inches top cover?\"},\n",
    "    {\"label\": \"7/8 inch diameter Shear stud not recommended for vertical application due to longer welding times and difficulties. Use a 3/4 inch diameter shear stud recommended by the industry.\"},\n",
    "    {\"label\": \"Shear connector maximum spacing generally not greater than 24 inches? Usually, fatigue and strength criteria produce maximum spacing near piers, smallest spacing near abutments, and moderate spacing near mid spans? No conflict near field splices or deck joint anchorage?\", \"section\": \"AASHTO LRFD 6.10.10\"},\n",
    "    {\"label\": \"Extra shear connectors provided at contra flexure points and longitudinal slab reinforcement properly extended if shear connectors are omitted over piers?\", \"section\": \"AASHTO LRFD 6.10.10\"},\n",
    "    {\"label\": \"Field splices located near points of dead load contra flexure as appropriate to facilitate erection and to limit field section lengths to 90 feet maximum for rolled beams and 120 feet maximum for plate girders? Additional optional field splices may be shown recognizing greater availability of short lengths)\", \"section\": \"308.2.2.1.c and 308.2.2.1.j.3\"},\n",
    "    {\"label\": \"Plate thicknesses specified in the following standard sizes: 7/8\\\" to 3” In 1/8” Increments, 3\\\" And above 1/4\\\" Increments?\", \"section\": \"308.2.2.3.c\"},\n",
    "    {\"label\": \"Buoyant superstructures typically integral or semi-integral designs) where inundation is possible details with appropriate countermeasures (e.g., holes drilled in stringer webs for egress of confined air, support anchorage, etc.)?\"},\n",
    "    {\"label\": \"Stringer top flange compression and tension zones shown and Welded Attachment Note provided?\", \"section\": \"702.11\"},\n",
    "    {\"label\": \"Camber and deflection table provided for information given at center of spans, splices points, and at 25 foot maximum intervals?\", \"section\": \"702.1, 309.3.3\"},\n",
    "    {\"label\": \"Camber diagram provided and blocking dimension from bottom of stringer at each support to chord between end supports) shown?\", \"section\": \"309.3.3\"},\n",
    "    {\"label\": \"Camber adjustment provided for horizontally heat-curved stringers and for straight stringers on curved bridges?\", \"section\": \"AASHTO LRFD 6.7.7\"},\n",
    "    {\"label\": \"Sign (direction) of camber adjustment for vertical curve correct?\"},\n",
    "    {\"label\": \"Edge distances used for field splices as per LRFD table 6.13.2.6.6-1?\", \"section\": \"308.2.2.1.j.1 & 308.2.2.1.j.2\"},\n",
    "    {\"label\": \"For galvanized structures, the bolt hole size requires a 1/16 inch increase.\", \"section\": \"308.2.2.1.j.1\"},\n",
    "    {\"label\": \"Field splices located so as not to interfere with other details (i.e., intermediate stiffeners, cross frames, etc.)?\", \"section\": \"308.2.2.2.b\"},\n",
    "    {\"label\": \"Fatigue prone details avoided if possible?\", \"section\": \"308.2.2.1.g\"},\n",
    "    {\"label\": \"Cross frame connection stiffeners rigidly attached to stringer top and bottom flanges?\", \"section\": \"308.2.2.2.a\"},\n",
    "    {\"label\": \"Lateral bracing provided only when required?\", \"section\": \"AASHTO LRFD 6.7.5\"},\n",
    "    {\"label\": \"Curved girder with stage construction should be checked for deflection at each stage.\"}\n",
    "]"
   ]
  },
  {
   "cell_type": "code",
   "execution_count": 58,
   "id": "2e6050b8-5e19-46cb-8172-3b4a1ef544be",
   "metadata": {},
   "outputs": [
    {
     "data": {
      "application/vnd.jupyter.widget-view+json": {
       "model_id": "420129cd6d734f80979c3b430ee02d5a",
       "version_major": 2,
       "version_minor": 0
      },
      "text/plain": [
       "HTML(value='<b><u>Steel Stringers: General</u></b>')"
      ]
     },
     "metadata": {},
     "output_type": "display_data"
    },
    {
     "data": {
      "application/vnd.jupyter.widget-view+json": {
       "model_id": "b6f3ba0aafc3449e82a5ca0edf6be130",
       "version_major": 2,
       "version_minor": 0
      },
      "text/plain": [
       "Checkbox(value=False, description='A709 Grade 50W steel shall be specified for un-coated weathering steel brid…"
      ]
     },
     "metadata": {},
     "output_type": "display_data"
    },
    {
     "data": {
      "application/vnd.jupyter.widget-view+json": {
       "model_id": "ab5060008b50410eae77aced64253ee4",
       "version_major": 2,
       "version_minor": 0
      },
      "text/plain": [
       "Checkbox(value=False, description='A709 Grade 50W structural steel within 10 feet from end of stringer adjacen…"
      ]
     },
     "metadata": {},
     "output_type": "display_data"
    },
    {
     "data": {
      "application/vnd.jupyter.widget-view+json": {
       "model_id": "f0096070471b4381b4540223cc268344",
       "version_major": 2,
       "version_minor": 0
      },
      "text/plain": [
       "Checkbox(value=False, description='Proper painting system used? Formerly called, System IZEU on new steel and …"
      ]
     },
     "metadata": {},
     "output_type": "display_data"
    },
    {
     "data": {
      "application/vnd.jupyter.widget-view+json": {
       "model_id": "ba63b688c98a407fb95051d7fe03a9cb",
       "version_major": 2,
       "version_minor": 0
      },
      "text/plain": [
       "Checkbox(value=False, description='All main load carrying members such as rolled beams, girder web/flanges, mo…"
      ]
     },
     "metadata": {},
     "output_type": "display_data"
    },
    {
     "data": {
      "application/vnd.jupyter.widget-view+json": {
       "model_id": "e1f5045f320c461a9c2dc4ad7dc93ef6",
       "version_major": 2,
       "version_minor": 0
      },
      "text/plain": [
       "Checkbox(value=False, description='Clearance between the bottom mat and top of the bolt over splice plate.', i…"
      ]
     },
     "metadata": {},
     "output_type": "display_data"
    },
    {
     "data": {
      "application/vnd.jupyter.widget-view+json": {
       "model_id": "9c2bfbeff4eb4dc894500bec21ff0361",
       "version_major": 2,
       "version_minor": 0
      },
      "text/plain": [
       "Checkbox(value=False, description='Steel fabricator certification given in pay item description as Classificat…"
      ]
     },
     "metadata": {},
     "output_type": "display_data"
    },
    {
     "data": {
      "application/vnd.jupyter.widget-view+json": {
       "model_id": "a96da759c8c64becb2b895772469416e",
       "version_major": 2,
       "version_minor": 0
      },
      "text/plain": [
       "Checkbox(value=False, description='Cross frames and field splices for dog-legged (deflected) stringers conform…"
      ]
     },
     "metadata": {},
     "output_type": "display_data"
    },
    {
     "data": {
      "application/vnd.jupyter.widget-view+json": {
       "model_id": "94df48cb23b341e196ce9c41e16e0316",
       "version_major": 2,
       "version_minor": 0
      },
      "text/plain": [
       "Checkbox(value=False, description='Plan note provided for High Strength Bolts? See BDM 702.3', indent=False, l…"
      ]
     },
     "metadata": {},
     "output_type": "display_data"
    },
    {
     "data": {
      "application/vnd.jupyter.widget-view+json": {
       "model_id": "a47b75fcc36c4f08baa2f3a2de96365a",
       "version_major": 2,
       "version_minor": 0
      },
      "text/plain": [
       "Checkbox(value=False, description='Leg size specified for fillet welds 1/4 inch minimum for material < 3/4 inc…"
      ]
     },
     "metadata": {},
     "output_type": "display_data"
    },
    {
     "data": {
      "application/vnd.jupyter.widget-view+json": {
       "model_id": "7699934396e540e1a1751faf4d81c993",
       "version_major": 2,
       "version_minor": 0
      },
      "text/plain": [
       "Checkbox(value=False, description='Complete penetration groove welds designated as CP with weld configuration …"
      ]
     },
     "metadata": {},
     "output_type": "display_data"
    },
    {
     "data": {
      "application/vnd.jupyter.widget-view+json": {
       "model_id": "9d47951fdba74417afc60269b2141f6d",
       "version_major": 2,
       "version_minor": 0
      },
      "text/plain": [
       "Checkbox(value=False, description='Stud shear connectors preferably 7/8 inch diameter and uniformly spaced tra…"
      ]
     },
     "metadata": {},
     "output_type": "display_data"
    },
    {
     "data": {
      "application/vnd.jupyter.widget-view+json": {
       "model_id": "a15010e65ae34c53a9a7a0a411308dbd",
       "version_major": 2,
       "version_minor": 0
      },
      "text/plain": [
       "Checkbox(value=False, description='Shear connector length penetrates at least 2 inches above bottom reinforcin…"
      ]
     },
     "metadata": {},
     "output_type": "display_data"
    },
    {
     "data": {
      "application/vnd.jupyter.widget-view+json": {
       "model_id": "5018eb68202b4673b6974509a86d7356",
       "version_major": 2,
       "version_minor": 0
      },
      "text/plain": [
       "Checkbox(value=False, description='7/8 inch diameter Shear stud not recommended for vertical application due t…"
      ]
     },
     "metadata": {},
     "output_type": "display_data"
    },
    {
     "data": {
      "application/vnd.jupyter.widget-view+json": {
       "model_id": "7d005b3639c547109764d30713e846c0",
       "version_major": 2,
       "version_minor": 0
      },
      "text/plain": [
       "Checkbox(value=False, description='Shear connector maximum spacing generally not greater than 24 inches? Usual…"
      ]
     },
     "metadata": {},
     "output_type": "display_data"
    },
    {
     "data": {
      "application/vnd.jupyter.widget-view+json": {
       "model_id": "b1bf03bcdc6a487a89b5b7674fdac7cc",
       "version_major": 2,
       "version_minor": 0
      },
      "text/plain": [
       "Checkbox(value=False, description='Extra shear connectors provided at contra flexure points and longitudinal s…"
      ]
     },
     "metadata": {},
     "output_type": "display_data"
    },
    {
     "data": {
      "application/vnd.jupyter.widget-view+json": {
       "model_id": "5e66b4d7cf5847d1b01f77d60ac8d479",
       "version_major": 2,
       "version_minor": 0
      },
      "text/plain": [
       "Checkbox(value=False, description='Field splices located near points of dead load contra flexure as appropriat…"
      ]
     },
     "metadata": {},
     "output_type": "display_data"
    },
    {
     "data": {
      "application/vnd.jupyter.widget-view+json": {
       "model_id": "fa36e56f3efc460c8622963e2047e9dc",
       "version_major": 2,
       "version_minor": 0
      },
      "text/plain": [
       "Checkbox(value=False, description='Plate thicknesses specified in the following standard sizes: 7/8\" to 3” In …"
      ]
     },
     "metadata": {},
     "output_type": "display_data"
    },
    {
     "data": {
      "application/vnd.jupyter.widget-view+json": {
       "model_id": "7b371058a113450cb102186d7630d7d3",
       "version_major": 2,
       "version_minor": 0
      },
      "text/plain": [
       "Checkbox(value=False, description='Buoyant superstructures typically integral or semi-integral designs) where …"
      ]
     },
     "metadata": {},
     "output_type": "display_data"
    },
    {
     "data": {
      "application/vnd.jupyter.widget-view+json": {
       "model_id": "1752127310584f35b5556fff9cb5053e",
       "version_major": 2,
       "version_minor": 0
      },
      "text/plain": [
       "Checkbox(value=False, description='Stringer top flange compression and tension zones shown and Welded Attachme…"
      ]
     },
     "metadata": {},
     "output_type": "display_data"
    },
    {
     "data": {
      "application/vnd.jupyter.widget-view+json": {
       "model_id": "592cc065c7544b60b97b165fa078ab90",
       "version_major": 2,
       "version_minor": 0
      },
      "text/plain": [
       "Checkbox(value=False, description='Camber and deflection table provided for information given at center of spa…"
      ]
     },
     "metadata": {},
     "output_type": "display_data"
    },
    {
     "data": {
      "application/vnd.jupyter.widget-view+json": {
       "model_id": "ed315651b55448758fb6af3d090a1fca",
       "version_major": 2,
       "version_minor": 0
      },
      "text/plain": [
       "Checkbox(value=False, description='Camber diagram provided and blocking dimension from bottom of stringer at e…"
      ]
     },
     "metadata": {},
     "output_type": "display_data"
    },
    {
     "data": {
      "application/vnd.jupyter.widget-view+json": {
       "model_id": "3c0fce51cbbe4f638be6d2cf424792c9",
       "version_major": 2,
       "version_minor": 0
      },
      "text/plain": [
       "Checkbox(value=False, description='Camber adjustment provided for horizontally heat-curved stringers and for s…"
      ]
     },
     "metadata": {},
     "output_type": "display_data"
    },
    {
     "data": {
      "application/vnd.jupyter.widget-view+json": {
       "model_id": "61afac38b6c04117a5bb9fd7c6a7ad52",
       "version_major": 2,
       "version_minor": 0
      },
      "text/plain": [
       "Checkbox(value=False, description='Sign (direction) of camber adjustment for vertical curve correct?', indent=…"
      ]
     },
     "metadata": {},
     "output_type": "display_data"
    },
    {
     "data": {
      "application/vnd.jupyter.widget-view+json": {
       "model_id": "5a9777dba83f4152a98a6ea05da4d6ae",
       "version_major": 2,
       "version_minor": 0
      },
      "text/plain": [
       "Checkbox(value=False, description='Edge distances used for field splices as per LRFD table 6.13.2.6.6-1? See B…"
      ]
     },
     "metadata": {},
     "output_type": "display_data"
    },
    {
     "data": {
      "application/vnd.jupyter.widget-view+json": {
       "model_id": "dd652a9abc954a0bb92e6d59f5b0d844",
       "version_major": 2,
       "version_minor": 0
      },
      "text/plain": [
       "Checkbox(value=False, description='For galvanized structures, the bolt hole size requires a 1/16 inch increase…"
      ]
     },
     "metadata": {},
     "output_type": "display_data"
    },
    {
     "data": {
      "application/vnd.jupyter.widget-view+json": {
       "model_id": "2b3808191c17454d83ed8d00e7ee0e0c",
       "version_major": 2,
       "version_minor": 0
      },
      "text/plain": [
       "Checkbox(value=False, description='Field splices located so as not to interfere with other details (i.e., inte…"
      ]
     },
     "metadata": {},
     "output_type": "display_data"
    },
    {
     "data": {
      "application/vnd.jupyter.widget-view+json": {
       "model_id": "10b1e2c60e7e4ddb97aca9c5a037aab3",
       "version_major": 2,
       "version_minor": 0
      },
      "text/plain": [
       "Checkbox(value=False, description='Fatigue prone details avoided if possible? See BDM 308.2.2.1.g', indent=Fal…"
      ]
     },
     "metadata": {},
     "output_type": "display_data"
    },
    {
     "data": {
      "application/vnd.jupyter.widget-view+json": {
       "model_id": "07efc798fecf400c8743523573028f57",
       "version_major": 2,
       "version_minor": 0
      },
      "text/plain": [
       "Checkbox(value=False, description='Cross frame connection stiffeners rigidly attached to stringer top and bott…"
      ]
     },
     "metadata": {},
     "output_type": "display_data"
    },
    {
     "data": {
      "application/vnd.jupyter.widget-view+json": {
       "model_id": "207faffcf5d9437dbb866e4c0a5e79e2",
       "version_major": 2,
       "version_minor": 0
      },
      "text/plain": [
       "Checkbox(value=False, description='Lateral bracing provided only when required? See BDM AASHTO LRFD 6.7.5', in…"
      ]
     },
     "metadata": {},
     "output_type": "display_data"
    },
    {
     "data": {
      "application/vnd.jupyter.widget-view+json": {
       "model_id": "daa331fbdbf145f3b10e379b3fae8471",
       "version_major": 2,
       "version_minor": 0
      },
      "text/plain": [
       "Checkbox(value=False, description='Curved girder with stage construction should be checked for deflection at e…"
      ]
     },
     "metadata": {},
     "output_type": "display_data"
    }
   ],
   "source": [
    "# Function to display the \"steel_stringers_general\" section\n",
    "def display_steel_stringers_general():\n",
    "    header = widgets.HTML(\"<b><u>Steel Stringers: General</u></b>\")\n",
    "    display(header)\n",
    "    checkboxes = []\n",
    "    for criterion in steel_stringers_general_criteria:\n",
    "        label = criterion[\"label\"]\n",
    "        # Add \"See BDM {section}\" for items with a 'section' entry\n",
    "        if \"section\" in criterion:\n",
    "            label = f\"{label} See BDM {criterion['section']}\"\n",
    "        checkbox = widgets.Checkbox(\n",
    "            description=label,\n",
    "            value=False,\n",
    "            indent=False,\n",
    "            layout=widgets.Layout(width='100%', margin='6px 0 0 0px')\n",
    "        )\n",
    "        checkbox.style = {'description_width': '0px'}\n",
    "        checkboxes.append(checkbox)\n",
    "        display(checkbox)\n",
    "\n",
    "# Display the \"steel_stringers_general\" section\n",
    "display_steel_stringers_general()"
   ]
  },
  {
   "cell_type": "markdown",
   "id": "e60cbc3c-93d8-4730-8bc8-ac269214c170",
   "metadata": {},
   "source": [
    "### Rolled Beams"
   ]
  },
  {
   "cell_type": "code",
   "execution_count": 59,
   "id": "71d198e3-bb6d-4b86-8ba2-e698ceeb8848",
   "metadata": {},
   "outputs": [],
   "source": [
    "# Define the rolled_beams criteria\n",
    "rolled_beams_criteria = [\n",
    "    {\"label\": \"Welded moment plates not used in areas of tensile stress?\", \"section\": \"308.2.2.2.d\"},\n",
    "    {\"label\": \"Bearing stiffeners provided only when necessary?\", \"section\": \"AASHTO LRFD 6.10.11.2\"},\n",
    "    {\"label\": \"Galvanized beams limited in length to 60 feet maximum and utilize bolted connections only?\", \"section\": \"308.2.2.1.d.2\"}\n",
    "]"
   ]
  },
  {
   "cell_type": "code",
   "execution_count": 60,
   "id": "bfd71c19-df0d-4795-9087-9ec1bb124e5b",
   "metadata": {},
   "outputs": [
    {
     "data": {
      "application/vnd.jupyter.widget-view+json": {
       "model_id": "da019c8c1f91410693433f0f1c7c385a",
       "version_major": 2,
       "version_minor": 0
      },
      "text/plain": [
       "HTML(value='<b><u>Rolled Beams</u></b>')"
      ]
     },
     "metadata": {},
     "output_type": "display_data"
    },
    {
     "data": {
      "application/vnd.jupyter.widget-view+json": {
       "model_id": "62c1fda4c25f4ab69597f76a10e93fe4",
       "version_major": 2,
       "version_minor": 0
      },
      "text/plain": [
       "Checkbox(value=False, description='Welded moment plates not used in areas of tensile stress? See BDM 308.2.2.2…"
      ]
     },
     "metadata": {},
     "output_type": "display_data"
    },
    {
     "data": {
      "application/vnd.jupyter.widget-view+json": {
       "model_id": "acb50fecf3ad4c29898f5d9a0aea716f",
       "version_major": 2,
       "version_minor": 0
      },
      "text/plain": [
       "Checkbox(value=False, description='Bearing stiffeners provided only when necessary? See BDM AASHTO LRFD 6.10.1…"
      ]
     },
     "metadata": {},
     "output_type": "display_data"
    },
    {
     "data": {
      "application/vnd.jupyter.widget-view+json": {
       "model_id": "6d75b3378d58455697138322c902f59f",
       "version_major": 2,
       "version_minor": 0
      },
      "text/plain": [
       "Checkbox(value=False, description='Galvanized beams limited in length to 60 feet maximum and utilize bolted co…"
      ]
     },
     "metadata": {},
     "output_type": "display_data"
    }
   ],
   "source": [
    "# Function to display the \"rolled_beams\" section\n",
    "def display_rolled_beams():\n",
    "    header = widgets.HTML(\"<b><u>Rolled Beams</u></b>\")\n",
    "    display(header)\n",
    "    checkboxes = []\n",
    "    for criterion in rolled_beams_criteria:\n",
    "        label = criterion[\"label\"]\n",
    "        # Add \"See BDM {section}\" for items with a 'section' entry\n",
    "        if \"section\" in criterion:\n",
    "            label = f\"{label} See BDM {criterion['section']}\"\n",
    "        checkbox = widgets.Checkbox(\n",
    "            description=label,\n",
    "            value=False,\n",
    "            indent=False,\n",
    "            layout=widgets.Layout(width='100%', margin='6px 0 0 0px')\n",
    "        )\n",
    "        checkbox.style = {'description_width': '0px'}\n",
    "        checkboxes.append(checkbox)\n",
    "        display(checkbox)\n",
    "\n",
    "# Display the \"rolled_beams\" section\n",
    "display_rolled_beams()"
   ]
  },
  {
   "cell_type": "markdown",
   "id": "8f5bff64-b325-48ee-8884-b3203921551c",
   "metadata": {},
   "source": [
    "### Plate Girders"
   ]
  },
  {
   "cell_type": "code",
   "execution_count": 61,
   "id": "df4697cd-e587-4102-b5e0-00999445f4cf",
   "metadata": {},
   "outputs": [],
   "source": [
    "# Define the plate_girders criteria\n",
    "plate_girders_criteria = [\n",
    "    {\"label\": \"Top flange width as per\", \"section\": \"308.2.2.3.c.1\"},\n",
    "    {\"label\": \"Flange thickness at least 7/8 inch?\", \"section\": \"308.2.2.3.c.1\"},\n",
    "    {\"label\": \"Web thickness and stiffener thickness at least 3/8 inch\", \"section\": \"308.2.2.3.c.2\"},\n",
    "    {\"label\": \"Flange butt welds subject only to compressive stresses identified as CS and complete joint penetration as CP.\", \"section\": \"308.2.2.3.f.2\"},\n",
    "    {\"label\": \"Non-redundant main steel members identified as FCM (Fracture Critical Member)? Proper pay item and plan note provided\", \"section\": \"BMD 308.2.2.3.b\"},\n",
    "    {\"label\": \"Longitudinal stiffeners not used? Transverse stiffeners preferably not used (except cross frame connection stiffeners)\", \"section\": \"308.2.2.3\"},\n",
    "    {\"label\": \"Transverse stiffeners (if used) placed on alternate sides of interior girders and inside face only of fascia girders, made same size throughout, and detailed?\", \"section\": \"308.2.2.3.d\"},\n",
    "    {\"label\": \"Cross frame connection stiffeners fillet welded to web and both flanges\", \"section\": \"308.2.2.3.d\"},\n",
    "    {\"label\": \"Bearing stiffeners made to extend as near as practicable to outer edges of flange plate and detailed as tight fit at top flange, mill to bear at bottom flange? (Rigid attachment to both flanges may be appropriate if used also as a connection plate)\", \"section\": \"AASHTO LRFD 6.10.11.2.1 / LRFD 6.10.11.2\"},\n",
    "    {\"label\": \"Intermediate cross frame angle size and connections conform with STD DWG GSD-1-19? For beam/Girder D < 6 feet.\"},\n",
    "    {\"label\": \"Constant flange widths used whenever possible? Make changes in flange width at field splice to facilitate fabrication. Changes in flange plate section appropriate based on cost criteria given in\", \"section\": \"308.2.2.3.c.1 Steel Bridge Design Handbook FHWA-IF-12-052-Vol. 6\"},\n",
    "    {\"label\": \"Clearance between the bottom mat and top of the bolt over splice plate\", \"section\": \"309.3.4.2\"}\n",
    "]"
   ]
  },
  {
   "cell_type": "code",
   "execution_count": 62,
   "id": "81c7741e-d92d-4e6c-ac37-7804b828f36d",
   "metadata": {},
   "outputs": [
    {
     "data": {
      "application/vnd.jupyter.widget-view+json": {
       "model_id": "7a6dbf91840448a2a88b65bdc0610339",
       "version_major": 2,
       "version_minor": 0
      },
      "text/plain": [
       "HTML(value='<b><u>Plate Girders</u></b>')"
      ]
     },
     "metadata": {},
     "output_type": "display_data"
    },
    {
     "data": {
      "application/vnd.jupyter.widget-view+json": {
       "model_id": "7e69750123bb4bc5ba41b278072016f3",
       "version_major": 2,
       "version_minor": 0
      },
      "text/plain": [
       "Checkbox(value=False, description='Top flange width as per See BDM 308.2.2.3.c.1', indent=False, layout=Layout…"
      ]
     },
     "metadata": {},
     "output_type": "display_data"
    },
    {
     "data": {
      "application/vnd.jupyter.widget-view+json": {
       "model_id": "1b8e9074b59a4e6a84fbfd5b7e88f7f0",
       "version_major": 2,
       "version_minor": 0
      },
      "text/plain": [
       "Checkbox(value=False, description='Flange thickness at least 7/8 inch? See BDM 308.2.2.3.c.1', indent=False, l…"
      ]
     },
     "metadata": {},
     "output_type": "display_data"
    },
    {
     "data": {
      "application/vnd.jupyter.widget-view+json": {
       "model_id": "754c66e9f9424b618eb5610a174cd5f3",
       "version_major": 2,
       "version_minor": 0
      },
      "text/plain": [
       "Checkbox(value=False, description='Web thickness and stiffener thickness at least 3/8 inch See BDM 308.2.2.3.c…"
      ]
     },
     "metadata": {},
     "output_type": "display_data"
    },
    {
     "data": {
      "application/vnd.jupyter.widget-view+json": {
       "model_id": "99a69806e59042d3ba47a8e3927d7a00",
       "version_major": 2,
       "version_minor": 0
      },
      "text/plain": [
       "Checkbox(value=False, description='Flange butt welds subject only to compressive stresses identified as CS and…"
      ]
     },
     "metadata": {},
     "output_type": "display_data"
    },
    {
     "data": {
      "application/vnd.jupyter.widget-view+json": {
       "model_id": "cf87da1403f34117b1c3611649416e42",
       "version_major": 2,
       "version_minor": 0
      },
      "text/plain": [
       "Checkbox(value=False, description='Non-redundant main steel members identified as FCM (Fracture Critical Membe…"
      ]
     },
     "metadata": {},
     "output_type": "display_data"
    },
    {
     "data": {
      "application/vnd.jupyter.widget-view+json": {
       "model_id": "0cea55f6c5884ffdb7fe97022c69d685",
       "version_major": 2,
       "version_minor": 0
      },
      "text/plain": [
       "Checkbox(value=False, description='Longitudinal stiffeners not used? Transverse stiffeners preferably not used…"
      ]
     },
     "metadata": {},
     "output_type": "display_data"
    },
    {
     "data": {
      "application/vnd.jupyter.widget-view+json": {
       "model_id": "284366aadafd48bfb7b22b4343cec6bd",
       "version_major": 2,
       "version_minor": 0
      },
      "text/plain": [
       "Checkbox(value=False, description='Transverse stiffeners (if used) placed on alternate sides of interior girde…"
      ]
     },
     "metadata": {},
     "output_type": "display_data"
    },
    {
     "data": {
      "application/vnd.jupyter.widget-view+json": {
       "model_id": "a3ef892787cd45599f45436c0e887c38",
       "version_major": 2,
       "version_minor": 0
      },
      "text/plain": [
       "Checkbox(value=False, description='Cross frame connection stiffeners fillet welded to web and both flanges See…"
      ]
     },
     "metadata": {},
     "output_type": "display_data"
    },
    {
     "data": {
      "application/vnd.jupyter.widget-view+json": {
       "model_id": "89b907282e9d458092550c7116ae8bda",
       "version_major": 2,
       "version_minor": 0
      },
      "text/plain": [
       "Checkbox(value=False, description='Bearing stiffeners made to extend as near as practicable to outer edges of …"
      ]
     },
     "metadata": {},
     "output_type": "display_data"
    },
    {
     "data": {
      "application/vnd.jupyter.widget-view+json": {
       "model_id": "940c3efe245244fb9b7afc447d970159",
       "version_major": 2,
       "version_minor": 0
      },
      "text/plain": [
       "Checkbox(value=False, description='Intermediate cross frame angle size and connections conform with STD DWG GS…"
      ]
     },
     "metadata": {},
     "output_type": "display_data"
    },
    {
     "data": {
      "application/vnd.jupyter.widget-view+json": {
       "model_id": "12ec6d305e494039a5adb1a31aa01367",
       "version_major": 2,
       "version_minor": 0
      },
      "text/plain": [
       "Checkbox(value=False, description='Constant flange widths used whenever possible? Make changes in flange width…"
      ]
     },
     "metadata": {},
     "output_type": "display_data"
    },
    {
     "data": {
      "application/vnd.jupyter.widget-view+json": {
       "model_id": "77be635b684845c89aae1b3c9213883b",
       "version_major": 2,
       "version_minor": 0
      },
      "text/plain": [
       "Checkbox(value=False, description='Clearance between the bottom mat and top of the bolt over splice plate See …"
      ]
     },
     "metadata": {},
     "output_type": "display_data"
    }
   ],
   "source": [
    "# Function to display the \"plate_girders\" section\n",
    "def display_plate_girders():\n",
    "    header = widgets.HTML(\"<b><u>Plate Girders</u></b>\")\n",
    "    display(header)\n",
    "    checkboxes = []\n",
    "    for criterion in plate_girders_criteria:\n",
    "        label = criterion[\"label\"]\n",
    "        # Add \"See BDM {section}\" for items with a 'section' entry\n",
    "        if \"section\" in criterion:\n",
    "            label = f\"{label} See BDM {criterion['section']}\"\n",
    "        checkbox = widgets.Checkbox(\n",
    "            description=label,\n",
    "            value=False,\n",
    "            indent=False,\n",
    "            layout=widgets.Layout(width='100%', margin='6px 0 0 0px')\n",
    "        )\n",
    "        checkbox.style = {'description_width': '0px'}\n",
    "        checkboxes.append(checkbox)\n",
    "        display(checkbox)\n",
    "\n",
    "# Display the \"plate_girders\" section\n",
    "display_plate_girders()"
   ]
  },
  {
   "cell_type": "markdown",
   "id": "d839f110-bc88-4f05-855d-80dbe85e9319",
   "metadata": {},
   "source": [
    "## Concrete Deck on Concrete I-Beams or Steel Stringers"
   ]
  },
  {
   "cell_type": "code",
   "execution_count": 63,
   "id": "edf5428d-a040-48fb-a3db-3b671d8a51e5",
   "metadata": {},
   "outputs": [],
   "source": [
    "# Define the concrete_deck_on_stringers criteria\n",
    "concrete_deck_on_stringers_criteria = [\n",
    "    {\"label\": \"Verify bottom concrete cover of bars in the overhang deck\", \"section\": \"LRFD 5.10.1, 304.4.8\"},\n",
    "    {\"label\": \"Sealing of concrete surfaces shown and appropriate\", \"section\": \"309.2.1\"},\n",
    "    {\"label\": \"Stainless steel drip strip provided on decks with over-the-side drainage?\", \"section\": \"309.7 and 309.2\"},\n",
    "    {\"label\": \"Deck slab depth over stringers shown to top of web for plate girders and to top of flange for rolled beams or prestressed concrete I-beams and plan note provided\", \"section\": \"702.5 and 702.6\"},\n",
    "    {\"label\": \"2-inch minimum concrete haunch depth used over stringers (top of thickest flange section to bottom of slab)\", \"section\": \"309.3.5\"},\n",
    "    {\"label\": \"For steel beam or girder bridges with skew less than 15 degrees the transverse bars parallel to abutment and for skew more than 15 degrees or interference with shear stud, transverse bars placed perpendicular to the centerline of bridge.\", \"section\": \"309.3.4.2\"},\n",
    "    {\"label\": \"For prestressed I-beam or composite box beam bridge deck, transverse bars perpendicular to the centerline of bridge.\", \"section\": \"309.3.4.2\"},\n",
    "    {\"label\": \"Slab thickness and reinforcement conform to\", \"section\": \"Figure 309-3, 309-4 or 309-5\"},\n",
    "    {\"label\": \"Top and bottom main (transverse) bars at same spacing and placed to coincide in a vertical plane?\", \"section\": \"309.3.4.2\"},\n",
    "    {\"label\": \"Transverse bars placed parallel to abutments for bridges with skews less than 15 degrees?\", \"section\": \"309.3.4.2\"},\n",
    "    {\"label\": \"Length of transverse bars without lap splices 5 inches shorter than deck (edge to edge distance) to ensure adequate cover at ends of bar, allowing for shop cutting tolerances?\"},\n",
    "    {\"label\": \"(Transverse) bars\", \"section\": \"309.3.4.1\"},\n",
    "    {\"label\": \"Secondary (longitudinal) bars placed above main\", \"section\": \"309.3.4.1\"},\n",
    "    {\"label\": \"Additional top longitudinal bars with ends staggered 3'-0\\\" provided over piers on continuous structures? Total longitudinal reinforcement meets the requirements of AASHTO LRFD 6.10.1.7 for steel stringers or for prestressed concrete I-beam? Generally, No. 6 bars midspaced between top full length longitudinal bars will be adequate and will provide enough clearance between bars to facilitate concrete placement and vibration.\", \"section\": \"308.2.3.3.c\"},\n",
    "    {\"label\": \"Screed elevations given along curb lines/edges of deck, roadway crown, transverse grade-break lines and phase construction lines at all bearings, quarter-span, mid-span, and splice points, plus any points required for a maximum 25 foot spacing.\", \"section\": \"309.3.3.1\"},\n",
    "    {\"label\": \"Slab pour sequence generally specified only when uplift during construction or differential deflections at intermediate expansion joints are of concern.\", \"section\": \"2.2.3.g, 403.5.4\"},\n",
    "    {\"label\": \"Check three independent sources of girder twist resulting from deck placement: global superstructure distortion, oil-canning and girder warping.\", \"section\": \"309.3.8.2\"},\n",
    "    {\"label\": \"Neglect girder twist due to global deformation if the tributary deck load carried by the fascia girder is less than 110% of the average of the tributary deck load carried by the interior members for new structure and 115% for existing structure.\", \"section\": \"309.3.8.2.a\"},\n",
    "    {\"label\": \"For web depth greater than 84 inches note for location of lower contact point of the overhang false work included.\", \"section\": \"611.4.1\"},\n",
    "    {\"label\": \"Screed, top of haunch and finished deck surface shown and note included?\", \"section\": \"309.3.3.1, 309.3.3.2, 309.3.3.3, 702.12.1, 702.12.2, 702.12.3\"},\n",
    "    {\"label\": \"The final deck surface elevation locations should be identified in a plan view.\", \"section\": \"309.3.3.3\"},\n",
    "    {\"label\": \"The screed elevation locations should be identified on the transverse section.\", \"section\": \"702.12.1\"},\n",
    "    {\"label\": \"The top of haunch elevation locations should be identified on the transverse section.\", \"section\": \"702.12.2\"},\n",
    "    {\"label\": \"Deck placement design assumptions note is included.\", \"section\": \"611.4.2\"}\n",
    "]"
   ]
  },
  {
   "cell_type": "code",
   "execution_count": 64,
   "id": "9088d84e-fe71-46e7-b5a6-5318288afda7",
   "metadata": {},
   "outputs": [
    {
     "data": {
      "application/vnd.jupyter.widget-view+json": {
       "model_id": "18fb853a18814c49ae5feefd176c309a",
       "version_major": 2,
       "version_minor": 0
      },
      "text/plain": [
       "HTML(value='<b><u>Concrete Deck on Stringers</u></b>')"
      ]
     },
     "metadata": {},
     "output_type": "display_data"
    },
    {
     "data": {
      "application/vnd.jupyter.widget-view+json": {
       "model_id": "fca6970125734196a67205fba78d6f1c",
       "version_major": 2,
       "version_minor": 0
      },
      "text/plain": [
       "Checkbox(value=False, description='Verify bottom concrete cover of bars in the overhang deck See BDM LRFD 5.10…"
      ]
     },
     "metadata": {},
     "output_type": "display_data"
    },
    {
     "data": {
      "application/vnd.jupyter.widget-view+json": {
       "model_id": "db2ac851f1d947e1a301d6a155d1d5fc",
       "version_major": 2,
       "version_minor": 0
      },
      "text/plain": [
       "Checkbox(value=False, description='Sealing of concrete surfaces shown and appropriate See BDM 309.2.1', indent…"
      ]
     },
     "metadata": {},
     "output_type": "display_data"
    },
    {
     "data": {
      "application/vnd.jupyter.widget-view+json": {
       "model_id": "fb4aa838e5a546e2bb64ce5a90420868",
       "version_major": 2,
       "version_minor": 0
      },
      "text/plain": [
       "Checkbox(value=False, description='Stainless steel drip strip provided on decks with over-the-side drainage? S…"
      ]
     },
     "metadata": {},
     "output_type": "display_data"
    },
    {
     "data": {
      "application/vnd.jupyter.widget-view+json": {
       "model_id": "6e6a5bb4b7e547ddbed94e07e230c273",
       "version_major": 2,
       "version_minor": 0
      },
      "text/plain": [
       "Checkbox(value=False, description='Deck slab depth over stringers shown to top of web for plate girders and to…"
      ]
     },
     "metadata": {},
     "output_type": "display_data"
    },
    {
     "data": {
      "application/vnd.jupyter.widget-view+json": {
       "model_id": "f87d08341b084cada3238e3528de8b34",
       "version_major": 2,
       "version_minor": 0
      },
      "text/plain": [
       "Checkbox(value=False, description='2-inch minimum concrete haunch depth used over stringers (top of thickest f…"
      ]
     },
     "metadata": {},
     "output_type": "display_data"
    },
    {
     "data": {
      "application/vnd.jupyter.widget-view+json": {
       "model_id": "a258bb44d43c4257b1fde7fe0ef4ad39",
       "version_major": 2,
       "version_minor": 0
      },
      "text/plain": [
       "Checkbox(value=False, description='For steel beam or girder bridges with skew less than 15 degrees the transve…"
      ]
     },
     "metadata": {},
     "output_type": "display_data"
    },
    {
     "data": {
      "application/vnd.jupyter.widget-view+json": {
       "model_id": "b482b58ed0e54a3a9e0509ad9cc34c71",
       "version_major": 2,
       "version_minor": 0
      },
      "text/plain": [
       "Checkbox(value=False, description='For prestressed I-beam or composite box beam bridge deck, transverse bars p…"
      ]
     },
     "metadata": {},
     "output_type": "display_data"
    },
    {
     "data": {
      "application/vnd.jupyter.widget-view+json": {
       "model_id": "c28b3c08428848019da76f4cf73523a5",
       "version_major": 2,
       "version_minor": 0
      },
      "text/plain": [
       "Checkbox(value=False, description='Slab thickness and reinforcement conform to See BDM Figure 309-3, 309-4 or …"
      ]
     },
     "metadata": {},
     "output_type": "display_data"
    },
    {
     "data": {
      "application/vnd.jupyter.widget-view+json": {
       "model_id": "eb5c7f605fb74e73bafa37cc17919254",
       "version_major": 2,
       "version_minor": 0
      },
      "text/plain": [
       "Checkbox(value=False, description='Top and bottom main (transverse) bars at same spacing and placed to coincid…"
      ]
     },
     "metadata": {},
     "output_type": "display_data"
    },
    {
     "data": {
      "application/vnd.jupyter.widget-view+json": {
       "model_id": "8e41e74ba90f45db905c5249dd28c109",
       "version_major": 2,
       "version_minor": 0
      },
      "text/plain": [
       "Checkbox(value=False, description='Transverse bars placed parallel to abutments for bridges with skews less th…"
      ]
     },
     "metadata": {},
     "output_type": "display_data"
    },
    {
     "data": {
      "application/vnd.jupyter.widget-view+json": {
       "model_id": "077c0a25c0c04bb39019ddc7d240a755",
       "version_major": 2,
       "version_minor": 0
      },
      "text/plain": [
       "Checkbox(value=False, description='Length of transverse bars without lap splices 5 inches shorter than deck (e…"
      ]
     },
     "metadata": {},
     "output_type": "display_data"
    },
    {
     "data": {
      "application/vnd.jupyter.widget-view+json": {
       "model_id": "396b2037f0264d72bbcb6df086342134",
       "version_major": 2,
       "version_minor": 0
      },
      "text/plain": [
       "Checkbox(value=False, description='(Transverse) bars See BDM 309.3.4.1', indent=False, layout=Layout(margin='6…"
      ]
     },
     "metadata": {},
     "output_type": "display_data"
    },
    {
     "data": {
      "application/vnd.jupyter.widget-view+json": {
       "model_id": "60cbbc019380450c925e5d59a38886f6",
       "version_major": 2,
       "version_minor": 0
      },
      "text/plain": [
       "Checkbox(value=False, description='Secondary (longitudinal) bars placed above main See BDM 309.3.4.1', indent=…"
      ]
     },
     "metadata": {},
     "output_type": "display_data"
    },
    {
     "data": {
      "application/vnd.jupyter.widget-view+json": {
       "model_id": "684a4ca629c341fd8c1eb6735628968e",
       "version_major": 2,
       "version_minor": 0
      },
      "text/plain": [
       "Checkbox(value=False, description='Additional top longitudinal bars with ends staggered 3\\'-0\" provided over p…"
      ]
     },
     "metadata": {},
     "output_type": "display_data"
    },
    {
     "data": {
      "application/vnd.jupyter.widget-view+json": {
       "model_id": "b82f0d9cf35645d69fabe37a26f6b872",
       "version_major": 2,
       "version_minor": 0
      },
      "text/plain": [
       "Checkbox(value=False, description='Screed elevations given along curb lines/edges of deck, roadway crown, tran…"
      ]
     },
     "metadata": {},
     "output_type": "display_data"
    },
    {
     "data": {
      "application/vnd.jupyter.widget-view+json": {
       "model_id": "27d353c0ca284ce191931fae9bb32524",
       "version_major": 2,
       "version_minor": 0
      },
      "text/plain": [
       "Checkbox(value=False, description='Slab pour sequence generally specified only when uplift during construction…"
      ]
     },
     "metadata": {},
     "output_type": "display_data"
    },
    {
     "data": {
      "application/vnd.jupyter.widget-view+json": {
       "model_id": "a1e9e94f521f4a709cfce6308de3c750",
       "version_major": 2,
       "version_minor": 0
      },
      "text/plain": [
       "Checkbox(value=False, description='Check three independent sources of girder twist resulting from deck placeme…"
      ]
     },
     "metadata": {},
     "output_type": "display_data"
    },
    {
     "data": {
      "application/vnd.jupyter.widget-view+json": {
       "model_id": "a2e5244eaf204916a6824d9eb343d90d",
       "version_major": 2,
       "version_minor": 0
      },
      "text/plain": [
       "Checkbox(value=False, description='Neglect girder twist due to global deformation if the tributary deck load c…"
      ]
     },
     "metadata": {},
     "output_type": "display_data"
    },
    {
     "data": {
      "application/vnd.jupyter.widget-view+json": {
       "model_id": "3ce2b5881daf41bbb5f9c83bbf4ef913",
       "version_major": 2,
       "version_minor": 0
      },
      "text/plain": [
       "Checkbox(value=False, description='For web depth greater than 84 inches note for location of lower contact poi…"
      ]
     },
     "metadata": {},
     "output_type": "display_data"
    },
    {
     "data": {
      "application/vnd.jupyter.widget-view+json": {
       "model_id": "f18b86cab53f4f8988adbe71dbc675df",
       "version_major": 2,
       "version_minor": 0
      },
      "text/plain": [
       "Checkbox(value=False, description='Screed, top of haunch and finished deck surface shown and note included? Se…"
      ]
     },
     "metadata": {},
     "output_type": "display_data"
    },
    {
     "data": {
      "application/vnd.jupyter.widget-view+json": {
       "model_id": "da3ffb18928948a29a06b0d060810a31",
       "version_major": 2,
       "version_minor": 0
      },
      "text/plain": [
       "Checkbox(value=False, description='The final deck surface elevation locations should be identified in a plan v…"
      ]
     },
     "metadata": {},
     "output_type": "display_data"
    },
    {
     "data": {
      "application/vnd.jupyter.widget-view+json": {
       "model_id": "2c52741ba0b448c3ac352cd97a5ab1ef",
       "version_major": 2,
       "version_minor": 0
      },
      "text/plain": [
       "Checkbox(value=False, description='The screed elevation locations should be identified on the transverse secti…"
      ]
     },
     "metadata": {},
     "output_type": "display_data"
    },
    {
     "data": {
      "application/vnd.jupyter.widget-view+json": {
       "model_id": "648d7fdb108f4ea2bebcc744baf1b54c",
       "version_major": 2,
       "version_minor": 0
      },
      "text/plain": [
       "Checkbox(value=False, description='The top of haunch elevation locations should be identified on the transvers…"
      ]
     },
     "metadata": {},
     "output_type": "display_data"
    },
    {
     "data": {
      "application/vnd.jupyter.widget-view+json": {
       "model_id": "1d070617ab5940a0a16d8c48d5c53b1c",
       "version_major": 2,
       "version_minor": 0
      },
      "text/plain": [
       "Checkbox(value=False, description='Deck placement design assumptions note is included. See BDM 611.4.2', inden…"
      ]
     },
     "metadata": {},
     "output_type": "display_data"
    }
   ],
   "source": [
    "# Function to display the \"concrete_deck_on_stringers\" section\n",
    "def display_concrete_deck_on_stringers():\n",
    "    header = widgets.HTML(\"<b><u>Concrete Deck on Stringers</u></b>\")\n",
    "    display(header)\n",
    "    checkboxes = []\n",
    "    for criterion in concrete_deck_on_stringers_criteria:\n",
    "        label = criterion[\"label\"]\n",
    "        # Add \"See BDM {section}\" for items with a 'section' entry\n",
    "        if \"section\" in criterion:\n",
    "            label = f\"{label} See BDM {criterion['section']}\"\n",
    "        checkbox = widgets.Checkbox(\n",
    "            description=label,\n",
    "            value=False,\n",
    "            indent=False,\n",
    "            layout=widgets.Layout(width='100%', margin='6px 0 0 0px')\n",
    "        )\n",
    "        checkbox.style = {'description_width': '0px'}\n",
    "        checkboxes.append(checkbox)\n",
    "        display(checkbox)\n",
    "\n",
    "# Display the \"concrete_deck_on_stringers\" section\n",
    "display_concrete_deck_on_stringers()"
   ]
  },
  {
   "cell_type": "markdown",
   "id": "a5586ae5-9959-4512-9f69-121d9cb3a76a",
   "metadata": {},
   "source": [
    "## Railing/Fence"
   ]
  },
  {
   "cell_type": "markdown",
   "id": "d9617f71-5640-4d26-977d-9a84ab293bc4",
   "metadata": {},
   "source": [
    "### Deep Beam Railing"
   ]
  },
  {
   "cell_type": "code",
   "execution_count": 65,
   "id": "85ff97ab-239d-4208-8c96-92b899d9da6d",
   "metadata": {},
   "outputs": [],
   "source": [
    "# Define the deep_beam_railing criteria\n",
    "deep_beam_railing_criteria = [\n",
    "    {\"label\": \"Deep beam guardrail must be used in accordance with\", \"section\": \"309.4.3.4\"}\n",
    "]"
   ]
  },
  {
   "cell_type": "code",
   "execution_count": 66,
   "id": "e766eef8-f6a4-4b90-8aaf-009892ced96e",
   "metadata": {},
   "outputs": [
    {
     "data": {
      "application/vnd.jupyter.widget-view+json": {
       "model_id": "185ea6cbf17646fdb1bec70184af1773",
       "version_major": 2,
       "version_minor": 0
      },
      "text/plain": [
       "HTML(value='<b><u>Deep Beam Railing</u></b>')"
      ]
     },
     "metadata": {},
     "output_type": "display_data"
    },
    {
     "data": {
      "application/vnd.jupyter.widget-view+json": {
       "model_id": "d47affe3fdc5483a8bed65ca11e7c784",
       "version_major": 2,
       "version_minor": 0
      },
      "text/plain": [
       "Checkbox(value=False, description='Deep beam guardrail must be used in accordance with See BDM 309.4.3.4', ind…"
      ]
     },
     "metadata": {},
     "output_type": "display_data"
    }
   ],
   "source": [
    "# Function to display the \"deep_beam_railing\" section\n",
    "def display_deep_beam_railing():\n",
    "    header = widgets.HTML(\"<b><u>Deep Beam Railing</u></b>\")\n",
    "    display(header)\n",
    "    checkboxes = []\n",
    "    for criterion in deep_beam_railing_criteria:\n",
    "        label = criterion[\"label\"]\n",
    "        # Add \"See BDM {section}\" for items with a 'section' entry\n",
    "        if \"section\" in criterion:\n",
    "            label = f\"{label} See BDM {criterion['section']}\"\n",
    "        checkbox = widgets.Checkbox(\n",
    "            description=label,\n",
    "            value=False,\n",
    "            indent=False,\n",
    "            layout=widgets.Layout(width='100%', margin='6px 0 0 0px')\n",
    "        )\n",
    "        checkbox.style = {'description_width': '0px'}\n",
    "        checkboxes.append(checkbox)\n",
    "        display(checkbox)\n",
    "\n",
    "# Display the \"deep_beam_railing\" section\n",
    "display_deep_beam_railing()"
   ]
  },
  {
   "cell_type": "markdown",
   "id": "e818f979-7fb4-4183-8dc8-4fd662c19fcd",
   "metadata": {},
   "source": [
    "### Twin Steel Tube Rail"
   ]
  },
  {
   "cell_type": "code",
   "execution_count": 67,
   "id": "aaa9319a-3236-46cd-926e-4bb29052c245",
   "metadata": {},
   "outputs": [],
   "source": [
    "# Define the twin_steel_tube criteria\n",
    "twin_steel_tube_criteria = [\n",
    "    {\"label\": \"Reference to Standard Drawing. TST-1-99 Given.\"},\n",
    "    {\"label\": \"Pay limits for bridge railing measured center-to-center of the second posts on the approaches?\"},\n",
    "    {\"label\": \"Rail post spacing of 6'-3\\\" c/c of post maintained except one post spacing per span can be decreased to allow for construction clearances.\"},\n",
    "    {\"label\": \"Suitable clearances between posts and back walls and between post anchors and expansion joint armor anchors provided?\"},\n",
    "    {\"label\": \"Wing-wall mounted post used to provide suitable post and anchor bar clearances?\"},\n",
    "    {\"label\": \"For box beam bridges with steel railing, the post spacing and position of post anchorage shall be detailed on the plans.\"},\n",
    "    {\"label\": \"Enlarged details provided to describe post anchorage to composite box beams?\"}\n",
    "]"
   ]
  },
  {
   "cell_type": "code",
   "execution_count": 68,
   "id": "fdf56e86-04f4-48e0-8c28-5eeafaaf8eb4",
   "metadata": {},
   "outputs": [
    {
     "data": {
      "application/vnd.jupyter.widget-view+json": {
       "model_id": "89a13273962246c3a14725b664e6f5fc",
       "version_major": 2,
       "version_minor": 0
      },
      "text/plain": [
       "HTML(value='<b><u>Twin Steel Tube</u></b>')"
      ]
     },
     "metadata": {},
     "output_type": "display_data"
    },
    {
     "data": {
      "application/vnd.jupyter.widget-view+json": {
       "model_id": "0551cce40e4c4022a2b7063aab59f61c",
       "version_major": 2,
       "version_minor": 0
      },
      "text/plain": [
       "Checkbox(value=False, description='Reference to Standard Drawing. TST-1-99 Given.', indent=False, layout=Layou…"
      ]
     },
     "metadata": {},
     "output_type": "display_data"
    },
    {
     "data": {
      "application/vnd.jupyter.widget-view+json": {
       "model_id": "d4241dd76da44621a91aa7e6718c9e34",
       "version_major": 2,
       "version_minor": 0
      },
      "text/plain": [
       "Checkbox(value=False, description='Pay limits for bridge railing measured center-to-center of the second posts…"
      ]
     },
     "metadata": {},
     "output_type": "display_data"
    },
    {
     "data": {
      "application/vnd.jupyter.widget-view+json": {
       "model_id": "664d2934f827464ba95ac5b208e047d1",
       "version_major": 2,
       "version_minor": 0
      },
      "text/plain": [
       "Checkbox(value=False, description='Rail post spacing of 6\\'-3\" c/c of post maintained except one post spacing …"
      ]
     },
     "metadata": {},
     "output_type": "display_data"
    },
    {
     "data": {
      "application/vnd.jupyter.widget-view+json": {
       "model_id": "dc8cb5e84ea042ed809822d869f932aa",
       "version_major": 2,
       "version_minor": 0
      },
      "text/plain": [
       "Checkbox(value=False, description='Suitable clearances between posts and back walls and between post anchors a…"
      ]
     },
     "metadata": {},
     "output_type": "display_data"
    },
    {
     "data": {
      "application/vnd.jupyter.widget-view+json": {
       "model_id": "d44e7a72b68a42b1801c1028e27f2adb",
       "version_major": 2,
       "version_minor": 0
      },
      "text/plain": [
       "Checkbox(value=False, description='Wing-wall mounted post used to provide suitable post and anchor bar clearan…"
      ]
     },
     "metadata": {},
     "output_type": "display_data"
    },
    {
     "data": {
      "application/vnd.jupyter.widget-view+json": {
       "model_id": "0eb11960fd044677b4e5f021b8e7c6c0",
       "version_major": 2,
       "version_minor": 0
      },
      "text/plain": [
       "Checkbox(value=False, description='For box beam bridges with steel railing, the post spacing and position of p…"
      ]
     },
     "metadata": {},
     "output_type": "display_data"
    },
    {
     "data": {
      "application/vnd.jupyter.widget-view+json": {
       "model_id": "1be5a0f97eba4fc288c8874c136d71b3",
       "version_major": 2,
       "version_minor": 0
      },
      "text/plain": [
       "Checkbox(value=False, description='Enlarged details provided to describe post anchorage to composite box beams…"
      ]
     },
     "metadata": {},
     "output_type": "display_data"
    }
   ],
   "source": [
    "# Function to display the \"twin_steel_tube\" section\n",
    "def display_twin_steel_tube():\n",
    "    header = widgets.HTML(\"<b><u>Twin Steel Tube</u></b>\")\n",
    "    display(header)\n",
    "    checkboxes = []\n",
    "    for criterion in twin_steel_tube_criteria:\n",
    "        label = criterion[\"label\"]\n",
    "        checkbox = widgets.Checkbox(\n",
    "            description=label,\n",
    "            value=False,\n",
    "            indent=False,\n",
    "            layout=widgets.Layout(width='100%', margin='6px 0 0 0px')\n",
    "        )\n",
    "        checkbox.style = {'description_width': '0px'}\n",
    "        checkboxes.append(checkbox)\n",
    "        display(checkbox)\n",
    "\n",
    "# Display the \"twin_steel_tube\" section\n",
    "display_twin_steel_tube()"
   ]
  },
  {
   "cell_type": "markdown",
   "id": "6e8193f8-ac93-4a42-9f43-2bf0329f4fec",
   "metadata": {},
   "source": [
    "### Sidewalk Railing with Concrete Parapet (BR-2-98 Type Railing)"
   ]
  },
  {
   "cell_type": "code",
   "execution_count": 69,
   "id": "e8e36b59-438b-496a-bfab-84f6139278fd",
   "metadata": {},
   "outputs": [],
   "source": [
    "# Define the sidewalk_with_conc_para criteria\n",
    "sidewalk_with_conc_para_criteria = [\n",
    "    {\"label\": \"Railing posts spaced to clear parapet deflection joints as per STD-BR-2-15.\"},\n",
    "    {\"label\": \"Radius of curved railing not less than 20 feet without special details. This is noted in STD-BR-2-15 Sheet 5 of 5 Under Horizontal Curvatures Title.\"},\n",
    "    {\"label\": \"All horizontal reinforcing steel should be detailed as per STD-BR-2-15.\"},\n",
    "    {\"label\": \"Steel tubing has provision for Expansion and Contraction as shown on STD-BR-2-15 Sheet 1 of 5 View D-D.\"}\n",
    "]"
   ]
  },
  {
   "cell_type": "code",
   "execution_count": 70,
   "id": "eb898087-f267-4ef3-9a48-1f1bcc0e4ea1",
   "metadata": {},
   "outputs": [
    {
     "data": {
      "application/vnd.jupyter.widget-view+json": {
       "model_id": "49423e5016f64315a08f3366adc65605",
       "version_major": 2,
       "version_minor": 0
      },
      "text/plain": [
       "HTML(value='<b><u>Sidewalk with Concrete Parapet</u></b>')"
      ]
     },
     "metadata": {},
     "output_type": "display_data"
    },
    {
     "data": {
      "application/vnd.jupyter.widget-view+json": {
       "model_id": "59d60d4feaf74322a26f3c0f7207e3aa",
       "version_major": 2,
       "version_minor": 0
      },
      "text/plain": [
       "Checkbox(value=False, description='Railing posts spaced to clear parapet deflection joints as per STD-BR-2-15.…"
      ]
     },
     "metadata": {},
     "output_type": "display_data"
    },
    {
     "data": {
      "application/vnd.jupyter.widget-view+json": {
       "model_id": "9d29d4ccd7664096bd9ec4e59c14f553",
       "version_major": 2,
       "version_minor": 0
      },
      "text/plain": [
       "Checkbox(value=False, description='Radius of curved railing not less than 20 feet without special details. Thi…"
      ]
     },
     "metadata": {},
     "output_type": "display_data"
    },
    {
     "data": {
      "application/vnd.jupyter.widget-view+json": {
       "model_id": "4e209d8628e745ad9e008586537ae2e0",
       "version_major": 2,
       "version_minor": 0
      },
      "text/plain": [
       "Checkbox(value=False, description='All horizontal reinforcing steel should be detailed as per STD-BR-2-15.', i…"
      ]
     },
     "metadata": {},
     "output_type": "display_data"
    },
    {
     "data": {
      "application/vnd.jupyter.widget-view+json": {
       "model_id": "a000fbd9374c4a1982c94257e7027cca",
       "version_major": 2,
       "version_minor": 0
      },
      "text/plain": [
       "Checkbox(value=False, description='Steel tubing has provision for Expansion and Contraction as shown on STD-BR…"
      ]
     },
     "metadata": {},
     "output_type": "display_data"
    }
   ],
   "source": [
    "# Function to display the \"sidewalk_with_conc_para\" section\n",
    "def display_sidewalk_with_conc_para():\n",
    "    header = widgets.HTML(\"<b><u>Sidewalk with Concrete Parapet</u></b>\")\n",
    "    display(header)\n",
    "    checkboxes = []\n",
    "    for criterion in sidewalk_with_conc_para_criteria:\n",
    "        label = criterion[\"label\"]\n",
    "        checkbox = widgets.Checkbox(\n",
    "            description=label,\n",
    "            value=False,\n",
    "            indent=False,\n",
    "            layout=widgets.Layout(width='100%', margin='6px 0 0 0px')\n",
    "        )\n",
    "        checkbox.style = {'description_width': '0px'}\n",
    "        checkboxes.append(checkbox)\n",
    "        display(checkbox)\n",
    "\n",
    "# Display the \"sidewalk_with_conc_para\" section\n",
    "display_sidewalk_with_conc_para()"
   ]
  },
  {
   "cell_type": "markdown",
   "id": "7b588534-5344-4df9-8b18-e4cad1a905c0",
   "metadata": {},
   "source": [
    "### Parapet Type Railing"
   ]
  },
  {
   "cell_type": "code",
   "execution_count": 71,
   "id": "bcae8ab7-faeb-4981-834c-00de95526cf7",
   "metadata": {},
   "outputs": [],
   "source": [
    "# Define the parapet_railing criteria\n",
    "parapet_railing_criteria = [\n",
    "    {\"label\": \"Parapet when to use per\", \"section\": \"309.4.3\"},\n",
    "    {\"label\": \"Complete details of the Parapet Type bridge railing shown on the plans?\"},\n",
    "    {\"label\": \"Railing transition preferably mounted on turn back abutment wingwalls or approach slabs?\"},\n",
    "    {\"label\": \"For bridges with expansion joints and with parapets mounted on approach slabs, the 1'-1\\\" high base portion of the parapets within the width of back walls are reinforced and placed as part of the abutments to provide an integral structure for mounting the expansion joint armor?\"},\n",
    "    {\"label\": \"Such parapets provided with special reinforcement and joint details to allow consolidation induced rotation of the approach slabs without parapet distress?\"},\n",
    "    {\"label\": \"Curb heights on approach slabs limited to 4 inches as shown in Section F-F on Deflector Parapet Type drawing?\"},\n",
    "    {\"label\": \"Details of filler between approach slab and turn back wing-wall at the base of the parapet made to conform to DETAIL F of Standard Drawing AS-1-15.\"},\n",
    "    {\"label\": \"Parapet length of 14'-0\\\" or more provided to allow the standard transition length to be used?\"},\n",
    "    {\"label\": \"Reference made to the roadway plans for details and payment provisions for Bridge Terminal Assembly\", \"section\": \"Drawings MGS-3.1 and MGS-3.2\"}\n",
    "]"
   ]
  },
  {
   "cell_type": "code",
   "execution_count": 72,
   "id": "e64285c6-39e9-46eb-bf97-3d8c04265431",
   "metadata": {},
   "outputs": [
    {
     "data": {
      "application/vnd.jupyter.widget-view+json": {
       "model_id": "65222168a96845c08ee1f18c3808cc74",
       "version_major": 2,
       "version_minor": 0
      },
      "text/plain": [
       "HTML(value='<b><u>Parapet Railing</u></b>')"
      ]
     },
     "metadata": {},
     "output_type": "display_data"
    },
    {
     "data": {
      "application/vnd.jupyter.widget-view+json": {
       "model_id": "0ffd7c6c5dd748e98d72f3eacad9dedb",
       "version_major": 2,
       "version_minor": 0
      },
      "text/plain": [
       "Checkbox(value=False, description='Parapet when to use per See BDM 309.4.3', indent=False, layout=Layout(margi…"
      ]
     },
     "metadata": {},
     "output_type": "display_data"
    },
    {
     "data": {
      "application/vnd.jupyter.widget-view+json": {
       "model_id": "3c3e325e8fcc42b29d4d0f2516d511d6",
       "version_major": 2,
       "version_minor": 0
      },
      "text/plain": [
       "Checkbox(value=False, description='Complete details of the Parapet Type bridge railing shown on the plans?', i…"
      ]
     },
     "metadata": {},
     "output_type": "display_data"
    },
    {
     "data": {
      "application/vnd.jupyter.widget-view+json": {
       "model_id": "1ecec30a6bf849d8a0d21a7ce30a682a",
       "version_major": 2,
       "version_minor": 0
      },
      "text/plain": [
       "Checkbox(value=False, description='Railing transition preferably mounted on turn back abutment wingwalls or ap…"
      ]
     },
     "metadata": {},
     "output_type": "display_data"
    },
    {
     "data": {
      "application/vnd.jupyter.widget-view+json": {
       "model_id": "909a353b92da4acfb32424bc35fa3cb8",
       "version_major": 2,
       "version_minor": 0
      },
      "text/plain": [
       "Checkbox(value=False, description='For bridges with expansion joints and with parapets mounted on approach sla…"
      ]
     },
     "metadata": {},
     "output_type": "display_data"
    },
    {
     "data": {
      "application/vnd.jupyter.widget-view+json": {
       "model_id": "12b82fa5893942c0bcc886e393425922",
       "version_major": 2,
       "version_minor": 0
      },
      "text/plain": [
       "Checkbox(value=False, description='Such parapets provided with special reinforcement and joint details to allo…"
      ]
     },
     "metadata": {},
     "output_type": "display_data"
    },
    {
     "data": {
      "application/vnd.jupyter.widget-view+json": {
       "model_id": "38d23d6fda824838b10ea9d7afcd5eee",
       "version_major": 2,
       "version_minor": 0
      },
      "text/plain": [
       "Checkbox(value=False, description='Curb heights on approach slabs limited to 4 inches as shown in Section F-F …"
      ]
     },
     "metadata": {},
     "output_type": "display_data"
    },
    {
     "data": {
      "application/vnd.jupyter.widget-view+json": {
       "model_id": "4e1dbd055e13422d9b7cb692d09c17fc",
       "version_major": 2,
       "version_minor": 0
      },
      "text/plain": [
       "Checkbox(value=False, description='Details of filler between approach slab and turn back wing-wall at the base…"
      ]
     },
     "metadata": {},
     "output_type": "display_data"
    },
    {
     "data": {
      "application/vnd.jupyter.widget-view+json": {
       "model_id": "4725fddfff1b48caaf409f5a86be1de5",
       "version_major": 2,
       "version_minor": 0
      },
      "text/plain": [
       "Checkbox(value=False, description='Parapet length of 14\\'-0\" or more provided to allow the standard transition…"
      ]
     },
     "metadata": {},
     "output_type": "display_data"
    },
    {
     "data": {
      "application/vnd.jupyter.widget-view+json": {
       "model_id": "576440d729ca482fb7199451f45b5a1c",
       "version_major": 2,
       "version_minor": 0
      },
      "text/plain": [
       "Checkbox(value=False, description='Reference made to the roadway plans for details and payment provisions for …"
      ]
     },
     "metadata": {},
     "output_type": "display_data"
    }
   ],
   "source": [
    "# Function to display the \"parapet_railing\" section\n",
    "def display_parapet_railing():\n",
    "    header = widgets.HTML(\"<b><u>Parapet Railing</u></b>\")\n",
    "    display(header)\n",
    "    checkboxes = []\n",
    "    for criterion in parapet_railing_criteria:\n",
    "        label = criterion[\"label\"]\n",
    "        # Add \"See BDM {section}\" for items with a 'section' entry\n",
    "        if \"section\" in criterion:\n",
    "            label = f\"{label} See BDM {criterion['section']}\"\n",
    "        checkbox = widgets.Checkbox(\n",
    "            description=label,\n",
    "            value=False,\n",
    "            indent=False,\n",
    "            layout=widgets.Layout(width='100%', margin='6px 0 0 0px')\n",
    "        )\n",
    "        checkbox.style = {'description_width': '0px'}\n",
    "        checkboxes.append(checkbox)\n",
    "        display(checkbox)\n",
    "\n",
    "# Display the \"parapet_railing\" section\n",
    "display_parapet_railing()"
   ]
  },
  {
   "cell_type": "markdown",
   "id": "bc3ecef4-c6bc-4aaa-b882-0d234d4610ca",
   "metadata": {},
   "source": [
    "### Parapet and Fence Type Railing"
   ]
  },
  {
   "cell_type": "code",
   "execution_count": 73,
   "id": "b703a891-aae4-46ce-98ff-264a8403a0a2",
   "metadata": {},
   "outputs": [],
   "source": [
    "# Define the parapet_and_fence criteria\n",
    "parapet_and_fence_criteria = [\n",
    "    {\"label\": \"2'-8\\\" high parapets provided?\"},\n",
    "    {\"label\": \"New guideline for fencing? Fence used on all structure over live traffic except over County and Township roads.\"},\n",
    "    {\"label\": \"Fence details conform to Standard Drawings VPF-1-90?\"}\n",
    "]"
   ]
  },
  {
   "cell_type": "code",
   "execution_count": 74,
   "id": "16d3a376-af6e-4c3d-8914-8da0726cba3c",
   "metadata": {},
   "outputs": [
    {
     "data": {
      "application/vnd.jupyter.widget-view+json": {
       "model_id": "226053bfe3e447cbb5f9d9bc7f87a743",
       "version_major": 2,
       "version_minor": 0
      },
      "text/plain": [
       "HTML(value='<b><u>Parapet and Fence</u></b>')"
      ]
     },
     "metadata": {},
     "output_type": "display_data"
    },
    {
     "data": {
      "application/vnd.jupyter.widget-view+json": {
       "model_id": "8e47e84e64424beaa29ee38c822aad0d",
       "version_major": 2,
       "version_minor": 0
      },
      "text/plain": [
       "Checkbox(value=False, description='2\\'-8\" high parapets provided?', indent=False, layout=Layout(margin='6px 0 …"
      ]
     },
     "metadata": {},
     "output_type": "display_data"
    },
    {
     "data": {
      "application/vnd.jupyter.widget-view+json": {
       "model_id": "c7f90de92fb24806a7b57044746153d2",
       "version_major": 2,
       "version_minor": 0
      },
      "text/plain": [
       "Checkbox(value=False, description='New guideline for fencing? Fence used on all structure over live traffic ex…"
      ]
     },
     "metadata": {},
     "output_type": "display_data"
    },
    {
     "data": {
      "application/vnd.jupyter.widget-view+json": {
       "model_id": "e07696d8c0144c42afdd894a078145ed",
       "version_major": 2,
       "version_minor": 0
      },
      "text/plain": [
       "Checkbox(value=False, description='Fence details conform to Standard Drawings VPF-1-90?', indent=False, layout…"
      ]
     },
     "metadata": {},
     "output_type": "display_data"
    }
   ],
   "source": [
    "# Function to display the \"parapet_and_fence\" section\n",
    "def display_parapet_and_fence():\n",
    "    header = widgets.HTML(\"<b><u>Parapet and Fence</u></b>\")\n",
    "    display(header)\n",
    "    checkboxes = []\n",
    "    for criterion in parapet_and_fence_criteria:\n",
    "        label = criterion[\"label\"]\n",
    "        checkbox = widgets.Checkbox(\n",
    "            description=label,\n",
    "            value=False,\n",
    "            indent=False,\n",
    "            layout=widgets.Layout(width='100%', margin='6px 0 0 0px')\n",
    "        )\n",
    "        checkbox.style = {'description_width': '0px'}\n",
    "        checkboxes.append(checkbox)\n",
    "        display(checkbox)\n",
    "\n",
    "# Display the \"parapet_and_fence\" section\n",
    "display_parapet_and_fence()"
   ]
  },
  {
   "cell_type": "markdown",
   "id": "1c3fff0f-9d82-4d76-8d57-a7d7bc5ff927",
   "metadata": {},
   "source": [
    "## Bearings"
   ]
  },
  {
   "cell_type": "markdown",
   "id": "9588dcfd-c372-490a-8abf-3c1cf7c0ace1",
   "metadata": {},
   "source": [
    "### Elastomeric Bearings"
   ]
  },
  {
   "cell_type": "code",
   "execution_count": 75,
   "id": "4f85e22c-65b2-4563-90cf-7cf7114ba9d5",
   "metadata": {},
   "outputs": [],
   "source": [
    "# Define the elastomeric_bearings criteria\n",
    "elastomeric_bearings_criteria = [\n",
    "    {\"label\": \"Steel load plate provided for attachment to steel members?\", \"section\": \"306.4.2\"},\n",
    "    {\"label\": \"Elastomer hardness specified?\", \"section\": \"306.4.2\"},\n",
    "    {\"label\": \"An elastomeric pad thickness of 1 inch or more provided (Such pads generally must be reinforced with steel laminates)?\", \"section\": \"306.4.2\"},\n",
    "    {\"label\": \"A tabulation of unfactored dead load, live load excluding impact, and 'Maximum Design Load' given?\"},\n",
    "    {\"label\": \"For prestressed box beam bridges without external steel load plates, bearing shall conform to Standard Drawing BD-1-11?\"},\n",
    "    {\"label\": \"Elastomeric bearing with a load plate shall have the plate beveled if the rotation and/or grade exceed the limitations of AASHTO LRFD 14.7.5.3.3 Method B and 14.7.6.3.5 Method A?\"},\n",
    "    {\"label\": \"Provided with bearing details.\", \"section\": \"Note no. 702.13\"},\n",
    "    {\"label\": \"Top and bottom cover layers should not be thicker than 70% of internal layers\", \"section\": \"AASHTO LRFD 14.7.6.1\"},\n",
    "    {\"label\": \"No top cover layer for bearing with load plate.\", \"section\": \"AASHTO LRFD 14.7.6.1\"},\n",
    "    {\"label\": \"Following note included: 'All bearings shall be marked prior to shipping. The marks shall include the bearing location on the bridge, and a direction arrow that points up-station. All marks shall be permanent and be visible after the bearing is installed.'\"},\n",
    "    {\"label\": \"A plate bigger than bottom flange on top of HP section so that it can be welded from the top.\"}\n",
    "]"
   ]
  },
  {
   "cell_type": "code",
   "execution_count": 76,
   "id": "7c7f8b4f-a31d-42b3-94ef-09db211eda9b",
   "metadata": {},
   "outputs": [
    {
     "data": {
      "application/vnd.jupyter.widget-view+json": {
       "model_id": "49ca993dd4d04fbdbf2bc15ad41eb9b3",
       "version_major": 2,
       "version_minor": 0
      },
      "text/plain": [
       "HTML(value='<b><u>Elastomeric Bearings</u></b>')"
      ]
     },
     "metadata": {},
     "output_type": "display_data"
    },
    {
     "data": {
      "application/vnd.jupyter.widget-view+json": {
       "model_id": "7300434a4edd4259b043dc787307bdd3",
       "version_major": 2,
       "version_minor": 0
      },
      "text/plain": [
       "Checkbox(value=False, description='Steel load plate provided for attachment to steel members? See BDM 306.4.2'…"
      ]
     },
     "metadata": {},
     "output_type": "display_data"
    },
    {
     "data": {
      "application/vnd.jupyter.widget-view+json": {
       "model_id": "65188ade9d1e40079ba2d9cd5a604931",
       "version_major": 2,
       "version_minor": 0
      },
      "text/plain": [
       "Checkbox(value=False, description='Elastomer hardness specified? See BDM 306.4.2', indent=False, layout=Layout…"
      ]
     },
     "metadata": {},
     "output_type": "display_data"
    },
    {
     "data": {
      "application/vnd.jupyter.widget-view+json": {
       "model_id": "d9c45a0e88954fe889a1f6a422884104",
       "version_major": 2,
       "version_minor": 0
      },
      "text/plain": [
       "Checkbox(value=False, description='An elastomeric pad thickness of 1 inch or more provided (Such pads generall…"
      ]
     },
     "metadata": {},
     "output_type": "display_data"
    },
    {
     "data": {
      "application/vnd.jupyter.widget-view+json": {
       "model_id": "1a85d0c2ce994fd2afa285f2eecc07e4",
       "version_major": 2,
       "version_minor": 0
      },
      "text/plain": [
       "Checkbox(value=False, description=\"A tabulation of unfactored dead load, live load excluding impact, and 'Maxi…"
      ]
     },
     "metadata": {},
     "output_type": "display_data"
    },
    {
     "data": {
      "application/vnd.jupyter.widget-view+json": {
       "model_id": "c82514451ac64c41bfc344d762ff3e2f",
       "version_major": 2,
       "version_minor": 0
      },
      "text/plain": [
       "Checkbox(value=False, description='For prestressed box beam bridges without external steel load plates, bearin…"
      ]
     },
     "metadata": {},
     "output_type": "display_data"
    },
    {
     "data": {
      "application/vnd.jupyter.widget-view+json": {
       "model_id": "1619dbcb68e0410fb124847806abaa1e",
       "version_major": 2,
       "version_minor": 0
      },
      "text/plain": [
       "Checkbox(value=False, description='Elastomeric bearing with a load plate shall have the plate beveled if the r…"
      ]
     },
     "metadata": {},
     "output_type": "display_data"
    },
    {
     "data": {
      "application/vnd.jupyter.widget-view+json": {
       "model_id": "348b7d50ce764b989701f21039c4158b",
       "version_major": 2,
       "version_minor": 0
      },
      "text/plain": [
       "Checkbox(value=False, description='Provided with bearing details. See BDM Note no. 702.13', indent=False, layo…"
      ]
     },
     "metadata": {},
     "output_type": "display_data"
    },
    {
     "data": {
      "application/vnd.jupyter.widget-view+json": {
       "model_id": "901bfc8d63d44a1b93ef3a81ed1590a2",
       "version_major": 2,
       "version_minor": 0
      },
      "text/plain": [
       "Checkbox(value=False, description='Top and bottom cover layers should not be thicker than 70% of internal laye…"
      ]
     },
     "metadata": {},
     "output_type": "display_data"
    },
    {
     "data": {
      "application/vnd.jupyter.widget-view+json": {
       "model_id": "cb5c47999b294f5d995318c371493b8a",
       "version_major": 2,
       "version_minor": 0
      },
      "text/plain": [
       "Checkbox(value=False, description='No top cover layer for bearing with load plate. See BDM AASHTO LRFD 14.7.6.…"
      ]
     },
     "metadata": {},
     "output_type": "display_data"
    },
    {
     "data": {
      "application/vnd.jupyter.widget-view+json": {
       "model_id": "e65c769d808142c9a48bc6a9033db37b",
       "version_major": 2,
       "version_minor": 0
      },
      "text/plain": [
       "Checkbox(value=False, description=\"Following note included: 'All bearings shall be marked prior to shipping. T…"
      ]
     },
     "metadata": {},
     "output_type": "display_data"
    },
    {
     "data": {
      "application/vnd.jupyter.widget-view+json": {
       "model_id": "c08f49ca3ef6447b8594dc68742e6802",
       "version_major": 2,
       "version_minor": 0
      },
      "text/plain": [
       "Checkbox(value=False, description='A plate bigger than bottom flange on top of HP section so that it can be we…"
      ]
     },
     "metadata": {},
     "output_type": "display_data"
    }
   ],
   "source": [
    "# Function to display the \"elastomeric_bearings\" section\n",
    "def display_elastomeric_bearings():\n",
    "    header = widgets.HTML(\"<b><u>Elastomeric Bearings</u></b>\")\n",
    "    display(header)\n",
    "    checkboxes = []\n",
    "    for criterion in elastomeric_bearings_criteria:\n",
    "        label = criterion[\"label\"]\n",
    "        # Add \"See BDM {section}\" for items with a 'section' entry\n",
    "        if \"section\" in criterion:\n",
    "            label = f\"{label} See BDM {criterion['section']}\"\n",
    "        checkbox = widgets.Checkbox(\n",
    "            description=label,\n",
    "            value=False,\n",
    "            indent=False,\n",
    "            layout=widgets.Layout(width='100%', margin='6px 0 0 0px')\n",
    "        )\n",
    "        checkbox.style = {'description_width': '0px'}\n",
    "        checkboxes.append(checkbox)\n",
    "        display(checkbox)\n",
    "\n",
    "# Display the \"elastomeric_bearings\" section\n",
    "display_elastomeric_bearings()"
   ]
  },
  {
   "cell_type": "markdown",
   "id": "3910a000-dfd8-4406-82e6-871dbfc25103",
   "metadata": {},
   "source": [
    "### Anchor Bars"
   ]
  },
  {
   "cell_type": "code",
   "execution_count": 77,
   "id": "17fa340b-b6e2-432e-884a-633b179b9804",
   "metadata": {},
   "outputs": [],
   "source": [
    "# Define the anchor_bars criteria\n",
    "anchor_bars_criteria = [\n",
    "    {\n",
    "        \"label\": \"Furnishing and placing anchor bars and ¾” galvanized threaded rod included with Bearing box beams or I-beams) for payment?\",\n",
    "        \"section\": \"Standard Drawing BD-1-11, PSBD-2-07. Not required for PSBD-2-07\"\n",
    "    },\n",
    "    {\n",
    "        \"label\": \"For steel bearings, furnishing and placing anchor bars included with bearings for payment?\",\n",
    "        \"section\": \"RB-1-55 and FB-1-82\"\n",
    "    }\n",
    "]"
   ]
  },
  {
   "cell_type": "code",
   "execution_count": 78,
   "id": "7d91f722-8bb4-406a-ae21-5aaacfca957f",
   "metadata": {},
   "outputs": [
    {
     "data": {
      "application/vnd.jupyter.widget-view+json": {
       "model_id": "4b1ba8b9f7ee46cc8e6a98869cb84a1d",
       "version_major": 2,
       "version_minor": 0
      },
      "text/plain": [
       "HTML(value='<b><u>Anchor Bars</u></b>')"
      ]
     },
     "metadata": {},
     "output_type": "display_data"
    },
    {
     "data": {
      "application/vnd.jupyter.widget-view+json": {
       "model_id": "004e1be946a440d4842abbebfa511496",
       "version_major": 2,
       "version_minor": 0
      },
      "text/plain": [
       "Checkbox(value=False, description='Furnishing and placing anchor bars and ¾” galvanized threaded rod included …"
      ]
     },
     "metadata": {},
     "output_type": "display_data"
    },
    {
     "data": {
      "application/vnd.jupyter.widget-view+json": {
       "model_id": "13c009bf59a643f6bcf53f77aeea74d8",
       "version_major": 2,
       "version_minor": 0
      },
      "text/plain": [
       "Checkbox(value=False, description='For steel bearings, furnishing and placing anchor bars included with bearin…"
      ]
     },
     "metadata": {},
     "output_type": "display_data"
    }
   ],
   "source": [
    "# Function to display the \"anchor_bars\" section\n",
    "def display_anchor_bars():\n",
    "    header = widgets.HTML(\"<b><u>Anchor Bars</u></b>\")\n",
    "    display(header)\n",
    "    checkboxes = []\n",
    "    for criterion in anchor_bars_criteria:\n",
    "        label = criterion[\"label\"]\n",
    "        # Add \"See BDM {section}\" for items with a 'section' entry\n",
    "        if \"section\" in criterion:\n",
    "            label = f\"{label} See BDM {criterion['section']}\"\n",
    "        checkbox = widgets.Checkbox(\n",
    "            description=label,\n",
    "            value=False,\n",
    "            indent=False,\n",
    "            layout=widgets.Layout(width='100%', margin='6px 0 0 0px')\n",
    "        )\n",
    "        checkbox.style = {'description_width': '0px'}\n",
    "        checkboxes.append(checkbox)\n",
    "        display(checkbox)\n",
    "\n",
    "# Display the \"anchor_bars\" section\n",
    "display_anchor_bars()"
   ]
  },
  {
   "cell_type": "markdown",
   "id": "530e9dd7-b3a0-45b1-8e2d-5e3d3cf6ae80",
   "metadata": {},
   "source": [
    "### Anchor Bolt Layout"
   ]
  },
  {
   "cell_type": "code",
   "execution_count": 79,
   "id": "b6a6f14c-5454-486c-8b04-507df2fa6ceb",
   "metadata": {},
   "outputs": [],
   "source": [
    "# Define the anchor_bolt criteria\n",
    "anchor_bolt_criteria = [\n",
    "    {\"label\": \"Outline of masonry plate?\"},\n",
    "    {\"label\": \"Anchor bolt size and embedment length.\"},\n",
    "    {\"label\": \"Bearing Anchor Plan to adequately show the location of the bearing anchors with respect to the main reinforcing bars and the edges of the bridge seats shall be provided.\", \"section\": \"306.2.1.2\"}\n",
    "]"
   ]
  },
  {
   "cell_type": "code",
   "execution_count": 80,
   "id": "f8498da7-a987-4c27-8449-b79a7f8ebe54",
   "metadata": {},
   "outputs": [
    {
     "data": {
      "application/vnd.jupyter.widget-view+json": {
       "model_id": "84cd51333aed44e9a927dcd6ec35b8ea",
       "version_major": 2,
       "version_minor": 0
      },
      "text/plain": [
       "HTML(value='<b><u>Anchor Bolt</u></b>')"
      ]
     },
     "metadata": {},
     "output_type": "display_data"
    },
    {
     "data": {
      "application/vnd.jupyter.widget-view+json": {
       "model_id": "bc5548fe1f6c4c4b9cadf5f26516f54b",
       "version_major": 2,
       "version_minor": 0
      },
      "text/plain": [
       "Checkbox(value=False, description='Outline of masonry plate?', indent=False, layout=Layout(margin='6px 0 0 0px…"
      ]
     },
     "metadata": {},
     "output_type": "display_data"
    },
    {
     "data": {
      "application/vnd.jupyter.widget-view+json": {
       "model_id": "aa31360bbe1d478b8d25829236001773",
       "version_major": 2,
       "version_minor": 0
      },
      "text/plain": [
       "Checkbox(value=False, description='Anchor bolt size and embedment length.', indent=False, layout=Layout(margin…"
      ]
     },
     "metadata": {},
     "output_type": "display_data"
    },
    {
     "data": {
      "application/vnd.jupyter.widget-view+json": {
       "model_id": "fff0336f298a412aa90ee9328f05d21e",
       "version_major": 2,
       "version_minor": 0
      },
      "text/plain": [
       "Checkbox(value=False, description='Bearing Anchor Plan to adequately show the location of the bearing anchors …"
      ]
     },
     "metadata": {},
     "output_type": "display_data"
    }
   ],
   "source": [
    "# Function to display the \"anchor_bolt\" section\n",
    "def display_anchor_bolt():\n",
    "    header = widgets.HTML(\"<b><u>Anchor Bolt</u></b>\")\n",
    "    display(header)\n",
    "    checkboxes = []\n",
    "    for criterion in anchor_bolt_criteria:\n",
    "        label = criterion[\"label\"]\n",
    "        # Add \"See BDM {section}\" for items with a 'section' entry\n",
    "        if \"section\" in criterion:\n",
    "            label = f\"{label} See BDM {criterion['section']}\"\n",
    "        checkbox = widgets.Checkbox(\n",
    "            description=label,\n",
    "            value=False,\n",
    "            indent=False,\n",
    "            layout=widgets.Layout(width='100%', margin='6px 0 0 0px')\n",
    "        )\n",
    "        checkbox.style = {'description_width': '0px'}\n",
    "        checkboxes.append(checkbox)\n",
    "        display(checkbox)\n",
    "\n",
    "# Display the \"anchor_bolt\" section\n",
    "display_anchor_bolt()"
   ]
  },
  {
   "cell_type": "markdown",
   "id": "5d28b073-9411-4d25-93b7-e94adf38d7c3",
   "metadata": {},
   "source": [
    "### Bearings - Miscellaneous"
   ]
  },
  {
   "cell_type": "code",
   "execution_count": 81,
   "id": "d0e01e5f-5eab-4636-b000-019d25167666",
   "metadata": {},
   "outputs": [],
   "source": [
    "# Define the bearings_misc criteria\n",
    "bearings_misc_criteria = [\n",
    "    {\n",
    "        \"label\": \"Movement Provisions: Bearing movement provisions (Fixed, expansion restrained) indicated on the Site Plan and General Plan?\",\n",
    "        \"section\": \"201.1.2.2KI\"\n",
    "    },\n",
    "    {\"label\": \"Bearing designation (i.e., R-200) for each substructure unit indicated on the framing plan, beam elevation, or deck plan?\"},\n",
    "    {\"label\": \"Bearing details or reference to standard drawings given? Separate pay item provided for other than standard steel bearings (steel bearings for steel bridge are usually included with structural steel for payment)?\"},\n",
    "    {\"label\": \"Bearing types provided consistent with superstructure movement (longitudinal, lateral, and rotational)?\"},\n",
    "    {\"label\": \"Bearings/Joints: For bridges with sidewalk, bearing types compatible with deck joint characteristics?\"},\n",
    "    {\"label\": \"Bridge Seats: Bridge seats large enough for the size bearing used taken into account the need for edge clearances and construction tolerances (wider seats are usually provided for some bridges which are skewed greater than 30 degrees)?\"},\n",
    "    {\"label\": \"Grade Considerations: Tapered sole plates provided for rocker and bolster bearings for grades of 2 percent or greater?\"},\n",
    "    {\"label\": \"Coatings: Are notes provided to specify the type of coating required, if other than bare ASTM steel or Elastomeric bearings?\"},\n",
    "    {\"label\": \"Bridge seats adequate for earthquake provision?\", \"section\": \"306.2.1.1\"},\n",
    "    {\"label\": \"Are seismic restraints required?\", \"section\": \"1003 - S3.10.9.2, 303.1.4.1.a\"}\n",
    "]"
   ]
  },
  {
   "cell_type": "code",
   "execution_count": 82,
   "id": "6c351d7f-ea61-46f5-8c39-04eb6cde70d2",
   "metadata": {},
   "outputs": [
    {
     "data": {
      "application/vnd.jupyter.widget-view+json": {
       "model_id": "cdd6a1c0e1404fe7b5236e3655337fc3",
       "version_major": 2,
       "version_minor": 0
      },
      "text/plain": [
       "HTML(value='<b><u>Bearings Misc</u></b>')"
      ]
     },
     "metadata": {},
     "output_type": "display_data"
    },
    {
     "data": {
      "application/vnd.jupyter.widget-view+json": {
       "model_id": "53341f30aae048f383263abae58d0136",
       "version_major": 2,
       "version_minor": 0
      },
      "text/plain": [
       "Checkbox(value=False, description='Movement Provisions: Bearing movement provisions (Fixed, expansion restrain…"
      ]
     },
     "metadata": {},
     "output_type": "display_data"
    },
    {
     "data": {
      "application/vnd.jupyter.widget-view+json": {
       "model_id": "7db3a4d9925844788dde5ccf498bb8af",
       "version_major": 2,
       "version_minor": 0
      },
      "text/plain": [
       "Checkbox(value=False, description='Bearing designation (i.e., R-200) for each substructure unit indicated on t…"
      ]
     },
     "metadata": {},
     "output_type": "display_data"
    },
    {
     "data": {
      "application/vnd.jupyter.widget-view+json": {
       "model_id": "92845e4ab06e4955a337f53c62fff639",
       "version_major": 2,
       "version_minor": 0
      },
      "text/plain": [
       "Checkbox(value=False, description='Bearing details or reference to standard drawings given? Separate pay item …"
      ]
     },
     "metadata": {},
     "output_type": "display_data"
    },
    {
     "data": {
      "application/vnd.jupyter.widget-view+json": {
       "model_id": "3e8bad1e66184403b124d389c543032c",
       "version_major": 2,
       "version_minor": 0
      },
      "text/plain": [
       "Checkbox(value=False, description='Bearing types provided consistent with superstructure movement (longitudina…"
      ]
     },
     "metadata": {},
     "output_type": "display_data"
    },
    {
     "data": {
      "application/vnd.jupyter.widget-view+json": {
       "model_id": "d2c73ee9a03540eeb68898ffdc5756b9",
       "version_major": 2,
       "version_minor": 0
      },
      "text/plain": [
       "Checkbox(value=False, description='Bearings/Joints: For bridges with sidewalk, bearing types compatible with d…"
      ]
     },
     "metadata": {},
     "output_type": "display_data"
    },
    {
     "data": {
      "application/vnd.jupyter.widget-view+json": {
       "model_id": "d2fd478fbdf3491784ebe3215626225e",
       "version_major": 2,
       "version_minor": 0
      },
      "text/plain": [
       "Checkbox(value=False, description='Bridge Seats: Bridge seats large enough for the size bearing used taken int…"
      ]
     },
     "metadata": {},
     "output_type": "display_data"
    },
    {
     "data": {
      "application/vnd.jupyter.widget-view+json": {
       "model_id": "590f8b7269d149d9ba7e4e9574632e8d",
       "version_major": 2,
       "version_minor": 0
      },
      "text/plain": [
       "Checkbox(value=False, description='Grade Considerations: Tapered sole plates provided for rocker and bolster b…"
      ]
     },
     "metadata": {},
     "output_type": "display_data"
    },
    {
     "data": {
      "application/vnd.jupyter.widget-view+json": {
       "model_id": "da41ddb3a61c492d88283523f2c37101",
       "version_major": 2,
       "version_minor": 0
      },
      "text/plain": [
       "Checkbox(value=False, description='Coatings: Are notes provided to specify the type of coating required, if ot…"
      ]
     },
     "metadata": {},
     "output_type": "display_data"
    },
    {
     "data": {
      "application/vnd.jupyter.widget-view+json": {
       "model_id": "6e661f59bde84670adc039813e1cbb41",
       "version_major": 2,
       "version_minor": 0
      },
      "text/plain": [
       "Checkbox(value=False, description='Bridge seats adequate for earthquake provision? See BDM 306.2.1.1', indent=…"
      ]
     },
     "metadata": {},
     "output_type": "display_data"
    },
    {
     "data": {
      "application/vnd.jupyter.widget-view+json": {
       "model_id": "cecf5db98a1941209433ebe701f7c2d9",
       "version_major": 2,
       "version_minor": 0
      },
      "text/plain": [
       "Checkbox(value=False, description='Are seismic restraints required? See BDM 1003 - S3.10.9.2, 303.1.4.1.a', in…"
      ]
     },
     "metadata": {},
     "output_type": "display_data"
    }
   ],
   "source": [
    "# Function to display the \"bearings_misc\" section\n",
    "def display_bearings_misc():\n",
    "    header = widgets.HTML(\"<b><u>Bearings Misc</u></b>\")\n",
    "    display(header)\n",
    "    checkboxes = []\n",
    "    for criterion in bearings_misc_criteria:\n",
    "        label = criterion[\"label\"]\n",
    "        # Add \"See BDM {section}\" for items with a 'section' entry\n",
    "        if \"section\" in criterion:\n",
    "            label = f\"{label} See BDM {criterion['section']}\"\n",
    "        checkbox = widgets.Checkbox(\n",
    "            description=label,\n",
    "            value=False,\n",
    "            indent=False,\n",
    "            layout=widgets.Layout(width='100%', margin='6px 0 0 0px')\n",
    "        )\n",
    "        checkbox.style = {'description_width': '0px'}\n",
    "        checkboxes.append(checkbox)\n",
    "        display(checkbox)\n",
    "\n",
    "# Display the \"bearings_misc\" section\n",
    "display_bearings_misc()"
   ]
  },
  {
   "cell_type": "markdown",
   "id": "052551f9-5f45-42df-a0bd-737e55a3f06c",
   "metadata": {},
   "source": [
    "## Deck Joints"
   ]
  },
  {
   "cell_type": "markdown",
   "id": "30595bd8-f483-45b2-b898-a94f44a47264",
   "metadata": {},
   "source": [
    "### Terminal Details"
   ]
  },
  {
   "cell_type": "code",
   "execution_count": 83,
   "id": "188728d6-883a-42c0-85f4-f14cced6fc04",
   "metadata": {},
   "outputs": [],
   "source": [
    "# Define the deck_joint_terminal criteria\n",
    "deck_joint_terminal_criteria = [\n",
    "    {\n",
    "        \"label\": \"To confine deck drainage, recessed joint seals, joints terminated as shown in Sections A-A and F-F of Standard Drawings EXJ-2-81 and EXJ-3-82; and Sections B-B and F-F Of Standard Drawing EXJ-4-87 and EXJ-5-93.\"\n",
    "    },\n",
    "    {\n",
    "        \"label\": \"For new bridges with over the side drainage and wall-type abutments, abutment wing-walls or retaining walls positioned flush with the back wall to allow extension of sealed deck joints beyond the bridge seats?\"\n",
    "    }\n",
    "]"
   ]
  },
  {
   "cell_type": "code",
   "execution_count": 84,
   "id": "9b83bbf7-2452-4bae-86ef-0ea448205e81",
   "metadata": {},
   "outputs": [
    {
     "data": {
      "application/vnd.jupyter.widget-view+json": {
       "model_id": "3c1b1a0fd95a4d33aab8c661ebc29c30",
       "version_major": 2,
       "version_minor": 0
      },
      "text/plain": [
       "HTML(value='<b><u>Deck Joint Terminal</u></b>')"
      ]
     },
     "metadata": {},
     "output_type": "display_data"
    },
    {
     "data": {
      "application/vnd.jupyter.widget-view+json": {
       "model_id": "c36d958cd148411184404fbf12f83a93",
       "version_major": 2,
       "version_minor": 0
      },
      "text/plain": [
       "Checkbox(value=False, description='To confine deck drainage, recessed joint seals, joints terminated as shown …"
      ]
     },
     "metadata": {},
     "output_type": "display_data"
    },
    {
     "data": {
      "application/vnd.jupyter.widget-view+json": {
       "model_id": "22afab33af7c4fb3a5c8dafdefb47cf1",
       "version_major": 2,
       "version_minor": 0
      },
      "text/plain": [
       "Checkbox(value=False, description='For new bridges with over the side drainage and wall-type abutments, abutme…"
      ]
     },
     "metadata": {},
     "output_type": "display_data"
    }
   ],
   "source": [
    "# Function to display the \"deck_joint_terminal\" section\n",
    "def display_deck_joint_terminal():\n",
    "    header = widgets.HTML(\"<b><u>Deck Joint Terminal</u></b>\")\n",
    "    display(header)\n",
    "    checkboxes = []\n",
    "    for criterion in deck_joint_terminal_criteria:\n",
    "        label = criterion[\"label\"]\n",
    "        checkbox = widgets.Checkbox(\n",
    "            description=label,\n",
    "            value=False,\n",
    "            indent=False,\n",
    "            layout=widgets.Layout(width='100%', margin='6px 0 0 0px')\n",
    "        )\n",
    "        checkbox.style = {'description_width': '0px'}\n",
    "        checkboxes.append(checkbox)\n",
    "        display(checkbox)\n",
    "\n",
    "# Display the \"deck_joint_terminal\" section\n",
    "display_deck_joint_terminal()"
   ]
  },
  {
   "cell_type": "markdown",
   "id": "18903753-7cc0-4542-97db-9900582ef16a",
   "metadata": {},
   "source": [
    "### Joint/Bearing Coordination"
   ]
  },
  {
   "cell_type": "code",
   "execution_count": 85,
   "id": "f2c32a31-4f00-4cb0-8447-cb9f37606b4d",
   "metadata": {},
   "outputs": [],
   "source": [
    "# Define the joint_bearing_coordination criteria\n",
    "joint_bearing_coordination_criteria = [\n",
    "    {\n",
    "        \"label\": \"For bridges with elastomeric bearings and sliding plate type joints, bridging plates positioned cantilevered from the abutment side of the joint to prevent the plate from binding due to the compressive deflection of the bearings?\"\n",
    "    },\n",
    "    {\n",
    "        \"label\": \"For sliding plate type joints on grades, a bevel fill attached to the underside of the cantilever plate to provide a level sliding surface to parallel the direction of bearing movement?\"\n",
    "    },\n",
    "    {\n",
    "        \"label\": \"Sliding plate type joints avoided on all structures?\"\n",
    "    }\n",
    "]"
   ]
  },
  {
   "cell_type": "code",
   "execution_count": 86,
   "id": "c4e83ed0-d24c-4a4c-8b12-48de9b7b037e",
   "metadata": {},
   "outputs": [
    {
     "data": {
      "application/vnd.jupyter.widget-view+json": {
       "model_id": "c6a3ffb050d94ebdbbe7d43b0c171375",
       "version_major": 2,
       "version_minor": 0
      },
      "text/plain": [
       "HTML(value='<b><u>Joint Bearing Coordination</u></b>')"
      ]
     },
     "metadata": {},
     "output_type": "display_data"
    },
    {
     "data": {
      "application/vnd.jupyter.widget-view+json": {
       "model_id": "8ba19593fb184a3fb4c54c89d1b875b3",
       "version_major": 2,
       "version_minor": 0
      },
      "text/plain": [
       "Checkbox(value=False, description='For bridges with elastomeric bearings and sliding plate type joints, bridgi…"
      ]
     },
     "metadata": {},
     "output_type": "display_data"
    },
    {
     "data": {
      "application/vnd.jupyter.widget-view+json": {
       "model_id": "615798c9e13d48bfb57dc511fe14e9d0",
       "version_major": 2,
       "version_minor": 0
      },
      "text/plain": [
       "Checkbox(value=False, description='For sliding plate type joints on grades, a bevel fill attached to the under…"
      ]
     },
     "metadata": {},
     "output_type": "display_data"
    },
    {
     "data": {
      "application/vnd.jupyter.widget-view+json": {
       "model_id": "19c333806fd04cf2ac8865a6bed81508",
       "version_major": 2,
       "version_minor": 0
      },
      "text/plain": [
       "Checkbox(value=False, description='Sliding plate type joints avoided on all structures?', indent=False, layout…"
      ]
     },
     "metadata": {},
     "output_type": "display_data"
    }
   ],
   "source": [
    "# Function to display the \"joint_bearing_coordination\" section\n",
    "def display_joint_bearing_coordination():\n",
    "    header = widgets.HTML(\"<b><u>Joint Bearing Coordination</u></b>\")\n",
    "    display(header)\n",
    "    checkboxes = []\n",
    "    for criterion in joint_bearing_coordination_criteria:\n",
    "        label = criterion[\"label\"]\n",
    "        checkbox = widgets.Checkbox(\n",
    "            description=label,\n",
    "            value=False,\n",
    "            indent=False,\n",
    "            layout=widgets.Layout(width='100%', margin='6px 0 0 0px')\n",
    "        )\n",
    "        checkbox.style = {'description_width': '0px'}\n",
    "        checkboxes.append(checkbox)\n",
    "        display(checkbox)\n",
    "\n",
    "# Display the \"joint_bearing_coordination\" section\n",
    "display_joint_bearing_coordination()"
   ]
  },
  {
   "cell_type": "markdown",
   "id": "9ffb10f0-262c-44c9-b218-c2a0834ea2f7",
   "metadata": {},
   "source": [
    "### Deck Joints - Miscellaneous"
   ]
  },
  {
   "cell_type": "code",
   "execution_count": 87,
   "id": "707f88b5-d0ef-455f-9379-e3c91557b1f2",
   "metadata": {},
   "outputs": [],
   "source": [
    "# Define the deck_joints_misc criteria\n",
    "deck_joints_misc_criteria = [\n",
    "    {\n",
    "        \"label\": \"Box Beams: The use of joints generally follows the guidelines given in\",\n",
    "        \"section\": \"309.6.3\"\n",
    "    },\n",
    "    {\n",
    "        \"label\": \"Recessed Seals: Joint seals recessed below the roadway surface (i.e. strip and compression), with channel deck drainage laterally, detailed to prevent discharge of deck drainage on bridge seats?\"\n",
    "    },\n",
    "    {\n",
    "        \"label\": \"Adjustment: A joint width adjustment table, in 10 degree increments for 30 degrees to 90 degrees, given for setting joint widths other than the 60 degree installation temperature? The effect of joint skew taken into account when computing joint adjustment dimensions?\"\n",
    "    },\n",
    "    {\n",
    "        \"label\": \"Sawing and Sealing Bituminous Joints detail sheet provided for box beam bridges with poured seal type joints at abutments?\"\n",
    "    },\n",
    "    {\n",
    "        \"label\": \"Prestressed concrete I-beam bridges follow the guidelines given in section\",\n",
    "        \"section\": \"309.6.3\"\n",
    "    }\n",
    "]"
   ]
  },
  {
   "cell_type": "code",
   "execution_count": 88,
   "id": "cc319c0a-b74a-48db-8ee1-a98c357537b8",
   "metadata": {},
   "outputs": [
    {
     "data": {
      "application/vnd.jupyter.widget-view+json": {
       "model_id": "cf042363aafa4dcaaf507c9da1566d9f",
       "version_major": 2,
       "version_minor": 0
      },
      "text/plain": [
       "HTML(value='<b><u>Deck Joints Misc</u></b>')"
      ]
     },
     "metadata": {},
     "output_type": "display_data"
    },
    {
     "data": {
      "application/vnd.jupyter.widget-view+json": {
       "model_id": "d0eb9c4b384b4ce28a88b9ede47c1a71",
       "version_major": 2,
       "version_minor": 0
      },
      "text/plain": [
       "Checkbox(value=False, description='Box Beams: The use of joints generally follows the guidelines given in See …"
      ]
     },
     "metadata": {},
     "output_type": "display_data"
    },
    {
     "data": {
      "application/vnd.jupyter.widget-view+json": {
       "model_id": "f315b27773d543128fddb14a51aa6e69",
       "version_major": 2,
       "version_minor": 0
      },
      "text/plain": [
       "Checkbox(value=False, description='Recessed Seals: Joint seals recessed below the roadway surface (i.e. strip …"
      ]
     },
     "metadata": {},
     "output_type": "display_data"
    },
    {
     "data": {
      "application/vnd.jupyter.widget-view+json": {
       "model_id": "c9961659d65544f3a708389540aa51cd",
       "version_major": 2,
       "version_minor": 0
      },
      "text/plain": [
       "Checkbox(value=False, description='Adjustment: A joint width adjustment table, in 10 degree increments for 30 …"
      ]
     },
     "metadata": {},
     "output_type": "display_data"
    },
    {
     "data": {
      "application/vnd.jupyter.widget-view+json": {
       "model_id": "ae4df1012ca34403ba54acbfb0d08a38",
       "version_major": 2,
       "version_minor": 0
      },
      "text/plain": [
       "Checkbox(value=False, description='Sawing and Sealing Bituminous Joints detail sheet provided for box beam bri…"
      ]
     },
     "metadata": {},
     "output_type": "display_data"
    },
    {
     "data": {
      "application/vnd.jupyter.widget-view+json": {
       "model_id": "4d88e35fb7354a28bf6f1b6207d2e47c",
       "version_major": 2,
       "version_minor": 0
      },
      "text/plain": [
       "Checkbox(value=False, description='Prestressed concrete I-beam bridges follow the guidelines given in section …"
      ]
     },
     "metadata": {},
     "output_type": "display_data"
    }
   ],
   "source": [
    "# Function to display the \"deck_joints_misc\" section\n",
    "def display_deck_joints_misc():\n",
    "    header = widgets.HTML(\"<b><u>Deck Joints Misc</u></b>\")\n",
    "    display(header)\n",
    "    checkboxes = []\n",
    "    for criterion in deck_joints_misc_criteria:\n",
    "        label = criterion[\"label\"]\n",
    "        # Add \"See BDM {section}\" for items with a 'section' entry\n",
    "        if \"section\" in criterion:\n",
    "            label = f\"{label} See BDM {criterion['section']}\"\n",
    "        checkbox = widgets.Checkbox(\n",
    "            description=label,\n",
    "            value=False,\n",
    "            indent=False,\n",
    "            layout=widgets.Layout(width='100%', margin='6px 0 0 0px')\n",
    "        )\n",
    "        checkbox.style = {'description_width': '0px'}\n",
    "        checkboxes.append(checkbox)\n",
    "        display(checkbox)\n",
    "\n",
    "# Display the \"deck_joints_misc\" section\n",
    "display_deck_joints_misc()"
   ]
  },
  {
   "cell_type": "markdown",
   "id": "69c734cd-ad00-46c6-a7a1-57f2c94844cc",
   "metadata": {},
   "source": [
    "## Deck Drainage"
   ]
  },
  {
   "cell_type": "markdown",
   "id": "70e62203-78da-464a-ad86-be662ebfd116",
   "metadata": {},
   "source": [
    "### Scuppers"
   ]
  },
  {
   "cell_type": "code",
   "execution_count": 89,
   "id": "be821d35-fcd8-47dc-a59a-24b73d3f2e0f",
   "metadata": {},
   "outputs": [],
   "source": [
    "# Define the scuppers criteria\n",
    "scuppers_criteria = [\n",
    "    {\n",
    "        \"label\": \"Is/was the use of scuppers avoided? Scuppers avoided over embankment slopes? Scuppers spaced to clear cross frames, placed at least 6 feet from the face of piers and abutments; extended at least 8 inches below beams and girders; located inside of fascia beams of grade separation structures and other highly visible structures; not been placed through box beams unless such placement cannot be avoided? See BDM 309.7 and 'Bridge Deck Drainage Guidelines,' FHWA HEC 21 & 22.\"\n",
    "    }\n",
    "]"
   ]
  },
  {
   "cell_type": "code",
   "execution_count": 90,
   "id": "44cdcbef-1c9c-424c-9fd8-005e37f07fcd",
   "metadata": {},
   "outputs": [
    {
     "data": {
      "application/vnd.jupyter.widget-view+json": {
       "model_id": "faf075ea305a4817b307ec8f9c205b7b",
       "version_major": 2,
       "version_minor": 0
      },
      "text/plain": [
       "HTML(value='<b><u>Scuppers</u></b>')"
      ]
     },
     "metadata": {},
     "output_type": "display_data"
    },
    {
     "data": {
      "application/vnd.jupyter.widget-view+json": {
       "model_id": "85a12522262b470da1faa4f19029033e",
       "version_major": 2,
       "version_minor": 0
      },
      "text/plain": [
       "Checkbox(value=False, description=\"Is/was the use of scuppers avoided? Scuppers avoided over embankment slopes…"
      ]
     },
     "metadata": {},
     "output_type": "display_data"
    }
   ],
   "source": [
    "# Function to display the \"scuppers\" section\n",
    "def display_scuppers():\n",
    "    header = widgets.HTML(\"<b><u>Scuppers</u></b>\")\n",
    "    display(header)\n",
    "    checkboxes = []\n",
    "    for criterion in scuppers_criteria:\n",
    "        label = criterion[\"label\"]\n",
    "        checkbox = widgets.Checkbox(\n",
    "            description=label,\n",
    "            value=False,\n",
    "            indent=False,\n",
    "            layout=widgets.Layout(width='100%', margin='6px 0 0 0px')\n",
    "        )\n",
    "        checkbox.style = {'description_width': '0px'}\n",
    "        checkboxes.append(checkbox)\n",
    "        display(checkbox)\n",
    "\n",
    "# Display the \"scuppers\" section\n",
    "display_scuppers()"
   ]
  },
  {
   "cell_type": "markdown",
   "id": "9e593e83-7c8f-401b-a47b-f5ef7f407b35",
   "metadata": {},
   "source": [
    "### Approach Drainage"
   ]
  },
  {
   "cell_type": "code",
   "execution_count": 91,
   "id": "914038a8-2742-4a0d-977e-f669ac58f6a2",
   "metadata": {},
   "outputs": [],
   "source": [
    "# Define the approach_drainage criteria\n",
    "approach_drainage_criteria = [\n",
    "    {\n",
    "        \"label\": \"Use made of parapet transitions and curbs on approach slabs to channel deck drainage away from structures towards approach inlets or embankment side slope flumes. See Standard Construction Drawing DM-4.1.\"\n",
    "    }\n",
    "]"
   ]
  },
  {
   "cell_type": "code",
   "execution_count": 92,
   "id": "73fef806-7b01-4e1c-80fd-bb8aaf71081b",
   "metadata": {},
   "outputs": [
    {
     "data": {
      "application/vnd.jupyter.widget-view+json": {
       "model_id": "d46238d4f155459f8a34c9078209d5c2",
       "version_major": 2,
       "version_minor": 0
      },
      "text/plain": [
       "HTML(value='<b><u>Approach Drainage</u></b>')"
      ]
     },
     "metadata": {},
     "output_type": "display_data"
    },
    {
     "data": {
      "application/vnd.jupyter.widget-view+json": {
       "model_id": "16b831a326454399831d6b4055c23248",
       "version_major": 2,
       "version_minor": 0
      },
      "text/plain": [
       "Checkbox(value=False, description='Use made of parapet transitions and curbs on approach slabs to channel deck…"
      ]
     },
     "metadata": {},
     "output_type": "display_data"
    }
   ],
   "source": [
    "# Function to display the \"approach_drainage\" section\n",
    "def display_approach_drainage():\n",
    "    header = widgets.HTML(\"<b><u>Approach Drainage</u></b>\")\n",
    "    display(header)\n",
    "    checkboxes = []\n",
    "    for criterion in approach_drainage_criteria:\n",
    "        label = criterion[\"label\"]\n",
    "        checkbox = widgets.Checkbox(\n",
    "            description=label,\n",
    "            value=False,\n",
    "            indent=False,\n",
    "            layout=widgets.Layout(width='100%', margin='6px 0 0 0px')\n",
    "        )\n",
    "        checkbox.style = {'description_width': '0px'}\n",
    "        checkboxes.append(checkbox)\n",
    "        display(checkbox)\n",
    "\n",
    "# Display the \"approach_drainage\" section\n",
    "display_approach_drainage()"
   ]
  },
  {
   "cell_type": "markdown",
   "id": "8e6efd6d-2f41-4136-b97a-753df8c2f284",
   "metadata": {},
   "source": [
    "### Drainage Collection System"
   ]
  },
  {
   "cell_type": "code",
   "execution_count": 93,
   "id": "e1162359-2d55-4d96-b67d-b9b8e8a5665f",
   "metadata": {},
   "outputs": [],
   "source": [
    "# Define the drainage_collection criteria\n",
    "drainage_collection_criteria = [\n",
    "    {\n",
    "        \"label\": \"These avoided? Where their use cannot be avoided, steepest possible slopes provided? Large sizes used to help avoid blockage? Convenient clean out provided? Type of field splices specified? Supports adequate to provide a rigid system?\"\n",
    "    }\n",
    "]"
   ]
  },
  {
   "cell_type": "code",
   "execution_count": 94,
   "id": "3337e5bb-0377-43df-bc77-7c6aacf0a7f7",
   "metadata": {},
   "outputs": [
    {
     "data": {
      "application/vnd.jupyter.widget-view+json": {
       "model_id": "03cf6c7ad30242cd81c7523ef0d5cdf3",
       "version_major": 2,
       "version_minor": 0
      },
      "text/plain": [
       "HTML(value='<b><u>Drainage Collection System</u></b>')"
      ]
     },
     "metadata": {},
     "output_type": "display_data"
    },
    {
     "data": {
      "application/vnd.jupyter.widget-view+json": {
       "model_id": "00bbb3527d234ac1a3bca14a65a9fc82",
       "version_major": 2,
       "version_minor": 0
      },
      "text/plain": [
       "Checkbox(value=False, description='These avoided? Where their use cannot be avoided, steepest possible slopes …"
      ]
     },
     "metadata": {},
     "output_type": "display_data"
    }
   ],
   "source": [
    "# Function to display the \"drainage_collection\" section\n",
    "def display_drainage_collection():\n",
    "    header = widgets.HTML(\"<b><u>Drainage Collection System</u></b>\")\n",
    "    display(header)\n",
    "    checkboxes = []\n",
    "    for criterion in drainage_collection_criteria:\n",
    "        label = criterion[\"label\"]\n",
    "        checkbox = widgets.Checkbox(\n",
    "            description=label,\n",
    "            value=False,\n",
    "            indent=False,\n",
    "            layout=widgets.Layout(width='100%', margin='6px 0 0 0px')\n",
    "        )\n",
    "        checkbox.style = {'description_width': '0px'}\n",
    "        checkboxes.append(checkbox)\n",
    "        display(checkbox)\n",
    "\n",
    "# Display the \"drainage_collection\" section\n",
    "display_drainage_collection()"
   ]
  },
  {
   "cell_type": "markdown",
   "id": "2ea8663b-4b2e-4834-a2f1-c504be7b860a",
   "metadata": {},
   "source": [
    "### Elastomeric Troughs"
   ]
  },
  {
   "cell_type": "code",
   "execution_count": 95,
   "id": "720a4269-910e-4cae-9b11-b30f2ce658c0",
   "metadata": {},
   "outputs": [],
   "source": [
    "# Define the elastomeric_trough criteria\n",
    "elastomeric_trough_criteria = [\n",
    "    {\n",
    "        \"label\": \"Reinforced elastomer required by performance specification?\"\n",
    "    },\n",
    "    {\n",
    "        \"label\": \"Joint made by vulcanization under heat and pressure?\"\n",
    "    },\n",
    "    {\n",
    "        \"label\": \"Steep slopes (2 inches per foot or more) used to increase drainage velocity?\"\n",
    "    },\n",
    "    {\n",
    "        \"label\": \"Large discharge openings (12 inch diameter minimum)?\"\n",
    "    },\n",
    "    {\n",
    "        \"label\": \"Fasteners for scuppers located outside of the trough for convenient access?\"\n",
    "    },\n",
    "    {\n",
    "        \"label\": \"Galvanized hardware used?\"\n",
    "    },\n",
    "    {\n",
    "        \"label\": \"Interior steel surfaces metalized and asphalt coated?\"\n",
    "    }\n",
    "]"
   ]
  },
  {
   "cell_type": "code",
   "execution_count": 96,
   "id": "1c2f4031-3eee-4948-88de-109572b26e6e",
   "metadata": {},
   "outputs": [
    {
     "data": {
      "application/vnd.jupyter.widget-view+json": {
       "model_id": "a75eb411c2574ab58704711645639b45",
       "version_major": 2,
       "version_minor": 0
      },
      "text/plain": [
       "HTML(value='<b><u>Elastomeric Trough</u></b>')"
      ]
     },
     "metadata": {},
     "output_type": "display_data"
    },
    {
     "data": {
      "application/vnd.jupyter.widget-view+json": {
       "model_id": "0757c77a63ef4a14b59f920c11590ee9",
       "version_major": 2,
       "version_minor": 0
      },
      "text/plain": [
       "Checkbox(value=False, description='Reinforced elastomer required by performance specification?', indent=False,…"
      ]
     },
     "metadata": {},
     "output_type": "display_data"
    },
    {
     "data": {
      "application/vnd.jupyter.widget-view+json": {
       "model_id": "a6be7264b0494cb5bc868d1fa4b57a0e",
       "version_major": 2,
       "version_minor": 0
      },
      "text/plain": [
       "Checkbox(value=False, description='Joint made by vulcanization under heat and pressure?', indent=False, layout…"
      ]
     },
     "metadata": {},
     "output_type": "display_data"
    },
    {
     "data": {
      "application/vnd.jupyter.widget-view+json": {
       "model_id": "fb4a0f57a6af4df3a60754e86add5ea9",
       "version_major": 2,
       "version_minor": 0
      },
      "text/plain": [
       "Checkbox(value=False, description='Steep slopes (2 inches per foot or more) used to increase drainage velocity…"
      ]
     },
     "metadata": {},
     "output_type": "display_data"
    },
    {
     "data": {
      "application/vnd.jupyter.widget-view+json": {
       "model_id": "23e45c4d6cde4d719c0593478d599176",
       "version_major": 2,
       "version_minor": 0
      },
      "text/plain": [
       "Checkbox(value=False, description='Large discharge openings (12 inch diameter minimum)?', indent=False, layout…"
      ]
     },
     "metadata": {},
     "output_type": "display_data"
    },
    {
     "data": {
      "application/vnd.jupyter.widget-view+json": {
       "model_id": "c2cccb8b431b497297474ec754125673",
       "version_major": 2,
       "version_minor": 0
      },
      "text/plain": [
       "Checkbox(value=False, description='Fasteners for scuppers located outside of the trough for convenient access?…"
      ]
     },
     "metadata": {},
     "output_type": "display_data"
    },
    {
     "data": {
      "application/vnd.jupyter.widget-view+json": {
       "model_id": "da0d27f122ab4ea3b8cdcba3e588fbaa",
       "version_major": 2,
       "version_minor": 0
      },
      "text/plain": [
       "Checkbox(value=False, description='Galvanized hardware used?', indent=False, layout=Layout(margin='6px 0 0 0px…"
      ]
     },
     "metadata": {},
     "output_type": "display_data"
    },
    {
     "data": {
      "application/vnd.jupyter.widget-view+json": {
       "model_id": "1804fd2321c143f38190328be5ee9f23",
       "version_major": 2,
       "version_minor": 0
      },
      "text/plain": [
       "Checkbox(value=False, description='Interior steel surfaces metalized and asphalt coated?', indent=False, layou…"
      ]
     },
     "metadata": {},
     "output_type": "display_data"
    }
   ],
   "source": [
    "# Function to display the \"elastomeric_trough\" section\n",
    "def display_elastomeric_trough():\n",
    "    header = widgets.HTML(\"<b><u>Elastomeric Trough</u></b>\")\n",
    "    display(header)\n",
    "    checkboxes = []\n",
    "    for criterion in elastomeric_trough_criteria:\n",
    "        label = criterion[\"label\"]\n",
    "        checkbox = widgets.Checkbox(\n",
    "            description=label,\n",
    "            value=False,\n",
    "            indent=False,\n",
    "            layout=widgets.Layout(width='100%', margin='6px 0 0 0px')\n",
    "        )\n",
    "        checkbox.style = {'description_width': '0px'}\n",
    "        checkboxes.append(checkbox)\n",
    "        display(checkbox)\n",
    "\n",
    "# Display the \"elastomeric_trough\" section\n",
    "display_elastomeric_trough()"
   ]
  },
  {
   "cell_type": "markdown",
   "id": "78985508-b619-4e9d-9625-adc5caca752f",
   "metadata": {},
   "source": [
    "### Erosion Protection"
   ]
  },
  {
   "cell_type": "code",
   "execution_count": 97,
   "id": "ea50c923-accd-449e-805e-2ec2a10954d5",
   "metadata": {},
   "outputs": [],
   "source": [
    "# Define the erosion_protection criteria\n",
    "erosion_protection_criteria = [\n",
    "    {\n",
    "        \"label\": \"Ground surfaces below scuppers protected by crushed aggregate or concrete slope protection?\"\n",
    "    },\n",
    "    {\n",
    "        \"label\": \"Crushed aggregate or concrete slope protection extended (3'-0\\\" minimum) beyond edges of open decks?\"\n",
    "    },\n",
    "    {\n",
    "        \"label\": \"At acute corners of bridges, slope protection extends normal to toe of slope?\"\n",
    "    }\n",
    "]"
   ]
  },
  {
   "cell_type": "code",
   "execution_count": 98,
   "id": "2b27d6e3-1cfb-4e4b-b1ef-a3ad262eef85",
   "metadata": {},
   "outputs": [
    {
     "data": {
      "application/vnd.jupyter.widget-view+json": {
       "model_id": "e24102c61e4f4201b4aef898debacc5c",
       "version_major": 2,
       "version_minor": 0
      },
      "text/plain": [
       "HTML(value='<b><u>Erosion Protection</u></b>')"
      ]
     },
     "metadata": {},
     "output_type": "display_data"
    },
    {
     "data": {
      "application/vnd.jupyter.widget-view+json": {
       "model_id": "5512dd57f3584ad693537309af6d9296",
       "version_major": 2,
       "version_minor": 0
      },
      "text/plain": [
       "Checkbox(value=False, description='Ground surfaces below scuppers protected by crushed aggregate or concrete s…"
      ]
     },
     "metadata": {},
     "output_type": "display_data"
    },
    {
     "data": {
      "application/vnd.jupyter.widget-view+json": {
       "model_id": "8d4feff1b6cb42848db448beecff1c73",
       "version_major": 2,
       "version_minor": 0
      },
      "text/plain": [
       "Checkbox(value=False, description='Crushed aggregate or concrete slope protection extended (3\\'-0\" minimum) be…"
      ]
     },
     "metadata": {},
     "output_type": "display_data"
    },
    {
     "data": {
      "application/vnd.jupyter.widget-view+json": {
       "model_id": "9a2a4f674f5a424d8a54601ef69236ce",
       "version_major": 2,
       "version_minor": 0
      },
      "text/plain": [
       "Checkbox(value=False, description='At acute corners of bridges, slope protection extends normal to toe of slop…"
      ]
     },
     "metadata": {},
     "output_type": "display_data"
    }
   ],
   "source": [
    "# Function to display the \"erosion_protection\" section\n",
    "def display_erosion_protection():\n",
    "    header = widgets.HTML(\"<b><u>Erosion Protection</u></b>\")\n",
    "    display(header)\n",
    "    checkboxes = []\n",
    "    for criterion in erosion_protection_criteria:\n",
    "        label = criterion[\"label\"]\n",
    "        checkbox = widgets.Checkbox(\n",
    "            description=label,\n",
    "            value=False,\n",
    "            indent=False,\n",
    "            layout=widgets.Layout(width='100%', margin='6px 0 0 0px')\n",
    "        )\n",
    "        checkbox.style = {'description_width': '0px'}\n",
    "        checkboxes.append(checkbox)\n",
    "        display(checkbox)\n",
    "\n",
    "# Display the \"erosion_protection\" section\n",
    "display_erosion_protection()"
   ]
  },
  {
   "cell_type": "markdown",
   "id": "fe212b51-4223-4c87-9880-2e1ec0851c7f",
   "metadata": {},
   "source": [
    "## Utilities"
   ]
  },
  {
   "cell_type": "code",
   "execution_count": 99,
   "id": "e5220d56-7585-45f8-965b-45ab18e789a4",
   "metadata": {},
   "outputs": [],
   "source": [
    "# Define the utilities criteria\n",
    "utilities_criteria = [\n",
    "    {\n",
    "        \"label\": \"Documentation on file approved placement of utility on bridge?\"\n",
    "    },\n",
    "    {\n",
    "        \"label\": \"Concrete embedded utility conduits shown to clear construction joints by 1 inch minimum and other conduits by 2 inches minimum?\"\n",
    "    },\n",
    "    {\n",
    "        \"label\": \"Utilities not supported on fascia or below bottom of superstructure? On grade separation structures, no utilities in bay adjacent to fascia stringer?\"\n",
    "    },\n",
    "    {\n",
    "        \"label\": \"Gas and water lines not embedded in concrete? Not embedded in section of deck supporting vehicular traffic?\"\n",
    "    },\n",
    "    {\n",
    "        \"label\": \"Expansion provisions for utilities shown if appropriate? (Sometimes shown only on utility sheets)\"\n",
    "    },\n",
    "    {\n",
    "        \"label\": \"Payment for utility supports clearly described by plan note and estimated quantities? (e.g., quantity table footnote stating portion of Item 513 Structural Steel to be paid for by the utility company)\"\n",
    "    }\n",
    "]"
   ]
  },
  {
   "cell_type": "code",
   "execution_count": 100,
   "id": "2299c57c-35f9-4e4f-bd1a-b414d7544c48",
   "metadata": {},
   "outputs": [
    {
     "data": {
      "application/vnd.jupyter.widget-view+json": {
       "model_id": "e59731e58ae84297b315cc1b8cb8481a",
       "version_major": 2,
       "version_minor": 0
      },
      "text/plain": [
       "HTML(value='<b><u>Utilities</u></b>')"
      ]
     },
     "metadata": {},
     "output_type": "display_data"
    },
    {
     "data": {
      "application/vnd.jupyter.widget-view+json": {
       "model_id": "e18d28bc58bd48828ce78270d7f94240",
       "version_major": 2,
       "version_minor": 0
      },
      "text/plain": [
       "Checkbox(value=False, description='Documentation on file approved placement of utility on bridge?', indent=Fal…"
      ]
     },
     "metadata": {},
     "output_type": "display_data"
    },
    {
     "data": {
      "application/vnd.jupyter.widget-view+json": {
       "model_id": "f66a0e9b1f8f4faeb1b1390b6200b205",
       "version_major": 2,
       "version_minor": 0
      },
      "text/plain": [
       "Checkbox(value=False, description='Concrete embedded utility conduits shown to clear construction joints by 1 …"
      ]
     },
     "metadata": {},
     "output_type": "display_data"
    },
    {
     "data": {
      "application/vnd.jupyter.widget-view+json": {
       "model_id": "d41f5016a09249a3bd100a044cfd9ed2",
       "version_major": 2,
       "version_minor": 0
      },
      "text/plain": [
       "Checkbox(value=False, description='Utilities not supported on fascia or below bottom of superstructure? On gra…"
      ]
     },
     "metadata": {},
     "output_type": "display_data"
    },
    {
     "data": {
      "application/vnd.jupyter.widget-view+json": {
       "model_id": "cef57017b7a047a09646fe37eb37f40f",
       "version_major": 2,
       "version_minor": 0
      },
      "text/plain": [
       "Checkbox(value=False, description='Gas and water lines not embedded in concrete? Not embedded in section of de…"
      ]
     },
     "metadata": {},
     "output_type": "display_data"
    },
    {
     "data": {
      "application/vnd.jupyter.widget-view+json": {
       "model_id": "3c8a12f8791f4108b3e7c52d995d91df",
       "version_major": 2,
       "version_minor": 0
      },
      "text/plain": [
       "Checkbox(value=False, description='Expansion provisions for utilities shown if appropriate? (Sometimes shown o…"
      ]
     },
     "metadata": {},
     "output_type": "display_data"
    },
    {
     "data": {
      "application/vnd.jupyter.widget-view+json": {
       "model_id": "9f62e25dff5a4c8fb3117f6c2446159c",
       "version_major": 2,
       "version_minor": 0
      },
      "text/plain": [
       "Checkbox(value=False, description='Payment for utility supports clearly described by plan note and estimated q…"
      ]
     },
     "metadata": {},
     "output_type": "display_data"
    }
   ],
   "source": [
    "# Function to display the \"utilities\" section\n",
    "def display_utilities():\n",
    "    header = widgets.HTML(\"<b><u>Utilities</u></b>\")\n",
    "    display(header)\n",
    "    checkboxes = []\n",
    "    for criterion in utilities_criteria:\n",
    "        label = criterion[\"label\"]\n",
    "        checkbox = widgets.Checkbox(\n",
    "            description=label,\n",
    "            value=False,\n",
    "            indent=False,\n",
    "            layout=widgets.Layout(width='100%', margin='6px 0 0 0px')\n",
    "        )\n",
    "        checkbox.style = {'description_width': '0px'}\n",
    "        checkboxes.append(checkbox)\n",
    "        display(checkbox)\n",
    "\n",
    "# Display the \"utilities\" section\n",
    "display_utilities()"
   ]
  },
  {
   "cell_type": "markdown",
   "id": "81a48288-c91f-4904-b88a-998c8ab3f9cd",
   "metadata": {},
   "source": [
    "## Structure Grounding"
   ]
  },
  {
   "cell_type": "code",
   "execution_count": 101,
   "id": "6fdbe95f-4de6-4124-922f-135a3a895c84",
   "metadata": {},
   "outputs": [],
   "source": [
    "# Define the grounding criteria\n",
    "grounding_criteria = [\n",
    "    {\n",
    "        \"label\": \"Verify the structure is properly grounded as per Standard Drawing HL-50.21.\"\n",
    "    }\n",
    "]"
   ]
  },
  {
   "cell_type": "code",
   "execution_count": 102,
   "id": "87e1b810-c77b-412b-b239-26a1511b9931",
   "metadata": {},
   "outputs": [
    {
     "data": {
      "application/vnd.jupyter.widget-view+json": {
       "model_id": "20c83761d8ac44f9bb42be708b3cf2d5",
       "version_major": 2,
       "version_minor": 0
      },
      "text/plain": [
       "HTML(value='<b><u>Grounding</u></b>')"
      ]
     },
     "metadata": {},
     "output_type": "display_data"
    },
    {
     "data": {
      "application/vnd.jupyter.widget-view+json": {
       "model_id": "1441a5bf035d4333ae7a8fa4b994bace",
       "version_major": 2,
       "version_minor": 0
      },
      "text/plain": [
       "Checkbox(value=False, description='Verify the structure is properly grounded as per Standard Drawing HL-50.21.…"
      ]
     },
     "metadata": {},
     "output_type": "display_data"
    }
   ],
   "source": [
    "# Function to display the \"grounding\" section\n",
    "def display_grounding():\n",
    "    header = widgets.HTML(\"<b><u>Grounding</u></b>\")\n",
    "    display(header)\n",
    "    checkboxes = []\n",
    "    for criterion in grounding_criteria:\n",
    "        label = criterion[\"label\"]\n",
    "        checkbox = widgets.Checkbox(\n",
    "            description=label,\n",
    "            value=False,\n",
    "            indent=False,\n",
    "            layout=widgets.Layout(width='100%', margin='6px 0 0 0px')\n",
    "        )\n",
    "        checkbox.style = {'description_width': '0px'}\n",
    "        checkboxes.append(checkbox)\n",
    "        display(checkbox)\n",
    "\n",
    "# Display the \"grounding\" section\n",
    "display_grounding()"
   ]
  },
  {
   "cell_type": "markdown",
   "id": "3ae6be40-69b5-49b0-b4d4-083f32610c98",
   "metadata": {},
   "source": [
    "## Approach Slab"
   ]
  },
  {
   "cell_type": "code",
   "execution_count": 103,
   "id": "03106ca8-b9f2-4b3d-94bb-22dad3c618d2",
   "metadata": {},
   "outputs": [],
   "source": [
    "# Define the approach_slab criteria\n",
    "approach_slab_criteria = [\n",
    "    {\n",
    "        \"label\": \"Removal of existing approach slab included in the estimated quantities 310.2\"\n",
    "    },\n",
    "    {\n",
    "        \"label\": \"Removal of existing Wearing Surface included in the estimated quantities as per CMS 202\"\n",
    "    },\n",
    "    {\n",
    "        \"label\": \"Non-standard approach slab shown 'Modified' in the structure block.\"\n",
    "    },\n",
    "    {\n",
    "        \"label\": \"Current Standard Drawing reference in proposed structure data block and in the General Notes.\"\n",
    "    },\n",
    "    {\n",
    "        \"label\": \"Bars D801 or D802 included in the reinforcing steel list?\"\n",
    "    },\n",
    "    {\n",
    "        \"label\": \"Pay-Item 526 for Type _ Installation included?\"\n",
    "    },\n",
    "    {\n",
    "        \"label\": \"Pay-Item for Polymer Modified Asphalt Expansion Joint System or Item 516 – Armorless Preformed Joint Seal included?\"\n",
    "    }\n",
    "]"
   ]
  },
  {
   "cell_type": "code",
   "execution_count": 104,
   "id": "a6507ce7-0ece-4d96-9945-d484e8021470",
   "metadata": {},
   "outputs": [
    {
     "data": {
      "application/vnd.jupyter.widget-view+json": {
       "model_id": "7a5517679c624a42a91d8fe676112d69",
       "version_major": 2,
       "version_minor": 0
      },
      "text/plain": [
       "HTML(value='<b><u>Approach Slab</u></b>')"
      ]
     },
     "metadata": {},
     "output_type": "display_data"
    },
    {
     "data": {
      "application/vnd.jupyter.widget-view+json": {
       "model_id": "36adf0ffd42047d28b5f47f36bd4ac86",
       "version_major": 2,
       "version_minor": 0
      },
      "text/plain": [
       "Checkbox(value=False, description='Removal of existing approach slab included in the estimated quantities 310.…"
      ]
     },
     "metadata": {},
     "output_type": "display_data"
    },
    {
     "data": {
      "application/vnd.jupyter.widget-view+json": {
       "model_id": "3b08a7b208544397b27a6e6bb845d4c0",
       "version_major": 2,
       "version_minor": 0
      },
      "text/plain": [
       "Checkbox(value=False, description='Removal of existing Wearing Surface included in the estimated quantities as…"
      ]
     },
     "metadata": {},
     "output_type": "display_data"
    },
    {
     "data": {
      "application/vnd.jupyter.widget-view+json": {
       "model_id": "921dc7aa7d274fe190329bbad691c34a",
       "version_major": 2,
       "version_minor": 0
      },
      "text/plain": [
       "Checkbox(value=False, description=\"Non-standard approach slab shown 'Modified' in the structure block.\", inden…"
      ]
     },
     "metadata": {},
     "output_type": "display_data"
    },
    {
     "data": {
      "application/vnd.jupyter.widget-view+json": {
       "model_id": "751fa9ab5a2a4accb8ebf547663cd6c5",
       "version_major": 2,
       "version_minor": 0
      },
      "text/plain": [
       "Checkbox(value=False, description='Current Standard Drawing reference in proposed structure data block and in …"
      ]
     },
     "metadata": {},
     "output_type": "display_data"
    },
    {
     "data": {
      "application/vnd.jupyter.widget-view+json": {
       "model_id": "06d8eb000ef04e7397b491f21a7957c9",
       "version_major": 2,
       "version_minor": 0
      },
      "text/plain": [
       "Checkbox(value=False, description='Bars D801 or D802 included in the reinforcing steel list?', indent=False, l…"
      ]
     },
     "metadata": {},
     "output_type": "display_data"
    },
    {
     "data": {
      "application/vnd.jupyter.widget-view+json": {
       "model_id": "89cc1a98b05f4a7783b88260e5b9448e",
       "version_major": 2,
       "version_minor": 0
      },
      "text/plain": [
       "Checkbox(value=False, description='Pay-Item 526 for Type _ Installation included?', indent=False, layout=Layou…"
      ]
     },
     "metadata": {},
     "output_type": "display_data"
    },
    {
     "data": {
      "application/vnd.jupyter.widget-view+json": {
       "model_id": "388a575f0cbd416fa4b8bb46dd9774b5",
       "version_major": 2,
       "version_minor": 0
      },
      "text/plain": [
       "Checkbox(value=False, description='Pay-Item for Polymer Modified Asphalt Expansion Joint System or Item 516 – …"
      ]
     },
     "metadata": {},
     "output_type": "display_data"
    }
   ],
   "source": [
    "# Function to display the \"approach_slab\" section\n",
    "def display_approach_slab():\n",
    "    header = widgets.HTML(\"<b><u>Approach Slab</u></b>\")\n",
    "    display(header)\n",
    "    checkboxes = []\n",
    "    for criterion in approach_slab_criteria:\n",
    "        label = criterion[\"label\"]\n",
    "        checkbox = widgets.Checkbox(\n",
    "            description=label,\n",
    "            value=False,\n",
    "            indent=False,\n",
    "            layout=widgets.Layout(width='100%', margin='6px 0 0 0px')\n",
    "        )\n",
    "        checkbox.style = {'description_width': '0px'}\n",
    "        checkboxes.append(checkbox)\n",
    "        display(checkbox)\n",
    "\n",
    "# Display the \"approach_slab\" section\n",
    "display_approach_slab()"
   ]
  },
  {
   "cell_type": "markdown",
   "id": "55b3962c-323a-48e6-9ca9-3c1bb2314c59",
   "metadata": {},
   "source": [
    "# Substructure\n",
    "\n",
    "Design checklist question -\n",
    "\n",
    "Does the project involve Substructure Design?"
   ]
  },
  {
   "cell_type": "code",
   "execution_count": 105,
   "id": "be2e831e-6ae6-4265-a4e6-5ffa25427cc3",
   "metadata": {},
   "outputs": [
    {
     "name": "stdout",
     "output_type": "stream",
     "text": [
      "Select the Substructure components included in the project scope\n"
     ]
    },
    {
     "data": {
      "application/vnd.jupyter.widget-view+json": {
       "model_id": "a0bcf548de1142b28b87b381a82789ec",
       "version_major": 2,
       "version_minor": 0
      },
      "text/plain": [
       "SelectMultiple(description='Select: ', options=(None, 'Piers', 'Abutments', 'Drilled Shafts'), rows=4, value=(…"
      ]
     },
     "metadata": {},
     "output_type": "display_data"
    }
   ],
   "source": [
    "print('Select the Substructure components included in the project scope')\n",
    "\n",
    "substructure_work = widgets.SelectMultiple(\n",
    "    options=[\n",
    "        None, \n",
    "        'Piers', \n",
    "        'Abutments',\n",
    "        'Drilled Shafts'\n",
    "    ],\n",
    "    value=[],\n",
    "    description='Select: ',\n",
    "    rows=4,\n",
    "    disabled=False\n",
    ")\n",
    "\n",
    "display(substructure_work)"
   ]
  },
  {
   "cell_type": "markdown",
   "id": "6bd380c0-573f-40cc-a51b-f2dcce75d635",
   "metadata": {},
   "source": [
    "## Piers"
   ]
  },
  {
   "cell_type": "markdown",
   "id": "8ea4ddde-0f72-4771-a5e3-43a344e612bd",
   "metadata": {},
   "source": [
    "### Piers - General"
   ]
  },
  {
   "cell_type": "code",
   "execution_count": 106,
   "id": "9c908fec-a6f1-4346-96b7-7cf26fd50aa9",
   "metadata": {},
   "outputs": [],
   "source": [
    "# Define the piers_general criteria\n",
    "piers_general_criteria = [\n",
    "    {\n",
    "        \"label\": \"For freestanding piers, is the footing width at least one-fourth the height where founded on soil, one-fifth the height where founded on rock, and one-fifth the height between centers of outside piles? 306.3.1\"\n",
    "    },\n",
    "    {\n",
    "        \"label\": \"For cap and column piers on piles or bedrock, columns should generally have separate footings. 306.3.3.1.a\"\n",
    "    },\n",
    "    {\n",
    "        \"label\": \"Pier cap terminate inside the fascia and drip groove? (For box beam bridges, pier width should allow for 1/4 inch per joint fit-up between box beams) 308.2.3.3\"\n",
    "    },\n",
    "    {\n",
    "        \"label\": \"Bearing Anchor Plan shown? Are anchor bolt dimensions normal and parallel to the centerline of bearing?\"\n",
    "    },\n",
    "    {\n",
    "        \"label\": \"Cap and column piers preferably designed with a cantilevered cap? 306.3.1\"\n",
    "    },\n",
    "    {\n",
    "        \"label\": \"For slab bridges, is a construction joint placed at the top of the pier cap? 306.3.3.2\"\n",
    "    },\n",
    "    {\n",
    "        \"label\": \"Piers in navigable waterways designed to resist collision forces based on AASHTO LRFD bridge design Specification. 306.3.7\"\n",
    "    },\n",
    "    {\n",
    "        \"label\": \"Ends of pier caps (all surfaces) under the edge of decks with over-the-side drainage sealed? 306.1.2\"\n",
    "    },\n",
    "    {\n",
    "        \"label\": \"Appropriate surfaces of roadway shoulder piers sealed? 306.1.2\"\n",
    "    },\n",
    "    {\n",
    "        \"label\": \"For phased construction, is each phase supported by a minimum of three piles or two drilled shafts? 306.3.1\"\n",
    "    }\n",
    "]"
   ]
  },
  {
   "cell_type": "code",
   "execution_count": 107,
   "id": "4f5d5b8b-38be-412d-8b82-53c4eefe718a",
   "metadata": {},
   "outputs": [
    {
     "data": {
      "application/vnd.jupyter.widget-view+json": {
       "model_id": "6b516241f7f445c4a3d352b8753418d3",
       "version_major": 2,
       "version_minor": 0
      },
      "text/plain": [
       "HTML(value='<b><u>Piers General</u></b>')"
      ]
     },
     "metadata": {},
     "output_type": "display_data"
    },
    {
     "data": {
      "application/vnd.jupyter.widget-view+json": {
       "model_id": "bcb2d15f1c1e4c458cfdefac4fa447ee",
       "version_major": 2,
       "version_minor": 0
      },
      "text/plain": [
       "Checkbox(value=False, description='For freestanding piers, is the footing width at least one-fourth the height…"
      ]
     },
     "metadata": {},
     "output_type": "display_data"
    },
    {
     "data": {
      "application/vnd.jupyter.widget-view+json": {
       "model_id": "956e42332f4b497a856b2e483a1b8e51",
       "version_major": 2,
       "version_minor": 0
      },
      "text/plain": [
       "Checkbox(value=False, description='For cap and column piers on piles or bedrock, columns should generally have…"
      ]
     },
     "metadata": {},
     "output_type": "display_data"
    },
    {
     "data": {
      "application/vnd.jupyter.widget-view+json": {
       "model_id": "1b7fdc6f1fcd490d8bd5fc267b5e59f7",
       "version_major": 2,
       "version_minor": 0
      },
      "text/plain": [
       "Checkbox(value=False, description='Pier cap terminate inside the fascia and drip groove? (For box beam bridges…"
      ]
     },
     "metadata": {},
     "output_type": "display_data"
    },
    {
     "data": {
      "application/vnd.jupyter.widget-view+json": {
       "model_id": "74083b2c95644c6c9e080bc76f01d4c2",
       "version_major": 2,
       "version_minor": 0
      },
      "text/plain": [
       "Checkbox(value=False, description='Bearing Anchor Plan shown? Are anchor bolt dimensions normal and parallel t…"
      ]
     },
     "metadata": {},
     "output_type": "display_data"
    },
    {
     "data": {
      "application/vnd.jupyter.widget-view+json": {
       "model_id": "4806f6d79cf34d54805d0b2095b8fc8d",
       "version_major": 2,
       "version_minor": 0
      },
      "text/plain": [
       "Checkbox(value=False, description='Cap and column piers preferably designed with a cantilevered cap? 306.3.1',…"
      ]
     },
     "metadata": {},
     "output_type": "display_data"
    },
    {
     "data": {
      "application/vnd.jupyter.widget-view+json": {
       "model_id": "0c5f8b12499e495bb5dc60d41dab0946",
       "version_major": 2,
       "version_minor": 0
      },
      "text/plain": [
       "Checkbox(value=False, description='For slab bridges, is a construction joint placed at the top of the pier cap…"
      ]
     },
     "metadata": {},
     "output_type": "display_data"
    },
    {
     "data": {
      "application/vnd.jupyter.widget-view+json": {
       "model_id": "de3d41f720e141b280f81f434157cbaf",
       "version_major": 2,
       "version_minor": 0
      },
      "text/plain": [
       "Checkbox(value=False, description='Piers in navigable waterways designed to resist collision forces based on A…"
      ]
     },
     "metadata": {},
     "output_type": "display_data"
    },
    {
     "data": {
      "application/vnd.jupyter.widget-view+json": {
       "model_id": "d87f1682bfaa4f0d87abe8a0affa4ecd",
       "version_major": 2,
       "version_minor": 0
      },
      "text/plain": [
       "Checkbox(value=False, description='Ends of pier caps (all surfaces) under the edge of decks with over-the-side…"
      ]
     },
     "metadata": {},
     "output_type": "display_data"
    },
    {
     "data": {
      "application/vnd.jupyter.widget-view+json": {
       "model_id": "e3bd44a5586444ebb683fcd5ec51f47e",
       "version_major": 2,
       "version_minor": 0
      },
      "text/plain": [
       "Checkbox(value=False, description='Appropriate surfaces of roadway shoulder piers sealed? 306.1.2', indent=Fal…"
      ]
     },
     "metadata": {},
     "output_type": "display_data"
    },
    {
     "data": {
      "application/vnd.jupyter.widget-view+json": {
       "model_id": "b1f598dc44504f9fb6f3fc9a3dd5e95a",
       "version_major": 2,
       "version_minor": 0
      },
      "text/plain": [
       "Checkbox(value=False, description='For phased construction, is each phase supported by a minimum of three pile…"
      ]
     },
     "metadata": {},
     "output_type": "display_data"
    }
   ],
   "source": [
    "# Function to display the \"piers_general\" section\n",
    "def display_piers_general():\n",
    "    header = widgets.HTML(\"<b><u>Piers General</u></b>\")\n",
    "    display(header)\n",
    "    checkboxes = []\n",
    "    for criterion in piers_general_criteria:\n",
    "        label = criterion[\"label\"]\n",
    "        checkbox = widgets.Checkbox(\n",
    "            description=label,\n",
    "            value=False,\n",
    "            indent=False,\n",
    "            layout=widgets.Layout(width='100%', margin='6px 0 0 0px')\n",
    "        )\n",
    "        checkbox.style = {'description_width': '0px'}\n",
    "        checkboxes.append(checkbox)\n",
    "        display(checkbox)\n",
    "\n",
    "# Display the \"piers_general\" section\n",
    "display_piers_general()"
   ]
  },
  {
   "cell_type": "markdown",
   "id": "809dc388-b187-4c56-a9a4-359802b40acc",
   "metadata": {},
   "source": [
    "### Pile Foundations"
   ]
  },
  {
   "cell_type": "code",
   "execution_count": 108,
   "id": "3dbec773-def8-4b6c-ad8c-9c80f76653c4",
   "metadata": {},
   "outputs": [],
   "source": [
    "# Define the pile_foundations criteria\n",
    "pile_foundations_criteria = [\n",
    "    {\n",
    "        \"label\": \"Design strives to utilize maximum allowable pile spaces and maximum allowable design loads to minimize the number of piles 305.3.5.1\"\n",
    "    },\n",
    "    {\n",
    "        \"label\": \"At least four piles per footing? 305.3.5.1 & 306.3.3.1.a\"\n",
    "    },\n",
    "    {\n",
    "        \"label\": \"Battered piles required 305.3.5.8\"\n",
    "    },\n",
    "    {\n",
    "        \"label\": \"Pile spacing a minimum of 2'-6\\\" or 2.5 times the pile width/diameter? AASHTO LRFD 10.7.1.2\"\n",
    "    },\n",
    "    {\n",
    "        \"label\": \"Distance from center of piles to edge of footing at least 1'-6\\\"? 305.3.5.1\"\n",
    "    },\n",
    "    {\n",
    "        \"label\": \"Can piles be driven without interfering with sheeting, cofferdams, or other bridge or adjacent building components?\"\n",
    "    },\n",
    "    {\n",
    "        \"label\": \"Station of intersection of the centerline of bearings and station line.\"\n",
    "    },\n",
    "    {\n",
    "        \"label\": \"Tie the pile spacing to the intersection of the centerline of bearings and station line.\"\n",
    "    },\n",
    "    {\n",
    "        \"label\": \"Number all piles 305.4.4\"\n",
    "    }\n",
    "]"
   ]
  },
  {
   "cell_type": "code",
   "execution_count": 109,
   "id": "842a1e8e-6222-4c48-964c-e4e297c7d02b",
   "metadata": {},
   "outputs": [
    {
     "data": {
      "application/vnd.jupyter.widget-view+json": {
       "model_id": "7da4f079805b4ebda085178f81f2bada",
       "version_major": 2,
       "version_minor": 0
      },
      "text/plain": [
       "HTML(value='<b><u>Pile Foundations</u></b>')"
      ]
     },
     "metadata": {},
     "output_type": "display_data"
    },
    {
     "data": {
      "application/vnd.jupyter.widget-view+json": {
       "model_id": "aebeba5fabf64a94b19cb1a9fedbdb1f",
       "version_major": 2,
       "version_minor": 0
      },
      "text/plain": [
       "Checkbox(value=False, description='Design strives to utilize maximum allowable pile spaces and maximum allowab…"
      ]
     },
     "metadata": {},
     "output_type": "display_data"
    },
    {
     "data": {
      "application/vnd.jupyter.widget-view+json": {
       "model_id": "6ea2600eeac541f7aee32a1be33aeda7",
       "version_major": 2,
       "version_minor": 0
      },
      "text/plain": [
       "Checkbox(value=False, description='At least four piles per footing? 305.3.5.1 & 306.3.3.1.a', indent=False, la…"
      ]
     },
     "metadata": {},
     "output_type": "display_data"
    },
    {
     "data": {
      "application/vnd.jupyter.widget-view+json": {
       "model_id": "8232d21658b2430a9d4e72f21d3bdb23",
       "version_major": 2,
       "version_minor": 0
      },
      "text/plain": [
       "Checkbox(value=False, description='Battered piles required 305.3.5.8', indent=False, layout=Layout(margin='6px…"
      ]
     },
     "metadata": {},
     "output_type": "display_data"
    },
    {
     "data": {
      "application/vnd.jupyter.widget-view+json": {
       "model_id": "2d2d014e776c43cb9891eb39eb0557e0",
       "version_major": 2,
       "version_minor": 0
      },
      "text/plain": [
       "Checkbox(value=False, description='Pile spacing a minimum of 2\\'-6\" or 2.5 times the pile width/diameter? AASH…"
      ]
     },
     "metadata": {},
     "output_type": "display_data"
    },
    {
     "data": {
      "application/vnd.jupyter.widget-view+json": {
       "model_id": "4b966d9ed0774483a7c24e69c5c424fe",
       "version_major": 2,
       "version_minor": 0
      },
      "text/plain": [
       "Checkbox(value=False, description='Distance from center of piles to edge of footing at least 1\\'-6\"? 305.3.5.1…"
      ]
     },
     "metadata": {},
     "output_type": "display_data"
    },
    {
     "data": {
      "application/vnd.jupyter.widget-view+json": {
       "model_id": "1963d55956814e57b61615501cd84d72",
       "version_major": 2,
       "version_minor": 0
      },
      "text/plain": [
       "Checkbox(value=False, description='Can piles be driven without interfering with sheeting, cofferdams, or other…"
      ]
     },
     "metadata": {},
     "output_type": "display_data"
    },
    {
     "data": {
      "application/vnd.jupyter.widget-view+json": {
       "model_id": "567d8ad1efde42ca98217483413a35fe",
       "version_major": 2,
       "version_minor": 0
      },
      "text/plain": [
       "Checkbox(value=False, description='Station of intersection of the centerline of bearings and station line.', i…"
      ]
     },
     "metadata": {},
     "output_type": "display_data"
    },
    {
     "data": {
      "application/vnd.jupyter.widget-view+json": {
       "model_id": "fe293bed251943b1aa2d60e2b858a94a",
       "version_major": 2,
       "version_minor": 0
      },
      "text/plain": [
       "Checkbox(value=False, description='Tie the pile spacing to the intersection of the centerline of bearings and …"
      ]
     },
     "metadata": {},
     "output_type": "display_data"
    },
    {
     "data": {
      "application/vnd.jupyter.widget-view+json": {
       "model_id": "c95cfece37f64548bc7938ba560f4770",
       "version_major": 2,
       "version_minor": 0
      },
      "text/plain": [
       "Checkbox(value=False, description='Number all piles 305.4.4', indent=False, layout=Layout(margin='6px 0 0 0px'…"
      ]
     },
     "metadata": {},
     "output_type": "display_data"
    }
   ],
   "source": [
    "# Function to display the \"pile_foundations\" section\n",
    "def display_pile_foundations():\n",
    "    header = widgets.HTML(\"<b><u>Pile Foundations</u></b>\")\n",
    "    display(header)\n",
    "    checkboxes = []\n",
    "    for criterion in pile_foundations_criteria:\n",
    "        label = criterion[\"label\"]\n",
    "        checkbox = widgets.Checkbox(\n",
    "            description=label,\n",
    "            value=False,\n",
    "            indent=False,\n",
    "            layout=widgets.Layout(width='100%', margin='6px 0 0 0px')\n",
    "        )\n",
    "        checkbox.style = {'description_width': '0px'}\n",
    "        checkboxes.append(checkbox)\n",
    "        display(checkbox)\n",
    "\n",
    "# Display the \"pile_foundations\" section\n",
    "display_pile_foundations()"
   ]
  },
  {
   "cell_type": "markdown",
   "id": "b8ff8012-73f8-404e-8f4d-53582902a5b1",
   "metadata": {},
   "source": [
    "### Capped-Pile Piers"
   ]
  },
  {
   "cell_type": "code",
   "execution_count": 110,
   "id": "ecdd789c-1dec-4cc2-8c18-df5285d5b58c",
   "metadata": {},
   "outputs": [],
   "source": [
    "# Define the capped_pile_piers criteria\n",
    "capped_pile_piers_criteria = [\n",
    "    {\n",
    "        \"label\": \"Pile spacing less than or equal to 7.5 feet? 305.3.5.1\"\n",
    "    },\n",
    "    {\n",
    "        \"label\": \"Height above flow line generally limited to 20 feet, or piles specially designed? 306.3.3\"\n",
    "    },\n",
    "    {\n",
    "        \"label\": \"Distance from edge of pile to face of pier cap is at least 9 inches? 305.3.5.1\"\n",
    "    },\n",
    "    {\n",
    "        \"label\": \"Pile encasements specified and paid for H-piles)? 606.5-1\"\n",
    "    },\n",
    "    {\n",
    "        \"label\": \"Minimum of 1'-6\\\" cover provided above the piles? 305.3.5.1\"\n",
    "    }\n",
    "]"
   ]
  },
  {
   "cell_type": "code",
   "execution_count": 111,
   "id": "9bddd540-12a8-4c88-8681-a0c86e104850",
   "metadata": {},
   "outputs": [
    {
     "data": {
      "application/vnd.jupyter.widget-view+json": {
       "model_id": "425cb5210f624757bb97146b2f9cdcf0",
       "version_major": 2,
       "version_minor": 0
      },
      "text/plain": [
       "HTML(value='<b><u>Capped Pile Piers</u></b>')"
      ]
     },
     "metadata": {},
     "output_type": "display_data"
    },
    {
     "data": {
      "application/vnd.jupyter.widget-view+json": {
       "model_id": "ee347827723f47e3b022a54c364f4ea1",
       "version_major": 2,
       "version_minor": 0
      },
      "text/plain": [
       "Checkbox(value=False, description='Pile spacing less than or equal to 7.5 feet? 305.3.5.1', indent=False, layo…"
      ]
     },
     "metadata": {},
     "output_type": "display_data"
    },
    {
     "data": {
      "application/vnd.jupyter.widget-view+json": {
       "model_id": "b4278ee109e946eaa1c1cb5b1ebd20ce",
       "version_major": 2,
       "version_minor": 0
      },
      "text/plain": [
       "Checkbox(value=False, description='Height above flow line generally limited to 20 feet, or piles specially des…"
      ]
     },
     "metadata": {},
     "output_type": "display_data"
    },
    {
     "data": {
      "application/vnd.jupyter.widget-view+json": {
       "model_id": "9184a4489a8f436ba522bdbe5b114cd6",
       "version_major": 2,
       "version_minor": 0
      },
      "text/plain": [
       "Checkbox(value=False, description='Distance from edge of pile to face of pier cap is at least 9 inches? 305.3.…"
      ]
     },
     "metadata": {},
     "output_type": "display_data"
    },
    {
     "data": {
      "application/vnd.jupyter.widget-view+json": {
       "model_id": "adf770cd5eb546f09f6ce85ed10dc96e",
       "version_major": 2,
       "version_minor": 0
      },
      "text/plain": [
       "Checkbox(value=False, description='Pile encasements specified and paid for H-piles)? 606.5-1', indent=False, l…"
      ]
     },
     "metadata": {},
     "output_type": "display_data"
    },
    {
     "data": {
      "application/vnd.jupyter.widget-view+json": {
       "model_id": "5124bfe9484b4458882a77da3369087e",
       "version_major": 2,
       "version_minor": 0
      },
      "text/plain": [
       "Checkbox(value=False, description='Minimum of 1\\'-6\" cover provided above the piles? 305.3.5.1', indent=False,…"
      ]
     },
     "metadata": {},
     "output_type": "display_data"
    }
   ],
   "source": [
    "# Function to display the \"capped_pile_piers\" section\n",
    "def display_capped_pile_piers():\n",
    "    header = widgets.HTML(\"<b><u>Capped Pile Piers</u></b>\")\n",
    "    display(header)\n",
    "    checkboxes = []\n",
    "    for criterion in capped_pile_piers_criteria:\n",
    "        label = criterion[\"label\"]\n",
    "        checkbox = widgets.Checkbox(\n",
    "            description=label,\n",
    "            value=False,\n",
    "            indent=False,\n",
    "            layout=widgets.Layout(width='100%', margin='6px 0 0 0px')\n",
    "        )\n",
    "        checkbox.style = {'description_width': '0px'}\n",
    "        checkboxes.append(checkbox)\n",
    "        display(checkbox)\n",
    "\n",
    "# Display the \"capped_pile_piers\" section\n",
    "display_capped_pile_piers()"
   ]
  },
  {
   "cell_type": "markdown",
   "id": "6cf6ce24-4aa9-43a8-9d3b-039aa7c835dc",
   "metadata": {},
   "source": [
    "### Cap and Column Piers"
   ]
  },
  {
   "cell_type": "code",
   "execution_count": 112,
   "id": "99079f56-7782-46e5-bf1d-b63daa33672c",
   "metadata": {},
   "outputs": [],
   "source": [
    "# Define the cap_and_column_piers criteria\n",
    "cap_and_column_piers_criteria = [\n",
    "    {\n",
    "        \"label\": \"Diameter of the pier column specified to be 3'-0\\\" and the drilled shaft diameter a minimum of 3'-6\\\"? 305.4.4.2\"\n",
    "    },\n",
    "    {\n",
    "        \"label\": \"Location of the construction joint at the pier column/drilled shaft interface appropriate? (Usually 1 foot above OHWM elevation, for piers in water, and 1 foot below the ground line elsewhere.) 305.4.4\"\n",
    "    },\n",
    "    {\n",
    "        \"label\": \"A construction joint between the top of drilled shaft and the bottom of the column shown and splice cage provided? FIG. 303.5.4\"\n",
    "    },\n",
    "    {\n",
    "        \"label\": \"Reinforcing details at the column/drilled shaft construction joint appropriate? Typically, the reinforcing cage diameter is a common size between the column, drilled shaft, and bedrock socket.\"\n",
    "    },\n",
    "    {\n",
    "        \"label\": \"Bedrock socket depth shown on the plans? (Bottom of socket elevation should generally not be given) 305.4.2\"\n",
    "    },\n",
    "    {\n",
    "        \"label\": \"Reinforcing Steel in the drilled shafts? BDM305.4.4.3\"\n",
    "    },\n",
    "    {\n",
    "        \"label\": \"Spacing of the drilled shafts appropriate? Typically, spacings from 12 to 18 feet are used.\"\n",
    "    },\n",
    "    {\n",
    "        \"label\": \"Drilled shafts should be spaced to utilize the maximum bedrock end bearing pressures and a minimum number of drilled shafts.\"\n",
    "    }\n",
    "]"
   ]
  },
  {
   "cell_type": "code",
   "execution_count": 113,
   "id": "e5bfd817-65bd-4fb5-86e7-a51235437e9e",
   "metadata": {},
   "outputs": [
    {
     "data": {
      "application/vnd.jupyter.widget-view+json": {
       "model_id": "a0a7977d145a4e7d9c7a23c5e1be561a",
       "version_major": 2,
       "version_minor": 0
      },
      "text/plain": [
       "HTML(value='<b><u>Cap and Column Piers</u></b>')"
      ]
     },
     "metadata": {},
     "output_type": "display_data"
    },
    {
     "data": {
      "application/vnd.jupyter.widget-view+json": {
       "model_id": "a51ccaa571f74df687576e7343dda765",
       "version_major": 2,
       "version_minor": 0
      },
      "text/plain": [
       "Checkbox(value=False, description='Diameter of the pier column specified to be 3\\'-0\" and the drilled shaft di…"
      ]
     },
     "metadata": {},
     "output_type": "display_data"
    },
    {
     "data": {
      "application/vnd.jupyter.widget-view+json": {
       "model_id": "1b405f5774bb4acaaa108dadc135bbdf",
       "version_major": 2,
       "version_minor": 0
      },
      "text/plain": [
       "Checkbox(value=False, description='Location of the construction joint at the pier column/drilled shaft interfa…"
      ]
     },
     "metadata": {},
     "output_type": "display_data"
    },
    {
     "data": {
      "application/vnd.jupyter.widget-view+json": {
       "model_id": "474d479de34140c5a0604f7a91013447",
       "version_major": 2,
       "version_minor": 0
      },
      "text/plain": [
       "Checkbox(value=False, description='A construction joint between the top of drilled shaft and the bottom of the…"
      ]
     },
     "metadata": {},
     "output_type": "display_data"
    },
    {
     "data": {
      "application/vnd.jupyter.widget-view+json": {
       "model_id": "809d0df051b0446c8d6a5f023fb60011",
       "version_major": 2,
       "version_minor": 0
      },
      "text/plain": [
       "Checkbox(value=False, description='Reinforcing details at the column/drilled shaft construction joint appropri…"
      ]
     },
     "metadata": {},
     "output_type": "display_data"
    },
    {
     "data": {
      "application/vnd.jupyter.widget-view+json": {
       "model_id": "32910be45d0045b0822c5e98171e511e",
       "version_major": 2,
       "version_minor": 0
      },
      "text/plain": [
       "Checkbox(value=False, description='Bedrock socket depth shown on the plans? (Bottom of socket elevation should…"
      ]
     },
     "metadata": {},
     "output_type": "display_data"
    },
    {
     "data": {
      "application/vnd.jupyter.widget-view+json": {
       "model_id": "ebacf0084a6849ca8a8cbede802dee87",
       "version_major": 2,
       "version_minor": 0
      },
      "text/plain": [
       "Checkbox(value=False, description='Reinforcing Steel in the drilled shafts? BDM305.4.4.3', indent=False, layou…"
      ]
     },
     "metadata": {},
     "output_type": "display_data"
    },
    {
     "data": {
      "application/vnd.jupyter.widget-view+json": {
       "model_id": "081c11ac6da74d84a5bb4eda03c500dc",
       "version_major": 2,
       "version_minor": 0
      },
      "text/plain": [
       "Checkbox(value=False, description='Spacing of the drilled shafts appropriate? Typically, spacings from 12 to 1…"
      ]
     },
     "metadata": {},
     "output_type": "display_data"
    },
    {
     "data": {
      "application/vnd.jupyter.widget-view+json": {
       "model_id": "f73c4fe22d6d4f58b25c9553b12a0943",
       "version_major": 2,
       "version_minor": 0
      },
      "text/plain": [
       "Checkbox(value=False, description='Drilled shafts should be spaced to utilize the maximum bedrock end bearing …"
      ]
     },
     "metadata": {},
     "output_type": "display_data"
    }
   ],
   "source": [
    "# Function to display the \"cap_and_column_piers\" section\n",
    "def display_cap_and_column_piers():\n",
    "    header = widgets.HTML(\"<b><u>Cap and Column Piers</u></b>\")\n",
    "    display(header)\n",
    "    checkboxes = []\n",
    "    for criterion in cap_and_column_piers_criteria:\n",
    "        label = criterion[\"label\"]\n",
    "        checkbox = widgets.Checkbox(\n",
    "            description=label,\n",
    "            value=False,\n",
    "            indent=False,\n",
    "            layout=widgets.Layout(width='100%', margin='6px 0 0 0px')\n",
    "        )\n",
    "        checkbox.style = {'description_width': '0px'}\n",
    "        checkboxes.append(checkbox)\n",
    "        display(checkbox)\n",
    "\n",
    "# Display the \"cap_and_column_piers\" section\n",
    "display_cap_and_column_piers()"
   ]
  },
  {
   "cell_type": "markdown",
   "id": "85716873-9766-45fe-8dd0-fae597ebc4c4",
   "metadata": {},
   "source": [
    "## Abutments"
   ]
  },
  {
   "cell_type": "markdown",
   "id": "7ba031f3-f63d-48fc-bd69-4cd504af6c96",
   "metadata": {},
   "source": [
    "### General"
   ]
  },
  {
   "cell_type": "code",
   "execution_count": 114,
   "id": "e0062127-dbce-4acb-8c95-f2901dcd366d",
   "metadata": {},
   "outputs": [],
   "source": [
    "# Define the abutments_general criteria\n",
    "abutments_general_criteria = [\n",
    "    {\n",
    "        \"label\": \"Abutments easily located? Station and overall dimensions?\"\n",
    "    },\n",
    "    {\n",
    "        \"label\": \"Dimensions referenced from the proper working points? Beam/girder bridges (steel or concrete) intersection of centerline of survey and centerline of bearings. Concrete slab bridges centerline of survey is assumed 12 inches behind the face of the abutment. 201.2.1.1\"\n",
    "    },\n",
    "    {\n",
    "        \"label\": \"Types of Abutments 306.2 & 306.2.2\"\n",
    "    },\n",
    "    {\n",
    "        \"label\": \"Wing-wall lengths checked?\"\n",
    "    },\n",
    "    {\n",
    "        \"label\": \"If ground lines are shown, are they appropriate?\"\n",
    "    },\n",
    "    {\n",
    "        \"label\": \"Earth benches not been used for new designs? Depth of approach slab seat Shown? 306.2.1.4 for CPA-1-08 abutments\"\n",
    "    },\n",
    "    {\n",
    "        \"label\": \"Bridge seat sloped to drain toward the face of abutment for beam or girder bridges on spill-through abutments except at bearings)? (For grade separations on wall-type abutments, are the bridge seats sloped to drain toward the back wall, with a depressed gutter and drainage system provided? 306.2.3.2\"\n",
    "    },\n",
    "    {\n",
    "        \"label\": \"For box beam bridges, are provisions necessary to ensure proper fit of the elastomeric bearings i.e., sloped bridge seats or tapered bearings)? DB-1-11\"\n",
    "    },\n",
    "    {\n",
    "        \"label\": \"For box beam bridges, is the bridge seat length adequate to support all bearings, accounting for 1/2-inch fit-up per beam joint? Beam seat should not protrude from beneath deck edge when a fit-up allowance of 1/4 inch per foot is used for pier. 308.2.3.3\"\n",
    "    },\n",
    "    {\n",
    "        \"label\": \"For box beam bridges, has the proper wearing surface thickness at the abutments being used to compute bridge seat elevations? 309.1\"\n",
    "    },\n",
    "    {\n",
    "        \"label\": \"Dowel holes drilled parallel to a free edge clear concrete surface by at least 4 inches?\"\n",
    "    },\n",
    "    {\n",
    "        \"label\": \"Bearing anchor plan shown? Anchor bolt location dimensions normal and parallel to centerline of bearing? 306.2.1.2 & 701.2\"\n",
    "    },\n",
    "    {\n",
    "        \"label\": \"Joint filler shown between concrete box beams and wing-wall concrete? 308.2.3.3\"\n",
    "    },\n",
    "    {\n",
    "        \"label\": \"Construction joint shown at the level of the approach slab seat for steel superstructures?\"\n",
    "    },\n",
    "    {\n",
    "        \"label\": \"Construction joint provided in wing-walls of box beam bridges at bridge seat elevation? 308.2.3.3\"\n",
    "    },\n",
    "    {\n",
    "        \"label\": \"Plan note restricting placement of wing-wall concrete included for box beam bridges?\"\n",
    "    },\n",
    "    {\n",
    "        \"label\": \"Appropriate surfaces sealed using an appropriate sealer? 306.1.2 & 309.2.1\"\n",
    "    },\n",
    "    {\n",
    "        \"label\": \"Type 2 waterproofing used at construction joints? Typically used above ground at stage construction joints, or joints between existing and proposed concrete) 306.2.1.3\"\n",
    "    },\n",
    "    {\n",
    "        \"label\": \"Expansion & Contraction joints provided as appropriate? 306.2.5\"\n",
    "    },\n",
    "    {\n",
    "        \"label\": \"Weep-holes located 6 inches to 1 foot above ground level or normal waterline? 306.2.3.3\"\n",
    "    },\n",
    "    {\n",
    "        \"label\": \"Porous backfill shown 6 inches below weep holes 306.2.3.3\"\n",
    "    },\n",
    "    {\n",
    "        \"label\": \"Geotextile fabric specified between the porous backfill and the approach fill? Has it been turned up 6 inches at the wall? 306.2.3.1\"\n",
    "    },\n",
    "    {\n",
    "        \"label\": \"Lateral limits of porous backfill 2'-0\\\" thick) clearly indicated in the elevation view as described by 306.2.3.1\"\n",
    "    },\n",
    "    {\n",
    "        \"label\": \"End caps shown on drain pipes, except at outlets? 306.2.3.1\"\n",
    "    },\n",
    "    {\n",
    "        \"label\": \"For wall-type abutments where strut action of the superstructure is relied upon for stability, has a plan note been provided limiting height of backfill until superstructure is placed?\"\n",
    "    },\n",
    "    {\n",
    "        \"label\": \"Pipe drainage system used? 306.2.3.1\"\n",
    "    },\n",
    "    {\n",
    "        \"label\": \"For rehabilitation, does the connection between the new and existing concrete appear adequate? Existing reinforcing that is incorporated into the new work should generally be shown in the proposed cross-section.\"\n",
    "    },\n",
    "    {\n",
    "        \"label\": \"Aesthetic for wall-type abutments 306.2.2.1\"\n",
    "    },\n",
    "    {\n",
    "        \"label\": \"For phase construction, is each phase supported by a minimum of three piles or two drilled shafts? 306.2.2.3, 306.2.2.4 & 306.2.2.5\"\n",
    "    },\n",
    "    {\n",
    "        \"label\": \"Top strap of the MSE wall should be 6” below the footing. See figure 201-2 & 201-3 of the BDM.\"\n",
    "    },\n",
    "    {\n",
    "        \"label\": \"What type of protection is used to prevent the weed growth in the area between the footing and MSE wall?\"\n",
    "    },\n",
    "    {\n",
    "        \"label\": \"For high skew semi-integral bridges keep the beam seat level and use variable height of the HP section. Not possible to bend # 8 bars.\"\n",
    "    }\n",
    "]"
   ]
  },
  {
   "cell_type": "code",
   "execution_count": 115,
   "id": "94ff9329-f154-46c6-938d-f0bbc735b4f4",
   "metadata": {},
   "outputs": [
    {
     "data": {
      "application/vnd.jupyter.widget-view+json": {
       "model_id": "95dfc641519a4e22b710b2204211bb7e",
       "version_major": 2,
       "version_minor": 0
      },
      "text/plain": [
       "HTML(value='<b><u>Abutments General</u></b>')"
      ]
     },
     "metadata": {},
     "output_type": "display_data"
    },
    {
     "data": {
      "application/vnd.jupyter.widget-view+json": {
       "model_id": "b7592a1cde0b4f098c828666782fcbbd",
       "version_major": 2,
       "version_minor": 0
      },
      "text/plain": [
       "Checkbox(value=False, description='Abutments easily located? Station and overall dimensions?', indent=False, l…"
      ]
     },
     "metadata": {},
     "output_type": "display_data"
    },
    {
     "data": {
      "application/vnd.jupyter.widget-view+json": {
       "model_id": "d46bb5953b3a46ada05174aed405854c",
       "version_major": 2,
       "version_minor": 0
      },
      "text/plain": [
       "Checkbox(value=False, description='Dimensions referenced from the proper working points? Beam/girder bridges (…"
      ]
     },
     "metadata": {},
     "output_type": "display_data"
    },
    {
     "data": {
      "application/vnd.jupyter.widget-view+json": {
       "model_id": "1fe00676d2a34836bf984999ff7ba61e",
       "version_major": 2,
       "version_minor": 0
      },
      "text/plain": [
       "Checkbox(value=False, description='Types of Abutments 306.2 & 306.2.2', indent=False, layout=Layout(margin='6p…"
      ]
     },
     "metadata": {},
     "output_type": "display_data"
    },
    {
     "data": {
      "application/vnd.jupyter.widget-view+json": {
       "model_id": "fde94788a9614717a392b58cf1f29ec5",
       "version_major": 2,
       "version_minor": 0
      },
      "text/plain": [
       "Checkbox(value=False, description='Wing-wall lengths checked?', indent=False, layout=Layout(margin='6px 0 0 0p…"
      ]
     },
     "metadata": {},
     "output_type": "display_data"
    },
    {
     "data": {
      "application/vnd.jupyter.widget-view+json": {
       "model_id": "f7d22687ed2f4be484ff3601e68a51ca",
       "version_major": 2,
       "version_minor": 0
      },
      "text/plain": [
       "Checkbox(value=False, description='If ground lines are shown, are they appropriate?', indent=False, layout=Lay…"
      ]
     },
     "metadata": {},
     "output_type": "display_data"
    },
    {
     "data": {
      "application/vnd.jupyter.widget-view+json": {
       "model_id": "505c0d69682e4c82825130ee6637c350",
       "version_major": 2,
       "version_minor": 0
      },
      "text/plain": [
       "Checkbox(value=False, description='Earth benches not been used for new designs? Depth of approach slab seat Sh…"
      ]
     },
     "metadata": {},
     "output_type": "display_data"
    },
    {
     "data": {
      "application/vnd.jupyter.widget-view+json": {
       "model_id": "7fb2bd8914de4c5fa35a49e453112f4e",
       "version_major": 2,
       "version_minor": 0
      },
      "text/plain": [
       "Checkbox(value=False, description='Bridge seat sloped to drain toward the face of abutment for beam or girder …"
      ]
     },
     "metadata": {},
     "output_type": "display_data"
    },
    {
     "data": {
      "application/vnd.jupyter.widget-view+json": {
       "model_id": "1e03b0ea19024ecd858e73f2d58f66c9",
       "version_major": 2,
       "version_minor": 0
      },
      "text/plain": [
       "Checkbox(value=False, description='For box beam bridges, are provisions necessary to ensure proper fit of the …"
      ]
     },
     "metadata": {},
     "output_type": "display_data"
    },
    {
     "data": {
      "application/vnd.jupyter.widget-view+json": {
       "model_id": "d317182a5e564fb9b70b0d700c0cd386",
       "version_major": 2,
       "version_minor": 0
      },
      "text/plain": [
       "Checkbox(value=False, description='For box beam bridges, is the bridge seat length adequate to support all bea…"
      ]
     },
     "metadata": {},
     "output_type": "display_data"
    },
    {
     "data": {
      "application/vnd.jupyter.widget-view+json": {
       "model_id": "af989e1d6e614f09afef6fff11ce038e",
       "version_major": 2,
       "version_minor": 0
      },
      "text/plain": [
       "Checkbox(value=False, description='For box beam bridges, has the proper wearing surface thickness at the abutm…"
      ]
     },
     "metadata": {},
     "output_type": "display_data"
    },
    {
     "data": {
      "application/vnd.jupyter.widget-view+json": {
       "model_id": "9f6838bd5e5b467ba66050d25c107205",
       "version_major": 2,
       "version_minor": 0
      },
      "text/plain": [
       "Checkbox(value=False, description='Dowel holes drilled parallel to a free edge clear concrete surface by at le…"
      ]
     },
     "metadata": {},
     "output_type": "display_data"
    },
    {
     "data": {
      "application/vnd.jupyter.widget-view+json": {
       "model_id": "a97ec58d132243f88473e7d4e7c08530",
       "version_major": 2,
       "version_minor": 0
      },
      "text/plain": [
       "Checkbox(value=False, description='Bearing anchor plan shown? Anchor bolt location dimensions normal and paral…"
      ]
     },
     "metadata": {},
     "output_type": "display_data"
    },
    {
     "data": {
      "application/vnd.jupyter.widget-view+json": {
       "model_id": "7f57db9894584230a688edc86c406e5a",
       "version_major": 2,
       "version_minor": 0
      },
      "text/plain": [
       "Checkbox(value=False, description='Joint filler shown between concrete box beams and wing-wall concrete? 308.2…"
      ]
     },
     "metadata": {},
     "output_type": "display_data"
    },
    {
     "data": {
      "application/vnd.jupyter.widget-view+json": {
       "model_id": "cb1b52011ef74bcb9d65bd5149a00228",
       "version_major": 2,
       "version_minor": 0
      },
      "text/plain": [
       "Checkbox(value=False, description='Construction joint shown at the level of the approach slab seat for steel s…"
      ]
     },
     "metadata": {},
     "output_type": "display_data"
    },
    {
     "data": {
      "application/vnd.jupyter.widget-view+json": {
       "model_id": "ee64b6a5b87b4d2c86f750923356c36c",
       "version_major": 2,
       "version_minor": 0
      },
      "text/plain": [
       "Checkbox(value=False, description='Construction joint provided in wing-walls of box beam bridges at bridge sea…"
      ]
     },
     "metadata": {},
     "output_type": "display_data"
    },
    {
     "data": {
      "application/vnd.jupyter.widget-view+json": {
       "model_id": "667e7f5277b44d48858017a865d743e0",
       "version_major": 2,
       "version_minor": 0
      },
      "text/plain": [
       "Checkbox(value=False, description='Plan note restricting placement of wing-wall concrete included for box beam…"
      ]
     },
     "metadata": {},
     "output_type": "display_data"
    },
    {
     "data": {
      "application/vnd.jupyter.widget-view+json": {
       "model_id": "94627ca516724c7f8a235f43d87af9a4",
       "version_major": 2,
       "version_minor": 0
      },
      "text/plain": [
       "Checkbox(value=False, description='Appropriate surfaces sealed using an appropriate sealer? 306.1.2 & 309.2.1'…"
      ]
     },
     "metadata": {},
     "output_type": "display_data"
    },
    {
     "data": {
      "application/vnd.jupyter.widget-view+json": {
       "model_id": "aa5401db3a354362ba86ba6c9f13678e",
       "version_major": 2,
       "version_minor": 0
      },
      "text/plain": [
       "Checkbox(value=False, description='Type 2 waterproofing used at construction joints? Typically used above grou…"
      ]
     },
     "metadata": {},
     "output_type": "display_data"
    },
    {
     "data": {
      "application/vnd.jupyter.widget-view+json": {
       "model_id": "ce210dcb0785493bbbdf6a3b8d6b0062",
       "version_major": 2,
       "version_minor": 0
      },
      "text/plain": [
       "Checkbox(value=False, description='Expansion & Contraction joints provided as appropriate? 306.2.5', indent=Fa…"
      ]
     },
     "metadata": {},
     "output_type": "display_data"
    },
    {
     "data": {
      "application/vnd.jupyter.widget-view+json": {
       "model_id": "95d4b3cdc8e24d9788b6f8cadda07fda",
       "version_major": 2,
       "version_minor": 0
      },
      "text/plain": [
       "Checkbox(value=False, description='Weep-holes located 6 inches to 1 foot above ground level or normal waterlin…"
      ]
     },
     "metadata": {},
     "output_type": "display_data"
    },
    {
     "data": {
      "application/vnd.jupyter.widget-view+json": {
       "model_id": "624d2b1f70284b2690a199b2b788a8b0",
       "version_major": 2,
       "version_minor": 0
      },
      "text/plain": [
       "Checkbox(value=False, description='Porous backfill shown 6 inches below weep holes 306.2.3.3', indent=False, l…"
      ]
     },
     "metadata": {},
     "output_type": "display_data"
    },
    {
     "data": {
      "application/vnd.jupyter.widget-view+json": {
       "model_id": "d235dd8cf8fc41b98527ec9a8d645edf",
       "version_major": 2,
       "version_minor": 0
      },
      "text/plain": [
       "Checkbox(value=False, description='Geotextile fabric specified between the porous backfill and the approach fi…"
      ]
     },
     "metadata": {},
     "output_type": "display_data"
    },
    {
     "data": {
      "application/vnd.jupyter.widget-view+json": {
       "model_id": "5b33c4d32b2c45c2877bee6c89bb1dd8",
       "version_major": 2,
       "version_minor": 0
      },
      "text/plain": [
       "Checkbox(value=False, description='Lateral limits of porous backfill 2\\'-0\" thick) clearly indicated in the el…"
      ]
     },
     "metadata": {},
     "output_type": "display_data"
    },
    {
     "data": {
      "application/vnd.jupyter.widget-view+json": {
       "model_id": "eab83163b3cf437fafa999c682e81534",
       "version_major": 2,
       "version_minor": 0
      },
      "text/plain": [
       "Checkbox(value=False, description='End caps shown on drain pipes, except at outlets? 306.2.3.1', indent=False,…"
      ]
     },
     "metadata": {},
     "output_type": "display_data"
    },
    {
     "data": {
      "application/vnd.jupyter.widget-view+json": {
       "model_id": "e7fd98b7932b4972bd6796cbd53bd1c6",
       "version_major": 2,
       "version_minor": 0
      },
      "text/plain": [
       "Checkbox(value=False, description='For wall-type abutments where strut action of the superstructure is relied …"
      ]
     },
     "metadata": {},
     "output_type": "display_data"
    },
    {
     "data": {
      "application/vnd.jupyter.widget-view+json": {
       "model_id": "29dce83ee6144986bfcdb0108cb017e9",
       "version_major": 2,
       "version_minor": 0
      },
      "text/plain": [
       "Checkbox(value=False, description='Pipe drainage system used? 306.2.3.1', indent=False, layout=Layout(margin='…"
      ]
     },
     "metadata": {},
     "output_type": "display_data"
    },
    {
     "data": {
      "application/vnd.jupyter.widget-view+json": {
       "model_id": "1eaaa7bd1d3f41f796080c28402dac62",
       "version_major": 2,
       "version_minor": 0
      },
      "text/plain": [
       "Checkbox(value=False, description='For rehabilitation, does the connection between the new and existing concre…"
      ]
     },
     "metadata": {},
     "output_type": "display_data"
    },
    {
     "data": {
      "application/vnd.jupyter.widget-view+json": {
       "model_id": "51e66279bd734f60bd38d6f3ae3fd5e2",
       "version_major": 2,
       "version_minor": 0
      },
      "text/plain": [
       "Checkbox(value=False, description='Aesthetic for wall-type abutments 306.2.2.1', indent=False, layout=Layout(m…"
      ]
     },
     "metadata": {},
     "output_type": "display_data"
    },
    {
     "data": {
      "application/vnd.jupyter.widget-view+json": {
       "model_id": "ef00e612f1b24aa4b92f45b142c09e3f",
       "version_major": 2,
       "version_minor": 0
      },
      "text/plain": [
       "Checkbox(value=False, description='For phase construction, is each phase supported by a minimum of three piles…"
      ]
     },
     "metadata": {},
     "output_type": "display_data"
    },
    {
     "data": {
      "application/vnd.jupyter.widget-view+json": {
       "model_id": "0bd0cc841f664ef0a703112049e4f62c",
       "version_major": 2,
       "version_minor": 0
      },
      "text/plain": [
       "Checkbox(value=False, description='Top strap of the MSE wall should be 6” below the footing. See figure 201-2 …"
      ]
     },
     "metadata": {},
     "output_type": "display_data"
    },
    {
     "data": {
      "application/vnd.jupyter.widget-view+json": {
       "model_id": "69ebcc1b76c04248b62c8e9fc7f46c3d",
       "version_major": 2,
       "version_minor": 0
      },
      "text/plain": [
       "Checkbox(value=False, description='What type of protection is used to prevent the weed growth in the area betw…"
      ]
     },
     "metadata": {},
     "output_type": "display_data"
    },
    {
     "data": {
      "application/vnd.jupyter.widget-view+json": {
       "model_id": "29e25ce136104df89af39a21a81ac579",
       "version_major": 2,
       "version_minor": 0
      },
      "text/plain": [
       "Checkbox(value=False, description='For high skew semi-integral bridges keep the beam seat level and use variab…"
      ]
     },
     "metadata": {},
     "output_type": "display_data"
    }
   ],
   "source": [
    "# Function to display the \"abutments_general\" section\n",
    "def display_abutments_general():\n",
    "    header = widgets.HTML(\"<b><u>Abutments General</u></b>\")\n",
    "    display(header)\n",
    "    checkboxes = []\n",
    "    for criterion in abutments_general_criteria:\n",
    "        label = criterion[\"label\"]\n",
    "        checkbox = widgets.Checkbox(\n",
    "            description=label,\n",
    "            value=False,\n",
    "            indent=False,\n",
    "            layout=widgets.Layout(width='100%', margin='6px 0 0 0px')\n",
    "        )\n",
    "        checkbox.style = {'description_width': '0px'}\n",
    "        checkboxes.append(checkbox)\n",
    "        display(checkbox)\n",
    "\n",
    "# Display the \"abutments_general\" section\n",
    "display_abutments_general()"
   ]
  },
  {
   "cell_type": "markdown",
   "id": "320488b1-ba93-4b68-8b41-4d7a2ebb4c10",
   "metadata": {},
   "source": [
    "### Pile Foundations"
   ]
  },
  {
   "cell_type": "code",
   "execution_count": 116,
   "id": "409dfa4d-c177-4406-a96b-2b222a109db8",
   "metadata": {},
   "outputs": [],
   "source": [
    "# Define the pile_foundations criteria\n",
    "pile_foundations_criteria = [\n",
    "    {\n",
    "        \"label\": \"Flanges of piles parallel to face of rigid abutments; webs parallel to face of flexible abutment (including CPA-1-08/ICD-1-82 abutments and CPP-1-08 piers)?\"\n",
    "    },\n",
    "    {\n",
    "        \"label\": \"Battered piles required? (Rate of batter shown? 1:4 desirable, 1:3 acceptable) 305.3.5.8\"\n",
    "    },\n",
    "    {\n",
    "        \"label\": \"Pile embedment into footing shown as 1'-6\\\" cover shown above piles or as per 305.3.5\"\n",
    "    },\n",
    "    {\n",
    "        \"label\": \"Pile design load 305.3.3 & 305.3.4\"\n",
    "    },\n",
    "    {\n",
    "        \"label\": \"Distance from center of piles to edge of footing at least 1'-6\\\"? (Not the Ultimate Bearing Value UBV pile load) shown in the General Notes? UBV as per 305.3.5.1\"\n",
    "    },\n",
    "    {\n",
    "        \"label\": \"For abutments on a single row of piles, have closed ties been provided around the piles? For example, see Standard Drawing ICD-1-82\"\n",
    "    },\n",
    "    {\n",
    "        \"label\": \"Design utilizes maximum allowable pile spacing and maximum allowable design loads to minimize the number of piles 305.3.5, 305.3.3 & 305.3.4\"\n",
    "    },\n",
    "    {\n",
    "        \"label\": \"For abutments on a single row of piles, has the footing been extended to the ends of the wingwalls and straight wing-walls used?\"\n",
    "    }\n",
    "]"
   ]
  },
  {
   "cell_type": "code",
   "execution_count": 117,
   "id": "44e1968e-4595-4083-9380-6670bee27c52",
   "metadata": {},
   "outputs": [
    {
     "data": {
      "application/vnd.jupyter.widget-view+json": {
       "model_id": "2e5723fc57c743a381f26f7c6e51075d",
       "version_major": 2,
       "version_minor": 0
      },
      "text/plain": [
       "HTML(value='<b><u>Pile Foundations</u></b>')"
      ]
     },
     "metadata": {},
     "output_type": "display_data"
    },
    {
     "data": {
      "application/vnd.jupyter.widget-view+json": {
       "model_id": "f3eb4648569740559c450b1d2d3920b4",
       "version_major": 2,
       "version_minor": 0
      },
      "text/plain": [
       "Checkbox(value=False, description='Flanges of piles parallel to face of rigid abutments; webs parallel to face…"
      ]
     },
     "metadata": {},
     "output_type": "display_data"
    },
    {
     "data": {
      "application/vnd.jupyter.widget-view+json": {
       "model_id": "2caeb98553ac41c09254f5500d0003d9",
       "version_major": 2,
       "version_minor": 0
      },
      "text/plain": [
       "Checkbox(value=False, description='Battered piles required? (Rate of batter shown? 1:4 desirable, 1:3 acceptab…"
      ]
     },
     "metadata": {},
     "output_type": "display_data"
    },
    {
     "data": {
      "application/vnd.jupyter.widget-view+json": {
       "model_id": "31153ec85a0d482d96847d33306c5efa",
       "version_major": 2,
       "version_minor": 0
      },
      "text/plain": [
       "Checkbox(value=False, description='Pile embedment into footing shown as 1\\'-6\" cover shown above piles or as p…"
      ]
     },
     "metadata": {},
     "output_type": "display_data"
    },
    {
     "data": {
      "application/vnd.jupyter.widget-view+json": {
       "model_id": "a15d2b5f3e854b1bbc88c44011cfae1b",
       "version_major": 2,
       "version_minor": 0
      },
      "text/plain": [
       "Checkbox(value=False, description='Pile design load 305.3.3 & 305.3.4', indent=False, layout=Layout(margin='6p…"
      ]
     },
     "metadata": {},
     "output_type": "display_data"
    },
    {
     "data": {
      "application/vnd.jupyter.widget-view+json": {
       "model_id": "a564d2b2e6a44931a90b18eb3590a226",
       "version_major": 2,
       "version_minor": 0
      },
      "text/plain": [
       "Checkbox(value=False, description='Distance from center of piles to edge of footing at least 1\\'-6\"? (Not the …"
      ]
     },
     "metadata": {},
     "output_type": "display_data"
    },
    {
     "data": {
      "application/vnd.jupyter.widget-view+json": {
       "model_id": "67305a9c0fac4d12b474607bc2268342",
       "version_major": 2,
       "version_minor": 0
      },
      "text/plain": [
       "Checkbox(value=False, description='For abutments on a single row of piles, have closed ties been provided arou…"
      ]
     },
     "metadata": {},
     "output_type": "display_data"
    },
    {
     "data": {
      "application/vnd.jupyter.widget-view+json": {
       "model_id": "42c05ef2b48147afb3706d3da310a346",
       "version_major": 2,
       "version_minor": 0
      },
      "text/plain": [
       "Checkbox(value=False, description='Design utilizes maximum allowable pile spacing and maximum allowable design…"
      ]
     },
     "metadata": {},
     "output_type": "display_data"
    },
    {
     "data": {
      "application/vnd.jupyter.widget-view+json": {
       "model_id": "eddf79fcebaa4860b236dc75a33c3f12",
       "version_major": 2,
       "version_minor": 0
      },
      "text/plain": [
       "Checkbox(value=False, description='For abutments on a single row of piles, has the footing been extended to th…"
      ]
     },
     "metadata": {},
     "output_type": "display_data"
    }
   ],
   "source": [
    "# Function to display the \"pile_foundations\" section\n",
    "def display_pile_foundations():\n",
    "    header = widgets.HTML(\"<b><u>Pile Foundations</u></b>\")\n",
    "    display(header)\n",
    "    checkboxes = []\n",
    "    for criterion in pile_foundations_criteria:\n",
    "        label = criterion[\"label\"]\n",
    "        checkbox = widgets.Checkbox(\n",
    "            description=label,\n",
    "            value=False,\n",
    "            indent=False,\n",
    "            layout=widgets.Layout(width='100%', margin='6px 0 0 0px')\n",
    "        )\n",
    "        checkbox.style = {'description_width': '0px'}\n",
    "        checkboxes.append(checkbox)\n",
    "        display(checkbox)\n",
    "\n",
    "# Display the \"pile_foundations\" section\n",
    "display_pile_foundations()"
   ]
  },
  {
   "cell_type": "markdown",
   "id": "6e7a6722-aef2-4c27-ac44-d41162a31943",
   "metadata": {},
   "source": [
    "## Drilled Shaft"
   ]
  },
  {
   "cell_type": "code",
   "execution_count": 118,
   "id": "1c3e2e43-89ca-4d42-b1bd-acfd352e56de",
   "metadata": {},
   "outputs": [],
   "source": [
    "# Define the drilled_shaft criteria\n",
    "drilled_shaft_criteria = [\n",
    "    {\n",
    "        \"label\": \"Drilled shaft diameter a minimum of 3'-0\\\"? 305.4\"\n",
    "    },\n",
    "    {\n",
    "        \"label\": \"Bedrock socket depth shown on the plans? (Bottom of socket elevation should generally not be given)\"\n",
    "    },\n",
    "    {\n",
    "        \"label\": \"Spacing of the drilled shafts appropriate? Typically, spacing for 12 to 18 feet are used. Drilled shafts should attempt to be spaced to utilize the maximum bedrock end bearing pressures and a minimum number of drilled shafts.\"\n",
    "    },\n",
    "    {\n",
    "        \"label\": \"Splice cage specified? 303.4.4.3 & Fig. 305-4\"\n",
    "    },\n",
    "    {\n",
    "        \"label\": \"Use of friction drilled shaft requires previous approval of OGE? 305.4.3\"\n",
    "    }\n",
    "]"
   ]
  },
  {
   "cell_type": "code",
   "execution_count": 119,
   "id": "208ba548-1726-4eb3-84ba-6b3b1e155851",
   "metadata": {},
   "outputs": [
    {
     "data": {
      "application/vnd.jupyter.widget-view+json": {
       "model_id": "53f57ef232614126a007dcd5dcba0d8e",
       "version_major": 2,
       "version_minor": 0
      },
      "text/plain": [
       "HTML(value='<b><u>Drilled Shaft</u></b>')"
      ]
     },
     "metadata": {},
     "output_type": "display_data"
    },
    {
     "data": {
      "application/vnd.jupyter.widget-view+json": {
       "model_id": "5d58a80845764d7a8d98b436b9119909",
       "version_major": 2,
       "version_minor": 0
      },
      "text/plain": [
       "Checkbox(value=False, description='Drilled shaft diameter a minimum of 3\\'-0\"? 305.4', indent=False, layout=La…"
      ]
     },
     "metadata": {},
     "output_type": "display_data"
    },
    {
     "data": {
      "application/vnd.jupyter.widget-view+json": {
       "model_id": "1485892fd4cf4cb98690dc17ea78c832",
       "version_major": 2,
       "version_minor": 0
      },
      "text/plain": [
       "Checkbox(value=False, description='Bedrock socket depth shown on the plans? (Bottom of socket elevation should…"
      ]
     },
     "metadata": {},
     "output_type": "display_data"
    },
    {
     "data": {
      "application/vnd.jupyter.widget-view+json": {
       "model_id": "d8c9c3463ce64b43a545f1a688dec989",
       "version_major": 2,
       "version_minor": 0
      },
      "text/plain": [
       "Checkbox(value=False, description='Spacing of the drilled shafts appropriate? Typically, spacing for 12 to 18 …"
      ]
     },
     "metadata": {},
     "output_type": "display_data"
    },
    {
     "data": {
      "application/vnd.jupyter.widget-view+json": {
       "model_id": "3238176b4c274fbca338da198e0635e9",
       "version_major": 2,
       "version_minor": 0
      },
      "text/plain": [
       "Checkbox(value=False, description='Splice cage specified? 303.4.4.3 & Fig. 305-4', indent=False, layout=Layout…"
      ]
     },
     "metadata": {},
     "output_type": "display_data"
    },
    {
     "data": {
      "application/vnd.jupyter.widget-view+json": {
       "model_id": "9102767b702247f09cbfd609ca42507b",
       "version_major": 2,
       "version_minor": 0
      },
      "text/plain": [
       "Checkbox(value=False, description='Use of friction drilled shaft requires previous approval of OGE? 305.4.3', …"
      ]
     },
     "metadata": {},
     "output_type": "display_data"
    }
   ],
   "source": [
    "# Function to display the \"drilled_shaft\" section\n",
    "def display_drilled_shaft():\n",
    "    header = widgets.HTML(\"<b><u>Drilled Shaft</u></b>\")\n",
    "    display(header)\n",
    "    checkboxes = []\n",
    "    for criterion in drilled_shaft_criteria:\n",
    "        label = criterion[\"label\"]\n",
    "        checkbox = widgets.Checkbox(\n",
    "            description=label,\n",
    "            value=False,\n",
    "            indent=False,\n",
    "            layout=widgets.Layout(width='100%', margin='6px 0 0 0px')\n",
    "        )\n",
    "        checkbox.style = {'description_width': '0px'}\n",
    "        checkboxes.append(checkbox)\n",
    "        display(checkbox)\n",
    "\n",
    "# Display the \"drilled_shaft\" section\n",
    "display_drilled_shaft()"
   ]
  },
  {
   "cell_type": "markdown",
   "id": "8eaaa56c-6b19-4d75-bff0-c507fec664b5",
   "metadata": {},
   "source": [
    "# Plan Extraction"
   ]
  },
  {
   "cell_type": "code",
   "execution_count": 120,
   "id": "03b291fa-71ca-4896-998c-52df46eb3ee5",
   "metadata": {},
   "outputs": [],
   "source": [
    "# Link to plans set\n",
    "plan_file_path = r\"C:\\Users\\dparks1\\PycharmProjects\\civilpy\\res\\ODOT_sample_plans.pdf\""
   ]
  },
  {
   "cell_type": "code",
   "execution_count": 121,
   "id": "4a77eb50-3645-48ee-a1c5-8c2455396bec",
   "metadata": {},
   "outputs": [],
   "source": [
    "import fitz  # PyMuPDF\n",
    "import nltk\n",
    "from nltk.corpus import stopwords\n",
    "from nltk.tokenize import word_tokenize\n",
    "from collections import Counter"
   ]
  },
  {
   "cell_type": "code",
   "execution_count": 122,
   "id": "97a27100-a158-4551-9477-3a56dde8fe30",
   "metadata": {},
   "outputs": [
    {
     "name": "stderr",
     "output_type": "stream",
     "text": [
      "[nltk_data] Error loading punkt: <urlopen error [Errno 11001]\n",
      "[nltk_data]     getaddrinfo failed>\n",
      "[nltk_data] Error loading stopwords: <urlopen error [Errno 11001]\n",
      "[nltk_data]     getaddrinfo failed>\n"
     ]
    },
    {
     "data": {
      "text/plain": [
       "False"
      ]
     },
     "execution_count": 122,
     "metadata": {},
     "output_type": "execute_result"
    }
   ],
   "source": [
    "# Ensure you have the NLTK data downloaded\n",
    "nltk.download('punkt')  # For word tokenization\n",
    "nltk.download('stopwords')  # For the list of stopwords"
   ]
  },
  {
   "cell_type": "code",
   "execution_count": 123,
   "id": "1f184d26-8f29-48b6-9217-5b1c0b0c4b9d",
   "metadata": {},
   "outputs": [],
   "source": [
    "def extract_text_from_pdf(pdf_path):\n",
    "    \"\"\"\n",
    "    Extracts text from all pages of a PDF.\n",
    "    \n",
    "    Args:\n",
    "        pdf_path (str): Path to the PDF file.\n",
    "    \n",
    "    Returns:\n",
    "        str: The extracted text.\n",
    "    \"\"\"\n",
    "    text = \"\"\n",
    "    try:\n",
    "        # Open the PDF file\n",
    "        pdf_document = fitz.open(pdf_path)\n",
    "        \n",
    "        # Loop through each page and extract text\n",
    "        for page_num in range(len(pdf_document)):\n",
    "            page = pdf_document[page_num]\n",
    "            text += page.get_text()\n",
    "        \n",
    "        pdf_document.close()\n",
    "    except Exception as e:\n",
    "        print(f\"An error occurred: {e}\")\n",
    "    return text"
   ]
  },
  {
   "cell_type": "code",
   "execution_count": 124,
   "id": "9395f371-4a65-4416-9032-025832564988",
   "metadata": {},
   "outputs": [],
   "source": [
    "def process_text_with_nltk(text):\n",
    "    \"\"\"\n",
    "    Processes the extracted text using NLTK for basic NLP tasks.\n",
    "    \n",
    "    Args:\n",
    "        text (str): The input text to process.\n",
    "    \n",
    "    Returns:\n",
    "        dict: Processed NLP data.\n",
    "    \"\"\"\n",
    "    # Tokenization\n",
    "    tokens = word_tokenize(text)\n",
    "    print(f\"\\nTokens: {tokens[:10]}...\")  # Display first 10 tokens\n",
    "    \n",
    "    # Convert all tokens to lowercase\n",
    "    tokens = [token.lower() for token in tokens]\n",
    "    \n",
    "    # Remove punctuation and non-alphabetic tokens\n",
    "    words = [word for word in tokens if word.isalpha()]\n",
    "    \n",
    "    # Remove stopwords\n",
    "    stop_words = set(stopwords.words('english'))\n",
    "    filtered_words = [word for word in words if word not in stop_words]\n",
    "    \n",
    "    # Perform word frequency analysis\n",
    "    word_counts = Counter(filtered_words)\n",
    "    \n",
    "    # Prepare the results\n",
    "    results = {\n",
    "        \"total_tokens\": len(tokens),\n",
    "        \"total_words\": len(words),\n",
    "        \"filtered_words\": len(filtered_words),\n",
    "        \"most_common_words\": word_counts.most_common(10)  # Top 10 most common words\n",
    "    }\n",
    "    \n",
    "    return results"
   ]
  },
  {
   "cell_type": "code",
   "execution_count": 125,
   "id": "84156e1f-3155-4fb3-857a-84a4ffb11d41",
   "metadata": {},
   "outputs": [
    {
     "name": "stdout",
     "output_type": "stream",
     "text": [
      "Extracting text from PDF...\n",
      "Extracted Text Sample:\n",
      "CONSTRUCTION PROJECT NO.\n",
      "RAILROAD INVOLVEMENT\n",
      "FEDERAL PROJECT NO.\n",
      "PID  NO.\n",
      "STATE OF OHIO\n",
      "DEPARTMENT OF TRANSPORTATION\n",
      "N\n",
      "        \n",
      "800-2020\n",
      "832     \n",
      "        \n",
      "        \n",
      "        \n",
      "        \n",
      "        \n",
      "        \n",
      "        \n",
      "        \n",
      "        \n",
      "        \n",
      "        \n",
      "        \n",
      "        \n",
      "        \n",
      "BP-1.1   \n",
      "BP-2.1   \n",
      "BP-3.1   \n",
      "         \n",
      "CB-2.1   \n",
      "CB-2.2   \n",
      "         \n",
      "DM-1.1   \n",
      "DM-4.4   \n",
      "         \n",
      "         \n",
      "MGS-2.1  \n",
      "         \n",
      "HW-2.1   \n",
      "HW-2.2   \n",
      "         \n",
      "LA-1.1   \n",
      "LA-1.2   \n",
      "         \n",
      "MH-1.1   \n",
      "MH-1.2   \n",
      "MH-1.3   \n",
      "       ...\n"
     ]
    }
   ],
   "source": [
    "# Step 1: Extract text from the PDF\n",
    "print(\"Extracting text from PDF...\")\n",
    "extracted_text = extract_text_from_pdf(plan_file_path)\n",
    "print(f\"Extracted Text Sample:\\n{extracted_text[:500]}...\")  # Print the first 500 characters"
   ]
  },
  {
   "cell_type": "code",
   "execution_count": 126,
   "id": "04d16244-fca9-42f7-8907-dbda38ddbdbe",
   "metadata": {},
   "outputs": [
    {
     "name": "stdout",
     "output_type": "stream",
     "text": [
      "\n",
      "Processing extracted text with NLTK...\n",
      "\n",
      "Tokens: ['CONSTRUCTION', 'PROJECT', 'NO', '.', 'RAILROAD', 'INVOLVEMENT', 'FEDERAL', 'PROJECT', 'NO', '.']...\n"
     ]
    }
   ],
   "source": [
    "# Step 2: Process the text with NLTK\n",
    "print(\"\\nProcessing extracted text with NLTK...\")\n",
    "nlp_results = process_text_with_nltk(extracted_text)"
   ]
  },
  {
   "cell_type": "code",
   "execution_count": 127,
   "id": "a687962e-653e-4977-bdc2-86d7d7608801",
   "metadata": {},
   "outputs": [
    {
     "name": "stdout",
     "output_type": "stream",
     "text": [
      "\n",
      "NLP Results:\n",
      "Total Tokens: 73207\n",
      "Total Words (Alphabetic): 31074\n",
      "Filtered Words (No Stopwords): 23768\n",
      "Most Common Words:\n",
      "sta: 770\n",
      "e: 739\n",
      "r: 514\n",
      "c: 509\n",
      "n: 448\n",
      "type: 388\n",
      "rt: 314\n",
      "b: 304\n",
      "item: 256\n",
      "l: 243\n"
     ]
    }
   ],
   "source": [
    "# Step 3: Display NLP results\n",
    "print(\"\\nNLP Results:\")\n",
    "print(f\"Total Tokens: {nlp_results['total_tokens']}\")\n",
    "print(f\"Total Words (Alphabetic): {nlp_results['total_words']}\")\n",
    "print(f\"Filtered Words (No Stopwords): {nlp_results['filtered_words']}\")\n",
    "print(\"Most Common Words:\")\n",
    "for word, freq in nlp_results[\"most_common_words\"]:\n",
    "    print(f\"{word}: {freq}\")"
   ]
  },
  {
   "cell_type": "code",
   "execution_count": 128,
   "id": "5849d963-567f-4bae-ad29-c5218ef96ef7",
   "metadata": {},
   "outputs": [],
   "source": [
    "def extract_first_8_pages_text(pdf_path):\n",
    "    \"\"\"\n",
    "    Extracts and prints the text content from the first 8 pages of a PDF file.\n",
    "\n",
    "    Args:\n",
    "        pdf_path (str): Path to the PDF file.\n",
    "    \"\"\"\n",
    "    try:\n",
    "        # Open the PDF file\n",
    "        pdf_document = fitz.open(pdf_path)\n",
    "\n",
    "        # Determine the number of pages to process (max 8 or total pages)\n",
    "        page_count = min(8, len(pdf_document))\n",
    "        print(f\"Extracting text from the first {page_count} pages...\\n\")\n",
    "\n",
    "        # Loop through the first 8 pages\n",
    "        for page_num in range(page_count):\n",
    "            page = pdf_document[page_num]  # Get the page object\n",
    "            text = page.get_text()  # Extract text from the page\n",
    "            \n",
    "            # Print the page number and its content\n",
    "            print(f\"Page {page_num + 1}:\\n\")\n",
    "            print(text if text.strip() else \"(No readable text on this page)\")\n",
    "            print(\"\\n\" + \"-\" * 60)  # Divider for readability\n",
    "\n",
    "        # Close the PDF\n",
    "        pdf_document.close()\n",
    "    except Exception as e:\n",
    "        print(f\"An error occurred: {e}\")"
   ]
  },
  {
   "cell_type": "code",
   "execution_count": 129,
   "id": "216ea3c2-d5da-4443-9f87-1bbfad0cd4c4",
   "metadata": {},
   "outputs": [],
   "source": [
    "pdf_document = fitz.open(plan_file_path)\n",
    "page = pdf_document[1]\n",
    "text = page.get_text('dict')"
   ]
  },
  {
   "cell_type": "code",
   "execution_count": 130,
   "id": "0130ce5b-9074-418b-b3ef-d7638caa1954",
   "metadata": {},
   "outputs": [],
   "source": [
    "for block in text[\"blocks\"]:\n",
    "    for line in block[\"lines\"]:\n",
    "        line_text = \"\"\n",
    "        prev_x1 = None  # Used to track character positions\n",
    "\n",
    "        for span in line[\"spans\"]:\n",
    "            if prev_x1 is not None:\n",
    "                # Add spaces if there's a gap between spans\n",
    "                gap = int(span[\"bbox\"][0] - prev_x1)  # Difference between x-coordinates\n",
    "                if gap > 1:  # Threshold to determine space gaps\n",
    "                    line_text += \" \"\n",
    "\n",
    "            line_text += span[\"text\"]\n",
    "            prev_x1 = span[\"bbox\"][2]  # Update position of the right edge of the span\n",
    "\n",
    "#         print(line_text)\n",
    "# print(\"\\n\" + \"-\" * 60)  # Divider for readability\n"
   ]
  },
  {
   "cell_type": "markdown",
   "id": "98e66d01-7cc6-4f06-a3a7-d7e5e88872e1",
   "metadata": {},
   "source": [
    "## Trying with OCR"
   ]
  },
  {
   "cell_type": "code",
   "execution_count": 131,
   "id": "b60bab83-4f15-430b-a1f6-89a47ac1950a",
   "metadata": {},
   "outputs": [],
   "source": [
    "from pdf2image import convert_from_path\n",
    "from pytesseract import image_to_string\n",
    "import os\n",
    "\n",
    "# Configure Tesseract (Optional if Tesseract is on PATH)\n",
    "from pytesseract import pytesseract\n",
    "pytesseract.tesseract_cmd = r\"C:\\Users\\dparks1\\AppData\\Local\\Programs\\Tesseract-OCR\\tesseract.exe\"  # Update this if not in PATH"
   ]
  },
  {
   "cell_type": "code",
   "execution_count": 132,
   "id": "87266ae5-d42c-48ce-90a3-9e1206871b85",
   "metadata": {},
   "outputs": [],
   "source": [
    "def extract_text_with_ocr(pdf_path, temp_folder=\"temp_images\", pages_to_process=8):\n",
    "    \"\"\"\n",
    "    Extracts text from the first `pages_to_process` pages of a PDF using OCR.\n",
    "\n",
    "    Args:\n",
    "        pdf_path (str): Path to the PDF file.\n",
    "        temp_folder (str): Temporary folder for storing image files.\n",
    "        pages_to_process (int): Number of pages to process (default: first 8 pages).\n",
    "\n",
    "    Returns:\n",
    "        dict: A dictionary mapping page numbers to extracted text.\n",
    "    \"\"\"\n",
    "    # Ensure the temporary folder exists for storing images\n",
    "    if not os.path.exists(temp_folder):\n",
    "        os.makedirs(temp_folder)\n",
    "\n",
    "    extracted_text = {}\n",
    "    \n",
    "    try:\n",
    "        # Convert the PDF pages to images\n",
    "        print(f\"Converting PDF to images from: {pdf_path}\")\n",
    "        images = convert_from_path(pdf_path, first_page=1, last_page=pages_to_process)\n",
    "\n",
    "        # Process each page image with Tesseract\n",
    "        for page_num, image in enumerate(images, start=1):\n",
    "            print(f\"Processing Page {page_num} with OCR...\")\n",
    "\n",
    "            temp_image_path = os.path.join(temp_folder, f\"page_{page_num}.png\")\n",
    "            \n",
    "            # Save the image temporarily\n",
    "            image.save(temp_image_path, \"PNG\")\n",
    "            \n",
    "            # Perform OCR on the saved image\n",
    "            text = image_to_string(temp_image_path)  # Extract text using Tesseract\n",
    "            extracted_text[page_num] = text\n",
    "            \n",
    "            # Output the extracted text\n",
    "            print(f\"\\nText from Page {page_num}:\\n{text}\")\n",
    "            \n",
    "            # Optional: Remove the temp image after processing\n",
    "            # os.remove(temp_image_path)\n",
    "\n",
    "    except Exception as e:\n",
    "        print(f\"An error occurred: {e}\")\n",
    "\n",
    "    return extracted_text"
   ]
  },
  {
   "cell_type": "code",
   "execution_count": 133,
   "id": "40144ff0-a7d5-4358-8d8d-a0466fff0b44",
   "metadata": {},
   "outputs": [
    {
     "name": "stdout",
     "output_type": "stream",
     "text": [
      "Extracting text from PDF using OCR...\n",
      "Converting PDF to images from: C:\\Users\\dparks1\\PycharmProjects\\civilpy\\res\\ODOT_sample_plans.pdf\n",
      "Processing Page 1 with OCR...\n",
      "\n",
      "Text from Page 1:\n",
      "c END PROJECT\n",
      "J STA. 34+70\n",
      "\n",
      "VILLAGE OF\n",
      "WINTERSVILLE\n",
      "\n",
      "N, AVALON ST.\n",
      "\n",
      "S. AVALON ST.\n",
      "\n",
      "ROBERT\n",
      "ELSWORTH\n",
      "\n",
      "| ALICELAND\n",
      "DR.\n",
      "\n",
      "PATTON AVE\n",
      "z\n",
      "vU\n",
      "S_CEMETERY\n",
      "3\n",
      "os)\n",
      "oO\n",
      "\n",
      "a\n",
      "\n",
      "y CROSS CREEK TWP.\n",
      "\n",
      "BEGIN PROJECT\n",
      "STA. 11+70\n",
      "\n",
      "LOCATION MAP\n",
      "LATITUDE: 40°22'20\" LONGITUDE: 80°42/05”\n",
      "SCALE IN MILES\n",
      "\n",
      "0 1 2 3 4\n",
      "PORTION TO BE IMPROVED.\n",
      "INTERSTATE HIGHWAY.\n",
      "FEDERAL ROUTES...\n",
      "STATE ROUTES.\n",
      "COUNTY & TOWNSHIP ROADS...\n",
      "OTHER ROADS...\n",
      "\n",
      "DESIGN DESIGNATION\n",
      "\n",
      "CURRENT ADT (20]6)__________-___--_----- 2940\n",
      "DESIGN YEAR ADT (20 )________- ee 4494\n",
      "DESIGN HOURLY VOLUME (20 )________-____------ + -- 449\n",
      "DIRECTIONAL DISTRIBUTION .________------------ = 504\n",
      "\n",
      "TRUCKS (24 HOUR B&C)_________-___- ee 34\n",
      "\n",
      "DESIGN SPEED.__________--- =e 3R PROJECT\n",
      "LEGAL SPEED ____________-__ 35 MPH\n",
      "\n",
      "DESIGN FUNCTIONAL CLASSIFICATION:\n",
      "06 MINOR COLLECTOR (URBAN)\n",
      "NHS PROJECT _____--- =e NO\n",
      "\n",
      "DESIGN EXCEPTIONS\n",
      "DESIGN FEATURE\n",
      "\n",
      "APPROVAL| SHEET\n",
      "DATES | NUMBER\n",
      "\n",
      "VERTICAL: Stopping Sight Distance | 6-27-19 10, 12\n",
      "\n",
      "ADA DESIGN WAIVER\n",
      "NONE REQUIRED\n",
      "\n",
      "UNDERGROUND UTILITIES\n",
      "\n",
      "Contact Two Working Days\n",
      "Before You Dig\n",
      "\n",
      "or\n",
      "LOHIOBH org\n",
      "\n",
      "Before You Dig\n",
      "\n",
      "OHIO811, 8-1-1. or 1-800-362-2764\n",
      "(Non-members must be called directly)\n",
      "\n",
      "STATE OF OHIO\n",
      "\n",
      "DEPARTMENT OF TRANSPORTATION\n",
      "\n",
      "JEF-FERNWOOD RD.\n",
      "\n",
      "VILLAGE OF WINTERSVILLE\n",
      "\n",
      "CROSS CREEK TOWNSHIP\n",
      "JEFFERSON COUNTY\n",
      "\n",
      "7/28/00\n",
      "\n",
      "MGS-1.1\n",
      "\n",
      "INDEX OF SHEETS:\n",
      "\n",
      "TITLE SHEET ]\n",
      "SCHEMATIC PLAN 2\n",
      "TYPICAL SECTIONS 3\n",
      "GENERAL NOTES 5\n",
      "MAINTENANCE OF TRAFFIC 6\n",
      "GENERAL SUMMARY 8\n",
      "PROJECT SITE PLAN ]\n",
      "\n",
      "PLAN AND PROFILE 10\n",
      "CROSS SECTIONS I-17\n",
      "SIDE APPROACHES 18-25\n",
      "SUPERELEVATION TABLE 26-30\n",
      "DRIVE DETAILS J]\n",
      "DRAINAGE DETAILS 32-37\n",
      "TRAFFIC CONTROL 38-39\n",
      "RIGHT OF WAY 40-50\n",
      "\n",
      "SOIL PROFILES\n",
      "\n",
      "19/18 |MT-105.10_ 7719713\n",
      "\n",
      "800-2020 4/17/20| PEINFORCED\n",
      "\n",
      "T/ITZ15\n",
      "\n",
      "MGS-2.1\n",
      "\n",
      "19718\n",
      "\n",
      "8. 10/19/18 EARTH\n",
      "\n",
      "7/18/08\n",
      "\n",
      "MGS-4.2\n",
      "\n",
      "ENGINEERS SEAL: SUPPLEMENTAL SPECIAL\n",
      "STANDARD CONSTRUCTION DRAWINGS SPECIFICATIONS| PROVISIONS\n",
      "oS oO 7 32\n",
      "\n",
      "(/19713| TC-41.20 10/18/13\n",
      "\n",
      "S721/17\n",
      "\n",
      "1417720\n",
      "\n",
      "MGS-5.3\n",
      "\n",
      "7/18/16| TC-41.40 10/18/13\n",
      "\n",
      "WATERWAY\n",
      "\n",
      "(AIG/13\n",
      "\n",
      "TC-42.20 10/18/13\n",
      "\n",
      "PERMIT\n",
      "\n",
      "V18/19\n",
      "\n",
      "HW-2.1\n",
      "\n",
      "IZ15716| TC-52.10 10718713\n",
      "\n",
      "VW23/18\n",
      "\n",
      "7/20/18\n",
      "\n",
      "HW-2.2\n",
      "\n",
      "I15716| TC-52.20 7/720/718\n",
      "\n",
      "TC-71.10 ‘119718\n",
      "\n",
      "DATE:\n",
      "\n",
      "SIGNED: Veh | Dee\n",
      "\n",
      "IZ1Z19\n",
      "\n",
      "1/20/18\n",
      "\n",
      "LA-1.]\n",
      "\n",
      "10/15/10\n",
      "\n",
      "PLAN PREPARED BY:\n",
      "JOHN J. DOE CONSULTING, INC.\n",
      "9999 ENGLISH DRIVE\n",
      "COMPUTERLAND, OHIO O0000\n",
      "\n",
      "1/20/18\n",
      "\n",
      "LA-1.2\n",
      "\n",
      "1716/09\n",
      "\n",
      "15716\n",
      "\n",
      "MH-1.1\n",
      "\n",
      "15716\n",
      "\n",
      "1/2117\n",
      "\n",
      "MH-1.2\n",
      "\n",
      "15716\n",
      "\n",
      "115716\n",
      "\n",
      "MH-1.3\n",
      "\n",
      "18/13\n",
      "\n",
      "DATE: JULY 2020\n",
      "\n",
      "PROJECT DESCRIPTION\n",
      "\n",
      "UPGRADING 0.44 MILE OF FERNWOOD ROAD BY WIDEN-\n",
      "ING AND RESURFACING, INCLUDING NEW STORM SEWER\n",
      "\n",
      "SYSTEM, CURB AND GUTTER, SIDEWALK, TRAFFIC CON-\n",
      "TROL SIGNS AND PAVEMENT MARKINGS.\n",
      "\n",
      "EARTH DISTURBED AREAS\n",
      "\n",
      "PROJECT EARTH DISTURBED AREA: 3.1 ACRES\n",
      "ESTIMATED CONTRACTOR EARTH DISTURBED AREA: 0.5 ACRES\n",
      "NOTICE OF INTENT EARTH DISTURBED AREA: 3.6 ACRES\n",
      "\n",
      "LIMITED ACCESS\n",
      "\n",
      "THIS IMPROVEMENT IS ESPECIALLY DESIGNED FOR\n",
      "THROUGH TRAFFIC AND HAS BEEN DECLARED A LIMITED\n",
      "ACCESS HIGHWAY OR FREEWAY BY ACTION OF THE\n",
      "DIRECTOR IN ACCORDANCE WITH THE PROVISIONS OF\n",
      "SECTION 5511.02 OF THE OHIO REVISED CODE.\n",
      "\n",
      "2019 SPECIFICATIONS\n",
      "\n",
      "THE STANDARD SPECIFICATIONS OF THE STATE OF\n",
      "OHIO, DEPARTMENT OF TRANSPORTATION, INCLUDING\n",
      "SUPPLEMENTAL SPECIFICATIONS LISTED IN THE\n",
      "PLANS AND CHANGES LISTED IN THE PROPOSAL SHALL\n",
      "GOVERN THIS IMPROVEMENT.\n",
      "\n",
      "I HEREBY APPROVE THESE PLANS AND DECLARE THAT\n",
      "THE MAKING OF THIS IMPROVEMENT WILL NOT REQUIRE\n",
      "THE CLOSING TO TRAFFIC OF THE HIGHWAY AND THAT\n",
      "PROVISIONS FOR THE MAINTENANCE AND SAFETY OF\n",
      "TRAFFIC WILL BE AS SET FORTH ON THE PLANS AND\n",
      "ESTIMATES\n",
      "\n",
      "APPROVED\n",
      "\n",
      "DATE __________ MAYOR, VILLAGE OF WINTERSVILLE\n",
      "APPROVED\n",
      "\n",
      "DATE________ DISTRICT DEPUTY DIRECTOR\n",
      "APPROVED\n",
      "\n",
      "DATE CéDIREC TOR, DEPARTMENT OF\n",
      "\n",
      "TRANSPORTATION\n",
      "\n",
      "EQ25 (762)\n",
      "\n",
      "FEDERAL PROJECT NO.\n",
      "\n",
      "PID NO.\n",
      "\n",
      "15549\n",
      "\n",
      "CONSTRUCTION PROJECT NO.\n",
      "\n",
      "RAILROAD INVOLVEMENT\n",
      "\n",
      "a\n",
      "[a\n",
      "fan)\n",
      "Oo\n",
      "Oo\n",
      "=\n",
      "=\n",
      "jaa\n",
      "Ww\n",
      "rm\n",
      "l\n",
      "LL\n",
      "Ww\n",
      "a)\n",
      "\n",
      "\n",
      "\n",
      "Extracted Text Summary:\n",
      "Page 1:\n",
      "c END PROJECT\n",
      "J STA. 34+70\n",
      "\n",
      "VILLAGE OF\n",
      "WINTERSVILLE\n",
      "\n",
      "N, AVALON ST.\n",
      "\n",
      "S. AVALON ST.\n",
      "\n",
      "ROBERT\n",
      "ELSWORTH\n",
      "\n",
      "| ALICELAND\n",
      "DR.\n",
      "\n",
      "PATTON AVE\n",
      "z\n",
      "vU\n",
      "S_CEMETERY\n",
      "3\n",
      "os)\n",
      "oO\n",
      "\n",
      "a\n",
      "\n",
      "y CROSS CREEK TWP.\n",
      "\n",
      "BEGIN PROJECT\n",
      "STA. 11+70\n",
      "\n",
      "LOCATION MAP\n",
      "LATITUDE: 40°22'20\" LONGITUDE: 80°42/05”\n",
      "SCALE IN MILES\n",
      "\n",
      "0 1 2 3 4\n",
      "PORTION TO BE IMPROVED.\n",
      "INTERSTATE HIGHWAY.\n",
      "FEDERAL ROUTES...\n",
      "STATE ROUTES.\n",
      "COUNTY & TOWNSHIP ROADS...\n",
      "OTHER ROADS...\n",
      "\n",
      "DESIGN DESIGNATION\n",
      "\n",
      "CURRENT ADT (20]6)__________-___--_----- 2940\n",
      "DESIGN YEAR ADT (20 )________- ee 4494\n",
      "DESIGN HOURLY VOLUME (20 )________-____------ + -- 449\n",
      "DIRECTIONAL DISTRIBUTION .________------------ = 504\n",
      "\n",
      "TRUCKS (24 HOUR B&C)_________-___- ee 34\n",
      "\n",
      "DESIGN SPEED.__________--- =e 3R PROJECT\n",
      "LEGAL SPEED ____________-__ 35 MPH\n",
      "\n",
      "DESIGN FUNCTIONAL CLASSIFICATION:\n",
      "06 MINOR COLLECTOR (URBAN)\n",
      "NHS PROJECT _____--- =e NO\n",
      "\n",
      "DESIGN EXCEPTIONS\n",
      "DESIGN FEATURE\n",
      "\n",
      "APPROVAL| SHEET\n",
      "DATES | NUMBER\n",
      "\n",
      "VERTICAL: Stopping Sight Distance | 6-27-19 10, 12\n",
      "\n",
      "ADA DESIGN WAIVER\n",
      "NONE REQUIRED\n",
      "\n",
      "UNDERGROUND UTILITIES\n",
      "\n",
      "Contact Two Working Days\n",
      "Before You Dig\n",
      "\n",
      "or\n",
      "LOHIOBH org\n",
      "\n",
      "Before You Dig\n",
      "\n",
      "OHIO811, 8-1-1. or 1-800-362-2764\n",
      "(Non-members must be called directly)\n",
      "\n",
      "STATE OF OHIO\n",
      "\n",
      "DEPARTMENT OF TRANSPORTATION\n",
      "\n",
      "JEF-FERNWOOD RD.\n",
      "\n",
      "VILLAGE OF WINTERSVILLE\n",
      "\n",
      "CROSS CREEK TOWNSHIP\n",
      "JEFFERSON COUNTY\n",
      "\n",
      "7/28/00\n",
      "\n",
      "MGS-1.1\n",
      "\n",
      "INDEX OF SHEETS:\n",
      "\n",
      "TITLE SHEET ]\n",
      "SCHEMATIC PLAN 2\n",
      "TYPICAL SECTIONS 3\n",
      "GENERAL NOTES 5\n",
      "MAINTENANCE OF TRAFFIC 6\n",
      "GENERAL SUMMARY 8\n",
      "PROJECT SITE PLAN ]\n",
      "\n",
      "PLAN AND PROFILE 10\n",
      "CROSS SECTIONS I-17\n",
      "SIDE APPROACHES 18-25\n",
      "SUPERELEVATION TABLE 26-30\n",
      "DRIVE DETAILS J]\n",
      "DRAINAGE DETAILS 32-37\n",
      "TRAFFIC CONTROL 38-39\n",
      "RIGHT OF WAY 40-50\n",
      "\n",
      "SOIL PROFILES\n",
      "\n",
      "19/18 |MT-105.10_ 7719713\n",
      "\n",
      "800-2020 4/17/20| PEINFORCED\n",
      "\n",
      "T/ITZ15\n",
      "\n",
      "MGS-2.1\n",
      "\n",
      "19718\n",
      "\n",
      "8. 10/19/18 EARTH\n",
      "\n",
      "7/18/08\n",
      "\n",
      "MGS-4.2\n",
      "\n",
      "ENGINEERS SEAL: SUPPLEMENTAL SPECIAL\n",
      "STANDARD CONSTRUCTION DRAWINGS SPECIFICATIONS| PROVISIONS\n",
      "oS oO 7 32\n",
      "\n",
      "(/19713| TC-41.20 10/18/13\n",
      "\n",
      "S721/17\n",
      "\n",
      "1417720\n",
      "\n",
      "MGS-5.3\n",
      "\n",
      "7/18/16| TC-41.40 10/18/13\n",
      "\n",
      "WATERWAY\n",
      "\n",
      "(AIG/13\n",
      "\n",
      "TC-42.20 10/18/13\n",
      "\n",
      "PERMIT\n",
      "\n",
      "V18/19\n",
      "\n",
      "HW-2.1\n",
      "\n",
      "IZ15716| TC-52.10 10718713\n",
      "\n",
      "VW23/18\n",
      "\n",
      "7/20/18\n",
      "\n",
      "HW-2.2\n",
      "\n",
      "I15716| TC-52.20 7/720/718\n",
      "\n",
      "TC-71.10 ‘119718\n",
      "\n",
      "DATE:\n",
      "\n",
      "SIGNED: Veh | Dee\n",
      "\n",
      "IZ1Z19\n",
      "\n",
      "1/20/18\n",
      "\n",
      "LA-1.]\n",
      "\n",
      "10/15/10\n",
      "\n",
      "PLAN PREPARED BY:\n",
      "JOHN J. DOE CONSULTING, INC.\n",
      "9999 ENGLISH DRIVE\n",
      "COMPUTERLAND, OHIO O0000\n",
      "\n",
      "1/20/18\n",
      "\n",
      "LA-1.2\n",
      "\n",
      "1716/09\n",
      "\n",
      "15716\n",
      "\n",
      "MH-1.1\n",
      "\n",
      "15716\n",
      "\n",
      "1/2117\n",
      "\n",
      "MH-1.2\n",
      "\n",
      "15716\n",
      "\n",
      "115716\n",
      "\n",
      "MH-1.3\n",
      "\n",
      "18/13\n",
      "\n",
      "DATE: JULY 2020\n",
      "\n",
      "PROJECT DESCRIPTION\n",
      "\n",
      "UPGRADING 0.44 MILE OF FERNWOOD ROAD BY WIDEN-\n",
      "ING AND RESURFACING, INCLUDING NEW STORM SEWER\n",
      "\n",
      "SYSTEM, CURB AND GUTTER, SIDEWALK, TRAFFIC CON-\n",
      "TROL SIGNS AND PAVEMENT MARKINGS.\n",
      "\n",
      "EARTH DISTURBED AREAS\n",
      "\n",
      "PROJECT EARTH DISTURBED AREA: 3.1 ACRES\n",
      "ESTIMATED CONTRACTOR EARTH DISTURBED AREA: 0.5 ACRES\n",
      "NOTICE OF INTENT EARTH DISTURBED AREA: 3.6 ACRES\n",
      "\n",
      "LIMITED ACCESS\n",
      "\n",
      "THIS IMPROVEMENT IS ESPECIALLY DESIGNED FOR\n",
      "THROUGH TRAFFIC AND HAS BEEN DECLARED A LIMITED\n",
      "ACCESS HIGHWAY OR FREEWAY BY ACTION OF THE\n",
      "DIRECTOR IN ACCORDANCE WITH THE PROVISIONS OF\n",
      "SECTION 5511.02 OF THE OHIO REVISED CODE.\n",
      "\n",
      "2019 SPECIFICATIONS\n",
      "\n",
      "THE STANDARD SPECIFICATIONS OF THE STATE OF\n",
      "OHIO, DEPARTMENT OF TRANSPORTATION, INCLUDING\n",
      "SUPPLEMENTAL SPECIFICATIONS LISTED IN THE\n",
      "PLANS AND CHANGES LISTED IN THE PROPOSAL SHALL\n",
      "GOVERN THIS IMPROVEMENT.\n",
      "\n",
      "I HEREBY APPROVE THESE PLANS AND DECLARE THAT\n",
      "THE MAKING OF THIS IMPROVEMENT WILL NOT REQUIRE\n",
      "THE CLOSING TO TRAFFIC OF THE HIGHWAY AND THAT\n",
      "PROVISIONS FOR THE MAINTENANCE AND SAFETY OF\n",
      "TRAFFIC WILL BE AS SET FORTH ON THE PLANS AND\n",
      "ESTIMATES\n",
      "\n",
      "APPROVED\n",
      "\n",
      "DATE __________ MAYOR, VILLAGE OF WINTERSVILLE\n",
      "APPROVED\n",
      "\n",
      "DATE________ DISTRICT DEPUTY DIRECTOR\n",
      "APPROVED\n",
      "\n",
      "DATE CéDIREC TOR, DEPARTMENT OF\n",
      "\n",
      "TRANSPORTATION\n",
      "\n",
      "EQ25 (762)\n",
      "\n",
      "FEDERAL PROJECT NO.\n",
      "\n",
      "PID NO.\n",
      "\n",
      "15549\n",
      "\n",
      "CONSTRUCTION PROJECT NO.\n",
      "\n",
      "RAILROAD INVOLVEMENT\n",
      "\n",
      "a\n",
      "[a\n",
      "fan)\n",
      "Oo\n",
      "Oo\n",
      "=\n",
      "=\n",
      "jaa\n",
      "Ww\n",
      "rm\n",
      "l\n",
      "LL\n",
      "Ww\n",
      "a)\n",
      "\n",
      "\n",
      "------------------------------------------------------------\n"
     ]
    }
   ],
   "source": [
    "# Extract text from the first 8 pages using OCR\n",
    "print(\"Extracting text from PDF using OCR...\")\n",
    "text_data = extract_text_with_ocr(plan_file_path, pages_to_process=1)\n",
    "\n",
    "# Display results\n",
    "print(\"\\nExtracted Text Summary:\")\n",
    "for page, text in text_data.items():\n",
    "    print(f\"Page {page}:\\n{text}\")\n",
    "    print(\"-\" * 60)"
   ]
  },
  {
   "cell_type": "code",
   "execution_count": 134,
   "id": "bebef2b6-b93d-4f37-8939-046a1a88cffe",
   "metadata": {},
   "outputs": [],
   "source": [
    "import cv2\n",
    "import pytesseract\n",
    "\n",
    "# Load the image\n",
    "image_path = r\"C:\\Users\\dparks1\\PycharmProjects\\civilpy\\Notebooks\\temp_images\\page_1.png\"\n",
    "image = cv2.imread(image_path)\n",
    "\n",
    "# Check if the image was loaded successfully\n",
    "if image is None:\n",
    "    print(\"Error: Could not load the image. Check the file path.\")\n",
    "    exit()\n",
    "\n",
    "# Get the original dimensions of the image\n",
    "original_height, original_width = image.shape[:2]\n",
    "\n",
    "# Set the maximum allowed width\n",
    "max_width = 1800\n",
    "\n",
    "# Calculate the scale ratio to maintain aspect ratio\n",
    "if original_width > max_width:\n",
    "    scale_ratio = max_width / original_width\n",
    "    new_width = max_width\n",
    "    new_height = int(original_height * scale_ratio)\n",
    "    # Resize the image\n",
    "    resized_image = cv2.resize(image, (new_width, new_height))\n",
    "else:\n",
    "    # If the width is already within the limit, keep the original size\n",
    "    resized_image = image\n",
    "\n",
    "# Preprocess the resized image (optional for OCR accuracy)\n",
    "gray = cv2.cvtColor(resized_image, cv2.COLOR_BGR2GRAY)\n",
    "threshold_img = cv2.threshold(gray, 0, 255, cv2.THRESH_BINARY + cv2.THRESH_OTSU)[1]\n",
    "\n",
    "# Configure Tesseract for OCR\n",
    "custom_config = r'--psm 3 --oem 3 textord_min_xheight 10 textord_word_spacing 0'\n",
    "data = pytesseract.image_to_data(threshold_img, config=custom_config, output_type=pytesseract.Output.DICT)\n",
    "\n",
    "# Draw bounding boxes around detected text\n",
    "for i in range(len(data[\"text\"])):\n",
    "    if int(data[\"conf\"][i]) > 50:  # Filter low-confidence results\n",
    "        x, y, w, h = data[\"left\"][i], data[\"top\"][i], data[\"width\"][i], data[\"height\"][i]\n",
    "        cv2.rectangle(resized_image, (x, y), (x + w, y + h), (255, 0, 0), 2)\n",
    "        cv2.putText(resized_image, data[\"text\"][i], (x, y - 10), cv2.FONT_HERSHEY_SIMPLEX, 0.6, (255, 0, 0), 1)\n",
    "\n",
    "# Display the resized image with bounding boxes\n",
    "cv2.imshow(\"OCR Debug\", resized_image)\n",
    "cv2.waitKey(0)\n",
    "cv2.destroyAllWindows()"
   ]
  },
  {
   "cell_type": "markdown",
   "id": "05fef5dd-c314-42df-a352-8bcebb6bab55",
   "metadata": {},
   "source": [
    "## Attempting to crop the image before extracting"
   ]
  },
  {
   "cell_type": "code",
   "execution_count": 135,
   "id": "b78f5582-a93d-4eba-b046-1049bae90646",
   "metadata": {},
   "outputs": [
    {
     "name": "stdout",
     "output_type": "stream",
     "text": [
      "Extracted text from ROI:\n",
      "S STATE OF OHIO\n",
      "SIN END PROJECT\n",
      "2]? STA. 34+70\n",
      "a VILLAGE OF” J 7 (wns DEPARTMENT OF TRANSPORTATION\n",
      "WINTERSVILLE Fe wade su\n",
      "= [a3] y S. AVALON ST.\n",
      "w % g S —\n",
      "Susser [5 eRWiN|LSE: ge °\n",
      "O & e,\n",
      "Vaso. Sf Pee Fle, ING\n",
      "5 | et ro\n",
      "SCHogy > & 0, \\\n",
      "x B\n",
      "soot 08 oe . =( A. VILLAGE OF WINTERSVILLE\n",
      "DR. AVE. 2 J)\n",
      "OY & gy ~~\n",
      "z SO wwe DAY 5 JAS\n",
      "HOWE e - REX\n",
      "aia Pe S y CROSS CREEK TOWNSHIP\n",
      "| # AW U\n",
      "o a\n",
      "O z[syesoy : CROSS CREEK TWP\n",
      "Z—Z A e\n",
      "- Z JEFFERSON COUNTY\n",
      "BEGIN PROJECT\n",
      "STA. 11+70\n",
      "LOCATION MAP\n",
      "LATITUDE: 40°22’20” LONGITUDE: 80°42/05” INDEX OF SHEETS:\n",
      "_ —E——EEEEEEeE—\n",
      "0 1 2 3 4 SCHEMATIC PLAN 2\n",
      "TYPICAL SECTIONS 3-4\n",
      "PORTION TO BE IMPROVED... GENERAL NOTES 5\n",
      "INTERSTATE HIGHWAY = MAINTENANCE OF TRAFFIC 6-7\n",
      "FEDERAL ROUTES... a GENERAL SUMMARY 8\n",
      "STATE ROUTES___.____.__ PROJECT SITE PLAN 9\n",
      "COUNTY & TOWNSHIP ROADS _______--- PLAN AND PROFILE 10\n",
      "OTHER ROADS..._____............ CROSS SECTIONS 11-17\n",
      "SIDE APPROACHES 18-25\n",
      "DESIGN DESIGNATION oe Me oEnAne. TABLE ae\n",
      "CURRENT ADT (2016)... 2940 DRAINAGE DETAILS 32-37\n",
      "DESIGN YEAR ADT (20 )._.-- «4494 TRAFFIC CONTROL 358-39\n",
      "DESIGN HOURLY VOLUME (20)... 449 RIGHT OF WAY 40-50\n",
      "DIRECTIONAL DISTRIBUTION..__.____________ «SS 0% SOIL PROFILES\n",
      "TRUCKS (24 HOUR B&C)...- eK\n",
      "DESIGN SPEED... BR PROJECT\n",
      "LEGAL SPEED... 85 MPH\n",
      "DESIGN FUNCTIONAL CLASSIFICATION:\n",
      "06 MINOR COLLECTOR (URBAN)\n",
      "© NHS PROJECT... NO\n",
      "DESIGN EXCEPTIONS\n",
      "DESIGN FEATURE AP Roe Pita\n",
      "HORIZONTAL: Superelevation 6-27-19\n",
      "VERTICAL: Stopping Sight Distance | 6-27-19 | 10, 12 ENGINEERS SEAL: STANDARD CONSTRUCTION DRAWINGS SUPPLEMENTAL | SPECIAL\n",
      "SPECIFICATIONS| PROVISIONS\n",
      "pro\n",
      "ADA DESIGN WAIVER Se OF OR BP-1.1 _ 7/28/00|MGS-1.1___‘1/19/18\\MT-105.10 7/19/13) tsté‘“‘i«‘*™:*sé‘éCOO!OCOCOC#;#;#C#d‘BO-2020~=<4717/20( ~=REINFORCED\n",
      "0 NONE REQUIRED OY sy 8, (BPI Tarr|os-2.1vig7i| oss} EARTH\n",
      "Hf oo |= =) BP-2.2  7/18/08|MGS-4.2. 7/19/I3|TC-41.20 10/18/13) Tee TIT\n",
      "Ke x-en0000 le 5 BP-3.1 I/17/20|MGS-5.3. 7/15/16|TC-41.40 10/18/13, |i pa TERA\n",
      "ONG Sef BP-4.1_ 7/19/I3|_ sd C4220 10783) | REMIT\n",
      "UNDERGROUND UTILITIES SEY BP-5.1___1/18/19|HW-2.1__‘1/15/16|TC-52.10 10/18/13, t~‘“‘i=‘C~St*‘;‘;CO!*;*;*;<‘<‘d]C;!”!”!”!”S”S”””””C~*dSCO!C IB\n",
      "Contact Two Working Days ors BP-7.1 7/20/18\\ HW-2.2 VIS/I6\\TC-52.20 7/20/18, ————s—<C*zrYsi<Cti‘i;!OO!UCUd\n",
      "Before You Dig D rs QO O72 et 277 ¢ E72) 2-] QO\n",
      "L. sronep:_YYohn.. Dee. CB-2.1_ 7/20/1B|LA-1.1 —107IS1O)\n",
      "> DATE: IIIS ___tCB-2.2  7/20/18|LA-1.2.—*1/i6/09| ss t—“‘iwLS”t*ti‘(‘;éOO!O*NNWO#(N’NSNSS#&CLUUC((NS!CO!C*C\n",
      "CB-2.3 VI5/6)\n",
      "Pp <OHI0 Sit.org PLAN PREPARED BY: PMT VI5/6)\n",
      "Before You Dig JOHN J. DOE CONSULTING, INC. \\DM=1.1 7/21/17 |MH-1.2 Vis/e|\n",
      "OHIO811, 8-1-1, or 1-800-362-2764 9999 ENGLISH DRIVE DM-4.4 /IS/IB|MH-1.3.——1IB3| Cid t—<~*SSS~C<CSsSSCSYT CSS\n",
      "(Non-members must be called directly) COMPUTERLAND, Onto ooo0o «|S\n",
      ", nn\n",
      "\n"
     ]
    }
   ],
   "source": [
    "import cv2\n",
    "import pytesseract\n",
    "\n",
    "# Load the image\n",
    "image_path = r\"C:\\Users\\dparks1\\PycharmProjects\\civilpy\\Notebooks\\temp_images\\page_1.png\"\n",
    "image = cv2.imread(image_path)\n",
    "\n",
    "# Check if the image is loaded successfully\n",
    "if image is None:\n",
    "    print(\"Error: Could not load the image. Check the file path.\")\n",
    "    exit()\n",
    "\n",
    "# Define the region of interest (ROI) in the format (x, y, width, height)\n",
    "# For example, let's define the top-left corner of the image (from point (50, 50) to (300, 300))\n",
    "x, y, w, h = 50, 50, 5000, 5000\n",
    "\n",
    "# Crop the region of interest from the image\n",
    "roi = image[y:y + h, x:x + w]\n",
    "\n",
    "# Perform OCR on the cropped region\n",
    "custom_config = r'--psm 6'  # Set page segmentation mode if needed\n",
    "text = pytesseract.image_to_string(roi, config=custom_config)\n",
    "\n",
    "# Output the extracted text\n",
    "print(\"Extracted text from ROI:\")\n",
    "print(text)\n",
    "\n",
    "# Optional: Display the cropped ROI\n",
    "cv2.imshow(\"Cropped Region\", roi)\n",
    "cv2.waitKey(0)\n",
    "cv2.destroyAllWindows()"
   ]
  },
  {
   "cell_type": "markdown",
   "id": "1d022798-496b-40e9-8bad-f6780b0fc577",
   "metadata": {},
   "source": [
    "# Appendix"
   ]
  },
  {
   "cell_type": "markdown",
   "id": "4ece951e-f046-4f13-a511-cb96fbd4b104",
   "metadata": {},
   "source": [
    "## A - Legacy Checklist from Excel"
   ]
  },
  {
   "cell_type": "raw",
   "id": "361427c4-204c-43d5-aa36-35bd81444458",
   "metadata": {},
   "source": [
    "\t\t\t\t\t\n",
    "\tOhio Department of Transportation\t\t\t\t\n",
    "\tBRIDGE STAGE 2 PLAN REVIEW CHECKLIST\t\t\t\t\n",
    "\tVERSION 4 – JULY 17, 2020\t\t\t\t\n",
    "\tComplies with 2019 CMS\t\t\t\t\n",
    "\tPrepared by:  OSE\t\t\t\t\n",
    "\t                                                                                    \t\t\t\t\n",
    "\t\t\t\t\t\n",
    "\t                                                         Send all changes to this checklist to: teddy.antonios@dot.ohio.gov\t\t\t\t\n",
    "\t                                                         \t\t\t\t\n",
    "\tBridge No:  CTY-RTE-0000\t\t\t\t\n",
    "\tChecker:  Name\tDate: MM/DD/YY\t\t\t\n",
    "\tPID:  123456\t\t\t\t\n",
    "\t\t\t\t\t\n",
    "\tApplicable bullet items shall be included in each Stage 2 design review submittal. This “checklist” should be considered as a starting point for each Stage 2 design review. Each structure will contain anomalies specific to that site and should be reviewed/analyzed accordingly.\t\t\t\t\n",
    "\tLegend:\t\t\t\t\n",
    "\t?\tChecked\t\t\t\n",
    "\tN/A – Not Applicable\t\t\t\t\n",
    "\tNotes by/to Reviewer\t\t\t\t\n",
    "\t                                                         \t\t\t\t\n",
    "\tContents\t\t\t\t\n",
    "\tGENERAL\t4\t\t\t\n",
    "\tPLANS\t5\t\t\t\n",
    "\tA.\tSITE PLAN\t5\t\t\n",
    "\tB.\tGENERAL PLAN\t5\t\t\n",
    "\tC.\tGENERAL NOTES/ESTIMATED QUANTITIES\t5\t\t\n",
    "\t1)\tGENERAL NOTES Refer to ( 600)\t5\t\t\n",
    "\t2)\tDETAIL NOTES\t6\t\t\n",
    "\t3)\tESTIMATED QUANTITIES\t6\t\t\n",
    "\t4)\tREINFORCING DETAILS\t6\t\t\n",
    "\tSTAGE CONSTRUCTION\t7\t\t\t\n",
    "\t1)\tTypical Sections\t7\t\t\n",
    "\t2)\tPart Plan Views\t7\t\t\n",
    "\t3)\tTemporary Sheeting\t7\t\t\n",
    "\t4)\tTemporary Railing\t7\t\t\n",
    "\t5)\tSlab Bridges\t7\t\t\n",
    "\t6)\tLateral Restraint\t8\t\t\n",
    "\t7)\tEnd Dams\t8\t\t\n",
    "\t8)\tMiscellaneous\t8\t\t\n",
    "\tSUPERSTRUCTURE\t9\t\t\t\n",
    "\tA)\tSLAB\t9\t\t\n",
    "\tB)\tPRESTRESSED CONCRETE BOX BEAMS\t10\t\t\n",
    "\tC)\tPRESTRESSED CONCRETE I-BEAMS\t11\t\t\n",
    "\tD)\tSTEEL STRINGERS\t13\t\t\n",
    "\t1)\tGeneral\t13\t\t\n",
    "\t2)\tRolled Beams\t15\t\t\n",
    "\t3)\tPlate Girders\t15\t\t\n",
    "\tE)\tCONCRETE DECK ON CONCRETE I-BEAMS OR STEEL STRINGERS\t15\t\t\n",
    "\tF)\tRAILING/FENCE\t17\t\t\n",
    "\t1)\tDeep Beam Railing\t17\t\t\n",
    "\t2)\tTwin Steel Tube Rail\t17\t\t\n",
    "\t3)\tSidewalk Railing with Concrete Parapet (BR-2-98 Type Railing)\t17\t\t\n",
    "\t4)\tParapet Type Railing\t17\t\t\n",
    "\t5)\tParapet and Fence Type Railing\t18\t\t\n",
    "\tG)\tBEARINGS\t18\t\t\n",
    "\t1\tElastomeric Bearings\t18\t\t\n",
    "\t2\tAnchor Bars\t19\t\t\n",
    "\t3\tAnchor Bolt Layout\t19\t\t\n",
    "\t4\tMiscellaneous\t19\t\t\n",
    "\tH)\tDECK JOINTS\t20\t\t\n",
    "\t1\tTerminal Details\t20\t\t\n",
    "\t2\tJoint/Bearing Coordination\t20\t\t\n",
    "\t3\tMiscellaneous\t20\t\t\n",
    "\tI)\tDECK DRAINAGE\t20\t\t\n",
    "\t1)\tScuppers\t20\t\t\n",
    "\t2)\tApproaches\t21\t\t\n",
    "\t3)\tDrainage Collection System\t21\t\t\n",
    "\t4)\tElastomeric Troughs\t21\t\t\n",
    "\t5)\tErosion Protection\t21\t\t\n",
    "\tJ)\tUTILITIES ( 301.7)\t21\t\t\n",
    "\tK)\tSTRUCTURE GROUNDING\t21\t\t\n",
    "\tL)\tAPPROACH SLAB\t21\t\t\n",
    "\t\tSUBSTRUCTURE\t\t\t\n",
    "\tA.\tPIERS\t22\t\t\n",
    "\t1\tGeneral\t22\t\t\n",
    "\t2\tPile Foundations\t22\t\t\n",
    "\t3\tCapped-Pile Piers\t23\t\t\n",
    "\t4\tCap and Column Piers\t23\t\t\n",
    "\tB.\tABUTMENTS\t23\t\t\n",
    "\t1\tGeneral\t23\t\t\n",
    "\t2\tPile Foundations\t25\t\t\n",
    "\tC.\tDRILLED SHAFT\t26\t\t\n",
    "\t\t\t\t\t\n",
    "1\t\tGENERAL\t\t\t\n",
    "1.1\t?\tAll Stage I comments resolved and detailed design is as per approved Stage I.\t\t\t\n",
    "1.2\t?\tAll correspondence has been reviewed?\t\t\t\n",
    "1.3\t?\tAll bridge plan sheet are in order. \t103\t\t\n",
    "1.4\t?\tTitle block okay on all sheets?  (As shown on Figure 102-4 in the Bridge Design Manual [BDM]) Designed, checked and reviewed blocks complete on all sheets?  (If not, or if it appears a thorough independent check and review has not occurred, plans should be returned)\t\t\t\n",
    "1.5\t?\tProject number and bridge number correct? \t102.4\t\t\n",
    "1.6\t?\tAll lettering No. 5 or larger?  Caps 5/32 inches in height) Sheets in an appropriate order?  As per \t102.2\t\t\n",
    "1.7\t?\tSupplemental Site Plan, if prepared during Stage 1 has not been included in plans?\t\t\t\n",
    "1.8\t?\tSite Plan been checked with the final approved Sage 1 Site Plan?  Deck transverse sections matches that approved in Stage I?\t\t\t\n",
    "1.9\t?\tCall-outs are consistent on all sheets?  (Span designation number, pier numbers, etc.)\t\t\t\n",
    "1.10\t?\tNorth arrow shown on all plan views, all sheets. \t102\t\t\n",
    "1.11\t?\tEach drilled shaft in the structure has been assigned a unique number? \t305.4.4\t\t\n",
    "1.12\t?\tEach pile in the structure has been assigned a unique number? \t\t\t\n",
    "1.13\t?\tPier (s) and forward abutment elevations and the superstructure transverse section shown looking forward?  Rear abutment elevation looking to the rear?  \t102\t\t\n",
    "1.14\t?\tAppropriate centerline/reference line used and referenced exclusively (consistent nomenclature) throughout the details.\t\t\t\n",
    "1.15\t?\tIf an auxiliary reference line is established, is stationing given along this line only, near the bridge? Is a geometric diagram provided, if necessary?\t\t\t\n",
    "1.16\t?\tFor bridge with variable super-elevation, has a super-elevation transition diagram been provided? \t309.3.6.1 & 309.3.6.1a\t\t\n",
    "1.17\t?\tBreak over (1/2 inch per foot slope) provided on high side of superelevated decks for shoulder widths >4 feet?  Rounding beginning at edge of roadway used when change in cross slope at break over exceeds 3 percent 4-foot rounding for shoulders < 8 feet and 5 foot rounding for shoulders   > 8 feet)?\t309.3.6.1 Figure 309-9 & 309-10\t\t\n",
    "1.18\t?\tApproach slabs have been detailed as per Designer Supplement: AS-2-15-Approach Slab Installation?\t\t\t\n",
    "1.19\t?\tItems that should be included with roadway quantities (e.g., Rock Channel Protection, Portable Concrete Barrier and Temporary Guardrail) have been designated as such?\t\t\t\n",
    "1.20\t?\tPortions of existing structure that are to be removed have been properly indicated?\t\t\t\n",
    "1.21\t?\t± Symbol used for existing structure dimensions?  Dashed lines used to denote existing structures? \t207.4\t\t\n",
    "1.22\t?\tDetail plans for temporary sheeting/shoring included if required by the \t310.1\t\t\n",
    "1.32\t?\tDetail plans for a temporary runaround bridge included if required by the Scope? \t503\t\t\n",
    "1.42\t?\tConcrete surfaces sealed per \t306.1.2, 309.2.1 and 403.3 .\t\t\n",
    "1.52\t?\tEpoxy only sealer not used. \t309.2.1-G\t\t\n",
    "\t\t     PLANS\t\t\t\n",
    "2\t\tA. SITE PLAN\t\t\t\n",
    "2.1\t?\tIn the proposed structure data block verify the Latitude and Longitude. The Latitude and Longitude of the begin Bridge limit station should be given to the nearest 0.01 second. The 0.01 second precision will be included in the next  update.  \t\t\t\n",
    "2.2\t?\tIn the profile view provide the highest known high-water mark; normal water elevation and Ordinary High-Water Mark \tOHWM See section 201.2.1 BDM.\t\t\n",
    "2.3\t?\tShow the length of the bedrock socket in the profile view. See section 305.4.2 BDM.\t\t\t\n",
    "2.4\t\tB. GENERAL PLAN\t\t\t\n",
    "2.5\t?\tReference line shown for curved bridges, and stations should be shown where it intersects curve?\t\t\t\n",
    "2.6\t?\tSpan lengths agree with Site Plan? \t202.1.1\t\t\n",
    "2.7\t?\tStage construction joint shown on appropriate plan views and details \t\t\t\n",
    "2.8\t?\tHighway lighting feature shown, if applicable?\t\t\t\n",
    "2.9\t?\tScuppers shown, if applicable?\t\t\t\n",
    "2.10\t?\tApproach drainage details (Gutters/catch basins)\t\t\t\n",
    "2.11\t?\tLimits of slope protection.\t\t\t\n",
    "2.12\t\tC. GENERAL NOTES/ESTIMATED QUANTITIES\t\t\t\n",
    "2\t\t1) GENERAL NOTES Refer to ( 600)\t\t\t\n",
    "2.1\t?\tAll applicable general notes from \t600 included?\t\t\n",
    "2.2\t?\tWording of \"standard general notes” suit the project?  (Do the notes make sense for this project?)\t\t\t\n",
    "2.3\t?\tGeneral notes included where necessary to describe \"as per plan\" items?\t\t\t\n",
    "2.4\t?\tIn addition to the typical general notes given in the BDM, general notes are usually included to describe any \"non-standard\" bid items or situations.  Have these been included?\t\t\t\n",
    "2.5\t?\tFor rehabilitation projects, is the scope work itemized and clearly described under a PROPOSED WORK note?\t\t\t\n",
    "2.6\t?\tConstruction procedure for unusual conditions\t\t\t\n",
    "2.7\t\t\t\t\t\n",
    "2.8\t\t2) DETAIL NOTES\t\t\t\n",
    "2.9\t?\tSee Section 700 of the Bridge Design Manual for a reminder list of typical detail notes.\t\t\t\n",
    "2.10\t\t3) ESTIMATED QUANTITIES\t\t\t\n",
    "2.11\t?\tAll Items should be listed in the Estimated Quantities sheet in stage 2 without quantities.\t\t\t\n",
    "2.12\t?\tPay-Item for cofferdam and excavation bracing included if required by section 310.1.1 of the BDM.\t\t\t\n",
    "\t\t4) REINFORCING DETAILS\t\t\t\n",
    "\t?\tBar lengths conform to The maximum bar length should be approximately 40 feet.  For longitudinal deck reinforcing, bar lengths of 30 feet are preferred, except for one odd length at end of run.\t304.4.1 ?\t\t\n",
    "\t?\tLength of the short leg of L-shaped bars less than 8'-0\"?  \t304.4.1\t\t\n",
    "\t?\tMinimum reinforcing steel provided in all faces of retaining walls and wall-type abutments and piers for shrinkage and temperature reinforcement?  \t304.4.9 LRFD 5.10.6\t\t\n",
    "\t?\tSplice and development lengths for epoxy bars conform to current AASHTO requirements? \tLRFD 5.10.8\t\t\n",
    "\t?\tAll bar splice lengths shown by plan note, on plan details, combination or reference?\t\t\t\n",
    "\t?\tBridge seat reinforcement adequately clear of bearing anchors? \t306.2.1.2\t\t\n",
    "\t?\tTreatment of reinforcing steel appropriate at all construction, contraction, and expansion joints? \t306.2.5\t\t\n",
    "\t?\tReinforcing steel in footings comply with (i.e., secondary rebars under main rebars, rebars at bottom of footing and not top of piles, dowel legs placed at bottom layer of footing rebars)?\t305.2.1.4\t\t\n",
    "\t?\tFor cantilevered pier caps  (T-type and cap and column), is the top layer of bars bent down the end face of the cap?  Side faces adequately reinforced to resist longitudinal superstructure forces? \t306.3.3.3\t\t\n",
    "\t?\tLateral ties between vertical bars in T-type and wall type piers as per section \t306.3.3\t\t\n",
    "\t?\tAll reinforcing shall be epoxy coated?  \t304.4\t\t\n",
    "\t?\tLetter prefix A (abutments), P (piers), S (superstructure), SP (spirals), DS (drilled shafts) generally used in bar marks?  \t304.4.2\t\t\n",
    "\t?\tMechanical connectors used where appropriate? \t304.4.4\t\t\n",
    "\t?\tSplices avoided at pier horizontal construction joints, except at top of footing?  \t304.4.3\t\t\n",
    "\t\t     STAGE CONSTRUCTION\t\t\t\n",
    "\t\t1) Typical Sections\t\t\t\n",
    "\t?\tLarge scale typical sections of existing and proposed superstructures provided to show removal and construction stages?\t\t\t\n",
    "\t?\tLocation of cut lines and stage construction joints established with respect to primary survey line?\t\t\t\n",
    "\t?\tTypical section of existing structure conforms to current photographs and site inspection sketches?\t\t\t\n",
    "\t?\tStage construction details sheet should include notes that detail the sequence of construction \t309.3.8.5\t\t\n",
    "\t\t2) Part Plan Views\t\t\t\n",
    "\t?\tPart Plan views provided to show the relative relationship of the existing and proposed abutments during Stage 1 construction and relevant basic dimensions and clearances?\t\t\t\n",
    "\t?\tSufficient room provided between temporary sheeting and proposed abutment for form construction and removal?\t\t\t\n",
    "\t?\tSufficient room provided for pile driving?\t\t\t\n",
    "\t\t3) Temporary Sheeting\t\t\t\n",
    "\t?\tConsultant designed sheeting details provided in the plan when traffic is being maintained and the height of the retained earth is over 8 feet \t310.1.1.2\t\t\n",
    "\t?\tTemporary sheeting shown on the Site Plan and/or General Plan?\t\t\t\n",
    "\t?\tCofferdams and Excavation Bracing item provided in quantities?\t\t\t\n",
    "\t?\tTentative location of temporary sheeting shown on abutment plan views to retain backfill and permit partial removal and excavation for proposed construction?\t\t\t\n",
    "\t\t4) Temporary Railing\t\t\t\n",
    "\t?\tReference for barrier details given to Standard Drawing PCB-91?\t\t\t\n",
    "\t?\tBarrier anchors provided not less than two per segment for barriers located less than 6'- 0\" from the edge of deck for bridges over roadways, railroad, or recreational areas: or less than 1'-0\" from the edge of the deck for other bridge application (PCB-DD)?\t\t\t\n",
    "\t?\tDouble the number of anchor if the barrier location is less than 1 foot. (PCB-DD)\t\t\t\n",
    "\t?\tComplete details given for temporary steel railing?\t\t\t\n",
    "\t\t5) Slab Bridges\t\t\t\n",
    "\t?\tSlab removal cut lines lie transverse to primary slab reinforcing steel? \tBDM201.2.6, 404.5\t\t\n",
    "\t?\tTemporary slab supports provided for such slabs \t310.1.2 ?\t\t\n",
    "\t?\tBoth stages of slab bridges supported by false work until second stage slab concrete has fully cured before false work is released (to avoid the use of a third stage closure section and high dead load shear forces on stage construction joints due to the premature release of false work)? (False work should be designed for live load)\t\t\t\n",
    "\t\t6) Lateral Restraint\t\t\t\n",
    "\t?\tTemporary lateral restraint provided to prevent rotational movement of the first stage superstructures of semi-integral bridges towards the unrestrained (no guide bearing) acute corners at stage construction joints?\t\t\t\n",
    "\t?\tFor re-decking an existing structure without a closure section, a deck slab placement procedure provided requiring relatively complete second stage deck placement before placement of second stage integral end-diaphragms?\t\t\t\n",
    "\t?\tSemi-Integral Abutment Diaphragm Guide provided as per standard drawing SICD-2-14.\t\t\t\n",
    "\t\t7) End Dams\t\t\t\n",
    "\t?\tFull penetration butt-welded field splices provided at or near stage construction joints for superstructure portion of the end dams?\t\t\t\n",
    "\t?\tBolted field splices provided for the abutment portion?\t\t\t\n",
    "\t?\tOffset between the two splices provided to facilitate butt-welding?\t\t\t\n",
    "\t?\tSuperstructure splice located to clear beam flanges and cross frames gusset plates?\t\t\t\n",
    "\t\t8) Miscellaneous\t\t\t\n",
    "\t?\tRemoval limits clearly shown or are apparent?  Cross-hatching used to designate removal areas?\t\t\t\n",
    "\t?\tRemoval Cut lines: Full-depth saw cut-lines specified for deck slab removals where the integrity of the slab is needed to support temporary railing?  Cut-lines shown on plan and/or elevation views of substructure? \t201.2.6\t\t\n",
    "\t?\tConstruction Access: Adequate space provided between Stage 1 construction and the remainder of the existing structure for temporary sheeting and form construction?\t\t\t\n",
    "\t?\tClosure Placements: 2'-6\" minimum wide third stage closure section provided for “new\" stringer superstructures?  \t309.3.8.5\t\t\n",
    "\t?\tAre stage construction joints shown in all relevant views?\t\t\t\n",
    "\t?\tCofferdam Sheeting: Vertical clearance available under 20 + feet) and/or adjacent to the existing structure to permit driving sheeting?  Plan details shown tentative position of such sheeting where clearances are tight?\t\t\t\n",
    "\t? \tProvisions made for the complete or partial removal of temporary railing anchors and the grouting of resulting voids?\t\t\t\n",
    "\t?\tRoadway Item 614: Note provided referring to roadway plans for other temporary railing details and to Item 614 (roadway plans) for payment?\t\t\t\n",
    "\t?\tApproach slab details provided showing the same railing type as used on the bridge and with the same limiting edge clearances and/or anchorage (unless a different type of anchorage has been provided)?\t\t\t\n",
    "\t?\tJoint Type: An expansion or contraction joint used in lieu of a stage \"construction\" joint to simplify construction by eliminated lap splicing or mechanical connector splicing of reinforcing steel, where appropriate?  (Abutment back walls, breast walls and certain pier walls, etc.)\t\t\t\n",
    "\t?\tDifferential Shear: Vertical construction joints provided with shear keys and generous transverse reinforcement to resist the potentially high shear forces induced by differential deformation of foundations (piles, soil, etc.)? Formed joint surfaces artificially roughened to improve shear resistance \tLRFD 5.8.4 ?\t\t\n",
    "\t?\tBattered Piles: Room adjacent to the existing structure to drive piles?  Batter piles?  New piles clear existing battered piles?  Sufficient room available for pile length and leads to position batter piles for driving?\t\t\t\n",
    "\t?\tScreed Elevations: The presence or absence of cross frames at stage construction joints on stringer deflection taken into account when establishing screed elevations at stage construction joints.\t\t\t\n",
    "\t?\tIntegral Construction: Closure sections provided in bridges for both the deck slab and integral end-diaphragms? \t306.2.2.5\t\t\n",
    "\t?\tElastomer Seals: Note provided requiring seals for each joint to be installed in one continuous piece?\t\t\t\n",
    "\t?\tDrain Pipes: Abut porous backfill drain pipes terminated and capped on both sides of temporary sheeting?\t\t\t\n",
    "\t?\tUtility conduits located clear of stage construction joints and temporary sheeting?\t\t\t\n",
    "\t?\tThe design for adhesive concrete anchors shall be in accordance with AASHTO LRFD Section 513. \t\t\t\n",
    "\t\t     SUPERSTRUCTURE\t\t\t\n",
    "\t\tA) SLAB \t\t\t\n",
    "\t?\tSealing of concrete surfaces shown and appropriate?  \t306.1.2\t\t\n",
    "\t?\tStainless steel drip strip provided on decks with over-the-side drainage?  \t309.2 and 309.7\t\t\n",
    "\t?\tVerify reinforcing steel accommodate HL-93 loading.\t\t\t\n",
    "\t?\tLap lengths to other bars.\t\t\t\n",
    "\t?\tCenterline of bearing stations\t\t\t\n",
    "\t?\tContinuous Deck Slab Placement Detail. \tODOT STD. DWG. PSID-1-13\t\t\n",
    "\t\tB) PRESTRESSED CONCRETE BOX BEAMS\t\t\t\n",
    "\t?\tFor multiple span bridges, has the superstructure been detailed as continuous as per Standard Drawing PSBD-2-07?  \t308.2.3.3\t\t\n",
    "\t?\tMultiple span bridges of less than 200-foot total length with flexible piers and abutments fixed at all substructure units?\t\t\t\n",
    "\t?\tStandard Drawings PSBD-2-07 has been reviewed and items required by it provided?  It is not intended that details and notes shown on the Standard Drawing be repeated unnecessarily.\t\t\t\n",
    "\t?\tAll beams anchored?  \t308.2.3.3f\t\t\n",
    "\t?\tMembrane waterproofing (Type 3) used on all non-composite box beam Bridge?  \t308.2.3.3d.\t\t\n",
    "\t?\tFor bridge with poured sealant joints, has waterproofing been extended 2 feet past the bridge limits? \tCMS 512.08H\t\t\n",
    "\t?\tTwo-inch spacing or multiple therefore provided between strands?   If space permits, place all strands in bottom row.\t302.5.1.2.b\t\t\n",
    "\t?\tLocation, length, and number of debonded strands shown?  \t308.2.3.4a\t\t\n",
    "\t?\tAdditional strand debonding and supplemental mild reinforcing steel provided at beam ends for skews over 30 degree? Limit box beam to 30 degree skew or less except rare occasions approved by Office of Structural Engineering.\t\t\t\n",
    "\t?\tStrands and rebars miss anchor, diaphragm, and bearing rod holes?  Are there any conflicts between strands, rebars, tie-rod holes, beam anchor rod holes, rail post anchors, joint armor, etc.? \tPSBD-2-07\t\t\n",
    "\t?\tPEJF specified as grout retainer at dowels and under beam connection at piers? \tStandard Drawing PSBD-2-07\t\t\n",
    "\t?\tTwo bearings provided for each box beam?  \t308.2.3.3\t\t\n",
    "\t?\tProper camber/wearing surface notes used?  \t702.7\t\t\n",
    "\t?\tWearing surface/composite topping thickness diagram shown?  \t308.2.3.4b\t\t\n",
    "\t?\tIf over the side drainage will occur, has a drip strip been specified?  Reference should be made to Standard Drawing DS-1-92.\t\t\t\n",
    "\t?\tSealing of concrete surfaces provided as directed in \t309.2.1.D\t\t\n",
    "\t?\tShear key mortar finishing detail shown?  (Not required for composite concrete decks) \tPSBD-2-07\t\t\n",
    "\t\t\t\t\t\n",
    "\t?\tSufficient dimensions furnished for the beam fabricator to locate the railing post anchors? Have location of inserts for stage construction temporary railing shown?  Has conflict between post anchors and tie rods and/or T-section been avoided? \t308.2.3.3\t\t\n",
    "\t?\tProper allowances for fit-up between beams accounted for and shown?  \t308.2.3.3\t\t\n",
    "\t?\tMaximum of three beams been tied together by one tie rod? \tPSBD-2-07\t\t\n",
    "\t?\tTransverse tie-rods provided at abutment ends and located per \t308.2.3.3g\t\t\n",
    "\t?\tFor non-composite design, is asphalt thickness 8 inches or less? \t308.2.3\t\t\n",
    "\t?\tFor multiple span bridges, has the same beam depth been specified for all spans? \t308.2.3\t\t\n",
    "\t?\tFor beams greater than 100 ft. long, for concrete release strength greater than 5 ksi, and for 28 days concrete strength greater than 7 ksi, provide a letter per  308.2.3  \t\t\t\n",
    "\t?\tStrand location and clearance consistent with PSBD-2-07\t\t\t\n",
    "\t?\tDiaphragms and tie rods located \t308.2.3.3g\t\t\n",
    "\t?\tFor composite box beams Six-inch minimum slab thickness specified? \t308.2.3.3.c\t\t\n",
    "\t?\tNo. 6 at 18 inches longitudinal and No. 6 at 9 inches transverse bars specified \t308.2.3.3.c\t\t\n",
    "\t?\tAdditional bars over piers specified to meet the requirements of \t308.2.3.3.c and LRFD 5.10.8.1.2c\t\t\n",
    "\t?\tEpoxy coated bars (Grade 60) specified in the composite slab?  \t304.4\t\t\n",
    "\t?\tBars projecting from beam into composite slab specified as epoxy coated? \t304.4\t\t\n",
    "\t?\tConstruction joint shown between the cast-in-place \"T\" section at piers and the composite slab?\t\t\t\n",
    "\t?\tThe effect that the longitudinal grade has on dimensions measured along a beam’s length should be addressed in the plans \t308.2.3.2\t\t\n",
    "\t?\tVerify that design use severe corrosive factor as per Section S.5.9.2.3.2b of  by changing the design parameter in Conspan. The limiting stress factor for tension (service III) should be .0948 instead of 0.19 \t\t\t\n",
    "\t\t\t\t\t\n",
    "\t\tC) PRESTRESSED CONCRETE I-BEAMS\t\t\t\n",
    "\t?\tAre the proposed beam shapes per  308.2.3.4?\t\t\t\n",
    "\t?\tLow-relaxation, 270 ksi, 0.6-inch strands used?  (Initial street = 0.75 f’s) \t304.5.1, 304.5.2\t\t\n",
    "\t?\tStraight strands, debonded at ends if necessary, used? Draped strands should be provided as per\t308.2.3.3.a 308.2.3.4.a.3 .\t\t\n",
    "\t?\tNo more than 25 % of the total strands debonded? \t302.5.2.2.h\t\t\n",
    "\t?\tNo more than 45 % of the strands in any row debonded \t302.5.2.2.d\t\t\n",
    "\t?\tNumber and spacing of debonded strands, and the length of debonding, shown? \t302.5.2.2.d\t\t\n",
    "\t?\tStrand location and spacing meet requirements of \t308.2.3.3.b\t\t\n",
    "\t?\tInitial prestressed loads shown in the plans \t304.5.2\t\t\n",
    "\t?\tJoint details appropriate?  Details from Standard Drawings EXJ-6-06.\t\t\t\n",
    "\t?\tGrade 60 mild reinforcing used? \t304.4\t\t\n",
    "\t?\tBars projecting from I-beam been epoxy coated?  \t304.4\t\t\n",
    "\t?\tDiaphragms placed at intervals not exceeding 40 feet \t308.2.3.4.d\t\t\n",
    "\t?\tIntermediate diaphragms do not make contact with the underside of the deck? \t308.2.3.4.d\t\t\n",
    "\t?\tEnd diaphragms make complete contact with the underside of the deck? \t308.2.3.4.d\t\t\n",
    "\t?\tThreaded inserts used to connect diaphragm rebars to beams?  Type and coating requirements for inserts shown?  \t308.2.3.4.d\t\t\n",
    "\t?\tNote provided restricting deck placement to a minimum of 48 hours after diaphragms are placed and cured? If the Standard Bridge Drawing for I-beams is not referenced by the contract plans \t308.2.3.4.d\t\t\n",
    "\t?\tBridge seat elevations been computed as directed in \t308.2.3.4.b\t\t\n",
    "\t?\tDiagram provided showing slab thickness at center of each span and at each centerline of bearings? \t308.2.3.4.b\t\t\n",
    "\t?\tBeam anchorage meets the requirements of \t308.2.3.4.c\t\t\n",
    "\t?\tFull-depth cast-in-place concrete deck specified/ precast deck panels should not be used. \t309\t\t\n",
    "\t?\tThreaded insert location shown on the beam elevation view for draped strands. \tPSID-1-13\t\t\n",
    "\t?\tThe longitudinal superstructure cross section in the plans detailing the total topping thickness, including the design slab thickness and the haunch thickness at the centerline of spans and bearings. \t308.2.3.4.b\t\t\n",
    "\t?\tCamber at the time of release, at the time of erection, long term camber and a screed elevation table shown \t308.2.3.4.b\t\t\n",
    "\t?\tVerify that design use severe corrosive factor as per Section S.5.9.2.3.2b of  by changing the design parameter in Conspan. The limiting stress factor for tension (service III) should be .0948 instead of 0.19 \t\t\t\n",
    "\t\t\t\t\t\n",
    "\t\tD) STEEL STRINGERS\t\t\t\n",
    "\t\t1) General\t\t\t\n",
    "\t?\tA709 Grade 50W steel shall be specified for un-coated weathering steel bridges, A709 Grade 50 specified for a coated steel bridge. \t30.4.1\t\t\n",
    "\t?\tA709 Grade 50W structural steel within 10 feet from end of stringer adjacent to deck joint painted and note provided \t308.2.2.1.d.1\t\t\n",
    "\t?\tProper painting system used?  Formerly called, System IZEU on new steel and System OZEU on existing steel? \t308.2.2.1.d.1\t\t\n",
    "\t?\tAll main load carrying members such as rolled beams, girder web/flanges, moment plates, splice plates, and horizontally curved stringer cross frames designated as CVN for Charpy V-notch testing and plan note provided? \t308.2.2.1.b and 702.2\t\t\n",
    "\t?\tClearance between the bottom mat and top of the bolt over splice plate.\t\t\t\n",
    "\t?\tSteel fabricator certification given in pay item description as Classification Levels 1 thru 6, SF or UF. \t308.2.2.1.b\t\t\n",
    "\t?\tCross frames and field splices for dog-leggeddeflected) stringers conform with ,  Additional horizontal cross frames angle provided near top flange of horizontally curved stringers?\t308.2.2.1.j 308.2.2.1.j.1 and 308.2.2.2.b, .\t\t\n",
    "\t?\tPlan note provided for High Strength Bolts?  \t702.3\t\t\n",
    "\t?\tLeg size specified for fillet welds 1/4 inch minimum for material < 3/4 inch thick and 5/16 inch minimum for thicker material)? \t308.2.2.2.c.1\t\t\n",
    "\t?\tComplete penetration groove welds designated as CP with weld configuration left unspecified?  Partial penetration groove welds not permitted on structural elements)\t308.2.2.2.c and ANSI/AASHTO / AWS D1.5 Bridge Welding Code\t\t\n",
    "\t?\tStud shear connectors preferably 7/8 inch diameter and uniformly spaced transversely not closer than 4 diameters center to center with at least 1 inch clearance from flange edges? (Typically, three studs transversely for flanges 12 inches and wider)\t404.1.6 & AASHTO LRFD 6.10.10\t\t\n",
    "\t?\tShear connector length penetrates at least 2 inches above bottom reinforcing steel of slab and provides at least 2 inches top cover? \t\t\t\n",
    "\t?\t7/8? diameter Shear stud are not recommended for vertical application due to the longer welding times required to weld larger diameter studs, more molten metal is produced in the process. With ore molten metal, welding to a vertical surface proves to be more difficult with a larger diameter stud. The use of standard ceramic ferrules resulted in poor weld flash formation on the “top side” of the weld fillet, and excessive metal loss out of the vents at the bottom of the ferrule. Use a 3/4? diameter shear stud recommend by the industry.\t\t\t\n",
    "\t?\tShear connector maximum spacing generally not greater than 24 inches? Usually, fatigue and strength criteria produce maximum spacing near piers, smallest spacing near abutments, and moderate spacing near mid spans) No conflict near field spices or deck joint anchorage? \tAASHTO LRFD 6.10.10\t\t\n",
    "\t?\tExtra shear connectors provided at contra flexure points and longitudinal slab reinforcement properly extended if shear connectors are omitted over piers?  \tAASHTO LRFD 6.10.10\t\t\n",
    "\t?\tField splices located near points of dead load contra flexure as appropriate to facilitate erection and to limit field section lengths to 90 feet maximum for rolled beams and 120 feet maximum for plate girders?  Additional optional field splices may be shown recognizing greater availability of short lengths) \t308.2.2.1.c and 308.2.2.1.j.3\t\t\n",
    "\t?\tPlate thicknesses specified in the following standard sizes \t308.2.2.3.c :\t\t\n",
    "\t\t7/8\" to 3” In 1/8” Increments\t\t\t\n",
    "\t\t\t\t\t\n",
    "\t\t3\" And above 1/4\"Increments\t\t\t\n",
    "\t?\tBuoyant superstructures typically integral or semi-integral designs) where inundation is possible details with appropriate countermeasures e.g., holes drilled in stringer webs for egress of confined air, support anchorage, etc.)?\t\t\t\n",
    "\t?\tStringer top flange compression and tension zones shown and Welded Attachment Note provided? \t702.11\t\t\n",
    "\t?\tCamber and deflection table provided for information given at center of spans, splices points, and at 25 foot maximum intervals? \t702.1, 309.3.3\t\t\n",
    "\t?\tCamber diagram provided and blocking dimension from bottom of stringer at each support to chord between end supports) shown? \t309.3.3\t\t\n",
    "\t?\tCamber adjustment provided for horizontally heat curved stringers and for straight stringers on curved bridges?\tAASHTO LRFD 6.7.7\t\t\n",
    "\t?\tSign direction) of camber adjustment for vertical curve correct?\t\t\t\n",
    "\t?\tEdge distances used for field splices as per LRFD table 6.13.2.6.6-1? \t308.2.2.1.j.1 & 308.2.2.1.j.2\t\t\n",
    "\t?\tFor galvanized structures, the bolt hole size requires a 1/16 inch increase. \t308.2.2.1.j.1\t\t\n",
    "\t?\tField splices located so as not to interfere with other details (i.e., intermediate stiffeners, cross frames, etc.)? \t308.2.2.2.b\t\t\n",
    "\t?\tFatigue prone details avoided if possible? \t308.2.2.1.g\t\t\n",
    "\t?\tCross frame connection stiffeners rigidly attached to stringer top and bottom flanges? \t308.2.2.2.a\t\t\n",
    "\t?\tLateral bracing provided only when required?  \tAASHTO LRFD 6.7.5\t\t\n",
    "\t?\tCurve girder with stage construction should be checked for deflection at each stage.\t\t\t\n",
    "\t\t2) Rolled Beams\t\t\t\n",
    "\t?\tWelded moment plates not used in areas of tensile stress? \t308.2.2.2.d\t\t\n",
    "\t?\tBearing stiffeners provided only when necessary?  \tAASHTO LRFD 6.10.11.2\t\t\n",
    "\t?\tGalvanized beams limited in length to 60 feet maximum and utilize bolted connections only?  \t308.2.2.1.d.2\t\t\n",
    "\t\t3) Plate Girders\t\t\t\n",
    "\t?\tTop flange width as per  308.2.2.3.c.1\t\t\t\n",
    "\t?\tFlange thickness at least 7/8 inch? \t308.2.2.3.c.1\t\t\n",
    "\t?\tWeb thickness and stiffener thickness at least 3/8 inch \t308.2.2.3.c.2\t\t\n",
    "\t?\tFlange butt welds subject only to compressive stresses identified as CS and complete joint penetration as CP. \t308.2.2.3.f.2\t\t\n",
    "\t?\tNon-redundant main steel members identified as FCM (Fracture Critical Member)? Proper pay item and plan note provided \tBMD 308.2.2.3.b\t\t\n",
    "\t?\tLongitudinal stiffeners not used? Transverse stiffeners preferably not used (except cross frame connection stiffeners) \t308.2.2.3\t\t\n",
    "\t?\tTransverse stiffeners (if used) placed on alternate sides of interior girders and inside face only of fascia girders , made same size throughout, and detailed?\t308.2.2.3.d\t\t\n",
    "\t?\tCross frame connection stiffeners fillet welded to web and both flanges \t308.2.2.3.d\t\t\n",
    "\t?\tBearing stiffeners made to extend as near as practicable to outer edges of flange plate and detailed as tight fit at top flange, mill to bear at bottom flange?  (Rigid attachment to both flanges may be appropriate if used also as a connection plate) \tAASHTO LRFD 6.10.11.2.1)/LRFD 6.10.11.2\t\t\n",
    "\t?\tIntermediate cross frame angel size and connections conform with STD DWG GSD-1- 19? For beam/Girder D < 6 feet.\t\t\t\n",
    "\t?\tConstant flange widths used whenever possible? Make changes in flange width at field splice to facilitate fabrication) Changes in flange plate section appropriate based on cost criteria given in \t308.2.2.3.c.1 Steel Bridge Design Handbook FHWA-IF-12-052-Vol. 6)? \t\t\n",
    "\t?\tClearance between the bottom mat and top of the bolt over splice plate \t309.3.4.2\t\t\n",
    "\t\tE) CONCRETE DECK ON CONCRETE I-BEAMS OR STEEL STRINGERS\t\t\t\n",
    "\t?\tVerify bottom concrete cover of bars in the overhang deck \tLRFD 5.10.1, 304.4.8\t\t\n",
    "\t?\tSealing of concrete surfaces shown and appropriate \t309.2.1\t\t\n",
    "\t?\tStainless steel drip strip provided on decks with over-the-side drainage? \t309.7 and 309.2\t\t\n",
    "\t?\tDeck slab depth over stringers shown to top of web for plate girders and to top of flange for rolled beams or prestressed concrete I-beams and plan note provided \t702.5 and 702.6 .\t\t\n",
    "\t?\t2-inch minimum concrete haunch depth used over stringers  (top of thickest flange section to bottom of slab) \t309.3.5\t\t\n",
    "\t?\tFor steel beam or girder bridges with skew less than 15 degrees the transverse bars parallel to abutment and for skew more than 15 degrees or interference with shear stud, transverse bars place perpendicular to the centerline of bridge. \t309.3.4.2\t\t\n",
    "\t?\tFor prestressed I-beam or composite box beam bridge deck, transverse bars perpendicular to the centerline of bridge. \t309.3.4.2\t\t\n",
    "\t?\tSlab thickness and reinforcement conform to \tFigure 309-3, 309-4 or 309-5\t\t\n",
    "\t?\tTop and bottom main transverse) bars at same spacing and placed to coincide in a vertical plane? \t309.3.4.2\t\t\n",
    "\t?\tTransverse bars placed parallel to abutments for bridges with skews less than 15 degrees? \t309.3.4.2\t\t\n",
    "\t?\tLength of transverse bars without lap splices 5 inches shorter than deck (edge to edge distance) to ensure adequate cover at ends of bar, allowing for shop cutting tolerances?\t\t\t\n",
    "\t?\t(transverse) bars \t309.3.4.1\t\t\n",
    "\t?\tSecondary (longitudinal) bars placed above main \t309.3.4.1\t\t\n",
    "\t?\tAdditional top longitudinal bars with ends staggered 3'-0\" provided over piers on continuous structures?  Total longitudinal reinforcement meets the requirements of AASHTO LRFD 6.10.1.7 for steel stringers or for prestressed concrete I-beam? Generally, No. 6 bars midspaced between top full length longitudinal bars will be adequate and will provide enough clearance between bars to facilitate concrete placement and vibration).\t308.2.3.3.c\t\t\n",
    "\t?\tScreed elevations given along curb lines/edges of deck, roadway crown, transverse grade- break lines and phase construction lines at all bearings, quarter-span, mid-span, and splice points, plus any points required for a maximum 25 foot spacing. \t309.3.3.1\t\t\n",
    "\t?\tSlab pour sequence generally specified only when uplift during construction or differential deflections at intermediate expansion joints are of concern. \t2.2.3.g, 403.5.4\t\t\n",
    "\t?\tCheck three independent sources of girder twist resulting from deck placement: global superstructure distortion, oil-canning and girder warping. \t309.3.8.2\t\t\n",
    "\t?\tNeglect girder twist due to global deformation if the tributary deck load carried by the fascia girder is less than 110 % of the average of the tributary deck load carried by the interior members for new structure and 115 % for existing structure. \t309.3.8.2.a\t\t\n",
    "\t?\tFor web depth greater than 84 inches note for location of lower contact point of the overhang false work included. \t611.4.1\t\t\n",
    "\t?\tScreed, top of haunch and finished deck surface shown and note included? \t309.3.3.1, 309.3.3.2, 309.3.3.3, 702.12.1, 702.12.2, 702.12.3\t\t\n",
    "\t?\tThe final deck surface elevation locations should be identified in a plan view. \t309.3.3.3\t\t\n",
    "\t?\tThe screed elevation locations should be identified on the transverse section. \t702.12.1\t\t\n",
    "\t?\tThe top of haunch elevation locations should be identified on the transverse section. \t702.12.2\t\t\n",
    "\t?\tDeck placement design assumptions note is included. \t611.4.2\t\t\n",
    "\t\tF) RAILING/FENCE\t\t\t\n",
    "\t\t1) Deep Beam Railing\t\t\t\n",
    "\t?\tDeep beam guardrail must be used in accordance with \t309.4.3.4\t\t\n",
    "\t\t2) Twin Steel Tube Rail\t\t\t\n",
    "\t?\tReference to Standard Drawing. TST-1-99 Given.\t\t\t\n",
    "\t?\tPay limits for bridge railing measured center-to-center of the second posts on the approaches?\t\t\t\n",
    "\t?\tRail post spacing of 6'-3\" c/c of post maintained except one post spacing per span can be decreased to allow for construction clearances.\t\t\t\n",
    "\t?\tSuitable clearances between posts and back walls and between post anchors and expansion joint armor anchors provided?\t\t\t\n",
    "\t?\tWing-wall mounted post used to provide suitable post and anchor bar clearances?\t\t\t\n",
    "\t?\tFor box beam bridges with steel railing, the post spacing and position of post anchorage shall be detailed on the plans.\t\t\t\n",
    "\t?\tEnlarged details provided to describe post anchorage to composite box beams?\t\t\t\n",
    "\t\t3) Sidewalk Railing with Concrete Parapet (BR-2-15 Type Railing)  309.4.3.3\t\t\t\n",
    "\t?\tRailing posts spaced to clear parapet deflection joints as per STD- BR-2-15.\t\t\t\n",
    "\t?\tRadius of curved railing not less than 20 feet without special details. This is noted in STD-BR-2-15 Sheet 5 of 5 Under Horizontal Curvatures Title.\t\t\t\n",
    "\t?\tAll horizontal reinforcing steel should be detailed as per STD-BR-2-15\t\t\t\n",
    "\t?\tSteel tubing has provision for Expansion and Contraction as shown on STD-BR-2-15 Sheet 1 of 5 View D-D.\t\t\t\n",
    "\t\t4) Parapet Type Railing\t\t\t\n",
    "\t?\tParapet when to use per  309.4.3\t\t\t\n",
    "\t?\tComplete details of the Parapet Type bridge railing shown on the plans?\t\t\t\n",
    "\t?\tRailing transition preferably mounted on turn back abutment wingwalls or approach slabs?\t\t\t\n",
    "\t?\tFor bridges with expansion joints and with parapets mounted on approach slabs, the 1'-1\" high base portion of the parapets within the width of back walls are reinforced and placed as part of the abutments to provide an integral structure for mounting the expansion joint armor?\t\t\t\n",
    "\t?\tSuch parapets provided with special reinforcement and joint details to allow consolidation induced rotation of the approach slabs without parapet distress?\t\t\t\n",
    "\t?\tCurb heights on approach slabs limited to 4 inches as shown in Section F-F on Deflector Parapet Type drawing?\t\t\t\n",
    "\t?\tDetails of filler between approach slab and turn back wing-wall at the base of the parapet made to conform to DETAIL F of Standard Drawing AS-1-15. \t\t\t\n",
    "\t?\tParapet length of 14'-0\" or more provided to allow the standard transition length to be used?\t\t\t\n",
    "\t?\tReference made to the roadway plans for details and payment provisions for Bridge Terminal Assembly \tDrawings MGS-3.1 and MGS-3.2 ?\t\t\n",
    "\t\t5) Parapet and Fence Type Railing\t\t\t\n",
    "\t?\t2'-8\" high parapets provided?\t\t\t\n",
    "\t?\tNew guideline for fencing?  Fence used on all structure over live traffic except over County and Township roads. \t\t\t\n",
    "\t?\t Fence details conform to Standard Drawings VPF-1-90?\t\t\t\n",
    "\t\tG) BEARINGS\t\t\t\n",
    "\t\t1. Elastomeric Bearings\t\t\t\n",
    "\t?\tSteel load plate provided for attachment to steel members? \t306.4.2\t\t\n",
    "\t?\tElastomer hardness specified? \t306.4.2\t\t\n",
    "\t?\tAn elastomeric pad thickness of 1 inch or more provided (Such pads generally must be reinforced with steel laminates)? \t306.4.2\t\t\n",
    "\t?\tA tabulation of unfactored dead load, live load excluding impact) and \"Maximum Design Load\" given?\t\t\t\n",
    "\t?\tFor prestressed box beam bridges without external steel load plates, bearing shall conform to Standard Drawing BD-1-11?  \t\t\t\n",
    "\t?\tElastomeric bearing with a load plate shall have the plate beveled if the rotation and/or grade exceed the limitations of AASHTO LRFD 14.7.5.3.3 Method B 14.7.6.3.5 Method A? \t\t\t\n",
    "\t?\tprovided with bearing details.\tNote no. 702.13\t\t\n",
    "\t?\tTop and bottom cover layers should not be thicker than 70 % of internal layers \tAASHTO LRFD 14.7.6.1\t\t\n",
    "\t?\tNo top cover layer for bearing with load plate.  \tAASHTO LRFD 14.7.6.1\t\t\n",
    "\t?\tFollowing note included:\t\t\t\n",
    "\t\t“All bearings shall be marked prior to shipping. The marks shall include the bearing location on the bridge, and a direction arrow that points up-station. All marks shall be permanent and be visible after the bearing is installed”.\t\t\t\n",
    "\t?\tA plate bigger than bottom flange on top of HP section so that it can be welded from the top.\t\t\t\n",
    "\t\t\t\t\t\n",
    "\t\t2. Anchor Bars\t\t\t\n",
    "\t?\tFurnishing and placing anchor bars and ¾” galvanized threaded rod included with Bearing box beams or I-beams) for payment?\tStandard Drawing BD-1-11, PSBD-2-07. Not required for PSBD-2-07\t\t\n",
    "\t?\tFor steel bearings , furnishing and placing anchor bars included with bearings for payment?\tRB-1-55 and FB-1-82\t\t\n",
    "\t\t3.   Anchor Bolt Layout\t\t\t\n",
    "\t?\tOutline of masonry plate?\t\t\t\n",
    "\t?\tAnchor bolt size and embedment length.\t\t\t\n",
    "\t?\tBearing Anchor Plan to adequately show the location of the bearing anchors with respect to the main reinforcing bars and the edges of the bridge seats shall be provided. \t306.2.1.2\t\t\n",
    "\t\t3. Miscellaneous\t\t\t\n",
    "\t?\tMovement Provisions:  Bearing movement provisions (Fixed, expansion restrained) indicated on the Site Plan and General Plan? \t201.1.2.2KI\t\t\n",
    "\t?\tBearing designation (i.e., R-200) for each substructure unit indicated on the framing plan, beam elevation, or deck plan?\t\t\t\n",
    "\t?\tBearing details or reference to standard drawings given? Separate pay item provided for other than standard steel bearings (steel bearings for steel bridge are usually included with structural steel for payment)?\t\t\t\n",
    "\t?\tBearing types provided consistent with superstructure movement (longitudinal, lateral, and rotational)?\t\t\t\n",
    "\t?\tBearings/Joints: For bridges with sidewalk, bearing types compatible with deck joint characteristics? \t\t\t\n",
    "\t?\tBridge Seats: Bridge seats large enough for the size bearing used taken into account the need for edge clearances and construction tolerances (wider seats are usually provided for some bridges which are skewed greater than 30 degrees)?\t\t\t\n",
    "\t?\tGrade Considerations: Tapered sole plates provided for rocker and bolster bearings for grades of 2 percent or greater?\t\t\t\n",
    "\t?\tCoatings: Are notes provided to specify the type of coating required, if other than bare ASTM steel or Elastomeric bearings?\t\t\t\n",
    "\t?\tBridge seats adequate for earthquake provision? \t306.2.1.1\t\t\n",
    "\t?\tAre seismic restraints required? \t1003 - S3.10.9.2, 303.1.4.1.a\t\t\n",
    "\t\t\t\t\t\n",
    "\t\tH) DECK JOINTS\t\t\t\n",
    "\t\t1. Terminal Details\t\t\t\n",
    "\t?\tTo confine deck drainage, recessed joint seals, joints terminated as shown in Sections A-A and F-F of Standard Drawings EXJ-2-81 and EXJ-3-82; and Sections B-B and F-F Of Standard Drawing EXJ-4-87 and EXJ-5-93.\t\t\t\n",
    "\t?\tFor new bridges with over the side drainage and wall-type abutments, abutment wing- walls or retaining walls positioned flush with the back wall to allow extension of sealed deck joints beyond the bridge seats?\t\t\t\n",
    "\t\t2. Joint/Bearing Coordination\t\t\t\n",
    "\t?\tFor bridges with elastomeric bearings and sliding plate type joints, bridging plates positioned cantilevered from the abutment side of the joint) to prevent the plate from binding due to the compressive deflection of the bearings?\t\t\t\n",
    "\t?\tFor sliding plate type joints on grades, a bevel fill attached to the underside of the cantilever plate to provide a level sliding surface to parallel the direction of bearing movement?\t\t\t\n",
    "\t?\tSliding plate type joints avoided on all structures? \t\t\t\n",
    "\t\t3. Miscellaneous\t\t\t\n",
    "\t?\tBox Beams: The use of joints generally follows the guidelines given in \t309.6.3\t\t\n",
    "\t?\tRecessed Seals: Joint seals recessed below the roadway surface (i.e. strip and compression), with channel deck drainage laterally, detailed to prevent discharge of deck drainage on bridge seats?\t\t\t\n",
    "\t?\tAdjustment: A joint width adjustment table, in 10 degree increments for 30 degrees to 90 degrees, given for setting joint widths other than the 60 degree installation temperature?  The effect of joint skew taken into account when computing joint adjustment dimensions?\t\t\t\n",
    "\t?\tSawing and Sealing Bituminous Joints detail sheet provided for box beam bridges with poured seal type joints at abutments?\t\t\t\n",
    "\t?\tPrestressed concrete I-beam bridges follow the guidelines given in section \t309.6.3\t\t\n",
    "\t\tI) DECK DRAINAGE\t\t\t\n",
    "\t\t1) Scuppers\t\t\t\n",
    "\t?\tIs/was the use of scuppers avoided? Scuppers avoided over embankment slopes? Scuppers spaced to clear cross. frames, places at least 6 feet from the face of piers and abutments; extended at least 8 inches below beams and girders; located inside of fascia beams of grade separation structures and other highly visible structures; not been placed through box beams unless such placement cannot be avoided?\t309.7 and “Bridge Deck Drainage Guidelines,\" FHWA HEC 21 & 22 ?\t\t\n",
    "\t\t2) Approaches\t\t\t\n",
    "\t?\tUse made of parapet transitions and curbs on approach slabs to channel deck drainage away from structures towards approach inlets or embankment side slope flumes \tStandard Construction Drawing DM-4.1\t\t\n",
    "\t\t3) Drainage Collection System\t\t\t\n",
    "\t?\tThese avoided?  Where their use cannot be avoided, steepest possible slopes provided? Large sizes used to help avoid blockage? Convenient clean out provided?  Type of field splices specified?  Supports adequate to provide a rigid system?\t\t\t\n",
    "\t\t4) Elastomeric Troughs\t\t\t\n",
    "\t?\tReinforced elastomer required by performance specification? Joint made by vulcanization under heat and pressure?  Steep slopes 2 inches per foot or more) used to increase drainage velocity?  Large discharge openings (12 inch diameter minimum)?  Fasteners for scuppers located outside of the trough for convenient access? Galvanized hardware used?  Interior steel surfaces metalized and asphalt coated? \t\t\t\n",
    "\t\t5) Erosion Protection\t\t\t\n",
    "\t?\tGround surfaces below scuppers protected by crushed aggregate or concrete slope protection? Crushed aggregate or concrete slope protection extended (3'- 0\" minimum) beyond edges of open decks? At acute corners of bridges, slope protection extends normal to toe of slope?\t\t\t\n",
    "\t\tJ) UTILITIES ( 301.7)\t\t\t\n",
    "\t?\tDocumentation on file approved placement of utility on bridge?\t\t\t\n",
    "\t?\tConcrete embedded utility conduits shown to clear construction joints by 1 inch minimum and other conduits by 2 inches minimum?\t\t\t\n",
    "\t?\tUtilities not supported on fascia or below bottom of superstructure?  On grade separation structures, no utilities in bay adjacent to fascia stringer?\t\t\t\n",
    "\t?\tGas and water lines not embedded in concrete?  Not embedded in section of deck supporting vehicular traffic?\t\t\t\n",
    "\t?\tExpansion provisions for utilities shown if appropriate?  (Sometimes shown only on utility sheets)\t\t\t\n",
    "\t?\tPayment for utility supports clearly described by plan note and estimated quantities? (e.g., quantity table footnote stating portion of Item 513 Structural Steel to be paid for by the utility company)\t\t\t\n",
    "\t\tK) STRUCTURE GROUNDING \t\t\t\n",
    "\t?\tVerify the structure is properly grounded as per Standard Drawing HL-50.21. \t\t\t\n",
    "\t\tL) APPROACH SLAB\t\t\t\n",
    "\t?\tRemoval of existing approach slab included in the estimated quantities \t310.2\t\t\n",
    "\t?\tRemoval of existing Wearing Surface included in the estimated quantities as per CMS 202\t\t\t\n",
    "\t?\tNon-standard approach slab shown “Modified” in the structure block.\t\t\t\n",
    "\t?\tCurrent Standard Drawing reference in proposed structure data block and in the General Notes.\t\t\t\n",
    "\t?\tBars D801 or D802 included in the reinforcing steel list?\t\t\t\n",
    "\t?\tPay-Item 526 for Type _ Installation included?\t\t\t\n",
    "\t?\tPay-Item for Polymer Modified Asphalt Expansion Joint System or Item 516 – Armorless Preformed Joint Seal included?\t\t\t\n",
    "\t\t     SUBSTRUCTURE\t\t\t\n",
    "\t\tA. PIERS\t\t\t\n",
    "\t\t1. General\t\t\t\n",
    "\t?\tFor freestanding piers, is the footing width at least one-fourth the height where founded on soil, one-fifth the height where founded on rock, and one-fifth the height between centers of outside piles? \t306.3.1\t\t\n",
    "\t?\tFor cap and column piers on piles or bedrock, columns should generally have separate footings. \t306.3.3.1.a\t\t\n",
    "\t?\tPier cap terminate inside the fascia and drip groove? (For box beam bridges, pier width should allow for 1/4 inch per joint fit-up between box beams)\t308.2.3.3\t\t\n",
    "\t?\tBearing Anchor Plan shown? Are anchor bolt dimensions normal and parallel to the centerline of bearing?\t\t\t\n",
    "\t?\tCap and column piers preferably designed with a cantilevered cap? \t306.3.1 ?\t\t\n",
    "\t?\tFor slab bridges, is a construction joint placed at the top of the pier cap? \t306.3.3.2\t\t\n",
    "\t?\tPiers in navigable waterways designed to resist collision forces based on AASHTO LRFD bridge design Specification. \t306.3.7\t\t\n",
    "\t?\tEnds of pier caps (all surfaces) under the edge of decks with over-the-side drainage sealed? \t306.1.2\t\t\n",
    "\t?\tAppropriate surfaces of roadway shoulder piers sealed? \t306.1.2\t\t\n",
    "\t?\tFor phased construction, is each phase supported by a minimum of three piles or two drilled shafts? \t306.3.1\t\t\n",
    "\t\t2. Pile Foundations\t\t\t\n",
    "\t?\tDesign strives to utilize maximum allowable pile spaces and maximum allowable design loads to minimize the number of piles \t305.3.5.1\t\t\n",
    "\t?\tAt least four piles per footing? \t305.3.5.1 & 306.3.3.1.a\t\t\n",
    "\t?\tBattered piles required \t305.3.5.8\t\t\n",
    "\t?\tPile spacing a minimum of 2'-6\" or 2.5 times the pile width/diameter?  \tAASHTO LRFD 10.7.1.2\t\t\n",
    "\t?\tDistance from center of piles to edge of footing at least 1'-6\"? \t305.3.5.1\t\t\n",
    "\t?\tCan piles be driven without interfering with sheeting, cofferdams, or other bridge or adjacent building components?\t\t\t\n",
    "\t?\tStation of intersection of the centerline of bearings and station line.\t\t\t\n",
    "\t?\tTie the pile spacing to the intersection of the centerline of bearings and station line.\t\t\t\n",
    "\t?\tNumber all piles \t305.4.4\t\t\n",
    "\t\t3. Capped-Pile Piers\t\t\t\n",
    "\t?\tPile spacing less than or equal to 7.5 feet? \t305.3.5.1\t\t\n",
    "\t?\tHeight above flow line generally limited to 20 feet, or piles specially designed? \t306.3.3\t\t\n",
    "\t?\tDistance from edge of pile to face of pier cap is at least 9 inches? \t305.3.5.1\t\t\n",
    "\t?\tPile encasements specified and paid for H-piles)? \t606.5-1\t\t\n",
    "\t?\tMinimum of 1'-6\" cover provided above the piles? \t305.3.5.1\t\t\n",
    "\t\t4. Cap and Column Piers\t\t\t\n",
    "\t?\tDiameter of the pier column specified to be 3'-0\" and the drilled shaft diameter a minimum of 3'-6\"?  \t305.4.4.2\t\t\n",
    "\t?\tLocation of the construction joint at the pier column/drilled shaft interface appropriate?  (Usually 1 foot above OHWM elevation, for piers in water, and 1 foot below the ground line elsewhere.)\t305.4.4\t\t\n",
    "\t?\tA construction joint between the top of drilled shaft and the bottom of the column shown and splice cage provided? \tFIG. 303.5.4\t\t\n",
    "\t?\tReinforcing details at the column/drilled shaft construction joint appropriate?  Typically, the reinforcing cage diameter is a common size between the column, drilled shaft, and bedrock socket.\t\t\t\n",
    "\t?\tBedrock socket depth shown on the plans?  (Bottom of socket elevation should generally not be given) \t305.4.2\t\t\n",
    "\t?\tReinforcing Steel in the drilled shafts? \tBDM305.4.4.3\t\t\n",
    "\t?\tSpacing of the drilled shafts appropriate?  Typically, spacings from 12 to 18 feet are used.\t\t\t\n",
    "\t?\tDrilled shafts should be spaced to utilize the maximum bedrock end bearing pressures and a minimum number of drilled shafts.\t\t\t\n",
    "\t\tB. ABUTMENTS\t\t\t\n",
    "\t\t1. General\t\t\t\n",
    "\t?\tAbutments easily located?  Station and overall dimensions?\t\t\t\n",
    "\t?\tDimensions referenced from the proper working points?  Beam/girder bridges (steel or concrete) intersection of centerline of survey and centerline of bearings.  Concrete slab bridges centerline of survey is assumed 12 inches behind the face of the abutment. \t201.2.1.1\t\t\n",
    "\t?\tTypes of Abutments \t306.2 & 306.2.2 .\t\t\n",
    "\t?\tWing-wall lengths checked?\t\t\t\n",
    "\t?\tIf ground lines are shown, are they appropriate?\t\t\t\n",
    "\t?\tEarth benches not been used for new designs? Depth of approach slab seat Shown?\t306.2.1.4 for CPA-1-08 abutments\t\t\n",
    "\t?\tBridge seat sloped to drain toward the face of abutment for beam or girder bridges on spill-through abutments except at bearings)? ( For grade separations on wall-type abutments, are the bridge seats sloped to drain toward the back wall, with a depressed gutter and drainage system provided?\t306.2.3.2\t\t\n",
    "\t?\tFor box beam bridges, are provisions necessary to ensure proper fit of the elastomeric bearings i.e., sloped bridge seats or tapered bearings)? \tDB-1-11\t\t\n",
    "\t?\tFor box beam bridges, is the bridge seat length adequate to support all bearings, accounting for 1/2-inch fit-up per beam joint?  Beam seat should not protrude from beneath deck edge when a fit-up allowance of 1/4 inch per foot is used for pier.\t308.2.3.3\t\t\n",
    "\t?\tFor box beam bridges, has the proper wearing surface thickness at the abutments being used to compute bridge seat elevations? \t309.1.\t\t\n",
    "\t?\tDowel holes drilled parallel to a free edge clear concrete surface by at least 4 inches?\t\t\t\n",
    "\t?\tBearing anchor plan shown?  Anchor bolt location dimensions normal and parallel to centerline of bearing? \t306.2.1.2 & 701.2\t\t\n",
    "\t?\tJoint filler shown between concrete box beams and wing-wall concrete? \t308.2.3.3\t\t\n",
    "\t?\tConstruction joint shown at the level of the approach slab seat for steel superstructures?\t\t\t\n",
    "\t?\tConstruction joint provided in wing-walls of box beam bridges at bridge seat elevation? \t308.2.3.3\t\t\n",
    "\t?\tPlan note restricting placement of wing-wall concrete included for box beam bridges?\t\t\t\n",
    "\t?\tAppropriate surfaces sealed using an appropriate sealer? \t306.1.2 & 309.2.1\t\t\n",
    "\t?\tType 2 waterproofing used at construction joints?  Typically used above ground at stage construction joints, or joints between existing and proposed concrete) \t306.2.1.3\t\t\n",
    "\t?\tExpansion & Contraction joints provided as appropriate? \t306.2.5 .\t\t\n",
    "\t?\tWeep-holes located 6 inches to 1 foot above ground level or normal waterline? \t306.2.3.3\t\t\n",
    "\t?\tPorous backfill shown 6 inches below weep holes \t306.2.3.3 .\t\t\n",
    "\t?\tGeotextile fabric specified between the porous backfill and the approach fill? has it been turned up 6 inches at the wall?\t306.2.3.1\t\t\n",
    "\t?\tLateral limits of porous backfill 2'-0\" thick) clearly indicated in the elevation view as described by\t306.2.3.1\t\t\n",
    "\t?\tEnd caps shown on drain pipes, except at outlets? \t306.2.3.1\t\t\n",
    "\t?\tFor wall-type abutments where strut action of the superstructure is relied upon for stability, has a plan note been provided limiting height of backfill until superstructure is placed?\t\t\t\n",
    "\t?\tPipe drainage system used? \t306.2.3.1\t\t\n",
    "\t?\tFor rehabilitation, does the connection between the new and existing concrete appear adequate?  Existing reinforcing that is incorporated into the new work should generally be shown in the proposed cross-section.\t\t\t\n",
    "\t?\tAesthetic for wall-type abutments \t306.2.2.1\t\t\n",
    "\t?\tFor phase construction, is each phase supported by a minimum of three piles or two drilled shafts? \t306.2.2.3, 306.2.2.4 & 306.2.2.5\t\t\n",
    "\t?\tTop strap of the MSE wall should be 6” below the footing. See figure 201-2 & 201-3 of the BDM.\t\t\t\n",
    "\t?\tWhat type of protection is used to prevent the weed growth in the area between the footing and MSE wall?\t\t\t\n",
    "\t\t\t\t\t\n",
    "\t?\tFor high skew semi-integral bridges keep the beam seat level and use variable height of the HP section. Not possible to bend # 8 bars.\t\t\t\n",
    "\t\t\t\t\t\n",
    "\t\t\t\t\t\n",
    "\t\t2. Pile Foundations\t\t\t\n",
    "\t?\tFlanges of piles parallel to face of rigid abutments; webs parallel to face of flexible abutment \tincluding CPA-1-08/ICD-1-82 abutments and CPP-1-08 piers ?\t\t\n",
    "\t?\tBattered piles required? (Rate of batter shown?  1:4 desirable, 1:3 acceptable)\t305.3.5.8\t\t\n",
    "\t?\tPile embedment into footing shown as 1'-6\" cover shown above piles or as per  305.3.5\t\t\t\n",
    "\t?\tPile design load \t305.3.3 & 305.3.4\t\t\n",
    "\t?\tDistance from center of piles to edge of footing at least 1'-6\"? not the Ultimate Bearing Value UBV pile load) shown in the General Notes?  UBV as per \t305.3.5.1\t\t\n",
    "\t?\tFor abutments on a single row of piles, have closed ties been provided around the piles? \tFor example, see Standard Drawing ICD-1-82\t\t\n",
    "\t?\tDesign utilize maximum allowable pile spacing and maximum allowable design loads to minimize the number of piles  305.3.5,  305.3.3 & 305.3.4\t\t\t\n",
    "\t?\tFor abutments on a single row of piles, has the footing been extended to the ends of the wingwalls and straight wing-walls used?\t\t\t\n",
    "\t\tC. DRILLED SHAFT\t\t\t\n",
    "\t?\tDrills shaft diameter a minimum of 3'-0\"? \t305.4\t\t\n",
    "\t?\tBedrock socket depth shown on the plans? (Bottom of socket elevation should generally not be given)\t\t\t\n",
    "\t?\tSpacing of the drilled shafts appropriate? Typically, spacing for 12 to 18 feet are used. Drilled shafts should attempt to be spaced to utilize the maximum bedrock end bearing pressures and a minimum number of drilled shafts.\t\t\t\n",
    "\t?\tSplice cage specified? \t303.4.4.3 & Fig. 305-4\t\t\n",
    "\t ?\tUse of friction Drilled shaft requires previous approval of OGE? \t305.4.3\t\t\n",
    "\t\t\t\t\t\n",
    "\t\t\t\t\t\n",
    "\t\tI acknowledge that the Stage 2 Design Plans have been reviewed in accordance with this checklist and that all responses are correct and accurately reflect the information presented on the submitted Design Plans.\t\t\t\n",
    "\t\t\t\t\t\n",
    "\t\t\t\t\t\n",
    "\t\tSignature\t\t\t\n",
    "\t\tDate\t\t\t\n",
    "\t\tPage 2 of 18\t\t\t\n"
   ]
  },
  {
   "cell_type": "code",
   "execution_count": null,
   "id": "84a583b3-bff4-4e72-af6b-091e7cd17012",
   "metadata": {},
   "outputs": [],
   "source": []
  }
 ],
 "metadata": {
  "kernelspec": {
   "display_name": "Python 3 (ipykernel)",
   "language": "python",
   "name": "python3"
  },
  "language_info": {
   "codemirror_mode": {
    "name": "ipython",
    "version": 3
   },
   "file_extension": ".py",
   "mimetype": "text/x-python",
   "name": "python",
   "nbconvert_exporter": "python",
   "pygments_lexer": "ipython3",
   "version": "3.9.21"
  }
 },
 "nbformat": 4,
 "nbformat_minor": 5
}
