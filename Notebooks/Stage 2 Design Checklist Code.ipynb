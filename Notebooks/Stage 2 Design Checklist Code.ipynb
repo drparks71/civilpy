{
 "cells": [
  {
   "cell_type": "markdown",
   "id": "9f9719ee-b4cd-4af8-bcb3-32b1db4fd182",
   "metadata": {},
   "source": [
    "# Stage 2 Design Checklist - With Code\n",
    "\n",
    "This is the full version of the ODOT OSE Stage 2 Design checklist. The  \n",
    "purpose of this document is to provide documentation on how the main stage  \n",
    "2 design checklist file is working. Updates should ideally be made to both  \n",
    "files simultaneously and this file should be kept up to date with the  \n",
    "production version.\n",
    "\n",
    "The code will (for now) be housed within the [civilpy](https://github.com/drparks71/civilpy/blob/master/Notebooks/Stage%202%20Design%20Checklist.ipynb) library. This  \n",
    "minimizes the amount of code that must be interacted with by the end user."
   ]
  },
  {
   "cell_type": "markdown",
   "id": "fbd86702-bc30-4bba-a7aa-8bc356251164",
   "metadata": {},
   "source": [
    "## User Input Forms\n",
    "Basic Outline of the how the various input options are generated,"
   ]
  },
  {
   "cell_type": "code",
   "execution_count": 1,
   "id": "1ae791c8-6eae-47cf-b86c-ad654e005216",
   "metadata": {},
   "outputs": [
    {
     "data": {
      "application/vnd.jupyter.widget-view+json": {
       "model_id": "86e3115630354d4ca2d7f14abc92f5a6",
       "version_major": 2,
       "version_minor": 0
      },
      "text/plain": [
       "Checkbox(value=False, description='Check me!')"
      ]
     },
     "metadata": {},
     "output_type": "display_data"
    }
   ],
   "source": [
    "import ipywidgets as widgets\n",
    "from IPython.display import display\n",
    "\n",
    "# Create a checkbox widget\n",
    "checkbox = widgets.Checkbox(\n",
    "    value=False,                      # Initial value (unchecked)\n",
    "    description='Check me!',          # Label next to the checkbox\n",
    "    disabled=False                    # If True, checkbox is disabled\n",
    ")\n",
    "\n",
    "# Display the widget in the notebook\n",
    "display(checkbox)"
   ]
  },
  {
   "cell_type": "code",
   "execution_count": 2,
   "id": "0b2fb0c7-e183-4d2a-91a8-e7397dbacc0c",
   "metadata": {},
   "outputs": [
    {
     "data": {
      "application/vnd.jupyter.widget-view+json": {
       "model_id": "83932be40ba64fe4a2c849a8c415588e",
       "version_major": 2,
       "version_minor": 0
      },
      "text/plain": [
       "Dropdown(description='Choose:', options=('Option 1', 'Option 2', 'Option 3'), value='Option 1')"
      ]
     },
     "metadata": {},
     "output_type": "display_data"
    }
   ],
   "source": [
    "# Create a dropdown widget\n",
    "dropdown = widgets.Dropdown(\n",
    "    options=['Option 1', 'Option 2', 'Option 3'],  # List of options\n",
    "    value='Option 1',                              # Default selected value\n",
    "    description='Choose:',                         # Label for the dropdown\n",
    "    disabled=False                                 # Enable/Disable dropdown\n",
    ")\n",
    "\n",
    "# Display the dropdown widget\n",
    "display(dropdown)"
   ]
  },
  {
   "cell_type": "code",
   "execution_count": 3,
   "id": "eb6fb0da-f930-4226-b9ee-20ec783b3732",
   "metadata": {},
   "outputs": [
    {
     "data": {
      "application/vnd.jupyter.widget-view+json": {
       "model_id": "a81fc3aed99248a084573dbc85b9174c",
       "version_major": 2,
       "version_minor": 0
      },
      "text/plain": [
       "DatePicker(value=None, description='Pick a Date:', step=1)"
      ]
     },
     "metadata": {},
     "output_type": "display_data"
    }
   ],
   "source": [
    "# Create a DatePicker widget\n",
    "date_picker = widgets.DatePicker(\n",
    "    description='Pick a Date:',  # Label for the widget\n",
    "    disabled=False               # Enable the widget\n",
    ")\n",
    "\n",
    "# Display the date picker\n",
    "display(date_picker)\n"
   ]
  },
  {
   "cell_type": "code",
   "execution_count": 4,
   "id": "017182be-e1a0-4e7f-987b-8071fc793c16",
   "metadata": {},
   "outputs": [
    {
     "data": {
      "application/vnd.jupyter.widget-view+json": {
       "model_id": "4be519ac6d754467af83a9105ef6c82c",
       "version_major": 2,
       "version_minor": 0
      },
      "text/plain": [
       "Text(value='', description='Name:', placeholder='Enter your name', tooltip='Provide your full name here')"
      ]
     },
     "metadata": {},
     "output_type": "display_data"
    }
   ],
   "source": [
    "# Create a text input widget\n",
    "text_input = widgets.Text(\n",
    "    description='Name:',         # Label for the input box\n",
    "    placeholder='Enter your name',  # Placeholder text\n",
    "    tooltip='Provide your full name here'  # Acts like a \"hover\" help text\n",
    ")\n",
    "\n",
    "# Display the widget\n",
    "display(text_input)"
   ]
  },
  {
   "cell_type": "markdown",
   "id": "0333f406-1982-4a40-86b8-a7abbaa4af08",
   "metadata": {},
   "source": [
    "# Getting Project Information From User\n",
    "\n",
    "Stored as \"gen_info\" in consolidated Data Model"
   ]
  },
  {
   "cell_type": "code",
   "execution_count": 5,
   "id": "8aa0f2f2-cf05-455f-80ea-7dc7e57cfbe3",
   "metadata": {},
   "outputs": [
    {
     "data": {
      "application/vnd.jupyter.widget-view+json": {
       "model_id": "2d48d13dd1d24d84865ae69166e936ef",
       "version_major": 2,
       "version_minor": 0
      },
      "text/plain": [
       "Text(value='', description='CTY-RTE-SEC: ', placeholder='Bridge CTY-RTE-SEC')"
      ]
     },
     "metadata": {},
     "output_type": "display_data"
    }
   ],
   "source": [
    "cty_rte_sec = widgets.Text(\n",
    "    description='CTY-RTE-SEC: ',\n",
    "    placeholder='Bridge CTY-RTE-SEC'\n",
    ")\n",
    "\n",
    "display(cty_rte_sec)"
   ]
  },
  {
   "cell_type": "code",
   "execution_count": 6,
   "id": "57f03c7b-2e72-434e-8675-7d56b571e323",
   "metadata": {},
   "outputs": [
    {
     "data": {
      "application/vnd.jupyter.widget-view+json": {
       "model_id": "9e8849701b38409d96df535f5fef8cf6",
       "version_major": 2,
       "version_minor": 0
      },
      "text/plain": [
       "Text(value='', description='Checked By: ', placeholder=\"Employee's Initials\")"
      ]
     },
     "metadata": {},
     "output_type": "display_data"
    }
   ],
   "source": [
    "checker = widgets.Text(\n",
    "    description='Checked By: ',\n",
    "    placeholder=\"Employee's Initials\"\n",
    ")\n",
    "\n",
    "display(checker)"
   ]
  },
  {
   "cell_type": "code",
   "execution_count": 7,
   "id": "819cc859-d955-425c-9c65-11885db4bb54",
   "metadata": {},
   "outputs": [
    {
     "data": {
      "application/vnd.jupyter.widget-view+json": {
       "model_id": "7a6e0814107a402db9fd9efddc00ad6b",
       "version_major": 2,
       "version_minor": 0
      },
      "text/plain": [
       "Text(value='', description='SFN: ', placeholder=\"Enter 'multiple' if more than one\")"
      ]
     },
     "metadata": {},
     "output_type": "display_data"
    }
   ],
   "source": [
    "sfn = widgets.Text(\n",
    "    description='SFN: ',\n",
    "    placeholder=\"Enter 'multiple' if more than one\"\n",
    ")\n",
    "\n",
    "display(sfn)"
   ]
  },
  {
   "cell_type": "code",
   "execution_count": 8,
   "id": "214ac687-b7d1-4157-9a4f-cdb3da3e5ab7",
   "metadata": {},
   "outputs": [
    {
     "data": {
      "application/vnd.jupyter.widget-view+json": {
       "model_id": "f08f6e38d76d4b27a770b5ad1af52fb6",
       "version_major": 2,
       "version_minor": 0
      },
      "text/plain": [
       "Text(value='', description='PID: ', placeholder='Project PID')"
      ]
     },
     "metadata": {},
     "output_type": "display_data"
    }
   ],
   "source": [
    "pid = widgets.Text(\n",
    "    description='PID: ',\n",
    "    placeholder=\"Project PID\"\n",
    ")\n",
    "\n",
    "display(pid)"
   ]
  },
  {
   "cell_type": "code",
   "execution_count": 9,
   "id": "556dd107-a274-4465-9d60-123c5eae9477",
   "metadata": {},
   "outputs": [],
   "source": [
    "import ipywidgets as widgets\n",
    "from IPython.display import display\n",
    "from datetime import date\n",
    "\n",
    "stage_2_check = {}"
   ]
  },
  {
   "cell_type": "code",
   "execution_count": 10,
   "id": "eb26acf4-a230-4134-966f-036f5899727a",
   "metadata": {},
   "outputs": [],
   "source": [
    "import ipywidgets as widgets\n",
    "from IPython.display import display\n",
    "from datetime import date\n",
    "\n",
    "stage_2_check = {}  # Initialize the stage_2_check dictionary\n",
    "\n",
    "# Function to create input fields and a button\n",
    "def gen_info_input():\n",
    "    cty_rte_sec_input = widgets.Text(\n",
    "        description='CTY-RTE-SEC: ',\n",
    "        placeholder='Bridge CTY-RTE-SEC'\n",
    "    )\n",
    "    checker_input = widgets.Text(\n",
    "        description='Checked By: ',\n",
    "        placeholder=\"Employee's Initials\"\n",
    "    )\n",
    "    sfn_input = widgets.Text(\n",
    "        description='SFN: ',\n",
    "        placeholder=\"Enter 'multiple' if more than one\"\n",
    "    )\n",
    "    date_input = widgets.DatePicker(\n",
    "        description='Date:',\n",
    "        disabled=False,\n",
    "        value=date.today()  # Initialize with today's date\n",
    "    )\n",
    "    pid_input = widgets.Text(\n",
    "        description='PID: ',\n",
    "        placeholder=\"Project PID\"\n",
    "    )\n",
    "    submit_button = widgets.Button(\n",
    "        description='Update Values',\n",
    "        button_style='success',\n",
    "        tooltip='Click to submit inputs',\n",
    "        icon='check'\n",
    "    )\n",
    "\n",
    "    # Display all widgets\n",
    "    display(\n",
    "        cty_rte_sec_input, \n",
    "        checker_input, \n",
    "        date_input,\n",
    "        sfn_input, \n",
    "        pid_input, \n",
    "        submit_button)\n",
    "\n",
    "    # Return all input widgets and the button\n",
    "    return cty_rte_sec_input, checker_input, date_input, sfn_input, pid_input, submit_button\n",
    "\n",
    "\n",
    "# Function to collect data from widgets\n",
    "def get_gen_info(cty_rte_sec, checker, check_date, sfn, pid):\n",
    "    return {\n",
    "        'cty_rte_sec': cty_rte_sec.value,\n",
    "        'checker': checker.value,\n",
    "        'date': check_date.value.strftime('%B %d, %Y') if check_date.value else \"No date selected\",\n",
    "        'sfn': sfn.value,\n",
    "        'pid': pid.value\n",
    "    }\n",
    "\n",
    "\n",
    "# Define the button click handler function\n",
    "def on_submit_button_clicked(b):\n",
    "    global stage_2_check\n",
    "    # Update gen_info with the latest input values\n",
    "    stage_2_check['gen_info'] = get_gen_info(cty_rte_sec, checker, check_date, sfn, pid)\n",
    "    print(\"Updated gen_info:\")\n",
    "    print(stage_2_check)"
   ]
  },
  {
   "cell_type": "code",
   "execution_count": 11,
   "id": "f833d68d-5db8-42d0-a814-a7fd884a941d",
   "metadata": {},
   "outputs": [
    {
     "data": {
      "application/vnd.jupyter.widget-view+json": {
       "model_id": "ecf21ff349414ba9819d66577d0201a3",
       "version_major": 2,
       "version_minor": 0
      },
      "text/plain": [
       "Text(value='', description='CTY-RTE-SEC: ', placeholder='Bridge CTY-RTE-SEC')"
      ]
     },
     "metadata": {},
     "output_type": "display_data"
    },
    {
     "data": {
      "application/vnd.jupyter.widget-view+json": {
       "model_id": "662c17c414614d90b857a64f09fbd465",
       "version_major": 2,
       "version_minor": 0
      },
      "text/plain": [
       "Text(value='', description='Checked By: ', placeholder=\"Employee's Initials\")"
      ]
     },
     "metadata": {},
     "output_type": "display_data"
    },
    {
     "data": {
      "application/vnd.jupyter.widget-view+json": {
       "model_id": "99466d2bae33495a8b29468ba4cc6b52",
       "version_major": 2,
       "version_minor": 0
      },
      "text/plain": [
       "DatePicker(value=datetime.date(2025, 5, 27), description='Date:', step=1)"
      ]
     },
     "metadata": {},
     "output_type": "display_data"
    },
    {
     "data": {
      "application/vnd.jupyter.widget-view+json": {
       "model_id": "5576d79578f14fdb9a821ac8495d57d6",
       "version_major": 2,
       "version_minor": 0
      },
      "text/plain": [
       "Text(value='', description='SFN: ', placeholder=\"Enter 'multiple' if more than one\")"
      ]
     },
     "metadata": {},
     "output_type": "display_data"
    },
    {
     "data": {
      "application/vnd.jupyter.widget-view+json": {
       "model_id": "6874da031b894593aa2c350ea8a1b1d5",
       "version_major": 2,
       "version_minor": 0
      },
      "text/plain": [
       "Text(value='', description='PID: ', placeholder='Project PID')"
      ]
     },
     "metadata": {},
     "output_type": "display_data"
    },
    {
     "data": {
      "application/vnd.jupyter.widget-view+json": {
       "model_id": "04436516a9f64710bbe42b6d02d6a737",
       "version_major": 2,
       "version_minor": 0
      },
      "text/plain": [
       "Button(button_style='success', description='Update Values', icon='check', style=ButtonStyle(), tooltip='Click …"
      ]
     },
     "metadata": {},
     "output_type": "display_data"
    }
   ],
   "source": [
    "# Generate widgets and button\n",
    "cty_rte_sec, checker, check_date, sfn, pid, submit_button = gen_info_input()\n",
    "\n",
    "# Attach the button click event\n",
    "submit_button.on_click(on_submit_button_clicked)"
   ]
  },
  {
   "cell_type": "code",
   "execution_count": 29,
   "id": "7f70ab85-b5e7-49f7-892c-821e12956896",
   "metadata": {},
   "outputs": [
    {
     "data": {
      "text/plain": [
       "{'gen_info': {'cty_rte_sec': 'test',\n",
       "  'checker': 'DRP',\n",
       "  'date': 'May 27, 2025',\n",
       "  'sfn': '1234567',\n",
       "  'pid': '123456'}}"
      ]
     },
     "execution_count": 29,
     "metadata": {},
     "output_type": "execute_result"
    }
   ],
   "source": [
    "stage_2_check"
   ]
  },
  {
   "cell_type": "markdown",
   "id": "7a18e0f7-7bf6-4435-9b60-26c87f80a3d8",
   "metadata": {},
   "source": [
    "# General"
   ]
  },
  {
   "cell_type": "code",
   "execution_count": 13,
   "id": "85b545b5-cdd0-4886-b250-1b33cd1e4ceb",
   "metadata": {},
   "outputs": [],
   "source": [
    "# Define the checklist items as a list of dictionaries with \"label\" and optionally \"section\"\n",
    "general_criteria = [\n",
    "    {\"label\": \"All Stage I comments resolved and detailed design is as per approved Stage I.\"},\n",
    "    {\"label\": \"All correspondence has been reviewed?\"},\n",
    "    {\"label\": \"All bridge plan sheet are in order.\", \"section\": \"103\"},\n",
    "    {\"label\": \"Title block okay on all sheets? (As shown on Figure 102-4 in the Bridge Design Manual [BDM]) Designed, checked and reviewed blocks complete on all sheets?\"},\n",
    "    {\"label\": \"Project number and bridge number correct?\", \"section\": \"102.4\"},\n",
    "    {\"label\": \"All lettering No. 5 or larger? Caps 5/32 inches in height) Sheets in an appropriate order? As per\", \"section\": \"102.2\"},\n",
    "    {\"label\": \"Supplemental Site Plan, if prepared during Stage 1 has not been included in plans?\"},\n",
    "    {\"label\": \"Site Plan been checked with the final approved Sage 1 Site Plan? Deck transverse sections matches that approved in Stage I?\"},\n",
    "    {\"label\": \"Call-outs are consistent on all sheets? (Span designation number, pier numbers, etc.)\"},\n",
    "    {\"label\": \"North arrow shown on all plan views, all sheets.\", \"section\": \"102\"},\n",
    "    {\"label\": \"Each drilled shaft in the structure has been assigned a unique number?\", \"section\": \"305.4.4\"},\n",
    "    {\"label\": \"Each pile in the structure has been assigned a unique number?\"},\n",
    "    {\"label\": \"Pier(s) and forward abutment elevations and the superstructure transverse section shown looking forward? Rear abutment elevation looking to the rear?\", \"section\": \"102\"},\n",
    "    {\"label\": \"Appropriate centerline/reference line used and referenced exclusively (consistent nomenclature) throughout the details.\"},\n",
    "    {\"label\": \"If an auxiliary reference line is established, is stationing given along this line only, near the bridge? Is a geometric diagram provided, if necessary?\"},\n",
    "    {\"label\": \"For bridge with variable super-elevation, has a super-elevation transition diagram been provided?\", \"section\": \"309.3.6.1 & 309.3.6.1a\"},\n",
    "    {\"label\": \"Break over (1/2 inch per foot slope) provided on high side of superelevated decks for shoulder widths >4 feet? Rounding beginning at edge of roadway used when change in cross slope at break over exceeds 3 percent 4-foot rounding for shoulders < 8 feet and 5 foot rounding for shoulders > 8 feet)?\", \"section\": \"309.3.6.1 Figure 309-9 & 309-10\"},\n",
    "    {\"label\": \"Approach slabs have been detailed as per Designer Supplement: AS-2-15-Approach Slab Installation?\"},\n",
    "    {\"label\": \"Items that should be included with roadway quantities (e.g., Rock Channel Protection, Portable Concrete Barrier and Temporary Guardrail) have been designated as such?\"},\n",
    "    {\"label\": \"Portions of existing structure that are to be removed have been properly indicated?\"},\n",
    "    {\"label\": \"± Symbol used for existing structure dimensions? Dashed lines used to denote existing structures?\", \"section\": \"207.4\"},\n",
    "    {\"label\": \"Detail plans for temporary sheeting/shoring included if required by the\", \"section\": \"310.1\"},\n",
    "    {\"label\": \"Detail plans for a temporary runaround bridge included if required by the Scope?\", \"section\": \"503\"},\n",
    "    {\"label\": \"Concrete surfaces sealed per\", \"section\": \"306.1.2, 309.2.1 and 403.3\"},\n",
    "    {\"label\": \"Epoxy only sealer not used.\", \"section\": \"309.2.1-G\"}\n",
    "]"
   ]
  },
  {
   "cell_type": "code",
   "execution_count": 14,
   "id": "9764b596-16ec-42c5-81b5-97fa8c589e8c",
   "metadata": {},
   "outputs": [
    {
     "data": {
      "application/vnd.jupyter.widget-view+json": {
       "model_id": "5b1e9c59cd7d441b80d5a79aee6ece45",
       "version_major": 2,
       "version_minor": 0
      },
      "text/plain": [
       "HTML(value='<b><u>General Criteria</u></b>')"
      ]
     },
     "metadata": {},
     "output_type": "display_data"
    },
    {
     "data": {
      "application/vnd.jupyter.widget-view+json": {
       "model_id": "6f32ad8beb2a4b42b69f2cecf67c9258",
       "version_major": 2,
       "version_minor": 0
      },
      "text/plain": [
       "Checkbox(value=False, description='All Stage I comments resolved and detailed design is as per approved Stage …"
      ]
     },
     "metadata": {},
     "output_type": "display_data"
    },
    {
     "data": {
      "application/vnd.jupyter.widget-view+json": {
       "model_id": "417e60dcf8264cabbb18a365c99949c9",
       "version_major": 2,
       "version_minor": 0
      },
      "text/plain": [
       "Checkbox(value=False, description='All correspondence has been reviewed?', indent=False, layout=Layout(margin=…"
      ]
     },
     "metadata": {},
     "output_type": "display_data"
    },
    {
     "data": {
      "application/vnd.jupyter.widget-view+json": {
       "model_id": "eab8b667e5e54724a7147882275afb5b",
       "version_major": 2,
       "version_minor": 0
      },
      "text/plain": [
       "Checkbox(value=False, description='All bridge plan sheet are in order. See BDM 103', indent=False, layout=Layo…"
      ]
     },
     "metadata": {},
     "output_type": "display_data"
    },
    {
     "data": {
      "application/vnd.jupyter.widget-view+json": {
       "model_id": "f4093e9ebc894cb39357efa58f566a97",
       "version_major": 2,
       "version_minor": 0
      },
      "text/plain": [
       "Checkbox(value=False, description='Title block okay on all sheets? (As shown on Figure 102-4 in the Bridge Des…"
      ]
     },
     "metadata": {},
     "output_type": "display_data"
    },
    {
     "data": {
      "application/vnd.jupyter.widget-view+json": {
       "model_id": "fc4922988883408db32cc8fa9380223d",
       "version_major": 2,
       "version_minor": 0
      },
      "text/plain": [
       "Checkbox(value=False, description='Project number and bridge number correct? See BDM 102.4', indent=False, lay…"
      ]
     },
     "metadata": {},
     "output_type": "display_data"
    },
    {
     "data": {
      "application/vnd.jupyter.widget-view+json": {
       "model_id": "180108561a0449bd97d3c11025b18130",
       "version_major": 2,
       "version_minor": 0
      },
      "text/plain": [
       "Checkbox(value=False, description='All lettering No. 5 or larger? Caps 5/32 inches in height) Sheets in an app…"
      ]
     },
     "metadata": {},
     "output_type": "display_data"
    },
    {
     "data": {
      "application/vnd.jupyter.widget-view+json": {
       "model_id": "cc03e10de1b94050a6552140e228c258",
       "version_major": 2,
       "version_minor": 0
      },
      "text/plain": [
       "Checkbox(value=False, description='Supplemental Site Plan, if prepared during Stage 1 has not been included in…"
      ]
     },
     "metadata": {},
     "output_type": "display_data"
    },
    {
     "data": {
      "application/vnd.jupyter.widget-view+json": {
       "model_id": "e1dfcab7fe944cf2aba96493fd534793",
       "version_major": 2,
       "version_minor": 0
      },
      "text/plain": [
       "Checkbox(value=False, description='Site Plan been checked with the final approved Sage 1 Site Plan? Deck trans…"
      ]
     },
     "metadata": {},
     "output_type": "display_data"
    },
    {
     "data": {
      "application/vnd.jupyter.widget-view+json": {
       "model_id": "2ef05a164b1d45a78f68aa944594557c",
       "version_major": 2,
       "version_minor": 0
      },
      "text/plain": [
       "Checkbox(value=False, description='Call-outs are consistent on all sheets? (Span designation number, pier numb…"
      ]
     },
     "metadata": {},
     "output_type": "display_data"
    },
    {
     "data": {
      "application/vnd.jupyter.widget-view+json": {
       "model_id": "50ec08cbf47244bc92108657d8aa004c",
       "version_major": 2,
       "version_minor": 0
      },
      "text/plain": [
       "Checkbox(value=False, description='North arrow shown on all plan views, all sheets. See BDM 102', indent=False…"
      ]
     },
     "metadata": {},
     "output_type": "display_data"
    },
    {
     "data": {
      "application/vnd.jupyter.widget-view+json": {
       "model_id": "6d2c3aec2f4742ca8d6759c795344c0d",
       "version_major": 2,
       "version_minor": 0
      },
      "text/plain": [
       "Checkbox(value=False, description='Each drilled shaft in the structure has been assigned a unique number? See …"
      ]
     },
     "metadata": {},
     "output_type": "display_data"
    },
    {
     "data": {
      "application/vnd.jupyter.widget-view+json": {
       "model_id": "573dc68496af48c081ceb952e241cc06",
       "version_major": 2,
       "version_minor": 0
      },
      "text/plain": [
       "Checkbox(value=False, description='Each pile in the structure has been assigned a unique number?', indent=Fals…"
      ]
     },
     "metadata": {},
     "output_type": "display_data"
    },
    {
     "data": {
      "application/vnd.jupyter.widget-view+json": {
       "model_id": "4e05b2fa3687426db1c83c729ddeb2ca",
       "version_major": 2,
       "version_minor": 0
      },
      "text/plain": [
       "Checkbox(value=False, description='Pier(s) and forward abutment elevations and the superstructure transverse s…"
      ]
     },
     "metadata": {},
     "output_type": "display_data"
    },
    {
     "data": {
      "application/vnd.jupyter.widget-view+json": {
       "model_id": "d81ebf1e11464e57ba0e6d5b82010847",
       "version_major": 2,
       "version_minor": 0
      },
      "text/plain": [
       "Checkbox(value=False, description='Appropriate centerline/reference line used and referenced exclusively (cons…"
      ]
     },
     "metadata": {},
     "output_type": "display_data"
    },
    {
     "data": {
      "application/vnd.jupyter.widget-view+json": {
       "model_id": "45f94b475ce64ddfb8adfd2bd44ab67c",
       "version_major": 2,
       "version_minor": 0
      },
      "text/plain": [
       "Checkbox(value=False, description='If an auxiliary reference line is established, is stationing given along th…"
      ]
     },
     "metadata": {},
     "output_type": "display_data"
    },
    {
     "data": {
      "application/vnd.jupyter.widget-view+json": {
       "model_id": "7f55f7eec3084ca0915cfcb953b3c1ac",
       "version_major": 2,
       "version_minor": 0
      },
      "text/plain": [
       "Checkbox(value=False, description='For bridge with variable super-elevation, has a super-elevation transition …"
      ]
     },
     "metadata": {},
     "output_type": "display_data"
    },
    {
     "data": {
      "application/vnd.jupyter.widget-view+json": {
       "model_id": "da35245f9c164a5aa7f9c6dd2ecb1ea1",
       "version_major": 2,
       "version_minor": 0
      },
      "text/plain": [
       "Checkbox(value=False, description='Break over (1/2 inch per foot slope) provided on high side of superelevated…"
      ]
     },
     "metadata": {},
     "output_type": "display_data"
    },
    {
     "data": {
      "application/vnd.jupyter.widget-view+json": {
       "model_id": "93839cd846c9418ba5251c214c7f7989",
       "version_major": 2,
       "version_minor": 0
      },
      "text/plain": [
       "Checkbox(value=False, description='Approach slabs have been detailed as per Designer Supplement: AS-2-15-Appro…"
      ]
     },
     "metadata": {},
     "output_type": "display_data"
    },
    {
     "data": {
      "application/vnd.jupyter.widget-view+json": {
       "model_id": "bdbcb2320f814da2aa86a8d608b0b08a",
       "version_major": 2,
       "version_minor": 0
      },
      "text/plain": [
       "Checkbox(value=False, description='Items that should be included with roadway quantities (e.g., Rock Channel P…"
      ]
     },
     "metadata": {},
     "output_type": "display_data"
    },
    {
     "data": {
      "application/vnd.jupyter.widget-view+json": {
       "model_id": "f3f9ee3e16ee48d3bfe6546b35899a06",
       "version_major": 2,
       "version_minor": 0
      },
      "text/plain": [
       "Checkbox(value=False, description='Portions of existing structure that are to be removed have been properly in…"
      ]
     },
     "metadata": {},
     "output_type": "display_data"
    },
    {
     "data": {
      "application/vnd.jupyter.widget-view+json": {
       "model_id": "aeb21b941a014a3894425d87f30a4545",
       "version_major": 2,
       "version_minor": 0
      },
      "text/plain": [
       "Checkbox(value=False, description='± Symbol used for existing structure dimensions? Dashed lines used to denot…"
      ]
     },
     "metadata": {},
     "output_type": "display_data"
    },
    {
     "data": {
      "application/vnd.jupyter.widget-view+json": {
       "model_id": "a8d3aeacb52b4526995964b75e5ba910",
       "version_major": 2,
       "version_minor": 0
      },
      "text/plain": [
       "Checkbox(value=False, description='Detail plans for temporary sheeting/shoring included if required by the See…"
      ]
     },
     "metadata": {},
     "output_type": "display_data"
    },
    {
     "data": {
      "application/vnd.jupyter.widget-view+json": {
       "model_id": "ea51e5aa9b6e41c18d7c4f7ee10b3d67",
       "version_major": 2,
       "version_minor": 0
      },
      "text/plain": [
       "Checkbox(value=False, description='Detail plans for a temporary runaround bridge included if required by the S…"
      ]
     },
     "metadata": {},
     "output_type": "display_data"
    },
    {
     "data": {
      "application/vnd.jupyter.widget-view+json": {
       "model_id": "df02632373464c69a07338ccaec135b5",
       "version_major": 2,
       "version_minor": 0
      },
      "text/plain": [
       "Checkbox(value=False, description='Concrete surfaces sealed per See BDM 306.1.2, 309.2.1 and 403.3', indent=Fa…"
      ]
     },
     "metadata": {},
     "output_type": "display_data"
    },
    {
     "data": {
      "application/vnd.jupyter.widget-view+json": {
       "model_id": "e3accee82fe74239a89b58837d1fdba5",
       "version_major": 2,
       "version_minor": 0
      },
      "text/plain": [
       "Checkbox(value=False, description='Epoxy only sealer not used. See BDM 309.2.1-G', indent=False, layout=Layout…"
      ]
     },
     "metadata": {},
     "output_type": "display_data"
    }
   ],
   "source": [
    "# Function to display the \"site_plan\" section\n",
    "def display_general():\n",
    "    header = widgets.HTML(\"<b><u>General Criteria</u></b>\")\n",
    "    display(header)\n",
    "    checkboxes = []\n",
    "    for criterion in general_criteria:\n",
    "        label = criterion[\"label\"]\n",
    "        # Append \"BDM\" to the section number if available\n",
    "        if \"section\" in criterion:\n",
    "            label = f\"{label} See BDM {criterion['section']}\"\n",
    "        \n",
    "        # Create a checkbox with proper styling for multiline labels\n",
    "        checkbox = widgets.Checkbox(\n",
    "            description=label,\n",
    "            value=False,\n",
    "            indent=False,\n",
    "            layout=widgets.Layout(width='100%', margin='6px 0 0 0px')  # Full width and tight vertical spacing\n",
    "        )\n",
    "        checkbox.style = {'description_width': '0px'}  # Keep the checkbox aligned to the far left\n",
    "        checkboxes.append(checkbox)\n",
    "        display(checkbox)\n",
    "\n",
    "# Display the \"site_plan\" section\n",
    "display_general()"
   ]
  },
  {
   "cell_type": "markdown",
   "id": "691e3d19-306b-48f0-a177-f938c361b52e",
   "metadata": {},
   "source": [
    "# Plans"
   ]
  },
  {
   "cell_type": "markdown",
   "id": "66b20b34-def2-4025-a73c-6c58787666e3",
   "metadata": {},
   "source": [
    "## Site Plan"
   ]
  },
  {
   "cell_type": "code",
   "execution_count": 15,
   "id": "75b6b020-993b-4cf3-854e-bdc0e3882d71",
   "metadata": {},
   "outputs": [],
   "source": [
    "site_plan_criteria = [\n",
    "    {\"label\": \"In the proposed structure data block verify the Latitude and Longitude.\\nThe Latitude and Longitude of the begin Bridge limit station should be given to the nearest 0.01 second. The 0.01 second precision will be included in the next update.\"},\n",
    "    {\"label\": \"In the profile view provide the highest known high-water mark; normal water elevation and Ordinary High-Water Mark (OHWM).\", \"section\": \"201.2.1\"},\n",
    "    {\"label\": \"Show the length of the bedrock socket in the profile view.\", \"section\": \"305.4.2\"}\n",
    "]"
   ]
  },
  {
   "cell_type": "code",
   "execution_count": 16,
   "id": "d2485b3f-23d9-4f0b-a1c1-a7d936b91eda",
   "metadata": {},
   "outputs": [
    {
     "data": {
      "application/vnd.jupyter.widget-view+json": {
       "model_id": "0fc5a158f6064cc19e416ef87d075973",
       "version_major": 2,
       "version_minor": 0
      },
      "text/plain": [
       "HTML(value='<b><u>Site Plan</u></b>')"
      ]
     },
     "metadata": {},
     "output_type": "display_data"
    },
    {
     "data": {
      "application/vnd.jupyter.widget-view+json": {
       "model_id": "75269bb9360a49a8b19f1b68f96d3da5",
       "version_major": 2,
       "version_minor": 0
      },
      "text/plain": [
       "Checkbox(value=False, description='In the proposed structure data block verify the Latitude and Longitude.\\nTh…"
      ]
     },
     "metadata": {},
     "output_type": "display_data"
    },
    {
     "data": {
      "application/vnd.jupyter.widget-view+json": {
       "model_id": "ff3f4776aef148b3abd6294550d3b55a",
       "version_major": 2,
       "version_minor": 0
      },
      "text/plain": [
       "Checkbox(value=False, description='In the profile view provide the highest known high-water mark; normal water…"
      ]
     },
     "metadata": {},
     "output_type": "display_data"
    },
    {
     "data": {
      "application/vnd.jupyter.widget-view+json": {
       "model_id": "b2663631d43048c8ad865c93d1f9df2c",
       "version_major": 2,
       "version_minor": 0
      },
      "text/plain": [
       "Checkbox(value=False, description='Show the length of the bedrock socket in the profile view. See BDM 305.4.2'…"
      ]
     },
     "metadata": {},
     "output_type": "display_data"
    }
   ],
   "source": [
    "# Function to display the \"site_plan\" section\n",
    "def display_site_plan():\n",
    "    header = widgets.HTML(\"<b><u>Site Plan</u></b>\")\n",
    "    display(header)\n",
    "    checkboxes = []\n",
    "    for criterion in site_plan_criteria:\n",
    "        label = criterion[\"label\"]\n",
    "        # Append \"BDM\" to the section number if available\n",
    "        if \"section\" in criterion:\n",
    "            label = f\"{label} See BDM {criterion['section']}\"\n",
    "        \n",
    "        # Create a checkbox with proper styling for multiline labels\n",
    "        checkbox = widgets.Checkbox(\n",
    "            description=label,\n",
    "            value=False,\n",
    "            indent=False,\n",
    "            layout=widgets.Layout(width='100%', margin='6px 0 0 0px')  # Full width and tight vertical spacing\n",
    "        )\n",
    "        checkbox.style = {'description_width': '0px'}  # Keep the checkbox aligned to the far left\n",
    "        checkboxes.append(checkbox)\n",
    "        display(checkbox)\n",
    "\n",
    "# Display the \"site_plan\" section\n",
    "display_site_plan()"
   ]
  },
  {
   "cell_type": "markdown",
   "id": "3dcf244b-4763-44bd-8361-334850668779",
   "metadata": {},
   "source": [
    "## General Plan"
   ]
  },
  {
   "cell_type": "code",
   "execution_count": 17,
   "id": "668062c9-e13b-4e97-b518-54e04d6c6667",
   "metadata": {},
   "outputs": [],
   "source": [
    "# Define the general_plan criteria\n",
    "general_plan_criteria = [\n",
    "    {\"label\": \"Reference line shown for curved bridges, and stations should be shown where it intersects curve.\"},\n",
    "    {\"label\": \"Span lengths agree with Site Plan?\", \"section\": \"202.1.1\"},\n",
    "    {\"label\": \"Stage construction joint shown on appropriate plan views and details.\"},\n",
    "    {\"label\": \"Highway lighting feature shown, if applicable?\"},\n",
    "    {\"label\": \"Scuppers shown, if applicable?\"},\n",
    "    {\"label\": \"Approach drainage details (Gutters/catch basins).\"},\n",
    "    {\"label\": \"Limits of slope protection.\"}\n",
    "]"
   ]
  },
  {
   "cell_type": "code",
   "execution_count": 18,
   "id": "d91d4bc8-a8f8-4593-9ffb-03ad25dbfb55",
   "metadata": {},
   "outputs": [
    {
     "data": {
      "application/vnd.jupyter.widget-view+json": {
       "model_id": "f787724f6d8d4485a73ce4c5dcb7c9f8",
       "version_major": 2,
       "version_minor": 0
      },
      "text/plain": [
       "HTML(value='<b><u>General Plan</u></b>')"
      ]
     },
     "metadata": {},
     "output_type": "display_data"
    },
    {
     "data": {
      "application/vnd.jupyter.widget-view+json": {
       "model_id": "b49d01c391104d4f84b82657a857e76c",
       "version_major": 2,
       "version_minor": 0
      },
      "text/plain": [
       "Checkbox(value=False, description='Reference line shown for curved bridges, and stations should be shown where…"
      ]
     },
     "metadata": {},
     "output_type": "display_data"
    },
    {
     "data": {
      "application/vnd.jupyter.widget-view+json": {
       "model_id": "a6219dc4a42a4c32bd79c0ebdc1ccf75",
       "version_major": 2,
       "version_minor": 0
      },
      "text/plain": [
       "Checkbox(value=False, description='Span lengths agree with Site Plan? See BDM 202.1.1', indent=False, layout=L…"
      ]
     },
     "metadata": {},
     "output_type": "display_data"
    },
    {
     "data": {
      "application/vnd.jupyter.widget-view+json": {
       "model_id": "bcda5fad59cd455bb241d4f46a6843ac",
       "version_major": 2,
       "version_minor": 0
      },
      "text/plain": [
       "Checkbox(value=False, description='Stage construction joint shown on appropriate plan views and details.', ind…"
      ]
     },
     "metadata": {},
     "output_type": "display_data"
    },
    {
     "data": {
      "application/vnd.jupyter.widget-view+json": {
       "model_id": "ea4c306064ad44c097aa465dd64f06aa",
       "version_major": 2,
       "version_minor": 0
      },
      "text/plain": [
       "Checkbox(value=False, description='Highway lighting feature shown, if applicable?', indent=False, layout=Layou…"
      ]
     },
     "metadata": {},
     "output_type": "display_data"
    },
    {
     "data": {
      "application/vnd.jupyter.widget-view+json": {
       "model_id": "01c3e13b3f024465825d96b912452cc5",
       "version_major": 2,
       "version_minor": 0
      },
      "text/plain": [
       "Checkbox(value=False, description='Scuppers shown, if applicable?', indent=False, layout=Layout(margin='6px 0 …"
      ]
     },
     "metadata": {},
     "output_type": "display_data"
    },
    {
     "data": {
      "application/vnd.jupyter.widget-view+json": {
       "model_id": "53e6680cae094464811f3f6cf88c3f42",
       "version_major": 2,
       "version_minor": 0
      },
      "text/plain": [
       "Checkbox(value=False, description='Approach drainage details (Gutters/catch basins).', indent=False, layout=La…"
      ]
     },
     "metadata": {},
     "output_type": "display_data"
    },
    {
     "data": {
      "application/vnd.jupyter.widget-view+json": {
       "model_id": "724efc3186a34dd09ea651385af8b7c9",
       "version_major": 2,
       "version_minor": 0
      },
      "text/plain": [
       "Checkbox(value=False, description='Limits of slope protection.', indent=False, layout=Layout(margin='6px 0 0 0…"
      ]
     },
     "metadata": {},
     "output_type": "display_data"
    }
   ],
   "source": [
    "# Function to display the \"general_plan\" section\n",
    "def display_general_plan():\n",
    "    header = widgets.HTML(\"<b><u>General Plan</u></b>\")\n",
    "    display(header)\n",
    "    checkboxes = []\n",
    "    for criterion in general_plan_criteria:\n",
    "        label = criterion[\"label\"]\n",
    "        # Append \"BDM\" to the section number if available\n",
    "        if \"section\" in criterion:\n",
    "            label = f\"{label} See BDM {criterion['section']}\"\n",
    "        checkbox = widgets.Checkbox(\n",
    "            description=label,\n",
    "            value=False,\n",
    "            indent=False,\n",
    "            layout=widgets.Layout(width='100%', margin='6px 0 0 0px')\n",
    "        )\n",
    "        checkbox.style = {'description_width': '0px'}\n",
    "        checkboxes.append(checkbox)\n",
    "        display(checkbox)\n",
    "\n",
    "# Display the \"general_plan\" section\n",
    "display_general_plan()"
   ]
  },
  {
   "cell_type": "markdown",
   "id": "f101f5e6-ea9d-4cce-b27f-4802d55adefd",
   "metadata": {},
   "source": [
    "## General Notes/Estimated Quantities"
   ]
  },
  {
   "cell_type": "markdown",
   "id": "f8d35850-5de1-4035-8ffd-5a21ddfe3ce0",
   "metadata": {},
   "source": [
    "### General Notes (Refer to 600)"
   ]
  },
  {
   "cell_type": "code",
   "execution_count": 19,
   "id": "bb2d6f75-951e-464f-bec6-d94e3248f9ab",
   "metadata": {},
   "outputs": [],
   "source": [
    "# Define the general_notes criteria\n",
    "general_notes_criteria = [\n",
    "    {\"label\": \"All applicable general notes from BDM Section 600 included?\"},\n",
    "    {\"label\": \"Wording of 'standard general notes' suit the project? (Do the notes make sense for this project?)\"},\n",
    "    {\"label\": \"General notes included where necessary to describe 'as per plan' items?\"},\n",
    "    {\"label\": \"In addition to the typical general notes given in the BDM, general notes are usually included to describe any 'non-standard' bid items or situations. Have these been included?\"},\n",
    "    {\"label\": \"For rehabilitation projects, is the scope work itemized and clearly described under a PROPOSED WORK note?\"},\n",
    "    {\"label\": \"Construction procedure for unusual conditions\"}\n",
    "]"
   ]
  },
  {
   "cell_type": "code",
   "execution_count": 35,
   "id": "9be721ba-d563-469a-9f84-9ccbbc49e99d",
   "metadata": {},
   "outputs": [
    {
     "data": {
      "application/vnd.jupyter.widget-view+json": {
       "model_id": "e5d397f2fdc24090b1abe10676806bec",
       "version_major": 2,
       "version_minor": 0
      },
      "text/plain": [
       "HTML(value='<b><u>General Notes</u></b>')"
      ]
     },
     "metadata": {},
     "output_type": "display_data"
    },
    {
     "data": {
      "application/vnd.jupyter.widget-view+json": {
       "model_id": "8719cc623ecc4483b81dc9077948ed5b",
       "version_major": 2,
       "version_minor": 0
      },
      "text/plain": [
       "Checkbox(value=False, description='All applicable general notes from BDM Section 600 included?', indent=False,…"
      ]
     },
     "metadata": {},
     "output_type": "display_data"
    },
    {
     "data": {
      "application/vnd.jupyter.widget-view+json": {
       "model_id": "f00eeb7e9c004630b0322929c7330bdc",
       "version_major": 2,
       "version_minor": 0
      },
      "text/plain": [
       "Checkbox(value=False, description=\"Wording of 'standard general notes' suit the project? (Do the notes make se…"
      ]
     },
     "metadata": {},
     "output_type": "display_data"
    },
    {
     "data": {
      "application/vnd.jupyter.widget-view+json": {
       "model_id": "3811195c056e472085ea6174d9db1716",
       "version_major": 2,
       "version_minor": 0
      },
      "text/plain": [
       "Checkbox(value=False, description=\"General notes included where necessary to describe 'as per plan' items?\", i…"
      ]
     },
     "metadata": {},
     "output_type": "display_data"
    },
    {
     "data": {
      "application/vnd.jupyter.widget-view+json": {
       "model_id": "fb5afd47b4274349be59c76d1409d217",
       "version_major": 2,
       "version_minor": 0
      },
      "text/plain": [
       "Checkbox(value=False, description=\"In addition to the typical general notes given in the BDM, general notes ar…"
      ]
     },
     "metadata": {},
     "output_type": "display_data"
    },
    {
     "data": {
      "application/vnd.jupyter.widget-view+json": {
       "model_id": "0858e0282d204f3abecde4e5a0724754",
       "version_major": 2,
       "version_minor": 0
      },
      "text/plain": [
       "Checkbox(value=False, description='For rehabilitation projects, is the scope work itemized and clearly describ…"
      ]
     },
     "metadata": {},
     "output_type": "display_data"
    },
    {
     "data": {
      "application/vnd.jupyter.widget-view+json": {
       "model_id": "075b710c9ce34e1c82e23c2e20fb39c0",
       "version_major": 2,
       "version_minor": 0
      },
      "text/plain": [
       "Checkbox(value=False, description='Construction procedure for unusual conditions', indent=False, layout=Layout…"
      ]
     },
     "metadata": {},
     "output_type": "display_data"
    }
   ],
   "source": [
    "# Function to display the \"general_notes\" section\n",
    "def display_general_notes():\n",
    "    header = widgets.HTML(\"<b><u>General Notes</u></b>\")\n",
    "    display(header)\n",
    "    checkboxes = []\n",
    "    for criterion in general_notes_criteria:\n",
    "        label = criterion[\"label\"]\n",
    "        # Append \"BDM\" to the section number if available\n",
    "        if \"section\" in criterion:\n",
    "            label = f\"{label} See BDM {criterion['section']}\"\n",
    "        checkbox = widgets.Checkbox(\n",
    "            description=label,\n",
    "            value=False,\n",
    "            indent=False,\n",
    "            layout=widgets.Layout(width='100%', margin='6px 0 0 0px')\n",
    "        )\n",
    "        checkbox.style = {'description_width': '0px'}\n",
    "        checkboxes.append(checkbox)\n",
    "        display(checkbox)\n",
    "\n",
    "# Display the \"general_notes\" section\n",
    "display_general_notes()"
   ]
  },
  {
   "cell_type": "markdown",
   "id": "a489f1d1-00c1-4ac2-9869-dec00123643d",
   "metadata": {},
   "source": [
    "### Detail Notes"
   ]
  },
  {
   "cell_type": "code",
   "execution_count": 21,
   "id": "8d7ec82e-4871-4f8e-8894-e7101b7e59d6",
   "metadata": {},
   "outputs": [],
   "source": [
    "# Define the detail_notes criteria\n",
    "detail_notes_criteria = [\n",
    "    {\"label\": \"See Section 700 of the Bridge Design Manual for a reminder list of typical detail notes.\"}\n",
    "]"
   ]
  },
  {
   "cell_type": "code",
   "execution_count": 36,
   "id": "89a83cca-f31b-402f-9454-f5b285c629b4",
   "metadata": {},
   "outputs": [
    {
     "data": {
      "application/vnd.jupyter.widget-view+json": {
       "model_id": "3f6649a0bfb4431e9170394b4b97ed4f",
       "version_major": 2,
       "version_minor": 0
      },
      "text/plain": [
       "HTML(value='<b><u>Detail Notes</u></b>')"
      ]
     },
     "metadata": {},
     "output_type": "display_data"
    },
    {
     "data": {
      "application/vnd.jupyter.widget-view+json": {
       "model_id": "26c617af2f09436fbb1cb9e8fda2bd32",
       "version_major": 2,
       "version_minor": 0
      },
      "text/plain": [
       "Checkbox(value=False, description='See Section 700 of the Bridge Design Manual for a reminder list of typical …"
      ]
     },
     "metadata": {},
     "output_type": "display_data"
    }
   ],
   "source": [
    "# Function to display the \"detail_notes\" section\n",
    "def display_detail_notes():\n",
    "    header = widgets.HTML(\"<b><u>Detail Notes</u></b>\")\n",
    "    display(header)\n",
    "    checkboxes = []\n",
    "    for criterion in detail_notes_criteria:\n",
    "        label = criterion[\"label\"]\n",
    "        # Append \"BDM\" to the section number if available\n",
    "        if \"section\" in criterion:\n",
    "            label = f\"{label} See BDM {criterion['section']}\"\n",
    "        checkbox = widgets.Checkbox(\n",
    "            description=label,\n",
    "            value=False,\n",
    "            indent=False,\n",
    "            layout=widgets.Layout(width='100%', margin='6px 0 0 0px')\n",
    "        )\n",
    "        checkbox.style = {'description_width': '0px'}\n",
    "        checkboxes.append(checkbox)\n",
    "        display(checkbox)\n",
    "\n",
    "# Display the \"detail_notes\" section\n",
    "display_detail_notes()"
   ]
  },
  {
   "cell_type": "markdown",
   "id": "f39c21f2-7158-4ec8-b6c9-bc75b1d50882",
   "metadata": {},
   "source": [
    "### Estimated Quantitites"
   ]
  },
  {
   "cell_type": "code",
   "execution_count": 37,
   "id": "8aec3349-b540-46a0-ba52-9307355a1511",
   "metadata": {},
   "outputs": [],
   "source": [
    "# Define the estimated_notes criteria\n",
    "estimated_quantitites_criteria = [\n",
    "    {\"label\": \"All Items should be listed in the Estimated Quantities sheet in stage 2 without quantities.\"},\n",
    "    {\"label\": \"Pay-Item for cofferdam and excavation bracing included if required by section 310.1.1 of the BDM.\"}\n",
    "]"
   ]
  },
  {
   "cell_type": "code",
   "execution_count": 38,
   "id": "343f9384-f9d9-4109-8447-4b9278054e1a",
   "metadata": {},
   "outputs": [
    {
     "data": {
      "application/vnd.jupyter.widget-view+json": {
       "model_id": "3b2cd1226f2a4353bc8862c66d18486d",
       "version_major": 2,
       "version_minor": 0
      },
      "text/plain": [
       "HTML(value='<b><u>Estimated Quantities</u></b>')"
      ]
     },
     "metadata": {},
     "output_type": "display_data"
    },
    {
     "data": {
      "application/vnd.jupyter.widget-view+json": {
       "model_id": "5b50fee3a3474b85b8752bd5e465f667",
       "version_major": 2,
       "version_minor": 0
      },
      "text/plain": [
       "Checkbox(value=False, description='All Items should be listed in the Estimated Quantities sheet in stage 2 wit…"
      ]
     },
     "metadata": {},
     "output_type": "display_data"
    },
    {
     "data": {
      "application/vnd.jupyter.widget-view+json": {
       "model_id": "8e1ee63db9c5422cb7a8682d5eaf606c",
       "version_major": 2,
       "version_minor": 0
      },
      "text/plain": [
       "Checkbox(value=False, description='Pay-Item for cofferdam and excavation bracing included if required by secti…"
      ]
     },
     "metadata": {},
     "output_type": "display_data"
    }
   ],
   "source": [
    "# Function to display the \"detail_notes\" section\n",
    "def display_estimated_quantities():\n",
    "    header = widgets.HTML(\"<b><u>Estimated Quantities</u></b>\")\n",
    "    display(header)\n",
    "    checkboxes = []\n",
    "    for criterion in estimated_quantitites_criteria:\n",
    "        label = criterion[\"label\"]\n",
    "        # Append \"BDM\" to the section number if available\n",
    "        if \"section\" in criterion:\n",
    "            label = f\"{label} See BDM {criterion['section']}\"\n",
    "        checkbox = widgets.Checkbox(\n",
    "            description=label,\n",
    "            value=False,\n",
    "            indent=False,\n",
    "            layout=widgets.Layout(width='100%', margin='6px 0 0 0px')\n",
    "        )\n",
    "        checkbox.style = {'description_width': '0px'}\n",
    "        checkboxes.append(checkbox)\n",
    "        display(checkbox)\n",
    "\n",
    "# Display the \"detail_notes\" section\n",
    "display_estimated_quantities()"
   ]
  },
  {
   "cell_type": "markdown",
   "id": "dd989360-be52-4712-85cf-81c8482ea2f6",
   "metadata": {},
   "source": [
    "### Reinforcing Details"
   ]
  },
  {
   "cell_type": "code",
   "execution_count": 30,
   "id": "2a182942-ca78-45d4-84da-a2a802adb989",
   "metadata": {},
   "outputs": [],
   "source": [
    "# Define the reinforcing_details criteria\n",
    "reinforcing_details_criteria = [\n",
    "    {\"label\": \"Bar lengths conform to The maximum bar length should be approximately 40 feet. For longitudinal deck reinforcing, bar lengths of 30 feet are preferred, except for one odd length at end of run.\", \"section\": \"304.4.1\"},\n",
    "    {\"label\": \"Length of the short leg of L-shaped bars less than 8'-0\\\"?\", \"section\": \"304.4.1\"},\n",
    "    {\"label\": \"Minimum reinforcing steel provided in all faces of retaining walls and wall-type abutments and piers for shrinkage and temperature reinforcement?\", \"section\": \"304.4.9 LRFD 5.10.6\"},\n",
    "    {\"label\": \"Splice and development lengths for epoxy bars conform to current AASHTO requirements?\", \"section\": \"LRFD 5.10.8\"},\n",
    "    {\"label\": \"All bar splice lengths shown by plan note, on plan details, combination or reference?\"},\n",
    "    {\"label\": \"Bridge seat reinforcement adequately clear of bearing anchors?\", \"section\": \"306.2.1.2\"},\n",
    "    {\"label\": \"Treatment of reinforcing steel appropriate at all construction, contraction, and expansion joints?\", \"section\": \"306.2.5\"},\n",
    "    {\"label\": \"Reinforcing steel in footings comply with (i.e., secondary rebars under main rebars, rebars at bottom of footing and not top of piles, dowel legs placed at bottom layer of footing rebars)?\", \"section\": \"305.2.1.4\"},\n",
    "    {\"label\": \"For cantilevered pier caps (T-type and cap and column), is the top layer of bars bent down the end face of the cap? Side faces adequately reinforced to resist longitudinal superstructure forces?\", \"section\": \"306.3.3.3\"},\n",
    "    {\"label\": \"Lateral ties between vertical bars in T-type and wall type piers as per section\", \"section\": \"306.3.3\"},\n",
    "    {\"label\": \"All reinforcing shall be epoxy coated?\", \"section\": \"304.4\"},\n",
    "    {\"label\": \"Letter prefix A (abutments), P (piers), S (superstructure), SP (spirals), DS (drilled shafts) generally used in bar marks?\", \"section\": \"304.4.2\"},\n",
    "    {\"label\": \"Mechanical connectors used where appropriate?\", \"section\": \"304.4.4\"},\n",
    "    {\"label\": \"Splices avoided at pier horizontal construction joints, except at top of footing?\", \"section\": \"304.4.3\"},\n",
    "]"
   ]
  },
  {
   "cell_type": "code",
   "execution_count": 31,
   "id": "55fdd85a-4841-4873-a716-396ae7ecea6b",
   "metadata": {},
   "outputs": [
    {
     "data": {
      "application/vnd.jupyter.widget-view+json": {
       "model_id": "4f71aaf39ddc4c4fb67af64fe3190938",
       "version_major": 2,
       "version_minor": 0
      },
      "text/plain": [
       "HTML(value='<b><u>Reinforcing Details</u></b>')"
      ]
     },
     "metadata": {},
     "output_type": "display_data"
    },
    {
     "data": {
      "application/vnd.jupyter.widget-view+json": {
       "model_id": "80ff28d6733b4090ba6a9d06b67c58c5",
       "version_major": 2,
       "version_minor": 0
      },
      "text/plain": [
       "Checkbox(value=False, description='Bar lengths conform to The maximum bar length should be approximately 40 fe…"
      ]
     },
     "metadata": {},
     "output_type": "display_data"
    },
    {
     "data": {
      "application/vnd.jupyter.widget-view+json": {
       "model_id": "e808b58268944d21bb60a66467c7c7e7",
       "version_major": 2,
       "version_minor": 0
      },
      "text/plain": [
       "Checkbox(value=False, description='Length of the short leg of L-shaped bars less than 8\\'-0\"? See section 304.…"
      ]
     },
     "metadata": {},
     "output_type": "display_data"
    },
    {
     "data": {
      "application/vnd.jupyter.widget-view+json": {
       "model_id": "e573677a3a7443a0a4f7817dc6b13a65",
       "version_major": 2,
       "version_minor": 0
      },
      "text/plain": [
       "Checkbox(value=False, description='Minimum reinforcing steel provided in all faces of retaining walls and wall…"
      ]
     },
     "metadata": {},
     "output_type": "display_data"
    },
    {
     "data": {
      "application/vnd.jupyter.widget-view+json": {
       "model_id": "984ced7b26a647708400fa5a1016ea26",
       "version_major": 2,
       "version_minor": 0
      },
      "text/plain": [
       "Checkbox(value=False, description='Splice and development lengths for epoxy bars conform to current AASHTO req…"
      ]
     },
     "metadata": {},
     "output_type": "display_data"
    },
    {
     "data": {
      "application/vnd.jupyter.widget-view+json": {
       "model_id": "d0199ef7244a4ada97e973f646a37c4b",
       "version_major": 2,
       "version_minor": 0
      },
      "text/plain": [
       "Checkbox(value=False, description='All bar splice lengths shown by plan note, on plan details, combination or …"
      ]
     },
     "metadata": {},
     "output_type": "display_data"
    },
    {
     "data": {
      "application/vnd.jupyter.widget-view+json": {
       "model_id": "4f3c5f6d0a7b457db1dc47cd81b8a9d8",
       "version_major": 2,
       "version_minor": 0
      },
      "text/plain": [
       "Checkbox(value=False, description='Bridge seat reinforcement adequately clear of bearing anchors? See section …"
      ]
     },
     "metadata": {},
     "output_type": "display_data"
    },
    {
     "data": {
      "application/vnd.jupyter.widget-view+json": {
       "model_id": "d0eb48edc2ff47dd8d91fbd962542f4a",
       "version_major": 2,
       "version_minor": 0
      },
      "text/plain": [
       "Checkbox(value=False, description='Treatment of reinforcing steel appropriate at all construction, contraction…"
      ]
     },
     "metadata": {},
     "output_type": "display_data"
    },
    {
     "data": {
      "application/vnd.jupyter.widget-view+json": {
       "model_id": "faf16f0fa5ef40d4958b55d499c255b5",
       "version_major": 2,
       "version_minor": 0
      },
      "text/plain": [
       "Checkbox(value=False, description='Reinforcing steel in footings comply with (i.e., secondary rebars under mai…"
      ]
     },
     "metadata": {},
     "output_type": "display_data"
    },
    {
     "data": {
      "application/vnd.jupyter.widget-view+json": {
       "model_id": "5667ff6005964e3ba5231747b0f2e7ba",
       "version_major": 2,
       "version_minor": 0
      },
      "text/plain": [
       "Checkbox(value=False, description='For cantilevered pier caps (T-type and cap and column), is the top layer of…"
      ]
     },
     "metadata": {},
     "output_type": "display_data"
    },
    {
     "data": {
      "application/vnd.jupyter.widget-view+json": {
       "model_id": "f20c121b63e2460baeaf7d4c3f1b38bd",
       "version_major": 2,
       "version_minor": 0
      },
      "text/plain": [
       "Checkbox(value=False, description='Lateral ties between vertical bars in T-type and wall type piers as per sec…"
      ]
     },
     "metadata": {},
     "output_type": "display_data"
    },
    {
     "data": {
      "application/vnd.jupyter.widget-view+json": {
       "model_id": "48e53cec99314f0aac8fc117c2e5fc9d",
       "version_major": 2,
       "version_minor": 0
      },
      "text/plain": [
       "Checkbox(value=False, description='All reinforcing shall be epoxy coated? See section 304.4 BDM.', indent=Fals…"
      ]
     },
     "metadata": {},
     "output_type": "display_data"
    },
    {
     "data": {
      "application/vnd.jupyter.widget-view+json": {
       "model_id": "9b572ca54e914d9ca1b5a835d84ea040",
       "version_major": 2,
       "version_minor": 0
      },
      "text/plain": [
       "Checkbox(value=False, description='Letter prefix A (abutments), P (piers), S (superstructure), SP (spirals), D…"
      ]
     },
     "metadata": {},
     "output_type": "display_data"
    },
    {
     "data": {
      "application/vnd.jupyter.widget-view+json": {
       "model_id": "806b15eb09624bb1b1e0df075995d782",
       "version_major": 2,
       "version_minor": 0
      },
      "text/plain": [
       "Checkbox(value=False, description='Mechanical connectors used where appropriate? See section 304.4.4 BDM.', in…"
      ]
     },
     "metadata": {},
     "output_type": "display_data"
    },
    {
     "data": {
      "application/vnd.jupyter.widget-view+json": {
       "model_id": "ab503f3979974478a62804eb562de58b",
       "version_major": 2,
       "version_minor": 0
      },
      "text/plain": [
       "Checkbox(value=False, description='Splices avoided at pier horizontal construction joints, except at top of fo…"
      ]
     },
     "metadata": {},
     "output_type": "display_data"
    }
   ],
   "source": [
    "# Function to display the \"reinforcing_details\" section\n",
    "def display_reinforcing_details():\n",
    "    header = widgets.HTML(\"<b><u>Reinforcing Details</u></b>\")\n",
    "    display(header)\n",
    "    checkboxes = []\n",
    "    for criterion in reinforcing_details_criteria:\n",
    "        label = criterion[\"label\"]\n",
    "        # Append \"BDM\" to the section number if available\n",
    "        if \"section\" in criterion:\n",
    "            label = f\"{label} See BDM {criterion['section']}\"\n",
    "        checkbox = widgets.Checkbox(\n",
    "            description=label,\n",
    "            value=False,\n",
    "            indent=False,\n",
    "            layout=widgets.Layout(width='100%', margin='6px 0 0 0px')\n",
    "        )\n",
    "        checkbox.style = {'description_width': '0px'}\n",
    "        checkboxes.append(checkbox)\n",
    "        display(checkbox)\n",
    "\n",
    "# Display the \"reinforcing_details\" section\n",
    "display_reinforcing_details()"
   ]
  },
  {
   "cell_type": "markdown",
   "id": "13b68d75-0fd9-484a-8385-cb743e9d4545",
   "metadata": {},
   "source": [
    "# Stage Construction"
   ]
  },
  {
   "cell_type": "markdown",
   "id": "8db7db35-86d0-4335-9af2-b0433756ba38",
   "metadata": {},
   "source": [
    "## Typical Sections"
   ]
  },
  {
   "cell_type": "code",
   "execution_count": 32,
   "id": "981b41b2-96dc-4570-8261-bc4ad4237211",
   "metadata": {},
   "outputs": [],
   "source": [
    "# Define the typical_sections criteria\n",
    "typical_sections_criteria = [\n",
    "    {\"label\": \"Large scale typical sections of existing and proposed superstructures provided to show removal and construction stages?\"},\n",
    "    {\"label\": \"Location of cut lines and stage construction joints established with respect to primary survey line?\"},\n",
    "    {\"label\": \"Typical section of existing structure conforms to current photographs and site inspection sketches?\"},\n",
    "    {\"label\": \"Stage construction details sheet should include notes that detail the sequence of construction.\", \"section\": \"309.3.8.5\"}\n",
    "]"
   ]
  },
  {
   "cell_type": "code",
   "execution_count": 39,
   "id": "d0dad188-22b6-4a70-8e1d-829221936636",
   "metadata": {},
   "outputs": [
    {
     "data": {
      "application/vnd.jupyter.widget-view+json": {
       "model_id": "6c914cffc9a644178914d982e8ec18f3",
       "version_major": 2,
       "version_minor": 0
      },
      "text/plain": [
       "HTML(value='<b><u>Typical Sections</u></b>')"
      ]
     },
     "metadata": {},
     "output_type": "display_data"
    },
    {
     "data": {
      "application/vnd.jupyter.widget-view+json": {
       "model_id": "e7d7bc105c8d4c898ec1c4159a8233b5",
       "version_major": 2,
       "version_minor": 0
      },
      "text/plain": [
       "Checkbox(value=False, description='Large scale typical sections of existing and proposed superstructures provi…"
      ]
     },
     "metadata": {},
     "output_type": "display_data"
    },
    {
     "data": {
      "application/vnd.jupyter.widget-view+json": {
       "model_id": "9e8869da881c467092345dcb51f706f6",
       "version_major": 2,
       "version_minor": 0
      },
      "text/plain": [
       "Checkbox(value=False, description='Location of cut lines and stage construction joints established with respec…"
      ]
     },
     "metadata": {},
     "output_type": "display_data"
    },
    {
     "data": {
      "application/vnd.jupyter.widget-view+json": {
       "model_id": "91a8a6e8fcb44ba489fd49044e683c39",
       "version_major": 2,
       "version_minor": 0
      },
      "text/plain": [
       "Checkbox(value=False, description='Typical section of existing structure conforms to current photographs and s…"
      ]
     },
     "metadata": {},
     "output_type": "display_data"
    },
    {
     "data": {
      "application/vnd.jupyter.widget-view+json": {
       "model_id": "976559286e74429491211cb6708d171d",
       "version_major": 2,
       "version_minor": 0
      },
      "text/plain": [
       "Checkbox(value=False, description='Stage construction details sheet should include notes that detail the seque…"
      ]
     },
     "metadata": {},
     "output_type": "display_data"
    }
   ],
   "source": [
    "# Function to display the \"typical_sections\" section\n",
    "def display_typical_sections():\n",
    "    header = widgets.HTML(\"<b><u>Typical Sections</u></b>\")\n",
    "    display(header)\n",
    "    checkboxes = []\n",
    "    for criterion in typical_sections_criteria:\n",
    "        label = criterion[\"label\"]\n",
    "        # Use the updated label format if \"section\" exists\n",
    "        if \"section\" in criterion:\n",
    "            label = f\"{label} See BDM {criterion['section']}\"\n",
    "        checkbox = widgets.Checkbox(\n",
    "            description=label,\n",
    "            value=False,\n",
    "            indent=False,\n",
    "            layout=widgets.Layout(width='100%', margin='6px 0 0 0px')\n",
    "        )\n",
    "        checkbox.style = {'description_width': '0px'}\n",
    "        checkboxes.append(checkbox)\n",
    "        display(checkbox)\n",
    "\n",
    "# Display the \"typical_sections\" section\n",
    "display_typical_sections()"
   ]
  },
  {
   "cell_type": "markdown",
   "id": "96a9aa8d-b80b-4f25-83f3-178cce0ce4bb",
   "metadata": {},
   "source": [
    "## Part Plan Views"
   ]
  },
  {
   "cell_type": "code",
   "execution_count": 40,
   "id": "3735e84b-a920-4e8d-b391-cb5ff88e1432",
   "metadata": {},
   "outputs": [],
   "source": [
    "# Define the part_plan_views criteria\n",
    "part_plan_views_criteria = [\n",
    "    {\"label\": \"Part Plan views provided to show the relative relationship of the existing and proposed abutments during Stage 1 construction and relevant basic dimensions and clearances?\"},\n",
    "    {\"label\": \"Sufficient room provided between temporary sheeting and proposed abutment for form construction and removal?\"},\n",
    "    {\"label\": \"Sufficient room provided for pile driving?\"}\n",
    "]"
   ]
  },
  {
   "cell_type": "code",
   "execution_count": 41,
   "id": "847a96cb-4d69-456c-9626-f790681817fe",
   "metadata": {},
   "outputs": [
    {
     "data": {
      "application/vnd.jupyter.widget-view+json": {
       "model_id": "0952ed2a13d844c7a5628a34848ae9d2",
       "version_major": 2,
       "version_minor": 0
      },
      "text/plain": [
       "HTML(value='<b><u>Part Plan Views</u></b>')"
      ]
     },
     "metadata": {},
     "output_type": "display_data"
    },
    {
     "data": {
      "application/vnd.jupyter.widget-view+json": {
       "model_id": "37218fa4abbb40c48f8229dcec205b4b",
       "version_major": 2,
       "version_minor": 0
      },
      "text/plain": [
       "Checkbox(value=False, description='Part Plan views provided to show the relative relationship of the existing …"
      ]
     },
     "metadata": {},
     "output_type": "display_data"
    },
    {
     "data": {
      "application/vnd.jupyter.widget-view+json": {
       "model_id": "65c03ef81f254ae5af263b60e85163b8",
       "version_major": 2,
       "version_minor": 0
      },
      "text/plain": [
       "Checkbox(value=False, description='Sufficient room provided between temporary sheeting and proposed abutment f…"
      ]
     },
     "metadata": {},
     "output_type": "display_data"
    },
    {
     "data": {
      "application/vnd.jupyter.widget-view+json": {
       "model_id": "463afbe918d94793b8691c52c35c920c",
       "version_major": 2,
       "version_minor": 0
      },
      "text/plain": [
       "Checkbox(value=False, description='Sufficient room provided for pile driving?', indent=False, layout=Layout(ma…"
      ]
     },
     "metadata": {},
     "output_type": "display_data"
    }
   ],
   "source": [
    "# Function to display the \"part_plan_views\" section\n",
    "def display_part_plan_views():\n",
    "    header = widgets.HTML(\"<b><u>Part Plan Views</u></b>\")\n",
    "    display(header)\n",
    "    checkboxes = []\n",
    "    for criterion in part_plan_views_criteria:\n",
    "        label = criterion[\"label\"]\n",
    "        # Since no \"section\" field is provided, no additional formatting is required\n",
    "        checkbox = widgets.Checkbox(\n",
    "            description=label,\n",
    "            value=False,\n",
    "            indent=False,\n",
    "            layout=widgets.Layout(width='100%', margin='6px 0 0 0px')\n",
    "        )\n",
    "        checkbox.style = {'description_width': '0px'}\n",
    "        checkboxes.append(checkbox)\n",
    "        display(checkbox)\n",
    "\n",
    "# Display the \"part_plan_views\" section\n",
    "display_part_plan_views()"
   ]
  },
  {
   "cell_type": "markdown",
   "id": "4f73c2c5-5a51-4ff1-9f08-5fb85f796503",
   "metadata": {},
   "source": [
    "## Temporary Sheeting"
   ]
  },
  {
   "cell_type": "code",
   "execution_count": 42,
   "id": "a24f1441-3763-4879-a722-2f6700d85d32",
   "metadata": {},
   "outputs": [],
   "source": [
    "# Define the temporary_sheeting criteria\n",
    "temporary_sheeting_criteria = [\n",
    "    {\"label\": \"Consultant designed sheeting details provided in the plan when traffic is being maintained and the height of the retained earth is over 8 feet\", \"section\": \"310.1.1.2\"},\n",
    "    {\"label\": \"Temporary sheeting shown on the Site Plan and/or General Plan?\"},\n",
    "    {\"label\": \"Cofferdams and Excavation Bracing item provided in quantities?\"},\n",
    "    {\"label\": \"Tentative location of temporary sheeting shown on abutment plan views to retain backfill and permit partial removal and excavation for proposed construction?\"}\n",
    "]"
   ]
  },
  {
   "cell_type": "code",
   "execution_count": 45,
   "id": "c403d3d4-8763-430f-94e6-e04cca32a369",
   "metadata": {},
   "outputs": [
    {
     "data": {
      "application/vnd.jupyter.widget-view+json": {
       "model_id": "4b136219cca54c38b426ed0473e31d76",
       "version_major": 2,
       "version_minor": 0
      },
      "text/plain": [
       "HTML(value='<b><u>Temporary Sheeting</u></b>')"
      ]
     },
     "metadata": {},
     "output_type": "display_data"
    },
    {
     "data": {
      "application/vnd.jupyter.widget-view+json": {
       "model_id": "14945b858ec644069934709c5a3fecb1",
       "version_major": 2,
       "version_minor": 0
      },
      "text/plain": [
       "Checkbox(value=False, description='Consultant designed sheeting details provided in the plan when traffic is b…"
      ]
     },
     "metadata": {},
     "output_type": "display_data"
    },
    {
     "data": {
      "application/vnd.jupyter.widget-view+json": {
       "model_id": "864167a72fa84ce2b8e39cbff1c86c5b",
       "version_major": 2,
       "version_minor": 0
      },
      "text/plain": [
       "Checkbox(value=False, description='Temporary sheeting shown on the Site Plan and/or General Plan?', indent=Fal…"
      ]
     },
     "metadata": {},
     "output_type": "display_data"
    },
    {
     "data": {
      "application/vnd.jupyter.widget-view+json": {
       "model_id": "ceb61cecf3e34940ba828dbd1bd0902a",
       "version_major": 2,
       "version_minor": 0
      },
      "text/plain": [
       "Checkbox(value=False, description='Cofferdams and Excavation Bracing item provided in quantities?', indent=Fal…"
      ]
     },
     "metadata": {},
     "output_type": "display_data"
    },
    {
     "data": {
      "application/vnd.jupyter.widget-view+json": {
       "model_id": "40e587c6f04146dda55dcf24803131c3",
       "version_major": 2,
       "version_minor": 0
      },
      "text/plain": [
       "Checkbox(value=False, description='Tentative location of temporary sheeting shown on abutment plan views to re…"
      ]
     },
     "metadata": {},
     "output_type": "display_data"
    }
   ],
   "source": [
    "# Function to display the \"temporary_sheeting\" section\n",
    "def display_temporary_sheeting():\n",
    "    header = widgets.HTML(\"<b><u>Temporary Sheeting</u></b>\")\n",
    "    display(header)\n",
    "    checkboxes = []\n",
    "    for criterion in temporary_sheeting_criteria:\n",
    "        label = criterion[\"label\"]\n",
    "        # Use the specified label format if \"section\" exists\n",
    "        if \"section\" in criterion:\n",
    "            label = f\"{label} See BDM {criterion['section']}\"\n",
    "        checkbox = widgets.Checkbox(\n",
    "            description=label,\n",
    "            value=False,\n",
    "            indent=False,\n",
    "            layout=widgets.Layout(width='100%', margin='6px 0 0 0px')\n",
    "        )\n",
    "        checkbox.style = {'description_width': '0px'}\n",
    "        checkboxes.append(checkbox)\n",
    "        display(checkbox)\n",
    "\n",
    "# Display the \"temporary_sheeting\" section\n",
    "display_temporary_sheeting()"
   ]
  },
  {
   "cell_type": "markdown",
   "id": "2cce4e72-e5a3-4764-9fd0-0a851c02c0a3",
   "metadata": {},
   "source": [
    "## Temporary Railing"
   ]
  },
  {
   "cell_type": "code",
   "execution_count": 47,
   "id": "aafa362b-7869-490a-a6db-273cfea31a91",
   "metadata": {},
   "outputs": [],
   "source": [
    "# Define the temporary_railing criteria\n",
    "temporary_railing_criteria = [\n",
    "    {\"label\": \"Reference for barrier details given to Standard Drawing PCB-91?\"},\n",
    "    {\"label\": \"Barrier anchors provided not less than two per segment for barriers located less than 6'- 0\\\" from the edge of deck for bridges over roadways, railroad, or recreational areas: or less than 1'-0\\\" from the edge of the deck for other bridge application (PCB-DD)?\"},\n",
    "    {\"label\": \"Double the number of anchor if the barrier location is less than 1 foot. (PCB-DD)?\"},\n",
    "    {\"label\": \"Complete details given for temporary steel railing?\"}\n",
    "]"
   ]
  },
  {
   "cell_type": "code",
   "execution_count": 48,
   "id": "a5df2464-a63d-4e7c-993e-76ecc8768fde",
   "metadata": {},
   "outputs": [
    {
     "data": {
      "application/vnd.jupyter.widget-view+json": {
       "model_id": "2a87f794ec8146f9a0a943fe45395d76",
       "version_major": 2,
       "version_minor": 0
      },
      "text/plain": [
       "HTML(value='<b><u>Temporary Railing</u></b>')"
      ]
     },
     "metadata": {},
     "output_type": "display_data"
    },
    {
     "data": {
      "application/vnd.jupyter.widget-view+json": {
       "model_id": "a26378d0bdf14b4dbd0a673ec16172bf",
       "version_major": 2,
       "version_minor": 0
      },
      "text/plain": [
       "Checkbox(value=False, description='Reference for barrier details given to Standard Drawing PCB-91?', indent=Fa…"
      ]
     },
     "metadata": {},
     "output_type": "display_data"
    },
    {
     "data": {
      "application/vnd.jupyter.widget-view+json": {
       "model_id": "969f81b9245a475680cf855600427aab",
       "version_major": 2,
       "version_minor": 0
      },
      "text/plain": [
       "Checkbox(value=False, description='Barrier anchors provided not less than two per segment for barriers located…"
      ]
     },
     "metadata": {},
     "output_type": "display_data"
    },
    {
     "data": {
      "application/vnd.jupyter.widget-view+json": {
       "model_id": "e19b33f4b6b5424e93b52a0d862f06e1",
       "version_major": 2,
       "version_minor": 0
      },
      "text/plain": [
       "Checkbox(value=False, description='Double the number of anchor if the barrier location is less than 1 foot. (P…"
      ]
     },
     "metadata": {},
     "output_type": "display_data"
    },
    {
     "data": {
      "application/vnd.jupyter.widget-view+json": {
       "model_id": "866034fa708f42a99072da4a9221b3eb",
       "version_major": 2,
       "version_minor": 0
      },
      "text/plain": [
       "Checkbox(value=False, description='Complete details given for temporary steel railing?', indent=False, layout=…"
      ]
     },
     "metadata": {},
     "output_type": "display_data"
    }
   ],
   "source": [
    "# Function to display the \"temporary_railing\" section\n",
    "def display_temporary_railing():\n",
    "    header = widgets.HTML(\"<b><u>Temporary Railing</u></b>\")\n",
    "    display(header)\n",
    "    checkboxes = []\n",
    "    for criterion in temporary_railing_criteria:\n",
    "        label = criterion[\"label\"]\n",
    "        # No \"section\" field exists, so we simply use the label as-is\n",
    "        checkbox = widgets.Checkbox(\n",
    "            description=label,\n",
    "            value=False,\n",
    "            indent=False,\n",
    "            layout=widgets.Layout(width='100%', margin='6px 0 0 0px')\n",
    "        )\n",
    "        checkbox.style = {'description_width': '0px'}\n",
    "        checkboxes.append(checkbox)\n",
    "        display(checkbox)\n",
    "\n",
    "# Display the \"temporary_railing\" section\n",
    "display_temporary_railing()"
   ]
  },
  {
   "cell_type": "markdown",
   "id": "f82bd02c-5cf6-41fd-b9a5-de03bfa60eec",
   "metadata": {},
   "source": [
    "## Slab Bridges"
   ]
  },
  {
   "cell_type": "code",
   "execution_count": 49,
   "id": "18e0e085-499f-4c86-8755-13b9e3a7bc5a",
   "metadata": {},
   "outputs": [],
   "source": [
    "# Define the slab_bridges criteria\n",
    "slab_bridges_criteria = [\n",
    "    {\"label\": \"Slab removal cut lines lie transverse to primary slab reinforcing steel?\", \"section\": \"BDM201.2.6, 404.5\"},\n",
    "    {\"label\": \"Temporary slab supports provided for such slabs\", \"section\": \"310.1.2\"},\n",
    "    {\"label\": \"Both stages of slab bridges supported by false work until second stage slab concrete has fully cured before false work is released (to avoid the use of a third stage closure section and high dead load shear forces on stage construction joints due to the premature release of false work)? (False work should be designed for live load)\"}\n",
    "]"
   ]
  },
  {
   "cell_type": "code",
   "execution_count": 50,
   "id": "3e9762a7-a1cf-4e73-a272-d67c35131cd9",
   "metadata": {},
   "outputs": [
    {
     "data": {
      "application/vnd.jupyter.widget-view+json": {
       "model_id": "32c6c7f619b44c47907e283a99eff60b",
       "version_major": 2,
       "version_minor": 0
      },
      "text/plain": [
       "HTML(value='<b><u>Slab Bridges</u></b>')"
      ]
     },
     "metadata": {},
     "output_type": "display_data"
    },
    {
     "data": {
      "application/vnd.jupyter.widget-view+json": {
       "model_id": "a1f9b2641c3a4830905043855168c5fe",
       "version_major": 2,
       "version_minor": 0
      },
      "text/plain": [
       "Checkbox(value=False, description='Slab removal cut lines lie transverse to primary slab reinforcing steel? Se…"
      ]
     },
     "metadata": {},
     "output_type": "display_data"
    },
    {
     "data": {
      "application/vnd.jupyter.widget-view+json": {
       "model_id": "d5ec998576c04bfeb9c331dab5df3593",
       "version_major": 2,
       "version_minor": 0
      },
      "text/plain": [
       "Checkbox(value=False, description='Temporary slab supports provided for such slabs See BDM 310.1.2', indent=Fa…"
      ]
     },
     "metadata": {},
     "output_type": "display_data"
    },
    {
     "data": {
      "application/vnd.jupyter.widget-view+json": {
       "model_id": "364a28756be544efbee18381e113c26a",
       "version_major": 2,
       "version_minor": 0
      },
      "text/plain": [
       "Checkbox(value=False, description='Both stages of slab bridges supported by false work until second stage slab…"
      ]
     },
     "metadata": {},
     "output_type": "display_data"
    }
   ],
   "source": [
    "# Function to display the \"slab_bridges\" section\n",
    "def display_slab_bridges():\n",
    "    header = widgets.HTML(\"<b><u>Slab Bridges</u></b>\")\n",
    "    display(header)\n",
    "    checkboxes = []\n",
    "    for criterion in slab_bridges_criteria:\n",
    "        label = criterion[\"label\"]\n",
    "        # Append \"See BDM {section}\" if \"section\" field exists\n",
    "        if \"section\" in criterion:\n",
    "            label = f\"{label} See BDM {criterion['section']}\"\n",
    "        checkbox = widgets.Checkbox(\n",
    "            description=label,\n",
    "            value=False,\n",
    "            indent=False,\n",
    "            layout=widgets.Layout(width='100%', margin='6px 0 0 0px')\n",
    "        )\n",
    "        checkbox.style = {'description_width': '0px'}\n",
    "        checkboxes.append(checkbox)\n",
    "        display(checkbox)\n",
    "\n",
    "# Display the \"slab_bridges\" section\n",
    "display_slab_bridges()"
   ]
  },
  {
   "cell_type": "markdown",
   "id": "3a4a3f1f-16ee-4c37-9326-6d3d8c872ca0",
   "metadata": {},
   "source": [
    "## Lateral Restraint"
   ]
  },
  {
   "cell_type": "code",
   "execution_count": 51,
   "id": "4fd3df5d-94cb-40cb-b7c3-4f615f13e122",
   "metadata": {},
   "outputs": [],
   "source": [
    "# Define the lateral_restraint criteria\n",
    "lateral_restraint_criteria = [\n",
    "    {\"label\": \"Temporary lateral restraint provided to prevent rotational movement of the first stage superstructures of semi-integral bridges towards the unrestrained (no guide bearing) acute corners at stage construction joints?\"},\n",
    "    {\"label\": \"For re-decking an existing structure without a closure section, a deck slab placement procedure provided requiring relatively complete second stage deck placement before placement of second stage integral end-diaphragms?\"},\n",
    "    {\"label\": \"Semi-Integral Abutment Diaphragm Guide provided as per standard drawing SICD-2-14.\"}\n",
    "]"
   ]
  },
  {
   "cell_type": "code",
   "execution_count": 52,
   "id": "6b4152b5-5e40-4d83-a750-fc15ce8682a2",
   "metadata": {},
   "outputs": [
    {
     "data": {
      "application/vnd.jupyter.widget-view+json": {
       "model_id": "08a532d36f7246c2bd5d795a1a24e0ea",
       "version_major": 2,
       "version_minor": 0
      },
      "text/plain": [
       "HTML(value='<b><u>Lateral Restraint</u></b>')"
      ]
     },
     "metadata": {},
     "output_type": "display_data"
    },
    {
     "data": {
      "application/vnd.jupyter.widget-view+json": {
       "model_id": "82df2407502c41d4b18614e62e72c0f6",
       "version_major": 2,
       "version_minor": 0
      },
      "text/plain": [
       "Checkbox(value=False, description='Temporary lateral restraint provided to prevent rotational movement of the …"
      ]
     },
     "metadata": {},
     "output_type": "display_data"
    },
    {
     "data": {
      "application/vnd.jupyter.widget-view+json": {
       "model_id": "176270e6f9dc4ada8723c2598a1d3f58",
       "version_major": 2,
       "version_minor": 0
      },
      "text/plain": [
       "Checkbox(value=False, description='For re-decking an existing structure without a closure section, a deck slab…"
      ]
     },
     "metadata": {},
     "output_type": "display_data"
    },
    {
     "data": {
      "application/vnd.jupyter.widget-view+json": {
       "model_id": "5b6b66f57d4941eba80741b9a320f361",
       "version_major": 2,
       "version_minor": 0
      },
      "text/plain": [
       "Checkbox(value=False, description='Semi-Integral Abutment Diaphragm Guide provided as per standard drawing SIC…"
      ]
     },
     "metadata": {},
     "output_type": "display_data"
    }
   ],
   "source": [
    "# Function to display the \"lateral_restraint\" section\n",
    "def display_lateral_restraint():\n",
    "    header = widgets.HTML(\"<b><u>Lateral Restraint</u></b>\")\n",
    "    display(header)\n",
    "    checkboxes = []\n",
    "    for criterion in lateral_restraint_criteria:\n",
    "        label = criterion[\"label\"]\n",
    "        # Since no \"section\" exists, we use the label as-is\n",
    "        checkbox = widgets.Checkbox(\n",
    "            description=label,\n",
    "            value=False,\n",
    "            indent=False,\n",
    "            layout=widgets.Layout(width='100%', margin='6px 0 0 0px')\n",
    "        )\n",
    "        checkbox.style = {'description_width': '0px'}\n",
    "        checkboxes.append(checkbox)\n",
    "        display(checkbox)\n",
    "\n",
    "# Display the \"lateral_restraint\" section\n",
    "display_lateral_restraint()"
   ]
  },
  {
   "cell_type": "markdown",
   "id": "5265ac43-c921-4728-ba4a-59692e181abd",
   "metadata": {},
   "source": [
    "## End Dams"
   ]
  },
  {
   "cell_type": "code",
   "execution_count": 53,
   "id": "0263cbbc-a7a5-455f-80ac-22bfe7ba1f61",
   "metadata": {},
   "outputs": [],
   "source": [
    "# Define the end_dams criteria\n",
    "end_dams_criteria = [\n",
    "    {\"label\": \"Full penetration butt-welded field splices provided at or near stage construction joints for superstructure portion of the end dams?\"},\n",
    "    {\"label\": \"Bolted field splices provided for the abutment portion?\"},\n",
    "    {\"label\": \"Offset between the two splices provided to facilitate butt-welding?\"},\n",
    "    {\"label\": \"Superstructure splice located to clear beam flanges and cross frames gusset plates?\"}\n",
    "]"
   ]
  },
  {
   "cell_type": "code",
   "execution_count": 54,
   "id": "0128cb3f-30d3-49c7-ab04-6fb7c45d4b48",
   "metadata": {},
   "outputs": [
    {
     "data": {
      "application/vnd.jupyter.widget-view+json": {
       "model_id": "a907607e6bfc4586b235518f75387a1e",
       "version_major": 2,
       "version_minor": 0
      },
      "text/plain": [
       "HTML(value='<b><u>End Dams</u></b>')"
      ]
     },
     "metadata": {},
     "output_type": "display_data"
    },
    {
     "data": {
      "application/vnd.jupyter.widget-view+json": {
       "model_id": "ff1cdc70c4554985bfe5a93b9aabb142",
       "version_major": 2,
       "version_minor": 0
      },
      "text/plain": [
       "Checkbox(value=False, description='Full penetration butt-welded field splices provided at or near stage constr…"
      ]
     },
     "metadata": {},
     "output_type": "display_data"
    },
    {
     "data": {
      "application/vnd.jupyter.widget-view+json": {
       "model_id": "47389f6d88b04629a243c2a1c6f3d77f",
       "version_major": 2,
       "version_minor": 0
      },
      "text/plain": [
       "Checkbox(value=False, description='Bolted field splices provided for the abutment portion?', indent=False, lay…"
      ]
     },
     "metadata": {},
     "output_type": "display_data"
    },
    {
     "data": {
      "application/vnd.jupyter.widget-view+json": {
       "model_id": "c7b24c550a4b4a5491489d5e84f34c3a",
       "version_major": 2,
       "version_minor": 0
      },
      "text/plain": [
       "Checkbox(value=False, description='Offset between the two splices provided to facilitate butt-welding?', inden…"
      ]
     },
     "metadata": {},
     "output_type": "display_data"
    },
    {
     "data": {
      "application/vnd.jupyter.widget-view+json": {
       "model_id": "5acc62cb42f34b38b90f017966a7d50b",
       "version_major": 2,
       "version_minor": 0
      },
      "text/plain": [
       "Checkbox(value=False, description='Superstructure splice located to clear beam flanges and cross frames gusset…"
      ]
     },
     "metadata": {},
     "output_type": "display_data"
    }
   ],
   "source": [
    "# Function to display the \"end_dams\" section\n",
    "def display_end_dams():\n",
    "    header = widgets.HTML(\"<b><u>End Dams</u></b>\")\n",
    "    display(header)\n",
    "    checkboxes = []\n",
    "    for criterion in end_dams_criteria:\n",
    "        label = criterion[\"label\"]\n",
    "        # Display the label directly as no \"section\" field exists\n",
    "        checkbox = widgets.Checkbox(\n",
    "            description=label,\n",
    "            value=False,\n",
    "            indent=False,\n",
    "            layout=widgets.Layout(width='100%', margin='6px 0 0 0px')\n",
    "        )\n",
    "        checkbox.style = {'description_width': '0px'}\n",
    "        checkboxes.append(checkbox)\n",
    "        display(checkbox)\n",
    "\n",
    "# Display the \"end_dams\" section\n",
    "display_end_dams()"
   ]
  },
  {
   "cell_type": "markdown",
   "id": "95d76f1e-97b1-4fff-ba34-6c758b37e30f",
   "metadata": {},
   "source": [
    "## Stage Construction - Miscellaneous"
   ]
  },
  {
   "cell_type": "code",
   "execution_count": 56,
   "id": "d918f9d0-a0df-4f9d-91d0-14fd90f29bd7",
   "metadata": {},
   "outputs": [],
   "source": [
    "# Define the stage_cons_misc criteria\n",
    "stage_cons_misc_criteria = [\n",
    "    {\"label\": \"Removal limits clearly shown or are apparent? Cross-hatching used to designate removal areas?\"},\n",
    "    {\"label\": \"Removal Cut lines: Full-depth saw cut-lines specified for deck slab removals where the integrity of the slab is needed to support temporary railing? Cut-lines shown on plan and/or elevation views of substructure?\", \"section\": \"201.2.6\"},\n",
    "    {\"label\": \"Construction Access: Adequate space provided between Stage 1 construction and the remainder of the existing structure for temporary sheeting and form construction?\"},\n",
    "    {\"label\": \"Closure Placements: 2'-6\\\" minimum wide third stage closure section provided for “new\\\" stringer superstructures?\", \"section\": \"309.3.8.5\"},\n",
    "    {\"label\": \"Are stage construction joints shown in all relevant views?\"},\n",
    "    {\"label\": \"Cofferdam Sheeting: Vertical clearance available under 20 + feet) and/or adjacent to the existing structure to permit driving sheeting? Plan details shown tentative position of such sheeting where clearances are tight?\"},\n",
    "    {\"label\": \"Provisions made for the complete or partial removal of temporary railing anchors and the grouting of resulting voids?\"},\n",
    "    {\"label\": \"Roadway Item 614: Note provided referring to roadway plans for other temporary railing details and to Item 614 (roadway plans) for payment?\"},\n",
    "    {\"label\": \"Approach slab details provided showing the same railing type as used on the bridge and with the same limiting edge clearances and/or anchorage (unless a different type of anchorage has been provided)?\"},\n",
    "    {\"label\": \"Joint Type: An expansion or contraction joint used in lieu of a stage \\\"construction\\\" joint to simplify construction by eliminated lap splicing or mechanical connector splicing of reinforcing steel, where appropriate? (Abutment back walls, breast walls and certain pier walls, etc.)\"},\n",
    "    {\"label\": \"Differential Shear: Vertical construction joints provided with shear keys and generous transverse reinforcement to resist the potentially high shear forces induced by differential deformation of foundations (piles, soil, etc.)? Formed joint surfaces artificially roughened to improve shear resistance\", \"section\": \"LRFD 5.8.4\"},\n",
    "    {\"label\": \"Battered Piles: Room adjacent to the existing structure to drive piles? Batter piles? New piles clear existing battered piles? Sufficient room available for pile length and leads to position batter piles for driving?\"},\n",
    "    {\"label\": \"Screed Elevations: The presence or absence of cross frames at stage construction joints on stringer deflection taken into account when establishing screed elevations at stage construction joints.\"},\n",
    "    {\"label\": \"Integral Construction: Closure sections provided in bridges for both the deck slab and integral end-diaphragms?\", \"section\": \"306.2.2.5\"},\n",
    "    {\"label\": \"Elastomer Seals: Note provided requiring seals for each joint to be installed in one continuous piece?\"},\n",
    "    {\"label\": \"Drain Pipes: Abut porous backfill drain pipes terminated and capped on both sides of temporary sheeting?\"},\n",
    "    {\"label\": \"Utility conduits located clear of stage construction joints and temporary sheeting?\"},\n",
    "    {\"label\": \"The design for adhesive concrete anchors shall be in accordance with AASHTO LRFD Section 513.\"}\n",
    "]"
   ]
  },
  {
   "cell_type": "code",
   "execution_count": 57,
   "id": "550bf145-9387-41b5-8229-f31f8f35d4f7",
   "metadata": {},
   "outputs": [
    {
     "data": {
      "application/vnd.jupyter.widget-view+json": {
       "model_id": "3882f9ed2b5848f6a57d47161fd977c1",
       "version_major": 2,
       "version_minor": 0
      },
      "text/plain": [
       "HTML(value='<b><u>Stage Construction: Miscellaneous</u></b>')"
      ]
     },
     "metadata": {},
     "output_type": "display_data"
    },
    {
     "data": {
      "application/vnd.jupyter.widget-view+json": {
       "model_id": "4e1e36a77fb3432f88bd3c58288206df",
       "version_major": 2,
       "version_minor": 0
      },
      "text/plain": [
       "Checkbox(value=False, description='Removal limits clearly shown or are apparent? Cross-hatching used to design…"
      ]
     },
     "metadata": {},
     "output_type": "display_data"
    },
    {
     "data": {
      "application/vnd.jupyter.widget-view+json": {
       "model_id": "8a7968b5089d40179b71db42604661bf",
       "version_major": 2,
       "version_minor": 0
      },
      "text/plain": [
       "Checkbox(value=False, description='Removal Cut lines: Full-depth saw cut-lines specified for deck slab removal…"
      ]
     },
     "metadata": {},
     "output_type": "display_data"
    },
    {
     "data": {
      "application/vnd.jupyter.widget-view+json": {
       "model_id": "47428ca94740422a8f3a062b2054e210",
       "version_major": 2,
       "version_minor": 0
      },
      "text/plain": [
       "Checkbox(value=False, description='Construction Access: Adequate space provided between Stage 1 construction a…"
      ]
     },
     "metadata": {},
     "output_type": "display_data"
    },
    {
     "data": {
      "application/vnd.jupyter.widget-view+json": {
       "model_id": "e0eb93a353f748e99851c31304ff79d4",
       "version_major": 2,
       "version_minor": 0
      },
      "text/plain": [
       "Checkbox(value=False, description='Closure Placements: 2\\'-6\" minimum wide third stage closure section provide…"
      ]
     },
     "metadata": {},
     "output_type": "display_data"
    },
    {
     "data": {
      "application/vnd.jupyter.widget-view+json": {
       "model_id": "0840f3ab8d864357b5a75aae2aeb671e",
       "version_major": 2,
       "version_minor": 0
      },
      "text/plain": [
       "Checkbox(value=False, description='Are stage construction joints shown in all relevant views?', indent=False, …"
      ]
     },
     "metadata": {},
     "output_type": "display_data"
    },
    {
     "data": {
      "application/vnd.jupyter.widget-view+json": {
       "model_id": "21fc9db176404fb785c2f33a8eb3dfb3",
       "version_major": 2,
       "version_minor": 0
      },
      "text/plain": [
       "Checkbox(value=False, description='Cofferdam Sheeting: Vertical clearance available under 20 + feet) and/or ad…"
      ]
     },
     "metadata": {},
     "output_type": "display_data"
    },
    {
     "data": {
      "application/vnd.jupyter.widget-view+json": {
       "model_id": "a4692b19e9e94b42b81ae8ac726c1727",
       "version_major": 2,
       "version_minor": 0
      },
      "text/plain": [
       "Checkbox(value=False, description='Provisions made for the complete or partial removal of temporary railing an…"
      ]
     },
     "metadata": {},
     "output_type": "display_data"
    },
    {
     "data": {
      "application/vnd.jupyter.widget-view+json": {
       "model_id": "d7a8fdf9659f41b28567d97f4b51a065",
       "version_major": 2,
       "version_minor": 0
      },
      "text/plain": [
       "Checkbox(value=False, description='Roadway Item 614: Note provided referring to roadway plans for other tempor…"
      ]
     },
     "metadata": {},
     "output_type": "display_data"
    },
    {
     "data": {
      "application/vnd.jupyter.widget-view+json": {
       "model_id": "c2c8cc19effd4100913b21b2ba362a51",
       "version_major": 2,
       "version_minor": 0
      },
      "text/plain": [
       "Checkbox(value=False, description='Approach slab details provided showing the same railing type as used on the…"
      ]
     },
     "metadata": {},
     "output_type": "display_data"
    },
    {
     "data": {
      "application/vnd.jupyter.widget-view+json": {
       "model_id": "b2ffa6beb94c4ab78dfb22c9a68fa408",
       "version_major": 2,
       "version_minor": 0
      },
      "text/plain": [
       "Checkbox(value=False, description='Joint Type: An expansion or contraction joint used in lieu of a stage \"cons…"
      ]
     },
     "metadata": {},
     "output_type": "display_data"
    },
    {
     "data": {
      "application/vnd.jupyter.widget-view+json": {
       "model_id": "5cbbcbdc0e854ced889f9a3e621fb9c8",
       "version_major": 2,
       "version_minor": 0
      },
      "text/plain": [
       "Checkbox(value=False, description='Differential Shear: Vertical construction joints provided with shear keys a…"
      ]
     },
     "metadata": {},
     "output_type": "display_data"
    },
    {
     "data": {
      "application/vnd.jupyter.widget-view+json": {
       "model_id": "840c6a4b788c43ce96af2917c1d26e98",
       "version_major": 2,
       "version_minor": 0
      },
      "text/plain": [
       "Checkbox(value=False, description='Battered Piles: Room adjacent to the existing structure to drive piles? Bat…"
      ]
     },
     "metadata": {},
     "output_type": "display_data"
    },
    {
     "data": {
      "application/vnd.jupyter.widget-view+json": {
       "model_id": "cddebc1e7f634ae098cb28460de07ea6",
       "version_major": 2,
       "version_minor": 0
      },
      "text/plain": [
       "Checkbox(value=False, description='Screed Elevations: The presence or absence of cross frames at stage constru…"
      ]
     },
     "metadata": {},
     "output_type": "display_data"
    },
    {
     "data": {
      "application/vnd.jupyter.widget-view+json": {
       "model_id": "6068d32cdc594c0bb0bbc1d51dfb83a4",
       "version_major": 2,
       "version_minor": 0
      },
      "text/plain": [
       "Checkbox(value=False, description='Integral Construction: Closure sections provided in bridges for both the de…"
      ]
     },
     "metadata": {},
     "output_type": "display_data"
    },
    {
     "data": {
      "application/vnd.jupyter.widget-view+json": {
       "model_id": "72c6bfa698b641a7b8714f45e1bbba54",
       "version_major": 2,
       "version_minor": 0
      },
      "text/plain": [
       "Checkbox(value=False, description='Elastomer Seals: Note provided requiring seals for each joint to be install…"
      ]
     },
     "metadata": {},
     "output_type": "display_data"
    },
    {
     "data": {
      "application/vnd.jupyter.widget-view+json": {
       "model_id": "702cefabf3e44683ab228216ee023ac0",
       "version_major": 2,
       "version_minor": 0
      },
      "text/plain": [
       "Checkbox(value=False, description='Drain Pipes: Abut porous backfill drain pipes terminated and capped on both…"
      ]
     },
     "metadata": {},
     "output_type": "display_data"
    },
    {
     "data": {
      "application/vnd.jupyter.widget-view+json": {
       "model_id": "dc16aee13ee84bd28acf4c17ae23e1e7",
       "version_major": 2,
       "version_minor": 0
      },
      "text/plain": [
       "Checkbox(value=False, description='Utility conduits located clear of stage construction joints and temporary s…"
      ]
     },
     "metadata": {},
     "output_type": "display_data"
    },
    {
     "data": {
      "application/vnd.jupyter.widget-view+json": {
       "model_id": "a1e670776c39441b9a95be66cfd8bc9d",
       "version_major": 2,
       "version_minor": 0
      },
      "text/plain": [
       "Checkbox(value=False, description='The design for adhesive concrete anchors shall be in accordance with AASHTO…"
      ]
     },
     "metadata": {},
     "output_type": "display_data"
    }
   ],
   "source": [
    "# Function to display the \"stage_cons_misc\" section\n",
    "def display_stage_cons_misc():\n",
    "    header = widgets.HTML(\"<b><u>Stage Construction: Miscellaneous</u></b>\")\n",
    "    display(header)\n",
    "    checkboxes = []\n",
    "    for criterion in stage_cons_misc_criteria:\n",
    "        label = criterion[\"label\"]\n",
    "        # Append \"See BDM {section}\" if \"section\" field exists\n",
    "        if \"section\" in criterion:\n",
    "            label = f\"{label} See BDM {criterion['section']}\"\n",
    "        checkbox = widgets.Checkbox(\n",
    "            description=label,\n",
    "            value=False,\n",
    "            indent=False,\n",
    "            layout=widgets.Layout(width='100%', margin='6px 0 0 0px')\n",
    "        )\n",
    "        checkbox.style = {'description_width': '0px'}\n",
    "        checkboxes.append(checkbox)\n",
    "        display(checkbox)\n",
    "\n",
    "# Display the \"stage_cons_misc\" section\n",
    "display_stage_cons_misc()"
   ]
  },
  {
   "cell_type": "markdown",
   "id": "611e7124-52d5-4d88-84f9-b0d79976d5a5",
   "metadata": {},
   "source": [
    "# Superstructure"
   ]
  },
  {
   "cell_type": "markdown",
   "id": "7a5e2919-ce4c-425d-a020-9ee2533acdf6",
   "metadata": {},
   "source": [
    "## Slab"
   ]
  },
  {
   "cell_type": "code",
   "execution_count": 58,
   "id": "e2fa3af8-afa5-4ebc-b0a7-c6c5d2cbbd28",
   "metadata": {},
   "outputs": [],
   "source": [
    "# Define the slab criteria\n",
    "slab_criteria = [\n",
    "    {\"label\": \"Sealing of concrete surfaces shown and appropriate?\", \"section\": \"306.1.2\"},\n",
    "    {\"label\": \"Stainless steel drip strip provided on decks with over-the-side drainage?\", \"section\": \"309.2 and 309.7\"},\n",
    "    {\"label\": \"Verify reinforcing steel accommodate HL-93 loading.\"},\n",
    "    {\"label\": \"Lap lengths to other bars.\"},\n",
    "    {\"label\": \"Centerline of bearing stations\"},\n",
    "    {\"label\": \"Continuous Deck Slab Placement Detail.\", \"section\": \"ODOT STD. DWG. PSID-1-13\"}\n",
    "]"
   ]
  },
  {
   "cell_type": "code",
   "execution_count": 59,
   "id": "36642307-9f41-4029-aa54-3e355f978c6c",
   "metadata": {},
   "outputs": [
    {
     "data": {
      "application/vnd.jupyter.widget-view+json": {
       "model_id": "fa3a94cbf1584b7896962357aa7e55ca",
       "version_major": 2,
       "version_minor": 0
      },
      "text/plain": [
       "HTML(value='<b><u>Slab</u></b>')"
      ]
     },
     "metadata": {},
     "output_type": "display_data"
    },
    {
     "data": {
      "application/vnd.jupyter.widget-view+json": {
       "model_id": "40a9e0f3eb3943a58aa61f9212600ade",
       "version_major": 2,
       "version_minor": 0
      },
      "text/plain": [
       "Checkbox(value=False, description='Sealing of concrete surfaces shown and appropriate? See BDM 306.1.2', inden…"
      ]
     },
     "metadata": {},
     "output_type": "display_data"
    },
    {
     "data": {
      "application/vnd.jupyter.widget-view+json": {
       "model_id": "d87d4a6222fa4f1da4b3384cd86256f7",
       "version_major": 2,
       "version_minor": 0
      },
      "text/plain": [
       "Checkbox(value=False, description='Stainless steel drip strip provided on decks with over-the-side drainage? S…"
      ]
     },
     "metadata": {},
     "output_type": "display_data"
    },
    {
     "data": {
      "application/vnd.jupyter.widget-view+json": {
       "model_id": "7d108b093b244f96814252080c1ab84a",
       "version_major": 2,
       "version_minor": 0
      },
      "text/plain": [
       "Checkbox(value=False, description='Verify reinforcing steel accommodate HL-93 loading.', indent=False, layout=…"
      ]
     },
     "metadata": {},
     "output_type": "display_data"
    },
    {
     "data": {
      "application/vnd.jupyter.widget-view+json": {
       "model_id": "bfc3d9d6040f447db81640a900b16d5f",
       "version_major": 2,
       "version_minor": 0
      },
      "text/plain": [
       "Checkbox(value=False, description='Lap lengths to other bars.', indent=False, layout=Layout(margin='6px 0 0 0p…"
      ]
     },
     "metadata": {},
     "output_type": "display_data"
    },
    {
     "data": {
      "application/vnd.jupyter.widget-view+json": {
       "model_id": "165d05d74fd3453bb4b2d3358f9e377a",
       "version_major": 2,
       "version_minor": 0
      },
      "text/plain": [
       "Checkbox(value=False, description='Centerline of bearing stations', indent=False, layout=Layout(margin='6px 0 …"
      ]
     },
     "metadata": {},
     "output_type": "display_data"
    },
    {
     "data": {
      "application/vnd.jupyter.widget-view+json": {
       "model_id": "158c8031bfa7494ca0e71018cd06ffab",
       "version_major": 2,
       "version_minor": 0
      },
      "text/plain": [
       "Checkbox(value=False, description='Continuous Deck Slab Placement Detail. See BDM ODOT STD. DWG. PSID-1-13', i…"
      ]
     },
     "metadata": {},
     "output_type": "display_data"
    }
   ],
   "source": [
    "# Function to display the \"slab\" section\n",
    "def display_slab():\n",
    "    header = widgets.HTML(\"<b><u>Slab</u></b>\")\n",
    "    display(header)\n",
    "    checkboxes = []\n",
    "    for criterion in slab_criteria:\n",
    "        label = criterion[\"label\"]\n",
    "        # Append \"See BDM {section}\" if \"section\" field exists\n",
    "        if \"section\" in criterion:\n",
    "            label = f\"{label} See BDM {criterion['section']}\"\n",
    "        checkbox = widgets.Checkbox(\n",
    "            description=label,\n",
    "            value=False,\n",
    "            indent=False,\n",
    "            layout=widgets.Layout(width='100%', margin='6px 0 0 0px')\n",
    "        )\n",
    "        checkbox.style = {'description_width': '0px'}\n",
    "        checkboxes.append(checkbox)\n",
    "        display(checkbox)\n",
    "\n",
    "# Display the \"slab\" section\n",
    "display_slab()"
   ]
  },
  {
   "cell_type": "markdown",
   "id": "f4874226-f2c2-454d-baa0-8086380f5cca",
   "metadata": {},
   "source": [
    "## Prestressed Concrete Box Beams"
   ]
  },
  {
   "cell_type": "code",
   "execution_count": 60,
   "id": "06f323db-dcc3-44a1-b785-f004e08a8093",
   "metadata": {},
   "outputs": [],
   "source": [
    "# Define the prestressed_concrete_box criteria\n",
    "prestressed_concrete_box_criteria = [\n",
    "    {\"label\": \"For multiple span bridges, has the superstructure been detailed as continuous as per Standard Drawing PSBD-2-07?\", \"section\": \"308.2.3.3\"},\n",
    "    {\"label\": \"Multiple span bridges of less than 200-foot total length with flexible piers and abutments fixed at all substructure units?\"},\n",
    "    {\"label\": \"Standard Drawings PSBD-2-07 has been reviewed and items required by it provided? It is not intended that details and notes shown on the Standard Drawing be repeated unnecessarily.\"},\n",
    "    {\"label\": \"All beams anchored?\", \"section\": \"308.2.3.3f\"},\n",
    "    {\"label\": \"Membrane waterproofing (Type 3) used on all non-composite box beam Bridge?\", \"section\": \"308.2.3.3d\"},\n",
    "    {\"label\": \"For bridge with poured sealant joints, has waterproofing been extended 2 feet past the bridge limits?\", \"section\": \"CMS 512.08H\"},\n",
    "    {\"label\": \"Two-inch spacing or multiple thereof provided between strands? If space permits, place all strands in bottom row.\", \"section\": \"302.5.1.2.b\"},\n",
    "    {\"label\": \"Location, length, and number of debonded strands shown?\", \"section\": \"308.2.3.4a\"},\n",
    "    {\"label\": \"Additional strand debonding and supplemental mild reinforcing steel provided at beam ends for skews over 30 degrees? Limit box beam to 30-degree skew or less except rare occasions approved by Office of Structural Engineering.\"},\n",
    "    {\"label\": \"Strands and rebars miss anchor, diaphragm, and bearing rod holes? Are there any conflicts between strands, rebars, tie-rod holes, beam anchor rod holes, rail post anchors, joint armor, etc.?\", \"section\": \"PSBD-2-07\"},\n",
    "    {\"label\": \"PEJF specified as grout retainer at dowels and under beam connection at piers?\", \"section\": \"Standard Drawing PSBD-2-07\"},\n",
    "    {\"label\": \"Two bearings provided for each box beam?\", \"section\": \"308.2.3.3\"},\n",
    "    {\"label\": \"Proper camber/wearing surface notes used?\", \"section\": \"702.7\"},\n",
    "    {\"label\": \"Wearing surface/composite topping thickness diagram shown?\", \"section\": \"308.2.3.4b\"},\n",
    "    {\"label\": \"If over-the-side drainage will occur, has a drip strip been specified? Reference should be made to Standard Drawing DS-1-92.\"},\n",
    "    {\"label\": \"Sealing of concrete surfaces provided as directed in\", \"section\": \"309.2.1.D\"},\n",
    "    {\"label\": \"Shear key mortar finishing detail shown? (Not required for composite concrete decks)\", \"section\": \"PSBD-2-07\"},\n",
    "    {\"label\": \"Sufficient dimensions furnished for the beam fabricator to locate the railing post anchors? Have location of inserts for stage construction temporary railing shown? Has conflict between post anchors and tie rods and/or T-section been avoided?\", \"section\": \"308.2.3.3\"},\n",
    "    {\"label\": \"Proper allowances for fit-up between beams accounted for and shown?\", \"section\": \"308.2.3.3\"},\n",
    "    {\"label\": \"Maximum of three beams tied together by one tie-rod?\", \"section\": \"PSBD-2-07\"},\n",
    "    {\"label\": \"Transverse tie-rods provided at abutment ends and located per\", \"section\": \"308.2.3.3g\"},\n",
    "    {\"label\": \"For non-composite design, is asphalt thickness 8 inches or less?\", \"section\": \"308.2.3\"},\n",
    "    {\"label\": \"For multiple span bridges, has the same beam depth been specified for all spans?\", \"section\": \"308.2.3\"},\n",
    "    {\"label\": \"For beams greater than 100 ft. long, for concrete release strength greater than 5 ksi, and for 28 days concrete strength greater than 7 ksi, provide a letter per\", \"section\": \"308.2.3\"},\n",
    "    {\"label\": \"Strand location and clearance consistent with PSBD-2-07.\"},\n",
    "    {\"label\": \"Diaphragms and tie rods located\", \"section\": \"308.2.3.3g\"},\n",
    "    {\"label\": \"For composite box beams, six-inch minimum slab thickness specified?\", \"section\": \"308.2.3.3.c\"},\n",
    "    {\"label\": \"No. 6 at 18 inches longitudinal and No. 6 at 9 inches transverse bars specified\", \"section\": \"308.2.3.3.c\"},\n",
    "    {\"label\": \"Additional bars over piers specified to meet the requirements of\", \"section\": \"308.2.3.3.c and LRFD 5.10.8.1.2c\"},\n",
    "    {\"label\": \"Epoxy coated bars (Grade 60) specified in the composite slab?\", \"section\": \"304.4\"},\n",
    "    {\"label\": \"Bars projecting from beam into composite slab specified as epoxy coated?\", \"section\": \"304.4\"},\n",
    "    {\"label\": \"Construction joint shown between the cast-in-place 'T' section at piers and the composite slab?\"},\n",
    "    {\"label\": \"The effect that the longitudinal grade has on dimensions measured along a beam’s length addressed in the plans?\", \"section\": \"308.2.3.2\"},\n",
    "    {\"label\": \"Verify that design uses severe corrosive factor as per Section S.5.9.2.3.2b by changing the design parameter in Conspan. The limiting stress factor for tension (service III) should be .0948 instead of 0.19.\"}\n",
    "]"
   ]
  },
  {
   "cell_type": "code",
   "execution_count": 61,
   "id": "dbecedf0-64a5-4ff3-8d1f-ca053e27dd97",
   "metadata": {},
   "outputs": [
    {
     "data": {
      "application/vnd.jupyter.widget-view+json": {
       "model_id": "c085d64ab2ac457da58e6d0ff99827a0",
       "version_major": 2,
       "version_minor": 0
      },
      "text/plain": [
       "HTML(value='<b><u>Prestressed Concrete Box</u></b>')"
      ]
     },
     "metadata": {},
     "output_type": "display_data"
    },
    {
     "data": {
      "application/vnd.jupyter.widget-view+json": {
       "model_id": "b88e86b94c3f405785c4bb629cb48752",
       "version_major": 2,
       "version_minor": 0
      },
      "text/plain": [
       "Checkbox(value=False, description='For multiple span bridges, has the superstructure been detailed as continuo…"
      ]
     },
     "metadata": {},
     "output_type": "display_data"
    },
    {
     "data": {
      "application/vnd.jupyter.widget-view+json": {
       "model_id": "af330b83fdf74dbb977bbdefa6612d26",
       "version_major": 2,
       "version_minor": 0
      },
      "text/plain": [
       "Checkbox(value=False, description='Multiple span bridges of less than 200-foot total length with flexible pier…"
      ]
     },
     "metadata": {},
     "output_type": "display_data"
    },
    {
     "data": {
      "application/vnd.jupyter.widget-view+json": {
       "model_id": "827d393003b84fd3b4c24fa32f830afd",
       "version_major": 2,
       "version_minor": 0
      },
      "text/plain": [
       "Checkbox(value=False, description='Standard Drawings PSBD-2-07 has been reviewed and items required by it prov…"
      ]
     },
     "metadata": {},
     "output_type": "display_data"
    },
    {
     "data": {
      "application/vnd.jupyter.widget-view+json": {
       "model_id": "dbd571a45e134426affcfd9d47470739",
       "version_major": 2,
       "version_minor": 0
      },
      "text/plain": [
       "Checkbox(value=False, description='All beams anchored? See BDM 308.2.3.3f', indent=False, layout=Layout(margin…"
      ]
     },
     "metadata": {},
     "output_type": "display_data"
    },
    {
     "data": {
      "application/vnd.jupyter.widget-view+json": {
       "model_id": "2f89e250c57741f29faf4ebba34b2e14",
       "version_major": 2,
       "version_minor": 0
      },
      "text/plain": [
       "Checkbox(value=False, description='Membrane waterproofing (Type 3) used on all non-composite box beam Bridge? …"
      ]
     },
     "metadata": {},
     "output_type": "display_data"
    },
    {
     "data": {
      "application/vnd.jupyter.widget-view+json": {
       "model_id": "87f0efce1f4b4827868e5570672516a6",
       "version_major": 2,
       "version_minor": 0
      },
      "text/plain": [
       "Checkbox(value=False, description='For bridge with poured sealant joints, has waterproofing been extended 2 fe…"
      ]
     },
     "metadata": {},
     "output_type": "display_data"
    },
    {
     "data": {
      "application/vnd.jupyter.widget-view+json": {
       "model_id": "ab12f0dfb2f945fbbefbaef0bc8b8af5",
       "version_major": 2,
       "version_minor": 0
      },
      "text/plain": [
       "Checkbox(value=False, description='Two-inch spacing or multiple thereof provided between strands? If space per…"
      ]
     },
     "metadata": {},
     "output_type": "display_data"
    },
    {
     "data": {
      "application/vnd.jupyter.widget-view+json": {
       "model_id": "0000e10017c6444aa5d6c34b8a6d3de8",
       "version_major": 2,
       "version_minor": 0
      },
      "text/plain": [
       "Checkbox(value=False, description='Location, length, and number of debonded strands shown? See BDM 308.2.3.4a'…"
      ]
     },
     "metadata": {},
     "output_type": "display_data"
    },
    {
     "data": {
      "application/vnd.jupyter.widget-view+json": {
       "model_id": "30f4e2c814464436a7855793f879fa4c",
       "version_major": 2,
       "version_minor": 0
      },
      "text/plain": [
       "Checkbox(value=False, description='Additional strand debonding and supplemental mild reinforcing steel provide…"
      ]
     },
     "metadata": {},
     "output_type": "display_data"
    },
    {
     "data": {
      "application/vnd.jupyter.widget-view+json": {
       "model_id": "c0f55a7630354623acb78a325f99a034",
       "version_major": 2,
       "version_minor": 0
      },
      "text/plain": [
       "Checkbox(value=False, description='Strands and rebars miss anchor, diaphragm, and bearing rod holes? Are there…"
      ]
     },
     "metadata": {},
     "output_type": "display_data"
    },
    {
     "data": {
      "application/vnd.jupyter.widget-view+json": {
       "model_id": "9b44d5967b834df0832f679613b6f65c",
       "version_major": 2,
       "version_minor": 0
      },
      "text/plain": [
       "Checkbox(value=False, description='PEJF specified as grout retainer at dowels and under beam connection at pie…"
      ]
     },
     "metadata": {},
     "output_type": "display_data"
    },
    {
     "data": {
      "application/vnd.jupyter.widget-view+json": {
       "model_id": "1a7aa74f08544f5b83d944fbda06e05d",
       "version_major": 2,
       "version_minor": 0
      },
      "text/plain": [
       "Checkbox(value=False, description='Two bearings provided for each box beam? See BDM 308.2.3.3', indent=False, …"
      ]
     },
     "metadata": {},
     "output_type": "display_data"
    },
    {
     "data": {
      "application/vnd.jupyter.widget-view+json": {
       "model_id": "48ca19389ce54b63912a0817d9385e75",
       "version_major": 2,
       "version_minor": 0
      },
      "text/plain": [
       "Checkbox(value=False, description='Proper camber/wearing surface notes used? See BDM 702.7', indent=False, lay…"
      ]
     },
     "metadata": {},
     "output_type": "display_data"
    },
    {
     "data": {
      "application/vnd.jupyter.widget-view+json": {
       "model_id": "c482da266bb9467d90ae205d0617d159",
       "version_major": 2,
       "version_minor": 0
      },
      "text/plain": [
       "Checkbox(value=False, description='Wearing surface/composite topping thickness diagram shown? See BDM 308.2.3.…"
      ]
     },
     "metadata": {},
     "output_type": "display_data"
    },
    {
     "data": {
      "application/vnd.jupyter.widget-view+json": {
       "model_id": "06b8829a598d4e84bb67c2d578265f34",
       "version_major": 2,
       "version_minor": 0
      },
      "text/plain": [
       "Checkbox(value=False, description='If over-the-side drainage will occur, has a drip strip been specified? Refe…"
      ]
     },
     "metadata": {},
     "output_type": "display_data"
    },
    {
     "data": {
      "application/vnd.jupyter.widget-view+json": {
       "model_id": "183df5f5f133465f8ebc59c8c9736bf3",
       "version_major": 2,
       "version_minor": 0
      },
      "text/plain": [
       "Checkbox(value=False, description='Sealing of concrete surfaces provided as directed in See BDM 309.2.1.D', in…"
      ]
     },
     "metadata": {},
     "output_type": "display_data"
    },
    {
     "data": {
      "application/vnd.jupyter.widget-view+json": {
       "model_id": "7bdc5bff6cbb49d9bb1142dd35c52cca",
       "version_major": 2,
       "version_minor": 0
      },
      "text/plain": [
       "Checkbox(value=False, description='Shear key mortar finishing detail shown? (Not required for composite concre…"
      ]
     },
     "metadata": {},
     "output_type": "display_data"
    },
    {
     "data": {
      "application/vnd.jupyter.widget-view+json": {
       "model_id": "38d9f2d68c9b4d10a27217a19f10c203",
       "version_major": 2,
       "version_minor": 0
      },
      "text/plain": [
       "Checkbox(value=False, description='Sufficient dimensions furnished for the beam fabricator to locate the raili…"
      ]
     },
     "metadata": {},
     "output_type": "display_data"
    },
    {
     "data": {
      "application/vnd.jupyter.widget-view+json": {
       "model_id": "7253d71eb0344021b893e8ecdbe1fee3",
       "version_major": 2,
       "version_minor": 0
      },
      "text/plain": [
       "Checkbox(value=False, description='Proper allowances for fit-up between beams accounted for and shown? See BDM…"
      ]
     },
     "metadata": {},
     "output_type": "display_data"
    },
    {
     "data": {
      "application/vnd.jupyter.widget-view+json": {
       "model_id": "27a7f60685d44e4ca6e61e52142a9673",
       "version_major": 2,
       "version_minor": 0
      },
      "text/plain": [
       "Checkbox(value=False, description='Maximum of three beams tied together by one tie-rod? See BDM PSBD-2-07', in…"
      ]
     },
     "metadata": {},
     "output_type": "display_data"
    },
    {
     "data": {
      "application/vnd.jupyter.widget-view+json": {
       "model_id": "5157010a06434f2eb2d662ce7d149848",
       "version_major": 2,
       "version_minor": 0
      },
      "text/plain": [
       "Checkbox(value=False, description='Transverse tie-rods provided at abutment ends and located per See BDM 308.2…"
      ]
     },
     "metadata": {},
     "output_type": "display_data"
    },
    {
     "data": {
      "application/vnd.jupyter.widget-view+json": {
       "model_id": "32434fc7127d41e78187bfa0354a2bc6",
       "version_major": 2,
       "version_minor": 0
      },
      "text/plain": [
       "Checkbox(value=False, description='For non-composite design, is asphalt thickness 8 inches or less? See BDM 30…"
      ]
     },
     "metadata": {},
     "output_type": "display_data"
    },
    {
     "data": {
      "application/vnd.jupyter.widget-view+json": {
       "model_id": "261dc5885efc41679cc3f994263a1f83",
       "version_major": 2,
       "version_minor": 0
      },
      "text/plain": [
       "Checkbox(value=False, description='For multiple span bridges, has the same beam depth been specified for all s…"
      ]
     },
     "metadata": {},
     "output_type": "display_data"
    },
    {
     "data": {
      "application/vnd.jupyter.widget-view+json": {
       "model_id": "c365e2e44d374c628b975ffb3fe29696",
       "version_major": 2,
       "version_minor": 0
      },
      "text/plain": [
       "Checkbox(value=False, description='For beams greater than 100 ft. long, for concrete release strength greater …"
      ]
     },
     "metadata": {},
     "output_type": "display_data"
    },
    {
     "data": {
      "application/vnd.jupyter.widget-view+json": {
       "model_id": "1284c0faacdd4dfe9740c95176e82cd4",
       "version_major": 2,
       "version_minor": 0
      },
      "text/plain": [
       "Checkbox(value=False, description='Strand location and clearance consistent with PSBD-2-07.', indent=False, la…"
      ]
     },
     "metadata": {},
     "output_type": "display_data"
    },
    {
     "data": {
      "application/vnd.jupyter.widget-view+json": {
       "model_id": "bce04d8c3ae54b95860eee53bd22f424",
       "version_major": 2,
       "version_minor": 0
      },
      "text/plain": [
       "Checkbox(value=False, description='Diaphragms and tie rods located See BDM 308.2.3.3g', indent=False, layout=L…"
      ]
     },
     "metadata": {},
     "output_type": "display_data"
    },
    {
     "data": {
      "application/vnd.jupyter.widget-view+json": {
       "model_id": "53992f78f6a04135a96632503f5a9301",
       "version_major": 2,
       "version_minor": 0
      },
      "text/plain": [
       "Checkbox(value=False, description='For composite box beams, six-inch minimum slab thickness specified? See BDM…"
      ]
     },
     "metadata": {},
     "output_type": "display_data"
    },
    {
     "data": {
      "application/vnd.jupyter.widget-view+json": {
       "model_id": "80f4049c428f46caa4058763db435a35",
       "version_major": 2,
       "version_minor": 0
      },
      "text/plain": [
       "Checkbox(value=False, description='No. 6 at 18 inches longitudinal and No. 6 at 9 inches transverse bars speci…"
      ]
     },
     "metadata": {},
     "output_type": "display_data"
    },
    {
     "data": {
      "application/vnd.jupyter.widget-view+json": {
       "model_id": "55aada941fb7402e8144cb1ed3e3ac74",
       "version_major": 2,
       "version_minor": 0
      },
      "text/plain": [
       "Checkbox(value=False, description='Additional bars over piers specified to meet the requirements of See BDM 30…"
      ]
     },
     "metadata": {},
     "output_type": "display_data"
    },
    {
     "data": {
      "application/vnd.jupyter.widget-view+json": {
       "model_id": "0f748fe1fd0145c69b739859fbf92311",
       "version_major": 2,
       "version_minor": 0
      },
      "text/plain": [
       "Checkbox(value=False, description='Epoxy coated bars (Grade 60) specified in the composite slab? See BDM 304.4…"
      ]
     },
     "metadata": {},
     "output_type": "display_data"
    },
    {
     "data": {
      "application/vnd.jupyter.widget-view+json": {
       "model_id": "1d5f484aa63244e4a9a9b2147b89adc4",
       "version_major": 2,
       "version_minor": 0
      },
      "text/plain": [
       "Checkbox(value=False, description='Bars projecting from beam into composite slab specified as epoxy coated? Se…"
      ]
     },
     "metadata": {},
     "output_type": "display_data"
    },
    {
     "data": {
      "application/vnd.jupyter.widget-view+json": {
       "model_id": "b0764fc9e2e34e6dbc329b4a46ceef07",
       "version_major": 2,
       "version_minor": 0
      },
      "text/plain": [
       "Checkbox(value=False, description=\"Construction joint shown between the cast-in-place 'T' section at piers and…"
      ]
     },
     "metadata": {},
     "output_type": "display_data"
    },
    {
     "data": {
      "application/vnd.jupyter.widget-view+json": {
       "model_id": "0f269b1b504b419fadf1a423d66e38aa",
       "version_major": 2,
       "version_minor": 0
      },
      "text/plain": [
       "Checkbox(value=False, description='The effect that the longitudinal grade has on dimensions measured along a b…"
      ]
     },
     "metadata": {},
     "output_type": "display_data"
    },
    {
     "data": {
      "application/vnd.jupyter.widget-view+json": {
       "model_id": "50779d12c4004cddab71c67c13fe431d",
       "version_major": 2,
       "version_minor": 0
      },
      "text/plain": [
       "Checkbox(value=False, description='Verify that design uses severe corrosive factor as per Section S.5.9.2.3.2b…"
      ]
     },
     "metadata": {},
     "output_type": "display_data"
    }
   ],
   "source": [
    "# Function to display the \"prestressed_concrete_box\" section\n",
    "def display_prestressed_concrete_box():\n",
    "    header = widgets.HTML(\"<b><u>Prestressed Concrete Box</u></b>\")\n",
    "    display(header)\n",
    "    checkboxes = []\n",
    "    for criterion in prestressed_concrete_box_criteria:\n",
    "        label = criterion[\"label\"]\n",
    "        # Add \"See BDM {section}\" for items with a 'section' entry\n",
    "        if \"section\" in criterion:\n",
    "            label = f\"{label} See BDM {criterion['section']}\"\n",
    "        checkbox = widgets.Checkbox(\n",
    "            description=label,\n",
    "            value=False,\n",
    "            indent=False,\n",
    "            layout=widgets.Layout(width='100%', margin='6px 0 0 0px')\n",
    "        )\n",
    "        checkbox.style = {'description_width': '0px'}\n",
    "        checkboxes.append(checkbox)\n",
    "        display(checkbox)\n",
    "\n",
    "# Display the \"prestressed_concrete_box\" section\n",
    "display_prestressed_concrete_box()"
   ]
  },
  {
   "cell_type": "markdown",
   "id": "3e0360f6-c440-4bd8-b5d2-2d326f88b58c",
   "metadata": {},
   "source": [
    "## Prestressed Concrete I-Beams"
   ]
  },
  {
   "cell_type": "code",
   "execution_count": 62,
   "id": "67d802ad-b60f-492b-b6de-10f58169f0b4",
   "metadata": {},
   "outputs": [],
   "source": [
    "# Define the steel_stringers criteria\n",
    "steel_stringers_criteria = [\n",
    "    {\"label\": \"Are the proposed beam shapes per\", \"section\": \"308.2.3.4\"},\n",
    "    {\"label\": \"Low-relaxation, 270 ksi, 0.6-inch strands used? (Initial stress = 0.75 f’s)\", \"section\": \"304.5.1, 304.5.2\"},\n",
    "    {\"label\": \"Straight strands, debonded at ends if necessary, used? Draped strands should be provided as per\", \"section\": \"308.2.3.3.a 308.2.3.4.a.3\"},\n",
    "    {\"label\": \"No more than 25% of the total strands debonded?\", \"section\": \"302.5.2.2.h\"},\n",
    "    {\"label\": \"No more than 45% of the strands in any row debonded\", \"section\": \"302.5.2.2.d\"},\n",
    "    {\"label\": \"Number and spacing of debonded strands, and the length of debonding, shown?\", \"section\": \"302.5.2.2.d\"},\n",
    "    {\"label\": \"Strand location and spacing meet requirements of\", \"section\": \"308.2.3.3.b\"},\n",
    "    {\"label\": \"Initial prestressed loads shown in the plans\", \"section\": \"304.5.2\"},\n",
    "    {\"label\": \"Joint details appropriate? Details from Standard Drawings EXJ-6-06.\"},\n",
    "    {\"label\": \"Grade 60 mild reinforcing used?\", \"section\": \"304.4\"},\n",
    "    {\"label\": \"Bars projecting from I-beam been epoxy coated?\", \"section\": \"304.4\"},\n",
    "    {\"label\": \"Diaphragms placed at intervals not exceeding 40 feet\", \"section\": \"308.2.3.4.d\"},\n",
    "    {\"label\": \"Intermediate diaphragms do not make contact with the underside of the deck?\", \"section\": \"308.2.3.4.d\"},\n",
    "    {\"label\": \"End diaphragms make complete contact with the underside of the deck?\", \"section\": \"308.2.3.4.d\"},\n",
    "    {\"label\": \"Threaded inserts used to connect diaphragm rebars to beams? Type and coating requirements for inserts shown?\", \"section\": \"308.2.3.4.d\"},\n",
    "    {\"label\": \"Note provided restricting deck placement to a minimum of 48 hours after diaphragms are placed and cured? If the Standard Bridge Drawing for I-beams is not referenced by the contract plans\", \"section\": \"308.2.3.4.d\"},\n",
    "    {\"label\": \"Bridge seat elevations been computed as directed in\", \"section\": \"308.2.3.4.b\"},\n",
    "    {\"label\": \"Diagram provided showing slab thickness at center of each span and at each centerline of bearings?\", \"section\": \"308.2.3.4.b\"},\n",
    "    {\"label\": \"Beam anchorage meets the requirements of\", \"section\": \"308.2.3.4.c\"},\n",
    "    {\"label\": \"Full-depth cast-in-place concrete deck specified/ precast deck panels should not be used.\", \"section\": \"309\"},\n",
    "    {\"label\": \"Threaded insert location shown on the beam elevation view for draped strands.\", \"section\": \"PSID-1-13\"},\n",
    "    {\"label\": \"The longitudinal superstructure cross section in the plans detailing the total topping thickness, including the design slab thickness and the haunch thickness at the centerline of spans and bearings.\", \"section\": \"308.2.3.4.b\"},\n",
    "    {\"label\": \"Camber at the time of release, at the time of erection, long term camber and a screed elevation table shown\", \"section\": \"308.2.3.4.b\"},\n",
    "    {\"label\": \"Verify that design use severe corrosive factor as per Section S.5.9.2.3.2b by changing the design parameter in Conspan. The limiting stress factor for tension (service III) should be .0948 instead of 0.19\"}\n",
    "]"
   ]
  },
  {
   "cell_type": "code",
   "execution_count": 63,
   "id": "60921915-9336-4ba5-91a4-d45212a15074",
   "metadata": {},
   "outputs": [
    {
     "data": {
      "application/vnd.jupyter.widget-view+json": {
       "model_id": "93830380ea4549ac91e39935e71c1fa2",
       "version_major": 2,
       "version_minor": 0
      },
      "text/plain": [
       "HTML(value='<b><u>Steel Stringers</u></b>')"
      ]
     },
     "metadata": {},
     "output_type": "display_data"
    },
    {
     "data": {
      "application/vnd.jupyter.widget-view+json": {
       "model_id": "cd8f9573164649408d235995fa916fdc",
       "version_major": 2,
       "version_minor": 0
      },
      "text/plain": [
       "Checkbox(value=False, description='Are the proposed beam shapes per See BDM 308.2.3.4', indent=False, layout=L…"
      ]
     },
     "metadata": {},
     "output_type": "display_data"
    },
    {
     "data": {
      "application/vnd.jupyter.widget-view+json": {
       "model_id": "071bce4f82a740d4add88e6cb6c17214",
       "version_major": 2,
       "version_minor": 0
      },
      "text/plain": [
       "Checkbox(value=False, description='Low-relaxation, 270 ksi, 0.6-inch strands used? (Initial stress = 0.75 f’s)…"
      ]
     },
     "metadata": {},
     "output_type": "display_data"
    },
    {
     "data": {
      "application/vnd.jupyter.widget-view+json": {
       "model_id": "671fc382a7aa448b9c52caa5b70d251e",
       "version_major": 2,
       "version_minor": 0
      },
      "text/plain": [
       "Checkbox(value=False, description='Straight strands, debonded at ends if necessary, used? Draped strands shoul…"
      ]
     },
     "metadata": {},
     "output_type": "display_data"
    },
    {
     "data": {
      "application/vnd.jupyter.widget-view+json": {
       "model_id": "a46dba8f1e5649618053e3e26f345b2b",
       "version_major": 2,
       "version_minor": 0
      },
      "text/plain": [
       "Checkbox(value=False, description='No more than 25% of the total strands debonded? See BDM 302.5.2.2.h', inden…"
      ]
     },
     "metadata": {},
     "output_type": "display_data"
    },
    {
     "data": {
      "application/vnd.jupyter.widget-view+json": {
       "model_id": "5cbdd9da6b0146b4a1a64cd3c3f19aef",
       "version_major": 2,
       "version_minor": 0
      },
      "text/plain": [
       "Checkbox(value=False, description='No more than 45% of the strands in any row debonded See BDM 302.5.2.2.d', i…"
      ]
     },
     "metadata": {},
     "output_type": "display_data"
    },
    {
     "data": {
      "application/vnd.jupyter.widget-view+json": {
       "model_id": "c2ddba3933dd4af49d38e4028c2c757e",
       "version_major": 2,
       "version_minor": 0
      },
      "text/plain": [
       "Checkbox(value=False, description='Number and spacing of debonded strands, and the length of debonding, shown?…"
      ]
     },
     "metadata": {},
     "output_type": "display_data"
    },
    {
     "data": {
      "application/vnd.jupyter.widget-view+json": {
       "model_id": "47b8682d19c44dd5bef8254d7ede5fff",
       "version_major": 2,
       "version_minor": 0
      },
      "text/plain": [
       "Checkbox(value=False, description='Strand location and spacing meet requirements of See BDM 308.2.3.3.b', inde…"
      ]
     },
     "metadata": {},
     "output_type": "display_data"
    },
    {
     "data": {
      "application/vnd.jupyter.widget-view+json": {
       "model_id": "6e019ec8a42f419da41cc7f9448e6f5b",
       "version_major": 2,
       "version_minor": 0
      },
      "text/plain": [
       "Checkbox(value=False, description='Initial prestressed loads shown in the plans See BDM 304.5.2', indent=False…"
      ]
     },
     "metadata": {},
     "output_type": "display_data"
    },
    {
     "data": {
      "application/vnd.jupyter.widget-view+json": {
       "model_id": "75b0e1e51c0e4024afd8ddc9ef008f24",
       "version_major": 2,
       "version_minor": 0
      },
      "text/plain": [
       "Checkbox(value=False, description='Joint details appropriate? Details from Standard Drawings EXJ-6-06.', inden…"
      ]
     },
     "metadata": {},
     "output_type": "display_data"
    },
    {
     "data": {
      "application/vnd.jupyter.widget-view+json": {
       "model_id": "23bac94c641f4d558b0a282d3a373a31",
       "version_major": 2,
       "version_minor": 0
      },
      "text/plain": [
       "Checkbox(value=False, description='Grade 60 mild reinforcing used? See BDM 304.4', indent=False, layout=Layout…"
      ]
     },
     "metadata": {},
     "output_type": "display_data"
    },
    {
     "data": {
      "application/vnd.jupyter.widget-view+json": {
       "model_id": "efedd30ebc2940618a6352b1a87b256f",
       "version_major": 2,
       "version_minor": 0
      },
      "text/plain": [
       "Checkbox(value=False, description='Bars projecting from I-beam been epoxy coated? See BDM 304.4', indent=False…"
      ]
     },
     "metadata": {},
     "output_type": "display_data"
    },
    {
     "data": {
      "application/vnd.jupyter.widget-view+json": {
       "model_id": "95e76951b56f4dd0b38c72549bb59fc6",
       "version_major": 2,
       "version_minor": 0
      },
      "text/plain": [
       "Checkbox(value=False, description='Diaphragms placed at intervals not exceeding 40 feet See BDM 308.2.3.4.d', …"
      ]
     },
     "metadata": {},
     "output_type": "display_data"
    },
    {
     "data": {
      "application/vnd.jupyter.widget-view+json": {
       "model_id": "545ec4f0061f4afca7d3fe6b5fedffc4",
       "version_major": 2,
       "version_minor": 0
      },
      "text/plain": [
       "Checkbox(value=False, description='Intermediate diaphragms do not make contact with the underside of the deck?…"
      ]
     },
     "metadata": {},
     "output_type": "display_data"
    },
    {
     "data": {
      "application/vnd.jupyter.widget-view+json": {
       "model_id": "38c04182bfbf4406891b3e8993f1d727",
       "version_major": 2,
       "version_minor": 0
      },
      "text/plain": [
       "Checkbox(value=False, description='End diaphragms make complete contact with the underside of the deck? See BD…"
      ]
     },
     "metadata": {},
     "output_type": "display_data"
    },
    {
     "data": {
      "application/vnd.jupyter.widget-view+json": {
       "model_id": "1d835cf8a3e243b2b42acc9b4f964c47",
       "version_major": 2,
       "version_minor": 0
      },
      "text/plain": [
       "Checkbox(value=False, description='Threaded inserts used to connect diaphragm rebars to beams? Type and coatin…"
      ]
     },
     "metadata": {},
     "output_type": "display_data"
    },
    {
     "data": {
      "application/vnd.jupyter.widget-view+json": {
       "model_id": "258568b51bf8418ba0cd6baf5d41a956",
       "version_major": 2,
       "version_minor": 0
      },
      "text/plain": [
       "Checkbox(value=False, description='Note provided restricting deck placement to a minimum of 48 hours after dia…"
      ]
     },
     "metadata": {},
     "output_type": "display_data"
    },
    {
     "data": {
      "application/vnd.jupyter.widget-view+json": {
       "model_id": "d3f345216a4c4cb0a58fea5ac23df1b5",
       "version_major": 2,
       "version_minor": 0
      },
      "text/plain": [
       "Checkbox(value=False, description='Bridge seat elevations been computed as directed in See BDM 308.2.3.4.b', i…"
      ]
     },
     "metadata": {},
     "output_type": "display_data"
    },
    {
     "data": {
      "application/vnd.jupyter.widget-view+json": {
       "model_id": "6012ac0fb4fb406d831868636699b3be",
       "version_major": 2,
       "version_minor": 0
      },
      "text/plain": [
       "Checkbox(value=False, description='Diagram provided showing slab thickness at center of each span and at each …"
      ]
     },
     "metadata": {},
     "output_type": "display_data"
    },
    {
     "data": {
      "application/vnd.jupyter.widget-view+json": {
       "model_id": "f9d0ea5d92db40bf8a8527fcc5c7c9ec",
       "version_major": 2,
       "version_minor": 0
      },
      "text/plain": [
       "Checkbox(value=False, description='Beam anchorage meets the requirements of See BDM 308.2.3.4.c', indent=False…"
      ]
     },
     "metadata": {},
     "output_type": "display_data"
    },
    {
     "data": {
      "application/vnd.jupyter.widget-view+json": {
       "model_id": "0f0d3f7db373488b9633a26cbc370ab3",
       "version_major": 2,
       "version_minor": 0
      },
      "text/plain": [
       "Checkbox(value=False, description='Full-depth cast-in-place concrete deck specified/ precast deck panels shoul…"
      ]
     },
     "metadata": {},
     "output_type": "display_data"
    },
    {
     "data": {
      "application/vnd.jupyter.widget-view+json": {
       "model_id": "28d9dee3b77748fab7eb961a8b7ae2dc",
       "version_major": 2,
       "version_minor": 0
      },
      "text/plain": [
       "Checkbox(value=False, description='Threaded insert location shown on the beam elevation view for draped strand…"
      ]
     },
     "metadata": {},
     "output_type": "display_data"
    },
    {
     "data": {
      "application/vnd.jupyter.widget-view+json": {
       "model_id": "d815f332c14743b8a9e49318593a951f",
       "version_major": 2,
       "version_minor": 0
      },
      "text/plain": [
       "Checkbox(value=False, description='The longitudinal superstructure cross section in the plans detailing the to…"
      ]
     },
     "metadata": {},
     "output_type": "display_data"
    },
    {
     "data": {
      "application/vnd.jupyter.widget-view+json": {
       "model_id": "8b127a55ef194f95b54d6b4d1159d0ca",
       "version_major": 2,
       "version_minor": 0
      },
      "text/plain": [
       "Checkbox(value=False, description='Camber at the time of release, at the time of erection, long term camber an…"
      ]
     },
     "metadata": {},
     "output_type": "display_data"
    },
    {
     "data": {
      "application/vnd.jupyter.widget-view+json": {
       "model_id": "5a0f5a01c9cd471f97ce0325f863a7fa",
       "version_major": 2,
       "version_minor": 0
      },
      "text/plain": [
       "Checkbox(value=False, description='Verify that design use severe corrosive factor as per Section S.5.9.2.3.2b …"
      ]
     },
     "metadata": {},
     "output_type": "display_data"
    }
   ],
   "source": [
    "# Function to display the \"steel_stringers\" section\n",
    "def display_steel_stringers():\n",
    "    header = widgets.HTML(\"<b><u>Steel Stringers</u></b>\")\n",
    "    display(header)\n",
    "    checkboxes = []\n",
    "    for criterion in steel_stringers_criteria:\n",
    "        label = criterion[\"label\"]\n",
    "        # Add \"See BDM {section}\" for items with a 'section' entry\n",
    "        if \"section\" in criterion:\n",
    "            label = f\"{label} See BDM {criterion['section']}\"\n",
    "        checkbox = widgets.Checkbox(\n",
    "            description=label,\n",
    "            value=False,\n",
    "            indent=False,\n",
    "            layout=widgets.Layout(width='100%', margin='6px 0 0 0px')\n",
    "        )\n",
    "        checkbox.style = {'description_width': '0px'}\n",
    "        checkboxes.append(checkbox)\n",
    "        display(checkbox)\n",
    "\n",
    "# Display the \"steel_stringers\" section\n",
    "display_steel_stringers()"
   ]
  },
  {
   "cell_type": "markdown",
   "id": "8a6b711f-c1a9-4f2f-823f-56e33ddea702",
   "metadata": {},
   "source": [
    "## Steel Stringers"
   ]
  },
  {
   "cell_type": "markdown",
   "id": "d2a6e40d-3144-4bf0-9e6c-6a684f9c2d13",
   "metadata": {},
   "source": [
    "### Steel Stringers - General"
   ]
  },
  {
   "cell_type": "code",
   "execution_count": 65,
   "id": "900100b1-4e18-4ea2-81bc-b53e5b7d2185",
   "metadata": {},
   "outputs": [],
   "source": [
    "# Define the steel_stringers_general criteria\n",
    "steel_stringers_general_criteria = [\n",
    "    {\"label\": \"A709 Grade 50W steel shall be specified for un-coated weathering steel bridges, A709 Grade 50 specified for a coated steel bridge.\", \"section\": \"30.4.1\"},\n",
    "    {\"label\": \"A709 Grade 50W structural steel within 10 feet from end of stringer adjacent to deck joint painted and note provided\", \"section\": \"308.2.2.1.d.1\"},\n",
    "    {\"label\": \"Proper painting system used? Formerly called, System IZEU on new steel and System OZEU on existing steel?\", \"section\": \"308.2.2.1.d.1\"},\n",
    "    {\"label\": \"All main load carrying members such as rolled beams, girder web/flanges, moment plates, splice plates, and horizontally curved stringer cross frames designated as CVN for Charpy V-notch testing and plan note provided?\", \"section\": \"308.2.2.1.b and 702.2\"},\n",
    "    {\"label\": \"Clearance between the bottom mat and top of the bolt over splice plate.\"},\n",
    "    {\"label\": \"Steel fabricator certification given in pay item description as Classification Levels 1 thru 6, SF or UF.\", \"section\": \"308.2.2.1.b\"},\n",
    "    {\"label\": \"Cross frames and field splices for dog-legged (deflected) stringers conform with, Additional horizontal cross frames angle provided near top flange of horizontally curved stringers?\", \"section\": \"308.2.2.1.j, 308.2.2.1.j.1 and 308.2.2.2.b\"},\n",
    "    {\"label\": \"Plan note provided for High Strength Bolts?\", \"section\": \"702.3\"},\n",
    "    {\"label\": \"Leg size specified for fillet welds 1/4 inch minimum for material < 3/4 inch thick and 5/16 inch minimum for thicker material)?\", \"section\": \"308.2.2.2.c.1\"},\n",
    "    {\"label\": \"Complete penetration groove welds designated as CP with weld configuration left unspecified? Partial penetration groove welds not permitted on structural elements.\", \"section\": \"308.2.2.2.c and ANSI/AASHTO / AWS D1.5 Bridge Welding Code\"},\n",
    "    {\"label\": \"Stud shear connectors preferably 7/8 inch diameter and uniformly spaced transversely not closer than 4 diameters center to center with at least 1 inch clearance from flange edges? (Typically, three studs transversely for flanges 12 inches and wider)\", \"section\": \"404.1.6 & AASHTO LRFD 6.10.10\"},\n",
    "    {\"label\": \"Shear connector length penetrates at least 2 inches above bottom reinforcing steel of slab and provides at least 2 inches top cover?\"},\n",
    "    {\"label\": \"7/8 inch diameter Shear stud not recommended for vertical application due to longer welding times and difficulties. Use a 3/4 inch diameter shear stud recommended by the industry.\"},\n",
    "    {\"label\": \"Shear connector maximum spacing generally not greater than 24 inches? Usually, fatigue and strength criteria produce maximum spacing near piers, smallest spacing near abutments, and moderate spacing near mid spans? No conflict near field splices or deck joint anchorage?\", \"section\": \"AASHTO LRFD 6.10.10\"},\n",
    "    {\"label\": \"Extra shear connectors provided at contra flexure points and longitudinal slab reinforcement properly extended if shear connectors are omitted over piers?\", \"section\": \"AASHTO LRFD 6.10.10\"},\n",
    "    {\"label\": \"Field splices located near points of dead load contra flexure as appropriate to facilitate erection and to limit field section lengths to 90 feet maximum for rolled beams and 120 feet maximum for plate girders? Additional optional field splices may be shown recognizing greater availability of short lengths)\", \"section\": \"308.2.2.1.c and 308.2.2.1.j.3\"},\n",
    "    {\"label\": \"Plate thicknesses specified in the following standard sizes: 7/8\\\" to 3” In 1/8” Increments, 3\\\" And above 1/4\\\" Increments?\", \"section\": \"308.2.2.3.c\"},\n",
    "    {\"label\": \"Buoyant superstructures typically integral or semi-integral designs) where inundation is possible details with appropriate countermeasures (e.g., holes drilled in stringer webs for egress of confined air, support anchorage, etc.)?\"},\n",
    "    {\"label\": \"Stringer top flange compression and tension zones shown and Welded Attachment Note provided?\", \"section\": \"702.11\"},\n",
    "    {\"label\": \"Camber and deflection table provided for information given at center of spans, splices points, and at 25 foot maximum intervals?\", \"section\": \"702.1, 309.3.3\"},\n",
    "    {\"label\": \"Camber diagram provided and blocking dimension from bottom of stringer at each support to chord between end supports) shown?\", \"section\": \"309.3.3\"},\n",
    "    {\"label\": \"Camber adjustment provided for horizontally heat-curved stringers and for straight stringers on curved bridges?\", \"section\": \"AASHTO LRFD 6.7.7\"},\n",
    "    {\"label\": \"Sign (direction) of camber adjustment for vertical curve correct?\"},\n",
    "    {\"label\": \"Edge distances used for field splices as per LRFD table 6.13.2.6.6-1?\", \"section\": \"308.2.2.1.j.1 & 308.2.2.1.j.2\"},\n",
    "    {\"label\": \"For galvanized structures, the bolt hole size requires a 1/16 inch increase.\", \"section\": \"308.2.2.1.j.1\"},\n",
    "    {\"label\": \"Field splices located so as not to interfere with other details (i.e., intermediate stiffeners, cross frames, etc.)?\", \"section\": \"308.2.2.2.b\"},\n",
    "    {\"label\": \"Fatigue prone details avoided if possible?\", \"section\": \"308.2.2.1.g\"},\n",
    "    {\"label\": \"Cross frame connection stiffeners rigidly attached to stringer top and bottom flanges?\", \"section\": \"308.2.2.2.a\"},\n",
    "    {\"label\": \"Lateral bracing provided only when required?\", \"section\": \"AASHTO LRFD 6.7.5\"},\n",
    "    {\"label\": \"Curved girder with stage construction should be checked for deflection at each stage.\"}\n",
    "]"
   ]
  },
  {
   "cell_type": "code",
   "execution_count": 66,
   "id": "2e6050b8-5e19-46cb-8172-3b4a1ef544be",
   "metadata": {},
   "outputs": [
    {
     "data": {
      "application/vnd.jupyter.widget-view+json": {
       "model_id": "072d003eb059441d8f0c0fc78f632716",
       "version_major": 2,
       "version_minor": 0
      },
      "text/plain": [
       "HTML(value='<b><u>Steel Stringers: General</u></b>')"
      ]
     },
     "metadata": {},
     "output_type": "display_data"
    },
    {
     "data": {
      "application/vnd.jupyter.widget-view+json": {
       "model_id": "7104bc29e8964c82aed393040a3c5887",
       "version_major": 2,
       "version_minor": 0
      },
      "text/plain": [
       "Checkbox(value=False, description='A709 Grade 50W steel shall be specified for un-coated weathering steel brid…"
      ]
     },
     "metadata": {},
     "output_type": "display_data"
    },
    {
     "data": {
      "application/vnd.jupyter.widget-view+json": {
       "model_id": "397e473edf52404bb64d731e0da5b9bb",
       "version_major": 2,
       "version_minor": 0
      },
      "text/plain": [
       "Checkbox(value=False, description='A709 Grade 50W structural steel within 10 feet from end of stringer adjacen…"
      ]
     },
     "metadata": {},
     "output_type": "display_data"
    },
    {
     "data": {
      "application/vnd.jupyter.widget-view+json": {
       "model_id": "707b5d7d34084b08b7010cf687d47d79",
       "version_major": 2,
       "version_minor": 0
      },
      "text/plain": [
       "Checkbox(value=False, description='Proper painting system used? Formerly called, System IZEU on new steel and …"
      ]
     },
     "metadata": {},
     "output_type": "display_data"
    },
    {
     "data": {
      "application/vnd.jupyter.widget-view+json": {
       "model_id": "676f355eba954bf680227cdd1c1f4857",
       "version_major": 2,
       "version_minor": 0
      },
      "text/plain": [
       "Checkbox(value=False, description='All main load carrying members such as rolled beams, girder web/flanges, mo…"
      ]
     },
     "metadata": {},
     "output_type": "display_data"
    },
    {
     "data": {
      "application/vnd.jupyter.widget-view+json": {
       "model_id": "306e9eb683fc4859afb1204d0c14824a",
       "version_major": 2,
       "version_minor": 0
      },
      "text/plain": [
       "Checkbox(value=False, description='Clearance between the bottom mat and top of the bolt over splice plate.', i…"
      ]
     },
     "metadata": {},
     "output_type": "display_data"
    },
    {
     "data": {
      "application/vnd.jupyter.widget-view+json": {
       "model_id": "cc877324cc82431e94e644bed37a98c2",
       "version_major": 2,
       "version_minor": 0
      },
      "text/plain": [
       "Checkbox(value=False, description='Steel fabricator certification given in pay item description as Classificat…"
      ]
     },
     "metadata": {},
     "output_type": "display_data"
    },
    {
     "data": {
      "application/vnd.jupyter.widget-view+json": {
       "model_id": "182eceb98d114297a3765077edd36943",
       "version_major": 2,
       "version_minor": 0
      },
      "text/plain": [
       "Checkbox(value=False, description='Cross frames and field splices for dog-legged (deflected) stringers conform…"
      ]
     },
     "metadata": {},
     "output_type": "display_data"
    },
    {
     "data": {
      "application/vnd.jupyter.widget-view+json": {
       "model_id": "5665b7912c21431d902d1a007c993777",
       "version_major": 2,
       "version_minor": 0
      },
      "text/plain": [
       "Checkbox(value=False, description='Plan note provided for High Strength Bolts? See BDM 702.3', indent=False, l…"
      ]
     },
     "metadata": {},
     "output_type": "display_data"
    },
    {
     "data": {
      "application/vnd.jupyter.widget-view+json": {
       "model_id": "a148aadca106471587a2062bf3f64315",
       "version_major": 2,
       "version_minor": 0
      },
      "text/plain": [
       "Checkbox(value=False, description='Leg size specified for fillet welds 1/4 inch minimum for material < 3/4 inc…"
      ]
     },
     "metadata": {},
     "output_type": "display_data"
    },
    {
     "data": {
      "application/vnd.jupyter.widget-view+json": {
       "model_id": "e5fa1cb9533645d9b74a837ca02669df",
       "version_major": 2,
       "version_minor": 0
      },
      "text/plain": [
       "Checkbox(value=False, description='Complete penetration groove welds designated as CP with weld configuration …"
      ]
     },
     "metadata": {},
     "output_type": "display_data"
    },
    {
     "data": {
      "application/vnd.jupyter.widget-view+json": {
       "model_id": "b77df96c47a54d2e8b87c4289546eded",
       "version_major": 2,
       "version_minor": 0
      },
      "text/plain": [
       "Checkbox(value=False, description='Stud shear connectors preferably 7/8 inch diameter and uniformly spaced tra…"
      ]
     },
     "metadata": {},
     "output_type": "display_data"
    },
    {
     "data": {
      "application/vnd.jupyter.widget-view+json": {
       "model_id": "519a039f6eed4a188cfa26025c4dbff3",
       "version_major": 2,
       "version_minor": 0
      },
      "text/plain": [
       "Checkbox(value=False, description='Shear connector length penetrates at least 2 inches above bottom reinforcin…"
      ]
     },
     "metadata": {},
     "output_type": "display_data"
    },
    {
     "data": {
      "application/vnd.jupyter.widget-view+json": {
       "model_id": "4246219356ea4f229ab27904e3dea85a",
       "version_major": 2,
       "version_minor": 0
      },
      "text/plain": [
       "Checkbox(value=False, description='7/8 inch diameter Shear stud not recommended for vertical application due t…"
      ]
     },
     "metadata": {},
     "output_type": "display_data"
    },
    {
     "data": {
      "application/vnd.jupyter.widget-view+json": {
       "model_id": "aa710afdea214011a3d8cb298dcb67ec",
       "version_major": 2,
       "version_minor": 0
      },
      "text/plain": [
       "Checkbox(value=False, description='Shear connector maximum spacing generally not greater than 24 inches? Usual…"
      ]
     },
     "metadata": {},
     "output_type": "display_data"
    },
    {
     "data": {
      "application/vnd.jupyter.widget-view+json": {
       "model_id": "b90d39aa9e894eb3acc118307e15c930",
       "version_major": 2,
       "version_minor": 0
      },
      "text/plain": [
       "Checkbox(value=False, description='Extra shear connectors provided at contra flexure points and longitudinal s…"
      ]
     },
     "metadata": {},
     "output_type": "display_data"
    },
    {
     "data": {
      "application/vnd.jupyter.widget-view+json": {
       "model_id": "7d766948194f4ec58d3f2308b46af60a",
       "version_major": 2,
       "version_minor": 0
      },
      "text/plain": [
       "Checkbox(value=False, description='Field splices located near points of dead load contra flexure as appropriat…"
      ]
     },
     "metadata": {},
     "output_type": "display_data"
    },
    {
     "data": {
      "application/vnd.jupyter.widget-view+json": {
       "model_id": "0922a7aa10754c4e9d3f32e853b22307",
       "version_major": 2,
       "version_minor": 0
      },
      "text/plain": [
       "Checkbox(value=False, description='Plate thicknesses specified in the following standard sizes: 7/8\" to 3” In …"
      ]
     },
     "metadata": {},
     "output_type": "display_data"
    },
    {
     "data": {
      "application/vnd.jupyter.widget-view+json": {
       "model_id": "28d4f8a0bd13469785c29d3b1badc642",
       "version_major": 2,
       "version_minor": 0
      },
      "text/plain": [
       "Checkbox(value=False, description='Buoyant superstructures typically integral or semi-integral designs) where …"
      ]
     },
     "metadata": {},
     "output_type": "display_data"
    },
    {
     "data": {
      "application/vnd.jupyter.widget-view+json": {
       "model_id": "2a42432879bf41018b0bfd131ba57d5b",
       "version_major": 2,
       "version_minor": 0
      },
      "text/plain": [
       "Checkbox(value=False, description='Stringer top flange compression and tension zones shown and Welded Attachme…"
      ]
     },
     "metadata": {},
     "output_type": "display_data"
    },
    {
     "data": {
      "application/vnd.jupyter.widget-view+json": {
       "model_id": "f98933bef80947748fdfa2529c4dff00",
       "version_major": 2,
       "version_minor": 0
      },
      "text/plain": [
       "Checkbox(value=False, description='Camber and deflection table provided for information given at center of spa…"
      ]
     },
     "metadata": {},
     "output_type": "display_data"
    },
    {
     "data": {
      "application/vnd.jupyter.widget-view+json": {
       "model_id": "6c508036ee994531969ffd948c72e762",
       "version_major": 2,
       "version_minor": 0
      },
      "text/plain": [
       "Checkbox(value=False, description='Camber diagram provided and blocking dimension from bottom of stringer at e…"
      ]
     },
     "metadata": {},
     "output_type": "display_data"
    },
    {
     "data": {
      "application/vnd.jupyter.widget-view+json": {
       "model_id": "42dcfa7cd7ab4f649a3c0921963e9166",
       "version_major": 2,
       "version_minor": 0
      },
      "text/plain": [
       "Checkbox(value=False, description='Camber adjustment provided for horizontally heat-curved stringers and for s…"
      ]
     },
     "metadata": {},
     "output_type": "display_data"
    },
    {
     "data": {
      "application/vnd.jupyter.widget-view+json": {
       "model_id": "e1a14e23b587428cb73a4d965abbf764",
       "version_major": 2,
       "version_minor": 0
      },
      "text/plain": [
       "Checkbox(value=False, description='Sign (direction) of camber adjustment for vertical curve correct?', indent=…"
      ]
     },
     "metadata": {},
     "output_type": "display_data"
    },
    {
     "data": {
      "application/vnd.jupyter.widget-view+json": {
       "model_id": "17dd1f61bd9b416f810b2dfa72b5f2cc",
       "version_major": 2,
       "version_minor": 0
      },
      "text/plain": [
       "Checkbox(value=False, description='Edge distances used for field splices as per LRFD table 6.13.2.6.6-1? See B…"
      ]
     },
     "metadata": {},
     "output_type": "display_data"
    },
    {
     "data": {
      "application/vnd.jupyter.widget-view+json": {
       "model_id": "0a62219119f6412ba1216329da2ba785",
       "version_major": 2,
       "version_minor": 0
      },
      "text/plain": [
       "Checkbox(value=False, description='For galvanized structures, the bolt hole size requires a 1/16 inch increase…"
      ]
     },
     "metadata": {},
     "output_type": "display_data"
    },
    {
     "data": {
      "application/vnd.jupyter.widget-view+json": {
       "model_id": "32981355d2f84b77b9ad5e76bc77b423",
       "version_major": 2,
       "version_minor": 0
      },
      "text/plain": [
       "Checkbox(value=False, description='Field splices located so as not to interfere with other details (i.e., inte…"
      ]
     },
     "metadata": {},
     "output_type": "display_data"
    },
    {
     "data": {
      "application/vnd.jupyter.widget-view+json": {
       "model_id": "06c7b3fb7e5c4bdf9e4633cd617c8f3b",
       "version_major": 2,
       "version_minor": 0
      },
      "text/plain": [
       "Checkbox(value=False, description='Fatigue prone details avoided if possible? See BDM 308.2.2.1.g', indent=Fal…"
      ]
     },
     "metadata": {},
     "output_type": "display_data"
    },
    {
     "data": {
      "application/vnd.jupyter.widget-view+json": {
       "model_id": "59b8e7fec2494c60a88cd9a906020533",
       "version_major": 2,
       "version_minor": 0
      },
      "text/plain": [
       "Checkbox(value=False, description='Cross frame connection stiffeners rigidly attached to stringer top and bott…"
      ]
     },
     "metadata": {},
     "output_type": "display_data"
    },
    {
     "data": {
      "application/vnd.jupyter.widget-view+json": {
       "model_id": "8b72409d318c4e11a1f25cc99709fd47",
       "version_major": 2,
       "version_minor": 0
      },
      "text/plain": [
       "Checkbox(value=False, description='Lateral bracing provided only when required? See BDM AASHTO LRFD 6.7.5', in…"
      ]
     },
     "metadata": {},
     "output_type": "display_data"
    },
    {
     "data": {
      "application/vnd.jupyter.widget-view+json": {
       "model_id": "256f625169e040eab9491ef1cf7cf311",
       "version_major": 2,
       "version_minor": 0
      },
      "text/plain": [
       "Checkbox(value=False, description='Curved girder with stage construction should be checked for deflection at e…"
      ]
     },
     "metadata": {},
     "output_type": "display_data"
    }
   ],
   "source": [
    "# Function to display the \"steel_stringers_general\" section\n",
    "def display_steel_stringers_general():\n",
    "    header = widgets.HTML(\"<b><u>Steel Stringers: General</u></b>\")\n",
    "    display(header)\n",
    "    checkboxes = []\n",
    "    for criterion in steel_stringers_general_criteria:\n",
    "        label = criterion[\"label\"]\n",
    "        # Add \"See BDM {section}\" for items with a 'section' entry\n",
    "        if \"section\" in criterion:\n",
    "            label = f\"{label} See BDM {criterion['section']}\"\n",
    "        checkbox = widgets.Checkbox(\n",
    "            description=label,\n",
    "            value=False,\n",
    "            indent=False,\n",
    "            layout=widgets.Layout(width='100%', margin='6px 0 0 0px')\n",
    "        )\n",
    "        checkbox.style = {'description_width': '0px'}\n",
    "        checkboxes.append(checkbox)\n",
    "        display(checkbox)\n",
    "\n",
    "# Display the \"steel_stringers_general\" section\n",
    "display_steel_stringers_general()"
   ]
  },
  {
   "cell_type": "markdown",
   "id": "e60cbc3c-93d8-4730-8bc8-ac269214c170",
   "metadata": {},
   "source": [
    "### Rolled Beams"
   ]
  },
  {
   "cell_type": "code",
   "execution_count": 68,
   "id": "71d198e3-bb6d-4b86-8ba2-e698ceeb8848",
   "metadata": {},
   "outputs": [],
   "source": [
    "# Define the rolled_beams criteria\n",
    "rolled_beams_criteria = [\n",
    "    {\"label\": \"Welded moment plates not used in areas of tensile stress?\", \"section\": \"308.2.2.2.d\"},\n",
    "    {\"label\": \"Bearing stiffeners provided only when necessary?\", \"section\": \"AASHTO LRFD 6.10.11.2\"},\n",
    "    {\"label\": \"Galvanized beams limited in length to 60 feet maximum and utilize bolted connections only?\", \"section\": \"308.2.2.1.d.2\"}\n",
    "]"
   ]
  },
  {
   "cell_type": "code",
   "execution_count": 69,
   "id": "bfd71c19-df0d-4795-9087-9ec1bb124e5b",
   "metadata": {},
   "outputs": [
    {
     "data": {
      "application/vnd.jupyter.widget-view+json": {
       "model_id": "192e3f4397fa48dd88e4e7215639a4ea",
       "version_major": 2,
       "version_minor": 0
      },
      "text/plain": [
       "HTML(value='<b><u>Rolled Beams</u></b>')"
      ]
     },
     "metadata": {},
     "output_type": "display_data"
    },
    {
     "data": {
      "application/vnd.jupyter.widget-view+json": {
       "model_id": "7b45a74a8f0b4d5ca800de710c627aaa",
       "version_major": 2,
       "version_minor": 0
      },
      "text/plain": [
       "Checkbox(value=False, description='Welded moment plates not used in areas of tensile stress? See BDM 308.2.2.2…"
      ]
     },
     "metadata": {},
     "output_type": "display_data"
    },
    {
     "data": {
      "application/vnd.jupyter.widget-view+json": {
       "model_id": "4154cea040624ba198d87829179d364c",
       "version_major": 2,
       "version_minor": 0
      },
      "text/plain": [
       "Checkbox(value=False, description='Bearing stiffeners provided only when necessary? See BDM AASHTO LRFD 6.10.1…"
      ]
     },
     "metadata": {},
     "output_type": "display_data"
    },
    {
     "data": {
      "application/vnd.jupyter.widget-view+json": {
       "model_id": "7a8a565e72ec468da67405e6fa3e297b",
       "version_major": 2,
       "version_minor": 0
      },
      "text/plain": [
       "Checkbox(value=False, description='Galvanized beams limited in length to 60 feet maximum and utilize bolted co…"
      ]
     },
     "metadata": {},
     "output_type": "display_data"
    }
   ],
   "source": [
    "# Function to display the \"rolled_beams\" section\n",
    "def display_rolled_beams():\n",
    "    header = widgets.HTML(\"<b><u>Rolled Beams</u></b>\")\n",
    "    display(header)\n",
    "    checkboxes = []\n",
    "    for criterion in rolled_beams_criteria:\n",
    "        label = criterion[\"label\"]\n",
    "        # Add \"See BDM {section}\" for items with a 'section' entry\n",
    "        if \"section\" in criterion:\n",
    "            label = f\"{label} See BDM {criterion['section']}\"\n",
    "        checkbox = widgets.Checkbox(\n",
    "            description=label,\n",
    "            value=False,\n",
    "            indent=False,\n",
    "            layout=widgets.Layout(width='100%', margin='6px 0 0 0px')\n",
    "        )\n",
    "        checkbox.style = {'description_width': '0px'}\n",
    "        checkboxes.append(checkbox)\n",
    "        display(checkbox)\n",
    "\n",
    "# Display the \"rolled_beams\" section\n",
    "display_rolled_beams()"
   ]
  },
  {
   "cell_type": "markdown",
   "id": "8f5bff64-b325-48ee-8884-b3203921551c",
   "metadata": {},
   "source": [
    "### Plate Girders"
   ]
  },
  {
   "cell_type": "code",
   "execution_count": 70,
   "id": "df4697cd-e587-4102-b5e0-00999445f4cf",
   "metadata": {},
   "outputs": [],
   "source": [
    "# Define the plate_girders criteria\n",
    "plate_girders_criteria = [\n",
    "    {\"label\": \"Top flange width as per\", \"section\": \"308.2.2.3.c.1\"},\n",
    "    {\"label\": \"Flange thickness at least 7/8 inch?\", \"section\": \"308.2.2.3.c.1\"},\n",
    "    {\"label\": \"Web thickness and stiffener thickness at least 3/8 inch\", \"section\": \"308.2.2.3.c.2\"},\n",
    "    {\"label\": \"Flange butt welds subject only to compressive stresses identified as CS and complete joint penetration as CP.\", \"section\": \"308.2.2.3.f.2\"},\n",
    "    {\"label\": \"Non-redundant main steel members identified as FCM (Fracture Critical Member)? Proper pay item and plan note provided\", \"section\": \"BMD 308.2.2.3.b\"},\n",
    "    {\"label\": \"Longitudinal stiffeners not used? Transverse stiffeners preferably not used (except cross frame connection stiffeners)\", \"section\": \"308.2.2.3\"},\n",
    "    {\"label\": \"Transverse stiffeners (if used) placed on alternate sides of interior girders and inside face only of fascia girders, made same size throughout, and detailed?\", \"section\": \"308.2.2.3.d\"},\n",
    "    {\"label\": \"Cross frame connection stiffeners fillet welded to web and both flanges\", \"section\": \"308.2.2.3.d\"},\n",
    "    {\"label\": \"Bearing stiffeners made to extend as near as practicable to outer edges of flange plate and detailed as tight fit at top flange, mill to bear at bottom flange? (Rigid attachment to both flanges may be appropriate if used also as a connection plate)\", \"section\": \"AASHTO LRFD 6.10.11.2.1 / LRFD 6.10.11.2\"},\n",
    "    {\"label\": \"Intermediate cross frame angle size and connections conform with STD DWG GSD-1-19? For beam/Girder D < 6 feet.\"},\n",
    "    {\"label\": \"Constant flange widths used whenever possible? Make changes in flange width at field splice to facilitate fabrication. Changes in flange plate section appropriate based on cost criteria given in\", \"section\": \"308.2.2.3.c.1 Steel Bridge Design Handbook FHWA-IF-12-052-Vol. 6\"},\n",
    "    {\"label\": \"Clearance between the bottom mat and top of the bolt over splice plate\", \"section\": \"309.3.4.2\"}\n",
    "]"
   ]
  },
  {
   "cell_type": "code",
   "execution_count": 71,
   "id": "81c7741e-d92d-4e6c-ac37-7804b828f36d",
   "metadata": {},
   "outputs": [
    {
     "data": {
      "application/vnd.jupyter.widget-view+json": {
       "model_id": "0e6cb613031b4b399d97798697689a33",
       "version_major": 2,
       "version_minor": 0
      },
      "text/plain": [
       "HTML(value='<b><u>Plate Girders</u></b>')"
      ]
     },
     "metadata": {},
     "output_type": "display_data"
    },
    {
     "data": {
      "application/vnd.jupyter.widget-view+json": {
       "model_id": "a8fcad7d34ef43de8da1864a4404aca6",
       "version_major": 2,
       "version_minor": 0
      },
      "text/plain": [
       "Checkbox(value=False, description='Top flange width as per See BDM 308.2.2.3.c.1', indent=False, layout=Layout…"
      ]
     },
     "metadata": {},
     "output_type": "display_data"
    },
    {
     "data": {
      "application/vnd.jupyter.widget-view+json": {
       "model_id": "b5d118dd3db44b38bca0e543b679b1f8",
       "version_major": 2,
       "version_minor": 0
      },
      "text/plain": [
       "Checkbox(value=False, description='Flange thickness at least 7/8 inch? See BDM 308.2.2.3.c.1', indent=False, l…"
      ]
     },
     "metadata": {},
     "output_type": "display_data"
    },
    {
     "data": {
      "application/vnd.jupyter.widget-view+json": {
       "model_id": "6fd6e505cb7c4707a78e25feacbe0e49",
       "version_major": 2,
       "version_minor": 0
      },
      "text/plain": [
       "Checkbox(value=False, description='Web thickness and stiffener thickness at least 3/8 inch See BDM 308.2.2.3.c…"
      ]
     },
     "metadata": {},
     "output_type": "display_data"
    },
    {
     "data": {
      "application/vnd.jupyter.widget-view+json": {
       "model_id": "9c58d089aa174218ba8ba1759170c69a",
       "version_major": 2,
       "version_minor": 0
      },
      "text/plain": [
       "Checkbox(value=False, description='Flange butt welds subject only to compressive stresses identified as CS and…"
      ]
     },
     "metadata": {},
     "output_type": "display_data"
    },
    {
     "data": {
      "application/vnd.jupyter.widget-view+json": {
       "model_id": "7455d3f10a004d4680e4d8a456a4b63c",
       "version_major": 2,
       "version_minor": 0
      },
      "text/plain": [
       "Checkbox(value=False, description='Non-redundant main steel members identified as FCM (Fracture Critical Membe…"
      ]
     },
     "metadata": {},
     "output_type": "display_data"
    },
    {
     "data": {
      "application/vnd.jupyter.widget-view+json": {
       "model_id": "3209801203654cda953c6e9772891240",
       "version_major": 2,
       "version_minor": 0
      },
      "text/plain": [
       "Checkbox(value=False, description='Longitudinal stiffeners not used? Transverse stiffeners preferably not used…"
      ]
     },
     "metadata": {},
     "output_type": "display_data"
    },
    {
     "data": {
      "application/vnd.jupyter.widget-view+json": {
       "model_id": "1f38bdd106bc4aa683a9310a56cb04b2",
       "version_major": 2,
       "version_minor": 0
      },
      "text/plain": [
       "Checkbox(value=False, description='Transverse stiffeners (if used) placed on alternate sides of interior girde…"
      ]
     },
     "metadata": {},
     "output_type": "display_data"
    },
    {
     "data": {
      "application/vnd.jupyter.widget-view+json": {
       "model_id": "2f010849ea304f77bbfd1515d1be9803",
       "version_major": 2,
       "version_minor": 0
      },
      "text/plain": [
       "Checkbox(value=False, description='Cross frame connection stiffeners fillet welded to web and both flanges See…"
      ]
     },
     "metadata": {},
     "output_type": "display_data"
    },
    {
     "data": {
      "application/vnd.jupyter.widget-view+json": {
       "model_id": "23d976b6c1d94974ba9d46570f09c04b",
       "version_major": 2,
       "version_minor": 0
      },
      "text/plain": [
       "Checkbox(value=False, description='Bearing stiffeners made to extend as near as practicable to outer edges of …"
      ]
     },
     "metadata": {},
     "output_type": "display_data"
    },
    {
     "data": {
      "application/vnd.jupyter.widget-view+json": {
       "model_id": "b308a53ba7904f59b30931e575caa0fd",
       "version_major": 2,
       "version_minor": 0
      },
      "text/plain": [
       "Checkbox(value=False, description='Intermediate cross frame angle size and connections conform with STD DWG GS…"
      ]
     },
     "metadata": {},
     "output_type": "display_data"
    },
    {
     "data": {
      "application/vnd.jupyter.widget-view+json": {
       "model_id": "6bebcc5676ce4822a8429e45f7b24c62",
       "version_major": 2,
       "version_minor": 0
      },
      "text/plain": [
       "Checkbox(value=False, description='Constant flange widths used whenever possible? Make changes in flange width…"
      ]
     },
     "metadata": {},
     "output_type": "display_data"
    },
    {
     "data": {
      "application/vnd.jupyter.widget-view+json": {
       "model_id": "0b2676c2b1b64ce3827ae9cec17942cf",
       "version_major": 2,
       "version_minor": 0
      },
      "text/plain": [
       "Checkbox(value=False, description='Clearance between the bottom mat and top of the bolt over splice plate See …"
      ]
     },
     "metadata": {},
     "output_type": "display_data"
    }
   ],
   "source": [
    "# Function to display the \"plate_girders\" section\n",
    "def display_plate_girders():\n",
    "    header = widgets.HTML(\"<b><u>Plate Girders</u></b>\")\n",
    "    display(header)\n",
    "    checkboxes = []\n",
    "    for criterion in plate_girders_criteria:\n",
    "        label = criterion[\"label\"]\n",
    "        # Add \"See BDM {section}\" for items with a 'section' entry\n",
    "        if \"section\" in criterion:\n",
    "            label = f\"{label} See BDM {criterion['section']}\"\n",
    "        checkbox = widgets.Checkbox(\n",
    "            description=label,\n",
    "            value=False,\n",
    "            indent=False,\n",
    "            layout=widgets.Layout(width='100%', margin='6px 0 0 0px')\n",
    "        )\n",
    "        checkbox.style = {'description_width': '0px'}\n",
    "        checkboxes.append(checkbox)\n",
    "        display(checkbox)\n",
    "\n",
    "# Display the \"plate_girders\" section\n",
    "display_plate_girders()"
   ]
  },
  {
   "cell_type": "markdown",
   "id": "d839f110-bc88-4f05-855d-80dbe85e9319",
   "metadata": {},
   "source": [
    "## Concrete Deck on Concrete I-Beams or Steel Stringers"
   ]
  },
  {
   "cell_type": "code",
   "execution_count": 72,
   "id": "edf5428d-a040-48fb-a3db-3b671d8a51e5",
   "metadata": {},
   "outputs": [],
   "source": [
    "# Define the concrete_deck_on_stringers criteria\n",
    "concrete_deck_on_stringers_criteria = [\n",
    "    {\"label\": \"Verify bottom concrete cover of bars in the overhang deck\", \"section\": \"LRFD 5.10.1, 304.4.8\"},\n",
    "    {\"label\": \"Sealing of concrete surfaces shown and appropriate\", \"section\": \"309.2.1\"},\n",
    "    {\"label\": \"Stainless steel drip strip provided on decks with over-the-side drainage?\", \"section\": \"309.7 and 309.2\"},\n",
    "    {\"label\": \"Deck slab depth over stringers shown to top of web for plate girders and to top of flange for rolled beams or prestressed concrete I-beams and plan note provided\", \"section\": \"702.5 and 702.6\"},\n",
    "    {\"label\": \"2-inch minimum concrete haunch depth used over stringers (top of thickest flange section to bottom of slab)\", \"section\": \"309.3.5\"},\n",
    "    {\"label\": \"For steel beam or girder bridges with skew less than 15 degrees the transverse bars parallel to abutment and for skew more than 15 degrees or interference with shear stud, transverse bars placed perpendicular to the centerline of bridge.\", \"section\": \"309.3.4.2\"},\n",
    "    {\"label\": \"For prestressed I-beam or composite box beam bridge deck, transverse bars perpendicular to the centerline of bridge.\", \"section\": \"309.3.4.2\"},\n",
    "    {\"label\": \"Slab thickness and reinforcement conform to\", \"section\": \"Figure 309-3, 309-4 or 309-5\"},\n",
    "    {\"label\": \"Top and bottom main (transverse) bars at same spacing and placed to coincide in a vertical plane?\", \"section\": \"309.3.4.2\"},\n",
    "    {\"label\": \"Transverse bars placed parallel to abutments for bridges with skews less than 15 degrees?\", \"section\": \"309.3.4.2\"},\n",
    "    {\"label\": \"Length of transverse bars without lap splices 5 inches shorter than deck (edge to edge distance) to ensure adequate cover at ends of bar, allowing for shop cutting tolerances?\"},\n",
    "    {\"label\": \"(Transverse) bars\", \"section\": \"309.3.4.1\"},\n",
    "    {\"label\": \"Secondary (longitudinal) bars placed above main\", \"section\": \"309.3.4.1\"},\n",
    "    {\"label\": \"Additional top longitudinal bars with ends staggered 3'-0\\\" provided over piers on continuous structures? Total longitudinal reinforcement meets the requirements of AASHTO LRFD 6.10.1.7 for steel stringers or for prestressed concrete I-beam? Generally, No. 6 bars midspaced between top full length longitudinal bars will be adequate and will provide enough clearance between bars to facilitate concrete placement and vibration.\", \"section\": \"308.2.3.3.c\"},\n",
    "    {\"label\": \"Screed elevations given along curb lines/edges of deck, roadway crown, transverse grade-break lines and phase construction lines at all bearings, quarter-span, mid-span, and splice points, plus any points required for a maximum 25 foot spacing.\", \"section\": \"309.3.3.1\"},\n",
    "    {\"label\": \"Slab pour sequence generally specified only when uplift during construction or differential deflections at intermediate expansion joints are of concern.\", \"section\": \"2.2.3.g, 403.5.4\"},\n",
    "    {\"label\": \"Check three independent sources of girder twist resulting from deck placement: global superstructure distortion, oil-canning and girder warping.\", \"section\": \"309.3.8.2\"},\n",
    "    {\"label\": \"Neglect girder twist due to global deformation if the tributary deck load carried by the fascia girder is less than 110% of the average of the tributary deck load carried by the interior members for new structure and 115% for existing structure.\", \"section\": \"309.3.8.2.a\"},\n",
    "    {\"label\": \"For web depth greater than 84 inches note for location of lower contact point of the overhang false work included.\", \"section\": \"611.4.1\"},\n",
    "    {\"label\": \"Screed, top of haunch and finished deck surface shown and note included?\", \"section\": \"309.3.3.1, 309.3.3.2, 309.3.3.3, 702.12.1, 702.12.2, 702.12.3\"},\n",
    "    {\"label\": \"The final deck surface elevation locations should be identified in a plan view.\", \"section\": \"309.3.3.3\"},\n",
    "    {\"label\": \"The screed elevation locations should be identified on the transverse section.\", \"section\": \"702.12.1\"},\n",
    "    {\"label\": \"The top of haunch elevation locations should be identified on the transverse section.\", \"section\": \"702.12.2\"},\n",
    "    {\"label\": \"Deck placement design assumptions note is included.\", \"section\": \"611.4.2\"}\n",
    "]"
   ]
  },
  {
   "cell_type": "code",
   "execution_count": 73,
   "id": "9088d84e-fe71-46e7-b5a6-5318288afda7",
   "metadata": {},
   "outputs": [
    {
     "data": {
      "application/vnd.jupyter.widget-view+json": {
       "model_id": "40a5748a39014b41bbf9abea2141f015",
       "version_major": 2,
       "version_minor": 0
      },
      "text/plain": [
       "HTML(value='<b><u>Concrete Deck on Stringers</u></b>')"
      ]
     },
     "metadata": {},
     "output_type": "display_data"
    },
    {
     "data": {
      "application/vnd.jupyter.widget-view+json": {
       "model_id": "a8d6ad03c23842789464da28714cac35",
       "version_major": 2,
       "version_minor": 0
      },
      "text/plain": [
       "Checkbox(value=False, description='Verify bottom concrete cover of bars in the overhang deck See BDM LRFD 5.10…"
      ]
     },
     "metadata": {},
     "output_type": "display_data"
    },
    {
     "data": {
      "application/vnd.jupyter.widget-view+json": {
       "model_id": "db8d113cd0e14cd1ba17dbe111e55772",
       "version_major": 2,
       "version_minor": 0
      },
      "text/plain": [
       "Checkbox(value=False, description='Sealing of concrete surfaces shown and appropriate See BDM 309.2.1', indent…"
      ]
     },
     "metadata": {},
     "output_type": "display_data"
    },
    {
     "data": {
      "application/vnd.jupyter.widget-view+json": {
       "model_id": "f84d19a7c47045f69ac73ea92c576a67",
       "version_major": 2,
       "version_minor": 0
      },
      "text/plain": [
       "Checkbox(value=False, description='Stainless steel drip strip provided on decks with over-the-side drainage? S…"
      ]
     },
     "metadata": {},
     "output_type": "display_data"
    },
    {
     "data": {
      "application/vnd.jupyter.widget-view+json": {
       "model_id": "8c74abba4aff445d852ad03f54f4ce48",
       "version_major": 2,
       "version_minor": 0
      },
      "text/plain": [
       "Checkbox(value=False, description='Deck slab depth over stringers shown to top of web for plate girders and to…"
      ]
     },
     "metadata": {},
     "output_type": "display_data"
    },
    {
     "data": {
      "application/vnd.jupyter.widget-view+json": {
       "model_id": "55dc4225d56f4b21916c5887c6185a0b",
       "version_major": 2,
       "version_minor": 0
      },
      "text/plain": [
       "Checkbox(value=False, description='2-inch minimum concrete haunch depth used over stringers (top of thickest f…"
      ]
     },
     "metadata": {},
     "output_type": "display_data"
    },
    {
     "data": {
      "application/vnd.jupyter.widget-view+json": {
       "model_id": "9b3fbd5e28904be3a7e626f7de975aa7",
       "version_major": 2,
       "version_minor": 0
      },
      "text/plain": [
       "Checkbox(value=False, description='For steel beam or girder bridges with skew less than 15 degrees the transve…"
      ]
     },
     "metadata": {},
     "output_type": "display_data"
    },
    {
     "data": {
      "application/vnd.jupyter.widget-view+json": {
       "model_id": "f7e35ca14c3e4b24aa7007cf3388782d",
       "version_major": 2,
       "version_minor": 0
      },
      "text/plain": [
       "Checkbox(value=False, description='For prestressed I-beam or composite box beam bridge deck, transverse bars p…"
      ]
     },
     "metadata": {},
     "output_type": "display_data"
    },
    {
     "data": {
      "application/vnd.jupyter.widget-view+json": {
       "model_id": "66faaaaf40b24c3f9e5595099fe7c45b",
       "version_major": 2,
       "version_minor": 0
      },
      "text/plain": [
       "Checkbox(value=False, description='Slab thickness and reinforcement conform to See BDM Figure 309-3, 309-4 or …"
      ]
     },
     "metadata": {},
     "output_type": "display_data"
    },
    {
     "data": {
      "application/vnd.jupyter.widget-view+json": {
       "model_id": "42f0b3b1993c4726b1cfb2409c43d69a",
       "version_major": 2,
       "version_minor": 0
      },
      "text/plain": [
       "Checkbox(value=False, description='Top and bottom main (transverse) bars at same spacing and placed to coincid…"
      ]
     },
     "metadata": {},
     "output_type": "display_data"
    },
    {
     "data": {
      "application/vnd.jupyter.widget-view+json": {
       "model_id": "bb7768d7bb3247b69d2b4d98b14ccbc9",
       "version_major": 2,
       "version_minor": 0
      },
      "text/plain": [
       "Checkbox(value=False, description='Transverse bars placed parallel to abutments for bridges with skews less th…"
      ]
     },
     "metadata": {},
     "output_type": "display_data"
    },
    {
     "data": {
      "application/vnd.jupyter.widget-view+json": {
       "model_id": "63e580afc5544541b4115aad5b276892",
       "version_major": 2,
       "version_minor": 0
      },
      "text/plain": [
       "Checkbox(value=False, description='Length of transverse bars without lap splices 5 inches shorter than deck (e…"
      ]
     },
     "metadata": {},
     "output_type": "display_data"
    },
    {
     "data": {
      "application/vnd.jupyter.widget-view+json": {
       "model_id": "6a76e77283d94457beab3372e74963a8",
       "version_major": 2,
       "version_minor": 0
      },
      "text/plain": [
       "Checkbox(value=False, description='(Transverse) bars See BDM 309.3.4.1', indent=False, layout=Layout(margin='6…"
      ]
     },
     "metadata": {},
     "output_type": "display_data"
    },
    {
     "data": {
      "application/vnd.jupyter.widget-view+json": {
       "model_id": "b940d0ddd5264f329deb6d60ea6922d2",
       "version_major": 2,
       "version_minor": 0
      },
      "text/plain": [
       "Checkbox(value=False, description='Secondary (longitudinal) bars placed above main See BDM 309.3.4.1', indent=…"
      ]
     },
     "metadata": {},
     "output_type": "display_data"
    },
    {
     "data": {
      "application/vnd.jupyter.widget-view+json": {
       "model_id": "e4cb670c027c4c04a12c09bedf44a221",
       "version_major": 2,
       "version_minor": 0
      },
      "text/plain": [
       "Checkbox(value=False, description='Additional top longitudinal bars with ends staggered 3\\'-0\" provided over p…"
      ]
     },
     "metadata": {},
     "output_type": "display_data"
    },
    {
     "data": {
      "application/vnd.jupyter.widget-view+json": {
       "model_id": "24a1265ca40346c788136ed12e4bc7c3",
       "version_major": 2,
       "version_minor": 0
      },
      "text/plain": [
       "Checkbox(value=False, description='Screed elevations given along curb lines/edges of deck, roadway crown, tran…"
      ]
     },
     "metadata": {},
     "output_type": "display_data"
    },
    {
     "data": {
      "application/vnd.jupyter.widget-view+json": {
       "model_id": "b1147f43c5714b61ac67b733887ee0c1",
       "version_major": 2,
       "version_minor": 0
      },
      "text/plain": [
       "Checkbox(value=False, description='Slab pour sequence generally specified only when uplift during construction…"
      ]
     },
     "metadata": {},
     "output_type": "display_data"
    },
    {
     "data": {
      "application/vnd.jupyter.widget-view+json": {
       "model_id": "b828232e746a4242a47f55d4372d48fa",
       "version_major": 2,
       "version_minor": 0
      },
      "text/plain": [
       "Checkbox(value=False, description='Check three independent sources of girder twist resulting from deck placeme…"
      ]
     },
     "metadata": {},
     "output_type": "display_data"
    },
    {
     "data": {
      "application/vnd.jupyter.widget-view+json": {
       "model_id": "6d5a40f7552643da8701d76410ab7695",
       "version_major": 2,
       "version_minor": 0
      },
      "text/plain": [
       "Checkbox(value=False, description='Neglect girder twist due to global deformation if the tributary deck load c…"
      ]
     },
     "metadata": {},
     "output_type": "display_data"
    },
    {
     "data": {
      "application/vnd.jupyter.widget-view+json": {
       "model_id": "cc2643c287344ba791219a97b499badf",
       "version_major": 2,
       "version_minor": 0
      },
      "text/plain": [
       "Checkbox(value=False, description='For web depth greater than 84 inches note for location of lower contact poi…"
      ]
     },
     "metadata": {},
     "output_type": "display_data"
    },
    {
     "data": {
      "application/vnd.jupyter.widget-view+json": {
       "model_id": "5458d5c8373c47de8ca8d95a6e927dde",
       "version_major": 2,
       "version_minor": 0
      },
      "text/plain": [
       "Checkbox(value=False, description='Screed, top of haunch and finished deck surface shown and note included? Se…"
      ]
     },
     "metadata": {},
     "output_type": "display_data"
    },
    {
     "data": {
      "application/vnd.jupyter.widget-view+json": {
       "model_id": "59f0add51ab84a97beb0c9192a621a27",
       "version_major": 2,
       "version_minor": 0
      },
      "text/plain": [
       "Checkbox(value=False, description='The final deck surface elevation locations should be identified in a plan v…"
      ]
     },
     "metadata": {},
     "output_type": "display_data"
    },
    {
     "data": {
      "application/vnd.jupyter.widget-view+json": {
       "model_id": "11794b8ccb3540be8b4109afcc8712da",
       "version_major": 2,
       "version_minor": 0
      },
      "text/plain": [
       "Checkbox(value=False, description='The screed elevation locations should be identified on the transverse secti…"
      ]
     },
     "metadata": {},
     "output_type": "display_data"
    },
    {
     "data": {
      "application/vnd.jupyter.widget-view+json": {
       "model_id": "a581e59785384a098dbc4e4690a45bfa",
       "version_major": 2,
       "version_minor": 0
      },
      "text/plain": [
       "Checkbox(value=False, description='The top of haunch elevation locations should be identified on the transvers…"
      ]
     },
     "metadata": {},
     "output_type": "display_data"
    },
    {
     "data": {
      "application/vnd.jupyter.widget-view+json": {
       "model_id": "25c0d1c684bf4cbd90a09ade3ca02e95",
       "version_major": 2,
       "version_minor": 0
      },
      "text/plain": [
       "Checkbox(value=False, description='Deck placement design assumptions note is included. See BDM 611.4.2', inden…"
      ]
     },
     "metadata": {},
     "output_type": "display_data"
    }
   ],
   "source": [
    "# Function to display the \"concrete_deck_on_stringers\" section\n",
    "def display_concrete_deck_on_stringers():\n",
    "    header = widgets.HTML(\"<b><u>Concrete Deck on Stringers</u></b>\")\n",
    "    display(header)\n",
    "    checkboxes = []\n",
    "    for criterion in concrete_deck_on_stringers_criteria:\n",
    "        label = criterion[\"label\"]\n",
    "        # Add \"See BDM {section}\" for items with a 'section' entry\n",
    "        if \"section\" in criterion:\n",
    "            label = f\"{label} See BDM {criterion['section']}\"\n",
    "        checkbox = widgets.Checkbox(\n",
    "            description=label,\n",
    "            value=False,\n",
    "            indent=False,\n",
    "            layout=widgets.Layout(width='100%', margin='6px 0 0 0px')\n",
    "        )\n",
    "        checkbox.style = {'description_width': '0px'}\n",
    "        checkboxes.append(checkbox)\n",
    "        display(checkbox)\n",
    "\n",
    "# Display the \"concrete_deck_on_stringers\" section\n",
    "display_concrete_deck_on_stringers()"
   ]
  },
  {
   "cell_type": "markdown",
   "id": "a5586ae5-9959-4512-9f69-121d9cb3a76a",
   "metadata": {},
   "source": [
    "## Railing/Fence"
   ]
  },
  {
   "cell_type": "markdown",
   "id": "d9617f71-5640-4d26-977d-9a84ab293bc4",
   "metadata": {},
   "source": [
    "### Deep Beam Railing"
   ]
  },
  {
   "cell_type": "code",
   "execution_count": 74,
   "id": "85ff97ab-239d-4208-8c96-92b899d9da6d",
   "metadata": {},
   "outputs": [],
   "source": [
    "# Define the deep_beam_railing criteria\n",
    "deep_beam_railing_criteria = [\n",
    "    {\"label\": \"Deep beam guardrail must be used in accordance with\", \"section\": \"309.4.3.4\"}\n",
    "]"
   ]
  },
  {
   "cell_type": "code",
   "execution_count": 75,
   "id": "e766eef8-f6a4-4b90-8aaf-009892ced96e",
   "metadata": {},
   "outputs": [
    {
     "data": {
      "application/vnd.jupyter.widget-view+json": {
       "model_id": "5932ad97e49b4870a1f335b3f5bd8e11",
       "version_major": 2,
       "version_minor": 0
      },
      "text/plain": [
       "HTML(value='<b><u>Deep Beam Railing</u></b>')"
      ]
     },
     "metadata": {},
     "output_type": "display_data"
    },
    {
     "data": {
      "application/vnd.jupyter.widget-view+json": {
       "model_id": "a991925fe0ba49f4a8e5bda6447070d7",
       "version_major": 2,
       "version_minor": 0
      },
      "text/plain": [
       "Checkbox(value=False, description='Deep beam guardrail must be used in accordance with See BDM 309.4.3.4', ind…"
      ]
     },
     "metadata": {},
     "output_type": "display_data"
    }
   ],
   "source": [
    "# Function to display the \"deep_beam_railing\" section\n",
    "def display_deep_beam_railing():\n",
    "    header = widgets.HTML(\"<b><u>Deep Beam Railing</u></b>\")\n",
    "    display(header)\n",
    "    checkboxes = []\n",
    "    for criterion in deep_beam_railing_criteria:\n",
    "        label = criterion[\"label\"]\n",
    "        # Add \"See BDM {section}\" for items with a 'section' entry\n",
    "        if \"section\" in criterion:\n",
    "            label = f\"{label} See BDM {criterion['section']}\"\n",
    "        checkbox = widgets.Checkbox(\n",
    "            description=label,\n",
    "            value=False,\n",
    "            indent=False,\n",
    "            layout=widgets.Layout(width='100%', margin='6px 0 0 0px')\n",
    "        )\n",
    "        checkbox.style = {'description_width': '0px'}\n",
    "        checkboxes.append(checkbox)\n",
    "        display(checkbox)\n",
    "\n",
    "# Display the \"deep_beam_railing\" section\n",
    "display_deep_beam_railing()"
   ]
  },
  {
   "cell_type": "markdown",
   "id": "e818f979-7fb4-4183-8dc8-4fd662c19fcd",
   "metadata": {},
   "source": [
    "### Twin Steel Tube Rail"
   ]
  },
  {
   "cell_type": "code",
   "execution_count": 76,
   "id": "aaa9319a-3236-46cd-926e-4bb29052c245",
   "metadata": {},
   "outputs": [],
   "source": [
    "# Define the twin_steel_tube criteria\n",
    "twin_steel_tube_criteria = [\n",
    "    {\"label\": \"Reference to Standard Drawing. TST-1-99 Given.\"},\n",
    "    {\"label\": \"Pay limits for bridge railing measured center-to-center of the second posts on the approaches?\"},\n",
    "    {\"label\": \"Rail post spacing of 6'-3\\\" c/c of post maintained except one post spacing per span can be decreased to allow for construction clearances.\"},\n",
    "    {\"label\": \"Suitable clearances between posts and back walls and between post anchors and expansion joint armor anchors provided?\"},\n",
    "    {\"label\": \"Wing-wall mounted post used to provide suitable post and anchor bar clearances?\"},\n",
    "    {\"label\": \"For box beam bridges with steel railing, the post spacing and position of post anchorage shall be detailed on the plans.\"},\n",
    "    {\"label\": \"Enlarged details provided to describe post anchorage to composite box beams?\"}\n",
    "]"
   ]
  },
  {
   "cell_type": "code",
   "execution_count": 77,
   "id": "fdf56e86-04f4-48e0-8c28-5eeafaaf8eb4",
   "metadata": {},
   "outputs": [
    {
     "data": {
      "application/vnd.jupyter.widget-view+json": {
       "model_id": "30b006a3d6564e219d9222b2937c02a5",
       "version_major": 2,
       "version_minor": 0
      },
      "text/plain": [
       "HTML(value='<b><u>Twin Steel Tube</u></b>')"
      ]
     },
     "metadata": {},
     "output_type": "display_data"
    },
    {
     "data": {
      "application/vnd.jupyter.widget-view+json": {
       "model_id": "63a5a981fb654c26a7accc968f01d097",
       "version_major": 2,
       "version_minor": 0
      },
      "text/plain": [
       "Checkbox(value=False, description='Reference to Standard Drawing. TST-1-99 Given.', indent=False, layout=Layou…"
      ]
     },
     "metadata": {},
     "output_type": "display_data"
    },
    {
     "data": {
      "application/vnd.jupyter.widget-view+json": {
       "model_id": "41132fddf34042d881df7e8bd6f7d957",
       "version_major": 2,
       "version_minor": 0
      },
      "text/plain": [
       "Checkbox(value=False, description='Pay limits for bridge railing measured center-to-center of the second posts…"
      ]
     },
     "metadata": {},
     "output_type": "display_data"
    },
    {
     "data": {
      "application/vnd.jupyter.widget-view+json": {
       "model_id": "5cf241a5586c44c38e31deafcafd739a",
       "version_major": 2,
       "version_minor": 0
      },
      "text/plain": [
       "Checkbox(value=False, description='Rail post spacing of 6\\'-3\" c/c of post maintained except one post spacing …"
      ]
     },
     "metadata": {},
     "output_type": "display_data"
    },
    {
     "data": {
      "application/vnd.jupyter.widget-view+json": {
       "model_id": "3cf6feba94f9454f8a2111fb8ca1582b",
       "version_major": 2,
       "version_minor": 0
      },
      "text/plain": [
       "Checkbox(value=False, description='Suitable clearances between posts and back walls and between post anchors a…"
      ]
     },
     "metadata": {},
     "output_type": "display_data"
    },
    {
     "data": {
      "application/vnd.jupyter.widget-view+json": {
       "model_id": "48c84e91157a4aa68611f7eef7c044d7",
       "version_major": 2,
       "version_minor": 0
      },
      "text/plain": [
       "Checkbox(value=False, description='Wing-wall mounted post used to provide suitable post and anchor bar clearan…"
      ]
     },
     "metadata": {},
     "output_type": "display_data"
    },
    {
     "data": {
      "application/vnd.jupyter.widget-view+json": {
       "model_id": "5581f359d8904e3d9c959bcf850d1707",
       "version_major": 2,
       "version_minor": 0
      },
      "text/plain": [
       "Checkbox(value=False, description='For box beam bridges with steel railing, the post spacing and position of p…"
      ]
     },
     "metadata": {},
     "output_type": "display_data"
    },
    {
     "data": {
      "application/vnd.jupyter.widget-view+json": {
       "model_id": "4290371b6e3e4462910343ad650f5984",
       "version_major": 2,
       "version_minor": 0
      },
      "text/plain": [
       "Checkbox(value=False, description='Enlarged details provided to describe post anchorage to composite box beams…"
      ]
     },
     "metadata": {},
     "output_type": "display_data"
    }
   ],
   "source": [
    "# Function to display the \"twin_steel_tube\" section\n",
    "def display_twin_steel_tube():\n",
    "    header = widgets.HTML(\"<b><u>Twin Steel Tube</u></b>\")\n",
    "    display(header)\n",
    "    checkboxes = []\n",
    "    for criterion in twin_steel_tube_criteria:\n",
    "        label = criterion[\"label\"]\n",
    "        checkbox = widgets.Checkbox(\n",
    "            description=label,\n",
    "            value=False,\n",
    "            indent=False,\n",
    "            layout=widgets.Layout(width='100%', margin='6px 0 0 0px')\n",
    "        )\n",
    "        checkbox.style = {'description_width': '0px'}\n",
    "        checkboxes.append(checkbox)\n",
    "        display(checkbox)\n",
    "\n",
    "# Display the \"twin_steel_tube\" section\n",
    "display_twin_steel_tube()"
   ]
  },
  {
   "cell_type": "markdown",
   "id": "6e8193f8-ac93-4a42-9f43-2bf0329f4fec",
   "metadata": {},
   "source": [
    "### Sidewalk Railing with Concrete Parapet (BR-2-98 Type Railing)"
   ]
  },
  {
   "cell_type": "code",
   "execution_count": 78,
   "id": "e8e36b59-438b-496a-bfab-84f6139278fd",
   "metadata": {},
   "outputs": [],
   "source": [
    "# Define the sidewalk_with_conc_para criteria\n",
    "sidewalk_with_conc_para_criteria = [\n",
    "    {\"label\": \"Railing posts spaced to clear parapet deflection joints as per STD-BR-2-15.\"},\n",
    "    {\"label\": \"Radius of curved railing not less than 20 feet without special details. This is noted in STD-BR-2-15 Sheet 5 of 5 Under Horizontal Curvatures Title.\"},\n",
    "    {\"label\": \"All horizontal reinforcing steel should be detailed as per STD-BR-2-15.\"},\n",
    "    {\"label\": \"Steel tubing has provision for Expansion and Contraction as shown on STD-BR-2-15 Sheet 1 of 5 View D-D.\"}\n",
    "]"
   ]
  },
  {
   "cell_type": "code",
   "execution_count": 79,
   "id": "eb898087-f267-4ef3-9a48-1f1bcc0e4ea1",
   "metadata": {},
   "outputs": [
    {
     "data": {
      "application/vnd.jupyter.widget-view+json": {
       "model_id": "faba873e0a0c4b9589a142b23d9e890f",
       "version_major": 2,
       "version_minor": 0
      },
      "text/plain": [
       "HTML(value='<b><u>Sidewalk with Concrete Parapet</u></b>')"
      ]
     },
     "metadata": {},
     "output_type": "display_data"
    },
    {
     "data": {
      "application/vnd.jupyter.widget-view+json": {
       "model_id": "2f8898374fce477ea54246295d769a45",
       "version_major": 2,
       "version_minor": 0
      },
      "text/plain": [
       "Checkbox(value=False, description='Railing posts spaced to clear parapet deflection joints as per STD-BR-2-15.…"
      ]
     },
     "metadata": {},
     "output_type": "display_data"
    },
    {
     "data": {
      "application/vnd.jupyter.widget-view+json": {
       "model_id": "5a3db7a002ee4f279fbed8abf2b12673",
       "version_major": 2,
       "version_minor": 0
      },
      "text/plain": [
       "Checkbox(value=False, description='Radius of curved railing not less than 20 feet without special details. Thi…"
      ]
     },
     "metadata": {},
     "output_type": "display_data"
    },
    {
     "data": {
      "application/vnd.jupyter.widget-view+json": {
       "model_id": "f880fde70dbd450699ad480b786ad60e",
       "version_major": 2,
       "version_minor": 0
      },
      "text/plain": [
       "Checkbox(value=False, description='All horizontal reinforcing steel should be detailed as per STD-BR-2-15.', i…"
      ]
     },
     "metadata": {},
     "output_type": "display_data"
    },
    {
     "data": {
      "application/vnd.jupyter.widget-view+json": {
       "model_id": "901ce0c675ba46939db8c3c2bbaa8bac",
       "version_major": 2,
       "version_minor": 0
      },
      "text/plain": [
       "Checkbox(value=False, description='Steel tubing has provision for Expansion and Contraction as shown on STD-BR…"
      ]
     },
     "metadata": {},
     "output_type": "display_data"
    }
   ],
   "source": [
    "# Function to display the \"sidewalk_with_conc_para\" section\n",
    "def display_sidewalk_with_conc_para():\n",
    "    header = widgets.HTML(\"<b><u>Sidewalk with Concrete Parapet</u></b>\")\n",
    "    display(header)\n",
    "    checkboxes = []\n",
    "    for criterion in sidewalk_with_conc_para_criteria:\n",
    "        label = criterion[\"label\"]\n",
    "        checkbox = widgets.Checkbox(\n",
    "            description=label,\n",
    "            value=False,\n",
    "            indent=False,\n",
    "            layout=widgets.Layout(width='100%', margin='6px 0 0 0px')\n",
    "        )\n",
    "        checkbox.style = {'description_width': '0px'}\n",
    "        checkboxes.append(checkbox)\n",
    "        display(checkbox)\n",
    "\n",
    "# Display the \"sidewalk_with_conc_para\" section\n",
    "display_sidewalk_with_conc_para()"
   ]
  },
  {
   "cell_type": "markdown",
   "id": "7b588534-5344-4df9-8b18-e4cad1a905c0",
   "metadata": {},
   "source": [
    "### Parapet Type Railing"
   ]
  },
  {
   "cell_type": "code",
   "execution_count": 80,
   "id": "bcae8ab7-faeb-4981-834c-00de95526cf7",
   "metadata": {},
   "outputs": [],
   "source": [
    "# Define the parapet_railing criteria\n",
    "parapet_railing_criteria = [\n",
    "    {\"label\": \"Parapet when to use per\", \"section\": \"309.4.3\"},\n",
    "    {\"label\": \"Complete details of the Parapet Type bridge railing shown on the plans?\"},\n",
    "    {\"label\": \"Railing transition preferably mounted on turn back abutment wingwalls or approach slabs?\"},\n",
    "    {\"label\": \"For bridges with expansion joints and with parapets mounted on approach slabs, the 1'-1\\\" high base portion of the parapets within the width of back walls are reinforced and placed as part of the abutments to provide an integral structure for mounting the expansion joint armor?\"},\n",
    "    {\"label\": \"Such parapets provided with special reinforcement and joint details to allow consolidation induced rotation of the approach slabs without parapet distress?\"},\n",
    "    {\"label\": \"Curb heights on approach slabs limited to 4 inches as shown in Section F-F on Deflector Parapet Type drawing?\"},\n",
    "    {\"label\": \"Details of filler between approach slab and turn back wing-wall at the base of the parapet made to conform to DETAIL F of Standard Drawing AS-1-15.\"},\n",
    "    {\"label\": \"Parapet length of 14'-0\\\" or more provided to allow the standard transition length to be used?\"},\n",
    "    {\"label\": \"Reference made to the roadway plans for details and payment provisions for Bridge Terminal Assembly\", \"section\": \"Drawings MGS-3.1 and MGS-3.2\"}\n",
    "]"
   ]
  },
  {
   "cell_type": "code",
   "execution_count": 81,
   "id": "e64285c6-39e9-46eb-bf97-3d8c04265431",
   "metadata": {},
   "outputs": [
    {
     "data": {
      "application/vnd.jupyter.widget-view+json": {
       "model_id": "9c846898223949039fc1955ff9d701b4",
       "version_major": 2,
       "version_minor": 0
      },
      "text/plain": [
       "HTML(value='<b><u>Parapet Railing</u></b>')"
      ]
     },
     "metadata": {},
     "output_type": "display_data"
    },
    {
     "data": {
      "application/vnd.jupyter.widget-view+json": {
       "model_id": "7162c812398c458c9da5b7a1374b59de",
       "version_major": 2,
       "version_minor": 0
      },
      "text/plain": [
       "Checkbox(value=False, description='Parapet when to use per See BDM 309.4.3', indent=False, layout=Layout(margi…"
      ]
     },
     "metadata": {},
     "output_type": "display_data"
    },
    {
     "data": {
      "application/vnd.jupyter.widget-view+json": {
       "model_id": "e85486ab7a204cf6a40c552eb0a604c0",
       "version_major": 2,
       "version_minor": 0
      },
      "text/plain": [
       "Checkbox(value=False, description='Complete details of the Parapet Type bridge railing shown on the plans?', i…"
      ]
     },
     "metadata": {},
     "output_type": "display_data"
    },
    {
     "data": {
      "application/vnd.jupyter.widget-view+json": {
       "model_id": "d226c0add7aa431eb2881af1eff8e34d",
       "version_major": 2,
       "version_minor": 0
      },
      "text/plain": [
       "Checkbox(value=False, description='Railing transition preferably mounted on turn back abutment wingwalls or ap…"
      ]
     },
     "metadata": {},
     "output_type": "display_data"
    },
    {
     "data": {
      "application/vnd.jupyter.widget-view+json": {
       "model_id": "97a7d0f5752141439ef3d2a9bfa09feb",
       "version_major": 2,
       "version_minor": 0
      },
      "text/plain": [
       "Checkbox(value=False, description='For bridges with expansion joints and with parapets mounted on approach sla…"
      ]
     },
     "metadata": {},
     "output_type": "display_data"
    },
    {
     "data": {
      "application/vnd.jupyter.widget-view+json": {
       "model_id": "86d72f1389bb49cca5178b3756b7728f",
       "version_major": 2,
       "version_minor": 0
      },
      "text/plain": [
       "Checkbox(value=False, description='Such parapets provided with special reinforcement and joint details to allo…"
      ]
     },
     "metadata": {},
     "output_type": "display_data"
    },
    {
     "data": {
      "application/vnd.jupyter.widget-view+json": {
       "model_id": "a9adf4017c984db68a9341959f52bd3b",
       "version_major": 2,
       "version_minor": 0
      },
      "text/plain": [
       "Checkbox(value=False, description='Curb heights on approach slabs limited to 4 inches as shown in Section F-F …"
      ]
     },
     "metadata": {},
     "output_type": "display_data"
    },
    {
     "data": {
      "application/vnd.jupyter.widget-view+json": {
       "model_id": "9d797e2a5a8b4d3eae8fea1eef7b5051",
       "version_major": 2,
       "version_minor": 0
      },
      "text/plain": [
       "Checkbox(value=False, description='Details of filler between approach slab and turn back wing-wall at the base…"
      ]
     },
     "metadata": {},
     "output_type": "display_data"
    },
    {
     "data": {
      "application/vnd.jupyter.widget-view+json": {
       "model_id": "a1a0d81dd9b8448ebaefcb4a6ff4577d",
       "version_major": 2,
       "version_minor": 0
      },
      "text/plain": [
       "Checkbox(value=False, description='Parapet length of 14\\'-0\" or more provided to allow the standard transition…"
      ]
     },
     "metadata": {},
     "output_type": "display_data"
    },
    {
     "data": {
      "application/vnd.jupyter.widget-view+json": {
       "model_id": "a4f08da218bb463b84287d5a27e10cfe",
       "version_major": 2,
       "version_minor": 0
      },
      "text/plain": [
       "Checkbox(value=False, description='Reference made to the roadway plans for details and payment provisions for …"
      ]
     },
     "metadata": {},
     "output_type": "display_data"
    }
   ],
   "source": [
    "# Function to display the \"parapet_railing\" section\n",
    "def display_parapet_railing():\n",
    "    header = widgets.HTML(\"<b><u>Parapet Railing</u></b>\")\n",
    "    display(header)\n",
    "    checkboxes = []\n",
    "    for criterion in parapet_railing_criteria:\n",
    "        label = criterion[\"label\"]\n",
    "        # Add \"See BDM {section}\" for items with a 'section' entry\n",
    "        if \"section\" in criterion:\n",
    "            label = f\"{label} See BDM {criterion['section']}\"\n",
    "        checkbox = widgets.Checkbox(\n",
    "            description=label,\n",
    "            value=False,\n",
    "            indent=False,\n",
    "            layout=widgets.Layout(width='100%', margin='6px 0 0 0px')\n",
    "        )\n",
    "        checkbox.style = {'description_width': '0px'}\n",
    "        checkboxes.append(checkbox)\n",
    "        display(checkbox)\n",
    "\n",
    "# Display the \"parapet_railing\" section\n",
    "display_parapet_railing()"
   ]
  },
  {
   "cell_type": "markdown",
   "id": "bc3ecef4-c6bc-4aaa-b882-0d234d4610ca",
   "metadata": {},
   "source": [
    "### Parapet and Fence Type Railing"
   ]
  },
  {
   "cell_type": "code",
   "execution_count": 82,
   "id": "b703a891-aae4-46ce-98ff-264a8403a0a2",
   "metadata": {},
   "outputs": [],
   "source": [
    "# Define the parapet_and_fence criteria\n",
    "parapet_and_fence_criteria = [\n",
    "    {\"label\": \"2'-8\\\" high parapets provided?\"},\n",
    "    {\"label\": \"New guideline for fencing? Fence used on all structure over live traffic except over County and Township roads.\"},\n",
    "    {\"label\": \"Fence details conform to Standard Drawings VPF-1-90?\"}\n",
    "]"
   ]
  },
  {
   "cell_type": "code",
   "execution_count": 83,
   "id": "16d3a376-af6e-4c3d-8914-8da0726cba3c",
   "metadata": {},
   "outputs": [
    {
     "data": {
      "application/vnd.jupyter.widget-view+json": {
       "model_id": "ec89cda01c8244c3877fa04962407288",
       "version_major": 2,
       "version_minor": 0
      },
      "text/plain": [
       "HTML(value='<b><u>Parapet and Fence</u></b>')"
      ]
     },
     "metadata": {},
     "output_type": "display_data"
    },
    {
     "data": {
      "application/vnd.jupyter.widget-view+json": {
       "model_id": "f83865cc266e471ba213a802fb8836e6",
       "version_major": 2,
       "version_minor": 0
      },
      "text/plain": [
       "Checkbox(value=False, description='2\\'-8\" high parapets provided?', indent=False, layout=Layout(margin='6px 0 …"
      ]
     },
     "metadata": {},
     "output_type": "display_data"
    },
    {
     "data": {
      "application/vnd.jupyter.widget-view+json": {
       "model_id": "7bfdc2647f7b40399f72ccdc2ad4d9eb",
       "version_major": 2,
       "version_minor": 0
      },
      "text/plain": [
       "Checkbox(value=False, description='New guideline for fencing? Fence used on all structure over live traffic ex…"
      ]
     },
     "metadata": {},
     "output_type": "display_data"
    },
    {
     "data": {
      "application/vnd.jupyter.widget-view+json": {
       "model_id": "aabde27800ba46ebb4dedea266be9e35",
       "version_major": 2,
       "version_minor": 0
      },
      "text/plain": [
       "Checkbox(value=False, description='Fence details conform to Standard Drawings VPF-1-90?', indent=False, layout…"
      ]
     },
     "metadata": {},
     "output_type": "display_data"
    }
   ],
   "source": [
    "# Function to display the \"parapet_and_fence\" section\n",
    "def display_parapet_and_fence():\n",
    "    header = widgets.HTML(\"<b><u>Parapet and Fence</u></b>\")\n",
    "    display(header)\n",
    "    checkboxes = []\n",
    "    for criterion in parapet_and_fence_criteria:\n",
    "        label = criterion[\"label\"]\n",
    "        checkbox = widgets.Checkbox(\n",
    "            description=label,\n",
    "            value=False,\n",
    "            indent=False,\n",
    "            layout=widgets.Layout(width='100%', margin='6px 0 0 0px')\n",
    "        )\n",
    "        checkbox.style = {'description_width': '0px'}\n",
    "        checkboxes.append(checkbox)\n",
    "        display(checkbox)\n",
    "\n",
    "# Display the \"parapet_and_fence\" section\n",
    "display_parapet_and_fence()"
   ]
  },
  {
   "cell_type": "markdown",
   "id": "1c3fff0f-9d82-4d76-8d57-a7d7bc5ff927",
   "metadata": {},
   "source": [
    "## Bearings"
   ]
  },
  {
   "cell_type": "markdown",
   "id": "9588dcfd-c372-490a-8abf-3c1cf7c0ace1",
   "metadata": {},
   "source": [
    "### Elastomeric Bearings"
   ]
  },
  {
   "cell_type": "code",
   "execution_count": 84,
   "id": "4f85e22c-65b2-4563-90cf-7cf7114ba9d5",
   "metadata": {},
   "outputs": [],
   "source": [
    "# Define the elastomeric_bearings criteria\n",
    "elastomeric_bearings_criteria = [\n",
    "    {\"label\": \"Steel load plate provided for attachment to steel members?\", \"section\": \"306.4.2\"},\n",
    "    {\"label\": \"Elastomer hardness specified?\", \"section\": \"306.4.2\"},\n",
    "    {\"label\": \"An elastomeric pad thickness of 1 inch or more provided (Such pads generally must be reinforced with steel laminates)?\", \"section\": \"306.4.2\"},\n",
    "    {\"label\": \"A tabulation of unfactored dead load, live load excluding impact, and 'Maximum Design Load' given?\"},\n",
    "    {\"label\": \"For prestressed box beam bridges without external steel load plates, bearing shall conform to Standard Drawing BD-1-11?\"},\n",
    "    {\"label\": \"Elastomeric bearing with a load plate shall have the plate beveled if the rotation and/or grade exceed the limitations of AASHTO LRFD 14.7.5.3.3 Method B and 14.7.6.3.5 Method A?\"},\n",
    "    {\"label\": \"Provided with bearing details.\", \"section\": \"Note no. 702.13\"},\n",
    "    {\"label\": \"Top and bottom cover layers should not be thicker than 70% of internal layers\", \"section\": \"AASHTO LRFD 14.7.6.1\"},\n",
    "    {\"label\": \"No top cover layer for bearing with load plate.\", \"section\": \"AASHTO LRFD 14.7.6.1\"},\n",
    "    {\"label\": \"Following note included: 'All bearings shall be marked prior to shipping. The marks shall include the bearing location on the bridge, and a direction arrow that points up-station. All marks shall be permanent and be visible after the bearing is installed.'\"},\n",
    "    {\"label\": \"A plate bigger than bottom flange on top of HP section so that it can be welded from the top.\"}\n",
    "]"
   ]
  },
  {
   "cell_type": "code",
   "execution_count": 85,
   "id": "7c7f8b4f-a31d-42b3-94ef-09db211eda9b",
   "metadata": {},
   "outputs": [
    {
     "data": {
      "application/vnd.jupyter.widget-view+json": {
       "model_id": "4a721e5615c3444abac70ef82cd20f53",
       "version_major": 2,
       "version_minor": 0
      },
      "text/plain": [
       "HTML(value='<b><u>Elastomeric Bearings</u></b>')"
      ]
     },
     "metadata": {},
     "output_type": "display_data"
    },
    {
     "data": {
      "application/vnd.jupyter.widget-view+json": {
       "model_id": "a9eaeae831034a0c9f8070dd20cdd8ef",
       "version_major": 2,
       "version_minor": 0
      },
      "text/plain": [
       "Checkbox(value=False, description='Steel load plate provided for attachment to steel members? See BDM 306.4.2'…"
      ]
     },
     "metadata": {},
     "output_type": "display_data"
    },
    {
     "data": {
      "application/vnd.jupyter.widget-view+json": {
       "model_id": "9eb2e6f943cd4923a948e2210a39ca37",
       "version_major": 2,
       "version_minor": 0
      },
      "text/plain": [
       "Checkbox(value=False, description='Elastomer hardness specified? See BDM 306.4.2', indent=False, layout=Layout…"
      ]
     },
     "metadata": {},
     "output_type": "display_data"
    },
    {
     "data": {
      "application/vnd.jupyter.widget-view+json": {
       "model_id": "fa7db199eae84c819dd04246393698d4",
       "version_major": 2,
       "version_minor": 0
      },
      "text/plain": [
       "Checkbox(value=False, description='An elastomeric pad thickness of 1 inch or more provided (Such pads generall…"
      ]
     },
     "metadata": {},
     "output_type": "display_data"
    },
    {
     "data": {
      "application/vnd.jupyter.widget-view+json": {
       "model_id": "c932f137403e466aa15703193af37e2a",
       "version_major": 2,
       "version_minor": 0
      },
      "text/plain": [
       "Checkbox(value=False, description=\"A tabulation of unfactored dead load, live load excluding impact, and 'Maxi…"
      ]
     },
     "metadata": {},
     "output_type": "display_data"
    },
    {
     "data": {
      "application/vnd.jupyter.widget-view+json": {
       "model_id": "d87d8dc37381444ca833fe2d7380ab4a",
       "version_major": 2,
       "version_minor": 0
      },
      "text/plain": [
       "Checkbox(value=False, description='For prestressed box beam bridges without external steel load plates, bearin…"
      ]
     },
     "metadata": {},
     "output_type": "display_data"
    },
    {
     "data": {
      "application/vnd.jupyter.widget-view+json": {
       "model_id": "5479389c26654b8cabbae292ee665bd8",
       "version_major": 2,
       "version_minor": 0
      },
      "text/plain": [
       "Checkbox(value=False, description='Elastomeric bearing with a load plate shall have the plate beveled if the r…"
      ]
     },
     "metadata": {},
     "output_type": "display_data"
    },
    {
     "data": {
      "application/vnd.jupyter.widget-view+json": {
       "model_id": "93b1a18e976449048f762cb58469f570",
       "version_major": 2,
       "version_minor": 0
      },
      "text/plain": [
       "Checkbox(value=False, description='Provided with bearing details. See BDM Note no. 702.13', indent=False, layo…"
      ]
     },
     "metadata": {},
     "output_type": "display_data"
    },
    {
     "data": {
      "application/vnd.jupyter.widget-view+json": {
       "model_id": "cf7774115b1241e9a0d5bb47b7e637e8",
       "version_major": 2,
       "version_minor": 0
      },
      "text/plain": [
       "Checkbox(value=False, description='Top and bottom cover layers should not be thicker than 70% of internal laye…"
      ]
     },
     "metadata": {},
     "output_type": "display_data"
    },
    {
     "data": {
      "application/vnd.jupyter.widget-view+json": {
       "model_id": "7b661d080b004de08bdfc345d230e680",
       "version_major": 2,
       "version_minor": 0
      },
      "text/plain": [
       "Checkbox(value=False, description='No top cover layer for bearing with load plate. See BDM AASHTO LRFD 14.7.6.…"
      ]
     },
     "metadata": {},
     "output_type": "display_data"
    },
    {
     "data": {
      "application/vnd.jupyter.widget-view+json": {
       "model_id": "96465f11b0af4c5eb59fa208f13b5a19",
       "version_major": 2,
       "version_minor": 0
      },
      "text/plain": [
       "Checkbox(value=False, description=\"Following note included: 'All bearings shall be marked prior to shipping. T…"
      ]
     },
     "metadata": {},
     "output_type": "display_data"
    },
    {
     "data": {
      "application/vnd.jupyter.widget-view+json": {
       "model_id": "49e4ddf21bf34dd5b6e6999d1714f9b1",
       "version_major": 2,
       "version_minor": 0
      },
      "text/plain": [
       "Checkbox(value=False, description='A plate bigger than bottom flange on top of HP section so that it can be we…"
      ]
     },
     "metadata": {},
     "output_type": "display_data"
    }
   ],
   "source": [
    "# Function to display the \"elastomeric_bearings\" section\n",
    "def display_elastomeric_bearings():\n",
    "    header = widgets.HTML(\"<b><u>Elastomeric Bearings</u></b>\")\n",
    "    display(header)\n",
    "    checkboxes = []\n",
    "    for criterion in elastomeric_bearings_criteria:\n",
    "        label = criterion[\"label\"]\n",
    "        # Add \"See BDM {section}\" for items with a 'section' entry\n",
    "        if \"section\" in criterion:\n",
    "            label = f\"{label} See BDM {criterion['section']}\"\n",
    "        checkbox = widgets.Checkbox(\n",
    "            description=label,\n",
    "            value=False,\n",
    "            indent=False,\n",
    "            layout=widgets.Layout(width='100%', margin='6px 0 0 0px')\n",
    "        )\n",
    "        checkbox.style = {'description_width': '0px'}\n",
    "        checkboxes.append(checkbox)\n",
    "        display(checkbox)\n",
    "\n",
    "# Display the \"elastomeric_bearings\" section\n",
    "display_elastomeric_bearings()"
   ]
  },
  {
   "cell_type": "markdown",
   "id": "3910a000-dfd8-4406-82e6-871dbfc25103",
   "metadata": {},
   "source": [
    "### Anchor Bars"
   ]
  },
  {
   "cell_type": "code",
   "execution_count": 88,
   "id": "17fa340b-b6e2-432e-884a-633b179b9804",
   "metadata": {},
   "outputs": [],
   "source": [
    "# Define the anchor_bars criteria\n",
    "anchor_bars_criteria = [\n",
    "    {\n",
    "        \"label\": \"Furnishing and placing anchor bars and ¾” galvanized threaded rod included with Bearing box beams or I-beams) for payment?\",\n",
    "        \"section\": \"Standard Drawing BD-1-11, PSBD-2-07. Not required for PSBD-2-07\"\n",
    "    },\n",
    "    {\n",
    "        \"label\": \"For steel bearings, furnishing and placing anchor bars included with bearings for payment?\",\n",
    "        \"section\": \"RB-1-55 and FB-1-82\"\n",
    "    }\n",
    "]"
   ]
  },
  {
   "cell_type": "code",
   "execution_count": 89,
   "id": "7d91f722-8bb4-406a-ae21-5aaacfca957f",
   "metadata": {},
   "outputs": [
    {
     "data": {
      "application/vnd.jupyter.widget-view+json": {
       "model_id": "170411b7e14c41dd8b5906c27a325e08",
       "version_major": 2,
       "version_minor": 0
      },
      "text/plain": [
       "HTML(value='<b><u>Anchor Bars</u></b>')"
      ]
     },
     "metadata": {},
     "output_type": "display_data"
    },
    {
     "data": {
      "application/vnd.jupyter.widget-view+json": {
       "model_id": "dc98c6335e6f4252953f42995ba2fe00",
       "version_major": 2,
       "version_minor": 0
      },
      "text/plain": [
       "Checkbox(value=False, description='Furnishing and placing anchor bars and ¾” galvanized threaded rod included …"
      ]
     },
     "metadata": {},
     "output_type": "display_data"
    },
    {
     "data": {
      "application/vnd.jupyter.widget-view+json": {
       "model_id": "7ef9cbf4a6824726b3f6846eb353499c",
       "version_major": 2,
       "version_minor": 0
      },
      "text/plain": [
       "Checkbox(value=False, description='For steel bearings, furnishing and placing anchor bars included with bearin…"
      ]
     },
     "metadata": {},
     "output_type": "display_data"
    }
   ],
   "source": [
    "# Function to display the \"anchor_bars\" section\n",
    "def display_anchor_bars():\n",
    "    header = widgets.HTML(\"<b><u>Anchor Bars</u></b>\")\n",
    "    display(header)\n",
    "    checkboxes = []\n",
    "    for criterion in anchor_bars_criteria:\n",
    "        label = criterion[\"label\"]\n",
    "        # Add \"See BDM {section}\" for items with a 'section' entry\n",
    "        if \"section\" in criterion:\n",
    "            label = f\"{label} See BDM {criterion['section']}\"\n",
    "        checkbox = widgets.Checkbox(\n",
    "            description=label,\n",
    "            value=False,\n",
    "            indent=False,\n",
    "            layout=widgets.Layout(width='100%', margin='6px 0 0 0px')\n",
    "        )\n",
    "        checkbox.style = {'description_width': '0px'}\n",
    "        checkboxes.append(checkbox)\n",
    "        display(checkbox)\n",
    "\n",
    "# Display the \"anchor_bars\" section\n",
    "display_anchor_bars()"
   ]
  },
  {
   "cell_type": "markdown",
   "id": "530e9dd7-b3a0-45b1-8e2d-5e3d3cf6ae80",
   "metadata": {},
   "source": [
    "### Anchor Bolt Layout"
   ]
  },
  {
   "cell_type": "code",
   "execution_count": 90,
   "id": "b6a6f14c-5454-486c-8b04-507df2fa6ceb",
   "metadata": {},
   "outputs": [],
   "source": [
    "# Define the anchor_bolt criteria\n",
    "anchor_bolt_criteria = [\n",
    "    {\"label\": \"Outline of masonry plate?\"},\n",
    "    {\"label\": \"Anchor bolt size and embedment length.\"},\n",
    "    {\"label\": \"Bearing Anchor Plan to adequately show the location of the bearing anchors with respect to the main reinforcing bars and the edges of the bridge seats shall be provided.\", \"section\": \"306.2.1.2\"}\n",
    "]"
   ]
  },
  {
   "cell_type": "code",
   "execution_count": 91,
   "id": "f8498da7-a987-4c27-8449-b79a7f8ebe54",
   "metadata": {},
   "outputs": [
    {
     "data": {
      "application/vnd.jupyter.widget-view+json": {
       "model_id": "93ac288ce9834bac921670eeedf4b831",
       "version_major": 2,
       "version_minor": 0
      },
      "text/plain": [
       "HTML(value='<b><u>Anchor Bolt</u></b>')"
      ]
     },
     "metadata": {},
     "output_type": "display_data"
    },
    {
     "data": {
      "application/vnd.jupyter.widget-view+json": {
       "model_id": "ae73d449c85f4bfca523492a4621c508",
       "version_major": 2,
       "version_minor": 0
      },
      "text/plain": [
       "Checkbox(value=False, description='Outline of masonry plate?', indent=False, layout=Layout(margin='6px 0 0 0px…"
      ]
     },
     "metadata": {},
     "output_type": "display_data"
    },
    {
     "data": {
      "application/vnd.jupyter.widget-view+json": {
       "model_id": "08f8a417e5634d31b85ca4c62c123aa4",
       "version_major": 2,
       "version_minor": 0
      },
      "text/plain": [
       "Checkbox(value=False, description='Anchor bolt size and embedment length.', indent=False, layout=Layout(margin…"
      ]
     },
     "metadata": {},
     "output_type": "display_data"
    },
    {
     "data": {
      "application/vnd.jupyter.widget-view+json": {
       "model_id": "da70e90d0d0c46ee994bc7e94c6c7a3c",
       "version_major": 2,
       "version_minor": 0
      },
      "text/plain": [
       "Checkbox(value=False, description='Bearing Anchor Plan to adequately show the location of the bearing anchors …"
      ]
     },
     "metadata": {},
     "output_type": "display_data"
    }
   ],
   "source": [
    "# Function to display the \"anchor_bolt\" section\n",
    "def display_anchor_bolt():\n",
    "    header = widgets.HTML(\"<b><u>Anchor Bolt</u></b>\")\n",
    "    display(header)\n",
    "    checkboxes = []\n",
    "    for criterion in anchor_bolt_criteria:\n",
    "        label = criterion[\"label\"]\n",
    "        # Add \"See BDM {section}\" for items with a 'section' entry\n",
    "        if \"section\" in criterion:\n",
    "            label = f\"{label} See BDM {criterion['section']}\"\n",
    "        checkbox = widgets.Checkbox(\n",
    "            description=label,\n",
    "            value=False,\n",
    "            indent=False,\n",
    "            layout=widgets.Layout(width='100%', margin='6px 0 0 0px')\n",
    "        )\n",
    "        checkbox.style = {'description_width': '0px'}\n",
    "        checkboxes.append(checkbox)\n",
    "        display(checkbox)\n",
    "\n",
    "# Display the \"anchor_bolt\" section\n",
    "display_anchor_bolt()"
   ]
  },
  {
   "cell_type": "markdown",
   "id": "5d28b073-9411-4d25-93b7-e94adf38d7c3",
   "metadata": {},
   "source": [
    "### Bearings - Miscellaneous"
   ]
  },
  {
   "cell_type": "code",
   "execution_count": 92,
   "id": "d0e01e5f-5eab-4636-b000-019d25167666",
   "metadata": {},
   "outputs": [],
   "source": [
    "# Define the bearings_misc criteria\n",
    "bearings_misc_criteria = [\n",
    "    {\n",
    "        \"label\": \"Movement Provisions: Bearing movement provisions (Fixed, expansion restrained) indicated on the Site Plan and General Plan?\",\n",
    "        \"section\": \"201.1.2.2KI\"\n",
    "    },\n",
    "    {\"label\": \"Bearing designation (i.e., R-200) for each substructure unit indicated on the framing plan, beam elevation, or deck plan?\"},\n",
    "    {\"label\": \"Bearing details or reference to standard drawings given? Separate pay item provided for other than standard steel bearings (steel bearings for steel bridge are usually included with structural steel for payment)?\"},\n",
    "    {\"label\": \"Bearing types provided consistent with superstructure movement (longitudinal, lateral, and rotational)?\"},\n",
    "    {\"label\": \"Bearings/Joints: For bridges with sidewalk, bearing types compatible with deck joint characteristics?\"},\n",
    "    {\"label\": \"Bridge Seats: Bridge seats large enough for the size bearing used taken into account the need for edge clearances and construction tolerances (wider seats are usually provided for some bridges which are skewed greater than 30 degrees)?\"},\n",
    "    {\"label\": \"Grade Considerations: Tapered sole plates provided for rocker and bolster bearings for grades of 2 percent or greater?\"},\n",
    "    {\"label\": \"Coatings: Are notes provided to specify the type of coating required, if other than bare ASTM steel or Elastomeric bearings?\"},\n",
    "    {\"label\": \"Bridge seats adequate for earthquake provision?\", \"section\": \"306.2.1.1\"},\n",
    "    {\"label\": \"Are seismic restraints required?\", \"section\": \"1003 - S3.10.9.2, 303.1.4.1.a\"}\n",
    "]"
   ]
  },
  {
   "cell_type": "code",
   "execution_count": 93,
   "id": "6c351d7f-ea61-46f5-8c39-04eb6cde70d2",
   "metadata": {},
   "outputs": [
    {
     "data": {
      "application/vnd.jupyter.widget-view+json": {
       "model_id": "0752a868d9a441f18cc4e2cf26aa58c0",
       "version_major": 2,
       "version_minor": 0
      },
      "text/plain": [
       "HTML(value='<b><u>Bearings Misc</u></b>')"
      ]
     },
     "metadata": {},
     "output_type": "display_data"
    },
    {
     "data": {
      "application/vnd.jupyter.widget-view+json": {
       "model_id": "b4a965fa0cc9422fb7c5fb6cfb54904c",
       "version_major": 2,
       "version_minor": 0
      },
      "text/plain": [
       "Checkbox(value=False, description='Movement Provisions: Bearing movement provisions (Fixed, expansion restrain…"
      ]
     },
     "metadata": {},
     "output_type": "display_data"
    },
    {
     "data": {
      "application/vnd.jupyter.widget-view+json": {
       "model_id": "5c777668dacc438ebd369b8e3a2a8e8e",
       "version_major": 2,
       "version_minor": 0
      },
      "text/plain": [
       "Checkbox(value=False, description='Bearing designation (i.e., R-200) for each substructure unit indicated on t…"
      ]
     },
     "metadata": {},
     "output_type": "display_data"
    },
    {
     "data": {
      "application/vnd.jupyter.widget-view+json": {
       "model_id": "aaa32c10bd014cc6aa0a7cc848b730ca",
       "version_major": 2,
       "version_minor": 0
      },
      "text/plain": [
       "Checkbox(value=False, description='Bearing details or reference to standard drawings given? Separate pay item …"
      ]
     },
     "metadata": {},
     "output_type": "display_data"
    },
    {
     "data": {
      "application/vnd.jupyter.widget-view+json": {
       "model_id": "310ee7597aa2489bb647ab0ad9b93b8d",
       "version_major": 2,
       "version_minor": 0
      },
      "text/plain": [
       "Checkbox(value=False, description='Bearing types provided consistent with superstructure movement (longitudina…"
      ]
     },
     "metadata": {},
     "output_type": "display_data"
    },
    {
     "data": {
      "application/vnd.jupyter.widget-view+json": {
       "model_id": "6a67d7aa775c43c2b2b3549e3a114aaf",
       "version_major": 2,
       "version_minor": 0
      },
      "text/plain": [
       "Checkbox(value=False, description='Bearings/Joints: For bridges with sidewalk, bearing types compatible with d…"
      ]
     },
     "metadata": {},
     "output_type": "display_data"
    },
    {
     "data": {
      "application/vnd.jupyter.widget-view+json": {
       "model_id": "09b02b1aea264762819042a686552637",
       "version_major": 2,
       "version_minor": 0
      },
      "text/plain": [
       "Checkbox(value=False, description='Bridge Seats: Bridge seats large enough for the size bearing used taken int…"
      ]
     },
     "metadata": {},
     "output_type": "display_data"
    },
    {
     "data": {
      "application/vnd.jupyter.widget-view+json": {
       "model_id": "fcb45a9727b54b7da9ff778269211d82",
       "version_major": 2,
       "version_minor": 0
      },
      "text/plain": [
       "Checkbox(value=False, description='Grade Considerations: Tapered sole plates provided for rocker and bolster b…"
      ]
     },
     "metadata": {},
     "output_type": "display_data"
    },
    {
     "data": {
      "application/vnd.jupyter.widget-view+json": {
       "model_id": "5d3c490f8b914e35896b568fe9dd0ed4",
       "version_major": 2,
       "version_minor": 0
      },
      "text/plain": [
       "Checkbox(value=False, description='Coatings: Are notes provided to specify the type of coating required, if ot…"
      ]
     },
     "metadata": {},
     "output_type": "display_data"
    },
    {
     "data": {
      "application/vnd.jupyter.widget-view+json": {
       "model_id": "a31d15882831426a9567730000e8c6d0",
       "version_major": 2,
       "version_minor": 0
      },
      "text/plain": [
       "Checkbox(value=False, description='Bridge seats adequate for earthquake provision? See BDM 306.2.1.1', indent=…"
      ]
     },
     "metadata": {},
     "output_type": "display_data"
    },
    {
     "data": {
      "application/vnd.jupyter.widget-view+json": {
       "model_id": "cbbe054c48ec477fb555f7f364af372e",
       "version_major": 2,
       "version_minor": 0
      },
      "text/plain": [
       "Checkbox(value=False, description='Are seismic restraints required? See BDM 1003 - S3.10.9.2, 303.1.4.1.a', in…"
      ]
     },
     "metadata": {},
     "output_type": "display_data"
    }
   ],
   "source": [
    "# Function to display the \"bearings_misc\" section\n",
    "def display_bearings_misc():\n",
    "    header = widgets.HTML(\"<b><u>Bearings Misc</u></b>\")\n",
    "    display(header)\n",
    "    checkboxes = []\n",
    "    for criterion in bearings_misc_criteria:\n",
    "        label = criterion[\"label\"]\n",
    "        # Add \"See BDM {section}\" for items with a 'section' entry\n",
    "        if \"section\" in criterion:\n",
    "            label = f\"{label} See BDM {criterion['section']}\"\n",
    "        checkbox = widgets.Checkbox(\n",
    "            description=label,\n",
    "            value=False,\n",
    "            indent=False,\n",
    "            layout=widgets.Layout(width='100%', margin='6px 0 0 0px')\n",
    "        )\n",
    "        checkbox.style = {'description_width': '0px'}\n",
    "        checkboxes.append(checkbox)\n",
    "        display(checkbox)\n",
    "\n",
    "# Display the \"bearings_misc\" section\n",
    "display_bearings_misc()"
   ]
  },
  {
   "cell_type": "markdown",
   "id": "052551f9-5f45-42df-a0bd-737e55a3f06c",
   "metadata": {},
   "source": [
    "## Deck Joints"
   ]
  },
  {
   "cell_type": "markdown",
   "id": "30595bd8-f483-45b2-b898-a94f44a47264",
   "metadata": {},
   "source": [
    "### Terminal Details"
   ]
  },
  {
   "cell_type": "code",
   "execution_count": 94,
   "id": "188728d6-883a-42c0-85f4-f14cced6fc04",
   "metadata": {},
   "outputs": [],
   "source": [
    "# Define the deck_joint_terminal criteria\n",
    "deck_joint_terminal_criteria = [\n",
    "    {\n",
    "        \"label\": \"To confine deck drainage, recessed joint seals, joints terminated as shown in Sections A-A and F-F of Standard Drawings EXJ-2-81 and EXJ-3-82; and Sections B-B and F-F Of Standard Drawing EXJ-4-87 and EXJ-5-93.\"\n",
    "    },\n",
    "    {\n",
    "        \"label\": \"For new bridges with over the side drainage and wall-type abutments, abutment wing-walls or retaining walls positioned flush with the back wall to allow extension of sealed deck joints beyond the bridge seats?\"\n",
    "    }\n",
    "]"
   ]
  },
  {
   "cell_type": "code",
   "execution_count": 95,
   "id": "9b83bbf7-2452-4bae-86ef-0ea448205e81",
   "metadata": {},
   "outputs": [
    {
     "data": {
      "application/vnd.jupyter.widget-view+json": {
       "model_id": "cd91cd68036d4a3998be22fadba3359c",
       "version_major": 2,
       "version_minor": 0
      },
      "text/plain": [
       "HTML(value='<b><u>Deck Joint Terminal</u></b>')"
      ]
     },
     "metadata": {},
     "output_type": "display_data"
    },
    {
     "data": {
      "application/vnd.jupyter.widget-view+json": {
       "model_id": "48cc2d48ac594ee398af058f6470cce0",
       "version_major": 2,
       "version_minor": 0
      },
      "text/plain": [
       "Checkbox(value=False, description='To confine deck drainage, recessed joint seals, joints terminated as shown …"
      ]
     },
     "metadata": {},
     "output_type": "display_data"
    },
    {
     "data": {
      "application/vnd.jupyter.widget-view+json": {
       "model_id": "70fe32f4111c4ba181449c75988b5061",
       "version_major": 2,
       "version_minor": 0
      },
      "text/plain": [
       "Checkbox(value=False, description='For new bridges with over the side drainage and wall-type abutments, abutme…"
      ]
     },
     "metadata": {},
     "output_type": "display_data"
    }
   ],
   "source": [
    "# Function to display the \"deck_joint_terminal\" section\n",
    "def display_deck_joint_terminal():\n",
    "    header = widgets.HTML(\"<b><u>Deck Joint Terminal</u></b>\")\n",
    "    display(header)\n",
    "    checkboxes = []\n",
    "    for criterion in deck_joint_terminal_criteria:\n",
    "        label = criterion[\"label\"]\n",
    "        checkbox = widgets.Checkbox(\n",
    "            description=label,\n",
    "            value=False,\n",
    "            indent=False,\n",
    "            layout=widgets.Layout(width='100%', margin='6px 0 0 0px')\n",
    "        )\n",
    "        checkbox.style = {'description_width': '0px'}\n",
    "        checkboxes.append(checkbox)\n",
    "        display(checkbox)\n",
    "\n",
    "# Display the \"deck_joint_terminal\" section\n",
    "display_deck_joint_terminal()"
   ]
  },
  {
   "cell_type": "markdown",
   "id": "18903753-7cc0-4542-97db-9900582ef16a",
   "metadata": {},
   "source": [
    "### Joint/Bearing Coordination"
   ]
  },
  {
   "cell_type": "code",
   "execution_count": 96,
   "id": "f2c32a31-4f00-4cb0-8447-cb9f37606b4d",
   "metadata": {},
   "outputs": [],
   "source": [
    "# Define the joint_bearing_coordination criteria\n",
    "joint_bearing_coordination_criteria = [\n",
    "    {\n",
    "        \"label\": \"For bridges with elastomeric bearings and sliding plate type joints, bridging plates positioned cantilevered from the abutment side of the joint to prevent the plate from binding due to the compressive deflection of the bearings?\"\n",
    "    },\n",
    "    {\n",
    "        \"label\": \"For sliding plate type joints on grades, a bevel fill attached to the underside of the cantilever plate to provide a level sliding surface to parallel the direction of bearing movement?\"\n",
    "    },\n",
    "    {\n",
    "        \"label\": \"Sliding plate type joints avoided on all structures?\"\n",
    "    }\n",
    "]"
   ]
  },
  {
   "cell_type": "code",
   "execution_count": 97,
   "id": "c4e83ed0-d24c-4a4c-8b12-48de9b7b037e",
   "metadata": {},
   "outputs": [
    {
     "data": {
      "application/vnd.jupyter.widget-view+json": {
       "model_id": "2eb9b461445744c6a69043fbcf1ce3d1",
       "version_major": 2,
       "version_minor": 0
      },
      "text/plain": [
       "HTML(value='<b><u>Joint Bearing Coordination</u></b>')"
      ]
     },
     "metadata": {},
     "output_type": "display_data"
    },
    {
     "data": {
      "application/vnd.jupyter.widget-view+json": {
       "model_id": "16ccd4b4ebdb45beae107c23fde3c87b",
       "version_major": 2,
       "version_minor": 0
      },
      "text/plain": [
       "Checkbox(value=False, description='For bridges with elastomeric bearings and sliding plate type joints, bridgi…"
      ]
     },
     "metadata": {},
     "output_type": "display_data"
    },
    {
     "data": {
      "application/vnd.jupyter.widget-view+json": {
       "model_id": "4bb1472d8a9c4172a5cc355c01ba67ac",
       "version_major": 2,
       "version_minor": 0
      },
      "text/plain": [
       "Checkbox(value=False, description='For sliding plate type joints on grades, a bevel fill attached to the under…"
      ]
     },
     "metadata": {},
     "output_type": "display_data"
    },
    {
     "data": {
      "application/vnd.jupyter.widget-view+json": {
       "model_id": "a5552a1491ad4603abb8216a7bb4657e",
       "version_major": 2,
       "version_minor": 0
      },
      "text/plain": [
       "Checkbox(value=False, description='Sliding plate type joints avoided on all structures?', indent=False, layout…"
      ]
     },
     "metadata": {},
     "output_type": "display_data"
    }
   ],
   "source": [
    "# Function to display the \"joint_bearing_coordination\" section\n",
    "def display_joint_bearing_coordination():\n",
    "    header = widgets.HTML(\"<b><u>Joint Bearing Coordination</u></b>\")\n",
    "    display(header)\n",
    "    checkboxes = []\n",
    "    for criterion in joint_bearing_coordination_criteria:\n",
    "        label = criterion[\"label\"]\n",
    "        checkbox = widgets.Checkbox(\n",
    "            description=label,\n",
    "            value=False,\n",
    "            indent=False,\n",
    "            layout=widgets.Layout(width='100%', margin='6px 0 0 0px')\n",
    "        )\n",
    "        checkbox.style = {'description_width': '0px'}\n",
    "        checkboxes.append(checkbox)\n",
    "        display(checkbox)\n",
    "\n",
    "# Display the \"joint_bearing_coordination\" section\n",
    "display_joint_bearing_coordination()"
   ]
  },
  {
   "cell_type": "markdown",
   "id": "9ffb10f0-262c-44c9-b218-c2a0834ea2f7",
   "metadata": {},
   "source": [
    "### Deck Joints - Miscellaneous"
   ]
  },
  {
   "cell_type": "code",
   "execution_count": 98,
   "id": "707f88b5-d0ef-455f-9379-e3c91557b1f2",
   "metadata": {},
   "outputs": [],
   "source": [
    "# Define the deck_joints_misc criteria\n",
    "deck_joints_misc_criteria = [\n",
    "    {\n",
    "        \"label\": \"Box Beams: The use of joints generally follows the guidelines given in\",\n",
    "        \"section\": \"309.6.3\"\n",
    "    },\n",
    "    {\n",
    "        \"label\": \"Recessed Seals: Joint seals recessed below the roadway surface (i.e. strip and compression), with channel deck drainage laterally, detailed to prevent discharge of deck drainage on bridge seats?\"\n",
    "    },\n",
    "    {\n",
    "        \"label\": \"Adjustment: A joint width adjustment table, in 10 degree increments for 30 degrees to 90 degrees, given for setting joint widths other than the 60 degree installation temperature? The effect of joint skew taken into account when computing joint adjustment dimensions?\"\n",
    "    },\n",
    "    {\n",
    "        \"label\": \"Sawing and Sealing Bituminous Joints detail sheet provided for box beam bridges with poured seal type joints at abutments?\"\n",
    "    },\n",
    "    {\n",
    "        \"label\": \"Prestressed concrete I-beam bridges follow the guidelines given in section\",\n",
    "        \"section\": \"309.6.3\"\n",
    "    }\n",
    "]"
   ]
  },
  {
   "cell_type": "code",
   "execution_count": 99,
   "id": "cc319c0a-b74a-48db-8ee1-a98c357537b8",
   "metadata": {},
   "outputs": [
    {
     "data": {
      "application/vnd.jupyter.widget-view+json": {
       "model_id": "238a7664dca14e62b411b57a87bab214",
       "version_major": 2,
       "version_minor": 0
      },
      "text/plain": [
       "HTML(value='<b><u>Deck Joints Misc</u></b>')"
      ]
     },
     "metadata": {},
     "output_type": "display_data"
    },
    {
     "data": {
      "application/vnd.jupyter.widget-view+json": {
       "model_id": "53e73e96f5db4bd0ac211a69c59aac4d",
       "version_major": 2,
       "version_minor": 0
      },
      "text/plain": [
       "Checkbox(value=False, description='Box Beams: The use of joints generally follows the guidelines given in See …"
      ]
     },
     "metadata": {},
     "output_type": "display_data"
    },
    {
     "data": {
      "application/vnd.jupyter.widget-view+json": {
       "model_id": "46310251c325482893115153d6e4da71",
       "version_major": 2,
       "version_minor": 0
      },
      "text/plain": [
       "Checkbox(value=False, description='Recessed Seals: Joint seals recessed below the roadway surface (i.e. strip …"
      ]
     },
     "metadata": {},
     "output_type": "display_data"
    },
    {
     "data": {
      "application/vnd.jupyter.widget-view+json": {
       "model_id": "bc725c4c2e5c4e1890079a5e155e7f62",
       "version_major": 2,
       "version_minor": 0
      },
      "text/plain": [
       "Checkbox(value=False, description='Adjustment: A joint width adjustment table, in 10 degree increments for 30 …"
      ]
     },
     "metadata": {},
     "output_type": "display_data"
    },
    {
     "data": {
      "application/vnd.jupyter.widget-view+json": {
       "model_id": "d30c491370184739b510e21d85ae4e1b",
       "version_major": 2,
       "version_minor": 0
      },
      "text/plain": [
       "Checkbox(value=False, description='Sawing and Sealing Bituminous Joints detail sheet provided for box beam bri…"
      ]
     },
     "metadata": {},
     "output_type": "display_data"
    },
    {
     "data": {
      "application/vnd.jupyter.widget-view+json": {
       "model_id": "1d504090454b407ba37e3f805f508e60",
       "version_major": 2,
       "version_minor": 0
      },
      "text/plain": [
       "Checkbox(value=False, description='Prestressed concrete I-beam bridges follow the guidelines given in section …"
      ]
     },
     "metadata": {},
     "output_type": "display_data"
    }
   ],
   "source": [
    "# Function to display the \"deck_joints_misc\" section\n",
    "def display_deck_joints_misc():\n",
    "    header = widgets.HTML(\"<b><u>Deck Joints Misc</u></b>\")\n",
    "    display(header)\n",
    "    checkboxes = []\n",
    "    for criterion in deck_joints_misc_criteria:\n",
    "        label = criterion[\"label\"]\n",
    "        # Add \"See BDM {section}\" for items with a 'section' entry\n",
    "        if \"section\" in criterion:\n",
    "            label = f\"{label} See BDM {criterion['section']}\"\n",
    "        checkbox = widgets.Checkbox(\n",
    "            description=label,\n",
    "            value=False,\n",
    "            indent=False,\n",
    "            layout=widgets.Layout(width='100%', margin='6px 0 0 0px')\n",
    "        )\n",
    "        checkbox.style = {'description_width': '0px'}\n",
    "        checkboxes.append(checkbox)\n",
    "        display(checkbox)\n",
    "\n",
    "# Display the \"deck_joints_misc\" section\n",
    "display_deck_joints_misc()"
   ]
  },
  {
   "cell_type": "markdown",
   "id": "69c734cd-ad00-46c6-a7a1-57f2c94844cc",
   "metadata": {},
   "source": [
    "## Deck Drainage"
   ]
  },
  {
   "cell_type": "markdown",
   "id": "70e62203-78da-464a-ad86-be662ebfd116",
   "metadata": {},
   "source": [
    "### Scuppers"
   ]
  },
  {
   "cell_type": "code",
   "execution_count": 100,
   "id": "be821d35-fcd8-47dc-a59a-24b73d3f2e0f",
   "metadata": {},
   "outputs": [],
   "source": [
    "# Define the scuppers criteria\n",
    "scuppers_criteria = [\n",
    "    {\n",
    "        \"label\": \"Is/was the use of scuppers avoided? Scuppers avoided over embankment slopes? Scuppers spaced to clear cross frames, placed at least 6 feet from the face of piers and abutments; extended at least 8 inches below beams and girders; located inside of fascia beams of grade separation structures and other highly visible structures; not been placed through box beams unless such placement cannot be avoided? See BDM 309.7 and 'Bridge Deck Drainage Guidelines,' FHWA HEC 21 & 22.\"\n",
    "    }\n",
    "]"
   ]
  },
  {
   "cell_type": "code",
   "execution_count": 101,
   "id": "44cdcbef-1c9c-424c-9fd8-005e37f07fcd",
   "metadata": {},
   "outputs": [
    {
     "data": {
      "application/vnd.jupyter.widget-view+json": {
       "model_id": "04557e5493e54b0987ba405d4028325a",
       "version_major": 2,
       "version_minor": 0
      },
      "text/plain": [
       "HTML(value='<b><u>Scuppers</u></b>')"
      ]
     },
     "metadata": {},
     "output_type": "display_data"
    },
    {
     "data": {
      "application/vnd.jupyter.widget-view+json": {
       "model_id": "6f344b94270c44588773a8201300503d",
       "version_major": 2,
       "version_minor": 0
      },
      "text/plain": [
       "Checkbox(value=False, description=\"Is/was the use of scuppers avoided? Scuppers avoided over embankment slopes…"
      ]
     },
     "metadata": {},
     "output_type": "display_data"
    }
   ],
   "source": [
    "# Function to display the \"scuppers\" section\n",
    "def display_scuppers():\n",
    "    header = widgets.HTML(\"<b><u>Scuppers</u></b>\")\n",
    "    display(header)\n",
    "    checkboxes = []\n",
    "    for criterion in scuppers_criteria:\n",
    "        label = criterion[\"label\"]\n",
    "        checkbox = widgets.Checkbox(\n",
    "            description=label,\n",
    "            value=False,\n",
    "            indent=False,\n",
    "            layout=widgets.Layout(width='100%', margin='6px 0 0 0px')\n",
    "        )\n",
    "        checkbox.style = {'description_width': '0px'}\n",
    "        checkboxes.append(checkbox)\n",
    "        display(checkbox)\n",
    "\n",
    "# Display the \"scuppers\" section\n",
    "display_scuppers()"
   ]
  },
  {
   "cell_type": "markdown",
   "id": "9e593e83-7c8f-401b-a47b-f5ef7f407b35",
   "metadata": {},
   "source": [
    "### Approach Drainage"
   ]
  },
  {
   "cell_type": "code",
   "execution_count": 104,
   "id": "914038a8-2742-4a0d-977e-f669ac58f6a2",
   "metadata": {},
   "outputs": [],
   "source": [
    "# Define the approach_drainage criteria\n",
    "approach_drainage_criteria = [\n",
    "    {\n",
    "        \"label\": \"Use made of parapet transitions and curbs on approach slabs to channel deck drainage away from structures towards approach inlets or embankment side slope flumes. See Standard Construction Drawing DM-4.1.\"\n",
    "    }\n",
    "]"
   ]
  },
  {
   "cell_type": "code",
   "execution_count": 105,
   "id": "73fef806-7b01-4e1c-80fd-bb8aaf71081b",
   "metadata": {},
   "outputs": [
    {
     "data": {
      "application/vnd.jupyter.widget-view+json": {
       "model_id": "09621b476aab48669d7231f01af54391",
       "version_major": 2,
       "version_minor": 0
      },
      "text/plain": [
       "HTML(value='<b><u>Approach Drainage</u></b>')"
      ]
     },
     "metadata": {},
     "output_type": "display_data"
    },
    {
     "data": {
      "application/vnd.jupyter.widget-view+json": {
       "model_id": "a847dccb5f9c43268f9dad931fc0f188",
       "version_major": 2,
       "version_minor": 0
      },
      "text/plain": [
       "Checkbox(value=False, description='Use made of parapet transitions and curbs on approach slabs to channel deck…"
      ]
     },
     "metadata": {},
     "output_type": "display_data"
    }
   ],
   "source": [
    "# Function to display the \"approach_drainage\" section\n",
    "def display_approach_drainage():\n",
    "    header = widgets.HTML(\"<b><u>Approach Drainage</u></b>\")\n",
    "    display(header)\n",
    "    checkboxes = []\n",
    "    for criterion in approach_drainage_criteria:\n",
    "        label = criterion[\"label\"]\n",
    "        checkbox = widgets.Checkbox(\n",
    "            description=label,\n",
    "            value=False,\n",
    "            indent=False,\n",
    "            layout=widgets.Layout(width='100%', margin='6px 0 0 0px')\n",
    "        )\n",
    "        checkbox.style = {'description_width': '0px'}\n",
    "        checkboxes.append(checkbox)\n",
    "        display(checkbox)\n",
    "\n",
    "# Display the \"approach_drainage\" section\n",
    "display_approach_drainage()"
   ]
  },
  {
   "cell_type": "markdown",
   "id": "8e6efd6d-2f41-4136-b97a-753df8c2f284",
   "metadata": {},
   "source": [
    "### Drainage Collection System"
   ]
  },
  {
   "cell_type": "code",
   "execution_count": 106,
   "id": "e1162359-2d55-4d96-b67d-b9b8e8a5665f",
   "metadata": {},
   "outputs": [],
   "source": [
    "# Define the drainage_collection criteria\n",
    "drainage_collection_criteria = [\n",
    "    {\n",
    "        \"label\": \"These avoided? Where their use cannot be avoided, steepest possible slopes provided? Large sizes used to help avoid blockage? Convenient clean out provided? Type of field splices specified? Supports adequate to provide a rigid system?\"\n",
    "    }\n",
    "]"
   ]
  },
  {
   "cell_type": "code",
   "execution_count": 108,
   "id": "3337e5bb-0377-43df-bc77-7c6aacf0a7f7",
   "metadata": {},
   "outputs": [
    {
     "data": {
      "application/vnd.jupyter.widget-view+json": {
       "model_id": "e57c5a1bd0054b5f80f9fca8e696e475",
       "version_major": 2,
       "version_minor": 0
      },
      "text/plain": [
       "HTML(value='<b><u>Drainage Collection System</u></b>')"
      ]
     },
     "metadata": {},
     "output_type": "display_data"
    },
    {
     "data": {
      "application/vnd.jupyter.widget-view+json": {
       "model_id": "ed50ce11416b45e6ab232922d8db972b",
       "version_major": 2,
       "version_minor": 0
      },
      "text/plain": [
       "Checkbox(value=False, description='These avoided? Where their use cannot be avoided, steepest possible slopes …"
      ]
     },
     "metadata": {},
     "output_type": "display_data"
    }
   ],
   "source": [
    "# Function to display the \"drainage_collection\" section\n",
    "def display_drainage_collection():\n",
    "    header = widgets.HTML(\"<b><u>Drainage Collection System</u></b>\")\n",
    "    display(header)\n",
    "    checkboxes = []\n",
    "    for criterion in drainage_collection_criteria:\n",
    "        label = criterion[\"label\"]\n",
    "        checkbox = widgets.Checkbox(\n",
    "            description=label,\n",
    "            value=False,\n",
    "            indent=False,\n",
    "            layout=widgets.Layout(width='100%', margin='6px 0 0 0px')\n",
    "        )\n",
    "        checkbox.style = {'description_width': '0px'}\n",
    "        checkboxes.append(checkbox)\n",
    "        display(checkbox)\n",
    "\n",
    "# Display the \"drainage_collection\" section\n",
    "display_drainage_collection()"
   ]
  },
  {
   "cell_type": "markdown",
   "id": "2ea8663b-4b2e-4834-a2f1-c504be7b860a",
   "metadata": {},
   "source": [
    "### Elastomeric Troughs"
   ]
  },
  {
   "cell_type": "code",
   "execution_count": 109,
   "id": "720a4269-910e-4cae-9b11-b30f2ce658c0",
   "metadata": {},
   "outputs": [],
   "source": [
    "# Define the elastomeric_trough criteria\n",
    "elastomeric_trough_criteria = [\n",
    "    {\n",
    "        \"label\": \"Reinforced elastomer required by performance specification?\"\n",
    "    },\n",
    "    {\n",
    "        \"label\": \"Joint made by vulcanization under heat and pressure?\"\n",
    "    },\n",
    "    {\n",
    "        \"label\": \"Steep slopes (2 inches per foot or more) used to increase drainage velocity?\"\n",
    "    },\n",
    "    {\n",
    "        \"label\": \"Large discharge openings (12 inch diameter minimum)?\"\n",
    "    },\n",
    "    {\n",
    "        \"label\": \"Fasteners for scuppers located outside of the trough for convenient access?\"\n",
    "    },\n",
    "    {\n",
    "        \"label\": \"Galvanized hardware used?\"\n",
    "    },\n",
    "    {\n",
    "        \"label\": \"Interior steel surfaces metalized and asphalt coated?\"\n",
    "    }\n",
    "]"
   ]
  },
  {
   "cell_type": "code",
   "execution_count": 110,
   "id": "1c2f4031-3eee-4948-88de-109572b26e6e",
   "metadata": {},
   "outputs": [
    {
     "data": {
      "application/vnd.jupyter.widget-view+json": {
       "model_id": "48a52d6cb92e409583adf4e1a58fcd00",
       "version_major": 2,
       "version_minor": 0
      },
      "text/plain": [
       "HTML(value='<b><u>Elastomeric Trough</u></b>')"
      ]
     },
     "metadata": {},
     "output_type": "display_data"
    },
    {
     "data": {
      "application/vnd.jupyter.widget-view+json": {
       "model_id": "62f47db110584a369d5084f81c3bb164",
       "version_major": 2,
       "version_minor": 0
      },
      "text/plain": [
       "Checkbox(value=False, description='Reinforced elastomer required by performance specification?', indent=False,…"
      ]
     },
     "metadata": {},
     "output_type": "display_data"
    },
    {
     "data": {
      "application/vnd.jupyter.widget-view+json": {
       "model_id": "b58bc23d317540a2b116179de936b124",
       "version_major": 2,
       "version_minor": 0
      },
      "text/plain": [
       "Checkbox(value=False, description='Joint made by vulcanization under heat and pressure?', indent=False, layout…"
      ]
     },
     "metadata": {},
     "output_type": "display_data"
    },
    {
     "data": {
      "application/vnd.jupyter.widget-view+json": {
       "model_id": "228e04319c004742962a538e89be15b8",
       "version_major": 2,
       "version_minor": 0
      },
      "text/plain": [
       "Checkbox(value=False, description='Steep slopes (2 inches per foot or more) used to increase drainage velocity…"
      ]
     },
     "metadata": {},
     "output_type": "display_data"
    },
    {
     "data": {
      "application/vnd.jupyter.widget-view+json": {
       "model_id": "3cc83414d162461f8636e95832f8fd23",
       "version_major": 2,
       "version_minor": 0
      },
      "text/plain": [
       "Checkbox(value=False, description='Large discharge openings (12 inch diameter minimum)?', indent=False, layout…"
      ]
     },
     "metadata": {},
     "output_type": "display_data"
    },
    {
     "data": {
      "application/vnd.jupyter.widget-view+json": {
       "model_id": "44a60ff4650f4ed3be7707b1c1d6e253",
       "version_major": 2,
       "version_minor": 0
      },
      "text/plain": [
       "Checkbox(value=False, description='Fasteners for scuppers located outside of the trough for convenient access?…"
      ]
     },
     "metadata": {},
     "output_type": "display_data"
    },
    {
     "data": {
      "application/vnd.jupyter.widget-view+json": {
       "model_id": "1e41fd56980c4bbf80abc70d4307ba67",
       "version_major": 2,
       "version_minor": 0
      },
      "text/plain": [
       "Checkbox(value=False, description='Galvanized hardware used?', indent=False, layout=Layout(margin='6px 0 0 0px…"
      ]
     },
     "metadata": {},
     "output_type": "display_data"
    },
    {
     "data": {
      "application/vnd.jupyter.widget-view+json": {
       "model_id": "af970dc2157e46178c0553b35ad1763b",
       "version_major": 2,
       "version_minor": 0
      },
      "text/plain": [
       "Checkbox(value=False, description='Interior steel surfaces metalized and asphalt coated?', indent=False, layou…"
      ]
     },
     "metadata": {},
     "output_type": "display_data"
    }
   ],
   "source": [
    "# Function to display the \"elastomeric_trough\" section\n",
    "def display_elastomeric_trough():\n",
    "    header = widgets.HTML(\"<b><u>Elastomeric Trough</u></b>\")\n",
    "    display(header)\n",
    "    checkboxes = []\n",
    "    for criterion in elastomeric_trough_criteria:\n",
    "        label = criterion[\"label\"]\n",
    "        checkbox = widgets.Checkbox(\n",
    "            description=label,\n",
    "            value=False,\n",
    "            indent=False,\n",
    "            layout=widgets.Layout(width='100%', margin='6px 0 0 0px')\n",
    "        )\n",
    "        checkbox.style = {'description_width': '0px'}\n",
    "        checkboxes.append(checkbox)\n",
    "        display(checkbox)\n",
    "\n",
    "# Display the \"elastomeric_trough\" section\n",
    "display_elastomeric_trough()"
   ]
  },
  {
   "cell_type": "markdown",
   "id": "78985508-b619-4e9d-9625-adc5caca752f",
   "metadata": {},
   "source": [
    "### Erosion Protection"
   ]
  },
  {
   "cell_type": "code",
   "execution_count": 111,
   "id": "ea50c923-accd-449e-805e-2ec2a10954d5",
   "metadata": {},
   "outputs": [],
   "source": [
    "# Define the erosion_protection criteria\n",
    "erosion_protection_criteria = [\n",
    "    {\n",
    "        \"label\": \"Ground surfaces below scuppers protected by crushed aggregate or concrete slope protection?\"\n",
    "    },\n",
    "    {\n",
    "        \"label\": \"Crushed aggregate or concrete slope protection extended (3'-0\\\" minimum) beyond edges of open decks?\"\n",
    "    },\n",
    "    {\n",
    "        \"label\": \"At acute corners of bridges, slope protection extends normal to toe of slope?\"\n",
    "    }\n",
    "]"
   ]
  },
  {
   "cell_type": "code",
   "execution_count": 112,
   "id": "2b27d6e3-1cfb-4e4b-b1ef-a3ad262eef85",
   "metadata": {},
   "outputs": [
    {
     "data": {
      "application/vnd.jupyter.widget-view+json": {
       "model_id": "7080b45902ae4d3396c9dc1d91e77a2f",
       "version_major": 2,
       "version_minor": 0
      },
      "text/plain": [
       "HTML(value='<b><u>Erosion Protection</u></b>')"
      ]
     },
     "metadata": {},
     "output_type": "display_data"
    },
    {
     "data": {
      "application/vnd.jupyter.widget-view+json": {
       "model_id": "7efb12404d6a4d47a7198db09f8eaf3c",
       "version_major": 2,
       "version_minor": 0
      },
      "text/plain": [
       "Checkbox(value=False, description='Ground surfaces below scuppers protected by crushed aggregate or concrete s…"
      ]
     },
     "metadata": {},
     "output_type": "display_data"
    },
    {
     "data": {
      "application/vnd.jupyter.widget-view+json": {
       "model_id": "4fb00cf03dac40dd9212c1581ead466a",
       "version_major": 2,
       "version_minor": 0
      },
      "text/plain": [
       "Checkbox(value=False, description='Crushed aggregate or concrete slope protection extended (3\\'-0\" minimum) be…"
      ]
     },
     "metadata": {},
     "output_type": "display_data"
    },
    {
     "data": {
      "application/vnd.jupyter.widget-view+json": {
       "model_id": "4e9910a538734e78a01840cf32232ded",
       "version_major": 2,
       "version_minor": 0
      },
      "text/plain": [
       "Checkbox(value=False, description='At acute corners of bridges, slope protection extends normal to toe of slop…"
      ]
     },
     "metadata": {},
     "output_type": "display_data"
    }
   ],
   "source": [
    "# Function to display the \"erosion_protection\" section\n",
    "def display_erosion_protection():\n",
    "    header = widgets.HTML(\"<b><u>Erosion Protection</u></b>\")\n",
    "    display(header)\n",
    "    checkboxes = []\n",
    "    for criterion in erosion_protection_criteria:\n",
    "        label = criterion[\"label\"]\n",
    "        checkbox = widgets.Checkbox(\n",
    "            description=label,\n",
    "            value=False,\n",
    "            indent=False,\n",
    "            layout=widgets.Layout(width='100%', margin='6px 0 0 0px')\n",
    "        )\n",
    "        checkbox.style = {'description_width': '0px'}\n",
    "        checkboxes.append(checkbox)\n",
    "        display(checkbox)\n",
    "\n",
    "# Display the \"erosion_protection\" section\n",
    "display_erosion_protection()"
   ]
  },
  {
   "cell_type": "markdown",
   "id": "fe212b51-4223-4c87-9880-2e1ec0851c7f",
   "metadata": {},
   "source": [
    "## Utilities"
   ]
  },
  {
   "cell_type": "code",
   "execution_count": 113,
   "id": "e5220d56-7585-45f8-965b-45ab18e789a4",
   "metadata": {},
   "outputs": [],
   "source": [
    "# Define the utilities criteria\n",
    "utilities_criteria = [\n",
    "    {\n",
    "        \"label\": \"Documentation on file approved placement of utility on bridge?\"\n",
    "    },\n",
    "    {\n",
    "        \"label\": \"Concrete embedded utility conduits shown to clear construction joints by 1 inch minimum and other conduits by 2 inches minimum?\"\n",
    "    },\n",
    "    {\n",
    "        \"label\": \"Utilities not supported on fascia or below bottom of superstructure? On grade separation structures, no utilities in bay adjacent to fascia stringer?\"\n",
    "    },\n",
    "    {\n",
    "        \"label\": \"Gas and water lines not embedded in concrete? Not embedded in section of deck supporting vehicular traffic?\"\n",
    "    },\n",
    "    {\n",
    "        \"label\": \"Expansion provisions for utilities shown if appropriate? (Sometimes shown only on utility sheets)\"\n",
    "    },\n",
    "    {\n",
    "        \"label\": \"Payment for utility supports clearly described by plan note and estimated quantities? (e.g., quantity table footnote stating portion of Item 513 Structural Steel to be paid for by the utility company)\"\n",
    "    }\n",
    "]"
   ]
  },
  {
   "cell_type": "code",
   "execution_count": 114,
   "id": "2299c57c-35f9-4e4f-bd1a-b414d7544c48",
   "metadata": {},
   "outputs": [
    {
     "data": {
      "application/vnd.jupyter.widget-view+json": {
       "model_id": "9b61e81fad9b4f99bde731a1e7dbb9ee",
       "version_major": 2,
       "version_minor": 0
      },
      "text/plain": [
       "HTML(value='<b><u>Utilities</u></b>')"
      ]
     },
     "metadata": {},
     "output_type": "display_data"
    },
    {
     "data": {
      "application/vnd.jupyter.widget-view+json": {
       "model_id": "7599aa0ae0b442809288880b90bd7963",
       "version_major": 2,
       "version_minor": 0
      },
      "text/plain": [
       "Checkbox(value=False, description='Documentation on file approved placement of utility on bridge?', indent=Fal…"
      ]
     },
     "metadata": {},
     "output_type": "display_data"
    },
    {
     "data": {
      "application/vnd.jupyter.widget-view+json": {
       "model_id": "9cead4318bf9434191a3634c52302ea8",
       "version_major": 2,
       "version_minor": 0
      },
      "text/plain": [
       "Checkbox(value=False, description='Concrete embedded utility conduits shown to clear construction joints by 1 …"
      ]
     },
     "metadata": {},
     "output_type": "display_data"
    },
    {
     "data": {
      "application/vnd.jupyter.widget-view+json": {
       "model_id": "25aa47be2f76430d8c0e6bc33d29d0b8",
       "version_major": 2,
       "version_minor": 0
      },
      "text/plain": [
       "Checkbox(value=False, description='Utilities not supported on fascia or below bottom of superstructure? On gra…"
      ]
     },
     "metadata": {},
     "output_type": "display_data"
    },
    {
     "data": {
      "application/vnd.jupyter.widget-view+json": {
       "model_id": "28d6fa53e0154ea3a5307657d8eab25e",
       "version_major": 2,
       "version_minor": 0
      },
      "text/plain": [
       "Checkbox(value=False, description='Gas and water lines not embedded in concrete? Not embedded in section of de…"
      ]
     },
     "metadata": {},
     "output_type": "display_data"
    },
    {
     "data": {
      "application/vnd.jupyter.widget-view+json": {
       "model_id": "2eb7e9cdf22346b3a27d42e0a958ced9",
       "version_major": 2,
       "version_minor": 0
      },
      "text/plain": [
       "Checkbox(value=False, description='Expansion provisions for utilities shown if appropriate? (Sometimes shown o…"
      ]
     },
     "metadata": {},
     "output_type": "display_data"
    },
    {
     "data": {
      "application/vnd.jupyter.widget-view+json": {
       "model_id": "bd287ce8e2bf4a22a8bd1bbf345d9f2f",
       "version_major": 2,
       "version_minor": 0
      },
      "text/plain": [
       "Checkbox(value=False, description='Payment for utility supports clearly described by plan note and estimated q…"
      ]
     },
     "metadata": {},
     "output_type": "display_data"
    }
   ],
   "source": [
    "# Function to display the \"utilities\" section\n",
    "def display_utilities():\n",
    "    header = widgets.HTML(\"<b><u>Utilities</u></b>\")\n",
    "    display(header)\n",
    "    checkboxes = []\n",
    "    for criterion in utilities_criteria:\n",
    "        label = criterion[\"label\"]\n",
    "        checkbox = widgets.Checkbox(\n",
    "            description=label,\n",
    "            value=False,\n",
    "            indent=False,\n",
    "            layout=widgets.Layout(width='100%', margin='6px 0 0 0px')\n",
    "        )\n",
    "        checkbox.style = {'description_width': '0px'}\n",
    "        checkboxes.append(checkbox)\n",
    "        display(checkbox)\n",
    "\n",
    "# Display the \"utilities\" section\n",
    "display_utilities()"
   ]
  },
  {
   "cell_type": "markdown",
   "id": "81a48288-c91f-4904-b88a-998c8ab3f9cd",
   "metadata": {},
   "source": [
    "## Structure Grounding"
   ]
  },
  {
   "cell_type": "code",
   "execution_count": 115,
   "id": "6fdbe95f-4de6-4124-922f-135a3a895c84",
   "metadata": {},
   "outputs": [],
   "source": [
    "# Define the grounding criteria\n",
    "grounding_criteria = [\n",
    "    {\n",
    "        \"label\": \"Verify the structure is properly grounded as per Standard Drawing HL-50.21.\"\n",
    "    }\n",
    "]"
   ]
  },
  {
   "cell_type": "code",
   "execution_count": 116,
   "id": "87e1b810-c77b-412b-b239-26a1511b9931",
   "metadata": {},
   "outputs": [
    {
     "data": {
      "application/vnd.jupyter.widget-view+json": {
       "model_id": "8ae2ccd4fb9f48b9b15f2aab88da4cf8",
       "version_major": 2,
       "version_minor": 0
      },
      "text/plain": [
       "HTML(value='<b><u>Grounding</u></b>')"
      ]
     },
     "metadata": {},
     "output_type": "display_data"
    },
    {
     "data": {
      "application/vnd.jupyter.widget-view+json": {
       "model_id": "cb0fb2ff271a45029b23c56f96322580",
       "version_major": 2,
       "version_minor": 0
      },
      "text/plain": [
       "Checkbox(value=False, description='Verify the structure is properly grounded as per Standard Drawing HL-50.21.…"
      ]
     },
     "metadata": {},
     "output_type": "display_data"
    }
   ],
   "source": [
    "# Function to display the \"grounding\" section\n",
    "def display_grounding():\n",
    "    header = widgets.HTML(\"<b><u>Grounding</u></b>\")\n",
    "    display(header)\n",
    "    checkboxes = []\n",
    "    for criterion in grounding_criteria:\n",
    "        label = criterion[\"label\"]\n",
    "        checkbox = widgets.Checkbox(\n",
    "            description=label,\n",
    "            value=False,\n",
    "            indent=False,\n",
    "            layout=widgets.Layout(width='100%', margin='6px 0 0 0px')\n",
    "        )\n",
    "        checkbox.style = {'description_width': '0px'}\n",
    "        checkboxes.append(checkbox)\n",
    "        display(checkbox)\n",
    "\n",
    "# Display the \"grounding\" section\n",
    "display_grounding()"
   ]
  },
  {
   "cell_type": "markdown",
   "id": "3ae6be40-69b5-49b0-b4d4-083f32610c98",
   "metadata": {},
   "source": [
    "## Approach Slab"
   ]
  },
  {
   "cell_type": "code",
   "execution_count": 117,
   "id": "03106ca8-b9f2-4b3d-94bb-22dad3c618d2",
   "metadata": {},
   "outputs": [],
   "source": [
    "# Define the approach_slab criteria\n",
    "approach_slab_criteria = [\n",
    "    {\n",
    "        \"label\": \"Removal of existing approach slab included in the estimated quantities 310.2\"\n",
    "    },\n",
    "    {\n",
    "        \"label\": \"Removal of existing Wearing Surface included in the estimated quantities as per CMS 202\"\n",
    "    },\n",
    "    {\n",
    "        \"label\": \"Non-standard approach slab shown 'Modified' in the structure block.\"\n",
    "    },\n",
    "    {\n",
    "        \"label\": \"Current Standard Drawing reference in proposed structure data block and in the General Notes.\"\n",
    "    },\n",
    "    {\n",
    "        \"label\": \"Bars D801 or D802 included in the reinforcing steel list?\"\n",
    "    },\n",
    "    {\n",
    "        \"label\": \"Pay-Item 526 for Type _ Installation included?\"\n",
    "    },\n",
    "    {\n",
    "        \"label\": \"Pay-Item for Polymer Modified Asphalt Expansion Joint System or Item 516 – Armorless Preformed Joint Seal included?\"\n",
    "    }\n",
    "]"
   ]
  },
  {
   "cell_type": "code",
   "execution_count": 118,
   "id": "a6507ce7-0ece-4d96-9945-d484e8021470",
   "metadata": {},
   "outputs": [
    {
     "data": {
      "application/vnd.jupyter.widget-view+json": {
       "model_id": "06f20809c90146f4811134174b5909ae",
       "version_major": 2,
       "version_minor": 0
      },
      "text/plain": [
       "HTML(value='<b><u>Approach Slab</u></b>')"
      ]
     },
     "metadata": {},
     "output_type": "display_data"
    },
    {
     "data": {
      "application/vnd.jupyter.widget-view+json": {
       "model_id": "2fdb67a4f657406ea2cfbcc6bd2eabaa",
       "version_major": 2,
       "version_minor": 0
      },
      "text/plain": [
       "Checkbox(value=False, description='Removal of existing approach slab included in the estimated quantities 310.…"
      ]
     },
     "metadata": {},
     "output_type": "display_data"
    },
    {
     "data": {
      "application/vnd.jupyter.widget-view+json": {
       "model_id": "1c52a63649184392af7efb0e9f8bd9b3",
       "version_major": 2,
       "version_minor": 0
      },
      "text/plain": [
       "Checkbox(value=False, description='Removal of existing Wearing Surface included in the estimated quantities as…"
      ]
     },
     "metadata": {},
     "output_type": "display_data"
    },
    {
     "data": {
      "application/vnd.jupyter.widget-view+json": {
       "model_id": "f90909f6825f435bb542da304f887399",
       "version_major": 2,
       "version_minor": 0
      },
      "text/plain": [
       "Checkbox(value=False, description=\"Non-standard approach slab shown 'Modified' in the structure block.\", inden…"
      ]
     },
     "metadata": {},
     "output_type": "display_data"
    },
    {
     "data": {
      "application/vnd.jupyter.widget-view+json": {
       "model_id": "634e9da3ecf84444a23342cb441454df",
       "version_major": 2,
       "version_minor": 0
      },
      "text/plain": [
       "Checkbox(value=False, description='Current Standard Drawing reference in proposed structure data block and in …"
      ]
     },
     "metadata": {},
     "output_type": "display_data"
    },
    {
     "data": {
      "application/vnd.jupyter.widget-view+json": {
       "model_id": "96f9d08e49044eab8197026deaa1dcc5",
       "version_major": 2,
       "version_minor": 0
      },
      "text/plain": [
       "Checkbox(value=False, description='Bars D801 or D802 included in the reinforcing steel list?', indent=False, l…"
      ]
     },
     "metadata": {},
     "output_type": "display_data"
    },
    {
     "data": {
      "application/vnd.jupyter.widget-view+json": {
       "model_id": "77eb04b266d74163a97ac0ad8c021b43",
       "version_major": 2,
       "version_minor": 0
      },
      "text/plain": [
       "Checkbox(value=False, description='Pay-Item 526 for Type _ Installation included?', indent=False, layout=Layou…"
      ]
     },
     "metadata": {},
     "output_type": "display_data"
    },
    {
     "data": {
      "application/vnd.jupyter.widget-view+json": {
       "model_id": "f7b6273ab1984df1a2f95a4c28f56726",
       "version_major": 2,
       "version_minor": 0
      },
      "text/plain": [
       "Checkbox(value=False, description='Pay-Item for Polymer Modified Asphalt Expansion Joint System or Item 516 – …"
      ]
     },
     "metadata": {},
     "output_type": "display_data"
    }
   ],
   "source": [
    "# Function to display the \"approach_slab\" section\n",
    "def display_approach_slab():\n",
    "    header = widgets.HTML(\"<b><u>Approach Slab</u></b>\")\n",
    "    display(header)\n",
    "    checkboxes = []\n",
    "    for criterion in approach_slab_criteria:\n",
    "        label = criterion[\"label\"]\n",
    "        checkbox = widgets.Checkbox(\n",
    "            description=label,\n",
    "            value=False,\n",
    "            indent=False,\n",
    "            layout=widgets.Layout(width='100%', margin='6px 0 0 0px')\n",
    "        )\n",
    "        checkbox.style = {'description_width': '0px'}\n",
    "        checkboxes.append(checkbox)\n",
    "        display(checkbox)\n",
    "\n",
    "# Display the \"approach_slab\" section\n",
    "display_approach_slab()"
   ]
  },
  {
   "cell_type": "markdown",
   "id": "82ae7fd3-31fa-405e-8b0c-f8700214a8c1",
   "metadata": {},
   "source": [
    "# Substructure"
   ]
  },
  {
   "cell_type": "markdown",
   "id": "6bd380c0-573f-40cc-a51b-f2dcce75d635",
   "metadata": {},
   "source": [
    "## Piers"
   ]
  },
  {
   "cell_type": "markdown",
   "id": "8ea4ddde-0f72-4771-a5e3-43a344e612bd",
   "metadata": {},
   "source": [
    "### Piers - General"
   ]
  },
  {
   "cell_type": "code",
   "execution_count": 119,
   "id": "9c908fec-a6f1-4346-96b7-7cf26fd50aa9",
   "metadata": {},
   "outputs": [],
   "source": [
    "# Define the piers_general criteria\n",
    "piers_general_criteria = [\n",
    "    {\n",
    "        \"label\": \"For freestanding piers, is the footing width at least one-fourth the height where founded on soil, one-fifth the height where founded on rock, and one-fifth the height between centers of outside piles? 306.3.1\"\n",
    "    },\n",
    "    {\n",
    "        \"label\": \"For cap and column piers on piles or bedrock, columns should generally have separate footings. 306.3.3.1.a\"\n",
    "    },\n",
    "    {\n",
    "        \"label\": \"Pier cap terminate inside the fascia and drip groove? (For box beam bridges, pier width should allow for 1/4 inch per joint fit-up between box beams) 308.2.3.3\"\n",
    "    },\n",
    "    {\n",
    "        \"label\": \"Bearing Anchor Plan shown? Are anchor bolt dimensions normal and parallel to the centerline of bearing?\"\n",
    "    },\n",
    "    {\n",
    "        \"label\": \"Cap and column piers preferably designed with a cantilevered cap? 306.3.1\"\n",
    "    },\n",
    "    {\n",
    "        \"label\": \"For slab bridges, is a construction joint placed at the top of the pier cap? 306.3.3.2\"\n",
    "    },\n",
    "    {\n",
    "        \"label\": \"Piers in navigable waterways designed to resist collision forces based on AASHTO LRFD bridge design Specification. 306.3.7\"\n",
    "    },\n",
    "    {\n",
    "        \"label\": \"Ends of pier caps (all surfaces) under the edge of decks with over-the-side drainage sealed? 306.1.2\"\n",
    "    },\n",
    "    {\n",
    "        \"label\": \"Appropriate surfaces of roadway shoulder piers sealed? 306.1.2\"\n",
    "    },\n",
    "    {\n",
    "        \"label\": \"For phased construction, is each phase supported by a minimum of three piles or two drilled shafts? 306.3.1\"\n",
    "    }\n",
    "]"
   ]
  },
  {
   "cell_type": "code",
   "execution_count": 120,
   "id": "4f5d5b8b-38be-412d-8b82-53c4eefe718a",
   "metadata": {},
   "outputs": [
    {
     "data": {
      "application/vnd.jupyter.widget-view+json": {
       "model_id": "228ab1b0cb22459492460f0479b60e8d",
       "version_major": 2,
       "version_minor": 0
      },
      "text/plain": [
       "HTML(value='<b><u>Piers General</u></b>')"
      ]
     },
     "metadata": {},
     "output_type": "display_data"
    },
    {
     "data": {
      "application/vnd.jupyter.widget-view+json": {
       "model_id": "14b6a78c56ca4546b2c3f07e221f3506",
       "version_major": 2,
       "version_minor": 0
      },
      "text/plain": [
       "Checkbox(value=False, description='For freestanding piers, is the footing width at least one-fourth the height…"
      ]
     },
     "metadata": {},
     "output_type": "display_data"
    },
    {
     "data": {
      "application/vnd.jupyter.widget-view+json": {
       "model_id": "01acec981e3d498dad8410f453fdf026",
       "version_major": 2,
       "version_minor": 0
      },
      "text/plain": [
       "Checkbox(value=False, description='For cap and column piers on piles or bedrock, columns should generally have…"
      ]
     },
     "metadata": {},
     "output_type": "display_data"
    },
    {
     "data": {
      "application/vnd.jupyter.widget-view+json": {
       "model_id": "2bed80cba0724b4db3d97c9f6cd62318",
       "version_major": 2,
       "version_minor": 0
      },
      "text/plain": [
       "Checkbox(value=False, description='Pier cap terminate inside the fascia and drip groove? (For box beam bridges…"
      ]
     },
     "metadata": {},
     "output_type": "display_data"
    },
    {
     "data": {
      "application/vnd.jupyter.widget-view+json": {
       "model_id": "004fae46533a49df8d6a28c5b918af1c",
       "version_major": 2,
       "version_minor": 0
      },
      "text/plain": [
       "Checkbox(value=False, description='Bearing Anchor Plan shown? Are anchor bolt dimensions normal and parallel t…"
      ]
     },
     "metadata": {},
     "output_type": "display_data"
    },
    {
     "data": {
      "application/vnd.jupyter.widget-view+json": {
       "model_id": "86465f811f43477597a17434c6b6a94f",
       "version_major": 2,
       "version_minor": 0
      },
      "text/plain": [
       "Checkbox(value=False, description='Cap and column piers preferably designed with a cantilevered cap? 306.3.1',…"
      ]
     },
     "metadata": {},
     "output_type": "display_data"
    },
    {
     "data": {
      "application/vnd.jupyter.widget-view+json": {
       "model_id": "a4b6b8ad95134d2abe0bea7fd949e994",
       "version_major": 2,
       "version_minor": 0
      },
      "text/plain": [
       "Checkbox(value=False, description='For slab bridges, is a construction joint placed at the top of the pier cap…"
      ]
     },
     "metadata": {},
     "output_type": "display_data"
    },
    {
     "data": {
      "application/vnd.jupyter.widget-view+json": {
       "model_id": "91e6ed5564fc447b800e9b2523bab1c7",
       "version_major": 2,
       "version_minor": 0
      },
      "text/plain": [
       "Checkbox(value=False, description='Piers in navigable waterways designed to resist collision forces based on A…"
      ]
     },
     "metadata": {},
     "output_type": "display_data"
    },
    {
     "data": {
      "application/vnd.jupyter.widget-view+json": {
       "model_id": "27d82234d49249348fac42207fa2e997",
       "version_major": 2,
       "version_minor": 0
      },
      "text/plain": [
       "Checkbox(value=False, description='Ends of pier caps (all surfaces) under the edge of decks with over-the-side…"
      ]
     },
     "metadata": {},
     "output_type": "display_data"
    },
    {
     "data": {
      "application/vnd.jupyter.widget-view+json": {
       "model_id": "21343bc992044a80a6df666d70ed08a9",
       "version_major": 2,
       "version_minor": 0
      },
      "text/plain": [
       "Checkbox(value=False, description='Appropriate surfaces of roadway shoulder piers sealed? 306.1.2', indent=Fal…"
      ]
     },
     "metadata": {},
     "output_type": "display_data"
    },
    {
     "data": {
      "application/vnd.jupyter.widget-view+json": {
       "model_id": "b09fdf0ce41941aebb15c1882f210813",
       "version_major": 2,
       "version_minor": 0
      },
      "text/plain": [
       "Checkbox(value=False, description='For phased construction, is each phase supported by a minimum of three pile…"
      ]
     },
     "metadata": {},
     "output_type": "display_data"
    }
   ],
   "source": [
    "# Function to display the \"piers_general\" section\n",
    "def display_piers_general():\n",
    "    header = widgets.HTML(\"<b><u>Piers General</u></b>\")\n",
    "    display(header)\n",
    "    checkboxes = []\n",
    "    for criterion in piers_general_criteria:\n",
    "        label = criterion[\"label\"]\n",
    "        checkbox = widgets.Checkbox(\n",
    "            description=label,\n",
    "            value=False,\n",
    "            indent=False,\n",
    "            layout=widgets.Layout(width='100%', margin='6px 0 0 0px')\n",
    "        )\n",
    "        checkbox.style = {'description_width': '0px'}\n",
    "        checkboxes.append(checkbox)\n",
    "        display(checkbox)\n",
    "\n",
    "# Display the \"piers_general\" section\n",
    "display_piers_general()"
   ]
  },
  {
   "cell_type": "markdown",
   "id": "809dc388-b187-4c56-a9a4-359802b40acc",
   "metadata": {},
   "source": [
    "### Pile Foundations"
   ]
  },
  {
   "cell_type": "code",
   "execution_count": 121,
   "id": "3dbec773-def8-4b6c-ad8c-9c80f76653c4",
   "metadata": {},
   "outputs": [],
   "source": [
    "# Define the pile_foundations criteria\n",
    "pile_foundations_criteria = [\n",
    "    {\n",
    "        \"label\": \"Design strives to utilize maximum allowable pile spaces and maximum allowable design loads to minimize the number of piles 305.3.5.1\"\n",
    "    },\n",
    "    {\n",
    "        \"label\": \"At least four piles per footing? 305.3.5.1 & 306.3.3.1.a\"\n",
    "    },\n",
    "    {\n",
    "        \"label\": \"Battered piles required 305.3.5.8\"\n",
    "    },\n",
    "    {\n",
    "        \"label\": \"Pile spacing a minimum of 2'-6\\\" or 2.5 times the pile width/diameter? AASHTO LRFD 10.7.1.2\"\n",
    "    },\n",
    "    {\n",
    "        \"label\": \"Distance from center of piles to edge of footing at least 1'-6\\\"? 305.3.5.1\"\n",
    "    },\n",
    "    {\n",
    "        \"label\": \"Can piles be driven without interfering with sheeting, cofferdams, or other bridge or adjacent building components?\"\n",
    "    },\n",
    "    {\n",
    "        \"label\": \"Station of intersection of the centerline of bearings and station line.\"\n",
    "    },\n",
    "    {\n",
    "        \"label\": \"Tie the pile spacing to the intersection of the centerline of bearings and station line.\"\n",
    "    },\n",
    "    {\n",
    "        \"label\": \"Number all piles 305.4.4\"\n",
    "    }\n",
    "]"
   ]
  },
  {
   "cell_type": "code",
   "execution_count": 122,
   "id": "842a1e8e-6222-4c48-964c-e4e297c7d02b",
   "metadata": {},
   "outputs": [
    {
     "data": {
      "application/vnd.jupyter.widget-view+json": {
       "model_id": "9a48509d2a0c46449bc0681591525967",
       "version_major": 2,
       "version_minor": 0
      },
      "text/plain": [
       "HTML(value='<b><u>Pile Foundations</u></b>')"
      ]
     },
     "metadata": {},
     "output_type": "display_data"
    },
    {
     "data": {
      "application/vnd.jupyter.widget-view+json": {
       "model_id": "0f0c453a59ff48d4a4face35fa6b8c89",
       "version_major": 2,
       "version_minor": 0
      },
      "text/plain": [
       "Checkbox(value=False, description='Design strives to utilize maximum allowable pile spaces and maximum allowab…"
      ]
     },
     "metadata": {},
     "output_type": "display_data"
    },
    {
     "data": {
      "application/vnd.jupyter.widget-view+json": {
       "model_id": "ad6eb78368704c1f89e9214888b951f2",
       "version_major": 2,
       "version_minor": 0
      },
      "text/plain": [
       "Checkbox(value=False, description='At least four piles per footing? 305.3.5.1 & 306.3.3.1.a', indent=False, la…"
      ]
     },
     "metadata": {},
     "output_type": "display_data"
    },
    {
     "data": {
      "application/vnd.jupyter.widget-view+json": {
       "model_id": "9bbf3d372b9848918f114186fe24dd8e",
       "version_major": 2,
       "version_minor": 0
      },
      "text/plain": [
       "Checkbox(value=False, description='Battered piles required 305.3.5.8', indent=False, layout=Layout(margin='6px…"
      ]
     },
     "metadata": {},
     "output_type": "display_data"
    },
    {
     "data": {
      "application/vnd.jupyter.widget-view+json": {
       "model_id": "6aec777607cf4294ace33d708c43eec0",
       "version_major": 2,
       "version_minor": 0
      },
      "text/plain": [
       "Checkbox(value=False, description='Pile spacing a minimum of 2\\'-6\" or 2.5 times the pile width/diameter? AASH…"
      ]
     },
     "metadata": {},
     "output_type": "display_data"
    },
    {
     "data": {
      "application/vnd.jupyter.widget-view+json": {
       "model_id": "b660c9c96d8f4abca5019a7229b1635d",
       "version_major": 2,
       "version_minor": 0
      },
      "text/plain": [
       "Checkbox(value=False, description='Distance from center of piles to edge of footing at least 1\\'-6\"? 305.3.5.1…"
      ]
     },
     "metadata": {},
     "output_type": "display_data"
    },
    {
     "data": {
      "application/vnd.jupyter.widget-view+json": {
       "model_id": "9d2ddf718df043adb5736a6b9aef4cf3",
       "version_major": 2,
       "version_minor": 0
      },
      "text/plain": [
       "Checkbox(value=False, description='Can piles be driven without interfering with sheeting, cofferdams, or other…"
      ]
     },
     "metadata": {},
     "output_type": "display_data"
    },
    {
     "data": {
      "application/vnd.jupyter.widget-view+json": {
       "model_id": "e96774e85f2644859500ac4b01c1943c",
       "version_major": 2,
       "version_minor": 0
      },
      "text/plain": [
       "Checkbox(value=False, description='Station of intersection of the centerline of bearings and station line.', i…"
      ]
     },
     "metadata": {},
     "output_type": "display_data"
    },
    {
     "data": {
      "application/vnd.jupyter.widget-view+json": {
       "model_id": "0ddd6ce00bab4c29abaf6e2261d0c70b",
       "version_major": 2,
       "version_minor": 0
      },
      "text/plain": [
       "Checkbox(value=False, description='Tie the pile spacing to the intersection of the centerline of bearings and …"
      ]
     },
     "metadata": {},
     "output_type": "display_data"
    },
    {
     "data": {
      "application/vnd.jupyter.widget-view+json": {
       "model_id": "34dff6b097324aaeb5c8a5c1eff033c6",
       "version_major": 2,
       "version_minor": 0
      },
      "text/plain": [
       "Checkbox(value=False, description='Number all piles 305.4.4', indent=False, layout=Layout(margin='6px 0 0 0px'…"
      ]
     },
     "metadata": {},
     "output_type": "display_data"
    }
   ],
   "source": [
    "# Function to display the \"pile_foundations\" section\n",
    "def display_pile_foundations():\n",
    "    header = widgets.HTML(\"<b><u>Pile Foundations</u></b>\")\n",
    "    display(header)\n",
    "    checkboxes = []\n",
    "    for criterion in pile_foundations_criteria:\n",
    "        label = criterion[\"label\"]\n",
    "        checkbox = widgets.Checkbox(\n",
    "            description=label,\n",
    "            value=False,\n",
    "            indent=False,\n",
    "            layout=widgets.Layout(width='100%', margin='6px 0 0 0px')\n",
    "        )\n",
    "        checkbox.style = {'description_width': '0px'}\n",
    "        checkboxes.append(checkbox)\n",
    "        display(checkbox)\n",
    "\n",
    "# Display the \"pile_foundations\" section\n",
    "display_pile_foundations()"
   ]
  },
  {
   "cell_type": "markdown",
   "id": "b8ff8012-73f8-404e-8f4d-53582902a5b1",
   "metadata": {},
   "source": [
    "### Capped-Pile Piers"
   ]
  },
  {
   "cell_type": "code",
   "execution_count": 123,
   "id": "ecdd789c-1dec-4cc2-8c18-df5285d5b58c",
   "metadata": {},
   "outputs": [],
   "source": [
    "# Define the capped_pile_piers criteria\n",
    "capped_pile_piers_criteria = [\n",
    "    {\n",
    "        \"label\": \"Pile spacing less than or equal to 7.5 feet? 305.3.5.1\"\n",
    "    },\n",
    "    {\n",
    "        \"label\": \"Height above flow line generally limited to 20 feet, or piles specially designed? 306.3.3\"\n",
    "    },\n",
    "    {\n",
    "        \"label\": \"Distance from edge of pile to face of pier cap is at least 9 inches? 305.3.5.1\"\n",
    "    },\n",
    "    {\n",
    "        \"label\": \"Pile encasements specified and paid for H-piles)? 606.5-1\"\n",
    "    },\n",
    "    {\n",
    "        \"label\": \"Minimum of 1'-6\\\" cover provided above the piles? 305.3.5.1\"\n",
    "    }\n",
    "]"
   ]
  },
  {
   "cell_type": "code",
   "execution_count": 124,
   "id": "9bddd540-12a8-4c88-8681-a0c86e104850",
   "metadata": {},
   "outputs": [
    {
     "data": {
      "application/vnd.jupyter.widget-view+json": {
       "model_id": "ac43e538c8f4413c95f8abba68307a13",
       "version_major": 2,
       "version_minor": 0
      },
      "text/plain": [
       "HTML(value='<b><u>Capped Pile Piers</u></b>')"
      ]
     },
     "metadata": {},
     "output_type": "display_data"
    },
    {
     "data": {
      "application/vnd.jupyter.widget-view+json": {
       "model_id": "340a478b98884eb9a3717d887a14f735",
       "version_major": 2,
       "version_minor": 0
      },
      "text/plain": [
       "Checkbox(value=False, description='Pile spacing less than or equal to 7.5 feet? 305.3.5.1', indent=False, layo…"
      ]
     },
     "metadata": {},
     "output_type": "display_data"
    },
    {
     "data": {
      "application/vnd.jupyter.widget-view+json": {
       "model_id": "fbfe0802b17c49e4b1ac92b81659b3c7",
       "version_major": 2,
       "version_minor": 0
      },
      "text/plain": [
       "Checkbox(value=False, description='Height above flow line generally limited to 20 feet, or piles specially des…"
      ]
     },
     "metadata": {},
     "output_type": "display_data"
    },
    {
     "data": {
      "application/vnd.jupyter.widget-view+json": {
       "model_id": "2bad28746ff54874a6c2edbbc521cc90",
       "version_major": 2,
       "version_minor": 0
      },
      "text/plain": [
       "Checkbox(value=False, description='Distance from edge of pile to face of pier cap is at least 9 inches? 305.3.…"
      ]
     },
     "metadata": {},
     "output_type": "display_data"
    },
    {
     "data": {
      "application/vnd.jupyter.widget-view+json": {
       "model_id": "48cd0f014a234c3098f86e9e50a5121d",
       "version_major": 2,
       "version_minor": 0
      },
      "text/plain": [
       "Checkbox(value=False, description='Pile encasements specified and paid for H-piles)? 606.5-1', indent=False, l…"
      ]
     },
     "metadata": {},
     "output_type": "display_data"
    },
    {
     "data": {
      "application/vnd.jupyter.widget-view+json": {
       "model_id": "e5a166168a724b589c37dcf6b8d81f6b",
       "version_major": 2,
       "version_minor": 0
      },
      "text/plain": [
       "Checkbox(value=False, description='Minimum of 1\\'-6\" cover provided above the piles? 305.3.5.1', indent=False,…"
      ]
     },
     "metadata": {},
     "output_type": "display_data"
    }
   ],
   "source": [
    "# Function to display the \"capped_pile_piers\" section\n",
    "def display_capped_pile_piers():\n",
    "    header = widgets.HTML(\"<b><u>Capped Pile Piers</u></b>\")\n",
    "    display(header)\n",
    "    checkboxes = []\n",
    "    for criterion in capped_pile_piers_criteria:\n",
    "        label = criterion[\"label\"]\n",
    "        checkbox = widgets.Checkbox(\n",
    "            description=label,\n",
    "            value=False,\n",
    "            indent=False,\n",
    "            layout=widgets.Layout(width='100%', margin='6px 0 0 0px')\n",
    "        )\n",
    "        checkbox.style = {'description_width': '0px'}\n",
    "        checkboxes.append(checkbox)\n",
    "        display(checkbox)\n",
    "\n",
    "# Display the \"capped_pile_piers\" section\n",
    "display_capped_pile_piers()"
   ]
  },
  {
   "cell_type": "markdown",
   "id": "6cf6ce24-4aa9-43a8-9d3b-039aa7c835dc",
   "metadata": {},
   "source": [
    "### Cap and Column Piers"
   ]
  },
  {
   "cell_type": "code",
   "execution_count": 125,
   "id": "99079f56-7782-46e5-bf1d-b63daa33672c",
   "metadata": {},
   "outputs": [],
   "source": [
    "# Define the cap_and_column_piers criteria\n",
    "cap_and_column_piers_criteria = [\n",
    "    {\n",
    "        \"label\": \"Diameter of the pier column specified to be 3'-0\\\" and the drilled shaft diameter a minimum of 3'-6\\\"? 305.4.4.2\"\n",
    "    },\n",
    "    {\n",
    "        \"label\": \"Location of the construction joint at the pier column/drilled shaft interface appropriate? (Usually 1 foot above OHWM elevation, for piers in water, and 1 foot below the ground line elsewhere.) 305.4.4\"\n",
    "    },\n",
    "    {\n",
    "        \"label\": \"A construction joint between the top of drilled shaft and the bottom of the column shown and splice cage provided? FIG. 303.5.4\"\n",
    "    },\n",
    "    {\n",
    "        \"label\": \"Reinforcing details at the column/drilled shaft construction joint appropriate? Typically, the reinforcing cage diameter is a common size between the column, drilled shaft, and bedrock socket.\"\n",
    "    },\n",
    "    {\n",
    "        \"label\": \"Bedrock socket depth shown on the plans? (Bottom of socket elevation should generally not be given) 305.4.2\"\n",
    "    },\n",
    "    {\n",
    "        \"label\": \"Reinforcing Steel in the drilled shafts? BDM305.4.4.3\"\n",
    "    },\n",
    "    {\n",
    "        \"label\": \"Spacing of the drilled shafts appropriate? Typically, spacings from 12 to 18 feet are used.\"\n",
    "    },\n",
    "    {\n",
    "        \"label\": \"Drilled shafts should be spaced to utilize the maximum bedrock end bearing pressures and a minimum number of drilled shafts.\"\n",
    "    }\n",
    "]"
   ]
  },
  {
   "cell_type": "code",
   "execution_count": 126,
   "id": "e5bfd817-65bd-4fb5-86e7-a51235437e9e",
   "metadata": {},
   "outputs": [
    {
     "data": {
      "application/vnd.jupyter.widget-view+json": {
       "model_id": "6e627b1d40624ccda22b012e96ebba99",
       "version_major": 2,
       "version_minor": 0
      },
      "text/plain": [
       "HTML(value='<b><u>Cap and Column Piers</u></b>')"
      ]
     },
     "metadata": {},
     "output_type": "display_data"
    },
    {
     "data": {
      "application/vnd.jupyter.widget-view+json": {
       "model_id": "1b3c2505e525434e84ac62848389f203",
       "version_major": 2,
       "version_minor": 0
      },
      "text/plain": [
       "Checkbox(value=False, description='Diameter of the pier column specified to be 3\\'-0\" and the drilled shaft di…"
      ]
     },
     "metadata": {},
     "output_type": "display_data"
    },
    {
     "data": {
      "application/vnd.jupyter.widget-view+json": {
       "model_id": "6322631a13d34d08b44117655b320035",
       "version_major": 2,
       "version_minor": 0
      },
      "text/plain": [
       "Checkbox(value=False, description='Location of the construction joint at the pier column/drilled shaft interfa…"
      ]
     },
     "metadata": {},
     "output_type": "display_data"
    },
    {
     "data": {
      "application/vnd.jupyter.widget-view+json": {
       "model_id": "6f2fd02d8b904f9a8bd5bed116ce99db",
       "version_major": 2,
       "version_minor": 0
      },
      "text/plain": [
       "Checkbox(value=False, description='A construction joint between the top of drilled shaft and the bottom of the…"
      ]
     },
     "metadata": {},
     "output_type": "display_data"
    },
    {
     "data": {
      "application/vnd.jupyter.widget-view+json": {
       "model_id": "6b6b8fa19f2c4a53bd2eef567819f51e",
       "version_major": 2,
       "version_minor": 0
      },
      "text/plain": [
       "Checkbox(value=False, description='Reinforcing details at the column/drilled shaft construction joint appropri…"
      ]
     },
     "metadata": {},
     "output_type": "display_data"
    },
    {
     "data": {
      "application/vnd.jupyter.widget-view+json": {
       "model_id": "6f256b797f6846d2a29740a06855747e",
       "version_major": 2,
       "version_minor": 0
      },
      "text/plain": [
       "Checkbox(value=False, description='Bedrock socket depth shown on the plans? (Bottom of socket elevation should…"
      ]
     },
     "metadata": {},
     "output_type": "display_data"
    },
    {
     "data": {
      "application/vnd.jupyter.widget-view+json": {
       "model_id": "42cd3d09129a4af2aa5adbfd6e5e613f",
       "version_major": 2,
       "version_minor": 0
      },
      "text/plain": [
       "Checkbox(value=False, description='Reinforcing Steel in the drilled shafts? BDM305.4.4.3', indent=False, layou…"
      ]
     },
     "metadata": {},
     "output_type": "display_data"
    },
    {
     "data": {
      "application/vnd.jupyter.widget-view+json": {
       "model_id": "02a1459572574ed296cd6630269f0319",
       "version_major": 2,
       "version_minor": 0
      },
      "text/plain": [
       "Checkbox(value=False, description='Spacing of the drilled shafts appropriate? Typically, spacings from 12 to 1…"
      ]
     },
     "metadata": {},
     "output_type": "display_data"
    },
    {
     "data": {
      "application/vnd.jupyter.widget-view+json": {
       "model_id": "70cb0d95dcc54907b7f0a2b68d85d3e8",
       "version_major": 2,
       "version_minor": 0
      },
      "text/plain": [
       "Checkbox(value=False, description='Drilled shafts should be spaced to utilize the maximum bedrock end bearing …"
      ]
     },
     "metadata": {},
     "output_type": "display_data"
    }
   ],
   "source": [
    "# Function to display the \"cap_and_column_piers\" section\n",
    "def display_cap_and_column_piers():\n",
    "    header = widgets.HTML(\"<b><u>Cap and Column Piers</u></b>\")\n",
    "    display(header)\n",
    "    checkboxes = []\n",
    "    for criterion in cap_and_column_piers_criteria:\n",
    "        label = criterion[\"label\"]\n",
    "        checkbox = widgets.Checkbox(\n",
    "            description=label,\n",
    "            value=False,\n",
    "            indent=False,\n",
    "            layout=widgets.Layout(width='100%', margin='6px 0 0 0px')\n",
    "        )\n",
    "        checkbox.style = {'description_width': '0px'}\n",
    "        checkboxes.append(checkbox)\n",
    "        display(checkbox)\n",
    "\n",
    "# Display the \"cap_and_column_piers\" section\n",
    "display_cap_and_column_piers()"
   ]
  },
  {
   "cell_type": "markdown",
   "id": "85716873-9766-45fe-8dd0-fae597ebc4c4",
   "metadata": {},
   "source": [
    "## Abutments"
   ]
  },
  {
   "cell_type": "markdown",
   "id": "7ba031f3-f63d-48fc-bd69-4cd504af6c96",
   "metadata": {},
   "source": [
    "### General"
   ]
  },
  {
   "cell_type": "code",
   "execution_count": 128,
   "id": "e0062127-dbce-4acb-8c95-f2901dcd366d",
   "metadata": {},
   "outputs": [],
   "source": [
    "# Define the abutments_general criteria\n",
    "abutments_general_criteria = [\n",
    "    {\n",
    "        \"label\": \"Abutments easily located? Station and overall dimensions?\"\n",
    "    },\n",
    "    {\n",
    "        \"label\": \"Dimensions referenced from the proper working points? Beam/girder bridges (steel or concrete) intersection of centerline of survey and centerline of bearings. Concrete slab bridges centerline of survey is assumed 12 inches behind the face of the abutment. 201.2.1.1\"\n",
    "    },\n",
    "    {\n",
    "        \"label\": \"Types of Abutments 306.2 & 306.2.2\"\n",
    "    },\n",
    "    {\n",
    "        \"label\": \"Wing-wall lengths checked?\"\n",
    "    },\n",
    "    {\n",
    "        \"label\": \"If ground lines are shown, are they appropriate?\"\n",
    "    },\n",
    "    {\n",
    "        \"label\": \"Earth benches not been used for new designs? Depth of approach slab seat Shown? 306.2.1.4 for CPA-1-08 abutments\"\n",
    "    },\n",
    "    {\n",
    "        \"label\": \"Bridge seat sloped to drain toward the face of abutment for beam or girder bridges on spill-through abutments except at bearings)? (For grade separations on wall-type abutments, are the bridge seats sloped to drain toward the back wall, with a depressed gutter and drainage system provided? 306.2.3.2\"\n",
    "    },\n",
    "    {\n",
    "        \"label\": \"For box beam bridges, are provisions necessary to ensure proper fit of the elastomeric bearings i.e., sloped bridge seats or tapered bearings)? DB-1-11\"\n",
    "    },\n",
    "    {\n",
    "        \"label\": \"For box beam bridges, is the bridge seat length adequate to support all bearings, accounting for 1/2-inch fit-up per beam joint? Beam seat should not protrude from beneath deck edge when a fit-up allowance of 1/4 inch per foot is used for pier. 308.2.3.3\"\n",
    "    },\n",
    "    {\n",
    "        \"label\": \"For box beam bridges, has the proper wearing surface thickness at the abutments being used to compute bridge seat elevations? 309.1\"\n",
    "    },\n",
    "    {\n",
    "        \"label\": \"Dowel holes drilled parallel to a free edge clear concrete surface by at least 4 inches?\"\n",
    "    },\n",
    "    {\n",
    "        \"label\": \"Bearing anchor plan shown? Anchor bolt location dimensions normal and parallel to centerline of bearing? 306.2.1.2 & 701.2\"\n",
    "    },\n",
    "    {\n",
    "        \"label\": \"Joint filler shown between concrete box beams and wing-wall concrete? 308.2.3.3\"\n",
    "    },\n",
    "    {\n",
    "        \"label\": \"Construction joint shown at the level of the approach slab seat for steel superstructures?\"\n",
    "    },\n",
    "    {\n",
    "        \"label\": \"Construction joint provided in wing-walls of box beam bridges at bridge seat elevation? 308.2.3.3\"\n",
    "    },\n",
    "    {\n",
    "        \"label\": \"Plan note restricting placement of wing-wall concrete included for box beam bridges?\"\n",
    "    },\n",
    "    {\n",
    "        \"label\": \"Appropriate surfaces sealed using an appropriate sealer? 306.1.2 & 309.2.1\"\n",
    "    },\n",
    "    {\n",
    "        \"label\": \"Type 2 waterproofing used at construction joints? Typically used above ground at stage construction joints, or joints between existing and proposed concrete) 306.2.1.3\"\n",
    "    },\n",
    "    {\n",
    "        \"label\": \"Expansion & Contraction joints provided as appropriate? 306.2.5\"\n",
    "    },\n",
    "    {\n",
    "        \"label\": \"Weep-holes located 6 inches to 1 foot above ground level or normal waterline? 306.2.3.3\"\n",
    "    },\n",
    "    {\n",
    "        \"label\": \"Porous backfill shown 6 inches below weep holes 306.2.3.3\"\n",
    "    },\n",
    "    {\n",
    "        \"label\": \"Geotextile fabric specified between the porous backfill and the approach fill? Has it been turned up 6 inches at the wall? 306.2.3.1\"\n",
    "    },\n",
    "    {\n",
    "        \"label\": \"Lateral limits of porous backfill 2'-0\\\" thick) clearly indicated in the elevation view as described by 306.2.3.1\"\n",
    "    },\n",
    "    {\n",
    "        \"label\": \"End caps shown on drain pipes, except at outlets? 306.2.3.1\"\n",
    "    },\n",
    "    {\n",
    "        \"label\": \"For wall-type abutments where strut action of the superstructure is relied upon for stability, has a plan note been provided limiting height of backfill until superstructure is placed?\"\n",
    "    },\n",
    "    {\n",
    "        \"label\": \"Pipe drainage system used? 306.2.3.1\"\n",
    "    },\n",
    "    {\n",
    "        \"label\": \"For rehabilitation, does the connection between the new and existing concrete appear adequate? Existing reinforcing that is incorporated into the new work should generally be shown in the proposed cross-section.\"\n",
    "    },\n",
    "    {\n",
    "        \"label\": \"Aesthetic for wall-type abutments 306.2.2.1\"\n",
    "    },\n",
    "    {\n",
    "        \"label\": \"For phase construction, is each phase supported by a minimum of three piles or two drilled shafts? 306.2.2.3, 306.2.2.4 & 306.2.2.5\"\n",
    "    },\n",
    "    {\n",
    "        \"label\": \"Top strap of the MSE wall should be 6” below the footing. See figure 201-2 & 201-3 of the BDM.\"\n",
    "    },\n",
    "    {\n",
    "        \"label\": \"What type of protection is used to prevent the weed growth in the area between the footing and MSE wall?\"\n",
    "    },\n",
    "    {\n",
    "        \"label\": \"For high skew semi-integral bridges keep the beam seat level and use variable height of the HP section. Not possible to bend # 8 bars.\"\n",
    "    }\n",
    "]"
   ]
  },
  {
   "cell_type": "code",
   "execution_count": 129,
   "id": "94ff9329-f154-46c6-938d-f0bbc735b4f4",
   "metadata": {},
   "outputs": [
    {
     "data": {
      "application/vnd.jupyter.widget-view+json": {
       "model_id": "67a5d1750ba74b43a2ccd19f3a09bff2",
       "version_major": 2,
       "version_minor": 0
      },
      "text/plain": [
       "HTML(value='<b><u>Abutments General</u></b>')"
      ]
     },
     "metadata": {},
     "output_type": "display_data"
    },
    {
     "data": {
      "application/vnd.jupyter.widget-view+json": {
       "model_id": "d12dc3fc42d24ba0a01854b6b7370939",
       "version_major": 2,
       "version_minor": 0
      },
      "text/plain": [
       "Checkbox(value=False, description='Abutments easily located? Station and overall dimensions?', indent=False, l…"
      ]
     },
     "metadata": {},
     "output_type": "display_data"
    },
    {
     "data": {
      "application/vnd.jupyter.widget-view+json": {
       "model_id": "a9a512fd7e19401c985fddbd93d5afd4",
       "version_major": 2,
       "version_minor": 0
      },
      "text/plain": [
       "Checkbox(value=False, description='Dimensions referenced from the proper working points? Beam/girder bridges (…"
      ]
     },
     "metadata": {},
     "output_type": "display_data"
    },
    {
     "data": {
      "application/vnd.jupyter.widget-view+json": {
       "model_id": "f1094bf7e0a04b64adc2c806a7181357",
       "version_major": 2,
       "version_minor": 0
      },
      "text/plain": [
       "Checkbox(value=False, description='Types of Abutments 306.2 & 306.2.2', indent=False, layout=Layout(margin='6p…"
      ]
     },
     "metadata": {},
     "output_type": "display_data"
    },
    {
     "data": {
      "application/vnd.jupyter.widget-view+json": {
       "model_id": "4b853a6c1f294c25bf48cb53184b17bb",
       "version_major": 2,
       "version_minor": 0
      },
      "text/plain": [
       "Checkbox(value=False, description='Wing-wall lengths checked?', indent=False, layout=Layout(margin='6px 0 0 0p…"
      ]
     },
     "metadata": {},
     "output_type": "display_data"
    },
    {
     "data": {
      "application/vnd.jupyter.widget-view+json": {
       "model_id": "60bd86d1095b4861aa70fdae493d71e4",
       "version_major": 2,
       "version_minor": 0
      },
      "text/plain": [
       "Checkbox(value=False, description='If ground lines are shown, are they appropriate?', indent=False, layout=Lay…"
      ]
     },
     "metadata": {},
     "output_type": "display_data"
    },
    {
     "data": {
      "application/vnd.jupyter.widget-view+json": {
       "model_id": "83cb7e411709401d85758df919db7498",
       "version_major": 2,
       "version_minor": 0
      },
      "text/plain": [
       "Checkbox(value=False, description='Earth benches not been used for new designs? Depth of approach slab seat Sh…"
      ]
     },
     "metadata": {},
     "output_type": "display_data"
    },
    {
     "data": {
      "application/vnd.jupyter.widget-view+json": {
       "model_id": "70413737558845588f50578773b21c65",
       "version_major": 2,
       "version_minor": 0
      },
      "text/plain": [
       "Checkbox(value=False, description='Bridge seat sloped to drain toward the face of abutment for beam or girder …"
      ]
     },
     "metadata": {},
     "output_type": "display_data"
    },
    {
     "data": {
      "application/vnd.jupyter.widget-view+json": {
       "model_id": "a683f8fc2b3f4efdbb81545ca4c5be99",
       "version_major": 2,
       "version_minor": 0
      },
      "text/plain": [
       "Checkbox(value=False, description='For box beam bridges, are provisions necessary to ensure proper fit of the …"
      ]
     },
     "metadata": {},
     "output_type": "display_data"
    },
    {
     "data": {
      "application/vnd.jupyter.widget-view+json": {
       "model_id": "57018f4f20b34a768c2bfda104cbc223",
       "version_major": 2,
       "version_minor": 0
      },
      "text/plain": [
       "Checkbox(value=False, description='For box beam bridges, is the bridge seat length adequate to support all bea…"
      ]
     },
     "metadata": {},
     "output_type": "display_data"
    },
    {
     "data": {
      "application/vnd.jupyter.widget-view+json": {
       "model_id": "c1f6b1cab60a4d6a8e5cf8c3b5d8c471",
       "version_major": 2,
       "version_minor": 0
      },
      "text/plain": [
       "Checkbox(value=False, description='For box beam bridges, has the proper wearing surface thickness at the abutm…"
      ]
     },
     "metadata": {},
     "output_type": "display_data"
    },
    {
     "data": {
      "application/vnd.jupyter.widget-view+json": {
       "model_id": "8b35a05c5885473fb19560475fdf9f94",
       "version_major": 2,
       "version_minor": 0
      },
      "text/plain": [
       "Checkbox(value=False, description='Dowel holes drilled parallel to a free edge clear concrete surface by at le…"
      ]
     },
     "metadata": {},
     "output_type": "display_data"
    },
    {
     "data": {
      "application/vnd.jupyter.widget-view+json": {
       "model_id": "1edd151fc4ea432895d0028f89323df7",
       "version_major": 2,
       "version_minor": 0
      },
      "text/plain": [
       "Checkbox(value=False, description='Bearing anchor plan shown? Anchor bolt location dimensions normal and paral…"
      ]
     },
     "metadata": {},
     "output_type": "display_data"
    },
    {
     "data": {
      "application/vnd.jupyter.widget-view+json": {
       "model_id": "cc25f4f5b496421bb55681a8a0db3869",
       "version_major": 2,
       "version_minor": 0
      },
      "text/plain": [
       "Checkbox(value=False, description='Joint filler shown between concrete box beams and wing-wall concrete? 308.2…"
      ]
     },
     "metadata": {},
     "output_type": "display_data"
    },
    {
     "data": {
      "application/vnd.jupyter.widget-view+json": {
       "model_id": "e1b8c36614274a9d810a497dcc1a703b",
       "version_major": 2,
       "version_minor": 0
      },
      "text/plain": [
       "Checkbox(value=False, description='Construction joint shown at the level of the approach slab seat for steel s…"
      ]
     },
     "metadata": {},
     "output_type": "display_data"
    },
    {
     "data": {
      "application/vnd.jupyter.widget-view+json": {
       "model_id": "6b3b3c1273524a30b11abab0cfb2348e",
       "version_major": 2,
       "version_minor": 0
      },
      "text/plain": [
       "Checkbox(value=False, description='Construction joint provided in wing-walls of box beam bridges at bridge sea…"
      ]
     },
     "metadata": {},
     "output_type": "display_data"
    },
    {
     "data": {
      "application/vnd.jupyter.widget-view+json": {
       "model_id": "81f46d55741642d290722ffa041cbb97",
       "version_major": 2,
       "version_minor": 0
      },
      "text/plain": [
       "Checkbox(value=False, description='Plan note restricting placement of wing-wall concrete included for box beam…"
      ]
     },
     "metadata": {},
     "output_type": "display_data"
    },
    {
     "data": {
      "application/vnd.jupyter.widget-view+json": {
       "model_id": "3540b3deb3bf4209b5dfb30b9e600213",
       "version_major": 2,
       "version_minor": 0
      },
      "text/plain": [
       "Checkbox(value=False, description='Appropriate surfaces sealed using an appropriate sealer? 306.1.2 & 309.2.1'…"
      ]
     },
     "metadata": {},
     "output_type": "display_data"
    },
    {
     "data": {
      "application/vnd.jupyter.widget-view+json": {
       "model_id": "3b77c398928a4f8485d8e828b2be212a",
       "version_major": 2,
       "version_minor": 0
      },
      "text/plain": [
       "Checkbox(value=False, description='Type 2 waterproofing used at construction joints? Typically used above grou…"
      ]
     },
     "metadata": {},
     "output_type": "display_data"
    },
    {
     "data": {
      "application/vnd.jupyter.widget-view+json": {
       "model_id": "ca6eae1039ba4b8993a7071c7cb43e9c",
       "version_major": 2,
       "version_minor": 0
      },
      "text/plain": [
       "Checkbox(value=False, description='Expansion & Contraction joints provided as appropriate? 306.2.5', indent=Fa…"
      ]
     },
     "metadata": {},
     "output_type": "display_data"
    },
    {
     "data": {
      "application/vnd.jupyter.widget-view+json": {
       "model_id": "f114e135260244018715d191ff3956f8",
       "version_major": 2,
       "version_minor": 0
      },
      "text/plain": [
       "Checkbox(value=False, description='Weep-holes located 6 inches to 1 foot above ground level or normal waterlin…"
      ]
     },
     "metadata": {},
     "output_type": "display_data"
    },
    {
     "data": {
      "application/vnd.jupyter.widget-view+json": {
       "model_id": "9a17755fe44743fe86dbece40a1e1651",
       "version_major": 2,
       "version_minor": 0
      },
      "text/plain": [
       "Checkbox(value=False, description='Porous backfill shown 6 inches below weep holes 306.2.3.3', indent=False, l…"
      ]
     },
     "metadata": {},
     "output_type": "display_data"
    },
    {
     "data": {
      "application/vnd.jupyter.widget-view+json": {
       "model_id": "a25a5d1638b344119899f907934c32f4",
       "version_major": 2,
       "version_minor": 0
      },
      "text/plain": [
       "Checkbox(value=False, description='Geotextile fabric specified between the porous backfill and the approach fi…"
      ]
     },
     "metadata": {},
     "output_type": "display_data"
    },
    {
     "data": {
      "application/vnd.jupyter.widget-view+json": {
       "model_id": "bd7bca441c2e4ca7a47d296f41121c1e",
       "version_major": 2,
       "version_minor": 0
      },
      "text/plain": [
       "Checkbox(value=False, description='Lateral limits of porous backfill 2\\'-0\" thick) clearly indicated in the el…"
      ]
     },
     "metadata": {},
     "output_type": "display_data"
    },
    {
     "data": {
      "application/vnd.jupyter.widget-view+json": {
       "model_id": "886c2372811f41098d785b7b23a696b4",
       "version_major": 2,
       "version_minor": 0
      },
      "text/plain": [
       "Checkbox(value=False, description='End caps shown on drain pipes, except at outlets? 306.2.3.1', indent=False,…"
      ]
     },
     "metadata": {},
     "output_type": "display_data"
    },
    {
     "data": {
      "application/vnd.jupyter.widget-view+json": {
       "model_id": "f9a47c4df0e14e889331bf426db5d472",
       "version_major": 2,
       "version_minor": 0
      },
      "text/plain": [
       "Checkbox(value=False, description='For wall-type abutments where strut action of the superstructure is relied …"
      ]
     },
     "metadata": {},
     "output_type": "display_data"
    },
    {
     "data": {
      "application/vnd.jupyter.widget-view+json": {
       "model_id": "34ccc67442bf441b88554812cd19f325",
       "version_major": 2,
       "version_minor": 0
      },
      "text/plain": [
       "Checkbox(value=False, description='Pipe drainage system used? 306.2.3.1', indent=False, layout=Layout(margin='…"
      ]
     },
     "metadata": {},
     "output_type": "display_data"
    },
    {
     "data": {
      "application/vnd.jupyter.widget-view+json": {
       "model_id": "cae7e45229a64490bbedc03ea586fcca",
       "version_major": 2,
       "version_minor": 0
      },
      "text/plain": [
       "Checkbox(value=False, description='For rehabilitation, does the connection between the new and existing concre…"
      ]
     },
     "metadata": {},
     "output_type": "display_data"
    },
    {
     "data": {
      "application/vnd.jupyter.widget-view+json": {
       "model_id": "ad595ad915f643eabe61163c37e49064",
       "version_major": 2,
       "version_minor": 0
      },
      "text/plain": [
       "Checkbox(value=False, description='Aesthetic for wall-type abutments 306.2.2.1', indent=False, layout=Layout(m…"
      ]
     },
     "metadata": {},
     "output_type": "display_data"
    },
    {
     "data": {
      "application/vnd.jupyter.widget-view+json": {
       "model_id": "8dcb3833eeba4147859e99f1ab6f0d20",
       "version_major": 2,
       "version_minor": 0
      },
      "text/plain": [
       "Checkbox(value=False, description='For phase construction, is each phase supported by a minimum of three piles…"
      ]
     },
     "metadata": {},
     "output_type": "display_data"
    },
    {
     "data": {
      "application/vnd.jupyter.widget-view+json": {
       "model_id": "17f6a7009fa749ae9ad181fe012774d7",
       "version_major": 2,
       "version_minor": 0
      },
      "text/plain": [
       "Checkbox(value=False, description='Top strap of the MSE wall should be 6” below the footing. See figure 201-2 …"
      ]
     },
     "metadata": {},
     "output_type": "display_data"
    },
    {
     "data": {
      "application/vnd.jupyter.widget-view+json": {
       "model_id": "d47ce960ea09407eb6b310c5315d29af",
       "version_major": 2,
       "version_minor": 0
      },
      "text/plain": [
       "Checkbox(value=False, description='What type of protection is used to prevent the weed growth in the area betw…"
      ]
     },
     "metadata": {},
     "output_type": "display_data"
    },
    {
     "data": {
      "application/vnd.jupyter.widget-view+json": {
       "model_id": "6ca911f1d70c4cfbb0a231b7e1eb8fd5",
       "version_major": 2,
       "version_minor": 0
      },
      "text/plain": [
       "Checkbox(value=False, description='For high skew semi-integral bridges keep the beam seat level and use variab…"
      ]
     },
     "metadata": {},
     "output_type": "display_data"
    }
   ],
   "source": [
    "# Function to display the \"abutments_general\" section\n",
    "def display_abutments_general():\n",
    "    header = widgets.HTML(\"<b><u>Abutments General</u></b>\")\n",
    "    display(header)\n",
    "    checkboxes = []\n",
    "    for criterion in abutments_general_criteria:\n",
    "        label = criterion[\"label\"]\n",
    "        checkbox = widgets.Checkbox(\n",
    "            description=label,\n",
    "            value=False,\n",
    "            indent=False,\n",
    "            layout=widgets.Layout(width='100%', margin='6px 0 0 0px')\n",
    "        )\n",
    "        checkbox.style = {'description_width': '0px'}\n",
    "        checkboxes.append(checkbox)\n",
    "        display(checkbox)\n",
    "\n",
    "# Display the \"abutments_general\" section\n",
    "display_abutments_general()"
   ]
  },
  {
   "cell_type": "markdown",
   "id": "320488b1-ba93-4b68-8b41-4d7a2ebb4c10",
   "metadata": {},
   "source": [
    "### Pile Foundations"
   ]
  },
  {
   "cell_type": "code",
   "execution_count": 236,
   "id": "409dfa4d-c177-4406-a96b-2b222a109db8",
   "metadata": {},
   "outputs": [],
   "source": [
    "# Define the pile_foundations criteria\n",
    "pile_foundations_criteria = [\n",
    "    {\n",
    "        \"label\": \"Flanges of piles parallel to face of rigid abutments; webs parallel to face of flexible abutment (including CPA-1-08/ICD-1-82 abutments and CPP-1-08 piers)?\"\n",
    "    },\n",
    "    {\n",
    "        \"label\": \"Battered piles required? (Rate of batter shown? 1:4 desirable, 1:3 acceptable) 305.3.5.8\"\n",
    "    },\n",
    "    {\n",
    "        \"label\": \"Pile embedment into footing shown as 1'-6\\\" cover shown above piles or as per 305.3.5\"\n",
    "    },\n",
    "    {\n",
    "        \"label\": \"Pile design load 305.3.3 & 305.3.4\"\n",
    "    },\n",
    "    {\n",
    "        \"label\": \"Distance from center of piles to edge of footing at least 1'-6\\\"? (Not the Ultimate Bearing Value UBV pile load) shown in the General Notes? UBV as per 305.3.5.1\"\n",
    "    },\n",
    "    {\n",
    "        \"label\": \"For abutments on a single row of piles, have closed ties been provided around the piles? For example, see Standard Drawing ICD-1-82\"\n",
    "    },\n",
    "    {\n",
    "        \"label\": \"Design utilizes maximum allowable pile spacing and maximum allowable design loads to minimize the number of piles 305.3.5, 305.3.3 & 305.3.4\"\n",
    "    },\n",
    "    {\n",
    "        \"label\": \"For abutments on a single row of piles, has the footing been extended to the ends of the wingwalls and straight wing-walls used?\"\n",
    "    }\n",
    "]"
   ]
  },
  {
   "cell_type": "code",
   "execution_count": 237,
   "id": "44e1968e-4595-4083-9380-6670bee27c52",
   "metadata": {},
   "outputs": [
    {
     "data": {
      "application/vnd.jupyter.widget-view+json": {
       "model_id": "54fd64df39324f378e8bc2040da621ac",
       "version_major": 2,
       "version_minor": 0
      },
      "text/plain": [
       "HTML(value='<b><u>Pile Foundations</u></b>')"
      ]
     },
     "metadata": {},
     "output_type": "display_data"
    },
    {
     "data": {
      "application/vnd.jupyter.widget-view+json": {
       "model_id": "8e2f55cd74234d2eaa88192367e37a97",
       "version_major": 2,
       "version_minor": 0
      },
      "text/plain": [
       "Checkbox(value=False, description='Flanges of piles parallel to face of rigid abutments; webs parallel to face…"
      ]
     },
     "metadata": {},
     "output_type": "display_data"
    },
    {
     "data": {
      "application/vnd.jupyter.widget-view+json": {
       "model_id": "1c3bb9dffafc47b385d9f80987b2c98c",
       "version_major": 2,
       "version_minor": 0
      },
      "text/plain": [
       "Checkbox(value=False, description='Battered piles required? (Rate of batter shown? 1:4 desirable, 1:3 acceptab…"
      ]
     },
     "metadata": {},
     "output_type": "display_data"
    },
    {
     "data": {
      "application/vnd.jupyter.widget-view+json": {
       "model_id": "44decd8ef0d04b9a8f4669d68740a40c",
       "version_major": 2,
       "version_minor": 0
      },
      "text/plain": [
       "Checkbox(value=False, description='Pile embedment into footing shown as 1\\'-6\" cover shown above piles or as p…"
      ]
     },
     "metadata": {},
     "output_type": "display_data"
    },
    {
     "data": {
      "application/vnd.jupyter.widget-view+json": {
       "model_id": "2d87dfa196cc46169e617c14a7e45190",
       "version_major": 2,
       "version_minor": 0
      },
      "text/plain": [
       "Checkbox(value=False, description='Pile design load 305.3.3 & 305.3.4', indent=False, layout=Layout(margin='6p…"
      ]
     },
     "metadata": {},
     "output_type": "display_data"
    },
    {
     "data": {
      "application/vnd.jupyter.widget-view+json": {
       "model_id": "8f8edfc432054fe2b6bc0baea82c0579",
       "version_major": 2,
       "version_minor": 0
      },
      "text/plain": [
       "Checkbox(value=False, description='Distance from center of piles to edge of footing at least 1\\'-6\"? (Not the …"
      ]
     },
     "metadata": {},
     "output_type": "display_data"
    },
    {
     "data": {
      "application/vnd.jupyter.widget-view+json": {
       "model_id": "5420278622ca46928707f63acc55c444",
       "version_major": 2,
       "version_minor": 0
      },
      "text/plain": [
       "Checkbox(value=False, description='For abutments on a single row of piles, have closed ties been provided arou…"
      ]
     },
     "metadata": {},
     "output_type": "display_data"
    },
    {
     "data": {
      "application/vnd.jupyter.widget-view+json": {
       "model_id": "90e40f6da5f0467390869a86a2b6fd66",
       "version_major": 2,
       "version_minor": 0
      },
      "text/plain": [
       "Checkbox(value=False, description='Design utilizes maximum allowable pile spacing and maximum allowable design…"
      ]
     },
     "metadata": {},
     "output_type": "display_data"
    },
    {
     "data": {
      "application/vnd.jupyter.widget-view+json": {
       "model_id": "57ae0ac71ce54dfc9c2fe72ade2cf78b",
       "version_major": 2,
       "version_minor": 0
      },
      "text/plain": [
       "Checkbox(value=False, description='For abutments on a single row of piles, has the footing been extended to th…"
      ]
     },
     "metadata": {},
     "output_type": "display_data"
    }
   ],
   "source": [
    "# Function to display the \"pile_foundations\" section\n",
    "def display_pile_foundations():\n",
    "    header = widgets.HTML(\"<b><u>Pile Foundations</u></b>\")\n",
    "    display(header)\n",
    "    checkboxes = []\n",
    "    for criterion in pile_foundations_criteria:\n",
    "        label = criterion[\"label\"]\n",
    "        checkbox = widgets.Checkbox(\n",
    "            description=label,\n",
    "            value=False,\n",
    "            indent=False,\n",
    "            layout=widgets.Layout(width='100%', margin='6px 0 0 0px')\n",
    "        )\n",
    "        checkbox.style = {'description_width': '0px'}\n",
    "        checkboxes.append(checkbox)\n",
    "        display(checkbox)\n",
    "\n",
    "# Display the \"pile_foundations\" section\n",
    "display_pile_foundations()"
   ]
  },
  {
   "cell_type": "markdown",
   "id": "6e7a6722-aef2-4c27-ac44-d41162a31943",
   "metadata": {},
   "source": [
    "## Drilled Shaft"
   ]
  },
  {
   "cell_type": "code",
   "execution_count": 238,
   "id": "1c3e2e43-89ca-4d42-b1bd-acfd352e56de",
   "metadata": {},
   "outputs": [],
   "source": [
    "# Define the drilled_shaft criteria\n",
    "drilled_shaft_criteria = [\n",
    "    {\n",
    "        \"label\": \"Drilled shaft diameter a minimum of 3'-0\\\"? 305.4\"\n",
    "    },\n",
    "    {\n",
    "        \"label\": \"Bedrock socket depth shown on the plans? (Bottom of socket elevation should generally not be given)\"\n",
    "    },\n",
    "    {\n",
    "        \"label\": \"Spacing of the drilled shafts appropriate? Typically, spacing for 12 to 18 feet are used. Drilled shafts should attempt to be spaced to utilize the maximum bedrock end bearing pressures and a minimum number of drilled shafts.\"\n",
    "    },\n",
    "    {\n",
    "        \"label\": \"Splice cage specified? 303.4.4.3 & Fig. 305-4\"\n",
    "    },\n",
    "    {\n",
    "        \"label\": \"Use of friction drilled shaft requires previous approval of OGE? 305.4.3\"\n",
    "    }\n",
    "]"
   ]
  },
  {
   "cell_type": "code",
   "execution_count": 239,
   "id": "208ba548-1726-4eb3-84ba-6b3b1e155851",
   "metadata": {},
   "outputs": [
    {
     "data": {
      "application/vnd.jupyter.widget-view+json": {
       "model_id": "f437104d27084e63b243ef608965addf",
       "version_major": 2,
       "version_minor": 0
      },
      "text/plain": [
       "HTML(value='<b><u>Drilled Shaft</u></b>')"
      ]
     },
     "metadata": {},
     "output_type": "display_data"
    },
    {
     "data": {
      "application/vnd.jupyter.widget-view+json": {
       "model_id": "093c26e482a8407abbc9f29bab344ef6",
       "version_major": 2,
       "version_minor": 0
      },
      "text/plain": [
       "Checkbox(value=False, description='Drilled shaft diameter a minimum of 3\\'-0\"? 305.4', indent=False, layout=La…"
      ]
     },
     "metadata": {},
     "output_type": "display_data"
    },
    {
     "data": {
      "application/vnd.jupyter.widget-view+json": {
       "model_id": "fb25667452614c4fa89acfb0268adede",
       "version_major": 2,
       "version_minor": 0
      },
      "text/plain": [
       "Checkbox(value=False, description='Bedrock socket depth shown on the plans? (Bottom of socket elevation should…"
      ]
     },
     "metadata": {},
     "output_type": "display_data"
    },
    {
     "data": {
      "application/vnd.jupyter.widget-view+json": {
       "model_id": "02b7ffc02c6148829ccd6b3947ba3d95",
       "version_major": 2,
       "version_minor": 0
      },
      "text/plain": [
       "Checkbox(value=False, description='Spacing of the drilled shafts appropriate? Typically, spacing for 12 to 18 …"
      ]
     },
     "metadata": {},
     "output_type": "display_data"
    },
    {
     "data": {
      "application/vnd.jupyter.widget-view+json": {
       "model_id": "5838e223f08942589016383d4f0d093c",
       "version_major": 2,
       "version_minor": 0
      },
      "text/plain": [
       "Checkbox(value=False, description='Splice cage specified? 303.4.4.3 & Fig. 305-4', indent=False, layout=Layout…"
      ]
     },
     "metadata": {},
     "output_type": "display_data"
    },
    {
     "data": {
      "application/vnd.jupyter.widget-view+json": {
       "model_id": "0725d965da1c4496875c033a6ac62f44",
       "version_major": 2,
       "version_minor": 0
      },
      "text/plain": [
       "Checkbox(value=False, description='Use of friction drilled shaft requires previous approval of OGE? 305.4.3', …"
      ]
     },
     "metadata": {},
     "output_type": "display_data"
    }
   ],
   "source": [
    "# Function to display the \"drilled_shaft\" section\n",
    "def display_drilled_shaft():\n",
    "    header = widgets.HTML(\"<b><u>Drilled Shaft</u></b>\")\n",
    "    display(header)\n",
    "    checkboxes = []\n",
    "    for criterion in drilled_shaft_criteria:\n",
    "        label = criterion[\"label\"]\n",
    "        checkbox = widgets.Checkbox(\n",
    "            description=label,\n",
    "            value=False,\n",
    "            indent=False,\n",
    "            layout=widgets.Layout(width='100%', margin='6px 0 0 0px')\n",
    "        )\n",
    "        checkbox.style = {'description_width': '0px'}\n",
    "        checkboxes.append(checkbox)\n",
    "        display(checkbox)\n",
    "\n",
    "# Display the \"drilled_shaft\" section\n",
    "display_drilled_shaft()"
   ]
  },
  {
   "cell_type": "markdown",
   "id": "1d022798-496b-40e9-8bad-f6780b0fc577",
   "metadata": {},
   "source": [
    "# Appendix"
   ]
  },
  {
   "cell_type": "markdown",
   "id": "4ece951e-f046-4f13-a511-cb96fbd4b104",
   "metadata": {},
   "source": [
    "## A - Legacy Checklist from Excel"
   ]
  },
  {
   "cell_type": "raw",
   "id": "361427c4-204c-43d5-aa36-35bd81444458",
   "metadata": {},
   "source": [
    "\t\t\t\t\t\n",
    "\tOhio Department of Transportation\t\t\t\t\n",
    "\tBRIDGE STAGE 2 PLAN REVIEW CHECKLIST\t\t\t\t\n",
    "\tVERSION 4 – JULY 17, 2020\t\t\t\t\n",
    "\tComplies with 2019 CMS\t\t\t\t\n",
    "\tPrepared by:  OSE\t\t\t\t\n",
    "\t                                                                                    \t\t\t\t\n",
    "\t\t\t\t\t\n",
    "\t                                                         Send all changes to this checklist to: teddy.antonios@dot.ohio.gov\t\t\t\t\n",
    "\t                                                         \t\t\t\t\n",
    "\tBridge No:  CTY-RTE-0000\t\t\t\t\n",
    "\tChecker:  Name\tDate: MM/DD/YY\t\t\t\n",
    "\tPID:  123456\t\t\t\t\n",
    "\t\t\t\t\t\n",
    "\tApplicable bullet items shall be included in each Stage 2 design review submittal. This “checklist” should be considered as a starting point for each Stage 2 design review. Each structure will contain anomalies specific to that site and should be reviewed/analyzed accordingly.\t\t\t\t\n",
    "\tLegend:\t\t\t\t\n",
    "\t?\tChecked\t\t\t\n",
    "\tN/A – Not Applicable\t\t\t\t\n",
    "\tNotes by/to Reviewer\t\t\t\t\n",
    "\t                                                         \t\t\t\t\n",
    "\tContents\t\t\t\t\n",
    "\tGENERAL\t4\t\t\t\n",
    "\tPLANS\t5\t\t\t\n",
    "\tA.\tSITE PLAN\t5\t\t\n",
    "\tB.\tGENERAL PLAN\t5\t\t\n",
    "\tC.\tGENERAL NOTES/ESTIMATED QUANTITIES\t5\t\t\n",
    "\t1)\tGENERAL NOTES Refer to ( 600)\t5\t\t\n",
    "\t2)\tDETAIL NOTES\t6\t\t\n",
    "\t3)\tESTIMATED QUANTITIES\t6\t\t\n",
    "\t4)\tREINFORCING DETAILS\t6\t\t\n",
    "\tSTAGE CONSTRUCTION\t7\t\t\t\n",
    "\t1)\tTypical Sections\t7\t\t\n",
    "\t2)\tPart Plan Views\t7\t\t\n",
    "\t3)\tTemporary Sheeting\t7\t\t\n",
    "\t4)\tTemporary Railing\t7\t\t\n",
    "\t5)\tSlab Bridges\t7\t\t\n",
    "\t6)\tLateral Restraint\t8\t\t\n",
    "\t7)\tEnd Dams\t8\t\t\n",
    "\t8)\tMiscellaneous\t8\t\t\n",
    "\tSUPERSTRUCTURE\t9\t\t\t\n",
    "\tA)\tSLAB\t9\t\t\n",
    "\tB)\tPRESTRESSED CONCRETE BOX BEAMS\t10\t\t\n",
    "\tC)\tPRESTRESSED CONCRETE I-BEAMS\t11\t\t\n",
    "\tD)\tSTEEL STRINGERS\t13\t\t\n",
    "\t1)\tGeneral\t13\t\t\n",
    "\t2)\tRolled Beams\t15\t\t\n",
    "\t3)\tPlate Girders\t15\t\t\n",
    "\tE)\tCONCRETE DECK ON CONCRETE I-BEAMS OR STEEL STRINGERS\t15\t\t\n",
    "\tF)\tRAILING/FENCE\t17\t\t\n",
    "\t1)\tDeep Beam Railing\t17\t\t\n",
    "\t2)\tTwin Steel Tube Rail\t17\t\t\n",
    "\t3)\tSidewalk Railing with Concrete Parapet (BR-2-98 Type Railing)\t17\t\t\n",
    "\t4)\tParapet Type Railing\t17\t\t\n",
    "\t5)\tParapet and Fence Type Railing\t18\t\t\n",
    "\tG)\tBEARINGS\t18\t\t\n",
    "\t1\tElastomeric Bearings\t18\t\t\n",
    "\t2\tAnchor Bars\t19\t\t\n",
    "\t3\tAnchor Bolt Layout\t19\t\t\n",
    "\t4\tMiscellaneous\t19\t\t\n",
    "\tH)\tDECK JOINTS\t20\t\t\n",
    "\t1\tTerminal Details\t20\t\t\n",
    "\t2\tJoint/Bearing Coordination\t20\t\t\n",
    "\t3\tMiscellaneous\t20\t\t\n",
    "\tI)\tDECK DRAINAGE\t20\t\t\n",
    "\t1)\tScuppers\t20\t\t\n",
    "\t2)\tApproaches\t21\t\t\n",
    "\t3)\tDrainage Collection System\t21\t\t\n",
    "\t4)\tElastomeric Troughs\t21\t\t\n",
    "\t5)\tErosion Protection\t21\t\t\n",
    "\tJ)\tUTILITIES ( 301.7)\t21\t\t\n",
    "\tK)\tSTRUCTURE GROUNDING\t21\t\t\n",
    "\tL)\tAPPROACH SLAB\t21\t\t\n",
    "\t\tSUBSTRUCTURE\t\t\t\n",
    "\tA.\tPIERS\t22\t\t\n",
    "\t1\tGeneral\t22\t\t\n",
    "\t2\tPile Foundations\t22\t\t\n",
    "\t3\tCapped-Pile Piers\t23\t\t\n",
    "\t4\tCap and Column Piers\t23\t\t\n",
    "\tB.\tABUTMENTS\t23\t\t\n",
    "\t1\tGeneral\t23\t\t\n",
    "\t2\tPile Foundations\t25\t\t\n",
    "\tC.\tDRILLED SHAFT\t26\t\t\n",
    "\t\t\t\t\t\n",
    "1\t\tGENERAL\t\t\t\n",
    "1.1\t?\tAll Stage I comments resolved and detailed design is as per approved Stage I.\t\t\t\n",
    "1.2\t?\tAll correspondence has been reviewed?\t\t\t\n",
    "1.3\t?\tAll bridge plan sheet are in order. \t103\t\t\n",
    "1.4\t?\tTitle block okay on all sheets?  (As shown on Figure 102-4 in the Bridge Design Manual [BDM]) Designed, checked and reviewed blocks complete on all sheets?  (If not, or if it appears a thorough independent check and review has not occurred, plans should be returned)\t\t\t\n",
    "1.5\t?\tProject number and bridge number correct? \t102.4\t\t\n",
    "1.6\t?\tAll lettering No. 5 or larger?  Caps 5/32 inches in height) Sheets in an appropriate order?  As per \t102.2\t\t\n",
    "1.7\t?\tSupplemental Site Plan, if prepared during Stage 1 has not been included in plans?\t\t\t\n",
    "1.8\t?\tSite Plan been checked with the final approved Sage 1 Site Plan?  Deck transverse sections matches that approved in Stage I?\t\t\t\n",
    "1.9\t?\tCall-outs are consistent on all sheets?  (Span designation number, pier numbers, etc.)\t\t\t\n",
    "1.10\t?\tNorth arrow shown on all plan views, all sheets. \t102\t\t\n",
    "1.11\t?\tEach drilled shaft in the structure has been assigned a unique number? \t305.4.4\t\t\n",
    "1.12\t?\tEach pile in the structure has been assigned a unique number? \t\t\t\n",
    "1.13\t?\tPier (s) and forward abutment elevations and the superstructure transverse section shown looking forward?  Rear abutment elevation looking to the rear?  \t102\t\t\n",
    "1.14\t?\tAppropriate centerline/reference line used and referenced exclusively (consistent nomenclature) throughout the details.\t\t\t\n",
    "1.15\t?\tIf an auxiliary reference line is established, is stationing given along this line only, near the bridge? Is a geometric diagram provided, if necessary?\t\t\t\n",
    "1.16\t?\tFor bridge with variable super-elevation, has a super-elevation transition diagram been provided? \t309.3.6.1 & 309.3.6.1a\t\t\n",
    "1.17\t?\tBreak over (1/2 inch per foot slope) provided on high side of superelevated decks for shoulder widths >4 feet?  Rounding beginning at edge of roadway used when change in cross slope at break over exceeds 3 percent 4-foot rounding for shoulders < 8 feet and 5 foot rounding for shoulders   > 8 feet)?\t309.3.6.1 Figure 309-9 & 309-10\t\t\n",
    "1.18\t?\tApproach slabs have been detailed as per Designer Supplement: AS-2-15-Approach Slab Installation?\t\t\t\n",
    "1.19\t?\tItems that should be included with roadway quantities (e.g., Rock Channel Protection, Portable Concrete Barrier and Temporary Guardrail) have been designated as such?\t\t\t\n",
    "1.20\t?\tPortions of existing structure that are to be removed have been properly indicated?\t\t\t\n",
    "1.21\t?\t± Symbol used for existing structure dimensions?  Dashed lines used to denote existing structures? \t207.4\t\t\n",
    "1.22\t?\tDetail plans for temporary sheeting/shoring included if required by the \t310.1\t\t\n",
    "1.32\t?\tDetail plans for a temporary runaround bridge included if required by the Scope? \t503\t\t\n",
    "1.42\t?\tConcrete surfaces sealed per \t306.1.2, 309.2.1 and 403.3 .\t\t\n",
    "1.52\t?\tEpoxy only sealer not used. \t309.2.1-G\t\t\n",
    "\t\t     PLANS\t\t\t\n",
    "2\t\tA. SITE PLAN\t\t\t\n",
    "2.1\t?\tIn the proposed structure data block verify the Latitude and Longitude. The Latitude and Longitude of the begin Bridge limit station should be given to the nearest 0.01 second. The 0.01 second precision will be included in the next  update.  \t\t\t\n",
    "2.2\t?\tIn the profile view provide the highest known high-water mark; normal water elevation and Ordinary High-Water Mark \tOHWM See section 201.2.1 BDM.\t\t\n",
    "2.3\t?\tShow the length of the bedrock socket in the profile view. See section 305.4.2 BDM.\t\t\t\n",
    "2.4\t\tB. GENERAL PLAN\t\t\t\n",
    "2.5\t?\tReference line shown for curved bridges, and stations should be shown where it intersects curve?\t\t\t\n",
    "2.6\t?\tSpan lengths agree with Site Plan? \t202.1.1\t\t\n",
    "2.7\t?\tStage construction joint shown on appropriate plan views and details \t\t\t\n",
    "2.8\t?\tHighway lighting feature shown, if applicable?\t\t\t\n",
    "2.9\t?\tScuppers shown, if applicable?\t\t\t\n",
    "2.10\t?\tApproach drainage details (Gutters/catch basins)\t\t\t\n",
    "2.11\t?\tLimits of slope protection.\t\t\t\n",
    "2.12\t\tC. GENERAL NOTES/ESTIMATED QUANTITIES\t\t\t\n",
    "2\t\t1) GENERAL NOTES Refer to ( 600)\t\t\t\n",
    "2.1\t?\tAll applicable general notes from \t600 included?\t\t\n",
    "2.2\t?\tWording of \"standard general notes” suit the project?  (Do the notes make sense for this project?)\t\t\t\n",
    "2.3\t?\tGeneral notes included where necessary to describe \"as per plan\" items?\t\t\t\n",
    "2.4\t?\tIn addition to the typical general notes given in the BDM, general notes are usually included to describe any \"non-standard\" bid items or situations.  Have these been included?\t\t\t\n",
    "2.5\t?\tFor rehabilitation projects, is the scope work itemized and clearly described under a PROPOSED WORK note?\t\t\t\n",
    "2.6\t?\tConstruction procedure for unusual conditions\t\t\t\n",
    "2.7\t\t\t\t\t\n",
    "2.8\t\t2) DETAIL NOTES\t\t\t\n",
    "2.9\t?\tSee Section 700 of the Bridge Design Manual for a reminder list of typical detail notes.\t\t\t\n",
    "2.10\t\t3) ESTIMATED QUANTITIES\t\t\t\n",
    "2.11\t?\tAll Items should be listed in the Estimated Quantities sheet in stage 2 without quantities.\t\t\t\n",
    "2.12\t?\tPay-Item for cofferdam and excavation bracing included if required by section 310.1.1 of the BDM.\t\t\t\n",
    "\t\t4) REINFORCING DETAILS\t\t\t\n",
    "\t?\tBar lengths conform to The maximum bar length should be approximately 40 feet.  For longitudinal deck reinforcing, bar lengths of 30 feet are preferred, except for one odd length at end of run.\t304.4.1 ?\t\t\n",
    "\t?\tLength of the short leg of L-shaped bars less than 8'-0\"?  \t304.4.1\t\t\n",
    "\t?\tMinimum reinforcing steel provided in all faces of retaining walls and wall-type abutments and piers for shrinkage and temperature reinforcement?  \t304.4.9 LRFD 5.10.6\t\t\n",
    "\t?\tSplice and development lengths for epoxy bars conform to current AASHTO requirements? \tLRFD 5.10.8\t\t\n",
    "\t?\tAll bar splice lengths shown by plan note, on plan details, combination or reference?\t\t\t\n",
    "\t?\tBridge seat reinforcement adequately clear of bearing anchors? \t306.2.1.2\t\t\n",
    "\t?\tTreatment of reinforcing steel appropriate at all construction, contraction, and expansion joints? \t306.2.5\t\t\n",
    "\t?\tReinforcing steel in footings comply with (i.e., secondary rebars under main rebars, rebars at bottom of footing and not top of piles, dowel legs placed at bottom layer of footing rebars)?\t305.2.1.4\t\t\n",
    "\t?\tFor cantilevered pier caps  (T-type and cap and column), is the top layer of bars bent down the end face of the cap?  Side faces adequately reinforced to resist longitudinal superstructure forces? \t306.3.3.3\t\t\n",
    "\t?\tLateral ties between vertical bars in T-type and wall type piers as per section \t306.3.3\t\t\n",
    "\t?\tAll reinforcing shall be epoxy coated?  \t304.4\t\t\n",
    "\t?\tLetter prefix A (abutments), P (piers), S (superstructure), SP (spirals), DS (drilled shafts) generally used in bar marks?  \t304.4.2\t\t\n",
    "\t?\tMechanical connectors used where appropriate? \t304.4.4\t\t\n",
    "\t?\tSplices avoided at pier horizontal construction joints, except at top of footing?  \t304.4.3\t\t\n",
    "\t\t     STAGE CONSTRUCTION\t\t\t\n",
    "\t\t1) Typical Sections\t\t\t\n",
    "\t?\tLarge scale typical sections of existing and proposed superstructures provided to show removal and construction stages?\t\t\t\n",
    "\t?\tLocation of cut lines and stage construction joints established with respect to primary survey line?\t\t\t\n",
    "\t?\tTypical section of existing structure conforms to current photographs and site inspection sketches?\t\t\t\n",
    "\t?\tStage construction details sheet should include notes that detail the sequence of construction \t309.3.8.5\t\t\n",
    "\t\t2) Part Plan Views\t\t\t\n",
    "\t?\tPart Plan views provided to show the relative relationship of the existing and proposed abutments during Stage 1 construction and relevant basic dimensions and clearances?\t\t\t\n",
    "\t?\tSufficient room provided between temporary sheeting and proposed abutment for form construction and removal?\t\t\t\n",
    "\t?\tSufficient room provided for pile driving?\t\t\t\n",
    "\t\t3) Temporary Sheeting\t\t\t\n",
    "\t?\tConsultant designed sheeting details provided in the plan when traffic is being maintained and the height of the retained earth is over 8 feet \t310.1.1.2\t\t\n",
    "\t?\tTemporary sheeting shown on the Site Plan and/or General Plan?\t\t\t\n",
    "\t?\tCofferdams and Excavation Bracing item provided in quantities?\t\t\t\n",
    "\t?\tTentative location of temporary sheeting shown on abutment plan views to retain backfill and permit partial removal and excavation for proposed construction?\t\t\t\n",
    "\t\t4) Temporary Railing\t\t\t\n",
    "\t?\tReference for barrier details given to Standard Drawing PCB-91?\t\t\t\n",
    "\t?\tBarrier anchors provided not less than two per segment for barriers located less than 6'- 0\" from the edge of deck for bridges over roadways, railroad, or recreational areas: or less than 1'-0\" from the edge of the deck for other bridge application (PCB-DD)?\t\t\t\n",
    "\t?\tDouble the number of anchor if the barrier location is less than 1 foot. (PCB-DD)\t\t\t\n",
    "\t?\tComplete details given for temporary steel railing?\t\t\t\n",
    "\t\t5) Slab Bridges\t\t\t\n",
    "\t?\tSlab removal cut lines lie transverse to primary slab reinforcing steel? \tBDM201.2.6, 404.5\t\t\n",
    "\t?\tTemporary slab supports provided for such slabs \t310.1.2 ?\t\t\n",
    "\t?\tBoth stages of slab bridges supported by false work until second stage slab concrete has fully cured before false work is released (to avoid the use of a third stage closure section and high dead load shear forces on stage construction joints due to the premature release of false work)? (False work should be designed for live load)\t\t\t\n",
    "\t\t6) Lateral Restraint\t\t\t\n",
    "\t?\tTemporary lateral restraint provided to prevent rotational movement of the first stage superstructures of semi-integral bridges towards the unrestrained (no guide bearing) acute corners at stage construction joints?\t\t\t\n",
    "\t?\tFor re-decking an existing structure without a closure section, a deck slab placement procedure provided requiring relatively complete second stage deck placement before placement of second stage integral end-diaphragms?\t\t\t\n",
    "\t?\tSemi-Integral Abutment Diaphragm Guide provided as per standard drawing SICD-2-14.\t\t\t\n",
    "\t\t7) End Dams\t\t\t\n",
    "\t?\tFull penetration butt-welded field splices provided at or near stage construction joints for superstructure portion of the end dams?\t\t\t\n",
    "\t?\tBolted field splices provided for the abutment portion?\t\t\t\n",
    "\t?\tOffset between the two splices provided to facilitate butt-welding?\t\t\t\n",
    "\t?\tSuperstructure splice located to clear beam flanges and cross frames gusset plates?\t\t\t\n",
    "\t\t8) Miscellaneous\t\t\t\n",
    "\t?\tRemoval limits clearly shown or are apparent?  Cross-hatching used to designate removal areas?\t\t\t\n",
    "\t?\tRemoval Cut lines: Full-depth saw cut-lines specified for deck slab removals where the integrity of the slab is needed to support temporary railing?  Cut-lines shown on plan and/or elevation views of substructure? \t201.2.6\t\t\n",
    "\t?\tConstruction Access: Adequate space provided between Stage 1 construction and the remainder of the existing structure for temporary sheeting and form construction?\t\t\t\n",
    "\t?\tClosure Placements: 2'-6\" minimum wide third stage closure section provided for “new\" stringer superstructures?  \t309.3.8.5\t\t\n",
    "\t?\tAre stage construction joints shown in all relevant views?\t\t\t\n",
    "\t?\tCofferdam Sheeting: Vertical clearance available under 20 + feet) and/or adjacent to the existing structure to permit driving sheeting?  Plan details shown tentative position of such sheeting where clearances are tight?\t\t\t\n",
    "\t? \tProvisions made for the complete or partial removal of temporary railing anchors and the grouting of resulting voids?\t\t\t\n",
    "\t?\tRoadway Item 614: Note provided referring to roadway plans for other temporary railing details and to Item 614 (roadway plans) for payment?\t\t\t\n",
    "\t?\tApproach slab details provided showing the same railing type as used on the bridge and with the same limiting edge clearances and/or anchorage (unless a different type of anchorage has been provided)?\t\t\t\n",
    "\t?\tJoint Type: An expansion or contraction joint used in lieu of a stage \"construction\" joint to simplify construction by eliminated lap splicing or mechanical connector splicing of reinforcing steel, where appropriate?  (Abutment back walls, breast walls and certain pier walls, etc.)\t\t\t\n",
    "\t?\tDifferential Shear: Vertical construction joints provided with shear keys and generous transverse reinforcement to resist the potentially high shear forces induced by differential deformation of foundations (piles, soil, etc.)? Formed joint surfaces artificially roughened to improve shear resistance \tLRFD 5.8.4 ?\t\t\n",
    "\t?\tBattered Piles: Room adjacent to the existing structure to drive piles?  Batter piles?  New piles clear existing battered piles?  Sufficient room available for pile length and leads to position batter piles for driving?\t\t\t\n",
    "\t?\tScreed Elevations: The presence or absence of cross frames at stage construction joints on stringer deflection taken into account when establishing screed elevations at stage construction joints.\t\t\t\n",
    "\t?\tIntegral Construction: Closure sections provided in bridges for both the deck slab and integral end-diaphragms? \t306.2.2.5\t\t\n",
    "\t?\tElastomer Seals: Note provided requiring seals for each joint to be installed in one continuous piece?\t\t\t\n",
    "\t?\tDrain Pipes: Abut porous backfill drain pipes terminated and capped on both sides of temporary sheeting?\t\t\t\n",
    "\t?\tUtility conduits located clear of stage construction joints and temporary sheeting?\t\t\t\n",
    "\t?\tThe design for adhesive concrete anchors shall be in accordance with AASHTO LRFD Section 513. \t\t\t\n",
    "\t\t     SUPERSTRUCTURE\t\t\t\n",
    "\t\tA) SLAB \t\t\t\n",
    "\t?\tSealing of concrete surfaces shown and appropriate?  \t306.1.2\t\t\n",
    "\t?\tStainless steel drip strip provided on decks with over-the-side drainage?  \t309.2 and 309.7\t\t\n",
    "\t?\tVerify reinforcing steel accommodate HL-93 loading.\t\t\t\n",
    "\t?\tLap lengths to other bars.\t\t\t\n",
    "\t?\tCenterline of bearing stations\t\t\t\n",
    "\t?\tContinuous Deck Slab Placement Detail. \tODOT STD. DWG. PSID-1-13\t\t\n",
    "\t\tB) PRESTRESSED CONCRETE BOX BEAMS\t\t\t\n",
    "\t?\tFor multiple span bridges, has the superstructure been detailed as continuous as per Standard Drawing PSBD-2-07?  \t308.2.3.3\t\t\n",
    "\t?\tMultiple span bridges of less than 200-foot total length with flexible piers and abutments fixed at all substructure units?\t\t\t\n",
    "\t?\tStandard Drawings PSBD-2-07 has been reviewed and items required by it provided?  It is not intended that details and notes shown on the Standard Drawing be repeated unnecessarily.\t\t\t\n",
    "\t?\tAll beams anchored?  \t308.2.3.3f\t\t\n",
    "\t?\tMembrane waterproofing (Type 3) used on all non-composite box beam Bridge?  \t308.2.3.3d.\t\t\n",
    "\t?\tFor bridge with poured sealant joints, has waterproofing been extended 2 feet past the bridge limits? \tCMS 512.08H\t\t\n",
    "\t?\tTwo-inch spacing or multiple therefore provided between strands?   If space permits, place all strands in bottom row.\t302.5.1.2.b\t\t\n",
    "\t?\tLocation, length, and number of debonded strands shown?  \t308.2.3.4a\t\t\n",
    "\t?\tAdditional strand debonding and supplemental mild reinforcing steel provided at beam ends for skews over 30 degree? Limit box beam to 30 degree skew or less except rare occasions approved by Office of Structural Engineering.\t\t\t\n",
    "\t?\tStrands and rebars miss anchor, diaphragm, and bearing rod holes?  Are there any conflicts between strands, rebars, tie-rod holes, beam anchor rod holes, rail post anchors, joint armor, etc.? \tPSBD-2-07\t\t\n",
    "\t?\tPEJF specified as grout retainer at dowels and under beam connection at piers? \tStandard Drawing PSBD-2-07\t\t\n",
    "\t?\tTwo bearings provided for each box beam?  \t308.2.3.3\t\t\n",
    "\t?\tProper camber/wearing surface notes used?  \t702.7\t\t\n",
    "\t?\tWearing surface/composite topping thickness diagram shown?  \t308.2.3.4b\t\t\n",
    "\t?\tIf over the side drainage will occur, has a drip strip been specified?  Reference should be made to Standard Drawing DS-1-92.\t\t\t\n",
    "\t?\tSealing of concrete surfaces provided as directed in \t309.2.1.D\t\t\n",
    "\t?\tShear key mortar finishing detail shown?  (Not required for composite concrete decks) \tPSBD-2-07\t\t\n",
    "\t\t\t\t\t\n",
    "\t?\tSufficient dimensions furnished for the beam fabricator to locate the railing post anchors? Have location of inserts for stage construction temporary railing shown?  Has conflict between post anchors and tie rods and/or T-section been avoided? \t308.2.3.3\t\t\n",
    "\t?\tProper allowances for fit-up between beams accounted for and shown?  \t308.2.3.3\t\t\n",
    "\t?\tMaximum of three beams been tied together by one tie rod? \tPSBD-2-07\t\t\n",
    "\t?\tTransverse tie-rods provided at abutment ends and located per \t308.2.3.3g\t\t\n",
    "\t?\tFor non-composite design, is asphalt thickness 8 inches or less? \t308.2.3\t\t\n",
    "\t?\tFor multiple span bridges, has the same beam depth been specified for all spans? \t308.2.3\t\t\n",
    "\t?\tFor beams greater than 100 ft. long, for concrete release strength greater than 5 ksi, and for 28 days concrete strength greater than 7 ksi, provide a letter per  308.2.3  \t\t\t\n",
    "\t?\tStrand location and clearance consistent with PSBD-2-07\t\t\t\n",
    "\t?\tDiaphragms and tie rods located \t308.2.3.3g\t\t\n",
    "\t?\tFor composite box beams Six-inch minimum slab thickness specified? \t308.2.3.3.c\t\t\n",
    "\t?\tNo. 6 at 18 inches longitudinal and No. 6 at 9 inches transverse bars specified \t308.2.3.3.c\t\t\n",
    "\t?\tAdditional bars over piers specified to meet the requirements of \t308.2.3.3.c and LRFD 5.10.8.1.2c\t\t\n",
    "\t?\tEpoxy coated bars (Grade 60) specified in the composite slab?  \t304.4\t\t\n",
    "\t?\tBars projecting from beam into composite slab specified as epoxy coated? \t304.4\t\t\n",
    "\t?\tConstruction joint shown between the cast-in-place \"T\" section at piers and the composite slab?\t\t\t\n",
    "\t?\tThe effect that the longitudinal grade has on dimensions measured along a beam’s length should be addressed in the plans \t308.2.3.2\t\t\n",
    "\t?\tVerify that design use severe corrosive factor as per Section S.5.9.2.3.2b of  by changing the design parameter in Conspan. The limiting stress factor for tension (service III) should be .0948 instead of 0.19 \t\t\t\n",
    "\t\t\t\t\t\n",
    "\t\tC) PRESTRESSED CONCRETE I-BEAMS\t\t\t\n",
    "\t?\tAre the proposed beam shapes per  308.2.3.4?\t\t\t\n",
    "\t?\tLow-relaxation, 270 ksi, 0.6-inch strands used?  (Initial street = 0.75 f’s) \t304.5.1, 304.5.2\t\t\n",
    "\t?\tStraight strands, debonded at ends if necessary, used? Draped strands should be provided as per\t308.2.3.3.a 308.2.3.4.a.3 .\t\t\n",
    "\t?\tNo more than 25 % of the total strands debonded? \t302.5.2.2.h\t\t\n",
    "\t?\tNo more than 45 % of the strands in any row debonded \t302.5.2.2.d\t\t\n",
    "\t?\tNumber and spacing of debonded strands, and the length of debonding, shown? \t302.5.2.2.d\t\t\n",
    "\t?\tStrand location and spacing meet requirements of \t308.2.3.3.b\t\t\n",
    "\t?\tInitial prestressed loads shown in the plans \t304.5.2\t\t\n",
    "\t?\tJoint details appropriate?  Details from Standard Drawings EXJ-6-06.\t\t\t\n",
    "\t?\tGrade 60 mild reinforcing used? \t304.4\t\t\n",
    "\t?\tBars projecting from I-beam been epoxy coated?  \t304.4\t\t\n",
    "\t?\tDiaphragms placed at intervals not exceeding 40 feet \t308.2.3.4.d\t\t\n",
    "\t?\tIntermediate diaphragms do not make contact with the underside of the deck? \t308.2.3.4.d\t\t\n",
    "\t?\tEnd diaphragms make complete contact with the underside of the deck? \t308.2.3.4.d\t\t\n",
    "\t?\tThreaded inserts used to connect diaphragm rebars to beams?  Type and coating requirements for inserts shown?  \t308.2.3.4.d\t\t\n",
    "\t?\tNote provided restricting deck placement to a minimum of 48 hours after diaphragms are placed and cured? If the Standard Bridge Drawing for I-beams is not referenced by the contract plans \t308.2.3.4.d\t\t\n",
    "\t?\tBridge seat elevations been computed as directed in \t308.2.3.4.b\t\t\n",
    "\t?\tDiagram provided showing slab thickness at center of each span and at each centerline of bearings? \t308.2.3.4.b\t\t\n",
    "\t?\tBeam anchorage meets the requirements of \t308.2.3.4.c\t\t\n",
    "\t?\tFull-depth cast-in-place concrete deck specified/ precast deck panels should not be used. \t309\t\t\n",
    "\t?\tThreaded insert location shown on the beam elevation view for draped strands. \tPSID-1-13\t\t\n",
    "\t?\tThe longitudinal superstructure cross section in the plans detailing the total topping thickness, including the design slab thickness and the haunch thickness at the centerline of spans and bearings. \t308.2.3.4.b\t\t\n",
    "\t?\tCamber at the time of release, at the time of erection, long term camber and a screed elevation table shown \t308.2.3.4.b\t\t\n",
    "\t?\tVerify that design use severe corrosive factor as per Section S.5.9.2.3.2b of  by changing the design parameter in Conspan. The limiting stress factor for tension (service III) should be .0948 instead of 0.19 \t\t\t\n",
    "\t\t\t\t\t\n",
    "\t\tD) STEEL STRINGERS\t\t\t\n",
    "\t\t1) General\t\t\t\n",
    "\t?\tA709 Grade 50W steel shall be specified for un-coated weathering steel bridges, A709 Grade 50 specified for a coated steel bridge. \t30.4.1\t\t\n",
    "\t?\tA709 Grade 50W structural steel within 10 feet from end of stringer adjacent to deck joint painted and note provided \t308.2.2.1.d.1\t\t\n",
    "\t?\tProper painting system used?  Formerly called, System IZEU on new steel and System OZEU on existing steel? \t308.2.2.1.d.1\t\t\n",
    "\t?\tAll main load carrying members such as rolled beams, girder web/flanges, moment plates, splice plates, and horizontally curved stringer cross frames designated as CVN for Charpy V-notch testing and plan note provided? \t308.2.2.1.b and 702.2\t\t\n",
    "\t?\tClearance between the bottom mat and top of the bolt over splice plate.\t\t\t\n",
    "\t?\tSteel fabricator certification given in pay item description as Classification Levels 1 thru 6, SF or UF. \t308.2.2.1.b\t\t\n",
    "\t?\tCross frames and field splices for dog-leggeddeflected) stringers conform with ,  Additional horizontal cross frames angle provided near top flange of horizontally curved stringers?\t308.2.2.1.j 308.2.2.1.j.1 and 308.2.2.2.b, .\t\t\n",
    "\t?\tPlan note provided for High Strength Bolts?  \t702.3\t\t\n",
    "\t?\tLeg size specified for fillet welds 1/4 inch minimum for material < 3/4 inch thick and 5/16 inch minimum for thicker material)? \t308.2.2.2.c.1\t\t\n",
    "\t?\tComplete penetration groove welds designated as CP with weld configuration left unspecified?  Partial penetration groove welds not permitted on structural elements)\t308.2.2.2.c and ANSI/AASHTO / AWS D1.5 Bridge Welding Code\t\t\n",
    "\t?\tStud shear connectors preferably 7/8 inch diameter and uniformly spaced transversely not closer than 4 diameters center to center with at least 1 inch clearance from flange edges? (Typically, three studs transversely for flanges 12 inches and wider)\t404.1.6 & AASHTO LRFD 6.10.10\t\t\n",
    "\t?\tShear connector length penetrates at least 2 inches above bottom reinforcing steel of slab and provides at least 2 inches top cover? \t\t\t\n",
    "\t?\t7/8? diameter Shear stud are not recommended for vertical application due to the longer welding times required to weld larger diameter studs, more molten metal is produced in the process. With ore molten metal, welding to a vertical surface proves to be more difficult with a larger diameter stud. The use of standard ceramic ferrules resulted in poor weld flash formation on the “top side” of the weld fillet, and excessive metal loss out of the vents at the bottom of the ferrule. Use a 3/4? diameter shear stud recommend by the industry.\t\t\t\n",
    "\t?\tShear connector maximum spacing generally not greater than 24 inches? Usually, fatigue and strength criteria produce maximum spacing near piers, smallest spacing near abutments, and moderate spacing near mid spans) No conflict near field spices or deck joint anchorage? \tAASHTO LRFD 6.10.10\t\t\n",
    "\t?\tExtra shear connectors provided at contra flexure points and longitudinal slab reinforcement properly extended if shear connectors are omitted over piers?  \tAASHTO LRFD 6.10.10\t\t\n",
    "\t?\tField splices located near points of dead load contra flexure as appropriate to facilitate erection and to limit field section lengths to 90 feet maximum for rolled beams and 120 feet maximum for plate girders?  Additional optional field splices may be shown recognizing greater availability of short lengths) \t308.2.2.1.c and 308.2.2.1.j.3\t\t\n",
    "\t?\tPlate thicknesses specified in the following standard sizes \t308.2.2.3.c :\t\t\n",
    "\t\t7/8\" to 3” In 1/8” Increments\t\t\t\n",
    "\t\t\t\t\t\n",
    "\t\t3\" And above 1/4\"Increments\t\t\t\n",
    "\t?\tBuoyant superstructures typically integral or semi-integral designs) where inundation is possible details with appropriate countermeasures e.g., holes drilled in stringer webs for egress of confined air, support anchorage, etc.)?\t\t\t\n",
    "\t?\tStringer top flange compression and tension zones shown and Welded Attachment Note provided? \t702.11\t\t\n",
    "\t?\tCamber and deflection table provided for information given at center of spans, splices points, and at 25 foot maximum intervals? \t702.1, 309.3.3\t\t\n",
    "\t?\tCamber diagram provided and blocking dimension from bottom of stringer at each support to chord between end supports) shown? \t309.3.3\t\t\n",
    "\t?\tCamber adjustment provided for horizontally heat curved stringers and for straight stringers on curved bridges?\tAASHTO LRFD 6.7.7\t\t\n",
    "\t?\tSign direction) of camber adjustment for vertical curve correct?\t\t\t\n",
    "\t?\tEdge distances used for field splices as per LRFD table 6.13.2.6.6-1? \t308.2.2.1.j.1 & 308.2.2.1.j.2\t\t\n",
    "\t?\tFor galvanized structures, the bolt hole size requires a 1/16 inch increase. \t308.2.2.1.j.1\t\t\n",
    "\t?\tField splices located so as not to interfere with other details (i.e., intermediate stiffeners, cross frames, etc.)? \t308.2.2.2.b\t\t\n",
    "\t?\tFatigue prone details avoided if possible? \t308.2.2.1.g\t\t\n",
    "\t?\tCross frame connection stiffeners rigidly attached to stringer top and bottom flanges? \t308.2.2.2.a\t\t\n",
    "\t?\tLateral bracing provided only when required?  \tAASHTO LRFD 6.7.5\t\t\n",
    "\t?\tCurve girder with stage construction should be checked for deflection at each stage.\t\t\t\n",
    "\t\t2) Rolled Beams\t\t\t\n",
    "\t?\tWelded moment plates not used in areas of tensile stress? \t308.2.2.2.d\t\t\n",
    "\t?\tBearing stiffeners provided only when necessary?  \tAASHTO LRFD 6.10.11.2\t\t\n",
    "\t?\tGalvanized beams limited in length to 60 feet maximum and utilize bolted connections only?  \t308.2.2.1.d.2\t\t\n",
    "\t\t3) Plate Girders\t\t\t\n",
    "\t?\tTop flange width as per  308.2.2.3.c.1\t\t\t\n",
    "\t?\tFlange thickness at least 7/8 inch? \t308.2.2.3.c.1\t\t\n",
    "\t?\tWeb thickness and stiffener thickness at least 3/8 inch \t308.2.2.3.c.2\t\t\n",
    "\t?\tFlange butt welds subject only to compressive stresses identified as CS and complete joint penetration as CP. \t308.2.2.3.f.2\t\t\n",
    "\t?\tNon-redundant main steel members identified as FCM (Fracture Critical Member)? Proper pay item and plan note provided \tBMD 308.2.2.3.b\t\t\n",
    "\t?\tLongitudinal stiffeners not used? Transverse stiffeners preferably not used (except cross frame connection stiffeners) \t308.2.2.3\t\t\n",
    "\t?\tTransverse stiffeners (if used) placed on alternate sides of interior girders and inside face only of fascia girders , made same size throughout, and detailed?\t308.2.2.3.d\t\t\n",
    "\t?\tCross frame connection stiffeners fillet welded to web and both flanges \t308.2.2.3.d\t\t\n",
    "\t?\tBearing stiffeners made to extend as near as practicable to outer edges of flange plate and detailed as tight fit at top flange, mill to bear at bottom flange?  (Rigid attachment to both flanges may be appropriate if used also as a connection plate) \tAASHTO LRFD 6.10.11.2.1)/LRFD 6.10.11.2\t\t\n",
    "\t?\tIntermediate cross frame angel size and connections conform with STD DWG GSD-1- 19? For beam/Girder D < 6 feet.\t\t\t\n",
    "\t?\tConstant flange widths used whenever possible? Make changes in flange width at field splice to facilitate fabrication) Changes in flange plate section appropriate based on cost criteria given in \t308.2.2.3.c.1 Steel Bridge Design Handbook FHWA-IF-12-052-Vol. 6)? \t\t\n",
    "\t?\tClearance between the bottom mat and top of the bolt over splice plate \t309.3.4.2\t\t\n",
    "\t\tE) CONCRETE DECK ON CONCRETE I-BEAMS OR STEEL STRINGERS\t\t\t\n",
    "\t?\tVerify bottom concrete cover of bars in the overhang deck \tLRFD 5.10.1, 304.4.8\t\t\n",
    "\t?\tSealing of concrete surfaces shown and appropriate \t309.2.1\t\t\n",
    "\t?\tStainless steel drip strip provided on decks with over-the-side drainage? \t309.7 and 309.2\t\t\n",
    "\t?\tDeck slab depth over stringers shown to top of web for plate girders and to top of flange for rolled beams or prestressed concrete I-beams and plan note provided \t702.5 and 702.6 .\t\t\n",
    "\t?\t2-inch minimum concrete haunch depth used over stringers  (top of thickest flange section to bottom of slab) \t309.3.5\t\t\n",
    "\t?\tFor steel beam or girder bridges with skew less than 15 degrees the transverse bars parallel to abutment and for skew more than 15 degrees or interference with shear stud, transverse bars place perpendicular to the centerline of bridge. \t309.3.4.2\t\t\n",
    "\t?\tFor prestressed I-beam or composite box beam bridge deck, transverse bars perpendicular to the centerline of bridge. \t309.3.4.2\t\t\n",
    "\t?\tSlab thickness and reinforcement conform to \tFigure 309-3, 309-4 or 309-5\t\t\n",
    "\t?\tTop and bottom main transverse) bars at same spacing and placed to coincide in a vertical plane? \t309.3.4.2\t\t\n",
    "\t?\tTransverse bars placed parallel to abutments for bridges with skews less than 15 degrees? \t309.3.4.2\t\t\n",
    "\t?\tLength of transverse bars without lap splices 5 inches shorter than deck (edge to edge distance) to ensure adequate cover at ends of bar, allowing for shop cutting tolerances?\t\t\t\n",
    "\t?\t(transverse) bars \t309.3.4.1\t\t\n",
    "\t?\tSecondary (longitudinal) bars placed above main \t309.3.4.1\t\t\n",
    "\t?\tAdditional top longitudinal bars with ends staggered 3'-0\" provided over piers on continuous structures?  Total longitudinal reinforcement meets the requirements of AASHTO LRFD 6.10.1.7 for steel stringers or for prestressed concrete I-beam? Generally, No. 6 bars midspaced between top full length longitudinal bars will be adequate and will provide enough clearance between bars to facilitate concrete placement and vibration).\t308.2.3.3.c\t\t\n",
    "\t?\tScreed elevations given along curb lines/edges of deck, roadway crown, transverse grade- break lines and phase construction lines at all bearings, quarter-span, mid-span, and splice points, plus any points required for a maximum 25 foot spacing. \t309.3.3.1\t\t\n",
    "\t?\tSlab pour sequence generally specified only when uplift during construction or differential deflections at intermediate expansion joints are of concern. \t2.2.3.g, 403.5.4\t\t\n",
    "\t?\tCheck three independent sources of girder twist resulting from deck placement: global superstructure distortion, oil-canning and girder warping. \t309.3.8.2\t\t\n",
    "\t?\tNeglect girder twist due to global deformation if the tributary deck load carried by the fascia girder is less than 110 % of the average of the tributary deck load carried by the interior members for new structure and 115 % for existing structure. \t309.3.8.2.a\t\t\n",
    "\t?\tFor web depth greater than 84 inches note for location of lower contact point of the overhang false work included. \t611.4.1\t\t\n",
    "\t?\tScreed, top of haunch and finished deck surface shown and note included? \t309.3.3.1, 309.3.3.2, 309.3.3.3, 702.12.1, 702.12.2, 702.12.3\t\t\n",
    "\t?\tThe final deck surface elevation locations should be identified in a plan view. \t309.3.3.3\t\t\n",
    "\t?\tThe screed elevation locations should be identified on the transverse section. \t702.12.1\t\t\n",
    "\t?\tThe top of haunch elevation locations should be identified on the transverse section. \t702.12.2\t\t\n",
    "\t?\tDeck placement design assumptions note is included. \t611.4.2\t\t\n",
    "\t\tF) RAILING/FENCE\t\t\t\n",
    "\t\t1) Deep Beam Railing\t\t\t\n",
    "\t?\tDeep beam guardrail must be used in accordance with \t309.4.3.4\t\t\n",
    "\t\t2) Twin Steel Tube Rail\t\t\t\n",
    "\t?\tReference to Standard Drawing. TST-1-99 Given.\t\t\t\n",
    "\t?\tPay limits for bridge railing measured center-to-center of the second posts on the approaches?\t\t\t\n",
    "\t?\tRail post spacing of 6'-3\" c/c of post maintained except one post spacing per span can be decreased to allow for construction clearances.\t\t\t\n",
    "\t?\tSuitable clearances between posts and back walls and between post anchors and expansion joint armor anchors provided?\t\t\t\n",
    "\t?\tWing-wall mounted post used to provide suitable post and anchor bar clearances?\t\t\t\n",
    "\t?\tFor box beam bridges with steel railing, the post spacing and position of post anchorage shall be detailed on the plans.\t\t\t\n",
    "\t?\tEnlarged details provided to describe post anchorage to composite box beams?\t\t\t\n",
    "\t\t3) Sidewalk Railing with Concrete Parapet (BR-2-15 Type Railing)  309.4.3.3\t\t\t\n",
    "\t?\tRailing posts spaced to clear parapet deflection joints as per STD- BR-2-15.\t\t\t\n",
    "\t?\tRadius of curved railing not less than 20 feet without special details. This is noted in STD-BR-2-15 Sheet 5 of 5 Under Horizontal Curvatures Title.\t\t\t\n",
    "\t?\tAll horizontal reinforcing steel should be detailed as per STD-BR-2-15\t\t\t\n",
    "\t?\tSteel tubing has provision for Expansion and Contraction as shown on STD-BR-2-15 Sheet 1 of 5 View D-D.\t\t\t\n",
    "\t\t4) Parapet Type Railing\t\t\t\n",
    "\t?\tParapet when to use per  309.4.3\t\t\t\n",
    "\t?\tComplete details of the Parapet Type bridge railing shown on the plans?\t\t\t\n",
    "\t?\tRailing transition preferably mounted on turn back abutment wingwalls or approach slabs?\t\t\t\n",
    "\t?\tFor bridges with expansion joints and with parapets mounted on approach slabs, the 1'-1\" high base portion of the parapets within the width of back walls are reinforced and placed as part of the abutments to provide an integral structure for mounting the expansion joint armor?\t\t\t\n",
    "\t?\tSuch parapets provided with special reinforcement and joint details to allow consolidation induced rotation of the approach slabs without parapet distress?\t\t\t\n",
    "\t?\tCurb heights on approach slabs limited to 4 inches as shown in Section F-F on Deflector Parapet Type drawing?\t\t\t\n",
    "\t?\tDetails of filler between approach slab and turn back wing-wall at the base of the parapet made to conform to DETAIL F of Standard Drawing AS-1-15. \t\t\t\n",
    "\t?\tParapet length of 14'-0\" or more provided to allow the standard transition length to be used?\t\t\t\n",
    "\t?\tReference made to the roadway plans for details and payment provisions for Bridge Terminal Assembly \tDrawings MGS-3.1 and MGS-3.2 ?\t\t\n",
    "\t\t5) Parapet and Fence Type Railing\t\t\t\n",
    "\t?\t2'-8\" high parapets provided?\t\t\t\n",
    "\t?\tNew guideline for fencing?  Fence used on all structure over live traffic except over County and Township roads. \t\t\t\n",
    "\t?\t Fence details conform to Standard Drawings VPF-1-90?\t\t\t\n",
    "\t\tG) BEARINGS\t\t\t\n",
    "\t\t1. Elastomeric Bearings\t\t\t\n",
    "\t?\tSteel load plate provided for attachment to steel members? \t306.4.2\t\t\n",
    "\t?\tElastomer hardness specified? \t306.4.2\t\t\n",
    "\t?\tAn elastomeric pad thickness of 1 inch or more provided (Such pads generally must be reinforced with steel laminates)? \t306.4.2\t\t\n",
    "\t?\tA tabulation of unfactored dead load, live load excluding impact) and \"Maximum Design Load\" given?\t\t\t\n",
    "\t?\tFor prestressed box beam bridges without external steel load plates, bearing shall conform to Standard Drawing BD-1-11?  \t\t\t\n",
    "\t?\tElastomeric bearing with a load plate shall have the plate beveled if the rotation and/or grade exceed the limitations of AASHTO LRFD 14.7.5.3.3 Method B 14.7.6.3.5 Method A? \t\t\t\n",
    "\t?\tprovided with bearing details.\tNote no. 702.13\t\t\n",
    "\t?\tTop and bottom cover layers should not be thicker than 70 % of internal layers \tAASHTO LRFD 14.7.6.1\t\t\n",
    "\t?\tNo top cover layer for bearing with load plate.  \tAASHTO LRFD 14.7.6.1\t\t\n",
    "\t?\tFollowing note included:\t\t\t\n",
    "\t\t“All bearings shall be marked prior to shipping. The marks shall include the bearing location on the bridge, and a direction arrow that points up-station. All marks shall be permanent and be visible after the bearing is installed”.\t\t\t\n",
    "\t?\tA plate bigger than bottom flange on top of HP section so that it can be welded from the top.\t\t\t\n",
    "\t\t\t\t\t\n",
    "\t\t2. Anchor Bars\t\t\t\n",
    "\t?\tFurnishing and placing anchor bars and ¾” galvanized threaded rod included with Bearing box beams or I-beams) for payment?\tStandard Drawing BD-1-11, PSBD-2-07. Not required for PSBD-2-07\t\t\n",
    "\t?\tFor steel bearings , furnishing and placing anchor bars included with bearings for payment?\tRB-1-55 and FB-1-82\t\t\n",
    "\t\t3.   Anchor Bolt Layout\t\t\t\n",
    "\t?\tOutline of masonry plate?\t\t\t\n",
    "\t?\tAnchor bolt size and embedment length.\t\t\t\n",
    "\t?\tBearing Anchor Plan to adequately show the location of the bearing anchors with respect to the main reinforcing bars and the edges of the bridge seats shall be provided. \t306.2.1.2\t\t\n",
    "\t\t3. Miscellaneous\t\t\t\n",
    "\t?\tMovement Provisions:  Bearing movement provisions (Fixed, expansion restrained) indicated on the Site Plan and General Plan? \t201.1.2.2KI\t\t\n",
    "\t?\tBearing designation (i.e., R-200) for each substructure unit indicated on the framing plan, beam elevation, or deck plan?\t\t\t\n",
    "\t?\tBearing details or reference to standard drawings given? Separate pay item provided for other than standard steel bearings (steel bearings for steel bridge are usually included with structural steel for payment)?\t\t\t\n",
    "\t?\tBearing types provided consistent with superstructure movement (longitudinal, lateral, and rotational)?\t\t\t\n",
    "\t?\tBearings/Joints: For bridges with sidewalk, bearing types compatible with deck joint characteristics? \t\t\t\n",
    "\t?\tBridge Seats: Bridge seats large enough for the size bearing used taken into account the need for edge clearances and construction tolerances (wider seats are usually provided for some bridges which are skewed greater than 30 degrees)?\t\t\t\n",
    "\t?\tGrade Considerations: Tapered sole plates provided for rocker and bolster bearings for grades of 2 percent or greater?\t\t\t\n",
    "\t?\tCoatings: Are notes provided to specify the type of coating required, if other than bare ASTM steel or Elastomeric bearings?\t\t\t\n",
    "\t?\tBridge seats adequate for earthquake provision? \t306.2.1.1\t\t\n",
    "\t?\tAre seismic restraints required? \t1003 - S3.10.9.2, 303.1.4.1.a\t\t\n",
    "\t\t\t\t\t\n",
    "\t\tH) DECK JOINTS\t\t\t\n",
    "\t\t1. Terminal Details\t\t\t\n",
    "\t?\tTo confine deck drainage, recessed joint seals, joints terminated as shown in Sections A-A and F-F of Standard Drawings EXJ-2-81 and EXJ-3-82; and Sections B-B and F-F Of Standard Drawing EXJ-4-87 and EXJ-5-93.\t\t\t\n",
    "\t?\tFor new bridges with over the side drainage and wall-type abutments, abutment wing- walls or retaining walls positioned flush with the back wall to allow extension of sealed deck joints beyond the bridge seats?\t\t\t\n",
    "\t\t2. Joint/Bearing Coordination\t\t\t\n",
    "\t?\tFor bridges with elastomeric bearings and sliding plate type joints, bridging plates positioned cantilevered from the abutment side of the joint) to prevent the plate from binding due to the compressive deflection of the bearings?\t\t\t\n",
    "\t?\tFor sliding plate type joints on grades, a bevel fill attached to the underside of the cantilever plate to provide a level sliding surface to parallel the direction of bearing movement?\t\t\t\n",
    "\t?\tSliding plate type joints avoided on all structures? \t\t\t\n",
    "\t\t3. Miscellaneous\t\t\t\n",
    "\t?\tBox Beams: The use of joints generally follows the guidelines given in \t309.6.3\t\t\n",
    "\t?\tRecessed Seals: Joint seals recessed below the roadway surface (i.e. strip and compression), with channel deck drainage laterally, detailed to prevent discharge of deck drainage on bridge seats?\t\t\t\n",
    "\t?\tAdjustment: A joint width adjustment table, in 10 degree increments for 30 degrees to 90 degrees, given for setting joint widths other than the 60 degree installation temperature?  The effect of joint skew taken into account when computing joint adjustment dimensions?\t\t\t\n",
    "\t?\tSawing and Sealing Bituminous Joints detail sheet provided for box beam bridges with poured seal type joints at abutments?\t\t\t\n",
    "\t?\tPrestressed concrete I-beam bridges follow the guidelines given in section \t309.6.3\t\t\n",
    "\t\tI) DECK DRAINAGE\t\t\t\n",
    "\t\t1) Scuppers\t\t\t\n",
    "\t?\tIs/was the use of scuppers avoided? Scuppers avoided over embankment slopes? Scuppers spaced to clear cross. frames, places at least 6 feet from the face of piers and abutments; extended at least 8 inches below beams and girders; located inside of fascia beams of grade separation structures and other highly visible structures; not been placed through box beams unless such placement cannot be avoided?\t309.7 and “Bridge Deck Drainage Guidelines,\" FHWA HEC 21 & 22 ?\t\t\n",
    "\t\t2) Approaches\t\t\t\n",
    "\t?\tUse made of parapet transitions and curbs on approach slabs to channel deck drainage away from structures towards approach inlets or embankment side slope flumes \tStandard Construction Drawing DM-4.1\t\t\n",
    "\t\t3) Drainage Collection System\t\t\t\n",
    "\t?\tThese avoided?  Where their use cannot be avoided, steepest possible slopes provided? Large sizes used to help avoid blockage? Convenient clean out provided?  Type of field splices specified?  Supports adequate to provide a rigid system?\t\t\t\n",
    "\t\t4) Elastomeric Troughs\t\t\t\n",
    "\t?\tReinforced elastomer required by performance specification? Joint made by vulcanization under heat and pressure?  Steep slopes 2 inches per foot or more) used to increase drainage velocity?  Large discharge openings (12 inch diameter minimum)?  Fasteners for scuppers located outside of the trough for convenient access? Galvanized hardware used?  Interior steel surfaces metalized and asphalt coated? \t\t\t\n",
    "\t\t5) Erosion Protection\t\t\t\n",
    "\t?\tGround surfaces below scuppers protected by crushed aggregate or concrete slope protection? Crushed aggregate or concrete slope protection extended (3'- 0\" minimum) beyond edges of open decks? At acute corners of bridges, slope protection extends normal to toe of slope?\t\t\t\n",
    "\t\tJ) UTILITIES ( 301.7)\t\t\t\n",
    "\t?\tDocumentation on file approved placement of utility on bridge?\t\t\t\n",
    "\t?\tConcrete embedded utility conduits shown to clear construction joints by 1 inch minimum and other conduits by 2 inches minimum?\t\t\t\n",
    "\t?\tUtilities not supported on fascia or below bottom of superstructure?  On grade separation structures, no utilities in bay adjacent to fascia stringer?\t\t\t\n",
    "\t?\tGas and water lines not embedded in concrete?  Not embedded in section of deck supporting vehicular traffic?\t\t\t\n",
    "\t?\tExpansion provisions for utilities shown if appropriate?  (Sometimes shown only on utility sheets)\t\t\t\n",
    "\t?\tPayment for utility supports clearly described by plan note and estimated quantities? (e.g., quantity table footnote stating portion of Item 513 Structural Steel to be paid for by the utility company)\t\t\t\n",
    "\t\tK) STRUCTURE GROUNDING \t\t\t\n",
    "\t?\tVerify the structure is properly grounded as per Standard Drawing HL-50.21. \t\t\t\n",
    "\t\tL) APPROACH SLAB\t\t\t\n",
    "\t?\tRemoval of existing approach slab included in the estimated quantities \t310.2\t\t\n",
    "\t?\tRemoval of existing Wearing Surface included in the estimated quantities as per CMS 202\t\t\t\n",
    "\t?\tNon-standard approach slab shown “Modified” in the structure block.\t\t\t\n",
    "\t?\tCurrent Standard Drawing reference in proposed structure data block and in the General Notes.\t\t\t\n",
    "\t?\tBars D801 or D802 included in the reinforcing steel list?\t\t\t\n",
    "\t?\tPay-Item 526 for Type _ Installation included?\t\t\t\n",
    "\t?\tPay-Item for Polymer Modified Asphalt Expansion Joint System or Item 516 – Armorless Preformed Joint Seal included?\t\t\t\n",
    "\t\t     SUBSTRUCTURE\t\t\t\n",
    "\t\tA. PIERS\t\t\t\n",
    "\t\t1. General\t\t\t\n",
    "\t?\tFor freestanding piers, is the footing width at least one-fourth the height where founded on soil, one-fifth the height where founded on rock, and one-fifth the height between centers of outside piles? \t306.3.1\t\t\n",
    "\t?\tFor cap and column piers on piles or bedrock, columns should generally have separate footings. \t306.3.3.1.a\t\t\n",
    "\t?\tPier cap terminate inside the fascia and drip groove? (For box beam bridges, pier width should allow for 1/4 inch per joint fit-up between box beams)\t308.2.3.3\t\t\n",
    "\t?\tBearing Anchor Plan shown? Are anchor bolt dimensions normal and parallel to the centerline of bearing?\t\t\t\n",
    "\t?\tCap and column piers preferably designed with a cantilevered cap? \t306.3.1 ?\t\t\n",
    "\t?\tFor slab bridges, is a construction joint placed at the top of the pier cap? \t306.3.3.2\t\t\n",
    "\t?\tPiers in navigable waterways designed to resist collision forces based on AASHTO LRFD bridge design Specification. \t306.3.7\t\t\n",
    "\t?\tEnds of pier caps (all surfaces) under the edge of decks with over-the-side drainage sealed? \t306.1.2\t\t\n",
    "\t?\tAppropriate surfaces of roadway shoulder piers sealed? \t306.1.2\t\t\n",
    "\t?\tFor phased construction, is each phase supported by a minimum of three piles or two drilled shafts? \t306.3.1\t\t\n",
    "\t\t2. Pile Foundations\t\t\t\n",
    "\t?\tDesign strives to utilize maximum allowable pile spaces and maximum allowable design loads to minimize the number of piles \t305.3.5.1\t\t\n",
    "\t?\tAt least four piles per footing? \t305.3.5.1 & 306.3.3.1.a\t\t\n",
    "\t?\tBattered piles required \t305.3.5.8\t\t\n",
    "\t?\tPile spacing a minimum of 2'-6\" or 2.5 times the pile width/diameter?  \tAASHTO LRFD 10.7.1.2\t\t\n",
    "\t?\tDistance from center of piles to edge of footing at least 1'-6\"? \t305.3.5.1\t\t\n",
    "\t?\tCan piles be driven without interfering with sheeting, cofferdams, or other bridge or adjacent building components?\t\t\t\n",
    "\t?\tStation of intersection of the centerline of bearings and station line.\t\t\t\n",
    "\t?\tTie the pile spacing to the intersection of the centerline of bearings and station line.\t\t\t\n",
    "\t?\tNumber all piles \t305.4.4\t\t\n",
    "\t\t3. Capped-Pile Piers\t\t\t\n",
    "\t?\tPile spacing less than or equal to 7.5 feet? \t305.3.5.1\t\t\n",
    "\t?\tHeight above flow line generally limited to 20 feet, or piles specially designed? \t306.3.3\t\t\n",
    "\t?\tDistance from edge of pile to face of pier cap is at least 9 inches? \t305.3.5.1\t\t\n",
    "\t?\tPile encasements specified and paid for H-piles)? \t606.5-1\t\t\n",
    "\t?\tMinimum of 1'-6\" cover provided above the piles? \t305.3.5.1\t\t\n",
    "\t\t4. Cap and Column Piers\t\t\t\n",
    "\t?\tDiameter of the pier column specified to be 3'-0\" and the drilled shaft diameter a minimum of 3'-6\"?  \t305.4.4.2\t\t\n",
    "\t?\tLocation of the construction joint at the pier column/drilled shaft interface appropriate?  (Usually 1 foot above OHWM elevation, for piers in water, and 1 foot below the ground line elsewhere.)\t305.4.4\t\t\n",
    "\t?\tA construction joint between the top of drilled shaft and the bottom of the column shown and splice cage provided? \tFIG. 303.5.4\t\t\n",
    "\t?\tReinforcing details at the column/drilled shaft construction joint appropriate?  Typically, the reinforcing cage diameter is a common size between the column, drilled shaft, and bedrock socket.\t\t\t\n",
    "\t?\tBedrock socket depth shown on the plans?  (Bottom of socket elevation should generally not be given) \t305.4.2\t\t\n",
    "\t?\tReinforcing Steel in the drilled shafts? \tBDM305.4.4.3\t\t\n",
    "\t?\tSpacing of the drilled shafts appropriate?  Typically, spacings from 12 to 18 feet are used.\t\t\t\n",
    "\t?\tDrilled shafts should be spaced to utilize the maximum bedrock end bearing pressures and a minimum number of drilled shafts.\t\t\t\n",
    "\t\tB. ABUTMENTS\t\t\t\n",
    "\t\t1. General\t\t\t\n",
    "\t?\tAbutments easily located?  Station and overall dimensions?\t\t\t\n",
    "\t?\tDimensions referenced from the proper working points?  Beam/girder bridges (steel or concrete) intersection of centerline of survey and centerline of bearings.  Concrete slab bridges centerline of survey is assumed 12 inches behind the face of the abutment. \t201.2.1.1\t\t\n",
    "\t?\tTypes of Abutments \t306.2 & 306.2.2 .\t\t\n",
    "\t?\tWing-wall lengths checked?\t\t\t\n",
    "\t?\tIf ground lines are shown, are they appropriate?\t\t\t\n",
    "\t?\tEarth benches not been used for new designs? Depth of approach slab seat Shown?\t306.2.1.4 for CPA-1-08 abutments\t\t\n",
    "\t?\tBridge seat sloped to drain toward the face of abutment for beam or girder bridges on spill-through abutments except at bearings)? ( For grade separations on wall-type abutments, are the bridge seats sloped to drain toward the back wall, with a depressed gutter and drainage system provided?\t306.2.3.2\t\t\n",
    "\t?\tFor box beam bridges, are provisions necessary to ensure proper fit of the elastomeric bearings i.e., sloped bridge seats or tapered bearings)? \tDB-1-11\t\t\n",
    "\t?\tFor box beam bridges, is the bridge seat length adequate to support all bearings, accounting for 1/2-inch fit-up per beam joint?  Beam seat should not protrude from beneath deck edge when a fit-up allowance of 1/4 inch per foot is used for pier.\t308.2.3.3\t\t\n",
    "\t?\tFor box beam bridges, has the proper wearing surface thickness at the abutments being used to compute bridge seat elevations? \t309.1.\t\t\n",
    "\t?\tDowel holes drilled parallel to a free edge clear concrete surface by at least 4 inches?\t\t\t\n",
    "\t?\tBearing anchor plan shown?  Anchor bolt location dimensions normal and parallel to centerline of bearing? \t306.2.1.2 & 701.2\t\t\n",
    "\t?\tJoint filler shown between concrete box beams and wing-wall concrete? \t308.2.3.3\t\t\n",
    "\t?\tConstruction joint shown at the level of the approach slab seat for steel superstructures?\t\t\t\n",
    "\t?\tConstruction joint provided in wing-walls of box beam bridges at bridge seat elevation? \t308.2.3.3\t\t\n",
    "\t?\tPlan note restricting placement of wing-wall concrete included for box beam bridges?\t\t\t\n",
    "\t?\tAppropriate surfaces sealed using an appropriate sealer? \t306.1.2 & 309.2.1\t\t\n",
    "\t?\tType 2 waterproofing used at construction joints?  Typically used above ground at stage construction joints, or joints between existing and proposed concrete) \t306.2.1.3\t\t\n",
    "\t?\tExpansion & Contraction joints provided as appropriate? \t306.2.5 .\t\t\n",
    "\t?\tWeep-holes located 6 inches to 1 foot above ground level or normal waterline? \t306.2.3.3\t\t\n",
    "\t?\tPorous backfill shown 6 inches below weep holes \t306.2.3.3 .\t\t\n",
    "\t?\tGeotextile fabric specified between the porous backfill and the approach fill? has it been turned up 6 inches at the wall?\t306.2.3.1\t\t\n",
    "\t?\tLateral limits of porous backfill 2'-0\" thick) clearly indicated in the elevation view as described by\t306.2.3.1\t\t\n",
    "\t?\tEnd caps shown on drain pipes, except at outlets? \t306.2.3.1\t\t\n",
    "\t?\tFor wall-type abutments where strut action of the superstructure is relied upon for stability, has a plan note been provided limiting height of backfill until superstructure is placed?\t\t\t\n",
    "\t?\tPipe drainage system used? \t306.2.3.1\t\t\n",
    "\t?\tFor rehabilitation, does the connection between the new and existing concrete appear adequate?  Existing reinforcing that is incorporated into the new work should generally be shown in the proposed cross-section.\t\t\t\n",
    "\t?\tAesthetic for wall-type abutments \t306.2.2.1\t\t\n",
    "\t?\tFor phase construction, is each phase supported by a minimum of three piles or two drilled shafts? \t306.2.2.3, 306.2.2.4 & 306.2.2.5\t\t\n",
    "\t?\tTop strap of the MSE wall should be 6” below the footing. See figure 201-2 & 201-3 of the BDM.\t\t\t\n",
    "\t?\tWhat type of protection is used to prevent the weed growth in the area between the footing and MSE wall?\t\t\t\n",
    "\t\t\t\t\t\n",
    "\t?\tFor high skew semi-integral bridges keep the beam seat level and use variable height of the HP section. Not possible to bend # 8 bars.\t\t\t\n",
    "\t\t\t\t\t\n",
    "\t\t\t\t\t\n",
    "\t\t2. Pile Foundations\t\t\t\n",
    "\t?\tFlanges of piles parallel to face of rigid abutments; webs parallel to face of flexible abutment \tincluding CPA-1-08/ICD-1-82 abutments and CPP-1-08 piers ?\t\t\n",
    "\t?\tBattered piles required? (Rate of batter shown?  1:4 desirable, 1:3 acceptable)\t305.3.5.8\t\t\n",
    "\t?\tPile embedment into footing shown as 1'-6\" cover shown above piles or as per  305.3.5\t\t\t\n",
    "\t?\tPile design load \t305.3.3 & 305.3.4\t\t\n",
    "\t?\tDistance from center of piles to edge of footing at least 1'-6\"? not the Ultimate Bearing Value UBV pile load) shown in the General Notes?  UBV as per \t305.3.5.1\t\t\n",
    "\t?\tFor abutments on a single row of piles, have closed ties been provided around the piles? \tFor example, see Standard Drawing ICD-1-82\t\t\n",
    "\t?\tDesign utilize maximum allowable pile spacing and maximum allowable design loads to minimize the number of piles  305.3.5,  305.3.3 & 305.3.4\t\t\t\n",
    "\t?\tFor abutments on a single row of piles, has the footing been extended to the ends of the wingwalls and straight wing-walls used?\t\t\t\n",
    "\t\tC. DRILLED SHAFT\t\t\t\n",
    "\t?\tDrills shaft diameter a minimum of 3'-0\"? \t305.4\t\t\n",
    "\t?\tBedrock socket depth shown on the plans? (Bottom of socket elevation should generally not be given)\t\t\t\n",
    "\t?\tSpacing of the drilled shafts appropriate? Typically, spacing for 12 to 18 feet are used. Drilled shafts should attempt to be spaced to utilize the maximum bedrock end bearing pressures and a minimum number of drilled shafts.\t\t\t\n",
    "\t?\tSplice cage specified? \t303.4.4.3 & Fig. 305-4\t\t\n",
    "\t ?\tUse of friction Drilled shaft requires previous approval of OGE? \t305.4.3\t\t\n",
    "\t\t\t\t\t\n",
    "\t\t\t\t\t\n",
    "\t\tI acknowledge that the Stage 2 Design Plans have been reviewed in accordance with this checklist and that all responses are correct and accurately reflect the information presented on the submitted Design Plans.\t\t\t\n",
    "\t\t\t\t\t\n",
    "\t\t\t\t\t\n",
    "\t\tSignature\t\t\t\n",
    "\t\tDate\t\t\t\n",
    "\t\tPage 2 of 18\t\t\t\n"
   ]
  }
 ],
 "metadata": {
  "kernelspec": {
   "display_name": "Python 3 (ipykernel)",
   "language": "python",
   "name": "python3"
  },
  "language_info": {
   "codemirror_mode": {
    "name": "ipython",
    "version": 3
   },
   "file_extension": ".py",
   "mimetype": "text/x-python",
   "name": "python",
   "nbconvert_exporter": "python",
   "pygments_lexer": "ipython3",
   "version": "3.13.3"
  }
 },
 "nbformat": 4,
 "nbformat_minor": 5
}
