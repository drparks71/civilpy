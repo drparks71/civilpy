{
 "cells": [
  {
   "cell_type": "code",
   "id": "116407b1-2a2a-4be6-8f07-f22dd44d2c6d",
   "metadata": {
    "ExecuteTime": {
     "end_time": "2025-04-10T17:22:19.647184Z",
     "start_time": "2025-04-10T17:22:19.640091Z"
    }
   },
   "source": [
    "import json\n",
    "from pathlib import Path"
   ],
   "outputs": [],
   "execution_count": 1
  },
  {
   "cell_type": "code",
   "execution_count": 6,
   "id": "f1d2e945-00cd-4087-b666-63223360fa07",
   "metadata": {},
   "outputs": [],
   "source": [
    "with open(Path(\".\").parent / \"secrets.json\") as f:\n",
    "    secrets = json.load(f)"
   ]
  },
  {
   "cell_type": "code",
   "execution_count": 7,
   "id": "363eedc7-efa6-4795-bdba-b32394c96f25",
   "metadata": {},
   "outputs": [],
   "source": [
    "creds = secrets[\"test_creds\"]"
   ]
  },
  {
   "cell_type": "code",
   "execution_count": 13,
   "id": "269ada26-00e9-4cb3-866a-1f991b766107",
   "metadata": {},
   "outputs": [
    {
     "name": "stdout",
     "output_type": "stream",
     "text": [
      "Connection Failed, ensure you have the correct values in the secrets/secrets.json file\n"
     ]
    }
   ],
   "source": [
    "from civilpy.general.database_tools import ssh_into_postgres\n",
    "\n",
    "conn = ssh_into_postgres(creds)"
   ]
  },
  {
   "cell_type": "code",
   "execution_count": 14,
   "id": "4227035c-3171-4897-8a58-e6a4c2cc2048",
   "metadata": {},
   "outputs": [
    {
     "ename": "AttributeError",
     "evalue": "'NoneType' object has no attribute 'cursor'",
     "output_type": "error",
     "traceback": [
      "\u001B[1;31m------------------------------------------------------------------------\u001B[0m",
      "\u001B[1;31mAttributeError\u001B[0m                         Traceback (most recent call last)",
      "Cell \u001B[1;32mIn[14], line 1\u001B[0m\n\u001B[1;32m----> 1\u001B[0m \u001B[38;5;28;01mwith\u001B[39;00m \u001B[43mconn\u001B[49m\u001B[38;5;241;43m.\u001B[39;49m\u001B[43mcursor\u001B[49m() \u001B[38;5;28;01mas\u001B[39;00m curs:\n\u001B[0;32m      2\u001B[0m     curs\u001B[38;5;241m.\u001B[39mexecute(\u001B[38;5;124m\"\u001B[39m\u001B[38;5;124mSELECT version()\u001B[39m\u001B[38;5;124m\"\u001B[39m)\n\u001B[0;32m      4\u001B[0m     single_row \u001B[38;5;241m=\u001B[39m curs\u001B[38;5;241m.\u001B[39mfetchone()\n",
      "\u001B[1;31mAttributeError\u001B[0m: 'NoneType' object has no attribute 'cursor'"
     ]
    }
   ],
   "source": [
    "with conn.cursor() as curs:\n",
    "    curs.execute(\"SELECT version()\")\n",
    "\n",
    "    single_row = curs.fetchone()"
   ]
  },
  {
   "cell_type": "code",
   "execution_count": null,
   "id": "24377a7d-e1b3-4dd5-9c15-d2211c107825",
   "metadata": {},
   "outputs": [],
   "source": []
  },
  {
   "cell_type": "code",
   "execution_count": null,
   "id": "ff756488-5a1a-4e81-8d3f-d4257767bd07",
   "metadata": {},
   "outputs": [],
   "source": []
  },
  {
   "cell_type": "code",
   "execution_count": null,
   "id": "1760dd6f-12e8-4cd1-8eb5-bcaedbe379e6",
   "metadata": {},
   "outputs": [],
   "source": []
  }
 ],
 "metadata": {
  "kernelspec": {
   "display_name": "Python 3 (ipykernel)",
   "language": "python",
   "name": "python3"
  },
  "language_info": {
   "codemirror_mode": {
    "name": "ipython",
    "version": 3
   },
   "file_extension": ".py",
   "mimetype": "text/x-python",
   "name": "python",
   "nbconvert_exporter": "python",
   "pygments_lexer": "ipython3",
   "version": "3.11.5"
  }
 },
 "nbformat": 4,
 "nbformat_minor": 5
}
