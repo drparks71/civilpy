{
 "cells": [
  {
   "cell_type": "code",
   "execution_count": 1,
   "id": "a3098d7a-109b-4525-9ef5-d6d44ba2164d",
   "metadata": {},
   "outputs": [],
   "source": [
    "import requests"
   ]
  },
  {
   "cell_type": "code",
   "execution_count": 4,
   "id": "f10e3be0-ba70-4498-8209-335df1c86266",
   "metadata": {},
   "outputs": [
    {
     "name": "stdout",
     "output_type": "stream",
     "text": [
      "Visit this URL to sign in: https://login.microsoftonline.com/common/oauth2/authorize?client_id=cefeca6b-8be5-4092-9cdc-c5a62434a30d&response_type=code&redirect_uri=https://login.microsoftonline.com/common/oauth2/nativeclient&scope=openid%20offline_access\n"
     ]
    }
   ],
   "source": [
    "import requests\n",
    "import json\n",
    "\n",
    "# Replace with your own values\n",
    "client_id = \"cefeca6b-8be5-4092-9cdc-c5a62434a30d\"\n",
    "redirect_uri = \"https://login.microsoftonline.com/common/oauth2/nativeclient\"\n",
    "tenant_id = \"4e1ee3db-4df6-4142-b7b9-bec15f171ca4\"\n",
    "scope = \"openid%20offline_access\"\n",
    "\n",
    "# Get an access token using client credentials\n",
    "token_url = f\"https://login.microsoftonline.com/common/oauth2/authorize?client_id={client_id}&response_type=code&redirect_uri={redirect_uri}&scope={scope}\"\n",
    "token_data = {\n",
    "    \"grant_type\": \"authorization_code\",\n",
    "    \"client_id\": client_id,\n",
    "    \"client_secret\": tenant_id,\n",
    "    \"resource\": \"https://graph.microsoft.com\",\n",
    "    \"scope\": \"openid offline_access\",\n",
    "}\n",
    "\n",
    "print(f\"Visit this URL to sign in: {token_url}\")"
   ]
  },
  {
   "cell_type": "code",
   "execution_count": null,
   "id": "aacfbb26-70a0-4488-a97d-e3200d500b31",
   "metadata": {},
   "outputs": [],
   "source": []
  },
  {
   "cell_type": "code",
   "execution_count": null,
   "id": "332f432c-6015-46fd-844b-96d804f1bcd5",
   "metadata": {},
   "outputs": [],
   "source": []
  },
  {
   "cell_type": "code",
   "execution_count": null,
   "id": "4892501f-eb25-4836-9e8b-482d3fc1d4c9",
   "metadata": {},
   "outputs": [],
   "source": []
  },
  {
   "cell_type": "code",
   "execution_count": null,
   "id": "7b056143-ed97-4a6a-9cd3-ee7aa534b3f3",
   "metadata": {},
   "outputs": [],
   "source": []
  },
  {
   "cell_type": "code",
   "execution_count": null,
   "id": "14d4733d-a488-4cec-8122-7298e747e113",
   "metadata": {},
   "outputs": [],
   "source": []
  },
  {
   "cell_type": "code",
   "execution_count": null,
   "id": "c2a6d924-5c7b-4657-8542-45e45f9614d8",
   "metadata": {},
   "outputs": [],
   "source": []
  },
  {
   "cell_type": "code",
   "execution_count": null,
   "id": "61b37121-7d4c-49f5-aa24-f8f712b1edb2",
   "metadata": {},
   "outputs": [],
   "source": []
  }
 ],
 "metadata": {
  "kernelspec": {
   "display_name": "Python 3 (ipykernel)",
   "language": "python",
   "name": "python3"
  },
  "language_info": {
   "codemirror_mode": {
    "name": "ipython",
    "version": 3
   },
   "file_extension": ".py",
   "mimetype": "text/x-python",
   "name": "python",
   "nbconvert_exporter": "python",
   "pygments_lexer": "ipython3",
   "version": "3.10.13"
  }
 },
 "nbformat": 4,
 "nbformat_minor": 5
}
