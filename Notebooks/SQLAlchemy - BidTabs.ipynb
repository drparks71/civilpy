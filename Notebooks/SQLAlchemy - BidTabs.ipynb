{
 "cells": [
  {
   "cell_type": "markdown",
   "id": "ef707d1c-aa7c-43e2-b38b-511e05652301",
   "metadata": {},
   "source": [
    "# SQLAlchemy Unified Tutorial\n",
    "\n",
    "https://docs.sqlalchemy.org/en/20/tutorial/index.html"
   ]
  },
  {
   "cell_type": "code",
   "execution_count": 1,
   "id": "a3a807c5-0081-4af6-9d62-c4bf86614748",
   "metadata": {},
   "outputs": [
    {
     "data": {
      "text/plain": [
       "'2.0.30'"
      ]
     },
     "execution_count": 1,
     "metadata": {},
     "output_type": "execute_result"
    }
   ],
   "source": [
    "# Version Check\n",
    "import sqlalchemy\n",
    "\n",
    "sqlalchemy.__version__"
   ]
  },
  {
   "cell_type": "markdown",
   "id": "7ac68cc6-eb24-49c8-8ccd-b6676acc4f2b",
   "metadata": {},
   "source": [
    "## The Engine"
   ]
  },
  {
   "cell_type": "code",
   "execution_count": 9,
   "id": "67aa89b2-667d-4b8a-9003-8ff1297c4c9c",
   "metadata": {},
   "outputs": [],
   "source": [
    "# Creating an \"in-memory-only\" SQLite DB instance\n",
    "from sqlalchemy import create_engine\n",
    "\n",
    "# The `echo` argument prints additional context from the DB to the python output\n",
    "engine = create_engine(\"sqlite+pysqlite:///:memory:\", echo=False)"
   ]
  },
  {
   "cell_type": "markdown",
   "id": "224f77e8-ff00-472d-a820-ee38f17bb3d2",
   "metadata": {},
   "source": [
    "SQLite uses \"Lazy initialization\" so even though the database has been created, it doesn't actually exist until an action is performed against it."
   ]
  },
  {
   "cell_type": "markdown",
   "id": "33338732-8661-4dd1-ae8d-8cb3a706e1be",
   "metadata": {},
   "source": [
    "## Transactions and The DBAPI"
   ]
  },
  {
   "cell_type": "code",
   "execution_count": 10,
   "id": "a694b08b-8ca4-4119-9e95-b8617ebd1b0e",
   "metadata": {},
   "outputs": [
    {
     "name": "stdout",
     "output_type": "stream",
     "text": [
      "[('hello world',)]\n"
     ]
    }
   ],
   "source": [
    "from sqlalchemy import text\n",
    "\n",
    "with engine.connect() as conn:\n",
    "    result = conn.execute(text(\"select 'hello world'\"))\n",
    "    print(result.all())"
   ]
  },
  {
   "cell_type": "markdown",
   "id": "43d27ef4-4ff7-4783-a2a0-9a2517e98425",
   "metadata": {},
   "source": [
    "The above command was rolled back instead of committed, to commit data, you have to call `Connection.commit()`."
   ]
  },
  {
   "cell_type": "code",
   "execution_count": 11,
   "id": "ad3c79e9-d0a5-4fb9-9fd9-45091a36cbe4",
   "metadata": {},
   "outputs": [],
   "source": [
    "with engine.connect() as conn:\n",
    "    conn.execute(text(\"CREATE TABLE some_table (x int, y int)\"))\n",
    "    conn.execute(\n",
    "        text(\"INSERT INTO some_table (x, y) VALUES (:x, :y)\"),\n",
    "        [{\"x\": 1, \"y\": 1}, {\"x\": 2, \"y\": 4}],\n",
    "    )\n",
    "\n",
    "    conn.commit()"
   ]
  },
  {
   "cell_type": "markdown",
   "id": "3501d281-0790-4972-93f0-eaff97ec1eb7",
   "metadata": {},
   "source": [
    "Or, opening a context manager with engine.begin automatically commits the data, this is referred to as **begin once** style, if an exception occurs during the loop the transaction will be rolled back."
   ]
  },
  {
   "cell_type": "code",
   "execution_count": 12,
   "id": "57ad994c-f7ef-4244-b6a9-ed15e322faea",
   "metadata": {},
   "outputs": [],
   "source": [
    "with engine.begin() as conn:\n",
    "    conn.execute(\n",
    "        text(\"INSERT INTO some_table (x, y) VALUES (:x, :y)\"),\n",
    "        [{\"x\": 6, \"y\": 8}, {\"x\": 9, \"y\": 10}],\n",
    "    )"
   ]
  },
  {
   "cell_type": "markdown",
   "id": "b1e2eddb-2377-4cc3-957a-25a81cd989e5",
   "metadata": {},
   "source": [
    "### Retrieving Data"
   ]
  },
  {
   "cell_type": "code",
   "execution_count": 27,
   "id": "e40fcb61-93d0-402a-8feb-a3e9e8fe00a6",
   "metadata": {},
   "outputs": [
    {
     "name": "stdout",
     "output_type": "stream",
     "text": [
      "x: 1  y: 1\n",
      "x: 2  y: 4\n",
      "x: 6  y: 8\n",
      "x: 9  y: 10\n"
     ]
    }
   ],
   "source": [
    "with engine.connect() as conn:\n",
    "    result = conn.execute(text(\"SELECT x, y FROM some_table\"))\n",
    "    for row in result:\n",
    "        print(f\"x: {row.x}  y: {row.y}\")"
   ]
  },
  {
   "cell_type": "markdown",
   "id": "d2e21a4b-a0ef-47ca-b7a2-a95a8b953303",
   "metadata": {},
   "source": [
    "There are multiple ways to access the row objects:\n",
    "\n",
    "**Tuple Assignment** - This is the most Python-idiomatic style, which is to assign variables to each row positionally as they are received:"
   ]
  },
  {
   "cell_type": "code",
   "execution_count": 28,
   "id": "3088d2be-affb-4b36-b39a-8a6e8a235e56",
   "metadata": {},
   "outputs": [
    {
     "name": "stdout",
     "output_type": "stream",
     "text": [
      "x: 1  y: 1\n",
      "x: 2  y: 4\n",
      "x: 6  y: 8\n",
      "x: 9  y: 10\n"
     ]
    }
   ],
   "source": [
    "with engine.begin() as conn:\n",
    "    result = conn.execute(text(\"select x, y from some_table\"))\n",
    "    for x, y in result:\n",
    "        print(f\"x: {x}  y: {y}\")"
   ]
  },
  {
   "cell_type": "markdown",
   "id": "6f810e83-f7d9-4218-a70f-27b29e90a32a",
   "metadata": {},
   "source": [
    "**Integer Index** - Tuples are Python sequences, so regular integer access is available too:"
   ]
  },
  {
   "cell_type": "code",
   "execution_count": 29,
   "id": "705bf4d9-fcf6-4978-840e-30b947af1eb7",
   "metadata": {},
   "outputs": [
    {
     "name": "stdout",
     "output_type": "stream",
     "text": [
      "x: 1  y: 1\n",
      "x: 2  y: 4\n",
      "x: 6  y: 8\n",
      "x: 9  y: 10\n"
     ]
    }
   ],
   "source": [
    "with engine.begin() as conn:\n",
    "    result = conn.execute(text(\"select x, y from some_table\"))\n",
    "    for row in result:\n",
    "        x = row[0]\n",
    "        y = row[1]\n",
    "        print(f\"x: {x}  y: {y}\")"
   ]
  },
  {
   "cell_type": "markdown",
   "id": "8786abcf-d53b-4175-a745-3a861f38f2e1",
   "metadata": {},
   "source": [
    "**Attribute Name** - As these are Python named tuples, the tuples have dynamic attribute names matching the names of each column. These names are normally the names that the SQL statement assigns to the columns in each row. While they are usually fairly predictable and can also be controlled by labels, in less defined cases they may be subject to database-specific behaviors:"
   ]
  },
  {
   "cell_type": "code",
   "execution_count": 33,
   "id": "f9e8a3bf-4abd-4522-aac3-75bf84a492d2",
   "metadata": {},
   "outputs": [
    {
     "name": "stdout",
     "output_type": "stream",
     "text": [
      "x: 1  y: 1\n",
      "x: 2  y: 4\n",
      "x: 6  y: 8\n",
      "x: 9  y: 10\n"
     ]
    }
   ],
   "source": [
    "with engine.begin() as conn:\n",
    "    result = conn.execute(text(\"select x, y from some_table\"))\n",
    "\n",
    "    for row in result:\n",
    "        y = row.y\n",
    "        # illustrate use with Python f-strings\n",
    "        print(f\"x: {row.x}  y: {y}\")"
   ]
  },
  {
   "cell_type": "markdown",
   "id": "7aa513fd-210c-4ffe-9f8c-a035e1b0e7a5",
   "metadata": {},
   "source": [
    "**Mapping Access** - To receive rows as Python mapping objects, which is essentially a read-only version of Python’s interface to the common dict object, the Result may be transformed into a MappingResult object using the Result.mappings() modifier; this is a result object that yields dictionary-like RowMapping objects rather than Row objects:"
   ]
  },
  {
   "cell_type": "code",
   "execution_count": 34,
   "id": "68c635d7-6803-4352-8ec8-f912004cf563",
   "metadata": {},
   "outputs": [
    {
     "name": "stdout",
     "output_type": "stream",
     "text": [
      "x: 1  y: 1\n",
      "x: 2  y: 4\n",
      "x: 6  y: 8\n",
      "x: 9  y: 10\n"
     ]
    }
   ],
   "source": [
    "with engine.begin() as conn:\n",
    "    result = conn.execute(text(\"select x, y from some_table\"))\n",
    "\n",
    "    for dict_row in result.mappings():\n",
    "        x = dict_row[\"x\"]\n",
    "        y = dict_row[\"y\"]\n",
    "\n",
    "        print(f\"x: {x}  y: {y}\")"
   ]
  },
  {
   "cell_type": "markdown",
   "id": "f0c16e9b-7c9e-4fb3-9b2d-f0b127b64ca4",
   "metadata": {},
   "source": [
    "### Sending Parameters"
   ]
  },
  {
   "cell_type": "code",
   "execution_count": 35,
   "id": "f28fcb1f-6157-43ad-b3b6-76ad9d4d6743",
   "metadata": {},
   "outputs": [
    {
     "name": "stdout",
     "output_type": "stream",
     "text": [
      "x: 2  y: 4\n",
      "x: 6  y: 8\n",
      "x: 9  y: 10\n"
     ]
    }
   ],
   "source": [
    "with engine.connect() as conn:\n",
    "    result = conn.execute(text(\"SELECT x, y FROM some_table WHERE y > :y\"), {\"y\": 2})\n",
    "    for row in result:\n",
    "        print(f\"x: {row.x}  y: {row.y}\")"
   ]
  },
  {
   "cell_type": "markdown",
   "id": "3320ba8a-3766-4e8e-a47f-bebb5ace7300",
   "metadata": {},
   "source": [
    "Note from SQLAlchemy documentation:\n",
    "\n",
    "> As mentioned at the beginning of this section, textual SQL is not the usual way we work with SQLAlchemy. However, when using textual SQL, a Python literal value, even non-strings like integers or dates, should never be stringified into SQL string directly; a parameter should always be used. This is most famously known as how to avoid SQL injection attacks when the data is untrusted. However it also allows the SQLAlchemy dialects and/or DBAPI to correctly handle the incoming input for the backend. Outside of plain textual SQL use cases, SQLAlchemy’s Core Expression API otherwise ensures that Python literal values are passed as bound parameters where appropriate.\n",
    "\n",
    "**Sending Multiple Parameters** - In the example at Committing Changes, we executed an INSERT statement where it appeared that we were able to INSERT multiple rows into the database at once. For DML statements such as “INSERT”, “UPDATE” and “DELETE”, we can send multiple parameter sets to the Connection.execute() method by passing a list of dictionaries instead of a single dictionary, which indicates that the single SQL statement should be invoked multiple times, once for each parameter set. This style of execution is known as executemany:"
   ]
  },
  {
   "cell_type": "code",
   "execution_count": 36,
   "id": "61519559-ce35-4c6f-b3f5-223e3898b9d2",
   "metadata": {},
   "outputs": [],
   "source": [
    "with engine.connect() as conn:\n",
    "    conn.execute(\n",
    "        text(\"INSERT INTO some_table (x, y) VALUES (:x, :y)\"),\n",
    "        [{\"x\": 11, \"y\": 12}, {\"x\": 13, \"y\": 14}],\n",
    "    )\n",
    "    conn.commit()"
   ]
  },
  {
   "cell_type": "markdown",
   "id": "3d5bb058-be26-411f-b43d-daa916f37106",
   "metadata": {},
   "source": [
    "### Executing with an ORM Session\n",
    "\n",
    "When the Session is used with non-ORM constructs, it passes through the SQL statements we give it and does not generally do things much differently from how the Connection does directly, so we can illustrate it here in terms of the simple textual SQL operations we’ve already learned.\n",
    "\n",
    "The Session has a few different creational patterns, but here we will illustrate the most basic one that tracks exactly with how the Connection is used which is to construct it within a context manager:"
   ]
  },
  {
   "cell_type": "code",
   "execution_count": 37,
   "id": "93773463-5e50-4811-8611-61a2fc46bf08",
   "metadata": {},
   "outputs": [
    {
     "name": "stdout",
     "output_type": "stream",
     "text": [
      "x: 6  y: 8\n",
      "x: 9  y: 10\n",
      "x: 11  y: 12\n",
      "x: 13  y: 14\n"
     ]
    }
   ],
   "source": [
    "from sqlalchemy.orm import Session\n",
    "\n",
    "stmt = text(\"SELECT x, y FROM some_table WHERE y > :y ORDER BY x, y\")\n",
    "with Session(engine) as session:\n",
    "    result = session.execute(stmt, {\"y\": 6})\n",
    "    for row in result:\n",
    "        print(f\"x: {row.x}  y: {row.y}\")"
   ]
  },
  {
   "cell_type": "code",
   "execution_count": 38,
   "id": "56642e9e-1d51-43fc-9969-f346b5dad95a",
   "metadata": {},
   "outputs": [],
   "source": [
    "with Session(engine) as session:\n",
    "    result = session.execute(\n",
    "        text(\"UPDATE some_table SET y=:y WHERE x=:x\"),\n",
    "        [{\"x\": 9, \"y\": 11}, {\"x\": 13, \"y\": 15}],\n",
    "    )\n",
    "    session.commit()"
   ]
  },
  {
   "cell_type": "code",
   "execution_count": 39,
   "id": "eb5bc8a1-b94f-48c3-90c8-7173ac57a2bb",
   "metadata": {},
   "outputs": [
    {
     "name": "stdout",
     "output_type": "stream",
     "text": [
      "x: 6  y: 8\n",
      "x: 9  y: 11\n",
      "x: 11  y: 12\n",
      "x: 13  y: 15\n"
     ]
    }
   ],
   "source": [
    "stmt = text(\"SELECT x, y FROM some_table WHERE y > :y ORDER BY x, y\")\n",
    "with Session(engine) as session:\n",
    "    result = session.execute(stmt, {\"y\": 6})\n",
    "    for row in result:\n",
    "        print(f\"x: {row.x}  y: {row.y}\")"
   ]
  },
  {
   "cell_type": "markdown",
   "id": "34b0540e-14d6-43b5-a80e-6fe4dcb39ebe",
   "metadata": {},
   "source": [
    "## Database Metadata"
   ]
  },
  {
   "cell_type": "markdown",
   "id": "00d8cbfb-4080-448c-bf7c-a0fea58960f3",
   "metadata": {},
   "source": [
    "### Setting up MetaData with Table objects\n",
    "\n",
    "When we work with a relational database, the basic data-holding structure in the database which we query from is known as a table. In SQLAlchemy, the database “table” is ultimately represented by a Python object similarly named Table.\n",
    "\n",
    "To start using the SQLAlchemy Expression Language, we will want to have Table objects constructed that represent all of the database tables we are interested in working with. The Table is constructed programmatically, either directly by using the Table constructor, or indirectly by using ORM Mapped classes (described later at Using ORM Declarative Forms to Define Table Metadata). There is also the option to load some or all table information from an existing database, called reflection.\n",
    "\n",
    "Whichever kind of approach is used, we always start out with a collection that will be where we place our tables known as the MetaData object. This object is essentially a facade around a Python dictionary that stores a series of Table objects keyed to their string name. While the ORM provides some options on where to get this collection, we always have the option to simply make one directly, which looks like:"
   ]
  },
  {
   "cell_type": "code",
   "execution_count": 42,
   "id": "22527c4a-4ce7-41b3-a008-e2b359580299",
   "metadata": {},
   "outputs": [],
   "source": [
    "from sqlalchemy import MetaData\n",
    "\n",
    "metadata_obj = MetaData()"
   ]
  },
  {
   "cell_type": "code",
   "execution_count": 43,
   "id": "fc97faa3-111b-4b1e-8ae2-eceb12bf8242",
   "metadata": {},
   "outputs": [],
   "source": [
    "from sqlalchemy import Table, Column, Integer, String\n",
    "\n",
    "user_table = Table(\n",
    "    \"user_account\",\n",
    "    metadata_obj,\n",
    "    Column(\"id\", Integer, primary_key=True),\n",
    "    Column(\"name\", String(30)),\n",
    "    Column(\"fullname\", String),\n",
    ")"
   ]
  },
  {
   "cell_type": "markdown",
   "id": "d33475c6-5fb3-4313-8fb6-778351fdb733",
   "metadata": {},
   "source": [
    "### Components of Table\n",
    "\n",
    "We can observe that the Table construct as written in Python has a resemblance to a SQL CREATE TABLE statement; starting with the table name, then listing out each column, where each column has a name and a datatype. The objects we use above are:\n",
    "\n",
    "- **Table** - represents a database table and assigns itself to a MetaData collection.\n",
    "\n",
    "- **Column** - represents a column in a database table, and assigns itself to a Table object. The Column usually includes a string name and a type object. The collection of Column objects in terms of the parent Table are typically accessed via an associative array located at Table.c:"
   ]
  },
  {
   "cell_type": "code",
   "execution_count": 44,
   "id": "2e339b92-fdb4-41c4-96e5-f612ef742544",
   "metadata": {},
   "outputs": [
    {
     "data": {
      "text/plain": [
       "Column('name', String(length=30), table=<user_account>)"
      ]
     },
     "execution_count": 44,
     "metadata": {},
     "output_type": "execute_result"
    }
   ],
   "source": [
    "user_table.c.name"
   ]
  },
  {
   "cell_type": "code",
   "execution_count": 45,
   "id": "25699a87-8226-4758-a068-02ad0cf59a22",
   "metadata": {},
   "outputs": [
    {
     "data": {
      "text/plain": [
       "['id', 'name', 'fullname']"
      ]
     },
     "execution_count": 45,
     "metadata": {},
     "output_type": "execute_result"
    }
   ],
   "source": [
    "user_table.c.keys()"
   ]
  },
  {
   "cell_type": "markdown",
   "id": "82a91dff-04ab-44da-8241-1372da8cc3b9",
   "metadata": {},
   "source": [
    "- **Integer**, **String** - these classes represent SQL datatypes and can be passed to a Column with or without necessarily being instantiated. Above, we want to give a length of “30” to the “name” column, so we instantiated String(30). But for “id” and “fullname” we did not specify these, so we can send the class itself."
   ]
  },
  {
   "cell_type": "markdown",
   "id": "3d95f0a0-d212-4250-a465-0439533ce07b",
   "metadata": {},
   "source": [
    "Additional resources:\n",
    "\n",
    "The reference and API documentation for MetaData, Table and Column is at [Describing Databases with MetaData](https://docs.sqlalchemy.org/en/20/core/metadata.html). The reference documentation for datatypes is at [SQL Datatype Objects](https://docs.sqlalchemy.org/en/20/core/types.html)."
   ]
  },
  {
   "cell_type": "markdown",
   "id": "a2efd528-e7b1-4811-bca2-c231b725846a",
   "metadata": {},
   "source": [
    "### Declaring Simple Constraints\n",
    "\n",
    "The first Column in the example user_table includes the Column.primary_key parameter which is a shorthand technique of indicating that this Column should be part of the primary key for this table. The primary key itself is normally declared implicitly and is represented by the PrimaryKeyConstraint construct, which we can see on the Table.primary_key attribute on the Table object:"
   ]
  },
  {
   "cell_type": "code",
   "execution_count": 46,
   "id": "d1f81081-cdcf-44d0-8103-3d8556e2c882",
   "metadata": {},
   "outputs": [
    {
     "data": {
      "text/plain": [
       "PrimaryKeyConstraint(Column('id', Integer(), table=<user_account>, primary_key=True, nullable=False))"
      ]
     },
     "execution_count": 46,
     "metadata": {},
     "output_type": "execute_result"
    }
   ],
   "source": [
    "user_table.primary_key"
   ]
  },
  {
   "cell_type": "markdown",
   "id": "83e49c15-8507-4371-af18-eb3c42975ed3",
   "metadata": {},
   "source": [
    "The constraint that is most typically declared explicitly is the ForeignKeyConstraint object that corresponds to a database foreign key constraint. When we declare tables that are related to each other, SQLAlchemy uses the presence of these foreign key constraint declarations not only so that they are emitted within CREATE statements to the database, but also to assist in constructing SQL expressions.\n",
    "\n",
    "A ForeignKeyConstraint that involves only a single column on the target table is typically declared using a column-level shorthand notation via the ForeignKey object. Below we declare a second table address that will have a foreign key constraint referring to the user table:"
   ]
  },
  {
   "cell_type": "code",
   "execution_count": 47,
   "id": "f03ff37e-4e3c-42ad-bfd6-3f10a3e450d9",
   "metadata": {},
   "outputs": [],
   "source": [
    "from sqlalchemy import ForeignKey\n",
    "\n",
    "address_table = Table(\n",
    "    \"address\",\n",
    "    metadata_obj,\n",
    "    Column(\"id\", Integer, primary_key=True),\n",
    "    Column(\"user_id\", ForeignKey(\"user_account.id\"), nullable=False),\n",
    "    Column(\"email_address\", String, nullable=False),\n",
    ")"
   ]
  },
  {
   "cell_type": "markdown",
   "id": "0a2f01f5-da76-4df9-b507-fdbe4583e88c",
   "metadata": {},
   "source": [
    "The table above also features a third kind of constraint, which in SQL is the “NOT NULL” constraint, indicated above using the Column.nullable parameter.\n",
    "\n",
    "<div class=\"alert alert-block alert-info\">\n",
    "    <b>Tip:</b>\n",
    "    When using the ForeignKey object within a Column definition, we can omit the datatype for that Column; it is automatically inferred from that of the related column, in the above example the Integer datatype of the user_account.id column.\n",
    "</div>"
   ]
  },
  {
   "cell_type": "markdown",
   "id": "4dfb85ea-09a7-4a62-9141-46f72a220998",
   "metadata": {},
   "source": [
    "### Emitting DDL to the Database\n",
    "\n",
    "We’ve constructed an object structure that represents two database tables in a database, starting at the root MetaData object, then into two Table objects, each of which hold onto a collection of Column and Constraint objects. This object structure will be at the center of most operations we perform with both Core and ORM going forward.\n",
    "\n",
    "The first useful thing we can do with this structure will be to emit CREATE TABLE statements, or DDL, to our SQLite database so that we can insert and query data from them. We have already all the tools needed to do so, by invoking the MetaData.create_all() method on our MetaData, sending it the Engine that refers to the target database:"
   ]
  },
  {
   "cell_type": "code",
   "execution_count": 48,
   "id": "0a871b33-d8b7-4c73-ab98-22f6ec89029d",
   "metadata": {},
   "outputs": [],
   "source": [
    "metadata_obj.create_all(engine)"
   ]
  },
  {
   "cell_type": "code",
   "execution_count": null,
   "id": "193dacdf-81fd-40d3-9e0c-f088f861b77c",
   "metadata": {},
   "outputs": [],
   "source": []
  },
  {
   "cell_type": "code",
   "execution_count": null,
   "id": "a876dece-daeb-423d-9893-20be4d15c6d7",
   "metadata": {},
   "outputs": [],
   "source": []
  },
  {
   "cell_type": "code",
   "execution_count": null,
   "id": "8e0f8792-02d7-4ac2-bd0d-80eb30265152",
   "metadata": {},
   "outputs": [],
   "source": []
  },
  {
   "cell_type": "code",
   "execution_count": null,
   "id": "ff3fcb27-2bad-4112-b2f5-a4807c64fd95",
   "metadata": {},
   "outputs": [],
   "source": []
  },
  {
   "cell_type": "code",
   "execution_count": null,
   "id": "e986599e-2436-43f6-bfc9-3b72f3a47f65",
   "metadata": {},
   "outputs": [],
   "source": []
  },
  {
   "cell_type": "markdown",
   "id": "1c4c4312-2eb8-480f-9c74-33cf82b9b5e9",
   "metadata": {},
   "source": [
    "## Working with Data"
   ]
  },
  {
   "cell_type": "markdown",
   "id": "84b49eac-ea1b-46d9-a6ef-04f123d617d9",
   "metadata": {},
   "source": [
    "## Data Manipulation with the ORM"
   ]
  },
  {
   "cell_type": "markdown",
   "id": "556e2da9-0519-4dfa-97a4-7da73752c34d",
   "metadata": {},
   "source": [
    "## ORM Related Objects"
   ]
  },
  {
   "cell_type": "markdown",
   "id": "b0febbba-9bd5-4a69-b578-9a6b7d61ff04",
   "metadata": {},
   "source": [
    "## Further Reading"
   ]
  },
  {
   "cell_type": "code",
   "execution_count": null,
   "id": "ff58bfcc-8f17-40d6-9bf4-507e17807cba",
   "metadata": {},
   "outputs": [],
   "source": []
  },
  {
   "cell_type": "code",
   "execution_count": null,
   "id": "770f9bb1-da9f-44b2-a62a-baacd370b9cc",
   "metadata": {},
   "outputs": [],
   "source": []
  }
 ],
 "metadata": {
  "kernelspec": {
   "display_name": "Python 3 (ipykernel)",
   "language": "python",
   "name": "python3"
  },
  "language_info": {
   "codemirror_mode": {
    "name": "ipython",
    "version": 3
   },
   "file_extension": ".py",
   "mimetype": "text/x-python",
   "name": "python",
   "nbconvert_exporter": "python",
   "pygments_lexer": "ipython3",
   "version": "3.10.13"
  }
 },
 "nbformat": 4,
 "nbformat_minor": 5
}
