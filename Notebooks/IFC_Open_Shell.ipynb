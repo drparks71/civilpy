{
 "cells": [
  {
   "cell_type": "code",
   "execution_count": 9,
   "id": "9aaa5d0c-7ffd-4b25-9860-17474f1a25be",
   "metadata": {},
   "outputs": [],
   "source": [
    "import ifcopenshell"
   ]
  },
  {
   "cell_type": "code",
   "execution_count": 10,
   "id": "44115974-847c-43b1-9ce1-eb2d1ba10395",
   "metadata": {},
   "outputs": [],
   "source": [
    "model = ifcopenshell.open(r\"C:\\Users\\dane.parks\\Downloads\\AC20-FZK-Haus.ifc\")"
   ]
  },
  {
   "cell_type": "code",
   "execution_count": 11,
   "id": "19d1a32c-b2f3-4691-8ef0-0ffa8c6de18a",
   "metadata": {},
   "outputs": [
    {
     "data": {
      "text/plain": [
       "<ifcopenshell.file.file at 0x2793c8bcf40>"
      ]
     },
     "execution_count": 11,
     "metadata": {},
     "output_type": "execute_result"
    }
   ],
   "source": [
    "model"
   ]
  },
  {
   "cell_type": "code",
   "execution_count": 12,
   "id": "2c089f3e-50a2-46ad-8233-4ad48af10217",
   "metadata": {},
   "outputs": [
    {
     "name": "stdout",
     "output_type": "stream",
     "text": [
      "IFC4\n"
     ]
    }
   ],
   "source": [
    "print(model.schema)"
   ]
  },
  {
   "cell_type": "code",
   "execution_count": 13,
   "id": "2f0fe54c-108c-4bb5-ba97-f0e27df34ef3",
   "metadata": {},
   "outputs": [
    {
     "name": "stdout",
     "output_type": "stream",
     "text": [
      "#1=IfcPerson($,'Nicht definiert',$,$,$,$,$,$)\n"
     ]
    }
   ],
   "source": [
    "print(model.by_id(1))"
   ]
  },
  {
   "cell_type": "code",
   "execution_count": 15,
   "id": "c15a1861-d187-4e7c-b89a-5db323d4963a",
   "metadata": {},
   "outputs": [
    {
     "name": "stdout",
     "output_type": "stream",
     "text": [
      "13\n"
     ]
    }
   ],
   "source": [
    "walls = model.by_type('IfcWall')\n",
    "print(len(walls))"
   ]
  },
  {
   "cell_type": "code",
   "execution_count": null,
   "id": "6a58bb9c-d050-4510-83d6-37cf0ce59d60",
   "metadata": {},
   "outputs": [],
   "source": [
    "wall = model.by_type('IfcWall')[0]\n",
    "print(wall.is_a()) # Returns 'IfcWall'"
   ]
  }
 ],
 "metadata": {
  "kernelspec": {
   "display_name": "Python 3 (ipykernel)",
   "language": "python",
   "name": "python3"
  },
  "language_info": {
   "codemirror_mode": {
    "name": "ipython",
    "version": 3
   },
   "file_extension": ".py",
   "mimetype": "text/x-python",
   "name": "python",
   "nbconvert_exporter": "python",
   "pygments_lexer": "ipython3",
   "version": "3.10.13"
  }
 },
 "nbformat": 4,
 "nbformat_minor": 5
}
