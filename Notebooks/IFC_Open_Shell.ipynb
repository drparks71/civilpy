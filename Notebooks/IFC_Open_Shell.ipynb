{
 "cells": [
  {
   "cell_type": "code",
   "execution_count": 1,
   "id": "76093923-d6d5-455b-88ff-09ef2bb64bcb",
   "metadata": {},
   "outputs": [
    {
     "data": {
      "text/plain": [
       "'3.9.21 (main, Dec 11 2024, 16:35:24) [MSC v.1929 64 bit (AMD64)]'"
      ]
     },
     "execution_count": 1,
     "metadata": {},
     "output_type": "execute_result"
    }
   ],
   "source": [
    "import sys\n",
    "sys.version"
   ]
  },
  {
   "cell_type": "code",
   "execution_count": 2,
   "id": "9aaa5d0c-7ffd-4b25-9860-17474f1a25be",
   "metadata": {},
   "outputs": [
    {
     "name": "stdout",
     "output_type": "stream",
     "text": [
      "0.8.2\n"
     ]
    }
   ],
   "source": [
    "import ifcopenshell\n",
    "print(ifcopenshell.version)"
   ]
  },
  {
   "cell_type": "code",
   "execution_count": 3,
   "id": "44115974-847c-43b1-9ce1-eb2d1ba10395",
   "metadata": {},
   "outputs": [],
   "source": [
    "model = ifcopenshell.open(r\"C:\\Users\\dparks1\\PycharmProjects\\civilpy\\res\\ifc_examples\\BridgeIFCmapped - 4.ifc\")"
   ]
  },
  {
   "cell_type": "code",
   "execution_count": 4,
   "id": "19d1a32c-b2f3-4691-8ef0-0ffa8c6de18a",
   "metadata": {},
   "outputs": [
    {
     "data": {
      "text/plain": [
       "<ifcopenshell.file.file at 0x210bce58100>"
      ]
     },
     "execution_count": 4,
     "metadata": {},
     "output_type": "execute_result"
    }
   ],
   "source": [
    "model"
   ]
  },
  {
   "cell_type": "code",
   "execution_count": 5,
   "id": "2c089f3e-50a2-46ad-8233-4ad48af10217",
   "metadata": {},
   "outputs": [
    {
     "name": "stdout",
     "output_type": "stream",
     "text": [
      "IFC4\n"
     ]
    }
   ],
   "source": [
    "print(model.schema)"
   ]
  },
  {
   "cell_type": "code",
   "execution_count": 6,
   "id": "2f0fe54c-108c-4bb5-ba97-f0e27df34ef3",
   "metadata": {},
   "outputs": [
    {
     "name": "stdout",
     "output_type": "stream",
     "text": [
      "#1=IfcOrganization($,'Organization',$,$,$)\n"
     ]
    }
   ],
   "source": [
    "print(model.by_id(1))"
   ]
  },
  {
   "cell_type": "code",
   "execution_count": 7,
   "id": "c15a1861-d187-4e7c-b89a-5db323d4963a",
   "metadata": {},
   "outputs": [
    {
     "name": "stdout",
     "output_type": "stream",
     "text": [
      "4\n"
     ]
    }
   ],
   "source": [
    "walls = model.by_type('IfcWall')\n",
    "print(len(walls))"
   ]
  },
  {
   "cell_type": "code",
   "execution_count": 8,
   "id": "6a58bb9c-d050-4510-83d6-37cf0ce59d60",
   "metadata": {},
   "outputs": [
    {
     "name": "stdout",
     "output_type": "stream",
     "text": [
      "IfcWall\n"
     ]
    }
   ],
   "source": [
    "wall = model.by_type('IfcWall')[0]\n",
    "print(wall.is_a()) # Returns 'IfcWall'"
   ]
  },
  {
   "cell_type": "code",
   "execution_count": 9,
   "id": "95171657-8cb6-4426-aa5f-6779fdfd6a0d",
   "metadata": {},
   "outputs": [
    {
     "data": {
      "application/vnd.jupyter.widget-view+json": {
       "model_id": "1a7a222e6d5944409c49a98f2f706a19",
       "version_major": 2,
       "version_minor": 0
      },
      "text/plain": [
       "Dropdown(description='IfcWall:', options=(('27482 - Smart Solid', 27482), ('27591 - Smart Solid', 27591), ('35…"
      ]
     },
     "metadata": {},
     "output_type": "display_data"
    }
   ],
   "source": [
    "import ipywidgets as widgets\n",
    "\n",
    "# Dropdown with elements filtered by type\n",
    "element_type = \"IfcWall\"\n",
    "elements = model.by_type(element_type)\n",
    "\n",
    "dropdown = widgets.Dropdown(\n",
    "    options=[(f\"{el.id()} - {el.Name}\", el.id()) for el in elements],\n",
    "    description=f\"{element_type}:\",\n",
    ")\n",
    "display(dropdown)\n",
    "\n",
    "# Print selected element's information on change\n",
    "def show_element_info(change):\n",
    "    selected_id = change['new']\n",
    "    selected_element = model.by_id(selected_id)\n",
    "    print(selected_element)\n",
    "\n",
    "dropdown.observe(show_element_info, names='value')"
   ]
  },
  {
   "cell_type": "code",
   "execution_count": 15,
   "id": "a952bee9-60e8-4393-ac29-ab453be85114",
   "metadata": {},
   "outputs": [
    {
     "ename": "ModuleNotFoundError",
     "evalue": "No module named 'ifcopenshell'",
     "output_type": "error",
     "traceback": [
      "\u001b[1;31m---------------------------------------------------------------------------\u001b[0m",
      "\u001b[1;31mModuleNotFoundError\u001b[0m                       Traceback (most recent call last)",
      "Cell \u001b[1;32mIn[15], line 6\u001b[0m\n\u001b[0;32m      4\u001b[0m \u001b[38;5;66;03m# from mathutils import Vector\u001b[39;00m\n\u001b[0;32m      5\u001b[0m \u001b[38;5;28;01mimport\u001b[39;00m \u001b[38;5;21;01mnumpy\u001b[39;00m \u001b[38;5;28;01mas\u001b[39;00m \u001b[38;5;21;01mnp\u001b[39;00m\n\u001b[1;32m----> 6\u001b[0m \u001b[38;5;28;01mimport\u001b[39;00m \u001b[38;5;21;01mifcopenshell\u001b[39;00m\n",
      "\u001b[1;31mModuleNotFoundError\u001b[0m: No module named 'ifcopenshell'"
     ]
    }
   ],
   "source": [
    "import sys\n",
    "from pathlib import Path\n",
    "from collections import defaultdict\n",
    "# from mathutils import Vector\n",
    "import numpy as np\n",
    "import ifcopenshell"
   ]
  },
  {
   "cell_type": "code",
   "execution_count": null,
   "id": "e526a58a-5395-47e3-8358-e281d2eb13dc",
   "metadata": {},
   "outputs": [],
   "source": []
  },
  {
   "cell_type": "code",
   "execution_count": null,
   "id": "df3c300e-c65b-41e8-8027-b4e6c6e15cd9",
   "metadata": {},
   "outputs": [],
   "source": []
  },
  {
   "cell_type": "code",
   "execution_count": null,
   "id": "d8c0a101-938d-4575-9893-7d1ad9da4730",
   "metadata": {},
   "outputs": [],
   "source": []
  },
  {
   "cell_type": "code",
   "execution_count": null,
   "id": "767b1d8e-aca2-4443-9b2e-cc47a2e42e2f",
   "metadata": {},
   "outputs": [],
   "source": []
  },
  {
   "cell_type": "code",
   "execution_count": null,
   "id": "9800c9fb-ffff-4738-977d-6a60f2eb9e8d",
   "metadata": {},
   "outputs": [],
   "source": []
  }
 ],
 "metadata": {
  "kernelspec": {
   "display_name": "Python 3 (ipykernel)",
   "language": "python",
   "name": "python3"
  },
  "language_info": {
   "codemirror_mode": {
    "name": "ipython",
    "version": 3
   },
   "file_extension": ".py",
   "mimetype": "text/x-python",
   "name": "python",
   "nbconvert_exporter": "python",
   "pygments_lexer": "ipython3",
   "version": "3.9.21"
  }
 },
 "nbformat": 4,
 "nbformat_minor": 5
}
