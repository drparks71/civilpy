{
 "cells": [
  {
   "cell_type": "raw",
   "id": "a171a6bb-0f5c-44fd-9f65-334d9d4ee61a",
   "metadata": {},
   "source": [
    "%pip install ifcopenshell pythreejs"
   ]
  },
  {
   "cell_type": "code",
   "execution_count": 5,
   "id": "9aaa5d0c-7ffd-4b25-9860-17474f1a25be",
   "metadata": {},
   "outputs": [],
   "source": [
    "import ifcopenshell"
   ]
  },
  {
   "cell_type": "code",
   "execution_count": 6,
   "id": "44115974-847c-43b1-9ce1-eb2d1ba10395",
   "metadata": {},
   "outputs": [],
   "source": [
    "model = ifcopenshell.open(r\"C:\\Users\\dparks1\\PycharmProjects\\civilpy\\res\\ifc_examples\\BridgeIFCmapped - 4.ifc\")"
   ]
  },
  {
   "cell_type": "code",
   "execution_count": 7,
   "id": "19d1a32c-b2f3-4691-8ef0-0ffa8c6de18a",
   "metadata": {},
   "outputs": [
    {
     "data": {
      "text/plain": [
       "<ifcopenshell.file.file at 0x1e5b50e9550>"
      ]
     },
     "execution_count": 7,
     "metadata": {},
     "output_type": "execute_result"
    }
   ],
   "source": [
    "model"
   ]
  },
  {
   "cell_type": "code",
   "execution_count": 8,
   "id": "2c089f3e-50a2-46ad-8233-4ad48af10217",
   "metadata": {},
   "outputs": [
    {
     "name": "stdout",
     "output_type": "stream",
     "text": [
      "IFC4\n"
     ]
    }
   ],
   "source": [
    "print(model.schema)"
   ]
  },
  {
   "cell_type": "code",
   "execution_count": 9,
   "id": "2f0fe54c-108c-4bb5-ba97-f0e27df34ef3",
   "metadata": {},
   "outputs": [
    {
     "name": "stdout",
     "output_type": "stream",
     "text": [
      "#1=IfcOrganization($,'Organization',$,$,$)\n"
     ]
    }
   ],
   "source": [
    "print(model.by_id(1))"
   ]
  },
  {
   "cell_type": "code",
   "execution_count": 10,
   "id": "c15a1861-d187-4e7c-b89a-5db323d4963a",
   "metadata": {},
   "outputs": [
    {
     "name": "stdout",
     "output_type": "stream",
     "text": [
      "4\n"
     ]
    }
   ],
   "source": [
    "walls = model.by_type('IfcWall')\n",
    "print(len(walls))"
   ]
  },
  {
   "cell_type": "code",
   "execution_count": 11,
   "id": "6a58bb9c-d050-4510-83d6-37cf0ce59d60",
   "metadata": {},
   "outputs": [
    {
     "name": "stdout",
     "output_type": "stream",
     "text": [
      "IfcWall\n"
     ]
    }
   ],
   "source": [
    "wall = model.by_type('IfcWall')[0]\n",
    "print(wall.is_a()) # Returns 'IfcWall'"
   ]
  },
  {
   "cell_type": "code",
   "execution_count": 14,
   "id": "95171657-8cb6-4426-aa5f-6779fdfd6a0d",
   "metadata": {},
   "outputs": [
    {
     "data": {
      "application/vnd.jupyter.widget-view+json": {
       "model_id": "3373b0fbc2d44c2db73d3d72c5c67ffe",
       "version_major": 2,
       "version_minor": 0
      },
      "text/plain": [
       "Dropdown(description='IfcWall:', options=(('27482 - Smart Solid', 27482), ('27591 - Smart Solid', 27591), ('35…"
      ]
     },
     "metadata": {},
     "output_type": "display_data"
    }
   ],
   "source": [
    "import ipywidgets as widgets\n",
    "\n",
    "# Dropdown with elements filtered by type\n",
    "element_type = \"IfcWall\"\n",
    "elements = model.by_type(element_type)\n",
    "\n",
    "dropdown = widgets.Dropdown(\n",
    "    options=[(f\"{el.id()} - {el.Name}\", el.id()) for el in elements],\n",
    "    description=f\"{element_type}:\",\n",
    ")\n",
    "display(dropdown)\n",
    "\n",
    "# Print selected element's information on change\n",
    "def show_element_info(change):\n",
    "    selected_id = change['new']\n",
    "    selected_element = model.by_id(selected_id)\n",
    "    print(selected_element)\n",
    "\n",
    "dropdown.observe(show_element_info, names='value')"
   ]
  },
  {
   "cell_type": "code",
   "execution_count": null,
   "id": "a952bee9-60e8-4393-ac29-ab453be85114",
   "metadata": {},
   "outputs": [],
   "source": []
  }
 ],
 "metadata": {
  "kernelspec": {
   "display_name": "Python 3 (ipykernel)",
   "language": "python",
   "name": "python3"
  },
  "language_info": {
   "codemirror_mode": {
    "name": "ipython",
    "version": 3
   },
   "file_extension": ".py",
   "mimetype": "text/x-python",
   "name": "python",
   "nbconvert_exporter": "python",
   "pygments_lexer": "ipython3",
   "version": "3.9.21"
  }
 },
 "nbformat": 4,
 "nbformat_minor": 5
}
