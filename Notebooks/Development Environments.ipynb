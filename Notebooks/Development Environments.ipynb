{
 "cells": [
  {
   "cell_type": "markdown",
   "id": "84f28fa3-84a8-4db9-8ae6-2aff4f170936",
   "metadata": {},
   "source": [
    "# Major Orgs\n",
    "\n",
    "- Apple ![](https://upload.wikimedia.org/wikipedia/commons/thumb/1/1b/Apple_logo_grey.svg/862px-Apple_logo_grey.svg.png)\n",
    "- Microsoft\n",
    "- Google\n",
    "- Oracle\n",
    "- Jetbrains"
   ]
  },
  {
   "cell_type": "code",
   "execution_count": null,
   "id": "fcb6411c-0d61-4ad9-ab7f-dd391732c6f7",
   "metadata": {},
   "outputs": [],
   "source": []
  },
  {
   "cell_type": "code",
   "execution_count": null,
   "id": "eba87569-1eb4-4b57-8a72-b0a5ff4cb09a",
   "metadata": {},
   "outputs": [],
   "source": []
  },
  {
   "cell_type": "code",
   "execution_count": null,
   "id": "43ea12d8-f128-4d4b-9a9b-ee62724eae80",
   "metadata": {},
   "outputs": [],
   "source": []
  }
 ],
 "metadata": {
  "kernelspec": {
   "display_name": "Python 3 (ipykernel)",
   "language": "python",
   "name": "python3"
  },
  "language_info": {
   "codemirror_mode": {
    "name": "ipython",
    "version": 3
   },
   "file_extension": ".py",
   "mimetype": "text/x-python",
   "name": "python",
   "nbconvert_exporter": "python",
   "pygments_lexer": "ipython3",
   "version": "3.12.6"
  }
 },
 "nbformat": 4,
 "nbformat_minor": 5
}
