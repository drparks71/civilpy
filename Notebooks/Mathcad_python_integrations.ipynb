{
 "cells": [
  {
   "cell_type": "markdown",
   "id": "be18b206-01a2-4c86-84ff-cd748c4cd81b",
   "metadata": {
    "editable": true,
    "slideshow": {
     "slide_type": ""
    },
    "tags": []
   },
   "source": [
    "<table style=\"font-family: 'Roboto Mono';font-size: 20px;\">\n",
    "<thead>\n",
    "    <tr>\n",
    "        <th style=\"width:70%\"></th>\n",
    "        <th></th>\n",
    "    </tr>\n",
    "    <tr>\n",
    "        <td>\n",
    "            <u><b>PROJECT:</b> NS Welch WV</u><br>\n",
    "            <u><b>TASK:</b> Abutment Backwall Design</u><br>\n",
    "            <u><b>PROJECT NO:</b> 196868</u><br>\n",
    "            <u><b>SUBJECT:</b> Backwall Design and Elevations</u><br>\n",
    "            <u><b>CALCULATED BY:</b> DRP <b>&ensp;&ensp;DATE:</b> 10/31/2023</u><br>\n",
    "            <u><b>CHECKED BY: </b> XXX <b>&ensp;&ensp;&ensp;&ensp;&ensp;DATE:</b> ##/##/####</u>\n",
    "        </td>\n",
    "        <td>\n",
    "            <img class=\"left\" src=\"res/imgs/MB_Branding.jpg\">\n",
    "        </td>\n",
    "    </tr>\n",
    "</thead>\n",
    "</table>"
   ]
  },
  {
   "cell_type": "markdown",
   "id": "9928e976-d8b7-4878-b893-855ba18641b0",
   "metadata": {
    "editable": true,
    "slideshow": {
     "slide_type": ""
    },
    "tags": []
   },
   "source": [
    "# Conversion of Mathcad Sheet Located [Here](https://connect-projectwisewac.bentley.com/pwlink?datasource=Bentley.PW--mb-us-pw.bentley.com~3Amb-us-pw-03&objectId=cbcc5eeb-7761-4348-9e46-e4ec6431775d&objectType=doc&workAreaId=972cc355-39ab-4d01-af83-723c17d65d68&projectId=cc877e11-16b7-4fdc-9027-9171ae3e9bbf&app=pwe)\n",
    "\n",
    "PW Drive Location: C:\\Users\\Public\\PWDrive\\MBI\\Welch_WV Br. T-1.33\\400_WORKING FILES\\420_Structural Design\\Final Design\\Superstructure Design\\NS Welch_Beam Design_W14.xmcd"
   ]
  },
  {
   "cell_type": "markdown",
   "id": "31671b22-a5c4-44c4-bc1d-2daf6ec9f22d",
   "metadata": {},
   "source": [
    "# General"
   ]
  },
  {
   "cell_type": "code",
   "execution_count": 1,
   "id": "328c7e59-cf7d-49ea-9f50-3eec29284301",
   "metadata": {},
   "outputs": [],
   "source": [
    "with open(\n",
    "    \"C:\\\\Users\\\\Public\\\\PWDrive\\\\MBI\\\\Welch_WV Br. T-1.33\\\\400_WORKING FILES\\\\420_Structural Design\\\\Final Design\\\\Superstructure Design\\\\NS Welch_Beam Design_W14.xmcd\",\n",
    "    \"r\",\n",
    ") as f:\n",
    "    mathcad_contents = f.read()"
   ]
  },
  {
   "cell_type": "code",
   "execution_count": 2,
   "id": "7e58efc3-87f1-4a4d-a449-7a0201b71966",
   "metadata": {},
   "outputs": [],
   "source": [
    "from bs4 import BeautifulSoup\n",
    "\n",
    "parsed_data = BeautifulSoup(mathcad_contents, \"xml\")"
   ]
  },
  {
   "cell_type": "code",
   "execution_count": null,
   "id": "0a47ff6b-919b-4c8e-8bec-5b91f29f9c33",
   "metadata": {},
   "outputs": [],
   "source": []
  },
  {
   "cell_type": "code",
   "execution_count": null,
   "id": "0f12585b-c6be-40d0-bfd8-cf2089efb48d",
   "metadata": {},
   "outputs": [],
   "source": []
  },
  {
   "cell_type": "code",
   "execution_count": 2,
   "id": "269f87f3-c58c-4610-b9b9-9965de98921f",
   "metadata": {},
   "outputs": [],
   "source": [
    "from civilpy.structural.steel import W"
   ]
  },
  {
   "cell_type": "code",
   "execution_count": 3,
   "id": "707fc419-3bab-4396-900c-ba54e7a45d52",
   "metadata": {},
   "outputs": [],
   "source": [
    "W14x257 = W(\"w14x257\")"
   ]
  },
  {
   "cell_type": "code",
   "execution_count": 5,
   "id": "7bf41eb4-b035-48d1-9928-8a79c96acd5c",
   "metadata": {},
   "outputs": [
    {
     "data": {
      "text/html": [
       "16.4 inch"
      ],
      "text/latex": [
       "$16.4\\ \\mathrm{inch}$"
      ],
      "text/plain": [
       "16.4 <Unit('inch')>"
      ]
     },
     "execution_count": 5,
     "metadata": {},
     "output_type": "execute_result"
    }
   ],
   "source": [
    "W14x257.depth"
   ]
  },
  {
   "cell_type": "code",
   "execution_count": 6,
   "id": "45c5e7d8-84b2-4436-9bd9-2956a1bf2d52",
   "metadata": {},
   "outputs": [],
   "source": [
    "W30x90 = W(\"W30X90\")"
   ]
  },
  {
   "cell_type": "code",
   "execution_count": 8,
   "id": "01bef607-c0cc-4fa4-af17-c68db99c5990",
   "metadata": {},
   "outputs": [
    {
     "data": {
      "text/html": [
       "29.5 inch"
      ],
      "text/latex": [
       "$29.5\\ \\mathrm{inch}$"
      ],
      "text/plain": [
       "29.5 <Unit('inch')>"
      ]
     },
     "execution_count": 8,
     "metadata": {},
     "output_type": "execute_result"
    }
   ],
   "source": [
    "W30x90.depth"
   ]
  },
  {
   "cell_type": "code",
   "execution_count": null,
   "id": "335fbce6-6780-4637-9fbe-122639e31acb",
   "metadata": {},
   "outputs": [],
   "source": []
  },
  {
   "cell_type": "code",
   "execution_count": null,
   "id": "53562fd0-0c2f-481a-8369-fad1b3be28d0",
   "metadata": {},
   "outputs": [],
   "source": []
  },
  {
   "cell_type": "code",
   "execution_count": null,
   "id": "8202b765-ab1c-4c41-aa94-57ec9d10e16d",
   "metadata": {},
   "outputs": [],
   "source": []
  },
  {
   "cell_type": "markdown",
   "id": "303a11b2-1954-4526-83a9-e9a5194575de",
   "metadata": {},
   "source": [
    "# Reinforced Concrete Backwall"
   ]
  },
  {
   "cell_type": "code",
   "execution_count": null,
   "id": "92f6ca00-313d-409e-b370-ef6546126c65",
   "metadata": {},
   "outputs": [],
   "source": []
  },
  {
   "cell_type": "code",
   "execution_count": null,
   "id": "15e40b60-ebab-4f5f-8e9b-2ef4aed38438",
   "metadata": {},
   "outputs": [],
   "source": []
  },
  {
   "cell_type": "code",
   "execution_count": null,
   "id": "40a12539-c9ca-47cc-81d8-9fee8114c97d",
   "metadata": {},
   "outputs": [],
   "source": []
  },
  {
   "cell_type": "markdown",
   "id": "823f5a1d-35fd-4c61-8d05-66edbd7fd2d5",
   "metadata": {},
   "source": [
    "# Backwall Long. Rebar"
   ]
  },
  {
   "cell_type": "code",
   "execution_count": null,
   "id": "e55dba1e-c8f6-45a5-bc81-08ec5fe434c2",
   "metadata": {},
   "outputs": [],
   "source": []
  },
  {
   "cell_type": "code",
   "execution_count": null,
   "id": "d49c745e-1e0c-4498-86e1-28976a580026",
   "metadata": {},
   "outputs": [],
   "source": []
  },
  {
   "cell_type": "code",
   "execution_count": null,
   "id": "d476cff3-2e26-4e17-b7f0-6de82160b448",
   "metadata": {},
   "outputs": [],
   "source": []
  }
 ],
 "metadata": {
  "kernelspec": {
   "display_name": "Python 3 (ipykernel)",
   "language": "python",
   "name": "python3"
  },
  "language_info": {
   "codemirror_mode": {
    "name": "ipython",
    "version": 3
   },
   "file_extension": ".py",
   "mimetype": "text/x-python",
   "name": "python",
   "nbconvert_exporter": "python",
   "pygments_lexer": "ipython3",
   "version": "3.10.13"
  }
 },
 "nbformat": 4,
 "nbformat_minor": 5
}
