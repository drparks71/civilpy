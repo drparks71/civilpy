{
 "cells": [
  {
   "cell_type": "markdown",
   "id": "7b433c3f-df88-49ed-b82b-6c9206f4799b",
   "metadata": {},
   "source": [
    "# FRA ESRI GIS Server\n",
    "\n",
    "[Link to server location](https://fragis.fra.dot.gov/arcgis/rest/services/FRA)"
   ]
  },
  {
   "cell_type": "code",
   "execution_count": null,
   "id": "41204b82-783d-4fb9-b4fb-bbdd82ad4357",
   "metadata": {},
   "outputs": [],
   "source": []
  },
  {
   "cell_type": "code",
   "execution_count": null,
   "id": "539b8aa1-d60a-495d-a2c9-13b1ef8e2824",
   "metadata": {},
   "outputs": [],
   "source": []
  },
  {
   "cell_type": "markdown",
   "id": "61d8d38e-e386-417d-be8e-57e31e69b0ac",
   "metadata": {},
   "source": [
    "# Calculating Track Mileage by Class\n",
    "\n",
    "[Link to source files](https://data-usdot.opendata.arcgis.com/search?collection=Dataset&q=North%20American%20Rail%20Lines)"
   ]
  },
  {
   "cell_type": "raw",
   "id": "92f93f62-0cf4-4a0f-ab35-5568c738716e",
   "metadata": {},
   "source": [
    "import fiona\n",
    "from shapely.geometry import shape\n",
    "from collections import defaultdict\n",
    "\n",
    "# Initialize a dictionary to store total lengths by track classification\n",
    "track_lengths_by_class = defaultdict(float)\n",
    "\n",
    "# Unit conversion factor: meters to miles\n",
    "meters_to_miles = 0.000621371\n",
    "\n",
    "# Open the shapefile\n",
    "\n",
    "with fiona.open(shapefile_path) as shape_file:\n",
    "    crs = shape_file.crs  # Get the coordinate reference system (CRS)\n",
    "    print(\"CRS of shapefile:\", crs)\n",
    "\n",
    "    # Check each feature in the shapefile\n",
    "    for feature in shape_file:\n",
    "        # Get the geometry and classification\n",
    "        geom = shape(feature['geometry'])\n",
    "        classification = feature['properties'].get(\n",
    "            'TRACK_CLASS')  # Replace 'TRACK_CLASS' with the correct attribute name\n",
    "\n",
    "        # Ensure the geometry is valid and a LineString/MultiLineString\n",
    "        if geom.is_valid and geom.geom_type in ['LineString', 'MultiLineString']:\n",
    "            # Calculate the length of the geometry\n",
    "            length_meters = geom.length\n",
    "\n",
    "            # Add the length to the appropriate track classification\n",
    "            track_lengths_by_class[classification] += length_meters * meters_to_miles\n",
    "\n",
    "# Print the total miles of rail by classification\n",
    "print(\"Total rail miles by track classification:\")\n",
    "for track_class, total_miles in track_lengths_by_class.items():\n",
    "    print(f\"Class {track_class}: {total_miles:.2f} miles\")"
   ]
  },
  {
   "cell_type": "raw",
   "id": "62f62dd9-753d-4b37-9081-49e0ffbcd500",
   "metadata": {},
   "source": [
    "shapefile_path = \"res/fra_data/census/tl_2024_us_rails.shp\"\n",
    "\n",
    "with fiona.open(shapefile_path) as shape_file:\n",
    "    for feature in shape_file[:5]:\n",
    "        geom = shape(feature['geometry'])\n",
    "        classification = feature['properties'].get('TRACK_CLASS')\n",
    "        print(f\"{feature['properties']}\\n\")"
   ]
  },
  {
   "cell_type": "raw",
   "id": "f5f6a889-6666-4538-89d5-c6b4a4c6d369",
   "metadata": {},
   "source": [
    "import requests\n",
    "import folium\n",
    "\n",
    "def generate_bridge_map():\n",
    "    esri_feature_layer = folium.FeatureGroup(name='NA RR Bridges')\n",
    "    folium_map = folium.Map(zoom_start=6)\n",
    "    \n",
    "    # Add the ArcGIS Feature Server layer\n",
    "    esri_url = \"https://services.arcgis.com/xOi1kZaI0eWDREZv/arcgis/rest/services/NTAD_Railroad_Bridges/FeatureServer/0/query\"\n",
    "    esri_params = {\n",
    "        'where': '1=1',\n",
    "        'outFields': '*',\n",
    "        'f': 'geojson'\n",
    "    }\n",
    "\n",
    "    def style_function(feature):\n",
    "        return {\n",
    "            'color': 'orange',\n",
    "            'weight': 2,\n",
    "            'fillOpacity': 0.6\n",
    "        }\n",
    "\n",
    "    response = requests.get(esri_url, params=esri_params)\n",
    "    geojson_data = response.json()\n",
    "\n",
    "    folium.GeoJson(\n",
    "        geojson_data,\n",
    "        name=\"NA RR Bridges\",\n",
    "        style_function=style_function\n",
    "    ).add_to(esri_feature_layer)\n",
    "\n",
    "    esri_feature_layer.add_to(folium_map)\n",
    "\n",
    "    folium.LayerControl().add_to(folium_map)\n",
    "\n",
    "    return folium_map"
   ]
  },
  {
   "cell_type": "raw",
   "id": "4d934319-bd9c-4a3c-8f0d-f96e8f7bc91b",
   "metadata": {
    "scrolled": true
   },
   "source": [
    "generate_bridge_map()"
   ]
  },
  {
   "cell_type": "raw",
   "id": "99d70277-95e3-4ab8-ade4-63a953495105",
   "metadata": {},
   "source": [
    "import requests\n",
    "import folium\n",
    "\n",
    "def generate_rail_map():\n",
    "    esri_feature_layer = folium.FeatureGroup(name='NARN Data')\n",
    "    folium_map = folium.Map(zoom_start=6)\n",
    "    \n",
    "    # Add the ArcGIS Feature Server layer\n",
    "    esri_url = \"https://services.arcgis.com/xOi1kZaI0eWDREZv/arcgis/rest/services/NTAD_North_American_Rail_Network_Lines/FeatureServer/0/query\"\n",
    "    esri_params = {\n",
    "        'where': '1=1',\n",
    "        'outFields': '*',\n",
    "        'f': 'geojson'\n",
    "    }\n",
    "\n",
    "    response = requests.get(esri_url, params=esri_params)\n",
    "    geojson_data = response.json()\n",
    "\n",
    "    folium.GeoJson(\n",
    "        geojson_data,\n",
    "        name=\"NARN Data\",\n",
    "    ).add_to(esri_feature_layer)\n",
    "\n",
    "    esri_feature_layer.add_to(folium_map)\n",
    "\n",
    "    folium.LayerControl().add_to(folium_map)\n",
    "\n",
    "    return folium_map"
   ]
  },
  {
   "cell_type": "raw",
   "id": "c7bdbd6f-03e9-491b-bcc0-8e4c87ac776c",
   "metadata": {},
   "source": [
    "generate_rail_map()"
   ]
  },
  {
   "cell_type": "markdown",
   "id": "1854a618-1a12-423e-b8ce-fa3a28dd357e",
   "metadata": {},
   "source": [
    "# Using OpenRailMap"
   ]
  },
  {
   "cell_type": "code",
   "execution_count": 47,
   "id": "6ac0fe39-8ced-4b94-9989-e3eea75aed98",
   "metadata": {},
   "outputs": [],
   "source": [
    "import folium\n",
    "import requests\n",
    "import pandas as pd\n",
    "import geopandas as gpd\n",
    "import matplotlib.pyplot as plt\n",
    "from shapely.geometry import LineString"
   ]
  },
  {
   "cell_type": "code",
   "execution_count": 2,
   "id": "82c78054-4264-4f20-9794-e66222975f88",
   "metadata": {},
   "outputs": [],
   "source": [
    "overpass_url = \"https://overpass-api.de/api/interpreter\""
   ]
  },
  {
   "cell_type": "code",
   "execution_count": 3,
   "id": "3e2f81a9-dd06-4c8e-b0ab-304f762c5316",
   "metadata": {},
   "outputs": [],
   "source": [
    "state = \"California\"\n",
    "\n",
    "overpass_query = f'[out:json][timeout:300];area[\"name\"=\"{state}\"]->.searchArea;(way[\"railway\"=\"rail\"][\"maxspeed\"](area.searchArea););out body geom;'"
   ]
  },
  {
   "cell_type": "code",
   "execution_count": 4,
   "id": "a7e221bd-f8ab-49f7-bbb6-a838cb2a9b75",
   "metadata": {},
   "outputs": [],
   "source": [
    "response = requests.get(overpass_url, params={\"data\": overpass_query})\n",
    "data = response.json()"
   ]
  },
  {
   "cell_type": "code",
   "execution_count": 5,
   "id": "c6fe7372-3705-4c07-ac0a-1fd82d6f97d7",
   "metadata": {},
   "outputs": [],
   "source": [
    "rail_features = []\n",
    "\n",
    "for element in data[\"elements\"]:\n",
    "    if element[\"type\"] == \"way\" and \"geometry\" in element:\n",
    "        coordinates = [(point[\"lon\"], point[\"lat\"]) for point in element[\"geometry\"]]\n",
    "        geometry = LineString(coordinates)\n",
    "        maxspeed = element[\"tags\"].get(\"maxspeed\", None)  # Extract maxspeed\n",
    "        if maxspeed is not None:\n",
    "            rail_features.append({\"geometry\": geometry, \"maxspeed\": maxspeed})"
   ]
  },
  {
   "cell_type": "code",
   "execution_count": 6,
   "id": "eca74ff6-a496-4a62-ac8a-f11f30eaf6ac",
   "metadata": {},
   "outputs": [],
   "source": [
    "gdf = gpd.GeoDataFrame(rail_features, crs=\"EPSG:4326\")"
   ]
  },
  {
   "cell_type": "code",
   "execution_count": 7,
   "id": "25ea1bb3-1c22-45aa-a963-cca3c3afff4b",
   "metadata": {},
   "outputs": [],
   "source": [
    "gdf = gdf.to_crs(\"EPSG:5070\")\n",
    "gdf[\"length_miles\"] = gdf[\"geometry\"].length * (0.000621371)  # Convert meters to miles"
   ]
  },
  {
   "cell_type": "code",
   "execution_count": 8,
   "id": "eed3f910-f8ed-4f52-abcc-641ba4010b76",
   "metadata": {},
   "outputs": [],
   "source": [
    "total_length = gdf[\"length_miles\"].sum()"
   ]
  },
  {
   "cell_type": "code",
   "execution_count": 9,
   "id": "ccc8c063-5d21-4080-b4c9-fcc8cfc8bde7",
   "metadata": {},
   "outputs": [
    {
     "data": {
      "text/plain": [
       "np.float64(5543.594936382278)"
      ]
     },
     "execution_count": 9,
     "metadata": {},
     "output_type": "execute_result"
    }
   ],
   "source": [
    "# Sum up the total length of all railways\n",
    "total_length"
   ]
  },
  {
   "cell_type": "markdown",
   "id": "e0bc61c1-1f7d-46d6-95e7-47953cf4239a",
   "metadata": {},
   "source": [
    "California has ~6806 miles of track so not terribly off."
   ]
  },
  {
   "cell_type": "code",
   "execution_count": 10,
   "id": "12a02c21-5dd5-4b3a-91ab-63bf3758f2f8",
   "metadata": {},
   "outputs": [
    {
     "data": {
      "text/html": [
       "<div>\n",
       "<style scoped>\n",
       "    .dataframe tbody tr th:only-of-type {\n",
       "        vertical-align: middle;\n",
       "    }\n",
       "\n",
       "    .dataframe tbody tr th {\n",
       "        vertical-align: top;\n",
       "    }\n",
       "\n",
       "    .dataframe thead th {\n",
       "        text-align: right;\n",
       "    }\n",
       "</style>\n",
       "<table border=\"1\" class=\"dataframe\">\n",
       "  <thead>\n",
       "    <tr style=\"text-align: right;\">\n",
       "      <th></th>\n",
       "      <th>geometry</th>\n",
       "      <th>maxspeed</th>\n",
       "      <th>length_miles</th>\n",
       "    </tr>\n",
       "  </thead>\n",
       "  <tbody>\n",
       "    <tr>\n",
       "      <th>0</th>\n",
       "      <td>LINESTRING (-2023255.433 1474592.107, -2023521...</td>\n",
       "      <td>79 mph</td>\n",
       "      <td>1.503528</td>\n",
       "    </tr>\n",
       "    <tr>\n",
       "      <th>1</th>\n",
       "      <td>LINESTRING (-2017953.188 1458520.363, -2017955...</td>\n",
       "      <td>27 mph</td>\n",
       "      <td>0.794001</td>\n",
       "    </tr>\n",
       "    <tr>\n",
       "      <th>2</th>\n",
       "      <td>LINESTRING (-1992573.431 1446902.085, -1992626...</td>\n",
       "      <td>70 mph</td>\n",
       "      <td>0.191493</td>\n",
       "    </tr>\n",
       "    <tr>\n",
       "      <th>3</th>\n",
       "      <td>LINESTRING (-2017685.909 1459245.522, -2017729...</td>\n",
       "      <td>15 mph</td>\n",
       "      <td>0.284797</td>\n",
       "    </tr>\n",
       "    <tr>\n",
       "      <th>4</th>\n",
       "      <td>LINESTRING (-2018074.371 1459011.124, -2018065...</td>\n",
       "      <td>15 mph</td>\n",
       "      <td>0.070330</td>\n",
       "    </tr>\n",
       "    <tr>\n",
       "      <th>...</th>\n",
       "      <td>...</td>\n",
       "      <td>...</td>\n",
       "      <td>...</td>\n",
       "    </tr>\n",
       "    <tr>\n",
       "      <th>10608</th>\n",
       "      <td>LINESTRING (-2264507.763 1914651.928, -2264465...</td>\n",
       "      <td>79 mph</td>\n",
       "      <td>0.979210</td>\n",
       "    </tr>\n",
       "    <tr>\n",
       "      <th>10609</th>\n",
       "      <td>LINESTRING (-2263596.068 1913367.844, -2263583...</td>\n",
       "      <td>79 mph</td>\n",
       "      <td>0.013133</td>\n",
       "    </tr>\n",
       "    <tr>\n",
       "      <th>10610</th>\n",
       "      <td>LINESTRING (-2264511.019 1914649.494, -2264470...</td>\n",
       "      <td>79 mph</td>\n",
       "      <td>0.978075</td>\n",
       "    </tr>\n",
       "    <tr>\n",
       "      <th>10611</th>\n",
       "      <td>LINESTRING (-2263600.843 1913367.609, -2263588...</td>\n",
       "      <td>79 mph</td>\n",
       "      <td>0.013299</td>\n",
       "    </tr>\n",
       "    <tr>\n",
       "      <th>10612</th>\n",
       "      <td>LINESTRING (-2260663.467 1909227.441, -2260712...</td>\n",
       "      <td>79 mph</td>\n",
       "      <td>0.205444</td>\n",
       "    </tr>\n",
       "  </tbody>\n",
       "</table>\n",
       "<p>10613 rows × 3 columns</p>\n",
       "</div>"
      ],
      "text/plain": [
       "                                                geometry maxspeed  \\\n",
       "0      LINESTRING (-2023255.433 1474592.107, -2023521...   79 mph   \n",
       "1      LINESTRING (-2017953.188 1458520.363, -2017955...   27 mph   \n",
       "2      LINESTRING (-1992573.431 1446902.085, -1992626...   70 mph   \n",
       "3      LINESTRING (-2017685.909 1459245.522, -2017729...   15 mph   \n",
       "4      LINESTRING (-2018074.371 1459011.124, -2018065...   15 mph   \n",
       "...                                                  ...      ...   \n",
       "10608  LINESTRING (-2264507.763 1914651.928, -2264465...   79 mph   \n",
       "10609  LINESTRING (-2263596.068 1913367.844, -2263583...   79 mph   \n",
       "10610  LINESTRING (-2264511.019 1914649.494, -2264470...   79 mph   \n",
       "10611  LINESTRING (-2263600.843 1913367.609, -2263588...   79 mph   \n",
       "10612  LINESTRING (-2260663.467 1909227.441, -2260712...   79 mph   \n",
       "\n",
       "       length_miles  \n",
       "0          1.503528  \n",
       "1          0.794001  \n",
       "2          0.191493  \n",
       "3          0.284797  \n",
       "4          0.070330  \n",
       "...             ...  \n",
       "10608      0.979210  \n",
       "10609      0.013133  \n",
       "10610      0.978075  \n",
       "10611      0.013299  \n",
       "10612      0.205444  \n",
       "\n",
       "[10613 rows x 3 columns]"
      ]
     },
     "execution_count": 10,
     "metadata": {},
     "output_type": "execute_result"
    }
   ],
   "source": [
    "gdf"
   ]
  },
  {
   "cell_type": "code",
   "execution_count": 11,
   "id": "80fca2cd-3414-42ad-b52f-08dd14118c4f",
   "metadata": {},
   "outputs": [],
   "source": [
    "# Clean and normalize maxspeed column: Convert to numeric (assuming speeds are in mph)\n",
    "def parse_maxspeed(speed):\n",
    "    try:\n",
    "        if \"mph\" in speed:\n",
    "            return int(speed.replace(\" mph\", \"\").strip())\n",
    "    except:\n",
    "        return 0"
   ]
  },
  {
   "cell_type": "code",
   "execution_count": 12,
   "id": "9e718baa-7be8-4696-9fec-7b0e5cc6d079",
   "metadata": {},
   "outputs": [],
   "source": [
    "gdf[\"maxspeed_mph\"] = gdf[\"maxspeed\"].apply(parse_maxspeed)"
   ]
  },
  {
   "cell_type": "code",
   "execution_count": 34,
   "id": "8afbe757-d14e-43dd-b958-ac782860308c",
   "metadata": {},
   "outputs": [],
   "source": [
    "# Binning maxspeed into predefined classes\n",
    "bins = [0, 15, 30, 60, 80, 90, 110, 125, 160, 200]  # Bin edges\n",
    "labels = [\"class 1\", \"class 2\", \"class 3\", \"class 4\", \"class 5\", \"class 6\", \"class 7\", \"class 8\", \"class 9\"]  # Bin labels"
   ]
  },
  {
   "cell_type": "code",
   "execution_count": 14,
   "id": "4b34d397-5abb-426a-85d3-5e23e1c72d60",
   "metadata": {},
   "outputs": [],
   "source": [
    "# Assign speed classes using pd.cut()\n",
    "gdf[\"class\"] = pd.cut(gdf[\"maxspeed_mph\"], bins=bins, labels=labels, right=True, include_lowest=True)"
   ]
  },
  {
   "cell_type": "code",
   "execution_count": 15,
   "id": "893aac5e-c70a-449f-ae26-e8ca322e3dc7",
   "metadata": {},
   "outputs": [
    {
     "data": {
      "text/plain": [
       "10613"
      ]
     },
     "execution_count": 15,
     "metadata": {},
     "output_type": "execute_result"
    }
   ],
   "source": [
    "len(gdf)"
   ]
  },
  {
   "cell_type": "code",
   "execution_count": 16,
   "id": "03686f00-037f-4fac-ad4c-77caf94d6476",
   "metadata": {},
   "outputs": [],
   "source": [
    "# Group by speed class and calculate total miles in each class\n",
    "class_totals = gdf.groupby(\"class\", observed=False)[\"length_miles\"].sum().reset_index()"
   ]
  },
  {
   "cell_type": "code",
   "execution_count": 17,
   "id": "94ee1b15-8881-426a-902b-c38eada12e67",
   "metadata": {},
   "outputs": [],
   "source": [
    "# Calculate percentage of the total\n",
    "total_miles = class_totals[\"length_miles\"].sum()\n",
    "class_totals[\"percentage\"] = (class_totals[\"length_miles\"] / total_miles) * 100"
   ]
  },
  {
   "cell_type": "code",
   "execution_count": 18,
   "id": "298ad680-3d00-4c29-a521-83f283744a5b",
   "metadata": {},
   "outputs": [
    {
     "data": {
      "image/png": "[encoded data removed]",
      "text/plain": [
       "<Figure size 1000x600 with 2 Axes>"
      ]
     },
     "metadata": {},
     "output_type": "display_data"
    }
   ],
   "source": [
    "# Plot the results\n",
    "fig, ax1 = plt.subplots(figsize=(10, 6))\n",
    "\n",
    "# Bar plot: Total miles per class\n",
    "ax1.bar(class_totals[\"class\"], class_totals[\"length_miles\"], color=\"skyblue\", label=\"Total Miles\")\n",
    "ax1.set_xlabel(\"Track Speed Classes\", fontsize=12)\n",
    "ax1.set_ylabel(\"Total Miles\", fontsize=12)\n",
    "ax1.set_title(\"Total Miles and Percentage by Track Speed Classes\", fontsize=14)\n",
    "ax1.tick_params(axis=\"y\", labelcolor=\"blue\")\n",
    "\n",
    "# Secondary y-axis: Percentage\n",
    "ax2 = ax1.twinx()\n",
    "ax2.plot(class_totals[\"class\"], class_totals[\"percentage\"], color=\"orange\", marker=\"o\", label=\"Percentage\")\n",
    "ax2.set_ylabel(\"Percentage of Total\", fontsize=12)\n",
    "ax2.tick_params(axis=\"y\", labelcolor=\"orange\")\n",
    "\n",
    "# Add data labels on top of the bars\n",
    "for i, row in class_totals.iterrows():\n",
    "    ax1.text(row[\"class\"], row[\"length_miles\"] + 1, f'{row[\"length_miles\"]:.2f} mi', ha=\"center\", fontsize=10)\n",
    "    ax2.text(row[\"class\"], row[\"percentage\"] + 1, f'{row[\"percentage\"]:.1f}%', ha=\"center\", fontsize=10, color=\"orange\")\n",
    "\n",
    "# Legends\n",
    "ax1.legend(loc=\"upper left\")\n",
    "ax2.legend(loc=\"upper right\")\n",
    "\n",
    "plt.tight_layout()\n",
    "plt.show()"
   ]
  },
  {
   "cell_type": "markdown",
   "id": "6bdbb2e1-8d0d-44e1-babe-98cc4c671060",
   "metadata": {},
   "source": [
    "## Doing the same process for every state instead of just California"
   ]
  },
  {
   "cell_type": "code",
   "execution_count": 19,
   "id": "b53bea78-4cb2-429e-8338-08c9a7de7bd6",
   "metadata": {},
   "outputs": [],
   "source": [
    "us_states = [\n",
    "    \"Alabama\", \"Alaska\", \"Arizona\", \"Arkansas\", \"California\", \"Colorado\",\n",
    "    \"Connecticut\", \"Delaware\", \"Florida\", \"Georgia\", \"Hawaii\", \"Idaho\",\n",
    "    \"Illinois\", \"Indiana\", \"Iowa\", \"Kansas\", \"Kentucky\", \"Louisiana\",\n",
    "    \"Maine\", \"Maryland\", \"Massachusetts\", \"Michigan\", \"Minnesota\",\n",
    "    \"Mississippi\", \"Missouri\", \"Montana\", \"Nebraska\", \"Nevada\",\n",
    "    \"New Hampshire\", \"New Jersey\", \"New Mexico\", \"New York\", \"North Carolina\",\n",
    "    \"North Dakota\", \"Ohio\", \"Oklahoma\", \"Oregon\", \"Pennsylvania\",\n",
    "    \"Rhode Island\", \"South Carolina\", \"South Dakota\", \"Tennessee\", \"Texas\",\n",
    "    \"Utah\", \"Vermont\", \"Virginia\", \"Washington\", \"West Virginia\", \"Wisconsin\",\n",
    "    \"Wyoming\"\n",
    "]"
   ]
  },
  {
   "cell_type": "code",
   "execution_count": 20,
   "id": "68eee912-a98d-4b87-b3c3-e853b539c48d",
   "metadata": {},
   "outputs": [
    {
     "name": "stdout",
     "output_type": "stream",
     "text": [
      "Hawaii\n"
     ]
    }
   ],
   "source": [
    "full_geodataframe = gpd.GeoDataFrame()\n",
    "\n",
    "for state in us_states:\n",
    "    overpass_query = f'[out:json][timeout:3000];area[\"name\"=\"{state}\"]->.searchArea;(way[\"railway\"=\"rail\"][\"maxspeed\"](area.searchArea););out body geom;'\n",
    "\n",
    "    response = requests.get(overpass_url, params={\"data\": overpass_query})\n",
    "    data = response.json()\n",
    "\n",
    "    rail_features = []\n",
    "\n",
    "    for element in data[\"elements\"]:\n",
    "        if element[\"type\"] == \"way\" and \"geometry\" in element:\n",
    "            coordinates = [(point[\"lon\"], point[\"lat\"]) for point in element[\"geometry\"]]\n",
    "            geometry = LineString(coordinates)\n",
    "            maxspeed = element[\"tags\"].get(\"maxspeed\", None)  # Extract maxspeed\n",
    "            if maxspeed is not None:\n",
    "                rail_features.append({\"geometry\": geometry, \"maxspeed\": maxspeed})\n",
    "\n",
    "    try:\n",
    "        gdf = gpd.GeoDataFrame(rail_features, crs=\"EPSG:4326\")\n",
    "        full_geodataframe = pd.concat([full_geodataframe, gdf], ignore_index=True)\n",
    "    except:\n",
    "        print(state)  # prints the states that didn't have data/failed\n",
    "\n",
    "    "
   ]
  },
  {
   "cell_type": "code",
   "execution_count": 21,
   "id": "e165f1b3-4905-421a-afcf-92ed4b81023e",
   "metadata": {},
   "outputs": [],
   "source": [
    "full_geodataframe[\"maxspeed_mph\"] = full_geodataframe[\"maxspeed\"].apply(parse_maxspeed)"
   ]
  },
  {
   "cell_type": "code",
   "execution_count": 22,
   "id": "59558014-8e04-4aaf-b640-832dcf7334d2",
   "metadata": {},
   "outputs": [],
   "source": [
    "# Assign speed classes using pd.cut()\n",
    "full_geodataframe[\"class\"] = pd.cut(full_geodataframe[\"maxspeed_mph\"], bins=bins, labels=labels, right=True, include_lowest=True)"
   ]
  },
  {
   "cell_type": "code",
   "execution_count": 24,
   "id": "9cbdeb92-0bc6-48dc-bf04-ab0ef42380ac",
   "metadata": {},
   "outputs": [
    {
     "data": {
      "text/html": [
       "<div>\n",
       "<style scoped>\n",
       "    .dataframe tbody tr th:only-of-type {\n",
       "        vertical-align: middle;\n",
       "    }\n",
       "\n",
       "    .dataframe tbody tr th {\n",
       "        vertical-align: top;\n",
       "    }\n",
       "\n",
       "    .dataframe thead th {\n",
       "        text-align: right;\n",
       "    }\n",
       "</style>\n",
       "<table border=\"1\" class=\"dataframe\">\n",
       "  <thead>\n",
       "    <tr style=\"text-align: right;\">\n",
       "      <th></th>\n",
       "      <th>geometry</th>\n",
       "      <th>maxspeed</th>\n",
       "      <th>maxspeed_mph</th>\n",
       "      <th>class</th>\n",
       "    </tr>\n",
       "  </thead>\n",
       "  <tbody>\n",
       "    <tr>\n",
       "      <th>0</th>\n",
       "      <td>LINESTRING (-85.82936 33.62923, -85.82924 33.6...</td>\n",
       "      <td>30 mph</td>\n",
       "      <td>30.0</td>\n",
       "      <td>class 3</td>\n",
       "    </tr>\n",
       "    <tr>\n",
       "      <th>1</th>\n",
       "      <td>LINESTRING (-85.85396 33.65499, -85.85417 33.6...</td>\n",
       "      <td>10 mph</td>\n",
       "      <td>10.0</td>\n",
       "      <td>class 1</td>\n",
       "    </tr>\n",
       "    <tr>\n",
       "      <th>2</th>\n",
       "      <td>LINESTRING (-85.85662 33.65240, -85.85663 33.6...</td>\n",
       "      <td>10 mph</td>\n",
       "      <td>10.0</td>\n",
       "      <td>class 1</td>\n",
       "    </tr>\n",
       "    <tr>\n",
       "      <th>3</th>\n",
       "      <td>LINESTRING (-87.26035 30.99914, -87.26000 30.9...</td>\n",
       "      <td>20 mph</td>\n",
       "      <td>20.0</td>\n",
       "      <td>class 2</td>\n",
       "    </tr>\n",
       "    <tr>\n",
       "      <th>4</th>\n",
       "      <td>LINESTRING (-86.32534 32.37672, -86.32562 32.3...</td>\n",
       "      <td>50 mph</td>\n",
       "      <td>50.0</td>\n",
       "      <td>class 4</td>\n",
       "    </tr>\n",
       "    <tr>\n",
       "      <th>...</th>\n",
       "      <td>...</td>\n",
       "      <td>...</td>\n",
       "      <td>...</td>\n",
       "      <td>...</td>\n",
       "    </tr>\n",
       "    <tr>\n",
       "      <th>117960</th>\n",
       "      <td>LINESTRING (-105.22012 41.51903, -105.22029 41...</td>\n",
       "      <td>30 mph</td>\n",
       "      <td>30.0</td>\n",
       "      <td>class 3</td>\n",
       "    </tr>\n",
       "    <tr>\n",
       "      <th>117961</th>\n",
       "      <td>LINESTRING (-109.07755 41.62395, -109.08334 41...</td>\n",
       "      <td>79 mph</td>\n",
       "      <td>79.0</td>\n",
       "      <td>class 5</td>\n",
       "    </tr>\n",
       "    <tr>\n",
       "      <th>117962</th>\n",
       "      <td>LINESTRING (-109.13356 41.60695, -109.13367 41...</td>\n",
       "      <td>79 mph</td>\n",
       "      <td>79.0</td>\n",
       "      <td>class 5</td>\n",
       "    </tr>\n",
       "    <tr>\n",
       "      <th>117963</th>\n",
       "      <td>LINESTRING (-109.19616 41.59192, -109.19538 41...</td>\n",
       "      <td>79 mph</td>\n",
       "      <td>79.0</td>\n",
       "      <td>class 5</td>\n",
       "    </tr>\n",
       "    <tr>\n",
       "      <th>117964</th>\n",
       "      <td>LINESTRING (-109.13365 41.60688, -109.13355 41...</td>\n",
       "      <td>79 mph</td>\n",
       "      <td>79.0</td>\n",
       "      <td>class 5</td>\n",
       "    </tr>\n",
       "  </tbody>\n",
       "</table>\n",
       "<p>117965 rows × 4 columns</p>\n",
       "</div>"
      ],
      "text/plain": [
       "                                                 geometry maxspeed  \\\n",
       "0       LINESTRING (-85.82936 33.62923, -85.82924 33.6...   30 mph   \n",
       "1       LINESTRING (-85.85396 33.65499, -85.85417 33.6...   10 mph   \n",
       "2       LINESTRING (-85.85662 33.65240, -85.85663 33.6...   10 mph   \n",
       "3       LINESTRING (-87.26035 30.99914, -87.26000 30.9...   20 mph   \n",
       "4       LINESTRING (-86.32534 32.37672, -86.32562 32.3...   50 mph   \n",
       "...                                                   ...      ...   \n",
       "117960  LINESTRING (-105.22012 41.51903, -105.22029 41...   30 mph   \n",
       "117961  LINESTRING (-109.07755 41.62395, -109.08334 41...   79 mph   \n",
       "117962  LINESTRING (-109.13356 41.60695, -109.13367 41...   79 mph   \n",
       "117963  LINESTRING (-109.19616 41.59192, -109.19538 41...   79 mph   \n",
       "117964  LINESTRING (-109.13365 41.60688, -109.13355 41...   79 mph   \n",
       "\n",
       "        maxspeed_mph    class  \n",
       "0               30.0  class 3  \n",
       "1               10.0  class 1  \n",
       "2               10.0  class 1  \n",
       "3               20.0  class 2  \n",
       "4               50.0  class 4  \n",
       "...              ...      ...  \n",
       "117960          30.0  class 3  \n",
       "117961          79.0  class 5  \n",
       "117962          79.0  class 5  \n",
       "117963          79.0  class 5  \n",
       "117964          79.0  class 5  \n",
       "\n",
       "[117965 rows x 4 columns]"
      ]
     },
     "execution_count": 24,
     "metadata": {},
     "output_type": "execute_result"
    }
   ],
   "source": [
    "full_geodataframe"
   ]
  },
  {
   "cell_type": "code",
   "execution_count": 26,
   "id": "dd7e412b-5be3-4347-8d95-58582b5ea487",
   "metadata": {},
   "outputs": [],
   "source": [
    "full_geodataframe = full_geodataframe.to_crs(\"EPSG:5070\")\n",
    "full_geodataframe[\"length_miles\"] = full_geodataframe[\"geometry\"].length * (0.000621371)  # Convert meters to miles"
   ]
  },
  {
   "cell_type": "code",
   "execution_count": 35,
   "id": "4c1f1778-bff4-40e0-871e-3fc0034dd5c4",
   "metadata": {},
   "outputs": [],
   "source": [
    "# Group by speed class and calculate total miles in each class\n",
    "class_totals = full_geodataframe.groupby(\"class\", observed=False)[\"length_miles\"].sum().reset_index()"
   ]
  },
  {
   "cell_type": "code",
   "execution_count": 36,
   "id": "33e23f32-909b-4530-b8bf-5f2271aa56ad",
   "metadata": {},
   "outputs": [],
   "source": [
    "# Calculate percentage of the total\n",
    "total_miles = class_totals[\"length_miles\"].sum()\n",
    "class_totals[\"percentage\"] = (class_totals[\"length_miles\"] / total_miles) * 100"
   ]
  },
  {
   "cell_type": "code",
   "execution_count": 37,
   "id": "37ec9f75-0cef-42dd-b566-b58193ac9dd0",
   "metadata": {},
   "outputs": [
    {
     "data": {
      "image/png": "[encoded data removed]",
      "text/plain": [
       "<Figure size 1000x600 with 2 Axes>"
      ]
     },
     "metadata": {},
     "output_type": "display_data"
    }
   ],
   "source": [
    "# Plot the results\n",
    "fig, ax1 = plt.subplots(figsize=(10, 6))\n",
    "\n",
    "# Bar plot: Total miles per class\n",
    "ax1.bar(class_totals[\"class\"], class_totals[\"length_miles\"], color=\"skyblue\", label=\"Total Miles\")\n",
    "ax1.set_xlabel(\"Track Speed Classes\", fontsize=12)\n",
    "ax1.set_ylabel(\"Total Miles\", fontsize=12)\n",
    "ax1.set_title(\"Total Miles and Percentage by Track Speed Classes\", fontsize=14)\n",
    "ax1.tick_params(axis=\"y\", labelcolor=\"blue\")\n",
    "\n",
    "# Secondary y-axis: Percentage\n",
    "ax2 = ax1.twinx()\n",
    "ax2.plot(class_totals[\"class\"], class_totals[\"percentage\"], color=\"orange\", marker=\"o\", label=\"Percentage\")\n",
    "ax2.set_ylabel(\"Percentage of Total\", fontsize=12)\n",
    "ax2.tick_params(axis=\"y\", labelcolor=\"orange\")\n",
    "\n",
    "# Add data labels on top of the bars\n",
    "for i, row in class_totals.iterrows():\n",
    "    ax1.text(row[\"class\"], row[\"length_miles\"] + 1, f'{row[\"length_miles\"]:.2f} mi', ha=\"center\", fontsize=10)\n",
    "    ax2.text(row[\"class\"], row[\"percentage\"] + 1, f'{row[\"percentage\"]:.1f}%', ha=\"center\", fontsize=10, color=\"orange\")\n",
    "\n",
    "# Legends\n",
    "ax1.legend(loc=\"upper left\")\n",
    "ax2.legend(loc=\"upper right\")\n",
    "\n",
    "plt.tight_layout()\n",
    "plt.show()"
   ]
  },
  {
   "cell_type": "code",
   "execution_count": 38,
   "id": "f6c73fc3-64fb-4dce-9c1c-f577ece23434",
   "metadata": {},
   "outputs": [
    {
     "data": {
      "text/plain": [
       "np.float64(97086.90348641116)"
      ]
     },
     "execution_count": 38,
     "metadata": {},
     "output_type": "execute_result"
    }
   ],
   "source": [
    "total_length = full_geodataframe[\"length_miles\"].sum()\n",
    "total_length"
   ]
  },
  {
   "cell_type": "markdown",
   "id": "4e86ec8d-465c-4c32-88d3-a0a3bfea575a",
   "metadata": {},
   "source": [
    "Total rail miles in the US ~ 150000"
   ]
  },
  {
   "cell_type": "code",
   "execution_count": 39,
   "id": "820c07fa-53aa-44c9-bd0a-32fb0c4cdc47",
   "metadata": {},
   "outputs": [
    {
     "data": {
      "text/plain": [
       "52914"
      ]
     },
     "execution_count": 39,
     "metadata": {},
     "output_type": "execute_result"
    }
   ],
   "source": [
    "150000 - 97086"
   ]
  },
  {
   "cell_type": "code",
   "execution_count": 40,
   "id": "6157bd34-75a3-4201-a35b-b8967db3825b",
   "metadata": {},
   "outputs": [
    {
     "data": {
      "text/plain": [
       "0.35276"
      ]
     },
     "execution_count": 40,
     "metadata": {},
     "output_type": "execute_result"
    }
   ],
   "source": [
    "52914 / 150000"
   ]
  },
  {
   "cell_type": "code",
   "execution_count": 42,
   "id": "39190940-483a-400e-a01e-5e944a1ae9f2",
   "metadata": {},
   "outputs": [
    {
     "data": {
      "text/html": [
       "<div>\n",
       "<style scoped>\n",
       "    .dataframe tbody tr th:only-of-type {\n",
       "        vertical-align: middle;\n",
       "    }\n",
       "\n",
       "    .dataframe tbody tr th {\n",
       "        vertical-align: top;\n",
       "    }\n",
       "\n",
       "    .dataframe thead th {\n",
       "        text-align: right;\n",
       "    }\n",
       "</style>\n",
       "<table border=\"1\" class=\"dataframe\">\n",
       "  <thead>\n",
       "    <tr style=\"text-align: right;\">\n",
       "      <th></th>\n",
       "      <th>geometry</th>\n",
       "      <th>maxspeed</th>\n",
       "      <th>maxspeed_mph</th>\n",
       "      <th>class</th>\n",
       "      <th>length_miles</th>\n",
       "    </tr>\n",
       "  </thead>\n",
       "  <tbody>\n",
       "    <tr>\n",
       "      <th>991</th>\n",
       "      <td>LINESTRING (898653.350 1168025.085, 898713.410...</td>\n",
       "      <td>2015 mph</td>\n",
       "      <td>2015.0</td>\n",
       "      <td>NaN</td>\n",
       "      <td>0.350105</td>\n",
       "    </tr>\n",
       "    <tr>\n",
       "      <th>992</th>\n",
       "      <td>LINESTRING (899242.108 1168094.553, 899193.653...</td>\n",
       "      <td>2015 mph</td>\n",
       "      <td>2015.0</td>\n",
       "      <td>NaN</td>\n",
       "      <td>0.388571</td>\n",
       "    </tr>\n",
       "    <tr>\n",
       "      <th>17813</th>\n",
       "      <td>LINESTRING (-721184.557 1745109.514, -721229.1...</td>\n",
       "      <td>165 mph</td>\n",
       "      <td>165.0</td>\n",
       "      <td>class 9</td>\n",
       "      <td>8.324207</td>\n",
       "    </tr>\n",
       "    <tr>\n",
       "      <th>19716</th>\n",
       "      <td>LINESTRING (-716332.567 1742737.441, -716268.1...</td>\n",
       "      <td>165 mph</td>\n",
       "      <td>165.0</td>\n",
       "      <td>class 9</td>\n",
       "      <td>5.165228</td>\n",
       "    </tr>\n",
       "  </tbody>\n",
       "</table>\n",
       "</div>"
      ],
      "text/plain": [
       "                                                geometry  maxspeed  \\\n",
       "991    LINESTRING (898653.350 1168025.085, 898713.410...  2015 mph   \n",
       "992    LINESTRING (899242.108 1168094.553, 899193.653...  2015 mph   \n",
       "17813  LINESTRING (-721184.557 1745109.514, -721229.1...   165 mph   \n",
       "19716  LINESTRING (-716332.567 1742737.441, -716268.1...   165 mph   \n",
       "\n",
       "       maxspeed_mph    class  length_miles  \n",
       "991          2015.0      NaN      0.350105  \n",
       "992          2015.0      NaN      0.388571  \n",
       "17813         165.0  class 9      8.324207  \n",
       "19716         165.0  class 9      5.165228  "
      ]
     },
     "execution_count": 42,
     "metadata": {},
     "output_type": "execute_result"
    }
   ],
   "source": [
    "full_geodataframe[full_geodataframe['maxspeed_mph'] > 150]"
   ]
  },
  {
   "cell_type": "code",
   "execution_count": 77,
   "id": "4b2b9e78-8614-4f5e-b8ec-176e7da79b28",
   "metadata": {},
   "outputs": [],
   "source": [
    "full_geodataframe = full_geodataframe.to_crs(\"EPSG:4326\")"
   ]
  },
  {
   "cell_type": "code",
   "execution_count": 78,
   "id": "5795f5f1-75d7-4cad-9619-d1ab9119337f",
   "metadata": {},
   "outputs": [
    {
     "data": {
      "text/plain": [
       "-104.33796168479839"
      ]
     },
     "execution_count": 78,
     "metadata": {},
     "output_type": "execute_result"
    }
   ],
   "source": [
    "full_geodataframe.loc[17813].geometry.centroid.x"
   ]
  },
  {
   "cell_type": "code",
   "execution_count": 81,
   "id": "f42f781a-5f81-4c71-98e8-48cc88d8be23",
   "metadata": {},
   "outputs": [
    {
     "data": {
      "text/html": [
       "<div style=\"width:100%;\"><div style=\"position:relative;width:100%;height:0;padding-bottom:60%;\"><span style=\"color:#565656\">Make this Notebook Trusted to load map: File -> Trust Notebook</span><iframe srcdoc=\"&lt;!DOCTYPE html&gt;\n",
       "&lt;html&gt;\n",
       "&lt;head&gt;\n",
       "    \n",
       "    &lt;meta http-equiv=&quot;content-type&quot; content=&quot;text/html; charset=UTF-8&quot; /&gt;\n",
       "    \n",
       "        &lt;script&gt;\n",
       "            L_NO_TOUCH = false;\n",
       "            L_DISABLE_3D = false;\n",
       "        &lt;/script&gt;\n",
       "    \n",
       "    &lt;style&gt;html, body {width: 100%;height: 100%;margin: 0;padding: 0;}&lt;/style&gt;\n",
       "    &lt;style&gt;#map {position:absolute;top:0;bottom:0;right:0;left:0;}&lt;/style&gt;\n",
       "    &lt;script src=&quot;https://cdn.jsdelivr.net/npm/leaflet@1.9.3/dist/leaflet.js&quot;&gt;&lt;/script&gt;\n",
       "    &lt;script src=&quot;https://code.jquery.com/jquery-3.7.1.min.js&quot;&gt;&lt;/script&gt;\n",
       "    &lt;script src=&quot;https://cdn.jsdelivr.net/npm/bootstrap@5.2.2/dist/js/bootstrap.bundle.min.js&quot;&gt;&lt;/script&gt;\n",
       "    &lt;script src=&quot;https://cdnjs.cloudflare.com/ajax/libs/Leaflet.awesome-markers/2.0.2/leaflet.awesome-markers.js&quot;&gt;&lt;/script&gt;\n",
       "    &lt;link rel=&quot;stylesheet&quot; href=&quot;https://cdn.jsdelivr.net/npm/leaflet@1.9.3/dist/leaflet.css&quot;/&gt;\n",
       "    &lt;link rel=&quot;stylesheet&quot; href=&quot;https://cdn.jsdelivr.net/npm/bootstrap@5.2.2/dist/css/bootstrap.min.css&quot;/&gt;\n",
       "    &lt;link rel=&quot;stylesheet&quot; href=&quot;https://netdna.bootstrapcdn.com/bootstrap/3.0.0/css/bootstrap-glyphicons.css&quot;/&gt;\n",
       "    &lt;link rel=&quot;stylesheet&quot; href=&quot;https://cdn.jsdelivr.net/npm/@fortawesome/fontawesome-free@6.2.0/css/all.min.css&quot;/&gt;\n",
       "    &lt;link rel=&quot;stylesheet&quot; href=&quot;https://cdnjs.cloudflare.com/ajax/libs/Leaflet.awesome-markers/2.0.2/leaflet.awesome-markers.css&quot;/&gt;\n",
       "    &lt;link rel=&quot;stylesheet&quot; href=&quot;https://cdn.jsdelivr.net/gh/python-visualization/folium/folium/templates/leaflet.awesome.rotate.min.css&quot;/&gt;\n",
       "    \n",
       "            &lt;meta name=&quot;viewport&quot; content=&quot;width=device-width,\n",
       "                initial-scale=1.0, maximum-scale=1.0, user-scalable=no&quot; /&gt;\n",
       "            &lt;style&gt;\n",
       "                #map_c0279a5ac449df557c623018efcd2476 {\n",
       "                    position: relative;\n",
       "                    width: 100.0%;\n",
       "                    height: 100.0%;\n",
       "                    left: 0.0%;\n",
       "                    top: 0.0%;\n",
       "                }\n",
       "                .leaflet-container { font-size: 1rem; }\n",
       "            &lt;/style&gt;\n",
       "        \n",
       "&lt;/head&gt;\n",
       "&lt;body&gt;\n",
       "    \n",
       "    \n",
       "            &lt;div class=&quot;folium-map&quot; id=&quot;map_c0279a5ac449df557c623018efcd2476&quot; &gt;&lt;/div&gt;\n",
       "        \n",
       "&lt;/body&gt;\n",
       "&lt;script&gt;\n",
       "    \n",
       "    \n",
       "            var map_c0279a5ac449df557c623018efcd2476 = L.map(\n",
       "                &quot;map_c0279a5ac449df557c623018efcd2476&quot;,\n",
       "                {\n",
       "                    center: [38.45680427742523, -104.3167643438086],\n",
       "                    crs: L.CRS.EPSG3857,\n",
       "                    ...{\n",
       "  &quot;zoom&quot;: 12,\n",
       "  &quot;zoomControl&quot;: true,\n",
       "  &quot;preferCanvas&quot;: false,\n",
       "}\n",
       "\n",
       "                }\n",
       "            );\n",
       "\n",
       "            \n",
       "\n",
       "        \n",
       "    \n",
       "            var tile_layer_1f8c67573eefc77b902d4ef2c8edc6c9 = L.tileLayer(\n",
       "                &quot;https://tile.openstreetmap.org/{z}/{x}/{y}.png&quot;,\n",
       "                {\n",
       "  &quot;minZoom&quot;: 0,\n",
       "  &quot;maxZoom&quot;: 19,\n",
       "  &quot;maxNativeZoom&quot;: 19,\n",
       "  &quot;noWrap&quot;: false,\n",
       "  &quot;attribution&quot;: &quot;\\u0026copy; \\u003ca href=\\&quot;https://www.openstreetmap.org/copyright\\&quot;\\u003eOpenStreetMap\\u003c/a\\u003e contributors&quot;,\n",
       "  &quot;subdomains&quot;: &quot;abc&quot;,\n",
       "  &quot;detectRetina&quot;: false,\n",
       "  &quot;tms&quot;: false,\n",
       "  &quot;opacity&quot;: 1,\n",
       "}\n",
       "\n",
       "            );\n",
       "        \n",
       "    \n",
       "            tile_layer_1f8c67573eefc77b902d4ef2c8edc6c9.addTo(map_c0279a5ac449df557c623018efcd2476);\n",
       "        \n",
       "    \n",
       "\n",
       "        function geo_json_5d8a63cb74b23c733c7aff239af4c5e6_onEachFeature(feature, layer) {\n",
       "            layer.on({\n",
       "            });\n",
       "        };\n",
       "        var geo_json_5d8a63cb74b23c733c7aff239af4c5e6 = L.geoJson(null, {\n",
       "                onEachFeature: geo_json_5d8a63cb74b23c733c7aff239af4c5e6_onEachFeature,\n",
       "            \n",
       "            ...{\n",
       "}\n",
       "        });\n",
       "\n",
       "        function geo_json_5d8a63cb74b23c733c7aff239af4c5e6_add (data) {\n",
       "            geo_json_5d8a63cb74b23c733c7aff239af4c5e6\n",
       "                .addData(data);\n",
       "        }\n",
       "            geo_json_5d8a63cb74b23c733c7aff239af4c5e6_add({&quot;coordinates&quot;: [[-104.2947424, 38.4338765], [-104.2946607, 38.4397461], [-104.2945635, 38.44470419999998], [-104.2945647, 38.444851300000025], [-104.2945584, 38.44522530000001], [-104.2945176, 38.44698949999996], [-104.294542, 38.448008900000026], [-104.294562, 38.44836359999997], [-104.294593, 38.448815099999955], [-104.294658, 38.449392100000026], [-104.2947505, 38.45001939999999], [-104.2947894, 38.45022640000006], [-104.2948107, 38.4503398], [-104.29492150000002, 38.45084390000001], [-104.295061, 38.45138879999997], [-104.2951113, 38.451559600000046], [-104.2953452, 38.45232950000001], [-104.296094, 38.454153399999996], [-104.2969669, 38.45579440000001], [-104.2974392, 38.45642709999996], [-104.2984317, 38.45777599999999], [-104.3003635, 38.45983359999998], [-104.30219750000002, 38.46125259999998], [-104.3039435, 38.46241959999997], [-104.3059525, 38.463518600000036], [-104.3079605, 38.4643886], [-104.3099264, 38.465055800000016], [-104.3123424, 38.46565180000002], [-104.3146724, 38.46606380000001], [-104.3159024, 38.46619830000005], [-104.3170894, 38.46629279999996], [-104.3185437, 38.46629960000001], [-104.3197346, 38.466278600000024], [-104.3212956, 38.46615679999998], [-104.3228752, 38.46598539999998], [-104.3247033, 38.465689699999984], [-104.3270903, 38.465071699999996], [-104.3289823, 38.464430700000015], [-104.3308163, 38.46360670000001], [-104.332846, 38.46267000000002], [-104.335437, 38.46090699999999], [-104.338078, 38.45864349999999], [-104.3390528, 38.4578593], [-104.3399137, 38.457239500000014], [-104.3404342, 38.45692729999996], [-104.3412327, 38.456468700000016], [-104.3423036, 38.455919399999985], [-104.3447561, 38.454816199999975], [-104.3467779, 38.4539549], [-104.3500924, 38.45251290000004], [-104.3529479, 38.451213500000016]], &quot;type&quot;: &quot;LineString&quot;});\n",
       "        geo_json_5d8a63cb74b23c733c7aff239af4c5e6.setStyle(function(feature) {return feature.properties.style;});\n",
       "\n",
       "        \n",
       "    \n",
       "            geo_json_5d8a63cb74b23c733c7aff239af4c5e6.addTo(map_c0279a5ac449df557c623018efcd2476);\n",
       "        \n",
       "&lt;/script&gt;\n",
       "&lt;/html&gt;\" style=\"position:absolute;width:100%;height:100%;left:0;top:0;border:none !important;\" allowfullscreen webkitallowfullscreen mozallowfullscreen></iframe></div></div>"
      ],
      "text/plain": [
       "<folium.folium.Map at 0x18777e80410>"
      ]
     },
     "execution_count": 81,
     "metadata": {},
     "output_type": "execute_result"
    }
   ],
   "source": [
    "m = folium.Map(\n",
    "    location=[full_geodataframe.loc[19716].geometry.centroid.y, full_geodataframe.loc[19716].geometry.centroid.x],\n",
    "    zoom_start=12).add_child(folium.GeoJson(data=full_geodataframe.loc[19716].geometry))\n",
    "m"
   ]
  },
  {
   "cell_type": "code",
   "execution_count": null,
   "id": "ac5a4247-8b95-4785-b3db-dc86264aafa7",
   "metadata": {},
   "outputs": [],
   "source": []
  },
  {
   "cell_type": "code",
   "execution_count": null,
   "id": "7eae8ce6-7e4b-458f-bd10-b74cb6cffa6a",
   "metadata": {},
   "outputs": [],
   "source": []
  }
 ],
 "metadata": {
  "kernelspec": {
   "display_name": "Python 3 (ipykernel)",
   "language": "python",
   "name": "python3"
  },
  "language_info": {
   "codemirror_mode": {
    "name": "ipython",
    "version": 3
   },
   "file_extension": ".py",
   "mimetype": "text/x-python",
   "name": "python",
   "nbconvert_exporter": "python",
   "pygments_lexer": "ipython3",
   "version": "3.12.6"
  }
 },
 "nbformat": 4,
 "nbformat_minor": 5
}
