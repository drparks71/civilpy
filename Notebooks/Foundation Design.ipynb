{
 "cells": [
  {
   "cell_type": "markdown",
   "id": "36733b63-09b4-470a-b73c-ba440cb88e47",
   "metadata": {},
   "source": [
    "<center><font size=\"+10\">Foundation Design</font></center>\n",
    "<center>Notes based on the book of the same name by Wayne C Teng (1962)</center>"
   ]
  },
  {
   "cell_type": "markdown",
   "id": "4f52d2b3-a26b-4803-81cd-98d6aac8961c",
   "metadata": {},
   "source": [
    "# TOC\n",
    "14 Chapters divided into 3 Parts\n",
    "\n",
    "Part 1 - [General Principles](#Part1)\n",
    "\n",
    "   1.  [Soils Rocks and Soil Moisture](#1)\n",
    "   2.  [Soil Exploration](#2)\n",
    "   3.  [Loads, Bearing Capacity and Settlement](#3)\n",
    "   4.  [Lateral Presures](#4)\n",
    "   5.  [Foundation Drainage and Waterproofing](#5)\n",
    "\n",
    "Part 2 - [Foundations](#Part2)\n",
    "<!-- # //TODO - Jupyter resets the chapter numbering when H1 tags are ignored in auto numbering -->\n",
    "   6.  [Spread Footings](#6)\n",
    "   7.  [Strap Footings, Combined Footings and Mat Foundations](#7)\n",
    "   8.  [Pile Foundations](#8)\n",
    "   9.  [Drilled Caissons](#9)\n",
    "   10.  [Caissons](#10)  \n",
    "\n",
    "Part 3 - [Retaining Structures](#Part3)\n",
    "\n",
    "   11. [Retaining Walls](#11)\n",
    "   12. [Sheetpiling Walls](#12)\n",
    "   13. [Braced Cofferdams](#13)\n",
    "   14. [Cellular Cofferdams](#14)\n",
    "\n",
    "[Appendix](#Appendix)  \n",
    "[Geophysical Maps of Continental USA](#Maps)  \n",
    "[References](#Refs)  \n",
    "[Author Index](#Auths)  \n",
    "[Index](#Index)  "
   ]
  },
  {
   "cell_type": "markdown",
   "id": "2bfeee89-04a3-46b8-ac21-7f9829ceecac",
   "metadata": {},
   "source": [
    "<a id=Part1></a>\n",
    "# Part 1"
   ]
  },
  {
   "cell_type": "markdown",
   "id": "6963deb9-ab80-40e8-b6d8-8eaa95389c8f",
   "metadata": {},
   "source": [
    "<a id=1></a>\n",
    "## Soils Rocks and Soil Moisture"
   ]
  },
  {
   "cell_type": "markdown",
   "id": "b5e57c4d-c5f7-4914-a4ac-6c4ee883b236",
   "metadata": {},
   "source": [
    "### Components of Soils\n",
    "\n",
    "3 components - Air, Water and Solids\n",
    "\n",
    "1. Air content has little engineering significance - usually not determined\n",
    "2. Water content is the ratio of weight of water and weight of solids (oven-dried), this does influence engineering properties of soils\n",
    "3. Solid is primarily composed of mineral aggregates (soil grains). In some cases, there's also organic material THe mineral aggregates are derived from rocks as a result of rock weathering\n",
    "\n",
    "The intergranular space occupied by air and water is known as a void. The amount of voids in a soil are described by it's void ratio, which is the ratio between the volume of voids and volume of solid matter. Porosity (percentage of voids) is also used. Porosity represents the ratio between the volume of voids and the total volume including solid matter and voids. Soils having excessive amount of voids are weak compressible and pervious.\n",
    "\n",
    "The relative amount of water in voids is defined by degree of saturation, the ratio between the volume of water and the volume of voids. A fully saturated or 100% saturated soil is one where all the voids are filled with water."
   ]
  },
  {
   "cell_type": "markdown",
   "id": "90f3f9e8-8952-4bb2-98c8-deccb31c3be8",
   "metadata": {},
   "source": [
    "### Relationships between Void Ratio, Water Content and Unit Weight\n",
    "\n",
    "Equations relating the void ratio, water content, unit weight and other terms are very useful. In practice, you'll have to use these values to compute one if the others are known. These relationships can be readily derived by definition of the terms. Notations to be used are as follows:\n",
    "\n",
    "$ e $ = void ratio = volume of voids / volume of solid matter, expressed as a decimal;  \n",
    "$ G $ = specific gravit of solid matter = 2.65 (average for common soil minerals);  \n",
    "$ n $ = porosity volume of voids/total volume, expressed as a decimal;  \n",
    "$ w $ = water content = weight of water/weight of solid matter, expressed as a percentage;  \n",
    "$ V $ = volume of soil sample;  \n",
    "$ V_v $ = volume of voids in the soil sample;  \n",
    "$ V_s $ = volume of solid matter in the soil sample;  \n",
    "$ S $ = degree of saturation = volume of water/volume of voids, expressed as a percentage;  \n",
    "$ \\gamma_b $ = bulk unit weight = unit weight of soil plus the weight of water in the voids;  \n",
    "$ \\gamma_s $ = saturated unit weight of soil if water fills up all the voids;  \n",
    "$ \\gamma_d $ = dry unit weight = unit weight of oven-dried sample;  \n",
    "$ \\gamma_w $ = unit weight of water = 1 g/cc = 62.5 pcf (65 pcf for sea water);  \n",
    "$ \\gamma_G $ = unit weight of solid matter = $ G\\gamma_w $ ;  \n",
    "$ \\gamma' $ = buoyant weight, also known as effective weight, $ \\gamma_e $ = $ \\gamma_s - \\gamma_w $.\n",
    "\n",
    "By definintion, \n",
    "\n",
    "$$ e = \\frac{V_v}{V_s} = \\frac{V_v}{V-V_v} = \\frac{V_v/V}{1-V_v/V} $$\n",
    "\n",
    "$$ n = \\frac{V_v}{V} $$\n",
    "\n",
    "Therefore,\n",
    "\n",
    "$$ e = \\frac{n}{1-n} \\tag{1-1a} $$\n",
    "\n",
    "$$ n = \\frac{e}{1+e} \\tag{1-1b} $$\n",
    "\n",
    "Referring to [Fig. 1-1](#Fig1-1), if the volume of solid matter is unity, the volume of air plus water is e by definition. The total volume of the sample is then 1 + e.\n",
    "\n",
    "<a id=Fig1-1></a>\n",
    "<center><img src=\"res/imgs/Foundation_Design/components_of_soil.jpg\"></center>\n",
    "<center><b>Fig. 1-1</b> Components of soil</center>\n",
    "\n",
    "The weight of the solid matter is equal to the volume of the solid matter x specific gravity x unit weight of water = $ 1 \\times G \\times \\gamma_w = G \\gamma_w $ . By the same Reasoning, the weight of water in the sample equals $ eS\\gamma_w $ .\n",
    "\n",
    "By definition again, water content is equal tot he weight of water divided by the weight of solid matter. If the weight of solid matter is $ G\\gamma_w $ it follows that teh weight of water is $ wG\\gamma_w $ . From this, the following equations are derived.\n",
    "\n",
    "$$ eS = wG \\tag{1-2} $$\n",
    "\n",
    "$$ \n",
    "\\begin{align}\n",
    "\\text{Bulk unit weight}\\quad \\gamma_b &= \\frac{eS+G}{1+e}\\gamma_w \\tag{1-3} \\\\ \n",
    "&= \\frac{1+w}{1+3}G\\gamma_w \\tag{1-4} \n",
    "\\end{align} \n",
    "$$\n",
    "\n",
    "$$\n",
    "\\text{Dry unit weight}\\qquad \\gamma_d = \\frac{G \\gamma_w}{1+e} \\tag{1-5}\n",
    "$$\n",
    "\n",
    "$$\n",
    "\\begin{align}\n",
    "\\text{Saturated unit weight}\\qquad \\gamma_s &= \\frac{G+e}{1+e}\\gamma_w \\tag{1-6} \\\\\n",
    "&= \\gamma_d(1+w) \\tag{1-7}\n",
    "\\end{align}\n",
    "$$\n",
    "\n",
    "$$\n",
    "\\begin{align}\n",
    "\\text{Buoyant unit weight}\\qquad \\gamma' &= \\gamma_s - \\gamma_w \\\\\n",
    "&= \\frac{G - 1}{1 + e}\\gamma_w \\tag{1-8}\n",
    "\\end{align}\n",
    "$$"
   ]
  },
  {
   "cell_type": "markdown",
   "id": "282ed8c3-4167-448f-82d2-78a1b6f63c23",
   "metadata": {},
   "source": [
    "### Engineering Properties of Soils\n",
    "\n",
    "For a given engineering application, certain properties are more significant than others. The important engineering properties may be grouped into the following categories, each described in a separate section or sections.\n",
    "\n",
    "    Basic Properties:           Unit weight, void ratio, and water content (Sec. 1-1 & 1-2);  \n",
    "                                Grain size distribution (Sec. 1-4)  \n",
    "    Strength:                   Shear strength (Sec. 1-5)\n",
    "    Compressibility:            Consolidation (Sec. 3-5)\n",
    "    Seepage:                    Permeability (Sec. 1-6)\n",
    "    Compaction characteristics: (Sec. 3-9)\n",
    "\n",
    "<a id=Fig1-2></a>\n",
    "\n",
    "<center><img src=\"res/imgs/Foundation_Design/soil_chart.jpg\"></center>\n",
    "<center>Grain size classification systems</center>\n",
    "<center><img src=\"res/imgs/Foundation_Design/grain_size_distribution.jpg\"></center>\n",
    "<center><b>Fig. 1-2</b> Grain size distribution.</center>\n",
    "\n",
    "The engineering properties pertaining specifically to granular soils, cohesive soils, silt and loess, and organic soils are discussed in Sec. 1-7 to 1-10."
   ]
  },
  {
   "cell_type": "markdown",
   "id": "18af2522-6e6f-4df2-a866-e227e781cb59",
   "metadata": {},
   "source": [
    "### Grain Size of Soils\n",
    "\n",
    "A soil may contain various sizes of grains ranging from large boulders, gravel, and sand to the size of silt, clay and colloids. The dividing lines between these size limits are arbitrary and vary with different classification systems. In the upper image of Fig 1-2, the grain size classifications used by different agencies are tabulated for ready comparison. The following ranges are typical:\n",
    "\n",
    "| Classification    | Definition                        |\n",
    "|:-----------------:|:---------------------------------:|\n",
    "| Boulders, cobbles | Greater than 3 in.                |\n",
    "| Gravel            | Retained on No. 4 or No. 10 sieve |\n",
    "| Sand              | Retained on No. 200 sieve*        |\n",
    "| Silt and clay     | Passing No. 200 sieve*            |\n",
    "\n",
    "<sub><sup>*No. 200 sieve is about the smallest particle visible to the naked eye.</sup></sub>\n",
    "\n",
    "The engineering properties of a soil depend largely on the proportion or distribution of the various grain sizes. Large grain soils possess different characteristics than silt and clayey particles. For accurate classification, the proportion of grain sizes should be determined by laboratory tests. Results of such tests are plotted on a semi-logarithmic graph as illustrated in [Fig. 1-2.](#Fig1-2) However, the approximate propotion of grain sizes can be estimated by the following methods.\n",
    "\n",
    "*Gravel vs. sand*: Gravel is larger than the size of lead in the ordinary pencil. The Exact differentiation of these two sizes is seldom important.\n",
    "\n",
    "*Sand vs. silt*: Dry samples of fine sand and silt appear like dust. They may be differentiated by dispersing a spoonful of sample ina glass of water and measuring the time required for grains to settle. Sand grains will settle in a matter of one-half to one minute, whearas silt grains tage one-quarter to one hour.\n",
    "\n",
    "*Silt vs. clay*: These two soils may be differentiated by one of the following methods:\n",
    "> *Dispersion test*: Silt particles take one-quarter to one hour to settle, whereas clay particles remain in suspension from several hours to several days.  \n",
    "\n",
    "> *Shaking test*: A spoonful of soil is mixed with water until it becomes a paste. Place it in the palm of the hand or a dish and shake it by horizontal abrupt motion. If silt particles are predominant, the sample will appear shiny.  \n",
    "\n",
    "> *Rolling test*: Only clayey soils can be rolled into thin threads (about 1/8 in. diameter) if mixed with a proper amount of water.  \n",
    "\n",
    "> *Dry strength test*: A small soil sample is thoroughly dried in an oven or in air and tested for breaking strength. If it contains no clay particles the sample breaks readily into powder.\n",
    "\n",
    "\n",
    "\n"
   ]
  },
  {
   "cell_type": "markdown",
   "id": "9677e4bb-d2d5-4b8e-9007-252cc4a58a05",
   "metadata": {},
   "source": [
    "### Shear Strength\n",
    "\n",
    "Engineering materials may be subjected to tension, compression, shear or to a combination of these. Soils and Rocks, however, are almost never required to resist tension. A compression failure of a mass of soil or rock, in reality, is a shear failure along a certain rupture plane or zone. Therefore, the structural strength of soil and rock is basically a problem of shear strength.\n",
    "\n",
    "The shear strength of a given soil or rock may be expressed by Coulomb's equation:\n",
    "\n",
    "$$ s = c + \\sigma'f = c + \\sigma'\\tan{\\varphi} \\tag{1-9} $$\n",
    "\n",
    "where; \n",
    "\n",
    "$s$ = shear strength or shear resistance, psf;  \n",
    "$c$ = cohesion, psf;  \n",
    "$\\sigma'$ = intergranular pressure acting perpendicular to the shear plan, psf;  \n",
    "$ \\quad $ = $(\\sigma - u)$, in this case $\\sigma$ = total pressure, and $u$ = pore water pressure (Sec. 1-14);\n",
    "$ f $ = coefficient of friction;  \n",
    "$ \\varphi $ = angle of internal friction of the soil, degrees.\n",
    "\n",
    "In the preceding equation the first term $c$ represents the portion of shear strength which is independent of the normal stress. The second term represents the frictional resistance between soil grains which is approximately proportional to the normal pressure, $ \\sigma' $, on the surfaces. This equation is plotted by a graph shown in [Fig. 1-3](#Fig1-3) in which the shear strength, s, is shown on the vertical axis and the normal stress, $ \\sigma' $, on  the horizontal axis.\n",
    "\n",
    "<a id=Fig1-3></a>\n",
    "<table><tr>\n",
    "<td> <img src=\"res/imgs/Foundation_Design/shear_strength_of_soils.jpg\" alt=\"Soil Shear Strength\" style=\"width: 500px;\"/> </td>\n",
    "<td> <img src=\"res/imgs/Foundation_Design/soil_no_internal_friction_angle.png\" alt=\"Soil Shear Strength 0 Internal Friction\" style=\"width: 500px;\"/> </td>\n",
    "</tr></table>\n",
    "<center><b>Fig. 1-3</b> Shear strength of soils</center>\n",
    "\n",
    "\n",
    "Since coarse grained soil (sand and gravel) has no cohesion, it's shear strength depends solely on the internal friction between grains. This type of soil is called granular, cohesionless, noncohesive, or frictional soil. The left image of figure 1-3 shows the shear strength diagram for this type of soil. Other the other hand, soils containing large amounts of fine grains (clay, silt and colloid) are called fine-grained or cohesive soils.\n",
    "\n",
    "The shear strength of cohesive soils, as deterimined by laboratory tests, must be used with caution; a variety of changes may take place during and after construction. The shear strength should be computed should be computed for the most critical conditions which usually exist immediately after construction, or immediately upon load application. At that time, the shear strength consists of only cohesion. Therefore design procedure is known as $ \\phi = 0\\ analysis $, Fig. 1-3 right side. The validity of this assumption in practical problems has been proven by theory, experiments and experience (Skempton, 1948). As time goes on, the pore water slowly escapes from the voids. This brings about an increase in intergranular stress and consequently an increase in shear strength from $ s=c $ to $ s = c + \\sigma' tan \\phi $. This increase in shear strength introduces an increase in the factor of safety.\n",
    "\n",
    "However there are cases in which a decrease in shear strength takes place with time. Some of the factors that cause such decrease are:\n",
    "\n",
    "1. *Unloading.* When the ground is excavated and hence the load on the underlying clay is reduced, there is a tendency for the clay to swell and slowly become soft.\n",
    "\n",
    "2. *Increase in pore pressure.* Changes in ground water condition or in seepage pressure may increase the water pressure in the voids (pore pressure) which tends to reduce the intergranular pressure, $ \\sigma' $.\n",
    "\n",
    "3. *Softening of fissures.* Many stiff clays contain a network of fissures and cracks. When these clays are exposed, water enters the fissures; when these clays are subjected to lateral expansion (i.e., retaining wall moving away from backfill) due to the construction of retaining walls, the fissures open up. The water gradually softens the surfaces between fissures and causes a large reduction in shear strength. The softening process is often very slow and reduction often large. In a period of several decades the average shear strength of some stiff clays has reduced to only several hundred pounds per sq. ft.. However, a Norwegian stiff fissured clay was reduced to zero cohesion in only two months."
   ]
  },
  {
   "cell_type": "markdown",
   "id": "a00f7a12-2a12-4af8-ab23-384fe2835a39",
   "metadata": {},
   "source": [
    "### Permeability\n",
    "\n",
    "To define the state of being permeable, or the property of allowing fluids and gases to pass through a soil or rock, the term coefficient of permeability is used. Figure 1-4(a) shows schematically a soil sample submerged in water. Since both ends of the sample are subjected to an equal water head, there is no flow through the sample. However, if one end of the sample, point $a$ in Fig. 1-4(b), is subjected to a higher head than the other end, point $b$, the water flows through the sample from $a$ to $b$ at a velocity $v$:\n",
    "\n",
    "$$ v = ki \\tag{1-10} $$\n",
    "\n",
    "where: \n",
    "\n",
    "$v$ = discharge velocity = quantity of water that percolates across a unit area of the sample in a unit time;\n",
    "\n",
    "$k$ = coefficient of permeability, depending on the characteristics of the soil;\n",
    "\n",
    "$i$ = hydraulic gradient = $h/l$; $h$ being the hydraulic head; $l$, the length of the sample. \n",
    "\n",
    "<a id=Fig1-4></a>\n",
    "<table><tr>\n",
    "<td> <img src=\"res/imgs/Foundation_Design/Fig1-4a.jpg\" alt=\"constant_head_permeability\" style=\"width: 500px;\"/> </td>\n",
    "<td> <img src=\"res/imgs/Foundation_Design/Fig1-4b.jpg\" alt=\"falling_head_permeability\" style=\"width: 500px;\"/> </td>\n",
    "</tr></table>\n",
    "<center><b>Fig. 1-4</b> Schematic Diagram illustrating the seepage of water through soil.</center>\n",
    "\n",
    "The empirical equation above is known as Darcy's law. The value of k may be determined by laboratory methods or in the field by pumping tests. For ordinary foundation problems, the range of k values given by Peck, et al. (1953) may be useful.\n",
    "\n",
    "| *Type of Soil*                                                 | *Permeability, k, cm/sec*                            | *Drainage quality*   |\n",
    "|:--------------------------------------------------------------:|:----------------------------------------------------:|:--------------------:|\n",
    "| Clean gravels<br>Clean sands<br>Clean sand and gravel mixtures | $10^{2}$ to $10^{-1}$<br>1<br>$10^{-1}$ to $10^{-4}$ | $\\ $<br>Good<br>$\\ $ |\n",
    "| Very fine sands<br>Organic and inorganic silts, mixtures of<br>sand, silt and clay, clacial till, stratified<br>clay deposits | $ 10^{-5} $<br><br>$ 10^{-6} $ | $\\ $<br>Poor<br>$\\ $ |\n",
    "| Impervious soils, e.g., homogeneous clays<br>below zone of weathering | $10^{-7}$ to $10^{-9}$ | Very Poor |"
   ]
  },
  {
   "cell_type": "markdown",
   "id": "4bd1e474-ee8b-4e68-884d-965f447b2394",
   "metadata": {},
   "source": [
    "### Engineering Properties of Granular Soils\n",
    "\n",
    "Granular soils are sand, gravel, cobbles, or mixtures of them. Fine sand is an exception, because its engineering properties are on the borderline between the granular and the fine-grained soils. A granular soil has the following significant engineering properties:\n",
    "\n",
    "1. It is generally excellent foundation material for supporting structures and roads. Except for loose sand, the bearing capacity is large and the settlement is small. Settlement takes place shortly after application of load.\n",
    "2. It is the best embankment material, because it has high shear strength, it is easy to compact and it is not susceptible to frost action.\n",
    "3. It is the best backfill material for retaining walls, basement walls, etc., because it exerts small lateral pressure, it is easy to compact and it is easy to drain.\n",
    "4. It cannot be used alone in earth embankment for dikes, reservoirs, etc., because of its high permeability. An excavation in such soils below ground level requires extensive dewatering.\n",
    "5. It is prone to settlement under vibratory load\n",
    "\n",
    "The engineering properties of granular soils are largely influenced by the following factors: compactness, grain size and grain size distribution, and shapes of grains."
   ]
  },
  {
   "cell_type": "markdown",
   "id": "432ccd6e-c1af-419f-ba4e-ed60c1a61956",
   "metadata": {},
   "source": [
    "#### Compactness\n",
    "\n",
    "The shear strength and compressibility of granular soils are most intimately related to the compactness of the grains, which is described as loose, medium (firm), or dense (compact). Quantitatively, the compactness is expressed in terms of *relative density*:\n",
    "\n",
    "$$ D_d = \\frac{e_{max}-e}{e_{max}-e_{min}} \\times 100 $$\n",
    "\n",
    "or $$ D_d = \\frac{D_{max}(D-D_{min})}{D(D_{max} - D_{min})} \\times 100 $$\n",
    "\n",
    "where:\n",
    "\n",
    "$D_d$ = relative density expressed in per cent,\n",
    "\n",
    "$e_{max}$ = void ratio in loosest state\n",
    "\n",
    "$e_{min}$ = void ration in most compact state,\n",
    "\n",
    "$e$ = in-place void ratio,\n",
    "\n",
    "$D_{max}$ greatest dry density,\n",
    "\n",
    "$D_{min}$ least dry density,\n",
    "\n",
    "$D$ = in-place dry density.\n",
    "\n",
    "The compactness of a man-made fill is commonly expressed in terms of percentage of compaction. A representative soil sample is compacted in the laboratory to determine the maximum unit weight under a certain compaction procedure. If the actual in-place unit weight is equal to 95 per cent or 106 percent of the maximum weight obtained in the laboratory, the fill is said to be compacted to 95 percent or 106 percent respectively. This proceedure is discussed further in Section 3-9. It should be noted that a 100 percent compaction does not correspond to 100 percent relative density.\n",
    "\n",
    "In practice, the compactness (relative density) of soil deposits is measured by a penetration test. Several types of static and dynamic penetration tests have been developed in different countries. The one most commonly used is the so-called *standard penetration test* (Terzaghi and Peck, 1948). This test consists of counting the number of hammer blows (140 lb hammer falling 30 in.) required to drive a standard sampler (called a split spoon) to a depth of 12 in. (see Sec. 2-7). For the purpose of foundation design, the relationships shown in Table 1-1 between the relative density $D_d$, penetration resistance $N$, and the angle of friction $\\phi$ may be used.\n",
    "\n",
    "**Table 1-1** Relative Density of Granular Soils\n",
    "<a id=Table1-1></a>\n",
    "<img src=\"res/imgs/Foundation_Design/Table1-1.jpg\" alt=\"constant_head_permeability\" style=\"width: 1000px;\"/>\n",
    "<sup><sub>* Increase 5 degrees for soils containing less than 5% fine sand or silt.</sup></sub>\n",
    "\n",
    "The relationship between $\\phi$ and $D_d$ may be expressed approximately by the following equations (Meyerhof, 1956):\n",
    "\n",
    "$$ \\phi = 25 + 0.15\\ D_d $$\n",
    "\n",
    "for granular soil containing more than 5 percent fine sand and silt,\n",
    "\n",
    "$$ \\phi = 30 + 0.15\\ D_d $$\n",
    "\n",
    "for granular soil containing less than 5 percent sand and silt. In the equations above, $D_d$ is express in percent, not in decimal.\n",
    "\n",
    "It should be pointed out here also that the $\\phi$-value of granular soils and standard penetration resistance $N$ change only slightly upon saturation."
   ]
  },
  {
   "cell_type": "markdown",
   "id": "33adedc4-e546-487b-adcf-135b7e41a395",
   "metadata": {},
   "source": [
    "#### Grain size and grain size distribution\n",
    "\n",
    "Other things being equal, the shear strength of granular soils increases with the increasing size of grains. Under a shearing force the finer grains are easily rolled along, whereas the large cobbles and gravels wedge against each other.\n",
    "\n",
    "Granular soils are said to be well-graded, poorly-graded (uniform), or gap-graded, depending upon the grain-size distribution:\n",
    "\n",
    "&emsp;*Well-graded:* Containing an assortment of grain sizes ranging from coarse to fine.\n",
    "\n",
    "&emsp;*Poorly-graded* (or uniform): Containing predominantly one or two sizes.\n",
    "\n",
    "&emsp;*Gap-graded:* Containing coarse grains and fine grains but lacking inter-mediate sizes.\n",
    "\n",
    "In a well-graded soil the small grains tend to fill teh voids between the large grains, therefore the soil is generally more compact and stable, and less permeable."
   ]
  },
  {
   "cell_type": "markdown",
   "id": "ce217196-69b3-4e0d-b74d-3d69f566342a",
   "metadata": {},
   "source": [
    "#### Shapes of Grains.\n",
    "\n",
    "The shapes of sand and gravel grains can be examined by naked eye or with the aid of a magnifying glass. They are described as angular, subangular, subrounded, rounded and very rounded. Figure 1-5 illustrates these general shapes. Soils containing angular grains have $\\phi$-values several degrees larger than ones containing rounded grains.\n",
    "\n",
    "<a id=Fig1-5></a>\n",
    "<center><img src=\"res/imgs/Foundation_Design/Fig1-5.jpg\" alt=\"Grain_Sizes\" style=\"width: 500px;\"/></center>\n",
    "<center><b>Fig. 1-5</b> Grain shapes of sand and gravel.</center>"
   ]
  },
  {
   "cell_type": "markdown",
   "id": "b3e6d82a-fa7a-4b78-8843-20ffbf6979f3",
   "metadata": {},
   "source": [
    "### Engineering Properties of Cohesive Soils"
   ]
  },
  {
   "cell_type": "markdown",
   "id": "53882e31-c561-47fb-bb70-69c9b4539880",
   "metadata": {},
   "source": []
  },
  {
   "cell_type": "markdown",
   "id": "569eabe7-a097-4e49-8ab8-63acf4983496",
   "metadata": {},
   "source": [
    "<a id=2></a>\n",
    "## Soil Exploration\n"
   ]
  },
  {
   "cell_type": "markdown",
   "id": "84eaf8da-108b-4fcc-9483-0136fcbab808",
   "metadata": {},
   "source": [
    "<a id=3></a>\n",
    "## Loads, Bearing Capacity and Settlement\n"
   ]
  },
  {
   "cell_type": "markdown",
   "id": "7753dc29-a95b-40bb-b240-04c805e7ed25",
   "metadata": {},
   "source": [
    "<a id=4></a>\n",
    "## Lateral Presures\n"
   ]
  },
  {
   "cell_type": "markdown",
   "id": "3b4c08fb-5970-4877-b946-d7a5ed251d82",
   "metadata": {},
   "source": [
    "<a id=5></a>\n",
    "## Foundation Drainage and Waterproofing\n"
   ]
  },
  {
   "cell_type": "markdown",
   "id": "ced78fc8-16df-42f5-9ee3-39727d4fab4c",
   "metadata": {},
   "source": [
    "<a id=Part2></a>\n",
    "# Part 2"
   ]
  },
  {
   "cell_type": "markdown",
   "id": "8a2fb7fa-9fe5-4699-8ac6-8e0dee755543",
   "metadata": {},
   "source": [
    "<a id=6></a>\n",
    "## Spread Footings\n"
   ]
  },
  {
   "cell_type": "markdown",
   "id": "4cfa5fdb-70b2-441e-a8bf-195fc40a3cc0",
   "metadata": {},
   "source": [
    "<a id=7></a>\n",
    "## Strap Footings, Combined Footings and Mat Foundations\n"
   ]
  },
  {
   "cell_type": "markdown",
   "id": "ff61eb67-8dd3-491a-a2a1-442411370878",
   "metadata": {},
   "source": [
    "<a id=8></a>\n",
    "## Pile Foundations\n"
   ]
  },
  {
   "cell_type": "markdown",
   "id": "afd4ace4-e614-406b-abd7-5c74ae46eb65",
   "metadata": {},
   "source": [
    "<a id=9></a>\n",
    "## 9. Drilled Caissons\n"
   ]
  },
  {
   "cell_type": "markdown",
   "id": "97f63cf4-1e3d-46ec-9deb-ccdd29708524",
   "metadata": {},
   "source": [
    "<a id=10></a>\n",
    "## 10. Caissons"
   ]
  },
  {
   "cell_type": "markdown",
   "id": "c0e3c3cc-670c-4fc1-afac-e45744c377b4",
   "metadata": {},
   "source": [
    "<a id=Part3></a>\n",
    "# Part 3"
   ]
  },
  {
   "cell_type": "markdown",
   "id": "7e0817fd-752f-46de-b939-0750bfe240b5",
   "metadata": {},
   "source": [
    "<a id=11></a>\n",
    "## 11. Retaining Walls\n",
    "\n"
   ]
  },
  {
   "cell_type": "markdown",
   "id": "61ad8a1d-1e99-480a-bf60-38a1149270ac",
   "metadata": {},
   "source": [
    "<a id=12></a>\n",
    "## 12. Sheetpiling Walls\n",
    "\n"
   ]
  },
  {
   "cell_type": "markdown",
   "id": "5709b403-8ad7-430b-a138-85c854f54a20",
   "metadata": {},
   "source": [
    "<a id=13></a>\n",
    "## 13. Braced Cofferdams\n",
    "\n"
   ]
  },
  {
   "cell_type": "markdown",
   "id": "519a465a-5e2a-4410-a9e5-738d515380c2",
   "metadata": {},
   "source": [
    "<a id=14></a>\n",
    "## 14. Cellular Cofferdams\n",
    "\n"
   ]
  },
  {
   "cell_type": "markdown",
   "id": "dca39aac-0251-406f-847b-eaaaf7a6759c",
   "metadata": {},
   "source": [
    "<a id=Appendix></a>\n",
    "# Appendix\n"
   ]
  },
  {
   "cell_type": "markdown",
   "id": "f3d5acb2-3f8c-43fc-998d-03af33ddaad2",
   "metadata": {},
   "source": [
    "<a id=Maps></a>\n",
    "# Geophysical Maps of Continental U.S.A."
   ]
  },
  {
   "cell_type": "markdown",
   "id": "a3982a8e-ec80-41ec-9871-dd883ff26fbf",
   "metadata": {},
   "source": [
    "<a id=Refs></a>\n",
    "# References\n"
   ]
  },
  {
   "cell_type": "markdown",
   "id": "00f26675-ade9-4fa3-8707-4843a04967fd",
   "metadata": {},
   "source": [
    "<a id=Auths></a>\n",
    "# Author Index"
   ]
  },
  {
   "cell_type": "markdown",
   "id": "8235117c-5e7f-4c2d-aad6-98cd6a2cdc9d",
   "metadata": {},
   "source": [
    "<a id=Index></a>\n",
    "# Index"
   ]
  },
  {
   "cell_type": "code",
   "execution_count": null,
   "id": "9257dc6a-43a6-46bf-b63b-fa974a53a562",
   "metadata": {},
   "outputs": [],
   "source": []
  }
 ],
 "metadata": {
  "jpcodetoc-autonumbering": true,
  "jpcodetoc-showcode": false,
  "jpcodetoc-showmarkdowntxt": false,
  "jpcodetoc-showtags": false,
  "kernelspec": {
   "display_name": "Python 3 (ipykernel)",
   "language": "python",
   "name": "python3"
  },
  "language_info": {
   "codemirror_mode": {
    "name": "ipython",
    "version": 3
   },
   "file_extension": ".py",
   "mimetype": "text/x-python",
   "name": "python",
   "nbconvert_exporter": "python",
   "pygments_lexer": "ipython3",
   "version": "3.10.13"
  }
 },
 "nbformat": 4,
 "nbformat_minor": 5
}
