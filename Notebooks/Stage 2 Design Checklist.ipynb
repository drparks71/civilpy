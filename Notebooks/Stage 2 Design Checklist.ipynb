{
 "cells": [
  {
   "cell_type": "markdown",
   "id": "9f9719ee-b4cd-4af8-bcb3-32b1db4fd182",
   "metadata": {},
   "source": [
    "# Stage 2 Design Checklist"
   ]
  },
  {
   "cell_type": "code",
   "execution_count": 1,
   "id": "f81cf11f-b561-4ca7-ad43-8ceca350e9bc",
   "metadata": {
    "ExecuteTime": {
     "end_time": "2025-05-28T10:15:04.407168Z",
     "start_time": "2025-05-28T10:15:04.403179Z"
    }
   },
   "outputs": [],
   "source": [
    "import sys\n",
    "\n",
    "# Temporary override to import functions before they're pushed to production\n",
    "sys.path.insert(1, r'C:\\Users\\dparks1\\PycharmProjects\\civilpy\\src\\civilpy')"
   ]
  },
  {
   "cell_type": "code",
   "execution_count": 2,
   "id": "40db3185-d81d-4419-802a-693e9f280bcf",
   "metadata": {},
   "outputs": [],
   "source": [
    "from civilpy.state.ohio.DOT.OSE import Stage2StructuralChecklist\n",
    "\n",
    "checklist = Stage2StructuralChecklist()\n",
    "\n",
    "# If project already exists, the checklist can be initiated with it,\n",
    "# checklist = Stage2StructuralChecklist(\"123456\")"
   ]
  },
  {
   "cell_type": "markdown",
   "id": "1793220a-076b-4b74-94e8-a9d7b63767f4",
   "metadata": {},
   "source": [
    "# General Project Information"
   ]
  },
  {
   "cell_type": "code",
   "execution_count": 3,
   "id": "6fba1fb4-b1f0-44ed-96c4-a0a52721c1a1",
   "metadata": {},
   "outputs": [
    {
     "data": {
      "application/vnd.jupyter.widget-view+json": {
       "model_id": "89422676da9f4b7d8469b9d940102879",
       "version_major": 2,
       "version_minor": 0
      },
      "text/plain": [
       "Text(value='', description='PID: ', placeholder='Project PID')"
      ]
     },
     "metadata": {},
     "output_type": "display_data"
    },
    {
     "data": {
      "application/vnd.jupyter.widget-view+json": {
       "model_id": "7912f325b54240f994d9b8a594659cc7",
       "version_major": 2,
       "version_minor": 0
      },
      "text/plain": [
       "Text(value='', description='CTY-RTE-SEC: ', placeholder='Bridge CTY-RTE-SEC')"
      ]
     },
     "metadata": {},
     "output_type": "display_data"
    },
    {
     "data": {
      "application/vnd.jupyter.widget-view+json": {
       "model_id": "d88a6cfe3f8e446fa59a2586a066c701",
       "version_major": 2,
       "version_minor": 0
      },
      "text/plain": [
       "Text(value='', description='SFN: ', placeholder='Enter multiple if more than one')"
      ]
     },
     "metadata": {},
     "output_type": "display_data"
    },
    {
     "data": {
      "application/vnd.jupyter.widget-view+json": {
       "model_id": "6d61dbb5737f40ff998aec0eb335280b",
       "version_major": 2,
       "version_minor": 0
      },
      "text/plain": [
       "Text(value='', description='Checked By: ', placeholder=\"Employee's Initials\")"
      ]
     },
     "metadata": {},
     "output_type": "display_data"
    },
    {
     "data": {
      "application/vnd.jupyter.widget-view+json": {
       "model_id": "ab160db064554c9590e0a698f92efff5",
       "version_major": 2,
       "version_minor": 0
      },
      "text/plain": [
       "DatePicker(value=datetime.date(2025, 5, 28), description='Date:', step=1)"
      ]
     },
     "metadata": {},
     "output_type": "display_data"
    },
    {
     "data": {
      "application/vnd.jupyter.widget-view+json": {
       "model_id": "5febc6d73d374fc997ebfc5e89285cc5",
       "version_major": 2,
       "version_minor": 0
      },
      "text/plain": [
       "Button(button_style='primary', description='Load', icon='check', style=ButtonStyle(), tooltip='Click to load p…"
      ]
     },
     "metadata": {},
     "output_type": "display_data"
    },
    {
     "data": {
      "application/vnd.jupyter.widget-view+json": {
       "model_id": "057a91d1a62d4fbf93c9bf518f11a5b6",
       "version_major": 2,
       "version_minor": 0
      },
      "text/plain": [
       "Button(button_style='success', description='Submit', icon='check', style=ButtonStyle(), tooltip='Click to subm…"
      ]
     },
     "metadata": {},
     "output_type": "display_data"
    }
   ],
   "source": [
    "# Display inputs for General Project Information\n",
    "# Generates Project Folder and JSON file if it doesn't exist\n",
    "checklist.show_project_inputs()"
   ]
  },
  {
   "cell_type": "markdown",
   "id": "a7f56df7-8482-4290-b4ed-12da2b65ff5f",
   "metadata": {},
   "source": [
    "# Project Scope"
   ]
  },
  {
   "cell_type": "code",
   "execution_count": 4,
   "id": "10e021ee-5182-4c8d-acec-60e3de6d8525",
   "metadata": {},
   "outputs": [
    {
     "name": "stdout",
     "output_type": "stream",
     "text": [
      "Does the project involve any temporary works? Select all that apply.\n"
     ]
    },
    {
     "data": {
      "application/vnd.jupyter.widget-view+json": {
       "model_id": "786a5f3594c740c9be847b90a092587f",
       "version_major": 2,
       "version_minor": 0
      },
      "text/plain": [
       "SelectMultiple(description='Select: ', options=(None, 'Shoring', 'Sheeting', 'Cofferdams'), rows=4, value=())"
      ]
     },
     "metadata": {},
     "output_type": "display_data"
    },
    {
     "name": "stdout",
     "output_type": "stream",
     "text": [
      "\n",
      "===============================Superstructure===============================\n",
      "\n",
      "Select the superstructure components included in the project scope.\n"
     ]
    },
    {
     "data": {
      "application/vnd.jupyter.widget-view+json": {
       "model_id": "6a8852f73f744b8a86473617a2a8b5d6",
       "version_major": 2,
       "version_minor": 0
      },
      "text/plain": [
       "SelectMultiple(description='Select: ', options=(None, 'Slab', 'Prestressed Concrete Box Beams', 'Prestressed C…"
      ]
     },
     "metadata": {},
     "output_type": "display_data"
    },
    {
     "name": "stdout",
     "output_type": "stream",
     "text": [
      "\n",
      "================================Substructure================================\n",
      "\n",
      "Select the substructure components included in the project scope.\n"
     ]
    },
    {
     "data": {
      "application/vnd.jupyter.widget-view+json": {
       "model_id": "fa43ec9570794f2e80e3f39b759931ef",
       "version_major": 2,
       "version_minor": 0
      },
      "text/plain": [
       "SelectMultiple(description='Select: ', options=(None, 'Piers', 'Abutments', 'Drilled Shafts'), rows=4, value=(…"
      ]
     },
     "metadata": {},
     "output_type": "display_data"
    },
    {
     "data": {
      "application/vnd.jupyter.widget-view+json": {
       "model_id": "57f06a4a2b814730a51960a136c65fe0",
       "version_major": 2,
       "version_minor": 0
      },
      "text/plain": [
       "Button(button_style='primary', description='Save Scope', icon='check', style=ButtonStyle(), tooltip='Click to …"
      ]
     },
     "metadata": {},
     "output_type": "display_data"
    }
   ],
   "source": [
    "# Display inputs for Project Scope (Temporary Works)\n",
    "checklist.get_project_scope()"
   ]
  },
  {
   "cell_type": "markdown",
   "id": "63a91693-1c28-4a24-bc0a-c28fc908ff07",
   "metadata": {},
   "source": [
    "# Get Detailed Scope Information"
   ]
  },
  {
   "cell_type": "code",
   "execution_count": 5,
   "id": "ca22801c-9f3a-45dc-9299-117c4b537998",
   "metadata": {},
   "outputs": [
    {
     "name": "stdout",
     "output_type": "stream",
     "text": [
      "Error occured, this is usually from not saving one of the above values, like: 'Superstructure' \n",
      "After correcting the error, rerun this cell by selecting it and pressing Shift+Enter\n"
     ]
    }
   ],
   "source": [
    "checklist.get_detailed_scope()"
   ]
  },
  {
   "cell_type": "code",
   "execution_count": 6,
   "id": "f85dbd6d-614d-4e9b-b2a0-2d2969171adc",
   "metadata": {},
   "outputs": [
    {
     "name": "stdout",
     "output_type": "stream",
     "text": [
      "{'Project Info': {}, 'Scope': {}}\n"
     ]
    }
   ],
   "source": [
    "import pprint\n",
    "\n",
    "pprint.pprint(checklist.data)"
   ]
  },
  {
   "cell_type": "code",
   "execution_count": 8,
   "id": "88602077-091e-4ff5-876f-7c4309fac821",
   "metadata": {},
   "outputs": [
    {
     "data": {
      "application/vnd.jupyter.widget-view+json": {
       "model_id": "057a91d1a62d4fbf93c9bf518f11a5b6",
       "version_major": 2,
       "version_minor": 0
      },
      "text/plain": [
       "Button(button_style='success', description='Submit', icon='check', style=ButtonStyle(), tooltip='Click to subm…"
      ]
     },
     "execution_count": 8,
     "metadata": {},
     "output_type": "execute_result"
    }
   ],
   "source": [
    "checklist.submit_button"
   ]
  },
  {
   "cell_type": "code",
   "execution_count": null,
   "id": "c1976d8c-9ec6-4761-96e0-6dd87c939494",
   "metadata": {},
   "outputs": [],
   "source": []
  },
  {
   "cell_type": "code",
   "execution_count": null,
   "id": "e1aa5352-310c-434e-8ea3-05709bb12625",
   "metadata": {},
   "outputs": [],
   "source": []
  },
  {
   "cell_type": "code",
   "execution_count": null,
   "id": "3569e3e2-8d73-474a-9042-ba5ba6fa0881",
   "metadata": {},
   "outputs": [],
   "source": []
  },
  {
   "cell_type": "markdown",
   "id": "c27fd43f-74df-4bf2-b77f-5b750b841e96",
   "metadata": {},
   "source": [
    "# Appendix:\n",
    "\n",
    "Full Checklist;\n",
    "\n",
    "`from civilpy.state.ohio.DOT.stage_2_comments import all_comments`\n",
    "\n",
    "```python\n",
    "general_criteria = [\n",
    "    {\"label\": \"All Stage I comments resolved and detailed design is as per approved Stage I.\"},\n",
    "    {\"label\": \"All correspondence has been reviewed?\"},\n",
    "    {\"label\": \"All bridge plan sheet are in order.\", \"section\": \"103\"},\n",
    "    {\"label\": \"Title block okay on all sheets? (As shown on Figure 102-4 in the Bridge Design Manual [BDM]) Designed, checked and reviewed blocks complete on all sheets?\"},\n",
    "    {\"label\": \"Project number and bridge number correct?\", \"section\": \"102.4\"},\n",
    "    {\"label\": \"All lettering No. 5 or larger? Caps 5/32 inches in height) Sheets in an appropriate order? As per\", \"section\": \"102.2\"},\n",
    "    {\"label\": \"Supplemental Site Plan, if prepared during Stage 1 has not been included in plans?\"},\n",
    "    {\"label\": \"Site Plan been checked with the final approved Sage 1 Site Plan? Deck transverse sections matches that approved in Stage I?\"},\n",
    "    {\"label\": \"Call-outs are consistent on all sheets? (Span designation number, pier numbers, etc.)\"},\n",
    "    {\"label\": \"North arrow shown on all plan views, all sheets.\", \"section\": \"102\"},\n",
    "    {\"label\": \"Each drilled shaft in the structure has been assigned a unique number?\", \"section\": \"305.4.4\"},\n",
    "    {\"label\": \"Each pile in the structure has been assigned a unique number?\"},\n",
    "    {\"label\": \"Pier(s) and forward abutment elevations and the superstructure transverse section shown looking forward? Rear abutment elevation looking to the rear?\", \"section\": \"102\"},\n",
    "    {\"label\": \"Appropriate centerline/reference line used and referenced exclusively (consistent nomenclature) throughout the details.\"},\n",
    "    {\"label\": \"If an auxiliary reference line is established, is stationing given along this line only, near the bridge? Is a geometric diagram provided, if necessary?\"},\n",
    "    {\"label\": \"For bridge with variable super-elevation, has a super-elevation transition diagram been provided?\", \"section\": \"309.3.6.1 & 309.3.6.1a\"},\n",
    "    {\"label\": \"Break over (1/2 inch per foot slope) provided on high side of superelevated decks for shoulder widths >4 feet? Rounding beginning at edge of roadway used when change in cross slope at break over exceeds 3 percent 4-foot rounding for shoulders < 8 feet and 5 foot rounding for shoulders > 8 feet)?\", \"section\": \"309.3.6.1 Figure 309-9 & 309-10\"},\n",
    "    {\"label\": \"Approach slabs have been detailed as per Designer Supplement: AS-2-15-Approach Slab Installation?\"},\n",
    "    {\"label\": \"Items that should be included with roadway quantities (e.g., Rock Channel Protection, Portable Concrete Barrier and Temporary Guardrail) have been designated as such?\"},\n",
    "    {\"label\": \"Portions of existing structure that are to be removed have been properly indicated?\"},\n",
    "    {\"label\": \"± Symbol used for existing structure dimensions? Dashed lines used to denote existing structures?\", \"section\": \"207.4\"},\n",
    "    {\"label\": \"Detail plans for temporary sheeting/shoring included if required by the\", \"section\": \"310.1\"},\n",
    "    {\"label\": \"Detail plans for a temporary runaround bridge included if required by the Scope?\", \"section\": \"503\"},\n",
    "    {\"label\": \"Concrete surfaces sealed per\", \"section\": \"306.1.2, 309.2.1 and 403.3\"},\n",
    "    {\"label\": \"Epoxy only sealer not used.\", \"section\": \"309.2.1-G\"}\n",
    "],\n",
    "\n",
    "site_plan_criteria = [\n",
    "    {\"label\": \"In the proposed structure data block verify the Latitude and Longitude.\\nThe Latitude and Longitude of the begin Bridge limit station should be given to the nearest 0.01 second. The 0.01 second precision will be included in the next update.\"},\n",
    "    {\"label\": \"In the profile view provide the highest known high-water mark; normal water elevation and Ordinary High-Water Mark (OHWM).\", \"section\": \"201.2.1\"},\n",
    "    {\"label\": \"Show the length of the bedrock socket in the profile view.\", \"section\": \"305.4.2\"}\n",
    "],\n",
    "\n",
    "general_plan_criteria = [\n",
    "    {\"label\": \"Reference line shown for curved bridges, and stations should be shown where it intersects curve.\"},\n",
    "    {\"label\": \"Span lengths agree with Site Plan?\", \"section\": \"202.1.1\"},\n",
    "    {\"label\": \"Stage construction joint shown on appropriate plan views and details.\"},\n",
    "    {\"label\": \"Highway lighting feature shown, if applicable?\"},\n",
    "    {\"label\": \"Scuppers shown, if applicable?\"},\n",
    "    {\"label\": \"Approach drainage details (Gutters/catch basins).\"},\n",
    "    {\"label\": \"Limits of slope protection.\"}\n",
    "],\n",
    "\n",
    "general_notes_criteria = [\n",
    "    {\"label\": \"All applicable general notes from BDM Section 600 included?\"},\n",
    "    {\"label\": \"Wording of 'standard general notes' suit the project? (Do the notes make sense for this project?)\"},\n",
    "    {\"label\": \"General notes included where necessary to describe 'as per plan' items?\"},\n",
    "    {\"label\": \"In addition to the typical general notes given in the BDM, general notes are usually included to describe any 'non-standard' bid items or situations. Have these been included?\"},\n",
    "    {\"label\": \"For rehabilitation projects, is the scope work itemized and clearly described under a PROPOSED WORK note?\"},\n",
    "    {\"label\": \"Construction procedure for unusual conditions\"}\n",
    "],\n",
    "\n",
    "detail_notes_criteria = [\n",
    "    {\"label\": \"See Section 700 of the Bridge Design Manual for a reminder list of typical detail notes.\"}\n",
    "],\n",
    "\n",
    "\n",
    "estimated_quantitites_criteria = [\n",
    "    {\"label\": \"All Items should be listed in the Estimated Quantities sheet in stage 2 without quantities.\"},\n",
    "    {\"label\": \"Pay-Item for cofferdam and excavation bracing included if required by section 310.1.1 of the BDM.\"}\n",
    "],\n",
    "\n",
    "reinforcing_details_criteria = [\n",
    "    {\"label\": \"Bar lengths conform to The maximum bar length should be approximately 40 feet. For longitudinal deck reinforcing, bar lengths of 30 feet are preferred, except for one odd length at end of run.\", \"section\": \"304.4.1\"},\n",
    "    {\"label\": \"Length of the short leg of L-shaped bars less than 8'-0\\\"?\", \"section\": \"304.4.1\"},\n",
    "    {\"label\": \"Minimum reinforcing steel provided in all faces of retaining walls and wall-type abutments and piers for shrinkage and temperature reinforcement?\", \"section\": \"304.4.9 LRFD 5.10.6\"},\n",
    "    {\"label\": \"Splice and development lengths for epoxy bars conform to current AASHTO requirements?\", \"section\": \"LRFD 5.10.8\"},\n",
    "    {\"label\": \"All bar splice lengths shown by plan note, on plan details, combination or reference?\"},\n",
    "    {\"label\": \"Bridge seat reinforcement adequately clear of bearing anchors?\", \"section\": \"306.2.1.2\"},\n",
    "    {\"label\": \"Treatment of reinforcing steel appropriate at all construction, contraction, and expansion joints?\", \"section\": \"306.2.5\"},\n",
    "    {\"label\": \"Reinforcing steel in footings comply with (i.e., secondary rebars under main rebars, rebars at bottom of footing and not top of piles, dowel legs placed at bottom layer of footing rebars)?\", \"section\": \"305.2.1.4\"},\n",
    "    {\"label\": \"For cantilevered pier caps (T-type and cap and column), is the top layer of bars bent down the end face of the cap? Side faces adequately reinforced to resist longitudinal superstructure forces?\", \"section\": \"306.3.3.3\"},\n",
    "    {\"label\": \"Lateral ties between vertical bars in T-type and wall type piers as per section\", \"section\": \"306.3.3\"},\n",
    "    {\"label\": \"All reinforcing shall be epoxy coated?\", \"section\": \"304.4\"},\n",
    "    {\"label\": \"Letter prefix A (abutments), P (piers), S (superstructure), SP (spirals), DS (drilled shafts) generally used in bar marks?\", \"section\": \"304.4.2\"},\n",
    "    {\"label\": \"Mechanical connectors used where appropriate?\", \"section\": \"304.4.4\"},\n",
    "    {\"label\": \"Splices avoided at pier horizontal construction joints, except at top of footing?\", \"section\": \"304.4.3\"},\n",
    "],\n",
    "\n",
    "typical_sections_criteria = [\n",
    "    {\"label\": \"Large scale typical sections of existing and proposed superstructures provided to show removal and construction stages?\"},\n",
    "    {\"label\": \"Location of cut lines and stage construction joints established with respect to primary survey line?\"},\n",
    "    {\"label\": \"Typical section of existing structure conforms to current photographs and site inspection sketches?\"},\n",
    "    {\"label\": \"Stage construction details sheet should include notes that detail the sequence of construction.\", \"section\": \"309.3.8.5\"}\n",
    "],\n",
    "\n",
    "part_plan_views_criteria = [\n",
    "    {\"label\": \"Part Plan views provided to show the relative relationship of the existing and proposed abutments during Stage 1 construction and relevant basic dimensions and clearances?\"},\n",
    "    {\"label\": \"Sufficient room provided between temporary sheeting and proposed abutment for form construction and removal?\"},\n",
    "    {\"label\": \"Sufficient room provided for pile driving?\"}\n",
    "],\n",
    "\n",
    "temporary_sheeting_criteria = [\n",
    "    {\"label\": \"Consultant designed sheeting details provided in the plan when traffic is being maintained and the height of the retained earth is over 8 feet\", \"section\": \"310.1.1.2\"},\n",
    "    {\"label\": \"Temporary sheeting shown on the Site Plan and/or General Plan?\"},\n",
    "    {\"label\": \"Cofferdams and Excavation Bracing item provided in quantities?\"},\n",
    "    {\"label\": \"Tentative location of temporary sheeting shown on abutment plan views to retain backfill and permit partial removal and excavation for proposed construction?\"}\n",
    "],\n",
    "\n",
    "temporary_railing_criteria = [\n",
    "    {\"label\": \"Reference for barrier details given to Standard Drawing PCB-91?\"},\n",
    "    {\"label\": \"Barrier anchors provided not less than two per segment for barriers located less than 6'- 0\\\" from the edge of deck for bridges over roadways, railroad, or recreational areas: or less than 1'-0\\\" from the edge of the deck for other bridge application (PCB-DD)?\"},\n",
    "    {\"label\": \"Double the number of anchor if the barrier location is less than 1 foot. (PCB-DD)?\"},\n",
    "    {\"label\": \"Complete details given for temporary steel railing?\"}\n",
    "],\n",
    "\n",
    "slab_bridges_criteria = [\n",
    "    {\"label\": \"Slab removal cut lines lie transverse to primary slab reinforcing steel?\", \"section\": \"BDM201.2.6, 404.5\"},\n",
    "    {\"label\": \"Temporary slab supports provided for such slabs\", \"section\": \"310.1.2\"},\n",
    "    {\"label\": \"Both stages of slab bridges supported by false work until second stage slab concrete has fully cured before false work is released (to avoid the use of a third stage closure section and high dead load shear forces on stage construction joints due to the premature release of false work)? (False work should be designed for live load)\"}\n",
    "],\n",
    "\n",
    "lateral_restraint_criteria = [\n",
    "    {\"label\": \"Temporary lateral restraint provided to prevent rotational movement of the first stage superstructures of semi-integral bridges towards the unrestrained (no guide bearing) acute corners at stage construction joints?\"},\n",
    "    {\"label\": \"For re-decking an existing structure without a closure section, a deck slab placement procedure provided requiring relatively complete second stage deck placement before placement of second stage integral end-diaphragms?\"},\n",
    "    {\"label\": \"Semi-Integral Abutment Diaphragm Guide provided as per standard drawing SICD-2-14.\"}\n",
    "],\n",
    "\n",
    "end_dams_criteria = [\n",
    "    {\"label\": \"Full penetration butt-welded field splices provided at or near stage construction joints for superstructure portion of the end dams?\"},\n",
    "    {\"label\": \"Bolted field splices provided for the abutment portion?\"},\n",
    "    {\"label\": \"Offset between the two splices provided to facilitate butt-welding?\"},\n",
    "    {\"label\": \"Superstructure splice located to clear beam flanges and cross frames gusset plates?\"}\n",
    "]\n",
    "\n",
    "stage_cons_misc_criteria = [\n",
    "    {\"label\": \"Removal limits clearly shown or are apparent? Cross-hatching used to designate removal areas?\"},\n",
    "    {\"label\": \"Removal Cut lines: Full-depth saw cut-lines specified for deck slab removals where the integrity of the slab is needed to support temporary railing? Cut-lines shown on plan and/or elevation views of substructure?\", \"section\": \"201.2.6\"},\n",
    "    {\"label\": \"Construction Access: Adequate space provided between Stage 1 construction and the remainder of the existing structure for temporary sheeting and form construction?\"},\n",
    "    {\"label\": \"Closure Placements: 2'-6\\\" minimum wide third stage closure section provided for “new\\\" stringer superstructures?\", \"section\": \"309.3.8.5\"},\n",
    "    {\"label\": \"Are stage construction joints shown in all relevant views?\"},\n",
    "    {\"label\": \"Cofferdam Sheeting: Vertical clearance available under 20 + feet) and/or adjacent to the existing structure to permit driving sheeting? Plan details shown tentative position of such sheeting where clearances are tight?\"},\n",
    "    {\"label\": \"Provisions made for the complete or partial removal of temporary railing anchors and the grouting of resulting voids?\"},\n",
    "    {\"label\": \"Roadway Item 614: Note provided referring to roadway plans for other temporary railing details and to Item 614 (roadway plans) for payment?\"},\n",
    "    {\"label\": \"Approach slab details provided showing the same railing type as used on the bridge and with the same limiting edge clearances and/or anchorage (unless a different type of anchorage has been provided)?\"},\n",
    "    {\"label\": \"Joint Type: An expansion or contraction joint used in lieu of a stage \\\"construction\\\" joint to simplify construction by eliminated lap splicing or mechanical connector splicing of reinforcing steel, where appropriate? (Abutment back walls, breast walls and certain pier walls, etc.)\"},\n",
    "    {\"label\": \"Differential Shear: Vertical construction joints provided with shear keys and generous transverse reinforcement to resist the potentially high shear forces induced by differential deformation of foundations (piles, soil, etc.)? Formed joint surfaces artificially roughened to improve shear resistance\", \"section\": \"LRFD 5.8.4\"},\n",
    "    {\"label\": \"Battered Piles: Room adjacent to the existing structure to drive piles? Batter piles? New piles clear existing battered piles? Sufficient room available for pile length and leads to position batter piles for driving?\"},\n",
    "    {\"label\": \"Screed Elevations: The presence or absence of cross frames at stage construction joints on stringer deflection taken into account when establishing screed elevations at stage construction joints.\"},\n",
    "    {\"label\": \"Integral Construction: Closure sections provided in bridges for both the deck slab and integral end-diaphragms?\", \"section\": \"306.2.2.5\"},\n",
    "    {\"label\": \"Elastomer Seals: Note provided requiring seals for each joint to be installed in one continuous piece?\"},\n",
    "    {\"label\": \"Drain Pipes: Abut porous backfill drain pipes terminated and capped on both sides of temporary sheeting?\"},\n",
    "    {\"label\": \"Utility conduits located clear of stage construction joints and temporary sheeting?\"},\n",
    "    {\"label\": \"The design for adhesive concrete anchors shall be in accordance with AASHTO LRFD Section 513.\"}\n",
    "]\n",
    "\n",
    "slab_criteria = [\n",
    "    {\"label\": \"Sealing of concrete surfaces shown and appropriate?\", \"section\": \"306.1.2\"},\n",
    "    {\"label\": \"Stainless steel drip strip provided on decks with over-the-side drainage?\", \"section\": \"309.2 and 309.7\"},\n",
    "    {\"label\": \"Verify reinforcing steel accommodate HL-93 loading.\"},\n",
    "    {\"label\": \"Lap lengths to other bars.\"},\n",
    "    {\"label\": \"Centerline of bearing stations\"},\n",
    "    {\"label\": \"Continuous Deck Slab Placement Detail.\", \"section\": \"ODOT STD. DWG. PSID-1-13\"}\n",
    "]\n",
    "\n",
    "prestressed_concrete_box_criteria = [\n",
    "    {\"label\": \"For multiple span bridges, has the superstructure been detailed as continuous as per Standard Drawing PSBD-2-07?\", \"section\": \"308.2.3.3\"},\n",
    "    {\"label\": \"Multiple span bridges of less than 200-foot total length with flexible piers and abutments fixed at all substructure units?\"},\n",
    "    {\"label\": \"Standard Drawings PSBD-2-07 has been reviewed and items required by it provided? It is not intended that details and notes shown on the Standard Drawing be repeated unnecessarily.\"},\n",
    "    {\"label\": \"All beams anchored?\", \"section\": \"308.2.3.3f\"},\n",
    "    {\"label\": \"Membrane waterproofing (Type 3) used on all non-composite box beam Bridge?\", \"section\": \"308.2.3.3d\"},\n",
    "    {\"label\": \"For bridge with poured sealant joints, has waterproofing been extended 2 feet past the bridge limits?\", \"section\": \"CMS 512.08H\"},\n",
    "    {\"label\": \"Two-inch spacing or multiple thereof provided between strands? If space permits, place all strands in bottom row.\", \"section\": \"302.5.1.2.b\"},\n",
    "    {\"label\": \"Location, length, and number of debonded strands shown?\", \"section\": \"308.2.3.4a\"},\n",
    "    {\"label\": \"Additional strand debonding and supplemental mild reinforcing steel provided at beam ends for skews over 30 degrees? Limit box beam to 30-degree skew or less except rare occasions approved by Office of Structural Engineering.\"},\n",
    "    {\"label\": \"Strands and rebars miss anchor, diaphragm, and bearing rod holes? Are there any conflicts between strands, rebars, tie-rod holes, beam anchor rod holes, rail post anchors, joint armor, etc.?\", \"section\": \"PSBD-2-07\"},\n",
    "    {\"label\": \"PEJF specified as grout retainer at dowels and under beam connection at piers?\", \"section\": \"Standard Drawing PSBD-2-07\"},\n",
    "    {\"label\": \"Two bearings provided for each box beam?\", \"section\": \"308.2.3.3\"},\n",
    "    {\"label\": \"Proper camber/wearing surface notes used?\", \"section\": \"702.7\"},\n",
    "    {\"label\": \"Wearing surface/composite topping thickness diagram shown?\", \"section\": \"308.2.3.4b\"},\n",
    "    {\"label\": \"If over-the-side drainage will occur, has a drip strip been specified? Reference should be made to Standard Drawing DS-1-92.\"},\n",
    "    {\"label\": \"Sealing of concrete surfaces provided as directed in\", \"section\": \"309.2.1.D\"},\n",
    "    {\"label\": \"Shear key mortar finishing detail shown? (Not required for composite concrete decks)\", \"section\": \"PSBD-2-07\"},\n",
    "    {\"label\": \"Sufficient dimensions furnished for the beam fabricator to locate the railing post anchors? Have location of inserts for stage construction temporary railing shown? Has conflict between post anchors and tie rods and/or T-section been avoided?\", \"section\": \"308.2.3.3\"},\n",
    "    {\"label\": \"Proper allowances for fit-up between beams accounted for and shown?\", \"section\": \"308.2.3.3\"},\n",
    "    {\"label\": \"Maximum of three beams tied together by one tie-rod?\", \"section\": \"PSBD-2-07\"},\n",
    "    {\"label\": \"Transverse tie-rods provided at abutment ends and located per\", \"section\": \"308.2.3.3g\"},\n",
    "    {\"label\": \"For non-composite design, is asphalt thickness 8 inches or less?\", \"section\": \"308.2.3\"},\n",
    "    {\"label\": \"For multiple span bridges, has the same beam depth been specified for all spans?\", \"section\": \"308.2.3\"},\n",
    "    {\"label\": \"For beams greater than 100 ft. long, for concrete release strength greater than 5 ksi, and for 28 days concrete strength greater than 7 ksi, provide a letter per\", \"section\": \"308.2.3\"},\n",
    "    {\"label\": \"Strand location and clearance consistent with PSBD-2-07.\"},\n",
    "    {\"label\": \"Diaphragms and tie rods located\", \"section\": \"308.2.3.3g\"},\n",
    "    {\"label\": \"For composite box beams, six-inch minimum slab thickness specified?\", \"section\": \"308.2.3.3.c\"},\n",
    "    {\"label\": \"No. 6 at 18 inches longitudinal and No. 6 at 9 inches transverse bars specified\", \"section\": \"308.2.3.3.c\"},\n",
    "    {\"label\": \"Additional bars over piers specified to meet the requirements of\", \"section\": \"308.2.3.3.c and LRFD 5.10.8.1.2c\"},\n",
    "    {\"label\": \"Epoxy coated bars (Grade 60) specified in the composite slab?\", \"section\": \"304.4\"},\n",
    "    {\"label\": \"Bars projecting from beam into composite slab specified as epoxy coated?\", \"section\": \"304.4\"},\n",
    "    {\"label\": \"Construction joint shown between the cast-in-place 'T' section at piers and the composite slab?\"},\n",
    "    {\"label\": \"The effect that the longitudinal grade has on dimensions measured along a beam’s length addressed in the plans?\", \"section\": \"308.2.3.2\"},\n",
    "    {\"label\": \"Verify that design uses severe corrosive factor as per Section S.5.9.2.3.2b by changing the design parameter in Conspan. The limiting stress factor for tension (service III) should be .0948 instead of 0.19.\"}\n",
    "]\n",
    "\n",
    "steel_stringers_criteria = [\n",
    "    {\"label\": \"Are the proposed beam shapes per\", \"section\": \"308.2.3.4\"},\n",
    "    {\"label\": \"Low-relaxation, 270 ksi, 0.6-inch strands used? (Initial stress = 0.75 f’s)\", \"section\": \"304.5.1, 304.5.2\"},\n",
    "    {\"label\": \"Straight strands, debonded at ends if necessary, used? Draped strands should be provided as per\", \"section\": \"308.2.3.3.a 308.2.3.4.a.3\"},\n",
    "    {\"label\": \"No more than 25% of the total strands debonded?\", \"section\": \"302.5.2.2.h\"},\n",
    "    {\"label\": \"No more than 45% of the strands in any row debonded\", \"section\": \"302.5.2.2.d\"},\n",
    "    {\"label\": \"Number and spacing of debonded strands, and the length of debonding, shown?\", \"section\": \"302.5.2.2.d\"},\n",
    "    {\"label\": \"Strand location and spacing meet requirements of\", \"section\": \"308.2.3.3.b\"},\n",
    "    {\"label\": \"Initial prestressed loads shown in the plans\", \"section\": \"304.5.2\"},\n",
    "    {\"label\": \"Joint details appropriate? Details from Standard Drawings EXJ-6-06.\"},\n",
    "    {\"label\": \"Grade 60 mild reinforcing used?\", \"section\": \"304.4\"},\n",
    "    {\"label\": \"Bars projecting from I-beam been epoxy coated?\", \"section\": \"304.4\"},\n",
    "    {\"label\": \"Diaphragms placed at intervals not exceeding 40 feet\", \"section\": \"308.2.3.4.d\"},\n",
    "    {\"label\": \"Intermediate diaphragms do not make contact with the underside of the deck?\", \"section\": \"308.2.3.4.d\"},\n",
    "    {\"label\": \"End diaphragms make complete contact with the underside of the deck?\", \"section\": \"308.2.3.4.d\"},\n",
    "    {\"label\": \"Threaded inserts used to connect diaphragm rebars to beams? Type and coating requirements for inserts shown?\", \"section\": \"308.2.3.4.d\"},\n",
    "    {\"label\": \"Note provided restricting deck placement to a minimum of 48 hours after diaphragms are placed and cured? If the Standard Bridge Drawing for I-beams is not referenced by the contract plans\", \"section\": \"308.2.3.4.d\"},\n",
    "    {\"label\": \"Bridge seat elevations been computed as directed in\", \"section\": \"308.2.3.4.b\"},\n",
    "    {\"label\": \"Diagram provided showing slab thickness at center of each span and at each centerline of bearings?\", \"section\": \"308.2.3.4.b\"},\n",
    "    {\"label\": \"Beam anchorage meets the requirements of\", \"section\": \"308.2.3.4.c\"},\n",
    "    {\"label\": \"Full-depth cast-in-place concrete deck specified/ precast deck panels should not be used.\", \"section\": \"309\"},\n",
    "    {\"label\": \"Threaded insert location shown on the beam elevation view for draped strands.\", \"section\": \"PSID-1-13\"},\n",
    "    {\"label\": \"The longitudinal superstructure cross section in the plans detailing the total topping thickness, including the design slab thickness and the haunch thickness at the centerline of spans and bearings.\", \"section\": \"308.2.3.4.b\"},\n",
    "    {\"label\": \"Camber at the time of release, at the time of erection, long term camber and a screed elevation table shown\", \"section\": \"308.2.3.4.b\"},\n",
    "    {\"label\": \"Verify that design use severe corrosive factor as per Section S.5.9.2.3.2b by changing the design parameter in Conspan. The limiting stress factor for tension (service III) should be .0948 instead of 0.19\"}\n",
    "]\n",
    "\n",
    "steel_stringers_general_criteria = [\n",
    "    {\"label\": \"A709 Grade 50W steel shall be specified for un-coated weathering steel bridges, A709 Grade 50 specified for a coated steel bridge.\", \"section\": \"30.4.1\"},\n",
    "    {\"label\": \"A709 Grade 50W structural steel within 10 feet from end of stringer adjacent to deck joint painted and note provided\", \"section\": \"308.2.2.1.d.1\"},\n",
    "    {\"label\": \"Proper painting system used? Formerly called, System IZEU on new steel and System OZEU on existing steel?\", \"section\": \"308.2.2.1.d.1\"},\n",
    "    {\"label\": \"All main load carrying members such as rolled beams, girder web/flanges, moment plates, splice plates, and horizontally curved stringer cross frames designated as CVN for Charpy V-notch testing and plan note provided?\", \"section\": \"308.2.2.1.b and 702.2\"},\n",
    "    {\"label\": \"Clearance between the bottom mat and top of the bolt over splice plate.\"},\n",
    "    {\"label\": \"Steel fabricator certification given in pay item description as Classification Levels 1 thru 6, SF or UF.\", \"section\": \"308.2.2.1.b\"},\n",
    "    {\"label\": \"Cross frames and field splices for dog-legged (deflected) stringers conform with, Additional horizontal cross frames angle provided near top flange of horizontally curved stringers?\", \"section\": \"308.2.2.1.j, 308.2.2.1.j.1 and 308.2.2.2.b\"},\n",
    "    {\"label\": \"Plan note provided for High Strength Bolts?\", \"section\": \"702.3\"},\n",
    "    {\"label\": \"Leg size specified for fillet welds 1/4 inch minimum for material < 3/4 inch thick and 5/16 inch minimum for thicker material)?\", \"section\": \"308.2.2.2.c.1\"},\n",
    "    {\"label\": \"Complete penetration groove welds designated as CP with weld configuration left unspecified? Partial penetration groove welds not permitted on structural elements.\", \"section\": \"308.2.2.2.c and ANSI/AASHTO / AWS D1.5 Bridge Welding Code\"},\n",
    "    {\"label\": \"Stud shear connectors preferably 7/8 inch diameter and uniformly spaced transversely not closer than 4 diameters center to center with at least 1 inch clearance from flange edges? (Typically, three studs transversely for flanges 12 inches and wider)\", \"section\": \"404.1.6 & AASHTO LRFD 6.10.10\"},\n",
    "    {\"label\": \"Shear connector length penetrates at least 2 inches above bottom reinforcing steel of slab and provides at least 2 inches top cover?\"},\n",
    "    {\"label\": \"7/8 inch diameter Shear stud not recommended for vertical application due to longer welding times and difficulties. Use a 3/4 inch diameter shear stud recommended by the industry.\"},\n",
    "    {\"label\": \"Shear connector maximum spacing generally not greater than 24 inches? Usually, fatigue and strength criteria produce maximum spacing near piers, smallest spacing near abutments, and moderate spacing near mid spans? No conflict near field splices or deck joint anchorage?\", \"section\": \"AASHTO LRFD 6.10.10\"},\n",
    "    {\"label\": \"Extra shear connectors provided at contra flexure points and longitudinal slab reinforcement properly extended if shear connectors are omitted over piers?\", \"section\": \"AASHTO LRFD 6.10.10\"},\n",
    "    {\"label\": \"Field splices located near points of dead load contra flexure as appropriate to facilitate erection and to limit field section lengths to 90 feet maximum for rolled beams and 120 feet maximum for plate girders? Additional optional field splices may be shown recognizing greater availability of short lengths)\", \"section\": \"308.2.2.1.c and 308.2.2.1.j.3\"},\n",
    "    {\"label\": \"Plate thicknesses specified in the following standard sizes: 7/8\\\" to 3” In 1/8” Increments, 3\\\" And above 1/4\\\" Increments?\", \"section\": \"308.2.2.3.c\"},\n",
    "    {\"label\": \"Buoyant superstructures typically integral or semi-integral designs) where inundation is possible details with appropriate countermeasures (e.g., holes drilled in stringer webs for egress of confined air, support anchorage, etc.)?\"},\n",
    "    {\"label\": \"Stringer top flange compression and tension zones shown and Welded Attachment Note provided?\", \"section\": \"702.11\"},\n",
    "    {\"label\": \"Camber and deflection table provided for information given at center of spans, splices points, and at 25 foot maximum intervals?\", \"section\": \"702.1, 309.3.3\"},\n",
    "    {\"label\": \"Camber diagram provided and blocking dimension from bottom of stringer at each support to chord between end supports) shown?\", \"section\": \"309.3.3\"},\n",
    "    {\"label\": \"Camber adjustment provided for horizontally heat-curved stringers and for straight stringers on curved bridges?\", \"section\": \"AASHTO LRFD 6.7.7\"},\n",
    "    {\"label\": \"Sign (direction) of camber adjustment for vertical curve correct?\"},\n",
    "    {\"label\": \"Edge distances used for field splices as per LRFD table 6.13.2.6.6-1?\", \"section\": \"308.2.2.1.j.1 & 308.2.2.1.j.2\"},\n",
    "    {\"label\": \"For galvanized structures, the bolt hole size requires a 1/16 inch increase.\", \"section\": \"308.2.2.1.j.1\"},\n",
    "    {\"label\": \"Field splices located so as not to interfere with other details (i.e., intermediate stiffeners, cross frames, etc.)?\", \"section\": \"308.2.2.2.b\"},\n",
    "    {\"label\": \"Fatigue prone details avoided if possible?\", \"section\": \"308.2.2.1.g\"},\n",
    "    {\"label\": \"Cross frame connection stiffeners rigidly attached to stringer top and bottom flanges?\", \"section\": \"308.2.2.2.a\"},\n",
    "    {\"label\": \"Lateral bracing provided only when required?\", \"section\": \"AASHTO LRFD 6.7.5\"},\n",
    "    {\"label\": \"Curved girder with stage construction should be checked for deflection at each stage.\"}\n",
    "]\n",
    "\n",
    "rolled_beams_criteria = [\n",
    "    {\"label\": \"Welded moment plates not used in areas of tensile stress?\", \"section\": \"308.2.2.2.d\"},\n",
    "    {\"label\": \"Bearing stiffeners provided only when necessary?\", \"section\": \"AASHTO LRFD 6.10.11.2\"},\n",
    "    {\"label\": \"Galvanized beams limited in length to 60 feet maximum and utilize bolted connections only?\", \"section\": \"308.2.2.1.d.2\"}\n",
    "]\n",
    "\n",
    "plate_girders_criteria = [\n",
    "    {\"label\": \"Top flange width as per\", \"section\": \"308.2.2.3.c.1\"},\n",
    "    {\"label\": \"Flange thickness at least 7/8 inch?\", \"section\": \"308.2.2.3.c.1\"},\n",
    "    {\"label\": \"Web thickness and stiffener thickness at least 3/8 inch\", \"section\": \"308.2.2.3.c.2\"},\n",
    "    {\"label\": \"Flange butt welds subject only to compressive stresses identified as CS and complete joint penetration as CP.\", \"section\": \"308.2.2.3.f.2\"},\n",
    "    {\"label\": \"Non-redundant main steel members identified as FCM (Fracture Critical Member)? Proper pay item and plan note provided\", \"section\": \"BMD 308.2.2.3.b\"},\n",
    "    {\"label\": \"Longitudinal stiffeners not used? Transverse stiffeners preferably not used (except cross frame connection stiffeners)\", \"section\": \"308.2.2.3\"},\n",
    "    {\"label\": \"Transverse stiffeners (if used) placed on alternate sides of interior girders and inside face only of fascia girders, made same size throughout, and detailed?\", \"section\": \"308.2.2.3.d\"},\n",
    "    {\"label\": \"Cross frame connection stiffeners fillet welded to web and both flanges\", \"section\": \"308.2.2.3.d\"},\n",
    "    {\"label\": \"Bearing stiffeners made to extend as near as practicable to outer edges of flange plate and detailed as tight fit at top flange, mill to bear at bottom flange? (Rigid attachment to both flanges may be appropriate if used also as a connection plate)\", \"section\": \"AASHTO LRFD 6.10.11.2.1 / LRFD 6.10.11.2\"},\n",
    "    {\"label\": \"Intermediate cross frame angle size and connections conform with STD DWG GSD-1-19? For beam/Girder D < 6 feet.\"},\n",
    "    {\"label\": \"Constant flange widths used whenever possible? Make changes in flange width at field splice to facilitate fabrication. Changes in flange plate section appropriate based on cost criteria given in\", \"section\": \"308.2.2.3.c.1 Steel Bridge Design Handbook FHWA-IF-12-052-Vol. 6\"},\n",
    "    {\"label\": \"Clearance between the bottom mat and top of the bolt over splice plate\", \"section\": \"309.3.4.2\"}\n",
    "]\n",
    "\n",
    "concrete_deck_on_stringers_criteria = [\n",
    "    {\"label\": \"Verify bottom concrete cover of bars in the overhang deck\", \"section\": \"LRFD 5.10.1, 304.4.8\"},\n",
    "    {\"label\": \"Sealing of concrete surfaces shown and appropriate\", \"section\": \"309.2.1\"},\n",
    "    {\"label\": \"Stainless steel drip strip provided on decks with over-the-side drainage?\", \"section\": \"309.7 and 309.2\"},\n",
    "    {\"label\": \"Deck slab depth over stringers shown to top of web for plate girders and to top of flange for rolled beams or prestressed concrete I-beams and plan note provided\", \"section\": \"702.5 and 702.6\"},\n",
    "    {\"label\": \"2-inch minimum concrete haunch depth used over stringers (top of thickest flange section to bottom of slab)\", \"section\": \"309.3.5\"},\n",
    "    {\"label\": \"For steel beam or girder bridges with skew less than 15 degrees the transverse bars parallel to abutment and for skew more than 15 degrees or interference with shear stud, transverse bars placed perpendicular to the centerline of bridge.\", \"section\": \"309.3.4.2\"},\n",
    "    {\"label\": \"For prestressed I-beam or composite box beam bridge deck, transverse bars perpendicular to the centerline of bridge.\", \"section\": \"309.3.4.2\"},\n",
    "    {\"label\": \"Slab thickness and reinforcement conform to\", \"section\": \"Figure 309-3, 309-4 or 309-5\"},\n",
    "    {\"label\": \"Top and bottom main (transverse) bars at same spacing and placed to coincide in a vertical plane?\", \"section\": \"309.3.4.2\"},\n",
    "    {\"label\": \"Transverse bars placed parallel to abutments for bridges with skews less than 15 degrees?\", \"section\": \"309.3.4.2\"},\n",
    "    {\"label\": \"Length of transverse bars without lap splices 5 inches shorter than deck (edge to edge distance) to ensure adequate cover at ends of bar, allowing for shop cutting tolerances?\"},\n",
    "    {\"label\": \"(Transverse) bars\", \"section\": \"309.3.4.1\"},\n",
    "    {\"label\": \"Secondary (longitudinal) bars placed above main\", \"section\": \"309.3.4.1\"},\n",
    "    {\"label\": \"Additional top longitudinal bars with ends staggered 3'-0\\\" provided over piers on continuous structures? Total longitudinal reinforcement meets the requirements of AASHTO LRFD 6.10.1.7 for steel stringers or for prestressed concrete I-beam? Generally, No. 6 bars midspaced between top full length longitudinal bars will be adequate and will provide enough clearance between bars to facilitate concrete placement and vibration.\", \"section\": \"308.2.3.3.c\"},\n",
    "    {\"label\": \"Screed elevations given along curb lines/edges of deck, roadway crown, transverse grade-break lines and phase construction lines at all bearings, quarter-span, mid-span, and splice points, plus any points required for a maximum 25 foot spacing.\", \"section\": \"309.3.3.1\"},\n",
    "    {\"label\": \"Slab pour sequence generally specified only when uplift during construction or differential deflections at intermediate expansion joints are of concern.\", \"section\": \"2.2.3.g, 403.5.4\"},\n",
    "    {\"label\": \"Check three independent sources of girder twist resulting from deck placement: global superstructure distortion, oil-canning and girder warping.\", \"section\": \"309.3.8.2\"},\n",
    "    {\"label\": \"Neglect girder twist due to global deformation if the tributary deck load carried by the fascia girder is less than 110% of the average of the tributary deck load carried by the interior members for new structure and 115% for existing structure.\", \"section\": \"309.3.8.2.a\"},\n",
    "    {\"label\": \"For web depth greater than 84 inches note for location of lower contact point of the overhang false work included.\", \"section\": \"611.4.1\"},\n",
    "    {\"label\": \"Screed, top of haunch and finished deck surface shown and note included?\", \"section\": \"309.3.3.1, 309.3.3.2, 309.3.3.3, 702.12.1, 702.12.2, 702.12.3\"},\n",
    "    {\"label\": \"The final deck surface elevation locations should be identified in a plan view.\", \"section\": \"309.3.3.3\"},\n",
    "    {\"label\": \"The screed elevation locations should be identified on the transverse section.\", \"section\": \"702.12.1\"},\n",
    "    {\"label\": \"The top of haunch elevation locations should be identified on the transverse section.\", \"section\": \"702.12.2\"},\n",
    "    {\"label\": \"Deck placement design assumptions note is included.\", \"section\": \"611.4.2\"}\n",
    "]\n",
    "\n",
    "deep_beam_railing_criteria = [\n",
    "    {\"label\": \"Deep beam guardrail must be used in accordance with\", \"section\": \"309.4.3.4\"}\n",
    "]\n",
    "\n",
    "twin_steel_tube_criteria = [\n",
    "    {\"label\": \"Reference to Standard Drawing. TST-1-99 Given.\"},\n",
    "    {\"label\": \"Pay limits for bridge railing measured center-to-center of the second posts on the approaches?\"},\n",
    "    {\"label\": \"Rail post spacing of 6'-3\\\" c/c of post maintained except one post spacing per span can be decreased to allow for construction clearances.\"},\n",
    "    {\"label\": \"Suitable clearances between posts and back walls and between post anchors and expansion joint armor anchors provided?\"},\n",
    "    {\"label\": \"Wing-wall mounted post used to provide suitable post and anchor bar clearances?\"},\n",
    "    {\"label\": \"For box beam bridges with steel railing, the post spacing and position of post anchorage shall be detailed on the plans.\"},\n",
    "    {\"label\": \"Enlarged details provided to describe post anchorage to composite box beams?\"}\n",
    "]\n",
    "\n",
    "sidewalk_with_conc_para_criteria = [\n",
    "    {\"label\": \"Railing posts spaced to clear parapet deflection joints as per STD-BR-2-15.\"},\n",
    "    {\"label\": \"Radius of curved railing not less than 20 feet without special details. This is noted in STD-BR-2-15 Sheet 5 of 5 Under Horizontal Curvatures Title.\"},\n",
    "    {\"label\": \"All horizontal reinforcing steel should be detailed as per STD-BR-2-15.\"},\n",
    "    {\"label\": \"Steel tubing has provision for Expansion and Contraction as shown on STD-BR-2-15 Sheet 1 of 5 View D-D.\"}\n",
    "]\n",
    "\n",
    "parapet_railing_criteria = [\n",
    "    {\"label\": \"Parapet when to use per\", \"section\": \"309.4.3\"},\n",
    "    {\"label\": \"Complete details of the Parapet Type bridge railing shown on the plans?\"},\n",
    "    {\"label\": \"Railing transition preferably mounted on turn back abutment wingwalls or approach slabs?\"},\n",
    "    {\"label\": \"For bridges with expansion joints and with parapets mounted on approach slabs, the 1'-1\\\" high base portion of the parapets within the width of back walls are reinforced and placed as part of the abutments to provide an integral structure for mounting the expansion joint armor?\"},\n",
    "    {\"label\": \"Such parapets provided with special reinforcement and joint details to allow consolidation induced rotation of the approach slabs without parapet distress?\"},\n",
    "    {\"label\": \"Curb heights on approach slabs limited to 4 inches as shown in Section F-F on Deflector Parapet Type drawing?\"},\n",
    "    {\"label\": \"Details of filler between approach slab and turn back wing-wall at the base of the parapet made to conform to DETAIL F of Standard Drawing AS-1-15.\"},\n",
    "    {\"label\": \"Parapet length of 14'-0\\\" or more provided to allow the standard transition length to be used?\"},\n",
    "    {\"label\": \"Reference made to the roadway plans for details and payment provisions for Bridge Terminal Assembly\", \"section\": \"Drawings MGS-3.1 and MGS-3.2\"}\n",
    "]\n",
    "\n",
    "parapet_and_fence_criteria = [\n",
    "    {\"label\": \"2'-8\\\" high parapets provided?\"},\n",
    "    {\"label\": \"New guideline for fencing? Fence used on all structure over live traffic except over County and Township roads.\"},\n",
    "    {\"label\": \"Fence details conform to Standard Drawings VPF-1-90?\"}\n",
    "]\n",
    "\n",
    "elastomeric_bearings_criteria = [\n",
    "    {\"label\": \"Steel load plate provided for attachment to steel members?\", \"section\": \"306.4.2\"},\n",
    "    {\"label\": \"Elastomer hardness specified?\", \"section\": \"306.4.2\"},\n",
    "    {\"label\": \"An elastomeric pad thickness of 1 inch or more provided (Such pads generally must be reinforced with steel laminates)?\", \"section\": \"306.4.2\"},\n",
    "    {\"label\": \"A tabulation of unfactored dead load, live load excluding impact, and 'Maximum Design Load' given?\"},\n",
    "    {\"label\": \"For prestressed box beam bridges without external steel load plates, bearing shall conform to Standard Drawing BD-1-11?\"},\n",
    "    {\"label\": \"Elastomeric bearing with a load plate shall have the plate beveled if the rotation and/or grade exceed the limitations of AASHTO LRFD 14.7.5.3.3 Method B and 14.7.6.3.5 Method A?\"},\n",
    "    {\"label\": \"Provided with bearing details.\", \"section\": \"Note no. 702.13\"},\n",
    "    {\"label\": \"Top and bottom cover layers should not be thicker than 70% of internal layers\", \"section\": \"AASHTO LRFD 14.7.6.1\"},\n",
    "    {\"label\": \"No top cover layer for bearing with load plate.\", \"section\": \"AASHTO LRFD 14.7.6.1\"},\n",
    "    {\"label\": \"Following note included: 'All bearings shall be marked prior to shipping. The marks shall include the bearing location on the bridge, and a direction arrow that points up-station. All marks shall be permanent and be visible after the bearing is installed.'\"},\n",
    "    {\"label\": \"A plate bigger than bottom flange on top of HP section so that it can be welded from the top.\"}\n",
    "]\n",
    "\n",
    "anchor_bars_criteria = [\n",
    "    {\"label\": \"Furnishing and placing anchor bars and ¾” galvanized threaded rod included with Bearing box beams or I-beams) for payment?\", \"section\": \"Standard Drawing BD-1-11, PSBD-2-07. Not required for PSBD-2-07\"},\n",
    "    {\"label\": \"For steel bearings, furnishing and placing anchor bars included with bearings for payment?\", \"section\": \"RB-1-55 and FB-1-82\"}\n",
    "]\n",
    "\n",
    "anchor_bolt_criteria = [\n",
    "    {\"label\": \"Outline of masonry plate?\"},\n",
    "    {\"label\": \"Anchor bolt size and embedment length.\"},\n",
    "    {\"label\": \"Bearing Anchor Plan to adequately show the location of the bearing anchors with respect to the main reinforcing bars and the edges of the bridge seats shall be provided.\", \"section\": \"306.2.1.2\"}\n",
    "]\n",
    "\n",
    "bearings_misc_criteria = [\n",
    "    {\"label\": \"Movement Provisions: Bearing movement provisions (Fixed, expansion restrained) indicated on the Site Plan and General Plan?\", \"section\": \"201.1.2.2KI\"},\n",
    "    {\"label\": \"Bearing designation (i.e., R-200) for each substructure unit indicated on the framing plan, beam elevation, or deck plan?\"},\n",
    "    {\"label\": \"Bearing details or reference to standard drawings given? Separate pay item provided for other than standard steel bearings (steel bearings for steel bridge are usually included with structural steel for payment)?\"},\n",
    "    {\"label\": \"Bearing types provided consistent with superstructure movement (longitudinal, lateral, and rotational)?\"},\n",
    "    {\"label\": \"Bearings/Joints: For bridges with sidewalk, bearing types compatible with deck joint characteristics?\"},\n",
    "    {\"label\": \"Bridge Seats: Bridge seats large enough for the size bearing used taken into account the need for edge clearances and construction tolerances (wider seats are usually provided for some bridges which are skewed greater than 30 degrees)?\"},\n",
    "    {\"label\": \"Grade Considerations: Tapered sole plates provided for rocker and bolster bearings for grades of 2 percent or greater?\"},\n",
    "    {\"label\": \"Coatings: Are notes provided to specify the type of coating required, if other than bare ASTM steel or Elastomeric bearings?\"},\n",
    "    {\"label\": \"Bridge seats adequate for earthquake provision?\", \"section\": \"306.2.1.1\"},\n",
    "    {\"label\": \"Are seismic restraints required?\", \"section\": \"1003 - S3.10.9.2, 303.1.4.1.a\"}\n",
    "]\n",
    "\n",
    "deck_joint_terminal_criteria = [\n",
    "    {\"label\": \"To confine deck drainage, recessed joint seals, joints terminated as shown in Sections A-A and F-F of Standard Drawings EXJ-2-81 and EXJ-3-82; and Sections B-B and F-F Of Standard Drawing EXJ-4-87 and EXJ-5-93.\"},\n",
    "    {\"label\": \"For new bridges with over the side drainage and wall-type abutments, abutment wing-walls or retaining walls positioned flush with the back wall to allow extension of sealed deck joints beyond the bridge seats?\"}\n",
    "]\n",
    "\n",
    "joint_bearing_coordination_criteria = [\n",
    "    {\"label\": \"For bridges with elastomeric bearings and sliding plate type joints, bridging plates positioned cantilevered from the abutment side of the joint to prevent the plate from binding due to the compressive deflection of the bearings?\"},\n",
    "    {\"label\": \"For sliding plate type joints on grades, a bevel fill attached to the underside of the cantilever plate to provide a level sliding surface to parallel the direction of bearing movement?\"},\n",
    "    {\"label\": \"Sliding plate type joints avoided on all structures?\"}\n",
    "]\n",
    "\n",
    "deck_joints_misc_criteria = [\n",
    "    {\"label\": \"Box Beams: The use of joints generally follows the guidelines given in\", \"section\": \"309.6.3\"},\n",
    "    {\"label\": \"Recessed Seals: Joint seals recessed below the roadway surface (i.e. strip and compression), with channel deck drainage laterally, detailed to prevent discharge of deck drainage on bridge seats?\"},\n",
    "    {\"label\": \"Adjustment: A joint width adjustment table, in 10 degree increments for 30 degrees to 90 degrees, given for setting joint widths other than the 60 degree installation temperature? The effect of joint skew taken into account when computing joint adjustment dimensions?\"},\n",
    "    {\"label\": \"Sawing and Sealing Bituminous Joints detail sheet provided for box beam bridges with poured seal type joints at abutments?\"},\n",
    "    {\"label\": \"Prestressed concrete I-beam bridges follow the guidelines given in section\", \"section\": \"309.6.3\"}\n",
    "]\n",
    "\n",
    "scuppers_criteria = [\n",
    "    {\"label\": \"Is/was the use of scuppers avoided? Scuppers avoided over embankment slopes? Scuppers spaced to clear cross frames, placed at least 6 feet from the face of piers and abutments; extended at least 8 inches below beams and girders; located inside of fascia beams of grade separation structures and other highly visible structures; not been placed through box beams unless such placement cannot be avoided? See BDM 309.7 and 'Bridge Deck Drainage Guidelines,' FHWA HEC 21 & 22.\"}\n",
    "]\n",
    "\n",
    "approach_drainage_criteria = [\n",
    "    {\"label\": \"Use made of parapet transitions and curbs on approach slabs to channel deck drainage away from structures towards approach inlets or embankment side slope flumes. See Standard Construction Drawing DM-4.1.\"}\n",
    "]\n",
    "\n",
    "drainage_collection_criteria = [\n",
    "    {\"label\": \"These avoided? Where their use cannot be avoided, steepest possible slopes provided? Large sizes used to help avoid blockage? Convenient clean out provided? Type of field splices specified? Supports adequate to provide a rigid system?\"}\n",
    "]\n",
    "\n",
    "elastomeric_trough_criteria = [\n",
    "    {\"label\": \"Reinforced elastomer required by performance specification?\"},\n",
    "    {\"label\": \"Joint made by vulcanization under heat and pressure?\"},\n",
    "    {\"label\": \"Steep slopes (2 inches per foot or more) used to increase drainage velocity?\"},\n",
    "    {\"label\": \"Large discharge openings (12 inch diameter minimum)?\"},\n",
    "    {\"label\": \"Fasteners for scuppers located outside of the trough for convenient access?\"},\n",
    "    {\"label\": \"Galvanized hardware used?\"},\n",
    "    {\"label\": \"Interior steel surfaces metalized and asphalt coated?\"}\n",
    "]\n",
    "\n",
    "erosion_protection_criteria = [\n",
    "    {\"label\": \"Ground surfaces below scuppers protected by crushed aggregate or concrete slope protection?\"},\n",
    "    {\"label\": \"Crushed aggregate or concrete slope protection extended (3'-0\\\" minimum) beyond edges of open decks?\"},\n",
    "    {\"label\": \"At acute corners of bridges, slope protection extends normal to toe of slope?\"}\n",
    "]\n",
    "\n",
    "utilities_criteria = [\n",
    "    {\"label\": \"Documentation on file approved placement of utility on bridge?\"},\n",
    "    {\"label\": \"Concrete embedded utility conduits shown to clear construction joints by 1 inch minimum and other conduits by 2 inches minimum?\"},\n",
    "    {\"label\": \"Utilities not supported on fascia or below bottom of superstructure? On grade separation structures, no utilities in bay adjacent to fascia stringer?\"},\n",
    "    {\"label\": \"Gas and water lines not embedded in concrete? Not embedded in section of deck supporting vehicular traffic?\"},\n",
    "    {\"label\": \"Expansion provisions for utilities shown if appropriate? (Sometimes shown only on utility sheets)\"},\n",
    "    {\"label\": \"Payment for utility supports clearly described by plan note and estimated quantities? (e.g., quantity table footnote stating portion of Item 513 Structural Steel to be paid for by the utility company)\"}\n",
    "]\n",
    "\n",
    "grounding_criteria = [\n",
    "    {\"label\": \"Verify the structure is properly grounded as per Standard Drawing HL-50.21.\"}\n",
    "]\n",
    "\n",
    "approach_slab_criteria = [\n",
    "    {\"label\": \"Removal of existing approach slab included in the estimated quantities 310.2\"},\n",
    "    {\"label\": \"Removal of existing Wearing Surface included in the estimated quantities as per CMS 202\"},\n",
    "    {\"label\": \"Non-standard approach slab shown 'Modified' in the structure block.\"},\n",
    "    {\"label\": \"Current Standard Drawing reference in proposed structure data block and in the General Notes.\"},\n",
    "    {\"label\": \"Bars D801 or D802 included in the reinforcing steel list?\"},\n",
    "    {\"label\": \"Pay-Item 526 for Type _ Installation included?\"},\n",
    "    {\"label\": \"Pay-Item for Polymer Modified Asphalt Expansion Joint System or Item 516 – Armorless Preformed Joint Seal included?\"}\n",
    "]\n",
    "\n",
    "piers_general_criteria = [\n",
    "    {\"label\": \"For freestanding piers, is the footing width at least one-fourth the height where founded on soil, one-fifth the height where founded on rock, and one-fifth the height between centers of outside piles? 306.3.1\"},\n",
    "    {\"label\": \"For cap and column piers on piles or bedrock, columns should generally have separate footings. 306.3.3.1.a\"},\n",
    "    {\"label\": \"Pier cap terminate inside the fascia and drip groove? (For box beam bridges, pier width should allow for 1/4 inch per joint fit-up between box beams) 308.2.3.3\"},\n",
    "    {\"label\": \"Bearing Anchor Plan shown? Are anchor bolt dimensions normal and parallel to the centerline of bearing?\"},\n",
    "    {\"label\": \"Cap and column piers preferably designed with a cantilevered cap? 306.3.1\"},\n",
    "    {\"label\": \"For slab bridges, is a construction joint placed at the top of the pier cap? 306.3.3.2\"},\n",
    "    { \"label\": \"Piers in navigable waterways designed to resist collision forces based on AASHTO LRFD bridge design Specification. 306.3.7\"},\n",
    "    {\"label\": \"Ends of pier caps (all surfaces) under the edge of decks with over-the-side drainage sealed? 306.1.2\"},\n",
    "    {\"label\": \"Appropriate surfaces of roadway shoulder piers sealed? 306.1.2\"},\n",
    "    {\"label\": \"For phased construction, is each phase supported by a minimum of three piles or two drilled shafts? 306.3.1\"}\n",
    "]\n",
    "\n",
    "pier_pile_criteria = [\n",
    "    {\"label\": \"Design strives to utilize maximum allowable pile spaces and maximum allowable design loads to minimize the number of piles 305.3.5.1\"},\n",
    "    {\"label\": \"At least four piles per footing? 305.3.5.1 & 306.3.3.1.a\"},\n",
    "    {\"label\": \"Battered piles required 305.3.5.8\"},\n",
    "    {\"label\": \"Pile spacing a minimum of 2'-6\\\" or 2.5 times the pile width/diameter? AASHTO LRFD 10.7.1.2\"},\n",
    "    {\"label\": \"Distance from center of piles to edge of footing at least 1'-6\\\"? 305.3.5.1\"},\n",
    "    {\"label\": \"Can piles be driven without interfering with sheeting, cofferdams, or other bridge or adjacent building components?\"},\n",
    "    {\"label\": \"Station of intersection of the centerline of bearings and station line.\"},\n",
    "    {\"label\": \"Tie the pile spacing to the intersection of the centerline of bearings and station line.\"},\n",
    "    {\"label\": \"Number all piles 305.4.4\"}\n",
    "]\n",
    "\n",
    "capped_pile_piers_criteria = [\n",
    "    {\"label\": \"Pile spacing less than or equal to 7.5 feet? 305.3.5.1\"},\n",
    "    {\"label\": \"Height above flow line generally limited to 20 feet, or piles specially designed? 306.3.3\"},\n",
    "    {\"label\": \"Distance from edge of pile to face of pier cap is at least 9 inches? 305.3.5.1\"},\n",
    "    {\"label\": \"Pile encasements specified and paid for H-piles)? 606.5-1\"},\n",
    "    {\"label\": \"Minimum of 1'-6\\\" cover provided above the piles? 305.3.5.1\"}\n",
    "]\n",
    "\n",
    "cap_and_column_piers_criteria = [\n",
    "    {\"label\": \"Diameter of the pier column specified to be 3'-0\\\" and the drilled shaft diameter a minimum of 3'-6\\\"? 305.4.4.2\"},\n",
    "    {\"label\": \"Location of the construction joint at the pier column/drilled shaft interface appropriate? (Usually 1 foot above OHWM elevation, for piers in water, and 1 foot below the ground line elsewhere.) 305.4.4\"},\n",
    "    {\"label\": \"A construction joint between the top of drilled shaft and the bottom of the column shown and splice cage provided? FIG. 303.5.4\"},\n",
    "    {\"label\": \"Reinforcing details at the column/drilled shaft construction joint appropriate? Typically, the reinforcing cage diameter is a common size between the column, drilled shaft, and bedrock socket.\"},\n",
    "    {\"label\": \"Bedrock socket depth shown on the plans? (Bottom of socket elevation should generally not be given) 305.4.2\"},\n",
    "    {\"label\": \"Reinforcing Steel in the drilled shafts? BDM305.4.4.3\"},\n",
    "    {\"label\": \"Spacing of the drilled shafts appropriate? Typically, spacings from 12 to 18 feet are used.\"},\n",
    "    {\"label\": \"Drilled shafts should be spaced to utilize the maximum bedrock end bearing pressures and a minimum number of drilled shafts.\"}\n",
    "]\n",
    "\n",
    "abutments_general_criteria = [\n",
    "    {\"label\": \"Abutments easily located? Station and overall dimensions?\"},\n",
    "    {\"label\": \"Dimensions referenced from the proper working points? Beam/girder bridges (steel or concrete) intersection of centerline of survey and centerline of bearings. Concrete slab bridges centerline of survey is assumed 12 inches behind the face of the abutment. 201.2.1.1\"},\n",
    "    {\"label\": \"Types of Abutments 306.2 & 306.2.2\"},\n",
    "    {\"label\": \"Wing-wall lengths checked?\"},\n",
    "    {\"label\": \"If ground lines are shown, are they appropriate?\"},\n",
    "    {\"label\": \"Earth benches not been used for new designs? Depth of approach slab seat Shown? 306.2.1.4 for CPA-1-08 abutments\"},\n",
    "    {\"label\": \"Bridge seat sloped to drain toward the face of abutment for beam or girder bridges on spill-through abutments except at bearings)? (For grade separations on wall-type abutments, are the bridge seats sloped to drain toward the back wall, with a depressed gutter and drainage system provided? 306.2.3.2\"},\n",
    "    {\"label\": \"For box beam bridges, are provisions necessary to ensure proper fit of the elastomeric bearings i.e., sloped bridge seats or tapered bearings)? DB-1-11\"},\n",
    "    {\"label\": \"For box beam bridges, is the bridge seat length adequate to support all bearings, accounting for 1/2-inch fit-up per beam joint? Beam seat should not protrude from beneath deck edge when a fit-up allowance of 1/4 inch per foot is used for pier. 308.2.3.3\"},\n",
    "    {\"label\": \"For box beam bridges, has the proper wearing surface thickness at the abutments being used to compute bridge seat elevations? 309.1\"},\n",
    "    {\"label\": \"Dowel holes drilled parallel to a free edge clear concrete surface by at least 4 inches?\"},\n",
    "    {\"label\": \"Bearing anchor plan shown? Anchor bolt location dimensions normal and parallel to centerline of bearing? 306.2.1.2 & 701.2\"},\n",
    "    {\"label\": \"Joint filler shown between concrete box beams and wing-wall concrete? 308.2.3.3\"},\n",
    "    {\"label\": \"Construction joint shown at the level of the approach slab seat for steel superstructures?\"},\n",
    "    {\"label\": \"Construction joint provided in wing-walls of box beam bridges at bridge seat elevation? 308.2.3.3\"},\n",
    "    {\"label\": \"Plan note restricting placement of wing-wall concrete included for box beam bridges?\"},\n",
    "    {\"label\": \"Appropriate surfaces sealed using an appropriate sealer? 306.1.2 & 309.2.1\"},\n",
    "    {\"label\": \"Type 2 waterproofing used at construction joints? Typically used above ground at stage construction joints, or joints between existing and proposed concrete) 306.2.1.3\"},\n",
    "    {\"label\": \"Expansion & Contraction joints provided as appropriate? 306.2.5\"},\n",
    "    {\"label\": \"Weep-holes located 6 inches to 1 foot above ground level or normal waterline? 306.2.3.3\"},\n",
    "    {\"label\": \"Porous backfill shown 6 inches below weep holes 306.2.3.3\"},\n",
    "    {\"label\": \"Geotextile fabric specified between the porous backfill and the approach fill? Has it been turned up 6 inches at the wall? 306.2.3.1\"},\n",
    "    {\"label\": \"Lateral limits of porous backfill 2'-0\\\" thick) clearly indicated in the elevation view as described by 306.2.3.1\"},\n",
    "    {\"label\": \"End caps shown on drain pipes, except at outlets? 306.2.3.1\"},\n",
    "    {\"label\": \"For wall-type abutments where strut action of the superstructure is relied upon for stability, has a plan note been provided limiting height of backfill until superstructure is placed?\"},\n",
    "    {\"label\": \"Pipe drainage system used? 306.2.3.1\"},\n",
    "    {\"label\": \"For rehabilitation, does the connection between the new and existing concrete appear adequate? Existing reinforcing that is incorporated into the new work should generally be shown in the proposed cross-section.\"},\n",
    "    {\"label\": \"Aesthetic for wall-type abutments 306.2.2.1\"},\n",
    "    {\"label\": \"For phase construction, is each phase supported by a minimum of three piles or two drilled shafts? 306.2.2.3, 306.2.2.4 & 306.2.2.5\"},\n",
    "    {\"label\": \"Top strap of the MSE wall should be 6” below the footing. See figure 201-2 & 201-3 of the BDM.\"},\n",
    "    {\"label\": \"What type of protection is used to prevent the weed growth in the area between the footing and MSE wall?\"},\n",
    "    {\"label\": \"For high skew semi-integral bridges keep the beam seat level and use variable height of the HP section. Not possible to bend # 8 bars.\"}\n",
    "]\n",
    "\n",
    "abutment_pile_criteria = [\n",
    "    {\"label\": \"Flanges of piles parallel to face of rigid abutments; webs parallel to face of flexible abutment (including CPA-1-08/ICD-1-82 abutments and CPP-1-08 piers)?\"},\n",
    "    {\"label\": \"Battered piles required? (Rate of batter shown? 1:4 desirable, 1:3 acceptable) 305.3.5.8\"},\n",
    "    {\"label\": \"Pile embedment into footing shown as 1'-6\\\" cover shown above piles or as per 305.3.5\"},\n",
    "    {\"label\": \"Pile design load 305.3.3 & 305.3.4\"},\n",
    "    {\"label\": \"Distance from center of piles to edge of footing at least 1'-6\\\"? (Not the Ultimate Bearing Value UBV pile load) shown in the General Notes? UBV as per 305.3.5.1\"},\n",
    "    {\"label\": \"For abutments on a single row of piles, have closed ties been provided around the piles? For example, see Standard Drawing ICD-1-82\"},\n",
    "    {\"label\": \"Design utilizes maximum allowable pile spacing and maximum allowable design loads to minimize the number of piles 305.3.5, 305.3.3 & 305.3.4\"},\n",
    "    {\"label\": \"For abutments on a single row of piles, has the footing been extended to the ends of the wingwalls and straight wing-walls used?\"}\n",
    "]\n",
    "\n",
    "drilled_shaft_criteria = [\n",
    "    {\"label\": \"Drilled shaft diameter a minimum of 3'-0\\\"? 305.4\"},\n",
    "    {\"label\": \"Bedrock socket depth shown on the plans? (Bottom of socket elevation should generally not be given)\"},\n",
    "    {\"label\": \"Spacing of the drilled shafts appropriate? Typically, spacing for 12 to 18 feet are used. Drilled shafts should attempt to be spaced to utilize the maximum bedrock end bearing pressures and a minimum number of drilled shafts.\"},\n",
    "    {\"label\": \"Splice cage specified? 303.4.4.3 & Fig. 305-4\"},\n",
    "    {\"label\": \"Use of friction drilled shaft requires previous approval of OGE? 305.4.3\"}\n",
    "]\n",
    "\n",
    "all_criteria = {\n",
    "    var_name: globals()[var_name]\n",
    "    for var_name in globals().keys()\n",
    "    if var_name.endswith(\"_criteria\") and var_name != \"all_comments\"  # Exclude itself\n",
    "}\n",
    "```"
   ]
  },
  {
   "cell_type": "code",
   "execution_count": null,
   "id": "e772d1ea-2f45-4e92-8879-dca4ab08a763",
   "metadata": {},
   "outputs": [],
   "source": []
  }
 ],
 "metadata": {
  "kernelspec": {
   "display_name": "Python 3 (ipykernel)",
   "language": "python",
   "name": "python3"
  },
  "language_info": {
   "codemirror_mode": {
    "name": "ipython",
    "version": 3
   },
   "file_extension": ".py",
   "mimetype": "text/x-python",
   "name": "python",
   "nbconvert_exporter": "python",
   "pygments_lexer": "ipython3",
   "version": "3.13.3"
  }
 },
 "nbformat": 4,
 "nbformat_minor": 5
}
