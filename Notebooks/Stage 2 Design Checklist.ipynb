{
 "cells": [
  {
   "cell_type": "markdown",
   "id": "9f9719ee-b4cd-4af8-bcb3-32b1db4fd182",
   "metadata": {},
   "source": [
    "# Stage 2 Design Checklist"
   ]
  },
  {
   "cell_type": "code",
   "execution_count": 1,
   "id": "f81cf11f-b561-4ca7-ad43-8ceca350e9bc",
   "metadata": {},
   "outputs": [],
   "source": [
    "import sys\n",
    "\n",
    "# Temporary override to import functions before they're pushed to production\n",
    "sys.path.insert(1, r'C:\\Users\\dparks1\\PycharmProjects\\civilpy\\src\\civilpy')"
   ]
  },
  {
   "cell_type": "code",
   "execution_count": 2,
   "id": "40db3185-d81d-4419-802a-693e9f280bcf",
   "metadata": {},
   "outputs": [],
   "source": [
    "from civilpy.state.ohio.DOT.OSE import Stage2StructuralChecklist\n",
    "\n",
    "checklist = Stage2StructuralChecklist()"
   ]
  },
  {
   "cell_type": "markdown",
   "id": "1793220a-076b-4b74-94e8-a9d7b63767f4",
   "metadata": {},
   "source": [
    "# General Project Information"
   ]
  },
  {
   "cell_type": "code",
   "execution_count": 3,
   "id": "7ffcc3f6-6708-45d6-9cee-3d6dc159e64d",
   "metadata": {},
   "outputs": [
    {
     "data": {
      "application/vnd.jupyter.widget-view+json": {
       "model_id": "2fcf661fb4c44308b078e08ab24a193a",
       "version_major": 2,
       "version_minor": 0
      },
      "text/plain": [
       "Text(value='', description='CTY-RTE-SEC: ', placeholder='Bridge CTY-RTE-SEC')"
      ]
     },
     "metadata": {},
     "output_type": "display_data"
    },
    {
     "data": {
      "application/vnd.jupyter.widget-view+json": {
       "model_id": "944874078f134758b092723bc58df704",
       "version_major": 2,
       "version_minor": 0
      },
      "text/plain": [
       "Text(value='', description='Checked By: ', placeholder=\"Employee's Initials\")"
      ]
     },
     "metadata": {},
     "output_type": "display_data"
    },
    {
     "data": {
      "application/vnd.jupyter.widget-view+json": {
       "model_id": "3b0bf15740d34a8a8e0c9939bc510906",
       "version_major": 2,
       "version_minor": 0
      },
      "text/plain": [
       "DatePicker(value=datetime.date(2025, 5, 27), description='Date:', step=1)"
      ]
     },
     "metadata": {},
     "output_type": "display_data"
    },
    {
     "data": {
      "application/vnd.jupyter.widget-view+json": {
       "model_id": "d20428a5d29c4a9bad1a9df29b17ff41",
       "version_major": 2,
       "version_minor": 0
      },
      "text/plain": [
       "Text(value='', description='SFN: ', placeholder='Enter multiple if more than one')"
      ]
     },
     "metadata": {},
     "output_type": "display_data"
    },
    {
     "data": {
      "application/vnd.jupyter.widget-view+json": {
       "model_id": "974eb8d24fc247a3abb32d8985caf3e5",
       "version_major": 2,
       "version_minor": 0
      },
      "text/plain": [
       "Text(value='', description='PID: ', placeholder='Project PID')"
      ]
     },
     "metadata": {},
     "output_type": "display_data"
    },
    {
     "data": {
      "application/vnd.jupyter.widget-view+json": {
       "model_id": "9516e58dd80b4c2b8a95ce77040b38d1",
       "version_major": 2,
       "version_minor": 0
      },
      "text/plain": [
       "Button(button_style='primary', description='Submit', icon='check', style=ButtonStyle(), tooltip='Click to subm…"
      ]
     },
     "metadata": {},
     "output_type": "display_data"
    }
   ],
   "source": [
    "# Display inputs for General Project Information\n",
    "checklist.create_project_info_inputs()"
   ]
  },
  {
   "cell_type": "markdown",
   "id": "a7f56df7-8482-4290-b4ed-12da2b65ff5f",
   "metadata": {},
   "source": [
    "# Project Scope"
   ]
  },
  {
   "cell_type": "code",
   "execution_count": 4,
   "id": "10e021ee-5182-4c8d-acec-60e3de6d8525",
   "metadata": {},
   "outputs": [
    {
     "name": "stdout",
     "output_type": "stream",
     "text": [
      "Does the project involve any temporary works? Select all that apply.\n"
     ]
    },
    {
     "data": {
      "application/vnd.jupyter.widget-view+json": {
       "model_id": "0a07794f953c4d0688ee4f76c9dc7427",
       "version_major": 2,
       "version_minor": 0
      },
      "text/plain": [
       "SelectMultiple(description='Select: ', options=(None, 'Shoring', 'Sheeting', 'Cofferdams', 'Water Diversion'),…"
      ]
     },
     "metadata": {},
     "output_type": "display_data"
    },
    {
     "name": "stdout",
     "output_type": "stream",
     "text": [
      "\n",
      "===============================Superstructure===============================\n",
      "\n",
      "Select the superstructure components included in the project scope.\n"
     ]
    },
    {
     "data": {
      "application/vnd.jupyter.widget-view+json": {
       "model_id": "894868cfcc6c4aabbcaaafb3e01fa92f",
       "version_major": 2,
       "version_minor": 0
      },
      "text/plain": [
       "SelectMultiple(description='Select: ', options=(None, 'Slab', 'Prestressed Concrete Box Beams', 'Prestressed C…"
      ]
     },
     "metadata": {},
     "output_type": "display_data"
    },
    {
     "name": "stdout",
     "output_type": "stream",
     "text": [
      "\n",
      "===============================Substructure===============================\n",
      "\n",
      "Select the substructure components included in the project scope.\n"
     ]
    },
    {
     "data": {
      "application/vnd.jupyter.widget-view+json": {
       "model_id": "dd2f74410881402dbae8a38d7104d4ce",
       "version_major": 2,
       "version_minor": 0
      },
      "text/plain": [
       "SelectMultiple(description='Select: ', options=(None, 'Piers', 'Abutments', 'Drilled Shafts'), rows=4, value=(…"
      ]
     },
     "metadata": {},
     "output_type": "display_data"
    },
    {
     "data": {
      "application/vnd.jupyter.widget-view+json": {
       "model_id": "0473392889d54090a2d928223357add1",
       "version_major": 2,
       "version_minor": 0
      },
      "text/plain": [
       "Button(button_style='primary', description='Save Scope', icon='check', style=ButtonStyle(), tooltip='Click to …"
      ]
     },
     "metadata": {},
     "output_type": "display_data"
    }
   ],
   "source": [
    "# Display inputs for Project Scope (Temporary Works)\n",
    "checklist.get_project_scope()"
   ]
  },
  {
   "cell_type": "markdown",
   "id": "63a91693-1c28-4a24-bc0a-c28fc908ff07",
   "metadata": {},
   "source": [
    "# Get Detailed Scope Information"
   ]
  },
  {
   "cell_type": "code",
   "execution_count": 9,
   "id": "ca22801c-9f3a-45dc-9299-117c4b537998",
   "metadata": {},
   "outputs": [
    {
     "data": {
      "application/vnd.jupyter.widget-view+json": {
       "model_id": "3a4921cdb7ef4b068e228e634d711d14",
       "version_major": 2,
       "version_minor": 0
      },
      "text/plain": [
       "SelectMultiple(description='Select: ', options=('Rolled', 'Plate'), rows=2, value=())"
      ]
     },
     "metadata": {},
     "output_type": "display_data"
    },
    {
     "data": {
      "application/vnd.jupyter.widget-view+json": {
       "model_id": "54191a605b0f48c0b63fbf2085f0c25e",
       "version_major": 2,
       "version_minor": 0
      },
      "text/plain": [
       "Button(button_style='primary', description='Save Stringers', icon='check', style=ButtonStyle(), tooltip='Click…"
      ]
     },
     "metadata": {},
     "output_type": "display_data"
    },
    {
     "name": "stdout",
     "output_type": "stream",
     "text": [
      "\n",
      "\n"
     ]
    }
   ],
   "source": [
    "checklist.get_detailed_scope()"
   ]
  },
  {
   "cell_type": "code",
   "execution_count": 11,
   "id": "f85dbd6d-614d-4e9b-b2a0-2d2969171adc",
   "metadata": {},
   "outputs": [
    {
     "name": "stdout",
     "output_type": "stream",
     "text": [
      "{'Project Info': {'checker': '',\n",
      "                  'cty_rte_sec': '',\n",
      "                  'date': 'May 27, 2025',\n",
      "                  'pid': '',\n",
      "                  'sfn': ''},\n",
      " 'Scope': {'Substructure': None,\n",
      "           'Superstructure': {'Steel Stringers': ['Rolled']},\n",
      "           'Temp_Works': None}}\n"
     ]
    }
   ],
   "source": [
    "import pprint\n",
    "\n",
    "pprint.pprint(checklist.data)"
   ]
  },
  {
   "cell_type": "code",
   "execution_count": null,
   "id": "e2702382-366c-4d0e-aa01-c35a5bc057ff",
   "metadata": {},
   "outputs": [],
   "source": []
  },
  {
   "cell_type": "code",
   "execution_count": null,
   "id": "88602077-091e-4ff5-876f-7c4309fac821",
   "metadata": {},
   "outputs": [],
   "source": []
  },
  {
   "cell_type": "code",
   "execution_count": null,
   "id": "e6e737d2-febf-486e-8f74-fed23a46b398",
   "metadata": {},
   "outputs": [],
   "source": []
  },
  {
   "cell_type": "code",
   "execution_count": null,
   "id": "c1976d8c-9ec6-4761-96e0-6dd87c939494",
   "metadata": {},
   "outputs": [],
   "source": []
  },
  {
   "cell_type": "code",
   "execution_count": null,
   "id": "e1aa5352-310c-434e-8ea3-05709bb12625",
   "metadata": {},
   "outputs": [],
   "source": []
  },
  {
   "cell_type": "code",
   "execution_count": null,
   "id": "3569e3e2-8d73-474a-9042-ba5ba6fa0881",
   "metadata": {},
   "outputs": [],
   "source": []
  },
  {
   "cell_type": "code",
   "execution_count": null,
   "id": "43ca3abc-dc42-4c6d-9c2e-12b4ba9ea8ef",
   "metadata": {},
   "outputs": [],
   "source": []
  }
 ],
 "metadata": {
  "kernelspec": {
   "display_name": "Python 3 (ipykernel)",
   "language": "python",
   "name": "python3"
  },
  "language_info": {
   "codemirror_mode": {
    "name": "ipython",
    "version": 3
   },
   "file_extension": ".py",
   "mimetype": "text/x-python",
   "name": "python",
   "nbconvert_exporter": "python",
   "pygments_lexer": "ipython3",
   "version": "3.13.3"
  }
 },
 "nbformat": 4,
 "nbformat_minor": 5
}
