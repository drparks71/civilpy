{
 "cells": [
  {
   "cell_type": "markdown",
   "id": "9f9719ee-b4cd-4af8-bcb3-32b1db4fd182",
   "metadata": {},
   "source": [
    "# Stage 2 Design Checklist"
   ]
  },
  {
   "cell_type": "markdown",
   "id": "fbd86702-bc30-4bba-a7aa-8bc356251164",
   "metadata": {},
   "source": [
    "- [ ] 301 - Designs are in conformance w/ latest edition of AASHTO LRFD bridge Design Spec\n",
    "- [ ] 302.1 - \"Required Minimum\" and \"Actual Minimum\" Vertical Clearances are shown\n",
    "- [ ] 302.3 - "
   ]
  },
  {
   "cell_type": "code",
   "execution_count": 1,
   "id": "1ae791c8-6eae-47cf-b86c-ad654e005216",
   "metadata": {},
   "outputs": [
    {
     "data": {
      "application/vnd.jupyter.widget-view+json": {
       "model_id": "6ef895d464254b639c764c61aa1399f9",
       "version_major": 2,
       "version_minor": 0
      },
      "text/plain": [
       "Checkbox(value=False, description='Check me')"
      ]
     },
     "metadata": {},
     "output_type": "display_data"
    }
   ],
   "source": [
    "from ipywidgets import Checkbox, VBox\n",
    "from IPython.display import display\n",
    "\n",
    "# Create an interactive checkbox\n",
    "checkbox = Checkbox(\n",
    "    value=False,       # Default state (False = unchecked, True = checked)\n",
    "    description='Check me',  # Label displayed beside the checkbox\n",
    "    disabled=False     # False = enabled, True = disabled\n",
    ")\n",
    "\n",
    "# Display the checkbox\n",
    "display(checkbox)"
   ]
  },
  {
   "cell_type": "code",
   "execution_count": null,
   "id": "94d291df-6055-4b4e-a25d-ff4daa625997",
   "metadata": {},
   "outputs": [],
   "source": []
  }
 ],
 "metadata": {
  "kernelspec": {
   "display_name": "Python 3 (ipykernel)",
   "language": "python",
   "name": "python3"
  },
  "language_info": {
   "codemirror_mode": {
    "name": "ipython",
    "version": 3
   },
   "file_extension": ".py",
   "mimetype": "text/x-python",
   "name": "python",
   "nbconvert_exporter": "python",
   "pygments_lexer": "ipython3",
   "version": "3.11.9"
  }
 },
 "nbformat": 4,
 "nbformat_minor": 5
}
