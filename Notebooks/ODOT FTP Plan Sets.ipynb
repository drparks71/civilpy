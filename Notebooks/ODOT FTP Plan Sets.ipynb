{
 "cells": [
  {
   "cell_type": "markdown",
   "id": "a06a5f6b-138c-479b-904a-7134d9cf335c",
   "metadata": {},
   "source": [
    "# Converting .tif to .pdf"
   ]
  },
  {
   "cell_type": "code",
   "execution_count": 7,
   "id": "cf7ab87e-f0c9-4b45-8373-a37c70b3718e",
   "metadata": {},
   "outputs": [],
   "source": [
    "from PIL import Image, ImageSequence\n",
    "import os\n",
    "\n",
    "\n",
    "def tiff_to_pdf(tiff_path: str) -> str:\n",
    "\n",
    "    pdf_path = tiff_path.replace(\".tif\", \".pdf\")\n",
    "    if not os.path.exists(tiff_path):\n",
    "        raise Exception(f\"{tiff_path} not found\")\n",
    "    image = Image.open(tiff_path)\n",
    "\n",
    "    images = []\n",
    "    for i, page in enumerate(ImageSequence.Iterator(image)):\n",
    "        page = page.convert(\"RGB\")\n",
    "        images.append(page)\n",
    "    if len(images) == 1:\n",
    "        images[0].save(pdf_path)\n",
    "    else:\n",
    "        images[0].save(pdf_path, save_all=True, append_images=images[1:])\n",
    "    return pdf_path"
   ]
  },
  {
   "cell_type": "code",
   "execution_count": 9,
   "id": "f70e78f8-b833-4e75-a6cd-72b82514ac8c",
   "metadata": {},
   "outputs": [
    {
     "data": {
      "text/plain": [
       "'C:\\\\Users\\\\dane.parks\\\\Downloads\\\\83142-001.pdf'"
      ]
     },
     "execution_count": 9,
     "metadata": {},
     "output_type": "execute_result"
    }
   ],
   "source": [
    "# Test the above function\n",
    "tiff_to_pdf(r\"C:\\Users\\dane.parks\\Downloads\\83142-001.tif\")"
   ]
  },
  {
   "cell_type": "markdown",
   "id": "6b74c132-dd63-4a49-991a-0c6c13525c62",
   "metadata": {},
   "source": [
    "# Creating/Extracting Zip files"
   ]
  },
  {
   "cell_type": "code",
   "execution_count": 153,
   "id": "33c8531a-f8cf-4005-baac-f67940d79be7",
   "metadata": {},
   "outputs": [
    {
     "data": {
      "text/plain": [
       "'C:\\\\Users\\\\dane.parks\\\\Downloads\\\\Nikhil Files.zip'"
      ]
     },
     "execution_count": 153,
     "metadata": {},
     "output_type": "execute_result"
    }
   ],
   "source": [
    "import shutil\n",
    "\n",
    "output_filename = r\"C:\\Users\\dane.parks\\Downloads\\Nikhil Files\"\n",
    "folder_to_zip = r\"C:\\Users\\dane.parks\\Downloads\\Nikhil Files\"\n",
    "shutil.make_archive(output_filename, \"zip\", folder_to_zip)"
   ]
  },
  {
   "cell_type": "code",
   "execution_count": 154,
   "id": "cb727a28-c609-4a5a-9f6a-23a729cca418",
   "metadata": {},
   "outputs": [],
   "source": [
    "import zipfile\n",
    "\n",
    "file_to_extract = r\"C:\\Users\\dane.parks\\Downloads\\Nikhil Files.zip\"\n",
    "directory_to_extract_to = r\"C:\\Users\\dane.parks\\Downloads\\Nikhil Files\""
   ]
  },
  {
   "cell_type": "code",
   "execution_count": 155,
   "id": "95b8c1cf-267d-4f0b-8c46-93873461b30f",
   "metadata": {},
   "outputs": [],
   "source": [
    "with zipfile.ZipFile(file_to_extract, \"r\") as zip_ref:\n",
    "    zip_ref.extractall(directory_to_extract_to)"
   ]
  },
  {
   "cell_type": "markdown",
   "id": "b887d6c2-977c-4522-9b97-6ca9929c7a64",
   "metadata": {},
   "source": [
    "# Downloading from a State FTP page\n",
    "\n",
    "https://ftp.dot.state.oh.us/pub/construction/JEF7MineGroutPDB/RID/"
   ]
  },
  {
   "cell_type": "code",
   "execution_count": 144,
   "id": "0edc8d0b-844f-4c39-9de3-961158bd2f43",
   "metadata": {},
   "outputs": [],
   "source": [
    "import requests\n",
    "from bs4 import BeautifulSoup\n",
    "from pathlib import Path\n",
    "\n",
    "year = \"2023\"\n",
    "url = f\"https://ftp.dot.state.oh.us/pub/construction/JEF7MineGroutPDB/RID/{year}/\""
   ]
  },
  {
   "cell_type": "code",
   "execution_count": 145,
   "id": "68009d72-4196-4f36-a195-8f0c5400ada9",
   "metadata": {},
   "outputs": [],
   "source": [
    "def get_list_of_files(url):\n",
    "    reqs = requests.get(url)\n",
    "    soup = BeautifulSoup(reqs.text, \"html.parser\")\n",
    "\n",
    "    short_urls = []\n",
    "    for link in soup.find_all(\"a\"):\n",
    "        short_urls.append(link.get(\"href\"))\n",
    "\n",
    "    root = \"https://ftp.dot.state.oh.us/\"\n",
    "    full_urls = []\n",
    "    for url in short_urls:\n",
    "        full_urls.append(root + url)\n",
    "        print(f\"{root+url}\")\n",
    "\n",
    "    return full_urls"
   ]
  },
  {
   "cell_type": "code",
   "execution_count": 146,
   "id": "436de42c-5ed2-4c23-9e94-c00ee63c1f5f",
   "metadata": {},
   "outputs": [],
   "source": [
    "def download_file(url):\n",
    "    response = requests.get(url)\n",
    "    if \"content-disposition\" in response.headers:\n",
    "        content_disposition = response.headers[\"content-disposition\"]\n",
    "        filename = content_disposition.split(\"filename=\")[1]\n",
    "    else:\n",
    "        filename = url.split(\"/\")[-1]\n",
    "    with open(\n",
    "        Path(\n",
    "            \"C:\\\\Users\\\\dane.parks\\\\Downloads\\\\Nikhil Files\\\\\"\n",
    "            + Path(url).parent.name\n",
    "            + f\"\\\\{filename}\"\n",
    "        ),\n",
    "        mode=\"wb\",\n",
    "    ) as file:\n",
    "        file.write(response.content)\n",
    "    print(f\"Downloaded file {filename}\")"
   ]
  },
  {
   "cell_type": "code",
   "execution_count": 147,
   "id": "6089264e-c575-49b6-9b90-370e37f7602a",
   "metadata": {},
   "outputs": [
    {
     "name": "stdout",
     "output_type": "stream",
     "text": [
      "https://ftp.dot.state.oh.us//pub/construction/JEF7MineGroutPDB/RID/\n",
      "https://ftp.dot.state.oh.us//pub/construction/JEF7MineGroutPDB/RID/2023/20220627_102458_AsFiled.pdf\n"
     ]
    }
   ],
   "source": [
    "full_urls = get_list_of_files(url)"
   ]
  },
  {
   "cell_type": "code",
   "execution_count": 149,
   "id": "c2ec57be-893b-47c5-95f7-2ad99cd59fbf",
   "metadata": {},
   "outputs": [
    {
     "name": "stdout",
     "output_type": "stream",
     "text": [
      "Downloaded file 20220627_102458_AsFiled.pdf\n"
     ]
    }
   ],
   "source": [
    "for url in full_urls:\n",
    "    if Path(url).suffix != \"\":\n",
    "        download_file(url)\n",
    "    else:\n",
    "        pass"
   ]
  },
  {
   "cell_type": "code",
   "execution_count": null,
   "id": "f7e25ea5-d215-4e29-a44a-a3a87ca8552a",
   "metadata": {},
   "outputs": [],
   "source": []
  },
  {
   "cell_type": "code",
   "execution_count": null,
   "id": "03dbff96-ccb6-4c3d-b83e-2c479a98b2a8",
   "metadata": {},
   "outputs": [],
   "source": []
  }
 ],
 "metadata": {
  "kernelspec": {
   "display_name": "Python 3 (ipykernel)",
   "language": "python",
   "name": "python3"
  },
  "language_info": {
   "codemirror_mode": {
    "name": "ipython",
    "version": 3
   },
   "file_extension": ".py",
   "mimetype": "text/x-python",
   "name": "python",
   "nbconvert_exporter": "python",
   "pygments_lexer": "ipython3",
   "version": "3.10.13"
  }
 },
 "nbformat": 4,
 "nbformat_minor": 5
}
