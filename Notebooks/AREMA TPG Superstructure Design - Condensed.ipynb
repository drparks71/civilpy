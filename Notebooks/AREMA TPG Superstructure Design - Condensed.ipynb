{
 "cells": [
  {
   "cell_type": "code",
   "execution_count": 1,
   "id": "080d264b",
   "metadata": {
    "tags": []
   },
   "outputs": [],
   "source": [
    "import math\n",
    "from civilpy.general import units\n",
    "from civilpy.structural.steel import W, MC\n",
    "from civilpy.structural.arema import LoadRatingMember\n",
    "from termcolor import colored\n",
    "from pprint import pprint"
   ]
  },
  {
   "cell_type": "markdown",
   "id": "814a852e",
   "metadata": {},
   "source": [
    "# Workbook Layout\n",
    "\n",
    "8 Sheets,\n",
    "\n",
    "1. Global\n",
    "1. Superstructure DC\n",
    "1. Girder\n",
    "1. Floor Beam\n",
    "1. Deck Plate\n",
    "1. Abut End Floor Beam\n",
    "1. Floor Beam Prop\n",
    "1. Floor Beam - Non Bracing - Void"
   ]
  },
  {
   "cell_type": "markdown",
   "id": "1c7afade",
   "metadata": {},
   "source": [
    "# Inputs"
   ]
  },
  {
   "cell_type": "markdown",
   "id": "13764c29",
   "metadata": {},
   "source": [
    "## Global Definitions\n",
    "\n",
    "Contains the various Design Inputs, and summaries of the various checks being\n",
    "performed. # //TODO - Assumes precast ties?"
   ]
  },
  {
   "cell_type": "code",
   "execution_count": null,
   "id": "cc185222-e23c-4b21-aba5-8987b7054463",
   "metadata": {
    "tags": []
   },
   "outputs": [],
   "source": [
    "global_values = GlobalDefinitions()\n",
    "\n",
    "# Prints the global definitions used in calculations\n",
    "pprint(global_values.__dict__)"
   ]
  },
  {
   "cell_type": "code",
   "execution_count": null,
   "id": "92231fc8",
   "metadata": {
    "tags": []
   },
   "outputs": [],
   "source": [
    "loads = LoadDefinitions()\n",
    "\n",
    "loads.jack_pt_offset=4*units.ft\n",
    "\n",
    "# Prints the load definitions used in calculations\n",
    "pprint(loads.__dict__)"
   ]
  },
  {
   "cell_type": "code",
   "execution_count": null,
   "id": "30ba39fe-5615-4293-9273-553744a7b6fd",
   "metadata": {
    "tags": []
   },
   "outputs": [],
   "source": [
    "tpg = TPG(load_values=loads)\n",
    "\n",
    "# Prints the remaining definitions not used above\n",
    "pprint(tpg.__dict__)"
   ]
  },
  {
   "cell_type": "markdown",
   "id": "68e967aa",
   "metadata": {},
   "source": [
    "# Calcs"
   ]
  },
  {
   "cell_type": "markdown",
   "id": "149e04d5",
   "metadata": {},
   "source": [
    "## Global"
   ]
  },
  {
   "cell_type": "markdown",
   "id": "4a594244",
   "metadata": {},
   "source": [
    "## Preliminary Girder Calcs\n",
    "\n",
    "This was moved ahead of DC Calcs because later calcs depend on the results here"
   ]
  },
  {
   "cell_type": "markdown",
   "id": "b9af2140-f47e-4222-9331-ac4fb71e00f1",
   "metadata": {},
   "source": [
    "## Superstructure DC Calcs"
   ]
  },
  {
   "cell_type": "markdown",
   "id": "d4bbffa0-7cc8-480a-b691-0b499f77c240",
   "metadata": {},
   "source": [
    "## Remaining Girder Calcs/Checks"
   ]
  },
  {
   "cell_type": "code",
   "execution_count": null,
   "id": "97b44f1f-29f0-497f-b215-998a07373e66",
   "metadata": {
    "tags": []
   },
   "outputs": [],
   "source": []
  },
  {
   "cell_type": "code",
   "execution_count": null,
   "id": "318093a3-e415-428d-9a33-b9dd4c6d08e6",
   "metadata": {
    "tags": []
   },
   "outputs": [],
   "source": []
  },
  {
   "cell_type": "code",
   "execution_count": null,
   "id": "603edfca-87c3-4821-8d92-df1ad7d08c57",
   "metadata": {
    "tags": []
   },
   "outputs": [],
   "source": []
  },
  {
   "cell_type": "code",
   "execution_count": null,
   "id": "12506450-0cc4-4810-bef1-634d8cf37917",
   "metadata": {
    "tags": []
   },
   "outputs": [],
   "source": []
  },
  {
   "cell_type": "code",
   "execution_count": null,
   "id": "8c7690b2-74c7-49a0-9fc0-92dd8f747b2d",
   "metadata": {
    "tags": []
   },
   "outputs": [],
   "source": []
  },
  {
   "cell_type": "code",
   "execution_count": null,
   "id": "2d697147-bce8-4712-a907-da3d89710177",
   "metadata": {
    "tags": []
   },
   "outputs": [],
   "source": []
  },
  {
   "cell_type": "code",
   "execution_count": null,
   "id": "95293175-d676-4ee3-8e5e-544d5c5e0539",
   "metadata": {
    "tags": []
   },
   "outputs": [],
   "source": []
  },
  {
   "cell_type": "code",
   "execution_count": null,
   "id": "ce0502fb-0150-4148-adef-9f02834d7ceb",
   "metadata": {
    "tags": []
   },
   "outputs": [],
   "source": []
  },
  {
   "cell_type": "code",
   "execution_count": null,
   "id": "2964ccd5-7706-4ff2-ad2c-4d52e13f54e6",
   "metadata": {
    "tags": []
   },
   "outputs": [],
   "source": []
  },
  {
   "cell_type": "code",
   "execution_count": null,
   "id": "327f01e3-0dd6-490a-b26a-e41fb470eb0a",
   "metadata": {
    "tags": []
   },
   "outputs": [],
   "source": []
  },
  {
   "cell_type": "code",
   "execution_count": null,
   "id": "08792b89-0674-47d6-ace1-a0f6ca9c3ee8",
   "metadata": {
    "tags": []
   },
   "outputs": [],
   "source": []
  },
  {
   "cell_type": "code",
   "execution_count": null,
   "id": "05465c6f-f79f-4b8c-be4f-aa1c40f5d57a",
   "metadata": {
    "tags": []
   },
   "outputs": [],
   "source": []
  },
  {
   "cell_type": "code",
   "execution_count": null,
   "id": "522a9e94-3820-4537-a11a-9678511150c3",
   "metadata": {
    "tags": []
   },
   "outputs": [],
   "source": [
    "V_tot\n",
    "\n",
    "bearing_stress_act = (V_tot / bearing_stiff_area).to('psi')\n",
    "\n",
    "# Longitudinal Stiffeners\n",
    "if bearing_stress_act <= bearing_stiff_F_a:\n",
    "    print(colored(f'OK, Stress Ratio: {bearing_stress_act/bearing_stiff_F_a}', 'green'))\n",
    "else:\n",
    "    print(colored('No Good - End Bearing Compression Check', 'red'))"
   ]
  },
  {
   "cell_type": "code",
   "execution_count": null,
   "id": "6833bcc4-5480-484a-8054-2362ec12dc2d",
   "metadata": {
    "tags": []
   },
   "outputs": [],
   "source": [
    "# Bearing Stiff Weld      AREMA 15-1.7.7.a\n",
    "fillet_weld_area = 4 * 0.707 * bearing_stiffener_fillet_weld_leg * (girder_web_height - 2 * bearing_stiffener_corner_clip)\n",
    "V_tot\n",
    "\n",
    "weld_stress_act = (V_tot / fillet_weld_area).to('psi')\n",
    "\n",
    "allowable_weld_stress = min(19000 * units('psi'), 0.35*F_y) # AREMA Table 15-1-14\n",
    "\n",
    "# Bearing Stiff Weld Check\n",
    "if weld_stress_act <= allowable_weld_stress:\n",
    "    print(colored(f'OK, Stress Ratio: {weld_stress_act/allowable_weld_stress}', 'green'))\n",
    "else:\n",
    "    print(colored('No Good - Bearing Stiff Weld Check', 'red'))"
   ]
  },
  {
   "cell_type": "code",
   "execution_count": null,
   "id": "23cc64d2-eb31-40b0-9aa6-87189c1b7cc1",
   "metadata": {
    "tags": []
   },
   "outputs": [],
   "source": [
    "# Bearing Stiff bearing area\n",
    "stiff_bearing_area = 2 * bearing_stiffener_thickness_tsb * (bearing_stiffener_width_bsb - 2 * bearing_stiffener_corner_clip)"
   ]
  },
  {
   "cell_type": "code",
   "execution_count": null,
   "id": "ea8aa07c-2de9-45da-9423-76e277c0a75a",
   "metadata": {},
   "outputs": [],
   "source": [
    "stiff_bearing_area\n",
    "V_tot\n",
    "bearing_area_stress_act = (V_tot / stiff_bearing_area).to('psi')\n",
    "bearing_area_stress_all = (.83 * F_y).to('psi')\n",
    "\n",
    "# Bearing area allowable stress\n",
    "if bearing_area_stress_act <= bearing_area_stress_all:\n",
    "    print(colored(f'OK, Stress Ratio: {bearing_area_stress_act/bearing_area_stress_all}', 'green'))\n",
    "else:\n",
    "    print(colored('No Good - Bearing Stiff Weld Check', 'red'))"
   ]
  },
  {
   "cell_type": "markdown",
   "id": "4c0a6699-86f8-4380-898a-9c9f55a44152",
   "metadata": {
    "tags": []
   },
   "source": [
    "## Floor Beam Calcs"
   ]
  },
  {
   "cell_type": "code",
   "execution_count": null,
   "id": "c07ff1cd-7e36-40f1-8764-677e52eb4cd0",
   "metadata": {
    "tags": []
   },
   "outputs": [],
   "source": [
    "# Dead Load\n",
    "# Floor Beams\n",
    "floorbeam.weight\n",
    "\n",
    "# Diaphragms\n",
    "diaphragm.weight = 61 * units('lbf/ft') # //TODO - Doesn't match section: W16x89\n",
    "diaphragm_quantity = 1 # //TODO - Why is this only 1 in excel?\n",
    "\n",
    "diaphragm_length = floorbeam_spacing\n",
    "\n",
    "lateral_bracing_length = 8.20 * units('ft') # //TODO - why is this redefined and lower\n",
    "\n",
    "diaphragm_P = diaphragm.weight*diaphragm_quantity*diaphragm_length\n",
    "bracing_P = lateral_bracing.weight * bracing_quant * lateral_bracing_length\n",
    "\n",
    "floorbeam_dl_V = (floorbeam.weight * girder_spacing) / 2\n",
    "floorbeam_dl_M = floorbeam.weight * girder_spacing ** 2 / 8\n",
    "\n",
    "diaphragm_dl_V = diaphragm_P / 2\n",
    "diaphragm_dl_M = diaphragm_P * girder_spacing / 4\n",
    "\n",
    "lateral_bracing_V = bracing_P / 2\n",
    "lateral_bracing_M = bracing_P * girder_spacing / 4"
   ]
  },
  {
   "cell_type": "code",
   "execution_count": null,
   "id": "f4f6aab4-f215-416f-8aaf-43af22d3cf11",
   "metadata": {
    "tags": []
   },
   "outputs": [],
   "source": [
    "# Floor assembly between stop plates\n",
    "floor_load_on_fbs\n",
    "ballast_plates_clear_space\n",
    "\n",
    "floor_assembly_V = ballast_plates_clear_space * floor_load_on_fbs * floorbeam_spacing / 2\n",
    "floor_assembly_M = (floor_load_on_fbs * floorbeam_spacing * ballast_plates_clear_space) / 4 * (girder_spacing - ballast_plates_clear_space / 2) "
   ]
  },
  {
   "cell_type": "code",
   "execution_count": null,
   "id": "4b91e293-ebde-46c8-8a47-2e55da1bb292",
   "metadata": {
    "tags": []
   },
   "outputs": [],
   "source": [
    "# Floor assembly over stop plates\n",
    "floor_load_over_stop_plates\n",
    "fb_applied_width = (girder_spacing - ballast_plates_clear_space) / 2\n",
    "\n",
    "floor_over_stop_pl_V = floor_load_over_stop_plates * fb_applied_width * floorbeam_spacing\n",
    "floor_over_stop_pl_M = floor_load_over_stop_plates * fb_applied_width ** 2 / 2 * floorbeam_spacing"
   ]
  },
  {
   "cell_type": "code",
   "execution_count": null,
   "id": "7b19cfc0-0e4e-400c-b215-7d04c38cc161",
   "metadata": {
    "tags": []
   },
   "outputs": [],
   "source": [
    "# Track assembly weight\n",
    "track_area_load_on_fbs\n",
    "ballast_plates_clear_space\n",
    "\n",
    "track_area_load_V = track_area_load_on_fbs*ballast_plates_clear_space/2*floorbeam_spacing\n",
    "track_area_load_M = track_area_load_on_fbs * ballast_plates_clear_space / 4 * (girder_spacing - ballast_plates_clear_space / 2) * floorbeam_spacing"
   ]
  },
  {
   "cell_type": "code",
   "execution_count": null,
   "id": "b4cb80da-cfce-4933-8ff6-49fbc06c255d",
   "metadata": {
    "tags": []
   },
   "outputs": [],
   "source": [
    "total_fb_dl_shear = sum([\n",
    "    floorbeam_dl_V,\n",
    "    diaphragm_dl_V,\n",
    "    lateral_bracing_V,\n",
    "    floor_assembly_V,\n",
    "    floor_over_stop_pl_V,\n",
    "    track_area_load_V\n",
    "])"
   ]
  },
  {
   "cell_type": "code",
   "execution_count": null,
   "id": "043cb92f-05f1-40a0-9601-626a6649a522",
   "metadata": {
    "tags": []
   },
   "outputs": [],
   "source": [
    "total_fb_dl_moment = sum([\n",
    "    floorbeam_dl_M,\n",
    "    diaphragm_dl_M,\n",
    "    lateral_bracing_M,\n",
    "    floor_assembly_M,\n",
    "    floor_over_stop_pl_M,\n",
    "    track_area_load_M\n",
    "])"
   ]
  },
  {
   "cell_type": "code",
   "execution_count": null,
   "id": "5b85e5b6-940a-4a7b-a701-f7b0ff58be6b",
   "metadata": {
    "tags": []
   },
   "outputs": [],
   "source": [
    "# Live Load\n",
    "# AREMA 15-1.3.4.2.3 Alternative live load axel\n",
    "fb_P_ll = 1.15*fb_A*floorbeam_spacing/fb_S\n",
    "fb_P_2_ll = fb_P_ll / 2\n",
    "\n",
    "fb_V_ll = fb_P_2_ll\n",
    "fb_M_ll = fb_P_ll * fb_a / 2"
   ]
  },
  {
   "cell_type": "code",
   "execution_count": null,
   "id": "8415f1e7-d4ab-4892-9af4-264ce8627a8e",
   "metadata": {
    "tags": []
   },
   "outputs": [],
   "source": [
    "# Impact Live Load\n",
    "fb_impact_ll_percent = (40 - 3 * girder_spacing.magnitude ** 2 / 1600)/100\n",
    "fb_P_2_ll\n",
    "\n",
    "fb_P_imp_ll = fb_impact_ll_percent * fb_P_2_ll * ballasted_deck_reduction\n",
    "\n",
    "fb_M_imp = fb_P_imp_ll * fb_a"
   ]
  },
  {
   "cell_type": "code",
   "execution_count": null,
   "id": "5a6bc6e3-523e-4885-b2d6-1a0b2aa2706b",
   "metadata": {
    "tags": []
   },
   "outputs": [],
   "source": [
    "# Rocking Load  AREMA 1.3.5.d\n",
    "rocking_percent\n",
    "fb_P_2_ll\n",
    "R1_rocking = fb_P_2_ll * rocking_percent * (1 - 2 * a / girder_spacing)\n",
    "\n",
    "fb_M_re = R1_rocking * a"
   ]
  },
  {
   "cell_type": "code",
   "execution_count": null,
   "id": "a55ba9f0-d820-4967-8864-355de0b6071d",
   "metadata": {
    "tags": []
   },
   "outputs": [],
   "source": [
    "# Wind Force on Loaded Bridge\n",
    "wind_load = 300 * units('lbf/ft')\n",
    "fb_pws = wind_load*h*floorbeam_spacing/railroad_gage\n",
    "\n",
    "fb_wind_R1 = fb_pws * (1-2*a/girder_spacing)\n",
    "\n",
    "M_wl = fb_wind_R1 * fb_a"
   ]
  },
  {
   "cell_type": "code",
   "execution_count": null,
   "id": "a2165724-bdae-476c-ab31-85096f9e6437",
   "metadata": {
    "tags": []
   },
   "outputs": [],
   "source": [
    "# Required Section Properties  # AREMA Table 15-1-11\n",
    "fb_M_tot_1 = sum([total_fb_dl_moment, fb_M_ll, fb_M_imp, M_re])\n",
    "fb_M_tot_2 = sum([total_fb_dl_moment, fb_M_ll, fb_M_imp, M_re, M_wl])/1.25\n",
    "fb_M_tot = max(fb_M_tot_1, fb_M_tot_2)\n",
    "\n",
    "fb_S_x_req = (fb_M_tot / (0.55 * F_y)).to('in^3')"
   ]
  },
  {
   "cell_type": "code",
   "execution_count": null,
   "id": "c9128529-7bab-441e-9e9e-81a7d83cdccb",
   "metadata": {
    "tags": []
   },
   "outputs": [],
   "source": [
    "# Holes - Assume 4 x 1\" holes in web for diaphragm\n",
    "D1 = 3 * units('in') # //TODO - is this a constant?\n",
    "D2 = 3 * units('in') + D1\n",
    "\n",
    "I_holes_web = (diaphragm_num_holes/2*(diaphragm_dia_hole*floorbeam.web_thickness)*(D1)**2)+(diaphragm_num_holes/2*(diaphragm_dia_hole*floorbeam.web_thickness)*(D2)**2)"
   ]
  },
  {
   "cell_type": "code",
   "execution_count": null,
   "id": "bcd58c84-5f43-44fd-bc79-9a8d7f074928",
   "metadata": {
    "tags": []
   },
   "outputs": [],
   "source": [
    "I_holes_flange = lateral_num_holes * lateral_dia_holes * floorbeam.flange_thickness * (floorbeam.depth / 2 - floorbeam.flange_thickness / 2) ** 2"
   ]
  },
  {
   "cell_type": "code",
   "execution_count": null,
   "id": "3b27a063-0af6-4be6-b751-f5e6de3c0b98",
   "metadata": {
    "tags": []
   },
   "outputs": [],
   "source": [
    "I_net = floorbeam.I_x - I_holes_web - I_holes_flange"
   ]
  },
  {
   "cell_type": "code",
   "execution_count": null,
   "id": "9bc34f69-fb98-4acd-b804-6bbc5afa7c76",
   "metadata": {
    "tags": []
   },
   "outputs": [],
   "source": [
    "I_net\n",
    "\n",
    "S_x_net = I_net / (floorbeam.depth / 2)"
   ]
  },
  {
   "cell_type": "code",
   "execution_count": null,
   "id": "ab9400ad-9d03-4931-9590-f30509912f27",
   "metadata": {
    "tags": []
   },
   "outputs": [],
   "source": [
    "# Allowable Stress (AREMA Table 15-1-12)\n",
    "Fb_ten = 0.55 * F_y\n",
    "\n",
    "# Compression in extreme fiber\n",
    "Fb_comp_1 = 0.55*F_y-(0.55*F_y**2/(6.3*math.pi**2*E_steel))*(diaphragm_spacing_max/floorbeam.r_y)**2\n",
    "Fb_comp_2 = (0.131 * math.pi * E_steel / (diaphragm_spacing_max * floorbeam.depth * (1+poisson_ratio) ** .5 / (floorbeam.flange_thickness * floorbeam.flange_width))).to('psi')\n",
    "Fb_comp_3 = 0.55 * F_y\n",
    "\n",
    "F_b_comp = (min(Fb_comp_3, max(Fb_comp_1, Fb_comp_2))).to('ksi')\n",
    "\n",
    "f_b_act = (fb_M_tot / S_x_net).to('ksi')\n",
    "\n",
    "# Bearing area allowable stress\n",
    "if f_b_act < F_b_comp:\n",
    "    print(colored(f'OK, Stress Ratio: {f_b_act/F_b_comp}', 'green'))\n",
    "else:\n",
    "    print(colored('No Good - Floor Beam Allowable Stress Check', 'red'))"
   ]
  },
  {
   "cell_type": "code",
   "execution_count": null,
   "id": "9f1104ed-9a62-4c22-9102-398501933eae",
   "metadata": {
    "tags": []
   },
   "outputs": [],
   "source": [
    "# End Shear\n",
    "R_dl = total_fb_dl_shear\n",
    "R_ll = fb_P_ll\n",
    "R_imp = fb_P_imp_ll * 2\n",
    "R_re = R1_rocking\n",
    "R_wl = fb_wind_R1\n",
    "\n",
    "R_tot = sum([R_dl, R_ll, R_imp, R_re, R_wl])\n",
    "\n",
    "# Assume 6x1\" dia holes in web to connect to girder\n",
    "fs_net = (R_tot/((floorbeam.depth-web_conn_girder_holes_num*web_conn_girder_holes_dia)*floorbeam.web_thickness)).to('ksi')\n",
    "\n",
    "F_v = (0.35 * F_y).to('ksi')\n",
    "\n",
    "# Bearing area allowable stress\n",
    "if fs_net < F_v:\n",
    "    print(colored(f'OK, Stress Ratio: {fs_net/F_v}', 'green'))\n",
    "else:\n",
    "    print(colored('No Good - Floor Beam End Shear Check', 'red'))"
   ]
  },
  {
   "cell_type": "code",
   "execution_count": null,
   "id": "b2c9939c-41b0-4bb9-884d-dc18ad4a29d1",
   "metadata": {
    "tags": []
   },
   "outputs": [],
   "source": [
    "# Bolted Connection - Checked in sep. calc, they account for combined efect so no 1.25 increase\n",
    "# AREMA 15 1.5.9.a.1 # //TODO - Investigate this standard\n",
    "R_tot"
   ]
  },
  {
   "cell_type": "code",
   "execution_count": null,
   "id": "5e59ba61-39c8-42ea-9a53-e2248f5e146c",
   "metadata": {
    "tags": []
   },
   "outputs": [],
   "source": [
    "# Floor beam fatigue\n",
    "fb_M_ll\n",
    "fb_fat_imp_M = assumed_mean_impact_perc * fb_M_imp\n",
    "fb_M_fat = fb_M_ll + fb_fat_imp_M\n",
    "\n",
    "fb_live_load_stress_range = (fb_M_fat / S_x_net).to('ksi')\n",
    "\n",
    "# N >= 2,000,000 Category B Table 15-1-10 Detail 2.2\n",
    "fb_fsr = 16 * units('ksi')\n",
    "\n",
    "# Bearing area allowable stress\n",
    "if fb_live_load_stress_range < fb_fsr:\n",
    "    print(colored(f'OK, Stress Ratio: {fb_live_load_stress_range/fb_fsr}', 'green'))\n",
    "else:\n",
    "    print(colored('No Good - Floor Beam Fatigue Check', 'red'))"
   ]
  },
  {
   "cell_type": "code",
   "execution_count": null,
   "id": "b5ff083c-41b0-45ed-9c5d-10da9172834d",
   "metadata": {
    "tags": []
   },
   "outputs": [],
   "source": [
    "# Deflection\n",
    "girder_spacing\n",
    "floorbeam.I_x\n",
    "E_steel\n",
    "\n",
    "fb_defl_M = fb_M_ll + fb_M_imp + fb_M_re\n",
    "\n",
    "fb_w = 8 * fb_defl_M / (girder_spacing ** 2)\n",
    "\n",
    "fb_deflection = ((5 * fb_w * girder_spacing ** 4) / (384 * E_steel * floorbeam.I_x)).to('in')\n",
    "max_deflection = (girder_spacing / 640).to('in')\n",
    "\n",
    "# Deflection Check\n",
    "if fb_deflection <= max_deflection:\n",
    "    print(colored(f'OK, Stress Ratio: {fb_deflection/max_deflection}', 'green'))\n",
    "else:\n",
    "    print(colored('No Good - Floor Beam Fatigue Check', 'red'))"
   ]
  },
  {
   "cell_type": "markdown",
   "id": "a0754863-1477-401f-a8b9-62646cfb08b7",
   "metadata": {
    "tags": []
   },
   "source": [
    "## Deck Plate Calcs"
   ]
  },
  {
   "cell_type": "code",
   "execution_count": null,
   "id": "86c59f11-3fc2-4cba-bd59-7387ecfbc00c",
   "metadata": {
    "tags": []
   },
   "outputs": [],
   "source": [
    "# Key Dimensions\n",
    "track_distribution_width = tie_design_width+min_ballast_below_tie # AREMA 1.3.4.2.2.b\n",
    "track_dist_length = 3 * units('ft') + min_ballast_below_tie # AREMA 1.3.4.2.2.a"
   ]
  },
  {
   "cell_type": "code",
   "execution_count": null,
   "id": "dc63994a-9c8d-4929-b2e0-19b66884e0ca",
   "metadata": {
    "tags": []
   },
   "outputs": [],
   "source": [
    "# Dead Loads\n",
    "flooring_load = floor_load_on_fbs\n",
    "track_load = track_assembly_load_on_deck_plate"
   ]
  },
  {
   "cell_type": "code",
   "execution_count": null,
   "id": "69a38e6b-948e-4b30-ad74-3367fb604fb7",
   "metadata": {
    "tags": []
   },
   "outputs": [],
   "source": [
    "# Live Load\n",
    "axel_load\n",
    "longitudinal_dist = track_dist_length\n",
    "lateral_dist = track_distribution_width\n",
    "\n",
    "dist_axel_load = axel_load / (longitudinal_dist*lateral_dist)"
   ]
  },
  {
   "cell_type": "code",
   "execution_count": null,
   "id": "aa24a156-2abc-4c0c-aaa0-d25d1ee80156",
   "metadata": {
    "tags": []
   },
   "outputs": [],
   "source": [
    "# Impact Load # AREMA 15.1.3.5\n",
    "L = floorbeam_spacing\n",
    "deck_pl_impact_L = (40 - (3*L**2 / (1600 * units('ft^2')))) * .9\n",
    "\n",
    "impact_load = (dist_axel_load * deck_pl_impact_L / 100).to('lbf/ft^2')\n",
    "impact_load"
   ]
  },
  {
   "cell_type": "code",
   "execution_count": null,
   "id": "c080ad24-ed5d-41bc-b361-2b0ab88036da",
   "metadata": {
    "tags": []
   },
   "outputs": [],
   "source": [
    "# Rocking Effect\n",
    "rocking_percent\n",
    "\n",
    "rocking_effect = rocking_percent * dist_axel_load / 2"
   ]
  },
  {
   "cell_type": "code",
   "execution_count": null,
   "id": "3ddde046-0462-4da5-8b50-17e488b39a30",
   "metadata": {
    "tags": []
   },
   "outputs": [],
   "source": [
    "deck_pl_dead_load = flooring_load + track_load\n",
    "deck_pl_live_load_impact_re = dist_axel_load + impact_load + rocking_effect\n",
    "\n",
    "total_dist_load = deck_pl_dead_load + deck_pl_live_load_impact_re"
   ]
  },
  {
   "cell_type": "code",
   "execution_count": null,
   "id": "05efaa22-3c75-4e24-834c-c6f7eb4c1975",
   "metadata": {
    "tags": []
   },
   "outputs": [],
   "source": [
    "# Compute Forces and Stresses over a 1' unit width\n",
    "flange_width = min(end_floorbeam.flange_width, floorbeam.flange_width)\n",
    "\n",
    "floorbeam_spacing\n",
    "flange_width.to('ft')\n",
    "\n",
    "M1_w = (1/12*((3*floorbeam_spacing*flange_width/2)-(floorbeam_spacing**2)-(3*flange_width**2/8))).to('ft^2')\n",
    "M2_w = floorbeam_spacing ** 2 / 24\n",
    "\n",
    "gov_M_w = max(abs(M1_w), abs(M2_w))\n",
    "\n",
    "deck_pl_dl_M = gov_M_w * deck_pl_dead_load\n",
    "deck_pl_ll_M = gov_M_w * deck_pl_live_load_impact_re\n",
    "deck_pl_tot_M = deck_pl_dl_M + deck_pl_ll_M\n",
    "\n",
    "deck_pl_S_x = deck_plate_width * deck_plate_thickness ** 2 / 6\n",
    "\n",
    "# //TODO - Check Units on this one\n",
    "deck_pl_F_b = (deck_pl_tot_M * (12*units('in')) / deck_pl_S_x).to('psi')\n",
    "\n",
    "deck_pl_F_b_allow = (0.55 * F_y)\n",
    "\n",
    "# Stress Check\n",
    "if deck_pl_F_b <= deck_pl_F_b_allow:\n",
    "    print(colored(f'OK, Stress Ratio: {deck_pl_F_b/deck_pl_F_b_allow}', 'green'))\n",
    "else:\n",
    "    print(colored('No Good - Floor Plate Allowable Stress Check', 'red'))"
   ]
  },
  {
   "cell_type": "code",
   "execution_count": null,
   "id": "87513ab4-cc88-4455-92c3-87f2c150ee0e",
   "metadata": {
    "tags": []
   },
   "outputs": [],
   "source": [
    "# Floor Plate Deflection\n",
    "deck_plate_width\n",
    "deck_plate_thickness\n",
    "deck_plate_I_x = deck_plate_width * deck_plate_thickness ** 3 / 12\n",
    "deck_plate_span_L = floorbeam_spacing\n",
    "deck_pl_live_load_impact_re\n",
    "\n",
    "deck_pl_live_load_deflection = (deck_pl_live_load_impact_re*units('in')*floorbeam_spacing**4)/(384*E_steel*deck_plate_I_x)\n",
    "deck_pl_allow_deflection = (floorbeam_spacing / 640).to('in').to('in')\n",
    "\n",
    "deck_pl_live_load_deflection = deck_pl_live_load_deflection.to('in')\n",
    "\n",
    "# Deflection Check\n",
    "if deck_pl_live_load_deflection <= deck_pl_allow_deflection:\n",
    "    print(colored(f'OK, Stress Ratio: {deck_pl_live_load_deflection/deck_pl_allow_deflection}', 'green'))\n",
    "else:\n",
    "    print(colored('No Good - Floor Plate Deflection Check', 'red'))"
   ]
  },
  {
   "cell_type": "markdown",
   "id": "38531e77-3d86-4236-80c5-0bf494a50861",
   "metadata": {
    "tags": []
   },
   "source": [
    "## End Floor Beam Calcs"
   ]
  },
  {
   "cell_type": "code",
   "execution_count": null,
   "id": "5a845036-7ae6-4bb4-9e56-da4e2bbbe93b",
   "metadata": {
    "tags": []
   },
   "outputs": [],
   "source": [
    "# Floor Beams\n",
    "end_floorbeam.weight\n",
    "jack_pt_offset\n",
    "# end_bearing_stiff_width = (end_floorbeam.flange_width - end_floorbeam.web_thickness) / 2 * 4 / 4\n",
    "end_bearing_stiff_width = 5.75 * units('in')\n",
    "bearing_stiffener_t\n",
    "bearing_stiffener_corner_clip\n",
    "bearing_stiff_weld_leg\n",
    "\n",
    "# Geometrics\n",
    "end_fb_spacing = 2.6 * units('ft') # //TODO - References VOID fb - non-bracing sheet\n",
    "flooring_on_girder = end_fb_spacing/2+(floor_length-span_length)/2\n",
    "girder_spacing\n",
    "ballast_plates_clear_space\n",
    "diaphragm_spacing_max\n",
    "railroad_gage\n",
    "F_y\n",
    "F_u\n",
    "E_steel\n",
    "unit_weight_steel\n",
    "railroad_gage # //TODO - Defined twice in excel"
   ]
  },
  {
   "cell_type": "code",
   "execution_count": null,
   "id": "17346a40-e002-416a-acd0-c721f107b60c",
   "metadata": {
    "tags": []
   },
   "outputs": [],
   "source": [
    "# Dead Load\n",
    "# Diaphragms\n",
    "diaphragm.weight = 61 * units('lbf/ft') # //TODO - Doesn't match section: W16x89\n",
    "diaphragm_quantity = 1 # //TODO - Why is this only 1 in excel?\n",
    "\n",
    "diaphragm_length = floorbeam_spacing / 2\n",
    "\n",
    "lateral_bracing_length = 8.20 * units('ft') # //TODO - why is this redefined and lower\n",
    "\n",
    "\n",
    "diaphragm_P = diaphragm.weight*diaphragm_quantity*diaphragm_length\n",
    "\n",
    "\n",
    "end_floorbeam_dl_V = (end_floorbeam.weight * girder_spacing) / 2\n",
    "end_floorbeam_dl_M = end_floorbeam.weight * girder_spacing ** 2 / 8\n",
    "\n",
    "end_diaphragm_dl_V = diaphragm_P / 2\n",
    "end_diaphragm_dl_M = diaphragm_P * end_bearing_stiff_width / 4 # //TODO - Verify End stiff width"
   ]
  },
  {
   "cell_type": "code",
   "execution_count": null,
   "id": "6f8f2d6f-d7aa-4a66-bd78-f3ce5fa64e90",
   "metadata": {
    "tags": []
   },
   "outputs": [],
   "source": [
    "# //TODO - Verify no bracing on end floorbeams\n",
    "# bracing_P = lateral_bracing.weight * bracing_quant * lateral_bracing_length\n",
    "# end_lateral_bracing_V = bracing_P / 2\n",
    "# end_lateral_bracing_M = bracing_P * girder_spacing / 4"
   ]
  },
  {
   "cell_type": "code",
   "execution_count": null,
   "id": "4873a0c3-d3ad-4273-afcd-b71f43f99273",
   "metadata": {
    "tags": []
   },
   "outputs": [],
   "source": [
    "# Floor assembly between stop plates\n",
    "floor_load_on_fbs\n",
    "ballast_plates_clear_space\n",
    "\n",
    "end_floor_assembly_V = ballast_plates_clear_space * floor_load_on_fbs * flooring_on_girder / 2 # //TODO - Verify Flooring on girder, not fb spacing\n",
    "end_floor_assembly_M = (floor_load_on_fbs * flooring_on_girder * ballast_plates_clear_space) / 4 * (girder_spacing - ballast_plates_clear_space / 2) "
   ]
  },
  {
   "cell_type": "code",
   "execution_count": null,
   "id": "ccc1dda7-3af1-4951-a56a-547bc43f6da0",
   "metadata": {
    "tags": []
   },
   "outputs": [],
   "source": [
    "# Floor assembly over stop plates\n",
    "floor_load_over_stop_plates\n",
    "end_fb_applied_width = (girder_spacing - ballast_plates_clear_space) / 2\n",
    "\n",
    "end_floor_over_stop_pl_V = floor_load_over_stop_plates * end_fb_applied_width * flooring_on_girder\n",
    "end_floor_over_stop_pl_M = floor_load_over_stop_plates * end_fb_applied_width ** 2 / 2 * flooring_on_girder"
   ]
  },
  {
   "cell_type": "code",
   "execution_count": null,
   "id": "439e7e96-ba8d-42db-9096-be352ecc89e5",
   "metadata": {
    "tags": []
   },
   "outputs": [],
   "source": [
    "# Track assembly weight\n",
    "track_area_load_on_fbs\n",
    "ballast_plates_clear_space\n",
    "\n",
    "end_track_area_load_V = track_area_load_on_fbs*ballast_plates_clear_space/2*flooring_on_girder\n",
    "end_track_area_load_M = track_area_load_on_fbs * ballast_plates_clear_space / 4 * (girder_spacing - ballast_plates_clear_space / 2) * flooring_on_girder"
   ]
  },
  {
   "cell_type": "code",
   "execution_count": null,
   "id": "e9d0f8c6-d734-4944-8a4f-d56d869de305",
   "metadata": {
    "tags": []
   },
   "outputs": [],
   "source": [
    "total_end_fb_dl_shear = sum([\n",
    "    end_floorbeam_dl_V,\n",
    "    end_diaphragm_dl_V,\n",
    "    end_floor_assembly_V,\n",
    "    end_floor_over_stop_pl_V,\n",
    "    end_track_area_load_V\n",
    "])"
   ]
  },
  {
   "cell_type": "code",
   "execution_count": null,
   "id": "0326b023-9630-4507-bf00-a9447b4d7aff",
   "metadata": {
    "tags": []
   },
   "outputs": [],
   "source": [
    "total_end_fb_dl_moment = sum([\n",
    "    end_floorbeam_dl_M,\n",
    "    end_diaphragm_dl_M,\n",
    "    end_floor_assembly_M,\n",
    "    end_floor_over_stop_pl_M,\n",
    "    end_track_area_load_M\n",
    "])"
   ]
  },
  {
   "cell_type": "code",
   "execution_count": null,
   "id": "ae9a2805-ca3e-4acb-bdfb-e744f1269352",
   "metadata": {
    "tags": []
   },
   "outputs": [],
   "source": [
    "# Live Load\n",
    "# AREMA 15-1.3.4.2.3 Alternative live load axel\n",
    "end_fb_P_ll = 1.15*fb_A*floorbeam_spacing/fb_S\n",
    "end_fb_P_2_ll = fb_P_ll / 2\n",
    "\n",
    "end_fb_A = fb_A\n",
    "end_fb_D = floorbeam_spacing\n",
    "end_fb_S = fb_S\n",
    "end_fb_a = fb_a\n",
    "\n",
    "end_fb_M_ll = end_fb_P_ll * end_fb_a / 2"
   ]
  },
  {
   "cell_type": "code",
   "execution_count": null,
   "id": "504ce39d-5c43-4f7b-bbb8-6af3ede75c61",
   "metadata": {
    "tags": []
   },
   "outputs": [],
   "source": [
    "# Impact Live Load\n",
    "end_fb_impact_ll_percent = (40 - 3 * girder_spacing.magnitude ** 2 / 1600)/100\n",
    "end_fb_P_2_ll\n",
    "\n",
    "end_fb_P_imp_ll = end_fb_impact_ll_percent * end_fb_P_2_ll * ballasted_deck_reduction\n",
    "\n",
    "end_fb_M_imp = fb_P_imp_ll * fb_a"
   ]
  },
  {
   "cell_type": "code",
   "execution_count": null,
   "id": "a85b1e9c-aa32-4c01-9a7f-97012657d8b5",
   "metadata": {
    "tags": []
   },
   "outputs": [],
   "source": [
    "# Rocking Load  AREMA 1.3.5.d\n",
    "rocking_percent\n",
    "end_fb_P_2_ll\n",
    "end_R1_rocking = end_fb_P_2_ll * rocking_percent * (1 - 2 * a / girder_spacing)\n",
    "\n",
    "end_fb_M_re = R1_rocking * a"
   ]
  },
  {
   "cell_type": "code",
   "execution_count": null,
   "id": "aa123cff-0485-48bf-9953-57693bbc59cd",
   "metadata": {
    "tags": []
   },
   "outputs": [],
   "source": [
    "# Wind Force on Loaded Bridge\n",
    "wind_load = 300 * units('lbf/ft')\n",
    "end_fb_pws = wind_load*h*floorbeam_spacing/railroad_gage\n",
    "\n",
    "end_fb_wind_R1 = end_fb_pws * (1-2*a/girder_spacing)\n",
    "\n",
    "end_fb_M_wl = end_fb_wind_R1 * fb_a"
   ]
  },
  {
   "cell_type": "code",
   "execution_count": null,
   "id": "3d9d4049-89ba-4b08-9a24-5f17020c3ae3",
   "metadata": {},
   "outputs": [],
   "source": [
    "# Required Section Properties and gov moment  # AREMA Table 15-1-11\n",
    "end_fb_M_tot_1 = sum([total_end_fb_dl_moment, end_fb_M_ll, end_fb_M_imp, end_fb_M_re])\n",
    "end_fb_M_tot_2 = sum([total_end_fb_dl_moment, end_fb_M_ll, end_fb_M_imp, end_fb_M_re, end_fb_M_wl])/1.25\n",
    "end_fb_M_tot = max(end_fb_M_tot_1, fb_M_tot_2)"
   ]
  },
  {
   "cell_type": "code",
   "execution_count": null,
   "id": "de99dde3-dfcb-4806-803f-d03b23e2e233",
   "metadata": {},
   "outputs": [],
   "source": [
    "# Governing shear # //TODO - Ensure this isn't need in other calc\n",
    "end_fb_V_tot_1 = sum([total_end_fb_dl_shear, end_fb_P_2_ll, end_fb_P_imp_ll, end_R1_rocking])\n",
    "end_fb_V_tot_2 = sum([total_end_fb_dl_shear, end_fb_P_2_ll, end_fb_P_imp_ll, end_R1_rocking, end_fb_wind_R1])/1.25\n",
    "end_fb_V_tot = max(end_fb_V_tot_1, end_fb_V_tot_2)"
   ]
  },
  {
   "cell_type": "code",
   "execution_count": null,
   "id": "aecb02d6-02ff-439b-a52b-aab914b5bc2a",
   "metadata": {
    "tags": []
   },
   "outputs": [],
   "source": [
    "total_dead_load\n",
    "dead_load_per_jack = total_dead_load / 4\n",
    "jack_pt_offset"
   ]
  },
  {
   "cell_type": "code",
   "execution_count": null,
   "id": "42787dd3-c825-48d0-9106-c75d03b83600",
   "metadata": {
    "tags": []
   },
   "outputs": [],
   "source": [
    "# Shear and moment doubled to meet requirements of 11-1.8.1\n",
    "jacking_V_tot = dead_load_per_jack * 2\n",
    "jacking_M_tot = 2 * dead_load_per_jack * jack_pt_offset"
   ]
  },
  {
   "cell_type": "code",
   "execution_count": null,
   "id": "46b322e9-2698-4ecb-a96f-90abbc3a1389",
   "metadata": {},
   "outputs": [],
   "source": [
    "# Required Section Properties\n",
    "\n",
    "end_fb_gov_M = max(jacking_M_tot, end_fb_M_tot)\n",
    "end_fb_gov_V = max(jacking_V_tot, end_fb_V_tot)\n",
    "\n",
    "end_fb_S_x_req = (end_fb_gov_M / (0.55 * F_y)).to('in^3')"
   ]
  },
  {
   "cell_type": "code",
   "execution_count": null,
   "id": "23d592a6-3eeb-4577-a500-ff9a7689504e",
   "metadata": {},
   "outputs": [],
   "source": [
    "# Holes - Assume 4 x 1\" holes in web for diaphragm\n",
    "D1 = 3 * units('in') # //TODO - is this a constant?\n",
    "D2 = 3 * units('in') + D1\n",
    "\n",
    "I_holes_web = (diaphragm_num_holes/2*(diaphragm_dia_hole*end_floorbeam.web_thickness)*(D1)**2)+(diaphragm_num_holes/2*(diaphragm_dia_hole*end_floorbeam.web_thickness)*(D2)**2)"
   ]
  },
  {
   "cell_type": "code",
   "execution_count": null,
   "id": "224eb829-3418-4723-874b-2afe848f9a29",
   "metadata": {
    "tags": []
   },
   "outputs": [],
   "source": [
    "I_holes_web"
   ]
  },
  {
   "cell_type": "code",
   "execution_count": null,
   "id": "58cdbab9-5acf-4031-8fe6-ebcfdf0ce5c9",
   "metadata": {},
   "outputs": [],
   "source": [
    "I_holes_flange = lateral_num_holes * lateral_dia_holes * floorbeam.flange_thickness * (floorbeam.depth / 2 - floorbeam.flange_thickness / 2) ** 2"
   ]
  },
  {
   "cell_type": "code",
   "execution_count": null,
   "id": "b1471cca-9641-4201-b51b-4f815310b817",
   "metadata": {},
   "outputs": [],
   "source": [
    "I_net = floorbeam.I_x - I_holes_web - I_holes_flange"
   ]
  },
  {
   "cell_type": "code",
   "execution_count": null,
   "id": "b1605e85-3595-4315-b4ce-e7319fbf704b",
   "metadata": {},
   "outputs": [],
   "source": [
    "I_net\n",
    "\n",
    "S_x_net = I_net / (floorbeam.depth / 2)"
   ]
  },
  {
   "cell_type": "code",
   "execution_count": null,
   "id": "44b80ec1-fcb1-40f3-a70f-3407c384e45e",
   "metadata": {},
   "outputs": [],
   "source": [
    "# Allowable Stress (AREMA Table 15-1-12)\n",
    "Fb_ten = 0.55 * F_y\n",
    "\n",
    "# Compression in extreme fiber\n",
    "Fb_comp_1 = 0.55*F_y-(0.55*F_y**2/(6.3*math.pi**2*E_steel))*(diaphragm_spacing_max/floorbeam.r_y)**2\n",
    "Fb_comp_2 = (0.131 * math.pi * E_steel / (diaphragm_spacing_max * floorbeam.depth * (1+poisson_ratio) ** .5 / (floorbeam.flange_thickness * floorbeam.flange_width))).to('psi')\n",
    "Fb_comp_3 = 0.55 * F_y\n",
    "\n",
    "F_b_comp = (min(Fb_comp_3, max(Fb_comp_1, Fb_comp_2))).to('ksi')\n",
    "\n",
    "f_b_act = (fb_M_tot / S_x_net).to('ksi')\n",
    "\n",
    "# Bearing area allowable stress\n",
    "if f_b_act < F_b_comp:\n",
    "    print(colored(f'OK, Stress Ratio: {f_b_act/F_b_comp}', 'green'))\n",
    "else:\n",
    "    print(colored('No Good - Floor Beam Allowable Stress Check', 'red'))"
   ]
  },
  {
   "cell_type": "code",
   "execution_count": null,
   "id": "f485d655-5e7d-4729-b332-549898837bf3",
   "metadata": {},
   "outputs": [],
   "source": [
    "# End Shear\n",
    "R_dl = total_fb_dl_shear\n",
    "R_ll = fb_P_ll\n",
    "R_imp = fb_P_imp_ll * 2\n",
    "R_re = R1_rocking\n",
    "R_wl = fb_wind_R1\n",
    "\n",
    "R_tot = sum([R_dl, R_ll, R_imp, R_re, R_wl])\n",
    "\n",
    "# Assume 6x1\" dia holes in web to connect to girder\n",
    "fs_net = (R_tot/((floorbeam.depth-web_conn_girder_holes_num*web_conn_girder_holes_dia)*floorbeam.web_thickness)).to('ksi')\n",
    "\n",
    "F_v = (0.35 * F_y).to('ksi')\n",
    "\n",
    "# Bearing area allowable stress\n",
    "if fs_net < F_v:\n",
    "    print(colored(f'OK, Stress Ratio: {fs_net/F_v}', 'green'))\n",
    "else:\n",
    "    print(colored('No Good - Floor Beam End Shear Check', 'red'))"
   ]
  },
  {
   "cell_type": "code",
   "execution_count": null,
   "id": "de685599-5b7e-4368-a9f4-789956d30ad8",
   "metadata": {},
   "outputs": [],
   "source": [
    "# Bolted Connection - Checked in sep. calc, they account for combined efect so no 1.25 increase\n",
    "# AREMA 15 1.5.9.a.1 # //TODO - Investigate this standard\n",
    "R_tot"
   ]
  },
  {
   "cell_type": "code",
   "execution_count": null,
   "id": "9c7fa875-f105-4bea-b82c-2578ab4710ff",
   "metadata": {},
   "outputs": [],
   "source": [
    "# Floor beam fatigue\n",
    "fb_M_ll\n",
    "fb_fat_imp_M = assumed_mean_impact_perc * fb_M_imp\n",
    "fb_M_fat = fb_M_ll + fb_fat_imp_M\n",
    "\n",
    "fb_live_load_stress_range = (fb_M_fat / S_x_net).to('ksi')\n",
    "\n",
    "# N >= 2,000,000 Category B Table 15-1-10 Detail 2.2\n",
    "fb_fsr = 16 * units('ksi')\n",
    "\n",
    "# Bearing area allowable stress\n",
    "if fb_live_load_stress_range < fb_fsr:\n",
    "    print(colored(f'OK, Stress Ratio: {fb_live_load_stress_range/fb_fsr}', 'green'))\n",
    "else:\n",
    "    print(colored('No Good - Floor Beam Fatigue Check', 'red'))"
   ]
  },
  {
   "cell_type": "code",
   "execution_count": null,
   "id": "cc015583-2ccf-4ae2-8ca8-2b3193e957d0",
   "metadata": {},
   "outputs": [],
   "source": [
    "# Deflection\n",
    "girder_spacing\n",
    "floorbeam.I_x\n",
    "E_steel\n",
    "\n",
    "fb_defl_M = fb_M_ll + fb_M_imp + fb_M_re\n",
    "\n",
    "fb_w = 8 * fb_defl_M / (girder_spacing ** 2)\n",
    "\n",
    "fb_deflection = ((5 * fb_w * girder_spacing ** 4) / (384 * E_steel * floorbeam.I_x)).to('in')\n",
    "max_deflection = (girder_spacing / 640).to('in')\n",
    "\n",
    "# Deflection Check\n",
    "if fb_deflection <= max_deflection:\n",
    "    print(colored(f'OK, Stress Ratio: {fb_deflection/max_deflection}', 'green'))\n",
    "else:\n",
    "    print(colored('No Good - Floor Beam Fatigue Check', 'red'))"
   ]
  },
  {
   "cell_type": "code",
   "execution_count": null,
   "id": "b3baf723-476a-4b17-93e6-b213c247e30a",
   "metadata": {},
   "outputs": [],
   "source": []
  },
  {
   "cell_type": "code",
   "execution_count": null,
   "id": "521ef537-7e34-4061-a969-b975444e77ec",
   "metadata": {},
   "outputs": [],
   "source": []
  },
  {
   "cell_type": "code",
   "execution_count": null,
   "id": "a6442cb5-1611-413a-86d6-042e32f7a847",
   "metadata": {},
   "outputs": [],
   "source": []
  },
  {
   "cell_type": "code",
   "execution_count": null,
   "id": "a9fa9744-7360-4d57-b213-7ffb87aaa93b",
   "metadata": {},
   "outputs": [],
   "source": []
  }
 ],
 "metadata": {
  "kernelspec": {
   "display_name": "Python 3 (ipykernel)",
   "language": "python",
   "name": "python3"
  },
  "language_info": {
   "codemirror_mode": {
    "name": "ipython",
    "version": 3
   },
   "file_extension": ".py",
   "mimetype": "text/x-python",
   "name": "python",
   "nbconvert_exporter": "python",
   "pygments_lexer": "ipython3",
   "version": "3.10.13"
  }
 },
 "nbformat": 4,
 "nbformat_minor": 5
}
