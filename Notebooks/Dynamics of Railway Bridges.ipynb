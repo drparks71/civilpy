{
 "cells": [
  {
   "cell_type": "markdown",
   "id": "2ef93299-ce9d-4ad2-9ab6-6c30893ba426",
   "metadata": {
    "editable": true,
    "slideshow": {
     "slide_type": ""
    },
    "tags": []
   },
   "source": [
    "<H1> Dynamics of Railway Bridges</H1>\n",
    "\n",
    "By Ladislav Fryba\n",
    "\n",
    "Dane Parks notes while attempting to implement the concepts in python."
   ]
  },
  {
   "cell_type": "markdown",
   "id": "4e6ea35d-773c-4a0f-a7a5-e80799f04cce",
   "metadata": {},
   "source": [
    "# TOC\n",
    "\n",
    "[Preface](#preface)  \n",
    "[Notation](#notation)\n",
    "1. [Introduction](#intro)  \n",
    "    1.1 [Object and History of the Dynamics of Railway Bridges](#object_and_history)  \n",
    "    1.2 [Deterministic Vibration](#deterministic_vibration)  \n",
    "    1.3. Dynamic Coefficient  \n",
    "    1.4. Stochastic Vibration  \n",
    "2. [Theoretical Bridge Models](#bridge_models)  \n",
    "    2.1 Beams  \n",
    "    &nbsp;&nbsp; 2.1.1 Mass Beams  \n",
    "    &nbsp;&nbsp; 2.1.2 Massless Beams and Other Special Cases  \n",
    "    &nbsp;&nbsp; 2.1.3 Continous Beams  \n",
    "    &nbsp;&nbsp; 2.1.4 Boundary and Initial Conditions  \n",
    "    2.2 Plates  \n",
    "    2.3 Complex Systems  \n",
    "    &nbsp;&nbsp; 2.3.1 Trusses  \n",
    "    &nbsp;&nbsp; 2.3.2 Frames  \n",
    "    &nbsp;&nbsp; 2.3.3 Curved Bars  \n",
    "    2.4 Lumped Masses and Models with Continuously Distributed Mass  \n",
    "    2.5 Bridge Deck Modelling  \n",
    "    &nbsp;&nbsp; 2.5.1 Cross-Beam Effect  \n",
    "    &nbsp;&nbsp; 2.5.2 Ballast  \n",
    "    2.6 Modelling Other Factors  \n",
    "    &nbsp;&nbsp; 2.6.1 Variable Cross Section  \n",
    "    &nbsp;&nbsp; 2.6.2 Prestressed Concrete Bridges  \n",
    "    &nbsp;&nbsp; 2.6.3 Influence of Elastic Foundation, Shear and Rotary Inertia  \n",
    "    2.7 Modelling of Railway Bridges  \n",
    "3. [Modelling of Railway Vehicles](#railway_vehicles)  \n",
    "    3.1 Moving Vertical Forces  \n",
    "    &nbsp;&nbsp; 3.1.1 Constant Forces  \n",
    "    &nbsp;&nbsp; 3.1.2 Harmonic Variable Force  \n",
    "    &nbsp;&nbsp; 3.1.3 Continuous Load  \n",
    "    &nbsp;&nbsp; 3.1.4 Random Load  \n",
    "    3.2 Mass Elements  \n",
    "    &nbsp;&nbsp; 3.2.1 Lumped Mass  \n",
    "    &nbsp;&nbsp; 3.2.2 Rigid Plates and Bodies  \n",
    "    3.3 Springs and Damping Elements  \n",
    "    &nbsp;&nbsp; 3.3.1 Linear Spring  \n",
    "    &nbsp;&nbsp; 3.3.2 Non-linear Spring  \n",
    "    &nbsp;&nbsp; 3.3.3 Stop  \n",
    "    &nbsp;&nbsp; 3.3.4 Viscous Damping  \n",
    "    &nbsp;&nbsp; 3.3.5 Friction  \n",
    "    &nbsp;&nbsp; 3.3.6 Elastic-Plastic Element  \n",
    "    3.4 Modelling of a Bridge and a Running Train  \n",
    "    &nbsp;&nbsp; 3.4.1 Initial Assumptions  \n",
    "    &nbsp;&nbsp; 3.4.2 Equations of Motion  \n",
    "    &nbsp;&nbsp; 3.4.3 Movement of the Vehicle Along the Bridge  \n",
    "4. [Natural Frequencies of Railway Bridges](#frequencies)  \n",
    "    4.1 Calculation of Natural Frequencies  \n",
    "    &nbsp;&nbsp; 4.1.1 Beams  \n",
    "    &nbsp;&nbsp; 4.1.2 Continuous Beams  \n",
    "    &nbsp;&nbsp; 4.1.3 Plates  \n",
    "    &nbsp;&nbsp; 4.1.4 Natrual Frequencies of Loaded Bridges  \n",
    "    4.2 Experimental Results  \n",
    "    &nbsp;&nbsp; 4.2.1 Dynamic Bridge Stiffness  \n",
    "    &nbsp;&nbsp; 4.2.2 Statistical Evaluation of Natural Frequencies  \n",
    "    &nbsp;&nbsp; 4.2.3 Empirical Formulae  \n",
    "5. [Damping of Railway Bridges](#damping)  \n",
    "    5.1 Damped Vibrations of a Beam During the Passage of a Force  \n",
    "    &nbsp;&nbsp; 5.1.1 Viscous Damping Proportional to the Velocity of Vibration  \n",
    "    &nbsp;&nbsp; 5.1.2 Dry Friction  \n",
    "    &nbsp;&nbsp; 5.1.3 Complex Theory of Internal Damping  \n",
    "    5.2 Experimental Results  \n",
    "    &nbsp;&nbsp; 5.2.1 Statistical Evaluation of Logarithmic Decrement of Damping  \n",
    "    &nbsp;&nbsp; 5.2.2 Empirical Formulae  \n",
    "6. [Influence of Vehicle Speed on Dynamic Stresses of Bridges](#vehicle_speed)  \n",
    "    6.1 Constant Velocity of Motion  \n",
    "    6.2 Variable Velocity of Motion  \n",
    "7. [Influence of Track Irregularities and Other Parameters](#track_irregularities)  \n",
    "    7.1 Periodic Irregularities  \n",
    "    &nbsp;&nbsp; 7.1.1 Impact of Wheel Flats  \n",
    "    &nbsp;&nbsp; 7.1.2 Cross-beam and Sleeper Effects  \n",
    "    &nbsp;&nbsp; 7.1.3 Isolated Irregularities  \n",
    "    7.2 Random Irregularities  \n",
    "    7.3 Further Parameters  \n",
    "8. [Horizontal Longitudinal Effects on Bridges](#longitudinal_effects)  \n",
    "    [8.1 Motion of a Disc Rolling Along a Beam Taking Into Account Adhesion](#motion_of_a_disc)  \n",
    "    &nbsp;&nbsp; [8.1.1 Solution](#motion_of_disc_solution)  \n",
    "    &nbsp;&nbsp; [8.1.2 Influence of Some Parameters](#motion_of_disc_parameters)  \n",
    "    [8.2 Quasistatic Model](#quasistatic_model)  \n",
    "    &nbsp;&nbsp; [8.2.1 Solution](#quasistatic_model_solution)  \n",
    "    &nbsp;&nbsp; [8.2.2 Influence of Some Parameters](#quasistatic_model_parameters)  \n",
    "    &nbsp;&nbsp; [8.2.3 Experiments on Bridges](#quasistatic_model_experiments)  \n",
    "    [8.3 Starting and Braking Forces on Bridges](#start_and_braking_forces)  \n",
    "9. [Horizontal Transverse Effects on Bridges](#transverse_effects)  \n",
    "    [9.1 Beam](#transverse_beam_effects)  \n",
    "    &nbsp;&nbsp; [9.1.1 Vertical Vibration](#transverse_vertical_vibration)  \n",
    "    &nbsp;&nbsp; [9.1.2 Horizontal Vibration](#transverse_Horizontal_vibration)  \n",
    "    &nbsp;&nbsp; [9.1.3 Torsional Vibration](#transverse_torsional_vibration)  \n",
    "    [9.2 Thin-Walled Bar with Vertical Axis of Symmetry](#thin_walled_bar_vert_axis)  \n",
    "    &nbsp;&nbsp; [9.2.1 Approximate Solution](#thin_walled_bar_vert_axis_apprx_solution)  \n",
    "    &nbsp;&nbsp; [9.2.2 Dynamic Solution](#thin_walled_bar_vert_axis_dynam_solution)  \n",
    "    &nbsp;&nbsp; [9.2.3 Thin-Walled Bar with Two Axes of Symmetry](#thin_walled_bar_two_axes)  \n",
    "    [9.3 Experiments on Bridges](#horiz_trans_expiriments)  \n",
    "    [9.4 Coefficients of Variation for Horizontal and Torsional Vibrations](#horiz_trans_coefficents)  \n",
    "    [9.5 Centrifugal Forces](#horiz_trans_centrifugal)  \n",
    "10. [Traffic Loads on Railway Bridges](#traffic_loads)  \n",
    "    10.1 Axel Forces  \n",
    "    &nbsp;&nbsp; 10.1.1 Measurements of Axel Forces  \n",
    "    &nbsp;&nbsp; 10.1.2 Vertical Axel Forces  \n",
    "    &nbsp;&nbsp; 10.1.3 Horizontal Transverse Wheel Forces  \n",
    "    10.2 Axel Spacing  \n",
    "    10.3 Velocities  \n",
    "11. [Statistical Counting methods for the Classification of Random Stress-Time History](#counting_methods)  \n",
    "    11.1 Statistical Counting Methods  \n",
    "    &nbsp;&nbsp; 11.1.1 Sampling Method  \n",
    "    &nbsp;&nbsp; 11.1.2 Threshold Method  \n",
    "    &nbsp;&nbsp; 11.1.3 Peak Counting Methods  \n",
    "    &nbsp;&nbsp; 11.1.4 Level Counting Methods  \n",
    "    &nbsp;&nbsp; 11.1.5 Stress Range Counting Methods  \n",
    "    &nbsp;&nbsp; 11.1.6 Multiparametric Methods  \n",
    "    11.2 Rail-Flow Counting Method  \n",
    "    &nbsp;&nbsp; 11.2.1 Justification for the Counting Method from the $ \\sigma (\\epsilon) $ diagram  \n",
    "    &nbsp;&nbsp; 11.2.2 Counting Rules  \n",
    "    &nbsp;&nbsp; 11.2.3 Algorithm for a Computer  \n",
    "    11.3 Appreciation of Counting Methods  \n",
    "    11.4 Statistical Evaluation of Stresses  \n",
    "    &nbsp;&nbsp; 11.4.1 Stress Extremes During Train Passage  \n",
    "    &nbsp;&nbsp; 11.4.2 Statistical Evaluation of Results of the Sampling Method  \n",
    "12. [Stress Ranges in Steel Railway Bridges](#stress_ranges)  \n",
    "    12.1 Theoretical Calculation of Stress Spectra  \n",
    "    &nbsp;&nbsp; 12.1.1 Characteristic Trains  \n",
    "    &nbsp;&nbsp; 12.1.2 Traffic Loads  \n",
    "    &nbsp;&nbsp; 12.1.3 Bending Moment Spectra  \n",
    "    12.2 Experimental Stress Spectra  \n",
    "    &nbsp;&nbsp; 12.2.1 Empirical Formula for the Number of Stress Ranges  \n",
    "    &nbsp;&nbsp; 12.2.2 Probability Density of Stress Ranges  \n",
    "    &nbsp;&nbsp; 12.2.3 Number of Stress Cycles per Year  \n",
    "    &nbsp;&nbsp; 12.2.4 Number of Stress Cycles  \n",
    "    12.3 Growing Traffic Loads  \n",
    "    12.4 Influence of Overloading  \n",
    "    12.5 Other Factors  \n",
    "    12.6 Appreciation of Stress Spectra  \n",
    "13. [The Assessment of Steel Railway Bridges for Fatigue](#fatigue_assessment)  \n",
    "    13.1 Theory of Fatigue Damage Accumulation  \n",
    "    13.2 Method of Equivalent Damage  \n",
    "    13.3 Limit State for Fatigue  \n",
    "    13.4 Fatigue Assessment of Bridges According to Limit States Theory  \n",
    "    13.5 Propagation of Fatigue Cracks  \n",
    "    13.6 Fatigue Life and Interval of Railway Bridge Inspections  \n",
    "    &nbsp;&nbsp; 13.6.1 Residual Service Life for Initial Crack $a_0$  \n",
    "    &nbsp;&nbsp; 13.6.2 Service Life Assuming Fatigue Damage Accumulation  \n",
    "    &nbsp;&nbsp; 13.6.3 Interval of Railway Bridge Inspections  \n",
    "Appendix  \n",
    "14. [Appendix](#appendix)  \n",
    "    14.1 Theoretical Model of Long-Welded Rail and Bridge  \n",
    "    &nbsp;&nbsp; 14.1.1 Basic Assumptions  \n",
    "    &nbsp;&nbsp; 14.1.2 Basic Equations and Their Solution  \n",
    "    &nbsp;&nbsp; 14.1.3 Examples  \n",
    "    14.2 Comparison of Theory with Experiments  \n",
    "    14.3 Expansion Length of Bridges with Long-Welded Rail  \n",
    "    &nbsp;&nbsp; 14.3.1 Maximum and Minimum Temperatures  \n",
    "    &nbsp;&nbsp; 14.3.2 Strength Condition  \n",
    "    &nbsp;&nbsp; 14.3.3 Gap Condition  \n",
    "    &nbsp;&nbsp; 14.3.4 Mutual Displacement Condition  \n",
    "    &nbsp;&nbsp; 14.3.5 Stability Condition  \n",
    "    &nbsp;&nbsp; 14.3.6 Admissible Expansion Length of Bridges  \n",
    "    14.4 Horizontal Forces in Bridges due to Temperature Changes  \n",
    "    14.5 Effect of Some Parameters  \n",
    "    &nbsp;&nbsp; 14.5.1 Rail Displacement  \n",
    "    &nbsp;&nbsp; 14.5.2 Rail Force  \n",
    "    &nbsp;&nbsp; 14.5.3 Mutual Displacement  \n",
    "    &nbsp;&nbsp; 14.5.4 Force in Fixed Bearings  \n",
    "    &nbsp;&nbsp; 14.5.5 Uniform Load Subjecting the Bridge with Curved Rail  \n",
    "    &nbsp;&nbsp; 14.5.6 Strength Condition  \n",
    "    &nbsp;&nbsp; 14.5.7 Gap Condition  \n",
    "    &nbsp;&nbsp; 14.5.8 Mutual Displacement Condition  \n",
    "    14.6 Conclusions for teh Application of Long-Welded Rail on Bridges  \n",
    "Bibliography\n",
    "Author Index\n",
    "Subject Index"
   ]
  },
  {
   "cell_type": "markdown",
   "id": "7895a123-3cbb-4396-a611-09911232bf01",
   "metadata": {},
   "source": [
    "<a id=\"preface\"></a>\n",
    "# Preface\n",
    "\n",
    "The purpose of this notebook is to hold my notes while working through the contents of Ladislav Freyba's *Dynamics of Railway Bridges*. The Book focuses on modeling railway dynamics. The book specfically leaves out code examples and focuses on the mathematical principles and explaining them. This notebook, is an attempt to put actual code to those concepts, to later be transferred into the owner's [civiply](https://daneparks.com/Dane/civilpy) python package. Other languages may be used if necessary, but the intent of the author is to do as much of the following programming as possible utilizing 'pure' python. Mathemetical libraries and imports will be added as necessary and the libraries will be imported near the top of the file. It is up to the user to get a python environment configured in a way that enables the use of this file, that is beyond the scope of this document.\n",
    "\n",
    "Main points - Book was published in 1996 based on author's experience with bridges in Central Europe (Czech and Slovak Republics) it focuses on traditional freight and passenger trains not exceeding 500 km/h. Since the book is largely in metric units, and the Author of this notebook/python library is American, the units will commonly be converted as follows,"
   ]
  },
  {
   "cell_type": "code",
   "execution_count": 1,
   "id": "c4c47bc2-59ca-4f8c-ba84-01ef5ef0b95e",
   "metadata": {},
   "outputs": [
    {
     "data": {
      "text/html": [
       "310.685596118667 mile_per_hour"
      ],
      "text/latex": [
       "$310.685596118667\\ \\mathrm{mile\\_per\\_hour}$"
      ],
      "text/plain": [
       "310.685596118667 <Unit('mile_per_hour')>"
      ]
     },
     "execution_count": 1,
     "metadata": {},
     "output_type": "execute_result"
    }
   ],
   "source": [
    "import pint\n",
    "\n",
    "units = pint.UnitRegistry()\n",
    "speed = 500 * units('km/h')\n",
    "speed.to('mph')"
   ]
  },
  {
   "cell_type": "markdown",
   "id": "01e21bd5-ee22-4488-8834-1cae0e7171ea",
   "metadata": {},
   "source": [
    "The author's environment utilizes the following python version,"
   ]
  },
  {
   "cell_type": "code",
   "execution_count": 2,
   "id": "80d5f2f1-74bd-4939-ad4b-fcf275bab294",
   "metadata": {},
   "outputs": [
    {
     "name": "stdout",
     "output_type": "stream",
     "text": [
      "Python Version: 3.10\n"
     ]
    }
   ],
   "source": [
    "import sys\n",
    "print(f\"Python Version: {sys.version_info[0]}.{sys.version_info[1]}\")"
   ]
  },
  {
   "cell_type": "markdown",
   "id": "3dcf4749-f6f8-4e1d-9f53-595caf7dd390",
   "metadata": {},
   "source": [
    "Occasionally packages like matplotlib will output warnings for things like dividing by 0. You can suppress these warnings as follows,"
   ]
  },
  {
   "cell_type": "code",
   "execution_count": 3,
   "id": "8fd4456c-7ca9-4982-8f38-cb7defc75aba",
   "metadata": {},
   "outputs": [],
   "source": [
    "import warnings\n",
    "warnings.filterwarnings(\"ignore\")"
   ]
  },
  {
   "cell_type": "markdown",
   "id": "fc8925d8-41fc-41c7-bd66-ca46d2fcb395",
   "metadata": {},
   "source": [
    "A few additional libraries will be utilized to aid in the calculations performed in this notebook,"
   ]
  },
  {
   "cell_type": "code",
   "execution_count": 4,
   "id": "aa0ce43c-01cc-41f3-91af-bce9269ad820",
   "metadata": {},
   "outputs": [],
   "source": [
    "import math\n",
    "import matplotlib.pyplot as plt"
   ]
  },
  {
   "cell_type": "markdown",
   "id": "ba6a5be1-1909-4705-88d2-b60a8f5d13f2",
   "metadata": {},
   "source": [
    "The book focuses on vertical, longitudinal, and lateral forces, with the notable exceptions of Wind and Earthquake Loads. Thermal interaction is considered in the Appendix."
   ]
  },
  {
   "cell_type": "markdown",
   "id": "454262ab-d5cf-4d16-9eea-e4047c55fcbe",
   "metadata": {},
   "source": [
    "<a id=\"notation\"></a>\n",
    "# Notation\n",
    "\n",
    "The following is an outline of the notation utilized in the book as well as in the python package. Due to python variables having the requirement to be unique and not contain greek letters, the repeated values had to be expanded to more verbose python varibles for use in coding namespaces. In the spirit of python, the variables were made as 'pythonic' as possible in an attempt to sacrifice brevity for clarity. The following outline provides the books notation, the python variable, and then the books description of that variable. Formulas from the book will first be shown in their traditional mathematical representation,\n",
    "\n",
    "$$ a^2 + b^2 = c^2 $$\n",
    "\n",
    "followed by their python representation when solving the equation;\n",
    "\n",
    "```python\n",
    "c = np.sqrt(a**2 + b**2)\n",
    "```\n",
    "\n",
    "for more complex equations, expect numpy to be utilized for variable mathematics and sympy for calculus type mathematics."
   ]
  },
  {
   "cell_type": "code",
   "execution_count": 5,
   "id": "2ad75cd4-c9e5-4739-9be8-5cc8ceb2256e",
   "metadata": {},
   "outputs": [],
   "source": [
    "import numpy as np\n",
    "import sympy as sp"
   ]
  },
  {
   "cell_type": "markdown",
   "id": "dcf6ee54-b958-4b13-8900-d7ea9a5acd12",
   "metadata": {},
   "source": [
    "The next cell centers the outputs of figures in jupyter."
   ]
  },
  {
   "cell_type": "markdown",
   "id": "1c267f8a-63dc-4da6-a2a5-85235c5a322b",
   "metadata": {},
   "source": [
    "<center><b>Notation Table</b></center>\n",
    "\n",
    "| Book Notation                            | Python Notation   | Description                                                    |\n",
    "|:----------------------------------------:|:-----------------:|:--------------------------------------------------------------:|\n",
    "| $ a $                                    | a_constant        | Constant                                                       |\n",
    "| $ a $                                    | axel_distance     | Axel Distance (//TODO - duplicate python name)                 |\n",
    "| $ a $                                    | crack_length      | crack_length                                                   |\n",
    "| $ a $                                    | acceleration      | Acceleration or Decelleration of Motion                        |\n",
    "| $ b $                                    | b_constant        | Constant                                                       |\n",
    "| $ b $                                    | damping_constant  | Constant of Damping or Dry Friction                            |\n",
    "| $ b $                                    | traffic_load_inc  | Annual increment of traffic load                               |\n",
    "| $ b $                                    | rail_delta_rel    | Relative Rail and Bridge Displacement                          |\n",
    "| $ b_i $                                  | adhesion_coeff    | Coefficient in adhesion computation                            |\n",
    "| $ c $                                    | motion_velocity   | Velocity of motion                                             |\n",
    "| $ c $                                    | c_constant        | Constant                                                       |\n",
    "| $ c $                                    | crack_width       | Crack Width                                                    |\n",
    "| $ c_1, c_2 $                             | wave_prop_speed   | Speed of Proagation of Longitudinal or Transverse Waves        |\n",
    "| $ d $                                    | d_constant        | Constant                                                       |\n",
    "| $ d $                                    | tie_spacing       | Sleeper (tie) distance                                         |\n",
    "| $ d_n $                                  | axel_distance     | Axel Distance (Repeat python value - change)                   |\n",
    "| $ f $                                    | frequency         | Frequency                                                      |\n",
    "| $ f_g $                                  | udl_deflection    | Deflection due to uniformly distributed load                   |\n",
    "| $ f_j $                                  | natural_freq      | Natural Frequency                                              |\n",
    "| $ f_j $                                  | nat_freq_loaded   | Natural Frequency of Loaded Bridge                             |\n",
    "| $ f(x) $                                 | function          | function (will use name of function instead in python)         |\n",
    "| $ f(x, t) $                              | load_per_ft       | Load per unit length                                           |\n",
    "| $ f(x, t) $                              | prob_density      | Probability Density                                            |\n",
    "| $ f(x, t) $                              | cent_ran_fun_val  | Centered value of random function                              |\n",
    "| $ g $                                    | grav_acc          | Acceleration due to gravity ($ 9.81\\ m/s^2 $)                  |\n",
    "| $ g_1(x) $                               | beam_defl_init    | Initial Beam Deflection                                        |\n",
    "| $ g_2(x) $                               | beam_vel_init     | Initial Beam Velocity                                          |\n",
    "| $ h $                                    | delta_height      | Difference in height                                           |\n",
    "| $ h $                                    | plate_thick       | Plate Thickness                                                |\n",
    "| $ i\\ or\\ j $                             | i/j               | Temporary holders for iterable values (1, 2, 3, ...)           |\n",
    "| $ k $                                    | k_constant        | Constant                                                       |\n",
    "| $ k $                                    | spring_stiff      | Spring Stiffness                                               |\n",
    "| $ k $                                    | fatigue_curve     | Gradient of Wöhler fatigue curve                               |\n",
    "| $ l $                                    | span_length       | Span of the bridge                                             |\n",
    "| $ l $                                    | length            | Length                                                         |\n",
    "| $ m $                                    | mass              | Mass                                                           |\n",
    "| $ m $                                    | coefficient       | Coefficient                                                    |\n",
    "| $ m_i $                                  | lengths_ratio     | Lengths Ratio                                                  |\n",
    "| $ n $                                    | n                 | Temporary holder for iterable values (1, 2, 3, ...)            |\n",
    "| $ n $                                    | stress_cycle_cnt  | Number of stress cycles per year                               |\n",
    "| $ n $                                    | no_of_spans       | Number of spans for a continuous beam                          |\n",
    "| $ n_i $                                  | stress_cycles_i   | Number of stress cycles in the *i*th class                     |\n",
    "| $ n_T $                                  | trains_per_year   | Number of trains per year                                      |\n",
    "| $ p $                                    | trans_udl         | Horizontal transverse uniformly distributed load               |\n",
    "| $ q $                                    | disp_gen          | Generalized Displacement                                       |\n",
    "| $ q $                                    | long_load         | Longitudinal Load                                              |\n",
    "| $ q $                                    | no_tracks         | Number of tracks on the bridge                                 |\n",
    "| $ r $                                    | wheel_radius      | Radius of wheel, curvature, inertia                            |\n",
    "| $ r $                                    | cont_beam_ratio   | Span Ratio in a continuous beam                                |\n",
    "| $ r(x) $                                 | track_irr         | Track irregularity                                             |\n",
    "| $ s $                                    | amplitude         | Amplitude                                                      |\n",
    "| $ s $                                    | aux_var           | Auxilary Variable                                              |\n",
    "| $ s $                                    | std_dev           | Standard Deviation                                             |\n",
    "| $ t $                                    | time              | Time                                                           |\n",
    "| $ t $                                    | temp              | Temperature                                                    |\n",
    "| $ u(x, t) $                              | x_delta           | Displacement in the direction of axis x                        |\n",
    "| $ u(t) $                                 | motion_function   | Function expressing the motion of a force                      |\n",
    "| $ v $                                    | velocity          | Velocity                                                       |\n",
    "| $ v(x, t) $                              | y_delta           | Displacement in the direction of axis y                        |\n",
    "| $ v_{st} $                               | self_w_mid_delta  | Static midspan deflection due to self-weight                   |\n",
    "| $ v_0 $                                  | force_mid_delta   | Midspan Deflection due to force F applied at midspan           |\n",
    "| $ var\\ (\\rho) $                          | time_function     | Function of Time                                               |\n",
    "| $ w(x, t) $                              | z_delta           | Displacement in the direction of axis $ z $                    |\n",
    "| $ w(x, y, t) $                           | plate_deflection  | Deflection of the plate                                        |\n",
    "| $ x $                                    | x_coord           | Coordinate                                                     |\n",
    "| $ y $                                    | y_coord           | Coordinate                                                     |\n",
    "| $ y $                                    | vert_uneveness    | Vertical Unevenness                                            |\n",
    "| $ z $                                    | z_coord           | Coordinate                                                     |\n",
    "| $ z $                                    | horz_uneveness    | Horizontal Uneveness                                           |\n",
    "|     &nbsp;                               |                   |                                                                |\n",
    "| $ A $                                    | A_constant        | Constant                                                       |\n",
    "| $ A $                                    | cross_sect_area   | Cross Section Area                                             |\n",
    "| $ B $                                    | B_constant        | Constant                                                       |\n",
    "| $ B $                                    | acc_mot_param     | Parameter of accelerated or decelarated motion                 |\n",
    "| $ B $                                    | bridge_stiff      | Dynamic Bridge Stiffness                                       |\n",
    "| $ C $                                    | C_constant        | Constant                                                       |\n",
    "| $ C_g $                                  | center_gravity    | Center of Gravity (centroid)                                   |\n",
    "| $ C_s $                                  | center_flexure    | Center of Flexure                                              |\n",
    "| $ C_f(x, t) $                            | coeff_var         | Variation coefficient of random function f(x, t)               |\n",
    "| $ C_{xy}(x_1, t_2) $                     | covariance        | Covariance of random functions x(t) and y(t)                   |\n",
    "| $ D $                                    | D_constant        | Constant                                                       |\n",
    "| $ D $                                    | fatigue_damage    | Fatigue Damage                                                 |\n",
    "| $ D $                                    | pl_bend_stiff     | Bending stiffness of a plate                                   |\n",
    "| $ D $                                    | std_dev           | Standard Deviation (//TODO - duplicate python name)            |\n",
    "| $ D^2 $                                  | variance          | Variance                                                       |\n",
    "| $ D_n $                                  | axle_distance     | Dimensionless Axel Distance (//TODO - duplicate python name)   |\n",
    "| $ E $                                    | mod_elasticity    | Modulus of Elasticity                                          |\n",
    "| $ E $                                    | experiment        | Experiment                                                     |\n",
    "| $ E_{jn} $                               | E_jn_constant     | Constant                                                       |\n",
    "| $ E[f(x, t)] $                           | mean_val_random   | Mean Value of Random Function $f(x, t)$                        |\n",
    "| $ F $                                    | force             | Force                                                          |\n",
    "| $ F $                                    | vehicle_weight    | Vehicle Weight                                                 |\n",
    "| $ F $                                    | track_freq        | Track Frequency                                                |\n",
    "| $ F(t) $                                 | time_var_force    | Time Variable Force                                            |\n",
    "| $ F_{cfg} $                              | cent_force        | Centrifugal Force                                              |\n",
    "| $ G $                                    | bridge_weight     | Weight of the bridge                                           |\n",
    "| $ G $                                    | shear_mod_elas    | Modulus of Elasticity in Shear                                 |\n",
    "| $ G(x, s) $                              | green_funct       | Influence or Green Function                                    |\n",
    "| $ G_{rr}(\\Omega) $                       | pwr_den_uneven    | Power Spectral Density of Unevennesses (one-sided)             |\n",
    "| $ H(t) $                                 | horz_force        | Horizontal Force                                               |\n",
    "| $ H_y $                                  | horz_trans_force  | Horizontal Transverse Force                                    |\n",
    "| $ I $                                    | I_xx or I_yy      | Moment of Inertia                                              |\n",
    "| $ K $                                    | spring_force      | Spring Force                                                   |\n",
    "| $ K $                                    | stress_factor     | Stress Intensity Factor                                        |\n",
    "| $ L $                                    | length            | Length                                                         |\n",
    "| $ L $                                    | life_span         | Life of bridge                                                 |\n",
    "| $ L $                                    | uneveness_length  | Length of Unevenness                                           |\n",
    "| $ L $                                    | exp_length        | Expansion Length of the bridge                                 |\n",
    "| $ L_i $                                  | insp_interval     | Bridge Inspection Interval                                     |\n",
    "| $ M $                                    | moment            | Bending Moment                                                 |\n",
    "| $ M $                                    | mean_value        | Mean Value                                                     |\n",
    "| $ N $                                    | horz_long_force   | Horizontal Longitudinal force                                  |\n",
    "| $ N $                                    | normal_force      | Normal Force                                                   |\n",
    "| $ N $                                    | number_axels      | Number of axels                                                |\n",
    "| $ N $                                    | stress_cycles_no  | Number of stress cycles                                        |\n",
    "| $ N_i $                                  | ult_no_cycles     | Ultimate number of Stress Cycles                               |\n",
    "| $ N_t $                                  | life_no_trains    | Number of trains per bridge life                               |\n",
    "| $ P $                                    | probability       | Probability                                                    |\n",
    "| $ S_i $                                  | rail_horz_force   | Horizontal Force in Rail                                       |\n",
    "| $ S_{ff}(q_1, q_2, \\omega_1, \\omega_2) $ | power_den_2s      | Power Spectral density of random function f(x, t), (two-sided) |\n",
    "| $ T $                                    | traff_load        | Traffic Load per year (in millions of tonnes)                  |\n",
    "| $ T $                                    | dimless_coeff     | Dimensionless Coefficient                                      |\n",
    "| $ T $                                    | vibration_period  | Period of Natural Vibration                                    |\n",
    "| $ T $                                    | theory            | Theory                                                         |\n",
    "| $ T(t) $                                 | tension           | Tensile force                                                  |\n",
    "| $ U(x) $                                 | heavy_unit_func   | Heaviside Unit Function                                        |\n",
    "| $ V(x, t) $                              | var_coeff         | Variation Coefficient                                          |\n",
    "| $ V_{mn} $                               | dep_matrix_mn     | Matrix of dependence of the nth and the mth forces             |\n",
    "| $ W $                                    | x_sec_modulus     | Cross section modulus                                          |\n",
    "| $ W(t) $                                 | motion_resist     | Resistance to Motion                                           |\n",
    "| $ X_i $                                  | bear_horz_lon_f   | Horizontal Longitudinal force below bridge bearings            |\n",
    "| $ Y $                                    | horz_trans_force  | Horizontal Transverse force                                    |\n",
    "| $ Z_i $                                  | bear_vert_rxn     | Vertical reaction under bridge bearings                        |\n",
    "| $ Z^2_{nm}(Z) $                          | z_nm_function     | Function                                                       |\n",
    "|     &nbsp;                               |                   |                                                                |\n",
    "| $ \\alpha $                               | velocity_a        | Velocity Parameter                                             |\n",
    "| $ \\alpha $                               | angle             | Angle (//TODO - duplicate python name)                         |\n",
    "| $ \\alpha $                               | therm_exp_coeff   | Thermal Expansion Coefficient                                  |\n",
    "| $ \\beta $                                | damping_beta      | Damping Parameter                                              |\n",
    "| $ \\gamma $                               | reliability_coeff | Reliability Coefficient                                        |\n",
    "| $ \\gamma $                               | int_damp_coeff    | Internal Damping Coefficient                                   |\n",
    "| $ \\gamma $                               | load_factor       | Load Factor                                                    |\n",
    "| $ \\delta $                               | dyn_coeff         | Dynamic Coefficient                                            |\n",
    "| $ \\delta(x) $                            | dirac_function    | Dirac Delta Function                                           |\n",
    "| $ \\varepsilon $                          | strain            | Strain                                                         |\n",
    "| $ \\varepsilon = 0\\ or\\ 1 $               |                   |                                                                |\n",
    "| $ \\varepsilon << 1 $                     | very_small_quat   | Very small quantity                                            |\n",
    "| $ \\zeta(t) $                             | yawing            | Yawing                                                         |\n",
    "| $ \\eta(t) $                              | pitching          | Pitching                                                       |\n",
    "| $ \\vartheta $                            | log_dec_damping   | Logarithmic decrement of damping                               |\n",
    "| $ \\chi $                                 | weight            | Weight Parameter                                               |\n",
    "| $ \\lambda_i $                            | stress_range      | Dimensionless Stress Range                                     |\n",
    "| $ \\lambda_j $                            | nat_freq_value    | Value dependent on Natural Frequency                           |\n",
    "| $ \\lambda_T $                            | fatigue_load_fact | Fatigue Load Factor                                            |\n",
    "| $ \\mu $                                  | mass_per_unit     | Mass per unit length of a beam or per unit area of a plate     |\n",
    "| $ \\mu $                                  | friction_coeff    | Friction Coefficient                                           |\n",
    "| $ \\upsilon $                             | poisson_no        | Poisson's Number ($\\upsilon < 1$)                              |\n",
    "| $ \\xi $                                  | dimless_len_coord | Dimensionless Length Coordinate                                |\n",
    "| $ \\xi $                                  | rolling           | Rolling                                                        |\n",
    "| $ \\rho $                                 | force_arm         | Arm of a force                                                 |\n",
    "| $ \\sigma(x, t) $                         | stress            | Stress                                                         |\n",
    "| $ \\sigma^2_v(x, t) $                     | deflection_var    | Deflection Variance                                            |\n",
    "| $ \\tau $                                 | time_dimless      | Dimensionless time                                             |\n",
    "| $ \\tau $                                 | aux_time_var      | Auxiliary Time Variable                                        |\n",
    "| $ \\varphi $                              | dyn_inc           | Dynamic Increment                                              |\n",
    "| $ \\varphi $                              | dimless_param     | Dimensionless parameter                                        |\n",
    "| $ \\varphi $                              | sect_coord        | Sectorial Coordinate                                           |\n",
    "| $ \\varphi $                              | angle             | Angle (//TODO - duplicate python name)                         |\n",
    "| $ \\varphi $                              | phase             | Phase                                                          |\n",
    "| $ \\omega $                               | circ_freq         | Circular Frequency                                             |\n",
    "| $ \\omega $                               | circ_freq_force   | Circular Frequency of passage of force                         |\n",
    "| $ \\omega $                               | circ_freq_damping | Circular Frequency with damping                                |\n",
    "| $ \\omega $                               | circ_freq_vib     | Circular Frequency of damped vibrations                        |\n",
    "| $ \\omega $                               | nat_freq          | Natural Circular Frequency                                     |\n",
    "|        &nbsp;                            |                   |                                                                |\n",
    "| $ \\Gamma $                               | gamma_function    | Gamma Function                                                 |\n",
    "| $ \\Delta\\sigma $                         | stress_range      | Stress Range                                                   |\n",
    "| $ \\Delta t $                             | rail_temp_diff    | Rail temperature difference from fixing temperature            |\n",
    "| $ \\Delta T $                             | bridge_temp_diff  | Bridge temperature difference from fixing temperature          |\n",
    "| $ \\Sigma $                               | summation         | Summation                                                      |\n",
    "| $ \\Phi $                                 | friction_force    | Dimensionless friction force                                   |\n",
    "| $ \\Phi(x) $                              | gauss_distrib     | Distribution function of the normal Gauss distribution         |\n",
    "| $ \\Omega $                               | circ_freq_harm    | Circular Frequency of harmonically variable force              |\n",
    "| $ \\Omega $                               | circ_freq_motion  | Circular Frequency of nonuniform motion                        |\n",
    "| $ \\Omega $                               | track_frequency   | Track Frequency                                                |\n",
    "| &nbsp;                                   |                   |                                                                |\n",
    "| **Subscripts**                           | (tagged onto end) |                                                                |\n",
    "| adm                                      | _admissible       | Admissible Value                                               |\n",
    "| $ b $                                    | _damping          | Damping                                                        |\n",
    "| cfg                                      | _centrifugal      | Centrifugal                                                    |\n",
    "| com                                      | _comp             | Comparative                                                    |\n",
    "| cr                                       | _crit             | Critical Value                                                 |\n",
    "| d                                        | _damp             | Damping                                                        |\n",
    "| ev                                       | _eq               | Equivalent                                                     |\n",
    "| h                                        | _horz             | Horizontal                                                     |\n",
    "| $ i = 1, 2, 3... $                       | (might use gens)  | Depends on use, might use python generators                    |\n",
    "| $ i = 1, 2, 3... $                       |                   |                                                                |\n",
    "| kt                                       | _yield            | Yield Limit                                                    |\n",
    "| n                                        | _std_ld           | Standard Load                                                  |\n",
    "| $ w $                                    | _h_trans          | Horizontal Transverse                                          |\n",
    "| $ y $                                    | _horz             | Horizontal                                                     |\n",
    "| F                                        | _fix              | Fixed Bearing                                                  |\n",
    "| M                                        | _mov              | Movable Bearing                                                |\n",
    "| T                                        | _traff            | Traffic                                                        |\n",
    "| $ \\xi $                                  | _tors             | Torsional                                                      |\n",
    "| $ \\varphi $                              | _tors             | Torsional                                                      |\n",
    "| &nbsp;                                   |                   |                                                                |\n",
    "| **Superscripts**                         |                   |                                                                |\n",
    "| ', '', $ ^{IV} $                         | _dx, _ddx         | Derivatives with respect to length coordinate                  |\n",
    "| '                                        | _damped           | Damped vibration                                               |\n",
    "| $ ^., ^{..} $                            | _dt, _ddt         | Derivatives with respect to time                               |\n",
    "| -                                        | _loaded           | Loaded                                                         |\n",
    "| *                                        | _comp             | Complex quantity                                               |\n",
    "| &nbsp;                                   |                   |                                                                |\n",
    "| **Units of Measurements**                |                   |                                                                |\n",
    "| **International System (SI)**            | Python functions  | utilize the `pint` library, so units can be converted easily   |\n",
    "| Lengths                                  |                   | meter (m), millimeter (mm), kilometer (km)                     |\n",
    "| Force                                    |                   | newton (N), kilonewton (kN), meganewton (MN)                   |\n",
    "| Mass                                     |                   | kilogram (kg), tonne (t)                                       |\n",
    "| Time                                     |                   | second (s), hour (h), year                                     |\n",
    "| Frequency                                |                   | hertz (Hz)                                                     |\n",
    "| Circular Frequency                       |                   | $ 1/s $                                                        |\n",
    "| Velocity                                 |                   | $ m/s, km/h $                                                  |\n",
    "| Stress                                   |                   | megapascal $ (MPa) = N/mm^2 $                                  |\n",
    "| Temperature                              |                   | degrees centigrade, Celsius, (°C)                              |"
   ]
  },
  {
   "cell_type": "markdown",
   "id": "79137a59-e940-4b34-b5bd-1cd49141c720",
   "metadata": {},
   "source": [
    "# Notes"
   ]
  },
  {
   "cell_type": "markdown",
   "id": "b3d668c1-783e-4fc5-b850-d9adbda54466",
   "metadata": {},
   "source": [
    "<a id=\"intro\"></a>\n",
    "## Introduction\n",
    "\n",
    "```mermaid\n",
    "flowchart TD\n",
    "\n",
    "A([\"Dynamic Effects of Railway Vehicles on Bridges\"]) --> B([\"Deterministic\"])\n",
    "A --> C([\"Stochastic also due to traffic flow\"])\n",
    "B --> D([\" \"])\n",
    "C --> D([\" \"])\n",
    "D --> E([\"Vertical effects\"])\n",
    "D --> F([\"Horizontal Effects\"])\n",
    "F --> G([\"Transverse\"])\n",
    "F --> H([\"Longitudinal\"])\n",
    "E --> I([\"Influence of moving<br>Forces and masses\"])\n",
    "E --> J([\"Irregularities\"])\n",
    "J --> K([\"Of the tracks\"])\n",
    "J --> L([\"Of vehicle wheels\"])\n",
    "H --> M([\"Starting Forces\"])\n",
    "H --> N([\"Braking Forces\"])\n",
    "G --> O([\"Lateral Impacts\"])\n",
    "G --> P([\"centrifugal Forces\"])\n",
    "```"
   ]
  },
  {
   "cell_type": "markdown",
   "id": "33f2d0ab-6cb0-41db-bec7-4fbc8024fc9c",
   "metadata": {},
   "source": [
    "<a id=\"object_and_history\"></a>\n",
    "### Object and History of the Dynamics of Railway Bridges\n",
    "\n",
    "The book focuses on the dynamic interactions of the train and structures via the moving wheel and axel forces. The following chart is provided to detail the dynamic effects of vehicles on railway bridges.\n",
    "\n",
    "<a id=\"fig1.1\"></a>\n",
    "\n",
    "```mermaid\n",
    "flowchart TD\n",
    "\n",
    "A([\"Dynamic Effects of Railway Vehicles on Bridges\"]) --> B([\"Deterministic\"])\n",
    "A --> C([\"Stochastic also due to traffic flow\"])\n",
    "B --> D([\" \"])\n",
    "C --> D([\" \"])\n",
    "D --> E([\"Vertical effects\"])\n",
    "D --> F([\"Horizontal Effects\"])\n",
    "F --> G([\"Transverse\"])\n",
    "F --> H([\"Longitudinal\"])\n",
    "E --> I([\"Influence of moving<br>Forces and masses\"])\n",
    "E --> J([\"Irregularities\"])\n",
    "J --> K([\"Of the tracks\"])\n",
    "J --> L([\"Of vehicle wheels\"])\n",
    "H --> M([\"Starting Forces\"])\n",
    "H --> N([\"Braking Forces\"])\n",
    "G --> O([\"Lateral Impacts\"])\n",
    "G --> P([\"centrifugal Forces\"])\n",
    "```\n",
    "<center>Figure 1.1 Dynamic effects of railway vehicles on bridges</center>\n",
    "Most important factors:\n",
    "\n",
    "- Frequency Characteristics of Bridge Structures:\n",
    "    - length\n",
    "    - mass\n",
    "    - rigidity of members\n",
    "- Frequency Characteristics of Vehicles:\n",
    "    - sprung and unsprung masses\n",
    "    - spring stiffness\n",
    "- The damping in bridges and in vehicles\n",
    "- Velocity of vehicle movement\n",
    "- Track Irregularities\n",
    "\n",
    "Dynamic effects on bridges are typically accounted for under the \"dynamic impact factor\" (or dynamic coefficient). However this provides a simplified view of the dynamic interaction of the railway vehicle with the structure and is just a factor by which the static load is amplified to account for dynamic forces.\n",
    "\n",
    "The increased focus on fatigue assessments and life cycle based anaylsis of bridge structures, has lead to the development of new approaches that were developed as a result.\n",
    "\n",
    "Thermal interactions are at the boundary of static and dynamics of bridges. They're discussed toward the end of the book. The book mostly focuses on vibration related formulas and analysis.\n",
    "\n",
    "The majority of the chapter is a history lesson covering the progress over the years of the shift from the analysis of the structures."
   ]
  },
  {
   "cell_type": "markdown",
   "id": "c39e1a4d-1234-45e6-ac46-2092df46840e",
   "metadata": {},
   "source": [
    "<a id=\"deterministic_vibration\"></a>\n",
    "### Deterministic Vibration\n",
    "\n",
    "Deterministic vibration is vibration that can be predicted at any moment. The basic model is a system with one degree of freedom (fig 1.2) whos motion is described by Newton's second law and D'Alembert's principle."
   ]
  },
  {
   "cell_type": "markdown",
   "id": "eddbe64c-859e-4046-aae4-58c04774d8a0",
   "metadata": {},
   "source": [
    "<a id=\"eq1.1\"></a>\n",
    "$$ m\\ \\frac{d^2 v(t)}{dt^2} + b\\ \\frac{dv(t)}{dt} + k\\ v(t) = F(t)\\tag{Eq. 1.1} $$"
   ]
  },
  {
   "cell_type": "markdown",
   "id": "2aff1d07-8221-46f6-851e-f7523b1dd26b",
   "metadata": {},
   "source": [
    "<a id=\"fig1.2\"></a>\n",
    "<center><img src=\"res/imgs/rail_dynamics/kelvin-voigt_spring.jpg\" /></center>\n",
    "<center>Fig. 1.2 System with one degree of freedom with Kelvin-Voigt absorber of vibrations</center>"
   ]
  },
  {
   "cell_type": "markdown",
   "id": "a356ffde-6f2f-4eb1-8ecc-78f3bf19ff23",
   "metadata": {},
   "source": [
    "where:\n",
    "\n",
    "$ v(t) $ - displacement of a body of mass $m$ at time $t$,  \n",
    "$m$ - lumped mass of the system,  \n",
    "$b=2m\\omega_b$ - damping force at unit velocity (according to voigt's hypothesis of damping proportional to the velocity of vibration)  \n",
    "$k$ - stiffness or rigidity of the spring (force per unit length of spring deformation), assumed constant,  \n",
    "$F(t)$ - External force dependent on time $t$.  "
   ]
  },
  {
   "cell_type": "markdown",
   "id": "47bc0ce2-a03d-4b9c-be9a-da57a721900a",
   "metadata": {},
   "source": [
    "The fundamental concepts in the field of vibrations are the natural cicular frequency of the system ([1.1](#eq1.1))\n",
    "<a id='eq1.2'></a>\n",
    "$$ \\omega_0 = \\bigg( \\frac{k}{m} \\bigg) ^{1/2} \\tag{1.2} $$"
   ]
  },
  {
   "cell_type": "markdown",
   "id": "7f7add08-7aac-4607-8f81-d0c1940ec927",
   "metadata": {},
   "source": [
    "the circular frequency of damped vibrations with subcritical damping ($\\omega_b < \\omega_0$)\n",
    "<a id='eq1.3'></a>\n",
    "$$ \\omega_d^2 = \\omega_0^2 - \\omega_b^2 \\tag{1.3} $$"
   ]
  },
  {
   "cell_type": "markdown",
   "id": "ae3c2742-96b4-446f-a818-04db516a17f8",
   "metadata": {},
   "source": [
    "the natural frequencies of undamped or damped vibrations derived from it\n",
    "<a id='eq1.4'></a>\n",
    "$$ f_0 = \\frac{\\omega_0}{2 \\pi} \\tag{1.4} $$"
   ]
  },
  {
   "cell_type": "markdown",
   "id": "677cdcf3-f93e-4e4d-9999-654d8563f9f2",
   "metadata": {},
   "source": [
    "and\n",
    "<a id='eq1.5'></a>\n",
    "$$ f_d = \\frac{\\omega_d}{2 \\pi} \\tag{1.5} $$"
   ]
  },
  {
   "cell_type": "markdown",
   "id": "589623df-44e8-41f0-9c40-7981b596a5f0",
   "metadata": {},
   "source": [
    "respectively and the period of natural vibrations\n",
    "<a id='eq1.6'></a>\n",
    "$$ T_0 = \\frac{1}{f_0} \\tag{1.6} $$"
   ]
  },
  {
   "cell_type": "markdown",
   "id": "fe43920e-3d5e-4906-93aa-0cadc3f636f3",
   "metadata": {},
   "source": [
    "and\n",
    "<a id='eq1.7'></a>\n",
    "$$ T_d = \\frac{1}{f_d} \\tag{1.7} $$"
   ]
  },
  {
   "cell_type": "markdown",
   "id": "6217d61a-8659-41bc-a3ff-4517419e7969",
   "metadata": {},
   "source": [
    "the damping of the system in [(1.1)](#1.1) is characterized most frequently by the logarithmic decrement of damping, $ \\vartheta $ which is defined as teh natural logarithm of the ratio of any two successive amplitudes of like sign after time $T_d$. In the case of damping proportional to vibration velocity, this ratio is constant. In practice, it is often determined on the basis of n successive vibrations\n",
    "<a id='eq1.8'></a>\n",
    "$$ \\vartheta = \\frac{1}{n}ln\\frac{s_0}{s_n} \\tag{1.8} $$\n",
    "where $s_n$ is the amplitude after the $n$th cycle (see [Fig. 1.3](#fig1.3))"
   ]
  },
  {
   "cell_type": "markdown",
   "id": "aa3925a2-f778-4df5-a0c6-09d0cf0641f1",
   "metadata": {},
   "source": [
    "The relation of the logarithmic decrement of damping to the constant $b$ or $\\omega_b$ in [equation (1.1)](#eq1.1) is\n",
    "\n",
    "<a id='eq1.9'></a>\n",
    "$$ \\vartheta = \\frac{\\omega_b}{f_b} = \\frac{b}{2mf_d} \\tag{1.9} $$"
   ]
  },
  {
   "cell_type": "markdown",
   "id": "f7a21f0e-be10-4192-9cf1-8ca95a1e6b80",
   "metadata": {},
   "source": [
    "The quantity $ \\vartheta $ is sometimes replaced by the dimensionless damping ratio\n",
    "\n",
    "<a id=\"eq1.10\"></a>\n",
    "$$ \\beta = \\frac{\\omega_b}{\\omega_0} = \\frac{b}{2m\\omega_0} = \\frac{f_d}{\\omega_0}\\vartheta \\approx \\frac{\\vartheta}{2 \\pi} \\tag{1.10} $$"
   ]
  },
  {
   "cell_type": "code",
   "execution_count": 6,
   "id": "e75c783c-0bfa-4c22-b1f7-5560b71ad7f3",
   "metadata": {},
   "outputs": [],
   "source": [
    "def damped_vibration(m, c, k, x0, v0, t):\n",
    "    \"\"\"\n",
    "    Models the natural damped vibration of a system with one degree of freedom.\n",
    "    \n",
    "    Parameters:\n",
    "    - m : mass of the system\n",
    "    - c : damping coefficient\n",
    "    - k : stiffness of the system\n",
    "    - x0: initial displacement\n",
    "    - v0: initial velocity\n",
    "    - t : time array\n",
    "    \n",
    "    Returns:\n",
    "    - x : Displacement Array over Time t\n",
    "    - omega_n : The natural frequency\n",
    "    - zeta : Damping Ratio\n",
    "    \"\"\"\n",
    "    # Calculate damped natural frequency\n",
    "    omega_n = np.sqrt(k / m)\n",
    "    zeta = c / (2 * np.sqrt(m * k))\n",
    "    omega_d = omega_n * np.sqrt(1 - zeta ** 2)\n",
    "\n",
    "    # Calculate constants A and B from initial conditions\n",
    "    A = x0\n",
    "    B = (v0 + zeta * omega_n * x0) / omega_d\n",
    "\n",
    "    # Calculate the displacement x(t) over time\n",
    "    x = np.exp(-zeta * omega_n * t) * (A * np.cos(omega_d * t) + B * np.sin(omega_d * t))\n",
    "\n",
    "    return x, omega_n, zeta"
   ]
  },
  {
   "cell_type": "code",
   "execution_count": 7,
   "id": "f58bbbd6-6772-46e1-9d86-a70ac7a97007",
   "metadata": {},
   "outputs": [],
   "source": [
    "# Example usage:\n",
    "m = 1.0  # mass (kg)\n",
    "c = 0.2  # damping coefficient (N*s/m)\n",
    "k = 2.0  # stiffness (N/m)\n",
    "x0 = 1.0  # initial displacement (m)\n",
    "v0 = 0.0  # initial velocity (m/s)\n",
    "t = np.linspace(0, 10, 1000)  # time array from 0 to 10 seconds\n",
    "\n",
    "# Calculate displacement over time\n",
    "x, omega_n, zeta = damped_vibration(m, c, k, x0, v0, t)\n",
    "\n",
    "# Calculate the boundary lines\n",
    "envelope_pos = np.exp(-zeta * omega_n * t)\n",
    "envelope_neg = -np.exp(-zeta * omega_n * t)"
   ]
  },
  {
   "cell_type": "markdown",
   "id": "f6783312-3c88-4797-a0c7-b11e97eaf134",
   "metadata": {},
   "source": [
    "<a id=\"fig1.3\"></a>"
   ]
  },
  {
   "cell_type": "code",
   "execution_count": 8,
   "id": "734b24c4-9a3a-4ada-bdea-53687d3688e0",
   "metadata": {},
   "outputs": [
    {
     "data": {
      "image/png": "[encoded data removed]",
      "text/plain": [
       "<Figure size 432x288 with 1 Axes>"
      ]
     },
     "metadata": {
      "needs_background": "light"
     },
     "output_type": "display_data"
    }
   ],
   "source": [
    "# Plot the result\n",
    "plt.plot(t, x, label='Damped Vibration')\n",
    "plt.plot(t, envelope_pos, 'r--', label='Envelope +', alpha=0.7)\n",
    "plt.plot(t, envelope_neg, 'r--', label='Envelope -', alpha=0.7)\n",
    "\n",
    "plt.title('Fig. 1.3 Time-history of natural damped vibration of a system with one degree of freedom at sub-critical damping', y=-0.2)\n",
    "plt.xlabel('Time (s)')\n",
    "plt.ylabel('v(t)/v(0)')\n",
    "\n",
    "# Add text at the center of the top boundary line\n",
    "mid_time = t[len(t) // 2]\n",
    "mid_envelope = np.exp(-zeta * omega_n * mid_time)\n",
    "plt.text(mid_time+.5, mid_envelope, r'$e^{-\\omega_b t}$', horizontalalignment='center', verticalalignment='bottom', fontsize=12)\n",
    "\n",
    "plt.axhline(0, color='black', linestyle='-', linewidth=1)  # x-axis at y=0\n",
    "plt.legend()\n",
    "plt.grid(True)\n",
    "plt.show()"
   ]
  },
  {
   "cell_type": "markdown",
   "id": "69154625-fcc8-4816-9fd9-33a0a5c755b1",
   "metadata": {},
   "source": [
    "### Dynamic Coefficient"
   ]
  },
  {
   "cell_type": "markdown",
   "id": "c185d880-6526-46d3-a512-ab318551f6f8",
   "metadata": {},
   "source": [
    "The dynamic coefficient (dynamic impact factor/dynamic magnification/dynamic amplification) is the dimensionless ratio of the maximum dynamic displacement to the static displacement. In the simples case, shown in [Fig. 1.2](#fig1.2) and described by [equation 1.1](#eq1.1), it can be obtained as follows:\n",
    "\n",
    "Analysis of the forced vibration of a system with one degree of freedom requires the solution of [equation 1.1](#eq1.1) under the action of a force\n",
    "\n",
    "<a id=\"eq1.11\"></a>\n",
    "$$ F(t) = F\\ sin(\\omega t) \\tag{1.11}$$"
   ]
  },
  {
   "cell_type": "markdown",
   "id": "abdae887-9483-4efb-ab2c-30eab317cedd",
   "metadata": {},
   "source": [
    "at $ t \\rightarrow \\infty $, the sustained vibration takes the form of\n",
    "\n",
    "<a id=\"eq1.12\"></a>\n",
    "$$ v(t) = A\\ sin(\\omega t) + B\\ cos(\\omega t) \\tag{1.12} $$"
   ]
  },
  {
   "cell_type": "markdown",
   "id": "abbb5e14-6a33-4838-8b8d-6abaf0d5a138",
   "metadata": {},
   "source": [
    "After the substitution of equations [(1.11)](#eq1.11) and [(1.12)](#eq1.12) in equation [(1.1)](#eq1.1) and a comparison of coefficients of the individual terms we obtain the following expressions for teh constants $A$ and $B$:\n",
    "\n",
    "<a id=\"eq1.13\"></a>\n",
    "$$ A = \\frac{f(\\omega_0^2 - \\omega^2)}{m[(\\omega_0^2 - \\omega^2)^2 + 4\\omega^2\\omega_b^2]}, $$\n",
    "$$ B = \\frac{-2F\\omega \\omega_b}{m[(\\omega_0^2 - \\omega^2)^2 + 4 \\omega^2 \\omega_b^2]} \\tag{1.13}$$"
   ]
  },
  {
   "cell_type": "markdown",
   "id": "47ea2dca-7c99-4049-a1f0-1254eed967f8",
   "metadata": {},
   "source": [
    "The maximum amplitude of forced stationary vibrations is then the vector sum of A and B, so\n",
    "\n",
    "<a id=\"eq1.14\"></a>\n",
    "$$ s_0 = (A^2 + B^2)^{1/2} = \\frac{F}{m}[(\\omega_0^2 - \\omega^2)^2 + 4\\omega^2\\omega^2_b]^{-1/2} \\tag{1.14} $$"
   ]
  },
  {
   "cell_type": "markdown",
   "id": "0040b725-7bce-4a14-8769-712ffd55b740",
   "metadata": {},
   "source": [
    "The static displacement of a mass on the spring of stiffness k subjected to teh force F, according to the definition of teh spring stiffness([Fig. 1.2](#fig1.2) and [(Eq. 1.2)](#eq1.2)), \n",
    "\n",
    "<a id=\"eq1.15\"></a>\n",
    "$$ v_{st} = \\frac{F}{k} = \\frac{F}{m\\omega^2_0} \\tag{1.15} $$"
   ]
  },
  {
   "cell_type": "markdown",
   "id": "c624dadd-0696-437c-8096-255fbc0eb3c2",
   "metadata": {},
   "source": [
    "The dynamic coefficient for the simplest case of forced vibration of a system with one degree of freedom is then defined as the ratio of the maximum dynamic displacement [(1.14)](#eq1.14) and the static displacement [(1.15)](#eq1.15)\n",
    "\n",
    "<a id=\"eq1.16\"></a>\n",
    "$$ \\Delta = \\frac{s_0}{v_{st}} = \\big[(1-\\omega^2 / \\omega_0^2)^2 + 4\\omega^2 \\omega_b^2 / \\omega_0^4\\big]^{-1/2} \\tag{1.16} $$\n",
    "\n",
    "and depends consequently on teh ratio $ \\omega/\\omega_0 $ and on $ \\beta = \\omega_b/\\omega_0 $ The function [1.16](#eq1.16) is represented graphically by the resonance curve in [Fig. 1.4](#fig1.4)"
   ]
  },
  {
   "cell_type": "code",
   "execution_count": 9,
   "id": "2974e5ce-f483-417d-89b2-64eea39501bc",
   "metadata": {},
   "outputs": [],
   "source": [
    "def dynamic_coefficient(omega, omega_0, beta):\n",
    "    \"\"\"\n",
    "    Calculate the dynamic coefficient (Delta) for a given excitation frequency\n",
    "    and damping ratio.\n",
    "\n",
    "    Parameters:\n",
    "    - omega : array of excitation frequencies\n",
    "    - omega_0: natural frequency of the system\n",
    "    - beta : damping ratio\n",
    "\n",
    "    Returns:\n",
    "    - Delta : dynamic coefficient array\n",
    "    \"\"\"\n",
    "    r = omega / omega_0\n",
    "    Delta = 1 / np.sqrt((1 - r ** 2) ** 2 + (2 * beta * r) ** 2)\n",
    "    return Delta"
   ]
  },
  {
   "cell_type": "code",
   "execution_count": 10,
   "id": "6560d7e6-9001-4199-8134-b9fca160300b",
   "metadata": {},
   "outputs": [],
   "source": [
    "# Example usage:\n",
    "omega_0 = 1.0  # normalized natural frequency\n",
    "omegas = np.linspace(0, 3, 1000)  # normalized excitation frequencies (omega / omega_0)\n",
    "beta_values = [0.0, 0.05, 0.1, 0.2, 0.3, 0.5, 1.0]  # different damping ratios"
   ]
  },
  {
   "cell_type": "markdown",
   "id": "99d435cc-a79d-4bef-8869-3ceed336e587",
   "metadata": {},
   "source": [
    "<a id=\"fig1.4\"></a>"
   ]
  },
  {
   "cell_type": "code",
   "execution_count": 11,
   "id": "92e4202b-72e6-4361-b1c8-eae71886f0ac",
   "metadata": {},
   "outputs": [
    {
     "data": {
      "image/png": "[encoded data removed]",
      "text/plain": [
       "<Figure size 720x432 with 1 Axes>"
      ]
     },
     "metadata": {
      "needs_background": "light"
     },
     "output_type": "display_data"
    }
   ],
   "source": [
    "# Plot the resonance curves for different damping ratios\n",
    "plt.figure(figsize=(10, 6))\n",
    "\n",
    "for beta in beta_values:\n",
    "    Delta = dynamic_coefficient(omegas, omega_0, beta)\n",
    "    plt.plot(omegas, Delta, label=f'$\\\\beta$ = {beta}')\n",
    "\n",
    "plt.title('Fig. 1.4 - Resonance Curves for Different Damping Ratios', y=-0.2)\n",
    "plt.xlabel('$\\\\omega / \\\\omega_0$')\n",
    "plt.ylabel('Dynamic Coefficient $\\\\delta$')\n",
    "plt.legend()\n",
    "plt.grid(True)\n",
    "plt.ylim(0, 10)  # adjust y-axis limits for better visualization\n",
    "plt.show()"
   ]
  },
  {
   "cell_type": "markdown",
   "id": "4c16e248-0d85-48bf-80d1-72b97db594a1",
   "metadata": {},
   "source": [
    "the maximum dynamic coefficient may be calculated from the condition that the expression $ (1 - \\omega^2/\\omega^2_0) + 4 \\omega^2\\omega^2_b/\\omega^4_0 $ (the denominator in equation [(1.16)](#eq1.16) attains its minimum value. When the derivative of this expression is made equal to zer the maximum dynamic coefficient is obtained when\n",
    "\n",
    "<a id='eq1.17'></a>\n",
    "$$ \\omega^2 = \\omega^2_0 - 2\\omega_b^2 \\tag{1.17} $$\n",
    "\n",
    "This means that for small damping the highest effects arise when the frequency \\omega is approximately the natural frequency $\\omega_0$; that is\n",
    "\n",
    "<a id='eq1.18'></a>\n",
    "$$ \\omega \\approx \\omega_0 \\tag{1.18}$$\n",
    "\n",
    "This frequency produces strong (resonance) vibrations of teh system.\n",
    "\n",
    "If we substitute the excitation frequency [(1.17)](#eq1.17) into equation [(1.16)](#eq1.16), we obtaine the maximum values of the dynamic coefficient (see also equations [(1.9)](#eq1.9) and [(1.10)](#eq1.10)\n",
    "\n",
    "<a id='eq1.19'></a>\n",
    "$$ \\delta_{max} = \\frac{\\omega_0^2}{2\\omega_b \\omega_d} \\approx \\frac{\\omega_0}{2\\omega_b} = \\frac{1}{2\\beta} = \\frac{\\pi}{\\vartheta} \\tag{1.19} $$\n",
    "\n",
    "Equation [(1.19)](#eq1.19) shows that maximum dynamic effect in resonance conditions depends chiefly on the damping characteristics of the system (it is indirectly proportional to the logarithmic decrement of damping)."
   ]
  },
  {
   "cell_type": "markdown",
   "id": "abd5b0a5-c557-4a4a-8bbd-6e133d787d76",
   "metadata": {},
   "source": [
    "### Stochastic Vibration"
   ]
  },
  {
   "cell_type": "markdown",
   "id": "46f40f04-0e8f-4a79-9323-3212ee9bcc77",
   "metadata": {},
   "source": [
    "Random or stochastic vibration represents a motion the characteristics of which can be determined on with a certain probability. The number of principal concepts from the field of stochastics vibration includes (for details see [20], [41], [42], [176]):\n",
    "\n",
    "The *mean value* (or mathematical expectation) of a stochastic process $x(t)$ is defined as a statistic moment of the first order\n",
    "\n",
    "<a id='eq1.20'></a>\n",
    "$$ E\\big[x(t)\\big] = \\int^{\\infty}_{-\\infty}x\\ f(x, t) dx \\tag{1.20} $$\n",
    "\n",
    "where $f(x, t)$ is the first-order probability density function.\n",
    "\n",
    "The *variance* (dispersion is a central moment of the second order\n",
    "\n",
    "<a id='eq1.21'></a>\n",
    "$$ D^2 \\big[x(t)\\big] = E\\bigg[\\{x(t) - E[x(t)]\\}^2\\bigg] = \\int^{\\infty}_{\\infty} \\{x-E[x(t)]\\}^2 f(x, t)dx \\tag{1.21} $$\n",
    "\n",
    "the *standard deviation* is the square root of the variance (often denoted by RMS)\n",
    "\n",
    "<a id='eq1.22'></a>\n",
    "$$ D[x(t)] \\tag{1.22} $$\n",
    "\n",
    "and the variation coefficient expresses the dimensionless ratio of teh standard deviation to the mean value\n",
    "\n",
    "<a id='eq1.23'></a>\n",
    "$$ C(t) = \\frac{D[x(t)]}{E[x(t)]} \\tag{1.23} $$\n",
    "\n",
    "The characteristics of a random process [(1.20)](#eq1.20) to [(1.23)](#eq1.23) are called statistical characteristics of the first order. The statistical characteristics of the second order express the relation of the processes $x(t)$ and $y(t)$ in two moments, $t_1$ and $t_2$ according to Fig. 1.5."
   ]
  },
  {
   "cell_type": "code",
   "execution_count": 12,
   "id": "8fad26a6-030f-4c97-bb86-c1b292737375",
   "metadata": {},
   "outputs": [
    {
     "data": {
      "image/png": "[encoded data removed]",
      "text/plain": [
       "<Figure size 864x432 with 2 Axes>"
      ]
     },
     "metadata": {
      "needs_background": "light"
     },
     "output_type": "display_data"
    }
   ],
   "source": [
    "# Generate random processes x(t) and y(t)\n",
    "np.random.seed(0)  # for reproducibility\n",
    "t = np.linspace(0, 10, 1000)  # time array\n",
    "x_t = np.sin(t) + np.random.normal(0, 0.5, len(t))  # random process x(t)\n",
    "y_t = np.cos(t) + np.random.normal(0, 0.5, len(t))  # random process y(t)\n",
    "\n",
    "# Define t1 and t2\n",
    "t1 = 2.0  # time t1\n",
    "t2 = 5.0  # time t2\n",
    "\n",
    "# Calculate correlation\n",
    "correlation = np.correlate(x_t, y_t, mode='full') / len(t)\n",
    "lags = np.arange(-len(t) + 1, len(t))\n",
    "\n",
    "# Plot the random processes\n",
    "plt.figure(figsize=(12, 6))\n",
    "\n",
    "plt.subplot(2, 1, 1)\n",
    "plt.plot(t, x_t, label='x(t)')\n",
    "plt.plot(t, y_t, label='y(t)')\n",
    "plt.axvline(t1, color='r', linestyle='--', label='$t_1$')\n",
    "plt.axvline(t2, color='g', linestyle='--', label='$t_2$')\n",
    "plt.title('Random Processes x(t) and y(t)')\n",
    "plt.xlabel('Time (s)')\n",
    "plt.ylabel('Amplitude')\n",
    "plt.legend()\n",
    "plt.grid(True)\n",
    "\n",
    "# Plot the correlation\n",
    "plt.subplot(2, 1, 2)\n",
    "plt.plot(lags, correlation)\n",
    "plt.title('Correlation of x(t) and y(t)')\n",
    "plt.xlabel('Fig. 1.5 Correlation of random processes x(t) and y(t) at times $t_1$ and $t_2$')\n",
    "plt.ylabel('Correlation')\n",
    "plt.grid(True)\n",
    "\n",
    "plt.tight_layout()\n",
    "plt.show()"
   ]
  },
  {
   "cell_type": "markdown",
   "id": "02127d3a-8eb0-4f2c-9af3-befcdf3b9ef1",
   "metadata": {},
   "source": []
  },
  {
   "cell_type": "markdown",
   "id": "8f930164-4eec-4695-ab7b-fdf411dfbe67",
   "metadata": {},
   "source": []
  },
  {
   "cell_type": "markdown",
   "id": "21c6360b-642a-403b-9273-e06c2418d9cf",
   "metadata": {},
   "source": []
  },
  {
   "cell_type": "markdown",
   "id": "f010ece2-49b1-4fe7-a8cd-218d91ccd783",
   "metadata": {},
   "source": []
  },
  {
   "cell_type": "markdown",
   "id": "7db9322b-a311-4675-8406-bb809979549e",
   "metadata": {},
   "source": []
  },
  {
   "cell_type": "markdown",
   "id": "4c69ac4f-e530-4905-afec-b1c639d855a3",
   "metadata": {},
   "source": []
  },
  {
   "cell_type": "markdown",
   "id": "9b023d6a-f1cd-420a-bd47-025a6f6589f6",
   "metadata": {},
   "source": []
  },
  {
   "cell_type": "markdown",
   "id": "cceb3f9f-1125-41ef-b537-c885bd401ff5",
   "metadata": {},
   "source": []
  },
  {
   "cell_type": "markdown",
   "id": "a50ed40f-bce7-463e-b917-d58dbbeb9f20",
   "metadata": {},
   "source": [
    "<a id=\"bridge_models\"></a>\n",
    "## Theoretical Bridge Models"
   ]
  },
  {
   "cell_type": "code",
   "execution_count": null,
   "id": "4636e3df-485a-44ad-96a0-e1811bbf91e8",
   "metadata": {},
   "outputs": [],
   "source": []
  },
  {
   "cell_type": "markdown",
   "id": "2e73f712-60e1-4fba-b3eb-495dea17c998",
   "metadata": {},
   "source": [
    "<a id=\"railway_vehicles\"></a>\n",
    "## Modelling of Railway Vehicles"
   ]
  },
  {
   "cell_type": "code",
   "execution_count": null,
   "id": "4dc4dcb3-a9e1-4475-8751-e90f660cfbce",
   "metadata": {},
   "outputs": [],
   "source": []
  },
  {
   "cell_type": "markdown",
   "id": "60b25550-2c60-4d26-ab5d-ce9ae4b00114",
   "metadata": {},
   "source": [
    "<a id=\"frequencies\"></a>\n",
    "## Natural Frequencies of Railway Bridges"
   ]
  },
  {
   "cell_type": "code",
   "execution_count": null,
   "id": "3fbd9344-49c9-41b8-860e-f0ced795fe08",
   "metadata": {},
   "outputs": [],
   "source": []
  },
  {
   "cell_type": "markdown",
   "id": "6fd6bc45-d5ef-4218-9e04-4fcf55215b9c",
   "metadata": {},
   "source": [
    "<a id=\"damping\"></a>\n",
    "## Damping of Railway Bridges"
   ]
  },
  {
   "cell_type": "code",
   "execution_count": null,
   "id": "4580d57c-dbed-49c1-8529-72676455af0c",
   "metadata": {},
   "outputs": [],
   "source": []
  },
  {
   "cell_type": "markdown",
   "id": "beed3060-99fc-4c53-8b56-bf0c9d9eecfd",
   "metadata": {},
   "source": [
    "<a id=\"vehicle_speed\"></a>\n",
    "## Influence of Vehicle Speed on Dynamic Stresses of Bridges"
   ]
  },
  {
   "cell_type": "code",
   "execution_count": null,
   "id": "5fa344c1-d460-4898-91b0-2bd067a861c9",
   "metadata": {},
   "outputs": [],
   "source": []
  },
  {
   "cell_type": "markdown",
   "id": "a090984c-b2a2-4f79-9341-248e1b410461",
   "metadata": {},
   "source": [
    "<a id=\"track_irregularities\"></a>\n",
    "## Influence of Track Irregularities and Other Parameters"
   ]
  },
  {
   "cell_type": "code",
   "execution_count": null,
   "id": "5f315fde-3672-4b8f-9db0-e1c1a669aad0",
   "metadata": {},
   "outputs": [],
   "source": []
  },
  {
   "cell_type": "markdown",
   "id": "a13cd00c-5554-4142-9c64-f57d022076e9",
   "metadata": {},
   "source": [
    "<a id=\"longitudinal_effects\"></a>\n",
    "## Horizontal Longitudinal Effects on Bridges\n",
    "\n",
    "The movement of railway vehicles along a bridge gives rise to horizontal longitudinal forces transferred through friction via the rails and permanent way to the bridge superstructure, bearings, piers and abutments.\n",
    "\n",
    "When the horizontal longitudinal forces are transmitted from the wheels to the bridg eby rolling friction at constant vehicle speed, they are relatively small. However, they acquire greater values during the movement at nonuniform speed, which takes place during starting and braking. In this case, significant forces of adhesion act between the vehicle wheels and the rail which are necessary for the starting and braking of vehicles."
   ]
  },
  {
   "cell_type": "markdown",
   "id": "69b3fc73-1680-48b5-8f1e-b42bffa7e4e7",
   "metadata": {},
   "source": [
    "<a id=\"motion_of_a_disc\"></a>\n",
    "### Motion of a Disc Rolling along a Beam Taking Into Account Adhesion\n",
    "\n",
    "Fig. 8.1 shows the simplest model of this problem, i.e. the motion of a disc of mass $m$, weight $F=mg$ and mass moment of inertia $I_0$ along a simply supported beam of length $l$. Apart from its weight $F$, the disc is also affected by the forces of inertia with the vertical component $m \\ddot v_0 (t)$, horizontal component $m \\ddot u_0 (t)$, inertial moment $I_0 \\ddot \\varphi (t)$, the vertical beam reaction $F(t)$ which acts on the arm $\\rho$ from the disc centroid (describing the influence of rolling friction), the horizontal force $H(t)$ on the wheel circumference, the traction force $T(t)$, the driving moment $M(t)$ and the resistance to motion $W(t)$.\n",
    "\n",
    "<center><img src=\"res/imgs/rail_dynamics/fig8_1.png\"></center>\n",
    "<center>Fig. 8.1 Motion of a rolling disc along a beam: acting forces and moments.</center>\n",
    "\n",
    "The direction of movement of the disc rolling in Fig. 8.1 is from left to right and the direction of the acting forces and moments is as for accelerated motion.\n",
    "\n",
    "The beam is affected by the forces $F(t)$ and $H(t)$ in the opposite direction from that of the disc and by other forces assumed in a Bernoulli-Euler beam model with viscous damping. Its deformation is marked $v(x, t)$ in vertical and $u(x, t)$ in horizontal directions.\n",
    "\n",
    "The motion of the disc is described by the displacement $v_0(t)$ in the vertical and by the displacement $u_0(t)$ in the horizontal directions and $\\varphi(t)$ is its rotation.\n",
    "\n",
    "The zero position of the beam is its non-deformed state; for the disc it is when positioned above the left-hand support of the beam.\n",
    "\n",
    "With these assumptions the following equations hold true for the vibration of the beam and for the disc motion:\n",
    "\n",
    "$$ EI \\frac{\\partial^4v(x, t)}{\\partial x^4} + \\mu \\frac{\\partial^2v(x, t)}{\\partial t^2} + 2\\mu\\omega_b\\frac{\\partial v(x, t)}{\\partial t} = \\epsilon \\delta(x-s)F(t), \\tag{8.1}$$\n",
    "\n",
    "$$ -EA \\frac{\\partial^2u(x, t)}{\\partial x^2} + \\mu \\frac{\\partial^2u(x, t)}{\\partial t^2} + 2\\mu\\omega_{bu}\\frac{\\partial u(x, t)}{\\partial t} = -\\epsilon \\delta(x-s)H(t), \\tag{8.2}$$\n",
    "\n",
    "$$ F - m \\frac{d^2v_0(t)}{dt^2} - F(t) = 0, \\tag{8.3} $$\n",
    "\n",
    "$$ -m \\frac{d^2 u_0(t)}{dt^2} + T(t) - W(t) + H(t) = 0, \\tag{8.4} $$\n",
    "\n",
    "$$ -I_0 \\frac{d^2\\varphi(t)}{dt^2} + M(t) - \\rho F(t) - rH(t) = 0 \\tag{8.5} $$\n",
    "\n",
    "In addition to the symbols explained earlier and the notation of equation (2.1) the following notation has been used:"
   ]
  },
  {
   "cell_type": "markdown",
   "id": "899f823b-8c8a-4c3a-9dd7-20f1de847964",
   "metadata": {},
   "source": [
    "$$  \\varepsilon =\n",
    "\\begin{cases}\n",
    "1 \\\\\n",
    "0\n",
    "\\end{cases}\n",
    "\\ \\ \\ \\ \\ for \\ \\ \\ \\ \\\n",
    "\\begin{cases}\n",
    "0 \\leq s \\leq l \\\\\n",
    "s < 0, s > 1\n",
    "\\end{cases} $$"
   ]
  },
  {
   "cell_type": "markdown",
   "id": "b890b170-fe79-4202-976d-fd666e37f48e",
   "metadata": {},
   "source": [
    "where\n",
    "\n",
    "$ s = u_0(t) $ - distance of the contact point of the disc with the beam from teh left-hand support,  \n",
    "$ A $ - constant area of the beam cross section,  \n",
    "$ \\omega_{bu} $ - constant of viscous damping during longitudinal vibrations of the beam  \n",
    "$ r $ - radius of the disc.  \n",
    "\n",
    "Equations (8.1) and (8.2) describe the bending and longitudinal vibrations fo the beam which are, after certain simplifications, mutally independent, as has been proved in [70]. The equilibrium of vertical forces affecting the disc is expressed by equation (8.3), the equilibrium of horizontal forces by equation (8.4) and the equilibrium of moments by equation (8.5).\n",
    "\n",
    "Moreover, it follows from the rolling motion of the disc (without slipping) along the beam that it must hold true that\n",
    "\n",
    "$$ v_0(t) = \\varepsilon v(s, t), \\tag{8.6} $$\n",
    "\n",
    "and\n",
    "\n",
    "$$ u_0(t) = r \\varphi(t). \\tag{8.7} $$\n",
    "\n",
    "The following condition of disc and beam contact applies for the force F(t)\n",
    "\n",
    "$$ F(t) \\geq 0 \\tag{8.8} $$"
   ]
  },
  {
   "cell_type": "markdown",
   "id": "79ae445b-5073-4ee5-8391-4d91dd8b19ee",
   "metadata": {},
   "source": [
    "Should $F(t) < 0$, $F(t) = 0$ must be substituded in equations (8.1) to (8.5) and equation (8.6) ceases to be valud.\n",
    "\n",
    "Also the force $H(t)$ on the circumference of the wheel is determined by certain conditions concerning the other forces and moments affecting it. Firstly, substitute the relation (8.7) in equation (8.5) and let us find $u_0(t)$ and substitute this value in equation (8.4). We obtain the condition with which the force $H(t)$ must comply, while the disc rotates:\n",
    "\n",
    "$$ H(t) = \\frac{m'}{m+m'} \\bigg\\{\\frac{m}{m'} \\frac{1}{r} [M(t) - \\rho F(t)] - T(t) + W(t)\\bigg\\} \\tag{8.9} $$\n",
    "\n",
    "where $m'=I_0/r^2$ is the reduced mass of the disc.\n",
    "\n",
    "The absolute value of the force $H(t)$, naturally, cannot exceed - according to Coulomb friction law - the value of the product of vertical force $F(t)$ and the coefficient of friction $\\mu(t)$, so \n",
    "\n",
    "$$ |R(t)| < \\mu(t)\\ F(t) \\tag{8.10} $$\n",
    "\n",
    "where the coefficient of friction is generally a function $f[]$ of the velocity motion\n",
    "\n",
    "$$ \\mu(t) = f[\\dot u_0 (t) ] \\tag{8.11} $$\n",
    "\n",
    "With the knowledge of external forces $T(t)$, $W(t)$ and of the moment $M(t)$ we can find from equation (8.9) the force $H(t)$ on the wheel circumference (except for the influence of rolling friction), as long as it complies with the condition (8.10). If this condition has not been complied with, the disc stops rotating, it begins sliding and the force on its circumference is\n",
    "\n",
    "$$ H(t) = [\\text{sign}\\ \\ddot u_0(t)] \\mu(t)\\ F(t) \\tag{8.12} $$\n",
    "\n",
    "The direction fo the force $H(t)$ depends on the sign of the acceleration of the disc $m$.\n",
    "\n",
    "It is customary in technical practice for all driving and resistance forces to be referred to the circumference of the railway vehicle wheel, and to neglect the rolling friction ($\\rho=0$) as being very small in comparison with other forces. In this interpretation the force $H(t)$ becomes the given external force. However, the conditions (8.10) and (8.12) remain valid.\n",
    "\n",
    "In the numerical calculations in [71] the foreces $T(t)$ and $W(t)$ in the equation (8.4) were also neglected, which are of smaller importance during the nonuniform motion than the driving or braking force and moment. This means that out of all external forces shown in Fig. 8.1 only the moment $M(t)$ and the force $H(t)$ on the wheel circumference are taken into account."
   ]
  },
  {
   "cell_type": "markdown",
   "id": "964d8311-2bf9-4cb0-a7de-fd2e1202c98b",
   "metadata": {},
   "source": [
    "<a id=\"motion_of_disc_solution\"></a>\n",
    "#### Solution\n",
    "\n",
    "The system of equations (8.1) to (8.5) was solved for boundary conditions\n",
    "\n",
    "$$ \\begin{align}\n",
    "v(0, t) &= v(l, t) = v''(0, t) = v''(l, t) = 0 \\\\\n",
    "u(0, t) &= u'(l, t) = 0 \\tag{8.13} \n",
    "\\end{align}$$\n",
    "\n",
    "and for the following initial conditions: \n",
    "\n",
    "$$ \\begin{align}\n",
    "v(x, 0) &= \\dot v(x, 0) = 0 \\\\\n",
    "u(x, 0) &= \\dot u(x, 0) = 0 \\\\\n",
    "v_0(0) &= \\dot v_0(0) = 0 \\\\\n",
    "u_0(0) &= 0,\\ \\ \\ \\ \\ \\dot u_0(0) = c \\tag{8.14} \n",
    "\\end{align}$$\n",
    "\n",
    "where $c$ is the initial horizontal velocity of the disc.\n",
    "\n",
    "A numerical solution was carried out by the Euler and Runge-Kutta method [(see notes)](#euler_method_notes) in the dimensionless form of \n",
    "\n",
    "$$ v(x, t) / v_0,\\ \\ \\ \\ \\ \\ u(x, t) / u_0 $$\n",
    "\n",
    "and\n",
    "\n",
    "$$ \\tau = \\omega_1 T $$\n",
    "\n",
    "where \n",
    "\n",
    "$$ v_0 = \\frac{Fl^3}{48EI} \\tag{8.15} $$\n",
    "\n",
    "$$ u_0 = \\frac{Fl^3}{EA} \\tag{8.16} $$\n",
    "\n",
    "are the static deformations of the beam due to the force $F$, and $\\omega_1$ is the first circular frequency of the bending vibrations of the beam.\n",
    "\n",
    "The external force on the wheel circumference was assumed to be of the form\n",
    "\n",
    "$$ H(t) = Fh(\\tau) \\tag{8.17} $$\n",
    "\n",
    "where"
   ]
  },
  {
   "cell_type": "markdown",
   "id": "82c96a48-efd8-4a91-835c-8e6e3871ee4e",
   "metadata": {},
   "source": [
    "$$  \\mu(\\tau) =\n",
    "\\begin{cases}\n",
    "\\mu_0 \\text{exp}\\Bigg[-\\bigg(\\frac{\\pi \\dot u_0 (\\tau)}{\\alpha_0}\\bigg)^{1/2}\\Bigg] \\\\\n",
    "0\n",
    "\\end{cases}\n",
    "\\ \\ \\ \\ \\ \\text{for} \\ \\ \\ \\ \\ \\dot u_0(\\tau)\n",
    "\\begin{cases}\n",
    "\\geq 0 \\\\\n",
    "< 0\n",
    "\\end{cases} \\tag{8.19}$$\n",
    "\n",
    "where the constants $\\mu_0$ and $\\alpha_0$ were obtained by experiments [160].\n",
    "\n",
    "The numerical solution is described in detail in [71] and shown in Figs 8.2 to 8.8, which give the time-histories of some quantities during the braking of a disc on a beam. The input quantities for the calculations represented in Figs 8.2 to 8.8 correspond approximately to the parameters of a steel plate girder railway bridge of span 30 m with a continuous gravel bed (see Table 8.1)"
   ]
  },
  {
   "cell_type": "markdown",
   "id": "6cba2a8d-68d3-429c-8507-39165f63f760",
   "metadata": {},
   "source": [
    "<a id=\"table8.1\"></a>\n",
    "\n",
    "| $\\alpha$ | $\\chi$ | $\\gamma$ | $\\vartheta$ | $\\vartheta_u$ | $\\alpha_0$ | $\\mu_0$ |       $B$        |  $r_0$ | $r_1$ | $r_2$ | $r_3$ | $r_4$ | $r_5$ |  $h$  | $j_{max}$ |\n",
    "|:--------:|:------:|:--------:|:-----------:|:-------------:|:----------:|:-------:|:----------------:|:------:|:-----:|:-----:|:-----:|:-----:|:-----:|:-----:|:---------:|\n",
    "|  $0.02$  |   $2$  |   $5$    |    $0.15$   |     $0.3$     |   $0.03$   |   $0.3$ | $2\\times10^{-4}$ | $-0.3$ |  $1$  |  $0$  |  $0$  |  $0$  |  $0$  | $0.1$ |   $3$     |\n",
    "\n",
    "<center>Table 8.1 Input data of the basic case No. 5</center>\n",
    "<i>Note</i>:<br>\n",
    "&nbsp;&nbsp;&nbsp;&nbsp;&nbsp;&nbsp;&nbsp;$h$ is the integration step length,\n",
    "\n",
    "&nbsp;&nbsp;&nbsp;&nbsp;&nbsp;&nbsp;&nbsp;$j_{max}$ is the number of terms in series development"
   ]
  },
  {
   "cell_type": "markdown",
   "id": "c1eecb47-27bb-4909-87bc-aeaaa8109900",
   "metadata": {},
   "source": [
    "<a id=\"euler_method_notes\"></a>\n",
    "\n",
    "**Euler Method**\n",
    "\n",
    "Euler's Method is one of the simplest and most straightforward numerical methods for solving ODEs. It is an initial value problem-solving method.\n",
    "\n",
    "**Basic Idea**\n",
    "\n",
    "Euler's method approximates the solution of the ODE by stepping forward in small, fixed intervals (step size (h)) from an initial starting point. It uses the slope at the current point to estimate the next point.\n",
    "\n",
    "**Given an ODE:**\n",
    "\n",
    "$ \\frac{dy}{dt} = f(t, y(t)) $ with an initial condition $ y(t_0) = y_0 $, Euler's method updates the solution iteratively as follows:\n",
    "\n",
    "**Algorithm**\n",
    "\n",
    "1. Step Initialization: Choose a step size ( h ).\n",
    "\n",
    "2. Iterative Update:\n",
    "\n",
    "   $ y_{n+1} = y_n + h \\cdot f(t_n, y_n)$\n",
    "\n",
    "   $ t_{n+1} = t_n + h $\n",
    "\n",
    "where $ y_n $ is the current approximation of the solution at time $ t_n $.\n",
    "\n",
    "**Pros and Cons**\n",
    "\n",
    "- **Pros:** Simple to implement, requires only the computation of the function ( f ).\n",
    "- **Cons:** Low accuracy, requires very small step sizes to achieve reasonable accuracy, leading to high computational cost for long intervals.\n",
    "\n",
    "<a id=\"runge_kutta_method_notes\"></a>\n",
    "**Runge-Kutta Method**\n",
    "\n",
    "Runge-Kutta Methods are a family of higher-order, more accurate numerical methods for solving ODEs. The most commonly used is the 4th-order Runge-Kutta method (RK4), which provides a good balance between accuracy and computational efficiency.\n",
    "\n",
    "Basic Idea\n",
    "\n",
    "Runge-Kutta methods improve upon Euler's method by evaluating the slope at several points within the step interval and taking a weighted average of these slopes to estimate the next point.\n",
    "\n",
    "Given an ODE:\n",
    "$ \\frac{dy}{dt} = f(t, y(t)) $ with an initial condition $ y(t_0) = y_0 $, the 4th-order Runge-Kutta method updates the solution as follows:\n",
    "\n",
    "Algorithm (RK4)\n",
    "\n",
    "1. Step Initialization: Choose a step size ( h ).\n",
    "2. Compute Intermediate Slopes:\n",
    "   $$ k_1 = f(t_n, y_n) $$\n",
    "   $$ k_2 = f(t_n + \\frac{h}{2}, y_n + \\frac{h}{2} k_1) $$\n",
    "   $$ k_3 = f(t_n + \\frac{h}{2}, y_n + \\frac{h}{2} k_2) $$\n",
    "   $$ k_4 = f(t_n + h, y_n + h k_3) $$\n",
    "4. Iterative Update:\n",
    "   $$ y_{n+1} = y_n + \\frac{h}{6} (k_1 + 2k_2 + 2k_3 + k_4) $$\n",
    "   $$ t_{n+1} = t_n + h $$\n",
    "\n",
    "**Pros and Cons**\n",
    "\n",
    "- **Pros:** Higher accuracy than Euler's method, relatively easy to implement, and requires fewer steps for the same accuracy.\n",
    "- **Cons:** More computational effort per step due to the evaluation of multiple slopes, but generally more efficient overall due to fewer steps needed.\n",
    "\n",
    "**Example Comparison**\n",
    "\n",
    "To illustrate the differences between Euler's method and the 4th-order Runge-Kutta method, let's solve a simple ODE:\n",
    "$ \\frac{dy}{dt} = t + y $\n",
    "\n",
    "with initial condition $ y(0) = 1 $ over the interval $ 0 \\leq t \\leq 1 $.\n",
    "\n",
    "Below is an example implementation of both methods in Python:"
   ]
  },
  {
   "cell_type": "code",
   "execution_count": 28,
   "id": "014843ba-d223-425f-90a6-95239d50e788",
   "metadata": {},
   "outputs": [
    {
     "data": {
      "image/png": "[encoded data removed]",
      "text/plain": [
       "<Figure size 432x288 with 1 Axes>"
      ]
     },
     "metadata": {
      "needs_background": "light"
     },
     "output_type": "display_data"
    }
   ],
   "source": [
    "# Define the differential equation\n",
    "def f(t, y):\n",
    "    return t + y\n",
    "\n",
    "\n",
    "# Exact solution for comparison\n",
    "def exact_solution(t):\n",
    "    return -t - 1 + 2 * np.exp(t)\n",
    "\n",
    "\n",
    "# Euler's method\n",
    "def euler_method(f, t0, y0, h, n):\n",
    "    t = np.zeros(n + 1)\n",
    "    y = np.zeros(n + 1)\n",
    "    t[0], y[0] = t0, y0\n",
    "    for i in range(n):\n",
    "        t[i + 1] = t[i] + h\n",
    "        y[i + 1] = y[i] + h * f(t[i], y[i])\n",
    "    return t, y\n",
    "\n",
    "\n",
    "# Runge-Kutta 4th order method (RK4)\n",
    "def rk4_method(f, t0, y0, h, n):\n",
    "    t = np.zeros(n + 1)\n",
    "    y = np.zeros(n + 1)\n",
    "    t[0], y[0] = t0, y0\n",
    "    for i in range(n):\n",
    "        k1 = f(t[i], y[i])\n",
    "        k2 = f(t[i] + h / 2, y[i] + h * k1 / 2)\n",
    "        k3 = f(t[i] + h / 2, y[i] + h * k2 / 2)\n",
    "        k4 = f(t[i] + h, y[i] + h * k3)\n",
    "        t[i + 1] = t[i] + h\n",
    "        y[i + 1] = y[i] + h / 6 * (k1 + 2 * k2 + 2 * k3 + k4)\n",
    "    return t, y\n",
    "\n",
    "\n",
    "# Parameters\n",
    "t0, y0 = 0, 1\n",
    "h = 0.1\n",
    "n = int(1 / h)\n",
    "\n",
    "# Solve using Euler's method\n",
    "t_euler, y_euler = euler_method(f, t0, y0, h, n)\n",
    "\n",
    "# Solve using Runge-Kutta 4th order method\n",
    "t_rk4, y_rk4 = rk4_method(f, t0, y0, h, n)\n",
    "\n",
    "# Exact solution\n",
    "t_exact = np.linspace(t0, 1, 100)\n",
    "y_exact = exact_solution(t_exact)\n",
    "\n",
    "# Plotting the results\n",
    "plt.plot(t_exact, y_exact, 'k-', label='Exact Solution')\n",
    "plt.plot(t_euler, y_euler, 'b.--', label=\"Euler's Method\")\n",
    "plt.plot(t_rk4, y_rk4, 'r.--', label='RK4 Method')\n",
    "plt.xlabel('t')\n",
    "plt.ylabel('y(t)')\n",
    "plt.legend()\n",
    "plt.title('Comparison of Euler and RK4 Methods')\n",
    "plt.show()"
   ]
  },
  {
   "cell_type": "code",
   "execution_count": 55,
   "id": "4bb93bf3-fc5c-404c-9da5-f05e5bec7d28",
   "metadata": {},
   "outputs": [],
   "source": [
    "# Calculate the static deformation v_0 at the midpoint of the beam\n",
    "def calculate_v_0(F, l, E, I):\n",
    "    return F * l ** 3 / (48 * EI)\n",
    "\n",
    "# Calculate the static deformation v_0 at the midpoint of the beam\n",
    "def calculate_u_0(F, l, E, A):\n",
    "    return F * l / (E*A)\n",
    "\n",
    "def calculate_omega_1(l, E, I, rho, A):\n",
    "    return ((1.875**2 / (2 * np.pi * l **2)) * np.sqrt((E*I)/(rho*A)))"
   ]
  },
  {
   "cell_type": "code",
   "execution_count": 59,
   "id": "2c1312ea-26be-438e-9130-7c8f454e324a",
   "metadata": {},
   "outputs": [
    {
     "data": {
      "text/html": [
       "8.264719191727924 hertz"
      ],
      "text/latex": [
       "$8.264719191727924\\ \\mathrm{hertz}$"
      ],
      "text/plain": [
       "8.264719191727924 <Unit('hertz')>"
      ]
     },
     "execution_count": 59,
     "metadata": {},
     "output_type": "execute_result"
    }
   ],
   "source": [
    "omega_1 = calculate_omega_1(\n",
    "    l=1*units.meter, \n",
    "    E=20.5e10*units(\"N/m^2\"), \n",
    "    I=1000*units('mm^4'), \n",
    "    rho=7.83e3*units('kg/m^3'), \n",
    "    A=120*units('mm^2')\n",
    ")\n",
    "omega_1.to('Hz')"
   ]
  },
  {
   "cell_type": "code",
   "execution_count": null,
   "id": "90b35fa7-d604-4cc8-99c2-1a5d69cef948",
   "metadata": {},
   "outputs": [],
   "source": []
  },
  {
   "cell_type": "code",
   "execution_count": null,
   "id": "1d63ab21-f151-4915-9f8b-691100b86f44",
   "metadata": {},
   "outputs": [],
   "source": []
  },
  {
   "cell_type": "code",
   "execution_count": null,
   "id": "af3122cb-6a16-4f6c-ba95-d5e14bda5add",
   "metadata": {},
   "outputs": [],
   "source": []
  },
  {
   "cell_type": "markdown",
   "id": "fba0ce64-e17f-4391-b566-58c111716b7a",
   "metadata": {},
   "source": [
    "<a id=\"motion_of_disc_parameters\"></a>\n",
    "#### Influence of Some Parameters"
   ]
  },
  {
   "cell_type": "code",
   "execution_count": null,
   "id": "694ebb9a-42c4-499a-b073-21cbe96f30ce",
   "metadata": {},
   "outputs": [],
   "source": []
  },
  {
   "cell_type": "markdown",
   "id": "6ed8b3fb-f989-4449-8e04-870adaa25a2f",
   "metadata": {},
   "source": [
    "<a id=\"quasistatic_model\"></a>\n",
    "### Quasistatic Model"
   ]
  },
  {
   "cell_type": "code",
   "execution_count": null,
   "id": "c7c26d42-6a9f-4cc5-abde-301f78661232",
   "metadata": {},
   "outputs": [],
   "source": []
  },
  {
   "cell_type": "markdown",
   "id": "9c48b0b7-2ae8-43d1-abdc-ac4c7a002889",
   "metadata": {},
   "source": [
    "<a id=\"quasistatic_model_solution\"></a>\n",
    "#### Solution"
   ]
  },
  {
   "cell_type": "code",
   "execution_count": null,
   "id": "5dbdacdd-b2e2-4a55-9b6b-658bb195b4ae",
   "metadata": {},
   "outputs": [],
   "source": []
  },
  {
   "cell_type": "markdown",
   "id": "e2ea26fa-2169-4087-8a48-27473adec874",
   "metadata": {},
   "source": [
    "<a id=\"quasistatic_model_parameters\"></a>\n",
    "#### Influence of Some Parameters"
   ]
  },
  {
   "cell_type": "code",
   "execution_count": null,
   "id": "296535e0-f544-4982-8900-60a30da00a38",
   "metadata": {},
   "outputs": [],
   "source": []
  },
  {
   "cell_type": "markdown",
   "id": "76fc53d9-58ba-464a-8a9f-f0369dd874ee",
   "metadata": {},
   "source": [
    "<a id=\"quasistatic_model_experiments\"></a>\n",
    "#### Experiments on Bridges"
   ]
  },
  {
   "cell_type": "code",
   "execution_count": null,
   "id": "fa7dd894-25d5-413e-bc82-e5022cbf5cdf",
   "metadata": {},
   "outputs": [],
   "source": []
  },
  {
   "cell_type": "markdown",
   "id": "32ea7d01-865b-4126-9001-abd594271ff5",
   "metadata": {},
   "source": [
    "<a id=\"start_and_braking_forces\"></a>\n",
    "### Starting and Braking Forces on Bridges"
   ]
  },
  {
   "cell_type": "code",
   "execution_count": null,
   "id": "486e1670-240e-42c9-8d3c-f1580db59beb",
   "metadata": {},
   "outputs": [],
   "source": []
  },
  {
   "cell_type": "markdown",
   "id": "a4b44084-c711-4d2f-bfea-44a40c60bf63",
   "metadata": {},
   "source": [
    "<a id=\"transverse_effects\"></a>\n",
    "## Horizontal Transverse Effects on Bridges"
   ]
  },
  {
   "cell_type": "markdown",
   "id": "df7620d8-528a-4fa7-b00f-5af3c07b321d",
   "metadata": {},
   "source": [
    "<a id=\"transverse_beam_effects\"></a>\n",
    "### Beam"
   ]
  },
  {
   "cell_type": "code",
   "execution_count": null,
   "id": "f74213e8-d08c-4bb8-b331-be81147eac45",
   "metadata": {},
   "outputs": [],
   "source": []
  },
  {
   "cell_type": "markdown",
   "id": "3a319e0c-c192-4200-b038-a3669788bd3f",
   "metadata": {},
   "source": [
    "<a id=\"transverse_vertical_vibration\"></a>\n",
    "#### Vertical Vibration"
   ]
  },
  {
   "cell_type": "code",
   "execution_count": null,
   "id": "39c34003-2ded-4dfc-bcd1-4c5a7ebfb382",
   "metadata": {},
   "outputs": [],
   "source": []
  },
  {
   "cell_type": "markdown",
   "id": "d1c12a09-844b-4274-a984-5b4761b7afd3",
   "metadata": {},
   "source": [
    "<a id=\"transverse_Horizontal_vibration\"></a>\n",
    "#### Horizontal Vibration"
   ]
  },
  {
   "cell_type": "code",
   "execution_count": null,
   "id": "7e793f7e-faa2-4af0-a364-f5b5684682b1",
   "metadata": {},
   "outputs": [],
   "source": []
  },
  {
   "cell_type": "markdown",
   "id": "18fe692e-d420-4645-a1b5-39c123587a5e",
   "metadata": {},
   "source": [
    "<a id=\"transverse_torsional_vibration\"></a>\n",
    "#### Torsional Vibration"
   ]
  },
  {
   "cell_type": "code",
   "execution_count": null,
   "id": "19eda47f-80f3-4a67-b3fe-f94b0ad3123b",
   "metadata": {},
   "outputs": [],
   "source": []
  },
  {
   "cell_type": "markdown",
   "id": "26b87e14-e317-475b-9848-c8b814db51e3",
   "metadata": {},
   "source": [
    "<a id=\"thin_walled_bar_vert_axis\"></a>\n",
    "### Thin-Walled Bar with Vertical Axis of Symmetry"
   ]
  },
  {
   "cell_type": "code",
   "execution_count": null,
   "id": "7b4c572a-ddb3-4aad-b2b2-0e6ceba60d97",
   "metadata": {},
   "outputs": [],
   "source": []
  },
  {
   "cell_type": "markdown",
   "id": "a3d442c4-53c8-4cf5-ab92-08618858526d",
   "metadata": {},
   "source": [
    "<a id=\"thin_walled_bar_vert_axis_apprx_solution\"></a>\n",
    "#### Approximate Solution"
   ]
  },
  {
   "cell_type": "code",
   "execution_count": null,
   "id": "98360053-a2f6-428a-a99f-2146f85fd9b1",
   "metadata": {},
   "outputs": [],
   "source": []
  },
  {
   "cell_type": "markdown",
   "id": "273a86da-ecc4-4193-9570-4ef4b888dffd",
   "metadata": {},
   "source": [
    "<a id=\"thin_walled_bar_vert_axis_dynam_solution\"></a>\n",
    "#### Dynamic Solution"
   ]
  },
  {
   "cell_type": "code",
   "execution_count": null,
   "id": "8809b172-bb3f-447b-8d64-902592bb820c",
   "metadata": {},
   "outputs": [],
   "source": []
  },
  {
   "cell_type": "markdown",
   "id": "fc3f27f2-4d2f-4947-98c7-c52617326fc2",
   "metadata": {},
   "source": [
    "<a id=\"thin_walled_bar_two_axes\"></a>\n",
    "#### Thin-Walled Bar with Two Axes of Symmetry"
   ]
  },
  {
   "cell_type": "code",
   "execution_count": null,
   "id": "bb9460a1-281e-478a-b358-6d86ccc1ac2f",
   "metadata": {},
   "outputs": [],
   "source": []
  },
  {
   "cell_type": "markdown",
   "id": "bfd7d286-aed4-445b-8f00-485efa030cd6",
   "metadata": {},
   "source": [
    "<a id=\"horiz_trans_expiriments\"></a>\n",
    "### Experiments on Bridges"
   ]
  },
  {
   "cell_type": "code",
   "execution_count": null,
   "id": "f68eae49-e995-4d02-ab5e-ada70ae0b243",
   "metadata": {},
   "outputs": [],
   "source": []
  },
  {
   "cell_type": "markdown",
   "id": "f8152108-736f-45e3-872f-e1e8e274bf56",
   "metadata": {},
   "source": [
    "<a id=\"horiz_trans_coefficents\"></a>\n",
    "### Coefficients of Variation for Horizontal and Torsional Vibrations"
   ]
  },
  {
   "cell_type": "code",
   "execution_count": null,
   "id": "279b4ea8-8e19-4d37-81f0-a3c0106ff58b",
   "metadata": {},
   "outputs": [],
   "source": []
  },
  {
   "cell_type": "markdown",
   "id": "fa49ae12-59a6-4b1b-9131-bfdc753ffb37",
   "metadata": {},
   "source": [
    "<a id=\"horiz_trans_centrifugal\"></a>\n",
    "### Centrifugal Forces"
   ]
  },
  {
   "cell_type": "code",
   "execution_count": null,
   "id": "f9fc8e90-db7a-4217-810e-9b883b6d446d",
   "metadata": {},
   "outputs": [],
   "source": []
  },
  {
   "cell_type": "markdown",
   "id": "09a8e628-dd63-4863-bece-56f4a70d545f",
   "metadata": {},
   "source": [
    "<a id=\"traffic_loads\"></a>\n",
    "## Traffic Loads on Railway Bridges"
   ]
  },
  {
   "cell_type": "code",
   "execution_count": null,
   "id": "93516a8f-359b-435b-8571-58e3820113c5",
   "metadata": {},
   "outputs": [],
   "source": []
  },
  {
   "cell_type": "markdown",
   "id": "57971b96-daba-488e-b0cc-8ab9eb616fde",
   "metadata": {},
   "source": [
    "<a id=\"counting_methods\"></a>\n",
    "## Statistical Counting methods for the Classification of Random Stress-Time History"
   ]
  },
  {
   "cell_type": "code",
   "execution_count": null,
   "id": "5eea96e2-5619-41e7-adb0-094e9bc3cd06",
   "metadata": {},
   "outputs": [],
   "source": []
  },
  {
   "cell_type": "markdown",
   "id": "f78b415d-d66e-4407-bed6-d2fdb160c9d1",
   "metadata": {},
   "source": [
    "<a id=\"stress_ranges\"></a>\n",
    "## Stress Ranges in Steel Railway Bridges"
   ]
  },
  {
   "cell_type": "code",
   "execution_count": null,
   "id": "8c04229c-0088-4e52-920b-62dd4cc1a700",
   "metadata": {},
   "outputs": [],
   "source": []
  },
  {
   "cell_type": "markdown",
   "id": "e94d162b-61ab-4dc1-9f63-0d049598ea46",
   "metadata": {},
   "source": [
    "<a id=\"fatigue_assessment\"></a>\n",
    "## The Assessment of Steel Railway Bridges for Fatigue"
   ]
  },
  {
   "cell_type": "code",
   "execution_count": null,
   "id": "95eeb3e5-cd9e-4113-bedf-b315a0c12e58",
   "metadata": {},
   "outputs": [],
   "source": []
  },
  {
   "cell_type": "markdown",
   "id": "51a5c30e-c7e2-4b49-a703-3c53e8f73a64",
   "metadata": {},
   "source": [
    "<a id=\"appendix\"></a>\n",
    "## Appendix"
   ]
  },
  {
   "cell_type": "code",
   "execution_count": null,
   "id": "d9209881-8bd3-4ca2-a096-870fa26aa688",
   "metadata": {},
   "outputs": [],
   "source": []
  },
  {
   "cell_type": "code",
   "execution_count": null,
   "id": "fa98ea8e-8124-4870-a4ca-5a33fb72f390",
   "metadata": {},
   "outputs": [],
   "source": []
  },
  {
   "cell_type": "code",
   "execution_count": null,
   "id": "b378436f-3f87-4172-919d-c61338cfb9a9",
   "metadata": {},
   "outputs": [],
   "source": []
  },
  {
   "cell_type": "code",
   "execution_count": null,
   "id": "a68ee248-fe49-40c9-93cc-0726473b6565",
   "metadata": {},
   "outputs": [],
   "source": []
  },
  {
   "cell_type": "code",
   "execution_count": null,
   "id": "58f647a3-37c2-45f1-bb12-5c563b9b55bf",
   "metadata": {},
   "outputs": [],
   "source": []
  },
  {
   "cell_type": "code",
   "execution_count": null,
   "id": "a0f5f75d-1285-46d4-a6b0-262e49a0ccaf",
   "metadata": {},
   "outputs": [],
   "source": []
  }
 ],
 "metadata": {
  "kernelspec": {
   "display_name": "Python 3 (ipykernel)",
   "language": "python",
   "name": "python3"
  },
  "language_info": {
   "codemirror_mode": {
    "name": "ipython",
    "version": 3
   },
   "file_extension": ".py",
   "mimetype": "text/x-python",
   "name": "python",
   "nbconvert_exporter": "python",
   "pygments_lexer": "ipython3",
   "version": "3.10.13"
  }
 },
 "nbformat": 4,
 "nbformat_minor": 5
}
