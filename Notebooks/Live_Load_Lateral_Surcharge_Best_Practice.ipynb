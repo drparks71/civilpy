{
 "cells": [
  {
   "cell_type": "markdown",
   "id": "2b3c4f07-91e5-4f45-8871-1ec099ee609e",
   "metadata": {
    "editable": true,
    "slideshow": {
     "slide_type": ""
    },
    "tags": []
   },
   "source": [
    "<header>\n",
    "  <img src=\"res\\imgs\\mb_headers\\MB_Branding.jpg\"/>\n",
    "</header>"
   ]
  },
  {
   "cell_type": "markdown",
   "id": "140a763a-69ae-4427-823f-abc50e558e03",
   "metadata": {
    "editable": true,
    "slideshow": {
     "slide_type": ""
    },
    "tags": []
   },
   "source": [
    "# Design Process"
   ]
  },
  {
   "cell_type": "code",
   "execution_count": 1,
   "id": "8a08b82f-0375-43b3-9baf-d2dd5c0b924e",
   "metadata": {
    "editable": true,
    "slideshow": {
     "slide_type": ""
    },
    "tags": [
     "remove_cell"
    ]
   },
   "outputs": [
    {
     "name": "stdout",
     "output_type": "stream",
     "text": [
      "Name: civilpy\n",
      "Version: 0.0.100\n",
      "Summary: Civil Engineering Tools in Python\n",
      "Home-page: https://daneparks.com/Dane/civilpy\n",
      "Author: Dane Parks\n",
      "Author-email: Dane@daneparks.com\n",
      "License: MIT\n",
      "Location: c:\\users\\dane.parks\\appdata\\local\\anaconda3\\envs\\lab\\lib\\site-packages\n",
      "Requires: beautifulsoup4, coverage, fiona, Flask, folium, geopandas, html5lib, icalendar, msedge-selenium-tools, natsort, numpy, openpyxl, pandas, Pillow, Pint, PyMuPDF, pyntcloud, PyPDF2, pytesseract, pytest, pytest-cov, requests, sshtunnel, sympy, termcolor, tifftools, tqdm, webdriver-manager\n",
      "Required-by: \n",
      "Note: you may need to restart the kernel to use updated packages.\n"
     ]
    }
   ],
   "source": [
    "%pip show civilpy"
   ]
  },
  {
   "cell_type": "markdown",
   "id": "9ac24b02-2c45-4fe8-b4a7-0579de4b42e7",
   "metadata": {
    "editable": true,
    "slideshow": {
     "slide_type": ""
    },
    "tags": []
   },
   "source": [
    "## Choosing a Method\n",
    "\n",
    "`# //TODO - Define deflection tolerances used to define which of these methods is selected`\n",
    "\n",
    "**Boussinesq solution** is used where the amount of deflection required to induce active earth pressure exceeds the tolerable deflection of the structure or is not attainable due to foundation stiffness. \n",
    "\n",
    "- Loads are modeled as strip loads – after performing extensive research modeling as point loads is not recommended (see email attached)\n",
    "- Two different processes, one for **Deep Foundations**, another for **Shallow Foundations**. `# //TODO - Define \"Deep\" and \"Shallow\" and point where we switch or is it just pile vs. spread?`\n",
    "    - Similar process for both with a slightly different format\n",
    "    - The distributed load is input into FB-Multipier for deep foundations `# //TODO - Determine if necessary or if it can be done in python/imported directly from FB-Multipier`\n",
    "        - The spreadsheet gives a load in klf for a single track; please note the klf is along the height of the abutment and already accounts for the 8.5-ft track width.\n",
    "        - The values are multiplied by the track multiplier as necessary for full height or gravity abutments that can distributed the load. `# //TODO - Verify this is referring to the AREMA guidance in Ch. 8 2.2.3.c (6)`\n",
    "        - For tangent shafts it is divided by the track width and multiplied by the diameter/spacing of the drilled shafts.  `# //TODO - Establish how diameter/spacing is determined` \n",
    "    - The resultant load & moment is used to analyze external stability for shallow foundations. \n",
    "\n",
    "**Culmann solution** is used where active earth pressure can be justified.\n",
    "- Considering the E80 loads as an area load or point load should not matter for the Culmann Solution – the total weight is just added to the wedge.\n",
    "- Only axle groups 1 & 2 are analyzed since the critical wedge does not typically extend further back than that; there would likely be limited need to extend the calculation further back to include additional axle groups. `# //TODO - Look into adding a check to the code to verify this isn't necessary`\n",
    "- See attached spreadsheet for EH+LS and EH only on abutments. (Has been converted to python)\n",
    "    - Basis of the calc assumes a uniform soil layer with effective stress properties (friction, no cohesion). For layered soils we would use a weighted average. \n",
    "    - No GWT above design grade is included in the current sheet since it has not been needed yet for a project. We do have EH only Culmann solutions with a high GWT. `# //TODO - Verify what GWT is`\n",
    "    - The resultant load is on a per foot basis so the EH+LS are only used within the area below the ties and the EH only values are used elsewhere \n",
    "        - For example, the total load in kips for a 50 ft abutment with 2 tracks would be = (EH+LS)*(8.5*2)+(EH only)*(50-8.5*2)\n",
    "    - The spreadsheet still needs a bit of work to become a template and fit different geometries since it is sensitive to the x values which correlate to the axle group locations. Currently we adjust it to each site manually. `# //TODO - Work with geotechs to incorporate these changes into the code`\n",
    "\n"
   ]
  },
  {
   "cell_type": "markdown",
   "id": "75f5ded3-b4cb-418e-92c7-5f3b0c4ed4bc",
   "metadata": {
    "editable": true,
    "slideshow": {
     "slide_type": ""
    },
    "tags": []
   },
   "source": [
    "# Defining Loads\n",
    "\n",
    "![image.png](res\\imgs\\Foundation_Design\\Coopers_eq_strip.png)"
   ]
  },
  {
   "cell_type": "code",
   "execution_count": 2,
   "id": "0c47b709-3028-4bc0-b957-f652bd63a523",
   "metadata": {
    "editable": true,
    "slideshow": {
     "slide_type": ""
    },
    "tags": []
   },
   "outputs": [
    {
     "data": {
      "text/plain": [
       "CooperE80EqStrip(\n",
       "\ttie_width=8.5 foot,\n",
       "\tdistances          \t\t\t| magnitudes        \t\t\t\t\t| linear_loads\n",
       "\t[ 0 18] foot    \t\t\t| 2.0915032679738563 kip / foot ** 2 \t\t\t| LS1: (<Quantity(0, 'foot')>, <Quantity(18, 'foot')>, <Quantity(17.7777778, 'kip / foot')>)\n",
       "\t[24 43] foot    \t\t\t| 1.2879256965944272 kip / foot ** 2 \t\t\t| LS2: (<Quantity(24, 'foot')>, <Quantity(43, 'foot')>, <Quantity(10.9473684, 'kip / foot')>)\n",
       "\t[48 51] foot    \t\t\t| 1.5686274509803921 kip / foot ** 2 \t\t\t| LS3: (<Quantity(48, 'foot')>, <Quantity(51, 'foot')>, <Quantity(13.3333333, 'kip / foot')>)\n",
       "\t[56 74] foot    \t\t\t| 2.0915032679738563 kip / foot ** 2 \t\t\t| LS4: (<Quantity(56, 'foot')>, <Quantity(74, 'foot')>, <Quantity(17.7777778, 'kip / foot')>)\n",
       "\t[80 99] foot    \t\t\t| 1.2879256965944272 kip / foot ** 2 \t\t\t| LS5: (<Quantity(80, 'foot')>, <Quantity(99, 'foot')>, <Quantity(10.9473684, 'kip / foot')>)\n",
       "\t[102.5] foot    \t\t\t| 0.9411764705882353 kip / foot ** 2 \t\t\t| LS6: (<Quantity(102.5, 'foot')>, <Quantity(150, 'foot')>, <Quantity(8.0, 'kip / foot')>)\n",
       ")"
      ]
     },
     "execution_count": 2,
     "metadata": {},
     "output_type": "execute_result"
    }
   ],
   "source": [
    "from civilpy.structural.arema import CooperE80EqStrip\n",
    "cooper_e80 = CooperE80EqStrip()\n",
    "cooper_e80"
   ]
  },
  {
   "cell_type": "markdown",
   "id": "9c483076-49c5-43d9-8e39-f1b412af40ff",
   "metadata": {
    "editable": true,
    "slideshow": {
     "slide_type": ""
    },
    "tags": []
   },
   "source": [
    "# Boussinesq Solution"
   ]
  },
  {
   "cell_type": "code",
   "execution_count": null,
   "id": "27008136-e02d-4545-8347-d8b25d008e5e",
   "metadata": {
    "editable": true,
    "slideshow": {
     "slide_type": ""
    },
    "tags": []
   },
   "outputs": [],
   "source": []
  },
  {
   "cell_type": "code",
   "execution_count": null,
   "id": "53383662-577b-453f-8f41-0b7bf358f0e5",
   "metadata": {
    "editable": true,
    "slideshow": {
     "slide_type": ""
    },
    "tags": []
   },
   "outputs": [],
   "source": []
  },
  {
   "cell_type": "markdown",
   "id": "b7009d94-1b5b-4f6c-ac7c-fab6786e3d38",
   "metadata": {
    "editable": true,
    "slideshow": {
     "slide_type": ""
    },
    "tags": []
   },
   "source": [
    "# Verify That Active Soil Pressure is Valid\n",
    "\n",
    "In order to utilize Culmann's solution, the deflection of the wall must meet the criteria `# //TODO - Define deflection criteria`"
   ]
  },
  {
   "cell_type": "code",
   "execution_count": null,
   "id": "811ea0ea-7303-4c65-a073-59d40331dfea",
   "metadata": {},
   "outputs": [],
   "source": []
  },
  {
   "cell_type": "markdown",
   "id": "43b39ce5-443d-4683-813a-505cdcdc071f",
   "metadata": {
    "editable": true,
    "slideshow": {
     "slide_type": ""
    },
    "tags": []
   },
   "source": [
    "# Culmann's Solution"
   ]
  },
  {
   "cell_type": "code",
   "execution_count": 3,
   "id": "f3012a8c-ae49-4bfb-9066-721d7bf8ab84",
   "metadata": {
    "editable": true,
    "slideshow": {
     "slide_type": ""
    },
    "tags": []
   },
   "outputs": [],
   "source": [
    "# //TODO - Fix Typo Culmans->Culmanns\n",
    "from civilpy.geotechnical.culmans import CulmansMethod, find_key_for_value_in_tuple_range #, build_coordinates_list\n",
    "from civilpy.general import units"
   ]
  },
  {
   "cell_type": "markdown",
   "id": "4ef6776c-b373-411e-9278-9211728d3fd3",
   "metadata": {
    "editable": true,
    "slideshow": {
     "slide_type": ""
    },
    "tags": []
   },
   "source": [
    "## Culmann's inputs\n",
    "\n",
    "Culmann's method relies on the following inputs, the default values are shown;\n",
    "\n",
    "`# //TODO - Add detailed descriptions for each of these inputs`"
   ]
  },
  {
   "cell_type": "markdown",
   "id": "2c02f166-ece5-4ab4-8d2e-c79fbdc8e6a4",
   "metadata": {
    "editable": true,
    "slideshow": {
     "slide_type": ""
    },
    "tags": []
   },
   "source": [
    "`soil_unit_weight` = 117.7 * units('lbf/ft^3'),"
   ]
  },
  {
   "cell_type": "markdown",
   "id": "3b93a7a5-a913-4cbf-80fc-41762eb36cf9",
   "metadata": {
    "editable": true,
    "slideshow": {
     "slide_type": ""
    },
    "tags": []
   },
   "source": [
    "`soil_angle_int_friction` = 29.8 * units('degrees'),"
   ]
  },
  {
   "cell_type": "markdown",
   "id": "8125107e-558a-4078-8842-5d1c8f6c786b",
   "metadata": {
    "editable": true,
    "slideshow": {
     "slide_type": ""
    },
    "tags": []
   },
   "source": [
    "`angle_back_wall_with_horizontal` = 0 * units('degrees'),"
   ]
  },
  {
   "cell_type": "markdown",
   "id": "5b200fb2-b345-4563-a4cb-d698c346f6ec",
   "metadata": {
    "editable": true,
    "slideshow": {
     "slide_type": ""
    },
    "tags": []
   },
   "source": [
    "`angle_of_wall_friction_delta` = 0 * units('degrees'),"
   ]
  },
  {
   "cell_type": "markdown",
   "id": "45bfd792-2d32-4722-80da-1a167c0c8283",
   "metadata": {
    "editable": true,
    "slideshow": {
     "slide_type": ""
    },
    "tags": []
   },
   "source": [
    "`angle_of_wall_friction_gamma` = 90 * units('degrees'),"
   ]
  },
  {
   "cell_type": "markdown",
   "id": "0c6a57cc-ff9a-4ddf-bf0d-c289c46a1673",
   "metadata": {
    "editable": true,
    "slideshow": {
     "slide_type": ""
    },
    "tags": []
   },
   "source": [
    "`load_scale` = 2.9059 * units('kips/ft'),"
   ]
  },
  {
   "cell_type": "markdown",
   "id": "4f25b04a-80e6-4805-83b6-863ce7efdeba",
   "metadata": {
    "editable": true,
    "slideshow": {
     "slide_type": ""
    },
    "tags": []
   },
   "source": [
    "`wall_height` = 19.5 * units('ft'),"
   ]
  },
  {
   "cell_type": "markdown",
   "id": "870f7524-957b-4397-9776-f9e3c26771d0",
   "metadata": {
    "editable": true,
    "slideshow": {
     "slide_type": ""
    },
    "tags": []
   },
   "source": [
    "`soil_height_above_wall` = 4.4 * units('ft'),"
   ]
  },
  {
   "cell_type": "markdown",
   "id": "121098a2-25fc-40a3-8193-8227dcdc9be5",
   "metadata": {
    "editable": true,
    "slideshow": {
     "slide_type": ""
    },
    "tags": []
   },
   "source": [
    "`num_slices` = 19,"
   ]
  },
  {
   "cell_type": "markdown",
   "id": "eb524ead-40fe-4504-a4de-3d902d114d5a",
   "metadata": {
    "editable": true,
    "slideshow": {
     "slide_type": ""
    },
    "tags": []
   },
   "source": [
    "`total_length` = 38 * units('ft'),"
   ]
  },
  {
   "cell_type": "markdown",
   "id": "e1a5c2e9-6f50-495c-8f5a-776602e3b091",
   "metadata": {
    "editable": true,
    "slideshow": {
     "slide_type": ""
    },
    "tags": []
   },
   "source": [
    "`track_offset` = 2 * units('ft')"
   ]
  },
  {
   "cell_type": "markdown",
   "id": "72387757-2016-4cb0-b1ac-d0ccd103ed73",
   "metadata": {
    "editable": true,
    "slideshow": {
     "slide_type": ""
    },
    "tags": []
   },
   "source": [
    "`coordinates_list` = list of values, see first cell to see how it's built,"
   ]
  },
  {
   "cell_type": "code",
   "execution_count": 4,
   "id": "89f282c8-21b2-4b87-b97a-535a3bf54cc1",
   "metadata": {
    "editable": true,
    "slideshow": {
     "slide_type": ""
    },
    "tags": []
   },
   "outputs": [],
   "source": [
    "default_coordinates_list = {\n",
    "    # \"A\": (0, wall_height, find_key_for_value_in_tuple_range(cooper_e80.linear_loads, 0)), # See Excel comment - overridden to match sheet\n",
    "    \"A\": (0, 23.9, find_key_for_value_in_tuple_range(cooper_e80.linear_loads, 0)),\n",
    "    \"B\": (0, 0, None),\n",
    "}\n",
    "\n",
    "\n",
    "def build_coordinates_list(\n",
    "    starting_coordinates_list=default_coordinates_list,\n",
    "    total_length=38,\n",
    "    num_slices=19,\n",
    "    track_offset=2,\n",
    "    wall_height=19.5,\n",
    "    soil_height_above_wall=0,\n",
    "):\n",
    "\n",
    "    # Build a list of C values based on the user input\n",
    "    for x in range(0, num_slices):\n",
    "        starting_coordinates_list[f\"C_{x+1}\"] = (\n",
    "            x * (total_length / num_slices) + track_offset,\n",
    "            wall_height + soil_height_above_wall,\n",
    "            find_key_for_value_in_tuple_range(\n",
    "                cooper_e80.linear_loads, x * total_length / num_slices\n",
    "            ),\n",
    "        )\n",
    "    return starting_coordinates_list"
   ]
  },
  {
   "cell_type": "code",
   "execution_count": 5,
   "id": "21b5fc81-42e9-41ef-8d30-ff207a8fe3f3",
   "metadata": {
    "editable": true,
    "slideshow": {
     "slide_type": ""
    },
    "tags": []
   },
   "outputs": [
    {
     "data": {
      "text/plain": [
       "{'A': (0, 23.9, 'LS1'),\n",
       " 'B': (0, 0, None),\n",
       " 'C_1': (2.0, 23.9, 'LS1'),\n",
       " 'C_2': (4.0, 23.9, 'LS1'),\n",
       " 'C_3': (6.0, 23.9, 'LS1'),\n",
       " 'C_4': (8.0, 23.9, 'LS1'),\n",
       " 'C_5': (10.0, 23.9, 'LS1'),\n",
       " 'C_6': (12.0, 23.9, 'LS1'),\n",
       " 'C_7': (14.0, 23.9, 'LS1'),\n",
       " 'C_8': (16.0, 23.9, 'LS1'),\n",
       " 'C_9': (18.0, 23.9, 'LS1'),\n",
       " 'C_10': (20.0, 23.9, 'LS1'),\n",
       " 'C_11': (22.0, 23.9, None),\n",
       " 'C_12': (24.0, 23.9, None),\n",
       " 'C_13': (26.0, 23.9, 'LS2'),\n",
       " 'C_14': (28.0, 23.9, 'LS2'),\n",
       " 'C_15': (30.0, 23.9, 'LS2'),\n",
       " 'C_16': (32.0, 23.9, 'LS2'),\n",
       " 'C_17': (34.0, 23.9, 'LS2'),\n",
       " 'C_18': (36.0, 23.9, 'LS2'),\n",
       " 'C_19': (38.0, 23.9, 'LS2')}"
      ]
     },
     "execution_count": 5,
     "metadata": {},
     "output_type": "execute_result"
    }
   ],
   "source": [
    "coordinates_list = build_coordinates_list(\n",
    "    starting_coordinates_list=default_coordinates_list,\n",
    "    total_length=38,\n",
    "    num_slices=19,\n",
    "    track_offset=2,\n",
    "    wall_height=23.9,\n",
    "    soil_height_above_wall=0,    \n",
    ")\n",
    "\n",
    "coordinates_list"
   ]
  },
  {
   "cell_type": "markdown",
   "id": "a4b02457-f616-4fb8-a4c7-d31ece3ca353",
   "metadata": {
    "editable": true,
    "slideshow": {
     "slide_type": ""
    },
    "tags": []
   },
   "source": [
    "The function can be called as so,"
   ]
  },
  {
   "cell_type": "code",
   "execution_count": 11,
   "id": "754d11eb-6eb1-47e6-95b2-71c030823b68",
   "metadata": {
    "editable": true,
    "slideshow": {
     "slide_type": ""
    },
    "tags": []
   },
   "outputs": [],
   "source": [
    "results = CulmansMethod(        \n",
    "    coordinates_list=coordinates_list,\n",
    "    soil_unit_weight=117.7 * units(\"lbf/ft^3\"),\n",
    "    soil_angle_int_friction=29.8 * units(\"degrees\"),\n",
    "    angle_back_wall_with_horizontal=0 * units(\"degrees\"),\n",
    "    angle_of_wall_friction_delta=0 * units(\"degrees\"),\n",
    "    angle_of_wall_friction_gamma=90 * units(\"degrees\"),\n",
    "    load_scale=2.9059 * units(\"kips/ft\"),\n",
    "    wall_height=23.9 * units(\"ft\"),\n",
    "    soil_height_above_wall=0 * units(\"ft\"),\n",
    "    num_slices=19,\n",
    "    total_length=38 * units(\"ft\"),\n",
    "    track_offset=2 * units(\"ft\")\n",
    ")"
   ]
  },
  {
   "cell_type": "markdown",
   "id": "54b89426-73d2-47db-bfdb-d207644cad8e",
   "metadata": {
    "editable": true,
    "slideshow": {
     "slide_type": ""
    },
    "tags": []
   },
   "source": [
    "To view the table containing the results (same values as in the provided excel sheet)"
   ]
  },
  {
   "cell_type": "code",
   "execution_count": 12,
   "id": "059c3299-c995-4384-98bb-184881c8c13b",
   "metadata": {
    "editable": true,
    "slideshow": {
     "slide_type": ""
    },
    "tags": []
   },
   "outputs": [
    {
     "data": {
      "text/html": [
       "<div>\n",
       "<style scoped>\n",
       "    .dataframe tbody tr th:only-of-type {\n",
       "        vertical-align: middle;\n",
       "    }\n",
       "\n",
       "    .dataframe tbody tr th {\n",
       "        vertical-align: top;\n",
       "    }\n",
       "\n",
       "    .dataframe thead th {\n",
       "        text-align: right;\n",
       "    }\n",
       "</style>\n",
       "<table border=\"1\" class=\"dataframe\">\n",
       "  <thead>\n",
       "    <tr style=\"text-align: right;\">\n",
       "      <th></th>\n",
       "      <th>$c_i\\ (ft)$</th>\n",
       "      <th>$a_i\\ (ft)$</th>\n",
       "      <th>$b_i\\ (ft)$</th>\n",
       "      <th>$s_i\\ (ft)$</th>\n",
       "      <th>$A_i\\ (ft^2)$</th>\n",
       "      <th>$x_{cgi}\\ (ft)$</th>\n",
       "      <th>$y_{cgi}\\ (ft)$</th>\n",
       "      <th>$x_{ccgi}\\ (ft)$</th>\n",
       "      <th>$y_{ccgi}\\ (ft)$</th>\n",
       "      <th>$w_i\\ (lbf/ft)$</th>\n",
       "      <th>$W_i\\ (lbf/ft)$</th>\n",
       "      <th>$LL Surcharge\\ (lbf/ft)$</th>\n",
       "      <th>$Total\\ Weight\\ (lbf/ft)$</th>\n",
       "      <th>$x_{ci}\\ (ft)$</th>\n",
       "      <th>$y_{ci}\\ (ft)$</th>\n",
       "      <th>$x_{c'i}\\ (ft)$</th>\n",
       "      <th>$y_{c'i}\\ (ft)$</th>\n",
       "      <th>$Length\\ of\\ Line\\ c'_i c_i\\ (ft)$</th>\n",
       "    </tr>\n",
       "  </thead>\n",
       "  <tbody>\n",
       "    <tr>\n",
       "      <th>1</th>\n",
       "      <td>23.9 foot</td>\n",
       "      <td>23.9835 foot</td>\n",
       "      <td>2.0 foot</td>\n",
       "      <td>24.9418 foot</td>\n",
       "      <td>23.9012 foot ** 2</td>\n",
       "      <td>0.6667 foot</td>\n",
       "      <td>15.9333 foot</td>\n",
       "      <td>0.6667 foot</td>\n",
       "      <td>15.9333 foot</td>\n",
       "      <td>2.8132 kiloforce_pound / foot</td>\n",
       "      <td>2813.2 force_pound / foot</td>\n",
       "      <td>4183.0065 force_pound / foot</td>\n",
       "      <td>6996.2065 force_pound / foot</td>\n",
       "      <td>2.0892 foot / kip</td>\n",
       "      <td>1.1965 foot / kip</td>\n",
       "      <td>0.3537 foot / kip</td>\n",
       "      <td>4.2267 foot / kip</td>\n",
       "      <td>3.492 foot / kip</td>\n",
       "    </tr>\n",
       "    <tr>\n",
       "      <th>2</th>\n",
       "      <td>23.9835 foot</td>\n",
       "      <td>24.2324 foot</td>\n",
       "      <td>2.0 foot</td>\n",
       "      <td>25.108 foot</td>\n",
       "      <td>23.9012 foot ** 2</td>\n",
       "      <td>2.0 foot</td>\n",
       "      <td>15.9333 foot</td>\n",
       "      <td>1.3334 foot</td>\n",
       "      <td>15.9333 foot</td>\n",
       "      <td>2.8132 kiloforce_pound / foot</td>\n",
       "      <td>5626.4 force_pound / foot</td>\n",
       "      <td>8366.013 force_pound / foot</td>\n",
       "      <td>13992.413 force_pound / foot</td>\n",
       "      <td>4.1784 foot / kip</td>\n",
       "      <td>2.393 foot / kip</td>\n",
       "      <td>1.2549 foot / kip</td>\n",
       "      <td>7.498 foot / kip</td>\n",
       "      <td>5.8828 foot / kip</td>\n",
       "    </tr>\n",
       "    <tr>\n",
       "      <th>3</th>\n",
       "      <td>24.2324 foot</td>\n",
       "      <td>24.6416 foot</td>\n",
       "      <td>2.0 foot</td>\n",
       "      <td>25.437 foot</td>\n",
       "      <td>23.9 foot ** 2</td>\n",
       "      <td>3.3333 foot</td>\n",
       "      <td>15.9333 foot</td>\n",
       "      <td>2.0 foot</td>\n",
       "      <td>15.9333 foot</td>\n",
       "      <td>2.813 kiloforce_pound / foot</td>\n",
       "      <td>8439.4 force_pound / foot</td>\n",
       "      <td>12549.0195 force_pound / foot</td>\n",
       "      <td>20988.4195 force_pound / foot</td>\n",
       "      <td>6.2676 foot / kip</td>\n",
       "      <td>3.5895 foot / kip</td>\n",
       "      <td>2.5366 foot / kip</td>\n",
       "      <td>10.1041 foot / kip</td>\n",
       "      <td>7.5074 foot / kip</td>\n",
       "    </tr>\n",
       "    <tr>\n",
       "      <th>4</th>\n",
       "      <td>24.6416 foot</td>\n",
       "      <td>25.2034 foot</td>\n",
       "      <td>2.0 foot</td>\n",
       "      <td>25.9225 foot</td>\n",
       "      <td>23.8998 foot ** 2</td>\n",
       "      <td>4.6667 foot</td>\n",
       "      <td>15.9333 foot</td>\n",
       "      <td>2.6667 foot</td>\n",
       "      <td>15.9333 foot</td>\n",
       "      <td>2.813 kiloforce_pound / foot</td>\n",
       "      <td>11252.4 force_pound / foot</td>\n",
       "      <td>16732.026 force_pound / foot</td>\n",
       "      <td>27984.426 force_pound / foot</td>\n",
       "      <td>8.3568 foot / kip</td>\n",
       "      <td>4.786 foot / kip</td>\n",
       "      <td>4.0937 foot / kip</td>\n",
       "      <td>12.2299 foot / kip</td>\n",
       "      <td>8.5782 foot / kip</td>\n",
       "    </tr>\n",
       "    <tr>\n",
       "      <th>5</th>\n",
       "      <td>25.2034 foot</td>\n",
       "      <td>25.9077 foot</td>\n",
       "      <td>2.0 foot</td>\n",
       "      <td>26.5555 foot</td>\n",
       "      <td>23.8988 foot ** 2</td>\n",
       "      <td>6.0 foot</td>\n",
       "      <td>15.9333 foot</td>\n",
       "      <td>3.3333 foot</td>\n",
       "      <td>15.9333 foot</td>\n",
       "      <td>2.8129 kiloforce_pound / foot</td>\n",
       "      <td>14065.3 force_pound / foot</td>\n",
       "      <td>20915.0325 force_pound / foot</td>\n",
       "      <td>34980.332500000004 force_pound / foot</td>\n",
       "      <td>10.4459 foot / kip</td>\n",
       "      <td>5.9824 foot / kip</td>\n",
       "      <td>5.8562 foot / kip</td>\n",
       "      <td>13.9963 foot / kip</td>\n",
       "      <td>9.2351 foot / kip</td>\n",
       "    </tr>\n",
       "    <tr>\n",
       "      <th>6</th>\n",
       "      <td>25.9077 foot</td>\n",
       "      <td>26.7434 foot</td>\n",
       "      <td>2.0 foot</td>\n",
       "      <td>27.3256 foot</td>\n",
       "      <td>23.9014 foot ** 2</td>\n",
       "      <td>7.3333 foot</td>\n",
       "      <td>15.9333 foot</td>\n",
       "      <td>4.0 foot</td>\n",
       "      <td>15.9333 foot</td>\n",
       "      <td>2.8132 kiloforce_pound / foot</td>\n",
       "      <td>16878.5 force_pound / foot</td>\n",
       "      <td>25098.039 force_pound / foot</td>\n",
       "      <td>41976.539000000004 force_pound / foot</td>\n",
       "      <td>12.5351 foot / kip</td>\n",
       "      <td>7.1789 foot / kip</td>\n",
       "      <td>7.7764 foot / kip</td>\n",
       "      <td>15.488 foot / kip</td>\n",
       "      <td>9.5753 foot / kip</td>\n",
       "    </tr>\n",
       "    <tr>\n",
       "      <th>7</th>\n",
       "      <td>26.7434 foot</td>\n",
       "      <td>27.6986 foot</td>\n",
       "      <td>2.0 foot</td>\n",
       "      <td>28.221 foot</td>\n",
       "      <td>23.8996 foot ** 2</td>\n",
       "      <td>8.6667 foot</td>\n",
       "      <td>15.9333 foot</td>\n",
       "      <td>4.6667 foot</td>\n",
       "      <td>15.9333 foot</td>\n",
       "      <td>2.813 kiloforce_pound / foot</td>\n",
       "      <td>19691.5 force_pound / foot</td>\n",
       "      <td>29281.0455 force_pound / foot</td>\n",
       "      <td>48972.5455 force_pound / foot</td>\n",
       "      <td>14.6243 foot / kip</td>\n",
       "      <td>8.3754 foot / kip</td>\n",
       "      <td>9.82 foot / kip</td>\n",
       "      <td>16.7641 foot / kip</td>\n",
       "      <td>9.667 foot / kip</td>\n",
       "    </tr>\n",
       "    <tr>\n",
       "      <th>8</th>\n",
       "      <td>27.6986 foot</td>\n",
       "      <td>28.7613 foot</td>\n",
       "      <td>2.0 foot</td>\n",
       "      <td>29.23 foot</td>\n",
       "      <td>23.9018 foot ** 2</td>\n",
       "      <td>10.0 foot</td>\n",
       "      <td>15.9333 foot</td>\n",
       "      <td>5.3334 foot</td>\n",
       "      <td>15.9333 foot</td>\n",
       "      <td>2.8132 kiloforce_pound / foot</td>\n",
       "      <td>22504.7 force_pound / foot</td>\n",
       "      <td>33464.052 force_pound / foot</td>\n",
       "      <td>55968.75200000001 force_pound / foot</td>\n",
       "      <td>16.7135 foot / kip</td>\n",
       "      <td>9.5719 foot / kip</td>\n",
       "      <td>11.9621 foot / kip</td>\n",
       "      <td>17.8684 foot / kip</td>\n",
       "      <td>9.5607 foot / kip</td>\n",
       "    </tr>\n",
       "    <tr>\n",
       "      <th>9</th>\n",
       "      <td>28.7613 foot</td>\n",
       "      <td>29.9201 foot</td>\n",
       "      <td>2.0 foot</td>\n",
       "      <td>30.3407 foot</td>\n",
       "      <td>23.9 foot ** 2</td>\n",
       "      <td>11.3333 foot</td>\n",
       "      <td>15.9333 foot</td>\n",
       "      <td>6.0 foot</td>\n",
       "      <td>15.9333 foot</td>\n",
       "      <td>2.813 kiloforce_pound / foot</td>\n",
       "      <td>25317.7 force_pound / foot</td>\n",
       "      <td>37647.0585 force_pound / foot</td>\n",
       "      <td>62964.758499999996 force_pound / foot</td>\n",
       "      <td>18.8027 foot / kip</td>\n",
       "      <td>10.7684 foot / kip</td>\n",
       "      <td>14.184 foot / kip</td>\n",
       "      <td>18.8332 foot / kip</td>\n",
       "      <td>9.2937 foot / kip</td>\n",
       "    </tr>\n",
       "    <tr>\n",
       "      <th>10</th>\n",
       "      <td>29.9201 foot</td>\n",
       "      <td>31.1642 foot</td>\n",
       "      <td>2.0 foot</td>\n",
       "      <td>31.5422 foot</td>\n",
       "      <td>23.903 foot ** 2</td>\n",
       "      <td>12.6667 foot</td>\n",
       "      <td>15.9333 foot</td>\n",
       "      <td>6.6667 foot</td>\n",
       "      <td>15.9333 foot</td>\n",
       "      <td>2.8134 kiloforce_pound / foot</td>\n",
       "      <td>28131.1 force_pound / foot</td>\n",
       "      <td>41830.065 force_pound / foot</td>\n",
       "      <td>69961.16500000001 force_pound / foot</td>\n",
       "      <td>20.8919 foot / kip</td>\n",
       "      <td>11.9649 foot / kip</td>\n",
       "      <td>16.4715 foot / kip</td>\n",
       "      <td>19.6834 foot / kip</td>\n",
       "      <td>8.8947 foot / kip</td>\n",
       "    </tr>\n",
       "    <tr>\n",
       "      <th>11</th>\n",
       "      <td>31.1642 foot</td>\n",
       "      <td>32.484 foot</td>\n",
       "      <td>2.0 foot</td>\n",
       "      <td>32.8241 foot</td>\n",
       "      <td>23.8993 foot ** 2</td>\n",
       "      <td>14.0 foot</td>\n",
       "      <td>15.9333 foot</td>\n",
       "      <td>7.3333 foot</td>\n",
       "      <td>15.9333 foot</td>\n",
       "      <td>2.8129 kiloforce_pound / foot</td>\n",
       "      <td>30944.0 force_pound / foot</td>\n",
       "      <td>46013.0715 force_pound / foot</td>\n",
       "      <td>76957.07149999999 force_pound / foot</td>\n",
       "      <td>22.9811 foot / kip</td>\n",
       "      <td>13.1614 foot / kip</td>\n",
       "      <td>18.8135 foot / kip</td>\n",
       "      <td>20.4383 foot / kip</td>\n",
       "      <td>8.3858 foot / kip</td>\n",
       "    </tr>\n",
       "    <tr>\n",
       "      <th>12</th>\n",
       "      <td>32.484 foot</td>\n",
       "      <td>33.8705 foot</td>\n",
       "      <td>2.0 foot</td>\n",
       "      <td>34.1772 foot</td>\n",
       "      <td>23.8976 foot ** 2</td>\n",
       "      <td>15.3333 foot</td>\n",
       "      <td>15.9333 foot</td>\n",
       "      <td>7.9999 foot</td>\n",
       "      <td>15.9333 foot</td>\n",
       "      <td>2.8127 kiloforce_pound / foot</td>\n",
       "      <td>33756.7 force_pound / foot</td>\n",
       "      <td>50196.078 force_pound / foot</td>\n",
       "      <td>83952.77799999999 force_pound / foot</td>\n",
       "      <td>25.0701 foot / kip</td>\n",
       "      <td>14.3578 foot / kip</td>\n",
       "      <td>21.2014 foot / kip</td>\n",
       "      <td>21.1131 foot / kip</td>\n",
       "      <td>7.7847 foot / kip</td>\n",
       "    </tr>\n",
       "    <tr>\n",
       "      <th>13</th>\n",
       "      <td>33.8705 foot</td>\n",
       "      <td>35.3159 foot</td>\n",
       "      <td>2.0 foot</td>\n",
       "      <td>35.5932 foot</td>\n",
       "      <td>23.8995 foot ** 2</td>\n",
       "      <td>16.6667 foot</td>\n",
       "      <td>15.9333 foot</td>\n",
       "      <td>8.6666 foot</td>\n",
       "      <td>15.9333 foot</td>\n",
       "      <td>2.813 kiloforce_pound / foot</td>\n",
       "      <td>36569.7 force_pound / foot</td>\n",
       "      <td>54379.0845 force_pound / foot</td>\n",
       "      <td>90948.7845 force_pound / foot</td>\n",
       "      <td>27.1593 foot / kip</td>\n",
       "      <td>15.5543 foot / kip</td>\n",
       "      <td>23.6283 foot / kip</td>\n",
       "      <td>21.7199 foot / kip</td>\n",
       "      <td>7.1051 foot / kip</td>\n",
       "    </tr>\n",
       "    <tr>\n",
       "      <th>14</th>\n",
       "      <td>35.3159 foot</td>\n",
       "      <td>36.8132 foot</td>\n",
       "      <td>2.0 foot</td>\n",
       "      <td>37.0645 foot</td>\n",
       "      <td>23.8976 foot ** 2</td>\n",
       "      <td>18.0 foot</td>\n",
       "      <td>15.9333 foot</td>\n",
       "      <td>9.3332 foot</td>\n",
       "      <td>15.9333 foot</td>\n",
       "      <td>2.8127 kiloforce_pound / foot</td>\n",
       "      <td>39382.4 force_pound / foot</td>\n",
       "      <td>58562.091 force_pound / foot</td>\n",
       "      <td>97944.49100000001 force_pound / foot</td>\n",
       "      <td>29.2484 foot / kip</td>\n",
       "      <td>16.7507 foot / kip</td>\n",
       "      <td>26.0884 foot / kip</td>\n",
       "      <td>22.2683 foot / kip</td>\n",
       "      <td>6.3584 foot / kip</td>\n",
       "    </tr>\n",
       "    <tr>\n",
       "      <th>15</th>\n",
       "      <td>36.8132 foot</td>\n",
       "      <td>38.3564 foot</td>\n",
       "      <td>2.0 foot</td>\n",
       "      <td>38.5848 foot</td>\n",
       "      <td>23.8995 foot ** 2</td>\n",
       "      <td>19.3333 foot</td>\n",
       "      <td>15.9333 foot</td>\n",
       "      <td>9.9999 foot</td>\n",
       "      <td>15.9333 foot</td>\n",
       "      <td>2.813 kiloforce_pound / foot</td>\n",
       "      <td>42195.4 force_pound / foot</td>\n",
       "      <td>62745.0975 force_pound / foot</td>\n",
       "      <td>104940.4975 force_pound / foot</td>\n",
       "      <td>31.3375 foot / kip</td>\n",
       "      <td>17.9472 foot / kip</td>\n",
       "      <td>28.5774 foot / kip</td>\n",
       "      <td>22.7667 foot / kip</td>\n",
       "      <td>5.5539 foot / kip</td>\n",
       "    </tr>\n",
       "    <tr>\n",
       "      <th>16</th>\n",
       "      <td>38.3564 foot</td>\n",
       "      <td>39.9401 foot</td>\n",
       "      <td>2.0 foot</td>\n",
       "      <td>40.1483 foot</td>\n",
       "      <td>23.9039 foot ** 2</td>\n",
       "      <td>20.6667 foot</td>\n",
       "      <td>15.9333 foot</td>\n",
       "      <td>10.6667 foot</td>\n",
       "      <td>15.9333 foot</td>\n",
       "      <td>2.8135 kiloforce_pound / foot</td>\n",
       "      <td>45008.9 force_pound / foot</td>\n",
       "      <td>66928.104 force_pound / foot</td>\n",
       "      <td>111937.00400000002 force_pound / foot</td>\n",
       "      <td>33.4268 foot / kip</td>\n",
       "      <td>19.1437 foot / kip</td>\n",
       "      <td>31.0915 foot / kip</td>\n",
       "      <td>23.2215 foot / kip</td>\n",
       "      <td>4.6992 foot / kip</td>\n",
       "    </tr>\n",
       "    <tr>\n",
       "      <th>17</th>\n",
       "      <td>39.9401 foot</td>\n",
       "      <td>41.5597 foot</td>\n",
       "      <td>2.0 foot</td>\n",
       "      <td>41.7499 foot</td>\n",
       "      <td>23.901 foot ** 2</td>\n",
       "      <td>22.0 foot</td>\n",
       "      <td>15.9333 foot</td>\n",
       "      <td>11.3334 foot</td>\n",
       "      <td>15.9333 foot</td>\n",
       "      <td>2.8131 kiloforce_pound / foot</td>\n",
       "      <td>47822.0 force_pound / foot</td>\n",
       "      <td>71111.1105 force_pound / foot</td>\n",
       "      <td>118933.1105 force_pound / foot</td>\n",
       "      <td>35.516 foot / kip</td>\n",
       "      <td>20.3402 foot / kip</td>\n",
       "      <td>33.6273 foot / kip</td>\n",
       "      <td>23.638 foot / kip</td>\n",
       "      <td>3.8004 foot / kip</td>\n",
       "    </tr>\n",
       "    <tr>\n",
       "      <th>18</th>\n",
       "      <td>41.5597 foot</td>\n",
       "      <td>43.2112 foot</td>\n",
       "      <td>2.0 foot</td>\n",
       "      <td>43.3854 foot</td>\n",
       "      <td>23.8965 foot ** 2</td>\n",
       "      <td>23.3333 foot</td>\n",
       "      <td>15.9333 foot</td>\n",
       "      <td>12.0 foot</td>\n",
       "      <td>15.9333 foot</td>\n",
       "      <td>2.8126 kiloforce_pound / foot</td>\n",
       "      <td>50634.6 force_pound / foot</td>\n",
       "      <td>75294.117 force_pound / foot</td>\n",
       "      <td>125928.717 force_pound / foot</td>\n",
       "      <td>37.6051 foot / kip</td>\n",
       "      <td>21.5366 foot / kip</td>\n",
       "      <td>36.1823 foot / kip</td>\n",
       "      <td>24.021 foot / kip</td>\n",
       "      <td>2.863 foot / kip</td>\n",
       "    </tr>\n",
       "    <tr>\n",
       "      <th>19</th>\n",
       "      <td>43.2112 foot</td>\n",
       "      <td>44.8911 foot</td>\n",
       "      <td>2.0 foot</td>\n",
       "      <td>45.0512 foot</td>\n",
       "      <td>23.9029 foot ** 2</td>\n",
       "      <td>24.6667 foot</td>\n",
       "      <td>15.9333 foot</td>\n",
       "      <td>12.6668 foot</td>\n",
       "      <td>15.9333 foot</td>\n",
       "      <td>2.8134 kiloforce_pound / foot</td>\n",
       "      <td>53448.0 force_pound / foot</td>\n",
       "      <td>79477.1235 force_pound / foot</td>\n",
       "      <td>132925.1235 force_pound / foot</td>\n",
       "      <td>39.6944 foot / kip</td>\n",
       "      <td>22.7332 foot / kip</td>\n",
       "      <td>38.7544 foot / kip</td>\n",
       "      <td>24.3745 foot / kip</td>\n",
       "      <td>1.8914 foot / kip</td>\n",
       "    </tr>\n",
       "  </tbody>\n",
       "</table>\n",
       "</div>"
      ],
      "text/plain": [
       "     $c_i\\ (ft)$   $a_i\\ (ft)$ $b_i\\ (ft)$   $s_i\\ (ft)$      $A_i\\ (ft^2)$  \\\n",
       "1      23.9 foot  23.9835 foot    2.0 foot  24.9418 foot  23.9012 foot ** 2   \n",
       "2   23.9835 foot  24.2324 foot    2.0 foot   25.108 foot  23.9012 foot ** 2   \n",
       "3   24.2324 foot  24.6416 foot    2.0 foot   25.437 foot     23.9 foot ** 2   \n",
       "4   24.6416 foot  25.2034 foot    2.0 foot  25.9225 foot  23.8998 foot ** 2   \n",
       "5   25.2034 foot  25.9077 foot    2.0 foot  26.5555 foot  23.8988 foot ** 2   \n",
       "6   25.9077 foot  26.7434 foot    2.0 foot  27.3256 foot  23.9014 foot ** 2   \n",
       "7   26.7434 foot  27.6986 foot    2.0 foot   28.221 foot  23.8996 foot ** 2   \n",
       "8   27.6986 foot  28.7613 foot    2.0 foot    29.23 foot  23.9018 foot ** 2   \n",
       "9   28.7613 foot  29.9201 foot    2.0 foot  30.3407 foot     23.9 foot ** 2   \n",
       "10  29.9201 foot  31.1642 foot    2.0 foot  31.5422 foot   23.903 foot ** 2   \n",
       "11  31.1642 foot   32.484 foot    2.0 foot  32.8241 foot  23.8993 foot ** 2   \n",
       "12   32.484 foot  33.8705 foot    2.0 foot  34.1772 foot  23.8976 foot ** 2   \n",
       "13  33.8705 foot  35.3159 foot    2.0 foot  35.5932 foot  23.8995 foot ** 2   \n",
       "14  35.3159 foot  36.8132 foot    2.0 foot  37.0645 foot  23.8976 foot ** 2   \n",
       "15  36.8132 foot  38.3564 foot    2.0 foot  38.5848 foot  23.8995 foot ** 2   \n",
       "16  38.3564 foot  39.9401 foot    2.0 foot  40.1483 foot  23.9039 foot ** 2   \n",
       "17  39.9401 foot  41.5597 foot    2.0 foot  41.7499 foot   23.901 foot ** 2   \n",
       "18  41.5597 foot  43.2112 foot    2.0 foot  43.3854 foot  23.8965 foot ** 2   \n",
       "19  43.2112 foot  44.8911 foot    2.0 foot  45.0512 foot  23.9029 foot ** 2   \n",
       "\n",
       "   $x_{cgi}\\ (ft)$ $y_{cgi}\\ (ft)$ $x_{ccgi}\\ (ft)$ $y_{ccgi}\\ (ft)$  \\\n",
       "1      0.6667 foot    15.9333 foot      0.6667 foot     15.9333 foot   \n",
       "2         2.0 foot    15.9333 foot      1.3334 foot     15.9333 foot   \n",
       "3      3.3333 foot    15.9333 foot         2.0 foot     15.9333 foot   \n",
       "4      4.6667 foot    15.9333 foot      2.6667 foot     15.9333 foot   \n",
       "5         6.0 foot    15.9333 foot      3.3333 foot     15.9333 foot   \n",
       "6      7.3333 foot    15.9333 foot         4.0 foot     15.9333 foot   \n",
       "7      8.6667 foot    15.9333 foot      4.6667 foot     15.9333 foot   \n",
       "8        10.0 foot    15.9333 foot      5.3334 foot     15.9333 foot   \n",
       "9     11.3333 foot    15.9333 foot         6.0 foot     15.9333 foot   \n",
       "10    12.6667 foot    15.9333 foot      6.6667 foot     15.9333 foot   \n",
       "11       14.0 foot    15.9333 foot      7.3333 foot     15.9333 foot   \n",
       "12    15.3333 foot    15.9333 foot      7.9999 foot     15.9333 foot   \n",
       "13    16.6667 foot    15.9333 foot      8.6666 foot     15.9333 foot   \n",
       "14       18.0 foot    15.9333 foot      9.3332 foot     15.9333 foot   \n",
       "15    19.3333 foot    15.9333 foot      9.9999 foot     15.9333 foot   \n",
       "16    20.6667 foot    15.9333 foot     10.6667 foot     15.9333 foot   \n",
       "17       22.0 foot    15.9333 foot     11.3334 foot     15.9333 foot   \n",
       "18    23.3333 foot    15.9333 foot        12.0 foot     15.9333 foot   \n",
       "19    24.6667 foot    15.9333 foot     12.6668 foot     15.9333 foot   \n",
       "\n",
       "                  $w_i\\ (lbf/ft)$             $W_i\\ (lbf/ft)$  \\\n",
       "1   2.8132 kiloforce_pound / foot   2813.2 force_pound / foot   \n",
       "2   2.8132 kiloforce_pound / foot   5626.4 force_pound / foot   \n",
       "3    2.813 kiloforce_pound / foot   8439.4 force_pound / foot   \n",
       "4    2.813 kiloforce_pound / foot  11252.4 force_pound / foot   \n",
       "5   2.8129 kiloforce_pound / foot  14065.3 force_pound / foot   \n",
       "6   2.8132 kiloforce_pound / foot  16878.5 force_pound / foot   \n",
       "7    2.813 kiloforce_pound / foot  19691.5 force_pound / foot   \n",
       "8   2.8132 kiloforce_pound / foot  22504.7 force_pound / foot   \n",
       "9    2.813 kiloforce_pound / foot  25317.7 force_pound / foot   \n",
       "10  2.8134 kiloforce_pound / foot  28131.1 force_pound / foot   \n",
       "11  2.8129 kiloforce_pound / foot  30944.0 force_pound / foot   \n",
       "12  2.8127 kiloforce_pound / foot  33756.7 force_pound / foot   \n",
       "13   2.813 kiloforce_pound / foot  36569.7 force_pound / foot   \n",
       "14  2.8127 kiloforce_pound / foot  39382.4 force_pound / foot   \n",
       "15   2.813 kiloforce_pound / foot  42195.4 force_pound / foot   \n",
       "16  2.8135 kiloforce_pound / foot  45008.9 force_pound / foot   \n",
       "17  2.8131 kiloforce_pound / foot  47822.0 force_pound / foot   \n",
       "18  2.8126 kiloforce_pound / foot  50634.6 force_pound / foot   \n",
       "19  2.8134 kiloforce_pound / foot  53448.0 force_pound / foot   \n",
       "\n",
       "         $LL Surcharge\\ (lbf/ft)$              $Total\\ Weight\\ (lbf/ft)$  \\\n",
       "1    4183.0065 force_pound / foot           6996.2065 force_pound / foot   \n",
       "2     8366.013 force_pound / foot           13992.413 force_pound / foot   \n",
       "3   12549.0195 force_pound / foot          20988.4195 force_pound / foot   \n",
       "4    16732.026 force_pound / foot           27984.426 force_pound / foot   \n",
       "5   20915.0325 force_pound / foot  34980.332500000004 force_pound / foot   \n",
       "6    25098.039 force_pound / foot  41976.539000000004 force_pound / foot   \n",
       "7   29281.0455 force_pound / foot          48972.5455 force_pound / foot   \n",
       "8    33464.052 force_pound / foot   55968.75200000001 force_pound / foot   \n",
       "9   37647.0585 force_pound / foot  62964.758499999996 force_pound / foot   \n",
       "10   41830.065 force_pound / foot   69961.16500000001 force_pound / foot   \n",
       "11  46013.0715 force_pound / foot   76957.07149999999 force_pound / foot   \n",
       "12   50196.078 force_pound / foot   83952.77799999999 force_pound / foot   \n",
       "13  54379.0845 force_pound / foot          90948.7845 force_pound / foot   \n",
       "14   58562.091 force_pound / foot   97944.49100000001 force_pound / foot   \n",
       "15  62745.0975 force_pound / foot         104940.4975 force_pound / foot   \n",
       "16   66928.104 force_pound / foot  111937.00400000002 force_pound / foot   \n",
       "17  71111.1105 force_pound / foot         118933.1105 force_pound / foot   \n",
       "18   75294.117 force_pound / foot          125928.717 force_pound / foot   \n",
       "19  79477.1235 force_pound / foot         132925.1235 force_pound / foot   \n",
       "\n",
       "        $x_{ci}\\ (ft)$      $y_{ci}\\ (ft)$     $x_{c'i}\\ (ft)$  \\\n",
       "1    2.0892 foot / kip   1.1965 foot / kip   0.3537 foot / kip   \n",
       "2    4.1784 foot / kip    2.393 foot / kip   1.2549 foot / kip   \n",
       "3    6.2676 foot / kip   3.5895 foot / kip   2.5366 foot / kip   \n",
       "4    8.3568 foot / kip    4.786 foot / kip   4.0937 foot / kip   \n",
       "5   10.4459 foot / kip   5.9824 foot / kip   5.8562 foot / kip   \n",
       "6   12.5351 foot / kip   7.1789 foot / kip   7.7764 foot / kip   \n",
       "7   14.6243 foot / kip   8.3754 foot / kip     9.82 foot / kip   \n",
       "8   16.7135 foot / kip   9.5719 foot / kip  11.9621 foot / kip   \n",
       "9   18.8027 foot / kip  10.7684 foot / kip   14.184 foot / kip   \n",
       "10  20.8919 foot / kip  11.9649 foot / kip  16.4715 foot / kip   \n",
       "11  22.9811 foot / kip  13.1614 foot / kip  18.8135 foot / kip   \n",
       "12  25.0701 foot / kip  14.3578 foot / kip  21.2014 foot / kip   \n",
       "13  27.1593 foot / kip  15.5543 foot / kip  23.6283 foot / kip   \n",
       "14  29.2484 foot / kip  16.7507 foot / kip  26.0884 foot / kip   \n",
       "15  31.3375 foot / kip  17.9472 foot / kip  28.5774 foot / kip   \n",
       "16  33.4268 foot / kip  19.1437 foot / kip  31.0915 foot / kip   \n",
       "17   35.516 foot / kip  20.3402 foot / kip  33.6273 foot / kip   \n",
       "18  37.6051 foot / kip  21.5366 foot / kip  36.1823 foot / kip   \n",
       "19  39.6944 foot / kip  22.7332 foot / kip  38.7544 foot / kip   \n",
       "\n",
       "       $y_{c'i}\\ (ft)$ $Length\\ of\\ Line\\ c'_i c_i\\ (ft)$  \n",
       "1    4.2267 foot / kip                   3.492 foot / kip  \n",
       "2     7.498 foot / kip                  5.8828 foot / kip  \n",
       "3   10.1041 foot / kip                  7.5074 foot / kip  \n",
       "4   12.2299 foot / kip                  8.5782 foot / kip  \n",
       "5   13.9963 foot / kip                  9.2351 foot / kip  \n",
       "6    15.488 foot / kip                  9.5753 foot / kip  \n",
       "7   16.7641 foot / kip                   9.667 foot / kip  \n",
       "8   17.8684 foot / kip                  9.5607 foot / kip  \n",
       "9   18.8332 foot / kip                  9.2937 foot / kip  \n",
       "10  19.6834 foot / kip                  8.8947 foot / kip  \n",
       "11  20.4383 foot / kip                  8.3858 foot / kip  \n",
       "12  21.1131 foot / kip                  7.7847 foot / kip  \n",
       "13  21.7199 foot / kip                  7.1051 foot / kip  \n",
       "14  22.2683 foot / kip                  6.3584 foot / kip  \n",
       "15  22.7667 foot / kip                  5.5539 foot / kip  \n",
       "16  23.2215 foot / kip                  4.6992 foot / kip  \n",
       "17   23.638 foot / kip                  3.8004 foot / kip  \n",
       "18   24.021 foot / kip                   2.863 foot / kip  \n",
       "19  24.3745 foot / kip                  1.8914 foot / kip  "
      ]
     },
     "execution_count": 12,
     "metadata": {},
     "output_type": "execute_result"
    }
   ],
   "source": [
    "results.table"
   ]
  },
  {
   "cell_type": "markdown",
   "id": "7bee1db3-c696-4492-98d0-75dffeb0ed20",
   "metadata": {
    "editable": true,
    "slideshow": {
     "slide_type": ""
    },
    "tags": []
   },
   "source": [
    "To graphically represent the results,"
   ]
  },
  {
   "cell_type": "code",
   "execution_count": 13,
   "id": "808955fa-7173-4777-97c0-ca923a55b860",
   "metadata": {
    "editable": true,
    "slideshow": {
     "slide_type": ""
    },
    "tags": []
   },
   "outputs": [
    {
     "data": {
      "image/png": "[encoded data removed]",
      "text/plain": [
       "<Figure size 720x432 with 1 Axes>"
      ]
     },
     "metadata": {
      "needs_background": "light"
     },
     "output_type": "display_data"
    }
   ],
   "source": [
    "results.plot_results()"
   ]
  },
  {
   "cell_type": "code",
   "execution_count": 10,
   "id": "2f3e12a3-f021-4bf2-af08-2e81adb76f77",
   "metadata": {
    "editable": true,
    "slideshow": {
     "slide_type": ""
    },
    "tags": [
     "remove_cell"
    ]
   },
   "outputs": [
    {
     "name": "stdout",
     "output_type": "stream",
     "text": [
      "PDF created: D:\\Jetbrains\\PycharmProjects\\civilpy\\Notebooks\\Live_Load_Lateral_Surcharge_Best_Practice.pdf\n"
     ]
    }
   ],
   "source": [
    "# from civilpy.general.jupyter import notebook_to_pdf\n",
    "\n",
    "# Replace this with the correct path to your notebook, the pdf will be generated in the same folder\n",
    "notebook_to_pdf(r\"D:\\Jetbrains\\PycharmProjects\\civilpy\\Notebooks\\Live_Load_Lateral_Surcharge_Best_Practice.ipynb\")"
   ]
  },
  {
   "cell_type": "code",
   "execution_count": null,
   "id": "e6d4437f-744c-435a-9092-02ce95e2859f",
   "metadata": {
    "editable": true,
    "slideshow": {
     "slide_type": ""
    },
    "tags": [
     "remove_cell"
    ]
   },
   "outputs": [],
   "source": []
  }
 ],
 "metadata": {
  "kernelspec": {
   "display_name": "Python 3 (ipykernel)",
   "language": "python",
   "name": "python3"
  },
  "language_info": {
   "codemirror_mode": {
    "name": "ipython",
    "version": 3
   },
   "file_extension": ".py",
   "mimetype": "text/x-python",
   "name": "python",
   "nbconvert_exporter": "python",
   "pygments_lexer": "ipython3",
   "version": "3.12.6"
  }
 },
 "nbformat": 4,
 "nbformat_minor": 5
}
