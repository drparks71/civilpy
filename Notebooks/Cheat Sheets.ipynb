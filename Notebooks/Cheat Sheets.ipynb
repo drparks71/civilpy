{
 "cells": [
  {
   "cell_type": "markdown",
   "id": "710efac7-0b80-48d3-bbf8-7b01b0b79af3",
   "metadata": {
    "editable": true,
    "slideshow": {
     "slide_type": ""
    },
    "tags": []
   },
   "source": [
    "Mathjax"
   ]
  },
  {
   "cell_type": "markdown",
   "id": "4deca12f-fd74-4f45-87f1-bb1141fbdb33",
   "metadata": {
    "editable": true,
    "slideshow": {
     "slide_type": ""
    },
    "tags": []
   },
   "source": [
    "#### Alpha [\\alpha A] $ \\alpha A $           \n",
    "#### Beta [\\beta B] $ \\beta B $\n",
    "#### Gamma [\\gamma \\Gamma] $ \\gamma \\Gamma $\n",
    "#### Delta [\\delta \\Delta] $\\delta \\Delta$\n",
    "#### Epsilon [\\epsilon \\varepsilon E] $ \\epsilon \\varepsilon E $\n",
    "#### Zeta [\\zeta Z] $ \\zeta Z $\n",
    "#### Eta [\\eta H] $ \\eta H $\n",
    "#### Theta [\\theta \\vartheta \\Theta] $ \\theta \\vartheta \\Theta $\n",
    "#### Iota [\\iota I] $ \\iota I $\n",
    "#### Kappa [\\kappa K] $ \\kappa K $\n",
    "#### Lamda [\\lambda \\Lambda] $ \\lambda \\Lambda $\n",
    "#### Mu [\\mu M] $ \\mu M $\n",
    "#### Nu [\\nu N] $ \\nu N $\n",
    "#### Xi [\\xi \\Xi] $ \\xi \\Xi $\n",
    "#### Omicron [o O] $ o O $\n",
    "#### Pi [\\pi \\Pi] $ \\pi \\Pi $\n",
    "#### Rho [\\rho \\varrho P] $ \\rho \\varrho P $\n",
    "#### Sigma [\\sigma \\Sigma] $ \\sigma \\Sigma $\n",
    "#### Tau [\\tau T] $ \\tau T $\n",
    "#### Upsilon [\\upsilon \\Upsilon] $ \\upsilon \\Upsilon $\n",
    "#### Phi [\\phi \\varphi \\Phi] $ \\phi \\varphi \\Phi $\n",
    "#### Chi [\\chi X] $ \\chi X $\n",
    "#### Psi [\\psi \\Psi] $ \\psi \\Psi $\n",
    "#### Omega [\\omega \\Omega] $ \\omega \\Omega $"
   ]
  },
  {
   "cell_type": "markdown",
   "id": "30407fa4-1347-4ad7-90ff-e3c320a32924",
   "metadata": {
    "editable": true,
    "slideshow": {
     "slide_type": ""
    },
    "tags": []
   },
   "source": [
    "# Mermaid\n",
    "\n",
    "#### Standard Diagrams\n",
    "\n",
    "[Documentation](https://mermaid.js.org/syntax/flowchart.html)\n",
    "\n",
    "```mermaid\n",
    "graph TD\n",
    "    A[Enter Chart Definition] --> B[Html <b>test</b> and <a href='http://google.com'>link</a>]\n",
    "    B --> C{decide}\n",
    "    C --> D[Keep]\n",
    "    C --> E[Edit Definition]\n",
    "    E --> B\n",
    "    D --> F[Save Image and Code]\n",
    "    F --> B\n",
    "```\n",
    "\n",
    "#### Gantt Charts\n",
    "\n",
    "```mermaid\n",
    "gantt\n",
    "    dateFormat  YYYY-MM-DD\n",
    "    title       Adding GANTT diagram functionality to mermaid\n",
    "    excludes    weekends\n",
    "    %% (`excludes` accepts specific dates in YYYY-MM-DD format, days of the week (\"sunday\") or \"weekends\", but not the word \"weekdays\".)\n",
    "\n",
    "    section A section\n",
    "    Completed task            :done,    des1, 2014-01-06,2014-01-08\n",
    "    Active task               :active,  des2, 2014-01-09, 3d\n",
    "    Future task               :         des3, after des2, 5d\n",
    "    Future task2              :         des4, after des3, 5d\n",
    "\n",
    "    section Critical tasks\n",
    "    Completed task in the critical line :crit, done, 2014-01-06,24h\n",
    "    Implement parser and jison          :crit, done, after des1, 2d\n",
    "    Create tests for parser             :crit, active, 3d\n",
    "    Future task in critical line        :crit, 5d\n",
    "    Create tests for renderer           :2d\n",
    "    Add to mermaid                      :1d\n",
    "    Functionality added                 :milestone, 2014-01-25, 0d\n",
    "\n",
    "    section Documentation\n",
    "    Describe gantt syntax               :active, a1, after des1, 3d\n",
    "    Add gantt diagram to demo page      :after a1  , 20h\n",
    "    Add another diagram to demo page    :doc1, after a1  , 48h\n",
    "\n",
    "    section Last section\n",
    "    Describe gantt syntax               :after doc1, 3d\n",
    "    Add gantt diagram to demo page      :20h\n",
    "    Add another diagram to demo page    :48h\n",
    "```\n",
    "\n",
    "#### Commit Diagrams\n",
    "\n",
    "```mermaid\n",
    "---\r\n",
    "title: Example Git diagram\r\n",
    "---\r\n",
    "gitGraph\r\n",
    "   commit\r\n",
    "   commit\r\n",
    "   branch develop\r\n",
    "   checkout develop\r\n",
    "   commit\r\n",
    "   commit\r\n",
    "   checkout main\r\n",
    "   merge develop\r\n",
    "   commit\r\n",
    "   commit\n",
    "```\n",
    "\n",
    "#### Class Diagram\n",
    "\n",
    "```mermaid\n",
    "---\n",
    "title: Animal example\n",
    "---\n",
    "classDiagram\n",
    "    note \"From Duck till Zebra\"\n",
    "    Animal <|-- Duck\n",
    "    note for Duck \"can fly\\ncan swim\\ncan dive\\ncan help in debugging\"\n",
    "    Animal <|-- Fish\n",
    "    Animal <|-- Zebra\n",
    "    Animal : +int age\n",
    "    Animal : +String gender\n",
    "    Animal: +isMammal()\n",
    "    Animal: +mate()\n",
    "    class Duck{\n",
    "        +String beakColor\n",
    "        +swim()\n",
    "        +quack()\n",
    "    }\n",
    "    class Fish{\n",
    "        -int sizeInFeet\n",
    "        -canEat()\n",
    "    }\n",
    "    class Zebra{\n",
    "        +bool is_wild\n",
    "        +run()\n",
    "    }\n",
    "```\n",
    "\n",
    "#### User Journey\n",
    "\n",
    "```mermaid\n",
    "journey\n",
    "    title My working day\n",
    "    section Go to work\n",
    "      Make tea: 5: Me\n",
    "      Go upstairs: 3: Me\n",
    "      Do work: 1: Me, Cat\n",
    "    section Go home\n",
    "      Go downstairs: 5: Me\n",
    "      Sit down: 5: Me\n",
    "```\n",
    "\n",
    "#### Entity Relationships\n",
    "\n",
    "```mermaid\n",
    "erDiagram\n",
    "    CUSTOMER ||--o{ ORDER : places\n",
    "    CUSTOMER {\n",
    "        string name\n",
    "        string custNumber\n",
    "        string sector\n",
    "    }\n",
    "    ORDER ||--|{ LINE-ITEM : contains\n",
    "    ORDER {\n",
    "        int orderNumber\n",
    "        string deliveryAddress\n",
    "    }\n",
    "    LINE-ITEM {\n",
    "        string productCode\n",
    "        int quantity\n",
    "        float pricePerUnit\n",
    "    }\n",
    "```"
   ]
  },
  {
   "cell_type": "markdown",
   "id": "e09523e5-887c-4b1b-ae33-90028a3a86b6",
   "metadata": {},
   "source": [
    "# Javascript Coding"
   ]
  },
  {
   "cell_type": "code",
   "execution_count": 1,
   "id": "ba7a1a55-078f-4c22-abd3-43a978e0c85d",
   "metadata": {},
   "outputs": [
    {
     "data": {
      "application/javascript": [
       "alert(\"hello, world!\");\n"
      ],
      "text/plain": [
       "<IPython.core.display.Javascript object>"
      ]
     },
     "metadata": {},
     "output_type": "display_data"
    }
   ],
   "source": [
    "%%js\n",
    "alert(\"hello, world!\");"
   ]
  },
  {
   "cell_type": "code",
   "execution_count": 2,
   "id": "84ef7b39-248b-4497-a61d-e2edbe479225",
   "metadata": {
    "editable": true,
    "slideshow": {
     "slide_type": ""
    },
    "tags": []
   },
   "outputs": [
    {
     "data": {
      "application/javascript": [
       "var x = 5;\n",
       "var y = 6;\n",
       "var z = x + y;\n",
       "element.text(z)\n"
      ],
      "text/plain": [
       "<IPython.core.display.Javascript object>"
      ]
     },
     "metadata": {},
     "output_type": "display_data"
    }
   ],
   "source": [
    "%%js\n",
    "var x = 5;\n",
    "var y = 6;\n",
    "var z = x + y;\n",
    "element.text(z)"
   ]
  },
  {
   "cell_type": "code",
   "execution_count": null,
   "id": "130c3b76-a5d4-4674-92dd-62ebc009e7a2",
   "metadata": {
    "editable": true,
    "slideshow": {
     "slide_type": ""
    },
    "tags": []
   },
   "outputs": [],
   "source": []
  }
 ],
 "metadata": {
  "kernelspec": {
   "display_name": "Python 3 (ipykernel)",
   "language": "python",
   "name": "python3"
  },
  "language_info": {
   "codemirror_mode": {
    "name": "ipython",
    "version": 3
   },
   "file_extension": ".py",
   "mimetype": "text/x-python",
   "name": "python",
   "nbconvert_exporter": "python",
   "pygments_lexer": "ipython3",
   "version": "3.10.13"
  }
 },
 "nbformat": 4,
 "nbformat_minor": 5
}
