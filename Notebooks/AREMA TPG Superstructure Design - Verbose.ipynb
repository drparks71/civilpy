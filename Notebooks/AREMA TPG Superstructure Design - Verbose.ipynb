{
 "cells": [
  {
   "cell_type": "code",
   "execution_count": 180,
   "id": "080d264b",
   "metadata": {
    "tags": []
   },
   "outputs": [],
   "source": [
    "import math\n",
    "from civilpy.general import units\n",
    "from civilpy.structural.steel import W, MC\n",
    "from termcolor import colored"
   ]
  },
  {
   "cell_type": "markdown",
   "id": "814a852e",
   "metadata": {},
   "source": [
    "# Workbook Layout\n",
    "\n",
    "8 Sheets,\n",
    "\n",
    "1. Global\n",
    "1. Superstructure DC\n",
    "1. Girder\n",
    "1. Floor Beam\n",
    "1. Deck Plate\n",
    "1. Abut End Floor Beam\n",
    "1. Floor Beam Prop\n",
    "1. Floor Beam - Non Bracing - Void"
   ]
  },
  {
   "cell_type": "markdown",
   "id": "1c7afade",
   "metadata": {},
   "source": [
    "# Inputs"
   ]
  },
  {
   "cell_type": "markdown",
   "id": "13764c29",
   "metadata": {},
   "source": [
    "## Global Definitions\n",
    "\n",
    "Contains the various Design Inputs, and summaries of the various checks being\n",
    "performed. # //TODO - Assumes precast ties?"
   ]
  },
  {
   "cell_type": "code",
   "execution_count": 181,
   "id": "92231fc8",
   "metadata": {
    "tags": []
   },
   "outputs": [],
   "source": [
    "# Global Input\n",
    "floorbeam_spacing = 2.6 * units('ft')\n",
    "girder_spacing = 20 * units('ft')\n",
    "ballast_plate_spacing = 3 * units('ft')\n",
    "diaphragm_spacing_max = 10.00 * units('ft')\n",
    "railroad_gage = 4 * units('ft') + 8.5 * units('inch') # //TODO - Not AREMA\n",
    "span_length = 52.00 * units('ft')\n",
    "girder_length = 54 * units('ft')\n",
    "floor_length = 58 * units('ft') # //TOOD - how is this determined?\n",
    "F_y = 50000 * units('psi')\n",
    "F_u = 65000 * units('psi')\n",
    "E_steel = 29000000 * units('psi')\n",
    "poisson_ratio = 0.30\n",
    "unit_weight_steel = 490 * units('lbf/ft^3')\n",
    "max_diaphragm_spacing = 10 * units('ft')\n",
    "diaphragms = 'w16x89'\n",
    "girder_quantity = 2\n",
    "bracing_section = 'MC10x33.6'\n",
    "\n",
    "# Tie Dimension\n",
    "tie_length = 8.5 * units('ft')\n",
    "tie_width = 8 * units('inch')\n",
    "tie_depth = 7 * units('inch')\n",
    "tie_design_width = 8 * units('ft') # Design width for distrib loading, length\n",
    "max_tie_spacing = 24 * units('inch') # used for dead load\n",
    "\n",
    "# Derived Inputs\n",
    "ballast_plates_clear_space = girder_spacing - 2*ballast_plate_spacing\n",
    "stop_plate_detail_width = (girder_spacing - ballast_plates_clear_space)/2"
   ]
  },
  {
   "cell_type": "markdown",
   "id": "b400734f",
   "metadata": {},
   "source": [
    "## Superstructure DC Definitions\n",
    "\n",
    "The following values are defined in the 'Superstructure DC' sheet"
   ]
  },
  {
   "cell_type": "code",
   "execution_count": 182,
   "id": "60d0120d",
   "metadata": {},
   "outputs": [],
   "source": [
    "# Unit Weights\n",
    "ballast_unit_weight = 120 * units('lbf/ft^3')\n",
    "tie_unit_weight = 150 * units('lbf/ft^3') # //TODO - is this AREMA? seems excessive\n",
    "track_unit_weight = 200 * units('lbf/ft')  # AREMA 8-2.2.3.b\n",
    "waterproofing_unit_weight = 2 * units('lbf/ft^2')      # //TODO - What's the source for this\n",
    "steel_connection_cont = .1                 # 10% of weight of steel\n",
    "asphalt_unit_weight = 150 * units('lbf/ft^3')          # //TODO - is this always needed?\n",
    "timber_unit_weight = 60 * units('lbf/ft^3')            # //TODO - Not used, assumed concrete\n",
    "\n",
    "# Girder\n",
    "girder_quantity = 2                        # //TODO - Should reference Global\n",
    "\n",
    "# Floor Beam\n",
    "floorbeam_quantity = 19\n",
    "\n",
    "# Floor Beam (End)\n",
    "end_floorbeam_quantity = 2\n",
    "\n",
    "# Diaphragm\n",
    "diaphragm_quantity = 20\n",
    "\n",
    "# Lateral Bracing\n",
    "lateral_bracing_length = 32.8024  * units('ft')\n",
    "lateral_bracing_quantity = 4               # //TODO - Verify these values (low)\n",
    "\n",
    "# Floor\n",
    "floor_quantity = 1\n",
    "\n",
    "# Diagonal Stop Plate\n",
    "dia_stop_pl_t = .5 * units('in')           # //TODO - Verify what these are\n",
    "\n",
    "# //TODO - Verify what this formula is dependent on\n",
    "dia_stop_pl_width = ((1*units('ft') + 10 * units('inch'))**2 + (1 * units.ft + (1+3/16) * units('inch')) ** 2)**.5\n",
    "dia_stop_pl_quantity = 40\n",
    "\n",
    "# Horizontal Upper FLoor Plate\n",
    "horz_upper_floor_pl_t = 0.50 * units('in')\n",
    "\n",
    "# //TODO - This formula doesn't match the description next to it (1'-1 3/16\" + 3\"), and appears to be incorrect\n",
    "horz_upper_floor_pl_width = ((1 + 10/12 + 13/16/12) + 3/12) * units('ft')\n",
    "# 1 * units('ft') + 10 * units('inch') + 3/16 * units('inch') + 3 * units('inch')\n",
    "horz_upper_floor_pl_quantity = 10\n",
    "\n",
    "# Waterproofing\n",
    "waterproofing_quant = 1\n",
    "\n",
    "# Asphaltic Plank\n",
    "asphaltic_plank_t = 1 * units('in')\n",
    "asphaltic_plank_quant = 1\n",
    "\n",
    "# Ballast Under Ties\n",
    "ballast_under_ties_t = 9 * units('in')\n",
    "ballast_under_ties_quant = 1\n",
    "\n",
    "# Ties\n",
    "tie_material = 'Concrete'\n",
    "tie_spacing = 1.5 * units('ft')\n",
    "\n",
    "# Ballast at tie level\n",
    "tie_level_ballast_quant = 1\n",
    "tie_level_ballast_sloped_reduction = 2 * units('ft^2')\n",
    "tie_level_ballast_include_pre_move_weight = False\n",
    "\n",
    "# Rail\n",
    "rail_quantity = 1\n",
    "\n",
    "# Future Ballast Allowance\n",
    "future_ballast = 12 * units('inch')  # //TODO - update to 30       # //TODO - should probably be global\n",
    "future_ballast_quantity = 1                # //TODO - are the quantity=1 needed\n",
    "\n",
    "# Floor Beam Bracket\n",
    "fb_bracket_flange_t = 0.75 * units('inch')\n",
    "fb_bracket_flange_web = 8.0 * units('inch')\n",
    "fb_bracket_flange_len = 3.33 * units('foot')\n",
    "fb_bracket_web_t = .5 * units('inch')\n",
    "fb_bracket_web_width = 1.83 * units('ft')\n",
    "fb_bracket_web_height = 2.75 * units('ft')\n",
    "fb_bracket_quantity = 12"
   ]
  },
  {
   "cell_type": "markdown",
   "id": "b0b01f3b",
   "metadata": {},
   "source": [
    "## Girder Definitions\n",
    "\n",
    "```python\n",
    "# //TODO - The following are labeled as inputs, but are dependent on other sheets\n",
    "floorbeam_spacing = 'Global'!G8\n",
    "girder_spacing = 'Global'!G9\n",
    "ballast_plate_spacing = 'Global'!G10\n",
    "structure_length = 'Global'!G14            # //TODO - Verify this in template\n",
    "F_y = 'Global'!G17\n",
    "E = 'Global'!G19\n",
    "poisson_ration = 'Global'!G20\n",
    "steel_unit_weight = 'Global'!$G$21\n",
    "railroad_gauge = 'Global'!G13\n",
    "girders = 'Global'!G24\n",
    "```"
   ]
  },
  {
   "cell_type": "code",
   "execution_count": 183,
   "id": "2b3da533",
   "metadata": {
    "tags": []
   },
   "outputs": [],
   "source": [
    "E80_50_ft = 1901.80 * units('kip*ft') # AREMA 15 - Table 1-16, Loads are for 1 rail\n",
    "E80_55_ft = 2233.10 * units('kip*ft') # //TODO - Translate Table to df\n",
    "if span_length > 30 * units('ft'):\n",
    "    impact = .35                      # AREMA 15 - Table 15-1-8 # //TODO - Copy # //TODO - labeled input, is derivative\n",
    "else:\n",
    "    pass\n",
    "\n",
    "# Girder Geometrics\n",
    "girder_web_height = 60 * units.inch\n",
    "girder_web_thickness = 0.625 * units.inch\n",
    "girder_flange_width = 20 * units.inch\n",
    "girder_flange_thickness = 1.625 * units.inch\n",
    "\n",
    "# Compression Flange Check\n",
    "L_brace = 4 * floorbeam_spacing      # //TODO - Labeled as input, but is derivative\n",
    "\n",
    "# Maxium Transverse stiffener clear distance\n",
    "trans_stiff_da = 96 * units('inch')\n",
    "trans_stiff_actual_da = 60 * units.inch\n",
    "\n",
    "stiffener_width_bst = 6 * units('in')\n",
    "stiffener_thickness_tst = 0.5 * units('in')\n",
    "\n",
    "# Bearing stiffeners\n",
    "bearing_stiffener_width_bsb = ((girder_flange_width - girder_web_thickness) / 2)   # AREMA 15- 1.7.7.a # //TODO - Labeled input, is derivative\n",
    "bearing_stiffener_thickness_tsb = 1 * units('in')\n",
    "bearing_stiffener_corner_clip = 1 * units('in')\n",
    "\n",
    "# Bearing Stiffener Weld\n",
    "bearing_stiffener_fillet_weld_leg = 0.3125 * units('in')"
   ]
  },
  {
   "cell_type": "markdown",
   "id": "b02de2e2",
   "metadata": {},
   "source": [
    "## Floor Beam Definitions\n",
    "\n",
    "```python\n",
    "# //TODO - The following are labeled as inputs, but are dependent on other values\n",
    "floorbeam_spacing = 'Global'!G8\n",
    "girder_spacing = 'Global'!G9\n",
    "ballast_plate_spacing = 'Global'!G10\n",
    "diaphragm_spacing_max = 'Global'!G12\n",
    "railroad_gauge = 'Global'!G13\n",
    "F_y = 'Global'!G17\n",
    "F_u = 'Global'!G18\n",
    "E_steel = 'Global'!G19\n",
    "\n",
    "# Dead Load\n",
    "diaphragm_name = 'Global'!$G$23\n",
    "floorbeams_w = G108 # Table looking up beam properties from 'Floor Beam Prop' sheet (Just AISC database)\n",
    "bracing_length = 'Superstructure DC'!E55/4\n",
    "bracing_weight_ft = 'Superstructure DC'!E56\n",
    "\n",
    "# Live Load\n",
    "a = G9/2 - G12/2\n",
    "```"
   ]
  },
  {
   "cell_type": "code",
   "execution_count": 184,
   "id": "b3ada249",
   "metadata": {
    "tags": []
   },
   "outputs": [],
   "source": [
    "floorbeam = W('W24x250')              # Lookup from steel table\n",
    "end_floorbeam = W('W21X166')\n",
    "diaphragm = W('W16X89')\n",
    "lateral_bracing = MC('MC10x33.6')\n",
    "\n",
    "# Dead Load\n",
    "diaphragm_weight_ft = 61 * units('lbf/ft') # AISC Lookup\n",
    "diaphragm_quant = 1                        # //TODO - Per FB?\n",
    "\n",
    "bracing_quant= 4                           # //TODO - Per FB?\n",
    "\n",
    "# Live Load                                # AREMA 15-1.3.4.2.3\n",
    "fb_A = 100 * units('kip')                     # Alternative live load axel\n",
    "fb_S = 5 * units('ft')\n",
    "fb_a = girder_spacing/2 - railroad_gage/2\n",
    "# Impact Load\n",
    "ballasted_deck_reduction = .9              # AREMA 1.3.5.b\n",
    "\n",
    "# Rocking Load\n",
    "rocking_percent = .2                       # AREMA 1.3.5.d\n",
    "\n",
    "# Wind force on Loaded Bridge\n",
    "w = 300 * units('lbf/ft')                  # AREMA 1.3.7.a\n",
    "h = 8 * units('ft')\n",
    "\n",
    "# Req Section Properties\n",
    "diaphragm_dia_hole = 1.0 * units('in')\n",
    "diaphragm_num_holes = 4\n",
    "lateral_dia_holes = 1.0 * units('in')\n",
    "lateral_num_holes = 2\n",
    "\n",
    "# End Shear\n",
    "web_conn_girder_holes_num = 6\n",
    "web_conn_girder_holes_dia = 1 * units('in')\n",
    "\n",
    "# FLoor Beam Fatigue\n",
    "assumed_mean_impact_perc = .35            # AREMA Table 15-1-8"
   ]
  },
  {
   "cell_type": "markdown",
   "id": "7c6350e2",
   "metadata": {},
   "source": [
    "## Deck Plate Definitions\n",
    "\n",
    "```python\n",
    "# //TODO - The following are labeled as inputs, but are dependent on other values\n",
    "flange_width = MIN('Abut End FLoor Beam'!G129, 'Floor Beam'!G107)\n",
    "clear_space_between_ballast_pls = 'Global'!G10\n",
    "```"
   ]
  },
  {
   "cell_type": "code",
   "execution_count": 185,
   "id": "f4b93003",
   "metadata": {
    "tags": []
   },
   "outputs": [],
   "source": [
    "deck_plate_thickness = 0.75 * units('in')\n",
    "min_ballast_below_tie = 6 * units('in')\n",
    "\n",
    "# Live Load\n",
    "axel_load = 100 * units('kips')\n",
    "\n",
    "# Impact Load\n",
    "reduction_fact = .9                        # AREMA 15.1.3.5\n",
    "\n",
    "# Rocking Effect\n",
    "wheel_load_percentage = .2\n",
    "\n",
    "# Deck Plate Design Width\n",
    "deck_plate_width = 12.00 * units('in') # //TODO - How is this defined?"
   ]
  },
  {
   "cell_type": "markdown",
   "id": "94fc4998",
   "metadata": {},
   "source": [
    "## Abut End Floor Beam Definitions\n",
    "\n",
    "```python\n",
    "# //TODO - The following are labeled as inputs, but are dependent on other values\n",
    "floorbeam_spacing ='Floor Beam-Non Bracing-Void'!G8\n",
    "flooring_on_girder = G14/2+('Global'!G16-'Global'!G14)/2\n",
    "girder_spacing = 'Floor Beam-Non Bracing-Void'!G9\n",
    "clear_space_between_ballast_plates = G16-2*I17\n",
    "diaphragm_spacing = 'Floor Beam-Non Bracing-Void'!G11\n",
    "steel_unit_weight = 'Global'!$G$21\n",
    "railroad_gauge = 'Global'!$G$13      # //TODO - Why defined twice here?\n",
    "\n",
    "# Dead Load (DL)\n",
    "floorbeam_w = G130\n",
    "diaphragm_section = 'Global'!$G$23\n",
    "end_fb_S = 5 * units('ft')\n",
    "cl_rail_cl_girder_dist = G16/2 - G24/2\n",
    "\n",
    "# Required Section Properties\n",
    "# Values are AISC Table Lookup\n",
    "\n",
    "# Bearing Stiffener\n",
    "bearing_stiffener_width = ROUNDDOWN((G129-G127)/2*4,0)/4  #AREMA 15-1.7.7.a\n",
    "```"
   ]
  },
  {
   "cell_type": "code",
   "execution_count": 186,
   "id": "5a554eb7",
   "metadata": {},
   "outputs": [],
   "source": [
    "# Geometrics\n",
    "# railroad_gage = 4+8.5/12            # //TODO - AREMA has a value, this could also be linked\n",
    "F_y = 50000 * units('psi')            # //TODO - Why different than Global?\n",
    "F_u = 650000 * units('psi')           # //TODO - Why different\n",
    "E = 29000000 * units('psi')           # //TODO - Why different\n",
    "\n",
    "# Dead Load (DL)\n",
    "diaphragm_weight_per_ft = 61 * units('lbf/ft')\n",
    "end_diaphragm_quantity = 1  # //TODO - These aren't included in the deadload calcs, only uses int floorbeam diaphragms\n",
    "\n",
    "# Live Load                                      # AREMA 15-1.3.4.2.3\n",
    "axel_alternative_live_load = 100 * units('kips') # //TODO Mirrored from above?\n",
    "\n",
    "# Impact Load\n",
    "ballasted_deck_reduction = 0.9                   # AREMA 1.3.5.b\n",
    "\n",
    "# Rocking Load\n",
    "rocking_percent = .2                          # AREMA 1.3.5.d # //TODO - Defined twice\n",
    "\n",
    "# Wind force on Loaded Bridge\n",
    "w = 300 * units('lbf/ft')                        # AREMA 1.3.7.a\n",
    "h = 8 * units('ft')\n",
    "\n",
    "# Non-Bracing/Jacking Loads\n",
    "jack_pt_offset = 3.75 * units('ft')\n",
    "\n",
    "# Holes (laterals)\n",
    "lateral_bracing_hole_dia = 1 * units('inch')\n",
    "lateral_bracing_hole_quantity = 2\n",
    "\n",
    "# Holes (Diaphragm)\n",
    "diaphragm_hole_dia = 1.0 * units('in')\n",
    "diaphragm_hole_quantity = 6\n",
    "\n",
    "# End Shear\n",
    "web_conn_girder_holes_dia = 1.00 * units('in')\n",
    "web_conn_girder_holes_quantity = 6\n",
    "\n",
    "# Floor Beam Fatigue\n",
    "assumed_mean_impact_load_percent = .35        # AREMA Table 15-1-8\n",
    "\n",
    "# Bearing Stiffeners\n",
    "bearing_stiffener_t = 1.0 * units('in')\n",
    "bearing_stiffener_corner_clip = 1.0 * units('in')\n",
    "\n",
    "# Bearing Stiffener Weld                     # AREMA 15-1.7.7.a\n",
    "bearing_stiff_weld_leg = 0.3125 * units('in')"
   ]
  },
  {
   "cell_type": "markdown",
   "id": "6e228a94",
   "metadata": {},
   "source": [
    "## Floor Beam Prop Definitions"
   ]
  },
  {
   "cell_type": "code",
   "execution_count": 187,
   "id": "51e09dde",
   "metadata": {},
   "outputs": [],
   "source": [
    "# Just a copy of AISC Shape Database"
   ]
  },
  {
   "cell_type": "markdown",
   "id": "7db29366",
   "metadata": {},
   "source": [
    "## Floor Beam-Non Bracing - Void\n",
    "\n",
    "```python\n",
    "# //TODO - The following are labeled as inputs, but are dependent on other values\n",
    "\n",
    "floorbeam_spacing_d = 'Global'!G8\n",
    "girder_spacing = 'Global'!G9\n",
    "clear_space_between_ballast_plates = 'Global'!G10\n",
    "diaphragm_spacing_max = 'Global'!G12\n",
    "railroad_gauge_g = 'Global'!G13\n",
    "F_y = 'Global'!G17\n",
    "F_u = 'Global'!G18\n",
    "E_steel = 'Global'!G19\n",
    "steel_unit_weight = 'Global'!$G$21\n",
    "\n",
    "# Live Load\n",
    "a = G9/2 - G12/2\n",
    "\n",
    "# Required Section Properties\n",
    "# Steel Table Lookups\n",
    "```"
   ]
  },
  {
   "cell_type": "code",
   "execution_count": 188,
   "id": "41b6265c",
   "metadata": {
    "tags": []
   },
   "outputs": [],
   "source": [
    "## //TODO - These Values are irrelevant right? That's why the sheet is 'Void'?\n",
    "# floorbeams = 106 * units('lbf/ft')\n",
    "# floorbeam_quantity = 1\n",
    "# floor_plate_thickness = 0.75 * units('in')\n",
    "# stop_plate_length = 4.5 * units('ft')\n",
    "# stop_plate_thickness = 0.5 * units('in')\n",
    "# stop_plate_quantity = 2\n",
    "# wp_ballast_plate_length = 4 * units('ft')\n",
    "# wp_ballast_plate_unit_weight = 2 * ('lbf/ft^2')\n",
    "# ballast_depth = 12 * units('in')\n",
    "# future_ballast_depth = 12 * units('in')\n",
    "# ballast_density = 120 * units('lbf/ft^3')    # AREMA 1.3.2 Table 15-1-5\n",
    "# track_work_w_restraining_rails = 300 * units('lbf/ft')\n",
    "# track_work_w_rest_rails_quant = 1\n",
    "# concrete_tie_length = 8 * units('ft')\n",
    "# concrete_tie_width = 8 * units('in')\n",
    "# concrete_tie_depth = 9 * units('in')\n",
    "# tie_spacing = 20 * units('in')\n",
    "# concrete_unit_weight = 150 * units('lbf/ft^3')\n",
    "# concrete_tie_clear_space = 14 * units('ft')\n",
    "\n",
    "## Live Load\n",
    "# A = 100 * units('kip')\n",
    "# S = 5 * units('ft')\n",
    "\n",
    "## Impact Load\n",
    "# ballast_deck_reduction = .9     # AREMA 1.3.5.b\n",
    "\n",
    "## Rocking Load\n",
    "# rocking_percentage = .2         # AREMA 1.3.5.d\n",
    "\n",
    "\n",
    "## Wind force on Loaded Bridge\n",
    "# w = 300 * units('lbf/ft')\n",
    "# h = 8 * units('ft')\n",
    "\n",
    "## Required Section Properties\n",
    "# lateral_bracing_hole_dia = 1.0 * units('in')\n",
    "# lateral_bracing_hole_quant = 2\n",
    "\n",
    "# diaphragm_hole_dia = 1.0 * units('in')\n",
    "# diaphragm_hole_quantity = 5\n",
    "\n",
    "## End Shear\n",
    "# web_conn_girder_hole_quantity = 6\n",
    "# web_conn_girder_hole_dia = 1 * units('in')\n",
    "\n",
    "## Bolted Connection\n",
    "# bolt_dia = 0.875 * units('in')\n",
    "# bolt_spacing = 2.75 * units('in')\n",
    "\n",
    "## Floor Beam Fatigue\n",
    "# assumed_mean_impact_load_percent = .35\n",
    "\n",
    "## Cooper E80 Load Deflection\n",
    "# A = 80 * units('kip')\n",
    "# S = 5 * units('ft')"
   ]
  },
  {
   "cell_type": "markdown",
   "id": "68e967aa",
   "metadata": {},
   "source": [
    "# Calcs"
   ]
  },
  {
   "cell_type": "markdown",
   "id": "149e04d5",
   "metadata": {},
   "source": [
    "## Global\n",
    "\n",
    "```python\n",
    "# Design is adequate check\n",
    "if girder or floorbeam_bracing or abutment_end_floorbeam or deck_plate == 'NG':\n",
    "    adequacy = 'NG'\n",
    "else:\n",
    "    adequacy = 'OK'\n",
    "```\n",
    "\n",
    "```python\n",
    "# Adequacy Checks\n",
    "girder = 'Girder'!K8\n",
    "floorbeam_bracing = 'Floor Beam'!L7\n",
    "abutment_end_floorbeam = 'Abut End Floor Beam'!L7\n",
    "deck_plate = 'Deck Plate'!M8\n",
    "```\n",
    "\n",
    "```python\n",
    "# Governing Limit States\n",
    "girder = 'Girder'!M8\n",
    "floorbeam_bracing = 'Floor Beam-Non Bracing-Void'!N7 # //TODO - V\n",
    "erify this ref\n",
    "abutment_end_floorbeam = 'Abut End Floor Beam'!N7\n",
    "deck_plate = 'Deck Plate'!O8\n",
    "```\n",
    "\n",
    "```python\n",
    "# Governing D/C Ratio\n",
    "girder = 'Girder'!L8\n",
    "floorbeam_bracing = 'Floor Beam-Non Bracing-Void'!M7 # //TODO - Verify this ref\n",
    "abutment_end_floorbeam = 'Abut End Floor Beam'!M7\n",
    "deck_plate = 'Deck Plate'!N8\n",
    "```\n",
    "\n",
    "```python\n",
    "# Section\n",
    "girder = 'Plate girder'\n",
    "floorbeam_bracing = 'Floor Beam'!G7\n",
    "abutment_end_floorbeam = 'Abut End Floor Beam'!G7\n",
    "deck_plate = ='Deck Plate'!E14 & CHAR(34) & \" Thick PL.\"\n",
    "```"
   ]
  },
  {
   "cell_type": "markdown",
   "id": "4a594244",
   "metadata": {},
   "source": [
    "## Preliminary Girder Calcs\n",
    "\n",
    "This was moved ahead of DC Calcs because later calcs depend on the results here"
   ]
  },
  {
   "cell_type": "code",
   "execution_count": 189,
   "id": "5bb1a807",
   "metadata": {},
   "outputs": [],
   "source": [
    "# Girder Geometrics\n",
    "girder_top_flange_area = girder_flange_width * girder_flange_thickness\n",
    "girder_web_area = girder_web_height * girder_web_thickness\n",
    "girder_bot_flange_area = girder_flange_width * girder_flange_thickness # //TODO - Sheet is set up so Top Flange=Bottom Flange"
   ]
  },
  {
   "cell_type": "code",
   "execution_count": 190,
   "id": "410137a5",
   "metadata": {},
   "outputs": [],
   "source": [
    "# Height values are to centroid\n",
    "girder_top_flange_centroid_height = girder_flange_thickness + girder_web_height + girder_flange_thickness / 2\n",
    "girder_web_centroid_height = girder_flange_thickness + girder_web_height / 2\n",
    "girder_bot_flange_centroid_height = girder_flange_thickness / 2"
   ]
  },
  {
   "cell_type": "code",
   "execution_count": 191,
   "id": "19b3c417",
   "metadata": {},
   "outputs": [],
   "source": [
    "# Moment of Inertia values\n",
    "girder_top_flange_I_o = (girder_flange_width * girder_flange_thickness ** 3) / 12\n",
    "girder_web_I_o = (girder_web_thickness * girder_web_height ** 3) / 12\n",
    "girder_bot_flange_I_o = (girder_flange_width * girder_flange_thickness ** 3) / 12"
   ]
  },
  {
   "cell_type": "code",
   "execution_count": 192,
   "id": "946c78c5",
   "metadata": {},
   "outputs": [],
   "source": [
    "# Table Values depend on the following two definitions\n",
    "girder_height = girder_flange_thickness + girder_web_height + girder_flange_thickness\n",
    "girder_centroid = girder_height / 2\n",
    "\n",
    "# Ay^2 Values in table\n",
    "girder_top_flange_A_y_sq = girder_top_flange_area * (girder_top_flange_centroid_height - girder_centroid) ** 2\n",
    "girder_web_A_y_sq = girder_web_area * (girder_web_centroid_height - girder_centroid) ** 2\n",
    "girder_bot_flange_A_y_sq = girder_top_flange_area * (girder_bot_flange_centroid_height - girder_centroid) ** 2\n",
    "\n",
    "# Out-of-Plane I_o\n",
    "girder_top_flange_oop_I_o = (girder_flange_thickness * girder_flange_width ** 3) / 12\n",
    "girder_web_oop_I_o = girder_web_height * girder_web_thickness ** 3 / 12\n",
    "girder_bot_flange_oop_I_o = (girder_flange_thickness * girder_flange_width ** 3) / 12"
   ]
  },
  {
   "cell_type": "code",
   "execution_count": 193,
   "id": "089064c0",
   "metadata": {},
   "outputs": [],
   "source": [
    "# Remaining Girder Section Properties\n",
    "girder_area = girder_top_flange_area + girder_web_area + girder_bot_flange_area\n",
    "girder_I_xx = girder_top_flange_I_o + girder_web_I_o + girder_bot_flange_I_o + girder_top_flange_A_y_sq + girder_web_A_y_sq + girder_bot_flange_A_y_sq\n",
    "girder_S_xx = girder_I_xx / girder_centroid\n",
    "girder_r_xx = (girder_I_xx / girder_area) ** .5\n",
    "girder_I_yy = girder_top_flange_oop_I_o + girder_web_oop_I_o + girder_bot_flange_oop_I_o\n",
    "girder_S_yy = girder_I_yy / (girder_flange_width / 2)\n",
    "girder_r_yy = (girder_I_yy / girder_area) ** .5\n",
    "girder_weight_per_ft_no_cont = (girder_area * unit_weight_steel).to('lbf/ft')\n",
    "\n",
    "# No Holes\n",
    "girder_S_x_net = girder_S_xx"
   ]
  },
  {
   "cell_type": "code",
   "execution_count": 194,
   "id": "6881d6a9",
   "metadata": {},
   "outputs": [],
   "source": [
    "## Design Summary (No Math, just reprints these values from other sections)\n",
    "#print(girder_web_height)\n",
    "#print(girder_web_thickness)\n",
    "#print(girder_flange_width)\n",
    "#print(girder_flange_thickness)\n",
    "#print(L_brace)\n",
    "#print(trans_stiff_actual_da)\n",
    "#print(stiffener_width_bst)\n",
    "#print(stiffener_thickness_tst)\n",
    "#print(bearing_stiffener_width_bsb)\n",
    "#print(bearing_stiffener_thickness_tsb)\n",
    "#print(bearing_stiffener_corner_clip)\n",
    "#print(bearing_stiff_weld_leg)"
   ]
  },
  {
   "cell_type": "markdown",
   "id": "b9af2140-f47e-4222-9331-ac4fb71e00f1",
   "metadata": {},
   "source": [
    "## Superstructure DC Calcs\n",
    "\n",
    "The following values are defined in other sheets,\n",
    "\n",
    "```python\n",
    "# Unit Weights\n",
    "unit_weight_steel = 'Global'!G21\n",
    "span_length = 'Global'!G14\n",
    "stop_plate_detail_width = 'Global'!G11\n",
    "\n",
    "# Girder\n",
    "girder_area = 'Girder'!F181\n",
    "girder_length = 'Global'!G15\n",
    "girder_unit_weight = $E$9 = 'Global'!G21\n",
    "connections = $E$14\n",
    "```\n",
    "\n",
    "Girder calcs depend on the following values, so they were entered here,"
   ]
  },
  {
   "cell_type": "code",
   "execution_count": 195,
   "id": "15ae75ad",
   "metadata": {},
   "outputs": [],
   "source": [
    "# Girder\n",
    "girder_weight_per_ft = (girder_weight_per_ft_no_cont * (1 + steel_connection_cont)).to('kip/ft')\n",
    "girder_self_load = (girder_area * girder_length * unit_weight_steel * girder_quantity * (1 + steel_connection_cont)).to('kip')"
   ]
  },
  {
   "cell_type": "code",
   "execution_count": 196,
   "id": "3cdf7011-35f1-4506-afb9-d5547a896a35",
   "metadata": {},
   "outputs": [],
   "source": [
    "# Intermediate Floorbeams\n",
    "int_floorbeam_weight = (girder_spacing * floorbeam.weight * floorbeam_quantity * (1 + steel_connection_cont)).to('kips')\n",
    "\n",
    "# End Floor Beams\n",
    "end_floorbeam_weight = (girder_spacing * end_floorbeam.weight * end_floorbeam_quantity * (1 + steel_connection_cont)).to('kips')\n",
    "\n",
    "total_floorbeam_weight = end_floorbeam_weight + int_floorbeam_weight"
   ]
  },
  {
   "cell_type": "code",
   "execution_count": 197,
   "id": "4e630101-a887-449d-8c67-e2fac71cb39f",
   "metadata": {},
   "outputs": [],
   "source": [
    "# Diaphragms\n",
    "total_diaphragm_weight = (floorbeam_spacing * diaphragm.weight * diaphragm_quantity * (1 + steel_connection_cont)).to('kips')"
   ]
  },
  {
   "cell_type": "code",
   "execution_count": 198,
   "id": "07486575-0fb5-4521-9098-2555891cde88",
   "metadata": {},
   "outputs": [],
   "source": [
    "# Lateral Bracing # //TODO - lateral bracing quantity seems low\n",
    "total_lateral_weight = (lateral_bracing_length * lateral_bracing.weight * lateral_bracing_quantity * (1 + steel_connection_cont)).to('kips')"
   ]
  },
  {
   "cell_type": "code",
   "execution_count": 199,
   "id": "0e5878c1-76cb-4fa9-99ae-fa6843c5cf19",
   "metadata": {},
   "outputs": [],
   "source": [
    "# Floor\n",
    "deck_plate_lin_weight_per_girder = (deck_plate_thickness * ballast_plates_clear_space * unit_weight_steel * (1 + steel_connection_cont) / 2).to('lbf/ft')\n",
    "floor_area_load = (deck_plate_thickness * unit_weight_steel * (1 + steel_connection_cont)).to('lbf/ft^2')\n",
    "\n",
    "total_floor_weight = (deck_plate_thickness * ballast_plates_clear_space * floor_length * unit_weight_steel * floor_quantity * (1+steel_connection_cont)).to('kip')"
   ]
  },
  {
   "cell_type": "code",
   "execution_count": 200,
   "id": "74d4c16c-31d5-4a97-912c-8c24901ca3fe",
   "metadata": {},
   "outputs": [],
   "source": [
    "# Diagonal Stop Plate # //TODO - ask about what this detail is\n",
    "dia_stop_pl_lin_w_per_girder = (dia_stop_pl_t * dia_stop_pl_width * unit_weight_steel * (1 + steel_connection_cont)).to('lbf/ft')\n",
    "dia_stop_pl_area_load = (dia_stop_pl_t * dia_stop_pl_width * unit_weight_steel * (1 + steel_connection_cont) / stop_plate_detail_width).to('lbf/ft^2')\n",
    "\n",
    "dia_stop_pl_weight = (dia_stop_pl_t * dia_stop_pl_width * floorbeam_spacing * unit_weight_steel * dia_stop_pl_quantity * (1 + steel_connection_cont)).to('kip')"
   ]
  },
  {
   "cell_type": "code",
   "execution_count": 201,
   "id": "0cd9bb7e-24d7-4f64-be94-091b8f04d49e",
   "metadata": {},
   "outputs": [],
   "source": [
    "# Horizontal Upper Floor Plate # //TODO - Ask about what this detail is\n",
    "horz_upper_fl_pl_length = 4 * floorbeam_spacing - 8 * units('in') # //TODO - is this always 8\"\n",
    "# //TODO - formula given says (1+C), which is hard coded as 10.4, figure out what this is, also width has bad math in excel\n",
    "horz_upper_fl_pl_weight_per_girder = (horz_upper_floor_pl_t * horz_upper_floor_pl_width * unit_weight_steel * (1 + steel_connection_cont) * horz_upper_fl_pl_length / (10.4 * units('ft'))).to('lbf/ft')\n",
    "horz_upper_fl_pl_area_load = (horz_upper_floor_pl_t * horz_upper_floor_pl_width * unit_weight_steel * (1 + steel_connection_cont) / stop_plate_detail_width * horz_upper_fl_pl_length / (10.4 * units('ft'))).to('lbf/ft^2')\n",
    "\n",
    "horz_upper_fl_pl_weight = (horz_upper_floor_pl_t * horz_upper_floor_pl_width * horz_upper_fl_pl_length * unit_weight_steel * horz_upper_floor_pl_quantity * (1 + steel_connection_cont)).to('kip')"
   ]
  },
  {
   "cell_type": "code",
   "execution_count": 202,
   "id": "d9374d60-05a4-41ee-9063-f09e8562bd3d",
   "metadata": {
    "tags": []
   },
   "outputs": [],
   "source": [
    "# Waterproofing\n",
    "waterproofing_width = ballast_plates_clear_space + 2 * dia_stop_pl_width\n",
    "waterproofing_length = floor_length\n",
    "waterproofing_unit_weight\n",
    "waterproofing_weight_per_girder = waterproofing_width * waterproofing_unit_weight / girder_quantity # //TODO - not ref correctly in excel\n",
    "waterproofing_area_load = waterproofing_unit_weight # //TODO - not used/needless\n",
    "waterproofing_area_load_2 = waterproofing_unit_weight * (waterproofing_width - 14 * units('ft'))/2/stop_plate_detail_width # //TODO - Values are hardcoded\n",
    "\n",
    "waterproofing_weight = (waterproofing_width * waterproofing_length * waterproofing_unit_weight * waterproofing_quant).to('kips')"
   ]
  },
  {
   "cell_type": "code",
   "execution_count": 203,
   "id": "88a5a470-fe78-46d3-b3df-adbfa4ea8e7a",
   "metadata": {},
   "outputs": [],
   "source": [
    "# Asphaltic Plank\n",
    "asp_plank_width = waterproofing_width\n",
    "asp_plank_length = floor_length\n",
    "asphalt_unit_weight\n",
    "asphaltic_plank_t\n",
    "asphaltic_plank_quant\n",
    "asp_lin_weight_per_girder = (asp_plank_width * asphaltic_plank_t * asphalt_unit_weight / girder_quantity).to('lbf/ft') # //TODO - girder quant not ref correctly in excel\n",
    "asp_plank_area_load = (asphaltic_plank_t * asphalt_unit_weight).to('lbf/ft^2') # Between stop Plates\n",
    "asp_plank_area_load_2 = (asphaltic_plank_t * asphalt_unit_weight * (asp_plank_width - 14 * units('ft'))/2/stop_plate_detail_width).to('lbf/ft^2') # //TODO - Hardcoded values\n",
    "\n",
    "asp_plank_weight = (asp_plank_width * asp_plank_length * asphalt_unit_weight * asphaltic_plank_t * asphaltic_plank_quant).to('kips')"
   ]
  },
  {
   "cell_type": "code",
   "execution_count": 204,
   "id": "6742e8a7-0167-4a20-87b9-80e6c81a345f",
   "metadata": {
    "tags": []
   },
   "outputs": [],
   "source": [
    "# Flooring linear weight per girder\n",
    "floor_weight_per_girder = asp_lin_weight_per_girder + waterproofing_weight_per_girder + horz_upper_fl_pl_weight_per_girder + dia_stop_pl_lin_w_per_girder + deck_plate_lin_weight_per_girder\n",
    "\n",
    "# Flooring Load on FBs between stop plates and deck plate\n",
    "floor_load_on_fbs = (asp_plank_area_load + waterproofing_area_load + floor_area_load).to('lbf/ft^2')\n",
    "\n",
    "# Flooring Load on FBs over stop plates\n",
    "floor_load_over_stop_plates = asp_plank_area_load_2 + waterproofing_area_load_2 + horz_upper_fl_pl_area_load + dia_stop_pl_area_load"
   ]
  },
  {
   "cell_type": "code",
   "execution_count": 205,
   "id": "eb6d5b7a-ec78-40ff-89c4-2e2b345c3a61",
   "metadata": {
    "tags": []
   },
   "outputs": [],
   "source": [
    "# Ballast Under Ties\n",
    "ballast_under_ties_width = (ballast_plates_clear_space + 9/12 * ballast_under_ties_t * 2 /2).to('ft') # //TODO - What is the 9/12?\n",
    "ballast_under_ties_length = floor_length\n",
    "ballast_unit_weight\n",
    "ballast_volume = (ballast_under_ties_width * ballast_under_ties_t * ballast_under_ties_length).to('ft^3')\n",
    "ballast_area_load = (ballast_under_ties_t * ballast_under_ties_width * ballast_unit_weight / ballast_plates_clear_space).to('lbf/ft^2')\n",
    "ballast_area_load_2 = (ballast_under_ties_t * ballast_unit_weight).to('lbf/ft^2')\n",
    "\n",
    "ballast_weight = (ballast_under_ties_t * ballast_under_ties_width * ballast_under_ties_length * ballast_unit_weight * ballast_under_ties_quant).to('kips')"
   ]
  },
  {
   "cell_type": "code",
   "execution_count": 206,
   "id": "d70e32d1-5928-4f1f-aeed-b8d791b853b3",
   "metadata": {
    "tags": []
   },
   "outputs": [],
   "source": [
    "# Ties\n",
    "tie_depth\n",
    "tie_width\n",
    "tie_length\n",
    "tie_unit_weight\n",
    "tie_spacing\n",
    "floor_length\n",
    "tie_quantity = floor_length / tie_spacing\n",
    "tie_volume = tie_depth * tie_width * tie_length * tie_quantity\n",
    "tie_vol_per_ft = (tie_depth * tie_width * tie_length / tie_spacing).to('ft^3/ft')\n",
    "tie_area_load = (tie_depth * tie_width * tie_length * tie_unit_weight * 1 / tie_spacing / ballast_plates_clear_space).to('lbf / ft^2')\n",
    "tie_area_load_2 = (tie_depth * tie_width * tie_length * tie_unit_weight * 1 / tie_spacing / tie_length).to('lbf/ft^2')\n",
    "\n",
    "tie_weight = (tie_depth * tie_width * tie_length * tie_unit_weight * tie_quantity).to('kips')"
   ]
  },
  {
   "cell_type": "code",
   "execution_count": 207,
   "id": "fe9f6f33-629c-4e19-9e08-24f0717b8168",
   "metadata": {
    "tags": []
   },
   "outputs": [],
   "source": [
    "# Ballast at Tie Level\n",
    "ballast_tie_lvl_t = tie_depth\n",
    "ballast_tie_lvl_width = ballast_under_ties_width + 9/12 * ballast_tie_lvl_t\n",
    "ballast_tie_level_length = ballast_under_ties_length\n",
    "ballast_unit_weight\n",
    "tie_volume\n",
    "ballast_tie_lvl_vol = ((ballast_tie_lvl_t * ballast_tie_lvl_width - tie_level_ballast_sloped_reduction) * ballast_tie_level_length - tie_volume).to('ft^3')\n",
    "ballast_tie_lvl_area_load = ((ballast_tie_lvl_t * ballast_tie_lvl_width - tie_vol_per_ft - tie_level_ballast_sloped_reduction) * ballast_unit_weight / ballast_plates_clear_space).to('lbf/ft^2')\n",
    "ballast_tie_lvl_area_load_2 = (ballast_tie_lvl_t * ballast_unit_weight * (1 - (tie_width / tie_spacing))).to('lbf/ft^2')\n",
    "\n",
    "ballast_tie_lvl_subtotal = (ballast_tie_lvl_t * ballast_tie_lvl_width - tie_level_ballast_sloped_reduction).to('ft^2')\n",
    "\n",
    "ballast_tie_level_weight = (((ballast_tie_lvl_t * ballast_tie_lvl_width - tie_level_ballast_sloped_reduction) * ballast_tie_level_length - tie_volume) * ballast_unit_weight * tie_level_ballast_quant).to('kip')"
   ]
  },
  {
   "cell_type": "code",
   "execution_count": 208,
   "id": "09c14e5e-a6b9-46b9-a215-fc76b5664416",
   "metadata": {
    "tags": []
   },
   "outputs": [],
   "source": [
    "# Rail\n",
    "track_unit_weight\n",
    "floor_length\n",
    "rail_quantity\n",
    "rail_area_load = track_unit_weight / ballast_plates_clear_space\n",
    "rail_area_load_2 = 25 * units('lbf/ft^2') # (track_unit_weight / tie_length).to('lbf/ft^2') # //TODO - Don't think this is calculating correctly replaced tie width w/ tie length to be closer to reported value\n",
    "\n",
    "rail_weight = (track_unit_weight * floor_length * rail_quantity).to('kip')"
   ]
  },
  {
   "cell_type": "code",
   "execution_count": 209,
   "id": "0d540f44-c501-4c94-accb-931deda573f6",
   "metadata": {
    "tags": []
   },
   "outputs": [],
   "source": [
    "# Future ballast Allowance\n",
    "future_ballast\n",
    "future_ballast_width = ballast_plates_clear_space + 9/12 * (ballast_under_ties_t + future_ballast)\n",
    "ballast_tie_level_length\n",
    "ballast_unit_weight\n",
    "future_ballast_quantity\n",
    "future_ballast_vol = (future_ballast * future_ballast_width * ballast_tie_level_length).to('ft^3')\n",
    "future_ballast_area_load = (future_ballast * future_ballast_width * ballast_unit_weight / ballast_plates_clear_space).to('lbf/ft^2')\n",
    "future_ballast_area_load_2 = (future_ballast * ballast_unit_weight).to('lbf/ft^2')\n",
    "\n",
    "future_ballast_weight = (future_ballast_vol * ballast_unit_weight * future_ballast_quantity).to('kip')\n",
    "\n",
    "# Summary Calcs\n",
    "track_weight_per_girder = (ballast_weight + tie_weight + ballast_tie_level_weight + rail_weight + future_ballast_weight) / ballast_tie_level_length\n",
    "track_area_load_on_fbs = sum([ballast_area_load, tie_area_load, ballast_tie_lvl_area_load, rail_area_load, future_ballast_area_load])\n",
    "track_assembly_load_on_deck_plate = sum([ballast_area_load_2, tie_area_load_2, ballast_tie_lvl_area_load_2, rail_area_load_2, future_ballast_area_load_2]).to('lbf/ft^2')"
   ]
  },
  {
   "cell_type": "code",
   "execution_count": 210,
   "id": "44fd6194-6fa0-46ae-a22c-8df0328be719",
   "metadata": {
    "tags": []
   },
   "outputs": [],
   "source": [
    "# Floorbeam bracket\n",
    "fb_bracket_flange_t\n",
    "fb_bracket_flange_web\n",
    "fb_bracket_flange_len\n",
    "fb_bracket_web_t\n",
    "fb_bracket_web_width\n",
    "fb_bracket_web_height\n",
    "fb_bracket_quantity\n",
    "fb_bracket_vol = (fb_bracket_flange_t * fb_bracket_flange_web * fb_bracket_flange_len + fb_bracket_web_t * fb_bracket_web_width * fb_bracket_web_height).to('ft^3')\n",
    "unit_weight_steel\n",
    "\n",
    "floorbeam_bracket_weight = ((fb_bracket_vol * unit_weight_steel * fb_bracket_quantity) * (1 + steel_connection_cont)).to('kip')"
   ]
  },
  {
   "cell_type": "code",
   "execution_count": 211,
   "id": "8f471352-21ee-470e-a495-ff62b6a9ea94",
   "metadata": {
    "tags": []
   },
   "outputs": [],
   "source": [
    "list_of_dead_load_factors = [\n",
    "    floorbeam_bracket_weight,\n",
    "    future_ballast_weight,\n",
    "    rail_weight,\n",
    "    ballast_tie_level_weight,\n",
    "    tie_weight,\n",
    "    ballast_weight,\n",
    "    asp_plank_weight,\n",
    "    waterproofing_weight,\n",
    "    horz_upper_fl_pl_weight,\n",
    "    dia_stop_pl_weight,\n",
    "    total_floor_weight,\n",
    "    total_lateral_weight,\n",
    "    total_diaphragm_weight,\n",
    "    total_floorbeam_weight,\n",
    "    girder_self_load\n",
    "]   "
   ]
  },
  {
   "cell_type": "code",
   "execution_count": 212,
   "id": "29029b2a-2d4e-42b1-a650-451ca85459ce",
   "metadata": {
    "tags": []
   },
   "outputs": [],
   "source": [
    "lifting_dead_load_factors = [\n",
    "    floorbeam_bracket_weight,\n",
    "    rail_weight,\n",
    "    tie_weight,\n",
    "    ballast_weight,  # //TODO - Shouldn't this not be included here?\n",
    "    asp_plank_weight,\n",
    "    waterproofing_weight,\n",
    "    horz_upper_fl_pl_weight,\n",
    "    dia_stop_pl_weight,\n",
    "    total_floor_weight,\n",
    "    total_lateral_weight,\n",
    "    total_diaphragm_weight,\n",
    "    total_floorbeam_weight,\n",
    "    girder_self_load\n",
    "]"
   ]
  },
  {
   "cell_type": "code",
   "execution_count": 213,
   "id": "042bd435-93c0-4fee-aeca-3b41463e617c",
   "metadata": {
    "tags": []
   },
   "outputs": [],
   "source": [
    "total_dead_load = sum(list_of_dead_load_factors)"
   ]
  },
  {
   "cell_type": "code",
   "execution_count": 214,
   "id": "3dcfbcfe-54eb-400b-a793-c63636181380",
   "metadata": {
    "tags": []
   },
   "outputs": [],
   "source": [
    "total_dead_load_lifting = sum(lifting_dead_load_factors)"
   ]
  },
  {
   "cell_type": "code",
   "execution_count": 215,
   "id": "a48e1d2e-8eda-4dba-8f58-587b644a2be7",
   "metadata": {
    "tags": []
   },
   "outputs": [
    {
     "data": {
      "text/html": [
       "4.450551053178248 kip/foot"
      ],
      "text/latex": [
       "$4.450551053178248\\ \\frac{\\mathrm{kip}}{\\mathrm{foot}}$"
      ],
      "text/plain": [
       "4.450551053178248 <Unit('kip / foot')>"
      ]
     },
     "execution_count": 215,
     "metadata": {},
     "output_type": "execute_result"
    }
   ],
   "source": [
    "distributed_load = total_dead_load / span_length / girder_quantity  # //TODO - Girders hardcoded in excel sheet\n",
    "distributed_load"
   ]
  },
  {
   "cell_type": "markdown",
   "id": "d4bbffa0-7cc8-480a-b691-0b499f77c240",
   "metadata": {},
   "source": [
    "## Remaining Girder Calcs/Checks"
   ]
  },
  {
   "cell_type": "code",
   "execution_count": 216,
   "id": "ebc6f668-4418-407e-a037-d705a587386b",
   "metadata": {
    "tags": []
   },
   "outputs": [],
   "source": [
    "floorbeam_load_on_girder = total_floorbeam_weight / girder_quantity / span_length\n",
    "diaphragm_load_on_girder = total_diaphragm_weight / girder_quantity / span_length"
   ]
  },
  {
   "cell_type": "code",
   "execution_count": 217,
   "id": "9f47a373-6d89-46e2-8fee-070bbf22680f",
   "metadata": {
    "tags": []
   },
   "outputs": [],
   "source": [
    "# Floor System\n",
    "floor_weight_per_girder\n",
    "total_lateral_weight\n",
    "girder_quantity\n",
    "span_length\n",
    "\n",
    "lat_bracing_load_on_girder = total_lateral_weight / girder_quantity / span_length"
   ]
  },
  {
   "cell_type": "code",
   "execution_count": 218,
   "id": "b9c3fbe3-bb2e-4bcc-8329-970807f90c4b",
   "metadata": {
    "tags": []
   },
   "outputs": [],
   "source": [
    "track_assembly = track_weight_per_girder\n",
    "total_dl_over_total_length = sum([girder_weight_per_ft, floorbeam_load_on_girder, diaphragm_load_on_girder, floor_weight_per_girder, lat_bracing_load_on_girder, track_assembly])\n",
    "\n",
    "w = total_dl_over_total_length\n",
    "L = span_length\n",
    "\n",
    "M_dl = (w * L ** 2 / 8).to('kips*ft')"
   ]
  },
  {
   "cell_type": "code",
   "execution_count": 219,
   "id": "834a0b58",
   "metadata": {
    "tags": []
   },
   "outputs": [],
   "source": [
    "span_live_load = (E80_55_ft - E80_50_ft) / (55 * units.ft - 50 * units.ft) * (span_length - 50 * units.ft) + E80_50_ft # //TODO - Values are hardcoded\n",
    "M_ll = span_live_load"
   ]
  },
  {
   "cell_type": "code",
   "execution_count": 220,
   "id": "4e9b83a9",
   "metadata": {
    "tags": []
   },
   "outputs": [],
   "source": [
    "# Impact Load      AREMA 15.1.3.5.d\n",
    "impact_percent = (40 - 3 * span_length ** 2 / (1600 * units('ft^2'))) / 100 # //TODO - Hardcoded Values, make sure they match AREMA Formula\n",
    "\n",
    "M_i = (M_ll * ballasted_deck_reduction * impact_percent) # //TODO - Dimensionality off, /100 should adjustment probably be in the percentage calc"
   ]
  },
  {
   "cell_type": "code",
   "execution_count": 221,
   "id": "c03cbdb5-0072-4bb5-b2f8-e80c9c3a1b55",
   "metadata": {
    "tags": []
   },
   "outputs": [],
   "source": [
    "# Rocking Effect    AREMA 15.1.3.5.d\n",
    "eqiv_uniform_live_load = 8 * M_ll / span_length ** 2\n",
    "\n",
    "P = eqiv_uniform_live_load * rocking_percent\n",
    "\n",
    "a = (girder_spacing-railroad_gage)/2\n",
    "\n",
    "load_on_girder_rocking = P * (1 - 2 * a / girder_spacing)\n",
    "\n",
    "M_re = load_on_girder_rocking * L ** 2 / 8"
   ]
  },
  {
   "cell_type": "code",
   "execution_count": 222,
   "id": "4a58daec-1c9d-410c-89d9-777e951b70e2",
   "metadata": {
    "tags": []
   },
   "outputs": [],
   "source": [
    "# Centrifugal Force    AREMA 15-1.3.6\n",
    "design_speed = 35 * units('miles/hour')      # //TODO - Hardcoded Values, should be inputs\n",
    "curve_radius = 2000 * units('ft')            # //TODO - Hardcoded Values, should be inputs\n",
    "deg_curve = 2*math.atan(100/(2*curve_radius.magnitude)) * units('rad')  # //TODO - Find a better way to handle units\n",
    "centrifugal_percentage = (0.00117 * design_speed ** (2 * deg_curve))"
   ]
  },
  {
   "cell_type": "code",
   "execution_count": 223,
   "id": "c8d4b3d7-5f9f-45c2-b363-08f01a6b62f6",
   "metadata": {
    "tags": []
   },
   "outputs": [],
   "source": [
    "# Longitudinal Force not considered"
   ]
  },
  {
   "cell_type": "code",
   "execution_count": 224,
   "id": "60b97de6",
   "metadata": {
    "tags": []
   },
   "outputs": [],
   "source": [
    "# Wind Load    # AREMA 15-1.3.7\n",
    "wind_load_8_ft_offset = 300 * units('lbf/ft')\n",
    "P = 8 * units('ft') * wind_load_8_ft_offset / railroad_gage\n",
    "a = (girder_spacing-railroad_gage) / 2\n",
    "\n",
    "girder_reaction_from_wind = (P * (1 - 2 * a / girder_spacing)).to('kip/ft')\n",
    "\n",
    "V_wind = girder_reaction_from_wind * span_length / 2\n",
    "M_wind = girder_reaction_from_wind * span_length ** 2 / 8"
   ]
  },
  {
   "cell_type": "code",
   "execution_count": 225,
   "id": "1c647eae",
   "metadata": {
    "tags": []
   },
   "outputs": [],
   "source": [
    "# Total Moment\n",
    "M_dl\n",
    "M_ll\n",
    "M_i\n",
    "M_re\n",
    "M_wind\n",
    "\n",
    "# Case 1 = M_dl + M_ll + M_i + M_re\n",
    "case_1 = sum([M_dl, M_ll, M_i, M_re])\n",
    "\n",
    "# Case 2 = (M_dl + M_ll + M_i + M_wind) / 1.25\n",
    "case_2 = sum([M_dl, M_ll, M_i, M_wind]) / 1.25\n",
    "\n",
    "M_tot = max(case_1, case_2)"
   ]
  },
  {
   "cell_type": "code",
   "execution_count": 226,
   "id": "8ec113e5-123a-4795-8981-e1bc34cd543b",
   "metadata": {
    "tags": []
   },
   "outputs": [],
   "source": [
    "# Req. Section Modulus\n",
    "F_b = (0.55 * F_y).to('kips/in^2')\n",
    "S_req_moment = (M_tot / F_b).to('in^3')"
   ]
  },
  {
   "cell_type": "code",
   "execution_count": 227,
   "id": "72417aac-a126-4318-b732-5d5de5d9b049",
   "metadata": {
    "tags": []
   },
   "outputs": [],
   "source": [
    "# Fatigue Section Required\n",
    "impact_percent          # AREMA 15 - Table 15-1-7, Table 15-1-8\n",
    "M_if = M_i * impact_percent\n",
    "M_f = M_ll + M_if\n",
    "\n",
    "F_b_fat = 16 * units('ksi') # AREMA 15 - Table 15-1-10\n",
    "\n",
    "S_req_fat = (M_f / F_b_fat).to('in^3')"
   ]
  },
  {
   "cell_type": "code",
   "execution_count": 228,
   "id": "f0f4b6dd-d5d1-4a00-96d3-53c7499fb6a0",
   "metadata": {
    "tags": []
   },
   "outputs": [],
   "source": [
    "# Required Section Modulus\n",
    "S_req = max(S_req_moment, S_req_fat)"
   ]
  },
  {
   "cell_type": "code",
   "execution_count": 229,
   "id": "fda16fbb-1ff8-40f9-a2e2-1fd9c2fd07e1",
   "metadata": {
    "tags": []
   },
   "outputs": [],
   "source": [
    "# Deflection requirements for member sizing\n",
    "delta_max = (span_length / 640).to('inch')      # AREMA 15-1.2.5b\n",
    "\n",
    "M_ll\n",
    "M_i\n",
    "M_ll_and_M_i = M_ll + M_i\n",
    "\n",
    "w_deflection = (M_ll_and_M_i * 8 / span_length ** 2).to('kip/in')\n",
    "\n",
    "I_x_req = (5 * w_deflection * span_length ** 4 / (384 * E_steel * delta_max)).to('in^4')"
   ]
  },
  {
   "cell_type": "code",
   "execution_count": 230,
   "id": "54553f34-f4d7-4c42-aa75-3d969e8f5bcf",
   "metadata": {
    "tags": []
   },
   "outputs": [
    {
     "name": "stdout",
     "output_type": "stream",
     "text": [
      "OK\n"
     ]
    }
   ],
   "source": [
    "# Compression Flange Check\n",
    "(L_brace / girder_r_yy).to('in/in')\n",
    "E / F_y\n",
    "\n",
    "5.55 * (E / F_y) ** .5\n",
    "\n",
    "# Flange Compression Check\n",
    "if (L_brace / girder_r_yy) <= 5.55 * (E / F_y) ** .5:\n",
    "    print(colored('OK', 'green'))\n",
    "else:\n",
    "    print(colored('No Good - Compression Flange Check Failed', 'red'))"
   ]
  },
  {
   "cell_type": "code",
   "execution_count": 231,
   "id": "1291e3d3-14de-4d2b-b88b-79792132016e",
   "metadata": {
    "tags": []
   },
   "outputs": [
    {
     "name": "stdout",
     "output_type": "stream",
     "text": [
      "OK\n",
      "OK\n"
     ]
    }
   ],
   "source": [
    "# Web Thickness     AREMA 15-1.7.3\n",
    "girder_web_thickness\n",
    "girder_web_height\n",
    "F_y / E\n",
    "0.18 * (F_y / E) ** .5 * girder_web_height\n",
    "\n",
    "# Web Thickness Check 1\n",
    "if girder_web_thickness >= 0.18 * (F_y / E) ** .5 * girder_web_height:\n",
    "    print(colored('OK', 'green'))\n",
    "else:\n",
    "    print(colored('No Good - Web Compression Check Failed', 'red'))\n",
    "\n",
    "girder_flange_thickness / 6\n",
    "\n",
    "# Web Thickness Check 2\n",
    "if girder_web_thickness >= girder_flange_thickness / 6:\n",
    "    print(colored('OK', 'green'))\n",
    "else:\n",
    "    print(colored('No Good - Web Compression Check Failed', 'red'))"
   ]
  },
  {
   "cell_type": "code",
   "execution_count": 232,
   "id": "7a2fedea-3225-43ac-8ebe-cb4064340297",
   "metadata": {
    "tags": []
   },
   "outputs": [
    {
     "name": "stdout",
     "output_type": "stream",
     "text": [
      "OK\n"
     ]
    }
   ],
   "source": [
    "# Outstanding Elements in Compression (AREMA 15-1.6.2)\n",
    "girder_flange_width / 2\n",
    "\n",
    "0.43 * girder_flange_thickness * (E / F_y) ** .5\n",
    "\n",
    "girder_flange_thickness # //TODO - Not used in excel sheet\n",
    "\n",
    "# Flange_compression\n",
    "if girder_flange_width / 2 <= 0.43 * girder_flange_thickness * (E / F_y) ** .5:\n",
    "    print(colored('OK', 'green'))\n",
    "else:\n",
    "    print(colored('No Good - Compression Flange Check Failed', 'red'))"
   ]
  },
  {
   "cell_type": "code",
   "execution_count": 233,
   "id": "dc93f62e-fcb4-4fb9-90fd-d2e271ca410a",
   "metadata": {
    "tags": []
   },
   "outputs": [],
   "source": [
    "# Allowable Stress\n",
    "F_b_ten = 0.55 * F_y # AREMA Table 15-1-12\n",
    "comp_value_1 = 0.55 * F_y - ((0.55 * F_y ** 2) / (6.3 * math.pi ** 2 * E_steel)) * (L_brace / girder_r_yy) ** 2\n",
    "\n",
    "girder_depth = girder_web_height + 2 * girder_flange_thickness\n",
    "girder_flange_area = girder_flange_width * girder_flange_thickness\n",
    "\n",
    "comp_value_2 = ((0.131 * math.pi * E_steel) / ((L_brace * girder_depth * (1 + poisson_ratio) ** .5) / girder_flange_area)).to('psi')\n",
    "\n",
    "comp_value_3 = 0.55 * F_y\n",
    "\n",
    "F_b_comp = min(comp_value_3, max(comp_value_2, comp_value_1))"
   ]
  },
  {
   "cell_type": "code",
   "execution_count": 234,
   "id": "97b44f1f-29f0-497f-b215-998a07373e66",
   "metadata": {
    "tags": []
   },
   "outputs": [
    {
     "name": "stdout",
     "output_type": "stream",
     "text": [
      "OK, Stress Ratio: 0.9225909060826183 force_pound / inch ** 2 / pound_force_per_square_inch\n"
     ]
    }
   ],
   "source": [
    "# Stress in Extreme fibers of Girder\n",
    "M_tot\n",
    "girder_S_xx\n",
    "F_b_comp_act = (M_tot / girder_S_xx).to('lbf/in^2')\n",
    "\n",
    "# Bending Check\n",
    "if F_b_comp_act <= F_b_comp:\n",
    "    print(colored(f'OK, Stress Ratio: {F_b_comp_act/F_b_comp}', 'green'))\n",
    "else:\n",
    "    print(colored('No Good - Girder Bending Check Failed', 'red'))"
   ]
  },
  {
   "cell_type": "code",
   "execution_count": 235,
   "id": "318093a3-e415-428d-9a33-b9dd4c6d08e6",
   "metadata": {
    "tags": []
   },
   "outputs": [
    {
     "name": "stdout",
     "output_type": "stream",
     "text": [
      "OK, Stress Ratio: 0.9225909060826186 dimensionless\n"
     ]
    }
   ],
   "source": [
    "F_b_ten_act = (M_tot / girder_S_xx).to('psi')\n",
    "F_b_ten\n",
    "\n",
    "# Bending Check\n",
    "if F_b_ten_act <= F_b_ten:\n",
    "    print(colored(f'OK, Stress Ratio: {F_b_ten_act/F_b_ten}', 'green'))\n",
    "else:\n",
    "    print(colored('No Good - Girder Bending Check Failed', 'red'))"
   ]
  },
  {
   "cell_type": "code",
   "execution_count": 57,
   "id": "603edfca-87c3-4821-8d92-df1ad7d08c57",
   "metadata": {
    "tags": []
   },
   "outputs": [
    {
     "name": "stdout",
     "output_type": "stream",
     "text": [
      "OK, Stress Ratio: 0.73380327114963 dimensionless\n"
     ]
    }
   ],
   "source": [
    "# Fatigue (AREMA 15-1.3.13)\n",
    "M_f\n",
    "girder_S_xx\n",
    "S_r_fat_actual = (M_f / girder_S_xx).to('psi')\n",
    "\n",
    "S_r_fat = F_b_fat.to('psi')\n",
    "\n",
    "# Bending Fatigue\n",
    "if S_r_fat_actual <= S_r_fat:\n",
    "    print(colored(f'OK, Stress Ratio: {S_r_fat_actual/S_r_fat}', 'green'))\n",
    "else:\n",
    "    print(colored('No Good - Girder Bending Fatigue Check Failed', 'red'))"
   ]
  },
  {
   "cell_type": "code",
   "execution_count": 58,
   "id": "12506450-0cc4-4810-bef1-634d8cf37917",
   "metadata": {
    "tags": []
   },
   "outputs": [
    {
     "data": {
      "text/html": [
       "16 kip_per_square_inch"
      ],
      "text/latex": [
       "$16\\ \\mathrm{kip\\_per\\_square\\_inch}$"
      ],
      "text/plain": [
       "16 <Unit('kip_per_square_inch')>"
      ]
     },
     "execution_count": 58,
     "metadata": {},
     "output_type": "execute_result"
    }
   ],
   "source": [
    "F_b_fat"
   ]
  },
  {
   "cell_type": "code",
   "execution_count": 59,
   "id": "8c7690b2-74c7-49a0-9fc0-92dd8f747b2d",
   "metadata": {
    "tags": []
   },
   "outputs": [
    {
     "name": "stdout",
     "output_type": "stream",
     "text": [
      "OK, Ratio: 0.6307157084746534 dimensionless\n"
     ]
    }
   ],
   "source": [
    "# Deflection AREMA 15-1.2.5\n",
    "delta_max\n",
    "M_ll\n",
    "M_i\n",
    "\n",
    "w = ((M_ll + M_i) / (span_length ** 2) * 8)\n",
    "E_steel\n",
    "girder_I_xx\n",
    "\n",
    "delta_total = ((5 * w * (span_length ** 4)) / (384 * E_steel * girder_I_xx)).to('in')\n",
    "\n",
    "# Deflection # //TODO - Not sure the ratio matters as much for this one\n",
    "if delta_total <= delta_max:\n",
    "    print(colored(f'OK, Ratio: {delta_total/delta_max}', 'green'))\n",
    "else:\n",
    "    print(colored('No Good - Deflection Check Failed', 'red'))"
   ]
  },
  {
   "cell_type": "code",
   "execution_count": 60,
   "id": "2d697147-bce8-4712-a907-da3d89710177",
   "metadata": {
    "tags": []
   },
   "outputs": [],
   "source": [
    "# Dead Load Camber\n",
    "w_dl = total_dl_over_total_length.to('kip/in')\n",
    "delta_dl = (delta_total * w_dl / w).to('in')"
   ]
  },
  {
   "cell_type": "code",
   "execution_count": 61,
   "id": "95293175-d676-4ee3-8e5e-544d5c5e0539",
   "metadata": {
    "tags": []
   },
   "outputs": [
    {
     "name": "stdout",
     "output_type": "stream",
     "text": [
      "OK, Stress Ratio: 0.6164890919227507 dimensionless\n"
     ]
    }
   ],
   "source": [
    "# Web Shear\n",
    "V_dl = (w_dl * span_length / 2).to('kip')\n",
    "\n",
    "# Shear from AREMA 15 Table 1-16\n",
    "shear_50_ft = 174.4 * units('kips')\n",
    "shear_55_ft = 185.31 * units('kips')\n",
    "V_ll = (shear_55_ft - shear_50_ft) / (55 * units('ft') - 50 * units('ft')) * (span_length - 50 * units('ft')) + shear_50_ft\n",
    "\n",
    "impact_percent\n",
    "\n",
    "V_imp = 0.9 * V_ll * impact_percent     # AREMA 15-1.3.5.b\n",
    "\n",
    "R1_rocking_force = load_on_girder_rocking\n",
    "V_re = R1_rocking_force * L / 2\n",
    "V_wind\n",
    "\n",
    "V_tot = V_dl + V_ll + V_re + V_imp\n",
    "\n",
    "F_r = V_tot / (girder_web_height * girder_web_thickness)\n",
    "\n",
    "F_v = (0.35 * F_y).to('kips/in^2')\n",
    "\n",
    "# Web Shear AREMA Table 15-1-12 check # //TODO - This Check isn't comparing like units in the excel sheet?, think it should be as follows,\n",
    "if F_r <= F_v:\n",
    "    print(colored(f'OK, Stress Ratio: {F_r/F_v}', 'green'))\n",
    "else:\n",
    "    print(colored('No Good - Web Shear Check Failed', 'red'))"
   ]
  },
  {
   "cell_type": "code",
   "execution_count": 62,
   "id": "ce0502fb-0150-4148-adef-9f02834d7ceb",
   "metadata": {
    "tags": []
   },
   "outputs": [
    {
     "name": "stdout",
     "output_type": "stream",
     "text": [
      "OK, Stress Ratio: 0.5075830449480359 dimensionless\n"
     ]
    }
   ],
   "source": [
    "# Allowable Stress on welds\n",
    "F_v\n",
    "V_tot\n",
    "Q = girder_flange_width * girder_flange_thickness * (girder_web_height / 2 + girder_flange_thickness / 2)\n",
    "F_r = V_tot * Q / (girder_I_xx * girder_web_thickness)\n",
    "\n",
    "# Weld Strength\n",
    "if F_r <= F_v:\n",
    "    print(colored(f'OK, Stress Ratio: {F_r/F_v}', 'green'))\n",
    "else:\n",
    "    print(colored('No Good - Weld Strength Check Failed', 'red'))"
   ]
  },
  {
   "cell_type": "code",
   "execution_count": 63,
   "id": "2964ccd5-7706-4ff2-ad2c-4d52e13f54e6",
   "metadata": {
    "tags": []
   },
   "outputs": [
    {
     "name": "stdout",
     "output_type": "stream",
     "text": [
      "Transverse Stiffeners Required\n",
      "OK\n",
      "OK\n",
      "OK\n"
     ]
    }
   ],
   "source": [
    "# Web plate stiffeners\n",
    "girder_web_height\n",
    "trans_stiff_check = (2.12 * (E_steel / F_y) ** .5 * girder_web_thickness) # AREMA 15-1.7.8.a\n",
    "\n",
    "# Transverse stiffener check\n",
    "if trans_stiff_check <= girder_web_height:\n",
    "    print(colored('Transverse Stiffeners Required', 'red'))\n",
    "else:\n",
    "    print(colored('Transverse Stiffeners NOT Required', 'green'))\n",
    "\n",
    "\n",
    "# //TODO - Look into this value, it's not used \n",
    "clear_dist_to_prev_web_shear_buck = 1.95 * (E_steel * girder_S_xx) ** .5\n",
    "\n",
    "Q = girder_flange_width * girder_flange_thickness * (girder_web_height + girder_flange_thickness) / 2 + girder_web_height * girder_web_thickness / 2 * girder_web_height / 4\n",
    "\n",
    "V_tot\n",
    "girder_I_xx\n",
    "girder_web_thickness\n",
    "S = f_v = V_tot * Q / (girder_I_xx * girder_web_thickness)\n",
    "\n",
    "d = 1.95 * girder_web_thickness * (E_steel / S) ** .5\n",
    "\n",
    "max_clear_dist = min([d, trans_stiff_da, girder_web_height])\n",
    "\n",
    "# Weld Strength\n",
    "if trans_stiff_actual_da <= max_clear_dist or girder_web_height <= trans_stiff_check:\n",
    "    print(colored('OK', 'green'))\n",
    "else:\n",
    "    print(colored('No Good - Stiffener Spacing Check Failed', 'red'))\n",
    "\n",
    "D_d = max(1, min(5, girder_web_height / d))\n",
    "\n",
    "# Required Moment of inertia (Stiffener) AREMA 15-1.7.8.a\n",
    "stiff_I_xx_req = 2.5 * trans_stiff_actual_da * girder_web_thickness ** 3 * (D_d ** 2 - 0.7)\n",
    "\n",
    "stiff_I_xx_act = stiffener_thickness_tst * stiffener_width_bst ** 3 / 12 + stiffener_thickness_tst * stiffener_width_bst * (girder_web_thickness / 2 + stiffener_width_bst / 2) ** 2\n",
    "\n",
    "# Stiffener I_xx Check\n",
    "if stiff_I_xx_act >= stiff_I_xx_req or girder_web_height <= trans_stiff_check:\n",
    "    print(colored('OK', 'green'))\n",
    "else:\n",
    "    print(colored('No Good - Stiffener Spacing Check Failed', 'red'))\n",
    "\n",
    "# Max Stiffener Width AREMA 15-1.7.8.b\n",
    "max_stiff_width = 16 * stiffener_thickness_tst\n",
    "min_stiff_width = 2 * units('in') + girder_height / (30)\n",
    "\n",
    "stiff_t_check_1 = stiffener_width_bst <= max_stiff_width and stiffener_width_bst >= min_stiff_width\n",
    "stiff_t_check_2 = girder_web_height <= trans_stiff_check\n",
    "\n",
    "# Stiffener Thickness Check\n",
    "if stiff_t_check_1 or stiff_t_check_2:\n",
    "    print(colored('OK', 'green'))\n",
    "else:\n",
    "    print(colored('No Good - Stiffener Thickness Check Failed', 'red'))"
   ]
  },
  {
   "cell_type": "code",
   "execution_count": 64,
   "id": "327f01e3-0dd6-490a-b26a-e41fb470eb0a",
   "metadata": {
    "tags": []
   },
   "outputs": [
    {
     "name": "stdout",
     "output_type": "stream",
     "text": [
      "OK, Stress Ratio: 0.9281306196358959 dimensionless\n"
     ]
    }
   ],
   "source": [
    "# Transverse Stiffener Weld Fatigue Stress\n",
    "M_f\n",
    "d = girder_web_height / 2\n",
    "S_stiff = girder_I_xx / d\n",
    "sr_weld = (M_f / S_stiff).to('psi')\n",
    "\n",
    "F_b_fat_trans = 12000 * units('psi') # Stress category C' N>2,000,000 cycles AREMA 15-1-9\n",
    "\n",
    "# Stiffener Weld Fatigue\n",
    "if sr_weld <= F_b_fat_trans:\n",
    "    print(colored(f'OK, Stress Ratio: {sr_weld/F_b_fat_trans}', 'green'))\n",
    "else:\n",
    "    print(colored('No Good - Stiffener Weld Fatigue Check Failed', 'red'))"
   ]
  },
  {
   "cell_type": "code",
   "execution_count": 65,
   "id": "08792b89-0674-47d6-ace1-a0f6ca9c3ee8",
   "metadata": {
    "tags": []
   },
   "outputs": [
    {
     "name": "stdout",
     "output_type": "stream",
     "text": [
      "Longitudinal Stiffeners not required\n",
      "OK\n"
     ]
    }
   ],
   "source": [
    "# Longitudinal Plate Stiffeners\n",
    "girder_web_height\n",
    "4.18 * (E_steel / F_y) ** .5 * girder_web_thickness # AREMA 15-1.7.8.f\n",
    "\n",
    "# Longitudinal Stiffeners\n",
    "if girder_web_height <= 4.18 * (E_steel / F_y) ** .5 * girder_web_thickness:\n",
    "    long_stiff_check = 'Not Required'\n",
    "    print(colored('Longitudinal Stiffeners not required', 'green'))\n",
    "else:\n",
    "    print(colored('Longitudinal Stiffeners Required', 'red'))\n",
    "\n",
    "# Longitudinal Stiffeners   # //TODO - Bad Check\n",
    "if long_stiff_check == 'Not Required':\n",
    "    print(colored('OK', 'green'))\n",
    "else:\n",
    "    print(colored('No Good - Longitudinal Stiffeners Check', 'red'))"
   ]
  },
  {
   "cell_type": "code",
   "execution_count": 66,
   "id": "05465c6f-f79f-4b8c-be4f-aa1c40f5d57a",
   "metadata": {
    "tags": []
   },
   "outputs": [
    {
     "name": "stdout",
     "output_type": "stream",
     "text": [
      "OK\n",
      "Case 2 Controls\n",
      "27155.276272613875 pound_force_per_square_inch\n"
     ]
    }
   ],
   "source": [
    "# Bearing Stiffener\n",
    "bearing_stiff_limiting_ratio = (0.43 * bearing_stiffener_thickness_tsb * ((E_steel / F_y) ** 0.5)).to('in')\n",
    "\n",
    "# Longitudinal Stiffeners   # //TODO - Bad Check\n",
    "if bearing_stiffener_width_bsb <= bearing_stiff_limiting_ratio:\n",
    "    print(colored('OK', 'green'))\n",
    "else:\n",
    "    print(colored('No Good - Bearing Stiffeners w/t ratio Check', 'red'))\n",
    "    \n",
    "# Outstanding element in compression check\n",
    "girder_web_thickness\n",
    "effective_web_length = 25 * girder_web_thickness   # AREMA 15-1.7.7.c\n",
    "\n",
    "bearing_stiff_area = girder_web_thickness * effective_web_length + 2 * bearing_stiffener_width_bsb * bearing_stiffener_thickness_tsb\n",
    "I_xx_web = 2 * (bearing_stiffener_width_bsb ** 3 * bearing_stiffener_thickness_tsb / 12 + bearing_stiffener_width_bsb * bearing_stiffener_thickness_tsb * (girder_web_thickness/2 + bearing_stiffener_width_bsb/2)**2) + girder_web_thickness**3 * effective_web_length/12\n",
    "I_xx_stiff = 2*bearing_stiffener_thickness_tsb**3*bearing_stiffener_width_bsb/12+effective_web_length**3*girder_web_thickness/12\n",
    "\n",
    "controlling_moment_of_inertia = min(I_xx_web, I_xx_stiff)\n",
    "\n",
    "# AREMA 15-1.7.7-c\n",
    "effective_length = 0.75 * girder_web_height\n",
    "bear_stiff_r_y = (controlling_moment_of_inertia / bearing_stiff_area) ** 0.5\n",
    "\n",
    "bear_stiff_slenderness_ratio = effective_length / bear_stiff_r_y\n",
    "\n",
    "(F_y / E_steel) ** .5\n",
    "\n",
    "0.629 / (F_y / E) ** .5\n",
    "5.034 / (F_y / E) ** .5\n",
    "\n",
    "# AREMA Table 15-1-12\n",
    "case_1_all_stress = 0.55 * F_y\n",
    "case_2_all_stress = (0.6 * F_y.magnitude - (17500 * F_y / E_steel) ** (3/2) * bear_stiff_slenderness_ratio) * units('psi')\n",
    "case_3_all_stress = 0.514*math.pi**2*E_steel/bear_stiff_slenderness_ratio**2\n",
    "\n",
    "# Controlling Case\n",
    "if bear_stiff_slenderness_ratio <= 0.629 / (F_y / E) ** .5:\n",
    "    print(colored('Case 1 Controls', 'green'))\n",
    "    print(bearing_stiff_F_a := case_1_all_stress)\n",
    "elif bear_stiff_slenderness_ratio <= 5.034 / (F_y / E) ** .5:\n",
    "    print(colored('Case 2 Controls', 'green'))\n",
    "    print(bearing_stiff_F_a := case_2_all_stress)\n",
    "else:\n",
    "    print(colored('Case 3 Controls', 'green'))\n",
    "    print(bearing_stiff_F_a := case_3_all_stress)"
   ]
  },
  {
   "cell_type": "code",
   "execution_count": 67,
   "id": "522a9e94-3820-4537-a11a-9678511150c3",
   "metadata": {
    "tags": []
   },
   "outputs": [
    {
     "name": "stdout",
     "output_type": "stream",
     "text": [
      "OK, Stress Ratio: 0.5112597758960217 dimensionless\n"
     ]
    }
   ],
   "source": [
    "V_tot\n",
    "\n",
    "bearing_stress_act = (V_tot / bearing_stiff_area).to('psi')\n",
    "\n",
    "# Longitudinal Stiffeners\n",
    "if bearing_stress_act <= bearing_stiff_F_a:\n",
    "    print(colored(f'OK, Stress Ratio: {bearing_stress_act/bearing_stiff_F_a}', 'green'))\n",
    "else:\n",
    "    print(colored('No Good - End Bearing Compression Check', 'red'))"
   ]
  },
  {
   "cell_type": "code",
   "execution_count": 68,
   "id": "6833bcc4-5480-484a-8054-2362ec12dc2d",
   "metadata": {
    "tags": []
   },
   "outputs": [
    {
     "name": "stdout",
     "output_type": "stream",
     "text": [
      "OK, Stress Ratio: 0.45102357600552445 dimensionless\n"
     ]
    }
   ],
   "source": [
    "# Bearing Stiff Weld      AREMA 15-1.7.7.a\n",
    "fillet_weld_area = 4 * 0.707 * bearing_stiffener_fillet_weld_leg * (girder_web_height - 2 * bearing_stiffener_corner_clip)\n",
    "V_tot\n",
    "\n",
    "weld_stress_act = (V_tot / fillet_weld_area).to('psi')\n",
    "\n",
    "allowable_weld_stress = min(19000 * units('psi'), 0.35*F_y) # AREMA Table 15-1-14\n",
    "\n",
    "# Bearing Stiff Weld Check\n",
    "if weld_stress_act <= allowable_weld_stress:\n",
    "    print(colored(f'OK, Stress Ratio: {weld_stress_act/allowable_weld_stress}', 'green'))\n",
    "else:\n",
    "    print(colored('No Good - Bearing Stiff Weld Check', 'red'))"
   ]
  },
  {
   "cell_type": "code",
   "execution_count": 69,
   "id": "23cc64d2-eb31-40b0-9aa6-87189c1b7cc1",
   "metadata": {
    "tags": []
   },
   "outputs": [],
   "source": [
    "# Bearing Stiff bearing area\n",
    "stiff_bearing_area = 2 * bearing_stiffener_thickness_tsb * (bearing_stiffener_width_bsb - 2 * bearing_stiffener_corner_clip)"
   ]
  },
  {
   "cell_type": "code",
   "execution_count": 70,
   "id": "ea8aa07c-2de9-45da-9423-76e277c0a75a",
   "metadata": {},
   "outputs": [
    {
     "name": "stdout",
     "output_type": "stream",
     "text": [
      "OK, Stress Ratio: 0.6340616578694178 dimensionless\n"
     ]
    }
   ],
   "source": [
    "stiff_bearing_area\n",
    "V_tot\n",
    "bearing_area_stress_act = (V_tot / stiff_bearing_area).to('psi')\n",
    "bearing_area_stress_all = (.83 * F_y).to('psi')\n",
    "\n",
    "# Bearing area allowable stress\n",
    "if bearing_area_stress_act <= bearing_area_stress_all:\n",
    "    print(colored(f'OK, Stress Ratio: {bearing_area_stress_act/bearing_area_stress_all}', 'green'))\n",
    "else:\n",
    "    print(colored('No Good - Bearing Stiff Weld Check', 'red'))"
   ]
  },
  {
   "cell_type": "markdown",
   "id": "4c0a6699-86f8-4380-898a-9c9f55a44152",
   "metadata": {
    "tags": []
   },
   "source": [
    "## Floor Beam Calcs"
   ]
  },
  {
   "cell_type": "code",
   "execution_count": 71,
   "id": "c07ff1cd-7e36-40f1-8764-677e52eb4cd0",
   "metadata": {
    "tags": []
   },
   "outputs": [],
   "source": [
    "# Dead Load\n",
    "# Floor Beams\n",
    "floorbeam.weight\n",
    "\n",
    "# Diaphragms\n",
    "diaphragm.weight = 61 * units('lbf/ft') # //TODO - Doesn't match section: W16x89\n",
    "diaphragm_quantity = 1 # //TODO - Why is this only 1 in excel?\n",
    "\n",
    "diaphragm_length = floorbeam_spacing\n",
    "\n",
    "lateral_bracing_length = 8.20 * units('ft') # //TODO - why is this redefined and lower\n",
    "\n",
    "diaphragm_P = diaphragm.weight*diaphragm_quantity*diaphragm_length\n",
    "bracing_P = lateral_bracing.weight * bracing_quant * lateral_bracing_length\n",
    "\n",
    "floorbeam_dl_V = (floorbeam.weight * girder_spacing) / 2\n",
    "floorbeam_dl_M = floorbeam.weight * girder_spacing ** 2 / 8\n",
    "\n",
    "diaphragm_dl_V = diaphragm_P / 2\n",
    "diaphragm_dl_M = diaphragm_P * girder_spacing / 4\n",
    "\n",
    "lateral_bracing_V = bracing_P / 2\n",
    "lateral_bracing_M = bracing_P * girder_spacing / 4"
   ]
  },
  {
   "cell_type": "code",
   "execution_count": 72,
   "id": "f4f6aab4-f215-416f-8aaf-43af22d3cf11",
   "metadata": {
    "tags": []
   },
   "outputs": [],
   "source": [
    "# Floor assembly between stop plates\n",
    "floor_load_on_fbs\n",
    "ballast_plates_clear_space\n",
    "\n",
    "floor_assembly_V = ballast_plates_clear_space * floor_load_on_fbs * floorbeam_spacing / 2\n",
    "floor_assembly_M = (floor_load_on_fbs * floorbeam_spacing * ballast_plates_clear_space) / 4 * (girder_spacing - ballast_plates_clear_space / 2) "
   ]
  },
  {
   "cell_type": "code",
   "execution_count": 73,
   "id": "4b91e293-ebde-46c8-8a47-2e55da1bb292",
   "metadata": {
    "tags": []
   },
   "outputs": [],
   "source": [
    "# Floor assembly over stop plates\n",
    "floor_load_over_stop_plates\n",
    "fb_applied_width = (girder_spacing - ballast_plates_clear_space) / 2\n",
    "\n",
    "floor_over_stop_pl_V = floor_load_over_stop_plates * fb_applied_width * floorbeam_spacing\n",
    "floor_over_stop_pl_M = floor_load_over_stop_plates * fb_applied_width ** 2 / 2 * floorbeam_spacing"
   ]
  },
  {
   "cell_type": "code",
   "execution_count": 74,
   "id": "7b19cfc0-0e4e-400c-b215-7d04c38cc161",
   "metadata": {
    "tags": []
   },
   "outputs": [],
   "source": [
    "# Track assembly weight\n",
    "track_area_load_on_fbs\n",
    "ballast_plates_clear_space\n",
    "\n",
    "track_area_load_V = track_area_load_on_fbs*ballast_plates_clear_space/2*floorbeam_spacing\n",
    "track_area_load_M = track_area_load_on_fbs * ballast_plates_clear_space / 4 * (girder_spacing - ballast_plates_clear_space / 2) * floorbeam_spacing"
   ]
  },
  {
   "cell_type": "code",
   "execution_count": 75,
   "id": "b4cb80da-cfce-4933-8ff6-49fbc06c255d",
   "metadata": {
    "tags": []
   },
   "outputs": [],
   "source": [
    "total_fb_dl_shear = sum([\n",
    "    floorbeam_dl_V,\n",
    "    diaphragm_dl_V,\n",
    "    lateral_bracing_V,\n",
    "    floor_assembly_V,\n",
    "    floor_over_stop_pl_V,\n",
    "    track_area_load_V\n",
    "])"
   ]
  },
  {
   "cell_type": "code",
   "execution_count": 76,
   "id": "043cb92f-05f1-40a0-9601-626a6649a522",
   "metadata": {
    "tags": []
   },
   "outputs": [],
   "source": [
    "total_fb_dl_moment = sum([\n",
    "    floorbeam_dl_M,\n",
    "    diaphragm_dl_M,\n",
    "    lateral_bracing_M,\n",
    "    floor_assembly_M,\n",
    "    floor_over_stop_pl_M,\n",
    "    track_area_load_M\n",
    "])"
   ]
  },
  {
   "cell_type": "code",
   "execution_count": 77,
   "id": "5b85e5b6-940a-4a7b-a701-f7b0ff58be6b",
   "metadata": {
    "tags": []
   },
   "outputs": [],
   "source": [
    "# Live Load\n",
    "# AREMA 15-1.3.4.2.3 Alternative live load axel\n",
    "fb_P_ll = 1.15*fb_A*floorbeam_spacing/fb_S\n",
    "fb_P_2_ll = fb_P_ll / 2\n",
    "\n",
    "fb_V_ll = fb_P_2_ll\n",
    "fb_M_ll = fb_P_ll * fb_a / 2"
   ]
  },
  {
   "cell_type": "code",
   "execution_count": 78,
   "id": "8415f1e7-d4ab-4892-9af4-264ce8627a8e",
   "metadata": {
    "tags": []
   },
   "outputs": [],
   "source": [
    "# Impact Live Load\n",
    "fb_impact_ll_percent = (40 - 3 * girder_spacing.magnitude ** 2 / 1600)/100\n",
    "fb_P_2_ll\n",
    "\n",
    "fb_P_imp_ll = fb_impact_ll_percent * fb_P_2_ll * ballasted_deck_reduction\n",
    "\n",
    "fb_M_imp = fb_P_imp_ll * fb_a"
   ]
  },
  {
   "cell_type": "code",
   "execution_count": 79,
   "id": "5a6bc6e3-523e-4885-b2d6-1a0b2aa2706b",
   "metadata": {
    "tags": []
   },
   "outputs": [],
   "source": [
    "# Rocking Load  AREMA 1.3.5.d\n",
    "rocking_percent\n",
    "fb_P_2_ll\n",
    "R1_rocking = fb_P_2_ll * rocking_percent * (1 - 2 * a / girder_spacing)\n",
    "\n",
    "fb_M_re = R1_rocking * a"
   ]
  },
  {
   "cell_type": "code",
   "execution_count": 80,
   "id": "a55ba9f0-d820-4967-8864-355de0b6071d",
   "metadata": {
    "tags": []
   },
   "outputs": [],
   "source": [
    "# Wind Force on Loaded Bridge\n",
    "wind_load = 300 * units('lbf/ft')\n",
    "fb_pws = wind_load*h*floorbeam_spacing/railroad_gage\n",
    "\n",
    "fb_wind_R1 = fb_pws * (1-2*a/girder_spacing)\n",
    "\n",
    "M_wl = fb_wind_R1 * fb_a"
   ]
  },
  {
   "cell_type": "code",
   "execution_count": 81,
   "id": "a2165724-bdae-476c-ab31-85096f9e6437",
   "metadata": {
    "tags": []
   },
   "outputs": [],
   "source": [
    "# Required Section Properties  # AREMA Table 15-1-11\n",
    "fb_M_tot_1 = sum([total_fb_dl_moment, fb_M_ll, fb_M_imp, M_re])\n",
    "fb_M_tot_2 = sum([total_fb_dl_moment, fb_M_ll, fb_M_imp, M_re, M_wl])/1.25\n",
    "fb_M_tot = max(fb_M_tot_1, fb_M_tot_2)\n",
    "\n",
    "fb_S_x_req = (fb_M_tot / (0.55 * F_y)).to('in^3')"
   ]
  },
  {
   "cell_type": "code",
   "execution_count": 82,
   "id": "c9128529-7bab-441e-9e9e-81a7d83cdccb",
   "metadata": {
    "tags": []
   },
   "outputs": [],
   "source": [
    "# Holes - Assume 4 x 1\" holes in web for diaphragm\n",
    "D1 = 3 * units('in') # //TODO - is this a constant?\n",
    "D2 = 3 * units('in') + D1\n",
    "\n",
    "I_holes_web = (diaphragm_num_holes/2*(diaphragm_dia_hole*floorbeam.web_thickness)*(D1)**2)+(diaphragm_num_holes/2*(diaphragm_dia_hole*floorbeam.web_thickness)*(D2)**2)"
   ]
  },
  {
   "cell_type": "code",
   "execution_count": 83,
   "id": "bcd58c84-5f43-44fd-bc79-9a8d7f074928",
   "metadata": {
    "tags": []
   },
   "outputs": [],
   "source": [
    "I_holes_flange = lateral_num_holes * lateral_dia_holes * floorbeam.flange_thickness * (floorbeam.depth / 2 - floorbeam.flange_thickness / 2) ** 2"
   ]
  },
  {
   "cell_type": "code",
   "execution_count": 84,
   "id": "3b27a063-0af6-4be6-b751-f5e6de3c0b98",
   "metadata": {
    "tags": []
   },
   "outputs": [],
   "source": [
    "I_net = floorbeam.I_x - I_holes_web - I_holes_flange"
   ]
  },
  {
   "cell_type": "code",
   "execution_count": 85,
   "id": "9bc34f69-fb98-4acd-b804-6bbc5afa7c76",
   "metadata": {
    "tags": []
   },
   "outputs": [],
   "source": [
    "I_net\n",
    "\n",
    "S_x_net = I_net / (floorbeam.depth / 2)"
   ]
  },
  {
   "cell_type": "code",
   "execution_count": 86,
   "id": "ab9400ad-9d03-4931-9590-f30509912f27",
   "metadata": {
    "tags": []
   },
   "outputs": [
    {
     "name": "stdout",
     "output_type": "stream",
     "text": [
      "OK, Stress Ratio: 0.3412387259725499 dimensionless\n"
     ]
    }
   ],
   "source": [
    "# Allowable Stress (AREMA Table 15-1-12)\n",
    "Fb_ten = 0.55 * F_y\n",
    "\n",
    "# Compression in extreme fiber\n",
    "Fb_comp_1 = 0.55*F_y-(0.55*F_y**2/(6.3*math.pi**2*E_steel))*(diaphragm_spacing_max/floorbeam.r_y)**2\n",
    "Fb_comp_2 = (0.131 * math.pi * E_steel / (diaphragm_spacing_max * floorbeam.depth * (1+poisson_ratio) ** .5 / (floorbeam.flange_thickness * floorbeam.flange_width))).to('psi')\n",
    "Fb_comp_3 = 0.55 * F_y\n",
    "\n",
    "F_b_comp = (min(Fb_comp_3, max(Fb_comp_1, Fb_comp_2))).to('ksi')\n",
    "\n",
    "f_b_act = (fb_M_tot / S_x_net).to('ksi')\n",
    "\n",
    "# Bearing area allowable stress\n",
    "if f_b_act < F_b_comp:\n",
    "    print(colored(f'OK, Stress Ratio: {f_b_act/F_b_comp}', 'green'))\n",
    "else:\n",
    "    print(colored('No Good - Floor Beam Allowable Stress Check', 'red'))"
   ]
  },
  {
   "cell_type": "code",
   "execution_count": 87,
   "id": "9f1104ed-9a62-4c22-9102-398501933eae",
   "metadata": {
    "tags": []
   },
   "outputs": [
    {
     "name": "stdout",
     "output_type": "stream",
     "text": [
      "OK, Stress Ratio: 0.2502732273083372 dimensionless\n"
     ]
    }
   ],
   "source": [
    "# End Shear\n",
    "R_dl = total_fb_dl_shear\n",
    "R_ll = fb_P_ll\n",
    "R_imp = fb_P_imp_ll * 2\n",
    "R_re = R1_rocking\n",
    "R_wl = fb_wind_R1\n",
    "\n",
    "R_tot = sum([R_dl, R_ll, R_imp, R_re, R_wl])\n",
    "\n",
    "# Assume 6x1\" dia holes in web to connect to girder\n",
    "fs_net = (R_tot/((floorbeam.depth-web_conn_girder_holes_num*web_conn_girder_holes_dia)*floorbeam.web_thickness)).to('ksi')\n",
    "\n",
    "F_v = (0.35 * F_y).to('ksi')\n",
    "\n",
    "# Bearing area allowable stress\n",
    "if fs_net < F_v:\n",
    "    print(colored(f'OK, Stress Ratio: {fs_net/F_v}', 'green'))\n",
    "else:\n",
    "    print(colored('No Good - Floor Beam End Shear Check', 'red'))"
   ]
  },
  {
   "cell_type": "code",
   "execution_count": 88,
   "id": "b2c9939c-41b0-4bb9-884d-dc18ad4a29d1",
   "metadata": {
    "tags": []
   },
   "outputs": [
    {
     "data": {
      "text/html": [
       "92465.94656133825 force_pound"
      ],
      "text/latex": [
       "$92465.94656133825\\ \\mathrm{force\\_pound}$"
      ],
      "text/plain": [
       "92465.94656133825 <Unit('force_pound')>"
      ]
     },
     "execution_count": 88,
     "metadata": {},
     "output_type": "execute_result"
    }
   ],
   "source": [
    "# Bolted Connection - Checked in sep. calc, they account for combined efect so no 1.25 increase\n",
    "# AREMA 15 1.5.9.a.1 # //TODO - Investigate this standard\n",
    "R_tot"
   ]
  },
  {
   "cell_type": "code",
   "execution_count": 89,
   "id": "5e59ba61-39c8-42ea-9a53-e2248f5e146c",
   "metadata": {
    "tags": []
   },
   "outputs": [
    {
     "name": "stdout",
     "output_type": "stream",
     "text": [
      "OK, Stress Ratio: 0.32341725842958674 dimensionless\n"
     ]
    }
   ],
   "source": [
    "# Floor beam fatigue\n",
    "fb_M_ll\n",
    "fb_fat_imp_M = assumed_mean_impact_perc * fb_M_imp\n",
    "fb_M_fat = fb_M_ll + fb_fat_imp_M\n",
    "\n",
    "fb_live_load_stress_range = (fb_M_fat / S_x_net).to('ksi')\n",
    "\n",
    "# N >= 2,000,000 Category B Table 15-1-10 Detail 2.2\n",
    "fb_fsr = 16 * units('ksi')\n",
    "\n",
    "# Bearing area allowable stress\n",
    "if fb_live_load_stress_range < fb_fsr:\n",
    "    print(colored(f'OK, Stress Ratio: {fb_live_load_stress_range/fb_fsr}', 'green'))\n",
    "else:\n",
    "    print(colored('No Good - Floor Beam Fatigue Check', 'red'))"
   ]
  },
  {
   "cell_type": "code",
   "execution_count": 90,
   "id": "b5ff083c-41b0-45ed-9c5d-10da9172834d",
   "metadata": {
    "tags": []
   },
   "outputs": [
    {
     "name": "stdout",
     "output_type": "stream",
     "text": [
      "OK, Stress Ratio: 0.24964506342823886 dimensionless\n"
     ]
    }
   ],
   "source": [
    "# Deflection\n",
    "girder_spacing\n",
    "floorbeam.I_x\n",
    "E_steel\n",
    "\n",
    "fb_defl_M = fb_M_ll + fb_M_imp + fb_M_re\n",
    "\n",
    "fb_w = 8 * fb_defl_M / (girder_spacing ** 2)\n",
    "\n",
    "fb_deflection = ((5 * fb_w * girder_spacing ** 4) / (384 * E_steel * floorbeam.I_x)).to('in')\n",
    "max_deflection = (girder_spacing / 640).to('in')\n",
    "\n",
    "# Deflection Check\n",
    "if fb_deflection <= max_deflection:\n",
    "    print(colored(f'OK, Stress Ratio: {fb_deflection/max_deflection}', 'green'))\n",
    "else:\n",
    "    print(colored('No Good - Floor Beam Fatigue Check', 'red'))"
   ]
  },
  {
   "cell_type": "markdown",
   "id": "a0754863-1477-401f-a8b9-62646cfb08b7",
   "metadata": {
    "tags": []
   },
   "source": [
    "## Deck Plate Calcs"
   ]
  },
  {
   "cell_type": "code",
   "execution_count": 91,
   "id": "86c59f11-3fc2-4cba-bd59-7387ecfbc00c",
   "metadata": {
    "tags": []
   },
   "outputs": [],
   "source": [
    "# Key Dimensions\n",
    "track_distribution_width = tie_design_width+min_ballast_below_tie # AREMA 1.3.4.2.2.b\n",
    "track_dist_length = 3 * units('ft') + min_ballast_below_tie # AREMA 1.3.4.2.2.a"
   ]
  },
  {
   "cell_type": "code",
   "execution_count": 92,
   "id": "dc63994a-9c8d-4929-b2e0-19b66884e0ca",
   "metadata": {
    "tags": []
   },
   "outputs": [],
   "source": [
    "# Dead Loads\n",
    "flooring_load = floor_load_on_fbs\n",
    "track_load = track_assembly_load_on_deck_plate"
   ]
  },
  {
   "cell_type": "code",
   "execution_count": 93,
   "id": "69a38e6b-948e-4b30-ad74-3367fb604fb7",
   "metadata": {
    "tags": []
   },
   "outputs": [],
   "source": [
    "# Live Load\n",
    "axel_load\n",
    "longitudinal_dist = track_dist_length\n",
    "lateral_dist = track_distribution_width\n",
    "\n",
    "dist_axel_load = axel_load / (longitudinal_dist*lateral_dist)"
   ]
  },
  {
   "cell_type": "code",
   "execution_count": 94,
   "id": "aa24a156-2abc-4c0c-aaa0-d25d1ee80156",
   "metadata": {
    "tags": []
   },
   "outputs": [
    {
     "data": {
      "text/html": [
       "1209.7005882352948 force_pound/foot<sup>2</sup>"
      ],
      "text/latex": [
       "$1209.7005882352948\\ \\frac{\\mathrm{force\\_pound}}{\\mathrm{foot}^{2}}$"
      ],
      "text/plain": [
       "1209.7005882352948 <Unit('force_pound / foot ** 2')>"
      ]
     },
     "execution_count": 94,
     "metadata": {},
     "output_type": "execute_result"
    }
   ],
   "source": [
    "# Impact Load # AREMA 15.1.3.5\n",
    "L = floorbeam_spacing\n",
    "deck_pl_impact_L = (40 - (3*L**2 / (1600 * units('ft^2')))) * .9\n",
    "\n",
    "impact_load = (dist_axel_load * deck_pl_impact_L / 100).to('lbf/ft^2')\n",
    "impact_load"
   ]
  },
  {
   "cell_type": "code",
   "execution_count": 95,
   "id": "c080ad24-ed5d-41bc-b361-2b0ab88036da",
   "metadata": {
    "tags": []
   },
   "outputs": [],
   "source": [
    "# Rocking Effect\n",
    "rocking_percent\n",
    "\n",
    "rocking_effect = rocking_percent * dist_axel_load / 2"
   ]
  },
  {
   "cell_type": "code",
   "execution_count": 96,
   "id": "3ddde046-0462-4da5-8b50-17e488b39a30",
   "metadata": {
    "tags": []
   },
   "outputs": [],
   "source": [
    "deck_pl_dead_load = flooring_load + track_load\n",
    "deck_pl_live_load_impact_re = dist_axel_load + impact_load + rocking_effect\n",
    "\n",
    "total_dist_load = deck_pl_dead_load + deck_pl_live_load_impact_re"
   ]
  },
  {
   "cell_type": "code",
   "execution_count": 97,
   "id": "05efaa22-3c75-4e24-834c-c6f7eb4c1975",
   "metadata": {
    "tags": []
   },
   "outputs": [
    {
     "name": "stdout",
     "output_type": "stream",
     "text": [
      "OK, Stress Ratio: 0.5755581290899663 dimensionless\n"
     ]
    }
   ],
   "source": [
    "# Compute Forces and Stresses over a 1' unit width\n",
    "flange_width = min(end_floorbeam.flange_width, floorbeam.flange_width)\n",
    "\n",
    "floorbeam_spacing\n",
    "flange_width.to('ft')\n",
    "\n",
    "M1_w = (1/12*((3*floorbeam_spacing*flange_width/2)-(floorbeam_spacing**2)-(3*flange_width**2/8))).to('ft^2')\n",
    "M2_w = floorbeam_spacing ** 2 / 24\n",
    "\n",
    "gov_M_w = max(abs(M1_w), abs(M2_w))\n",
    "\n",
    "deck_pl_dl_M = gov_M_w * deck_pl_dead_load\n",
    "deck_pl_ll_M = gov_M_w * deck_pl_live_load_impact_re\n",
    "deck_pl_tot_M = deck_pl_dl_M + deck_pl_ll_M\n",
    "\n",
    "deck_pl_S_x = deck_plate_width * deck_plate_thickness ** 2 / 6\n",
    "\n",
    "# //TODO - Check Units on this one\n",
    "deck_pl_F_b = (deck_pl_tot_M * (12*units('in')) / deck_pl_S_x).to('psi')\n",
    "\n",
    "deck_pl_F_b_allow = (0.55 * F_y)\n",
    "\n",
    "# Stress Check\n",
    "if deck_pl_F_b <= deck_pl_F_b_allow:\n",
    "    print(colored(f'OK, Stress Ratio: {deck_pl_F_b/deck_pl_F_b_allow}', 'green'))\n",
    "else:\n",
    "    print(colored('No Good - Floor Plate Allowable Stress Check', 'red'))"
   ]
  },
  {
   "cell_type": "code",
   "execution_count": 98,
   "id": "87513ab4-cc88-4455-92c3-87f2c150ee0e",
   "metadata": {
    "tags": []
   },
   "outputs": [
    {
     "name": "stdout",
     "output_type": "stream",
     "text": [
      "OK, Stress Ratio: 0.14099386081451015 dimensionless\n"
     ]
    }
   ],
   "source": [
    "# Floor Plate Deflection\n",
    "deck_plate_width\n",
    "deck_plate_thickness\n",
    "deck_plate_I_x = deck_plate_width * deck_plate_thickness ** 3 / 12\n",
    "deck_plate_span_L = floorbeam_spacing\n",
    "deck_pl_live_load_impact_re\n",
    "\n",
    "deck_pl_live_load_deflection = (deck_pl_live_load_impact_re*units('in')*floorbeam_spacing**4)/(384*E_steel*deck_plate_I_x)\n",
    "deck_pl_allow_deflection = (floorbeam_spacing / 640).to('in').to('in')\n",
    "\n",
    "deck_pl_live_load_deflection = deck_pl_live_load_deflection.to('in')\n",
    "\n",
    "# Deflection Check\n",
    "if deck_pl_live_load_deflection <= deck_pl_allow_deflection:\n",
    "    print(colored(f'OK, Stress Ratio: {deck_pl_live_load_deflection/deck_pl_allow_deflection}', 'green'))\n",
    "else:\n",
    "    print(colored('No Good - Floor Plate Deflection Check', 'red'))"
   ]
  },
  {
   "cell_type": "markdown",
   "id": "38531e77-3d86-4236-80c5-0bf494a50861",
   "metadata": {
    "tags": []
   },
   "source": [
    "## End Floor Beam Calcs"
   ]
  },
  {
   "cell_type": "code",
   "execution_count": 99,
   "id": "5a845036-7ae6-4bb4-9e56-da4e2bbbe93b",
   "metadata": {
    "tags": []
   },
   "outputs": [
    {
     "data": {
      "text/html": [
       "4.708333333333333 foot"
      ],
      "text/latex": [
       "$4.708333333333333\\ \\mathrm{foot}$"
      ],
      "text/plain": [
       "4.708333333333333 <Unit('foot')>"
      ]
     },
     "execution_count": 99,
     "metadata": {},
     "output_type": "execute_result"
    }
   ],
   "source": [
    "# Floor Beams\n",
    "end_floorbeam.weight\n",
    "jack_pt_offset\n",
    "# end_bearing_stiff_width = (end_floorbeam.flange_width - end_floorbeam.web_thickness) / 2 * 4 / 4\n",
    "end_bearing_stiff_width = 5.75 * units('in')\n",
    "bearing_stiffener_t\n",
    "bearing_stiffener_corner_clip\n",
    "bearing_stiff_weld_leg\n",
    "\n",
    "# Geometrics\n",
    "end_fb_spacing = 2.6 * units('ft') # //TODO - References VOID fb - non-bracing sheet\n",
    "flooring_on_girder = end_fb_spacing/2+(floor_length-span_length)/2\n",
    "girder_spacing\n",
    "ballast_plates_clear_space\n",
    "diaphragm_spacing_max\n",
    "railroad_gage\n",
    "F_y\n",
    "F_u\n",
    "E_steel\n",
    "unit_weight_steel\n",
    "railroad_gage # //TODO - Defined twice in excel"
   ]
  },
  {
   "cell_type": "code",
   "execution_count": 100,
   "id": "17346a40-e002-416a-acd0-c721f107b60c",
   "metadata": {
    "tags": []
   },
   "outputs": [],
   "source": [
    "# Dead Load\n",
    "# Diaphragms\n",
    "diaphragm.weight = 61 * units('lbf/ft') # //TODO - Doesn't match section: W16x89\n",
    "diaphragm_quantity = 1 # //TODO - Why is this only 1 in excel?\n",
    "\n",
    "diaphragm_length = floorbeam_spacing / 2\n",
    "\n",
    "lateral_bracing_length = 8.20 * units('ft') # //TODO - why is this redefined and lower\n",
    "\n",
    "\n",
    "diaphragm_P = diaphragm.weight*diaphragm_quantity*diaphragm_length\n",
    "\n",
    "\n",
    "end_floorbeam_dl_V = (end_floorbeam.weight * girder_spacing) / 2\n",
    "end_floorbeam_dl_M = end_floorbeam.weight * girder_spacing ** 2 / 8\n",
    "\n",
    "end_diaphragm_dl_V = diaphragm_P / 2\n",
    "end_diaphragm_dl_M = diaphragm_P * end_bearing_stiff_width / 4 # //TODO - Verify End stiff width"
   ]
  },
  {
   "cell_type": "code",
   "execution_count": 101,
   "id": "6f8f2d6f-d7aa-4a66-bd78-f3ce5fa64e90",
   "metadata": {
    "tags": []
   },
   "outputs": [],
   "source": [
    "# //TODO - Verify no bracing on end floorbeams\n",
    "# bracing_P = lateral_bracing.weight * bracing_quant * lateral_bracing_length\n",
    "# end_lateral_bracing_V = bracing_P / 2\n",
    "# end_lateral_bracing_M = bracing_P * girder_spacing / 4"
   ]
  },
  {
   "cell_type": "code",
   "execution_count": 102,
   "id": "4873a0c3-d3ad-4273-afcd-b71f43f99273",
   "metadata": {
    "tags": []
   },
   "outputs": [],
   "source": [
    "# Floor assembly between stop plates\n",
    "floor_load_on_fbs\n",
    "ballast_plates_clear_space\n",
    "\n",
    "end_floor_assembly_V = ballast_plates_clear_space * floor_load_on_fbs * flooring_on_girder / 2 # //TODO - Verify Flooring on girder, not fb spacing\n",
    "end_floor_assembly_M = (floor_load_on_fbs * flooring_on_girder * ballast_plates_clear_space) / 4 * (girder_spacing - ballast_plates_clear_space / 2) "
   ]
  },
  {
   "cell_type": "code",
   "execution_count": 103,
   "id": "ccc1dda7-3af1-4951-a56a-547bc43f6da0",
   "metadata": {
    "tags": []
   },
   "outputs": [],
   "source": [
    "# Floor assembly over stop plates\n",
    "floor_load_over_stop_plates\n",
    "end_fb_applied_width = (girder_spacing - ballast_plates_clear_space) / 2\n",
    "\n",
    "end_floor_over_stop_pl_V = floor_load_over_stop_plates * end_fb_applied_width * flooring_on_girder\n",
    "end_floor_over_stop_pl_M = floor_load_over_stop_plates * end_fb_applied_width ** 2 / 2 * flooring_on_girder"
   ]
  },
  {
   "cell_type": "code",
   "execution_count": 104,
   "id": "439e7e96-ba8d-42db-9096-be352ecc89e5",
   "metadata": {
    "tags": []
   },
   "outputs": [],
   "source": [
    "# Track assembly weight\n",
    "track_area_load_on_fbs\n",
    "ballast_plates_clear_space\n",
    "\n",
    "end_track_area_load_V = track_area_load_on_fbs*ballast_plates_clear_space/2*flooring_on_girder\n",
    "end_track_area_load_M = track_area_load_on_fbs * ballast_plates_clear_space / 4 * (girder_spacing - ballast_plates_clear_space / 2) * flooring_on_girder"
   ]
  },
  {
   "cell_type": "code",
   "execution_count": 105,
   "id": "e9d0f8c6-d734-4944-8a4f-d56d869de305",
   "metadata": {
    "tags": []
   },
   "outputs": [],
   "source": [
    "total_end_fb_dl_shear = sum([\n",
    "    end_floorbeam_dl_V,\n",
    "    end_diaphragm_dl_V,\n",
    "    end_floor_assembly_V,\n",
    "    end_floor_over_stop_pl_V,\n",
    "    end_track_area_load_V\n",
    "])"
   ]
  },
  {
   "cell_type": "code",
   "execution_count": 106,
   "id": "0326b023-9630-4507-bf00-a9447b4d7aff",
   "metadata": {
    "tags": []
   },
   "outputs": [],
   "source": [
    "total_end_fb_dl_moment = sum([\n",
    "    end_floorbeam_dl_M,\n",
    "    end_diaphragm_dl_M,\n",
    "    end_floor_assembly_M,\n",
    "    end_floor_over_stop_pl_M,\n",
    "    end_track_area_load_M\n",
    "])"
   ]
  },
  {
   "cell_type": "code",
   "execution_count": 107,
   "id": "ae9a2805-ca3e-4acb-bdfb-e744f1269352",
   "metadata": {
    "tags": []
   },
   "outputs": [],
   "source": [
    "# Live Load\n",
    "# AREMA 15-1.3.4.2.3 Alternative live load axel\n",
    "end_fb_P_ll = 1.15*fb_A*floorbeam_spacing/fb_S\n",
    "end_fb_P_2_ll = fb_P_ll / 2\n",
    "\n",
    "end_fb_A = fb_A\n",
    "end_fb_D = floorbeam_spacing\n",
    "end_fb_S = fb_S\n",
    "end_fb_a = fb_a\n",
    "\n",
    "end_fb_M_ll = end_fb_P_ll * end_fb_a / 2"
   ]
  },
  {
   "cell_type": "code",
   "execution_count": 108,
   "id": "504ce39d-5c43-4f7b-bbb8-6af3ede75c61",
   "metadata": {
    "tags": []
   },
   "outputs": [],
   "source": [
    "# Impact Live Load\n",
    "end_fb_impact_ll_percent = (40 - 3 * girder_spacing.magnitude ** 2 / 1600)/100\n",
    "end_fb_P_2_ll\n",
    "\n",
    "end_fb_P_imp_ll = end_fb_impact_ll_percent * end_fb_P_2_ll * ballasted_deck_reduction\n",
    "\n",
    "end_fb_M_imp = fb_P_imp_ll * fb_a"
   ]
  },
  {
   "cell_type": "code",
   "execution_count": 109,
   "id": "a85b1e9c-aa32-4c01-9a7f-97012657d8b5",
   "metadata": {
    "tags": []
   },
   "outputs": [],
   "source": [
    "# Rocking Load  AREMA 1.3.5.d\n",
    "rocking_percent\n",
    "end_fb_P_2_ll\n",
    "end_R1_rocking = end_fb_P_2_ll * rocking_percent * (1 - 2 * a / girder_spacing)\n",
    "\n",
    "end_fb_M_re = R1_rocking * a"
   ]
  },
  {
   "cell_type": "code",
   "execution_count": 110,
   "id": "aa123cff-0485-48bf-9953-57693bbc59cd",
   "metadata": {
    "tags": []
   },
   "outputs": [],
   "source": [
    "# Wind Force on Loaded Bridge\n",
    "wind_load = 300 * units('lbf/ft')\n",
    "end_fb_pws = wind_load*h*floorbeam_spacing/railroad_gage\n",
    "\n",
    "end_fb_wind_R1 = end_fb_pws * (1-2*a/girder_spacing)\n",
    "\n",
    "end_fb_M_wl = end_fb_wind_R1 * fb_a"
   ]
  },
  {
   "cell_type": "code",
   "execution_count": 111,
   "id": "3d9d4049-89ba-4b08-9a24-5f17020c3ae3",
   "metadata": {},
   "outputs": [],
   "source": [
    "# Required Section Properties and gov moment  # AREMA Table 15-1-11\n",
    "end_fb_M_tot_1 = sum([total_end_fb_dl_moment, end_fb_M_ll, end_fb_M_imp, end_fb_M_re])\n",
    "end_fb_M_tot_2 = sum([total_end_fb_dl_moment, end_fb_M_ll, end_fb_M_imp, end_fb_M_re, end_fb_M_wl])/1.25\n",
    "end_fb_M_tot = max(end_fb_M_tot_1, fb_M_tot_2)"
   ]
  },
  {
   "cell_type": "code",
   "execution_count": 112,
   "id": "de99dde3-dfcb-4806-803f-d03b23e2e233",
   "metadata": {},
   "outputs": [],
   "source": [
    "# Governing shear # //TODO - Ensure this isn't need in other calc\n",
    "end_fb_V_tot_1 = sum([total_end_fb_dl_shear, end_fb_P_2_ll, end_fb_P_imp_ll, end_R1_rocking])\n",
    "end_fb_V_tot_2 = sum([total_end_fb_dl_shear, end_fb_P_2_ll, end_fb_P_imp_ll, end_R1_rocking, end_fb_wind_R1])/1.25\n",
    "end_fb_V_tot = max(end_fb_V_tot_1, end_fb_V_tot_2)"
   ]
  },
  {
   "cell_type": "code",
   "execution_count": 113,
   "id": "aecb02d6-02ff-439b-a52b-aab914b5bc2a",
   "metadata": {
    "tags": []
   },
   "outputs": [
    {
     "data": {
      "text/html": [
       "3.75 foot"
      ],
      "text/latex": [
       "$3.75\\ \\mathrm{foot}$"
      ],
      "text/plain": [
       "3.75 <Unit('foot')>"
      ]
     },
     "execution_count": 113,
     "metadata": {},
     "output_type": "execute_result"
    }
   ],
   "source": [
    "total_dead_load\n",
    "dead_load_per_jack = total_dead_load / 4\n",
    "jack_pt_offset"
   ]
  },
  {
   "cell_type": "code",
   "execution_count": 114,
   "id": "42787dd3-c825-48d0-9106-c75d03b83600",
   "metadata": {
    "tags": []
   },
   "outputs": [],
   "source": [
    "# Shear and moment doubled to meet requirements of 11-1.8.1\n",
    "jacking_V_tot = dead_load_per_jack * 2\n",
    "jacking_M_tot = 2 * dead_load_per_jack * jack_pt_offset"
   ]
  },
  {
   "cell_type": "code",
   "execution_count": 115,
   "id": "46b322e9-2698-4ecb-a96f-90abbc3a1389",
   "metadata": {},
   "outputs": [],
   "source": [
    "# Required Section Properties\n",
    "\n",
    "end_fb_gov_M = max(jacking_M_tot, end_fb_M_tot)\n",
    "end_fb_gov_V = max(jacking_V_tot, end_fb_V_tot)\n",
    "\n",
    "end_fb_S_x_req = (end_fb_gov_M / (0.55 * F_y)).to('in^3')"
   ]
  },
  {
   "cell_type": "code",
   "execution_count": 116,
   "id": "23d592a6-3eeb-4577-a500-ff9a7689504e",
   "metadata": {},
   "outputs": [],
   "source": [
    "# Holes - Assume 4 x 1\" holes in web for diaphragm\n",
    "D1 = 3 * units('in') # //TODO - is this a constant?\n",
    "D2 = 3 * units('in') + D1\n",
    "\n",
    "I_holes_web = (diaphragm_num_holes/2*(diaphragm_dia_hole*end_floorbeam.web_thickness)*(D1)**2)+(diaphragm_num_holes/2*(diaphragm_dia_hole*end_floorbeam.web_thickness)*(D2)**2)"
   ]
  },
  {
   "cell_type": "code",
   "execution_count": 117,
   "id": "224eb829-3418-4723-874b-2afe848f9a29",
   "metadata": {
    "tags": []
   },
   "outputs": [
    {
     "data": {
      "text/html": [
       "67.5 inch<sup>4</sup>"
      ],
      "text/latex": [
       "$67.5\\ \\mathrm{inch}^{4}$"
      ],
      "text/plain": [
       "67.5 <Unit('inch ** 4')>"
      ]
     },
     "execution_count": 117,
     "metadata": {},
     "output_type": "execute_result"
    }
   ],
   "source": [
    "I_holes_web"
   ]
  },
  {
   "cell_type": "code",
   "execution_count": 118,
   "id": "58cdbab9-5acf-4031-8fe6-ebcfdf0ce5c9",
   "metadata": {},
   "outputs": [],
   "source": [
    "I_holes_flange = lateral_num_holes * lateral_dia_holes * floorbeam.flange_thickness * (floorbeam.depth / 2 - floorbeam.flange_thickness / 2) ** 2"
   ]
  },
  {
   "cell_type": "code",
   "execution_count": 119,
   "id": "b1471cca-9641-4201-b51b-4f815310b817",
   "metadata": {},
   "outputs": [],
   "source": [
    "I_net = floorbeam.I_x - I_holes_web - I_holes_flange"
   ]
  },
  {
   "cell_type": "code",
   "execution_count": 120,
   "id": "b1605e85-3595-4315-b4ce-e7319fbf704b",
   "metadata": {},
   "outputs": [],
   "source": [
    "I_net\n",
    "\n",
    "S_x_net = I_net / (floorbeam.depth / 2)"
   ]
  },
  {
   "cell_type": "code",
   "execution_count": 121,
   "id": "44b80ec1-fcb1-40f3-a70f-3407c384e45e",
   "metadata": {},
   "outputs": [
    {
     "name": "stdout",
     "output_type": "stream",
     "text": [
      "OK, Stress Ratio: 0.3401055219027701 dimensionless\n"
     ]
    }
   ],
   "source": [
    "# Allowable Stress (AREMA Table 15-1-12)\n",
    "Fb_ten = 0.55 * F_y\n",
    "\n",
    "# Compression in extreme fiber\n",
    "Fb_comp_1 = 0.55*F_y-(0.55*F_y**2/(6.3*math.pi**2*E_steel))*(diaphragm_spacing_max/floorbeam.r_y)**2\n",
    "Fb_comp_2 = (0.131 * math.pi * E_steel / (diaphragm_spacing_max * floorbeam.depth * (1+poisson_ratio) ** .5 / (floorbeam.flange_thickness * floorbeam.flange_width))).to('psi')\n",
    "Fb_comp_3 = 0.55 * F_y\n",
    "\n",
    "F_b_comp = (min(Fb_comp_3, max(Fb_comp_1, Fb_comp_2))).to('ksi')\n",
    "\n",
    "f_b_act = (fb_M_tot / S_x_net).to('ksi')\n",
    "\n",
    "# Bearing area allowable stress\n",
    "if f_b_act < F_b_comp:\n",
    "    print(colored(f'OK, Stress Ratio: {f_b_act/F_b_comp}', 'green'))\n",
    "else:\n",
    "    print(colored('No Good - Floor Beam Allowable Stress Check', 'red'))"
   ]
  },
  {
   "cell_type": "code",
   "execution_count": 122,
   "id": "f485d655-5e7d-4729-b332-549898837bf3",
   "metadata": {},
   "outputs": [
    {
     "name": "stdout",
     "output_type": "stream",
     "text": [
      "OK, Stress Ratio: 0.2502732273083372 dimensionless\n"
     ]
    }
   ],
   "source": [
    "# End Shear\n",
    "R_dl = total_fb_dl_shear\n",
    "R_ll = fb_P_ll\n",
    "R_imp = fb_P_imp_ll * 2\n",
    "R_re = R1_rocking\n",
    "R_wl = fb_wind_R1\n",
    "\n",
    "R_tot = sum([R_dl, R_ll, R_imp, R_re, R_wl])\n",
    "\n",
    "# Assume 6x1\" dia holes in web to connect to girder\n",
    "fs_net = (R_tot/((floorbeam.depth-web_conn_girder_holes_num*web_conn_girder_holes_dia)*floorbeam.web_thickness)).to('ksi')\n",
    "\n",
    "F_v = (0.35 * F_y).to('ksi')\n",
    "\n",
    "# Bearing area allowable stress\n",
    "if fs_net < F_v:\n",
    "    print(colored(f'OK, Stress Ratio: {fs_net/F_v}', 'green'))\n",
    "else:\n",
    "    print(colored('No Good - Floor Beam End Shear Check', 'red'))"
   ]
  },
  {
   "cell_type": "code",
   "execution_count": 123,
   "id": "de685599-5b7e-4368-a9f4-789956d30ad8",
   "metadata": {},
   "outputs": [
    {
     "data": {
      "text/html": [
       "92465.94656133825 force_pound"
      ],
      "text/latex": [
       "$92465.94656133825\\ \\mathrm{force\\_pound}$"
      ],
      "text/plain": [
       "92465.94656133825 <Unit('force_pound')>"
      ]
     },
     "execution_count": 123,
     "metadata": {},
     "output_type": "execute_result"
    }
   ],
   "source": [
    "# Bolted Connection - Checked in sep. calc, they account for combined efect so no 1.25 increase\n",
    "# AREMA 15 1.5.9.a.1 # //TODO - Investigate this standard\n",
    "R_tot"
   ]
  },
  {
   "cell_type": "code",
   "execution_count": 124,
   "id": "9c7fa875-f105-4bea-b82c-2578ab4710ff",
   "metadata": {},
   "outputs": [
    {
     "name": "stdout",
     "output_type": "stream",
     "text": [
      "OK, Stress Ratio: 0.32234323685584865 dimensionless\n"
     ]
    }
   ],
   "source": [
    "# Floor beam fatigue\n",
    "fb_M_ll\n",
    "fb_fat_imp_M = assumed_mean_impact_perc * fb_M_imp\n",
    "fb_M_fat = fb_M_ll + fb_fat_imp_M\n",
    "\n",
    "fb_live_load_stress_range = (fb_M_fat / S_x_net).to('ksi')\n",
    "\n",
    "# N >= 2,000,000 Category B Table 15-1-10 Detail 2.2\n",
    "fb_fsr = 16 * units('ksi')\n",
    "\n",
    "# Bearing area allowable stress\n",
    "if fb_live_load_stress_range < fb_fsr:\n",
    "    print(colored(f'OK, Stress Ratio: {fb_live_load_stress_range/fb_fsr}', 'green'))\n",
    "else:\n",
    "    print(colored('No Good - Floor Beam Fatigue Check', 'red'))"
   ]
  },
  {
   "cell_type": "code",
   "execution_count": 125,
   "id": "cc015583-2ccf-4ae2-8ca8-2b3193e957d0",
   "metadata": {},
   "outputs": [
    {
     "name": "stdout",
     "output_type": "stream",
     "text": [
      "OK, Stress Ratio: 0.24964506342823886 dimensionless\n"
     ]
    }
   ],
   "source": [
    "# Deflection\n",
    "girder_spacing\n",
    "floorbeam.I_x\n",
    "E_steel\n",
    "\n",
    "fb_defl_M = fb_M_ll + fb_M_imp + fb_M_re\n",
    "\n",
    "fb_w = 8 * fb_defl_M / (girder_spacing ** 2)\n",
    "\n",
    "fb_deflection = ((5 * fb_w * girder_spacing ** 4) / (384 * E_steel * floorbeam.I_x)).to('in')\n",
    "max_deflection = (girder_spacing / 640).to('in')\n",
    "\n",
    "# Deflection Check\n",
    "if fb_deflection <= max_deflection:\n",
    "    print(colored(f'OK, Stress Ratio: {fb_deflection/max_deflection}', 'green'))\n",
    "else:\n",
    "    print(colored('No Good - Floor Beam Fatigue Check', 'red'))"
   ]
  },
  {
   "cell_type": "code",
   "execution_count": null,
   "id": "b3baf723-476a-4b17-93e6-b213c247e30a",
   "metadata": {},
   "outputs": [],
   "source": []
  },
  {
   "cell_type": "code",
   "execution_count": null,
   "id": "521ef537-7e34-4061-a969-b975444e77ec",
   "metadata": {},
   "outputs": [],
   "source": []
  },
  {
   "cell_type": "code",
   "execution_count": null,
   "id": "a6442cb5-1611-413a-86d6-042e32f7a847",
   "metadata": {},
   "outputs": [],
   "source": []
  },
  {
   "cell_type": "code",
   "execution_count": null,
   "id": "a9fa9744-7360-4d57-b213-7ffb87aaa93b",
   "metadata": {},
   "outputs": [],
   "source": []
  }
 ],
 "metadata": {
  "kernelspec": {
   "display_name": "Python 3 (ipykernel)",
   "language": "python",
   "name": "python3"
  },
  "language_info": {
   "codemirror_mode": {
    "name": "ipython",
    "version": 3
   },
   "file_extension": ".py",
   "mimetype": "text/x-python",
   "name": "python",
   "nbconvert_exporter": "python",
   "pygments_lexer": "ipython3",
   "version": "3.10.13"
  }
 },
 "nbformat": 4,
 "nbformat_minor": 5
}
