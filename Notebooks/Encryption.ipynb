{
 "cells": [
  {
   "cell_type": "code",
   "execution_count": 1,
   "id": "ede16ee3-d0bb-4247-bd85-9f37ace9e4c3",
   "metadata": {},
   "outputs": [],
   "source": [
    "from cryptography.fernet import Fernet"
   ]
  },
  {
   "cell_type": "code",
   "execution_count": 2,
   "id": "a2b52268-91ad-416e-a3dd-cce1a65cb668",
   "metadata": {},
   "outputs": [],
   "source": [
    "key = Fernet.generate_key() #this is your \"password\""
   ]
  },
  {
   "cell_type": "code",
   "execution_count": 8,
   "id": "ea6b87c2-87fe-448e-84a7-0f7a66859d35",
   "metadata": {},
   "outputs": [],
   "source": [
    "cipher_suite = Fernet(key)\n",
    "encoded_text = cipher_suite.encrypt(b\"Hello stackoverflow!\")"
   ]
  },
  {
   "cell_type": "code",
   "execution_count": 9,
   "id": "709bdb3e-e256-47ab-a7fc-355e2c04ca0b",
   "metadata": {},
   "outputs": [
    {
     "data": {
      "text/plain": [
       "b'gAAAAABnkoyy0pscRo_VET6Zb42MluSzOblYFqzF7-UQ_Z56ubW5ftVI02KAgXentq8T3LWQ1rwEwE46l40y4K7PqrA1TIK9TTPIoV9HfEiX_UihBHTyufo='"
      ]
     },
     "execution_count": 9,
     "metadata": {},
     "output_type": "execute_result"
    }
   ],
   "source": [
    "encoded_text"
   ]
  },
  {
   "cell_type": "code",
   "execution_count": 10,
   "id": "814db567-263a-46fe-a862-973da825a0c4",
   "metadata": {},
   "outputs": [
    {
     "data": {
      "text/plain": [
       "b'Hello stackoverflow!'"
      ]
     },
     "execution_count": 10,
     "metadata": {},
     "output_type": "execute_result"
    }
   ],
   "source": [
    "decoded_text = cipher_suite.decrypt(encoded_text)\n",
    "decoded_text"
   ]
  },
  {
   "cell_type": "code",
   "execution_count": 5,
   "id": "d9df4f3c-4ee4-4154-a89a-a4263a9bbe34",
   "metadata": {},
   "outputs": [
    {
     "ename": "ModuleNotFoundError",
     "evalue": "No module named 'Crypto'",
     "output_type": "error",
     "traceback": [
      "\u001b[1;31m---------------------------------------------------------------------------\u001b[0m",
      "\u001b[1;31mModuleNotFoundError\u001b[0m                       Traceback (most recent call last)",
      "Cell \u001b[1;32mIn[5], line 1\u001b[0m\n\u001b[1;32m----> 1\u001b[0m \u001b[38;5;28;01mimport\u001b[39;00m\u001b[38;5;250m \u001b[39m\u001b[38;5;21;01mCrypto\u001b[39;00m\n\u001b[0;32m      2\u001b[0m \u001b[38;5;28;01mfrom\u001b[39;00m\u001b[38;5;250m \u001b[39m\u001b[38;5;21;01mCrypto\u001b[39;00m\u001b[38;5;21;01m.\u001b[39;00m\u001b[38;5;21;01mPublicKey\u001b[39;00m\u001b[38;5;250m \u001b[39m\u001b[38;5;28;01mimport\u001b[39;00m RSA\n\u001b[0;32m      3\u001b[0m \u001b[38;5;28;01mfrom\u001b[39;00m\u001b[38;5;250m \u001b[39m\u001b[38;5;21;01mCrypto\u001b[39;00m\u001b[38;5;250m \u001b[39m\u001b[38;5;28;01mimport\u001b[39;00m Random\n",
      "\u001b[1;31mModuleNotFoundError\u001b[0m: No module named 'Crypto'"
     ]
    }
   ],
   "source": [
    "import Crypto\n",
    "from Crypto.PublicKey import RSA\n",
    "from Crypto import Random\n",
    "import ast\n",
    "\n",
    "random_generator = Random.new().read\n",
    "key = RSA.generate(1024, random_generator) #generate pub and priv key\n",
    "\n",
    "publickey = key.publickey() # pub key export for exchange\n",
    "\n",
    "encrypted = publickey.encrypt('encrypt this message', 32)\n",
    "#message to encrypt is in the above line 'encrypt this message'\n",
    "\n",
    "print('encrypted message:', encrypted) #ciphertext\n",
    "f = open ('encryption.txt', 'w')\n",
    "f.write(str(encrypted)) #write ciphertext to file\n",
    "f.close()\n",
    "\n",
    "#decrypted code below\n",
    "\n",
    "f = open('encryption.txt', 'r')\n",
    "message = f.read()\n",
    "\n",
    "\n",
    "decrypted = key.decrypt(ast.literal_eval(str(encrypted)))\n",
    "\n",
    "print('decrypted', decrypted)\n",
    "\n",
    "f = open ('encryption.txt', 'w')\n",
    "f.write(str(message))\n",
    "f.write(str(decrypted))\n",
    "f.close()"
   ]
  },
  {
   "cell_type": "code",
   "execution_count": null,
   "id": "f11cff8c-d421-4a42-ac73-73a56e361e52",
   "metadata": {},
   "outputs": [],
   "source": []
  },
  {
   "cell_type": "code",
   "execution_count": null,
   "id": "96aa51ff-83cb-4854-9db3-963b1a894d5e",
   "metadata": {},
   "outputs": [],
   "source": []
  }
 ],
 "metadata": {
  "kernelspec": {
   "display_name": "Python 3 (ipykernel)",
   "language": "python",
   "name": "python3"
  },
  "language_info": {
   "codemirror_mode": {
    "name": "ipython",
    "version": 3
   },
   "file_extension": ".py",
   "mimetype": "text/x-python",
   "name": "python",
   "nbconvert_exporter": "python",
   "pygments_lexer": "ipython3",
   "version": "3.12.6"
  }
 },
 "nbformat": 4,
 "nbformat_minor": 5
}
