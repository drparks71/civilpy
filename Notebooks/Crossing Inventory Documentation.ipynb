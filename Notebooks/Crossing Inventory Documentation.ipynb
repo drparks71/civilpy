{
 "cells": [
  {
   "cell_type": "markdown",
   "id": "1df72be0-9da5-48d3-81c4-4af1b585376a",
   "metadata": {
    "tags": []
   },
   "source": [
    "# FRA Crossing General Data\n",
    "\n",
    "[Data Pulled 9/18/2023 - Source.](https://safetydata.fra.dot.gov/OfficeofSafety/publicsite/DownloadCrossingInventoryData.aspx)\n",
    "\n",
    "[FRA Guidance for Preparing Accident/Incident Reports](https://railroads.dot.gov/sites/fra.dot.gov/files/fra_net/18812/FRA%20GUIDE%202003.pdf)\n",
    "\n",
    "[Crossing Data Definitions](https://railroads.dot.gov/sites/fra.dot.gov/files/2023-08/GCIS_Data_Dictionary_External_Use_v3-2-0-152_Rel_06-21-2022.pdf)\n",
    "\n",
    "[Crossing Accident Data Definitions](https://railroads.dot.gov/sites/fra.dot.gov/files/2019-09/gxirfile_ThruMay2011.pdf) (Outdated for most recent form)\n",
    "\n",
    "[Crossing Accident Form](https://railroads.dot.gov/sites/fra.dot.gov/files/2021-12/FRA%20F%206180.57.pdf)\n",
    "\n",
    "Socrata endpoint for the API: [https://data.transportation.gov/resource/7wn6-i5b9.json](https://data.transportation.gov/resource/7wn6-i5b9.json) (Also available in csv)"
   ]
  },
  {
   "cell_type": "markdown",
   "id": "1897e81e-2f54-4da4-a099-d73f9c2b876a",
   "metadata": {},
   "source": [
    "## Purpose\n",
    "\n",
    "This document sets out to identify high risk crossings within the state of Ohio for potential elimination by various 'crossing elimination programs'\n",
    "\n",
    "Example of extracting a single raw datapoint via python/pandas:"
   ]
  },
  {
   "cell_type": "code",
   "execution_count": null,
   "id": "788c9d61-3cbf-4488-9dac-7e7b1cc07e75",
   "metadata": {
    "tags": []
   },
   "outputs": [],
   "source": [
    "import pandas as pd\n",
    "#crossing_df = pd.read_csv (\"C:\\\\Users\\\\Public\\\\PWDrive\\\\MBI\\\\DEV\\\\Railroad\\\\Reference\\\\FRA\\Data\\\\Crossings\\\\csv files\\\\OH_StateCrossingData.csv\", low_memory=False)\n",
    "crossing_df = pd.read_csv (\"C:\\\\Users\\\\Public\\\\PWDrive\\\\MBI\\\\DEV\\\\Railroad\\\\Reference\\\\FRA\\Data\\\\Crossings\\\\csv files\\\\OH_StateCrossingData.csv\", low_memory=False)"
   ]
  },
  {
   "cell_type": "code",
   "execution_count": null,
   "id": "3d5374a5-7d08-45ea-af33-add3f511eabe",
   "metadata": {
    "tags": []
   },
   "outputs": [],
   "source": [
    "entry = crossing_df.iloc[0]"
   ]
  },
  {
   "cell_type": "code",
   "execution_count": null,
   "id": "51482ba8-d764-4935-9046-7062e2af92fb",
   "metadata": {
    "tags": []
   },
   "outputs": [],
   "source": [
    "for label, value in entry.items():\n",
    "    padding = '\\t' * (5 - (len(label) // 4))\n",
    "    print(f\"{label}:{padding} {value}\")"
   ]
  },
  {
   "cell_type": "markdown",
   "id": "9ab18bb6-1c95-4475-b764-493d8106d4c0",
   "metadata": {
    "tags": []
   },
   "source": [
    "# Translating Crossing Data\n",
    "\n",
    "The above entries don't mean much without being [translated to a useable form.](https://safetydata.fra.dot.gov/GCIS/Help/ReferenceDocuments/GCIS_Data_Dictionary_External_Use_v3-2-0-152_Rel_06-21-2022.pdf) This document attempts to utilize the same layout format.\n",
    "\n",
    "The data sources consists of two parts;"
   ]
  },
  {
   "cell_type": "markdown",
   "id": "f4efbb67-5dae-4856-a511-d64c3f9f1a71",
   "metadata": {
    "jp-MarkdownHeadingCollapsed": true
   },
   "source": [
    "## Seven Main Tables \n",
    "\n",
    "1. CI_CrossingHeader\n",
    "1. CI_LocationAndClassification\n",
    "1. CI_ReportBase\n",
    "1. CI_OperatingRailroad\n",
    "1. CI_PhysicalCharacteristics\n",
    "1. CI_HighwayTrafficControlDevice\n",
    "1. CI_PublicHighway\n",
    "\n",
    "![Database Schema](res/imgs/GradeCrossingDatabaseSchema.png)"
   ]
  },
  {
   "cell_type": "markdown",
   "id": "c57910a8-119b-43c1-8610-af4fa245f43e",
   "metadata": {
    "tags": []
   },
   "source": [
    "## Three 'Lookup' Tables\n",
    "\n",
    "1. CI_Lookups\n",
    "1. Lp_Reason\n",
    "1. CI_Errors"
   ]
  },
  {
   "cell_type": "markdown",
   "id": "0e957f76-6e27-49d3-ad4a-8399fe559e43",
   "metadata": {
    "tags": []
   },
   "source": [
    "### Tables Storing Crossing Inventory Records"
   ]
  },
  {
   "cell_type": "markdown",
   "id": "32d747c7-9a94-40ff-9d36-d984ddef5df3",
   "metadata": {},
   "source": [
    "#### CI_CrossingHeader\n",
    "\n",
    "This table contains data related to the crossing and ownership information of the Primary Operating Railroad Agency.\n",
    "\n",
    "| Column Name           | Description                                                       | Field Value                                                  | Type        |\n",
    "|:---------------------:|:-----------------------------------------------------------------:|:------------------------------------------------------------:|:-----------:|\n",
    "| AgencyId              | The Reporting Agency Type ID from which the submission originated | 1 = Railroad<br>2 = State<br>3 = Transit<br>4 = FRA Internal | int         |\n",
    "| CountyCode            | The code assigned to each U.S. County                             |                                                              | varchar(5)  |\n",
    "| CrossingID            | Primary Key. Also the Crossing Inventory Number.                  |                                                              | varchar(50) |\n",
    "| PublishedReportBaseId | Foreign key to the CI_ReportBase table                            |                                                              | int         |\n",
    "| StateCode             | The code assigned to each U.S. State                              |                                                              | varchar(5)  |\n",
    "| Created               | Date for which the original submission was created                | Date and Time<br>(Eastern Standard Time)                     | datetime    | \n",
    "| CreatedBy             | Username of the user who originally submitted the records         |                                                              | varchar(50) |\n",
    "| LastUpdated           | Date for which the existing submission was modified               | Date and Time<br>(Eastern Standard Time)                     | datetime    |\n",
    "| LastUpdatedBy         | Username of the user who last submitted the updated records       |                                                              | varchar(50) |\n",
    "\n",
    "<center>Table A - Fields in CI_CrossingHeader</center>"
   ]
  },
  {
   "cell_type": "code",
   "execution_count": null,
   "id": "64152e8d-92cb-44e3-9436-84596734feb3",
   "metadata": {
    "tags": []
   },
   "outputs": [],
   "source": [
    "from datetime import datetime\n",
    "from dataclasses import dataclass\n",
    "\n",
    "@dataclass\n",
    "class CrossingHeader:\n",
    "    agency_id: int\n",
    "    county_code: str\n",
    "    crossing_id: str\n",
    "    published_report_base_id: int\n",
    "    state_code: str\n",
    "    created: datetime\n",
    "    created_by: str\n",
    "    last_update: datetime\n",
    "    last_updated_by: str"
   ]
  },
  {
   "cell_type": "code",
   "execution_count": null,
   "id": "5fbef752-1241-4c43-9ee2-97f916eeea5a",
   "metadata": {},
   "outputs": [],
   "source": [
    "# Testing our Dataclass\n",
    "x = CrossingHeader(1, 'county_code', 'crossing_id', 2, 6, datetime.now(), 'test4', datetime.now(), 'test5')\n",
    "x.state_code"
   ]
  },
  {
   "cell_type": "markdown",
   "id": "77a03757-6fe1-4442-a25c-885df57ff88e",
   "metadata": {},
   "source": [
    "#### CI_HighwayTrafficControlDevice\n",
    "\n",
    "This table stores information pertaining to Part III: Highway or Pathway Traffic Control Device information of the Grade Crossing Inventory Form  (6180.71). Detailed information regarding the table is described below. \n",
    "\n",
    "|Box No.<br>on Form| Column Name | Description                                | Field Value | Type         |\n",
    "|:---------------:|:-----------:|:------------------------------------------:|:-----------:|:------------:|\n",
    "| III.2.D         | AdvW10_1    | Count of Advance Warning Signs W10-1 flag  |             | numeric(1,0) |\n",
    "| III.2.D         | AdvW10_11   | Count of Advance Warning Signs W10-11 flag |             | numeric(1,0) |\n",
    "| III.2.D         | AdvW10_12   | Count of Advance Warning Signs W10-12 flag |             | numeric(1,0) |\n",
    "| III.2.D         | AdvW10_2    | Count of Advance Warning Signs W10-2 flag  |             | numeric(1,0) |\n",
    "| III.2.D         | AdvW10_3    | Count of Advance Warning Signs W10-3 flag  |             | numeric(1,0) |\n",
    "| III.2.D         | AdvW10_4    | Count of Advance Warning Signs W10-4 flag  |             | numeric(1,0) |\n",
    "\n",
    "<center>Table C - Fields in CI_HighwayTraffiControlDevice</center>\n",
    "\n",
    "|Box No.<br>on Form| Column Name  | Description                                                                           | Field Value                                                                                         | Type         |\n",
    "|:----------------|:--------------|:--------------------------------------------------------------------------------------|:----------------------------------------------------------------------------------------------------|:-------------|\n",
    "| III.2.D        | AdvWarn       | Advance Warning Signs                                                                 | 0: None<br>1: W10-1<br>2: W10-2<br>3: W10-3<br>4: W10-4<br>11: W10-11<br>12: W10-12                 | varchar(32)  |\n",
    "| III.3.F        | AwdIDate      | Installation date of current Active Warning Devices                                   | MMYYYY<br>(-1 indicates \"Not Required\")                                                             | varchar(6)   |\n",
    "| III.3.G        | AwhornChk     | Wayside Horn                                                                          | 1: Yes<br>2: No                                                                                     | varchar(1)   |\n",
    "| III.3.G        | AwhornIDate   | Wayside Horn Installed On (date)                                                      | MMYYYY                                                                                              | varchar(6)   |\n",
    "| III.3.I        | Bells         | Number of Bells                                                                       |                                                                                                     | numeric(2,0) |\n",
    "| III.3.D        | Bkl_FlashPost | Mast Mounted Flashing Lights: Back Lights Included                                    | 1: Yes<br>2: No                                                                                     | varchar(32)  |\n",
    "| III.3.C        | CFlashType    | Type of Cantilevered (or Bridged) Flashing Light Structures                           | 0: None<br>1: Incandescent<br>2: LED                                                                | varchar(32)  |\n",
    "| III.3.G        | Channel       | Channelization Devices/Medians                                                        | 1: All Approaches<br>2: One Approach<br>3: Median-All Approaches<br>4:Median-One Approach<br>5:None | varchar(1)   |\n",
    "| III.2.I        | EnsSign       | ENS Sign Displayed                                                                    | 1: Yes<br>2: No                                                                                     | varchar(1)   |\n",
    "| III.2.H        | Exempt        | Exempt Signs                                                                          | 1: Yes<br>2: No                                                                                     | varchar(1)   |\n",
    "| III.3.C        | FlashNov      | Count of Cantilevered (or Bridged) Flashing Light<br>Structures Not Over Traffic Lane |                                                                                                     | numeric(2,0) |\n",
    "| III.3.K        | FlashOth      | Other Flashing Lights or Warning Devices: Count                                       |                                                                                                     | numeric(2,0) |\n",
    "| III.3.K        | FlashOthDes   | Other Flashing Lights or Warning Devices: Specify type                                |                                                                                                     | varchar(256) |\n",
    "| III.3.C        | FlashOv       | Count of Cantilevered (or Bridged) Flashing Light Structures Over Traffic Lane        |                                                                                                     | numeric(2,0) |\n",
    "| III.3.E        | FlashPai      | Total Count of Flashing Light Pairs                                                   |                                                                                                     | numeric(2,0) |\n",
    "| III.3.D        | FlashPost     | Mast Mounted Flashing Lights (count)                                                  |                                                                                                     | numeric(2,0) |\n",
    "| III.3.D        | FlashPostType | Mast Mounted Flashing Lights Type                                                     | 0: None<br>1: Incandescent<br>2: LED                                                                | varchar(32)  |\n",
    "| III.3.B        | GateConf      | Gate Configuration                                                                    | 1: 2 Quad<br>2: 3 Quad<br>3: 4 Quad                                                                 | varchar(32)  |\n",
    "| III.3.B        | GateConfType  | Type of Gate Configuration                                                            | 4: Full (Barrier) Resistance<br>6: Median Gates                                                     | varchar(32)  |\n",
    "| III.3.A        | GatePed       | Count of Pedestrian Gate Arms                                                         |                                                                                                     | numeric(2,0) |\n",
    "| III.3.A        | Gates         | Count of Roadway Gate Arms                                                            |                                                                                                     | numeric(2,0) |\n",
    "| III.5          | HwtrfPsig     | Highway Traffic Pre-Signals                                                           | 1: Yes<br>2: No                                                                                     | varchar(1)   |\n",
    "| III.5          | HwtrfPsigIndis| Stop Line Distance (count)                                                            |                                                                                                     | numeric(3,0) |\n",
    "| III.5          | HwtrfPsigsdis | Storage Distance (count)                                                              |                                                                                                     | numeric(3,0) |\n",
    "| III.4.A        | HwynrSig      | Does Nearby Hwy Intersection have Traffic Signals?                                    | 1: Yes<br>2: No                                                                                     | varchar(1)   |\n",
    "| III.3.H        | HwyTrafSignl  | Highway Traffic Signals Controlling Crossing                                          | 1: Yes<br>2: No                                                                                     | varchar(1)   |\n",
    "| III.4.B        | Intrprmp      | Hwy Traffic Signal Interconnection                                                    | 1: Not Interconnected<br>2: For Traffic Signals<br>3: For Warning Signs                             | varchar(32)  |\n",
    "| III.2.L        | Led           | LED Enhanced Signs                                                                    |                                                                                                     | varchar(256) |\n",
    "| III.2.E        | Low_Grnd      | Low Ground Clearance Signs                                                            | 1: Yes<br>2: No                                                                                     | varchar(1)   |\n",
    "| III.2.E        | Low_GrndSigns | Number of Low Ground Clearance Signs                                                  |                                                                                                     | numeric(2,0) |\n",
    "| III.6          | MonitorDev    | Highway Monitoring Devices                                                            | 0: None<br>1: Yes-Photo/Video Recording<br>2: Yes-Vehicle Presence Detection                        | varchar(32)  |\n",
    "| III.1          | NoSigns       | Are there Signs or Signals?                                                           | 1: Yes<br>2: No                                                                                     | varchar(1)   |\n",
    "| III.2.J        | OthDes1       | Specify Type of Other MUTCD Signs                                                     |                                                                                                     | varchar(10)  |\n",
    "| III.2.J        | OthDes2       | Specify Type of Other MUTCD Signs 2                                                   |                                                                                                     | varchar(10)  |\n",
    "| III.2.J        | OthDes3       | Specify Type of Other MUTCD Signs 3                                                   |                                                                                                     | varchar(10)  |\n",
    "| III.2.J        | OthSgn        | Other MUTCD Signs                                                                     | 1: Yes<br>2: No                                                                                     | varchar(1)   |\n",
    "| II.2.J         | OthSgn1       | Number of Other MUTCD Signs                                                           |                                                                                                     | numeric(2,0) |\n",
    "| III.2.J        | OthSgn2       | Number of Other MUTCD Signs 2                                                         |                                                                                                     | numeric(2,0) |\n",
    "| III.2.J        | OthSgn3       | Number of Other MUTCD Signs 3                                                         |                                                                                                     | numeric(2,0) |\n",
    "| III.2.F        | PaveMrkIDs    | Pavement Markings                                                                     | 0: None<br>1: Stope Lines<br>2: RR Xing Symbols<br>3: Dynamic Envelope                              | varchar(32)  |\n",
    "| III.4.C        | PrempType     | Highway Traffic Signal Preemption                                                     | 1: Simultaneous<br>2: Advance                                                                       | varchar(1)   |\n",
    "| III.2.K        | PrvxSign      | Private Crossing Signs                                                                | 1: Yes<br>2: No                                                                                     | varchar(1)   |\n",
    "|                | ReportBaseId  | Foreign Key to the CI_ReportBase table                                                |                                                                                                     | int          |\n",
    "| III.3.D        | Sdl_FlashPost | Mast Mounted Flashing Lights: Side Lights Included                                    | 1: Yes<br>2: No                                                                                     | varchar(32)  |\n",
    "| III.3.J        | SpecPro       | Non-Train Active Warning                                                              | 0: None<br>1: Flagging/Flagman<br>2: Manually Operated Signals<br>3: Watchman<br>4: Floodlighting   | varchar(20)  |\n",
    "| III.2.B        | StopStd       | Number of STOP Signs                                                                  |                                                                                                     | numeric(1,0) |\n",
    "| III.2.A        | XBuck         | Number of Crossbuck Assemblies                                                        |                                                                                                     | numeric(2,0) |\n",
    "| III.2.C        | YieldStd      | Number of Yield Signs                                                                 |                                                                                                     | numeric(1,0) |\n",
    "|                | WdCode        | Warning Device Code                                                                   |                                                                                                     | varchar(1)   |\n",
    "|                | Created       | Date for which the original submission was created                                    | Date and Time (Eastern Standard Time)                                                               | datetime     |\n",
    "|                | CreatedBy     | Username of the user who originally submitted the records                             |                                                                                                     | varchar(50)  |\n",
    "|                | LastUpdated   | Date for which the existing submission was modified                                   | Date and Time (Eastern Standard Time)                                                               | datetime     |\n",
    "|                | LastUpdatedBy | Username of the user who last submitted the updated records                           |                                                                                                     | varchar(50)  |\n",
    "\n",
    "<center>Table C - Fields in CI_HighwayTraffiControlDevice</center>"
   ]
  },
  {
   "cell_type": "code",
   "execution_count": null,
   "id": "65eb5734-0b63-489a-b8cb-c7a167ed1e04",
   "metadata": {},
   "outputs": [],
   "source": [
    "import math\n",
    "from numbers import Number\n",
    "\n",
    "@dataclass\n",
    "class HighwayTrafficControlDevice:\n",
    "    AdvW10_1: Number\n",
    "    AdvW10_11: Number\n",
    "    AdvW10_12: Number\n",
    "    AdvW10_2: Number\n",
    "    AdvW10_3: Number\n",
    "    AdvW10_4 : Number\n",
    "    AdvWarn: str\n",
    "    AwdIDate: str\n",
    "    AwhornChk: str\n",
    "    AwhornIDate: str\n",
    "    Bells: Number\n",
    "    Bkl_FlashPost: str\n",
    "    CFlashType: str\n",
    "    Channel: str\n",
    "    EnsSign: str\n",
    "    Exempt: str\n",
    "    FlashNov: Number\n",
    "    FlashOth: Number\n",
    "    FlashOthDes: str\n",
    "    FlashOv: Number\n",
    "    FlashPai: Number\n",
    "    FlashPost: Number\n",
    "    FlashPostType: str\n",
    "    GateConf: str\n",
    "    GateConfType: str\n",
    "    GatePed: Number\n",
    "    Gates: Number\n",
    "    HwtrfPsig: str\n",
    "    HwtrfPsigIndis: Number\n",
    "    HwtrfPsigsdis: Number\n",
    "    HwynrSig: str\n",
    "    HwyTrafSignl: str\n",
    "    Intrprmp: str\n",
    "    Led: str\n",
    "    Low_Grnd: str\n",
    "    Low_GrndSigns: Number\n",
    "    MonitorDev: str\n",
    "    NoSigns: str\n",
    "    OthDes1: str\n",
    "    OthDes2: str\n",
    "    OthDes3: str\n",
    "    OthSgn: str\n",
    "    OthSgn1: Number\n",
    "    OthSgn2: Number\n",
    "    OthSgn3: Number\n",
    "    PaveMrkIDs: str\n",
    "    PrempType: str\n",
    "    PrvxSign: str\n",
    "    ReportBaseId: int\n",
    "    Sdl_FlashPost: str\n",
    "    SpecPro: str\n",
    "    StopStd: Number\n",
    "    XBuck: Number\n",
    "    YieldStd: Number\n",
    "    WdCode: str\n",
    "    Created: datetime\n",
    "    CreatedBy: str\n",
    "    LastUpdated: datetime\n",
    "    LastUpdatedBy: str"
   ]
  },
  {
   "cell_type": "markdown",
   "id": "df2c9bfa-75ea-4896-8560-2d65b2b6ae66",
   "metadata": {},
   "source": [
    "#### CI_LocationAndClassification\n",
    "\n",
    "This table stores information pertaining to Part I: Location and Classification Information of the Grade Crossing Inventory Form (6180.71).\n",
    "\n",
    "|Box No.<br>on Form| Column Name | Description                                                                     | Field Value                                                                                         | Type         |\n",
    "|:-----------------|:------------|:--------------------------------------------------------------------------------|:----------------------------------------------------------------------------------------------------|:-------------|\n",
    "| I.5    | BlockNumb      | Block Number                                                                           |                                                                                                     | varchar(6)   |\n",
    "| I.4    | CityCD         | The code assigned to each U.S. City                                                    |                                                                                                     | varchar(10)  |\n",
    "| I.3    | cntyCD         | The code assigned to each U.S. County                                                  |                                                                                                     | varchar(10)  |\n",
    "| I.23   | DevelTypID     | Type of Land Use                                 | 11: Open Space<br>12: Residential<br>13: Commercial<br>14: Industrial<br>15: Institutional<br>16: Farm<br>17: Recreational<br>18: RR Yard | varchar(32)  |\n",
    "| I.6    | Highway        | Highway Type & No.                                                                     |                                                                                                     | varchar(256) |\n",
    "| I.26   | HscoRrid       | HSR Corridor ID                                                        | ID (Identifier) from the GCIS Look Up reference table<br><br>(-1 indicates \"N/A\")<br><br>Related Field: SfxHscoRrid | varchar(4)   |\n",
    "| I.35   | HwyCont        | State Contact (Telephone No.)                                                          |                                                                                                     | varchar(10)  |\n",
    "| I.27   | Latitude       | Latitude                                                                               |                                                                                                     | varchar(256) |\n",
    "| I.29   | LLsource       | Lat/Long Source                                                                        | 1: Actual<br>2: Estimated                                                                           | varchar(1)   |\n",
    "| I.28   | Longitude      | Longitude                                                                              |                                                                                                     | varchar(256) |\n",
    "| I.7    | MultFrmsFiled  | Do Other Railroads Operate a Separate Track at Crossing                                | 1: Yes<br>2: No                                                                                     | varchar(1)   |\n",
    "| I.4    | Nearest        | In/Near                                                                                | 0: In<br>1: Near                                                                                    | varchar(1)   |\n",
    "| I.20   | OpenPub        | Public Access (If Private Crossing)                                                    | 1: Yes<br>2: No                                                                                     | varchar(1)   |\n",
    "| I.33   | PolCont        | Emergency Notification Telephone No.                                                   |                                                                                                     | varchar(10)  |\n",
    "| I.19   | PosXing        | Crossing Position                                                                      | 1: At Grade<br>2: RR Under<br>3: RR Over                                                            | varchar(1)   |\n",
    "| I.1    | Railroad       | The code associated with the primary Operating Railroad                                |                                                                                                     | varchar(32)  |\n",
    "|        | ReportBaseId   | Foreign Key to the CI_ReportBase table                                                 |                                                                                                     | int          |\n",
    "| I.34   | RrCont         | Railroad Contact (Telephone No.)                                                       |                                                                                                     | varchar(10)  |\n",
    "| I.13   | RrID           | Line Segment                                                                           |                                                                                                     | varchar(256) |\n",
    "| I.15   | RrMain         | The code associated with the Parent Railroad                                           | Valid Railroad or Company Code<br>(-1 is a code meaning \"N/A\")                                      | varchar(32)  |\n",
    "| I.32.A | RrNarr         | Railroad Narrative                                                                     |                                                                                                     | varchar(max) |\n",
    "| I.30.A | RrNarr1        | Railroad narrative A                                                                   |                                                                                                     | varchar(256) |\n",
    "| I.30.B | RrNarr2        | Railroad narrative B                                                                   |                                                                                                     | varchar(256) |\n",
    "| I.30.C | RrNarr3        | Railroad narrative C                                                                   |                                                                                                     | varchar(256) |\n",
    "| I.30.D | RrNarr4        | Railroad narrative D                                                                   |                                                                                                     | varchar(256) |\n",
    "| I.8    | SameInd        | Do other Railroads Operate Over Your Track at Crossing?                                | 1: Yes<br>2: No                                                                                     | varchar(1)   |\n",
    "| I.8    | SameRr1        | The code associated with the Railroad selected in the 1st drop-down list for field I.8 |                                                                                                     | varchar(32)  |\n",
    "| I.8    | SameRr2        | The code associated with the Railroad selected in the 2nd drop-down list for field I.8 |                                                                                                     | varchar(32)  |\n",
    "| I.8    | SameRr3        | The code associated with the Railroad selected in the 3rd drop-down list for field I.8 |                                                                                                     | varchar(32)  |\n",
    "| I.8    | SameRr4        | The code associated with the Railroad selected in the 4th drop-down list for field I.8 |                                                                                                     | varchar(32)  |\n",
    "| I.7    | SepInd         | Do Other Railroads Operate a Seperate Track at Crossing?                               | 1: Yes<br>2: No                                                                                     | varchar(1)   |\n",
    "| I.7    | SepRr1         | The code associated with the Railroad selected in the 1st drop-down list for field I.7 |                                                                                                     | varchar(32)  |\n",
    "| I.7    | SepRr2         | The code associated with the Railroad selected in the 2nd drop-down list for field I.7 |                                                                                                     | varchar(32)  |\n",
    "| I.7    | SepRr3         | The code associated with the Railroad selected in the 3rd drop-down list for field I.7 |                                                                                                     | varchar(32)  |\n",
    "| I.7    | SepRr4         | The code associated with the Railroad selected in the 4th drop-down list for field I.7 |                                                                                                     | varchar(32)  |\n",
    "| I.26   | SfxHscoRrid    | HSR Corridor ID Suffix                                                                 | Rail-Section Identifier (numeric 1-9) or 'X' if numeric not used.                                   | varchar(4)   |\n",
    "| I.2    | StateCD        | The code assigned to each U.S. States                                                  |                                                                                                     | varchar(2)   |\n",
    "| I.32.B | StNarr         | State Narrative                                                                        |                                                                                                     | varchar(max) |\n",
    "| I.31.A | StNarr1        | State narrative A                                                                      |                                                                                                     | varchar(256) |\n",
    "| I.31.B | StNarr2        | State narrative B                                                                      |                                                                                                     | varchar(256) |\n",
    "| I.31.C | StNarr3        | State narrative C                                                                      |                                                                                                     | varchar(256) |\n",
    "| I.31.D | StNarr4        | State narrative D                                                                      |                                                                                                     | varchar(256) |\n",
    "| I.5    | Street         | Street or Road name                                                                    |                                                                                                     | varchar(256) |\n",
    "| I.14   | Tst            | Timetable Station                                                                      |                                                                                                     | varchar(6)   |\n",
    "| I.14   | TstnNam        | Nearest RR Timetable Station                                                           |                                                                                                     | varchar(256) |\n",
    "| I.21   | TypeTrnSrvcIDs | Type of Train Service                                                 | 11: Freight<br>12: Intercity Passenger<br>13: Commuter<br>14: Transit<br>15: Shared Use Transit<br>16: Tourist/Other | varchar(32)  |\n",
    "| I.17   | TypeXing       | Crossing Type                                                                          | 2: Private<br>3: Public                                                                             | varchar(1)   |\n",
    "| I.25   | Whistban       | Quiet Zone                                                                             | 0: No<br>1: 24 hr<br>2: Partial<br>3: Chicago Excused                                               | varchar(1)   |\n",
    "| I.25   | WhistDate      | Date Established (Quiet Zone)                                                          |                                                                                                     | datetime     |\n",
    "| I.24   | XingAdj        | Is there an Adjacent Crossing with a Separate Number?                                  | 1: Yes<br>2: No                                                                                     | varchar(1)   |\n",
    "| I.16   | XingOwnr       | Crossing Owner (RR ID)                                                                 | Valid Railroad or Company Code<br>(-1 is a code meaning \"N/A\")                                      | varchar(32)  |\n",
    "| I.24   | XngAdjNo       | If Yes, Provide Crossing number                                                        |                                                                                                     | varchar(7)   |\n",
    "| I.18   | XPurpose       | Crossing Purpose                                                                       | 1: Highway<br>2: Pathway, Pedestrian<br>3: Station, Pedestrian                                      | varchar(1)   |\n",
    "|        | Created        | Date for which the original submission was created                                     | Date and Time<br>(Eastern Standard Time)                                                            | datetime     |\n",
    "|        | CreatedBy      | Username of the user who originally submitted the records                              |                                                                                                     | varchar(50)  |\n",
    "|        | LastUpdated    | Date for which the existing submission was modified                                    | Date and Time<br>(Eastern Standard Time)                                                            | datetime     |\n",
    "|        | LastUpdatedBy  | Username of the user who last submitted the updated records                            |                                                                                                     | varchar(50)  |\n",
    "\n",
    "<center>Table D - Fields in CI_LocationAndClassification</center>"
   ]
  },
  {
   "cell_type": "code",
   "execution_count": null,
   "id": "2a860891-924f-4dcb-b727-1f54b6462229",
   "metadata": {},
   "outputs": [],
   "source": [
    "@dataclass\n",
    "class LocationAndClassification:\n",
    "    BlockNumb: str\n",
    "    CityCD: str\n",
    "    cntyCD: str\n",
    "    DevelTypID: str\n",
    "    Highway: str\n",
    "    HscoRrid: str\n",
    "    HwyCont: str\n",
    "    Latitude: str\n",
    "    LLsource: str\n",
    "    Longitude: str\n",
    "    MultFrmsFiled: str\n",
    "    Nearest: str\n",
    "    OpenPub: str\n",
    "    PolCont: str\n",
    "    PosXing: str\n",
    "    Railroad: str\n",
    "    ReportBaseId: int\n",
    "    RrCont: str\n",
    "    RrID: str\n",
    "    RrMain: str\n",
    "    RrNarr: str\n",
    "    RrNarr1: str\n",
    "    RrNarr2: str\n",
    "    RrNarr3: str\n",
    "    RrNarr4: str\n",
    "    SameInd: str\n",
    "    SameRr1: str\n",
    "    SameRr2: str\n",
    "    SameRr3: str\n",
    "    SameRr4: str\n",
    "    SepInd: str\n",
    "    SepRr1: str\n",
    "    SepRr2: str\n",
    "    SepRr3: str\n",
    "    SepRr4: str\n",
    "    SfxHscoRrid: str\n",
    "    StateCD: str\n",
    "    StNarr: str\n",
    "    StNarr1: str\n",
    "    StNarr2: str\n",
    "    StNarr3: str\n",
    "    StNarr4: str\n",
    "    Street: str\n",
    "    Tst: str\n",
    "    TstnNam: str\n",
    "    TypeTrnSrvcIDs: str\n",
    "    TypeXing: str\n",
    "    Whistban: str\n",
    "    WhistDate: datetime\n",
    "    XingAdj: str\n",
    "    XingOwnr: str\n",
    "    XngAdjNo: str\n",
    "    XPurpose: str\n",
    "    Created: datetime\n",
    "    CreatedBy: str\n",
    "    LastUpdated: datetime\n",
    "    LastUpdatedBy: str"
   ]
  },
  {
   "cell_type": "markdown",
   "id": "c7fe7138-8adc-485e-a843-94a7e5ff66a9",
   "metadata": {},
   "source": [
    "#### CI_OperatingRailroad\n",
    "\n",
    "This table contains 2 Primary Keys consisting of the OperatingRailroadCode and OperatingRailroadType that distinctly identifies that the record \n",
    "is a Multiple Forms Filed (MFF) record and the ReportBaseId that is a foreign key to the CI_ReportBase table capturing the Header \n",
    "information. It also captures data for Part II: Railroad Information of the Grade Crossing Inventory Form (6180.71).\n",
    "\n",
    "|Box No.<br>on Form| Column Name | Description                                                          | Field Value                                                                                         | Type         |\n",
    "|:-----------------|:------------|:---------------------------------------------------------------------|:----------------------------------------------------------------------------------------------------|:-------------|\n",
    "| I.11   | Branch                | Branch or Line Name                                                  | Any Alphanumeric Data<br>(#N\\A is a code meaning \"None\")                                            | varchar(256) |\n",
    "| II.1.A | DayThru               | Total Daylight Thru Trains                                           |                                                                                                     | numeric(3,0) |\n",
    "| II.7.A | EMonitorDvce          | Event Recorder                                                       | 1: Yes<br>2: No                                                                                     | varchar(1)   |\n",
    "| II.7.B | HealthMonitor         | Remote Health monitoring                                             | 1: Yes<br>2: No                                                                                     | varchar(1)   |\n",
    "| II.4   | IndustryTrk           | Number of Industry tracks                                            |                                                                                                     | numeric(2,0) |\n",
    "| II.1.E | Lt1Mov                | Check if Less Than One Movement Per Day                              | 1: Less Than One Movement Per Day<br>2: One or More Movements Per Day                               | varchar(1)   |\n",
    "| I.22   | Lt1PassMov            | Average Passenger Train Count Per Day: Less Than One Per Day         | 1: Yes<br>2: No                                                                                     | varchar(1)   |\n",
    "| II.4   | MainTrk               | Number of Main tracks                                                |                                                                                                     | numeric(2,0) |\n",
    "| II.3.B | MaxSpd                | Typical Speed Range Over Crossing - MaxTypical Speed                 |                                                                                                     | numeric(3,0) |\n",
    "| II.3.A | MaxTtSpd              | Maximum Timetable Speed                                              |                                                                                                     | numeric(3,0) |\n",
    "| I.12   | MilePost              | RR Milepost Number                                                   |                                                                                                     | varchar(8)   |\n",
    "| II.3.B | MinSpd                | Typical Speed Range Over Crossing (minimum)                          |                                                                                                     | numeric(3,0) |\n",
    "| II.1.B | NghtThru              | Total Night time Thru Trains                                         |                                                                                                     | float        |\n",
    "|        | OperatingRailroadCode | Primary Key. The code associated with the Primary Operating Railroad |                                                                                                     | varchar(32)  |\n",
    "|        | OperatingRailroadType | Primary Key. The type distinguishing whether the operating Railroad is the Primary, Operate a Separate Track, or Operate Over a track | Primay: Primary Operating Railroad<br>Samerr: Operate Over Your Track at Crossing<br>Seprr: Operate a Separate Track at Crossing | varchar(10) |\n",
    "| I.22   | PassCnt               | Average Passenger Train Count Per Day: Number per day                |                                                                                                     | numeric(3,0) |\n",
    "| I.12   | PrfxMilePost          | RR Milepost Prefix                                                   |                                                                                                     | varchar(3)   |\n",
    "|        | ReportBaseId          | Foreign Key to the CI_ReportBase table                               |                                                                                                     | int          |\n",
    "| I.9    | RrDiv                 | Railroad Division or Region                                          | Any Alphanumeric Data<br>(#N\\A is a code meaning \"None\")                                            | varchar(256) |\n",
    "| I.10   | RrSubDiv              | Railroad Subdivision or District                                     | Any Alphanumeric Data<br>(#N\\A is a code meaning \"None\")                                            | varchar(256) |\n",
    "| I.12   | SfxMilePost           | RR Milepost Suffix                                                   |                                                                                                     | varchar(3)   |\n",
    "| II.6   | Sgnleqp               | Is Track Signaled                                                    | 1: Yes<br>2: No                                                                                     | varchar(1)   |\n",
    "| II.4   | SidingTrk             | Number of Siding Tracks                                              |                                                                                                     | numeric(2,0) |\n",
    "| II.5   | SpselIDs              | Train Detection                                                | 0: None<br>11: Constant Warning Time<br>12: Motion Detection<br>14: Other<br>16: AFO<br>17: PTC<br>18: DC | varchar(32)  |\n",
    "| II.1.D | TotalLtr              | Total Transit Trains                                                 |                                                                                                     | float        |\n",
    "| II.1.C | TotalSwt              | Total Switching Trains                                               |                                                                                                     | float        |\n",
    "| II.4   | TransitTrk            | Number of Transit tracks                                             |                                                                                                     | numeric(2,0) |\n",
    "| II.1.E | WeekTrnMov            | How many Trains per Week                                             |                                                                                                     | float        |\n",
    "| II.4   | YardTrk               | Number of Yard tracks                                                |                                                                                                     | numeric(2,0) |\n",
    "| II.2   | YearTrnMov            | Year of Train Count Data                                             |                                                                                                     | float        |\n",
    "|        | Created               | Date for which the original submission was created                   | Date and Time<br>(Eastern Standard Time)                                                            | datetime     |\n",
    "|        | CreatedBy             | Username of the user who originally submitted the records            |                                                                                                     | varchar(50)  |\n",
    "|        | LastUpdated           | Date for which the existing submission was modified                  | Date and Time<br>(Eastern Standard Time)                                                            | datetime     |\n",
    "|        | LastUpdatedBy         | Username of teh user who last submitted the updated records          |                                                                                                     | varchar(50)  |\n",
    "\n",
    "<center>Table E - Fields in CI_OperatingRailroad</center>"
   ]
  },
  {
   "cell_type": "code",
   "execution_count": null,
   "id": "69b7fe05-a368-4f0d-823a-73f4156355ba",
   "metadata": {},
   "outputs": [],
   "source": [
    "@dataclass\n",
    "class OperatingRailroad:\n",
    "    Branch: str\n",
    "    DayThru: Number\n",
    "    EMonitorDvce: str\n",
    "    HealthMonitor: str\n",
    "    IndustryTrk: Number\n",
    "    Lt1Mov: str\n",
    "    Lt1PassMov: str\n",
    "    MainTrk: Number\n",
    "    MaxSpd: Number\n",
    "    MaxTtSpd: Number\n",
    "    MilePost: str\n",
    "    MinSpd: Number\n",
    "    NghtThru: float\n",
    "    OperatingRailroadCode: str\n",
    "    OperatingRailroadType: str\n",
    "    PassCnt: Number\n",
    "    PrfxMilePost: str\n",
    "    RrDiv: str\n",
    "    RrSubDiv: str\n",
    "    SfxMilePost: str\n",
    "    Sgnleqp: str\n",
    "    SidingTrk: Number\n",
    "    SpselIDs: str\n",
    "    TotalLtr: float\n",
    "    TotalSwt: float\n",
    "    TransitTrk: Number\n",
    "    WeekTrnMov: float\n",
    "    YardTrk: Number\n",
    "    YearTrnMov: float\n",
    "    CreatedDate: datetime\n",
    "    CreatedBy: str\n",
    "    LastUpdated: datetime\n",
    "    LastUpdatedBy: str"
   ]
  },
  {
   "cell_type": "markdown",
   "id": "cc044af8-4dc0-4dcd-9310-fae7d293d122",
   "metadata": {},
   "source": [
    "#### CI_PhysicalCharacteristics\n",
    "\n",
    "This table stores information pertaining to Part IV: Physical Characteristics of the Grade Crossing Inventory Form (6180.71).\n",
    "\n",
    "|Box No.<br>on Form| Column Name | Description                                       | Field Value                                                                                         | Type         |\n",
    "|:-----------------|:------------|:--------------------------------------------------|:----------------------------------------------------------------------------------------------------|:-------------|\n",
    "| IV.8 | ComPower      | Is Commercial Power Available?                              | 1: Yes<br>2: No                                                                                     | varchar(1)   |\n",
    "| IV.3 | Downst        | Does Track Run Down a Street?                               | 1: Yes<br>2: No                                                                                     | varchar(1)   |\n",
    "| IV.6 | HwynDist      | Approximate Intersecting Roadway Distance (feet)            |                                                                                                     | numeric(4,0) |\n",
    "| IV.6 | HwyNear       | Intersecting Roadway within 500 feet?                       | 1: Yes<br>2: No                                                                                     | varchar(1)   |\n",
    "| IV.2 | HwyPved       | Is Roadway/Pathway Paved?                                   | 1: Yes<br>2: No                                                                                     | varchar(1)   |\n",
    "| IV.4 | Illumina      | Is Crossing Illuminated?                                    | 1: Yes<br>2: No                                                                                     | varchar(1)   |\n",
    "|      | ReportBaseId  | Foreign Key to the CI_ReportBase table                      |                                                                                                     | int          |\n",
    "| IV.1 | TraficLn      | Number of Traffic Lanes Crossing Railroad                   |                                                                                                     | varchar(2)   |\n",
    "| IV.1 | TraflnType    | Traffic Lane Type                                           | 1: One-way Traffic<br>2: Two-way Traffic<br>3: Divided Traffic                                      | varchar(1)   |\n",
    "| IV.7 | XAngle        | Smallest Crossing Angle                                     | 1: 0°-29°<br>2: 30°-59°<br>3: 60°-90°                                                               | varchar(1)   |\n",
    "| IV.5 | XSurfaceIDs   | Crossing Surface | 11: 1. Timber<br>12: 2. Asphalt<br>13: 3. Asphalt and Timber<br>14: 4. Concrete<br>15: 5. Concrete and Rubber<br>16: 6. Rubber<br>17: 7. Metal<br>18: 8. Unconsolidated<br>19: 9. Composite<br>20: 10. Other (specify) | varchar(32) |\n",
    "| IV.5 | XSurfDate     | Crossing Surface Installation Date                          | MMYYYY                                                                                              | varchar(6)   |\n",
    "| IV.5 | XSurfLength   | Crossing Surface Length                                     |                                                                                                     | numeric(3,0) |\n",
    "| IV.5 | XSurfWidth    | Crossing Surface Width                                      |                                                                                                     | numeric(3,0) |\n",
    "| IV.5 | XSurOthr      | Other Crossing Surface (description)                        |                                                                                                     | varchar(256) |\n",
    "|      | Created       | Date for which the original submission was created          | Date and Time<br>(Eastern Standard Time)                                                            | datetime     |\n",
    "|      | CreatedBy     | Username of the user who originally submitted the records   |                                                                                                     | varchar(50)  |\n",
    "|      | LastUpdated   | Date for which the existing submission was modified         | Date and Time<br>(Eastern Standard Time)                                                            | datetime     |\n",
    "|      | LastUpdatedBy | Username of the user who last submitted the updated records |                                                                                                     | varchar(50)  |\n",
    "\n",
    "<center>Table F - Fields in CI_PhysicalCharacteristic<center>                                                                                                                                                                           "
   ]
  },
  {
   "cell_type": "code",
   "execution_count": null,
   "id": "2f3072f6-fea3-484a-9136-72fd3879154a",
   "metadata": {},
   "outputs": [],
   "source": [
    "@dataclass\n",
    "class PhysicalCharacteristics:\n",
    "    ComPower: str\n",
    "    Downst: str\n",
    "    HwynDist: Number\n",
    "    HwyNear: str\n",
    "    HwyPved: str\n",
    "    Illumina: str\n",
    "    ReportBaseId: int\n",
    "    TraficLn: str\n",
    "    TraflnType: str\n",
    "    XAngle: str\n",
    "    XSurfaceIDs: str\n",
    "    XSurfDate: str\n",
    "    XSurfLength: Number\n",
    "    XSurfWidth: Number\n",
    "    XSurOthr: str\n",
    "    Created: datetime\n",
    "    CreatedBy: str\n",
    "    LastUpdated: datetime\n",
    "    LastUpdatedBy: str"
   ]
  },
  {
   "cell_type": "markdown",
   "id": "38f054c6-b555-43fa-92e2-cb4bcb513347",
   "metadata": {},
   "source": [
    "#### CI_PublicHighway\n",
    "\n",
    "This table stores information pertaining to Part V: Public Highway Information of the Grade Crossing Inventory Form (6180.71).\n",
    "\n",
    "|Box No.<br>on Form| Column Name | Description                                                        | Field Value                                                                                         | Type         |\n",
    "|:-----------------|:------------|:-------------------------------------------------------------------|:----------------------------------------------------------------------------------------------------|:-------------|\n",
    "| V.7  | Aadt           | Annual Average Daily Traffic (AADT) Count                                   |                                                                                                     | varchar(6)   |\n",
    "| V.7  | AadtYear       | Annual Average Daily Traffic (AADT) Year                                    |                                                                                                     | varchar(4)   |\n",
    "| V.10 | EmrgncySrvc    | Emergency Servies Route                                                     | 1: Yes<br>2: No                                                                                     | varchar(1)   |\n",
    "| V.2  | HwyClassCD     | Functional Classification of Road at Crossing: Rural or Urban               | 0: (0) Rural<br>1: (1) Urban                                                                        | varchar(1)   |\n",
    "| V.2  | HwyClassrdtpID | Functional Classification of Road at Crossing: Type of Highway/Roadway (ID) | 11: (1) Interstate<br>12: (2) Other Freeways and Expressways<br>13: (3) Other Principal Arterial<br>16: (4) Minor Arterial<br>17: (5) Major Collector<br>18: (6) Minor Collect<br>19: (7) Local | varchar(32) |\n",
    "| V.4  | HwySpeed       | Highway Speed Limit                                                         |                                                                                                     | numeric(3,0) |\n",
    "| V.4  | HwySpeedps     | Highway Speed Limit: Posted or Statutory                                    | 1: Posted<br>2: Statutory                                                                           | varchar(1)   |\n",
    "| V.1  | HwySys         | Highway System                               | 1: (01) Interstate Highway System<br>2: (02) Other Nat Hwy System (NHS)<br>3: (03) Federal Aid, Not NHS<br>8: (08) Non-Federal Aid | varchar(2)   |\n",
    "| V.6  | LrsMilePost    | LRS Milepost                                                                |                                                                                                     | varchar(256) |\n",
    "| V.5  | LrsRouteid     | Linear Referencing System (LRS Route ID)                                    |                                                                                                     | varchar(256) |\n",
    "| V.8  | PctTruk        | Estimated Percent Trucks                                                    |                                                                                                     | varchar(2)   |\n",
    "|      | ReportBaseId   | Foreign key to the CI_ReportBaseTable                                       |                                                                                                     | int          |\n",
    "| V.9  | SchlBsCnt      | Average Number School Bus Count per Day                                     |                                                                                                     | numeric(3,0) |\n",
    "| V.9  | SchlBusChk     | Regularly Used by School Buses?                                             | 1: Yes<br>2: No                                                                                     | varchar(1)   |\n",
    "| V.3  | StHwy1         | Is Crossing on State Highway System?                                        | 1: Yes<br>2: No                                                                                     | varchar(1)   |\n",
    "|      | Created        | Date for whcih the original submission was created                          | Date and Time<br>(Eastern Standard Time)                                                            | datetime     |\n",
    "|      | CreatedBy      | Username of the user who originally submitted the records                   |                                                                                                     | varchar(50)  |\n",
    "|      | LastUpdated    | Date for which the existing submission was modified                         |                                                                                                     | datetime     |\n",
    "|      | LastUpdatedBy  | Username of the user who last submitted the updated records                 | Date and Time<br>(Eastern Standard Time)                                                            | varchar(50)  |\n",
    "              \n",
    "<center>Table G - Fields in CI_PublicHighway<center>"
   ]
  },
  {
   "cell_type": "code",
   "execution_count": null,
   "id": "c1da6e2c-6636-40d5-9dda-623b4575080d",
   "metadata": {},
   "outputs": [],
   "source": [
    "@dataclass\n",
    "class PublicHighway:\n",
    "    Aadt: str\n",
    "    AadtYear: str\n",
    "    EmrgncySrvc: str\n",
    "    HwyClassCD: str\n",
    "    HwyClassrdtpID: str\n",
    "    HwySpeed: Number\n",
    "    HwySpeedps: str\n",
    "    HwySys: str\n",
    "    LrsMilePost: str\n",
    "    LrsRouteid: str\n",
    "    PctTruk: str\n",
    "    ReportBaseId: int\n",
    "    SchlBsCnt: Number\n",
    "    SchlBusChk: Number\n",
    "    StHwy1: str\n",
    "    Created: datetime\n",
    "    CreatedBy: str\n",
    "    LastUpdated: datetime\n",
    "    LastUpdatedBy: str"
   ]
  },
  {
   "cell_type": "markdown",
   "id": "14460484-8801-4362-807d-150f8c07238f",
   "metadata": {},
   "source": [
    "#### CI_ReportBase\n",
    "\n",
    "This table stores the Header information, as well as the crossing records where the Primary Operating Railroad selected the value of Yes for field \n",
    "I.7 Do Other Railroads Operate a Separate Track at Crossing? This means that the Primary Operating Railroad is listing up to four (4) additional \n",
    "railroads to submit their railroad and train count data. These submissions will be flagged with a value of 1 in the database, denoting that the record \n",
    "is a Multiple Forms Filed (MFF) record. Detailed information regarding the table is described in the table below.\n",
    "\n",
    "|Box No.<br>on Form| Column Name | Description                                                 | Field Value                                                                                         | Type         |\n",
    "|:----------------:|:-----------:|:-----------------------------------------------------------:|:---------------------------------------------------------------------------------------------------:|:------------:|\n",
    "|      | CrossingClosed          | Crossing Closed Indicator                                   | 1: Closed<br>2: Open                                                                                | int          |\n",
    "| D    | CrossingID              | DOT Crossing Inventory Number                               |                                                                                                     | varchar(20)  |\n",
    "| D    | CrossingIdSuffix        | Crossing ID suffix                                          |                                                                                                     | varchar(20)  |\n",
    "|      | MultipleFormsFiled      | Multiple Forms Filed (boolean)                              | 1: Yes<br>2: No                                                                                     | int          |\n",
    "|      | ParentReportBaseId      | Unique ID for all crossings in this table                   |                                                                                                     | int          |\n",
    "| A    | PostmarkDate            | Submission Date                                             |                                                                                                     | Datetime     |\n",
    "| C    | ReasonID | Reason for Update | 14: Change in Data<br>15: New Crossing<br>16: Closed<br>19: Re-Open<br>20: Date Change Only<br>21: Change in Primary Operating RR<br>22: Admin. Correction<br>23: Quiet Zone Update<br>24: No Train Traffic | int |\n",
    "|      | ReportBaseID            | Foreign key to the CI_ReportBase table                      |                                                                                                     | int          |\n",
    "|      | ReportingAgencyID       | Reporting Agency ID                                         |                                                                                                     | int          |\n",
    "| B    | ReportingAgencyTypeID   | Reporting Agency Type ID                                    | 1: Railroad<br>2: State<br>3: Transit<br>4: FRA Internal                                            | int          |\n",
    "|      | ReportStatus            | The status of the submission                                | Bulk Upload Error<br>Cancelled<br>Expired<br>Pending<br>Published                                   | varchar(20)  |\n",
    "|      | ReportType | Major or Minor Railroad (used for MFF) | Major: Primary Operating Railroad Submitting the Full Crossing Inventory Record<br>Minor: A railroad agency submitting only the railroad and train count data | varchar(20)  |\n",
    "| A    | RevisionDate            | Revision Date                                               |                                                                                                     | Datetime     |\n",
    "|      | ValidationErrors        | Stores all the error codes(s) that failed validation        |                                                                                                     | varchar(4000)|\n",
    "|      | Created                 | Date for which the original submission was created          | Date and Time<br>(Eastern Standard Time)                                                            | datetime     |\n",
    "|      | CreatedBy               | Username of the user who originally submitted the records   |                                                                                                     | varchar(50)  |\n",
    "|      | LastUpdated             | Date for which the existing submission was modified         | Date and Time<br>(Eastern Standard Time)                                                            | datetime     |\n",
    "|      | LastUpdatedBy           | Username of the user who last submitted the updated records |                                                                                                     | varchar(50)  |\n",
    "              \n",
    "<center>Table H - Fields in CI_ReportBase<center>"
   ]
  },
  {
   "cell_type": "code",
   "execution_count": null,
   "id": "46720238-9e70-4d91-a76e-3aacc997f0eb",
   "metadata": {},
   "outputs": [],
   "source": [
    "@dataclass\n",
    "class ReportBase:\n",
    "    CrossingClosed: int\n",
    "    CrossingID: str\n",
    "    CrossingIdSuffix: str\n",
    "    MultipleFormsFiled: int\n",
    "    ParentReportBaseId: int\n",
    "    PostmarkDate: datetime\n",
    "    ReasonID: int\n",
    "    ReportBaseID: int\n",
    "    ReportingAgencyID: int\n",
    "    ReportingAgencyTypeID: int\n",
    "    ReportStatus: str\n",
    "    ReportType: str\n",
    "    RevisionDate: datetime\n",
    "    ValidationErrors: str\n",
    "    Created: datetime\n",
    "    CreatedBy: str\n",
    "    LastUpdated: datetime\n",
    "    LastUpdatedBy: str"
   ]
  },
  {
   "cell_type": "markdown",
   "id": "6a58591d-a77d-465d-9d04-9f11002b4184",
   "metadata": {},
   "source": [
    "### Tables that Store Lookup Values"
   ]
  },
  {
   "cell_type": "markdown",
   "id": "bf9cba52-e6a1-4e02-ad3a-2111c98536a1",
   "metadata": {},
   "source": [
    "#### CI_Errors\n",
    "\n",
    "This table contains all the validation error messages that are returned by the system. \n",
    "\n",
    "| Column Name         | Description                                                                                                    | Field Value                                      | Type         |\n",
    "|:-------------------:|:--------------------------------------------------------------------------------------------------------------:|:------------------------------------------------:|:------------:|\n",
    "| Code                | Primary Key. Also the unique code assigned to each error.                                                      |                                                  | varchar(10)  |\n",
    "| Description         | The description of each error message                                                                          |                                                  | varchar(MAX) |\n",
    "| Section             | Stores the section name of the crossing inventory form | Header<br>PartI: Location and Classification Information<br>Part II: Railroad Information<br>Part III: Highway or Pathway Traffic Control Device Information<br>Part IV: Physical Characteristics<br>Part V: Public Highway Information | varchar(100) |\n",
    "| ShowForMinorReports | Identify whether the error message should be returned<br> for users submitting the short form (Railroad Data Only) | 0: True<br>1: False                              | int          |\n",
    "| ShowForRailroads    | Identify whether the error message should be returned for Railroad users                                       | 0: True<br>1: False                              | int          |\n",
    "| ShowForStates       | Identify whether the error message should be returned for State users                                          | 0: True<br>1: False                              | int          |\n",
    "| SortOrder           | Stores the sort order number                                                                                   |                                                  | int          |\n",
    "| Created             | Date for which the original error was created                                                                  | Date and Time<br>(Eastern Standard Time)         | datetime     |\n",
    "| CreatedBy           | Username of the user who originally created the records                                                        |                                                  | varchar(50)  |\n",
    "| LastUpdated         | Date for which the existing error was modified                                                                 | Date and Time<br>(Eastern Standard Time)         | datetime     |\n",
    "| LastUpdatedBy       | Username of the user who last modified the record                                                              |                                                  | varchar(50)  |\n",
    "              \n",
    "<center>Table I - Fields in CI_Errors<center>"
   ]
  },
  {
   "cell_type": "code",
   "execution_count": null,
   "id": "9b2e91a0-bc05-46ce-8fb5-b2bb76f7a420",
   "metadata": {},
   "outputs": [],
   "source": [
    "@dataclass\n",
    "class Errors:\n",
    "    Code: str\n",
    "    Description: str\n",
    "    Section: str\n",
    "    ShowForMinorReports: int\n",
    "    ShowForRailroads: int\n",
    "    ShowForStates: int\n",
    "    SortOrder: int\n",
    "    Created: datetime\n",
    "    CreatedBy: str\n",
    "    LastUpdated: datetime\n",
    "    LastUpdatedB: str"
   ]
  },
  {
   "cell_type": "markdown",
   "id": "215e1ccf-5743-4b16-a946-e7139ba19285",
   "metadata": {},
   "source": [
    "#### CI_Lookups\n",
    "\n",
    "This table contains all the valid values available when completing a crossing record.\n",
    "\n",
    "| Column Name   | Description                                                                                           | Field Value                                      | Type         |\n",
    "|:-------------:|:-----------------------------------------------------------------------------------------------------:|:------------------------------------------------:|:------------:|\n",
    "| Code          | The unique code associated with each lookup type                                                      |                                                  | varchar(50)  |\n",
    "| EndDate       | The date in which the item is no longer active                                                        |                                                  | datetime     |\n",
    "| ID            | Primary Key                                                                                           |                                                  | varchar(50)  |\n",
    "| LookupText    | Description of the lookup value                                                                       |                                                  | varchar(500) |\n",
    "| LookupType    | The type of lookup                                                                                    |                                                  | varchar(50)  |\n",
    "| LookupValue   | The value the lookup is stored as in the database (compared to what is displayed on the front-end UI) |                                                  | varchar(50)  |\n",
    "| StartDate     | The date in which the item was made active                                                            |                                                  | datetime     |\n",
    "| Status        | Active/Inactive                                                                                       | 0: Inactive<br>1: Active                         | bit          |\n",
    "| Created       | Date for which the original submission was created                                                    | Date and Time<br>(Eastern Standard Time)         | datetime     |\n",
    "| CreatedBy     | Username of the user who orignially submitted the records                                             |                                                  | varchar(50)  |\n",
    "| LastUpdated   | Date for which the existing submission was modified                                                   | Date and Time<br>(Eastern Standard Time)         | datetime     |\n",
    "| LastUpdatedby | Username of the user who last submitted the updated records                                           |                                                  | varchar(50)  |\n",
    "              \n",
    "<center>Table J - Fields in CI_Lookups<center>"
   ]
  },
  {
   "cell_type": "code",
   "execution_count": null,
   "id": "063f863b-3752-4e89-8766-7eae54a7cb06",
   "metadata": {},
   "outputs": [],
   "source": [
    "@dataclass\n",
    "class Lookups:\n",
    "    Code: str\n",
    "    EndDate: datetime\n",
    "    ID: str\n",
    "    LookupText: str\n",
    "    LookupType: str\n",
    "    LookupValue: str\n",
    "    StartDate: datetime\n",
    "    Status: bool\n",
    "    Created: datetime\n",
    "    CreatedBy: str\n",
    "    LastUpdated: datetime\n",
    "    LastUpdatedby: str"
   ]
  },
  {
   "cell_type": "markdown",
   "id": "35dfbb72-38b2-43d9-b63c-bc071dbe625c",
   "metadata": {},
   "source": [
    "#### Lp_Reason\n",
    "\n",
    "This table stores all the available values that will populate the drop-down list field in Box C. Reason for Update of the Grade Crossing \n",
    "Inventory Form (6180.71). \n",
    "\n",
    "| Column Name         | Description                                                                                                    | Field Value                                      | Type         |\n",
    "|:-------------------:|:--------------------------------------------------------------------------------------------------------------:|:------------------------------------------------:|:------------:|\n",
    "| ReasonID            | Primary Key for this table                                                                                     |                                                  | tinyint      |\n",
    "| Code                | Unique code assigned to each item in this table                                                                |                                                  | varchar(3)   |\n",
    "| Descr               | The description of each reason for update                                                                      |                                                  | varchar(50)  |\n",
    "| StartDate           | The date in which the item was made active                                                                     |                                                  | datetime     |\n",
    "| EndDate             | The date in which the item was made inactive                                                                   |                                                  | datetime     |\n",
    "| SortOrder           | Username of the user who originally submitted the records                                                      |                                                  | int          |\n",
    "| ShowForMinorReports | Identify whether the error message should be returned for users submitting the short form (Railroad Data Only) | 0: True<br>1: False                              | int          |\n",
    "| ShowForRailroads    | Identify whether the error message should be returned for Railroad users                                       | 0: True<br>1: False                              | int          |\n",
    "| ShowForStates       | Identify whether the error message should be returned for State users                                          | 0: True<br>1: False                              | int          |\n",
    "              \n",
    "<center>Table K - Fields in LP_Reason<center>"
   ]
  },
  {
   "cell_type": "code",
   "execution_count": null,
   "id": "96c95901-26e5-4261-bcc4-0b2d701f2968",
   "metadata": {},
   "outputs": [],
   "source": [
    "@dataclass\n",
    "class Reason:\n",
    "    ReasonID: int\n",
    "    Code: str\n",
    "    Descr: str\n",
    "    StartDate: datetime\n",
    "    EndDate: datetime\n",
    "    SortOrder: int\n",
    "    ShowForMinorReports: int\n",
    "    ShowForRailroads: int\n",
    "    ShowForState: int"
   ]
  },
  {
   "cell_type": "markdown",
   "id": "eecc6ba7-f007-45ce-9206-586be3999dae",
   "metadata": {},
   "source": [
    "# Crossing Accident Data\n",
    "\n",
    "[Data Definition Location](https://safetydata.fra.dot.gov/OfficeofSafety/publicsite/Newregulation.aspx?doc=gxirfile_ThruMay2011.pdf)\n",
    "\n",
    "Notes:\n",
    "\n",
    "Data format notes are included below,\n",
    "\n",
    "1. Shown data was pulled in October for 2023, no months prior to July are included in the data.\n",
    "1. The `railroad` attribute is based on a 15,000 entry list of railroad owners/companys saved as RailroadsAndCompanies.csv in the Resource table folder.\n",
    "1. `iyr2`, `iyr3`, `imo2`, `imo3` seem to be columns storing the same information as `iyr` and `imo`, they also seem to be reported as floats"
   ]
  },
  {
   "cell_type": "markdown",
   "id": "371ea7de-dd9e-471c-8d02-2ef252a84201",
   "metadata": {},
   "source": [
    "## Loading The Accident Data Set from 2000 to 2023"
   ]
  },
  {
   "cell_type": "code",
   "execution_count": null,
   "id": "8a0009ec-a117-481a-b298-e0cd10039eb9",
   "metadata": {},
   "outputs": [],
   "source": [
    "import pandas as pd\n",
    "from collections import defaultdict\n",
    "\n",
    "accident_df_2023 = pd.read_csv (\"C:\\\\Users\\\\Public\\\\PWDrive\\\\MBI\\\\DEV\\\\Railroad\\\\Reference\\\\FRA\\Data\\\\Crossings\\\\Historic Data\\\\Accidents\\\\2023 All States.csv\", dtype=str, low_memory=False, index_col=False, keep_default_na=False)\n",
    "accident_df_2022 = pd.read_csv (\"C:\\\\Users\\\\Public\\\\PWDrive\\\\MBI\\\\DEV\\\\Railroad\\\\Reference\\\\FRA\\Data\\\\Crossings\\\\Historic Data\\\\Accidents\\\\2022 All States.csv\", dtype=str, low_memory=False, index_col=False, keep_default_na=False)\n",
    "accident_df_2021 = pd.read_csv (\"C:\\\\Users\\\\Public\\\\PWDrive\\\\MBI\\\\DEV\\\\Railroad\\\\Reference\\\\FRA\\Data\\\\Crossings\\\\Historic Data\\\\Accidents\\\\2021 All States.csv\", dtype=str, low_memory=False, index_col=False, keep_default_na=False)\n",
    "accident_df_2020 = pd.read_csv (\"C:\\\\Users\\\\Public\\\\PWDrive\\\\MBI\\\\DEV\\\\Railroad\\\\Reference\\\\FRA\\Data\\\\Crossings\\\\Historic Data\\\\Accidents\\\\2020 All States.csv\", dtype=str, low_memory=False, index_col=False, keep_default_na=False)\n",
    "accident_df_2019 = pd.read_csv (\"C:\\\\Users\\\\Public\\\\PWDrive\\\\MBI\\\\DEV\\\\Railroad\\\\Reference\\\\FRA\\Data\\\\Crossings\\\\Historic Data\\\\Accidents\\\\2019 All States.csv\", dtype=str, low_memory=False, index_col=False, keep_default_na=False)\n",
    "accident_df_2018 = pd.read_csv (\"C:\\\\Users\\\\Public\\\\PWDrive\\\\MBI\\\\DEV\\\\Railroad\\\\Reference\\\\FRA\\Data\\\\Crossings\\\\Historic Data\\\\Accidents\\\\2018 All States.csv\", dtype=str, low_memory=False, index_col=False, keep_default_na=False)\n",
    "accident_df_2017 = pd.read_csv (\"C:\\\\Users\\\\Public\\\\PWDrive\\\\MBI\\\\DEV\\\\Railroad\\\\Reference\\\\FRA\\Data\\\\Crossings\\\\Historic Data\\\\Accidents\\\\2017 All States.csv\", dtype=str, low_memory=False, index_col=False, keep_default_na=False)\n",
    "accident_df_2016 = pd.read_csv (\"C:\\\\Users\\\\Public\\\\PWDrive\\\\MBI\\\\DEV\\\\Railroad\\\\Reference\\\\FRA\\Data\\\\Crossings\\\\Historic Data\\\\Accidents\\\\2016 All States.csv\", dtype=str, low_memory=False, index_col=False, keep_default_na=False)\n",
    "accident_df_2015 = pd.read_csv (\"C:\\\\Users\\\\Public\\\\PWDrive\\\\MBI\\\\DEV\\\\Railroad\\\\Reference\\\\FRA\\Data\\\\Crossings\\\\Historic Data\\\\Accidents\\\\2015 All States.csv\", dtype=str, low_memory=False, index_col=False, keep_default_na=False)\n",
    "accident_df_2014 = pd.read_csv (\"C:\\\\Users\\\\Public\\\\PWDrive\\\\MBI\\\\DEV\\\\Railroad\\\\Reference\\\\FRA\\Data\\\\Crossings\\\\Historic Data\\\\Accidents\\\\2014 All States.csv\", dtype=str, low_memory=False, index_col=False, keep_default_na=False)\n",
    "accident_df_2013 = pd.read_csv (\"C:\\\\Users\\\\Public\\\\PWDrive\\\\MBI\\\\DEV\\\\Railroad\\\\Reference\\\\FRA\\Data\\\\Crossings\\\\Historic Data\\\\Accidents\\\\2013 All States.csv\", dtype=str, low_memory=False, index_col=False, keep_default_na=False)\n",
    "accident_df_2012 = pd.read_csv (\"C:\\\\Users\\\\Public\\\\PWDrive\\\\MBI\\\\DEV\\\\Railroad\\\\Reference\\\\FRA\\Data\\\\Crossings\\\\Historic Data\\\\Accidents\\\\2012 All States.csv\", dtype=str, low_memory=False, index_col=False, keep_default_na=False)\n",
    "accident_df_2011 = pd.read_csv (\"C:\\\\Users\\\\Public\\\\PWDrive\\\\MBI\\\\DEV\\\\Railroad\\\\Reference\\\\FRA\\Data\\\\Crossings\\\\Historic Data\\\\Accidents\\\\2011 All States.csv\", dtype=str, low_memory=False, index_col=False, keep_default_na=False)\n",
    "accident_df_2010 = pd.read_csv (\"C:\\\\Users\\\\Public\\\\PWDrive\\\\MBI\\\\DEV\\\\Railroad\\\\Reference\\\\FRA\\Data\\\\Crossings\\\\Historic Data\\\\Accidents\\\\2010 All States.csv\", dtype=str, low_memory=False, index_col=False, keep_default_na=False)\n",
    "accident_df_2009 = pd.read_csv (\"C:\\\\Users\\\\Public\\\\PWDrive\\\\MBI\\\\DEV\\\\Railroad\\\\Reference\\\\FRA\\Data\\\\Crossings\\\\Historic Data\\\\Accidents\\\\2009 All States.csv\", dtype=str, low_memory=False, index_col=False, keep_default_na=False)\n",
    "accident_df_2008 = pd.read_csv (\"C:\\\\Users\\\\Public\\\\PWDrive\\\\MBI\\\\DEV\\\\Railroad\\\\Reference\\\\FRA\\Data\\\\Crossings\\\\Historic Data\\\\Accidents\\\\2008 All States.csv\", dtype=str, low_memory=False, index_col=False, keep_default_na=False)\n",
    "accident_df_2007 = pd.read_csv (\"C:\\\\Users\\\\Public\\\\PWDrive\\\\MBI\\\\DEV\\\\Railroad\\\\Reference\\\\FRA\\Data\\\\Crossings\\\\Historic Data\\\\Accidents\\\\2007 All States.csv\", dtype=str, low_memory=False, index_col=False, keep_default_na=False)\n",
    "accident_df_2006 = pd.read_csv (\"C:\\\\Users\\\\Public\\\\PWDrive\\\\MBI\\\\DEV\\\\Railroad\\\\Reference\\\\FRA\\Data\\\\Crossings\\\\Historic Data\\\\Accidents\\\\2006 All States.csv\", dtype=str, low_memory=False, index_col=False, keep_default_na=False)\n",
    "accident_df_2005 = pd.read_csv (\"C:\\\\Users\\\\Public\\\\PWDrive\\\\MBI\\\\DEV\\\\Railroad\\\\Reference\\\\FRA\\Data\\\\Crossings\\\\Historic Data\\\\Accidents\\\\2005 All States.csv\", dtype=str, low_memory=False, index_col=False, keep_default_na=False)\n",
    "accident_df_2004 = pd.read_csv (\"C:\\\\Users\\\\Public\\\\PWDrive\\\\MBI\\\\DEV\\\\Railroad\\\\Reference\\\\FRA\\Data\\\\Crossings\\\\Historic Data\\\\Accidents\\\\2004 All States.csv\", dtype=str, low_memory=False, index_col=False, keep_default_na=False)\n",
    "accident_df_2003 = pd.read_csv (\"C:\\\\Users\\\\Public\\\\PWDrive\\\\MBI\\\\DEV\\\\Railroad\\\\Reference\\\\FRA\\Data\\\\Crossings\\\\Historic Data\\\\Accidents\\\\2003 All States.csv\", dtype=str, low_memory=False, index_col=False, keep_default_na=False)\n",
    "accident_df_2002 = pd.read_csv (\"C:\\\\Users\\\\Public\\\\PWDrive\\\\MBI\\\\DEV\\\\Railroad\\\\Reference\\\\FRA\\Data\\\\Crossings\\\\Historic Data\\\\Accidents\\\\2002 All States.csv\", dtype=str, low_memory=False, index_col=False, keep_default_na=False)\n",
    "accident_df_2001 = pd.read_csv (\"C:\\\\Users\\\\Public\\\\PWDrive\\\\MBI\\\\DEV\\\\Railroad\\\\Reference\\\\FRA\\Data\\\\Crossings\\\\Historic Data\\\\Accidents\\\\2001 All States.csv\", dtype=str, low_memory=False, index_col=False, keep_default_na=False)\n",
    "accident_df_2000 = pd.read_csv (\"C:\\\\Users\\\\Public\\\\PWDrive\\\\MBI\\\\DEV\\\\Railroad\\\\Reference\\\\FRA\\Data\\\\Crossings\\\\Historic Data\\\\Accidents\\\\2000 All States.csv\", dtype=str, low_memory=False, index_col=False, keep_default_na=False)\n",
    "\n",
    "frames = [accident_df_2023, accident_df_2022, accident_df_2021, accident_df_2020, accident_df_2019, accident_df_2018, accident_df_2017, accident_df_2016, accident_df_2015, accident_df_2014, accident_df_2013, accident_df_2012, accident_df_2011, accident_df_2010, accident_df_2009, accident_df_2008, accident_df_2007, accident_df_2006, accident_df_2005, accident_df_2004, accident_df_2003, accident_df_2002, accident_df_2001, accident_df_2000]\n",
    "all_accident_data = pd.concat(frames)"
   ]
  },
  {
   "cell_type": "code",
   "execution_count": null,
   "id": "2a91b472-f4d5-4178-afac-9c61952f76fa",
   "metadata": {},
   "outputs": [],
   "source": [
    "all_accident_data"
   ]
  },
  {
   "cell_type": "markdown",
   "id": "18f9bbd7-7f22-4b55-8fad-82121f3bff1c",
   "metadata": {
    "tags": []
   },
   "source": [
    "### Define Values for Translation of Various Fields"
   ]
  },
  {
   "cell_type": "code",
   "execution_count": null,
   "id": "07c19e7c-5b5c-48e2-b236-921890913524",
   "metadata": {},
   "outputs": [],
   "source": [
    "\"\"\" # //TODO - Determine the following tanslations\n",
    "\n",
    "type of signaled crossing warning: \n",
    "if block 32 (crossing) = 01-06, then signal = 1-7\n",
    "(see back of form 57 for valid entries) (signal, sigwarnx)\n",
    "\n",
    "ICC categories (typrr)\n",
    "\n",
    "FIPS Codes (cntycd, stcnty, state, county, city)\n",
    "\n",
    "fix crossing translations\n",
    "\"\"\"\n",
    "\n",
    "fra_xing_val_definitions = {\n",
    "\n",
    "    \"typveh_vals\": {\n",
    "        \"A\": \"auto\",\n",
    "        \"B\": \"truck\",\n",
    "        \"C\": \"truck-trailer\",\n",
    "        \"D\": \"pick-up truck\",\n",
    "        \"E\": \"van\",\n",
    "        \"F\": \"bus\",\n",
    "        \"G\": \"school bus\",\n",
    "        \"H\": \"motorcycle\",\n",
    "        \"J\": \"other motor veh.\",\n",
    "        \"K\": \"pedestrian\",\n",
    "        \"M\": \"other\",\n",
    "        \" \": \"Unknown\" # Added due to unknown values in dataset\n",
    "    },\n",
    "\n",
    "    \"trndir_vals\": {\n",
    "        \"1\": \"north\",\n",
    "        \"2\": \"south\",\n",
    "        \"3\": \"east\",\n",
    "        \"4\": \"west\",\n",
    "        \" \": \"Unknown\" # Added due to unknown values in dataset\n",
    "    },\n",
    "\n",
    "    \"vehdir_vals\": {\n",
    "        \"1\": \"north\",\n",
    "        \"2\": \"south\",\n",
    "        \"3\": \"east\",\n",
    "        \"4\": \"west\"\n",
    "    },\n",
    "\n",
    "    \"position_vals\": {\n",
    "        \"1\": \"stalled or stuck on crossing\",\n",
    "        \"2\": \"stopped on crossing\",\n",
    "        \"3\": \"moving over crossing\",\n",
    "        \"4\": \"trapped on crossing by traffic\",\n",
    "        \"5\": \"Blocked on crossing by gates\"\n",
    "    },\n",
    "\n",
    "    \"rrequip_vals\": {\n",
    "        \"1\": \"Train (units pulling)\",\n",
    "        \"2\": \"Train (units pushing)\",\n",
    "        \"3\": \"Train (standing)\",\n",
    "        \"4\": \"Cars moving\",\n",
    "        \"5\": \"Car/s (standing)\",\n",
    "        \"6\": \"Light loco/s (moving)\",\n",
    "        \"7\": \"Light loco/s (standing)\",\n",
    "        \"8\": \"Other\",\n",
    "        \"A\": \"Training pulling (RCL)\",\n",
    "        \"B\": \"Train pushing (RCL)\",\n",
    "        \"C\": \"Train standing (RCL)\",\n",
    "        \"D\": \"Electric Multiple Unit Locomotive(s)\",\n",
    "        \"E\": \"Diesel Multiple Unit Locomotive(s)\",\n",
    "        \" \": \"Unknown\" # Added due to unknown values in dataset\n",
    "    },\n",
    "\n",
    "    \"typacc_vals\": {\n",
    "        \"1\": \"Rail equipment struck highway user\",\n",
    "        \"2\": \"Rail equipment struck by highway user\",\n",
    "        \" \": \"Unknown\" # Added due to unknown values in dataset\n",
    "    },\n",
    "\n",
    "    \"hazard_vals\": {\n",
    "        \"1\": \"Highway user\",\n",
    "        \"2\": \"Rail equipment\",\n",
    "        \"3\": \"Both\",\n",
    "        \"4\": \"Neither\",\n",
    "        \" \": \"Unknown\" # Added due to unknown values in dataset\n",
    "    },\n",
    "\n",
    "    \"visiblty_vals\": {\n",
    "        \"1\": \"dawn\",\n",
    "        \"2\": \"day\",\n",
    "        \"3\": \"dusk\",\n",
    "        \"4\": \"dark\",\n",
    "        \" \": \"Unknown\" # Added due to unknown values in dataset\n",
    "    },\n",
    "\n",
    "    \"weather_vals\": {\n",
    "        \"1\": \"Clear\",\n",
    "        \"2\": \"Cloudy\",\n",
    "        \"3\": \"Rain\",\n",
    "        \"4\": \"Fog\",\n",
    "        \"5\": \"Sleet\",\n",
    "        \"6\": \"Snow\",\n",
    "        \" \": \"Unknown\" # Added due to unknown values in dataset\n",
    "    },\n",
    "\n",
    "    \"typeq_vals\": {\n",
    "        \"1\": \"Freight train\",\n",
    "        \"2\": \"Passenger train\",\n",
    "        \"3\": \"Commuter train\",\n",
    "        \"4\": \"Work train\",\n",
    "        \"5\": \"Single car\",\n",
    "        \"6\": \"Cut of cars\",\n",
    "        \"7\": \"Yard / switching\",\n",
    "        \"8\": \"Light loco(s)\",\n",
    "        \"9\": \"Maint / inspec car\",\n",
    "        \"A\": \"Special MoW equipment\",\n",
    "        \"B\": \"Passenger Train-Pushing\",\n",
    "        \"C\": \"Commuter Train-Pushing\",\n",
    "        \"D\": \"Electrical Multiple Unit\",\n",
    "        \"E\": \"Diesel Multiple Unit\",\n",
    "        \" \": \"Unknown\" # Added due to unknown values in dataset\n",
    "    },\n",
    "\n",
    "    \"typtrk_vals\": {\n",
    "        \"1\": \"main\",\n",
    "        \"2\": \"yard\",\n",
    "        \"3\": \"siding\",\n",
    "        \"4\": \"industry\",\n",
    "        \" \": \"Unknown\" # Added due to unknown values in dataset\n",
    "    },\n",
    "\n",
    "    \"typspd_vals\": {\n",
    "        \"E\": \"Estimated\",\n",
    "        \"R\": \"Recorder\",\n",
    "        \" \": \"Unknown\"\n",
    "    },\n",
    "\n",
    "    \"locwarn_vals\": {\n",
    "        \"1\": \"both sides\",\n",
    "        \"2\": \"side of vehicle approach\",\n",
    "        \"3\": \"opposite side of vehicle approach\",\n",
    "        \" \": \"Unknown\", # Added this one myself, values like '4' and 'u' were coming in despite not being on the form \n",
    "    },\n",
    "\n",
    "    \"warnsig_vals\": {\n",
    "        \"1\": \"Yes\",\n",
    "        \"2\": \"No\",\n",
    "        \"3\": \"Unknown\"\n",
    "    },\n",
    "\n",
    "    \"lights_vals\": {\n",
    "        \"1\": \"Yes\",\n",
    "        \"2\": \"No\",\n",
    "        \"3\": \"Unknown\"\n",
    "    },\n",
    "\n",
    "    \"standveh_vals\": {\n",
    "        \"1\": \"Yes\",\n",
    "        \"2\": \"No\",\n",
    "        \"3\": \"Unknown\"\n",
    "    },\n",
    "\n",
    "    \"train2_vals\": {\n",
    "        \"1\": \"Yes\",\n",
    "        \"2\": \"No\",\n",
    "        \"3\": \"Unknown\"\n",
    "    },\n",
    "\n",
    "    \"motorist_vals\": {\n",
    "        \"1\": \"Drove around or thru the gate\",\n",
    "        \"2\": \"Stopped and then proceeded\",\n",
    "        \"3\": \"Did not stop\",\n",
    "        \"4\": \"Stopped on crossing\",\n",
    "        \"5\": \"Other\",\n",
    "        \"6\": \"Went around/thru temporary barricade\",\n",
    "        \"7\": \"Wen thru the gate\",\n",
    "        \"8\": \"Suicide/Attempted Suicide\",\n",
    "        \" \": \"Unknown\" # Added due to unknown values in dataset\n",
    "        \n",
    "    },\n",
    "\n",
    "    \"view_vals\": {\n",
    "        \"1\": \"permanent structure\",\n",
    "        \"2\": \"standing RR equipment\",\n",
    "        \"3\": \"passing train\",\n",
    "        \"4\": \"topography\",\n",
    "        \"5\": \"vegetation\",\n",
    "        \"6\": \"highway vehicles\",\n",
    "        \"7\": \"other\",\n",
    "        \"8\": \"not obstructed\",\n",
    "        \" \": \"Unknown\" # Added due to unknown values in dataset\n",
    "    },\n",
    "\n",
    "    \"driver_vals\": {\n",
    "        \"1\": \"killed\",\n",
    "        \"2\": \"injured\",\n",
    "        \"3\": \"uninjured\",\n",
    "        \" \": \"Unknown\" # Added due to unknown values in dataset\n",
    "    },\n",
    "\n",
    "    \"inveh_vals\": {\n",
    "        \"1\": \"yes\",\n",
    "        \"2\": \"no\",\n",
    "        \" \": \"Unknown\" # Added due to unknown values in dataset\n",
    "    },\n",
    "\n",
    "    \"incdrpt_vals\": {\n",
    "        \"1\": \"yes\",\n",
    "        \"2\": \"no\",\n",
    "        \" \": \"Unknown\" # Added due to unknown values in dataset\n",
    "    },\n",
    "\n",
    "    \"crossing_vals\": {\n",
    "        \"01\": \"gates\",\n",
    "        \"02\": \"cantilever fls\",\n",
    "        \"03\": \"standard fls\",\n",
    "        \"04\": \"wig wags\",\n",
    "        \"05\": \"highway traffic Signals\",\n",
    "        \"06\": \"audible\",\n",
    "        \"07\": \"cross bucks\",\n",
    "        \"08\": \"stop signs\",\n",
    "        \"09\": \"watchman\",\n",
    "        \"10\": \"flagged by crew\",\n",
    "        \"11\": \"other (specify)\",\n",
    "        \"12\": \"none\"\n",
    "    },\n",
    "\n",
    "    \"hzmrlsed_vals\": {\n",
    "        \"1\": \"highway user\",\n",
    "        \"2\": \"rail equipment\",\n",
    "        \"3\": \"both\",\n",
    "        \"4\": \"neither\",\n",
    "        \" \": \"unknown\" # Added due to unknown values in dataset\n",
    "    },\n",
    "\n",
    "    \"whisban_vals\": {\n",
    "        \"1\": \"yes\",\n",
    "        \"2\": \"no\",\n",
    "        \"3\": \"not provided\",\n",
    "        \" \": \"unknown\" # Added due to unknown values in dataset       \n",
    "    },\n",
    "\n",
    "    \"drivgen_vals\": {\n",
    "        \"1\": \"male\", \n",
    "        \"2\": \"female\",\n",
    "        \" \": \"unknown\"\n",
    "    },\n",
    "\n",
    "    \"roadcond_vals\": {\n",
    "        \"A\": \"Dry\",\n",
    "        \"B\": \"Wet\",\n",
    "        \"C\": \"Snow/slush\",\n",
    "        \"D\": \"Ice\",\n",
    "        \"E\": \"Sand, Mud, Dirt, Oil, Gravel\",\n",
    "        \"F\": \"Water (Standing, Moving)\",\n",
    "        \" \": \"Unknown\"\n",
    "    },\n",
    "\n",
    "    \"state_fips\": {\n",
    "        \"01\": \"Alabama\",\n",
    "        \"02\": \"Alaska\",\n",
    "        \"04\": \"Arizona\",\n",
    "        \"05\": \"Arkansas\",\n",
    "        \"06\": \"California\",\n",
    "        \"08\": \"Colorado\",\n",
    "        \"09\": \"Connecticut\",\n",
    "        \"10\": \"Delaware\",\n",
    "        \"11\": \"District of Columbia\",\n",
    "        \"12\": \"Florida\",\n",
    "        \"13\": \"Georgia\",\n",
    "        \"15\": \"Hawaii\",\n",
    "        \"16\": \"Idaho\",\n",
    "        \"17\": \"Illinois\",\n",
    "        \"18\": \"Indiana\",\n",
    "        \"19\": \"Iowa\",\n",
    "        \"20\": \"Kansas\",\n",
    "        \"21\": \"Kentucky\",\n",
    "        \"22\": \"Louisiana\",\n",
    "        \"23\": \"Maine\",\n",
    "        \"24\": \"Maryland\",\n",
    "        \"25\": \"Massachusetts\",\n",
    "        \"26\": \"Michigan\",\n",
    "        \"27\": \"Minnesota\",\n",
    "        \"28\": \"Mississippi\",\n",
    "        \"29\": \"Missouri\",\n",
    "        \"30\": \"Montana\",\n",
    "        \"31\": \"Nebraska\",\n",
    "        \"32\": \"Nevada\",\n",
    "        \"33\": \"New HampsireE\",\n",
    "        \"34\": \"New Jersey\",\n",
    "        \"35\": \"New Mexico\",\n",
    "        \"36\": \"New York\",\n",
    "        \"37\": \"North Carolina\",\n",
    "        \"38\": \"North Dakota\",\n",
    "        \"39\": \"Ohio\",\n",
    "        \"40\": \"Oklahoma\",\n",
    "        \"41\": \"Oregon\",\n",
    "        \"42\": \"Pennsylvania\",\n",
    "        \"44\": \"Rhode Island\",\n",
    "        \"45\": \"South Carolina\",\n",
    "        \"46\": \"South Dakota\",\n",
    "        \"47\": \"Tennessee\",\n",
    "        \"48\": \"Texas\",\n",
    "        \"49\": \"Utah\",\n",
    "        \"50\": \"Vermont\",\n",
    "        \"51\": \"Virginia\",\n",
    "        \"53\": \"Washington\",\n",
    "        \"54\": \"West Virginia\",\n",
    "        \"55\": \"Wisconsin\",\n",
    "        \"56\": \"Wyoming\",\n",
    "        \"\": \"Unknown\" # Added due to unknown values in dataset\n",
    "    }\n",
    "}"
   ]
  },
  {
   "cell_type": "markdown",
   "id": "383093fc-73f9-452a-abcf-68cf23e50277",
   "metadata": {},
   "source": [
    "## Pulling and Cleaning Stats From All Crash Records in a Given Year\n",
    "\n",
    "Sometimes values make it into the data sets that are incorrect, in this example some values are coming in as `' '`, `''`, or `'u'`. It's assumed all of these values should be read as `unknown/NA`. Originally, some of the data was being interpreted as integers instead of strings, this was rectified by adding the `dtype=str` and `keep_default_na=False` to the `pandas.read_csv` call above."
   ]
  },
  {
   "cell_type": "code",
   "execution_count": null,
   "id": "e9182403-ff1c-473d-8d54-2c094a554690",
   "metadata": {},
   "outputs": [],
   "source": [
    "import numpy as np\n",
    "\n",
    "# Shows all unique values in the column\n",
    "print(all_accident_data['DRIVGEN'].unique())\n",
    "\n",
    "# Converts undesired values 'u' and '' into the desired ' ' value\n",
    "all_accident_data['DRIVGEN'] = all_accident_data['DRIVGEN'].replace({'u': ' ', '': ' '})\n",
    "\n",
    "# Show the Unique values again demonstrating that the errant data has been cleaned out\n",
    "print(all_accident_data['DRIVGEN'].unique())"
   ]
  },
  {
   "cell_type": "code",
   "execution_count": null,
   "id": "b26a4edc-2e77-4a60-8463-1941528b4b99",
   "metadata": {},
   "outputs": [],
   "source": [
    "driver_gender = pd.DataFrame(all_accident_data['DRIVGEN'].value_counts(normalize=True))\n",
    "driver_gender['Definition'] = driver_gender.index.to_series().map(fra_xing_val_definitions['drivgen_vals'])"
   ]
  },
  {
   "cell_type": "code",
   "execution_count": null,
   "id": "d62d0f4b-3e57-4be6-8ac4-cacabbeafde5",
   "metadata": {},
   "outputs": [],
   "source": [
    "print(driver_gender[['Definition', 'proportion']])"
   ]
  },
  {
   "cell_type": "markdown",
   "id": "fc289e5d-273f-46ef-9531-9d3da86ea52c",
   "metadata": {},
   "source": [
    "The above shows 71.88% of grade crossing accidents from 2000 to 2023 had male drivers, 23.28% the driver was a female and 4.84% were unknown"
   ]
  },
  {
   "cell_type": "code",
   "execution_count": null,
   "id": "42f08625-ef2f-4c25-adbe-f5c513aa679c",
   "metadata": {},
   "outputs": [],
   "source": [
    "# Clean the data\n",
    "all_accident_data['VISIBLTY'] = all_accident_data['VISIBLTY'].replace({1: '1', 2: '2', 3: '3', 4: '4'})\n",
    "\n",
    "# Get the statistics\n",
    "visibility_results = pd.DataFrame(all_accident_data['VISIBLTY'].value_counts(normalize=True))\n",
    "visibility_results['Definition'] = visibility_results.index.to_series().map(fra_xing_val_definitions['visiblty_vals'])"
   ]
  },
  {
   "cell_type": "code",
   "execution_count": null,
   "id": "14c5b7c8-2ab4-4301-9299-d7ff31397440",
   "metadata": {},
   "outputs": [],
   "source": [
    "print(visibility_results[['Definition', 'proportion']])"
   ]
  },
  {
   "cell_type": "markdown",
   "id": "c9b29d73-9e02-4085-8517-cfdc9fe4a06b",
   "metadata": {},
   "source": [
    "58.62% of incidents occur during the day, 30.4% occured at night"
   ]
  },
  {
   "cell_type": "code",
   "execution_count": null,
   "id": "452e21e9-997a-4ab3-a62b-e00b05b1a0a9",
   "metadata": {},
   "outputs": [],
   "source": [
    "vehicle_types = pd.DataFrame(all_accident_data['TYPVEH'].value_counts(normalize=True))\n",
    "vehicle_types['Vehicle'] = vehicle_types.index.to_series().map(fra_xing_val_definitions['typveh_vals'])"
   ]
  },
  {
   "cell_type": "code",
   "execution_count": null,
   "id": "2ce193c8-3397-4bef-a573-2e478240b3f7",
   "metadata": {},
   "outputs": [],
   "source": [
    "print(vehicle_types[['Vehicle', 'proportion']].sort_values('proportion', ascending=False))"
   ]
  },
  {
   "cell_type": "markdown",
   "id": "a5381a0d-ab8f-4622-822d-b48c283a60ba",
   "metadata": {},
   "source": [
    "45% of accidents involved personal cars, 15.6% involved tractor trailers"
   ]
  },
  {
   "cell_type": "code",
   "execution_count": null,
   "id": "38023939-9267-4401-a2b9-a4548b4d671c",
   "metadata": {},
   "outputs": [],
   "source": [
    "state_of_incident = pd.DataFrame(all_accident_data['STATE'].value_counts(normalize=True))\n",
    "state_of_incident['State'] = state_of_incident.index.to_series().map(fra_xing_val_definitions['state_fips'])"
   ]
  },
  {
   "cell_type": "code",
   "execution_count": null,
   "id": "d9edcbbe-dcd2-4961-b2c1-065ff4b5d475",
   "metadata": {},
   "outputs": [],
   "source": [
    "print(state_of_incident[['State', 'proportion']].sort_values('proportion', ascending=False))"
   ]
  },
  {
   "cell_type": "markdown",
   "id": "c9dda57b-049f-4942-a2c4-e1207c4cd198",
   "metadata": {},
   "source": [
    "### Remaining Fields That Require Cleaning\n",
    "\n",
    "The following values are only the values where the submittal forms had drop down menus, fields that relied on User input, like \"Highway Name\" or \"Name of Reporting Railroad\" weren't attempted to be cleaned due to the likelihood of human error occuring during input."
   ]
  },
  {
   "cell_type": "markdown",
   "id": "33be39ef-02fc-484e-b19e-7425e96fa62e",
   "metadata": {},
   "source": [
    "**Whistle bans (Removed from form and replaced with \"Road Condition\" Field**"
   ]
  },
  {
   "cell_type": "code",
   "execution_count": null,
   "id": "2b544f8c-9c04-4618-9ddf-db6c167f2a66",
   "metadata": {},
   "outputs": [],
   "source": [
    "all_accident_data['WHISBAN'].unique()"
   ]
  },
  {
   "cell_type": "code",
   "execution_count": null,
   "id": "e5d0ebab-e727-4ef2-9432-9a4b7e060235",
   "metadata": {},
   "outputs": [],
   "source": [
    "all_accident_data['WHISBAN'] = all_accident_data['WHISBAN'].replace({'N': ' ', '': ' '})"
   ]
  },
  {
   "cell_type": "markdown",
   "id": "2f9d01cf-db6b-46b8-b0f2-f87a1dc2b0cd",
   "metadata": {},
   "source": [
    "**Warning Signals connected to highway signals**"
   ]
  },
  {
   "cell_type": "code",
   "execution_count": null,
   "id": "e2200200-43b7-4d39-9dd7-9c2c11b5bd33",
   "metadata": {},
   "outputs": [],
   "source": [
    "all_accident_data['WARNSIG'].unique()"
   ]
  },
  {
   "cell_type": "code",
   "execution_count": null,
   "id": "3f94e6a4-68d2-42d0-9940-df00b9a5702d",
   "metadata": {},
   "outputs": [],
   "source": [
    "all_accident_data['WARNSIG'] = all_accident_data['WARNSIG'].replace({' ': '3', '': '3', '0': '3'})"
   ]
  },
  {
   "cell_type": "markdown",
   "id": "1ee25925-9a00-497c-8ed0-fedb15de855a",
   "metadata": {},
   "source": [
    "**Driver Passed standing vehicle**"
   ]
  },
  {
   "cell_type": "code",
   "execution_count": null,
   "id": "89a68162-96cb-4f8d-8c63-f2f2144f3255",
   "metadata": {},
   "outputs": [],
   "source": [
    "all_accident_data['STANDVEH'].unique()"
   ]
  },
  {
   "cell_type": "code",
   "execution_count": null,
   "id": "7bcf52c3-c959-490f-94e9-57c8c7ff2c5a",
   "metadata": {},
   "outputs": [],
   "source": [
    "all_accident_data['STANDVEH'] = all_accident_data['STANDVEH'].replace({' ': '3', '': '3'})"
   ]
  },
  {
   "cell_type": "markdown",
   "id": "801db7c6-2adf-402f-9ba7-303dbc2b084b",
   "metadata": {},
   "source": [
    "**Location of Warning Values**"
   ]
  },
  {
   "cell_type": "code",
   "execution_count": null,
   "id": "32f82388-710f-4d1d-b17f-0575bce2f02e",
   "metadata": {},
   "outputs": [],
   "source": [
    "all_accident_data['LOCWARN'].unique()"
   ]
  },
  {
   "cell_type": "code",
   "execution_count": null,
   "id": "ac4d83cf-554c-4a0c-8d33-feddcd3cb90f",
   "metadata": {},
   "outputs": [],
   "source": [
    "all_accident_data['LOCWARN'] = all_accident_data['LOCWARN'].replace({'N': ' ', '': ' ', '4': ' ', '0': ' '})"
   ]
  },
  {
   "cell_type": "markdown",
   "id": "d8bc6db2-2269-424b-9bf0-db8b3d46ed0c",
   "metadata": {},
   "source": [
    "**Driver Values**"
   ]
  },
  {
   "cell_type": "code",
   "execution_count": null,
   "id": "c695f5ae-fcf7-4180-a5b8-268e43a8f57a",
   "metadata": {},
   "outputs": [],
   "source": [
    "all_accident_data['DRIVER'].unique()"
   ]
  },
  {
   "cell_type": "code",
   "execution_count": null,
   "id": "5fd76974-43d0-4492-96c7-827aa3af7b54",
   "metadata": {},
   "outputs": [],
   "source": [
    "all_accident_data['DRIVER'] = all_accident_data['DRIVER'].replace({'0': ' ', '': ' ', '4': ' ', '0': ' '})"
   ]
  },
  {
   "cell_type": "markdown",
   "id": "1713721f-2bf7-4a54-9ce8-825bdc9c24df",
   "metadata": {},
   "source": [
    "**Motorist Values**"
   ]
  },
  {
   "cell_type": "code",
   "execution_count": null,
   "id": "064ea344-feb4-488d-9fc1-06f07f00bb39",
   "metadata": {},
   "outputs": [],
   "source": [
    "all_accident_data['MOTORIST'].unique()"
   ]
  },
  {
   "cell_type": "code",
   "execution_count": null,
   "id": "fc2d9adb-5fa7-4247-9c6a-a26657fbde35",
   "metadata": {},
   "outputs": [],
   "source": [
    "all_accident_data['MOTORIST'] = all_accident_data['MOTORIST'].replace({'0': ' ', '': ' '})"
   ]
  },
  {
   "cell_type": "markdown",
   "id": "b2f49dd5-fcdc-488b-8a82-37a7ddc98eb5",
   "metadata": {},
   "source": [
    "**\"In Vehicle\" Values**"
   ]
  },
  {
   "cell_type": "code",
   "execution_count": null,
   "id": "b7c78c1d-1f67-4cf5-a843-9a41631940ac",
   "metadata": {},
   "outputs": [],
   "source": [
    "all_accident_data['INVEH'].unique()"
   ]
  },
  {
   "cell_type": "code",
   "execution_count": null,
   "id": "1346eae3-b3fa-497f-beaf-c8ea0da5542a",
   "metadata": {},
   "outputs": [],
   "source": [
    "# one of the few were a value wasn't automatically assigned to \"Unknown\", 'N' is assumed to be 2 for 'No'\n",
    "all_accident_data['INVEH'] = all_accident_data['INVEH'].replace({'N': '2', '': ' '})"
   ]
  },
  {
   "cell_type": "markdown",
   "id": "e54ffabb-5942-4f89-8d4e-97ecc069238b",
   "metadata": {},
   "source": [
    "**Second Train values**"
   ]
  },
  {
   "cell_type": "code",
   "execution_count": null,
   "id": "cabd178b-c3df-4189-91de-707d62279d8d",
   "metadata": {},
   "outputs": [],
   "source": [
    "all_accident_data['TRAIN2'].unique()"
   ]
  },
  {
   "cell_type": "code",
   "execution_count": null,
   "id": "4a5a7415-7cc9-4e11-9b88-c35678f85a6c",
   "metadata": {},
   "outputs": [],
   "source": [
    "all_accident_data['TRAIN2'] = all_accident_data['TRAIN2'].replace({'N': '3', '': '3', ' ': '3', '5': '3'})"
   ]
  },
  {
   "cell_type": "markdown",
   "id": "8fea2f85-1b4a-4e97-bf24-b48150692c42",
   "metadata": {},
   "source": [
    "**Road Condition values**"
   ]
  },
  {
   "cell_type": "code",
   "execution_count": null,
   "id": "917250b3-c456-451f-9d2d-9c0356b28ee7",
   "metadata": {},
   "outputs": [],
   "source": [
    "all_accident_data['ROADCOND'].unique()"
   ]
  },
  {
   "cell_type": "code",
   "execution_count": null,
   "id": "3f5c2ac2-b8f2-4913-9d92-fcc2f7bc365d",
   "metadata": {},
   "outputs": [],
   "source": [
    "all_accident_data['ROADCOND'] = all_accident_data['ROADCOND'].replace({'': ' '})"
   ]
  },
  {
   "cell_type": "markdown",
   "id": "6a084ce8-c054-42ab-8007-782abba6d873",
   "metadata": {},
   "source": [
    "**Hazmat Involved**"
   ]
  },
  {
   "cell_type": "code",
   "execution_count": null,
   "id": "374666db-83e2-4c70-9789-47f24c3ace4d",
   "metadata": {},
   "outputs": [],
   "source": [
    "all_accident_data['HAZARD'].unique()"
   ]
  },
  {
   "cell_type": "code",
   "execution_count": null,
   "id": "7dab43b5-728d-4b58-8d35-73f4eb4a4f65",
   "metadata": {},
   "outputs": [],
   "source": [
    "all_accident_data['HAZARD'] = all_accident_data['HAZARD'].replace({'0': ' '})"
   ]
  },
  {
   "cell_type": "markdown",
   "id": "7f6da9e6-8b2e-4cb8-a462-1521e93d3dda",
   "metadata": {},
   "source": [
    "**Hazmat Released values**"
   ]
  },
  {
   "cell_type": "code",
   "execution_count": null,
   "id": "682035e9-4073-4402-a01e-0fea409808c9",
   "metadata": {},
   "outputs": [],
   "source": [
    "all_accident_data['HZMRLSED'].unique()"
   ]
  },
  {
   "cell_type": "code",
   "execution_count": null,
   "id": "70fa48ec-dd77-4334-b064-57eafc28d37f",
   "metadata": {},
   "outputs": [],
   "source": [
    "all_accident_data['HZMRLSED'] = all_accident_data['HZMRLSED'].replace({'': ' ', '0': ' ', '9': ' '})"
   ]
  },
  {
   "cell_type": "markdown",
   "id": "2ef3c108-0a3a-4605-bc64-d026db83f365",
   "metadata": {},
   "source": [
    "**Weather values**"
   ]
  },
  {
   "cell_type": "code",
   "execution_count": null,
   "id": "1d525e6f-be00-4de6-beb1-b2f3f4828924",
   "metadata": {},
   "outputs": [],
   "source": [
    "all_accident_data['WEATHER'].unique()"
   ]
  },
  {
   "cell_type": "code",
   "execution_count": null,
   "id": "0ccdf815-233c-4453-bf24-e2ede7503a92",
   "metadata": {},
   "outputs": [],
   "source": [
    "all_accident_data['WEATHER'] = all_accident_data['WEATHER'].replace({'0': ' '})"
   ]
  },
  {
   "cell_type": "markdown",
   "id": "46e1b929-1b2d-46fd-ab97-ed34afcffb84",
   "metadata": {},
   "source": [
    "**\"Type Speed\" Recording Method**"
   ]
  },
  {
   "cell_type": "code",
   "execution_count": null,
   "id": "00e1f125-c048-4f54-a0f1-88f162aac89e",
   "metadata": {},
   "outputs": [],
   "source": [
    "all_accident_data['TYPSPD'].unique()"
   ]
  },
  {
   "cell_type": "code",
   "execution_count": null,
   "id": "e4e82bd9-cd36-46a8-a9b9-216450de2009",
   "metadata": {},
   "outputs": [],
   "source": [
    "all_accident_data['TYPSPD'] = all_accident_data['TYPSPD'].replace({'': ' '})"
   ]
  },
  {
   "cell_type": "markdown",
   "id": "f5e0cb87-4616-4d99-b7c3-acd78c434bba",
   "metadata": {},
   "source": [
    "**\"Lights\" Values**"
   ]
  },
  {
   "cell_type": "code",
   "execution_count": null,
   "id": "8cd60ca4-0d06-4e17-a68b-ed92228aa82b",
   "metadata": {},
   "outputs": [],
   "source": [
    "all_accident_data['LIGHTS'].unique()"
   ]
  },
  {
   "cell_type": "code",
   "execution_count": null,
   "id": "bd20e305-b775-46c3-b880-e2db6904d7dd",
   "metadata": {},
   "outputs": [],
   "source": [
    "all_accident_data['LIGHTS'] = all_accident_data['LIGHTS'].replace({'': '3', ' ': '3'})"
   ]
  },
  {
   "cell_type": "markdown",
   "id": "804f0fc2-f2a9-468e-a893-74af9431bb60",
   "metadata": {},
   "source": [
    "**\"Train Direction\" Values**"
   ]
  },
  {
   "cell_type": "code",
   "execution_count": null,
   "id": "b964fafd-9583-432f-963c-52c3b0fa700d",
   "metadata": {},
   "outputs": [],
   "source": [
    "all_accident_data['TRNDIR'].unique()"
   ]
  },
  {
   "cell_type": "code",
   "execution_count": null,
   "id": "d20b7613-5db5-4535-baec-90d7dc8cbdf6",
   "metadata": {},
   "outputs": [],
   "source": [
    "all_accident_data['TRNDIR'] = all_accident_data['TRNDIR'].replace({'': ' ', 'A': ' '})"
   ]
  },
  {
   "cell_type": "markdown",
   "id": "94b3c450-ff61-4adc-b643-ee4ae9c232be",
   "metadata": {},
   "source": [
    "**\"Type of Track\" Values**"
   ]
  },
  {
   "cell_type": "code",
   "execution_count": null,
   "id": "7ef46cd2-2301-4a35-8809-006b07268e0c",
   "metadata": {},
   "outputs": [],
   "source": [
    "all_accident_data['TYPTRK'].unique()"
   ]
  },
  {
   "cell_type": "code",
   "execution_count": null,
   "id": "5f0e318c-773c-4f0b-be10-7b743701d1a4",
   "metadata": {},
   "outputs": [],
   "source": [
    "all_accident_data['TYPTRK'] = all_accident_data['TYPTRK'].replace({'': ' '})"
   ]
  },
  {
   "cell_type": "markdown",
   "id": "4014a104-8691-4fc9-888f-a1b4481ebaf8",
   "metadata": {},
   "source": [
    "**\"Incident Report\" Values**"
   ]
  },
  {
   "cell_type": "code",
   "execution_count": null,
   "id": "20abb196-536f-46e3-82bb-67a52b457281",
   "metadata": {},
   "outputs": [],
   "source": [
    "all_accident_data['INCDRPT'].unique()"
   ]
  },
  {
   "cell_type": "code",
   "execution_count": null,
   "id": "88749a32-1331-46ec-b4c5-832861b7b418",
   "metadata": {},
   "outputs": [],
   "source": [
    "all_accident_data['INCDRPT'] = all_accident_data['INCDRPT'].replace({'': ' ', '4': ' '})"
   ]
  },
  {
   "cell_type": "markdown",
   "id": "745185dd-fc14-418e-8d47-11e257d1e15a",
   "metadata": {},
   "source": [
    "**\"View\" Values**"
   ]
  },
  {
   "cell_type": "code",
   "execution_count": null,
   "id": "54bfcd56-f918-4896-a21e-fae21d517a32",
   "metadata": {},
   "outputs": [],
   "source": [
    "all_accident_data['VIEW'].unique()"
   ]
  },
  {
   "cell_type": "code",
   "execution_count": null,
   "id": "a98d8c4d-53a8-44a7-bfa8-17fab437ccb1",
   "metadata": {},
   "outputs": [],
   "source": [
    "all_accident_data['VIEW'] = all_accident_data['VIEW'].replace({'0': ' '})"
   ]
  },
  {
   "attachments": {
    "eb4d9268-9f68-4bac-a54c-32c3081b4b0d.png": {
     "image/png": "[encoded data removed]"
    }
   },
   "cell_type": "markdown",
   "id": "56d90563-d3f4-419e-84ed-8fd1d0193a47",
   "metadata": {},
   "source": [
    "These two fields were the most complicated on the form and required specific processing steps,\n",
    "\n",
    "![image.png](attachment:eb4d9268-9f68-4bac-a54c-32c3081b4b0d.png)"
   ]
  },
  {
   "cell_type": "code",
   "execution_count": null,
   "id": "b9276b79-6cba-4d2a-b8d8-6ba94685d277",
   "metadata": {},
   "outputs": [],
   "source": [
    "def translate_xing_warning(str_to_convert):\n",
    "    values = [str_to_convert[i:i+2] for i in range(0, len(str_to_convert), 2)]\n",
    "    return_string = ''\n",
    "    \n",
    "    for value in values:\n",
    "        if value == '  ':\n",
    "            value = '12'\n",
    "        if value != '12':\n",
    "            return_string = return_string + fra_xing_val_definitions['crossing_vals'][value] + ', '\n",
    "    \n",
    "    return return_string[:-2]"
   ]
  },
  {
   "cell_type": "markdown",
   "id": "37d17611-83a9-4f07-9a80-326ddadadd65",
   "metadata": {},
   "source": [
    "### Answering Specific Queries\n",
    "\n",
    "Which crossings had the most incidents in the given period within the US?"
   ]
  },
  {
   "cell_type": "code",
   "execution_count": null,
   "id": "2a5602b4-1975-406a-aee0-78f7c793035b",
   "metadata": {},
   "outputs": [],
   "source": [
    "# most incidents of any crossings\n",
    "all_accident_data['GXID'].value_counts()[:50]"
   ]
  },
  {
   "cell_type": "markdown",
   "id": "a4df27dd-48c9-4e22-84a0-1c52301a5e52",
   "metadata": {},
   "source": [
    "What about just for Ohio?"
   ]
  },
  {
   "cell_type": "code",
   "execution_count": null,
   "id": "c92f2d3f-5712-43f1-ae8d-68375d368e0c",
   "metadata": {},
   "outputs": [],
   "source": [
    "# Sort incidents by State of Ohio\n",
    "ohio_incidents = all_accident_data.loc[all_accident_data['STATE'] == '39']"
   ]
  },
  {
   "cell_type": "code",
   "execution_count": null,
   "id": "17db249f-c3dc-4396-986c-d86ec1e4d43c",
   "metadata": {},
   "outputs": [],
   "source": [
    "top_50_dangerous_ohio_crossings = ohio_incidents['GXID'].value_counts()[:50]\n",
    "top_50_dangerous_ohio_crossings"
   ]
  },
  {
   "cell_type": "markdown",
   "id": "7b0d6da5-9c2e-4971-acb1-fa6e5db53ea0",
   "metadata": {
    "tags": []
   },
   "source": [
    "## Pulling values for individual Incidents"
   ]
  },
  {
   "cell_type": "markdown",
   "id": "1ff0a243-d915-45c5-af84-9f840be5c83f",
   "metadata": {},
   "source": [
    "### Define Object to Hold/Translate Fields from Records"
   ]
  },
  {
   "cell_type": "code",
   "execution_count": null,
   "id": "f2724ba3-0907-435e-9ac6-92c92809eb6d",
   "metadata": {},
   "outputs": [],
   "source": [
    "@dataclass\n",
    "class XingAccident:\n",
    "    \"\"\"\n",
    "    Class to hold and translate Railroad Accident Data from the FRA online Database\n",
    "    \n",
    "    Notes/TODO:\n",
    "    - `railroad` attribute is a lookup of another database table where the 4 digit code is translated to a more descriptive explanation of the owner\n",
    "    - First value in the comments is the data frame index representing that value\n",
    "    - Second value in the comments is the block on the standard input form the value is found\n",
    "    \"\"\"\n",
    "    amtrak: str      # 0       Amtrak involvement\n",
    "    iyr: str         # 1   5   Year of incident (report)\n",
    "    imo: str         # 2   5   Month of Incident\n",
    "    railroad: str    # 3   1a  Reporting Railroad (See Note)\n",
    "    incdtno: str     # 4   1b  Railroad assigned number\n",
    "    iyr2: str        # 5   5   Year of incident\n",
    "    imo2: str        # 6   5   month of incident\n",
    "    rr2: str         # 7   2a  railroad code (Other RR involved)\n",
    "    incdtno2: str    # 8   2b  other railroad assigned number\n",
    "    iyr3: str        # 9   5   year of incident\n",
    "    imo3: str        # 10  5   month of incident\n",
    "    rr3: str         # 11  3a  railroad code (RR responsible for track maintenance)\n",
    "    incdtno3: str    # 12  3b  RR assigned number\n",
    "    dummy1: str      # 13      Blank data expansion field\n",
    "    casinjrr: str    # 14      # of injured for reporting Railroad calculated from F6180.55a=s submitted\n",
    "    gxid: str        # 15  4   Grade crossing id number\n",
    "    year: str        # 16  5   Year of incident\n",
    "    month: str       # 17  5   Month of incident\n",
    "    day: str         # 18  5   Day of incident (int)\n",
    "    timehr: int      # 19  6   Hour of incident\n",
    "    timemin: int     # 20  6   Minute of incident\n",
    "    ampm: str        # 21  6   AM or PM\n",
    "    station: str     # 22  7   Nearest Timetable Station\n",
    "    county: str      # 23  9   County Name (see FIPS Codes for associated code)\n",
    "    state: str       # 24  10  FIPS State Code\n",
    "    region: str      # 25      FRA designated region\n",
    "    dummy2: str      # 26      Blank data expansion field\n",
    "    city: str        # 27  11  City name (see FIPS Codes for associated code)\n",
    "    highway: str     # 28  12  Highway name\n",
    "    vehspd: str      # 29  14  Vehicle estimated speed - Blank=Unknown\n",
    "    typveh: str      # 30  13  See Translation Table below Type of vehicle involved in accident\n",
    "    vehdir: str      # 31  15  Highway user direction\n",
    "    position: str    # 32  16  Position of higway (See defs below)\n",
    "    rrequip: str     # 33  17  RR Equipment involved (See defs)\n",
    "    rrcar: str       # 34  18  Position of car unit in train\n",
    "    typacc: str      # 35  19  Circumstance of accident (See defs)\n",
    "    hazard: str      # 36  20a Entity Transporting Hazmat (See defs)\n",
    "    temp: Number     # 37  21  Temperature in degrees Fahrenheit\n",
    "    visiblty: str    # 38  22  Visibility (See defs) \n",
    "    weather: str     # 39  23  Weather Conditions (See defs) \n",
    "    typeq: str       # 40  24  Type of consist (See defs)\n",
    "    typtrk: str      # 41  25  Type of track (See defs)\n",
    "    trkname: str     # 42  26  Track identification\n",
    "    trkclas: str     # 43  27  FRA track class: 1-9, X\n",
    "    nbrlocos: Number # 44  28  Number of locomotive units\n",
    "    nbrcars: Number  # 45  29  Number of cars\n",
    "    trnspd: str      # 46  30  Speed of train (in mph), blank=unknown\n",
    "    typspd: str      # 47  30  Train speed type (See defs)\n",
    "    trndir: str      # 48  31  Time table direction\n",
    "    signal: str      # 49  33  Type of signaled crossing warning:\n",
    "    locwarn: str     # 50  35  Location of warning (See defs)\n",
    "    warnsig: str     # 51  36  Crossing warning interconnected with highway (See defs)\n",
    "    lights: str      # 52  37  Lights at crossing (See defs)\n",
    "    standveh: str    # 53  42  Motorist passed highway standing vehicle (See defs)\n",
    "    train2: str      # 54  40  Motorist struck or was struck by 2nd train (See defs)\n",
    "    motorist: str    # 55  41  Action of motorist (See defs)\n",
    "    view: str        # 56  43  Primary obstruction of track view (See defs)\n",
    "    vehdmg: Number   # 57  47  Highway vehicle property damage in $\n",
    "    driver: str      # 58  44  Highway vehicle driver casualty (See defs)\n",
    "    inveh: str       # 59  45  Highway driver in vehicle (See defs)\n",
    "    totkld: Number   # 60      Total killed for railroad as reported on F6180.57\n",
    "    totinj: Number   # 61      Total injured for railroad as reported on F6180.57\n",
    "    totocc: Number   # 62  48  Total # in highway vehicle\n",
    "    incdrpt: str     # 63  51  F6180.54 filed (See defs)\n",
    "    jointcd: str     # 64      Indicates railroad reporting\n",
    "    typrr: str       # 65      Type railroad - ICC categories\n",
    "    dummy3: str      # 66      Blank data expansion field\n",
    "    caskldrr: Number # 67      # killed for reporting RR - calculated F6180.55a's submitted\n",
    "    dummy4: str      # 68      Blank data expansion field\n",
    "    crossing: str    # 69  32  Type of Warning device at crossing (series of 2 digit codes)\n",
    "    narrlen: Number  # 70      Length of narrative\n",
    "    dummy5: str      # 71      Blank data expansion field\n",
    "    year4: str       # 72  5   4 digit year of incident\n",
    "    division: str    # 73  8   Railroad division\n",
    "    public: str      # 74  12  Public crossing\n",
    "    cntycd: str      # 75      FIPS county code\n",
    "    stcnty: str      # 76      FIPS state and county code\n",
    "    hzmrlsed: str    # 77  20b Hazmat released by (See def)\n",
    "    hzmname: str     # 78  20c Name of hazmat released 20c\n",
    "    hzmqnty: str     # 79  20c Quantity of hazmat released 20c\n",
    "    hzmmeas: str     # 80  20c Measure used in hazmat quantity field 20c\n",
    "    sigwarnx: str    # 81  33  Further definition of signal field\n",
    "    whisban: str     # 82      whistle ban in effect (See def) Removed from form, replaced with roadcond\n",
    "    drivage: str     # 83  38  Vehcile Driver's age, Blank=Unknown\n",
    "    drivgen: str     # 84  39  Vehicle driver's Gender (See def)\n",
    "    pleontrn: str    # 85  50  Total # of people on train, includes passengers and crew, blank=unknown\n",
    "    ssb1: str        # 86  53a Special study block 1\n",
    "    ssb2: str        # 87  53b Special study block 2\n",
    "    userkld: Number  # 88  46  # of highway-rail crossing users killed as reported by railroad on F6180.57\n",
    "    userinj: Number  # 89  46  # of highway-rail crossing users injured as reported by railroad on F6180.57\n",
    "    rrempkld: Number # 90  49  # of highway employees killed as reported by railroad on F6180.57\n",
    "    rrempinj: Number # 91  49  # of railroad employees injured as reported by railroad on F6180.57\n",
    "    passkld: Number  # 92  52  # of train passengers killed as reported by railroad on F6180.57\n",
    "    passinj: Number  # 93  52  # of train passengers injured as reported by railroad on F6180.57\n",
    "    narr1: str       # 94  54  narrative\n",
    "    narr2: str       # 95  54  narrative\n",
    "    narr3: str       # 96  54  narrative\n",
    "    narr4: str       # 97  54  narrative\n",
    "    narr5: str       # 98  54  narrative\n",
    "    subdiv: str      # 99      Not defined in current FRA definitions documentation\n",
    "    roadcond: str    # 100 34  Definitions taken from form\n",
    "    videot: str      # 101     Not defined in current FRA definitions documentation\n",
    "    videou: str      # 102     Not defined in current FRA definitions documentation\n",
    "    \n",
    "    def __post_init__(self):\n",
    "        # The following values have lookups associated with them due to being stored as coded values\n",
    "        self.state = fra_xing_val_definitions['state_fips'][self.state]\n",
    "        self.typveh = fra_xing_val_definitions['typveh_vals'][self.typveh]\n",
    "        self.trndir = fra_xing_val_definitions['trndir_vals'][self.trndir]\n",
    "        self.rrequip = fra_xing_val_definitions['rrequip_vals'][self.rrequip]\n",
    "        self.typacc = fra_xing_val_definitions['typacc_vals'][self.typacc]\n",
    "        self.hazard = fra_xing_val_definitions['hazard_vals'][self.hazard]\n",
    "        self.visiblty = fra_xing_val_definitions['visiblty_vals'][self.visiblty]\n",
    "        self.weather = fra_xing_val_definitions['weather_vals'][self.weather]\n",
    "        self.typeq = fra_xing_val_definitions['typeq_vals'][self.typeq]\n",
    "        self.typtrk = fra_xing_val_definitions['typtrk_vals'][self.typtrk]\n",
    "        self.typspd = fra_xing_val_definitions['typspd_vals'][self.typspd]\n",
    "        self.locwarn = fra_xing_val_definitions['locwarn_vals'][self.locwarn]\n",
    "        self.warnsig = fra_xing_val_definitions['warnsig_vals'][self.warnsig]        \n",
    "        self.lights = fra_xing_val_definitions['lights_vals'][self.lights]\n",
    "        self.standveh = fra_xing_val_definitions['standveh_vals'][self.standveh]\n",
    "        self.train2 = fra_xing_val_definitions['train2_vals'][self.train2]\n",
    "        self.motorist = fra_xing_val_definitions['motorist_vals'][self.motorist]\n",
    "        self.view = fra_xing_val_definitions['view_vals'][self.view]\n",
    "        self.driver = fra_xing_val_definitions['driver_vals'][self.driver]\n",
    "        self.inveh = fra_xing_val_definitions['inveh_vals'][self.inveh]\n",
    "        self.incdrpt = fra_xing_val_definitions['incdrpt_vals'][str(self.incdrpt)]\n",
    "        # self.crossing = value_definitions['crossing_vals'][self.crossing]\n",
    "        self.hzmrlsed = fra_xing_val_definitions['hzmrlsed_vals'][self.hzmrlsed]\n",
    "        self.whisban = fra_xing_val_definitions['whisban_vals'][self.whisban]\n",
    "        self.drivgen = fra_xing_val_definitions['drivgen_vals'][self.drivgen]\n",
    "        self.roadcond = fra_xing_val_definitions['roadcond_vals'][self.roadcond]\n",
    "        self.crossing = translate_xing_warning(self.crossing)\n",
    "\n",
    "        # Prints a summary of the translated value upon init for dubugging # //TOODO - Remove from init\n",
    "        self.print_summary()\n",
    "        \n",
    "        \n",
    "    def print_summary(self):\n",
    "        \"\"\"\n",
    "        Displays various important details about the incident to user after translating them.\n",
    "        \"\"\"\n",
    "        \n",
    "        print(f\"Incident Description: \\n\")\n",
    "        [print(f\"{value}\", end=\"\") for value in [self.narr1, self.narr2, self.narr3, self.narr4, self.narr5] if not pd.isna(value)]\n",
    "        \n",
    "        print(\"\\n\\nDate (Y/M/D):\")\n",
    "        print(f\"20{self.year}/{self.month}/{self.day}\")                                                        \n",
    "        print(f\"State: {self.state}\")\n",
    "        \n",
    "        print(f\"Xing Name: {self.gxid}\")\n",
    "        \n",
    "        # The following functions translate values stored in the files into usable information\n",
    "        print(\"\\nThe following values were translated from their original records;\")                                                        \n",
    "        print(f\"Vehicle Type: {self.typveh}\")                                                        \n",
    "        print(f\"Train Direction: {self.trndir}\")                                                        \n",
    "        print(f\"Railroad Equipment: {self.rrequip}\")                                                        \n",
    "        print(f\"Accident Circumstances: {self.typacc}\")                                                        \n",
    "        print(f\"Entity Transporting Hazard: {self.hazard}\")                                                        \n",
    "        print(f\"Visibility: {self.visiblty}\")\n",
    "        print(f\"Weather: {self.weather}\")\n",
    "        print(f\"Type of Consist: {self.typeq}\")\n",
    "        print(f\"Type of Track: {self.typtrk}\")        \n",
    "        print(f\"Train Speed Type: {self.typspd}\")\n",
    "        print(f\"Location of Warning: {self.locwarn}\")\n",
    "        print(f\"Crossing Warnings Connected wiwth Highway: {self.warnsig}\")\n",
    "        print(f\"Lights at Crossing: {self.lights}\")\n",
    "        print(f\"Motorist Passed Standing Hwy Vehicle: {self.standveh}\")\n",
    "        print(f\"Motorist Struck by Second Train: {self.train2}\")\n",
    "        print(f\"Motorist Action: {self.motorist}\")\n",
    "        print(f\"Primary Obstruction of Track View: {self.view}\")\n",
    "        print(f\"Highway Driver Casualty: {self.driver}\")\n",
    "        print(f\"Highway Driver in Vehicle: {self.inveh}\")\n",
    "        print(f\"Report Filed: {self.incdrpt}\")\n",
    "        print(f\"Type of Warning Device: {self.crossing}\") # Needs updated to accomodate multiple values\n",
    "        print(f\"Hazmat Released by: {self.hzmrlsed}\")\n",
    "        print(f\"Whistle Ban in Effect: {self.whisban}\")\n",
    "        print(f\"Gender of Driver: {self.drivgen}\")\n",
    "        print(f\"Road Conditions: {self.roadcond}\")\n"
   ]
  },
  {
   "cell_type": "markdown",
   "id": "3bd613d4-efc5-4045-ba3e-eca13a0c7f60",
   "metadata": {},
   "source": [
    "### Pulling All Incidents for a Given Crossing\n",
    "\n",
    "looping through a random 100 records to check for errors reading the data to identify values that need more cleaning"
   ]
  },
  {
   "cell_type": "code",
   "execution_count": null,
   "id": "0fdbec13-e928-4d95-8c63-0115379d328c",
   "metadata": {},
   "outputs": [],
   "source": [
    "import random\n",
    "\n",
    "# list_to_check = []\n",
    "# \n",
    "# # Creates a list of 50,000 values between 0 and the number of rows in the accident data and appends them to a list\n",
    "# for i in range(0,50_000):\n",
    "    # n = random.randint(0,len(all_accident_data)-1)\n",
    "    # list_to_check.append(n)\n",
    "# \n",
    "# # Iterates through the above list and randomly checks entries translate without errors\n",
    "# for i, j in enumerate(list_to_check):\n",
    "    # x = XingAccident(*all_accident_data.iloc[j].values)\n",
    "    # print(f'\\n\\n\\n{i}')"
   ]
  },
  {
   "cell_type": "code",
   "execution_count": null,
   "id": "d924b271-149c-4900-b5f2-6f1687364742",
   "metadata": {},
   "outputs": [],
   "source": [
    "# Added this class to get Errors to print out red for user\n",
    "class bcolors:\n",
    "    HEADER = '\\033[95m'\n",
    "    OKBLUE = '\\033[94m'\n",
    "    OKCYAN = '\\033[96m'\n",
    "    OKGREEN = '\\033[92m'\n",
    "    WARNING = '\\033[93m'\n",
    "    FAIL = '\\033[91m'\n",
    "    ENDC = '\\033[0m'\n",
    "    BOLD = '\\033[1m'\n",
    "    UNDERLINE = '\\033[4m'\n",
    "\n",
    "def get_crossing_summary(crossing: str):\n",
    "    try:\n",
    "        # General Crossing Data\n",
    "        xing_details = crossing_df[crossing_df['CrossingID'] == crossing]\n",
    "    \n",
    "\n",
    "        print(f\"Crossing: {xing_details['CrossingID'].values[0]}\")\n",
    "        print(f\"Road Name: {xing_details['Street'].values[0]} in {xing_details['CityName'].values[0]}, {xing_details['StateName'].values[0]}, {xing_details['CountyName'].values[0]} County\")\n",
    "        print(f\"Crossing Closed?: {xing_details['CrossingClosed'].values[0]}\")\n",
    "        print(f\"Railroad: {xing_details['Railroad'].values[0]}\")\n",
    "        print(f\"Division: {xing_details['RrDiv'].values[0]}, MP: {xing_details['PrfxMilePost'].values[0]}-{xing_details['MilePost'].values[0]}\")\n",
    "        print(f\"Last Update: {xing_details['RevisionDate'].values[0]}\\n\")\n",
    "        print(f\"Coordinates: {xing_details['Latitude'].values[0]}, {xing_details['Longitude'].values[0]}\")\n",
    "        print(f\"Google Maps: https://maps.google.com/?t=k&q={xing_details['Latitude'].values[0]},{xing_details['Longitude'].values[0]}\")\n",
    "        print(f\"Street View: https://maps.google.com/?t=k&layer=c&cbll={xing_details['Latitude'].values[0]},{xing_details['Longitude'].values[0]}\\n\")\n",
    "        print(f\"Railroad Speed: {xing_details['MaxTtSpd'].values[0]}\")\n",
    "        print(f\"Railroad Traffic: {xing_details['DayThru'].values[0]+xing_details['NghtThru'].values[0]}\")\n",
    "        print(f\"Road LRSID: {xing_details['LrsRouteid'].values[0]}\")\n",
    "        print(f\"Road Speed: {xing_details['HwySpeed'].values[0]}\")\n",
    "        print(f\"Road AADT: {xing_details['Aadt'].values[0]}\")\n",
    "        print(f\"AADT Year: {xing_details['AadtYear'].values[0]}\")\n",
    "        print(f\"Road Speed: {xing_details['HwySpeed'].values[0]}\")\n",
    "\n",
    "    except (IndexError) as e:\n",
    "        print(f\"{bcolors.FAIL}Crossing: \\\"{crossing}\\\" is not in the FRA Crossing Inventory\\nERROR: {e}{bcolors.ENDC}\\n\\n\")\n",
    "    # //TODO - Decode more values for this summary related to xing protection\n",
    "\n",
    "    # Create a list of incidents at the crossing\n",
    "    incidents_at_crossing = ohio_incidents[ohio_incidents['GXID']  == crossing]\n",
    "\n",
    "    # Have to use a loop and if statement here in case any or all values aren't in dataset\n",
    "    print(\"Number of Fatalities/Injuries:\")\n",
    "    for value in incidents_at_crossing['DRIVER'].value_counts().index:\n",
    "        if value == '1':\n",
    "            print(f\"Killed: {incidents_at_crossing['DRIVER'].value_counts()[value]}\")\n",
    "        elif value == '2':\n",
    "            print(f\"Injured: {incidents_at_crossing['DRIVER'].value_counts()[value]}\")\n",
    "        elif value == '3':\n",
    "            print(f\"Uninjured: {incidents_at_crossing['DRIVER'].value_counts()[value]}\")\n",
    "        else:\n",
    "            print(f\"Unknown: {incidents_at_crossing['DRIVER'].value_counts()[value]}\")\n",
    "\n",
    "    i = 0\n",
    "\n",
    "    for index, row in incidents_at_crossing.iterrows():\n",
    "        print(f'\\n\\nIncident {i+1}')\n",
    "        x = XingAccident(*row.values)\n",
    "        i += 1"
   ]
  },
  {
   "cell_type": "code",
   "execution_count": null,
   "id": "36b29f81-4f9a-4fb3-a9e4-0fee2d297bc9",
   "metadata": {},
   "outputs": [],
   "source": [
    "# General Crossing Data\n",
    "crossing = '258113W'\n",
    "get_crossing_summary(crossing)"
   ]
  },
  {
   "cell_type": "code",
   "execution_count": null,
   "id": "5df25c07-15f0-400b-96b6-7a12822d8aa6",
   "metadata": {},
   "outputs": [],
   "source": [
    "# General Crossing Data\n",
    "crossing = '508943S'\n",
    "get_crossing_summary(crossing)"
   ]
  },
  {
   "cell_type": "code",
   "execution_count": null,
   "id": "67160177-9975-4049-bd3c-d730d78f5650",
   "metadata": {},
   "outputs": [],
   "source": [
    "# General Crossing Data\n",
    "crossing = '142007P'\n",
    "get_crossing_summary(crossing)"
   ]
  },
  {
   "cell_type": "code",
   "execution_count": null,
   "id": "7de9149c-cad3-457f-a692-afe9a8e39e57",
   "metadata": {},
   "outputs": [],
   "source": [
    "crossing = '524190E'\n",
    "get_crossing_summary(crossing)"
   ]
  },
  {
   "cell_type": "code",
   "execution_count": null,
   "id": "e3fef977-5a6f-45f7-97e3-3495545cb822",
   "metadata": {},
   "outputs": [],
   "source": [
    "crossing = '928702M'\n",
    "get_crossing_summary(crossing)"
   ]
  },
  {
   "cell_type": "code",
   "execution_count": null,
   "id": "8bd2b3d7-8280-489d-8182-cad315a9edff",
   "metadata": {},
   "outputs": [],
   "source": [
    "crossing = '524226K'\n",
    "get_crossing_summary(crossing)"
   ]
  },
  {
   "cell_type": "code",
   "execution_count": null,
   "id": "bbe8770d-5227-480e-add2-16c14075cf68",
   "metadata": {},
   "outputs": [],
   "source": [
    "crossing = '524340K'\n",
    "get_crossing_summary(crossing)"
   ]
  },
  {
   "cell_type": "code",
   "execution_count": null,
   "id": "3164c1db-f5e8-452d-bf85-581fc854790e",
   "metadata": {},
   "outputs": [],
   "source": [
    "crossing = '923040X'\n",
    "get_crossing_summary(crossing)"
   ]
  },
  {
   "cell_type": "code",
   "execution_count": null,
   "id": "85df8225-d055-4e7c-991f-326f107bd775",
   "metadata": {},
   "outputs": [],
   "source": [
    "crossing = '523793Y'\n",
    "get_crossing_summary(crossing)"
   ]
  },
  {
   "cell_type": "code",
   "execution_count": null,
   "id": "c1d9cb04-1c66-4df1-9a9d-4b7c152b8150",
   "metadata": {},
   "outputs": [],
   "source": [
    "crossing = '923039D'\n",
    "get_crossing_summary(crossing)"
   ]
  },
  {
   "cell_type": "code",
   "execution_count": null,
   "id": "c3729cb8-23b3-454e-8d03-6115157c9989",
   "metadata": {},
   "outputs": [],
   "source": [
    "crossing = '153762C'\n",
    "get_crossing_summary(crossing)"
   ]
  },
  {
   "cell_type": "code",
   "execution_count": null,
   "id": "9d2f03de-dae1-4ff3-b766-a501e8b9171b",
   "metadata": {},
   "outputs": [],
   "source": [
    "crossing = 'RRYARD'\n",
    "get_crossing_summary(crossing)"
   ]
  },
  {
   "cell_type": "code",
   "execution_count": null,
   "id": "299a741b-746d-47e1-8e9b-0c4a087456f7",
   "metadata": {},
   "outputs": [],
   "source": [
    "crossing = '509454K'\n",
    "get_crossing_summary(crossing)"
   ]
  },
  {
   "cell_type": "code",
   "execution_count": null,
   "id": "a5417e13-8fd3-4acd-bfda-98640c917c0f",
   "metadata": {},
   "outputs": [],
   "source": [
    "crossing = '509519B'\n",
    "get_crossing_summary(crossing)"
   ]
  },
  {
   "cell_type": "code",
   "execution_count": null,
   "id": "26505241-b65e-449d-90b4-ecadf1471fdf",
   "metadata": {},
   "outputs": [],
   "source": [
    "crossing = '544662D'\n",
    "get_crossing_summary(crossing)"
   ]
  },
  {
   "cell_type": "code",
   "execution_count": null,
   "id": "fccf57d6-3d8f-41d0-9290-a0831d563a8e",
   "metadata": {},
   "outputs": [],
   "source": [
    "crossing = '523850K'\n",
    "get_crossing_summary(crossing)"
   ]
  },
  {
   "cell_type": "code",
   "execution_count": null,
   "id": "d715bd4a-f083-49e9-af62-0af95bb619b3",
   "metadata": {},
   "outputs": [],
   "source": [
    "crossing = '904514E'\n",
    "get_crossing_summary(crossing)"
   ]
  },
  {
   "cell_type": "code",
   "execution_count": null,
   "id": "2869cca3-02c4-4a2b-a7d2-79475345a201",
   "metadata": {},
   "outputs": [],
   "source": [
    "crossing = '923043T'\n",
    "get_crossing_summary(crossing)"
   ]
  },
  {
   "cell_type": "code",
   "execution_count": null,
   "id": "d2a91374-ec88-4d66-977e-1ec3f0eb7c08",
   "metadata": {},
   "outputs": [],
   "source": [
    "crossing = '503541T'\n",
    "get_crossing_summary(crossing)"
   ]
  },
  {
   "cell_type": "code",
   "execution_count": null,
   "id": "52663e65-3593-4aad-9ca3-d0e7831ddda7",
   "metadata": {},
   "outputs": [],
   "source": [
    "crossing = '528002B'\n",
    "get_crossing_summary(crossing)"
   ]
  },
  {
   "cell_type": "code",
   "execution_count": null,
   "id": "1da69a79-810e-4e6f-8fad-0b166ebec718",
   "metadata": {},
   "outputs": [],
   "source": [
    "crossing = '509522J'\n",
    "get_crossing_summary(crossing)"
   ]
  },
  {
   "cell_type": "code",
   "execution_count": null,
   "id": "7a2fe2ef-dedd-46ef-ad86-e54679f5b08e",
   "metadata": {},
   "outputs": [],
   "source": [
    "crossing = '524062W'\n",
    "get_crossing_summary(crossing)"
   ]
  },
  {
   "cell_type": "code",
   "execution_count": null,
   "id": "205b0bce-65ba-4742-9359-7569f97e31eb",
   "metadata": {},
   "outputs": [],
   "source": [
    "crossing = '524678V'\n",
    "get_crossing_summary(crossing)"
   ]
  },
  {
   "cell_type": "code",
   "execution_count": null,
   "id": "05818d84-8c23-4faf-aa6c-34b0b54f6ad2",
   "metadata": {},
   "outputs": [],
   "source": [
    "crossing = '503013S'\n",
    "get_crossing_summary(crossing)"
   ]
  },
  {
   "cell_type": "code",
   "execution_count": null,
   "id": "97736ff9-37f3-4427-a7a7-b76880bbd3e6",
   "metadata": {},
   "outputs": [],
   "source": [
    "crossing = '228816S'\n",
    "get_crossing_summary(crossing)"
   ]
  },
  {
   "cell_type": "code",
   "execution_count": null,
   "id": "fefb129f-c3ca-4248-9af7-63492a8cc5af",
   "metadata": {},
   "outputs": [],
   "source": [
    "crossing = '155053D'\n",
    "get_crossing_summary(crossing)"
   ]
  },
  {
   "cell_type": "code",
   "execution_count": null,
   "id": "6d76caaf-f220-43ec-9908-e100fa0e5917",
   "metadata": {},
   "outputs": [],
   "source": [
    "crossing = '509457F'\n",
    "get_crossing_summary(crossing)"
   ]
  },
  {
   "cell_type": "code",
   "execution_count": null,
   "id": "cc89cf58-c9ff-4bce-be2a-c8b27fc4d7ae",
   "metadata": {},
   "outputs": [],
   "source": [
    "crossing = '518540F'\n",
    "get_crossing_summary(crossing)"
   ]
  },
  {
   "cell_type": "code",
   "execution_count": null,
   "id": "583b74d3-dbd4-4bb3-bea4-91e57e7cb431",
   "metadata": {},
   "outputs": [],
   "source": [
    "crossing = '509379B'\n",
    "get_crossing_summary(crossing)"
   ]
  },
  {
   "cell_type": "code",
   "execution_count": null,
   "id": "a5d3a3d2-05ec-4009-b5d2-8e63604431b4",
   "metadata": {},
   "outputs": [],
   "source": [
    "crossing = '473711A'\n",
    "get_crossing_summary(crossing)"
   ]
  },
  {
   "cell_type": "code",
   "execution_count": null,
   "id": "bbc1cc7e-6c90-4671-95fa-1d5a890ece39",
   "metadata": {},
   "outputs": [],
   "source": [
    "crossing = '502876E'\n",
    "get_crossing_summary(crossing)"
   ]
  },
  {
   "cell_type": "code",
   "execution_count": null,
   "id": "27713424-0cd9-4c70-b7ae-bb44d2d6adb3",
   "metadata": {},
   "outputs": [],
   "source": [
    "crossing = '867103W'\n",
    "get_crossing_summary(crossing)"
   ]
  },
  {
   "cell_type": "code",
   "execution_count": null,
   "id": "4f2f7207-5066-4634-addb-b1c2e34de3ec",
   "metadata": {},
   "outputs": [],
   "source": [
    "crossing = '523890H'\n",
    "get_crossing_summary(crossing)"
   ]
  },
  {
   "cell_type": "code",
   "execution_count": null,
   "id": "43d70188-6f1b-4c69-af1e-3c0b9876b3d0",
   "metadata": {},
   "outputs": [],
   "source": [
    "crossing = '152380D'\n",
    "get_crossing_summary(crossing)"
   ]
  },
  {
   "cell_type": "code",
   "execution_count": null,
   "id": "2990c48e-d57c-4c7b-a145-f886928e6107",
   "metadata": {},
   "outputs": [],
   "source": [
    "crossing = '509368N'\n",
    "get_crossing_summary(crossing)"
   ]
  },
  {
   "cell_type": "code",
   "execution_count": null,
   "id": "e68fb425-fae7-4717-b4b8-d6d29c1d8715",
   "metadata": {},
   "outputs": [],
   "source": [
    "crossing = '472402J'\n",
    "get_crossing_summary(crossing)"
   ]
  },
  {
   "cell_type": "code",
   "execution_count": null,
   "id": "c55d49fb-c27b-490e-85b0-8f9f53e82b18",
   "metadata": {},
   "outputs": [],
   "source": [
    "crossing = '473552V'\n",
    "get_crossing_summary(crossing)"
   ]
  },
  {
   "cell_type": "code",
   "execution_count": null,
   "id": "71e324de-526d-4124-9906-d1e35a896248",
   "metadata": {},
   "outputs": [],
   "source": [
    "crossing = '152395T'\n",
    "get_crossing_summary(crossing)"
   ]
  },
  {
   "cell_type": "code",
   "execution_count": null,
   "id": "8734caf8-305a-4df2-8115-d3d2f1c2e8fc",
   "metadata": {},
   "outputs": [],
   "source": [
    "crossing = '524051J'\n",
    "get_crossing_summary(crossing)"
   ]
  },
  {
   "cell_type": "code",
   "execution_count": null,
   "id": "f3bd4b12-bbca-44e4-bb30-e33f9d2e3e35",
   "metadata": {},
   "outputs": [],
   "source": [
    "crossing = '525239P'\n",
    "get_crossing_summary(crossing)"
   ]
  },
  {
   "cell_type": "code",
   "execution_count": null,
   "id": "98e88095-dc2c-4190-bebd-dfde5f24c32a",
   "metadata": {},
   "outputs": [],
   "source": [
    "crossing = '523898M'\n",
    "get_crossing_summary(crossing)"
   ]
  },
  {
   "cell_type": "code",
   "execution_count": null,
   "id": "1a50281b-abaa-4c03-9d2e-287a689dc19b",
   "metadata": {},
   "outputs": [],
   "source": [
    "crossing = '518430V'\n",
    "get_crossing_summary(crossing)"
   ]
  },
  {
   "cell_type": "code",
   "execution_count": null,
   "id": "62ffb5c6-d271-4711-b72f-082ca5a4cc1f",
   "metadata": {},
   "outputs": [],
   "source": [
    "crossing = '002036P'\n",
    "get_crossing_summary(crossing)"
   ]
  },
  {
   "cell_type": "code",
   "execution_count": null,
   "id": "e68797fe-96f2-4b9a-8de4-daa121c0dee0",
   "metadata": {},
   "outputs": [],
   "source": [
    "crossing = '524339R'\n",
    "get_crossing_summary(crossing)"
   ]
  },
  {
   "cell_type": "code",
   "execution_count": null,
   "id": "ddda3c6d-c060-4d75-a75f-56c921a5b751",
   "metadata": {},
   "outputs": [],
   "source": [
    "crossing = '518948D'\n",
    "get_crossing_summary(crossing)"
   ]
  },
  {
   "cell_type": "code",
   "execution_count": null,
   "id": "307916ac-0e4a-4581-8917-70ae0ab61ca6",
   "metadata": {},
   "outputs": [],
   "source": [
    "crossing = '518491L'\n",
    "get_crossing_summary(crossing)"
   ]
  },
  {
   "cell_type": "code",
   "execution_count": null,
   "id": "0ab500be-1333-420b-bd13-ea8aba84e22e",
   "metadata": {},
   "outputs": [],
   "source": [
    "crossing = '527976F'\n",
    "get_crossing_summary(crossing)"
   ]
  },
  {
   "cell_type": "code",
   "execution_count": null,
   "id": "e27f14f5-c48d-416b-8c24-0b6e594180f5",
   "metadata": {},
   "outputs": [],
   "source": [
    "crossing = '141707T'\n",
    "get_crossing_summary(crossing)"
   ]
  },
  {
   "cell_type": "code",
   "execution_count": null,
   "id": "bfbaadd4-70d1-4243-970b-502fa72cbbda",
   "metadata": {},
   "outputs": [],
   "source": [
    "crossing = '509271S'\n",
    "get_crossing_summary(crossing)"
   ]
  },
  {
   "cell_type": "markdown",
   "id": "9e1f33ef-7512-471f-ba7b-13fd1b3a900d",
   "metadata": {
    "tags": []
   },
   "source": [
    "# Appendix A\n",
    "\n",
    "## General Data Fields\n",
    "\n",
    "Translation of column index to attribute for various values in the\n",
    "\n",
    "0. CrossingID\n",
    "1. SubmissionType\n",
    "1. ReportBaseId\n",
    "1. ParentReportBaseId\n",
    "1. CrossingClosed\n",
    "1. ReportingAgencyTypeID\n",
    "1. ReportingAgencyID\n",
    "1. RevisionDate\n",
    "1. ReasonID\n",
    "1. CrossingIdSuffix\n",
    "1. ReportStatus\n",
    "1. LastUpdated\n",
    "1. Railroad\n",
    "1. StateCD\n",
    "1. StateName\n",
    "1. CntyCD\n",
    "1. CountyName\n",
    "1. Nearest\n",
    "1. CityCD\n",
    "1. CityName\n",
    "1. Street\n",
    "1. BlockNumb\n",
    "1. Highway\n",
    "1. SepInd\n",
    "1. SepRr1\n",
    "1. SepRr2\n",
    "1. SepRr3\n",
    "1. SepRr4\n",
    "1. MultFrmsFiLed\n",
    "1. SameInd\n",
    "1. SameRr1\n",
    "1. SameRr2\n",
    "1. SameRr3\n",
    "1. SameRr4\n",
    "1. RrID\n",
    "1. Ttstn\n",
    "1. TtstnNam\n",
    "1. RrMain\n",
    "1. XingOwnr\n",
    "1. TypeXing\n",
    "1. XPurpose\n",
    "1. PosXing\n",
    "1. OpenPub\n",
    "1. TypeTrnSrvcIDs\n",
    "1. DevelTypID\n",
    "1. XingAdj\n",
    "1. XngAdjNo\n",
    "1. Whistban\n",
    "1. WhistDate\n",
    "1. HscoRrid\n",
    "1. SfxHscoRrid\n",
    "1. Latitude\n",
    "1. Longitude\n",
    "1. LLsource\n",
    "1. RrNarr1\n",
    "1. RrNarr2\n",
    "1. RrNarr3\n",
    "1. RrNarr4\n",
    "1. StNarr1\n",
    "1. StNarr2\n",
    "1. StNarr3\n",
    "1. StNarr4\n",
    "1. RrNarr\n",
    "1. StNarr\n",
    "1. PolCont\n",
    "1. RrCont\n",
    "1. HwyCont\n",
    "1. THRRequestNo\n",
    "1. CCMQzid\n",
    "1. OperatingRailroadCode\n",
    "1. OperatingRailroadType\n",
    "1. RrDiv\n",
    "1. RrSubDiv\n",
    "1. Branch\n",
    "1. PrfxMilePost\n",
    "1. MilePost\n",
    "1. SfxMilePost\n",
    "1. Lt1PassMov\n",
    "1. PassCnt\n",
    "1. DayThru\n",
    "1. NghtThru\n",
    "1. TotalSwt\n",
    "1. TotalLtr\n",
    "1. Lt1Mov\n",
    "1. WeekTrnMov\n",
    "1. YearTrnMov\n",
    "1. MaxTtSpd\n",
    "1. MinSpd\n",
    "1. MaxSpd\n",
    "1. MainTrk\n",
    "1. SidingTrk\n",
    "1. YardTrk\n",
    "1. TransitTrk\n",
    "1. IndustryTrk\n",
    "1. OthrTrk\n",
    "1. OthrTrkDes\n",
    "1. SpselIDs\n",
    "1. Sgnleqp\n",
    "1. EMonitorDvce\n",
    "1. HealthMonitor\n",
    "1. NoSigns\n",
    "1. XBuck\n",
    "1. StopStd\n",
    "1. YieldStd\n",
    "1. AdvWarn\n",
    "1. AdvW10_1\n",
    "1. AdvW10_2\n",
    "1. AdvW10_3\n",
    "1. AdvW10_4\n",
    "1. AdvW10_11\n",
    "1. AdvW10_12\n",
    "1. Low_Grnd\n",
    "1. Low_GrndSigns\n",
    "1. PaveMrkIDs\n",
    "1. Channel\n",
    "1. Exempt\n",
    "1. EnsSign\n",
    "1. OthSgn\n",
    "1. OthSgn1\n",
    "1. OthDes1\n",
    "1. OthSgn2\n",
    "1. OthDes2\n",
    "1. OthSgn3\n",
    "1. OthDes3\n",
    "1. PrvxSign\n",
    "1. Led\n",
    "1. Gates\n",
    "1. GatePed\n",
    "1. GateConf\n",
    "1. GateConfType\n",
    "1. FlashOv\n",
    "1. FlashNov\n",
    "1. CFlashType\n",
    "1. FlashPost\n",
    "1. FlashPostType\n",
    "1. Bkl_FlashPost\n",
    "1. Sdl_FlashPost\n",
    "1. FlashPai\n",
    "1. AwdIDate\n",
    "1. AwhornChk\n",
    "1. AwhornlDate\n",
    "1. HwyTrafSignl\n",
    "1. Wigwags\n",
    "1. Bells\n",
    "1. SpecPro\n",
    "1. FlashOth\n",
    "1. FlashOthDes\n",
    "1. HwynrSig\n",
    "1. Intrprmp\n",
    "1. PrempType\n",
    "1. HwtrfPsig\n",
    "1. HwtrfPsigsdis\n",
    "1. HwtrfPsiglndis\n",
    "1. MonitorDev\n",
    "1. WdCode\n",
    "1. TraficLn\n",
    "1. TraflnType\n",
    "1. HwyPved\n",
    "1. Downst\n",
    "1. Illumina\n",
    "1. XSurfDate\n",
    "1. XSurfWidth\n",
    "1. XSurfLength\n",
    "1. XSurfaceIDs\n",
    "1. XSurOthr\n",
    "1. HwyNear\n",
    "1. HwynDist\n",
    "1. XAngle\n",
    "1. ComPower\n",
    "1. HwySys\n",
    "1. HwyClassCD\n",
    "1. HwyClassrdtpID\n",
    "1. StHwy1\n",
    "1. HwySpeed\n",
    "1. HwySpeedps\n",
    "1. LrsRouteid\n",
    "1. LrsMilePost\n",
    "1. Aadt\n",
    "1. AadtYear\n",
    "1. PctTruk\n",
    "1. SchlBusChk\n",
    "1. SchlBsCnt\n",
    "1. HazmtVeh\n",
    "1. EmrgncySrvc\n",
    "1. ReportYear\n",
    "1. ReportType"
   ]
  },
  {
   "cell_type": "code",
   "execution_count": null,
   "id": "b83dcb91-e999-4adc-8636-1f37532b6130",
   "metadata": {},
   "outputs": [],
   "source": [
    "all_accident_data[all_accident_data['"
   ]
  },
  {
   "cell_type": "code",
   "execution_count": null,
   "id": "c8671b69-2316-40cd-b3f2-31b9c33f2713",
   "metadata": {},
   "outputs": [],
   "source": [
    "all_accident_data[all_accident_data['GXID'] == '258113W']"
   ]
  },
  {
   "cell_type": "code",
   "execution_count": null,
   "id": "2646a569-e34d-4b7b-90a2-fcb410250c40",
   "metadata": {},
   "outputs": [],
   "source": []
  }
 ],
 "metadata": {
  "kernelspec": {
   "display_name": "Python 3 (ipykernel)",
   "language": "python",
   "name": "python3"
  },
  "language_info": {
   "codemirror_mode": {
    "name": "ipython",
    "version": 3
   },
   "file_extension": ".py",
   "mimetype": "text/x-python",
   "name": "python",
   "nbconvert_exporter": "python",
   "pygments_lexer": "ipython3",
   "version": "3.11.9"
  },
  "toc-autonumbering": true
 },
 "nbformat": 4,
 "nbformat_minor": 5
}
