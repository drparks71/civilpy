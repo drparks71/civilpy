{
 "cells": [
  {
   "cell_type": "markdown",
   "id": "6947bd95-0f10-4ae4-961f-d3b8401ea34d",
   "metadata": {},
   "source": [
    "# Demo Structure"
   ]
  },
  {
   "attachments": {
    "45059010-bcec-49be-9564-35707fe1e0be.png": {
     "image/png": "[encoded data removed]"
    }
   },
   "cell_type": "markdown",
   "id": "9d4fc321-bb2e-4c10-8708-ef577cbd90ab",
   "metadata": {},
   "source": [
    "![image.png](attachment:45059010-bcec-49be-9564-35707fe1e0be.png)"
   ]
  },
  {
   "cell_type": "markdown",
   "id": "58b16b66-4ee8-4313-8c90-f61a5aa0343a",
   "metadata": {},
   "source": [
    "# Loading Data Stored as Individual .json Files into Python"
   ]
  },
  {
   "cell_type": "code",
   "execution_count": 1,
   "id": "0096768b-2980-4875-af4b-f89f1f76e2ed",
   "metadata": {
    "tags": []
   },
   "outputs": [],
   "source": [
    "import os\n",
    "\n",
    "list_of_folders = []\n",
    "\n",
    "# Get a list of folders\n",
    "for root, dirs, files in os.walk(\".\"):\n",
    "    for dir in dirs:\n",
    "        list_of_folders.append(root + \"\\\\\" + dir)"
   ]
  },
  {
   "cell_type": "code",
   "execution_count": 2,
   "id": "75ad36d0-a9d7-41bc-8570-5af559f466ef",
   "metadata": {
    "tags": []
   },
   "outputs": [],
   "source": [
    "folders_to_ignore = [\n",
    "    \".\\\\.ipynb_checkpoints\",\n",
    "    \".\\\\All\",\n",
    "    \".\\\\_Backup\",\n",
    "    \".\\\\Hall of Fame\",\n",
    "    \".\\\\Vegetarian\",\n",
    "    \".\\\\Popular\",\n",
    "    \".\\\\.idea\",\n",
    "]\n",
    "\n",
    "for folder in list_of_folders[:]:\n",
    "    if (\n",
    "        folder in folders_to_ignore\n",
    "        or folder[:9] == \".\\\\_Backup\"\n",
    "        or folder[:7] == \".\\\\.idea\"\n",
    "    ):\n",
    "        list_of_folders.remove(folder)"
   ]
  },
  {
   "cell_type": "code",
   "execution_count": 3,
   "id": "9aba01e2-a2b1-42c4-895b-d474b096f525",
   "metadata": {
    "tags": []
   },
   "outputs": [
    {
     "data": {
      "text/plain": [
       "'.\\\\All\\\\20-oz-rib-eye-steaks-in-a-shallot-demi-glace-sauce-with-mashed-potatoes-and-honey-roasted-carrots\\\\deets.json'"
      ]
     },
     "execution_count": 3,
     "metadata": {},
     "output_type": "execute_result"
    }
   ],
   "source": [
    "list_of_folders[0] + \"\\\\\" + \"deets.json\""
   ]
  },
  {
   "cell_type": "code",
   "execution_count": 4,
   "id": "24c0ea42-ab79-4e94-903f-298455df583c",
   "metadata": {
    "tags": []
   },
   "outputs": [],
   "source": [
    "import json\n",
    "\n",
    "with open(list_of_folders[0] + \"\\\\\" + \"deets.json\") as f:\n",
    "    recipe = json.load(f)"
   ]
  },
  {
   "cell_type": "markdown",
   "id": "b40d7ad3-ec11-435b-87a9-7f36015a2bea",
   "metadata": {},
   "source": [
    "# Show the Data to be Written to the Table"
   ]
  },
  {
   "cell_type": "code",
   "execution_count": 5,
   "id": "3b594792-14f0-4485-9cfc-3307e4467b4c",
   "metadata": {
    "tags": []
   },
   "outputs": [
    {
     "name": "stdout",
     "output_type": "stream",
     "text": [
      "Title: 20 oz Rib-Eye Steaks in a Shallot Demi-Glace Sauce with Mashed Potatoes and Honey-Roasted Carrots\n",
      "Url: https://www.hellofresh.com/recipes/20-oz-rib-eye-steaks-in-a-shallot-demi-glace-sauce-5bb4d87830006c612d4a8c02\n",
      "Image: https://img.hellofresh.com/f_auto,fl_lossy,h_2500,q_auto,w_4800/hellofresh_s3/image/20-oz-rib-eye-steaks-in-a-shallot-demi-glace-sauce-59282e84.jpg\n",
      "Yields 2 serving(s)\n",
      "Host hellofresh.com\n",
      "Time Total: 40\n",
      "\n",
      "Ingredients:\n",
      "\t['1.0', 'Shallot']\n",
      "\t['1.0 teaspoon', 'Herbes de Provence']\n",
      "\t['4.0', 'Carrots']\n",
      "\t['1.0', 'Beef Demi-Glace']\n",
      "\t['2.0', 'Scallions']\n",
      "\t['20.0 ounce', 'Ribeye']\n",
      "\t['1.0 teaspoon', 'Chili Flakes']\n",
      "\t['1.0 tablespoon', 'Olive Oil']\n",
      "\t['3.0 tablespoon', 'Butter']\n",
      "\t['0.5 ounce', 'Honey']\n",
      "\t['6.0 tablespoon', 'Sour Cream']\n",
      "\t['12.0 ounce', 'Yukon Gold Potatoes']\n",
      "\t['2.0 teaspoon', 'Vegetable Oil']\n",
      "\n",
      "Directions:\n",
      "\n",
      "Wash and dry all produce. Adjust rack to upper position and preheat oven to 425 degrees. Peel carrots, then cut on an angle into Â½-inch-thick pieces. In a large bowl, whisk together herbs de Provence, half the honey, and 1 TBSP olive oil. Season with plenty of salt and pepper. Add carrots and toss to coat.\n",
      "\n",
      "Arrange carrots on a baking sheet. Roast in oven until browned and tender, about 20 minutes. Meanwhile, cut potatoes into evenly sized cubes. Place in a medium pot with salted water to cover by 2 inches. Bring to a boil and cook until tender, about 15 minutes. Once done, drain well and set aside.\n",
      "\n",
      "Meanwhile, trim, then thinly slice scallions, separating greens and whites. Pat steaks dry with a paper towel, then season generously all over with salt and pepper. Heat a large drizzle of oil in a large pan over medium-high heat. Add steaks and cook to desired doneness, 4-6 minutes per side.\n",
      "\n",
      "Remove steaks from pan and set aside to rest for at least 5 minutes. Wipe out any browned bits from pan with a paper towel. Halve, peel, and mince shallot until you have 2 TBSP. Melt 1 TBSP butter in pan used for steaks over medium heat. Add minced shallot and cook until just softened, about 1 minute. Stir in demi-glace and â…“ cup water. Simmer until slightly thickened, about 1 minute.\n",
      "\n",
      "Stir 1 TBSP butter and any juices released by steaks into pan. Remove from heat and season with salt and pepper. Once carrots are done roasting, drizzle with remaining honey and sprinkle with chili flakes to taste. Place pot used for potatoes over low heat. Add 1 TBSP butter and scallion whites. Cook, stirring, until scallions are slightly softened, about 1 minute.\n",
      "\n",
      "Add potatoes to pot and mash with a potato masher or fork until smooth. Stir in sour cream. Season with salt and pepper. Slice steaks against the grain. Divide carrots, potatoes, and steaks between plates. Spoon pan sauce over steaks and potatoes. Garnish with scallion greens.\n",
      "\n",
      "Nutrition:\n",
      "\tcalories: 1230 kcal\n",
      "\tfatContent: 81 g\n",
      "\tsaturatedFatContent: 37 g\n",
      "\tcarbohydrateContent: 68 g\n",
      "\tsugarContent: 23 g\n",
      "\tproteinContent: 63 g\n",
      "\tfiberContent: 11 g\n",
      "\tcholesterolContent: 230 mg\n",
      "\tsodiumContent: 780 mg\n"
     ]
    }
   ],
   "source": [
    "print(f\"Title: {recipe['Title']}\")\n",
    "print(f\"Url: {recipe['Recipe URL']}\")\n",
    "print(f\"Image: {recipe['Image URL']}\")\n",
    "print(f\"Yields {recipe['Yields']}\")\n",
    "print(f\"Host {recipe['Host']}\")\n",
    "print(f\"Time Total: {recipe['Time Total']}\\n\")\n",
    "\n",
    "print(\"Ingredients:\")\n",
    "for ingredient in recipe[\"Ingredients\"]:\n",
    "    print(f\"\\t{ingredient}\")\n",
    "\n",
    "print(f\"\\nDirections:\\n\\n{recipe['Directions']}\\n\")\n",
    "\n",
    "print(\"Nutrition:\")\n",
    "for key, value in recipe[\"Nutrition\"].items():\n",
    "    print(f\"\\t{key}: {value}\")"
   ]
  },
  {
   "cell_type": "markdown",
   "id": "f386e3bb-8b02-4722-a944-7269df53501b",
   "metadata": {
    "tags": []
   },
   "source": [
    "# Creating Tables\n",
    "\n",
    "Create a table to hold the recipes, and since there is a one to many relationship between the ingredients and the nutritional information, create two more tables with foreign keys for those pointing back to the Recipe ID.\n",
    "\n",
    "```python\n",
    "print(f\"Title: {recipe['Title']}\")\n",
    "print(f\"Url: {recipe['Recipe URL']}\")\n",
    "print(f\"Image: {recipe['Image URL']}\")\n",
    "print(f\"Yields {recipe['Yields']}\")\n",
    "print(f\"Host {recipe['Host']}\")\n",
    "print(f\"Time Total: {recipe['Time Total']}\\n\")\n",
    "\n",
    "print(\"Ingredients:\")\n",
    "for ingredient in recipe['Ingredients']:\n",
    "    print(f\"\\t{ingredient}\")\n",
    "\n",
    "print(f\"\\nDirections:\\n\\n{recipe['Directions']}\\n\")\n",
    "\n",
    "print(\"Nutrition:\")\n",
    "for key, value in recipe['Nutrition'].items():\n",
    "    print(f\"\\t{key}: {value}\")\n",
    "```"
   ]
  },
  {
   "cell_type": "code",
   "execution_count": 6,
   "id": "892ac2f3-41e2-423e-8055-68cd1f5c3c7f",
   "metadata": {
    "tags": []
   },
   "outputs": [
    {
     "name": "stdout",
     "output_type": "stream",
     "text": [
      "[('Ingredients',), ('Nutrition',), ('Recipe',)]\n"
     ]
    }
   ],
   "source": [
    "import sqlite3\n",
    "\n",
    "with sqlite3.connect(r\"recipes.db\") as conn:\n",
    "    sql_query = \"\"\"SELECT name FROM sqlite_master WHERE type='table';\"\"\"\n",
    "\n",
    "    cursor = conn.cursor()\n",
    "\n",
    "    cursor.execute(sql_query)\n",
    "    print(cursor.fetchall())"
   ]
  },
  {
   "cell_type": "code",
   "execution_count": 7,
   "id": "515fa1cf-620b-4c95-ac43-028826812285",
   "metadata": {},
   "outputs": [
    {
     "name": "stdout",
     "output_type": "stream",
     "text": [
      "Table already exists\n"
     ]
    }
   ],
   "source": [
    "# Creating table\n",
    "Recipe = \"\"\" \n",
    "create table Recipe\n",
    "    (\n",
    "        ID         INTEGER not null\n",
    "            primary key,\n",
    "        Title      TEXT,\n",
    "        URL        TEXT,\n",
    "        Image      TEXT,\n",
    "        Yields     TEXT,\n",
    "        Host       TEXT,\n",
    "        Time       INTEGER,\n",
    "        Directions TEXT\n",
    "    ); \n",
    "\"\"\"\n",
    "\n",
    "# Check if recipe table exists, create it if not\n",
    "cursor.execute(\"SELECT name FROM sqlite_master WHERE type='table' AND name='Recipe'\")\n",
    "\n",
    "if cursor.fetchall():\n",
    "    print(\"Table already exists\")\n",
    "else:\n",
    "    cursor.execute(Recipe)\n",
    "    print(\"Created Recipe Table\")"
   ]
  },
  {
   "cell_type": "markdown",
   "id": "c767f3c0-cec2-4bab-bce7-1ad49719f229",
   "metadata": {},
   "source": [
    "**Creating the other two tables**"
   ]
  },
  {
   "cell_type": "code",
   "execution_count": 8,
   "id": "0d6e070e-1b3e-454e-a90f-7b15b25290b4",
   "metadata": {
    "tags": []
   },
   "outputs": [
    {
     "name": "stdout",
     "output_type": "stream",
     "text": [
      "Table already exists\n"
     ]
    }
   ],
   "source": [
    "# Creating table 2\n",
    "Ingredients = \"\"\" \n",
    "\n",
    "create table Ingredients\n",
    "    (\n",
    "      ID         integer not null\n",
    "          constraint ID\n",
    "              primary key,\n",
    "      Quantity   FLOAT,\n",
    "      Ingredient CHARACTER,\n",
    "      Recipe_ID  integer not null\n",
    "          constraint ID\n",
    "              references Recipe\n",
    "    );\n",
    "\n",
    "\"\"\"\n",
    "\n",
    "\n",
    "# Check if recipe table exists, create it if not\n",
    "cursor.execute(\n",
    "    \"SELECT name FROM sqlite_master WHERE type='table' AND name='Ingredients'\"\n",
    ")\n",
    "\n",
    "if cursor.fetchall():\n",
    "    print(\"Table already exists\")\n",
    "else:\n",
    "    cursor.execute(ingredients)\n",
    "    print(\"Created Ingredients Table\")"
   ]
  },
  {
   "cell_type": "code",
   "execution_count": 9,
   "id": "070997e4-d305-43ea-93dc-d549a22c74ee",
   "metadata": {
    "tags": []
   },
   "outputs": [
    {
     "name": "stdout",
     "output_type": "stream",
     "text": [
      "Table already exists\n"
     ]
    }
   ],
   "source": [
    "# Creating table 3\n",
    "nutrition = \"\"\" \n",
    "create table Nutrition\n",
    "    (\n",
    "        ID                  integer not null\n",
    "            constraint Nutrition_pk\n",
    "                primary key,\n",
    "        RecipeID            integer not null\n",
    "            constraint RecipeID\n",
    "                references Recipe,\n",
    "        calories            TEXT,\n",
    "        FatContent          TEXT,\n",
    "        SaturatedFatContent TEXT,\n",
    "        CarboHydrateContent TEXT,\n",
    "        SugarContent        TEXT,\n",
    "        ProteinContent      TEXT,\n",
    "        FiberContent        TEXT,\n",
    "        CholesterolContent  TEXT,\n",
    "        SodiumContent       TEXT\n",
    "    );\n",
    "\"\"\"\n",
    "\n",
    "\n",
    "# Check if recipe table exists, create it if not\n",
    "cursor.execute(\"SELECT name FROM sqlite_master WHERE type='table' AND name='Nutrition'\")\n",
    "\n",
    "if cursor.fetchall():\n",
    "    print(\"Table already exists\")\n",
    "else:\n",
    "    cursor.execute(nutrition)\n",
    "    print(\"Created Nutrition Table\")"
   ]
  },
  {
   "cell_type": "markdown",
   "id": "c115f229-edb4-4619-b1e7-508561219efa",
   "metadata": {},
   "source": [
    "# Reading the Newly Created Table from SQLite"
   ]
  },
  {
   "cell_type": "code",
   "execution_count": 10,
   "id": "b4ef5f9b-192b-4d31-bc35-ad931877eaa7",
   "metadata": {
    "tags": []
   },
   "outputs": [
    {
     "name": "stdout",
     "output_type": "stream",
     "text": [
      "[('Ingredients',), ('Nutrition',), ('Recipe',)]\n"
     ]
    }
   ],
   "source": [
    "cursor.execute(sql_query)\n",
    "print(cursor.fetchall())"
   ]
  },
  {
   "cell_type": "code",
   "execution_count": 11,
   "id": "d3ad6e17-a4a6-40f2-a664-8986ad6aed15",
   "metadata": {
    "tags": []
   },
   "outputs": [
    {
     "data": {
      "text/html": [
       "<div>\n",
       "<style scoped>\n",
       "    .dataframe tbody tr th:only-of-type {\n",
       "        vertical-align: middle;\n",
       "    }\n",
       "\n",
       "    .dataframe tbody tr th {\n",
       "        vertical-align: top;\n",
       "    }\n",
       "\n",
       "    .dataframe thead th {\n",
       "        text-align: right;\n",
       "    }\n",
       "</style>\n",
       "<table border=\"1\" class=\"dataframe\">\n",
       "  <thead>\n",
       "    <tr style=\"text-align: right;\">\n",
       "      <th></th>\n",
       "      <th>ID</th>\n",
       "      <th>Title</th>\n",
       "      <th>URL</th>\n",
       "      <th>Image</th>\n",
       "      <th>Yields</th>\n",
       "      <th>Host</th>\n",
       "      <th>Time</th>\n",
       "      <th>Directions</th>\n",
       "    </tr>\n",
       "  </thead>\n",
       "  <tbody>\n",
       "  </tbody>\n",
       "</table>\n",
       "</div>"
      ],
      "text/plain": [
       "Empty DataFrame\n",
       "Columns: [ID, Title, URL, Image, Yields, Host, Time, Directions]\n",
       "Index: []"
      ]
     },
     "execution_count": 11,
     "metadata": {},
     "output_type": "execute_result"
    }
   ],
   "source": [
    "import pandas as pd\n",
    "\n",
    "recipe_df = pd.read_sql_query(\"SELECT * FROM Recipe\", conn)\n",
    "recipe_df"
   ]
  },
  {
   "cell_type": "code",
   "execution_count": 12,
   "id": "cae7edf8-b862-40d8-8c61-4dba0e22e6a0",
   "metadata": {
    "tags": []
   },
   "outputs": [
    {
     "data": {
      "text/html": [
       "<div>\n",
       "<style scoped>\n",
       "    .dataframe tbody tr th:only-of-type {\n",
       "        vertical-align: middle;\n",
       "    }\n",
       "\n",
       "    .dataframe tbody tr th {\n",
       "        vertical-align: top;\n",
       "    }\n",
       "\n",
       "    .dataframe thead th {\n",
       "        text-align: right;\n",
       "    }\n",
       "</style>\n",
       "<table border=\"1\" class=\"dataframe\">\n",
       "  <thead>\n",
       "    <tr style=\"text-align: right;\">\n",
       "      <th></th>\n",
       "      <th>ID</th>\n",
       "      <th>Quantity</th>\n",
       "      <th>Ingredient</th>\n",
       "      <th>Recipe_ID</th>\n",
       "    </tr>\n",
       "  </thead>\n",
       "  <tbody>\n",
       "  </tbody>\n",
       "</table>\n",
       "</div>"
      ],
      "text/plain": [
       "Empty DataFrame\n",
       "Columns: [ID, Quantity, Ingredient, Recipe_ID]\n",
       "Index: []"
      ]
     },
     "execution_count": 12,
     "metadata": {},
     "output_type": "execute_result"
    }
   ],
   "source": [
    "ingredients_df = pd.read_sql_query(\"SELECT * FROM Ingredients\", conn)\n",
    "ingredients_df"
   ]
  },
  {
   "cell_type": "code",
   "execution_count": 13,
   "id": "f0d2bf9f-82db-490b-94ce-b20748159d61",
   "metadata": {
    "tags": []
   },
   "outputs": [
    {
     "data": {
      "text/html": [
       "<div>\n",
       "<style scoped>\n",
       "    .dataframe tbody tr th:only-of-type {\n",
       "        vertical-align: middle;\n",
       "    }\n",
       "\n",
       "    .dataframe tbody tr th {\n",
       "        vertical-align: top;\n",
       "    }\n",
       "\n",
       "    .dataframe thead th {\n",
       "        text-align: right;\n",
       "    }\n",
       "</style>\n",
       "<table border=\"1\" class=\"dataframe\">\n",
       "  <thead>\n",
       "    <tr style=\"text-align: right;\">\n",
       "      <th></th>\n",
       "      <th>ID</th>\n",
       "      <th>RecipeID</th>\n",
       "      <th>calories</th>\n",
       "      <th>FatContent</th>\n",
       "      <th>SaturatedFatContent</th>\n",
       "      <th>CarboHydrateContent</th>\n",
       "      <th>SugarContent</th>\n",
       "      <th>ProteinContent</th>\n",
       "      <th>FiberContent</th>\n",
       "      <th>CholesterolContent</th>\n",
       "      <th>SodiumContent</th>\n",
       "    </tr>\n",
       "  </thead>\n",
       "  <tbody>\n",
       "  </tbody>\n",
       "</table>\n",
       "</div>"
      ],
      "text/plain": [
       "Empty DataFrame\n",
       "Columns: [ID, RecipeID, calories, FatContent, SaturatedFatContent, CarboHydrateContent, SugarContent, ProteinContent, FiberContent, CholesterolContent, SodiumContent]\n",
       "Index: []"
      ]
     },
     "execution_count": 13,
     "metadata": {},
     "output_type": "execute_result"
    }
   ],
   "source": [
    "nutrition_df = pd.read_sql_query(\"SELECT * FROM Nutrition\", conn)\n",
    "nutrition_df"
   ]
  },
  {
   "cell_type": "markdown",
   "id": "0f99e702-e39b-4272-adbe-f1e0314635d9",
   "metadata": {
    "tags": []
   },
   "source": [
    "# Add values to a Pandas DataFrame from the JSON File"
   ]
  },
  {
   "cell_type": "code",
   "execution_count": 14,
   "id": "aab9348e-6b12-418b-95ba-67f792ac90dc",
   "metadata": {
    "tags": []
   },
   "outputs": [
    {
     "data": {
      "text/plain": [
       "dict_keys(['Title', 'Recipe URL', 'Image URL', 'Yields', 'Host', 'Time Total', 'Ingredients', 'Directions', 'Nutrition'])"
      ]
     },
     "execution_count": 14,
     "metadata": {},
     "output_type": "execute_result"
    }
   ],
   "source": [
    "recipe.keys()"
   ]
  },
  {
   "cell_type": "code",
   "execution_count": 15,
   "id": "ce8e96f0-3687-4d91-8dd5-8323efe4c3b1",
   "metadata": {
    "tags": []
   },
   "outputs": [
    {
     "name": "stderr",
     "output_type": "stream",
     "text": [
      "C:\\Users\\drpar\\AppData\\Local\\Temp\\ipykernel_205636\\4232480434.py:1: FutureWarning: The frame.append method is deprecated and will be removed from pandas in a future version. Use pandas.concat instead.\n",
      "  recipe_df.append(recipe, ignore_index=True)\n"
     ]
    },
    {
     "data": {
      "text/html": [
       "<div>\n",
       "<style scoped>\n",
       "    .dataframe tbody tr th:only-of-type {\n",
       "        vertical-align: middle;\n",
       "    }\n",
       "\n",
       "    .dataframe tbody tr th {\n",
       "        vertical-align: top;\n",
       "    }\n",
       "\n",
       "    .dataframe thead th {\n",
       "        text-align: right;\n",
       "    }\n",
       "</style>\n",
       "<table border=\"1\" class=\"dataframe\">\n",
       "  <thead>\n",
       "    <tr style=\"text-align: right;\">\n",
       "      <th></th>\n",
       "      <th>ID</th>\n",
       "      <th>Title</th>\n",
       "      <th>URL</th>\n",
       "      <th>Image</th>\n",
       "      <th>Yields</th>\n",
       "      <th>Host</th>\n",
       "      <th>Time</th>\n",
       "      <th>Directions</th>\n",
       "      <th>Recipe URL</th>\n",
       "      <th>Image URL</th>\n",
       "      <th>Time Total</th>\n",
       "      <th>Ingredients</th>\n",
       "      <th>Nutrition</th>\n",
       "    </tr>\n",
       "  </thead>\n",
       "  <tbody>\n",
       "    <tr>\n",
       "      <th>0</th>\n",
       "      <td>NaN</td>\n",
       "      <td>20 oz Rib-Eye Steaks in a Shallot Demi-Glace S...</td>\n",
       "      <td>NaN</td>\n",
       "      <td>NaN</td>\n",
       "      <td>2 serving(s)</td>\n",
       "      <td>hellofresh.com</td>\n",
       "      <td>NaN</td>\n",
       "      <td>Wash and dry all produce. Adjust rack to upper...</td>\n",
       "      <td>https://www.hellofresh.com/recipes/20-oz-rib-e...</td>\n",
       "      <td>https://img.hellofresh.com/f_auto,fl_lossy,h_2...</td>\n",
       "      <td>40</td>\n",
       "      <td>[[1.0, Shallot], [1.0 teaspoon, Herbes de Prov...</td>\n",
       "      <td>{'calories': '1230 kcal', 'fatContent': '81 g'...</td>\n",
       "    </tr>\n",
       "  </tbody>\n",
       "</table>\n",
       "</div>"
      ],
      "text/plain": [
       "    ID                                              Title  URL Image  \\\n",
       "0  NaN  20 oz Rib-Eye Steaks in a Shallot Demi-Glace S...  NaN   NaN   \n",
       "\n",
       "         Yields            Host Time  \\\n",
       "0  2 serving(s)  hellofresh.com  NaN   \n",
       "\n",
       "                                          Directions  \\\n",
       "0  Wash and dry all produce. Adjust rack to upper...   \n",
       "\n",
       "                                          Recipe URL  \\\n",
       "0  https://www.hellofresh.com/recipes/20-oz-rib-e...   \n",
       "\n",
       "                                           Image URL Time Total  \\\n",
       "0  https://img.hellofresh.com/f_auto,fl_lossy,h_2...         40   \n",
       "\n",
       "                                         Ingredients  \\\n",
       "0  [[1.0, Shallot], [1.0 teaspoon, Herbes de Prov...   \n",
       "\n",
       "                                           Nutrition  \n",
       "0  {'calories': '1230 kcal', 'fatContent': '81 g'...  "
      ]
     },
     "execution_count": 15,
     "metadata": {},
     "output_type": "execute_result"
    }
   ],
   "source": [
    "recipe_df.append(recipe, ignore_index=True)"
   ]
  },
  {
   "cell_type": "code",
   "execution_count": 16,
   "id": "6ac8d539-f1e7-4e29-82f5-d33ba67aedf1",
   "metadata": {
    "tags": []
   },
   "outputs": [],
   "source": [
    "# Define the translations to go from json file keys to database/dataframe columns\n",
    "recipe_input_rows = {\n",
    "    \"ID\": \"\",\n",
    "    \"Title\": \"Title\",\n",
    "    \"URL\": \"Recipe URL\",\n",
    "    \"Image\": \"Image URL\",\n",
    "    \"Yields\": \"Yields\",\n",
    "    \"Host\": \"Host\",\n",
    "    \"Time\": \"Time Total\",\n",
    "    \"Directions\": \"Directions\",\n",
    "}"
   ]
  },
  {
   "cell_type": "code",
   "execution_count": 17,
   "id": "1f5f3668-fcf2-4ed1-897d-f093c42aa761",
   "metadata": {
    "tags": []
   },
   "outputs": [
    {
     "data": {
      "text/html": [
       "<div>\n",
       "<style scoped>\n",
       "    .dataframe tbody tr th:only-of-type {\n",
       "        vertical-align: middle;\n",
       "    }\n",
       "\n",
       "    .dataframe tbody tr th {\n",
       "        vertical-align: top;\n",
       "    }\n",
       "\n",
       "    .dataframe thead th {\n",
       "        text-align: right;\n",
       "    }\n",
       "</style>\n",
       "<table border=\"1\" class=\"dataframe\">\n",
       "  <thead>\n",
       "    <tr style=\"text-align: right;\">\n",
       "      <th></th>\n",
       "      <th>ID</th>\n",
       "      <th>Title</th>\n",
       "      <th>URL</th>\n",
       "      <th>Image</th>\n",
       "      <th>Yields</th>\n",
       "      <th>Host</th>\n",
       "      <th>Time</th>\n",
       "      <th>Directions</th>\n",
       "    </tr>\n",
       "  </thead>\n",
       "  <tbody>\n",
       "    <tr>\n",
       "      <th>0</th>\n",
       "      <td>0</td>\n",
       "      <td>20 oz Rib-Eye Steaks in a Shallot Demi-Glace S...</td>\n",
       "      <td>https://www.hellofresh.com/recipes/20-oz-rib-e...</td>\n",
       "      <td>https://img.hellofresh.com/f_auto,fl_lossy,h_2...</td>\n",
       "      <td>2 serving(s)</td>\n",
       "      <td>hellofresh.com</td>\n",
       "      <td>40</td>\n",
       "      <td>Wash and dry all produce. Adjust rack to upper...</td>\n",
       "    </tr>\n",
       "  </tbody>\n",
       "</table>\n",
       "</div>"
      ],
      "text/plain": [
       "   ID                                              Title  \\\n",
       "0   0  20 oz Rib-Eye Steaks in a Shallot Demi-Glace S...   \n",
       "\n",
       "                                                 URL  \\\n",
       "0  https://www.hellofresh.com/recipes/20-oz-rib-e...   \n",
       "\n",
       "                                               Image        Yields  \\\n",
       "0  https://img.hellofresh.com/f_auto,fl_lossy,h_2...  2 serving(s)   \n",
       "\n",
       "             Host Time                                         Directions  \n",
       "0  hellofresh.com   40  Wash and dry all produce. Adjust rack to upper...  "
      ]
     },
     "execution_count": 17,
     "metadata": {},
     "output_type": "execute_result"
    }
   ],
   "source": [
    "rows_list = []\n",
    "recipe_id = 0\n",
    "dict1 = {}\n",
    "\n",
    "for key in recipe_input_rows.keys():\n",
    "    if key == \"ID\":\n",
    "        dict1[key] = recipe_id\n",
    "    else:\n",
    "        dict1[key] = recipe[recipe_input_rows[key]]\n",
    "\n",
    "rows_list.append(dict1)\n",
    "\n",
    "df = pd.DataFrame(rows_list)\n",
    "df"
   ]
  },
  {
   "cell_type": "markdown",
   "id": "fe75d5ce-29f7-4b65-8486-a61c551a0c6b",
   "metadata": {
    "tags": []
   },
   "source": [
    "# Write the Dataframe to the SQLite DB"
   ]
  },
  {
   "cell_type": "code",
   "execution_count": 18,
   "id": "8a46d4a7-d417-4641-80df-b31b08c42bd6",
   "metadata": {
    "tags": []
   },
   "outputs": [],
   "source": [
    "import sys\n",
    "\n",
    "try:\n",
    "    df.to_sql(\"Recipe\", con=conn, if_exists=\"append\", index=False)\n",
    "except sqlite3.IntegrityError as e:\n",
    "    print(\"Entry already exists in Table\", e)"
   ]
  },
  {
   "cell_type": "code",
   "execution_count": 19,
   "id": "4cf40d29-67d9-4e30-8a99-bf0271efd477",
   "metadata": {
    "tags": []
   },
   "outputs": [
    {
     "data": {
      "text/html": [
       "<div>\n",
       "<style scoped>\n",
       "    .dataframe tbody tr th:only-of-type {\n",
       "        vertical-align: middle;\n",
       "    }\n",
       "\n",
       "    .dataframe tbody tr th {\n",
       "        vertical-align: top;\n",
       "    }\n",
       "\n",
       "    .dataframe thead th {\n",
       "        text-align: right;\n",
       "    }\n",
       "</style>\n",
       "<table border=\"1\" class=\"dataframe\">\n",
       "  <thead>\n",
       "    <tr style=\"text-align: right;\">\n",
       "      <th></th>\n",
       "      <th>ID</th>\n",
       "      <th>Title</th>\n",
       "      <th>URL</th>\n",
       "      <th>Image</th>\n",
       "      <th>Yields</th>\n",
       "      <th>Host</th>\n",
       "      <th>Time</th>\n",
       "      <th>Directions</th>\n",
       "    </tr>\n",
       "  </thead>\n",
       "  <tbody>\n",
       "    <tr>\n",
       "      <th>0</th>\n",
       "      <td>0</td>\n",
       "      <td>20 oz Rib-Eye Steaks in a Shallot Demi-Glace S...</td>\n",
       "      <td>https://www.hellofresh.com/recipes/20-oz-rib-e...</td>\n",
       "      <td>https://img.hellofresh.com/f_auto,fl_lossy,h_2...</td>\n",
       "      <td>2 serving(s)</td>\n",
       "      <td>hellofresh.com</td>\n",
       "      <td>40</td>\n",
       "      <td>Wash and dry all produce. Adjust rack to upper...</td>\n",
       "    </tr>\n",
       "  </tbody>\n",
       "</table>\n",
       "</div>"
      ],
      "text/plain": [
       "   ID                                              Title  \\\n",
       "0   0  20 oz Rib-Eye Steaks in a Shallot Demi-Glace S...   \n",
       "\n",
       "                                                 URL  \\\n",
       "0  https://www.hellofresh.com/recipes/20-oz-rib-e...   \n",
       "\n",
       "                                               Image        Yields  \\\n",
       "0  https://img.hellofresh.com/f_auto,fl_lossy,h_2...  2 serving(s)   \n",
       "\n",
       "             Host  Time                                         Directions  \n",
       "0  hellofresh.com    40  Wash and dry all produce. Adjust rack to upper...  "
      ]
     },
     "execution_count": 19,
     "metadata": {},
     "output_type": "execute_result"
    }
   ],
   "source": [
    "recipe_df = pd.read_sql_query(\"SELECT * FROM Recipe\", conn)\n",
    "recipe_df"
   ]
  },
  {
   "cell_type": "markdown",
   "id": "f6d9b3ae-3581-43e0-b7f1-bbb913462484",
   "metadata": {},
   "source": [
    "# Tie it all Together"
   ]
  },
  {
   "cell_type": "code",
   "execution_count": 20,
   "id": "366e3b31-3cb1-4a14-9952-4035cfae10dd",
   "metadata": {
    "tags": []
   },
   "outputs": [
    {
     "name": "stdout",
     "output_type": "stream",
     "text": [
      "Wrote 469 records to `recipes.db`\n"
     ]
    }
   ],
   "source": [
    "i = 1\n",
    "rows_list = []\n",
    "dict1 = {}\n",
    "\n",
    "# Loop through all the folders containing the recipe json files\n",
    "for folder in list_of_folders[1:]:\n",
    "    json_file = folder + \"\\\\\" + \"deets.json\"\n",
    "\n",
    "    with open(json_file, encoding=\"utf-8\") as f:\n",
    "        recipe = json.load(f)\n",
    "\n",
    "    for key in recipe_input_rows.keys():\n",
    "        if key == \"ID\":\n",
    "            dict1[key] = i\n",
    "        else:\n",
    "            dict1[key] = recipe[recipe_input_rows[key]]\n",
    "\n",
    "    rows_list.append(dict1.copy())\n",
    "\n",
    "    i += 1\n",
    "\n",
    "df = pd.DataFrame(rows_list)\n",
    "\n",
    "try:\n",
    "    df.to_sql(\"Recipe\", con=conn, if_exists=\"append\", index=False)\n",
    "    print(f\"Wrote {len(df)} records to `recipes.db`\")\n",
    "except sqlite3.IntegrityError as e:\n",
    "    print(\"Entry already exists in Table\", e)"
   ]
  },
  {
   "cell_type": "code",
   "execution_count": null,
   "id": "68934589-c0d0-4822-9615-a09d1f3a7a16",
   "metadata": {
    "tags": []
   },
   "outputs": [],
   "source": []
  },
  {
   "cell_type": "code",
   "execution_count": null,
   "id": "404c8f7c-f905-446d-ad35-18a75d6308ac",
   "metadata": {},
   "outputs": [],
   "source": []
  },
  {
   "cell_type": "code",
   "execution_count": null,
   "id": "ba802eed-aaa8-413a-b92b-81d8f03d0854",
   "metadata": {},
   "outputs": [],
   "source": []
  }
 ],
 "metadata": {
  "kernelspec": {
   "display_name": "Python 3 (ipykernel)",
   "language": "python",
   "name": "python3"
  },
  "language_info": {
   "codemirror_mode": {
    "name": "ipython",
    "version": 3
   },
   "file_extension": ".py",
   "mimetype": "text/x-python",
   "name": "python",
   "nbconvert_exporter": "python",
   "pygments_lexer": "ipython3",
   "version": "3.10.11"
  }
 },
 "nbformat": 4,
 "nbformat_minor": 5
}
