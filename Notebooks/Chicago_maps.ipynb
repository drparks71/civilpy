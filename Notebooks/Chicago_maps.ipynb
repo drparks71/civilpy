{
 "cells": [
  {
   "cell_type": "code",
   "execution_count": 1,
   "id": "ab6831c0-0128-4e98-a229-bc572fb831e7",
   "metadata": {
    "tags": []
   },
   "outputs": [
    {
     "ename": "ModuleNotFoundError",
     "evalue": "No module named 'restapi'",
     "output_type": "error",
     "traceback": [
      "\u001b[1;31m---------------------------------------------------------------------------\u001b[0m",
      "\u001b[1;31mModuleNotFoundError\u001b[0m                       Traceback (most recent call last)",
      "Cell \u001b[1;32mIn[1], line 1\u001b[0m\n\u001b[1;32m----> 1\u001b[0m \u001b[38;5;28;01mimport\u001b[39;00m \u001b[38;5;21;01mrestapi\u001b[39;00m\n\u001b[0;32m      2\u001b[0m \u001b[38;5;28;01mimport\u001b[39;00m \u001b[38;5;21;01mos\u001b[39;00m\n\u001b[0;32m      3\u001b[0m \u001b[38;5;28;01mimport\u001b[39;00m \u001b[38;5;21;01mtime\u001b[39;00m\n",
      "\u001b[1;31mModuleNotFoundError\u001b[0m: No module named 'restapi'"
     ]
    }
   ],
   "source": [
    "import restapi\n",
    "import os\n",
    "import time\n",
    "from pathlib import Path\n",
    "\n",
    "full_run_time_start = time.time()\n",
    "\n",
    "url = \"https://services3.arcgis.com/6LvtIYUSMXW8Tb6o/ArcGIS/rest/services\"\n",
    "\n",
    "# reference map service\n",
    "ags = restapi.ArcServer(url)"
   ]
  },
  {
   "cell_type": "code",
   "execution_count": 2,
   "id": "1a6241c6-7d07-4df5-a9b4-f37f0b762b54",
   "metadata": {
    "tags": []
   },
   "outputs": [
    {
     "ename": "NameError",
     "evalue": "name 'ags' is not defined",
     "output_type": "error",
     "traceback": [
      "\u001b[1;31m---------------------------------------------------------------------------\u001b[0m",
      "\u001b[1;31mNameError\u001b[0m                                 Traceback (most recent call last)",
      "Cell \u001b[1;32mIn[2], line 1\u001b[0m\n\u001b[1;32m----> 1\u001b[0m metra_lines \u001b[38;5;241m=\u001b[39m \u001b[43mags\u001b[49m\u001b[38;5;241m.\u001b[39mgetService(\u001b[38;5;124m\"\u001b[39m\u001b[38;5;124mmetra_lines_2018/FeatureServer\u001b[39m\u001b[38;5;124m\"\u001b[39m)\n\u001b[0;32m      2\u001b[0m lines \u001b[38;5;241m=\u001b[39m metra_lines\u001b[38;5;241m.\u001b[39mlayer(\u001b[38;5;241m0\u001b[39m)\n\u001b[0;32m      3\u001b[0m featureSet \u001b[38;5;241m=\u001b[39m lines\u001b[38;5;241m.\u001b[39mquery(exceed_limit\u001b[38;5;241m=\u001b[39m\u001b[38;5;28;01mTrue\u001b[39;00m)\n",
      "\u001b[1;31mNameError\u001b[0m: name 'ags' is not defined"
     ]
    }
   ],
   "source": [
    "metra_lines = ags.getService(\"metra_lines_2018/FeatureServer\")\n",
    "lines = metra_lines.layer(0)\n",
    "featureSet = lines.query(exceed_limit=True)"
   ]
  },
  {
   "cell_type": "code",
   "execution_count": 3,
   "id": "3f73b668-0c92-43ce-9d23-071d11846a78",
   "metadata": {
    "tags": []
   },
   "outputs": [
    {
     "ename": "NameError",
     "evalue": "name 'featureSet' is not defined",
     "output_type": "error",
     "traceback": [
      "\u001b[1;31m---------------------------------------------------------------------------\u001b[0m",
      "\u001b[1;31mNameError\u001b[0m                                 Traceback (most recent call last)",
      "Cell \u001b[1;32mIn[3], line 6\u001b[0m\n\u001b[0;32m      3\u001b[0m \u001b[38;5;28;01mimport\u001b[39;00m \u001b[38;5;21;01mpandas\u001b[39;00m \u001b[38;5;28;01mas\u001b[39;00m \u001b[38;5;21;01mpd\u001b[39;00m\n\u001b[0;32m      4\u001b[0m \u001b[38;5;28;01mfrom\u001b[39;00m \u001b[38;5;21;01mshapely\u001b[39;00m\u001b[38;5;21;01m.\u001b[39;00m\u001b[38;5;21;01mgeometry\u001b[39;00m \u001b[38;5;28;01mimport\u001b[39;00m shape\n\u001b[1;32m----> 6\u001b[0m df \u001b[38;5;241m=\u001b[39m gpd\u001b[38;5;241m.\u001b[39mread_file(\u001b[38;5;28mstr\u001b[39m(\u001b[43mfeatureSet\u001b[49m\u001b[38;5;241m.\u001b[39mjson))\n",
      "\u001b[1;31mNameError\u001b[0m: name 'featureSet' is not defined"
     ]
    }
   ],
   "source": [
    "import geopandas as gpd\n",
    "from shapely.geometry import Point, Polygon\n",
    "import pandas as pd\n",
    "from shapely.geometry import shape\n",
    "\n",
    "df = gpd.read_file(str(featureSet.json))"
   ]
  },
  {
   "cell_type": "code",
   "execution_count": 8,
   "id": "368023a8-ae33-4442-bae9-d7068dd74727",
   "metadata": {
    "tags": []
   },
   "outputs": [],
   "source": [
    "import folium\n",
    "import branca.colormap as cm\n",
    "\n",
    "m = df.explore(\n",
    "    column=\"LINE_NAME\",\n",
    "    style_kwds={\"weight\": 5},\n",
    "    legend=\"LINE_NAME\",\n",
    "    legend_kwds={\"caption\": \"Metra Lines\"},\n",
    ")"
   ]
  },
  {
   "cell_type": "code",
   "execution_count": 10,
   "id": "0891aab2-4498-472b-b1ca-56ba8d692d18",
   "metadata": {
    "tags": []
   },
   "outputs": [],
   "source": [
    "m.save(\"output/chicago_rail.html\")"
   ]
  },
  {
   "cell_type": "code",
   "execution_count": null,
   "id": "39a3c51c-0b8c-4596-8155-cdaef6b07aca",
   "metadata": {},
   "outputs": [],
   "source": []
  }
 ],
 "metadata": {
  "kernelspec": {
   "display_name": "Python 3 (ipykernel)",
   "language": "python",
   "name": "python3"
  },
  "language_info": {
   "codemirror_mode": {
    "name": "ipython",
    "version": 3
   },
   "file_extension": ".py",
   "mimetype": "text/x-python",
   "name": "python",
   "nbconvert_exporter": "python",
   "pygments_lexer": "ipython3",
   "version": "3.12.6"
  }
 },
 "nbformat": 4,
 "nbformat_minor": 5
}
