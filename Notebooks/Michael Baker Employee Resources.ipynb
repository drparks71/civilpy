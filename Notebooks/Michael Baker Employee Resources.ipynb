{
 "cells": [
  {
   "cell_type": "markdown",
   "id": "eaf5adb6c035f799",
   "metadata": {},
   "source": [
    "# Dependencies\n",
    "\n",
    "Change the following to code cells and run them to set-up the environment"
   ]
  },
  {
   "cell_type": "raw",
   "id": "22ee50578de010c9",
   "metadata": {},
   "source": [
    "%pip install openpyxl geopy fiona pandas geopandas beautifulsoup4 contextily folium mapclassify"
   ]
  },
  {
   "cell_type": "markdown",
   "id": "c068a45bae92582a",
   "metadata": {},
   "source": [
    "# Searching Vision for Specific Skills"
   ]
  },
  {
   "cell_type": "code",
   "execution_count": 1,
   "id": "3261a509ac0390f2",
   "metadata": {},
   "outputs": [],
   "source": [
    "import requests\n",
    "import json"
   ]
  },
  {
   "cell_type": "code",
   "execution_count": 2,
   "id": "9e70947751531281",
   "metadata": {},
   "outputs": [],
   "source": [
    "# Used when loading JSON to give access to keys as attributes of the object\n",
    "class Struct(dict):\n",
    "    def __getattr__(self, name):\n",
    "        return self[name]\n",
    "\n",
    "    def __setattr__(self, name, value):\n",
    "        self[name] = value\n",
    "\n",
    "    def __delattr__(self, name):\n",
    "        del self[name]"
   ]
  },
  {
   "cell_type": "code",
   "execution_count": 18,
   "id": "6f04ec5fe45c4db6",
   "metadata": {},
   "outputs": [],
   "source": [
    "request_url = \"https://mbisearchemployeednc.azurewebsites.net/?cmd=search&employee=fake.name@mbakerintl.com&subdata=skills,compskills,liccerts&criteria=where%20(service%20like%20%27%25Rail%25%27%20or%20feature%20like%20%27%25Rail%25%27)\""
   ]
  },
  {
   "cell_type": "code",
   "execution_count": 19,
   "id": "391515f5969e6b93",
   "metadata": {},
   "outputs": [],
   "source": [
    "employee_url = \"https://mbisearchemployeednc.azurewebsites.net/?cmd=user&employee=dane.parks@mbakerintl.com&subdata=education,skills,compskills,liccerts\""
   ]
  },
  {
   "cell_type": "code",
   "execution_count": 20,
   "id": "e040ea4a3a88e76a",
   "metadata": {},
   "outputs": [],
   "source": [
    "mbi_employee_resources = requests.get(request_url, headers={'origin': 'https://mbakerintl.sharepoint.com/'})"
   ]
  },
  {
   "cell_type": "code",
   "execution_count": 21,
   "id": "dfd0a1bf5102bc4b",
   "metadata": {},
   "outputs": [],
   "source": [
    "search_results = json.loads(mbi_employee_resources.content, object_hook=Struct)"
   ]
  },
  {
   "cell_type": "code",
   "execution_count": 22,
   "id": "ebded4913a5b17ba",
   "metadata": {},
   "outputs": [
    {
     "data": {
      "text/plain": [
       "'412-918-4028'"
      ]
     },
     "execution_count": 22,
     "metadata": {},
     "output_type": "execute_result"
    }
   ],
   "source": [
    "search_results[10].WorkPhone"
   ]
  },
  {
   "cell_type": "code",
   "execution_count": 23,
   "id": "c1f0968572363c01",
   "metadata": {},
   "outputs": [
    {
     "data": {
      "text/plain": [
       "{'Employee': '809056',\n",
       " 'Email': 'Johann.Aakre@mbakerintl.com',\n",
       " 'LastName': 'Aakre',\n",
       " 'FirstName': 'Johann',\n",
       " 'MiddleInitial': 'F.',\n",
       " 'Region': 'Great Lakes',\n",
       " 'Suffix': 'P.E., S.E.',\n",
       " 'TotalYearsExperience': '21',\n",
       " 'YearsAtMBI': '6',\n",
       " 'MobilePhone': '312-363-8778',\n",
       " 'WorkPhone': '312-575-3907',\n",
       " 'Org': '495.51.19.51',\n",
       " 'Department': 'Bridges-Practice Resource-Chicago, IL',\n",
       " 'ManagerName': 'Aaron Stover',\n",
       " 'ManagerEmail': 'astover@mbakerintl.com',\n",
       " 'BakerOffice': 'Chicago, IL',\n",
       " 'BakerTitle': 'Regional Operations Lead - Bridge',\n",
       " 'ExecutiveTitle': 'Associate Vice President',\n",
       " 'Practice': 'Bridge',\n",
       " 'IndirectReportsCount': '0',\n",
       " 'DirectReportsCount': '0',\n",
       " 'TotalReportsCount': '0',\n",
       " 'FlattenedLicensesCertifications': 'Professional Engineer (Iowa)<BR>Professional Engineer (Illinois)<BR>Professional Engineer (Michigan)<BR>Structural Engineer (Illinois)',\n",
       " 'FlattenedSkills': 'Construction Manager/General Contractor (CM/GC) (0 - Unknown)<BR>Abutment : Design (2 - Intermediate)<BR>Bridge - Arch : Design (2 - Intermediate)<BR>Bridge - Girders/Beams : Bridge Type Selection (2 - Intermediate)<BR>Bridge - Pedestrian : Design (3 - Advanced)<BR>Bridge - Rail : Design (2 - Intermediate)<BR>Bridge - Segmental Concrete : Design (1 - Basic)<BR>Bridge Foundations (1 - Basic)<BR>Bridge over rail (2 - Intermediate)<BR>Bridges : Accelerated Bridge Construction (3 - Advanced)<BR>Concrete (1 - Basic)<BR>Concrete : Design (3 - Advanced)<BR>Deep Foundations (1 - Basic)<BR>Design Drawings (1 - Basic)<BR>Drilled Shaft (1 - Basic)<BR>Girder - Curved (1 - Basic)<BR>Girder - Steel (1 - Basic)<BR>Pedestrian/Bike Structure (2 - Intermediate)<BR>Precast Post-Tensioned Concrete (2 - Intermediate)<BR>Steel : Design (3 - Advanced)',\n",
       " 'FlattenedComputerSkills': 'AASHTO LRFD (2 - Intermediate)<BR>Adobe Acrobat Professional (2 - Intermediate)<BR>Bentley MicroStation (2 - Intermediate)<BR>Bentley ProjectWise (2 - Intermediate)<BR>LARSA (3 - Advanced)<BR>LEAP Bridge (2 - Intermediate)<BR>LPILE (2 - Intermediate)<BR>Mathcad (2 - Intermediate)<BR>Microsoft Office Suite (2 - Intermediate)<BR>Microsoft Teams (2 - Intermediate)<BR>XTRACT (2 - Intermediate)',\n",
       " 'SkillsCount': '20',\n",
       " 'ComputerSkillsCount': '11',\n",
       " 'LicensesCertificationsCount': '4',\n",
       " 'Skills': [{'Feature': '',\n",
       "   'Service': 'Construction Manager/General Contractor (CM/GC)',\n",
       "   'Level': '0 - Unknown'},\n",
       "  {'Feature': 'Abutment', 'Service': 'Design', 'Level': '2 - Intermediate'},\n",
       "  {'Feature': 'Bridge - Arch',\n",
       "   'Service': 'Design',\n",
       "   'Level': '2 - Intermediate'},\n",
       "  {'Feature': 'Bridge - Rail',\n",
       "   'Service': 'Design',\n",
       "   'Level': '2 - Intermediate'},\n",
       "  {'Feature': 'Bridge - Segmental Concrete',\n",
       "   'Service': 'Design',\n",
       "   'Level': '1 - Basic'},\n",
       "  {'Feature': 'Bridge - Pedestrian',\n",
       "   'Service': 'Design',\n",
       "   'Level': '3 - Advanced'},\n",
       "  {'Feature': 'Bridges',\n",
       "   'Service': 'Accelerated Bridge Construction',\n",
       "   'Level': '3 - Advanced'},\n",
       "  {'Feature': 'Steel', 'Service': 'Design', 'Level': '3 - Advanced'},\n",
       "  {'Feature': 'Concrete', 'Service': 'Design', 'Level': '3 - Advanced'},\n",
       "  {'Feature': 'Bridge - Girders/Beams',\n",
       "   'Service': 'Bridge Type Selection',\n",
       "   'Level': '2 - Intermediate'},\n",
       "  {'Feature': 'Bridge over rail', 'Service': '', 'Level': '2 - Intermediate'},\n",
       "  {'Feature': 'Precast Post-Tensioned Concrete',\n",
       "   'Service': '',\n",
       "   'Level': '2 - Intermediate'},\n",
       "  {'Feature': 'Pedestrian/Bike Structure',\n",
       "   'Service': '',\n",
       "   'Level': '2 - Intermediate'},\n",
       "  {'Feature': 'Deep Foundations', 'Service': '', 'Level': '1 - Basic'},\n",
       "  {'Feature': 'Design Drawings', 'Service': '', 'Level': '1 - Basic'},\n",
       "  {'Feature': 'Concrete', 'Service': '', 'Level': '1 - Basic'},\n",
       "  {'Feature': 'Bridge Foundations', 'Service': '', 'Level': '1 - Basic'},\n",
       "  {'Feature': 'Drilled Shaft', 'Service': '', 'Level': '1 - Basic'},\n",
       "  {'Feature': 'Girder - Steel', 'Service': '', 'Level': '1 - Basic'},\n",
       "  {'Feature': 'Girder - Curved', 'Service': '', 'Level': '1 - Basic'}],\n",
       " 'Education': [],\n",
       " 'ComputerSkills': [{'ComputerSkill': 'LEAP Bridge',\n",
       "   'Level': '2 - Intermediate'},\n",
       "  {'ComputerSkill': 'LPILE', 'Level': '2 - Intermediate'},\n",
       "  {'ComputerSkill': 'Bentley MicroStation', 'Level': '2 - Intermediate'},\n",
       "  {'ComputerSkill': 'Mathcad', 'Level': '2 - Intermediate'},\n",
       "  {'ComputerSkill': 'Microsoft Office Suite', 'Level': '2 - Intermediate'},\n",
       "  {'ComputerSkill': 'Adobe Acrobat Professional', 'Level': '2 - Intermediate'},\n",
       "  {'ComputerSkill': 'Bentley ProjectWise', 'Level': '2 - Intermediate'},\n",
       "  {'ComputerSkill': 'Microsoft Teams', 'Level': '2 - Intermediate'},\n",
       "  {'ComputerSkill': 'AASHTO LRFD', 'Level': '2 - Intermediate'},\n",
       "  {'ComputerSkill': 'XTRACT', 'Level': '2 - Intermediate'},\n",
       "  {'ComputerSkill': 'LARSA', 'Level': '3 - Advanced'}],\n",
       " 'ProfessionalAffiliations': [],\n",
       " 'LicensesCertifications': [{'Name': 'Professional Engineer',\n",
       "   'Type': 'Registration',\n",
       "   'State': 'Iowa',\n",
       "   'Number': 'P26744',\n",
       "   'DateEarned': '5/11/2021 12:00:00 AM',\n",
       "   'DateExpires': '12/31/2026 12:00:00 AM',\n",
       "   'IncludeInProposal': 'True'},\n",
       "  {'Name': 'Professional Engineer',\n",
       "   'Type': 'Registration',\n",
       "   'State': 'Illinois',\n",
       "   'Number': '062.060304',\n",
       "   'DateEarned': '1/2/2008 12:00:00 AM',\n",
       "   'DateExpires': '11/30/2025 12:00:00 AM',\n",
       "   'IncludeInProposal': 'True'},\n",
       "  {'Name': 'Structural Engineer',\n",
       "   'Type': 'Registration',\n",
       "   'State': 'Illinois',\n",
       "   'Number': '081.006828',\n",
       "   'DateEarned': '12/31/2009 12:00:00 AM',\n",
       "   'DateExpires': '11/30/2026 12:00:00 AM',\n",
       "   'IncludeInProposal': 'True'},\n",
       "  {'Name': 'Professional Engineer',\n",
       "   'Type': 'Registration',\n",
       "   'State': 'Michigan',\n",
       "   'Number': '6201062986',\n",
       "   'DateEarned': '8/21/2015 12:00:00 AM',\n",
       "   'DateExpires': '8/21/2025 12:00:00 AM',\n",
       "   'IncludeInProposal': 'True'}],\n",
       " 'LicensesMappings': None}"
      ]
     },
     "execution_count": 23,
     "metadata": {},
     "output_type": "execute_result"
    }
   ],
   "source": [
    "search_results[0]"
   ]
  },
  {
   "cell_type": "code",
   "execution_count": 17,
   "id": "4441c05d34a7308e",
   "metadata": {},
   "outputs": [
    {
     "name": "stdout",
     "output_type": "stream",
     "text": [
      "Name: Johann Aakre\n",
      "Headquarters: Chicago, IL\n",
      "Reigon: Great Lakes\n",
      "Departmetn: Bridges-Practice Resource-Chicago, IL\n",
      "\n",
      "\n",
      "Name: Steven Ackerman\n",
      "Headquarters: Moon Township, PA\n",
      "Reigon: Great Lakes\n",
      "Departmetn: ArchPlanBuild-Practice Resource-Fed Pr Mgmt\n",
      "\n",
      "\n",
      "Name: Timothy Ainsley II\n",
      "Headquarters: Harrisburg, PA\n",
      "Reigon: Great Lakes\n",
      "Departmetn: Bridges-Practice Resource-Harrisburg, PA\n",
      "\n",
      "\n",
      "Name: Wayne Airgood\n",
      "Headquarters: Moon Township, PA\n",
      "Reigon: Great Lakes\n",
      "Departmetn: Structural-Practice Resource-Structural\n",
      "\n",
      "\n",
      "Name: Akin Akinduro\n",
      "Headquarters: Nashville, TN\n",
      "Reigon: Southern\n",
      "Departmetn: Bridges-Practice Resource-Nashville, TN\n",
      "\n",
      "\n",
      "Name: Kayla Albertson\n",
      "Headquarters: Tallahassee, FL\n",
      "Reigon: Southern\n",
      "Departmetn: Hwy/Bridge-Practice Resource-Tallahassee, FL\n",
      "\n",
      "\n",
      "Name: Constantin Aldea\n",
      "Headquarters: Hamilton, NJ\n",
      "Reigon: Northeast\n",
      "Departmetn: Bridges-Practice Resource-Hamilton, NJ\n",
      "\n",
      "\n",
      "Name: Mir Ali\n",
      "Headquarters: Little Rock, AR\n",
      "Reigon: Southern\n",
      "Departmetn: Bridges-Practice Resource-Little Rock, AR\n",
      "\n",
      "\n",
      "Name: Ainsley Allen\n",
      "Headquarters: New York, NY\n",
      "Reigon: Northeast\n",
      "Departmetn: ConstrSvcs-Fld-Practice Resource-New York, NY\n",
      "\n",
      "\n",
      "Name: Desiree Angelotta\n",
      "Headquarters: Moon Township, PA\n",
      "Reigon: Great Lakes\n",
      "Departmetn: Planning-Practice Resource-Arch PGH, PA\n",
      "\n",
      "\n"
     ]
    }
   ],
   "source": [
    "for Employee in search_results[:10]:\n",
    "    print(f\"Name: {Employee.FirstName} {Employee.LastName}\")\n",
    "    print(f\"Headquarters: {Employee.BakerOffice}\")\n",
    "    print(f\"Reigon: {Employee.Region}\")\n",
    "    print(f\"Departmetn: {Employee.Department}\\n\\n\")"
   ]
  },
  {
   "cell_type": "markdown",
   "id": "455e4ab0cd69e85",
   "metadata": {},
   "source": [
    "Geocoding the address"
   ]
  },
  {
   "cell_type": "code",
   "execution_count": null,
   "id": "59ce87d8314390f5",
   "metadata": {},
   "outputs": [],
   "source": [
    "from geopy.geocoders import Nominatim\n",
    "loc = Nominatim(user_agent=\"GetLoc\")"
   ]
  },
  {
   "cell_type": "code",
   "execution_count": null,
   "id": "a2814dc6c9a20a25",
   "metadata": {},
   "outputs": [],
   "source": [
    "getLoc = loc.geocode(search_results[0].BakerOffice)"
   ]
  },
  {
   "cell_type": "code",
   "execution_count": null,
   "id": "f604f4afe2cb7f34",
   "metadata": {},
   "outputs": [],
   "source": [
    "getLoc.latitude, getLoc.longitude"
   ]
  },
  {
   "cell_type": "markdown",
   "id": "36a2dc6e961b3390",
   "metadata": {},
   "source": [
    "# Associating Employees with an Office Utilizing 'Nearest Neighbor'"
   ]
  },
  {
   "cell_type": "code",
   "execution_count": null,
   "id": "8664cc7ad9cd0b56",
   "metadata": {},
   "outputs": [],
   "source": [
    "import pandas as pd\n",
    "\n",
    "employees = pd.DataFrame()"
   ]
  },
  {
   "cell_type": "code",
   "execution_count": null,
   "id": "bdf88c0801edd377",
   "metadata": {},
   "outputs": [],
   "source": [
    "class bcolors:\n",
    "    HEADER = '\\033[95m'\n",
    "    OKBLUE = '\\033[94m'\n",
    "    OKCYAN = '\\033[96m'\n",
    "    OKGREEN = '\\033[92m'\n",
    "    WARNING = '\\033[93m'\n",
    "    FAIL = '\\033[91m'\n",
    "    ENDC = '\\033[0m'\n",
    "    BOLD = '\\033[1m'\n",
    "    UNDERLINE = '\\033[4m'"
   ]
  },
  {
   "cell_type": "code",
   "execution_count": null,
   "id": "ed84d2ad39426370",
   "metadata": {},
   "outputs": [],
   "source": [
    "# Filtering skills table to get results related to rail\n",
    "[x for x in search_results[0]['Skills'] if \"rail\" in x['Feature'].lower()]"
   ]
  },
  {
   "cell_type": "code",
   "execution_count": null,
   "id": "498e379c04fb5b53",
   "metadata": {},
   "outputs": [],
   "source": [
    "skills = [x for x in search_results[0]['Skills'] if 'rail' in x['Feature'].lower()]"
   ]
  },
  {
   "cell_type": "code",
   "execution_count": null,
   "id": "c9ae887bd1ff706b",
   "metadata": {},
   "outputs": [],
   "source": [
    "skills[0]['Feature']"
   ]
  },
  {
   "cell_type": "code",
   "execution_count": null,
   "id": "986493d8bfa70daa",
   "metadata": {},
   "outputs": [],
   "source": [
    "from geopy.geocoders import Nominatim\n",
    "\n",
    "def convert_search_results_to_df(search_results, search_term):\n",
    "    \"\"\"\n",
    "    This function takes a long time to run because of the geocoding aspect, ideally\n",
    "    for a production application, commonly searched terms would be generated and cached\n",
    "    so that it wasn't constantly getting rebuilt.\n",
    "    \"\"\"\n",
    "    loc = Nominatim(user_agent=\"GetLoc\")\n",
    "    employees = []\n",
    "    i = 1  # Only used to limit the print statements to every 10th result\n",
    "    \n",
    "    for employee in search_results:\n",
    "        if i % 10 == 0:\n",
    "            print(f\"{i} Employees added to DataFrame\")\n",
    "            \n",
    "        # Builds out the list of dictionaries that employees skills are stored in\n",
    "        skills = [x for x in employee['Skills'] if search_term in x['Feature'].lower()]\n",
    "        # Pandas breaks if you pass an empty string as a dictionary value, so filter those\n",
    "        skills = [{k: v for k, v in d.items() if v} for d in skills]\n",
    "            \n",
    "        try:  # The Geocoder isn't always able to find the location\n",
    "            coordinates = loc.geocode(employee.BakerOffice, timeout=10)\n",
    "            \n",
    "            employees.append(\n",
    "                {\n",
    "                    'Name': f\"{employee.FirstName} {employee.LastName}\",\n",
    "                    'Email': employee.Email,\n",
    "                    'YoE': employee.TotalYearsExperience,\n",
    "                    'Manager': employee.ManagerName,\n",
    "                    'Practice': employee.Practice,\n",
    "                    'PhoneOff': employee.WorkPhone,\n",
    "                    'PhoneMob': employee.MobilePhone,\n",
    "                    'Headquarters': f\"{employee.BakerOffice}\",\n",
    "                    'Reigon':  f\"{employee.Region}\",\n",
    "                    \"Department\": f\"{employee.Department}\",\n",
    "                    'Latitude': coordinates.latitude,\n",
    "                    'Longitude': coordinates.longitude,\n",
    "                    'Skills': skills\n",
    "                }\n",
    "            )\n",
    "        except:  # If it doesn't, use None for the location\n",
    "            coordinates = loc.geocode('')\n",
    "            print(f\"{bcolors.WARNING}{i-1}: {employee.BakerOffice} {coordinates}{bcolors.ENDC}\")\n",
    "\n",
    "            employees.append(\n",
    "                {\n",
    "                    'Name': f\"{employee.FirstName} {employee.LastName}\",\n",
    "                    'Email': employee.Email,\n",
    "                    'YoE': employee.TotalYearsExperience,\n",
    "                    'Manager': employee.ManagerName,\n",
    "                    'Practice': employee.Practice,\n",
    "                    'PhoneOff': employee.WorkPhone,\n",
    "                    'PhoneMob': employee.MobilePhone,\n",
    "                    'Reigon':  f\"{employee.Region}\",\n",
    "                    \"Department\": f\"{employee.Department}\",\n",
    "                    'Latitude': '',\n",
    "                    'Longitude': '',\n",
    "                    'Skills': skills\n",
    "                }\n",
    "            )\n",
    "    \n",
    "        i += 1\n",
    "    \n",
    "    employees_df = pd.DataFrame(employees)\n",
    "\n",
    "    return employees_df"
   ]
  },
  {
   "cell_type": "code",
   "execution_count": null,
   "id": "4255ae288852499",
   "metadata": {},
   "outputs": [],
   "source": [
    "employees_df = convert_search_results_to_df(search_results, 'rail')"
   ]
  },
  {
   "cell_type": "raw",
   "id": "ddb2959d1c2d2fe9",
   "metadata": {},
   "source": [
    "# Not needed after timeout variable was set\n",
    "import numpy as np\n",
    "\n",
    "# Find DF indexes of the missing values;\n",
    "np.where(employees_df.map(lambda x: x == ''))"
   ]
  },
  {
   "cell_type": "raw",
   "id": "9df0298fc160c501",
   "metadata": {},
   "source": [
    "employees_df.iloc[191].Latitude = coordinates.latitude\n",
    "employees_df.iloc[191].Longitude = coordinates.longitude\n",
    "\n",
    "employees_df.iloc[259].Latitude = coordinates.latitude\n",
    "employees_df.iloc[259].Longitude = coordinates.longitude"
   ]
  },
  {
   "cell_type": "code",
   "execution_count": null,
   "id": "7919482d22878921",
   "metadata": {},
   "outputs": [],
   "source": [
    "employees_df"
   ]
  },
  {
   "cell_type": "code",
   "execution_count": null,
   "id": "afa860f3ec6e491",
   "metadata": {},
   "outputs": [],
   "source": [
    "import geopandas as gpd"
   ]
  },
  {
   "cell_type": "code",
   "execution_count": null,
   "id": "db82f35634ea3c",
   "metadata": {},
   "outputs": [],
   "source": [
    "gdf = gpd.GeoDataFrame(employees_df, geometry=gpd.points_from_xy(employees_df.Longitude, employees_df.Latitude), crs=\"EPSG:4326\")"
   ]
  },
  {
   "cell_type": "code",
   "execution_count": null,
   "id": "1c84ce1331f102c",
   "metadata": {},
   "outputs": [],
   "source": [
    "# We now have a geometry column\n",
    "gdf"
   ]
  },
  {
   "cell_type": "code",
   "execution_count": null,
   "id": "c514d4c56c94a073",
   "metadata": {},
   "outputs": [],
   "source": [
    "gdf.explore()"
   ]
  },
  {
   "cell_type": "markdown",
   "id": "83bda99d1231eb7a",
   "metadata": {},
   "source": [
    "using 'Marker Clusters' since multiple datapoints are occuring at the same location."
   ]
  },
  {
   "cell_type": "code",
   "execution_count": null,
   "id": "b09687beb108ce6",
   "metadata": {},
   "outputs": [],
   "source": [
    "import folium\n",
    "from folium.plugins import MarkerCluster\n",
    "\n",
    "m = folium.Map(location=[37, -87], zoom_start=5)\n",
    "marker_cluster = MarkerCluster().add_to(m)\n",
    "\n",
    "# Iterate through list and add a marker for each volcano, color-coded by its type.\n",
    "for i, employee in gdf.iterrows():\n",
    "    try:\n",
    "        skills_string = '<br>'.join([f\"{x['Feature']}: {x['Level']}\" for x in employee['Skills']])\n",
    "        summary_string = f\"{employee['Name']}<br>{employee['Headquarters']}<br>{employee['Department']}<br><br>{skills_string}\"\n",
    "        \n",
    "        # assign a color marker for the type of volcano, Strato being the most common\n",
    "        if max(d['Level'] for d in gdf.iloc[i]['Skills']) == '4 - Expert':\n",
    "            type_color = \"green\"\n",
    "        elif max(d['Level'] for d in gdf.iloc[i]['Skills']) == '3 - Advanced':\n",
    "            type_color = \"blue\"\n",
    "        elif max(d['Level'] for d in gdf.iloc[i]['Skills']) == '2 - Intermediate':\n",
    "            type_color = \"orange\"\n",
    "        elif max(d['Level'] for d in gdf.iloc[i]['Skills']) == '1 - Basic':\n",
    "            type_color = \"red\"\n",
    "        else:\n",
    "            type_color = \"purple\"\n",
    "\n",
    "        folium.Marker(\n",
    "        location=[gdf.iloc[i]['Latitude'], gdf.iloc[i]['Longitude']],\n",
    "        popup=folium.Popup(summary_string, min_width=300, max_width=300),\n",
    "        icon=folium.Icon(color=type_color, icon=\"ok-sign\"),\n",
    "        ).add_to(marker_cluster)\n",
    "        \n",
    "    except:\n",
    "        print(f\"Employee: {gdf.iloc[i]['Name']} Skills List: {gdf.iloc[i]['Skills']}\")"
   ]
  },
  {
   "cell_type": "code",
   "execution_count": null,
   "id": "3989c1dc837e9254",
   "metadata": {},
   "outputs": [],
   "source": [
    "m.save('test_map.html')"
   ]
  },
  {
   "cell_type": "code",
   "execution_count": null,
   "id": "fc05cd77d8729d83",
   "metadata": {},
   "outputs": [],
   "source": [
    "# Set filepath\n",
    "fp = \"res/MB Offices/Michael_Baker_International_Offices.shp\"\n",
    "\n",
    "# Read file using gpd.read_file()\n",
    "office_data = gpd.read_file(fp)"
   ]
  },
  {
   "cell_type": "code",
   "execution_count": null,
   "id": "e5b79e7442a3b2dc",
   "metadata": {},
   "outputs": [],
   "source": [
    "def add_geodataframe_with_custom_icons(folium_map, gdf):\n",
    "    # Iterate through the GeoDataFrame rows\n",
    "    for _, row in gdf.iterrows():\n",
    "        # Extract the coordinates for each row from the Point geometry\n",
    "        coords = [row['geometry'].y, row['geometry'].x]\n",
    "        # Create a custom marker with an icon\n",
    "        folium.Marker(\n",
    "            location=coords,\n",
    "            popup=row['name'],\n",
    "            icon=folium.Icon(\n",
    "                color='black',\n",
    "                prefix='fa',\n",
    "                icon='building'\n",
    "            )\n",
    "        ).add_to(folium_map)\n",
    "\n",
    "    return folium_map"
   ]
  },
  {
   "cell_type": "code",
   "execution_count": null,
   "id": "ec8ee1d6d30f4832",
   "metadata": {},
   "outputs": [],
   "source": [
    "m3 = add_geodataframe_with_custom_icons(m, office_data)"
   ]
  },
  {
   "cell_type": "code",
   "execution_count": null,
   "id": "73b25a32f7095324",
   "metadata": {},
   "outputs": [],
   "source": [
    "m"
   ]
  },
  {
   "cell_type": "code",
   "execution_count": null,
   "id": "ce45e18ad77947b5",
   "metadata": {},
   "outputs": [],
   "source": [
    "m2"
   ]
  },
  {
   "cell_type": "code",
   "execution_count": null,
   "id": "426bd5992aed9071",
   "metadata": {},
   "outputs": [],
   "source": [
    "input('breakpoint')"
   ]
  },
  {
   "cell_type": "markdown",
   "id": "b83875c15a491047",
   "metadata": {},
   "source": [
    "# Finding Incomplete Data and Notifying Employees"
   ]
  },
  {
   "cell_type": "markdown",
   "id": "a34063f01fb38d53",
   "metadata": {},
   "source": [
    "## Automated Emailer\n",
    "\n",
    "Doesn't work, likely a block on IT's end, takes a long time and goes to junk mail"
   ]
  },
  {
   "cell_type": "code",
   "execution_count": null,
   "id": "92485fe54ae8acab",
   "metadata": {},
   "outputs": [],
   "source": [
    "import json\n",
    " \n",
    "# Opening JSON file - Application Keys are stored here so you can't see my passwords\n",
    "f = open('../secrets.json')\n",
    "data = json.load(f)\n",
    "\n",
    "# These values would have to be replaced to successfully run this script, the email value is the \"from\" email you'll be using\n",
    "gmail_account = data['GMAIL_ACCOUNT']  # danecodetest\n",
    "gmail_email = data['GMAIL_EMAIL']      # danecodetest@gmail.com\n",
    "gmail_pass = data['GMAIL_PASS']        # Application key for automating a Gmail account\n",
    " \n",
    "# Closing file\n",
    "f.close()"
   ]
  },
  {
   "cell_type": "code",
   "execution_count": null,
   "id": "63a3b56254e08eb5",
   "metadata": {},
   "outputs": [],
   "source": [
    "import smtplib\n",
    "import string\n",
    "\n",
    "def smtp_gmail(user_email, project_list):\n",
    "    username = gmail_account    \n",
    "    password = gmail_pass\n",
    "    email_from = gmail_email\n",
    "    email_to = user_email\n",
    "    \n",
    "    smtp_server = \"smtp.gmail.com:587\"\n",
    "    print(f\"Attempting to Use SMTP Server: {smtp_server}\")\n",
    "    \n",
    "    print(f\"Sending Notification to {email_to}\\n\")\n",
    "    \n",
    "    with open(\"res/email_demo.txt\", 'r') as email_text:\n",
    "        x = email_text.read()\n",
    "    \n",
    "    projects_string = '\\n\\n'.join((str(x) for x in project_list))\n",
    "    \n",
    "    email_body = \"\\r\\n\".join((\n",
    "        f\"From: {email_from}\",\n",
    "        f\"To:{email_to}\",\n",
    "        \"Subject: Missing Values in Vision\",\n",
    "        \"\",\n",
    "        f\"{projects_string}\",\n",
    "        ), \n",
    "    )\n",
    "    \n",
    "    print(f\"Message Preview:\\n\\n{email_body}\")\n",
    "    \n",
    "    # The rest of this is commented out to avoid spamming\n",
    "    # server = smtplib.SMTP(smtp_server)\n",
    "    print(\"\\nstarted server\")\n",
    "    \n",
    "    # server.starttls()\n",
    "    print(\"started tls\")\n",
    "    \n",
    "    # server.login(username, password)\n",
    "    print(\"logged into gmail\")\n",
    "    \n",
    "    # server.sendmail(email_from, email_to, email_body)\n",
    "    print(\"sent email\")\n",
    "    \n",
    "    # server.quit()"
   ]
  },
  {
   "cell_type": "code",
   "execution_count": null,
   "id": "70d1a6d8a68f71ac",
   "metadata": {},
   "outputs": [],
   "source": [
    "try:\n",
    "    smtp_gmail(\"dane.parks@mbakerintl.com\", [1, 2, 3, 4])\n",
    "except:\n",
    "    print('Sending Email Failed')"
   ]
  },
  {
   "cell_type": "markdown",
   "id": "b12860b5d098bbed",
   "metadata": {},
   "source": [
    "# Available Skill Codes"
   ]
  },
  {
   "cell_type": "code",
   "execution_count": null,
   "id": "ec5e874a294befd6",
   "metadata": {},
   "outputs": [],
   "source": [
    "3D Parametric Model\t \tISO 14001 – Environmental Management Systems\n",
    "Above-ground Storage Tanks\t \tISO 14040 – Life Cycle Assessments\n",
    "Abutment\t \tISO 31000 – Risk Management\n",
    "Access Roads\t \tISO 55000 – Asset Management\n",
    "Activity Overview Plans\t \tISO 9000 – Quality Management\n",
    "Activity Planning & Management Models\t \tISO 9001 – Quality Management\n",
    "Affordable Housing\t \tITS - Roadway Sensors\n",
    "Air\t \tITS - RWIS\n",
    "Air Carrier Airport\t \tJoint-Use Airport\n",
    "Air Content\t \tJudicial and Courtroom Facilities\n",
    "Air Installation Compatible Use Zones\t \tK-Tag\n",
    "Air Operations Area\t \tLaboratories/Research Facilities\n",
    "Air Terminal\t \tLagoons\n",
    "Air Traffic\t \tLandslides\n",
    "Aircraft Fuel Facilities\t \tLane Management\n",
    "Aircraft Rescue/Firefighting Facility\t \tLead-Based Paint\n",
    "Airfield Electric Field Vault\t \tLegislation\n",
    "Airfield Lighting\t \tLibraries/Museums/Galleries\n",
    "Airfield Signage\t \tLight Rail Transit\n",
    "Airport - Airside\t \tLighting (Exteriors/Street/Memorials/Athletic Fields/etc.)\n",
    "Airport - Landside\t \tLighting (Interior/Displays/Theatres/etc.)\n",
    "Airport Layout Plan\t \tLighting Vault\n",
    "Airport Master Plan\t \tLiners\n",
    "Airspace Hazards\t \tLocal Agency Formation Commissions (LAFCo)\n",
    "Airspace Obstructions\t \tLocal Roads\n",
    "Alliance for Tolling Interoperability (ATI)\t \tLoop Detector\n",
    "Amphibian Species\t \tLow & Moderate Income Program\n",
    "Amusement Parks\t \tMagazines/Ammo Storage\n",
    "Animal Facilities/Animal Shelters\t \tMaintenance Facilities\n",
    "Annexation\t \tMaintenance On-line Management System (MOMS)\n",
    "Apron/Ramp\t \tMaintenance/Protection of Traffic (MPT)\n",
    "Arctic Facilities\t \tMammalian Species and Signs\n",
    "Area Development Plans\t \tManaged Lanes\n",
    "Area Plan\t \tManual\n",
    "ASIP\t \tManual Toll\n",
    "Asphaltic Concrete\t \tMapping Location/Addressing Systems\n",
    "Assessment District\t \tMarinas\n",
    "Asset Management, A-GIS (Airport GIS)\t \tMarine Infrastructure\n",
    "Auditoriums/Theatres\t \tMass Timber Construction\n",
    "Augmented Reality (AR)\t \tMaster Plan\n",
    "Automated Storage and Retrieval Systems (ASRS)\t \tMaterials Handling Systems/Conveyors/Sorters\n",
    "Automated Vehicle Identification (AVI)\t \tMello Roos CFD\n",
    "Automatic Clearing House (ACH)\t \tMicrogrid\n",
    "Automatic Number Plate Recognition (ANPR)\t \tMilitary Airfield\n",
    "Automatic/Automated Vehicle Classification (AVC)\t \tMilitary Building\n",
    "Autonomous Vehicle\t \tMilitary Design Standards\n",
    "Back Office Systems (BOS)\t \tMilitary Facilities, Armory\n",
    "Baggage Handling System\t \tMilitary Housing/Barracks\n",
    "Base Facility Requirements\t \tMilitary Training Facilities\n",
    "Basic Facility Requirement (BFR)\t \tMine Seals\n",
    "Biological Resources\t \tMine Subsidence\n",
    "Bird Species\t \tMines\n",
    "Bituminous/Asphalt Pavement\t \tMissile Facilities (Silos/Fuels/Transport)\n",
    "Bridge - Arch\t \tMission Sustainment Plan\n",
    "Bridge - Cable Stayed\t \tMnPASS\n",
    "Bridge - Girders/Beams\t \tMobile Application\n",
    "Bridge - Historic\t \tMobile Home Development\n",
    "Bridge - Movable\t \tModular Systems/Pre-fab Structures or Components\n",
    "Bridge - Pedestrian\t \tMold\n",
    "Bridge - Rail\t \tMonitoring Well\n",
    "Bridge - Segmental Concrete\t \tMulti-Family/Apartments/Condominiums\n",
    "Bridge - Spliced Bulb Tee\t \tMultimedia/Audio-Visual Aids\n",
    "Bridge - Suspension\t \tMunicipal Wastewater Programs\n",
    "Bridge - Truss\t \tMunicipal Water Programs\n",
    "Bridge – Underwater\t \tNational Bridge Inspection Standards (NBIS)\n",
    "Bridge Foundations\t \tNational Environmental Policy Act (NEPA)\n",
    "Bridge Hydraulics\t \tNAVAIDs\n",
    "Bridge over rail\t \tNaval Architecture/Off-Shore Platforms\n",
    "Bridges\t \tNaval Station\n",
    "Brownfield\t \tNavigation Structures/Locks\n",
    "Building Foundations\t \tNEPA\n",
    "Buried Structure\t \tNew Energy Sources\n",
    "Bus Rapid Transit (BRT)\t \tNext Generation 9-1-1 (NG9-1-1)\n",
    "Bus Station/Shelter, Transit Center\t \tNexus Study\n",
    "Bus Transit\t \tNodal Development Plans\n",
    "Bus Transit and Paratransit\t \tNoise\n",
    "Busways\t \tNoise Wall\n",
    "California Environmental Quality Act (CEQA)\t \tNORPASS\n",
    "Caltrans Standards\t \tNuclear Facilities/Nuclear Shielding\n",
    "Cantilever\t \tObservatory\n",
    "Capacity Improvement\t \tObstruction\n",
    "Capital Improvement Plan\t \tOffice Building/Complexes/Industrial Parks\n",
    "Casino\t \tOil and Hazardous Substance (OHS) Plans\n",
    "Cast-in-Place Post-Tensioned Concrete\t \tOn-Call / Extension of Staff\n",
    "CAT I Runway\t \tOrdnances/Munitions/Special Weapons\n",
    "CAT II and III Runway\t \tOutfall\n",
    "CAT II Runway\t \tParking Garages/Decks/Lots\n",
    "CAT III Runway\t \tParks\n",
    "Catenary\t \tPassenger Boarding Bridge\n",
    "Cemeteries\t \tPayment Card Industry (PCI)\n",
    "Child Care/Development Facilities\t \tPedestrian Grade Separations\n",
    "Churches/Chapels\t \tPedestrian/Bike Structure\n",
    "City Streets\t \tPerfluorooctanoic Acid/Pulyfluorinated Substance\n",
    "Civic Buildings, Community Centers\t \tPerimeter Security Plan\n",
    "Civil/Pavement\t \tPetroleum and Fuel Storage and Distribution Facilities\n",
    "Civil/Site\t \tPetroleum Products\n",
    "Clean Air Act\t \tPetroleum Storage Tank (PST)\n",
    "Clean Water Act\t \tPikepass\n",
    "Climate Action Plan\t \tPile Footing\n",
    "Climate Change\t \tPipelines\n",
    "Climate Resilience Plan\t \tPlanetarium\n",
    "Closed Circuit Television (CCTV)\t \tPlans\n",
    "CMMS (Computerized Maintenance Management System)\t \tPlastic/Polymer\n",
    "Coastal\t \tPNAs/PAHs\n",
    "Coastal Barriers and Zones\t \tPneumatic Structures/Air Support Buildings\n",
    "Coastal Infrastructure\t \tPoint of Access Report\n",
    "Combined Sewer Overflows (CSO)/Sanitary Sewer Overflows (SSO)\t \tPort\n",
    "Combined Sewer Systems\t \tPortland Cement Concrete (PCC)\n",
    "Command Facility\t \tPost-Tension Concrete\n",
    "Commercial Building, Shopping Centers\t \tPostal Facilities\n",
    "Commercial Service Airport\t \tPowerhouse Building/Power Generation, Transmission, Distribution\n",
    "Commercial Vehicle Operations\t \tPrecast Post-Tensioned Concrete\n",
    "Communication Facility\t \tPreliminary Design Authority (PDA)\n",
    "Communications Audit/Plan\t \tPreliminary Hazards List\n",
    "Communications Systems/TV/Microwave\t \tPrestressed Concrete\n",
    "Community Development Block Grant (CDBG)\t \tPrisons and Correctional Facilities\n",
    "Commuter and Inner City Passenger Rail\t \tPublic Finance\n",
    "Complete Streets\t \tPublic Finance Community Facility Districts and Assessment Districts\n",
    "Comprehensive Neighborhood Plan\t \tPublic Finance Water and Sewer Rate Studies and Capital Improvement Plans\n",
    "Computer Facilities\t \tPublic Safety Facilities\n",
    "Concrete\t \tPublic-Private Partnership (PPP)\n",
    "Concrete Pavement\t \tPump Station / Lift Station\n",
    "Connected Vehicle\t \tRadar/Sonar/Radio and Radar Telescopes\n",
    "Conservation Plan\t \tRadio Frequency Systems and Shieldings\n",
    "Consolidated Plan\t \tRadioactive/Mixed Wastes\n",
    "Construction Cost Estimates\t \tRadon\n",
    "Construction Manager/General Contractor (CM/GC)\t \tRail Crossings\n",
    "Control Centers\t \tRail Maintenance Facilities\n",
    "Convention Center\t \tRail Stations/Passenger Facilities\n",
    "Crisis and Consequence Management Plan (CCMP)\t \tRail Transit\n",
    "Cryogenic Facilities\t \tRail Yard\n",
    "CSO Long-term Control Plans\t \tRail Yard Support Buildings\n",
    "Culvert\t \tRail Yard/Yard Support Buildings\n",
    "Customer Service Center (CSC)\t \tRailroad and Rapid Transit\n",
    "Dams\t \tRailway Tunnels\n",
    "Declared Distances\t \tRamp Toll Facilities\n",
    "Dedicated Lanes\t \tRange Air Installation Compatible Use Zones\n",
    "Dedicated Short Range Communication (DSRC)\t \tReadiness Center\n",
    "Deep Foundations\t \tRecreational Facilities\n",
    "Deicing Equipment\t \tRecycled Materials\n",
    "Deicing Facilities\t \tRefrigeration Plants/Systems\n",
    "Deicing System\t \tRegional Integration Plans\n",
    "Development Impact Fee Study\t \tReinforced Concrete Superstructures (Box, Beams, Slabs)\n",
    "Dike/Levee\t \tReinforced Earth Wall\n",
    "Dining Halls/Clubs/Restaurants\t \tRemedial Action\n",
    "Displaced Runway Threshold\t \tRenderings\n",
    "Diversion Chambers\t \tRental Car Facility\n",
    "DNAPLS\t \tReptilian Species\n",
    "Dormitory\t \tReserves Facility\n",
    "Drilled Shaft\t \tReservoir Operation Plan\n",
    "E-ZPass\t \tResidential\n",
    "Educational Facilities/Classrooms/Training Facilities\t \tResort\n",
    "Educational Facilities–K-12\t \tRetaining Wall\n",
    "Educational Facilities–Universities\t \tRetirement Communities\n",
    "EGIS (Enterprise GIS System)\t \tRevenue\n",
    "Electric Magnetic Fields\t \tRevitalization Plan/Downtown Plan\n",
    "Electronic Funds Transfer\t \tRivers/Canals/Waterways\n",
    "Electronic Laboratory\t \tRoadside Toll Collection System (RTCS)\n",
    "Electronic Toll Collection (ETC)\t \tRoadway Shoulder\n",
    "Electronics\t \tRoundabout\n",
    "Elevators/Escalators/People-Movers\t \tRPLANS\n",
    "eManual\t \tRunway\n",
    "Embankment\t \tRunway Protection Zone\n",
    "Embassies/Chanceries\t \tRunway Safety Area\n",
    "Emergency Action Plan\t \tRunway Threshold\n",
    "Emergency Planning and Community Right ot Know Act (EPCRA)\t \tSafe Drinking Water Act\n",
    "Encroachment Action Plans\t \tSalt Dome\n",
    "Energy and Greenhouse Gas Emissions\t \tSanitary Sewers\n",
    "Entry/Access Control Point\t \tSchool Crossing\n",
    "Environmental Areas\t \tSCIF Facility\n",
    "EPASS\t \tSection 106 Resources\n",
    "ePRISMS\t \tSection Maintenance Facility\n",
    "Esri\t \tSecurity Checkpoints\n",
    "Exclusive Bus Lane\t \tSecurity Fence\n",
    "Express Toll Lane\t \tSecurity Master Plan\n",
    "Facility Master Plan\t \tSecurity Scanning Equipment\n",
    "Facility Response Plans (FRP)\t \tSecurity Systems/Surveillance Systems\n",
    "Facility Space Optimization Plan\t \tSegmental Concrete\n",
    "Fallout Shelters/Blast-Resistant Structure\t \tSensitive Compartmented Information Facility (SCIF Facility)\n",
    "FAR Part 77 Surfaces\t \tService Area/Rest Area\n",
    "Farmlands\t \tSewage Collection, Treatment and Disposal Facilities\n",
    "Fast Track Schedule\t \tShale Formation\n",
    "FasTrak\t \tSheet Pile Wall\n",
    "Fee Study\t \tShipyard\n",
    "Ferry Terminals and Transfer Bridges\t \tSidewalk/Curb/Gutter\n",
    "FHWA Manual of Uniform Traffic Control Devices\t \tSign Structure\n",
    "Fiber Reinforced Polymer (FRP)\t \tSimple Network Management Protocol (SNMP)\n",
    "Field House; Gym; Stadium; Arena\t \tSingle-Point Urban Interchange (SPUI)\n",
    "Field Weather\t \tSlurry Impoundment\n",
    "Field Weather - Humidity\t \tSoldier Pile Wall\n",
    "Field Weather - Rain\t \tSolid and Hazardous Waste\n",
    "Field Weather - Temperature\t \tSound Barrier\n",
    "Field Weather - Wind\t \tSource Water\n",
    "Financial Establishments/Banks\t \tSpatial Data Standards for Facilities, Infrastructure, and Environment (SDSFIE)\n",
    "Fire Alarm\t \tSpecial Environments/Clean Rooms\n",
    "Fire Station\t \tSpecial Structures\n",
    "Firing Range\t \tSpecialty Intersection\n",
    "Fisheries/Fish Ladders\t \tSphere of Influence Update/Amendment\n",
    "Fitness Center\t \tSpill Prevention Countermeasure Control (SPCC) Plans\n",
    "Flood Control Infrastructure\t \tSpread Footings\n",
    "Floodplain\t \tStandby (Emergency) Power Supply\n",
    "Flow Control Facilities\t \tState Historic Preservation Officer (SHPO)\n",
    "FMS (Facility Maintenance System)\t \tState Police\n",
    "Forestry/Forest Products\t \tState Police - Contract\n",
    "Foundation\t \tState Police - Facilities\n",
    "Freight Handling (Air Cargo Facilities)\t \tState Police Barracks\n",
    "Freight Rail\t \tSteel\n",
    "Freight Terminal Facilities\t \tStone\n",
    "Frozen Soil\t \tStorm Sewers\n",
    "Fuel Truck\t \tStormwater\n",
    "Fueling System\t \tStormwater Infrastructure\n",
    "Functional Plans\t \tStormwater Pollution Prevention Plan (SWPPP)\n",
    "Gantry\t \tStormwater Utilities\n",
    "Garages/Vehicle Maintenance Facilities\t \tStrategic Plan\n",
    "Gas Systems (Propane, Natural, etc.)\t \tStreams\n",
    "General Aviation Airport\t \tSubstructure\n",
    "Geographic Information Systems (GIS)\t \tSunPass\n",
    "Geospatial Information Technology (GIT)\t \tSuperstructure\n",
    "Girder - Box\t \tSurface Mining And Reclamation Act (SMARA)\n",
    "Girder - Curved\t \tSurface Water\n",
    "Girder - Steel\t \tSwimming Pools\n",
    "GIS Entity Relationship Diagrams (ERD)\t \tTag (Transponder)\n",
    "GIS Extract Transform Load (ETL)\t \tTaxilane\n",
    "GIS Linear Referencing System (LRS)\t \tTaxiway\n",
    "GIS Metrology\t \tTelecommunications - Local Area (LAN) Communication Networks\n",
    "Global Positioning Systems\t \tTelecommunications - Long Haul (Long Distance) Communication Networks\n",
    "Global Shore Infrastructure Plans\t \tTelecommunications - Submarine (Ocean) Communication Networks\n",
    "Good to Go\t \tTelecommunications - Wireless (Cellular, Radio & Microwave) Communications Networks\n",
    "Government Offices\t \tTelephone Systems (Rural/Mobile/Intercom/etc.)\n",
    "Graphical User Interface (GUI)\t \tThreatened/Endangered Species\n",
    "Halogenated Organics\t \tTie Back System\n",
    "Hangar/Maintenance Facilities\t \tTOD/Station Area Plans\n",
    "Harbors/Jetties/Piers/Ship Terminal Facilities\t \tToll\n",
    "Hazard Mitigation Plan (HMP)\t \tToll Booth\n",
    "Hazardous Waste Phase 1\t \tToll Plaza Facilities\n",
    "HazMat Spill Contract\t \tToll Plaza Signs\n",
    "Headquarters Facility\t \tToll Plazas\n",
    "Heavy Rail Transit\t \tToll System\n",
    "High Speed Rail/Ground Transportation\t \tToll System - Barrier\n",
    "High-Rise/Air-Rights-Type Buildings\t \tToll System - Ticket\n",
    "Highway - Alternatives Analysis\t \tToll System - Video (VTS)\n",
    "Highway - Arterial\t \tTollTag\n",
    "Highway - Collectors\t \tTowers (Self-supporting and Guyed Systems)\n",
    "Highway - Hard Shoulder Running\t \tToxicology and Hazardous Materials\n",
    "Highway - HOV\t \tTraffic and Transportation\n",
    "Highway - Interchange\t \tTraffic Management Center (TMC)\n",
    "Highway - Interchange - High-speed\t \tTraffic Operations Analysis\n",
    "Highway - Interchange - Low-speed\t \tTraffic Signal\n",
    "Highway - Interstate/Limited Access\t \tTrail\n",
    "Highway - Non-Limited Access\t \tTransponder\n",
    "Highway - Open Road Tolling\t \tTreadle\n",
    "Highway - Road Diets\t \tTruck Parking Facilities\n",
    "Highway - Rural\t \tTSA Basis of Design Report\n",
    "Highway - Specifications\t \tTSA Facilities\n",
    "Highway - Toll Roads\t \tTunnel\n",
    "Highway - Urban\t \tTunnels/Subways\n",
    "Highway - Urban Interchanges\t \tTurnpike\n",
    "Highway Advisory Radio\t \tTxTag\n",
    "Highway Safety Manual\t \tUnderground Storage Tanks\n",
    "Highways\t \tUninterruptible Power Supply (UPS)\n",
    "Historic Districts\t \tUnmanned Aerial Vehicle (UAV)\n",
    "Historic Facility\t \tUnmanned Aircraft Systems (UAS)\n",
    "Historic Monuments and Memorials\t \tUser Fee Study\n",
    "Home Program\t \tUtilities\n",
    "Hospital/Medical Facilities\t \tUtility Infrastructure\n",
    "HOT Lanes\t \tV-Toll\n",
    "Hotels/Motels\t \tVariable Message Signs (VMS)\n",
    "Housing\t \tVegetation and Wildlife\n",
    "Incineration/Landfill\t \tVehicle Separators - Profilers\n",
    "Incorporation Study\t \tVideo Processing Center (VPC)\n",
    "Indefinite Delivery Indefinite Quantity Contracts (IDIQ)\t \tVideo Processing System (VPS)\n",
    "Industrial Buildings/Manufacturing Plants\t \tVideo Production\n",
    "Industrial Parks\t \tViolations Enforcement System (VES)\n",
    "Infield Area\t \tVision Plan\n",
    "Infrared Light Curtains\t \tWarehouse/Depot\n",
    "Inspection Report\t \tWastewater\n",
    "Installation Appearance Plans\t \tWater Containment Sources\n",
    "Installation Development Plans\t \tWater Quality Management Plan\n",
    "Integrated Contingency Response Plans (ICP)\t \tWater Quality/TMDL\n",
    "Integrated Cultural Resource Management Plan (ICRMP)\t \tWater Resources and Water Quality\n",
    "Integrated Natural Resource Management Plan (INRMP)\t \tWater Resources/Hydrology/Ground Water\n",
    "Integrated Product Support Plans\t \tWater Supply, Treatment and Distribution Facilities\n",
    "Intelligent Transportation System (ITS)\t \tWater/Wastewater\n",
    "Inter-Agency Group (IAG)\t \tWaterfront Structure\n",
    "Interchange - Cloverleaf\t \tWatershed\n",
    "Interchange - Diamond\t \tWatershed Plans/Master Plan\n",
    "Interchange - Diverging Diamond\t \tWebsite\n",
    "Interchange - Partial Cloverleaf\t \tWet Laboratory\n",
    "Interchange - Rotary\t \tWet Weather\n",
    "Interchange - Stack\t \tWetland Dependent Bird Species\n",
    "Interchange - System\t \tWetland Dependent Mammal Species\n",
    "Interchange - Three-Level Diamond\t \tWetland Dependent Reptilian Species\n",
    "Interchange - Trumpet\t \tWetlands\n",
    "Intersection\t \tWild and Scenic Rivers (State/National)\n",
    "Intersection - Complex\t \tWind Tunnels\n",
    "Intersection - Turbo Roundabout\t \tWood\n",
    "Invasive Species\t \tWork Zone Safety\n",
    "Irrigation/Drainage\t \tYard and Terminal\n",
    "ISO – International Organization for Standardization"
   ]
  },
  {
   "cell_type": "markdown",
   "id": "da5df962d9622d73",
   "metadata": {},
   "source": [
    "# Project Locations"
   ]
  },
  {
   "cell_type": "code",
   "execution_count": null,
   "id": "cbd977a0a028b2c7",
   "metadata": {},
   "outputs": [],
   "source": [
    "import warnings\n",
    "warnings.filterwarnings(action='ignore')"
   ]
  },
  {
   "cell_type": "code",
   "execution_count": null,
   "id": "822bb1dd6e81ec8",
   "metadata": {},
   "outputs": [],
   "source": [
    "path_to_kmz_file = \"D:\\\\MB Projects\\\\MB Rail Project Locations\\\\MBI_Rail_Projects_original_no_prior_firms.kmz\""
   ]
  },
  {
   "cell_type": "code",
   "execution_count": null,
   "id": "fa34f162eb734f06",
   "metadata": {},
   "outputs": [],
   "source": [
    "import zipfile \n",
    "import os \n",
    "import fiona \n",
    "import pandas as pd\n",
    "import geopandas as gpd \n",
    "from pathlib import Path\n",
    "from bs4 import BeautifulSoup "
   ]
  },
  {
   "cell_type": "code",
   "execution_count": null,
   "id": "c3567e81e1db6bf7",
   "metadata": {},
   "outputs": [],
   "source": [
    "# Specify the directory where we want to extract the KML file (same directory as the KMZ file)\n",
    "extraction_dir = os.path.dirname(\"D:\\\\MB Projects\\\\MB Rail Project Locations\\\\MBI_Rail_Projects_original_no_prior_firms.kmz\")\n",
    "\n",
    "# Open the KMZ file and extract its contents\n",
    "with zipfile.ZipFile(path_to_kmz_file, \"r\") as kmz:\n",
    "    kmz.extractall(extraction_dir)"
   ]
  },
  {
   "cell_type": "code",
   "execution_count": null,
   "id": "5c190695350555c3",
   "metadata": {},
   "outputs": [],
   "source": [
    "fiona.drvsupport.supported_drivers['libkml'] = 'rw' \n",
    "fiona.drvsupport.supported_drivers['LIBKML'] = 'rw'"
   ]
  },
  {
   "cell_type": "code",
   "execution_count": null,
   "id": "fe53ad82d6ddd354",
   "metadata": {},
   "outputs": [],
   "source": [
    "kml_path = r\"res\\all_projects.kml\"\n",
    "\n",
    "baker_projects_df = gpd.GeoDataFrame()\n",
    "\n",
    "# iterate over layers\n",
    "for layer in fiona.listlayers(kml_path):\n",
    "    s = gpd.read_file(kml_path, driver='libkml', layer=layer)\n",
    "    s['name'] = layer\n",
    "    baker_projects_df = pd.concat([baker_projects_df, s], ignore_index=True)"
   ]
  },
  {
   "cell_type": "code",
   "execution_count": null,
   "id": "8b0a63db7b135e1a",
   "metadata": {},
   "outputs": [],
   "source": [
    "baker_projects_df"
   ]
  },
  {
   "cell_type": "code",
   "execution_count": null,
   "id": "6f2bc1df8736ca04",
   "metadata": {},
   "outputs": [],
   "source": [
    "baker_projects_df.to_excel(r\"D:\\MB Projects\\MB Rail Project Locations\\Project_Locations.xlsx\")"
   ]
  },
  {
   "cell_type": "markdown",
   "id": "9745884791a00d38",
   "metadata": {},
   "source": [
    "## Project Files"
   ]
  },
  {
   "cell_type": "markdown",
   "id": "fc49553f2731c7eb",
   "metadata": {},
   "source": [
    "## Pittsburgh Server Files Missing KMZs"
   ]
  },
  {
   "cell_type": "code",
   "execution_count": null,
   "id": "929cda956f78b7da",
   "metadata": {},
   "outputs": [],
   "source": [
    "# Keystone West Corridor\n",
    "\n",
    "## Overall PM\n",
    "\n",
    "## Hawstone Universal Crossover\n",
    "\n",
    "# NS Allentown - No kmz file\n",
    "\n",
    "# NS Harrisburg Auxiliary Lot - No kmz file\n",
    "\n",
    "# NS Switch Tie Replacement - No kmz file\n",
    "\n",
    "# Pittsburgh Vertical Clearance\n"
   ]
  },
  {
   "cell_type": "markdown",
   "id": "b037da7ef4d1a24f",
   "metadata": {},
   "source": [
    "## Great Lakes Server Files"
   ]
  },
  {
   "cell_type": "code",
   "execution_count": null,
   "id": "a549e569e5c9636d",
   "metadata": {},
   "outputs": [],
   "source": [
    "# Atlanta GA Br. S-293.30 - No proposal kmz.\n",
    "\n",
    "# Chicago IL Br. BK-306.78 - No proposal kmz.\n",
    "\n",
    "# Chicago IL Br. CD-509.60 - No proposal kmz.\n",
    "\n",
    "# Chicago IL Column Repairs - No proposal kmz.\n",
    "\n",
    "# Cle OH Br. RD-120.94 Superior Ave - No proposal kmz.\n",
    "\n",
    "# Cle OH Br. RD-121.27 and RD-121.35 - No proposal kmz.\n",
    "\n",
    "# Cleveland OH Br. RD-119.71 Cedar Ave - No proposal kmz.\n",
    "\n",
    "# Cleveland OH Br. RD-119.98 - No proposal kmz.\n",
    "\n",
    "# Cleveland OH Br. RD-120.07 - No proposal kmz.\n",
    "\n",
    "# Elyria OH Br. CD-206.57 - No proposal kmz.\n",
    "\n",
    "# Freeburn Ky Wall DB-02 - No proposal kmz.\n",
    "\n",
    "# Greensburg PA Br. PT 323.85 - No proposal kmz.\n",
    "\n",
    "# Pittsburgh PA ML-6.04 - No proposal kmz.\n",
    "\n",
    "# Pittsburgh PA Wall ML-4.8 - No proposal kmz.\n",
    "\n",
    "# Shelbyville KY Br. 308.50-W - No proposal kmz.\n",
    "\n",
    "# Suffolk VA Br. N-25.52 - No proposal kmz.\n",
    "\n",
    "# Welch WV Br. T-1.33 - No proposal kmz.\n",
    "\n",
    "# Wilkinsburg PA PT Bridges - No proposal kmz.\n",
    "\n",
    "# Wooster OH Br. PC-135.69 - No proposal kmz.\n",
    "\n",
    "# NS Emergency Repairs - No proposal kmz."
   ]
  },
  {
   "cell_type": "code",
   "execution_count": null,
   "id": "1b16e97660c1ed54",
   "metadata": {},
   "outputs": [],
   "source": [
    "# PW Folders that did have KMLs, commented out ones were either NA or already included in main file resulting in duplicates\n",
    "list_of_files_from_pw = [\n",
    "    r\"C:\\Users\\dane.parks\\Projects\\MB Rail Project Locations\\PW Projects\\Keystone West\\NS Altoona_Compiled.kmz\",\n",
    "    r\"C:\\Users\\dane.parks\\Projects\\MB Rail Project Locations\\PW Projects\\Keystone West\\P-01a Harrisburg-Rockville.kmz\",\n",
    "    r\"C:\\Users\\dane.parks\\Projects\\MB Rail Project Locations\\PW Projects\\Keystone West\\P-07 Johnstown Rebuild CP C.kmz\",\n",
    "    r\"C:\\Users\\dane.parks\\Projects\\MB Rail Project Locations\\PW Projects\\Keystone West\\P-03 and P-04 Mifflin Hawstone.kmz\",\n",
    "    r\"C:\\Users\\dane.parks\\Projects\\MB Rail Project Locations\\PW Projects\\Keystone West\\P-09 Pittsburgh at CP Home.kmz\",\n",
    "    r\"C:\\Users\\dane.parks\\Projects\\MB Rail Project Locations\\PW Projects\\Keystone West\\P-10 Pittsburgh 3rd Main at Amtrak Station.kmz\",\n",
    "    r\"C:\\Users\\dane.parks\\Projects\\MB Rail Project Locations\\PW Projects\\Keystone West\\NS PT-353.08.kmz\",\n",
    "    r\"C:\\Users\\dane.parks\\Projects\\MB Rail Project Locations\\PW Projects\\Enola 3rd Mainline\\NS Enola Project Area.kmz\",\n",
    "    r\"C:\\Users\\dane.parks\\Projects\\MB Rail Project Locations\\PW Projects\\NS Johnstown Crossover\\NS Johnstown PT-277.6_KMZ.kmz\",\n",
    "    r\"C:\\Users\\dane.parks\\Projects\\MB Rail Project Locations\\PW Projects\\NS Lemoyne Connection\\Lemoyne Connection.kmz\",\n",
    "    r\"C:\\Users\\dane.parks\\Projects\\MB Rail Project Locations\\PW Projects\\NS Johnstown wall at Amtrak Station.kmz\",\n",
    "    r\"C:\\Users\\dane.parks\\Projects\\MB Rail Project Locations\\PW Projects\\NS Br. 631.40 Atlanta, GA.kmz\",\n",
    "    r\"C:\\Users\\dane.parks\\Projects\\MB Rail Project Locations\\PW Projects\\NS Br. AG-0.1 Chatanooga, TN.kmz\",\n",
    "#    r\"C:\\Users\\dane.parks\\Projects\\MB Rail Project Locations\\PW Projects\\NS Br. B-512.06 Stony Island.kmz\",\n",
    "#    r\"C:\\Users\\dane.parks\\Projects\\MB Rail Project Locations\\PW Projects\\N-680.20.kmz\",\n",
    "    r\"C:\\Users\\dane.parks\\Projects\\MB Rail Project Locations\\PW Projects\\NS Br. N 374.45.kmz\",\n",
    "    r\"C:\\Users\\dane.parks\\Projects\\MB Rail Project Locations\\PW Projects\\NS NA-11.1 Wall.kmz\",\n",
    "#    r\"C:\\Users\\dane.parks\\Projects\\MB Rail Project Locations\\PW Projects\\NS CD-203.12.kmz\",\n",
    "    r\"C:\\Users\\dane.parks\\Projects\\MB Rail Project Locations\\PW Projects\\B-184.50.kmz\",\n",
    "    r\"C:\\Users\\dane.parks\\Projects\\MB Rail Project Locations\\PW Projects\\NS PT 275.7 Retaining Wall Project.kmz\",\n",
    "    r\"C:\\Users\\dane.parks\\Projects\\MB Rail Project Locations\\PW Projects\\NS H-225.06.kmz\",\n",
    "    r\"C:\\Users\\dane.parks\\Projects\\MB Rail Project Locations\\PW Projects\\remington NS Br 56.2.kmz\",\n",
    "#    r\"C:\\Users\\dane.parks\\Projects\\MB Rail Project Locations\\PW Projects\\NS S-69.04.kmz\",\n",
    "    r\"C:\\Users\\dane.parks\\Projects\\MB Rail Project Locations\\PW Projects\\NS Brdg. 274.00 CNO&TP Roddy, TN.kmz\",\n",
    "    r\"C:\\Users\\dane.parks\\Projects\\MB Rail Project Locations\\PW Projects\\NS Br. C-292.20 Sargent, GA.kmz\",\n",
    "#    r\"C:\\Users\\dane.parks\\Projects\\MB Rail Project Locations\\PW Projects\\CD-290.93 BoringConcrete Coring.kmz\",\n",
    "    r\"C:\\Users\\dane.parks\\Projects\\MB Rail Project Locations\\PW Projects\\NS Br. PT-220.75 Tyrone, PA.kmz\"\n",
    "]"
   ]
  },
  {
   "cell_type": "raw",
   "id": "c6832af7ce3fe859",
   "metadata": {},
   "source": [
    "df_dict_1 = {}\n",
    "\n",
    "for i, file in enumerate(list_of_files_from_pw):\n",
    "    kml_path = Path(file)\n",
    "    print(kml_path)\n",
    "    \n",
    "    # iterate over layers\n",
    "    for layer in fiona.listlayers(kml_path):\n",
    "        s = gpd.read_file(kml_path, driver='libkml', layer=layer)\n",
    "        s['name'] = layer\n",
    "        df_dict_1[i] = s"
   ]
  },
  {
   "cell_type": "raw",
   "id": "8634bbbd67eababa",
   "metadata": {},
   "source": [
    "merged_data1 = pd.concat(df_dict_1, ignore_index=True)\n",
    "merged_data1"
   ]
  },
  {
   "cell_type": "markdown",
   "id": "9a594581304a3d02",
   "metadata": {},
   "source": [
    "# Other Locations - Railroad Folders, Other Regions, etc?"
   ]
  },
  {
   "cell_type": "markdown",
   "id": "ea034eb847d3db7d",
   "metadata": {},
   "source": [
    "## Network Drive - Projects"
   ]
  },
  {
   "cell_type": "code",
   "execution_count": null,
   "id": "cb0cbb70f6b39711",
   "metadata": {},
   "outputs": [],
   "source": [
    "folder_root = r\"J:\\Data\\Projects\\Norfolk Southern\""
   ]
  },
  {
   "cell_type": "raw",
   "id": "75b9a07691d7e31",
   "metadata": {},
   "source": [
    "import os\n",
    "for root, dirs, files in os.walk(folder_root):\n",
    "    for file in files:\n",
    "        if file.endswith(\".kmz\") or file.endswith(\".kml\"):\n",
    "             print(os.path.join(root, file))"
   ]
  },
  {
   "cell_type": "code",
   "execution_count": null,
   "id": "9afc4161a32a9ad0",
   "metadata": {},
   "outputs": [],
   "source": [
    "network_folder_projects = [\n",
    "#    r\"J:\\Data\\Projects\\Norfolk Southern\\156613_NS_Hudson Bridge RD-98.60\\RD-98.60.kmz\",\n",
    "#    r\"J:\\Data\\Projects\\Norfolk Southern\\156613_NS_Hudson Bridge RD-98.60\\Working Files\\Access to NS RD-98.60.kmz\",\n",
    "#    r\"J:\\Data\\Projects\\Norfolk Southern\\157860_NS_CD-185.57 & CD-194.36 Steel Repairs\\WORKING FILES\\Info from NS\\CD-185.57\\CD-185.57 (NS).kmz\",\n",
    "#    r\"J:\\Data\\Projects\\Norfolk Southern\\157860_NS_CD-185.57 & CD-194.36 Steel Repairs\\WORKING FILES\\Info from NS\\CD-194.36\\CD-194.36 (NS).kmz\",\n",
    "#    r\"J:\\Data\\Projects\\Norfolk Southern\\162963_NS_CD-185.57 & CD-194.36 Sub Repairs\\WORKING FILES\\Info From NS\\Previous Inspection Reports\\CD-185.57\\CD-185.57 (NS).kmz\",\n",
    "#    r\"J:\\Data\\Projects\\Norfolk Southern\\162963_NS_CD-185.57 & CD-194.36 Sub Repairs\\WORKING FILES\\Info From NS\\Previous Inspection Reports\\CD-194.36\\CD-194.36 (NS).kmz\",\n",
    "#    r\"J:\\Data\\Projects\\Norfolk Southern\\163299_NS_RD-109.38 Bedford\\WORKING FILES\\RD-109.38.kmz\",\n",
    "#    r\"J:\\Data\\Projects\\Norfolk Southern\\170045_NS_CD-185.57 Super Repl_Cleveland OH\\400_WORKING FILES\\Info from NS\\CD-185.57 (NS).kmz\",\n",
    "#    r\"J:\\Data\\Projects\\Norfolk Southern\\170293_NS_CD-194.36 Super Repl_Berea OH\\400_WORKING FILES\\Info from NS\\Previous Inspection Reports\\CD-194.36\\CD-194.36 (NS).kmz\",\n",
    "#    r\"J:\\Data\\Projects\\Norfolk Southern\\170308_NS_CD-487.69 Burn Harbor, IN\\400_WORKING FILES\\NS Br. CD-487.69.kmz\",\n",
    "#    r\"J:\\Data\\Projects\\Norfolk Southern\\171228_NS_631.40 Atlanta, GA\\400_WORKING FILES\\NS Br. 631.40 Atlanta, GA.kmz\",\n",
    "#    r\"J:\\Data\\Projects\\Norfolk Southern\\171910_NS_Remington VA Br 56.2_Active Files on PW\\400_WORKING FILES\\430_Environmental Permits\\Shapefiles\\remington NS Br 56.2.kmz\",\n",
    "#    r\"J:\\Data\\Projects\\Norfolk Southern\\172045_NS_Kingston N-666.88\\N-666.88.kmz\",\n",
    "#    r\"J:\\Data\\Projects\\Norfolk Southern\\174130_NS_PT-220.75 Tyrone, PA\\NS Br. PT-220.75 Tyrone, PA.kmz\",\n",
    "#    r\"J:\\Data\\Projects\\Norfolk Southern\\175754_NS_B-184.50 Nickel Plate\\400_WORKING FILES\\NS Br. PT-220.75 Tyrone, PA.kmz\",\n",
    "#    r\"J:\\Data\\Projects\\Norfolk Southern\\180813_NS_PT-275.7 Wall\\400_WORKING FILES\\NS Br. PT-220.75 Tyrone, PA.kmz\",\n",
    "#    r\"J:\\Data\\Projects\\Norfolk Southern\\181422_NS_S-293.30 Atlanta, GA_Active Files on PW\\NS Br. S-293.30 Atlanta, GA.kmz\",\n",
    "#    r\"J:\\Data\\Projects\\Norfolk Southern\\181582_NS_NO-153.53 Pearl River, LA\\NS Br. NO-153.53 Pearl River, LA.kmz\",\n",
    "#    r\"J:\\Data\\Projects\\Norfolk Southern\\184570_NS_C-292.20 Sargent, GA_Active Files on PW\\NS Br. C-292.20 Sargent, GA.kmz\",\n",
    "#    r\"J:\\Data\\Projects\\Norfolk Southern\\185216_NS_CD-487.69 Burns Harbor, IN - CM\\600_CONSTRUCTION\\630_Field Test Results\\Fiber Optic Locates\\10421.000 Locate results.kmz\",\n",
    "#    r\"J:\\Data\\Projects\\Norfolk Southern\\186921_NS_B-115.19 Conneaut OH\\NS Br. B-115.19 Conneaut, OH.kmz\",\n",
    "#    r\"J:\\Data\\Projects\\Norfolk Southern\\186989_NS_B-512.06 Stoney Island_Active Files on PW\\NS Br. B-512.06 Stoney Island.kmz\",\n",
    "#    r\"J:\\Data\\Projects\\Norfolk Southern\\187333_NS_ML-1.85 Pittsburgh, PA\\NS Br. ML-1.85 Pittsburgh, PA.kmz\",\n",
    "#    r\"J:\\Data\\Projects\\Norfolk Southern\\191603_NS_CD-513.86 & CD-514.08 Chicago, IL CM\\NS Br. CD-513.86 73rd Street.kmz\",\n",
    "#    r\"J:\\Data\\Projects\\Norfolk Southern\\191603_NS_CD-513.86 & CD-514.08 Chicago, IL CM\\NS Br. CD-514.08 Cottage Grove Ave..kmz\",\n",
    "#    r\"J:\\Data\\Projects\\Norfolk Southern\\193609_NS-362.60-A Decatur, AL CM\\NS Br. 362.60-A Decatur, AL.kmz\"\n",
    "    ]"
   ]
  },
  {
   "cell_type": "code",
   "execution_count": null,
   "id": "28808c489c523a57",
   "metadata": {},
   "outputs": [],
   "source": [
    "temp = ''\n",
    "\n",
    "for file in network_folder_projects:\n",
    "    temp = Path(file)\n",
    "    \n",
    "    if temp.parent.name[:6].isnumeric():\n",
    "        print(temp.parent.name[:6])\n",
    "    elif temp.parent.parent.name[:6].isnumeric():\n",
    "        print(temp.parent.parent.name[:6])\n",
    "    elif temp.parent.parent.parent.name[:6].isnumeric():\n",
    "        print(temp.parent.parent.parent.name[:6])\n",
    "    elif temp.parent.parent.parent.parent.name[:6].isnumeric():\n",
    "        print(temp.parent.parent.parent.parent.name[:6])\n",
    "    elif temp.parent.parent.parent.parent.parent.name[:6].isnumeric():\n",
    "        print(temp.parent.parent.parent.parent.parent.name[:6])\n",
    "    else:\n",
    "        print(\"If Statement not deep enough\")"
   ]
  },
  {
   "cell_type": "code",
   "execution_count": null,
   "id": "6d65467ef5bc79d6",
   "metadata": {},
   "outputs": [],
   "source": [
    "temp"
   ]
  },
  {
   "cell_type": "markdown",
   "id": "6477fc19953d4d42",
   "metadata": {},
   "source": [
    "## Network Drive - Proposals"
   ]
  },
  {
   "cell_type": "code",
   "execution_count": null,
   "id": "963a6c65991db4cf",
   "metadata": {},
   "outputs": [],
   "source": [
    "proposal_folder_root = r\"J:\\Data\\Proposal\\Norfolk Southern Rail Company\""
   ]
  },
  {
   "cell_type": "raw",
   "id": "c7df6da5bd3e5928",
   "metadata": {},
   "source": [
    "import os\n",
    "for root, dirs, files in os.walk(proposal_folder_root):\n",
    "    for file in files:\n",
    "        if file.endswith(\".kmz\") or file.endswith(\".kml\"):\n",
    "             print(os.path.join(root, file))"
   ]
  },
  {
   "cell_type": "code",
   "execution_count": null,
   "id": "9d3dab647c936713",
   "metadata": {},
   "outputs": [],
   "source": [
    "list_of_proposal_kmls = [\n",
    "    # r\"J:\\Data\\Proposal\\Norfolk Southern Rail Company\\TRN_2016_151578_Swanton Yard\\Proposal\\CD-304.14.kmz\",\n",
    "    # r\"J:\\Data\\Proposal\\Norfolk Southern Rail Company\\TRN_2016_XXXXXX_Hudson Bridge\\RD-98.60.kmz\",\n",
    "    # r\"J:\\Data\\Proposal\\Norfolk Southern Rail Company\\TRN_2016_XXXXXX_Steel Repairs\\CD-185.57 - Madison Avenue\\CD-185.57 (NS).kmz\",\n",
    "    # r\"J:\\Data\\Proposal\\Norfolk Southern Rail Company\\TRN_2016_XXXXXX_Steel Repairs\\CD-194.36 - Rocky River Road\\CD-194.36 (NS).kmz\",\n",
    "    # r\"J:\\Data\\Proposal\\Norfolk Southern Rail Company\\TRN_2016_XXXXXX_Steel Repairs\\CD-206.93 - East Avenue\\CD-206.93 (NS).kmz\",\n",
    "    # r\"J:\\Data\\Proposal\\Norfolk Southern Rail Company\\TRN_2016_XXXXXX_Steel Repairs\\CD-207.26 - West Avenue\\CD-207.26 (NS).kmz\",\n",
    "    # r\"J:\\Data\\Proposal\\Norfolk Southern Rail Company\\TRN_2017_XXXXXX_CD-520.75 & CD-520.91_Chicago\\CD-520.75.kmz\",\n",
    "    # r\"J:\\Data\\Proposal\\Norfolk Southern Rail Company\\TRN_2017_XXXXXX_CD-520.75 & CD-520.91_Chicago\\CD-520.91.kmz\",\n",
    "    # r\"J:\\Data\\Proposal\\Norfolk Southern Rail Company\\TRN_2017_XXXXXX_CD-520.75 & CD-520.91_Chicago\\CD-520.75\\doc.kml\",\n",
    "    # r\"J:\\Data\\Proposal\\Norfolk Southern Rail Company\\TRN_2017_XXXXXX_CD-520.75 & CD-520.91_Chicago\\CD-520.91\\doc.kml\",\n",
    "    # r\"J:\\Data\\Proposal\\Norfolk Southern Rail Company\\TRN_2017_XXXXXX_NS Bedford OH\\RD-109.38.kmz\",\n",
    "    # r\"J:\\Data\\Proposal\\Norfolk Southern Rail Company\\TRN_2017_XXXXXX_NS Bridge over Cotton Run\\NS Bridge CF-35.40 over Cotton Run.kmz\",\n",
    "    # r\"J:\\Data\\Proposal\\Norfolk Southern Rail Company\\TRN_2017_XXXXXX_NS Bridge S-63.12 over Sandusky River\\S-63.12.kmz\",\n",
    "    r\"J:\\Data\\Proposal\\Norfolk Southern Rail Company\\TRN_2018_162365_NS Bridge 56.2 over Tin Pot Run, Remington VA (SELECTED)\\NS Br 56.2.kmz\",\n",
    "    r\"J:\\Data\\Proposal\\Norfolk Southern Rail Company\\TRN_2018_162365_NS Bridge CD-487.69 Burns Harbor, IN (SELECTED)\\NS Br. CD-487.69.kmz\",\n",
    "    # r\"J:\\Data\\Proposal\\Norfolk Southern Rail Company\\TRN_2018_166247_NS Bridge B-184.50 Nickel Plate Line (SELECTED)\\B-184.50.kmz\",\n",
    "    # r\"J:\\Data\\Proposal\\Norfolk Southern Rail Company\\TRN_2018_166247_NS Bridge B-184.50 Nickel Plate Line (SELECTED)\\B-184.50_meeting Place.kmz\",\n",
    "    # r\"J:\\Data\\Proposal\\Norfolk Southern Rail Company\\TRN_2018_166247_NS Bridge B-184.50 Nickel Plate Line (SELECTED)\\NS B-184.50 over ODOT Property.kmz\",\n",
    "    ## r\"J:\\Data\\Proposal\\Norfolk Southern Rail Company\\TRN_2018_166247_NS Bridge N-399.19 Welch, WV (LOST)\\NS Br. N-399.19 Welch, WV.kmz\",\n",
    "    # r\"J:\\Data\\Proposal\\Norfolk Southern Rail Company\\TRN_2019_166247_Bridge N-666.88 Kingston OH (SELECTED)\\N-666.88.kmz\",\n",
    "    # r\"J:\\Data\\Proposal\\Norfolk Southern Rail Company\\TRN_2019_166247_Double Stack Clearance Improvements (LOST)\\NS Br. R-109.6 Columbia, SC.kmz\",\n",
    "    # r\"J:\\Data\\Proposal\\Norfolk Southern Rail Company\\TRN_2019_166247_Double Stack Clearance Improvements (LOST)\\NS Br. R-190.2 Augusta, SC.kmz\",\n",
    "    r\"J:\\Data\\Proposal\\Norfolk Southern Rail Company\\TRN_2019_166247_NS Bridge 631.4 Atlanta, GA (WON)\\NS Br. 631.40 Atlanta, GA.kmz\",\n",
    "    r\"J:\\Data\\Proposal\\Norfolk Southern Rail Company\\TRN_2019_166247_NS Bridge CD-393.36 Ligonier, IN (SELECTED)\\NS Br CD-393.36 Ligonier, IN.kmz\",\n",
    "    # r\"J:\\Data\\Proposal\\Norfolk Southern Rail Company\\TRN_2019_166247_NS Bridge N-680.20 Circleville, OH (SELECTED)\\N-680.20.kmz\",\n",
    "    # r\"J:\\Data\\Proposal\\Norfolk Southern Rail Company\\TRN_2019_166247_NS Bridge N-680.20 Circleville, OH (SUPPLEMENT)\\N-680.20.kmz\",\n",
    "    # r\"J:\\Data\\Proposal\\Norfolk Southern Rail Company\\TRN_2019_166247_NS Bridge NO-84.50 Hattiesburg, MS (LOST)\\NS Br NO-84.50 Hattiesburg, MS.kmz\",\n",
    "    r\"J:\\Data\\Proposal\\Norfolk Southern Rail Company\\TRN_2019_166247_NS Bridge PT-220.75 Tyrone, PA (SELECTED)\\NS Br. PT-220.75 Tyrone, PA.kmz\",\n",
    "    # r\"J:\\Data\\Proposal\\Norfolk Southern Rail Company\\TRN_2020_166247_NS Bridge (3) Greensboro, NC (NO SELECTION)\\NS Br. H-39.50 Hillsborough, NC.kmz\",\n",
    "    # r\"J:\\Data\\Proposal\\Norfolk Southern Rail Company\\TRN_2020_166247_NS Bridge H-39.50 Hillsborough, NC (PENDING)\\Meeting Location.kmz\",\n",
    "    # r\"J:\\Data\\Proposal\\Norfolk Southern Rail Company\\TRN_2020_166247_NS Bridge H-39.50 Hillsborough, NC (PENDING)\\NS Br. H-39.50 Hillsborough, NC.kmz\",\n",
    "    # r\"J:\\Data\\Proposal\\Norfolk Southern Rail Company\\TRN_2020_166247_NS Bridge H-73.60 Rome, GA (LOST)\\NS Br H-73.60 Rome, GA.kmz\",\n",
    "    r\"J:\\Data\\Proposal\\Norfolk Southern Rail Company\\TRN_2020_166247_NS Bridge NO-153.53 Pearl River, LA (WON)\\NS Br. NO-153.53 Pearl River, LA.kmz\",\n",
    "    # r\"J:\\Data\\Proposal\\Norfolk Southern Rail Company\\TRN_2020_166247_NS Bridge Ridgeville, SC (PENDING)\\NS Ridgeville, SC.kmz\",\n",
    "    # r\"J:\\Data\\Proposal\\Norfolk Southern Rail Company\\TRN_2020_166247_NS Bridge Ridgeville, SC (PENDING)\\NS_Ridgeville_ProjectArea.kmz\",\n",
    "    r\"J:\\Data\\Proposal\\Norfolk Southern Rail Company\\TRN_2020_166247_NS Bridge S-293.30 Atlanta, GA (SELECTED)\\NS Br. S-293.30 Atlanta, GA.kmz\",\n",
    "    # r\"J:\\Data\\Proposal\\Norfolk Southern Rail Company\\TRN_2020_166247_NS Bridge S-69.04 Ridgeton, OH (SELECTED)\\NS S-69.04.kmz\",\n",
    "    r\"J:\\Data\\Proposal\\Norfolk Southern Rail Company\\TRN_2020_166247_NS Walls ML-4.8 & PT-275.7 (SELECTED)\\ML-4.8\\ML-4.8.kmz\",\n",
    "    r\"J:\\Data\\Proposal\\Norfolk Southern Rail Company\\TRN_2020_166247_NS Walls ML-4.8 & PT-275.7 (SELECTED)\\PT-275.7\\PT-275.7.kmz\",\n",
    "    # r\"J:\\Data\\Proposal\\Norfolk Southern Rail Company\\TRN_2021_166247_NS Bridge B-512.06 Stoney Island (SELECTED)\\NS Br. B-512.06 Stoney Island.kmz\",\n",
    "    r\"J:\\Data\\Proposal\\Norfolk Southern Rail Company\\TRN_2021_166247_NS Bridge C-292.20 Sargent, GA (SELECTED)\\NS Br. C-292.20 Sargent, GA.kmz\",\n",
    "    # r\"J:\\Data\\Proposal\\Norfolk Southern Rail Company\\TRN_2021_166247_NS Bridge CD-290.92 Toledo, OH (SELECTED)\\CD-290.93 BoringConcrete Coring.kmz\",\n",
    "    # r\"J:\\Data\\Proposal\\Norfolk Southern Rail Company\\TRN_2021_166247_NS Bridge CD-290.92 Toledo, OH (SELECTED)\\CD-290.93.kmz\",\n",
    "    r\"J:\\Data\\Proposal\\Norfolk Southern Rail Company\\TRN_2021_166247_NS Bridge CD-487.69 Burns Harbor, IN (WON)\\NS Br. CD-487.69 Burns Harbor, IN.kmz\",\n",
    "    r\"J:\\Data\\Proposal\\Norfolk Southern Rail Company\\TRN_2021_166247_NS Bridge H-225.06 Nace, VA (SELECTED)\\NS H-225.06.kmz\",\n",
    "    # r\"J:\\Data\\Proposal\\Norfolk Southern Rail Company\\TRN_2021_166247_NS Bridge LC-29.31 Avonmore, PA (LOST)\\NS LC-29.31.kmz\",\n",
    "    # r\"J:\\Data\\Proposal\\Norfolk Southern Rail Company\\TRN_2021_166247_NS Bridge ML-1.20 Pittsburgh, PA (LOST)\\NS ML-1.2.kmz\",\n",
    "    r\"J:\\Data\\Proposal\\Norfolk Southern Rail Company\\TRN_2021_166247_NS Bridge ML-1.85 Pittsburgh, PA (SELECTED)\\NS Br. ML-1.85 Pittsburgh, PA.kmz\",\n",
    "    r\"J:\\Data\\Proposal\\Norfolk Southern Rail Company\\TRN_2021_166247_NS Bridge N-655.65 Chillicothe OH (TRACKING)\\NS N-655.65.kmz\",\n",
    "    r\"J:\\Data\\Proposal\\Norfolk Southern Rail Company\\TRN_2021_166247_NS Bridge NO-84.50 Hattiesburg, MS (WON)\\NS Br NO-84.50 Hattiesburg, MS.kmz\",\n",
    "    # r\"J:\\Data\\Proposal\\Norfolk Southern Rail Company\\TRN_2021_166247_NS Bridge PC-1.20 Merchant Street CM (LOST)\\NS Br. PC-1.20 Merchant Street.kmz\",\n",
    "    # r\"J:\\Data\\Proposal\\Norfolk Southern Rail Company\\TRN_2021_166247_NS Bridge RD-84.96 Ravenna, OH (LOST)\\NS RD-98.46.kmz\",\n",
    "    # r\"J:\\Data\\Proposal\\Norfolk Southern Rail Company\\TRN_2021_166247_NS Bridges N-133.41 & N-277.36 Burkeville and Elliston, VA (LOST)\\RFP\\N 133.41\\NS N-133.41.kmz\",\n",
    "    # r\"J:\\Data\\Proposal\\Norfolk Southern Rail Company\\TRN_2021_166247_NS Bridges N-133.41 & N-277.36 Burkeville and Elliston, VA (LOST)\\RFP\\N 277.36\\NS N-277.36.kmz\",\n",
    "    # r\"J:\\Data\\Proposal\\Norfolk Southern Rail Company\\TRN_2021_166247_NS CREATE EW2 Bridges (LOST)\\CREATE.kmz\",\n",
    "    r\"J:\\Data\\Proposal\\Norfolk Southern Rail Company\\TRN_2021_166247_NS Wall DB-0.20 Freeburn, KY (SELECTED)\\NS DB-0.2 Wall.kmz\",\n",
    "    r\"J:\\Data\\Proposal\\Norfolk Southern Rail Company\\TRN_2021_166247_NS Wall NA-11.10 Crum, WV (SELECTED)\\NS NA-11.1 Wall.kmz\",\n",
    "    # r\"J:\\Data\\Proposal\\Norfolk Southern Rail Company\\TRN_2022_183873_NS (4) CD Bridges_Amherst OH (LOST)\\CD-213.44.kmz\",\n",
    "    # r\"J:\\Data\\Proposal\\Norfolk Southern Rail Company\\TRN_2022_183873_NS (4) CD Bridges_Amherst OH (LOST)\\CD-213.53.kmz\",\n",
    "    # r\"J:\\Data\\Proposal\\Norfolk Southern Rail Company\\TRN_2022_183873_NS (4) CD Bridges_Amherst OH (LOST)\\CD-213.64.kmz\",\n",
    "    # r\"J:\\Data\\Proposal\\Norfolk Southern Rail Company\\TRN_2022_183873_NS (4) CD Bridges_Amherst OH (LOST)\\CD-213.94.kmz\",\n",
    "    # r\"J:\\Data\\Proposal\\Norfolk Southern Rail Company\\TRN_2022_183873_NS Bridge 106.70-A New Market, TN (LOST)\\NS Br. 106.70-A New Market, TN.kmz\",\n",
    "    # r\"J:\\Data\\Proposal\\Norfolk Southern Rail Company\\TRN_2022_183873_NS Bridge 316.90 Rathburn, TN (LOST)\\NS Br. 316.90 Rathburn, TN.kmz\",\n",
    "    # r\"J:\\Data\\Proposal\\Norfolk Southern Rail Company\\TRN_2022_183873_NS Bridge 328.1-A Brownsboro, AL (LOST)\\NS Br. 328.1-A Brownsboro, AL.kmz\",\n",
    "    r\"J:\\Data\\Proposal\\Norfolk Southern Rail Company\\TRN_2022_183873_NS Bridge 362.60-A Decatur, AL CM (WON)\\NS Br. 362.60-A Decatur, AL.kmz\",\n",
    "    # r\"J:\\Data\\Proposal\\Norfolk Southern Rail Company\\TRN_2022_183873_NS Bridge 56.1-H Calhoun, GA (LOST)\\NS Br. 56.1-H Calhoun, GA.kmz\",\n",
    "    # r\"J:\\Data\\Proposal\\Norfolk Southern Rail Company\\TRN_2022_183873_NS Bridge AG-3.00 Chatanooga, TN (LOST)\\NS Br. AG-3.00 Chattanooga, TN.kmz\",\n",
    "    r\"J:\\Data\\Proposal\\Norfolk Southern Rail Company\\TRN_2022_183873_NS Bridge BK-306.78 Chicago, IL (SELECTED)\\NS Br. BK-306.78 Chicago, IL.kmz\",\n",
    "    # r\"J:\\Data\\Proposal\\Norfolk Southern Rail Company\\TRN_2022_183873_NS Bridge CD-203.12 Elyria OH (SELECTED)\\NS CD-203.12.kmz\",\n",
    "    # r\"J:\\Data\\Proposal\\Norfolk Southern Rail Company\\TRN_2022_183873_NS Bridge CD-518.14 45th Street (SELECTED)\\NS Br. CD-518.14 Chicago, IL (45th Street).kmz\",\n",
    "    r\"J:\\Data\\Proposal\\Norfolk Southern Rail Company\\TRN_2022_183873_NS Bridge ML-6.04 Pittsburgh, PA (WON)\\ML-6.04.kmz\",\n",
    "    # r\"J:\\Data\\Proposal\\Norfolk Southern Rail Company\\TRN_2022_183873_NS Bridge RD-119.98 Cleveland OH (SELECTED)\\NS RD-119 meeting place.kmz\",\n",
    "    # r\"J:\\Data\\Proposal\\Norfolk Southern Rail Company\\TRN_2022_183873_NS Bridge RD-119.98 Cleveland OH (SELECTED)\\NS RD-119.98.kmz\",\n",
    "    # r\"J:\\Data\\Proposal\\Norfolk Southern Rail Company\\TRN_2022_183873_NS Bridge RD-120.07 Cleveland OH (SELECTED)\\NS RD-120.07.kmz\",\n",
    "    r\"J:\\Data\\Proposal\\Norfolk Southern Rail Company\\TRN_2022_183873_NS Bridges CD-513.86 and CD-514.08 Chicago, IL CM (WON)\\NS Br. CD-513.86 73rd Street.kmz\",\n",
    "    r\"J:\\Data\\Proposal\\Norfolk Southern Rail Company\\TRN_2022_183873_NS Bridges CD-513.86 and CD-514.08 Chicago, IL CM (WON)\\NS Br. CD-514.08 Cottage Grove Ave..kmz\",\n",
    "    # r\"J:\\Data\\Proposal\\Norfolk Southern Rail Company\\TRN_2022_183873_NS Dam S-187.50 Macon, GA (NO-GO)\\NS Dam S-187.50 Macon, GA.kmz\",\n",
    "    # r\"J:\\Data\\Proposal\\Norfolk Southern Rail Company\\TRN_2023_183873_NS (5) CD Bridges_Elyria OH (LOST)\\CD-206.82 (NS).kmz\",\n",
    "    # r\"J:\\Data\\Proposal\\Norfolk Southern Rail Company\\TRN_2023_183873_NS (5) CD Bridges_Elyria OH (LOST)\\CD-206.93 (NS).kmz\",\n",
    "    # r\"J:\\Data\\Proposal\\Norfolk Southern Rail Company\\TRN_2023_183873_NS (5) CD Bridges_Elyria OH (LOST)\\CD-207.26 over West Ave..kmz\",\n",
    "    # r\"J:\\Data\\Proposal\\Norfolk Southern Rail Company\\TRN_2023_183873_NS (5) CD Bridges_Elyria OH (LOST)\\CD-207.36 (NS).kmz\",\n",
    "    # r\"J:\\Data\\Proposal\\Norfolk Southern Rail Company\\TRN_2023_183873_NS (5) CD Bridges_Elyria OH (LOST)\\NS CD-207.12 over Lake Ave..kmz\",\n",
    "    r\"J:\\Data\\Proposal\\Norfolk Southern Rail Company\\TRN_2023_183873_NS Br N 374.45 Coopers WV (SELECTED)\\NS Br. N 374.45.kmz\",\n",
    "    # r\"J:\\Data\\Proposal\\Norfolk Southern Rail Company\\TRN_2023_183873_NS Bridge 168.2-A and 171.6-A Sweetwater, TN (LOST)\\NS Br. 168.2-A Sweetwater, TN.kmz\",\n",
    "    # r\"J:\\Data\\Proposal\\Norfolk Southern Rail Company\\TRN_2023_183873_NS Bridge 168.2-A and 171.6-A Sweetwater, TN (LOST)\\NS Br. 171.6-A Sweetwater, TN.kmz\",\n",
    "    # r\"J:\\Data\\Proposal\\Norfolk Southern Rail Company\\TRN_2023_183873_NS Bridge 244.90 Wartburg, TN (LOST)\\NS Br. 244.90 Wartburg, TN.kmz\",\n",
    "    r\"J:\\Data\\Proposal\\Norfolk Southern Rail Company\\TRN_2023_183873_NS Bridge 274.00 Roddy, TN (SELECTED)\\NS Brdg. 274.00 CNO&TP Roddy, TN.kmz\",\n",
    "    r\"J:\\Data\\Proposal\\Norfolk Southern Rail Company\\TRN_2023_183873_NS Bridge 308.50 W Shelbyville, KY (SELECTED)\\NS 308.5 W.kmz\",\n",
    "    # r\"J:\\Data\\Proposal\\Norfolk Southern Rail Company\\TRN_2023_183873_NS Bridge 332.50 CNO&TP Chattanooga, TN (LOST)\\NS Br. 332.50 CNO&TP Chatanooga, TN.kmz\",\n",
    "    r\"J:\\Data\\Proposal\\Norfolk Southern Rail Company\\TRN_2023_183873_NS Bridge AG-0.10 Chatanooga, TN (WON)\\NS Br. AG-0.1 Chatanooga, TN.kmz\",\n",
    "    # r\"J:\\Data\\Proposal\\Norfolk Southern Rail Company\\TRN_2023_183873_NS Bridge CD-206.57 over East Bridge Street Elyria, OH (SELECTED)\\CD-206.57 (NS).kmz\",\n",
    "    # r\"J:\\Data\\Proposal\\Norfolk Southern Rail Company\\TRN_2023_183873_NS Bridge CD-206.57 over East Bridge Street Elyria, OH (SELECTED)\\Proposal\\Geotech - NEAS\\206.57 Borings.kmz\",\n",
    "    r\"J:\\Data\\Proposal\\Norfolk Southern Rail Company\\TRN_2023_183873_NS Bridge PC-135.69 Wooster, OH (SELECTED)\\NS PC-135.69 Wooster OH.kmz\",\n",
    "    r\"J:\\Data\\Proposal\\Norfolk Southern Rail Company\\TRN_2023_183873_NS Bridge PT-323.86 Greensburg, PA (SELECTED)\\NS PT-323.86.kmz\",\n",
    "    r\"J:\\Data\\Proposal\\Norfolk Southern Rail Company\\TRN_2023_183873_NS Bridge RD-119.71 Cleveland OH (SELECTED)\\NS RD-119.71.kmz\",\n",
    "    r\"J:\\Data\\Proposal\\Norfolk Southern Rail Company\\TRN_2023_183873_NS Bridge RD-120.94 Superior Ave_Cleveland OH (SELECTED)\\NS RD-120.94.kmz\",\n",
    "    r\"J:\\Data\\Proposal\\Norfolk Southern Rail Company\\TRN_2023_183873_NS Bridge RD-121.27 over Hamilton Ave_RD-121.35 over E 33rd_Cleveland OH (SELECTED)\\NS RD-121.27.kmz\",\n",
    "    r\"J:\\Data\\Proposal\\Norfolk Southern Rail Company\\TRN_2023_183873_NS Bridge RD-121.27 over Hamilton Ave_RD-121.35 over E 33rd_Cleveland OH (SELECTED)\\NS RD-121.35.kmz\",\n",
    "    # r\"J:\\Data\\Proposal\\Norfolk Southern Rail Company\\TRN_2023_183873_NS Bridge RD-84.96 Ravenna, OH (LOST)\\NS RD-98.46.kmz\",\n",
    "    r\"J:\\Data\\Proposal\\Norfolk Southern Rail Company\\TRN_2023_183873_NS Bridge T-1.33 Welch WV (SELECTED)\\NS Welch, WV.kmz\",\n",
    "    # r\"J:\\Data\\Proposal\\Norfolk Southern Rail Company\\TRN_2023_183873_NS Tunnel P-421.90 Leeds, AL (NO-GO)\\NS Tunnel P-421.90 Leeds, AL.kmz\",\n",
    "    # r\"J:\\Data\\Proposal\\Norfolk Southern Rail Company\\TRN_2024_183873_NS (3) Bridges PT-346 Wilkinsburg, PA\\NS PT-346.27.kmz\",\n",
    "    # r\"J:\\Data\\Proposal\\Norfolk Southern Rail Company\\TRN_2024_183873_NS (3) Bridges PT-346 Wilkinsburg, PA\\NS PT-346.28.kmz\",\n",
    "    # r\"J:\\Data\\Proposal\\Norfolk Southern Rail Company\\TRN_2024_183873_NS (3) Bridges PT-346 Wilkinsburg, PA\\NS PT-346.41.kmz\",\n",
    "    # r\"J:\\Data\\Proposal\\Norfolk Southern Rail Company\\TRN_2024_183873_NS Bridge 362.60-A Decatur AL (PENDING)\\NS Br. 362.60-A Decatur, AL.kmz\",\n",
    "    # r\"J:\\Data\\Proposal\\Norfolk Southern Rail Company\\TRN_2024_183873_NS Bridge 88.2-MB Jackson AL (PENDING)\\NS Br. 88.20-MB Jackson, AL.kmz\",\n",
    "    # r\"J:\\Data\\Proposal\\Norfolk Southern Rail Company\\TRN_2024_183873_NS Bridge PT-353.08 Pgh Amtrak Station (PENDING)\\NS PT-353.08.kmz\"\n",
    "]"
   ]
  },
  {
   "cell_type": "code",
   "execution_count": null,
   "id": "d85c0a61085286ee",
   "metadata": {},
   "outputs": [],
   "source": [
    "csx_proposal_root = r\"J:\\Data\\Proposal\\CSX Transportation\""
   ]
  },
  {
   "cell_type": "raw",
   "id": "119ef2e5394d8002",
   "metadata": {},
   "source": [
    "import os\n",
    "for root, dirs, files in os.walk(csx_proposal_root):\n",
    "    for file in files:\n",
    "        if file.endswith(\".kmz\") or file.endswith(\".kml\"):\n",
    "             print(os.path.join(root, file))"
   ]
  },
  {
   "cell_type": "code",
   "execution_count": null,
   "id": "f47f087faa107ae6",
   "metadata": {},
   "outputs": [],
   "source": [
    "list_of_csx_proposals = [\n",
    "    r\"J:\\Data\\Proposal\\CSX Transportation\\2021_STR_XXXXXX_Bridge QR 110.24 Rating\\CSX - QR 110.24.kmz\",\n",
    "    r\"J:\\Data\\Proposal\\CSX Transportation\\2022_STR_000 583.10\\CSX 000 583.10.kmz\",\n",
    "    r\"J:\\Data\\Proposal\\CSX Transportation\\2022_STR_XXXXXX_Br 00H 313.8 Rating\\CXS Bridge 00H_315.00.kmz\",\n",
    "    r\"J:\\Data\\Proposal\\CSX Transportation\\2022_STR_XXXXXX_CJ 21.60\\CSX CJ 21.60.kmz\",\n",
    "    r\"J:\\Data\\Proposal\\CSX Transportation\\2022_STR_XXXXXX_CLV 0.10 2023 TSC Survey\\CSX CLV 0.10.kmz\",\n",
    "    r\"J:\\Data\\Proposal\\CSX Transportation\\2022_STR_XXXXXX_QB 146.34\\CSX QB 146.34.kmz\",\n",
    "    r\"J:\\Data\\Proposal\\CSX Transportation\\2024_STR_195341_Br 00K 623.5 Pine Barren, FL\\CSX Br 00K 623.5.kmz\",\n",
    "    r\"J:\\Data\\Proposal\\CSX Transportation\\2024_STR_195341_Toledo Coal Dock Wall\\CSX Toledo Coal Dock Wall.kmz\"\n",
    "]"
   ]
  },
  {
   "cell_type": "code",
   "execution_count": null,
   "id": "74a38e97d44da9c7",
   "metadata": {},
   "outputs": [],
   "source": [
    "df_dict_2 = {}\n",
    "\n",
    "combined_folder_list = network_folder_projects + list_of_proposal_kmls + list_of_csx_proposals\n",
    "\n",
    "for i, file in enumerate(combined_folder_list):\n",
    "    kml_path = Path(file)\n",
    "    print(kml_path)\n",
    "    \n",
    "    # iterate over layers\n",
    "    for layer in fiona.listlayers(kml_path):\n",
    "        s = gpd.read_file(kml_path, driver='libkml', layer=layer)\n",
    "        s['name'] = layer\n",
    "        df_dict_2[i] = s"
   ]
  },
  {
   "cell_type": "code",
   "execution_count": null,
   "id": "155bbd074d8240f2",
   "metadata": {},
   "outputs": [],
   "source": [
    "# Getting rid of boring logs and other kml file types (they have more columns than std. maps)\n",
    "for key, value in df_dict_2.items():\n",
    "    print(f\"{key}, {len(value.columns)}\")"
   ]
  },
  {
   "cell_type": "code",
   "execution_count": null,
   "id": "4c2403e7fc82414f",
   "metadata": {},
   "outputs": [],
   "source": [
    "del df_dict_2[13]\n",
    "del df_dict_2[9]"
   ]
  },
  {
   "cell_type": "raw",
   "id": "658be2f5c4042dc2",
   "metadata": {},
   "source": [
    "df_list.pop(19)"
   ]
  },
  {
   "cell_type": "code",
   "execution_count": null,
   "id": "bc3b48bc13269510",
   "metadata": {},
   "outputs": [],
   "source": [
    "merged_data2 = pd.concat(df_dict_2, ignore_index=True)"
   ]
  },
  {
   "cell_type": "code",
   "execution_count": null,
   "id": "f88acc96e31a7d97",
   "metadata": {},
   "outputs": [],
   "source": [
    "merged_data2"
   ]
  },
  {
   "cell_type": "code",
   "execution_count": null,
   "id": "dd358a9562b999d0",
   "metadata": {},
   "outputs": [],
   "source": []
  },
  {
   "cell_type": "code",
   "execution_count": null,
   "id": "61bdd56d13227d86",
   "metadata": {},
   "outputs": [],
   "source": [
    "all_data = pd.concat([merged_data1, merged_data2, baker_projects_df], ignore_index=True)"
   ]
  },
  {
   "cell_type": "code",
   "execution_count": null,
   "id": "c0b51778290309d2",
   "metadata": {},
   "outputs": [],
   "source": [
    "all_data.to_excel('output/all_data.xlsx')"
   ]
  },
  {
   "cell_type": "code",
   "execution_count": null,
   "id": "aa08d1981af8073e",
   "metadata": {},
   "outputs": [],
   "source": [
    "import shapely\n",
    "import simplekml\n",
    "\n",
    "# Remove Rows that are lines instead of points\n",
    "for index, row in all_data.iterrows():\n",
    "    if type(row['geometry']) == shapely.geometry.point.Point:\n",
    "        pass\n",
    "    else:\n",
    "        all_data = all_data.drop([index])"
   ]
  },
  {
   "cell_type": "code",
   "execution_count": null,
   "id": "85be175ec2dfa279",
   "metadata": {},
   "outputs": [],
   "source": [
    "kml = simplekml.Kml(open=1)"
   ]
  },
  {
   "cell_type": "code",
   "execution_count": null,
   "id": "c70f6ba7724e3d66",
   "metadata": {},
   "outputs": [],
   "source": [
    "for index, row in all_data.iterrows():\n",
    "    pnt = kml.newpoint()\n",
    "    pnt.name = row['Name']\n",
    "    pnt.description=row['description']\n",
    "    pnt.coords = [(row['geometry'].x, row['geometry'].y)]\n",
    "\n",
    "kml.save('output/all_data.kml')"
   ]
  },
  {
   "cell_type": "code",
   "execution_count": null,
   "id": "267aa99519096844",
   "metadata": {},
   "outputs": [],
   "source": [
    "gpd.datasets.available"
   ]
  },
  {
   "cell_type": "code",
   "execution_count": null,
   "id": "ed1494254c60b180",
   "metadata": {},
   "outputs": [],
   "source": [
    "# Get Ohio boundary\n",
    "us_states_shp_file = r\"C:\\Users\\dane.parks\\PycharmProjects\\civilpy\\Notebooks\\res\\tl_2023_us_state.shp\"\n",
    "\n",
    "all_states = gpd.read_file(us_states_shp_file)\n",
    "ohio = all_states.iloc[[24]]"
   ]
  },
  {
   "cell_type": "code",
   "execution_count": null,
   "id": "f961bcf22b547279",
   "metadata": {},
   "outputs": [],
   "source": [
    "ohio.plot()"
   ]
  },
  {
   "cell_type": "code",
   "execution_count": null,
   "id": "51c2515922ffe50b",
   "metadata": {},
   "outputs": [],
   "source": [
    "filtered_dataframe = all_data.within(ohio.loc[24, 'geometry'])"
   ]
  },
  {
   "cell_type": "code",
   "execution_count": null,
   "id": "c6d57c1e518a7ff1",
   "metadata": {},
   "outputs": [],
   "source": [
    "ohio_projects = all_data.loc[filtered_dataframe].copy()"
   ]
  },
  {
   "cell_type": "code",
   "execution_count": null,
   "id": "bc6618f15f3e9a62",
   "metadata": {},
   "outputs": [],
   "source": [
    "len(ohio_projects)"
   ]
  },
  {
   "cell_type": "code",
   "execution_count": null,
   "id": "d86617e46bd4a622",
   "metadata": {},
   "outputs": [],
   "source": [
    "# Drop duplicate points\n",
    "ohio_projects = ohio_projects.drop_duplicates(subset=['geometry'])"
   ]
  },
  {
   "cell_type": "code",
   "execution_count": null,
   "id": "e0283e6bdd51420a",
   "metadata": {},
   "outputs": [],
   "source": [
    "len(ohio_projects)"
   ]
  },
  {
   "cell_type": "code",
   "execution_count": null,
   "id": "b2eabdeb9bc0a22c",
   "metadata": {},
   "outputs": [],
   "source": [
    "kml2 = simplekml.Kml(open=1)\n",
    "\n",
    "# Save the values to kml\n",
    "for index, row in ohio_projects.iterrows():\n",
    "    pnt = kml2.newpoint()\n",
    "    pnt.name = row['Name']\n",
    "    pnt.description=row['description']\n",
    "    pnt.coords = [(row['geometry'].x, row['geometry'].y)]\n",
    "\n",
    "kml2.save('output/ohio_projects.kml')"
   ]
  },
  {
   "cell_type": "code",
   "execution_count": null,
   "id": "d6076d3829458c7b",
   "metadata": {},
   "outputs": [],
   "source": [
    "ohio_projects.to_excel('output/ohio_data.xlsx')"
   ]
  },
  {
   "cell_type": "code",
   "execution_count": null,
   "id": "63d1cd432478f481",
   "metadata": {},
   "outputs": [],
   "source": [
    "ohio_projects"
   ]
  },
  {
   "cell_type": "markdown",
   "id": "c42025fc759fad0",
   "metadata": {},
   "source": [
    "# Cleveland File Server Directory Search"
   ]
  },
  {
   "cell_type": "code",
   "execution_count": null,
   "id": "f72cca87052b3e2",
   "metadata": {},
   "outputs": [],
   "source": [
    "# Add Folders to be included in search here;\n",
    "project_list = next(os.walk(\"L:\\\\Projects\\\\Norfolk Southern\"))[1]"
   ]
  },
  {
   "cell_type": "code",
   "execution_count": null,
   "id": "10aa72b2c552504c",
   "metadata": {},
   "outputs": [],
   "source": [
    "# This cell is the search function\n",
    "import re\n",
    "r = re.compile(\".*59th.*\")  # This is the regex string to search against\n",
    "filtered_list = list(filter(r.match, project_list)) # Read Note below"
   ]
  },
  {
   "cell_type": "code",
   "execution_count": null,
   "id": "db740bdc2c3d5e75",
   "metadata": {},
   "outputs": [],
   "source": [
    "# This cell displays results\n",
    "filtered_list"
   ]
  },
  {
   "cell_type": "code",
   "execution_count": null,
   "id": "c9aea9a4aae5d973",
   "metadata": {},
   "outputs": [],
   "source": []
  },
  {
   "cell_type": "code",
   "execution_count": null,
   "id": "2a10b187469d23d1",
   "metadata": {},
   "outputs": [],
   "source": []
  },
  {
   "cell_type": "markdown",
   "id": "da84a9281611181f",
   "metadata": {},
   "source": [
    "## Link to Working Excel File\n",
    "\n",
    "https://mbakerintl-my.sharepoint.com/:x:/r/personal/dane_parks_mbakerintl_com/Documents/Projects/allfiles.xlsx?d=w67e96dc3ac03408aa84644e647e53ea5&csf=1&web=1&e=pq35jT"
   ]
  },
  {
   "cell_type": "code",
   "execution_count": null,
   "id": "6c1c02ced31c5508",
   "metadata": {},
   "outputs": [],
   "source": []
  },
  {
   "cell_type": "code",
   "execution_count": null,
   "id": "139ac4d06aabdad8",
   "metadata": {},
   "outputs": [],
   "source": []
  },
  {
   "cell_type": "code",
   "execution_count": null,
   "id": "b7a728177aa9cdad",
   "metadata": {},
   "outputs": [],
   "source": []
  },
  {
   "cell_type": "markdown",
   "id": "c261c488b2581bd1",
   "metadata": {},
   "source": [
    "# Baker Office Shape Files"
   ]
  },
  {
   "cell_type": "code",
   "execution_count": null,
   "id": "386de7cd1d165e92",
   "metadata": {},
   "outputs": [],
   "source": [
    "# Import necessary modules\n",
    "import geopandas as gpd\n",
    "\n",
    "# Set filepath\n",
    "fp = \"res/MB Offices/Michael_Baker_International_Offices.shp\"\n",
    "\n",
    "# Read file using gpd.read_file()\n",
    "data = gpd.read_file(fp)"
   ]
  },
  {
   "cell_type": "code",
   "execution_count": null,
   "id": "ca69f8557c21a84b",
   "metadata": {},
   "outputs": [],
   "source": [
    "data"
   ]
  },
  {
   "cell_type": "code",
   "execution_count": null,
   "id": "f7097d8c5428655b",
   "metadata": {},
   "outputs": [],
   "source": [
    "data.geometry.total_bounds"
   ]
  },
  {
   "cell_type": "code",
   "execution_count": null,
   "id": "8cb6ac675eb19f78",
   "metadata": {},
   "outputs": [],
   "source": [
    "import matplotlib.pyplot as plt\n",
    "\n",
    "f, ax = plt.subplots()\n",
    "ax.set_xlim(-17572922.1052, -7934766.7022)\n",
    "ax.set_ylim(2428716.6456, 9559028.21660598)\n",
    "plt = data.plot()\n"
   ]
  },
  {
   "cell_type": "markdown",
   "id": "92fb7d982f4d156b",
   "metadata": {},
   "source": [
    "# Static Map Example"
   ]
  },
  {
   "cell_type": "code",
   "execution_count": null,
   "id": "5ede0f85302d9973",
   "metadata": {},
   "outputs": [],
   "source": [
    "import contextily as cx\n",
    "\n",
    "ax = data.plot(figsize=(20, 20), alpha=0.5, markersize=100, edgecolor=\"k\")\n",
    "cx.add_basemap(ax, zoom=4, crs=data.crs)"
   ]
  },
  {
   "cell_type": "markdown",
   "id": "cb32c48922e4b760",
   "metadata": {},
   "source": [
    "# Interactive Map Example"
   ]
  },
  {
   "cell_type": "code",
   "execution_count": null,
   "id": "b4c7f6bb29980b37",
   "metadata": {},
   "outputs": [],
   "source": [
    "# values = json.loads(search_results)"
   ]
  },
  {
   "cell_type": "code",
   "execution_count": null,
   "id": "b72c53148903c5d7",
   "metadata": {},
   "outputs": [],
   "source": [
    "df = pd.DataFrame(search_results)"
   ]
  },
  {
   "cell_type": "code",
   "execution_count": null,
   "id": "d019e73bf1b6a2fa",
   "metadata": {},
   "outputs": [],
   "source": [
    "test_user = search_results[0]"
   ]
  },
  {
   "cell_type": "code",
   "execution_count": null,
   "id": "431d98afb8b4b01c",
   "metadata": {},
   "outputs": [],
   "source": [
    "for value in test_user:\n",
    "    print(value)"
   ]
  },
  {
   "cell_type": "code",
   "execution_count": null,
   "id": "dd6a02e76e390895",
   "metadata": {},
   "outputs": [],
   "source": [
    "dict(test_user)"
   ]
  },
  {
   "cell_type": "code",
   "execution_count": null,
   "id": "8fd41eb21acfec5",
   "metadata": {},
   "outputs": [],
   "source": [
    "for value in test_user:\n",
    "    print(f\"{value}: {test_user[value]}\")"
   ]
  },
  {
   "cell_type": "code",
   "execution_count": null,
   "id": "e38356531564fdd9",
   "metadata": {},
   "outputs": [],
   "source": [
    "list_of_users = []\n",
    "multi_value_list = [\n",
    "    'FlattenedLicensesCertifications', \n",
    "    'FlattenedSkills', \n",
    "    'FlattenedComputerSkills', \n",
    "    'Skills', \n",
    "    'Education', \n",
    "    'ComputerSkills', \n",
    "    'ProfessionalAffiliations', \n",
    "    'LicensesCertifications'\n",
    "]\n",
    "\n",
    "for index, employee in enumerate(search_results):\n",
    "    print(index, employee['FirstName'], employee['LastName'])\n",
    "    \n",
    "    for value in employee:\n",
    "        if value in multi_value_list:\n",
    "            for value_2 in search_results[index][value]:\n",
    "                print(f\"\\t\\t{value_2}: {search_results[index][value][value_2]}\")\n",
    "        else:\n",
    "            print(f\"\\t{value}: {search_results[index][value]}\")"
   ]
  },
  {
   "cell_type": "code",
   "execution_count": null,
   "id": "87ab633cfb99c522",
   "metadata": {},
   "outputs": [],
   "source": [
    "gdf = pd.DataFrame(list_of_users)"
   ]
  },
  {
   "cell_type": "code",
   "execution_count": null,
   "id": "c90d1b18c1d4dfb9",
   "metadata": {},
   "outputs": [],
   "source": [
    "gdf.head(10)"
   ]
  },
  {
   "cell_type": "code",
   "execution_count": null,
   "id": "876f2d18892b90ac",
   "metadata": {},
   "outputs": [],
   "source": [
    "from geopy.geocoders import Nominatim\n",
    "\n",
    "# Build Employee GeoDataFrame\n",
    "loc = Nominatim(user_agent=\"GetLoc\")\n",
    "\n",
    "getLoc = loc.geocode(search_results[0].BakerOffice)\n",
    "\n",
    "getLoc.latitude, getLoc.longitude"
   ]
  },
  {
   "cell_type": "code",
   "execution_count": null,
   "id": "5669833c6f3941bf",
   "metadata": {},
   "outputs": [],
   "source": [
    "import folium\n",
    "data.explore(\n",
    "    marker_kwds=dict(\n",
    "        radius=8, \n",
    "        fill=True, \n",
    "        icon=folium.map.Icon(\n",
    "            color='black',\n",
    "            prefix='fa',\n",
    "            icon='building'\n",
    "        )\n",
    "    ), \n",
    "    marker_type='marker'\n",
    ")"
   ]
  },
  {
   "cell_type": "code",
   "execution_count": null,
   "id": "27fadaa86353c2e7",
   "metadata": {},
   "outputs": [],
   "source": [
    "for Employee in search_results[:10]:\n",
    "    print(f\"Name: {Employee.FirstName} {Employee.LastName}\")\n",
    "    print(f\"Headquarters: {Employee.BakerOffice}\")\n",
    "    print(f\"Region: {Employee.Region}\")\n",
    "    print(f\"Department: {Employee.Department}\\n\\n\")"
   ]
  },
  {
   "cell_type": "code",
   "execution_count": null,
   "id": "5533b634f6a5315f",
   "metadata": {},
   "outputs": [],
   "source": []
  },
  {
   "cell_type": "code",
   "execution_count": null,
   "id": "8f35655ce4a59669",
   "metadata": {},
   "outputs": [],
   "source": []
  },
  {
   "cell_type": "code",
   "execution_count": null,
   "id": "1bd0c59ae51f6ebb",
   "metadata": {},
   "outputs": [],
   "source": []
  },
  {
   "cell_type": "code",
   "execution_count": null,
   "id": "232d5d9112371536",
   "metadata": {},
   "outputs": [],
   "source": []
  },
  {
   "cell_type": "code",
   "execution_count": null,
   "id": "7c5878b9fcfc7caf",
   "metadata": {},
   "outputs": [],
   "source": []
  }
 ],
 "metadata": {
  "kernelspec": {
   "display_name": "Python 3 (ipykernel)",
   "language": "python",
   "name": "python3"
  },
  "language_info": {
   "codemirror_mode": {
    "name": "ipython",
    "version": 3
   },
   "file_extension": ".py",
   "mimetype": "text/x-python",
   "name": "python",
   "nbconvert_exporter": "python",
   "pygments_lexer": "ipython3",
   "version": "3.13.3"
  }
 },
 "nbformat": 4,
 "nbformat_minor": 5
}
