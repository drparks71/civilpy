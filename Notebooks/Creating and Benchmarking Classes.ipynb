{
 "cells": [
  {
   "cell_type": "markdown",
   "id": "93234359-806d-44f7-a256-c3067aaf836f",
   "metadata": {},
   "source": [
    "# Purpose\n",
    "\n",
    "This notebook creates a series of Classes and then uses ipython's timeit magic to benchmark each of them, this is useful when there are multiple approaches to a solution and you want quantitative values to compare them against each other."
   ]
  },
  {
   "cell_type": "code",
   "id": "827d88cc-1d1d-4c4f-a203-287f2bfd43c3",
   "metadata": {
    "ExecuteTime": {
     "end_time": "2025-02-01T19:26:25.783780Z",
     "start_time": "2025-02-01T19:26:25.770052Z"
    }
   },
   "source": [
    "from dataclasses import dataclass"
   ],
   "outputs": [],
   "execution_count": 2
  },
  {
   "cell_type": "code",
   "id": "9973890d-a36e-49f1-9e12-260edbca5121",
   "metadata": {
    "jupyter": {
     "is_executing": true
    }
   },
   "source": [
    "@dataclass\n",
    "class Foo:\n",
    "    a: int\n",
    "    b: str\n",
    "    c: str"
   ],
   "outputs": [],
   "execution_count": null
  },
  {
   "cell_type": "code",
   "execution_count": 3,
   "id": "b74347eb-b207-4c42-b582-63602cd4d4c6",
   "metadata": {},
   "outputs": [],
   "source": [
    "a = 1\n",
    "b = \"2\"\n",
    "c = \"3\""
   ]
  },
  {
   "cell_type": "code",
   "execution_count": 4,
   "id": "8c6f09c1-884d-4f80-9079-0fa1b37b5566",
   "metadata": {},
   "outputs": [],
   "source": [
    "class Bar1(Foo):\n",
    "    def __init__(self, a, b, c):\n",
    "        super().__init__(a, b, c)"
   ]
  },
  {
   "cell_type": "code",
   "execution_count": 5,
   "id": "a16f1572-4798-4d6a-bae5-a6ee6975910a",
   "metadata": {},
   "outputs": [],
   "source": [
    "class Bar2:\n",
    "    def __init__(self, a, b, c):\n",
    "        self.foo_values = Foo(a, b, c)"
   ]
  },
  {
   "cell_type": "code",
   "execution_count": 6,
   "id": "939e917a-f341-4e13-b33f-1b787bf45700",
   "metadata": {},
   "outputs": [],
   "source": [
    "class Bar3:\n",
    "    def __init__(self, a, b, c):\n",
    "        self.foo_values: Foo = None\n",
    "        self.set_foo(a, b, c)\n",
    "\n",
    "    def set_foo(self, a, b, c):\n",
    "        self.foo_values = Foo(a, b, c)"
   ]
  },
  {
   "cell_type": "code",
   "execution_count": 7,
   "id": "2207deed-c6ce-43b2-9719-2a50676c190f",
   "metadata": {},
   "outputs": [],
   "source": [
    "class Bar4:\n",
    "    def __init__(self):\n",
    "        self.foo_values: Foo = None\n",
    "\n",
    "    def set_foo(self, Foo):\n",
    "        self.foo_values = Foo"
   ]
  },
  {
   "cell_type": "code",
   "execution_count": 8,
   "id": "a1a57643-36f5-44a7-9da4-7eda70357d2b",
   "metadata": {},
   "outputs": [
    {
     "name": "stdout",
     "output_type": "stream",
     "text": [
      "401 ns ± 8.18 ns per loop (mean ± std. dev. of 7 runs, 1,000,000 loops each)\n"
     ]
    }
   ],
   "source": [
    "%timeit test1 = Bar1(a, b, c)"
   ]
  },
  {
   "cell_type": "code",
   "execution_count": 9,
   "id": "15ba226c-887e-4414-a39c-f6042ca39e1b",
   "metadata": {},
   "outputs": [
    {
     "name": "stdout",
     "output_type": "stream",
     "text": [
      "393 ns ± 7.43 ns per loop (mean ± std. dev. of 7 runs, 1,000,000 loops each)\n"
     ]
    }
   ],
   "source": [
    "%timeit test2 = Bar2(a, b, c)"
   ]
  },
  {
   "cell_type": "code",
   "execution_count": 10,
   "id": "ffac0087-b93b-4f4b-8943-0edce783cb2c",
   "metadata": {},
   "outputs": [
    {
     "name": "stdout",
     "output_type": "stream",
     "text": [
      "486 ns ± 4.28 ns per loop (mean ± std. dev. of 7 runs, 1,000,000 loops each)\n"
     ]
    }
   ],
   "source": [
    "%timeit test3 = Bar3(a, b, c)"
   ]
  },
  {
   "cell_type": "code",
   "execution_count": 11,
   "id": "bfd03fec-db96-4513-8e98-9192d54ee172",
   "metadata": {},
   "outputs": [
    {
     "name": "stdout",
     "output_type": "stream",
     "text": [
      "139 ns ± 2.27 ns per loop (mean ± std. dev. of 7 runs, 10,000,000 loops each)\n",
      "236 ns ± 6.42 ns per loop (mean ± std. dev. of 7 runs, 1,000,000 loops each)\n",
      "102 ns ± 0.662 ns per loop (mean ± std. dev. of 7 runs, 10,000,000 loops each)\n"
     ]
    }
   ],
   "source": [
    "%timeit test4 = Bar4()\n",
    "%timeit test4_foo = Foo(a, b, c)\n",
    "test4 = Bar4()\n",
    "test4_foo = Foo(a, b, c)\n",
    "%timeit test4.set_foo(test4_foo)"
   ]
  },
  {
   "cell_type": "code",
   "execution_count": 14,
   "id": "72446bfc-4de1-47e4-8bd6-acf5652220a1",
   "metadata": {},
   "outputs": [
    {
     "name": "stdout",
     "output_type": "stream",
     "text": [
      "Total for above: 477 ns\n"
     ]
    }
   ],
   "source": [
    "print(f\"Total for above: {139+236+102} ns\")"
   ]
  },
  {
   "cell_type": "code",
   "execution_count": 15,
   "id": "8225b3d4-27e6-4c2a-822a-5121ae96bce5",
   "metadata": {},
   "outputs": [
    {
     "name": "stdout",
     "output_type": "stream",
     "text": [
      "fastest: 393 ns\n",
      "Second: 2.04% slower\n",
      "Third: 23.66% slower\n",
      "Fourth: 21.37% slower\n"
     ]
    }
   ],
   "source": [
    "print(f\"fastest: 393 ns\")\n",
    "print(f\"Second: {((401-393)/393*100):.2f}% slower\")\n",
    "print(f\"Third: {((486-393)/393*100):.2f}% slower\")\n",
    "print(f\"Fourth: {((477-393)/393*100):.2f}% slower\")"
   ]
  },
  {
   "cell_type": "code",
   "execution_count": null,
   "id": "f0f4deac-74f9-4662-afd7-630b68ac9e16",
   "metadata": {},
   "outputs": [],
   "source": []
  }
 ],
 "metadata": {
  "kernelspec": {
   "display_name": "Python 3 (ipykernel)",
   "language": "python",
   "name": "python3"
  },
  "language_info": {
   "codemirror_mode": {
    "name": "ipython",
    "version": 3
   },
   "file_extension": ".py",
   "mimetype": "text/x-python",
   "name": "python",
   "nbconvert_exporter": "python",
   "pygments_lexer": "ipython3",
   "version": "3.10.13"
  }
 },
 "nbformat": 4,
 "nbformat_minor": 5
}
