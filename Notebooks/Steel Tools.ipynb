{
 "cells": [
  {
   "cell_type": "code",
   "execution_count": 1,
   "id": "14b14ede-cda1-4e54-aa2a-a4ece00dbf81",
   "metadata": {},
   "outputs": [],
   "source": [
    "# Temporary Code while developing the library, can import straight from civilpy once published\n",
    "import os\n",
    "import sys\n",
    "\n",
    "currentdir = os.getcwd()\n",
    "parentdir = os.path.dirname(currentdir)\n",
    "sys.path.insert(0, parentdir) "
   ]
  },
  {
   "cell_type": "code",
   "execution_count": 2,
   "id": "1aa79aa2-d9b1-425b-8e99-6d30d9957d54",
   "metadata": {},
   "outputs": [],
   "source": [
    "from src.civilpy.structural.steel import W"
   ]
  },
  {
   "cell_type": "code",
   "execution_count": 3,
   "id": "a993be11-0bee-4103-bc94-66bc0a69f360",
   "metadata": {},
   "outputs": [],
   "source": [
    "test = W('44x335')"
   ]
  },
  {
   "attachments": {},
   "cell_type": "markdown",
   "id": "b4262f79-d0ec-41bd-bf63-fb427cdd2417",
   "metadata": {},
   "source": [
    "| Test Value | T_F |  W  |  A  | d  | ddet |  bf  | bfdet |  tw  | twdet | twdet/2 |  tf  | tfdet | kdes | kdet |  k1   | bf/2tf | h/tw |  Ix   |\n",
    "|------------|-----|-----|-----|----|------|------|-------|------|-------|---------|------|-------|------|------|-------|--------|------|-------|\n",
    "| W44X335    | F   | 335 | 98.5| 44 |  44  | 15.9 |   16  | 1.03 |   1   |   1/2   | 1.77 | 1 3/4 | 2.56 |   3  | 1 3/4 |   4.5  |  38  | 31100 |\n",
    " \n",
    " \n",
    "| Zx   |  Sx  | rx   | Iy   | Zy  | Sy  |  ry  |  J   |  Cw    | Wno | Sw1  | Qf  | Qw  | rts  | ho   | PA  | PB  | PC  | PD  | T  | WGi   | WGo |\n",
    "|------|------|------|------|-----|-----|------|------|--------|-----|------|-----|-----|------|------|-----|-----|-----|-----|----|-------|-----|\n",
    "| 1620 | 1410 | 17.8 | 1200 | 236 | 150 | 3.49 | 74.7 | 535000 | 168 | 1180 | 278 | 805 | 4.24 | 42.2 | 132 | 148 | 104 | 120 | 38 | 5 1/2 | 3   |"
   ]
  },
  {
   "cell_type": "code",
   "execution_count": 8,
   "id": "b0f8f6e2-bc9d-4712-9ff3-d974962cd44c",
   "metadata": {},
   "outputs": [
    {
     "data": {
      "text/plain": [
       "('44', '44')"
      ]
     },
     "execution_count": 8,
     "metadata": {},
     "output_type": "execute_result"
    }
   ],
   "source": [
    "test.d, test.ddet,"
   ]
  },
  {
   "cell_type": "code",
   "execution_count": 4,
   "id": "8eff0011-a62c-4570-8516-1d9715be7014",
   "metadata": {},
   "outputs": [
    {
     "data": {
      "text/plain": [
       "('F',\n",
       " 335.0,\n",
       " 98.5,\n",
       " '44',\n",
       " '44',\n",
       " '15.9',\n",
       " '16',\n",
       " '1.03',\n",
       " '1',\n",
       " '0.5',\n",
       " '1.77',\n",
       " '1.75',\n",
       " '2.56',\n",
       " '3',\n",
       " '1.75',\n",
       " '4.5',\n",
       " '38',\n",
       " 31100.0)"
      ]
     },
     "execution_count": 4,
     "metadata": {},
     "output_type": "execute_result"
    }
   ],
   "source": [
    "test.special_note, test.weight, test.area,  test.bf, test.bfdet, test.tw, test.twdet, test.twdet_2, test.tf, test.tfdet, test.kdes, test.kdet, test.k1, test.bf_2tf, test.h_tw, test.I_x"
   ]
  },
  {
   "cell_type": "code",
   "execution_count": 5,
   "id": "0e6a451f-8cd5-4f57-8bf2-feb933b1d524",
   "metadata": {},
   "outputs": [
    {
     "data": {
      "text/plain": [
       "(1620.0,\n",
       " 1410.0,\n",
       " 17.8,\n",
       " 1200.0,\n",
       " 236.0,\n",
       " 150.0,\n",
       " 3.49,\n",
       " '74.7',\n",
       " '535000',\n",
       " '168',\n",
       " '1180',\n",
       " '278',\n",
       " '805',\n",
       " '4.24',\n",
       " '42.2',\n",
       " '132',\n",
       " '148',\n",
       " '104',\n",
       " '120',\n",
       " '38',\n",
       " '5.5',\n",
       " '–')"
      ]
     },
     "execution_count": 5,
     "metadata": {},
     "output_type": "execute_result"
    }
   ],
   "source": [
    "test.Z_x, test.S_x, test.r_x, test.I_y, test.Z_y, test.S_y, test.r_y, test.J, test.Cw, test.Wno, test.Sw1, test.Qf, test.Qw, test.rts, test.ho, test.PA, test.PB, test.PC, test.PD, test.T, test.WGi, test.WGo"
   ]
  },
  {
   "cell_type": "code",
   "execution_count": null,
   "id": "fe787df3-9b02-4c73-aa2d-45603febd4ed",
   "metadata": {},
   "outputs": [],
   "source": []
  },
  {
   "cell_type": "code",
   "execution_count": 9,
   "id": "ac80401e-9f1b-4ef9-b32b-d544322a9387",
   "metadata": {},
   "outputs": [
    {
     "ename": "NameError",
     "evalue": "name 'test_shape' is not defined",
     "output_type": "error",
     "traceback": [
      "\u001b[1;31m---------------------------------------------------------------------------\u001b[0m",
      "\u001b[1;31mNameError\u001b[0m                                 Traceback (most recent call last)",
      "Cell \u001b[1;32mIn[9], line 1\u001b[0m\n\u001b[1;32m----> 1\u001b[0m \u001b[43mtest_shape\u001b[49m\u001b[38;5;241m.\u001b[39marea\n",
      "\u001b[1;31mNameError\u001b[0m: name 'test_shape' is not defined"
     ]
    }
   ],
   "source": [
    "test_shape.area"
   ]
  },
  {
   "cell_type": "code",
   "execution_count": null,
   "id": "07c565d9-cb20-4a55-a252-0c1192a594bf",
   "metadata": {},
   "outputs": [],
   "source": [
    "test_shape.S_x"
   ]
  },
  {
   "cell_type": "code",
   "execution_count": null,
   "id": "f1028f3b-981d-4a30-b3bd-16c50cacf584",
   "metadata": {},
   "outputs": [],
   "source": [
    "dir(test_shape)"
   ]
  },
  {
   "cell_type": "code",
   "execution_count": null,
   "id": "e9f6d1c7-83f1-47ea-955a-55019cb88eec",
   "metadata": {},
   "outputs": [],
   "source": []
  }
 ],
 "metadata": {
  "kernelspec": {
   "display_name": "Python 3 (ipykernel)",
   "language": "python",
   "name": "python3"
  },
  "language_info": {
   "codemirror_mode": {
    "name": "ipython",
    "version": 3
   },
   "file_extension": ".py",
   "mimetype": "text/x-python",
   "name": "python",
   "nbconvert_exporter": "python",
   "pygments_lexer": "ipython3",
   "version": "3.12.6"
  }
 },
 "nbformat": 4,
 "nbformat_minor": 5
}
