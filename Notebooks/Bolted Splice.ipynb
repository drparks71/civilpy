{
 "cells": [
  {
   "attachments": {},
   "cell_type": "markdown",
   "id": "564634f1-a2c3-4c5c-a030-7e9d2a39ea66",
   "metadata": {},
   "source": [
    "# Inputs\n",
    "\n",
    "[Based on this excel sheet.](https://www.aisc.org/nsba/design-resources/nsba-splice/)"
   ]
  },
  {
   "cell_type": "code",
   "execution_count": 3,
   "id": "5f0c9da7-7f93-4be6-9cf2-52833bae4551",
   "metadata": {},
   "outputs": [],
   "source": [
    "from civilpy.general import units"
   ]
  },
  {
   "cell_type": "markdown",
   "id": "f59da78c-4109-4141-b240-4c7d536eb237",
   "metadata": {},
   "source": [
    "## Unfactored Loads - Splice Centerline \n",
    "\n",
    "Format: [Moment, Shear]"
   ]
  },
  {
   "cell_type": "code",
   "execution_count": 3,
   "id": "e0de9eb8-56b9-4cbb-b92d-0404426134a7",
   "metadata": {},
   "outputs": [],
   "source": [
    "# Noncomposite Dead Load\n",
    "dc1 = [0, 0]\n",
    "# Superimposed Composite Dead Load\n",
    "dc2 = [0, 0]\n",
    "# Future Wearing Surface\n",
    "dw = [0, 0]\n",
    "# Positive LL + Impact\n",
    "pll_imp = [0, 0]\n",
    "# Deck Casting\n",
    "deck_casting = [0, 0]"
   ]
  },
  {
   "cell_type": "markdown",
   "id": "560aebf3-2a23-45c7-9aec-df1cbc38eee5",
   "metadata": {},
   "source": [
    "## Bolt Properties"
   ]
  },
  {
   "cell_type": "code",
   "execution_count": 4,
   "id": "91b21596-9ec4-47e1-aa93-b9fcb34e5a66",
   "metadata": {},
   "outputs": [],
   "source": [
    "# Bolt Type\n",
    "bolt_type = 'A325'  # Material (# //TODO - New Class)\n",
    "bolt_dia = 7/8  # Diameter (in.)\n",
    "\n",
    "# Web Threads\n",
    "web_threads = 1\n",
    "\n",
    "# Flange Threads\n",
    "flange_threads = 0\n",
    "\n",
    "# Surface Condition Factor\n",
    "k_s = 'B'\n",
    "\n",
    "# Hole Size Factor\n",
    "k_h = 'Standard'\n",
    "\n",
    "# Top Flange Rows\n",
    "tf_rows = 4  # (int)\n",
    "web_rows = 4  # (int)\n",
    "bf_rows = 4  # (int)"
   ]
  },
  {
   "cell_type": "markdown",
   "id": "1ad5dcb3-e066-42c4-988c-f7c095ee5147",
   "metadata": {},
   "source": [
    "## Girder Properties\n",
    "\n",
    "Original Sheet used [Left, Right] - will probably remove that convention"
   ]
  },
  {
   "cell_type": "code",
   "execution_count": 5,
   "id": "44a7f1b2-095b-4ad5-be2b-13ff4a4fda09",
   "metadata": {},
   "outputs": [],
   "source": [
    "# Top Flange\n",
    "tf_material = ['Grade 36', 'Grade 50']  # Material (# //TODO - New Class)\n",
    "tf_thickness = [0, 0]  # Thickness (in)\n",
    "tf_width = [0, 0]  # Web Depth (in)\n",
    "\n",
    "# Stiffeners\n",
    "long_stiff = 0  # Longitudinal Stiffener (Bool)\n",
    "trans_stiff_spacing = 0  # Transverse Stiffener Spacing (d_o) (ft)\n",
    "\n",
    "# Web\n",
    "web_material = 'A36'  # Material (# //TODO - New Class)\n",
    "web_thickness = 0  # Thickness (in)\n",
    "web_depth = 0  # Web Depth (in)\n",
    "\n",
    "# Bottom Flange\n",
    "bf_material = ['Grade 36', 'Grade 50']  # Material (# //TODO - New Class)\n",
    "bf_thickness = [0, 0]  # Thickness (in)\n",
    "bf_width = [0, 0]  # Bottom Flange width (in)"
   ]
  },
  {
   "cell_type": "markdown",
   "id": "35d74e25-b23e-475d-bb9a-e06f225f4458",
   "metadata": {},
   "source": [
    "## Concrete Deck"
   ]
  },
  {
   "cell_type": "code",
   "execution_count": 1,
   "id": "ce8073d1-d9a8-43d4-989f-0e1c8fa2a834",
   "metadata": {},
   "outputs": [
    {
     "ename": "NameError",
     "evalue": "name 'units' is not defined",
     "output_type": "error",
     "traceback": [
      "\u001b[1;31m---------------------------------------------------------------------------\u001b[0m",
      "\u001b[1;31mNameError\u001b[0m                                 Traceback (most recent call last)",
      "Cell \u001b[1;32mIn[1], line 4\u001b[0m\n\u001b[0;32m      2\u001b[0m deck_thickness \u001b[38;5;241m=\u001b[39m \u001b[38;5;241m4\u001b[39m  \u001b[38;5;66;03m# Deck Thickness (in)\u001b[39;00m\n\u001b[0;32m      3\u001b[0m eff_width \u001b[38;5;241m=\u001b[39m \u001b[38;5;241m60\u001b[39m  \u001b[38;5;66;03m# Effective width (if composite) (in)\u001b[39;00m\n\u001b[1;32m----> 4\u001b[0m concrete_strength \u001b[38;5;241m=\u001b[39m \u001b[38;5;241m4600\u001b[39m \u001b[38;5;241m*\u001b[39m \u001b[43munits\u001b[49m\n",
      "\u001b[1;31mNameError\u001b[0m: name 'units' is not defined"
     ]
    }
   ],
   "source": [
    "composite = 1\n",
    "deck_thickness = 4  # Deck Thickness (in)\n",
    "eff_width = 60  # Effective width (if composite) (in)\n",
    "concrete_strength = 4600 * units"
   ]
  },
  {
   "cell_type": "markdown",
   "id": "6b2d8003-c73a-4a60-86da-dd1ff76cdc61",
   "metadata": {},
   "source": [
    "## Spacing and Clearance Values"
   ]
  },
  {
   "cell_type": "code",
   "execution_count": null,
   "id": "687bbb4e-5916-4071-bf90-049ddf0dea95",
   "metadata": {},
   "outputs": [],
   "source": []
  },
  {
   "cell_type": "markdown",
   "id": "13961dd1-3185-48f7-9587-f700691b0549",
   "metadata": {},
   "source": [
    "## Haunch"
   ]
  },
  {
   "cell_type": "code",
   "execution_count": 7,
   "id": "11218544-5eca-4b78-9245-9568884474dc",
   "metadata": {},
   "outputs": [],
   "source": [
    "haunch = 0  # Haunch Thickness (float)"
   ]
  },
  {
   "cell_type": "markdown",
   "id": "cad56f2f-f956-4667-b505-daddd4b5609e",
   "metadata": {},
   "source": [
    "## Splice Plate Properties"
   ]
  },
  {
   "cell_type": "code",
   "execution_count": null,
   "id": "e430bfb8-4a13-4443-805e-880b7f2ae9c9",
   "metadata": {},
   "outputs": [],
   "source": [
    "# To"
   ]
  },
  {
   "cell_type": "code",
   "execution_count": null,
   "id": "16c4011d-ef9f-4d13-8a5e-2eb8035cd830",
   "metadata": {},
   "outputs": [],
   "source": []
  }
 ],
 "metadata": {
  "kernelspec": {
   "display_name": "Python 3 (ipykernel)",
   "language": "python",
   "name": "python3"
  },
  "language_info": {
   "codemirror_mode": {
    "name": "ipython",
    "version": 3
   },
   "file_extension": ".py",
   "mimetype": "text/x-python",
   "name": "python",
   "nbconvert_exporter": "python",
   "pygments_lexer": "ipython3",
   "version": "3.9.21"
  }
 },
 "nbformat": 4,
 "nbformat_minor": 5
}
