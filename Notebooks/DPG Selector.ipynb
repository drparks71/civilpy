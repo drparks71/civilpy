{
 "cells": [
  {
   "cell_type": "markdown",
   "id": "b3066d79-b1ee-40cb-adcb-4db07cda0dfe",
   "metadata": {
    "tags": [
     "remove_cell"
    ]
   },
   "source": [
    "# Imports\n",
    "\n",
    "These load the necessary libraries to perform the calculations. These cells aren't output to the final pdf file because the script to output the notebook as a .pdf has the `remove_cell` tag configured to not display those cells in the final pdf."
   ]
  },
  {
   "cell_type": "code",
   "execution_count": 1,
   "id": "4dcbfa9b-8ea5-4ec2-9327-333dcb01c2b0",
   "metadata": {
    "tags": [
     "remove_cell"
    ]
   },
   "outputs": [],
   "source": [
    "import pint\n",
    "import civilpy\n",
    "units = pint.UnitRegistry()"
   ]
  },
  {
   "cell_type": "markdown",
   "id": "56ebdbd2-2a22-423e-8ff6-14f5304cfe74",
   "metadata": {
    "tags": [
     "remove_cell"
    ]
   },
   "source": [
    "# Inputs:\n",
    "\n",
    "The only cell that needs to be updated is the first set of variables in the next cell, if there is a comment defining the units, use those units, if the units are defined by `units.unit`, it's fine to change them to whatever units are most convenient. If there is a tolerance, it means integers had to be used later on in the code, ie. the `range()` function, so this was done by multiplying the value by 100 for a .01 tolerance and rounding it off."
   ]
  },
  {
   "cell_type": "code",
   "execution_count": 8,
   "id": "5e8bc313-15c3-4d13-abfe-6d444c6f3f94",
   "metadata": {
    "tags": []
   },
   "outputs": [],
   "source": [
    "# Bridge Geometry\n",
    "span_length = 110.0 * units.ft\n",
    "girder_spacing = 3.33 * units.ft\n",
    "no_of_girders_supporting_track = 4\n",
    "deck_thickness = 0.75 * units.inch\n",
    "\n",
    "# Girder Parameters\n",
    "# Web Height\n",
    "web_height_min = 64 * units.inch # tolerance = .01 inch\n",
    "web_height_max = 84 * units.inch # tolerance = .01 inch\n",
    "web_height_increment = 1.0 * units.inch\n",
    "\n",
    "# Web Thickness\n",
    "web_thickness_min = 1.25 * units.inch\n",
    "web_thickness_max = 1.50 * units.inch\n",
    "web_thickness_increment = 0.50 * units.inch"
   ]
  },
  {
   "cell_type": "markdown",
   "id": "b2ac6f89-538a-4bbe-b5f1-83ff72bffd3c",
   "metadata": {
    "slideshow": {
     "slide_type": "skip"
    },
    "tags": [
     "hide-input"
    ]
   },
   "source": [
    "## Material Properties\n",
    "\n",
    "Not usually "
   ]
  }
 ],
 "metadata": {
  "kernelspec": {
   "display_name": "Python 3 (ipykernel)",
   "language": "python",
   "name": "python3"
  },
  "language_info": {
   "codemirror_mode": {
    "name": "ipython",
    "version": 3
   },
   "file_extension": ".py",
   "mimetype": "text/x-python",
   "name": "python",
   "nbconvert_exporter": "python",
   "pygments_lexer": "ipython3",
   "version": "3.12.6"
  }
 },
 "nbformat": 4,
 "nbformat_minor": 5
}
