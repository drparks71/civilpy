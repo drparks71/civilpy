{
 "cells": [
  {
   "cell_type": "markdown",
   "id": "1634dcab-76c0-4c36-99ad-7aabebccbd77",
   "metadata": {},
   "source": [
    "Take the following fortran code and save it into `my_fortran_code.f90`"
   ]
  },
  {
   "cell_type": "markdown",
   "id": "1be3617a-157b-4986-9930-bcafd5851aff",
   "metadata": {},
   "source": [
    "```fortran\n",
    "module fortran_dll\n",
    "use iso_c_binding\n",
    "implicit none\n",
    "\n",
    "contains\n",
    "\n",
    "subroutine add_numbers(x, y, result) bind(c)\n",
    "   real(c_double), value :: x, y  ! `value` makes the arguments passed by value\n",
    "   real(c_double) :: result       ! This will store the result\n",
    "   result = x + y\n",
    "end subroutine add_numbers\n",
    "\n",
    "subroutine multiply_numbers(x, y, result) bind(c)\n",
    "   real(c_double), value :: x, y\n",
    "   real(c_double) :: result\n",
    "   result = x * y\n",
    "end subroutine multiply_numbers\n",
    "end module fortran_dll\n",
    "```"
   ]
  },
  {
   "cell_type": "markdown",
   "id": "1309b379-f118-4cfc-81bd-c67d59d27e61",
   "metadata": {},
   "source": [
    "from the same directory as the fortran code, compile the code into a dll,\n",
    "\n",
    "```powershell\n",
    "gfortran -shared -o C:\\Users\\dane.parks\\PycharmProjects\\civilpy\\src\\civilpy\\general\\fortran\\fortran_DLLs\\my_fortran_lib.dll my_fortran_code.f90\n",
    "```\n",
    "\n",
    "You can access the DLL from python as follows,"
   ]
  },
  {
   "cell_type": "code",
   "execution_count": 1,
   "id": "db07de8c-26b1-4f99-a7fb-0986a7de0bf7",
   "metadata": {},
   "outputs": [
    {
     "name": "stdout",
     "output_type": "stream",
     "text": [
      "Addition result: 8.0\n",
      "Multiplication result: 15.0\n"
     ]
    }
   ],
   "source": [
    "import ctypes\n",
    "\n",
    "fortran_lib = ctypes.CDLL(r\"C:\\Users\\dane.parks\\PycharmProjects\\civilpy\\src\\civilpy\\general\\fortran\\fortran_DLLs\\my_fortran_lib.dll\")\n",
    "\n",
    "fortran_lib.add_numbers.argtypes = [ctypes.c_double, ctypes.c_double, ctypes.POINTER(ctypes.c_double)]\n",
    "fortran_lib.add_numbers.restype = None\n",
    "\n",
    "fortran_lib.multiply_numbers.argtypes = [ctypes.c_double, ctypes.c_double, ctypes.POINTER(ctypes.c_double)]\n",
    "fortran_lib.multiply_numbers.restype = None\n",
    "\n",
    "x = 5.0\n",
    "y = 3.0\n",
    "result = ctypes.c_double()  # Create a container object for the result\n",
    "\n",
    "fortran_lib.add_numbers(ctypes.c_double(x), ctypes.c_double(y), ctypes.byref(result))\n",
    "print(f\"Addition result: {result.value}\")\n",
    "\n",
    "fortran_lib.multiply_numbers(ctypes.c_double(x), ctypes.c_double(y), ctypes.byref(result))\n",
    "print(f\"Multiplication result: {result.value}\")"
   ]
  }
 ],
 "metadata": {
  "kernelspec": {
   "display_name": "Python 3 (ipykernel)",
   "language": "python",
   "name": "python3"
  },
  "language_info": {
   "codemirror_mode": {
    "name": "ipython",
    "version": 3
   },
   "file_extension": ".py",
   "mimetype": "text/x-python",
   "name": "python",
   "nbconvert_exporter": "python",
   "pygments_lexer": "ipython3",
   "version": "3.12.6"
  }
 },
 "nbformat": 4,
 "nbformat_minor": 5
}
