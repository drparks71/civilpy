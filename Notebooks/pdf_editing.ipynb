{
 "cells": [
  {
   "cell_type": "code",
   "execution_count": 1,
   "id": "db82ffec-be6f-4acf-af72-d3ff2dc1e1b5",
   "metadata": {
    "tags": []
   },
   "outputs": [],
   "source": [
    "path_to_pdf = r\"C:\\Users\\dparks1\\Desktop\\References\\AASHTO - Other\\LRFD Bridge Design Specifications\\LRFDBDS-10\\LRFDBDS-10.pdf\"\n",
    "# path_to_original_pdf = r\"C:\\Users\\dane.parks\\PycharmProjects\\civilpy\\Notebooks\\res\\temp\\Locked Manual.pdf\""
   ]
  },
  {
   "cell_type": "code",
   "execution_count": 2,
   "id": "d1cfd091-87c9-4c11-a217-9bf24c0500c1",
   "metadata": {
    "tags": []
   },
   "outputs": [],
   "source": [
    "import os\n",
    "import fitz\n",
    "import copy\n",
    "from pathlib import Path"
   ]
  },
  {
   "cell_type": "markdown",
   "id": "406bfa9f-da5b-409d-8efa-48c582463299",
   "metadata": {},
   "source": [
    "# Loading a PDF to a Python Object"
   ]
  },
  {
   "cell_type": "code",
   "execution_count": 3,
   "id": "db6d8eb0-a310-4540-a582-9d5df07dd08e",
   "metadata": {
    "tags": []
   },
   "outputs": [
    {
     "data": {
      "text/plain": [
       "WindowsPath('SharePoint Drafts')"
      ]
     },
     "execution_count": 3,
     "metadata": {},
     "output_type": "execute_result"
    }
   ],
   "source": [
    "uploads_files = os.listdir(Path(path_to_pdf).parent)\n",
    "for file in uploads_files:\n",
    "    x = Path(file)\n",
    "x"
   ]
  },
  {
   "cell_type": "code",
   "execution_count": 4,
   "id": "e9c6346e-84e6-4296-8c7c-00ae063fa918",
   "metadata": {},
   "outputs": [
    {
     "data": {
      "text/plain": [
       "WindowsPath('C:/Users/dparks1/Desktop/References/AASHTO - Other/LRFD Bridge Design Specifications/LRFDBDS-10/LRFDBDS-10.pdf')"
      ]
     },
     "execution_count": 4,
     "metadata": {},
     "output_type": "execute_result"
    }
   ],
   "source": [
    "Path(path_to_pdf)"
   ]
  },
  {
   "cell_type": "code",
   "execution_count": 5,
   "id": "1207dccd-b8c8-409c-a032-d73a666555c2",
   "metadata": {
    "tags": []
   },
   "outputs": [
    {
     "data": {
      "text/plain": [
       "WindowsPath('C:/Users/dparks1/PycharmProjects/civilpy/Notebooks/SharePoint Drafts')"
      ]
     },
     "execution_count": 5,
     "metadata": {},
     "output_type": "execute_result"
    }
   ],
   "source": [
    "(os.getcwd() / x)"
   ]
  },
  {
   "cell_type": "raw",
   "id": "98761717-0722-4b3a-a571-2efa92841668",
   "metadata": {
    "tags": []
   },
   "source": [
    "# Unencrypted files can be opened with this code\n",
    "doc = fitz.open(path_to_pdf) # open a document"
   ]
  },
  {
   "cell_type": "code",
   "execution_count": 6,
   "id": "c38f82a1-0d29-47b6-8323-bce3d93e5dbf",
   "metadata": {},
   "outputs": [],
   "source": [
    "# Example usage:\n",
    "path_to_pdf = \"C:\\\\Users\\\\dparks1\\\\Desktop\\\\References\\\\AASHTO - Other\\\\LRFD Bridge Design Specifications\\\\LRFDBDS-10\\\\LRFDBDS-10.pdf\"  # Replace with the actual path to your PDF\n",
    "password = \"aashtolrfd\"  # Replace with the actual password"
   ]
  },
  {
   "cell_type": "code",
   "execution_count": 7,
   "id": "3ec63a67-5444-48d4-802c-b8e10a071119",
   "metadata": {},
   "outputs": [],
   "source": [
    "INPUTFILEPATH = \"C:\\\\Users\\\\dparks1\\\\Desktop\\\\References\\\\AASHTO - Other\\\\LRFD Bridge Design Specifications\\\\LRFDBDS-10\\\\LRFDBDS-10.pdf\"\n",
    "OUTPUTFILEPATH = \"C:\\\\Users\\\\dparks1\\\\Desktop\\\\References\\\\AASHTO - Other\\\\LRFD Bridge Design Specifications\\\\LRFDBDS-10\\\\LRFDBDS-Unlocked.pdf\"\n",
    "KEYFILEPATH = \"\"\n",
    "PASSWORD = 'aashtolrfd'"
   ]
  },
  {
   "cell_type": "code",
   "execution_count": 8,
   "id": "f41be01d-6df8-4ba9-8ec8-6f862feaf1f6",
   "metadata": {},
   "outputs": [],
   "source": [
    "from io import BytesIO\n",
    "from PyPDF2 import PdfReader, PdfWriter\n",
    "from cryptography.hazmat.primitives.ciphers import Cipher, algorithms, modes\n",
    "from Crypto.Cipher import ARC4"
   ]
  },
  {
   "cell_type": "code",
   "execution_count": 9,
   "id": "f6ab1366-74b1-4b59-9e54-f872f1f9df7e",
   "metadata": {},
   "outputs": [],
   "source": [
    "from Crypto.Cipher import ARC4\n",
    "\n",
    "def decrypt_pdf(input_path: str, output_path: str, password: str):\n",
    "    try:\n",
    "        # Read encrypted PDF file\n",
    "        with open(input_path, 'rb') as input_file:\n",
    "            encrypted_data = input_file.read()\n",
    "\n",
    "        # Validate password\n",
    "        if not password or password != PASSWORD:\n",
    "            raise PDFPasswordIncorrect(\"Incorrect password provided.\")\n",
    "\n",
    "        # Use the ARC4 cipher\n",
    "        cipher = ARC4.new(password.encode('utf-8'))  # Initialize ARC4\n",
    "        decrypted_data = cipher.decrypt(encrypted_data)\n",
    "\n",
    "        # Save decrypted data\n",
    "        with open(output_path, 'wb') as output_file:\n",
    "            output_file.write(decrypted_data)\n",
    "\n",
    "        print(f\"PDF decrypted successfully and saved to {output_path}\")\n",
    "\n",
    "    except Exception as generic_err:\n",
    "        print(f\"An unexpected error occurred: {generic_err}\")"
   ]
  },
  {
   "cell_type": "code",
   "execution_count": 10,
   "id": "7fd7f908-3f44-4b96-817a-f028a25c483f",
   "metadata": {},
   "outputs": [
    {
     "name": "stdout",
     "output_type": "stream",
     "text": [
      "PDF decrypted successfully and saved to C:\\Users\\dparks1\\Desktop\\References\\AASHTO - Other\\LRFD Bridge Design Specifications\\LRFDBDS-10\\LRFDBDS-Unlocked.pdf\n"
     ]
    }
   ],
   "source": [
    "# Example usage\n",
    "decrypt_pdf(input_path=INPUTFILEPATH, output_path=OUTPUTFILEPATH, password='aashtolrfd')"
   ]
  },
  {
   "cell_type": "code",
   "execution_count": null,
   "id": "18687414-967e-445a-ac57-1613aba03b10",
   "metadata": {},
   "outputs": [],
   "source": []
  },
  {
   "cell_type": "code",
   "execution_count": null,
   "id": "91f177d8-56b8-424a-8632-4c0e7838556c",
   "metadata": {},
   "outputs": [],
   "source": []
  },
  {
   "cell_type": "markdown",
   "id": "054f5586-674b-4170-9667-a85e67add497",
   "metadata": {},
   "source": [
    "# Getting the Bookmarks (Outlines) of a Document"
   ]
  },
  {
   "cell_type": "code",
   "execution_count": 11,
   "id": "165b8c09-1468-40b1-a6b1-bf54eb5b53ec",
   "metadata": {
    "tags": []
   },
   "outputs": [
    {
     "ename": "FileDataError",
     "evalue": "Failed to open file 'C:\\\\Users\\\\dparks1\\\\Desktop\\\\References\\\\AASHTO - Other\\\\LRFD Bridge Design Specifications\\\\LRFDBDS-10\\\\LRFDBDS-10.pdf'.",
     "output_type": "error",
     "traceback": [
      "\u001b[1;31m---------------------------------------------------------------------------\u001b[0m",
      "\u001b[1;31mFzErrorFormat\u001b[0m                             Traceback (most recent call last)",
      "File \u001b[1;32m~\\AppData\\Local\\anaconda3\\envs\\civilpy\\lib\\site-packages\\fitz\\__init__.py:2743\u001b[0m, in \u001b[0;36mDocument.__init__\u001b[1;34m(self, filename, stream, filetype, rect, width, height, fontsize)\u001b[0m\n\u001b[0;32m   2742\u001b[0m \u001b[38;5;28;01mtry\u001b[39;00m:\n\u001b[1;32m-> 2743\u001b[0m     doc \u001b[38;5;241m=\u001b[39m \u001b[43mmupdf\u001b[49m\u001b[38;5;241;43m.\u001b[39;49m\u001b[43mfz_open_document\u001b[49m\u001b[43m(\u001b[49m\u001b[43mfilename\u001b[49m\u001b[43m)\u001b[49m\n\u001b[0;32m   2744\u001b[0m \u001b[38;5;28;01mexcept\u001b[39;00m \u001b[38;5;167;01mException\u001b[39;00m \u001b[38;5;28;01mas\u001b[39;00m e:\n",
      "File \u001b[1;32m~\\AppData\\Local\\anaconda3\\envs\\civilpy\\lib\\site-packages\\fitz\\mupdf.py:44034\u001b[0m, in \u001b[0;36mfz_open_document\u001b[1;34m(filename)\u001b[0m\n\u001b[0;32m  44023\u001b[0m \u001b[38;5;250m\u001b[39m\u001b[38;5;124mr\u001b[39m\u001b[38;5;124;03m\"\"\"\u001b[39;00m\n\u001b[0;32m  44024\u001b[0m \u001b[38;5;124;03mClass-aware wrapper for `::fz_open_document()`.\u001b[39;00m\n\u001b[0;32m  44025\u001b[0m \u001b[38;5;124;03m\tOpen a document file and read its basic structure so pages and\u001b[39;00m\n\u001b[1;32m   (...)\u001b[0m\n\u001b[0;32m  44032\u001b[0m \u001b[38;5;124;03m\tfilename: a path to a file as it would be given to open(2).\u001b[39;00m\n\u001b[0;32m  44033\u001b[0m \u001b[38;5;124;03m\"\"\"\u001b[39;00m\n\u001b[1;32m> 44034\u001b[0m \u001b[38;5;28;01mreturn\u001b[39;00m \u001b[43m_mupdf\u001b[49m\u001b[38;5;241;43m.\u001b[39;49m\u001b[43mfz_open_document\u001b[49m\u001b[43m(\u001b[49m\u001b[43mfilename\u001b[49m\u001b[43m)\u001b[49m\n",
      "\u001b[1;31mFzErrorFormat\u001b[0m: code=7: unknown encryption handler: 'FOPN_foweb'",
      "\nThe above exception was the direct cause of the following exception:\n",
      "\u001b[1;31mFileDataError\u001b[0m                             Traceback (most recent call last)",
      "Cell \u001b[1;32mIn[11], line 1\u001b[0m\n\u001b[1;32m----> 1\u001b[0m doc2 \u001b[38;5;241m=\u001b[39m \u001b[43mfitz\u001b[49m\u001b[38;5;241;43m.\u001b[39;49m\u001b[43mopen\u001b[49m\u001b[43m(\u001b[49m\u001b[43mpath_to_pdf\u001b[49m\u001b[43m)\u001b[49m \u001b[38;5;66;03m# open a document\u001b[39;00m\n\u001b[0;32m      2\u001b[0m toc \u001b[38;5;241m=\u001b[39m doc2\u001b[38;5;241m.\u001b[39mget_toc(\u001b[38;5;28;01mFalse\u001b[39;00m)\n",
      "File \u001b[1;32m~\\AppData\\Local\\anaconda3\\envs\\civilpy\\lib\\site-packages\\fitz\\__init__.py:2746\u001b[0m, in \u001b[0;36mDocument.__init__\u001b[1;34m(self, filename, stream, filetype, rect, width, height, fontsize)\u001b[0m\n\u001b[0;32m   2744\u001b[0m     \u001b[38;5;28;01mexcept\u001b[39;00m \u001b[38;5;167;01mException\u001b[39;00m \u001b[38;5;28;01mas\u001b[39;00m e:\n\u001b[0;32m   2745\u001b[0m         \u001b[38;5;28;01mif\u001b[39;00m g_exceptions_verbose \u001b[38;5;241m>\u001b[39m \u001b[38;5;241m1\u001b[39m:    exception_info()\n\u001b[1;32m-> 2746\u001b[0m         \u001b[38;5;28;01mraise\u001b[39;00m FileDataError(\u001b[38;5;124mf\u001b[39m\u001b[38;5;124m'\u001b[39m\u001b[38;5;124mFailed to open file \u001b[39m\u001b[38;5;132;01m{\u001b[39;00mfilename\u001b[38;5;132;01m!r}\u001b[39;00m\u001b[38;5;124m.\u001b[39m\u001b[38;5;124m'\u001b[39m) \u001b[38;5;28;01mfrom\u001b[39;00m\u001b[38;5;250m \u001b[39m\u001b[38;5;21;01me\u001b[39;00m\n\u001b[0;32m   2747\u001b[0m \u001b[38;5;28;01melse\u001b[39;00m:\n\u001b[0;32m   2748\u001b[0m     handler \u001b[38;5;241m=\u001b[39m mupdf\u001b[38;5;241m.\u001b[39mll_fz_recognize_document(filetype)\n",
      "\u001b[1;31mFileDataError\u001b[0m: Failed to open file 'C:\\\\Users\\\\dparks1\\\\Desktop\\\\References\\\\AASHTO - Other\\\\LRFD Bridge Design Specifications\\\\LRFDBDS-10\\\\LRFDBDS-10.pdf'."
     ]
    }
   ],
   "source": [
    "doc2 = fitz.open(path_to_pdf) # open a document\n",
    "toc = doc2.get_toc(False)"
   ]
  },
  {
   "cell_type": "code",
   "execution_count": null,
   "id": "e6a5d49f-3ccf-42eb-869c-8a691a9e957d",
   "metadata": {
    "tags": []
   },
   "outputs": [],
   "source": [
    "for index, bookmark in enumerate(toc):\n",
    "    if bookmark[1][:7] == 'Chapter':\n",
    "        print(f\"Index: {index}, Title: {bookmark[1]}\")"
   ]
  },
  {
   "cell_type": "code",
   "execution_count": null,
   "id": "108fd8de-f6b2-40be-98b9-9a0b056fa6b0",
   "metadata": {
    "tags": []
   },
   "outputs": [],
   "source": []
  },
  {
   "cell_type": "code",
   "execution_count": null,
   "id": "68391283-6b1d-46da-8797-7c0137f1ae83",
   "metadata": {
    "tags": []
   },
   "outputs": [],
   "source": [
    "for bookmark in toc:\n",
    "    print(bookmark[1])"
   ]
  },
  {
   "cell_type": "markdown",
   "id": "286a46f4-e92b-420d-a00d-a6889069113f",
   "metadata": {},
   "source": [
    "# Sectioning Out PDF\n",
    "\n",
    "For some reason the script breaks if you do more than 400 pages at a time, so I split the pdf up into 400 page sections, edited them, and put them back together."
   ]
  },
  {
   "cell_type": "raw",
   "id": "2beae26f-75c9-435b-889e-295a674e78eb",
   "metadata": {
    "tags": []
   },
   "source": [
    "jump_by_value = 400\n",
    "i = 0\n",
    "\n",
    "while i < len(doc):\n",
    "    first_page = i\n",
    "    if i+jump_by_value < len(doc):\n",
    "        last_page = i + jump_by_value\n",
    "    else:\n",
    "        last_page = len(doc)\n",
    "    \n",
    "    temp_doc = doc.tobytes()\n",
    "    new_doc = fitz.open('pdf', temp_doc)\n",
    "    new_doc.select(list(range(first_page, last_page)))\n",
    "    new_doc.save(f\"output/temp/PDF Pages {first_page}-{last_page}.pdf\")\n",
    "    \n",
    "    i = i + jump_by_value"
   ]
  },
  {
   "cell_type": "code",
   "execution_count": null,
   "id": "7aea17ab-78e3-4653-aa8d-71afa75dce91",
   "metadata": {
    "tags": []
   },
   "outputs": [],
   "source": [
    "directory = r\"D:\\Jetbrains\\PycharmProjects\\civilpy\\Notebooks\\output\\AREMA_Split_by_Ch\"\n",
    "\n",
    "list_of_files = [directory + '\\\\' + x for x in os.listdir(r\"D:\\Jetbrains\\PycharmProjects\\civilpy\\Notebooks\\output\\AREMA_Split_by_Ch\")]"
   ]
  },
  {
   "cell_type": "code",
   "execution_count": null,
   "id": "161c2d2e-f0d5-43f3-beda-2954c29b8450",
   "metadata": {
    "scrolled": true,
    "tags": []
   },
   "outputs": [],
   "source": [
    "for file in list_of_files:\n",
    "    file = Path(file)\n",
    "    print(file)\n",
    "    doc = fitz.open(file)\n",
    "    \n",
    "    for page_index in range(len(doc)):\n",
    "        page = doc.load_page(page_index)\n",
    "        draft = page.search_for(\"This file is licensed to Dane Parks (dane.parks@mbakerintl.com). Download Date: 11/6/2023.\")\n",
    "\n",
    "        for rect in draft:\n",
    "            annot = page.add_redact_annot(rect)\n",
    "            page.apply_redactions(images=fitz.PDF_REDACT_IMAGE_NONE)\n",
    "        \n",
    "    doc.save(f\"{str(file.parent/('000 Edited '+str(file.stem)))}.pdf\", garbage=3, deflate=True)"
   ]
  },
  {
   "cell_type": "code",
   "execution_count": null,
   "id": "e0206dc6-4e9f-4109-8cb4-02077c4a34e8",
   "metadata": {
    "tags": []
   },
   "outputs": [],
   "source": [
    "# Files that failed for some reason\n",
    "print(list_of_files[12])\n",
    "print(list_of_files[14])\n",
    "print(list_of_files[15])\n",
    "print(list_of_files[17])"
   ]
  },
  {
   "cell_type": "code",
   "execution_count": null,
   "id": "2c4ccf64-ede5-4181-9581-58d241e63226",
   "metadata": {},
   "outputs": [],
   "source": [
    "list_of_files"
   ]
  },
  {
   "cell_type": "markdown",
   "id": "9c02cea5-17c2-421c-9249-4eb6443eb2bc",
   "metadata": {
    "tags": []
   },
   "source": [
    "# Moving Bookmarks from One PDF to Another"
   ]
  },
  {
   "cell_type": "code",
   "execution_count": null,
   "id": "7602d214-2831-44ad-8e11-ac3c89aeaa0f",
   "metadata": {},
   "outputs": [],
   "source": [
    "doc1 = fitz.open(r\"D:\\Jetbrains\\PycharmProjects\\civilpy\\Notebooks\\output\\AREMA_Removed_License.pdf\")\n",
    "doc2 = fitz.open(r\"D:\\MB Projects\\HBG 3rd mainline\\Load Rating\\AREMA 2023 Full Manual.pdf\")"
   ]
  },
  {
   "cell_type": "code",
   "execution_count": null,
   "id": "85b9770a-39e9-4e80-bf6c-c7ab2d0e906d",
   "metadata": {},
   "outputs": [],
   "source": [
    "toc1 = doc1.get_toc(False)"
   ]
  },
  {
   "cell_type": "code",
   "execution_count": null,
   "id": "cf8c1911-a382-4af0-aa1e-9dfd42a9bf7f",
   "metadata": {},
   "outputs": [],
   "source": [
    "doc2.set_toc(toc1)"
   ]
  },
  {
   "cell_type": "code",
   "execution_count": null,
   "id": "94af7d3a-1989-4863-a384-46331d3581de",
   "metadata": {},
   "outputs": [],
   "source": [
    "doc2.save(r\"D:\\MB Projects\\HBG 3rd mainline\\Load Rating\\AREMA 2023 Full Manual2.pdf\")"
   ]
  },
  {
   "cell_type": "code",
   "execution_count": null,
   "id": "cf5fbf1a-15ad-4fb2-81b6-497c425f8734",
   "metadata": {},
   "outputs": [],
   "source": []
  },
  {
   "cell_type": "code",
   "execution_count": null,
   "id": "ab71428a-88ab-483b-ba0d-7d25efc4ba4f",
   "metadata": {},
   "outputs": [],
   "source": []
  },
  {
   "cell_type": "markdown",
   "id": "0dec96c5-c1bd-4e24-a04f-47d92eb9b586",
   "metadata": {},
   "source": [
    "# Getting Text from a PDF"
   ]
  },
  {
   "cell_type": "raw",
   "id": "bc81b1e6-daf6-4bac-a024-7d8ad9490725",
   "metadata": {
    "tags": []
   },
   "source": [
    "out = open(\"output/output.txt\", \"wb\") # create a text output\n",
    "for page in doc: # iterate the document pages\n",
    "    text = page.get_text().encode(\"utf8\") # get plain text (is in UTF-8)\n",
    "    out.write(text) # write text of page\n",
    "    out.write(bytes((12,))) # write page delimiter (form feed 0x0C)\n",
    "out.close()"
   ]
  },
  {
   "cell_type": "code",
   "execution_count": null,
   "id": "0d08d0bd-5948-4b68-af8f-ab891fa5b9e9",
   "metadata": {
    "tags": []
   },
   "outputs": [],
   "source": [
    "path_to_ACI_pdf = r\"C:\\Users\\dane.parks\\Downloads\\ACI 506_2_13_Shotcrete.pdf\""
   ]
  },
  {
   "cell_type": "code",
   "execution_count": null,
   "id": "51a2ca4d-af94-43f5-ac76-51d8061571ee",
   "metadata": {
    "tags": []
   },
   "outputs": [],
   "source": [
    "doc2 = fitz.open(path_to_ACI_pdf) # open a document\n",
    "toc = doc2.get_toc(False)"
   ]
  },
  {
   "cell_type": "code",
   "execution_count": null,
   "id": "73547b19-6b8d-47a7-be5e-c03e3bfff032",
   "metadata": {
    "collapsed": true,
    "jupyter": {
     "outputs_hidden": true
    },
    "tags": []
   },
   "outputs": [],
   "source": []
  },
  {
   "cell_type": "markdown",
   "id": "73a9dda8-353d-4227-ac3e-ad574b7d85c9",
   "metadata": {},
   "source": [
    "# Locked PDFs\n",
    "\n"
   ]
  },
  {
   "cell_type": "code",
   "execution_count": null,
   "id": "51538266-868d-44be-8531-aa16cf1b140d",
   "metadata": {
    "tags": []
   },
   "outputs": [],
   "source": [
    "path_to_pdf = r\"C:\\Users\\dane.parks\\OneDrive - Michael Baker International\\Desktop\\05 - References\\Design Guides\\ACI\\546R_14.pdf\"\n",
    "\n",
    "import fitz"
   ]
  },
  {
   "cell_type": "code",
   "execution_count": null,
   "id": "9d71da6d-9fbe-445d-bcf1-056f8c1f6f84",
   "metadata": {
    "tags": []
   },
   "outputs": [],
   "source": [
    "locked_doc = fitz.open(path_to_pdf) # open a document"
   ]
  },
  {
   "cell_type": "code",
   "execution_count": null,
   "id": "48e11c03-3ac3-4a47-8f09-b57304a77c0f",
   "metadata": {
    "tags": []
   },
   "outputs": [],
   "source": [
    "locked_doc"
   ]
  },
  {
   "cell_type": "code",
   "execution_count": null,
   "id": "54283739-0524-45fe-a717-a0ddda11b6a1",
   "metadata": {
    "tags": []
   },
   "outputs": [],
   "source": [
    "locked_doc.authenticate(\"WWC6WB2X34DB3X7\")"
   ]
  },
  {
   "cell_type": "code",
   "execution_count": null,
   "id": "28d883b6-9818-45fa-9de3-98449a46e888",
   "metadata": {
    "tags": []
   },
   "outputs": [],
   "source": [
    "locked_doc.is_encrypted"
   ]
  },
  {
   "cell_type": "code",
   "execution_count": null,
   "id": "e24d70a3-d93f-4a6a-935b-f100b36d3ad1",
   "metadata": {
    "tags": []
   },
   "outputs": [],
   "source": [
    "%pip install pikepdf"
   ]
  },
  {
   "cell_type": "code",
   "execution_count": null,
   "id": "22deeba8-dbb4-4e55-b510-ef94f85f6b13",
   "metadata": {
    "tags": []
   },
   "outputs": [],
   "source": [
    "import pikepdf\n",
    "def remove_password_from_pdf(path_to_pdf, password=\"FXA92X\"):\n",
    "    pdf = pikepdf.open(path_to_pdf, password=password)\n",
    "    pdf.save(\"output/pdf_file_with_no_password.pdf\")\n",
    "\n",
    "remove_password_from_pdf(path_to_pdf=path_to_pdf)"
   ]
  },
  {
   "cell_type": "code",
   "execution_count": null,
   "id": "d0dc467e-920e-434b-b19e-401def2a285d",
   "metadata": {
    "tags": []
   },
   "outputs": [],
   "source": [
    "out = open(\"output/output.txt\", \"wb\") # create a text output\n",
    "for page in locked_doc: # iterate the document pages\n",
    "    text = page.get_text().encode(\"utf8\") # get plain text (is in UTF-8)\n",
    "    out.write(text) # write text of page\n",
    "    out.write(bytes((12,))) # write page delimiter (form feed 0x0C)\n",
    "out.close()"
   ]
  },
  {
   "cell_type": "markdown",
   "id": "1c5703ffa4d9160e",
   "metadata": {},
   "source": [
    "# Extracting PDF text"
   ]
  },
  {
   "cell_type": "code",
   "execution_count": null,
   "id": "153c1f53-27e6-4484-b189-c4a65b438ee7",
   "metadata": {
    "ExecuteTime": {
     "end_time": "2024-08-22T12:59:17.250311Z",
     "start_time": "2024-08-22T12:59:16.932784Z"
    }
   },
   "outputs": [],
   "source": [
    "import fitz  # PyMuPDF\n",
    "\n",
    "# Define the path to your PDF file\n",
    "pdf_path = r\"D:\\Jetbrains\\PycharmProjects\\civilpy\\res\\conversion_todos\\Stone Arch Bridges\\Brett Research\\1. Kim (2009) A smiplified load rating method for masonry and reinforced concrete arch bridges.pdf\"\n",
    "\n",
    "# Open the PDF file\n",
    "pdf_document = fitz.open(pdf_path)\n",
    "\n",
    "# Initialize a string to store the extracted text\n",
    "extracted_text = \"\"\n",
    "\n",
    "# Extract text from each page\n",
    "for page_num in range(len(pdf_document)):\n",
    "    page = pdf_document.load_page(page_num)\n",
    "    extracted_text += page.get_text(\"text\")\n",
    "\n",
    "# Close the PDF document\n",
    "pdf_document.close()\n",
    "\n",
    "# Print the extracted text\n",
    "print(extracted_text)\n"
   ]
  },
  {
   "cell_type": "code",
   "execution_count": null,
   "id": "e44c6ef869736d0c",
   "metadata": {},
   "outputs": [],
   "source": []
  }
 ],
 "metadata": {
  "kernelspec": {
   "display_name": "Python 3 (ipykernel)",
   "language": "python",
   "name": "python3"
  },
  "language_info": {
   "codemirror_mode": {
    "name": "ipython",
    "version": 3
   },
   "file_extension": ".py",
   "mimetype": "text/x-python",
   "name": "python",
   "nbconvert_exporter": "python",
   "pygments_lexer": "ipython3",
   "version": "3.9.21"
  }
 },
 "nbformat": 4,
 "nbformat_minor": 5
}
