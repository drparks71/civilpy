{
 "cells": [
  {
   "cell_type": "code",
   "execution_count": 14,
   "id": "976b12d2-7dc6-472e-b9c9-61d336d728b6",
   "metadata": {
    "editable": true,
    "slideshow": {
     "slide_type": ""
    },
    "tags": []
   },
   "outputs": [],
   "source": [
    "import ezdxf\n",
    "\n",
    "import numpy as np\n",
    "import sympy as smp\n",
    "import pandas as pd\n",
    "\n",
    "import matplotlib.pyplot as plt\n",
    "from scipy.integrate import dblquad\n",
    "from scipy.integrate import tplquad\n",
    "\n",
    "from civilpy.structural.steel import W, steel_tables"
   ]
  },
  {
   "cell_type": "markdown",
   "id": "a2dd7146-5608-47f5-bc1e-ba6fcb26a17c",
   "metadata": {
    "editable": true,
    "slideshow": {
     "slide_type": ""
    },
    "tags": []
   },
   "source": [
    "# Analytical Method\n",
    "\n",
    "Area moment of inertia can be calculated using geometric properties of the shape. For instance, given the I beam shape, `W44X335`"
   ]
  },
  {
   "cell_type": "code",
   "execution_count": 15,
   "id": "3bf9e7d8-29ff-4d93-a64a-d7df521167f1",
   "metadata": {
    "editable": true,
    "slideshow": {
     "slide_type": ""
    },
    "tags": []
   },
   "outputs": [],
   "source": [
    "w44x335 = W(\"W44X335\")"
   ]
  },
  {
   "cell_type": "code",
   "execution_count": 16,
   "id": "0f494c66-0b8f-41b2-9a12-cba587afa0ab",
   "metadata": {
    "editable": true,
    "slideshow": {
     "slide_type": ""
    },
    "tags": []
   },
   "outputs": [
    {
     "data": {
      "text/html": [
       "31100.0 inch<sup>4</sup>"
      ],
      "text/latex": [
       "$31100.0\\ \\mathrm{inch}^{4}$"
      ],
      "text/plain": [
       "31100.0 <Unit('inch ** 4')>"
      ]
     },
     "execution_count": 16,
     "metadata": {},
     "output_type": "execute_result"
    }
   ],
   "source": [
    "w44x335.I_x"
   ]
  },
  {
   "cell_type": "code",
   "execution_count": 18,
   "id": "75721a72-815c-4f62-b181-937174cee685",
   "metadata": {
    "editable": true,
    "slideshow": {
     "slide_type": ""
    },
    "tags": []
   },
   "outputs": [],
   "source": [
    "file_name = r\"C:\\Users\\dane.parks\\PycharmProjects\\civilpy\\Training\\res\\W44X335.dxf\"\n",
    "\n",
    "doc = ezdxf.readfile(file_name)"
   ]
  },
  {
   "cell_type": "code",
   "execution_count": 19,
   "id": "2f1aac9b-4a5e-4aa4-8dfb-f5e436da4d8c",
   "metadata": {
    "editable": true,
    "slideshow": {
     "slide_type": ""
    },
    "tags": []
   },
   "outputs": [
    {
     "data": {
      "text/plain": [
       "<ezdxf.document.Drawing at 0x207939dcac0>"
      ]
     },
     "execution_count": 19,
     "metadata": {},
     "output_type": "execute_result"
    }
   ],
   "source": [
    "doc."
   ]
  },
  {
   "cell_type": "code",
   "execution_count": 4,
   "id": "9216492b-6e66-41b5-ac8d-87f6201293d8",
   "metadata": {
    "editable": true,
    "slideshow": {
     "slide_type": ""
    },
    "tags": []
   },
   "outputs": [
    {
     "data": {
      "text/plain": [
       "Text(0.5, 1.0, 'Side of Spinning Top in Cylindrical Coordinates')"
      ]
     },
     "execution_count": 4,
     "metadata": {},
     "output_type": "execute_result"
    },
    {
     "data": {
      "image/png": "[encoded data removed]",
      "text/plain": [
       "<Figure size 400x400 with 1 Axes>"
      ]
     },
     "metadata": {},
     "output_type": "display_data"
    }
   ],
   "source": [
    "plt.figure(figsize=(4, 4))\n",
    "plt.plot(np.insert(A * np.cos(t), 0, 0), np.insert(A * np.sin(t), 0, 0))\n",
    "plt.xlim(-1.5, 1.5)\n",
    "plt.ylim(-1.5, 1.5)\n",
    "plt.grid()\n",
    "plt.ylabel(\"$z/R_0$\", fontsize=30)\n",
    "plt.xlabel(\"$r/R_0$\", fontsize=30)\n",
    "plt.title(\"Side of Spinning Top in Cylindrical Coordinates\")"
   ]
  },
  {
   "cell_type": "markdown",
   "id": "77aa3d3d-b088-4093-8dca-e3994c57e6b8",
   "metadata": {
    "editable": true,
    "slideshow": {
     "slide_type": ""
    },
    "tags": []
   },
   "source": [
    "The kinetic energy of the spinning top (with its tip fixed on the plane is given by\n",
    "\n",
    "$$ \n",
    "T = \\frac{1}{2}\\omega^TI\\omega = \\frac{1}{2}[\\omega_x \\omega_y \\omega_z] \n",
    "\\begin{bmatrix}     \n",
    "    I_x & I_xy & I_xz^2 \\\\\n",
    "    1 & y & y^2 \\\\\n",
    "    1 & z & z^2     \n",
    "\\end{bmatrix}\n",
    "\\begin{bmatrix}\n",
    "    \\omega_x \\\\\n",
    "    \\omega_y \\\\\n",
    "    \\omega_z\n",
    "\\end{bmatrix}\n",
    "$$"
   ]
  },
  {
   "cell_type": "markdown",
   "id": "11267454-4918-4bb9-98dc-3cafb68fb00f",
   "metadata": {
    "editable": true,
    "slideshow": {
     "slide_type": ""
    },
    "tags": []
   },
   "source": [
    "Note that this matrix is symmetric so there are 6 unique parameters. We will find $I_x$, $I_y$, and $I_z$ and show that all off diagonal terms (such as $I_{xy}$) are 0. Furthermore, since moment of intertias are typically given by  \n",
    "\n",
    "$$ I = ... MR_0^2 $$\n",
    "\n",
    "for some characteristic length $R_0$ and mass $M$, we're also going to want to find the mass $M$"
   ]
  },
  {
   "cell_type": "code",
   "execution_count": null,
   "id": "8bc7c992-5228-4662-897d-65fe9f9c3d53",
   "metadata": {
    "editable": true,
    "slideshow": {
     "slide_type": ""
    },
    "tags": []
   },
   "outputs": [],
   "source": []
  }
 ],
 "metadata": {
  "kernelspec": {
   "display_name": "Python 3 (ipykernel)",
   "language": "python",
   "name": "python3"
  },
  "language_info": {
   "codemirror_mode": {
    "name": "ipython",
    "version": 3
   },
   "file_extension": ".py",
   "mimetype": "text/x-python",
   "name": "python",
   "nbconvert_exporter": "python",
   "pygments_lexer": "ipython3",
   "version": "3.10.13"
  }
 },
 "nbformat": 4,
 "nbformat_minor": 5
}
