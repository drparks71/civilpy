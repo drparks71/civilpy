{
 "cells": [
  {
   "cell_type": "markdown",
   "id": "f445751c-773d-4f8c-873e-c9dcc4abc36f",
   "metadata": {},
   "source": [
    "# Loading the File Into Python and Importing Libraries"
   ]
  },
  {
   "cell_type": "code",
   "execution_count": 1,
   "id": "4e51f9ac-8f3a-462d-bc03-957cde9645d3",
   "metadata": {},
   "outputs": [],
   "source": [
    "path_to_pdf = r\"C:\\Users\\dane.parks\\PycharmProjects\\civilpy\\Notebooks\\res\\temp\\Enola_Structure_QC.pdf\"\n",
    "path_to_original_pdf = r\"C:\\Users\\dane.parks\\PycharmProjects\\civilpy\\Notebooks\\res\\temp\\Locked Manual.pdf\""
   ]
  },
  {
   "cell_type": "code",
   "execution_count": 2,
   "id": "4e695777-c2e7-4a38-9f15-30c1c33dd7ca",
   "metadata": {
    "tags": []
   },
   "outputs": [],
   "source": [
    "import os\n",
    "import fitz\n",
    "import copy\n",
    "from pathlib import Path\n",
    "\n",
    "# Uncomment and delete next cell after update pushes\n",
    "# from civilpy.CLI import bcolors\n",
    "\n",
    "doc = fitz.open(path_to_pdf) # open a document"
   ]
  },
  {
   "cell_type": "markdown",
   "id": "2756f837-f3c9-4055-94a6-ae7baf549de9",
   "metadata": {},
   "source": [
    "# General Document Checks"
   ]
  },
  {
   "cell_type": "code",
   "execution_count": 3,
   "id": "b10676c5-33a6-4f2b-ae9d-9cedb982484a",
   "metadata": {
    "tags": []
   },
   "outputs": [],
   "source": [
    "class bcolors:\n",
    "    HEADER = '\\033[95m'\n",
    "    OKBLUE = '\\033[94m'\n",
    "    OKCYAN = '\\033[96m'\n",
    "    OKGREEN = '\\033[92m'\n",
    "    WARNING = '\\033[93m'\n",
    "    FAIL = '\\033[91m'\n",
    "    ENDC = '\\033[0m'\n",
    "    BOLD = '\\033[1m'\n",
    "    UNDERLINE = '\\033[4m'"
   ]
  },
  {
   "cell_type": "code",
   "execution_count": 4,
   "id": "3fa43336-4452-4221-bd89-0a6f4731707b",
   "metadata": {
    "tags": []
   },
   "outputs": [],
   "source": [
    "def check_bookmarks(toc):\n",
    "    all_bookmarks = [*range(len(doc))[1:], len(doc)]\n",
    "    bookmark_parent_sections = []\n",
    "    print(f\"Checking {len(doc)} Bookmarks...\")\n",
    "    \n",
    "    # Check that there is only 1 bookmark to each sheet\n",
    "    for index, bookmark in enumerate(toc):\n",
    "        if bookmark[2] == -1:\n",
    "            bookmark_parent_sections.append(bookmark[1])\n",
    "        elif not all_bookmarks:\n",
    "            print(f\"{bcolors.WARNING}Duplicate bookmark: {bookmark}{bcolors.ENDC}\")\n",
    "        else:\n",
    "            try:\n",
    "                all_bookmarks.remove(bookmark[2])\n",
    "            except Exception as e:\n",
    "                print(f\"\\n{bcolors.FAIL}Multiple Bookmarks are pointing to the same page: \\n{bookmark[1], index, e}{bcolors.ENDC}\")\n",
    "                return all_bookmarks\n",
    "    \n",
    "    print(f\"\\nFound {len(bookmark_parent_sections)} sections of the document: \")\n",
    "    print([f\"{x}\" for x in bookmark_parent_sections])\n",
    "    \n",
    "    # Return the Parent Sections of the PDF document\n",
    "    return all_bookmarks, bookmark_parent_sections"
   ]
  },
  {
   "cell_type": "markdown",
   "id": "573f40d6-a0b3-4ef1-ae5a-06ff4a8ad37a",
   "metadata": {},
   "source": [
    "## MetaData"
   ]
  },
  {
   "cell_type": "code",
   "execution_count": 5,
   "id": "792c0350-e74d-4c8a-a8b0-a3d57cdde300",
   "metadata": {},
   "outputs": [],
   "source": [
    "def check_metadata_for_title(doc):\n",
    "    if doc.metadata['title'] == '':\n",
    "        print(f\"\\n{bcolors.WARNING}Document has no Title in metadata{bcolors.ENDC}\")\n",
    "    else:\n",
    "        pass"
   ]
  },
  {
   "cell_type": "markdown",
   "id": "1253d4c7-ebbb-47f1-8c65-001a2b9660a3",
   "metadata": {},
   "source": [
    "## Annotations"
   ]
  },
  {
   "cell_type": "code",
   "execution_count": 6,
   "id": "93895df1-0d0d-4448-a5a5-65d967236b24",
   "metadata": {
    "tags": []
   },
   "outputs": [],
   "source": [
    "# Function to get annotations out of a page as a list\n",
    "def get_and_verify_annotations(page=None):\n",
    "    annotations = []\n",
    "\n",
    "    for annot in page.annots():  # Loop through the annotations on the page\n",
    "        annotations.append(annot)\n",
    "\n",
    "    return annotations"
   ]
  },
  {
   "cell_type": "markdown",
   "id": "c557e39b-8126-4d96-a58c-627737af74eb",
   "metadata": {},
   "source": [
    "### Decoding Annotations\n",
    "\n",
    "There are two types of annotations, \"Parent\" annotations are the original comments, \"Children\" are the support / follow up information available as an associated attribute. So when someone updates the status of a markup or creates a reply to an annotation, that would be considered a \"child\" element to the original \"parent\" comment."
   ]
  },
  {
   "cell_type": "code",
   "execution_count": 7,
   "id": "42cd6699-def5-4005-ab07-a9ed30e5f9dd",
   "metadata": {},
   "outputs": [
    {
     "data": {
      "text/plain": [
       "'Polygon' annotation on page 2 of C:\\Users\\dane.parks\\PycharmProjects\\civilpy\\Notebooks\\res\\temp\\Enola_Structure_QC.pdf"
      ]
     },
     "execution_count": 7,
     "metadata": {},
     "output_type": "execute_result"
    }
   ],
   "source": [
    "page = doc[2]\n",
    "list_of_annotations = get_and_verify_annotations(page)\n",
    "list_of_annotations[1]"
   ]
  },
  {
   "cell_type": "markdown",
   "id": "d832874c-c1d7-425f-bc3e-a8fc106fdd8b",
   "metadata": {},
   "source": [
    "### Figuring out how Annotations are related to each other\n",
    "\n",
    "Annotation 64 is a response to Annotation 8. "
   ]
  },
  {
   "cell_type": "code",
   "execution_count": 8,
   "id": "cdb006a9-d4a2-40e2-bb8b-5bdcc4aeb0f2",
   "metadata": {
    "tags": []
   },
   "outputs": [
    {
     "name": "stdout",
     "output_type": "stream",
     "text": [
      "Cloud+\n",
      "G TRACK CONTROLS- PROFILE NEEDS TO BE DROPPED\n",
      "By: MBI - L. Hoekenga on 2023-09-29 at 09:19\n",
      "ID: PAPGGOVOOOVGZYBI\n",
      "XREF: 1040\n",
      "\n",
      "Re: Reviewer Cloud+ Comment\n",
      "Not sure what this refers to. Will defer to track team. Current MVC spreadsheet and calcs show Track D location controlling for MVC, as shown in plan.\n",
      "By: kevin.mcging on 2023-10-01 at 18:11\n",
      "In Regard to comment 1040\n"
     ]
    }
   ],
   "source": [
    "# Annotation 8 - \"parent_annotations\"\n",
    "print(list_of_annotations[8].info['subject'])\n",
    "print(list_of_annotations[8].info['content'])\n",
    "print(f\"By: {list_of_annotations[8].info['title']} on {list_of_annotations[8].info['modDate'][2:6]}-{list_of_annotations[8].info['modDate'][6:8]}-{list_of_annotations[8].info['modDate'][8:10]} at {list_of_annotations[8].info['modDate'][10:12]}:{list_of_annotations[8].info['modDate'][12:14]}\")\n",
    "print(f\"ID: {list_of_annotations[8].info['id']}\")\n",
    "print(f\"XREF: {list_of_annotations[8].xref}\")\n",
    "\n",
    "# Annotation 64 - \"Not sure what this refers to. Will defer to track team. Current MVC spreadsheet and calcs show Track D location controlling for MVC, as shown in plan.\"\n",
    "print(f\"\\n{list_of_annotations[64].info['subject']}\")\n",
    "print(list_of_annotations[64].info['content'])\n",
    "print(f\"By: {list_of_annotations[64].info['title']} on {list_of_annotations[64].info['modDate'][2:6]}-{list_of_annotations[64].info['modDate'][6:8]}-{list_of_annotations[64].info['modDate'][8:10]} at {list_of_annotations[64].info['modDate'][10:12]}:{list_of_annotations[64].info['modDate'][12:14]}\")\n",
    "print(f\"In Regard to comment {list_of_annotations[64].irt_xref}\")"
   ]
  },
  {
   "cell_type": "markdown",
   "id": "82122158-82ca-4d1d-adfd-6a5821a3395f",
   "metadata": {},
   "source": [
    "Annotation 25 is a \"Status Update\" Annotation - These seem to be \"Text\" type Annotations;"
   ]
  },
  {
   "cell_type": "code",
   "execution_count": 9,
   "id": "c4d6d2f1-5c0b-4538-9a74-82f180238566",
   "metadata": {
    "tags": []
   },
   "outputs": [
    {
     "name": "stdout",
     "output_type": "stream",
     "text": [
      "Set to 1. Requires Attention\n",
      "\n"
     ]
    }
   ],
   "source": [
    "print(list_of_annotations[25].info['subject'])\n",
    "print(list_of_annotations[25].info['content'])"
   ]
  },
  {
   "attachments": {
    "2de3a096-be57-4d6d-b7f7-b0d4e27f765b.png": {
     "image/png": "[encoded data removed]"
    }
   },
   "cell_type": "markdown",
   "id": "8c98fcb3-0fc5-4cfa-891f-d56f96c3ea1f",
   "metadata": {},
   "source": [
    "There are four types of annotations on the page, three of them contain text content: status updates, responses, and original comments,\n",
    "\n",
    "![image.png](attachment:2de3a096-be57-4d6d-b7f7-b0d4e27f765b.png)"
   ]
  },
  {
   "attachments": {
    "eb9a6539-c69c-4f01-8556-159c0ff37a17.png": {
     "image/png": "[encoded data removed]"
    }
   },
   "cell_type": "markdown",
   "id": "6bf1b706-0143-4948-bcfa-aca7f477f556",
   "metadata": {},
   "source": [
    "Some markups are `orphan_markups` meaning there's no actual words, an example would be either circling an object or crossing out a value annotation, we should probably stop crossing out things.\n",
    "\n",
    "![image.png](attachment:eb9a6539-c69c-4f01-8556-159c0ff37a17.png)"
   ]
  },
  {
   "cell_type": "code",
   "execution_count": 10,
   "id": "1fe9a360-05cd-47d0-ae21-ef88169ae2e4",
   "metadata": {
    "tags": []
   },
   "outputs": [
    {
     "name": "stdout",
     "output_type": "stream",
     "text": [
      "0 - parent_annotation\n",
      "1 - associated_empty\n",
      "2 - parent_annotation\n",
      "3 - associated_empty\n",
      "4 - parent_annotation\n",
      "5 - associated_empty\n",
      "6 - parent_annotation\n",
      "7 - associated_empty\n",
      "8 - parent_annotation\n",
      "9 - parent_annotation\n",
      "10 - parent_annotation\n",
      "11 - parent_annotation\n",
      "12 - parent_annotation\n",
      "13 - associated_empty\n",
      "14 - parent_annotation\n",
      "15 - associated_empty\n",
      "16 - parent_annotation\n",
      "17 - parent_annotation\n",
      "18 - associated_empty\n",
      "19 - parent_annotation\n",
      "20 - parent_annotation\n",
      "21 - parent_annotation\n",
      "22 - parent_annotation\n",
      "23 - associated_empty\n",
      "24 - parent_annotation\n",
      "25 - status_update\n",
      "26 - status_update\n",
      "27 - status_update\n",
      "28 - response_annotation\n",
      "29 - status_update\n",
      "30 - status_update\n",
      "31 - status_update\n",
      "32 - status_update\n",
      "33 - status_update\n",
      "34 - status_update\n",
      "35 - status_update\n",
      "36 - status_update\n",
      "37 - status_update\n",
      "38 - status_update\n",
      "39 - response_annotation\n",
      "40 - status_update\n",
      "41 - status_update\n",
      "42 - status_update\n",
      "43 - response_annotation\n",
      "44 - status_update\n",
      "45 - status_update\n",
      "46 - status_update\n",
      "47 - status_update\n",
      "48 - status_update\n",
      "49 - response_annotation\n",
      "50 - status_update\n",
      "51 - status_update\n",
      "52 - status_update\n",
      "53 - status_update\n",
      "54 - status_update\n",
      "55 - status_update\n",
      "56 - status_update\n",
      "57 - status_update\n",
      "58 - status_update\n",
      "59 - status_update\n",
      "60 - status_update\n",
      "61 - status_update\n",
      "62 - status_update\n",
      "63 - response_annotation\n",
      "64 - response_annotation\n"
     ]
    }
   ],
   "source": [
    "# Define the holding lists for the four types of annotations we use\n",
    "status_update_annotations = []\n",
    "response_annotations = []\n",
    "parent_annotations = []\n",
    "associated_empties = []\n",
    "\n",
    "\n",
    "# Check if the annotation is a status update or, a response to an earlier comment\n",
    "for i in range(0, len(list_of_annotations)):\n",
    "    if str(list_of_annotations[i])[:6] == \"'Text'\" and list_of_annotations[i].info['subject'][:3] != 'Re:':\n",
    "        print(f\"{i} - status_update\")\n",
    "        status_update_annotations.append((i, list_of_annotations[i]))\n",
    "    elif str(list_of_annotations[i])[:6] == \"'Text'\" and list_of_annotations[i].info['subject'][:3] == 'Re:':\n",
    "        print(f\"{i} - response_annotation\")\n",
    "        response_annotations.append((i, list_of_annotations[i]))\n",
    "    elif list_of_annotations[i].irt_xref == 0:\n",
    "        print(f\"{i} - parent_annotation\")\n",
    "        parent_annotations.append((i, list_of_annotations[i]))\n",
    "    else:\n",
    "        print(f\"{i} - associated_empty\")\n",
    "        associated_empties.append((i, list_of_annotations[i]))"
   ]
  },
  {
   "cell_type": "code",
   "execution_count": 11,
   "id": "c37ee0c3-9a7f-4d0d-93b5-d58bb955fcb1",
   "metadata": {
    "tags": []
   },
   "outputs": [
    {
     "name": "stdout",
     "output_type": "stream",
     "text": [
      "Comments:\n",
      "add north arrow\n",
      "LOOKING UPSTATION TRACKS D&G\n",
      "THIS NEEDS TO BE FIXED.\n",
      "UPDATE\n",
      "G TRACK CONTROLS- PROFILE NEEDS TO BE DROPPED\n",
      "T/BEAM SEAT\\rELEV.\n",
      "is this correct?  should have a circle at the location.  What is 6'-0\" off the centerline of track?`\n",
      "why 0 7/8\"?  can we make it a round inch?\n",
      "what is this line?\n",
      "& PR. \n",
      "WHY IS THIS SO WIDE?  I THOUGHT WE TALKED ABOUT WINGS, NOT MAKING THE SEAT THIS WIDE....\n",
      "\n",
      "Plus 6 additional markups without comments\n"
     ]
    }
   ],
   "source": [
    "# Sorting annotations that contain no text into their own lists\n",
    "parent_comments = []\n",
    "empty_parent = []\n",
    "\n",
    "for response in parent_annotations:\n",
    "    # If the markup has no comment, move it to orphan comments\n",
    "    if response[1].info['content'] == '':\n",
    "        empty_parent.append(response)\n",
    "    else: \n",
    "        parent_comments.append(response)\n",
    "\n",
    "print(\"Comments:\")\n",
    "# Really annoying, have to escape / and \\ characters in the strings, so encode then decode does that\n",
    "print(*[x[1].info['content'].encode('unicode_escape').decode(\"utf-8\") for x in parent_comments], sep='\\n')\n",
    "print(f\"\\nPlus {len(empty_parent)} additional markups without comments\")"
   ]
  },
  {
   "cell_type": "code",
   "execution_count": 12,
   "id": "5ed96841-6afb-4ed9-9b9b-d7487849dd2c",
   "metadata": {
    "tags": []
   },
   "outputs": [
    {
     "name": "stdout",
     "output_type": "stream",
     "text": [
      "ELEV.M SEAT\n"
     ]
    }
   ],
   "source": [
    "print(parent_comments[5][1].info['content'])"
   ]
  },
  {
   "cell_type": "code",
   "execution_count": 13,
   "id": "71a7af61-2ddd-411d-ab72-edcf5d114a47",
   "metadata": {
    "tags": []
   },
   "outputs": [
    {
     "data": {
      "text/plain": [
       "'LOOKING UPSTATION TRACKS D&G'"
      ]
     },
     "execution_count": 13,
     "metadata": {},
     "output_type": "execute_result"
    }
   ],
   "source": [
    "parent_annotations[1][1].info['content']"
   ]
  },
  {
   "cell_type": "code",
   "execution_count": 14,
   "id": "cc103289-68b7-4213-8643-bdccf8f24c65",
   "metadata": {
    "tags": []
   },
   "outputs": [],
   "source": [
    "# Associating Children Annotations with their parents\n",
    "associated_comments = {}\n",
    "\n",
    "# List of child comment types\n",
    "children = status_update_annotations + response_annotations + associated_empties\n",
    "parents = empty_parent + parent_annotations\n",
    "\n",
    "for parent in parents:\n",
    "    associated_comments[parent[0]] = []\n",
    "    \n",
    "    for child in children:\n",
    "        if child[1].irt_xref == parent[1].xref:\n",
    "            associated_comments[parent[0]].append(child)"
   ]
  },
  {
   "cell_type": "code",
   "execution_count": 15,
   "id": "b3d16629-baed-4d5b-981f-50886ba06a7c",
   "metadata": {
    "tags": []
   },
   "outputs": [
    {
     "name": "stdout",
     "output_type": "stream",
     "text": [
      "No Comment - Empty Markup\n",
      "Response: Set to 2. Agree\n",
      "\n",
      "No Comment - Empty Markup\n",
      "Response: Set to 2. Agree\n",
      "\n",
      "No Comment - Empty Markup\n",
      "Response: Set to 2. Agree\n",
      "\n",
      "No Comment - Empty Markup\n",
      "Response: Set to 2. Agree\n",
      "\n",
      "No Comment - Empty Markup\n",
      "Response: Set to 2. Agree\n",
      "\n",
      "No Comment - Empty Markup\n",
      "Response: Set to 2. Agree\n",
      "\n",
      "Comment: add north arrow\n",
      "Response: Set to 2. Agree\n",
      "Response: Level was turned off - turned back on\n",
      "\n",
      "Comment: LOOKING UPSTATION TRACKS D&G\n",
      "Response: Set to 2. Agree\n",
      "Response: Reviewer Cloud+ Comment\n",
      "\n",
      "Comment: THIS NEEDS TO BE FIXED.\n",
      "Response: Set to 2. Agree\n",
      "Response: Set excavation to be 40:1 from b/cap to existing abutment wall instead. Let me know if this is an improvement.\n",
      "Response: Reviewer Cloud+ Comment\n",
      "\n",
      "Comment: UPDATE\n",
      "Response: Set to 2. Agree\n",
      "Response: Reviewer Cloud+ Comment\n",
      "\n",
      "Comment: G TRACK CONTROLS- PROFILE NEEDS TO BE DROPPED\n",
      "Response: Not sure what this refers to. Will defer to track team. Current MVC spreadsheet and calcs show Track D location controlling for MVC, as shown in plan.\n",
      "Response: Reviewer Cloud+ Comment\n",
      "\n",
      "ELEV.nt: T/BEAM SEAT\n",
      "Response: Set to 2. Agree\n",
      "\n",
      "Comment: is this correct?  should have a circle at the location.  What is 6'-0\" off the centerline of track?`\n",
      "Response: Set to 2. Agree\n",
      "Response: Updated minimum vertical clearance dimension based on the updated Track D location.\n",
      "Response: Reviewer Cloud+ Comment\n",
      "\n",
      "Comment: why 0 7/8\"?  can we make it a round inch?\n",
      "Response: Set to 2. Agree\n",
      "Response: Reviewer Cloud+ Comment\n",
      "\n",
      "Comment: what is this line?\n",
      "Response: Set to 2. Agree\n",
      "Response: This line is drawn at the limits of the contours, I can't turn off without turning off all contours. Discussing with Kaylin\n",
      "Response: Reviewer Cloud+ Comment\n",
      "\n",
      "Comment: & PR. \n",
      "Response: Set to 2. Agree\n",
      "\n",
      "Comment: WHY IS THIS SO WIDE?  I THOUGHT WE TALKED ABOUT WINGS, NOT MAKING THE SEAT THIS WIDE....\n",
      "Response: Set to 2. Stet - No Action Required\n",
      "Response: Per conversation with Josh, beam seat extended out to simplify geometry of precast beam seat. Could save money by reducing concrete quantity, but would cost extra to design a revised \n",
      "Response: Reviewer Cloud+ Comment\n",
      "\n"
     ]
    }
   ],
   "source": [
    "# Go through the list of every value \n",
    "for key, values in associated_comments.items():\n",
    "    if list_of_annotations[key].info['content'] == '':\n",
    "        print(\"No Comment - Empty Markup\")\n",
    "    else:\n",
    "        print(f\"Comment: {list_of_annotations[key].info['content']}\")\n",
    "    \n",
    "    for value in values:\n",
    "        if value[1].info['content'] == '':\n",
    "            print(f\"Response: {list_of_annotations[value[0]].info['subject']}\")\n",
    "        else:\n",
    "            print(f\"Response: {list_of_annotations[value[0]].info['content']}\")\n",
    "    \n",
    "    print(\"\")"
   ]
  },
  {
   "cell_type": "code",
   "execution_count": null,
   "id": "d576f6e0-e9d6-4f5f-a4d7-8aa5fa0d8c97",
   "metadata": {
    "tags": []
   },
   "outputs": [],
   "source": []
  },
  {
   "cell_type": "code",
   "execution_count": 16,
   "id": "66188cef-87d0-4b71-87ff-4736c35a4d05",
   "metadata": {
    "tags": []
   },
   "outputs": [
    {
     "name": "stdout",
     "output_type": "stream",
     "text": [
      "52 'Text' annotation on page 2 of C:\\Users\\dane.parks\\PycharmProjects\\civilpy\\Notebooks\\res\\temp\\Enola_Structure_QC.pdf\n"
     ]
    }
   ],
   "source": [
    "for i, annot in enumerate(list_of_annotations):\n",
    "    if annot.irt_xref == 1041:\n",
    "        print(i, annot)"
   ]
  },
  {
   "cell_type": "code",
   "execution_count": 17,
   "id": "4c988cf3-a5a1-4c32-a454-64c097b4a459",
   "metadata": {
    "tags": []
   },
   "outputs": [
    {
     "data": {
      "text/plain": [
       "{9: [(52,\n",
       "   'Text' annotation on page 2 of C:\\Users\\dane.parks\\PycharmProjects\\civilpy\\Notebooks\\res\\temp\\Enola_Structure_QC.pdf)],\n",
       " 10: [(53,\n",
       "   'Text' annotation on page 2 of C:\\Users\\dane.parks\\PycharmProjects\\civilpy\\Notebooks\\res\\temp\\Enola_Structure_QC.pdf)],\n",
       " 11: [(54,\n",
       "   'Text' annotation on page 2 of C:\\Users\\dane.parks\\PycharmProjects\\civilpy\\Notebooks\\res\\temp\\Enola_Structure_QC.pdf)],\n",
       " 17: [(36,\n",
       "   'Text' annotation on page 2 of C:\\Users\\dane.parks\\PycharmProjects\\civilpy\\Notebooks\\res\\temp\\Enola_Structure_QC.pdf)],\n",
       " 20: [(31,\n",
       "   'Text' annotation on page 2 of C:\\Users\\dane.parks\\PycharmProjects\\civilpy\\Notebooks\\res\\temp\\Enola_Structure_QC.pdf)],\n",
       " 21: [(32,\n",
       "   'Text' annotation on page 2 of C:\\Users\\dane.parks\\PycharmProjects\\civilpy\\Notebooks\\res\\temp\\Enola_Structure_QC.pdf)],\n",
       " 0: [(44,\n",
       "   'Text' annotation on page 2 of C:\\Users\\dane.parks\\PycharmProjects\\civilpy\\Notebooks\\res\\temp\\Enola_Structure_QC.pdf),\n",
       "  (28,\n",
       "   'Text' annotation on page 2 of C:\\Users\\dane.parks\\PycharmProjects\\civilpy\\Notebooks\\res\\temp\\Enola_Structure_QC.pdf)],\n",
       " 2: [(46,\n",
       "   'Text' annotation on page 2 of C:\\Users\\dane.parks\\PycharmProjects\\civilpy\\Notebooks\\res\\temp\\Enola_Structure_QC.pdf),\n",
       "  (1,\n",
       "   'Polygon' annotation on page 2 of C:\\Users\\dane.parks\\PycharmProjects\\civilpy\\Notebooks\\res\\temp\\Enola_Structure_QC.pdf)],\n",
       " 4: [(61,\n",
       "   'Text' annotation on page 2 of C:\\Users\\dane.parks\\PycharmProjects\\civilpy\\Notebooks\\res\\temp\\Enola_Structure_QC.pdf),\n",
       "  (63,\n",
       "   'Text' annotation on page 2 of C:\\Users\\dane.parks\\PycharmProjects\\civilpy\\Notebooks\\res\\temp\\Enola_Structure_QC.pdf),\n",
       "  (3,\n",
       "   'Polygon' annotation on page 2 of C:\\Users\\dane.parks\\PycharmProjects\\civilpy\\Notebooks\\res\\temp\\Enola_Structure_QC.pdf)],\n",
       " 6: [(51,\n",
       "   'Text' annotation on page 2 of C:\\Users\\dane.parks\\PycharmProjects\\civilpy\\Notebooks\\res\\temp\\Enola_Structure_QC.pdf),\n",
       "  (5,\n",
       "   'Polygon' annotation on page 2 of C:\\Users\\dane.parks\\PycharmProjects\\civilpy\\Notebooks\\res\\temp\\Enola_Structure_QC.pdf)],\n",
       " 8: [(64,\n",
       "   'Text' annotation on page 2 of C:\\Users\\dane.parks\\PycharmProjects\\civilpy\\Notebooks\\res\\temp\\Enola_Structure_QC.pdf),\n",
       "  (7,\n",
       "   'Polygon' annotation on page 2 of C:\\Users\\dane.parks\\PycharmProjects\\civilpy\\Notebooks\\res\\temp\\Enola_Structure_QC.pdf)],\n",
       " 12: [(55,\n",
       "   'Text' annotation on page 2 of C:\\Users\\dane.parks\\PycharmProjects\\civilpy\\Notebooks\\res\\temp\\Enola_Structure_QC.pdf)],\n",
       " 14: [(35,\n",
       "   'Text' annotation on page 2 of C:\\Users\\dane.parks\\PycharmProjects\\civilpy\\Notebooks\\res\\temp\\Enola_Structure_QC.pdf),\n",
       "  (39,\n",
       "   'Text' annotation on page 2 of C:\\Users\\dane.parks\\PycharmProjects\\civilpy\\Notebooks\\res\\temp\\Enola_Structure_QC.pdf),\n",
       "  (13,\n",
       "   'Polygon' annotation on page 2 of C:\\Users\\dane.parks\\PycharmProjects\\civilpy\\Notebooks\\res\\temp\\Enola_Structure_QC.pdf)],\n",
       " 16: [(29,\n",
       "   'Text' annotation on page 2 of C:\\Users\\dane.parks\\PycharmProjects\\civilpy\\Notebooks\\res\\temp\\Enola_Structure_QC.pdf),\n",
       "  (15,\n",
       "   'Polygon' annotation on page 2 of C:\\Users\\dane.parks\\PycharmProjects\\civilpy\\Notebooks\\res\\temp\\Enola_Structure_QC.pdf)],\n",
       " 19: [(48,\n",
       "   'Text' annotation on page 2 of C:\\Users\\dane.parks\\PycharmProjects\\civilpy\\Notebooks\\res\\temp\\Enola_Structure_QC.pdf),\n",
       "  (49,\n",
       "   'Text' annotation on page 2 of C:\\Users\\dane.parks\\PycharmProjects\\civilpy\\Notebooks\\res\\temp\\Enola_Structure_QC.pdf),\n",
       "  (18,\n",
       "   'Polygon' annotation on page 2 of C:\\Users\\dane.parks\\PycharmProjects\\civilpy\\Notebooks\\res\\temp\\Enola_Structure_QC.pdf)],\n",
       " 22: [(40,\n",
       "   'Text' annotation on page 2 of C:\\Users\\dane.parks\\PycharmProjects\\civilpy\\Notebooks\\res\\temp\\Enola_Structure_QC.pdf)],\n",
       " 24: [(42,\n",
       "   'Text' annotation on page 2 of C:\\Users\\dane.parks\\PycharmProjects\\civilpy\\Notebooks\\res\\temp\\Enola_Structure_QC.pdf),\n",
       "  (43,\n",
       "   'Text' annotation on page 2 of C:\\Users\\dane.parks\\PycharmProjects\\civilpy\\Notebooks\\res\\temp\\Enola_Structure_QC.pdf),\n",
       "  (23,\n",
       "   'Polygon' annotation on page 2 of C:\\Users\\dane.parks\\PycharmProjects\\civilpy\\Notebooks\\res\\temp\\Enola_Structure_QC.pdf)]}"
      ]
     },
     "execution_count": 17,
     "metadata": {},
     "output_type": "execute_result"
    }
   ],
   "source": [
    "associated_comments"
   ]
  },
  {
   "cell_type": "code",
   "execution_count": 18,
   "id": "7e539a06-d4c2-4972-ae6f-8b4132b4a6c2",
   "metadata": {
    "tags": []
   },
   "outputs": [
    {
     "name": "stdout",
     "output_type": "stream",
     "text": [
      "0\n",
      "0\n",
      "0\n",
      "0\n",
      "0\n",
      "0\n"
     ]
    }
   ],
   "source": [
    "for i in range(len(empty_parent)):\n",
    "    print(empty_parent[i][1].irt_xref)"
   ]
  },
  {
   "cell_type": "code",
   "execution_count": 19,
   "id": "a79cf0d2-1263-491c-a579-24bf231da8ac",
   "metadata": {
    "tags": []
   },
   "outputs": [
    {
     "data": {
      "text/plain": [
       "[(25,\n",
       "  'Text' annotation on page 2 of C:\\Users\\dane.parks\\PycharmProjects\\civilpy\\Notebooks\\res\\temp\\Enola_Structure_QC.pdf),\n",
       " (26,\n",
       "  'Text' annotation on page 2 of C:\\Users\\dane.parks\\PycharmProjects\\civilpy\\Notebooks\\res\\temp\\Enola_Structure_QC.pdf),\n",
       " (27,\n",
       "  'Text' annotation on page 2 of C:\\Users\\dane.parks\\PycharmProjects\\civilpy\\Notebooks\\res\\temp\\Enola_Structure_QC.pdf),\n",
       " (29,\n",
       "  'Text' annotation on page 2 of C:\\Users\\dane.parks\\PycharmProjects\\civilpy\\Notebooks\\res\\temp\\Enola_Structure_QC.pdf),\n",
       " (30,\n",
       "  'Text' annotation on page 2 of C:\\Users\\dane.parks\\PycharmProjects\\civilpy\\Notebooks\\res\\temp\\Enola_Structure_QC.pdf),\n",
       " (31,\n",
       "  'Text' annotation on page 2 of C:\\Users\\dane.parks\\PycharmProjects\\civilpy\\Notebooks\\res\\temp\\Enola_Structure_QC.pdf),\n",
       " (32,\n",
       "  'Text' annotation on page 2 of C:\\Users\\dane.parks\\PycharmProjects\\civilpy\\Notebooks\\res\\temp\\Enola_Structure_QC.pdf),\n",
       " (33,\n",
       "  'Text' annotation on page 2 of C:\\Users\\dane.parks\\PycharmProjects\\civilpy\\Notebooks\\res\\temp\\Enola_Structure_QC.pdf),\n",
       " (34,\n",
       "  'Text' annotation on page 2 of C:\\Users\\dane.parks\\PycharmProjects\\civilpy\\Notebooks\\res\\temp\\Enola_Structure_QC.pdf),\n",
       " (35,\n",
       "  'Text' annotation on page 2 of C:\\Users\\dane.parks\\PycharmProjects\\civilpy\\Notebooks\\res\\temp\\Enola_Structure_QC.pdf),\n",
       " (36,\n",
       "  'Text' annotation on page 2 of C:\\Users\\dane.parks\\PycharmProjects\\civilpy\\Notebooks\\res\\temp\\Enola_Structure_QC.pdf),\n",
       " (37,\n",
       "  'Text' annotation on page 2 of C:\\Users\\dane.parks\\PycharmProjects\\civilpy\\Notebooks\\res\\temp\\Enola_Structure_QC.pdf),\n",
       " (38,\n",
       "  'Text' annotation on page 2 of C:\\Users\\dane.parks\\PycharmProjects\\civilpy\\Notebooks\\res\\temp\\Enola_Structure_QC.pdf),\n",
       " (40,\n",
       "  'Text' annotation on page 2 of C:\\Users\\dane.parks\\PycharmProjects\\civilpy\\Notebooks\\res\\temp\\Enola_Structure_QC.pdf),\n",
       " (41,\n",
       "  'Text' annotation on page 2 of C:\\Users\\dane.parks\\PycharmProjects\\civilpy\\Notebooks\\res\\temp\\Enola_Structure_QC.pdf),\n",
       " (42,\n",
       "  'Text' annotation on page 2 of C:\\Users\\dane.parks\\PycharmProjects\\civilpy\\Notebooks\\res\\temp\\Enola_Structure_QC.pdf),\n",
       " (44,\n",
       "  'Text' annotation on page 2 of C:\\Users\\dane.parks\\PycharmProjects\\civilpy\\Notebooks\\res\\temp\\Enola_Structure_QC.pdf),\n",
       " (45,\n",
       "  'Text' annotation on page 2 of C:\\Users\\dane.parks\\PycharmProjects\\civilpy\\Notebooks\\res\\temp\\Enola_Structure_QC.pdf),\n",
       " (46,\n",
       "  'Text' annotation on page 2 of C:\\Users\\dane.parks\\PycharmProjects\\civilpy\\Notebooks\\res\\temp\\Enola_Structure_QC.pdf),\n",
       " (47,\n",
       "  'Text' annotation on page 2 of C:\\Users\\dane.parks\\PycharmProjects\\civilpy\\Notebooks\\res\\temp\\Enola_Structure_QC.pdf),\n",
       " (48,\n",
       "  'Text' annotation on page 2 of C:\\Users\\dane.parks\\PycharmProjects\\civilpy\\Notebooks\\res\\temp\\Enola_Structure_QC.pdf),\n",
       " (50,\n",
       "  'Text' annotation on page 2 of C:\\Users\\dane.parks\\PycharmProjects\\civilpy\\Notebooks\\res\\temp\\Enola_Structure_QC.pdf),\n",
       " (51,\n",
       "  'Text' annotation on page 2 of C:\\Users\\dane.parks\\PycharmProjects\\civilpy\\Notebooks\\res\\temp\\Enola_Structure_QC.pdf),\n",
       " (52,\n",
       "  'Text' annotation on page 2 of C:\\Users\\dane.parks\\PycharmProjects\\civilpy\\Notebooks\\res\\temp\\Enola_Structure_QC.pdf),\n",
       " (53,\n",
       "  'Text' annotation on page 2 of C:\\Users\\dane.parks\\PycharmProjects\\civilpy\\Notebooks\\res\\temp\\Enola_Structure_QC.pdf),\n",
       " (54,\n",
       "  'Text' annotation on page 2 of C:\\Users\\dane.parks\\PycharmProjects\\civilpy\\Notebooks\\res\\temp\\Enola_Structure_QC.pdf),\n",
       " (55,\n",
       "  'Text' annotation on page 2 of C:\\Users\\dane.parks\\PycharmProjects\\civilpy\\Notebooks\\res\\temp\\Enola_Structure_QC.pdf),\n",
       " (56,\n",
       "  'Text' annotation on page 2 of C:\\Users\\dane.parks\\PycharmProjects\\civilpy\\Notebooks\\res\\temp\\Enola_Structure_QC.pdf),\n",
       " (57,\n",
       "  'Text' annotation on page 2 of C:\\Users\\dane.parks\\PycharmProjects\\civilpy\\Notebooks\\res\\temp\\Enola_Structure_QC.pdf),\n",
       " (58,\n",
       "  'Text' annotation on page 2 of C:\\Users\\dane.parks\\PycharmProjects\\civilpy\\Notebooks\\res\\temp\\Enola_Structure_QC.pdf),\n",
       " (59,\n",
       "  'Text' annotation on page 2 of C:\\Users\\dane.parks\\PycharmProjects\\civilpy\\Notebooks\\res\\temp\\Enola_Structure_QC.pdf),\n",
       " (60,\n",
       "  'Text' annotation on page 2 of C:\\Users\\dane.parks\\PycharmProjects\\civilpy\\Notebooks\\res\\temp\\Enola_Structure_QC.pdf),\n",
       " (61,\n",
       "  'Text' annotation on page 2 of C:\\Users\\dane.parks\\PycharmProjects\\civilpy\\Notebooks\\res\\temp\\Enola_Structure_QC.pdf),\n",
       " (62,\n",
       "  'Text' annotation on page 2 of C:\\Users\\dane.parks\\PycharmProjects\\civilpy\\Notebooks\\res\\temp\\Enola_Structure_QC.pdf),\n",
       " (28,\n",
       "  'Text' annotation on page 2 of C:\\Users\\dane.parks\\PycharmProjects\\civilpy\\Notebooks\\res\\temp\\Enola_Structure_QC.pdf),\n",
       " (39,\n",
       "  'Text' annotation on page 2 of C:\\Users\\dane.parks\\PycharmProjects\\civilpy\\Notebooks\\res\\temp\\Enola_Structure_QC.pdf),\n",
       " (43,\n",
       "  'Text' annotation on page 2 of C:\\Users\\dane.parks\\PycharmProjects\\civilpy\\Notebooks\\res\\temp\\Enola_Structure_QC.pdf),\n",
       " (49,\n",
       "  'Text' annotation on page 2 of C:\\Users\\dane.parks\\PycharmProjects\\civilpy\\Notebooks\\res\\temp\\Enola_Structure_QC.pdf),\n",
       " (63,\n",
       "  'Text' annotation on page 2 of C:\\Users\\dane.parks\\PycharmProjects\\civilpy\\Notebooks\\res\\temp\\Enola_Structure_QC.pdf),\n",
       " (64,\n",
       "  'Text' annotation on page 2 of C:\\Users\\dane.parks\\PycharmProjects\\civilpy\\Notebooks\\res\\temp\\Enola_Structure_QC.pdf),\n",
       " (1,\n",
       "  'Polygon' annotation on page 2 of C:\\Users\\dane.parks\\PycharmProjects\\civilpy\\Notebooks\\res\\temp\\Enola_Structure_QC.pdf),\n",
       " (3,\n",
       "  'Polygon' annotation on page 2 of C:\\Users\\dane.parks\\PycharmProjects\\civilpy\\Notebooks\\res\\temp\\Enola_Structure_QC.pdf),\n",
       " (5,\n",
       "  'Polygon' annotation on page 2 of C:\\Users\\dane.parks\\PycharmProjects\\civilpy\\Notebooks\\res\\temp\\Enola_Structure_QC.pdf),\n",
       " (7,\n",
       "  'Polygon' annotation on page 2 of C:\\Users\\dane.parks\\PycharmProjects\\civilpy\\Notebooks\\res\\temp\\Enola_Structure_QC.pdf),\n",
       " (13,\n",
       "  'Polygon' annotation on page 2 of C:\\Users\\dane.parks\\PycharmProjects\\civilpy\\Notebooks\\res\\temp\\Enola_Structure_QC.pdf),\n",
       " (15,\n",
       "  'Polygon' annotation on page 2 of C:\\Users\\dane.parks\\PycharmProjects\\civilpy\\Notebooks\\res\\temp\\Enola_Structure_QC.pdf),\n",
       " (18,\n",
       "  'Polygon' annotation on page 2 of C:\\Users\\dane.parks\\PycharmProjects\\civilpy\\Notebooks\\res\\temp\\Enola_Structure_QC.pdf),\n",
       " (23,\n",
       "  'Polygon' annotation on page 2 of C:\\Users\\dane.parks\\PycharmProjects\\civilpy\\Notebooks\\res\\temp\\Enola_Structure_QC.pdf)]"
      ]
     },
     "execution_count": 19,
     "metadata": {},
     "output_type": "execute_result"
    }
   ],
   "source": [
    "children"
   ]
  },
  {
   "cell_type": "code",
   "execution_count": 20,
   "id": "0b73f55e-2339-4ef8-831e-f2101666c49f",
   "metadata": {
    "tags": []
   },
   "outputs": [
    {
     "name": "stdout",
     "output_type": "stream",
     "text": [
      "\n",
      "Annotation 0\n",
      "add north arrow\n",
      "Reviewer Comment Callout\n",
      "Top level annotation\n",
      "\n",
      "Annotation 1\n",
      "\n",
      "Reviewer Cloud+ Comment\n",
      "Child to DTPLXPRDFJUJLIPS\n",
      "\n",
      "Annotation 2\n",
      "LOOKING UPSTATION TRACKS D&G\n",
      "Cloud+\n",
      "Child to DTPLXPRDFJUJLIPS\n",
      "\n",
      "Annotation 3\n",
      "\n",
      "Reviewer Cloud+ Comment\n",
      "Child to DTPLXPRDFJUJLIPS\n",
      "\n",
      "Annotation 4\n",
      "THIS NEEDS TO BE FIXED.\n",
      "Cloud+\n",
      "Child to DTPLXPRDFJUJLIPS\n",
      "\n",
      "Annotation 5\n",
      "\n",
      "Reviewer Cloud+ Comment\n",
      "Child to DTPLXPRDFJUJLIPS\n",
      "\n",
      "Annotation 6\n",
      "UPDATE\n",
      "Cloud+\n",
      "Child to DTPLXPRDFJUJLIPS\n",
      "\n",
      "Annotation 7\n",
      "\n",
      "Reviewer Cloud+ Comment\n",
      "Child to DTPLXPRDFJUJLIPS\n",
      "\n",
      "Annotation 8\n",
      "G TRACK CONTROLS- PROFILE NEEDS TO BE DROPPED\n",
      "Cloud+\n",
      "Child to DTPLXPRDFJUJLIPS\n",
      "\n",
      "Annotation 9\n",
      "\n",
      "Line\n",
      "Child to DTPLXPRDFJUJLIPS\n",
      "\n",
      "Annotation 10\n",
      "\n",
      "Line\n",
      "Child to DTPLXPRDFJUJLIPS\n",
      "\n",
      "Annotation 11\n",
      "\n",
      "PolyLine\n",
      "Child to DTPLXPRDFJUJLIPS\n",
      "\n",
      "Annotation 12\n",
      "ELEV.M SEAT\n",
      "Reviewer Text\n",
      "Child to DTPLXPRDFJUJLIPS\n",
      "\n",
      "Annotation 13\n",
      "\n",
      "Reviewer Cloud+ Comment\n",
      "Child to DTPLXPRDFJUJLIPS\n",
      "\n",
      "Annotation 14\n",
      "is this correct?  should have a circle at the location.  What is 6'-0\" off the centerline of track?`\n",
      "Cloud+\n",
      "Child to DTPLXPRDFJUJLIPS\n",
      "\n",
      "Annotation 15\n",
      "\n",
      "Reviewer Cloud+ Comment\n",
      "Child to DTPLXPRDFJUJLIPS\n",
      "\n",
      "Annotation 16\n",
      "why 0 7/8\"?  can we make it a round inch?\n",
      "Cloud+\n",
      "Child to DTPLXPRDFJUJLIPS\n",
      "\n",
      "Annotation 17\n",
      "\n",
      "Ellipse\n",
      "Child to DTPLXPRDFJUJLIPS\n",
      "\n",
      "Annotation 18\n",
      "\n",
      "Reviewer Cloud+ Comment\n",
      "Child to DTPLXPRDFJUJLIPS\n",
      "\n",
      "Annotation 19\n",
      "what is this line?\n",
      "Cloud+\n",
      "Child to DTPLXPRDFJUJLIPS\n",
      "\n",
      "Annotation 20\n",
      "\n",
      "Line\n",
      "Child to DTPLXPRDFJUJLIPS\n",
      "\n",
      "Annotation 21\n",
      "\n",
      "Line\n",
      "Child to DTPLXPRDFJUJLIPS\n",
      "\n",
      "Annotation 22\n",
      "& PR. \n",
      "Reviewer Callout\n",
      "Child to DTPLXPRDFJUJLIPS\n",
      "\n",
      "Annotation 23\n",
      "\n",
      "Reviewer Cloud+ Comment\n",
      "Child to DTPLXPRDFJUJLIPS\n",
      "\n",
      "Annotation 24\n",
      "WHY IS THIS SO WIDE?  I THOUGHT WE TALKED ABOUT WINGS, NOT MAKING THE SEAT THIS WIDE....\n",
      "Cloud+\n",
      "Child to DTPLXPRDFJUJLIPS\n",
      "\n",
      "Annotation 25\n",
      "\n",
      "Set to 1. Requires Attention\n",
      "Child to DTPLXPRDFJUJLIPS\n",
      "\n",
      "Annotation 26\n",
      "\n",
      "Set to 2. Agree\n",
      "Child to DTPLXPRDFJUJLIPS\n",
      "\n",
      "Annotation 27\n",
      "\n",
      "Set to 3. Corrected\n",
      "Child to DTPLXPRDFJUJLIPS\n",
      "\n",
      "Annotation 28\n",
      "Level was turned off - turned back on\n",
      "Re: Reviewer Comment Callout\n",
      "Child to DTPLXPRDFJUJLIPS\n",
      "\n",
      "Annotation 29\n",
      "\n",
      "Set to 2. Agree\n",
      "Child to DTPLXPRDFJUJLIPS\n",
      "\n",
      "Annotation 30\n",
      "\n",
      "Set to 3. Corrected\n",
      "Child to DTPLXPRDFJUJLIPS\n",
      "\n",
      "Annotation 31\n",
      "\n",
      "Set to 2. Agree\n",
      "Child to DTPLXPRDFJUJLIPS\n",
      "\n",
      "Annotation 32\n",
      "\n",
      "Set to 2. Agree\n",
      "Child to DTPLXPRDFJUJLIPS\n",
      "\n",
      "Annotation 33\n",
      "\n",
      "Set to 3. Corrected\n",
      "Child to DTPLXPRDFJUJLIPS\n",
      "\n",
      "Annotation 34\n",
      "\n",
      "Set to 3. Corrected\n",
      "Child to DTPLXPRDFJUJLIPS\n",
      "\n",
      "Annotation 35\n",
      "\n",
      "Set to 2. Agree\n",
      "Child to DTPLXPRDFJUJLIPS\n",
      "\n",
      "Annotation 36\n",
      "\n",
      "Set to 2. Agree\n",
      "Child to DTPLXPRDFJUJLIPS\n",
      "\n",
      "Annotation 37\n",
      "\n",
      "Set to 3. Corrected\n",
      "Child to DTPLXPRDFJUJLIPS\n",
      "\n",
      "Annotation 38\n",
      "\n",
      "Set to 3. Corrected\n",
      "Child to DTPLXPRDFJUJLIPS\n",
      "\n",
      "Annotation 39\n",
      "Updated minimum vertical clearance dimension based on the updated Track D location.\n",
      "Re: Reviewer Cloud+ Comment\n",
      "Child to DTPLXPRDFJUJLIPS\n",
      "\n",
      "Annotation 40\n",
      "\n",
      "Set to 2. Agree\n",
      "Child to DTPLXPRDFJUJLIPS\n",
      "\n",
      "Annotation 41\n",
      "\n",
      "Set to 3. Corrected\n",
      "Child to DTPLXPRDFJUJLIPS\n",
      "\n",
      "Annotation 42\n",
      "\n",
      "Set to 2. Stet - No Action Required\n",
      "Child to DTPLXPRDFJUJLIPS\n",
      "\n",
      "Annotation 43\n",
      "Per conversation with Josh, beam seat extended out to simplify geometry of precast beam seat. Could save money by reducing concrete quantity, but would cost extra to design a revised \n",
      "Re: Reviewer Cloud+ Comment\n",
      "Child to DTPLXPRDFJUJLIPS\n",
      "\n",
      "Annotation 44\n",
      "\n",
      "Set to 2. Agree\n",
      "Child to DTPLXPRDFJUJLIPS\n",
      "\n",
      "Annotation 45\n",
      "\n",
      "Set to 3. Corrected\n",
      "Child to DTPLXPRDFJUJLIPS\n",
      "\n",
      "Annotation 46\n",
      "\n",
      "Set to 2. Agree\n",
      "Child to DTPLXPRDFJUJLIPS\n",
      "\n",
      "Annotation 47\n",
      "\n",
      "Set to 3. Corrected\n",
      "Child to DTPLXPRDFJUJLIPS\n",
      "\n",
      "Annotation 48\n",
      "\n",
      "Set to 2. Agree\n",
      "Child to DTPLXPRDFJUJLIPS\n",
      "\n",
      "Annotation 49\n",
      "This line is drawn at the limits of the contours, I can't turn off without turning off all contours. Discussing with Kaylin\n",
      "Re: Reviewer Cloud+ Comment\n",
      "Child to DTPLXPRDFJUJLIPS\n",
      "\n",
      "Annotation 50\n",
      "\n",
      "Set to 2. Disagree\n",
      "Child to DTPLXPRDFJUJLIPS\n",
      "\n",
      "Annotation 51\n",
      "\n",
      "Set to 2. Agree\n",
      "Child to DTPLXPRDFJUJLIPS\n",
      "\n",
      "Annotation 52\n",
      "\n",
      "Set to 2. Agree\n",
      "Child to DTPLXPRDFJUJLIPS\n",
      "\n",
      "Annotation 53\n",
      "\n",
      "Set to 2. Agree\n",
      "Child to DTPLXPRDFJUJLIPS\n",
      "\n",
      "Annotation 54\n",
      "\n",
      "Set to 2. Agree\n",
      "Child to DTPLXPRDFJUJLIPS\n",
      "\n",
      "Annotation 55\n",
      "\n",
      "Set to 2. Agree\n",
      "Child to DTPLXPRDFJUJLIPS\n",
      "\n",
      "Annotation 56\n",
      "\n",
      "Set to 3. Corrected\n",
      "Child to DTPLXPRDFJUJLIPS\n",
      "\n",
      "Annotation 57\n",
      "\n",
      "Set to 3. Corrected\n",
      "Child to DTPLXPRDFJUJLIPS\n",
      "\n",
      "Annotation 58\n",
      "\n",
      "Set to 3. Corrected\n",
      "Child to DTPLXPRDFJUJLIPS\n",
      "\n",
      "Annotation 59\n",
      "\n",
      "Set to 3. Corrected\n",
      "Child to DTPLXPRDFJUJLIPS\n",
      "\n",
      "Annotation 60\n",
      "\n",
      "Set to 3. Corrected\n",
      "Child to DTPLXPRDFJUJLIPS\n",
      "\n",
      "Annotation 61\n",
      "\n",
      "Set to 2. Agree\n",
      "Child to DTPLXPRDFJUJLIPS\n",
      "\n",
      "Annotation 62\n",
      "\n",
      "Set to 3. Corrected\n",
      "Child to DTPLXPRDFJUJLIPS\n",
      "\n",
      "Annotation 63\n",
      "Set excavation to be 40:1 from b/cap to existing abutment wall instead. Let me know if this is an improvement.\n",
      "Re: Reviewer Cloud+ Comment\n",
      "Child to DTPLXPRDFJUJLIPS\n",
      "\n",
      "Annotation 64\n",
      "Not sure what this refers to. Will defer to track team. Current MVC spreadsheet and calcs show Track D location controlling for MVC, as shown in plan.\n",
      "Re: Reviewer Cloud+ Comment\n",
      "Child to DTPLXPRDFJUJLIPS\n"
     ]
    }
   ],
   "source": [
    "# Check if child annotation matches the parent (Top level annotation if it does)\n",
    "for i in range(0, len(list_of_annotations)):\n",
    "    print(f\"\\nAnnotation {i}\")\n",
    "    print(f\"{list_of_annotations[i].info['content']}\")\n",
    "    print(f\"{list_of_annotations[i].info['subject']}\")\n",
    "    if list_of_annotations[i].parent.first_annot.info['id'] == list_of_annotations[i].info['id']:\n",
    "        print(\"Top level annotation\")\n",
    "    else:\n",
    "        print(f\"Child to {list_of_annotations[i].parent.first_annot.info['id']}\")"
   ]
  },
  {
   "cell_type": "code",
   "execution_count": 21,
   "id": "35104b14-917b-4d48-89ae-2bfa5a8997e3",
   "metadata": {
    "tags": []
   },
   "outputs": [],
   "source": [
    "def NS_plan_set_analysis(path):\n",
    "    file = Path(path)\n",
    "    doc = fitz.open(file)\n",
    "    doc.bookmarks = doc.get_toc(False)\n",
    "    print(f\"Analyzing {doc.page_count} pages of the planset {file.name}\")\n",
    "\n",
    "\n",
    "    check_metadata_for_title(doc)\n",
    "    x = check_bookmarks(doc.bookmarks)\n",
    "    page = doc[0]\n",
    "    get_and_verify_annotations(page)\n",
    "    \n",
    "    return x"
   ]
  },
  {
   "cell_type": "code",
   "execution_count": 22,
   "id": "a054e020-f802-4389-b94e-5efce10f6880",
   "metadata": {
    "tags": []
   },
   "outputs": [
    {
     "name": "stdout",
     "output_type": "stream",
     "text": [
      "Analyzing 67 pages of the planset Enola_Structure_QC.pdf\n",
      "\n",
      "\u001b[93mDocument has no Title in metadata\u001b[0m\n",
      "Checking 67 Bookmarks...\n",
      "\n",
      "Found 9 sections of the document: \n",
      "['EP-73.81', 'PT-110.84', 'PT-110.83', 'PR WALL', 'PT-115.27', 'PT-115.49', 'PT-115.88', 'RAILROAD WALL', 'SHEET PILE WALL']\n"
     ]
    },
    {
     "data": {
      "text/plain": [
       "([],\n",
       " ['EP-73.81',\n",
       "  'PT-110.84',\n",
       "  'PT-110.83',\n",
       "  'PR WALL',\n",
       "  'PT-115.27',\n",
       "  'PT-115.49',\n",
       "  'PT-115.88',\n",
       "  'RAILROAD WALL',\n",
       "  'SHEET PILE WALL'])"
      ]
     },
     "execution_count": 22,
     "metadata": {},
     "output_type": "execute_result"
    }
   ],
   "source": [
    "NS_plan_set_analysis(path_to_pdf)"
   ]
  },
  {
   "cell_type": "markdown",
   "id": "845e6c98-ed30-4c27-906b-5ccdaa2d7766",
   "metadata": {},
   "source": [
    "# Sheet Specific Checks"
   ]
  },
  {
   "cell_type": "markdown",
   "id": "730d6db4-82e9-4675-8bc4-33798c0d6438",
   "metadata": {},
   "source": [
    "## Title Sheet"
   ]
  },
  {
   "cell_type": "markdown",
   "id": "8c3372ea-4c52-489b-a23d-059f517d40b2",
   "metadata": {},
   "source": [
    "## Key Plan"
   ]
  },
  {
   "cell_type": "markdown",
   "id": "fd1e2b5c-6842-4736-9f91-c1b320135d26",
   "metadata": {},
   "source": [
    "## Sheet Index"
   ]
  },
  {
   "cell_type": "markdown",
   "id": "80c9073e-2a4a-4348-a08f-9aebdd03e19a",
   "metadata": {},
   "source": [
    "## General Plan and Elevation"
   ]
  },
  {
   "cell_type": "markdown",
   "id": "827b6ac1-b257-4387-9d19-59aab53308bf",
   "metadata": {},
   "source": [
    "## Notes"
   ]
  },
  {
   "cell_type": "markdown",
   "id": "071a3df0-e3d5-40f6-a640-e285f4bcc48b",
   "metadata": {},
   "source": [
    "## Profile"
   ]
  },
  {
   "cell_type": "markdown",
   "id": "ae82e57f-d738-424c-8190-f5c52ff98713",
   "metadata": {},
   "source": [
    "## Removal Limits"
   ]
  },
  {
   "cell_type": "markdown",
   "id": "1283b6b6-42c1-46e9-90b8-f85ed9ab0333",
   "metadata": {},
   "source": [
    "## Substructure"
   ]
  },
  {
   "cell_type": "markdown",
   "id": "4eae0416-67dd-43d8-8045-71a83620ef81",
   "metadata": {},
   "source": [
    "### Foundation"
   ]
  },
  {
   "cell_type": "markdown",
   "id": "1ff7be21-3ddd-4ccf-bed5-b7f5b71b3e57",
   "metadata": {},
   "source": [
    "### Abutment"
   ]
  },
  {
   "cell_type": "markdown",
   "id": "f4147e0d-1103-4ae0-be50-238b6c6b81d4",
   "metadata": {},
   "source": [
    "### Wingwalls"
   ]
  },
  {
   "cell_type": "markdown",
   "id": "7bfe3ac8-026c-4d62-8834-1181607e2088",
   "metadata": {},
   "source": [
    "## Superstructure"
   ]
  },
  {
   "cell_type": "markdown",
   "id": "b87c6c95-18b8-4e97-8286-6c95882242f9",
   "metadata": {},
   "source": [
    "### Framing Plan"
   ]
  },
  {
   "cell_type": "markdown",
   "id": "f8b80a77-57d3-4d34-b6d7-13d12fa5d7cc",
   "metadata": {},
   "source": [
    "### Deck Details"
   ]
  },
  {
   "cell_type": "markdown",
   "id": "5ac4931a-b5d9-4f16-96c6-3627a3b83fd5",
   "metadata": {},
   "source": [
    "### Girder Details"
   ]
  },
  {
   "cell_type": "markdown",
   "id": "a5284eac-208f-4e88-8964-00010b995a75",
   "metadata": {},
   "source": [
    "### Floorbeam Details"
   ]
  },
  {
   "cell_type": "markdown",
   "id": "a01b97a4-8afd-4cd4-a5fb-abe7305aec67",
   "metadata": {},
   "source": []
  },
  {
   "cell_type": "markdown",
   "id": "b57f23e5-9726-4ede-939d-8a431d224f4b",
   "metadata": {},
   "source": []
  },
  {
   "cell_type": "markdown",
   "id": "e1c59312-87c1-41f5-914f-2ebaea97e115",
   "metadata": {},
   "source": []
  },
  {
   "cell_type": "code",
   "execution_count": 23,
   "id": "067eff87-76f4-4d24-b6f4-6cfe0065acde",
   "metadata": {
    "tags": []
   },
   "outputs": [
    {
     "ename": "NameError",
     "evalue": "name 'general_plan_and_elevation' is not defined",
     "output_type": "error",
     "traceback": [
      "\u001b[1;31m---------------------------------------------------------------------------\u001b[0m",
      "\u001b[1;31mNameError\u001b[0m                                 Traceback (most recent call last)",
      "Cell \u001b[1;32mIn[23], line 2\u001b[0m\n\u001b[0;32m      1\u001b[0m \u001b[38;5;66;03m# General Types of Sheets\u001b[39;00m\n\u001b[1;32m----> 2\u001b[0m \u001b[43mgeneral_plan_and_elevation\u001b[49m\n",
      "\u001b[1;31mNameError\u001b[0m: name 'general_plan_and_elevation' is not defined"
     ]
    }
   ],
   "source": [
    "# General Types of Sheets\n",
    "general_plan_and_elevation\n"
   ]
  },
  {
   "cell_type": "code",
   "execution_count": null,
   "id": "7875f7f4-0d47-4ad9-9e70-b150a80c1264",
   "metadata": {
    "tags": []
   },
   "outputs": [],
   "source": []
  },
  {
   "cell_type": "code",
   "execution_count": null,
   "id": "9cdc37e6-db31-45f6-815d-fd513a154608",
   "metadata": {},
   "outputs": [],
   "source": []
  },
  {
   "cell_type": "code",
   "execution_count": null,
   "id": "a6eb1e10-4446-431b-8117-761b4ec2ade7",
   "metadata": {
    "tags": []
   },
   "outputs": [],
   "source": []
  },
  {
   "cell_type": "code",
   "execution_count": null,
   "id": "5459a686-024c-4920-bdad-90b97c941cb9",
   "metadata": {
    "tags": []
   },
   "outputs": [],
   "source": []
  },
  {
   "cell_type": "code",
   "execution_count": null,
   "id": "4cf51044-5a6e-4483-b080-2b6b7fd3ac88",
   "metadata": {
    "tags": []
   },
   "outputs": [],
   "source": []
  },
  {
   "cell_type": "code",
   "execution_count": null,
   "id": "7e13bea5-e3cb-463c-be7c-3cad6300af30",
   "metadata": {
    "tags": []
   },
   "outputs": [],
   "source": []
  },
  {
   "cell_type": "code",
   "execution_count": null,
   "id": "984fcfad-738e-4700-ac8c-06df4391a360",
   "metadata": {},
   "outputs": [],
   "source": []
  },
  {
   "cell_type": "code",
   "execution_count": null,
   "id": "5be7f802-7157-4f5e-94bc-2db093f4dd43",
   "metadata": {},
   "outputs": [],
   "source": []
  },
  {
   "cell_type": "code",
   "execution_count": null,
   "id": "f270b07c-cc72-48de-87e0-fe3f019abc04",
   "metadata": {
    "tags": []
   },
   "outputs": [],
   "source": [
    "x"
   ]
  },
  {
   "cell_type": "code",
   "execution_count": null,
   "id": "09685806-ccf3-4494-9654-eacbecc6da74",
   "metadata": {},
   "outputs": [],
   "source": []
  }
 ],
 "metadata": {
  "kernelspec": {
   "display_name": "Python 3 (ipykernel)",
   "language": "python",
   "name": "python3"
  },
  "language_info": {
   "codemirror_mode": {
    "name": "ipython",
    "version": 3
   },
   "file_extension": ".py",
   "mimetype": "text/x-python",
   "name": "python",
   "nbconvert_exporter": "python",
   "pygments_lexer": "ipython3",
   "version": "3.10.13"
  }
 },
 "nbformat": 4,
 "nbformat_minor": 5
}
