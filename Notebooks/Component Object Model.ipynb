{
 "cells": [
  {
   "cell_type": "markdown",
   "id": "7ba05b3e-d902-45c5-89e2-507eb5ee1739",
   "metadata": {
    "collapsed": false,
    "jupyter": {
     "outputs_hidden": false
    }
   },
   "source": [
    "# Component Object Model\n",
    "\n",
    "[Microsoft COM documentation](https://learn.microsoft.com/en-us/windows/win32/com/com-technical-overview)\n",
    "\n",
    "[Hunting COM Objects (Fireeye article)](https://www.mandiant.com/resources/blog/hunting-com-objects)\n",
    "\n"
   ]
  },
  {
   "cell_type": "code",
   "execution_count": 1,
   "id": "8c9cfb00-3974-444d-ab63-879f34a39038",
   "metadata": {
    "ExecuteTime": {
     "end_time": "2023-09-16T13:28:20.262306900Z",
     "start_time": "2023-09-16T13:28:20.255986100Z"
    },
    "collapsed": false,
    "jupyter": {
     "outputs_hidden": false
    },
    "tags": []
   },
   "outputs": [],
   "source": [
    "import win32com.client as win32"
   ]
  },
  {
   "cell_type": "code",
   "execution_count": 6,
   "id": "a828bd7c-9c7a-49b7-a613-0bac9678b583",
   "metadata": {
    "tags": []
   },
   "outputs": [],
   "source": [
    "xl = win32.Dispatch(\"Excel.Application\")"
   ]
  },
  {
   "cell_type": "code",
   "execution_count": 7,
   "id": "46a4af9f-fc89-429e-b364-9cd58370b406",
   "metadata": {
    "ExecuteTime": {
     "end_time": "2023-09-16T13:28:38.467596300Z",
     "start_time": "2023-09-16T13:28:38.451663600Z"
    },
    "collapsed": false,
    "jupyter": {
     "outputs_hidden": false
    },
    "tags": []
   },
   "outputs": [
    {
     "data": {
      "text/plain": [
       "False"
      ]
     },
     "execution_count": 7,
     "metadata": {},
     "output_type": "execute_result"
    }
   ],
   "source": [
    "xl.Visible"
   ]
  },
  {
   "cell_type": "code",
   "execution_count": 8,
   "id": "ffa7c836-5efa-4657-a788-08c9064b6fe1",
   "metadata": {
    "ExecuteTime": {
     "end_time": "2023-09-16T13:28:50.709024Z",
     "start_time": "2023-09-16T13:28:50.663722600Z"
    },
    "collapsed": false,
    "jupyter": {
     "outputs_hidden": false
    },
    "tags": []
   },
   "outputs": [],
   "source": [
    "xl.Visible = 1"
   ]
  },
  {
   "cell_type": "markdown",
   "id": "e9824f28-85a0-4a39-91d8-37efdd03f96e",
   "metadata": {
    "collapsed": false,
    "jupyter": {
     "outputs_hidden": false
    },
    "tags": []
   },
   "source": [
    "# Getting a List of Available Applications\n",
    "\n",
    "(Doesn't seem to work directly in jupyter, works in a standard terminal though, see [Appendix](#Appendix) for working juypter script made by reading registry keys.\n",
    "\n",
    "```python\n",
    "from win32com.client import combrowse\n",
    "combrowse.main()\n",
    "```"
   ]
  },
  {
   "cell_type": "code",
   "execution_count": 5,
   "id": "f76551fc-1661-4d29-838f-289fc2a79f01",
   "metadata": {},
   "outputs": [],
   "source": [
    "from win32com.client import combrowse"
   ]
  },
  {
   "cell_type": "code",
   "execution_count": null,
   "id": "e62e12b3-a14f-41ba-a8bf-798fda78d8ab",
   "metadata": {},
   "outputs": [],
   "source": [
    "combrowse.main()"
   ]
  },
  {
   "cell_type": "code",
   "execution_count": 10,
   "id": "ec26c1d7-bc2a-47a2-b695-d8f02f8f6c0a",
   "metadata": {
    "tags": []
   },
   "outputs": [],
   "source": [
    "# Some common application names\n",
    "COM_Application_Names = {\n",
    "    \"Word\": \"Word.Application.16\",\n",
    "    \"Excel\": \"Excel.Application.16\",\n",
    "    \"Outlook\": \"Outlook.Application.16\",\n",
    "    \"Bluebeam\": \"Revu.Launcher.1\",\n",
    "}"
   ]
  },
  {
   "cell_type": "code",
   "execution_count": 48,
   "id": "37922d0a-a50c-4dcb-b8ed-84c8100cd69d",
   "metadata": {
    "tags": []
   },
   "outputs": [],
   "source": [
    "path_to_makepy = (\n",
    "    r\"C:\\Users\\dane.parks\\Python\\civilpy\\Lib\\site-packages\\win32com\\client\\makepy.py\"\n",
    ")"
   ]
  },
  {
   "cell_type": "code",
   "execution_count": 3,
   "id": "4d369a11-9753-4f48-982a-53de4b05547d",
   "metadata": {
    "tags": []
   },
   "outputs": [],
   "source": [
    "#!python C:\\Users\\dane.parks\\Python\\civilpy\\Lib\\site-packages\\win32com\\client\\makepy.py"
   ]
  },
  {
   "cell_type": "markdown",
   "id": "36f4747a-c97c-419f-9dc4-3f7018fb80a4",
   "metadata": {},
   "source": [
    "Makepy generated the file to"
   ]
  },
  {
   "cell_type": "code",
   "execution_count": 4,
   "id": "08eb4d5d-a6be-4e0b-bee8-b02999d3c68f",
   "metadata": {
    "tags": []
   },
   "outputs": [
    {
     "data": {
      "text/plain": [
       "'C:\\\\Users\\\\DANE~1.PAR\\\\AppData\\\\Local\\\\Temp\\\\1\\\\gen_py\\\\3.10\\\\B6F6567F-CCC9-4137-A634-87DF00AE2021x0x1x0.py'"
      ]
     },
     "execution_count": 4,
     "metadata": {},
     "output_type": "execute_result"
    }
   ],
   "source": [
    "# Bluebeam MakePY\n",
    "r\"C:\\Users\\DANE~1.PAR\\AppData\\Local\\Temp\\1\\gen_py\\3.10\\B6F6567F-CCC9-4137-A634-87DF00AE2021x0x1x0.py\""
   ]
  },
  {
   "cell_type": "code",
   "execution_count": 5,
   "id": "480db4a0-9b9d-4f81-96c6-8cc94ee3905d",
   "metadata": {
    "tags": []
   },
   "outputs": [
    {
     "data": {
      "text/plain": [
       "'C:\\\\Users\\\\DANE~1.PAR\\\\AppData\\\\Local\\\\Temp\\\\1\\\\gen_py\\\\3.10\\\\0EA692EE-BB50-4E3C-AEF0-356D91732725x0x1x1.py'"
      ]
     },
     "execution_count": 5,
     "metadata": {},
     "output_type": "execute_result"
    }
   ],
   "source": [
    "# OneNote MakePy\n",
    "r\"C:\\Users\\DANE~1.PAR\\AppData\\Local\\Temp\\1\\gen_py\\3.10\\0EA692EE-BB50-4E3C-AEF0-356D91732725x0x1x1.py\""
   ]
  },
  {
   "cell_type": "code",
   "execution_count": 6,
   "id": "3915b283-503c-4f44-b98d-a93337e893c9",
   "metadata": {
    "tags": []
   },
   "outputs": [
    {
     "data": {
      "text/plain": [
       "'C:\\\\Users\\\\DANE~1.PAR\\\\AppData\\\\Local\\\\Temp\\\\1\\\\gen_py\\\\3.10\\\\00062FFF-0000-0000-C000-000000000046x0x9x6.py'"
      ]
     },
     "execution_count": 6,
     "metadata": {},
     "output_type": "execute_result"
    }
   ],
   "source": [
    "# Office MakePy\n",
    "r\"C:\\Users\\DANE~1.PAR\\AppData\\Local\\Temp\\1\\gen_py\\3.10\\00062FFF-0000-0000-C000-000000000046x0x9x6.py\""
   ]
  },
  {
   "cell_type": "code",
   "execution_count": 9,
   "id": "d563db7f-db77-4a5f-8340-c20d630c6b25",
   "metadata": {
    "tags": []
   },
   "outputs": [
    {
     "data": {
      "text/plain": [
       "'C:\\\\Users\\\\DANE~1.PAR\\\\AppData\\\\Local\\\\Temp\\\\1\\\\gen_py\\\\3.10\\\\2DF8D04C-5BFA-101B-BDE5-00AA0044DE52x0x2x8.py'"
      ]
     },
     "execution_count": 9,
     "metadata": {},
     "output_type": "execute_result"
    }
   ],
   "source": [
    "# Outlook MakePy\n",
    "r\"C:\\Users\\DANE~1.PAR\\AppData\\Local\\Temp\\1\\gen_py\\3.10\\2DF8D04C-5BFA-101B-BDE5-00AA0044DE52x0x2x8.py\""
   ]
  },
  {
   "cell_type": "code",
   "execution_count": 7,
   "id": "40610805-6fa8-4aac-a5e8-a27381201fa7",
   "metadata": {
    "tags": []
   },
   "outputs": [
    {
     "data": {
      "text/plain": [
       "'C:\\\\Users\\\\DANE~1.PAR\\\\AppData\\\\Local\\\\Temp\\\\1\\\\gen_py\\\\3.10\\\\CF9F97BF-39F2-4B8E-835C-8BE9E99DAF5Bx0x10x1.py'"
      ]
     },
     "execution_count": 7,
     "metadata": {},
     "output_type": "execute_result"
    }
   ],
   "source": [
    "# Microstation\n",
    "r\"C:\\Users\\DANE~1.PAR\\AppData\\Local\\Temp\\1\\gen_py\\3.10\\CF9F97BF-39F2-4B8E-835C-8BE9E99DAF5Bx0x10x1.py\""
   ]
  },
  {
   "cell_type": "code",
   "execution_count": 8,
   "id": "89e0072a-accd-42d7-a585-873d48f28cd0",
   "metadata": {},
   "outputs": [
    {
     "data": {
      "text/plain": [
       "'C:\\\\Users\\\\DANE~1.PAR\\\\AppData\\\\Local\\\\Temp\\\\1\\\\gen_py\\\\3.10\\\\F3A37BD0-AA2D-11D2-9844-0080C86BE4DFx0x1x0.py'"
      ]
     },
     "execution_count": 8,
     "metadata": {},
     "output_type": "execute_result"
    }
   ],
   "source": [
    "# Robot\n",
    "r\"C:\\Users\\DANE~1.PAR\\AppData\\Local\\Temp\\1\\gen_py\\3.10\\F3A37BD0-AA2D-11D2-9844-0080C86BE4DFx0x1x0.py\""
   ]
  },
  {
   "cell_type": "code",
   "execution_count": 11,
   "id": "f50891fe-b58b-45a6-b12b-b7deeac09f6b",
   "metadata": {},
   "outputs": [
    {
     "data": {
      "text/plain": [
       "'C:\\\\Users\\\\DANE~1.PAR\\\\AppData\\\\Local\\\\Temp\\\\1\\\\gen_py\\\\3.10\\\\AA9A2205-75AA-43AD-9138-1767F1BB5E0Cx419x1x0.py'"
      ]
     },
     "execution_count": 11,
     "metadata": {},
     "output_type": "execute_result"
    }
   ],
   "source": [
    "# Autocad Type Library (there were many)\n",
    "r\"C:\\Users\\DANE~1.PAR\\AppData\\Local\\Temp\\1\\gen_py\\3.10\\AA9A2205-75AA-43AD-9138-1767F1BB5E0Cx419x1x0.py\""
   ]
  },
  {
   "cell_type": "code",
   "execution_count": null,
   "id": "8d3d323c-f2fc-4def-b3be-596a805d597b",
   "metadata": {},
   "outputs": [],
   "source": []
  },
  {
   "cell_type": "code",
   "execution_count": null,
   "id": "0b1083d1-a6d2-46b0-815d-85fc3d1448f0",
   "metadata": {},
   "outputs": [],
   "source": []
  },
  {
   "cell_type": "code",
   "execution_count": null,
   "id": "bc7049cc-30e0-4e26-97de-9d56a0d80f97",
   "metadata": {},
   "outputs": [],
   "source": []
  },
  {
   "cell_type": "code",
   "execution_count": null,
   "id": "3ca9af39-c378-44eb-a08b-5268db383ef2",
   "metadata": {},
   "outputs": [],
   "source": []
  },
  {
   "cell_type": "markdown",
   "id": "d6105096-b0d8-4db9-abb8-131ba2c94f18",
   "metadata": {},
   "source": [
    "# Outlook"
   ]
  },
  {
   "cell_type": "code",
   "execution_count": 15,
   "id": "80e042f1-e988-45c1-85e7-a95a74719051",
   "metadata": {
    "tags": []
   },
   "outputs": [],
   "source": [
    "outlook = win32.gencache.EnsureDispatch(\"Outlook.Application.16\").GetNamespace(\"MAPI\")"
   ]
  },
  {
   "cell_type": "code",
   "execution_count": null,
   "id": "25be8928-c33b-482b-afe8-98110c8a31a8",
   "metadata": {
    "tags": []
   },
   "outputs": [],
   "source": []
  },
  {
   "cell_type": "code",
   "execution_count": 16,
   "id": "b05c669d-8a87-4668-832d-d4ab1026e766",
   "metadata": {
    "tags": []
   },
   "outputs": [
    {
     "name": "stdout",
     "output_type": "stream",
     "text": [
      "3 Deleted Items\n",
      "4 Outbox\n",
      "5 Sent Items\n",
      "6 Inbox\n",
      "9 Calendar\n",
      "10 Contacts\n",
      "11 Journal\n",
      "12 Notes\n",
      "13 Tasks\n",
      "14 Reminders\n",
      "15 Reminders\n",
      "16 Drafts\n",
      "17 Conflicts\n",
      "19 Conflicts\n",
      "20 Sync Issues\n",
      "21 Local Failures\n",
      "22 Server Failures\n",
      "23 Junk Email\n",
      "25 RSS Feeds\n",
      "26 Tracked Mail Processing\n",
      "28 To-Do List\n",
      "31 Quick Step Settings\n",
      "33 Contact Search\n",
      "35 {A9E2BC46-B3A0-4243-B315-60D991004455}\n",
      "36 {06967759-274D-40B2-A3EB-D7F9E73727D7}\n",
      "37 Social Activity Notifications\n",
      "38 the file so that changes to the file will be reflected in your item.\n",
      "39 Archive\n"
     ]
    }
   ],
   "source": [
    "for i in range(50):\n",
    "    try:\n",
    "        box = outlook.GetDefaultFolder(i)\n",
    "        name = box.Name\n",
    "        print(i, name)\n",
    "    except:\n",
    "        pass"
   ]
  },
  {
   "cell_type": "code",
   "execution_count": 43,
   "id": "4389edd7-03a3-491f-9bf6-715337f0745f",
   "metadata": {
    "tags": []
   },
   "outputs": [],
   "source": [
    "bluebeam = win32.Dispatch(\"Revu.Launcher.1\")"
   ]
  },
  {
   "cell_type": "code",
   "execution_count": 47,
   "id": "e8605a44-ab64-46e9-a079-579bb4ee7e31",
   "metadata": {
    "tags": []
   },
   "outputs": [
    {
     "data": {
      "text/plain": [
       "True"
      ]
     },
     "execution_count": 47,
     "metadata": {},
     "output_type": "execute_result"
    }
   ],
   "source": [
    "bluebeam.EditDocument(\n",
    "    r\"C:\\Users\\dane.parks\\PycharmProjects\\civilpy\\Notebooks\\DPG Selector.pdf\"\n",
    ")"
   ]
  },
  {
   "cell_type": "code",
   "execution_count": 42,
   "id": "e1051c21-c065-4685-8fb7-f3033fdbc0b7",
   "metadata": {
    "tags": []
   },
   "outputs": [
    {
     "data": {
      "text/plain": [
       "['CLSID',\n",
       " 'CheckoutDocumentPrompt',\n",
       " 'CreateNewDocument',\n",
       " 'CreateNewDocument2',\n",
       " 'DiscardLocalCheckout',\n",
       " 'EditDocument',\n",
       " 'EditDocument2',\n",
       " 'EditDocument3',\n",
       " 'IsStudioSupported',\n",
       " 'PromptedOnLastOpen',\n",
       " 'ViewDocument',\n",
       " 'ViewDocument2',\n",
       " 'ViewDocument3',\n",
       " '_ApplyTypes_',\n",
       " '__class__',\n",
       " '__delattr__',\n",
       " '__dict__',\n",
       " '__dir__',\n",
       " '__doc__',\n",
       " '__eq__',\n",
       " '__format__',\n",
       " '__ge__',\n",
       " '__getattr__',\n",
       " '__getattribute__',\n",
       " '__gt__',\n",
       " '__hash__',\n",
       " '__init__',\n",
       " '__init_subclass__',\n",
       " '__iter__',\n",
       " '__le__',\n",
       " '__lt__',\n",
       " '__module__',\n",
       " '__ne__',\n",
       " '__new__',\n",
       " '__reduce__',\n",
       " '__reduce_ex__',\n",
       " '__repr__',\n",
       " '__setattr__',\n",
       " '__sizeof__',\n",
       " '__str__',\n",
       " '__subclasshook__',\n",
       " '__weakref__',\n",
       " '_get_good_object_',\n",
       " '_get_good_single_object_',\n",
       " '_oleobj_',\n",
       " '_prop_map_get_',\n",
       " '_prop_map_put_',\n",
       " 'coclass_clsid']"
      ]
     },
     "execution_count": 42,
     "metadata": {},
     "output_type": "execute_result"
    }
   ],
   "source": [
    "dir(bluebeam)"
   ]
  },
  {
   "cell_type": "code",
   "execution_count": 33,
   "id": "2419cd8e-17a4-4cd0-8722-6f118ecf828e",
   "metadata": {
    "tags": []
   },
   "outputs": [
    {
     "name": "stdout",
     "output_type": "stream",
     "text": [
      "Cache is in directory C:\\Users\\DANE~1.PAR\\AppData\\Local\\Temp\\1\\gen_py\\3.10\n",
      "Microsoft Excel 16.0 Object Library - {00020813-0000-0000-C000-000000000046}\n",
      "Bentley MicroStation 10.x Object Library 10.1 - {CF9F97BF-39F2-4B8E-835C-8BE9E99DAF5B}\n",
      "Microsoft Outlook 16.0 Object Library - {00062FFF-0000-0000-C000-000000000046}\n",
      "RevuLauncher 1.0 Type Library - {B6F6567F-CCC9-4137-A634-87DF00AE2021}\n"
     ]
    }
   ],
   "source": [
    "from win32com.client import gencache\n",
    "\n",
    "gencache._Dump()"
   ]
  },
  {
   "cell_type": "code",
   "execution_count": null,
   "id": "d3c50fbd-8090-4cfc-8838-0aac40b59510",
   "metadata": {},
   "outputs": [],
   "source": []
  },
  {
   "cell_type": "markdown",
   "id": "e67dda86-3806-4fff-bc0e-2eedb1cc35ac",
   "metadata": {},
   "source": [
    "# OneNote"
   ]
  },
  {
   "cell_type": "code",
   "execution_count": 2,
   "id": "13c52e4f-a40d-43bf-aa06-aed563ce2e85",
   "metadata": {},
   "outputs": [],
   "source": [
    "import win32com.client as win32"
   ]
  },
  {
   "cell_type": "code",
   "execution_count": 4,
   "id": "fc58f631-cf28-4478-a7fa-005ab0ee86b2",
   "metadata": {},
   "outputs": [],
   "source": [
    "OneNote = win32.Dispatch(\"OneNote.Application.15\")"
   ]
  },
  {
   "cell_type": "code",
   "execution_count": null,
   "id": "48a402fb-2885-4cbe-977e-c38124523504",
   "metadata": {},
   "outputs": [],
   "source": []
  },
  {
   "cell_type": "code",
   "execution_count": 7,
   "id": "c11e6469-e3b2-4461-a40e-2113eb892777",
   "metadata": {},
   "outputs": [
    {
     "ename": "com_error",
     "evalue": "(-2147467259, 'Unspecified error', None, None)",
     "output_type": "error",
     "traceback": [
      "\u001b[1;31m---------------------------------------------------------------------------\u001b[0m",
      "\u001b[1;31mcom_error\u001b[0m                                 Traceback (most recent call last)",
      "Cell \u001b[1;32mIn[7], line 1\u001b[0m\n\u001b[1;32m----> 1\u001b[0m \u001b[38;5;28;43mdir\u001b[39;49m\u001b[43m(\u001b[49m\u001b[43mOneNote\u001b[49m\u001b[43m)\u001b[49m\n",
      "File \u001b[1;32m~\\AppData\\Roaming\\Python\\Python310\\site-packages\\win32com\\client\\__init__.py:167\u001b[0m, in \u001b[0;36mCDispatch.__dir__\u001b[1;34m(self)\u001b[0m\n\u001b[0;32m    166\u001b[0m \u001b[38;5;28;01mdef\u001b[39;00m \u001b[38;5;21m__dir__\u001b[39m(\u001b[38;5;28mself\u001b[39m):\n\u001b[1;32m--> 167\u001b[0m     \u001b[38;5;28;01mreturn\u001b[39;00m \u001b[43mdynamic\u001b[49m\u001b[38;5;241;43m.\u001b[39;49m\u001b[43mCDispatch\u001b[49m\u001b[38;5;241;43m.\u001b[39;49m\u001b[38;5;21;43m__dir__\u001b[39;49m\u001b[43m(\u001b[49m\u001b[38;5;28;43mself\u001b[39;49m\u001b[43m)\u001b[49m\n",
      "File \u001b[1;32m~\\AppData\\Roaming\\Python\\Python310\\site-packages\\win32com\\client\\dynamic.py:247\u001b[0m, in \u001b[0;36mCDispatch.__dir__\u001b[1;34m(self)\u001b[0m\n\u001b[0;32m    246\u001b[0m \u001b[38;5;28;01mdef\u001b[39;00m \u001b[38;5;21m__dir__\u001b[39m(\u001b[38;5;28mself\u001b[39m):\n\u001b[1;32m--> 247\u001b[0m     lst \u001b[38;5;241m=\u001b[39m \u001b[38;5;28mlist\u001b[39m(\u001b[38;5;28mself\u001b[39m\u001b[38;5;241m.\u001b[39m\u001b[38;5;18m__dict__\u001b[39m\u001b[38;5;241m.\u001b[39mkeys()) \u001b[38;5;241m+\u001b[39m \u001b[38;5;28mdir\u001b[39m(\u001b[38;5;28mself\u001b[39m\u001b[38;5;241m.\u001b[39m\u001b[38;5;18m__class__\u001b[39m) \u001b[38;5;241m+\u001b[39m \u001b[38;5;28;43mself\u001b[39;49m\u001b[38;5;241;43m.\u001b[39;49m\u001b[43m_dir_ole_\u001b[49m\u001b[43m(\u001b[49m\u001b[43m)\u001b[49m\n\u001b[0;32m    248\u001b[0m     \u001b[38;5;28;01mtry\u001b[39;00m:\n\u001b[0;32m    249\u001b[0m         lst \u001b[38;5;241m+\u001b[39m\u001b[38;5;241m=\u001b[39m [p\u001b[38;5;241m.\u001b[39mName \u001b[38;5;28;01mfor\u001b[39;00m p \u001b[38;5;129;01min\u001b[39;00m \u001b[38;5;28mself\u001b[39m\u001b[38;5;241m.\u001b[39mProperties_]\n",
      "File \u001b[1;32m~\\AppData\\Roaming\\Python\\Python310\\site-packages\\win32com\\client\\dynamic.py:257\u001b[0m, in \u001b[0;36mCDispatch._dir_ole_\u001b[1;34m(self)\u001b[0m\n\u001b[0;32m    255\u001b[0m items_dict \u001b[38;5;241m=\u001b[39m {}\n\u001b[0;32m    256\u001b[0m \u001b[38;5;28;01mfor\u001b[39;00m iTI \u001b[38;5;129;01min\u001b[39;00m \u001b[38;5;28mrange\u001b[39m(\u001b[38;5;241m0\u001b[39m, \u001b[38;5;28mself\u001b[39m\u001b[38;5;241m.\u001b[39m_oleobj_\u001b[38;5;241m.\u001b[39mGetTypeInfoCount()):\n\u001b[1;32m--> 257\u001b[0m     typeInfo \u001b[38;5;241m=\u001b[39m \u001b[38;5;28;43mself\u001b[39;49m\u001b[38;5;241;43m.\u001b[39;49m\u001b[43m_oleobj_\u001b[49m\u001b[38;5;241;43m.\u001b[39;49m\u001b[43mGetTypeInfo\u001b[49m\u001b[43m(\u001b[49m\u001b[43miTI\u001b[49m\u001b[43m)\u001b[49m\n\u001b[0;32m    258\u001b[0m     \u001b[38;5;28mself\u001b[39m\u001b[38;5;241m.\u001b[39m_UpdateWithITypeInfo_(items_dict, typeInfo)\n\u001b[0;32m    259\u001b[0m \u001b[38;5;28;01mreturn\u001b[39;00m \u001b[38;5;28mlist\u001b[39m(items_dict\u001b[38;5;241m.\u001b[39mkeys())\n",
      "\u001b[1;31mcom_error\u001b[0m: (-2147467259, 'Unspecified error', None, None)"
     ]
    }
   ],
   "source": [
    "dir(OneNote)"
   ]
  },
  {
   "cell_type": "markdown",
   "id": "1df23fce-925b-4968-be6c-2e14e48a3073",
   "metadata": {},
   "source": [
    "# Autodesk Inventor"
   ]
  },
  {
   "cell_type": "code",
   "execution_count": 8,
   "id": "562bb447-193d-4e71-80e3-bf2adf1df7c1",
   "metadata": {},
   "outputs": [
    {
     "ename": "com_error",
     "evalue": "(-2147221005, 'Invalid class string', None, None)",
     "output_type": "error",
     "traceback": [
      "\u001b[1;31m---------------------------------------------------------------------------\u001b[0m",
      "\u001b[1;31mcom_error\u001b[0m                                 Traceback (most recent call last)",
      "Cell \u001b[1;32mIn[8], line 4\u001b[0m\n\u001b[0;32m      3\u001b[0m \u001b[38;5;28;01mtry\u001b[39;00m:\n\u001b[1;32m----> 4\u001b[0m     invApp \u001b[38;5;241m=\u001b[39m \u001b[43mGetActiveObject\u001b[49m\u001b[43m(\u001b[49m\u001b[38;5;124;43m'\u001b[39;49m\u001b[38;5;124;43mInventor.Application\u001b[39;49m\u001b[38;5;124;43m'\u001b[39;49m\u001b[43m)\u001b[49m\n\u001b[0;32m      5\u001b[0m \u001b[38;5;28;01mexcept\u001b[39;00m:\n",
      "File \u001b[1;32m~\\AppData\\Roaming\\Python\\Python310\\site-packages\\win32com\\client\\__init__.py:93\u001b[0m, in \u001b[0;36mGetActiveObject\u001b[1;34m(Class, clsctx)\u001b[0m\n\u001b[0;32m     90\u001b[0m \u001b[38;5;250m\u001b[39m\u001b[38;5;124;03m\"\"\"\u001b[39;00m\n\u001b[0;32m     91\u001b[0m \u001b[38;5;124;03mPython friendly version of GetObject's ProgID/CLSID functionality.\u001b[39;00m\n\u001b[0;32m     92\u001b[0m \u001b[38;5;124;03m\"\"\"\u001b[39;00m\n\u001b[1;32m---> 93\u001b[0m resultCLSID \u001b[38;5;241m=\u001b[39m \u001b[43mpywintypes\u001b[49m\u001b[38;5;241;43m.\u001b[39;49m\u001b[43mIID\u001b[49m\u001b[43m(\u001b[49m\u001b[43mClass\u001b[49m\u001b[43m)\u001b[49m\n\u001b[0;32m     94\u001b[0m dispatch \u001b[38;5;241m=\u001b[39m pythoncom\u001b[38;5;241m.\u001b[39mGetActiveObject(resultCLSID)\n",
      "\u001b[1;31mcom_error\u001b[0m: (-2147221005, 'Invalid class string', None, None)",
      "\nDuring handling of the above exception, another exception occurred:\n",
      "\u001b[1;31mcom_error\u001b[0m                                 Traceback (most recent call last)",
      "File \u001b[1;32m~\\AppData\\Roaming\\Python\\Python310\\site-packages\\win32com\\client\\dynamic.py:84\u001b[0m, in \u001b[0;36m_GetGoodDispatch\u001b[1;34m(IDispatch, clsctx)\u001b[0m\n\u001b[0;32m     83\u001b[0m \u001b[38;5;28;01mtry\u001b[39;00m:\n\u001b[1;32m---> 84\u001b[0m     IDispatch \u001b[38;5;241m=\u001b[39m \u001b[43mpythoncom\u001b[49m\u001b[38;5;241;43m.\u001b[39;49m\u001b[43mconnect\u001b[49m\u001b[43m(\u001b[49m\u001b[43mIDispatch\u001b[49m\u001b[43m)\u001b[49m\n\u001b[0;32m     85\u001b[0m \u001b[38;5;28;01mexcept\u001b[39;00m pythoncom\u001b[38;5;241m.\u001b[39mole_error:\n",
      "\u001b[1;31mcom_error\u001b[0m: (-2147221005, 'Invalid class string', None, None)",
      "\nDuring handling of the above exception, another exception occurred:\n",
      "\u001b[1;31mcom_error\u001b[0m                                 Traceback (most recent call last)",
      "Cell \u001b[1;32mIn[8], line 6\u001b[0m\n\u001b[0;32m      4\u001b[0m     invApp \u001b[38;5;241m=\u001b[39m GetActiveObject(\u001b[38;5;124m'\u001b[39m\u001b[38;5;124mInventor.Application\u001b[39m\u001b[38;5;124m'\u001b[39m)\n\u001b[0;32m      5\u001b[0m \u001b[38;5;28;01mexcept\u001b[39;00m:\n\u001b[1;32m----> 6\u001b[0m     invApp \u001b[38;5;241m=\u001b[39m \u001b[43mDispatch\u001b[49m\u001b[43m(\u001b[49m\u001b[38;5;124;43m'\u001b[39;49m\u001b[38;5;124;43mInventor.Application\u001b[39;49m\u001b[38;5;124;43m'\u001b[39;49m\u001b[43m)\u001b[49m\n\u001b[0;32m      7\u001b[0m     invApp\u001b[38;5;241m.\u001b[39mVisible \u001b[38;5;241m=\u001b[39m \u001b[38;5;28;01mTrue\u001b[39;00m\n\u001b[0;32m      9\u001b[0m mod \u001b[38;5;241m=\u001b[39m gencache\u001b[38;5;241m.\u001b[39mEnsureModule(\u001b[38;5;124m'\u001b[39m\u001b[38;5;124m{\u001b[39m\u001b[38;5;124mD98A091D-3A0F-4C3E-B36E-61F62068D488}\u001b[39m\u001b[38;5;124m'\u001b[39m, \u001b[38;5;241m0\u001b[39m, \u001b[38;5;241m1\u001b[39m, \u001b[38;5;241m0\u001b[39m)\n",
      "File \u001b[1;32m~\\AppData\\Roaming\\Python\\Python310\\site-packages\\win32com\\client\\__init__.py:118\u001b[0m, in \u001b[0;36mDispatch\u001b[1;34m(dispatch, userName, resultCLSID, typeinfo, UnicodeToString, clsctx)\u001b[0m\n\u001b[0;32m    116\u001b[0m \u001b[38;5;250m\u001b[39m\u001b[38;5;124;03m\"\"\"Creates a Dispatch based COM object.\"\"\"\u001b[39;00m\n\u001b[0;32m    117\u001b[0m \u001b[38;5;28;01massert\u001b[39;00m UnicodeToString \u001b[38;5;129;01mis\u001b[39;00m \u001b[38;5;28;01mNone\u001b[39;00m, \u001b[38;5;124m\"\u001b[39m\u001b[38;5;124mthis is deprecated and will go away\u001b[39m\u001b[38;5;124m\"\u001b[39m\n\u001b[1;32m--> 118\u001b[0m dispatch, userName \u001b[38;5;241m=\u001b[39m \u001b[43mdynamic\u001b[49m\u001b[38;5;241;43m.\u001b[39;49m\u001b[43m_GetGoodDispatchAndUserName\u001b[49m\u001b[43m(\u001b[49m\u001b[43mdispatch\u001b[49m\u001b[43m,\u001b[49m\u001b[43m \u001b[49m\u001b[43muserName\u001b[49m\u001b[43m,\u001b[49m\u001b[43m \u001b[49m\u001b[43mclsctx\u001b[49m\u001b[43m)\u001b[49m\n\u001b[0;32m    119\u001b[0m \u001b[38;5;28;01mreturn\u001b[39;00m __WrapDispatch(dispatch, userName, resultCLSID, typeinfo, clsctx\u001b[38;5;241m=\u001b[39mclsctx)\n",
      "File \u001b[1;32m~\\AppData\\Roaming\\Python\\Python310\\site-packages\\win32com\\client\\dynamic.py:104\u001b[0m, in \u001b[0;36m_GetGoodDispatchAndUserName\u001b[1;34m(IDispatch, userName, clsctx)\u001b[0m\n\u001b[0;32m    101\u001b[0m     \u001b[38;5;66;03m## ??? else userName remains None ???\u001b[39;00m\n\u001b[0;32m    102\u001b[0m \u001b[38;5;28;01melse\u001b[39;00m:\n\u001b[0;32m    103\u001b[0m     userName \u001b[38;5;241m=\u001b[39m \u001b[38;5;28mstr\u001b[39m(userName)\n\u001b[1;32m--> 104\u001b[0m \u001b[38;5;28;01mreturn\u001b[39;00m (\u001b[43m_GetGoodDispatch\u001b[49m\u001b[43m(\u001b[49m\u001b[43mIDispatch\u001b[49m\u001b[43m,\u001b[49m\u001b[43m \u001b[49m\u001b[43mclsctx\u001b[49m\u001b[43m)\u001b[49m, userName)\n",
      "File \u001b[1;32m~\\AppData\\Roaming\\Python\\Python310\\site-packages\\win32com\\client\\dynamic.py:86\u001b[0m, in \u001b[0;36m_GetGoodDispatch\u001b[1;34m(IDispatch, clsctx)\u001b[0m\n\u001b[0;32m     84\u001b[0m         IDispatch \u001b[38;5;241m=\u001b[39m pythoncom\u001b[38;5;241m.\u001b[39mconnect(IDispatch)\n\u001b[0;32m     85\u001b[0m     \u001b[38;5;28;01mexcept\u001b[39;00m pythoncom\u001b[38;5;241m.\u001b[39mole_error:\n\u001b[1;32m---> 86\u001b[0m         IDispatch \u001b[38;5;241m=\u001b[39m \u001b[43mpythoncom\u001b[49m\u001b[38;5;241;43m.\u001b[39;49m\u001b[43mCoCreateInstance\u001b[49m\u001b[43m(\u001b[49m\n\u001b[0;32m     87\u001b[0m \u001b[43m            \u001b[49m\u001b[43mIDispatch\u001b[49m\u001b[43m,\u001b[49m\u001b[43m \u001b[49m\u001b[38;5;28;43;01mNone\u001b[39;49;00m\u001b[43m,\u001b[49m\u001b[43m \u001b[49m\u001b[43mclsctx\u001b[49m\u001b[43m,\u001b[49m\u001b[43m \u001b[49m\u001b[43mpythoncom\u001b[49m\u001b[38;5;241;43m.\u001b[39;49m\u001b[43mIID_IDispatch\u001b[49m\n\u001b[0;32m     88\u001b[0m \u001b[43m        \u001b[49m\u001b[43m)\u001b[49m\n\u001b[0;32m     89\u001b[0m \u001b[38;5;28;01melse\u001b[39;00m:\n\u001b[0;32m     90\u001b[0m     \u001b[38;5;66;03m# may already be a wrapped class.\u001b[39;00m\n\u001b[0;32m     91\u001b[0m     IDispatch \u001b[38;5;241m=\u001b[39m \u001b[38;5;28mgetattr\u001b[39m(IDispatch, \u001b[38;5;124m\"\u001b[39m\u001b[38;5;124m_oleobj_\u001b[39m\u001b[38;5;124m\"\u001b[39m, IDispatch)\n",
      "\u001b[1;31mcom_error\u001b[0m: (-2147221005, 'Invalid class string', None, None)"
     ]
    }
   ],
   "source": [
    "from win32com.client import Dispatch, GetActiveObject, gencache, constants\n",
    "\n",
    "try:\n",
    "    invApp = GetActiveObject(\"Inventor.Application\")\n",
    "except:\n",
    "    invApp = Dispatch(\"Inventor.Application\")\n",
    "    invApp.Visible = True\n",
    "\n",
    "mod = gencache.EnsureModule(\"{D98A091D-3A0F-4C3E-B36E-61F62068D488}\", 0, 1, 0)\n",
    "invApp = mod.Application(invApp)\n",
    "# invApp.SilentOperation = True\n",
    "\n",
    "# Create a new part\n",
    "invDoc = invApp.Documents.Add(constants.kPartDocumentObject, \"\", True)\n",
    "\n",
    "# Casting Document to PartDocument\n",
    "invPartDoc = mod.PartDocument(invDoc)\n",
    "\n",
    "compdef = invPartDoc.ComponentDefinition\n",
    "\n",
    "# Create a sketch\n",
    "xyPlane = compdef.WorkPlanes.Item(3)\n",
    "sketch = compdef.Sketches.Add(xyPlane)\n",
    "\n",
    "# Set Geometry variables\n",
    "tg = invApp.TransientGeometry\n",
    "lines = sketch.SketchLines\n",
    "\n",
    "# Draw Triangle\n",
    "line1 = lines.AddByTwoPoints(tg.CreatePoint2d(0, 0), tg.CreatePoint2d(4, 0))\n",
    "line2 = lines.AddByTwoPoints(line1.EndSketchPoint, tg.CreatePoint2d(4, 3))\n",
    "line3 = lines.AddByTwoPoints(line2.EndSketchPoint, line1.StartSketchPoint)\n",
    "\n",
    "\n",
    "# Draw slotted hole\n",
    "# Create the sketch points.\n",
    "points = sketch.SketchPoints\n",
    "arcs = sketch.SketchArcs\n",
    "pointArray = []\n",
    "pointArray.append(points.Add(tg.CreatePoint2d(0, 1), False))\n",
    "pointArray.append(points.Add(tg.CreatePoint2d(0, 0), False))\n",
    "pointArray.append(points.Add(tg.CreatePoint2d(0, -1), False))\n",
    "pointArray.append(points.Add(tg.CreatePoint2d(4, -1), False))\n",
    "pointArray.append(points.Add(tg.CreatePoint2d(4, 0), False))\n",
    "pointArray.append(points.Add(tg.CreatePoint2d(4, 1), False))\n",
    "# Draw the geometry.\n",
    "arc1 = arcs.AddByCenterStartEndPoint(pointArray[1], pointArray[0], pointArray[2])\n",
    "line1 = lines.AddByTwoPoints(pointArray[2], pointArray[3])\n",
    "arc2 = arcs.AddByCenterStartEndPoint(pointArray[4], pointArray[3], pointArray[5])\n",
    "line2 = lines.AddByTwoPoints(pointArray[5], pointArray[0])\n",
    "\n",
    "# Draw Rectangle\n",
    "rectangle = lines.AddAsTwoPointRectangle(tg.CreatePoint2d(0, 0), tg.CreatePoint2d(4, 3))\n",
    "\n",
    "# Extrude\n",
    "profile = sketch.Profiles.AddForSolid()\n",
    "extrudeDef = compdef.Features.ExtrudeFeatures.CreateExtrudeDefinition(\n",
    "    profile, constants.kJoinOperation\n",
    ")\n",
    "extrudeDef.SetDistanceExtent(1, constants.kNegativeExtentDirection)\n",
    "extrude = compdef.Features.ExtrudeFeatures.Add(extrudeDef)\n",
    "\n",
    "# Close Document and Inventor\n",
    "# invPartDoc.Close(SkipSave=True)\n",
    "# invApp.Quit()"
   ]
  },
  {
   "cell_type": "code",
   "execution_count": null,
   "id": "82941e0a-36f5-414f-b106-3bbb0e657319",
   "metadata": {},
   "outputs": [],
   "source": []
  },
  {
   "cell_type": "code",
   "execution_count": null,
   "id": "84c4e79a-ed91-412f-bbf2-5d03e12368a2",
   "metadata": {},
   "outputs": [],
   "source": []
  },
  {
   "cell_type": "code",
   "execution_count": null,
   "id": "22fc6bd5-ef81-4840-872d-ded9e8cd1e38",
   "metadata": {},
   "outputs": [],
   "source": []
  },
  {
   "cell_type": "markdown",
   "id": "07eadb11-a59e-4930-890d-fc40d647dd2b",
   "metadata": {},
   "source": [
    "# Appendix\n",
    "\n",
    "How to find a list of Application Names available via COM on your Device, outputs the results to COM_Applications.csv"
   ]
  },
  {
   "cell_type": "code",
   "execution_count": null,
   "id": "5d3885e3-78f8-4071-a4de-62ba5263f54e",
   "metadata": {
    "tags": []
   },
   "outputs": [],
   "source": [
    "import winreg\n",
    "\n",
    "# First we create a list of all the registry keys in the CLSID registry Key\n",
    "list_of_application_ids = []\n",
    "\n",
    "# Define the registry key you want to start in and open it\n",
    "root_key = winreg.OpenKey(winreg.HKEY_CLASSES_ROOT, r\"CLSID\\\\\", 0, winreg.KEY_READ)\n",
    "\n",
    "# winreg.QueryInfoKey(key) returns the number of items in the registry key\n",
    "for i in range(winreg.QueryInfoKey(root_key)[0]):\n",
    "    list_of_application_ids.append(winreg.EnumKey(root_key, i))\n",
    "\n",
    "del list_of_application_ids[0]"
   ]
  },
  {
   "cell_type": "code",
   "execution_count": null,
   "id": "b3857f04-8bdb-420c-b5d7-d4d47e1804b7",
   "metadata": {
    "tags": []
   },
   "outputs": [],
   "source": [
    "# Then we loop through those to see which have a set \"ProgID\" value and return them here\n",
    "return_string = \"\"\n",
    "\n",
    "for registry_key in list_of_application_ids:\n",
    "    # Open the key\n",
    "    open_registry_key = winreg.OpenKey(\n",
    "        winreg.HKEY_CLASSES_ROOT, f\"CLSID\\\\{registry_key}\", 0, winreg.KEY_READ\n",
    "    )\n",
    "\n",
    "    # winreg.QueryInfoKey(key) returns the number of items in the registry key\n",
    "    for i in range(winreg.QueryInfoKey(open_registry_key)[0]):\n",
    "        if winreg.EnumKey(open_registry_key, i) == \"ProgID\":\n",
    "            ProgID_Key = winreg.OpenKey(\n",
    "                winreg.HKEY_CLASSES_ROOT,\n",
    "                f\"CLSID\\\\{registry_key}\\\\ProgID\",\n",
    "                0,\n",
    "                winreg.KEY_READ,\n",
    "            )\n",
    "            try:\n",
    "                ProgID_Value = winreg.EnumValue(ProgID_Key, 0)[1]\n",
    "                return_string = (\n",
    "                    return_string\n",
    "                    + f\"Program ID: {registry_key} Name: {ProgID_Value}\"\n",
    "                    + \"\\n\"\n",
    "                )\n",
    "            except:\n",
    "                pass"
   ]
  },
  {
   "cell_type": "code",
   "execution_count": null,
   "id": "a2f249ee-74c8-4703-9e41-93207d7c8759",
   "metadata": {
    "tags": []
   },
   "outputs": [],
   "source": [
    "import csv\n",
    "\n",
    "\n",
    "def string_to_csv(input_string, output_csv):\n",
    "    labels = [\"Program ID\", \"Application Name\"]\n",
    "\n",
    "    # Write the data to a CSV file\n",
    "    with open(output_csv, \"w\") as f:  # You will need 'wb' mode in Python 2.x\n",
    "        w = csv.writer(f)\n",
    "        w.writerow(labels)\n",
    "\n",
    "    # Loop through the values and store them in a list\n",
    "    for line in input_string.splitlines()[1:]:\n",
    "        # Split the input string into label-value pairs\n",
    "        pairs = line.split()\n",
    "\n",
    "        # Write the data to a CSV file\n",
    "        with open(output_csv, \"a\") as f:\n",
    "            w = csv.writer(f)\n",
    "            w.writerow((pairs[2], pairs[-1]))\n",
    "\n",
    "\n",
    "# Example usage\n",
    "output_csv = \"output/COM_Applications.csv\""
   ]
  },
  {
   "cell_type": "code",
   "execution_count": null,
   "id": "e148a368-61a4-4c8c-8572-ef3e086b5c52",
   "metadata": {},
   "outputs": [],
   "source": [
    "return_string"
   ]
  },
  {
   "cell_type": "code",
   "execution_count": null,
   "id": "e3fa44d3-75c3-4e84-a408-9847a4c013aa",
   "metadata": {},
   "outputs": [],
   "source": [
    "string_to_csv(return_string, output_csv)\n",
    "print(f\"CSV file '{output_csv}' created successfully.\")"
   ]
  },
  {
   "cell_type": "code",
   "execution_count": null,
   "id": "5a158c59-64ad-450f-97a0-38a385124c02",
   "metadata": {
    "tags": []
   },
   "outputs": [],
   "source": []
  },
  {
   "cell_type": "code",
   "execution_count": null,
   "id": "01a4fc62-1587-4c10-9967-4f2afe8bbf23",
   "metadata": {},
   "outputs": [],
   "source": []
  }
 ],
 "metadata": {
  "kernelspec": {
   "display_name": "Python 3 (ipykernel)",
   "language": "python",
   "name": "python3"
  },
  "language_info": {
   "codemirror_mode": {
    "name": "ipython",
    "version": 3
   },
   "file_extension": ".py",
   "mimetype": "text/x-python",
   "name": "python",
   "nbconvert_exporter": "python",
   "pygments_lexer": "ipython3",
   "version": "3.10.13"
  }
 },
 "nbformat": 4,
 "nbformat_minor": 5
}
