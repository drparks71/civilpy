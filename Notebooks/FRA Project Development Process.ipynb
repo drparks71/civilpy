{
 "cells": [
  {
   "cell_type": "markdown",
   "id": "ec661727-7afc-49cc-80e9-869c3828cf85",
   "metadata": {},
   "source": [
    "# Preliminary Engineering\n",
    "\n",
    "[Source Video](https://www.youtube.com/watch?v=0yyF56e5fVA)"
   ]
  },
  {
   "cell_type": "markdown",
   "id": "dc9911a5-715e-4dca-8d19-d2ef6dcf4d86",
   "metadata": {},
   "source": [
    "## Intro\n",
    "\n",
    "Goal is to take the 15% design from Service Planning and Environmental Review, and develop it to the 30% level of design with additional engineering.  The primary goals are to establish the project is feasible, and that the program requirements are fulfilled.\n",
    "\n",
    "Based on the 30% design, the grantee will develop a schedule and cost estimate for the project. The FRA then reviews the Preliminary Engineering Package and provides technical assistance as needed.\n",
    "\n",
    "Establish the design criteria, infrastructure and operations, as well design drawings based on surveys, maps and existing conditions.\n",
    "\n",
    "Follows Service planning and conceptual engineering, Environmental Review is conducted concurrently with Preliminary Engineering.\n",
    "\n",
    "Preliminary Engineering is based on the preferred alternative identified during NEPA and Environmental Review is dependent on the Design drawings and supporting information.\n",
    "\n",
    "During NEPA, grantees assess reasonable alternatives for their environmental impacts among other factors. They use this analysis to select a preferred alternative. Only the preferred alternative is assessed during preliminary engineering. You may not submit your final PE package for approval until after the NEPA decision is issued and its results have been incorporated into PE.\n",
    "\n",
    "For preliminary Engineering, you'll need:\n",
    "\n",
    "<b>The Project Management Plan</b>\n",
    "- Authority, capacity, policies, practices, and procedures\n",
    "- Action Plan\n",
    "- Managing its scope, cost, schedule, quality, and associated risks\n",
    "\n",
    "<b>The financial Plan</b>\n",
    "- How the project will be funded\n",
    "- Sources and Uses of the funds\n",
    "- Costs of borrowing\n",
    "- Timing of funding availability\n",
    "- project cash flow\n",
    "\n",
    "\n",
    "The PE package will include the following:\n",
    "\n",
    "- A statement of project goals and objectives\n",
    "    - Includes any outcome performance measures associated with the grant such as decreased trip time, or increased system reliability\n",
    "- A project description\n",
    "- The Project Scope as shown in drawings, specifications, design criteria reports and other documents\n",
    "- A project schedule\n",
    "- A capital cost estimate\n",
    "\n",
    "\n",
    "The components are developed in the following order:\n",
    "1. Scope\n",
    "2. Schedule\n",
    "3. Estimate"
   ]
  },
  {
   "cell_type": "markdown",
   "id": "7bf8a490-f19a-4e93-b5ff-e68db24d0928",
   "metadata": {},
   "source": [
    "## Project Scope\n",
    "\n",
    "Consideration needs to be given to,\n",
    "\n",
    "<b>Existing Conditions, Surveys, and Mapping:</b>\n",
    "\n",
    "These will demonstrate an understanding of the current infrastructure and the challenges and opportunities they present for the project. Include:\n",
    "\n",
    "- scaled maps or aerial photos:\n",
    "    - Include existing right of way limits with railroad and property ownership\n",
    "    - Drawings of the existing:\n",
    "        - Track Configuration\n",
    "        - Signal System\n",
    "        - Block Configuration\n",
    "        - Signal Equipment Locations\n",
    "        - Station Locations\n",
    "\n",
    "<b>Basis of Design:</b>\n",
    "\n",
    "Prepared during conceptual engineering, prior to PE, presents the technical criteria to be followed during the design of the project.\n",
    "\n",
    "Will also address design variances, or situations where a desired design criteria cannot be achieved, i.e. a passenger station located too close to existing freight tracks due to existing site constraints.\n",
    "\n",
    "<b>Design Drawings and Specifications:</b>\n",
    "\n",
    "Drawings will include:\n",
    "\n",
    "- Civil Works\n",
    "- Grading and drainage\n",
    "- Track configuration plans\n",
    "   Includes:\n",
    "    - Proposed track changes including the removal of existing track and installation of new track\n",
    "    - Track Centers, speeds, turnout sizes, curves and spiral data\n",
    "    - Vertical profiles and grades of existing and proposed construction\n",
    "    - Typical cross-sections showing proposed changes in track configuration and other locations that will require retaining walls or right-of-way acquisitions\n",
    "    - Parking, access to highway facilities and public transportation services (for passenger)\n",
    "   For complicated Track Configurations, you'll need:\n",
    "    - To prepare drawings of the existing and proposed signal designs\n",
    "    - Route and aspect charts\n",
    "    - Preliminary block design\n",
    "    - Signal equipment Locations\n",
    "- Station plans\n",
    "- Signal schematics\n",
    "- Provisions for postive train control"
   ]
  },
  {
   "cell_type": "markdown",
   "id": "3a397939-1177-4273-aa25-6ea8fa724ddc",
   "metadata": {},
   "source": [
    "### Aspects That Should Be Addressed Early\n",
    "\n",
    "When conducting engineering work to develop the project scope, several things should be kept in mind, be sure to address them early so that problems do not arise late in the project development process"
   ]
  },
  {
   "cell_type": "markdown",
   "id": "7d23351c-1a94-4ce8-8d21-e358c34935e5",
   "metadata": {},
   "source": [
    "#### Safety and Security\n",
    "\n",
    "The design that you develop as part of your project scope should consider safety and security as a top priority. It should address safety and security for;\n",
    "\n",
    "- Construction workers\n",
    "- Train and station personnel\n",
    "- Passengers and the public\n",
    "- Equipment during:\n",
    "  - Construction\n",
    "  - Testing\n",
    "  - Operation\n",
    "\n",
    "Coordinate with the FRA regional team's safety expert."
   ]
  },
  {
   "cell_type": "markdown",
   "id": "2a7a27a9-ef4b-47ae-b4ac-9d83f5db514f",
   "metadata": {},
   "source": [
    "#### Environmental Review\n",
    "\n",
    "PE design work is used to support the environmental review process. The selection of a preferred alternative must be complete before finishing PE. The scope, schedule and cost estimate must align closely with the preferred alternative identified during the environmental review process. Work closely with the FRA regional team's environmental specialist to ensure you're on the right track. See [Environmental Review Video](https://www.youtube.com/watch?v=_vC1wL-WDU8) for more information."
   ]
  },
  {
   "cell_type": "markdown",
   "id": "68a3187b-98a0-4d01-a97e-71023a65e420",
   "metadata": {},
   "source": [
    "#### Americans with Disabilities Act\n",
    "\n",
    "Think carefully about ADA compliance throughout PE\n",
    "\n",
    "Any Publicly or privately funded rail project of public accommodation must be accessible to persons with disabilities. That means rail stations and platforms must be accessible to individuals with visual, hearing, mobility or other physical impairments. Considering these factors early will allow any concerns to be addressed and mitigate accessibility issues as they arise. See the [FRA's ADA video](https://www.youtube.com/watch?v=_cj8iLyd_aY) for further information on making the project accessible to persons with disabilities."
   ]
  },
  {
   "cell_type": "markdown",
   "id": "2d2254c9-ccbf-49af-b9bb-3ab8bace4c97",
   "metadata": {},
   "source": [
    "#### Track Configuration"
   ]
  },
  {
   "cell_type": "markdown",
   "id": "e5711297-5250-43a7-b09d-ec9b1881e16c",
   "metadata": {},
   "source": [
    "#### Construction and Utilities"
   ]
  },
  {
   "cell_type": "markdown",
   "id": "3f2359f4-6a2d-4979-9873-f4edd62d3a9f",
   "metadata": {},
   "source": []
  },
  {
   "cell_type": "markdown",
   "id": "fce2c008-d97e-40e3-aecf-378cef476d55",
   "metadata": {},
   "source": [
    "## Project Schedule"
   ]
  },
  {
   "cell_type": "markdown",
   "id": "dc45aed3-63cd-4f75-8757-b72c0ade073d",
   "metadata": {},
   "source": [
    "## Project Cost Estimate"
   ]
  },
  {
   "cell_type": "markdown",
   "id": "af08ea09-a06c-41af-830e-d26ad9755142",
   "metadata": {},
   "source": [
    "## Helpful Tips"
   ]
  },
  {
   "cell_type": "markdown",
   "id": "78ba9a79-6d2d-4621-8a4a-e83415da1154",
   "metadata": {},
   "source": [
    "## PE Completion and Approval"
   ]
  },
  {
   "cell_type": "markdown",
   "id": "5a04eba2-2261-4f6c-94cb-1f8c17254f3b",
   "metadata": {},
   "source": []
  },
  {
   "cell_type": "markdown",
   "id": "9b4e704e-2c09-41ab-bd9d-49e01efc2dfa",
   "metadata": {},
   "source": []
  },
  {
   "cell_type": "markdown",
   "id": "c4f000d1-5346-4029-bda8-557a64dab6fc",
   "metadata": {},
   "source": []
  }
 ],
 "metadata": {
  "kernelspec": {
   "display_name": "Python 3 (ipykernel)",
   "language": "python",
   "name": "python3"
  },
  "language_info": {
   "codemirror_mode": {
    "name": "ipython",
    "version": 3
   },
   "file_extension": ".py",
   "mimetype": "text/x-python",
   "name": "python",
   "nbconvert_exporter": "python",
   "pygments_lexer": "ipython3",
   "version": "3.10.13"
  }
 },
 "nbformat": 4,
 "nbformat_minor": 5
}
