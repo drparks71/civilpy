{
 "cells": [
  {
   "cell_type": "markdown",
   "id": "51f6f563-74ab-42e5-8807-468e3cbad96c",
   "metadata": {
    "ExecuteTime": {
     "end_time": "2025-05-12T16:48:30.735292Z",
     "start_time": "2025-05-12T16:48:30.728744Z"
    }
   },
   "source": [
    "# Design of Wood Structures\n",
    "\n",
    "The following are the notes developed by Dane Parks while working through  \n",
    "developing python functions to assist in wood design. The functions are  \n",
    "based on the contents of [**Design of Wood Structures** - Eighth Edition](https://www.mheducation.com/highered/product/design-wood-structures-asd-lrfd-eighth-edition.html),  \n",
    "published by McGraw Hill.\n",
    "\n",
    "The python code that follows are intended to be considered a \"Derivative  \n",
    "work\". This is not intended to be a replacement for the text book, but  \n",
    "rather a record of development methods utilized while creating the [*Civilpy*](https://pypi.org/project/civilpy/)  \n",
    "Library."
   ]
  },
  {
   "cell_type": "markdown",
   "id": "58ead529-5d7d-48ef-9cde-91ce32b9ba41",
   "metadata": {},
   "source": [
    "# Table of Contents\n",
    "\n",
    "Preface, Publications and Units\n",
    "1. Wood Buildings and Design Criteria  \n",
    "   1.1 Introduction  \n",
    "   1.2 Types of Buildings  \n",
    "   1.3 Required and Recommended References  \n",
    "   1.4 Building COdes and Design Criteria  \n",
    "   1.5 ASD and LRFD  \n",
    "   1.6 Organization of the Text  \n",
    "   1.7 Structural Calculations  \n",
    "   1.8 Detailing Conventions  \n",
    "   1.9 Fire-Resistive Requirements  \n",
    "   1.10 Industry Organizations  \n",
    "   1.11 References  \n",
    "2. Design Loads  \n",
    "   2.1 Introduction  \n",
    "   2.2 Dead Laods  \n",
    "   2.3 Live Loads  \n",
    "   &nbsp;&nbsp;&nbsp;&nbsp;&nbsp;&nbsp;- Floor Live Loads  \n",
    "   &nbsp;&nbsp;&nbsp;&nbsp;&nbsp;&nbsp;- Roof Live Loads  \n",
    "   &nbsp;&nbsp;&nbsp;&nbsp;&nbsp;&nbsp;- Special Live Loads  \n",
    "   2.4 Snow Loads  \n",
    "   2.5 Soil Loads and Hydrostatic Pressure  \n",
    "   2.6 Loads Due to Fluids  \n",
    "   2.7 Rain Loads  \n",
    "   2.8 Flood Loads  \n",
    "   2.9 Tsunami Loads  \n",
    "   2.10 Self-Straining Loads  \n",
    "   2.11 Wind Loads - Introduction  \n",
    "   2.12 Wind Forces - Main Wind Force Resisting System  \n",
    "   2.13 Wind Forces - Components and Cladding  \n",
    "   2.14 Seismic Forces - Introduction  \n",
    "   2.15 Seismic Forces  \n",
    "   &nbsp;&nbsp;&nbsp;&nbsp;&nbsp;&nbsp;- Redundancy Factor  \n",
    "   &nbsp;&nbsp;&nbsp;&nbsp;&nbsp;&nbsp;- Base Shear Calculation  \n",
    "   &nbsp;&nbsp;&nbsp;&nbsp;&nbsp;&nbsp;- Design Spectral Response Accelerations $S_{DS}$ and $S_{D1}$  \n",
    "   &nbsp;&nbsp;&nbsp;&nbsp;&nbsp;&nbsp;- Importance Factor, $I_e$  \n",
    "   &nbsp;&nbsp;&nbsp;&nbsp;&nbsp;&nbsp;- Seismic Design Category  \n",
    "   &nbsp;&nbsp;&nbsp;&nbsp;&nbsp;&nbsp;- Response Modification Factor, $R$  \n",
    "   2.16 Seismic Forces - Primary System  \n",
    "   2.17 Seismic Forces - Components  \n",
    "   2.18 Load Combinations  \n",
    "   &nbsp;&nbsp;&nbsp;&nbsp;&nbsp;&nbsp;- Summary of Load Types  \n",
    "   &nbsp;&nbsp;&nbsp;&nbsp;&nbsp;&nbsp;- ASD Load Combinations  \n",
    "   &nbsp;&nbsp;&nbsp;&nbsp;&nbsp;&nbsp;- LRFD Load Combinations  \n",
    "   &nbsp;&nbsp;&nbsp;&nbsp;&nbsp;&nbsp;- Determining Applicable Loads  \n",
    "   &nbsp;&nbsp;&nbsp;&nbsp;&nbsp;&nbsp;- Simultaneous Occurence of Loads  \n",
    "   &nbsp;&nbsp;&nbsp;&nbsp;&nbsp;&nbsp;- Load Duration Factor, Time Effect Factor and Allowable Stress Increases  \n",
    "   &nbsp;&nbsp;&nbsp;&nbsp;&nbsp;&nbsp;- Load Levels  \n",
    "   2.19 Serviceability/Deflection Criteria  \n",
    "   2.20 References  \n",
    "   2.21 Problems  \n",
    "3. Behavior of Structures under Loads and Forces  \n",
    "   3.1 Introduction  \n",
    "   3.2 Structures Subject to Vertical Loads  \n",
    "   3.3 Structures Subject to Lateral Forces  \n",
    "   3.4 Lateral Forces in Buildings with Diaphragms and Shearwalls  \n",
    "   3.5 Design Problem: Lateral Forces on One-story Building  \n",
    "   3.6 Design Problem: Lateral Forces on Two-Story Building  \n",
    "   3.7 References  \n",
    "   3.8 Problems   \n",
    "4. Properties of Wood and Lumber Grades  \n",
    "   4.1 Introduction  \n",
    "   4.2 Design Specification  \n",
    "   &nbsp;&nbsp;&nbsp;&nbsp;&nbsp;&nbsp;- NDS  \n",
    "   &nbsp;&nbsp;&nbsp;&nbsp;&nbsp;&nbsp;- NDS Supplement  \n",
    "   &nbsp;&nbsp;&nbsp;&nbsp;&nbsp;&nbsp;- Special Design Provisions for Wind and Seismic  \n",
    "   &nbsp;&nbsp;&nbsp;&nbsp;&nbsp;&nbsp;- Design Manual  \n",
    "   &nbsp;&nbsp;&nbsp;&nbsp;&nbsp;&nbsp;- Code Adoption  \n",
    "   4.3 Methods of Grading Structural Lumber  \n",
    "   4.4 Derivation of Design Values  \n",
    "   4.5 Species and Species Groups  \n",
    "   4.6 Cellular Makeup  \n",
    "   4.7 Moisture Content and Shrinkage  \n",
    "   4.8 Effect of Moisture Content on Lumber Sizes  \n",
    "   4.9 Durability of Wood and the Need for Preservative Treatment  \n",
    "   4.10 Growth Characteristics of Wood  \n",
    "   4.11 Sizes of Structural Lumber  \n",
    "   4.12 Size Categories and Commercial Grades  \n",
    "   4.13 General Notation  \n",
    "   4.14 Wet Service Factor $C_M$  \n",
    "   4.15 Load Duration Factor $C_D$ (ASD Only)  \n",
    "   4.16 Time Effect Factor $\\lambda$ (LRFD Only)  \n",
    "   4.17 Size Factor $C_F$  \n",
    "   4.18 Repetitive Member Factor $C_t$  \n",
    "   4.19 Flat Use Factor $C_{fu}$  \n",
    "   4.20 Temperature Factor $C_t$  \n",
    "   4.21 Incising Factor $C_i$  \n",
    "   4.22 Resistance Factor $\\phi$ (LRFD Only)  \n",
    "   4.23 Format Conversion Factor $K_F$ (LRFD Only)  \n",
    "   4.24 Design Problem: Adjusted Design Values  \n",
    "   4.25 References  \n",
    "   4.26 Problems  \n",
    "5. Structural Glued Laminated Timber  \n",
    "   5.1 Introduction  \n",
    "   5.2 Sizes of Glulam Mmebers  \n",
    "   5.3 Resawn Glulam  \n",
    "   5.4 Fabrication of Glulams  \n",
    "   5.5 Grades of Glulam Members  \n",
    "   5.6 Appearance Classification  \n",
    "   5.7 Adjustment factors for Glulam  \n",
    "   &nbsp;&nbsp;&nbsp;&nbsp;&nbsp;&nbsp;- Wet Service Factor ($C_M$)  \n",
    "   &nbsp;&nbsp;&nbsp;&nbsp;&nbsp;&nbsp;- Load Duration Factor ($C_D$) *ASD Only*  \n",
    "   &nbsp;&nbsp;&nbsp;&nbsp;&nbsp;&nbsp;- Time Effect Factor ($\\lambda$) *LRFD Only*  \n",
    "   &nbsp;&nbsp;&nbsp;&nbsp;&nbsp;&nbsp;- Temperature Factor ($C_t$)  \n",
    "   &nbsp;&nbsp;&nbsp;&nbsp;&nbsp;&nbsp;- Flat-Use Factor ($C_{fu}$)  \n",
    "   &nbsp;&nbsp;&nbsp;&nbsp;&nbsp;&nbsp;- Volume Factor ($C_v$)  \n",
    "   &nbsp;&nbsp;&nbsp;&nbsp;&nbsp;&nbsp;- Shear Reduction Factor ($C_{vr}$)  \n",
    "   &nbsp;&nbsp;&nbsp;&nbsp;&nbsp;&nbsp;- Resistance Factor ($\\phi$) *LRFD Only*  \n",
    "   &nbsp;&nbsp;&nbsp;&nbsp;&nbsp;&nbsp;- Format Conversion Factor ($K_F$) *LRFD Only*  \n",
    "   5.8 Design Problem: Adjusted Design Values  \n",
    "   5.9 References  \n",
    "   5.10 Problems  \n",
    "6. Beam Design  \n",
    "   6.1 Introduction  \n",
    "   6.2 Bending  \n",
    "   6.3 Lateral Stability  \n",
    "   6.4 Adjusted Bending Deisgn Value Summary  \n",
    "   6.5 Shear  \n",
    "   6.6 Deflection  \n",
    "   6.7 Design Summary  \n",
    "   6.8 Bearing at Supports  \n",
    "   6.9 Design Problem: Sawn Beam  \n",
    "   6.10 Design Problem: Rough Sawn Beam Using ASD  \n",
    "   6.11 Design Problem: Notched Beam  \n",
    "   6.12 Deisgn Problem: Sawn-Beam Analysis  \n",
    "   6.13 Deisgn Problem: Glulam Beam with Full Lateral Support  \n",
    "   6.14 Design Problem: Glulam Beam with Lateral Support at 8 ft-0 in.  \n",
    "   6.15 Design Problem: Glulam Beam with Lateral Support at 48 ft-0 in.  \n",
    "   6.16 Design Problem: Glulam with Compression Zone Stressed in Tension  \n",
    "   6.17 Cantilever Beam Systems  \n",
    "   6.18 Lumber Roof and Floor Decking  \n",
    "   6.19 Fabricated Wood Components  \n",
    "   6.20 References  \n",
    "   6.21 Problems  \n",
    "7. Axial Forces and Combined Bending and Axial Forces\n",
    "   7.1 Introduction  \n",
    "   7.2 Axial Tension Members  \n",
    "   7.3 Design Problem: Tension Member  \n",
    "   7.4 Columns  \n",
    "   7.5 Detailed Analysis of Slenderness Ratio  \n",
    "   7.6 Design Problem: Axially Loaded Column  \n",
    "   7.7 Design Problem: Capacity of a Glulam Column  \n",
    "   7.8 Design Problem: Capacity of a Bearing Wall  \n",
    "   7.9 Built-Up Columns  \n",
    "   7.10 Combined Bending and Tension  \n",
    "   &nbsp;&nbsp;&nbsp;&nbsp;&nbsp;&nbsp;- Combined Axial Tension and Bending Tension  \n",
    "   &nbsp;&nbsp;&nbsp;&nbsp;&nbsp;&nbsp;- Net Compressive Stress  \n",
    "   7.11 Design Problem: Combined Bending and Tension  \n",
    "   7.12 Combined Bending and Compression  \n",
    "   7.13 Design Problem: Beam-Column  \n",
    "   7.14 Design Problem: Beam-Column Action in a Stud Wall Using LRFD  \n",
    "   7.15 Design Problem: Glulam Beam-Column Action in a Stud  \n",
    "   7.16 Design for Minimum Eccentricity  \n",
    "   7.17 Design Problem: Column with Eccentric Load Using ASD  \n",
    "   7.18 References  \n",
    "   7.19 Problems  \n",
    "8. Wood Structural Panels\n",
    "   8.1 Introduction  \n",
    "   8.2 Panel Dimensions and INstallation Recommendations  \n",
    "   8.3 Ploywood Makeup  \n",
    "   8.4 OSB Makeup  \n",
    "   8.5 Species Groups for Plywood  \n",
    "   8.6 Veneer Grades  \n",
    "   8.7 Exposure Durability Classifications  \n",
    "   8.8 Panel Grades  \n",
    "   8.9 Wood Structural Panel Siding  \n",
    "   8.10 Roof Sheathing  \n",
    "   8.11 Design Problem: Roof Sheathing  \n",
    "   8.12 Floor Sheating  \n",
    "   8.13 Design Problem: Floor Sheathing  \n",
    "   8.14 Wall Sheathing and Siding  \n",
    "   8.15 Stress Calculations for Wood Structural Panels  \n",
    "   8.16 References  \n",
    "   8.17 Problems  \n",
    "9. Diaphragms\n",
    "   9.1 Introduction  \n",
    "   9.2 Basic Diaphragm Action  \n",
    "   9.3 Shear Resistance  \n",
    "   9.4 Diaphragm Chords  \n",
    "   9.5 Deisgn Problem: Roof Diaphragm  \n",
    "   9.6 Distribution of Lateral Forces in a Shearwall  \n",
    "   9.7 Collector (Strut) Forces  \n",
    "   9.8 Diaphragm Deflections  \n",
    "   9.9 Diaphragms with Interior Shearwalls  \n",
    "   9.10 Interior Shearwalls with Collectors  \n",
    "   9.11 Diaphragm Flexibility  \n",
    "   9.12 References  \n",
    "   9.13 Problems  \n",
    "10. Shearwalls\n",
    "   10.1 Introduction  \n",
    "   10.2 Basic Shearwall Action  \n",
    "   10.3 Shearwalls using Wood Structural Panels  \n",
    "   10.4 Other Sheathing Materials  \n",
    "   10.5 Shearwall Chord Members  \n",
    "   10.6 Design Problem: Shearwall  \n",
    "   10.7 Alternate Shearwall Design Methods  \n",
    "   10.8 Anchorage Considerations  \n",
    "   10.9 Vertical (Gravity) Loads  \n",
    "   10.10 Lateral Forces Parallel to a Wall  \n",
    "   10.11 Shearwall Deflection  \n",
    "   10.12 Lateral Forces Perpendicular to a Wall  \n",
    "   10.13 References  \n",
    "   10.14 Problems  \n",
    "11. Wood Connections - Background\n",
    "   11.1 Introduction  \n",
    "   11.2 Types of Fasteners and Connections  \n",
    "   11.3 Yield Model for Laterally Loaded Fasteners  \n",
    "   11.4 Factors Affecting Strength in Yield Model  \n",
    "   11.5 Dowel Bearing Strength  \n",
    "   11.6 Plastic Hinge in Fastener  \n",
    "   11.7 Yield Limit Mechanisms  \n",
    "   11.8 References  \n",
    "   11.9 Problems  \n",
    "12. Nailed and Stapled Connections  \n",
    "   12.1 Introduction  \n",
    "   12.2 Types of Nails  \n",
    "   12.3 Power-Driven Nails and Staples  \n",
    "   12.4 Yield Limit Equations for Nails  \n",
    "   12.5 Applications of Yield Limit Equations  \n",
    "   12.6 Adjustment Factors for Laterally Loaded Nails  \n",
    "   12.7 Design Problem: Nail Connection for Knee Brace  \n",
    "   12.8 Deisgn Problem: Top Plate Splice  \n",
    "   12.9 Design Problem: Shearwall Chord Tie  \n",
    "   12.10 Design Problem: Laterally Loaded Toenail  \n",
    "   12.11 Design Problem: Laterally Loaded Connection in End Grain  \n",
    "   12.12 Nail Withdrawal Connections  \n",
    "   12.13 Combined Lateral and Withdrawal Loads  \n",
    "   12.14 Spacing Requirements  \n",
    "   12.15 Nailing Schedule  \n",
    "   12.16 References  \n",
    "   12.17 Problems  \n",
    "13. Bolts, Lag Bolts, and Other Connectors\n",
    "   13.1 Introduction  \n",
    "   13.2 Bolt Connections  \n",
    "   13.3 Bolt Yield Limit Equations for Single Shear  \n",
    "   13.4 Bolt Yield Limit Equations for Double Shear  \n",
    "   13.5 Adjustment Factors for Bolts  \n",
    "   13.6 Tension and Shear Stresses at a Multiple Fastener Connection  \n",
    "   13.7 Design Problem: Multiple-Bolt Tension Connection  \n",
    "   13.8 Design Problem: Bolted Chord Splice for Diaphragm  \n",
    "   13.9 Shear Stresses in a Beam at a Connection  \n",
    "   13.10 Design Problem: Bolt Connection for Diagonal Brace  \n",
    "   13.11 Lag Bolt Connections  \n",
    "   13.12 Yield Limit Equations for Lag Bolts  \n",
    "   13.13 Adjustment Factors for Lag Bolts in Shear Connections  \n",
    "   13.14 Design Problem: Collector (Strut) Splice with Lag Bolts  \n",
    "   13.15 Lag Bolts in Withdrawal  \n",
    "   13.16 Combined Lateral and Withdrawal Loads  \n",
    "   13.17 Split Ring and Shear Plate Connectors  \n",
    "   13.18 Developments in Lag Screw Technology  \n",
    "   13.19 References  \n",
    "   13.20 Problems  \n",
    "14. Connection Details and Hardware  \n",
    "   14.1 Introduction  \n",
    "   14.2 Connection Details  \n",
    "   14.3 Design Problem: Beam-to-Column Connection  \n",
    "   14.4 Cantilever Beam Hinge Connection  \n",
    "   14.5 Prefabricated Connection Hardware  \n",
    "   14.6 References  \n",
    "15. Diaphragm-to-Shearwall Anchorage\n",
    "   15.1 Introduction  \n",
    "   15.2 Anchorage Summary  \n",
    "   15.3 Connection Details - Diaphragm to Wood-Frame Wall  \n",
    "   15.4 Connection Details - Diaphragm to Concrete or Masonry Walls  \n",
    "   15.5 Subdiaphragm Anchorage of Concrete and Masonry Walls  \n",
    "   15.6 Design Problem: Subdiaphragm  \n",
    "   15.7 References  \n",
    "16. Advanced Topics in Lateral Force Design\n",
    "   16.1 Introduction  \n",
    "   16.2 Seismic Forces - Regular Structures  \n",
    "   16.3 Seismic Forces - Irregular Structures  \n",
    "   16.4 Overturning - Background  \n",
    "   16.5 Overturning - Review  \n",
    "   16.6 Overturning - Wind  \n",
    "   16.7 Overturning - Seismic  \n",
    "   16.8 Lateral Analysis of Nonrectangular Buildings  \n",
    "   16.9 Rigid Diaphragm Analysis  \n",
    "   16.10 Additional Topics in Diaphragm Design  \n",
    "   16.11 References  \n",
    "Appendix A - Equivalent Uniform Weights of Wood Framing  \n",
    "Appendix B - Weights of Building Materials  \n",
    "Appendix C - SI Units  \n",
    "&nbsp;&nbsp;&nbsp;&nbsp;- Introduction  \n",
    "&nbsp;&nbsp;&nbsp;&nbsp;- Notation  \n",
    "&nbsp;&nbsp;&nbsp;&nbsp;- Prefixes  \n",
    "&nbsp;&nbsp;&nbsp;&nbsp;- Conversion Factors  \n",
    "&nbsp;&nbsp;&nbsp;&nbsp;&nbsp;&nbsp;&nbsp;&nbsp;- Area  \n",
    "&nbsp;&nbsp;&nbsp;&nbsp;&nbsp;&nbsp;&nbsp;&nbsp;- Bending Moment or Torque  \n",
    "&nbsp;&nbsp;&nbsp;&nbsp;&nbsp;&nbsp;&nbsp;&nbsp;- Lengths or Displacements  \n",
    "&nbsp;&nbsp;&nbsp;&nbsp;&nbsp;&nbsp;&nbsp;&nbsp;- Loads  \n",
    "&nbsp;&nbsp;&nbsp;&nbsp;&nbsp;&nbsp;&nbsp;&nbsp;- Moment of Inertia  \n",
    "&nbsp;&nbsp;&nbsp;&nbsp;&nbsp;&nbsp;&nbsp;&nbsp;- Section Modulus or Volume  \n",
    "&nbsp;&nbsp;&nbsp;&nbsp;&nbsp;&nbsp;&nbsp;&nbsp;- Stress and Modulus of Elasticity  \n",
    "&nbsp;&nbsp;&nbsp;&nbsp;&nbsp;&nbsp;&nbsp;&nbsp;- Unit Weight, Density  "
   ]
  },
  {
   "cell_type": "markdown",
   "id": "5284bd26-9828-4f22-8df4-7f4f7afd4d82",
   "metadata": {},
   "source": [
    "# Preface, Publications and Units\n",
    "\n",
    "Most of the contents of the book won't be captured in this document, and  \n",
    "many theoretical sections will be glossed over. I highly recommend any  \n",
    "readers obtain a copy of the original source material so that that  \n",
    "information contained within isn't lost to them.\n",
    "\n",
    "The main library used in this notebook is Civilpy, it can be installed in a  \n",
    "code cell with;\n",
    "\n",
    "`%pip install Civilpy`"
   ]
  },
  {
   "cell_type": "code",
   "execution_count": 2,
   "id": "4f3bda4f-c1fd-4a4d-baed-ae3d245d6e75",
   "metadata": {
    "ExecuteTime": {
     "end_time": "2025-05-20T12:49:51.122931Z",
     "start_time": "2025-05-20T12:49:50.272223Z"
    }
   },
   "outputs": [
    {
     "name": "stdout",
     "output_type": "stream",
     "text": [
      "Name: civilpy\n",
      "Version: 0.1.6\n",
      "Summary: Civil Engineering Tools in Python\n",
      "Home-page: https://daneparks.com/Dane/civilpy\n",
      "Author: Dane Parks\n",
      "Author-email: Dane@daneparks.com\n",
      "License: AGPL-V3\n",
      "Location: C:\\Users\\dparks1\\PycharmProjects\\civilpy\\.venv\\Lib\\site-packages\n",
      "Requires: beautifulsoup4, coverage, fiona, Flask, folium, geopandas, html5lib, icalendar, msedge-selenium-tools, natsort, numpy, openpyxl, pandas, Pillow, Pint, pyntcloud, PyPDF2, pytesseract, pytest, requests, sshtunnel, sympy, termcolor, tifftools, tqdm, webdriver-manager\n",
      "Required-by: \n",
      "Note: you may need to restart the kernel to use updated packages.\n"
     ]
    }
   ],
   "source": [
    "# This code checks to make sure civilpy is installed and verifies the version\n",
    "%pip show civilpy"
   ]
  },
  {
   "cell_type": "markdown",
   "id": "7c7d8827-b229-44f0-b5ed-e1c125b70c36",
   "metadata": {},
   "source": [
    "## Publications\n",
    "\n",
    "**ASCE 7** - American Society of Civil Engineers (ASCE). 2016. *Minimum  \n",
    "Design loads and Associated Criteria for Buildings and Other Structures*  \n",
    "(ASCE/SEI 7-16), ASCE, Reston, VA.  \n",
    "\n",
    "**ASD/LRFD Manual** - American Wood Council (AWC). 2018. *ASD/LRFD Manual  \n",
    "for Engineering Wood Construction*, 2018 ed., AWC, Leesburg, VA.\n",
    "\n",
    "**IBC** - International Code Council (ICC). 2018. *International Building  \n",
    "Code* (IBC), 2018 ed., ICC, Washington, DC.\n",
    "\n",
    "**NDS** - American Wood Council (AWC). 2018. *National Design Specification  \n",
    "for Wood Construction* (NDS), ANSI/AWC NDS-2018, AWC, Leesburg, VA.\n",
    "\n",
    "**SDPWS** - American Wood Council (AWC). 2015. *Special Design Provisions  \n",
    "for Wind and Seismic* (SDPWS), AWC, Leesburg, VA.\n",
    "\n",
    "**TCM** - American Institute of Timber Construction (AITC). 2012. *Timber  \n",
    "Construction Manual*, 6th ed., John Wiley & Sons Inc., Hoboken, NJ."
   ]
  },
  {
   "cell_type": "markdown",
   "id": "12afff25-0ff8-41e8-bffe-2c4cdffa36d7",
   "metadata": {},
   "source": [
    "## Units\n",
    "\n",
    "Since this document utilizes python, the [pint](https://pint.readthedocs.io/en/stable/) library has been integrated  \n",
    "into the code to ensure unit handling is done during all practice problems  \n",
    "where practicable.\n",
    "\n",
    "If pint is not installed in your environment already, you can run the  \n",
    "following in a jupyter code cell to get started. If using civilpy, it's  \n",
    "included as a dependency.\n",
    "\n",
    "`%pip install pint%`"
   ]
  },
  {
   "cell_type": "code",
   "execution_count": 2,
   "id": "8ce3c59c-4769-4469-8e28-04d849d8947a",
   "metadata": {},
   "outputs": [],
   "source": [
    "from civilpy.general import units"
   ]
  },
  {
   "cell_type": "markdown",
   "id": "56d95dfe-4bf6-407f-bb7f-0e2f83c75cd0",
   "metadata": {},
   "source": [
    "The following are examples of how to assign each type of unit when doing  \n",
    "calculations, how to convert them, and how they output in the jupyter view."
   ]
  },
  {
   "cell_type": "code",
   "execution_count": 3,
   "id": "724a4d4c-c36d-449d-acd0-8ae0cb81621c",
   "metadata": {},
   "outputs": [],
   "source": [
    "# You can set pint to default to imperial during conversions,\n",
    "units.default_system = 'imperial'"
   ]
  },
  {
   "cell_type": "code",
   "execution_count": 4,
   "id": "f0fd036f9f0b613f",
   "metadata": {
    "ExecuteTime": {
     "end_time": "2025-05-14T12:32:45.949649Z",
     "start_time": "2025-05-14T12:32:45.939927Z"
    }
   },
   "outputs": [
    {
     "data": {
      "text/html": [
       "1 foot"
      ],
      "text/latex": [
       "$1\\ \\mathrm{foot}$"
      ],
      "text/plain": [
       "<Quantity(1, 'foot')>"
      ]
     },
     "execution_count": 4,
     "metadata": {},
     "output_type": "execute_result"
    }
   ],
   "source": [
    "# ft, foot, feet\n",
    "foot = 1 * units('ft')\n",
    "foot"
   ]
  },
  {
   "cell_type": "code",
   "execution_count": 5,
   "id": "02060afa-d54d-482d-a75f-a5c205dfb2c6",
   "metadata": {},
   "outputs": [
    {
     "data": {
      "text/html": [
       "1 foot"
      ],
      "text/latex": [
       "$1\\ \\mathrm{foot}$"
      ],
      "text/plain": [
       "<Quantity(1, 'foot')>"
      ]
     },
     "execution_count": 5,
     "metadata": {},
     "output_type": "execute_result"
    }
   ],
   "source": [
    "# Note that some units are also accessible as attributes of the unit class,\n",
    "foot = 1 * units.foot\n",
    "foot  # Throughout the document though, function calls are the preferred method"
   ]
  },
  {
   "cell_type": "code",
   "execution_count": 6,
   "id": "d3af5483-80cb-4708-a925-265f8e490b5d",
   "metadata": {},
   "outputs": [
    {
     "data": {
      "text/html": [
       "1 foot<sup>2</sup>"
      ],
      "text/latex": [
       "$1\\ \\mathrm{foot}^{2}$"
      ],
      "text/plain": [
       "<Quantity(1, 'foot ** 2')>"
      ]
     },
     "execution_count": 6,
     "metadata": {},
     "output_type": "execute_result"
    }
   ],
   "source": [
    "# ft^2, square foot, square feet\n",
    "sq_ft = 1 * units('ft^2')\n",
    "sq_ft"
   ]
  },
  {
   "cell_type": "code",
   "execution_count": 7,
   "id": "f26ae6b2-b75a-42bb-9e69-04fa0bf079bf",
   "metadata": {},
   "outputs": [
    {
     "data": {
      "text/html": [
       "1 inch"
      ],
      "text/latex": [
       "$1\\ \\mathrm{inch}$"
      ],
      "text/plain": [
       "<Quantity(1, 'inch')>"
      ]
     },
     "execution_count": 7,
     "metadata": {},
     "output_type": "execute_result"
    }
   ],
   "source": [
    "# in., inch, inches\n",
    "inch = 1 * units('in')\n",
    "inch"
   ]
  },
  {
   "cell_type": "code",
   "execution_count": 8,
   "id": "deebc46f-f1a3-44a9-8440-baee405a7a9b",
   "metadata": {},
   "outputs": [
    {
     "data": {
      "text/html": [
       "1 inch<sup>2</sup>"
      ],
      "text/latex": [
       "$1\\ \\mathrm{inch}^{2}$"
      ],
      "text/plain": [
       "<Quantity(1, 'inch ** 2')>"
      ]
     },
     "execution_count": 8,
     "metadata": {},
     "output_type": "execute_result"
    }
   ],
   "source": [
    "# in.^2, square inch, square inches\n",
    "sq_in = 1 * units('in^2')\n",
    "sq_in"
   ]
  },
  {
   "cell_type": "code",
   "execution_count": 9,
   "id": "bbb74500-ebd0-452c-bc9f-7e7823d3c632",
   "metadata": {},
   "outputs": [
    {
     "name": "stdout",
     "output_type": "stream",
     "text": [
      "1 inch ** 2\n"
     ]
    },
    {
     "data": {
      "text/html": [
       "1 inch<sup>2</sup>"
      ],
      "text/latex": [
       "$1\\ \\mathrm{inch}^{2}$"
      ],
      "text/plain": [
       "<Quantity(1, 'inch ** 2')>"
      ]
     },
     "execution_count": 9,
     "metadata": {},
     "output_type": "execute_result"
    }
   ],
   "source": [
    "# Also note that the formatting changes if you call print on a pint unit\n",
    "print(sq_in)\n",
    "sq_in"
   ]
  },
  {
   "cell_type": "code",
   "execution_count": 10,
   "id": "c3a394bc-29b8-4bfd-afd3-42b088471aed",
   "metadata": {},
   "outputs": [
    {
     "name": "stdout",
     "output_type": "stream",
     "text": [
      "1 inch<sup>2</sup>\n"
     ]
    }
   ],
   "source": [
    "# Or HTML which notebooks are able to render in their output,\n",
    "units.formatter.default_format = \"H\"\n",
    "print(sq_in)"
   ]
  },
  {
   "cell_type": "code",
   "execution_count": 11,
   "id": "b0e27758-0f84-4139-b26a-bd698735594a",
   "metadata": {},
   "outputs": [
    {
     "name": "stdout",
     "output_type": "stream",
     "text": [
      "1 inch²\n"
     ]
    }
   ],
   "source": [
    "# You can change the default behavior of pint to always use the 'pretty' output\n",
    "units.formatter.default_format = \"P\"\n",
    "print(sq_in)"
   ]
  },
  {
   "cell_type": "code",
   "execution_count": 12,
   "id": "fbaecd62-a56c-4877-95e8-243d8fc85e82",
   "metadata": {},
   "outputs": [
    {
     "data": {
      "text/html": [
       "1 kip"
      ],
      "text/latex": [
       "$1\\ \\mathrm{kip}$"
      ],
      "text/plain": [
       "<Quantity(1, 'kip')>"
      ]
     },
     "execution_count": 12,
     "metadata": {},
     "output_type": "execute_result"
    }
   ],
   "source": [
    "# k, 1000 lbs, (kip, kilopound)\n",
    "kip = 1 * units('kip')\n",
    "kip"
   ]
  },
  {
   "cell_type": "code",
   "execution_count": 13,
   "id": "88aaecfe-6fdf-4ac5-a443-a6402a7973e4",
   "metadata": {},
   "outputs": [
    {
     "data": {
      "text/html": [
       "1.0 kip/inch<sup>2</sup>"
      ],
      "text/latex": [
       "$1.0\\ \\frac{\\mathrm{kip}}{\\mathrm{inch}^{2}}$"
      ],
      "text/plain": [
       "<Quantity(1.0, 'kip / inch ** 2')>"
      ]
     },
     "execution_count": 13,
     "metadata": {},
     "output_type": "execute_result"
    }
   ],
   "source": [
    "# ksi, kips per square inch (k/in^2)\n",
    "ksi = 1 * units('kip/in^2')\n",
    "ksi"
   ]
  },
  {
   "cell_type": "code",
   "execution_count": 14,
   "id": "49691547-3298-4236-9516-df34674c868d",
   "metadata": {},
   "outputs": [
    {
     "name": "stdout",
     "output_type": "stream",
     "text": [
      "1000.0000000000005 force_pound/inch²\n"
     ]
    },
    {
     "data": {
      "text/html": [
       "1000.0 force_pound/inch<sup>2</sup>"
      ],
      "text/latex": [
       "$1000.0\\ \\frac{\\mathrm{force\\_pound}}{\\mathrm{inch}^{2}}$"
      ],
      "text/plain": [
       "<Quantity(1000.0, 'force_pound / inch ** 2')>"
      ]
     },
     "execution_count": 14,
     "metadata": {},
     "output_type": "execute_result"
    }
   ],
   "source": [
    "# Converting units are easy once defined in pint, note floating point errors\n",
    "print(ksi.to('lbf/in^2'))\n",
    "\n",
    "# You can fix/account for floating point errors by rounding\n",
    "round(ksi.to('lbf/in^2'), 2)"
   ]
  },
  {
   "cell_type": "code",
   "execution_count": 15,
   "id": "25855d25-324b-43b2-a56b-db93ee233618",
   "metadata": {},
   "outputs": [
    {
     "data": {
      "text/html": [
       "1 mile_per_hour"
      ],
      "text/latex": [
       "$1\\ \\mathrm{mile\\_per\\_hour}$"
      ],
      "text/plain": [
       "<Quantity(1, 'mile_per_hour')>"
      ]
     },
     "execution_count": 15,
     "metadata": {},
     "output_type": "execute_result"
    }
   ],
   "source": [
    "# mph, miles per hour\n",
    "mph = 1 * units('mph')\n",
    "mph"
   ]
  },
  {
   "cell_type": "code",
   "execution_count": 16,
   "id": "792a0c30-5a46-414e-8f0f-db1f8d08b033",
   "metadata": {},
   "outputs": [
    {
     "data": {
      "text/html": [
       "1.0 force_pound/foot<sup>3</sup>"
      ],
      "text/latex": [
       "$1.0\\ \\frac{\\mathrm{force\\_pound}}{\\mathrm{foot}^{3}}$"
      ],
      "text/plain": [
       "<Quantity(1.0, 'force_pound / foot ** 3')>"
      ]
     },
     "execution_count": 16,
     "metadata": {},
     "output_type": "execute_result"
    }
   ],
   "source": [
    "# pcf, pounds per cubic foot (lb/ft^3)\n",
    "pcf = units('lbf/ft^3')\n",
    "pcf"
   ]
  },
  {
   "cell_type": "code",
   "execution_count": 17,
   "id": "2d4046d2-0323-4d4d-ae1e-84c4a83dfb3f",
   "metadata": {},
   "outputs": [
    {
     "data": {
      "text/html": [
       "1.0 force_pound/foot"
      ],
      "text/latex": [
       "$1.0\\ \\frac{\\mathrm{force\\_pound}}{\\mathrm{foot}}$"
      ],
      "text/plain": [
       "<Quantity(1.0, 'force_pound / foot')>"
      ]
     },
     "execution_count": 17,
     "metadata": {},
     "output_type": "execute_result"
    }
   ],
   "source": [
    "# plf, pounds per lineal foot (lb/ft)\n",
    "plf = units('lbf/ft')\n",
    "plf"
   ]
  },
  {
   "cell_type": "code",
   "execution_count": 18,
   "id": "99447de2-6f08-4f94-8158-149d1e8b870a",
   "metadata": {},
   "outputs": [
    {
     "data": {
      "text/html": [
       "1.0 force_pound/foot<sup>2</sup>"
      ],
      "text/latex": [
       "$1.0\\ \\frac{\\mathrm{force\\_pound}}{\\mathrm{foot}^{2}}$"
      ],
      "text/plain": [
       "<Quantity(1.0, 'force_pound / foot ** 2')>"
      ]
     },
     "execution_count": 18,
     "metadata": {},
     "output_type": "execute_result"
    }
   ],
   "source": [
    "# psf, pounds per square foot (lb/ft^2)\n",
    "psf = units('lbf/ft^2')\n",
    "psf"
   ]
  },
  {
   "cell_type": "code",
   "execution_count": 19,
   "id": "679716b6-abdd-4191-9185-bf29ba99b9c1",
   "metadata": {},
   "outputs": [
    {
     "data": {
      "text/html": [
       "1.0 force_pound/inch<sup>2</sup>"
      ],
      "text/latex": [
       "$1.0\\ \\frac{\\mathrm{force\\_pound}}{\\mathrm{inch}^{2}}$"
      ],
      "text/plain": [
       "<Quantity(1.0, 'force_pound / inch ** 2')>"
      ]
     },
     "execution_count": 19,
     "metadata": {},
     "output_type": "execute_result"
    }
   ],
   "source": [
    "# psi, pounds per square inch (lb/in^2)\n",
    "psi = units('lbf/in^2')\n",
    "psi"
   ]
  },
  {
   "cell_type": "code",
   "execution_count": 20,
   "id": "3c467c4e-708e-4791-9337-290301668069",
   "metadata": {},
   "outputs": [
    {
     "data": {
      "text/html": [
       "1 second"
      ],
      "text/latex": [
       "$1\\ \\mathrm{second}$"
      ],
      "text/plain": [
       "<Quantity(1, 'second')>"
      ]
     },
     "execution_count": 20,
     "metadata": {},
     "output_type": "execute_result"
    }
   ],
   "source": [
    "# sec, second (sec)\n",
    "sec = units('sec')\n",
    "sec"
   ]
  },
  {
   "cell_type": "markdown",
   "id": "b17c020a-58ae-4604-8296-aa1c1637bb29",
   "metadata": {},
   "source": [
    "# 1. Wood Buildings and Design Criteria"
   ]
  },
  {
   "cell_type": "markdown",
   "id": "76f22e0e-c59e-4fa3-867f-d2e47f2f2b27",
   "metadata": {},
   "source": [
    "## 1.1 Introduction\n",
    "\n",
    "Lots of stuff is built with wood, cross-laminated timber is new and pretty  \n",
    "cool.  Specialized equipment is not required, and construction/crane loads  \n",
    "are often much lower allowing for lower construction costs when using wood."
   ]
  },
  {
   "cell_type": "markdown",
   "id": "0e0c7547-0670-4151-ad0c-442664629b35",
   "metadata": {},
   "source": [
    "## 1.2 Types of Buildings\n",
    "\n",
    "The book focuses on structures utilizing a system of horizontal diaphragms  \n",
    "and vertical shearwalls to resist lateral forces. Previously building codes  \n",
    "referred to this system as a *box system*, but have updated to *bearing  \n",
    "wall system*.\n",
    "\n",
    "The distinction between shearwall and diaphragm system adn other systems is  \n",
    "explained in Chapter 3.\n",
    "\n",
    "Systems such as glulam arches, and post-frame (pole) buildings are beyond  \n",
    "the scope of the book. With a background in shearwall-diaphragm buildings a  \n",
    "designer can utilize refs. 1.2, 1.8 and 1.12 to learn design techniques for  \n",
    "other systems.\n",
    "\n",
    "The book focuses on the design of wooden roofs, floors and walls using wood  \n",
    "framing. It also discusses design procedures for wood-framed buildings with  \n",
    "concrete or masonry walls with a focus on the connection between wood and  \n",
    "concrete.\n",
    "\n",
    "The complete design of wood-frame *box*-type builidings from the roof down  \n",
    "is covered. This includes both *vertical loads* and *lateral forces*.\n",
    "\n",
    "The design for lateral forces has become a significant portion of the  \n",
    "design effort. The building codes have been substantiall revised for both  \n",
    "wind and seismic forces, the result of extensive research in wind  \n",
    "engineering and earthquake-resistant design."
   ]
  },
  {
   "cell_type": "markdown",
   "id": "db136abd-1133-4109-a515-94843f432f31",
   "metadata": {},
   "source": [
    "## 1.3 Required and Recommended References\n",
    "\n",
    "The eighth edition was prompted by the *2018 NDS for Wood Construction* (NDS)  \n",
    "(Ref. 1.4) (#//TODO - 2024 is available). As well as by *Minimum Design  \n",
    "Loads and associated criteria for Buildings and Other Structures* (ASCE 7-16)  \n",
    "(Ref. 1.3) and the 2018 *International Building Code* (IBC) (Ref. 1.9).\n",
    "\n",
    "Since 2012 the NDS has included both ASD and LRFD Design Methodology. \n",
    "\n",
    "\n",
    "In addition to design provisions for both ASD and LRFD, the 2018 NDS  \n",
    "contains chapters specific to sawn lumber, glued-laminated timber, poles  \n",
    "and piles, wood I-joists, structural composite lumber, wood structural  \n",
    "panels, cross-laminated timber, mechanical connections, dowel-type  \n",
    "fasteners, split ring and shear plate connectors, timber rivets, shear  \n",
    "walls and diaphragms, special loading conditions and fire design.\n",
    "\n",
    "There are two support documents for the NDS, the ***NDS Supplement: Design  \n",
    "Values for Wood Construction***, often referred to as \"*The supplement*\" or  \n",
    "\"*The NDS Supplement*\" as this was the original and for many years the only  \n",
    "supplement to the NDS. The NDS Supplement contains all the reference design  \n",
    "values for various species groupings of structrual lumber and glued-  \n",
    "laminated timber.\n",
    "\n",
    "The second companion document is the ***Special Design Provisions for Wind  \n",
    "and Seismic*** (Ref. 1.6), also called the *Wind and Seismic Supplement* or  \n",
    "*SDPWS*. The wind and Seismic supplement is maintained as a speerate  \n",
    "document due to the unique requirements of wind and seismic design.  \n",
    "Included in the SDPWS are reference design values for shearwalls and  \n",
    "diaphragms, which comprise the primary latera-force-resisting system (LFRS)  \n",
    "in most wood structures. \n",
    "\n",
    "(#//TODO - 2024 version available for the supplement and 2021 for SDPWS)\n",
    "\n",
    "Commentary on the NDS is provided in the NDS document.\n",
    "\n",
    "In addition to the NDS and it's two supplements, another document is  \n",
    "available from the American WOod Council. This document is the ASD/LRFD  \n",
    "*Manual for Engineered Wood Construction*. The manual contains supporting  \n",
    "information for both LRFD and ASD. including non-mandatory deisgn  \n",
    "information such as span tables, load tables, and fire assemblies. The  \n",
    "manual is organized to parallel the NDS.\n",
    "\n",
    "The design loads and forces in the book are taken from the 2018  \n",
    "*International Building Code* (IBC) (Ref. 1.9).\n",
    "\n",
    "The following table provides example references utilized throughout the  \n",
    "book;\n",
    "\n",
    "| **Examples Reference**      | **Refers to**                                      | **Where to Look**                                              |\n",
    "|:---------------------------:|:--------------------------------------------------:|:--------------------------------------------------------------:|\n",
    "| NDS Section 15.1            | Section 15.1 in 2018 NDS                           | 2018 NDS (required reference)                                  |\n",
    "| NDS Supplement Table 4A     | Table 4A in 2018 NDS Supplement                    | 2018 NDS Supplement (comes with NDS)                           |\n",
    "| SDPWS Supplement Table 4.2A | Table 4.2A in the 2015 Wind and Seismic Supplement | NDS Supplement: Special Design Provisions for Wind and Seismic |\n",
    "| IBC Chapter 16              | Chapter 16 in 2018 IBC                             | 2018 IBC (recommended reference)                               |\n",
    "| IBC Table 1607.1            | Table 1607.1 in 2018 IBC                           | 2018 IBC (recommended reference)                               |\n",
    "| Section 4.15                | Section 4.15 of this book/document                 | Chapter 4 in this book                                         |\n",
    "| Example 9.3                 | Example 9.3 in this book                           | Chapter 9 in this book                                         |\n",
    "| Figure 5.2                  | Figure 5.2 in this book                            | Chapter 5 in this book                                         |\n",
    "\n",
    "Another reference that is often cited in this book is the *Timber  \n",
    "Construction Manual* (Ref. 1.2) abbreviated as the TCM. The TCM can be  \n",
    "considered to be basic reference on structural glued-laminated timber."
   ]
  },
  {
   "cell_type": "markdown",
   "id": "48c3331d-180d-41c8-b6b1-2880ad21d8c6",
   "metadata": {},
   "source": [
    "## 1.4 Building Codes and Design Criteria\n",
    "\n",
    "Cities and counties typically adopt a building code to ensure public  \n",
    "welfare and safety. Until recently, they typically used one of the three  \n",
    "*regional model codes*. The three regional model codes were:\n",
    "\n",
    "1. *Uniform Building Code* (Ref. 1.10) (Used in the western US)\n",
    "2. *The BOCA National Building Code* (Ref. 1.7) (Used in the North)\n",
    "3. *Standard Building Code* (Ref. 1.11) (Used in the South)\n",
    "\n",
    "The ICC was created in 1994 to develop a single set of comprehensive and  \n",
    "coordinated national model construction codes without regional limitations.  \n",
    "IBC is one of the ICC. The first edition of the IBC was published in 2000,  \n",
    "with newer editions published every three years. Most regions of the US  \n",
    "have adopted all or part of the IBC at either the state or local level.\n",
    "\n",
    "The ASCE/SEI standard *Minimum Design Loads and Associated Criteria for  \n",
    "Buildings and Other Structures* (Ref. 1.3) is commly referred to as ASCE  \n",
    "7-16 or simply ASCE 7. It serves as the basis for some of the loading  \n",
    "criteria in the IBC. The IBC and this document directly reference ASCE 7.\n",
    "\n",
    "The IBC is used throughout the document to establish loading criteria for  \n",
    "design. The IBC was selected due to it's national consensus.\n",
    "\n",
    "References are made to the *Code* and the *IBC*. When references of this  \n",
    "nature are used, the design criteria are taken from the 2018 edition of the  \n",
    "*International Building Code*. \n",
    "\n",
    "The NDS is used as the basis for determining the allowable (for ASD) or  \n",
    "strength level (for LRFD) loads for wood members. Note that the IBC also  \n",
    "has a chapter that deals with wood design and construction. While the NDS  \n",
    "primarily addresses engineered design provisions, the IBC chapter primarily  \n",
    "provides requirements for minimum design, construction and durability.\n",
    "\n",
    "The designer should be aware that the local building code is the legal  \n",
    "authority and the user should verify acceptance by the local code authority  \n",
    "before applying new principles. This is consistent with general practice in  \n",
    "structural design, which is to follow an approach that is both rational and  \n",
    "conservative. The objective is to produce structures that are economical  \n",
    "and safe.\n"
   ]
  },
  {
   "cell_type": "markdown",
   "id": "a31db0dd-84b8-4a2c-a6db-34c22370bbf3",
   "metadata": {},
   "source": [
    "## 1.5 ASD and LRFD\n",
    "\n",
    "ASD design compares *allowable stresses* of a material to calculated  \n",
    "*working stresses* resulting from *service loads*. A single *factor of  \n",
    "safety* is applied to the *nominal design value* to arrive at the allowable  \n",
    "design value.\n",
    "\n",
    "In LRFD, *adjusted capacities* (resistance) are compared to the effects of  \n",
    "*factored loads*. The factors are developed for both resistance and loads  \n",
    "such that uncertainty and consequences of failure are explicitly  \n",
    "recognized.\n",
    "\n",
    "Basic behavorial equations form the basis for both ASD and LRFD provisions.  \n",
    "Therefore, basic bahavior of wood is presented in the text first, followed  \n",
    "by ASD and LRFD provisions. The reader should be careful when referencing  \n",
    "any equations or examples and confirm the correct format, whether ASD or  \n",
    "LRFD, is being utilized.\n",
    "\n",
    "All examples in teh textbook are located in shaded boxes. The boxes include  \n",
    "\"using ASD\" when ASD is used or \"using LRFD\" when LRFD is being used."
   ]
  },
  {
   "cell_type": "markdown",
   "id": "9a4e7157-294d-4de3-8383-18c2e8f23369",
   "metadata": {},
   "source": [
    "## 1.6 Organization of the Text\n",
    "\n",
    "The book presents the design of a wood-frame builidng in an orderly manner.\n",
    "\n",
    "The first thing that needs to be determined is the design loads. The code  \n",
    "requirements for vertical loads and lateral forces are reviewed in Chap. 2,  \n",
    "the distribution of the loads through a building with wood framing are  \n",
    "described in Chap. 3.\n",
    "\n",
    "Next is the design of wood elements. There are two systems that must be  \n",
    "designed, one for *vertical loads* and one for *lateral forces*.\n",
    "\n",
    "The vertical system is considered first, generally composed of beams and  \n",
    "columns. Chapters 4 and 5 cover their characteristics and design  \n",
    "properties. \n",
    "\n",
    "Chapter 6 outlines the desing procedures for beams, and Chap. 7 treats the  \n",
    "design methods for columns and members subjected to combined axial and  \n",
    "bending loads.\n",
    "\n",
    "Components such as sheathing and other systems contribute to both vertical  \n",
    "and lateral force resisting systems. The sheathing for wood roof and floor  \n",
    "systems is one such element. The sheathing both distributes the vertical  \n",
    "loads to the supporting members, and it also serves as the *skin* or *web*  \n",
    "of the diaphragm for resisting lateral forces.  Chapter 8 introduces the  \n",
    "grades and properties of wood-structural panels and essentially serves as a  \n",
    "transition from the vertical load to the lateral force resisting system. \n",
    "\n",
    "Chapters 9 and 10 deal specifically with the LRFS. In the typical bearing  \n",
    "wall type of buildings covered in this text, the LFRS is made up of a  \n",
    "diaphragm that spans horizontally between vertical shear-resisting elements  \n",
    "known as shearwalls.\n",
    "\n",
    "After the design of the main elements in the vertical and lateral force  \n",
    "resisting systems, attention is turned to the design of the connections.  \n",
    "The importance of proper connection design cannot be overstated, and design  \n",
    "procedures for various types of wood connections are outlined in Chapters  \n",
    "11 through 14.\n",
    "\n",
    "Chapter 15 describes the anchorage requirements between horizontal and  \n",
    "vertical diaphragms. Basically, anchorage ensures that the horizontal and  \n",
    "vertical elements in the building are adequately tied to together.\n",
    "\n",
    "Chapter 16 addresses building code requiremetns for seismically irregular  \n",
    "structures. It also expands the coverage of overturning for shearwalls."
   ]
  },
  {
   "cell_type": "markdown",
   "id": "4d7a2efe-292a-46df-a000-7f91db1b49fc",
   "metadata": {},
   "source": [
    "## 1.7 Structural Calculations\n",
    "\n",
    "The book mentions that equation solving software or spreadsheets can be  \n",
    "setup as templates to make generating solutions easier. This notebook can  \n",
    "be utilized as a template, but it's recommended to pull the relevant  \n",
    "calculations into a new notebook as a template to streamline the output  \n",
    "calculations and not carry forward the background information provided by  \n",
    "these markdown cells.\n",
    "\n",
    "When equations are provided, they are provided first in standard equation  \n",
    "notation via markdown. Then they are solved by code cells below by defining  \n",
    "relevant python functions and utilizing them to solve the problem. In the  \n",
    "book the conversion from lbs to kips is done without formal notation. This  \n",
    "can't be done in code since it requires a user to specify if they want the  \n",
    "result in a different format. The following is the example demonstration of  \n",
    "how the formulas are provided throughout the book.\n",
    "\n",
    "$$ \n",
    "\\begin{aligned} \n",
    "    T &= F'_t A \\\\ &= (1200\\ lb/in.^2)(20\\ in.^2) \\\\ &= 24\\ k \n",
    "\\end{aligned}\n",
    "$$\n",
    "\n",
    "Where \n",
    "\n",
    "$T$ = tensile force\n",
    "$F'_t$ = adjusted tensile design value\n",
    "$A$ = cross-sectional area\n",
    "\n",
    "Here is how the above would be performed in python,"
   ]
  },
  {
   "cell_type": "code",
   "execution_count": 26,
   "id": "1909261d-3f7e-4621-94a5-23b203ee9270",
   "metadata": {},
   "outputs": [
    {
     "data": {
      "text/html": [
       "24.0 kip"
      ],
      "text/latex": [
       "$24.0\\ \\mathrm{kip}$"
      ],
      "text/plain": [
       "<Quantity(24.0, 'kip')>"
      ]
     },
     "execution_count": 26,
     "metadata": {},
     "output_type": "execute_result"
    }
   ],
   "source": [
    "tensile_force = 1200 * units('lbf/in^2') * 20 * units('in^2')\n",
    "round(tensile_force.to('kips'), 0)"
   ]
  },
  {
   "cell_type": "markdown",
   "id": "8d655e90-be44-4d8b-a6a7-401209893bfb",
   "metadata": {},
   "source": [
    "if you want to hold the design values in additional variables,"
   ]
  },
  {
   "cell_type": "code",
   "execution_count": 31,
   "id": "bd690499-8ad0-4afa-b212-4d45b78b5de3",
   "metadata": {},
   "outputs": [
    {
     "data": {
      "text/html": [
       "24.0 kip"
      ],
      "text/latex": [
       "$24.0\\ \\mathrm{kip}$"
      ],
      "text/plain": [
       "<Quantity(24.0, 'kip')>"
      ]
     },
     "execution_count": 31,
     "metadata": {},
     "output_type": "execute_result"
    }
   ],
   "source": [
    "tensile_design_force = 1200 * units('lbf/in^2')\n",
    "cross_sectional_area = 20 * units('in^2')\n",
    "\n",
    "tensile_force = round(\n",
    "    (tensile_design_force * cross_sectional_area).to('kips'), \n",
    "    0\n",
    ")\n",
    "\n",
    "tensile_force"
   ]
  },
  {
   "cell_type": "markdown",
   "id": "242c9aed-842e-4a29-acbd-99ccc68e0c78",
   "metadata": {},
   "source": [
    "## 1.8 Detailing Conventions"
   ]
  },
  {
   "cell_type": "markdown",
   "id": "01b06ece-5b6e-4159-9e07-52b5c8e934c5",
   "metadata": {},
   "source": [
    "## 1.9 Fire-Resistive Requirements"
   ]
  },
  {
   "cell_type": "markdown",
   "id": "a8ce77da-ee76-44ff-9549-f9e323b86add",
   "metadata": {},
   "source": [
    "## 1.10 Industry Organizations"
   ]
  },
  {
   "cell_type": "markdown",
   "id": "283a3ab7-85f1-4218-9f6e-3a4d044cb427",
   "metadata": {},
   "source": [
    "## 1.11 References"
   ]
  },
  {
   "cell_type": "markdown",
   "id": "228ecf2b-e896-4e48-aee1-3e718aa3d644",
   "metadata": {
    "jp-MarkdownHeadingCollapsed": true
   },
   "source": [
    "# 2. Design Loads"
   ]
  },
  {
   "cell_type": "markdown",
   "id": "20b19edb-6387-4d03-8b09-9394e4ec7d60",
   "metadata": {},
   "source": [
    "## 2.1 Introduction  \n"
   ]
  },
  {
   "cell_type": "markdown",
   "id": "d17086b7-abd4-4b23-90eb-f33bedb7b310",
   "metadata": {},
   "source": [
    "## 2.2 Dead Laods  \n"
   ]
  },
  {
   "cell_type": "markdown",
   "id": "edcc0d2a-cb20-4cf2-8c51-cb912a43cdf8",
   "metadata": {},
   "source": [
    "## 2.3 Live Loads  \n"
   ]
  },
  {
   "cell_type": "markdown",
   "id": "0199f0e4-a6d3-41a8-a26e-2f51f9e000ad",
   "metadata": {},
   "source": [
    "### Floor Live Loads  \n"
   ]
  },
  {
   "cell_type": "markdown",
   "id": "a28f98d9-5579-4282-8312-af9f7c04f7de",
   "metadata": {},
   "source": [
    "### Roof Live Loads  \n"
   ]
  },
  {
   "cell_type": "markdown",
   "id": "47843655-e398-485b-90e9-06630b43b24a",
   "metadata": {},
   "source": [
    "### Special Live Loads  \n"
   ]
  },
  {
   "cell_type": "markdown",
   "id": "c6bc7c5f-9415-4f24-ba5b-9059e31d1f82",
   "metadata": {},
   "source": [
    "## 2.4 Snow Loads  \n"
   ]
  },
  {
   "cell_type": "markdown",
   "id": "01320f27-53a0-47a7-ac55-2e29e2339393",
   "metadata": {},
   "source": [
    "## 2.5 Soil Loads and Hydrostatic Pressure  \n"
   ]
  },
  {
   "cell_type": "markdown",
   "id": "724ceb24-56b5-4ac5-8516-880362b0a4d2",
   "metadata": {},
   "source": [
    "## 2.6 Loads Due to Fluids  \n"
   ]
  },
  {
   "cell_type": "markdown",
   "id": "57340747-edb7-4243-bd72-50e13df377af",
   "metadata": {},
   "source": [
    "## 2.7 Rain Loads  \n"
   ]
  },
  {
   "cell_type": "markdown",
   "id": "fc5ebe57-8180-4cb1-bb61-b6cd207b2c35",
   "metadata": {},
   "source": [
    "## 2.8 Flood Loads  \n"
   ]
  },
  {
   "cell_type": "markdown",
   "id": "f6a5501b-8039-4872-834f-0a810f5c0ef0",
   "metadata": {},
   "source": [
    "## 2.9 Tsunami Loads  \n"
   ]
  },
  {
   "cell_type": "markdown",
   "id": "643c5640-0a8c-495a-a395-647ac43b459d",
   "metadata": {},
   "source": [
    "## 2.10 Self-Straining Loads"
   ]
  },
  {
   "cell_type": "markdown",
   "id": "7e148869-34d2-4f99-89de-2cfc3f5de70f",
   "metadata": {},
   "source": [
    "## 2.11 Wind Loads - Introduction"
   ]
  },
  {
   "cell_type": "markdown",
   "id": "1d587898-23e2-45b6-bf2f-9d142cb17051",
   "metadata": {},
   "source": [
    "## 2.12 Wind Forces - Main Wind Force Resisting System"
   ]
  },
  {
   "cell_type": "markdown",
   "id": "2097b1bd-bd2b-4a86-831c-8595b58c1f67",
   "metadata": {},
   "source": [
    "## 2.13 Wind Forces - Components and Cladding"
   ]
  },
  {
   "cell_type": "markdown",
   "id": "07302634-5151-48d2-aded-b2d211151382",
   "metadata": {},
   "source": [
    "## 2.14 Seismic Forces - Introduction"
   ]
  },
  {
   "cell_type": "markdown",
   "id": "1303a275-3e67-40c6-823a-d6a6e45fefbb",
   "metadata": {},
   "source": [
    "## 2.15 Seismic Forces"
   ]
  },
  {
   "cell_type": "markdown",
   "id": "b47c2f55-31d5-4fdb-937e-7a4e22da8b63",
   "metadata": {},
   "source": [
    "### Redundancy Factor  \n"
   ]
  },
  {
   "cell_type": "markdown",
   "id": "bdcf39c1-39a5-4aba-a9bc-254f07df24b0",
   "metadata": {},
   "source": [
    "### Base Shear Calculation"
   ]
  },
  {
   "cell_type": "markdown",
   "id": "97b5abf7-0514-4114-9ef3-01e036f39f5e",
   "metadata": {},
   "source": [
    "### Design Spectral Response Accelerations $S_{DS}$ and $S_{D1}$"
   ]
  },
  {
   "cell_type": "markdown",
   "id": "c9c451f2-5950-4596-84ef-e86016855b50",
   "metadata": {},
   "source": [
    "### Importance Factor, $I_e$"
   ]
  },
  {
   "cell_type": "markdown",
   "id": "a064fc49-5ff5-4240-83b3-3117ebfb9ca2",
   "metadata": {},
   "source": [
    "### Seismic Design Category"
   ]
  },
  {
   "cell_type": "markdown",
   "id": "b728f4b5-0ebd-4e59-8c85-f46a1a6b7c5b",
   "metadata": {},
   "source": [
    "### Response Modification Factor, $R$"
   ]
  },
  {
   "cell_type": "markdown",
   "id": "c8e22e0d-b747-4274-aa78-d02950d885b3",
   "metadata": {},
   "source": [
    "## 2.16 Seismic Forces - Primary System"
   ]
  },
  {
   "cell_type": "markdown",
   "id": "75a785d4-1b71-437d-b8cf-e57ce2a904fb",
   "metadata": {},
   "source": [
    "## 2.17 Seismic Forces - Components"
   ]
  },
  {
   "cell_type": "markdown",
   "id": "a2be0dc8-e0b5-4ffc-8519-64119a1a3a75",
   "metadata": {},
   "source": [
    "## 2.18 Load Combinations"
   ]
  },
  {
   "cell_type": "markdown",
   "id": "e942a06c-c577-4044-81c9-cbb664769851",
   "metadata": {},
   "source": [
    "### Summary of Load Types"
   ]
  },
  {
   "cell_type": "markdown",
   "id": "daa98824-2fcf-4f1d-b511-dde9a5e8c0e7",
   "metadata": {},
   "source": [
    "### ASD Load Combinations"
   ]
  },
  {
   "cell_type": "markdown",
   "id": "dd468fe0-8fe4-4d40-95d2-437aed1405a3",
   "metadata": {},
   "source": [
    "### LRFD Load Combinations"
   ]
  },
  {
   "cell_type": "markdown",
   "id": "26109894-9cc5-4f75-9031-cc4576b26e94",
   "metadata": {},
   "source": [
    "### Determining Applicable Loads"
   ]
  },
  {
   "cell_type": "markdown",
   "id": "d94f7eb2-b1a9-46cc-b952-fab621341be8",
   "metadata": {},
   "source": [
    "### Simultaneous Occurence of Loads"
   ]
  },
  {
   "cell_type": "markdown",
   "id": "b6e88c17-2302-4374-a40c-306799617e28",
   "metadata": {},
   "source": [
    "### Load Duration Factor, Time Effect Factor and Allowable Stress Increases"
   ]
  },
  {
   "cell_type": "markdown",
   "id": "8107a0ff-ca49-44c5-809d-c570a1e92c8e",
   "metadata": {},
   "source": [
    "### Load Levels"
   ]
  },
  {
   "cell_type": "markdown",
   "id": "9479fc44-32fa-4b35-b708-67a1b1db4810",
   "metadata": {},
   "source": [
    "## 2.19 Serviceability/Deflection Criteria"
   ]
  },
  {
   "cell_type": "markdown",
   "id": "4aa3ba1b-acd0-40da-8744-f46db2aac7c9",
   "metadata": {},
   "source": [
    "## 2.20 References"
   ]
  },
  {
   "cell_type": "markdown",
   "id": "7f9fb603-bd7e-4983-9909-883f75a22459",
   "metadata": {},
   "source": [
    "## 2.21 Problems"
   ]
  },
  {
   "cell_type": "markdown",
   "id": "8bcc0e93-1dbd-4dc6-9499-658244fcafa6",
   "metadata": {},
   "source": [
    "# 3. Behavior of Structures under Loads and Forces"
   ]
  },
  {
   "cell_type": "markdown",
   "id": "bad3b9f8-ff14-4c85-ace5-d758930eb1c9",
   "metadata": {},
   "source": [
    "## 3.1 Introduction"
   ]
  },
  {
   "cell_type": "markdown",
   "id": "1a7024c3-5796-4b06-8467-72fc6f6ec47f",
   "metadata": {},
   "source": [
    "## 3.2 Structures Subject to Vertical Loads"
   ]
  },
  {
   "cell_type": "markdown",
   "id": "617dcbfc-e755-4614-9ff5-4d6b42e320b6",
   "metadata": {},
   "source": [
    "## 3.3 Structures Subject to Lateral Forces"
   ]
  },
  {
   "cell_type": "markdown",
   "id": "3e2f7ccb-ccfd-4f09-97c4-e0fc00cfb6e5",
   "metadata": {},
   "source": [
    "## 3.4 Lateral Forces in Buildings with Diaphragms and Shearwalls"
   ]
  },
  {
   "cell_type": "markdown",
   "id": "44e2bd92-8f29-4e5a-8bb2-4c3c0d980e88",
   "metadata": {},
   "source": [
    "## 3.5 Design Problem: Lateral Forces on One-story Building"
   ]
  },
  {
   "cell_type": "markdown",
   "id": "ff8eb12d-6041-4488-bf8d-860d3e012e07",
   "metadata": {},
   "source": [
    "## 3.6 Design Problem: Lateral Forces on Two-Story Building"
   ]
  },
  {
   "cell_type": "markdown",
   "id": "c8ea1ef5-5573-40f9-8473-e92a953ff3ce",
   "metadata": {},
   "source": [
    "## 3.7 References"
   ]
  },
  {
   "cell_type": "markdown",
   "id": "b17dee30-8c2d-49e7-8265-b4a92b8ced7b",
   "metadata": {},
   "source": [
    "## 3.8 Problems   "
   ]
  },
  {
   "cell_type": "markdown",
   "id": "3e8458a9-1e67-4e2e-9812-494729ebb499",
   "metadata": {},
   "source": [
    "# 4. Properties of Wood and Lumber Grades"
   ]
  },
  {
   "cell_type": "markdown",
   "id": "95dfdb52-734a-4f57-8e97-da47f9e33744",
   "metadata": {},
   "source": [
    "## 4.1 Introduction"
   ]
  },
  {
   "cell_type": "markdown",
   "id": "d5481d1c-a64a-4b94-8574-fc1d711953d8",
   "metadata": {},
   "source": [
    "## 4.2 Design Specification"
   ]
  },
  {
   "cell_type": "markdown",
   "id": "7a641345-3e0c-4c7f-a9c7-83f8c6afe22b",
   "metadata": {},
   "source": [
    "### NDS"
   ]
  },
  {
   "cell_type": "markdown",
   "id": "7415bbdb-cbf3-4bb3-a19c-562a4c67df8e",
   "metadata": {},
   "source": [
    "### NDS Supplement"
   ]
  },
  {
   "cell_type": "markdown",
   "id": "d5624e28-dd17-4c9d-b0db-28d225437a12",
   "metadata": {},
   "source": [
    "### Special Design Provisions for Wind and Seismic"
   ]
  },
  {
   "cell_type": "markdown",
   "id": "014e5005-7f5d-4d71-a5dd-d3f76e190c68",
   "metadata": {},
   "source": [
    "### Design Manual"
   ]
  },
  {
   "cell_type": "markdown",
   "id": "81d47b0f-ddf5-44a9-9857-6f5b8d150dae",
   "metadata": {},
   "source": [
    "### Code Adoption"
   ]
  },
  {
   "cell_type": "markdown",
   "id": "cb79672d-9cdd-46ca-b06e-1b67fef57675",
   "metadata": {},
   "source": [
    "## 4.3 Methods of Grading Structural Lumber"
   ]
  },
  {
   "cell_type": "markdown",
   "id": "859428e4-3689-46c5-b0df-14be9206cd1b",
   "metadata": {},
   "source": [
    "## 4.4 Derivation of Design Values"
   ]
  },
  {
   "cell_type": "markdown",
   "id": "f6baad8b-66c2-426b-abd5-9fa914d53314",
   "metadata": {},
   "source": [
    "## 4.5 Species and Species Groups"
   ]
  },
  {
   "cell_type": "markdown",
   "id": "7ec367e8-3ee0-4993-88bb-0622b880cf2c",
   "metadata": {},
   "source": [
    "## 4.6 Cellular Makeup"
   ]
  },
  {
   "cell_type": "markdown",
   "id": "4e02406c-be91-4a1d-b485-497b9e84eaa2",
   "metadata": {},
   "source": [
    "## 4.7 Moisture Content and Shrinkage"
   ]
  },
  {
   "cell_type": "markdown",
   "id": "76aa16c6-11c8-4781-a14d-1185748ac8c6",
   "metadata": {},
   "source": [
    "## 4.8 Effect of Moisture Content on Lumber Sizes"
   ]
  },
  {
   "cell_type": "markdown",
   "id": "47d828ab-8aad-4b0a-b43c-9154f3a1d027",
   "metadata": {},
   "source": [
    "## 4.9 Durability of Wood and the Need for Preservative Treatment"
   ]
  },
  {
   "cell_type": "markdown",
   "id": "c769fdac-e777-4ed0-8be9-f1db2effa947",
   "metadata": {},
   "source": [
    "## 4.10 Growth Characteristics of Wood"
   ]
  },
  {
   "cell_type": "markdown",
   "id": "e348e9fd-7406-4f9f-bb1f-9e90cf6ff9ef",
   "metadata": {},
   "source": [
    "## 4.11 Sizes of Structural Lumber"
   ]
  },
  {
   "cell_type": "markdown",
   "id": "0a72e324-65c5-4756-86c4-c8d031efe489",
   "metadata": {},
   "source": [
    "## 4.12 Size Categories and Commercial Grades"
   ]
  },
  {
   "cell_type": "markdown",
   "id": "b4d4a898-3849-4055-8a1e-97939a34e379",
   "metadata": {},
   "source": [
    "## 4.13 General Notation"
   ]
  },
  {
   "cell_type": "markdown",
   "id": "b884828b-bc03-40b1-8212-ef06bd1a5253",
   "metadata": {},
   "source": [
    "## 4.14 Wet Service Factor $C_M$"
   ]
  },
  {
   "cell_type": "markdown",
   "id": "721d2768-7b5b-43f8-bb1d-39e77ba7fcb8",
   "metadata": {},
   "source": [
    "## 4.15 Load Duration Factor $C_D$ (ASD Only)"
   ]
  },
  {
   "cell_type": "markdown",
   "id": "b67b3dc1-c027-40fd-a08b-7346eef9d8e9",
   "metadata": {},
   "source": [
    "## 4.16 Time Effect Factor $\\lambda$ (LRFD Only)"
   ]
  },
  {
   "cell_type": "markdown",
   "id": "8851365c-5b36-4e12-aa7a-d6ff8558dfd3",
   "metadata": {},
   "source": [
    "## 4.17 Size Factor $C_F$"
   ]
  },
  {
   "cell_type": "markdown",
   "id": "7d2ee416-ab14-4f94-bb16-c19ef2113e2b",
   "metadata": {},
   "source": [
    "## 4.18 Repetitive Member Factor $C_t$"
   ]
  },
  {
   "cell_type": "markdown",
   "id": "1d232e04-1690-4490-b769-53a697725a5d",
   "metadata": {},
   "source": [
    "## 4.19 Flat Use Factor $C_{fu}$"
   ]
  },
  {
   "cell_type": "markdown",
   "id": "bca0c17a-7593-4e95-9d5f-0e2f1d271ee9",
   "metadata": {},
   "source": [
    "## 4.20 Temperature Factor $C_t$"
   ]
  },
  {
   "cell_type": "markdown",
   "id": "1acc80d3-f701-48e0-9701-eb2221e928ea",
   "metadata": {},
   "source": [
    "## 4.21 Incising Factor $C_i$"
   ]
  },
  {
   "cell_type": "markdown",
   "id": "8449441b-cc1e-46af-8bc9-0911a787eb56",
   "metadata": {},
   "source": [
    "## 4.22 Resistance Factor $\\phi$ (LRFD Only)"
   ]
  },
  {
   "cell_type": "markdown",
   "id": "85f4329e-108f-4357-90f4-8c033d0f77b4",
   "metadata": {},
   "source": [
    "## 4.23 Format Conversion Factor $K_F$ (LRFD Only)"
   ]
  },
  {
   "cell_type": "markdown",
   "id": "4f15dac0-44fe-443d-97c8-0a03493a8b9e",
   "metadata": {},
   "source": [
    "## 4.24 Design Problem: Adjusted Design Values"
   ]
  },
  {
   "cell_type": "markdown",
   "id": "efc88572-7541-440b-82e1-50e4d0d90314",
   "metadata": {},
   "source": [
    "## 4.25 References"
   ]
  },
  {
   "cell_type": "markdown",
   "id": "c5d652c4-90e7-4406-af51-d436526d9c12",
   "metadata": {},
   "source": [
    "## 4.26 Problems"
   ]
  },
  {
   "cell_type": "markdown",
   "id": "726fa7cd-0dc8-4087-9dab-0ac8e419e549",
   "metadata": {},
   "source": [
    "# 5. Structural Glued Laminated Timber"
   ]
  },
  {
   "cell_type": "markdown",
   "id": "a98c3170-d3d0-4ce6-ad71-865cd69da893",
   "metadata": {},
   "source": [
    "# 6. Structural Glued Laminated Timber  \n"
   ]
  },
  {
   "cell_type": "markdown",
   "id": "af2755c5-5ba0-46da-a79c-9ebb7f8e1af0",
   "metadata": {},
   "source": [
    "# 7. Beam Design  "
   ]
  },
  {
   "cell_type": "markdown",
   "id": "76c82903-0d74-4a1c-9fb3-07dd7f0e857e",
   "metadata": {},
   "source": [
    "# 8. Axial Forces and Combined Bending and Axial Forces  \n"
   ]
  },
  {
   "cell_type": "markdown",
   "id": "3df4669e-408e-4cb8-a8cc-f68c5d2eed3e",
   "metadata": {},
   "source": [
    "# 9. Wood Structural Panels  \n"
   ]
  },
  {
   "cell_type": "markdown",
   "id": "d13c3748-f6a0-4965-94a1-c551a0b385c5",
   "metadata": {},
   "source": [
    "# 10. Diaphragms  \n"
   ]
  },
  {
   "cell_type": "markdown",
   "id": "fd934abc-c4b6-4674-afb5-57402192f2d7",
   "metadata": {},
   "source": [
    "# 11. Shearwalls  \n"
   ]
  },
  {
   "cell_type": "markdown",
   "id": "43285c2c-8d0a-4c1e-b873-2c8e6dc38a12",
   "metadata": {},
   "source": [
    "# 12. Wood Connections - Background  \n"
   ]
  },
  {
   "cell_type": "markdown",
   "id": "5bd65302-2773-4830-bb6b-8528fd154378",
   "metadata": {},
   "source": [
    "# 13. Nailed and Stapled Connections  \n"
   ]
  },
  {
   "cell_type": "markdown",
   "id": "95ec62c4-fe5e-403d-9d4b-fe7043875741",
   "metadata": {},
   "source": [
    "# 14. Bolts, Lag Bolts, and Other Connectors  \n"
   ]
  },
  {
   "cell_type": "markdown",
   "id": "a573e2b4-1924-425a-a8d8-a4414671f1fd",
   "metadata": {},
   "source": [
    "# 15. Connection Details and Hardware  \n"
   ]
  },
  {
   "cell_type": "markdown",
   "id": "d1cbf80b-397b-4ddd-a2e6-8e623d32e6f0",
   "metadata": {},
   "source": [
    "# 16. Diaphragm-to-Shearwall Anchorage  \n"
   ]
  },
  {
   "cell_type": "markdown",
   "id": "31b0ea97-e317-4fbd-8a13-02cc987a74dc",
   "metadata": {},
   "source": [
    "# 17. Advanced Topics in Lateral Force Design  \n"
   ]
  },
  {
   "cell_type": "markdown",
   "id": "bddce283-d8ec-4d59-8151-9e0e89c43840",
   "metadata": {},
   "source": [
    "# Appendix A"
   ]
  },
  {
   "cell_type": "markdown",
   "id": "02ada2ac-9f47-42cb-b3a8-d23c14e3db6f",
   "metadata": {},
   "source": [
    "# Appendix B"
   ]
  },
  {
   "cell_type": "markdown",
   "id": "9ada31cd-4fe5-4aa5-925d-61a9730f6224",
   "metadata": {},
   "source": [
    "# Appendix C"
   ]
  }
 ],
 "metadata": {
  "kernelspec": {
   "display_name": "Python 3 (ipykernel)",
   "language": "python",
   "name": "python3"
  },
  "language_info": {
   "codemirror_mode": {
    "name": "ipython",
    "version": 3
   },
   "file_extension": ".py",
   "mimetype": "text/x-python",
   "name": "python",
   "nbconvert_exporter": "python",
   "pygments_lexer": "ipython3",
   "version": "3.11.9"
  }
 },
 "nbformat": 4,
 "nbformat_minor": 5
}
