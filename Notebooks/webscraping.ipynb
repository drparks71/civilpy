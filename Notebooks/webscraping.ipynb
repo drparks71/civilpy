{
 "cells": [
  {
   "cell_type": "code",
   "execution_count": 29,
   "id": "46903466-893c-4a4b-8a55-4278183afbcf",
   "metadata": {},
   "outputs": [],
   "source": [
    "url = \"https://www.pro-football-reference.com/teams/min/2023_roster.htm\""
   ]
  },
  {
   "cell_type": "code",
   "execution_count": 36,
   "id": "464afb3f-e538-4066-a795-68b11f7d5ea5",
   "metadata": {},
   "outputs": [],
   "source": [
    "player_link_xpath = \"/html/body/div[3]/div[5]/div[2]/div[2]/table/tbody/tr[2]/td[1]\""
   ]
  },
  {
   "cell_type": "code",
   "execution_count": 31,
   "id": "615ce067-cd0e-474e-9138-2054165d22a8",
   "metadata": {},
   "outputs": [],
   "source": [
    "import time\n",
    "from selenium import webdriver\n",
    "from selenium.webdriver.chrome.service import Service\n",
    "from webdriver_manager.chrome import ChromeDriverManager\n",
    "from selenium.webdriver.common.by import By\n",
    "\n",
    "# Getting Counties from digital paper\n",
    "driver = webdriver.Chrome(service=Service(ChromeDriverManager().install()))"
   ]
  },
  {
   "cell_type": "code",
   "execution_count": 32,
   "id": "fc799292-8d6b-4140-a186-e62eefc5c28b",
   "metadata": {},
   "outputs": [],
   "source": [
    "driver.get(url)"
   ]
  },
  {
   "cell_type": "code",
   "execution_count": 37,
   "id": "3755064b-8ef8-4464-9108-0bcf72d8af7b",
   "metadata": {},
   "outputs": [],
   "source": [
    "kirk_cousins = driver.find_element(By.XPATH, player_link_xpath)"
   ]
  },
  {
   "cell_type": "code",
   "execution_count": 38,
   "id": "ec7c153a-b3f6-44e0-9d98-9c89b6a198bc",
   "metadata": {},
   "outputs": [
    {
     "name": "stdout",
     "output_type": "stream",
     "text": [
      "Cousins,Kirk\n"
     ]
    }
   ],
   "source": [
    "print(kirk_cousins.get_attribute(\"csk\"))"
   ]
  },
  {
   "cell_type": "code",
   "execution_count": 7,
   "id": "3e1a103e-b325-4862-843c-55c8b43d42d6",
   "metadata": {},
   "outputs": [],
   "source": [
    "# Going by the table's xpath instead\n",
    "table_xpath = '//*[@id=\"starters\"]/tbody'"
   ]
  },
  {
   "cell_type": "code",
   "execution_count": 8,
   "id": "48a1d95b-a177-4dd1-b30a-6bd5c0d2eb6f",
   "metadata": {},
   "outputs": [],
   "source": [
    "full_table = driver.find_element(By.XPATH, table_xpath)"
   ]
  },
  {
   "cell_type": "code",
   "execution_count": 9,
   "id": "1a97b4d8-7195-4679-a876-83db0887717c",
   "metadata": {},
   "outputs": [],
   "source": [
    "rows = full_table.find_elements(By.TAG_NAME, \"tr\")"
   ]
  },
  {
   "cell_type": "code",
   "execution_count": 10,
   "id": "83f153d5-e829-4627-8f95-38b9da7948e1",
   "metadata": {},
   "outputs": [
    {
     "name": "stdout",
     "output_type": "stream",
     "text": [
      "https://www.pro-football-reference.com/players/C/CousKi00.htm\n",
      "https://www.pro-football-reference.com/players/M/MattAl01.htm\n",
      "https://www.pro-football-reference.com/players/A/AddiJo00.htm\n",
      "https://www.pro-football-reference.com/players/J/JeffJu00.htm\n",
      "https://www.pro-football-reference.com/players/O/OsboKJ00.htm\n",
      "https://www.pro-football-reference.com/players/H/HockTJ00.htm\n",
      "https://www.pro-football-reference.com/players/D/DarrCh00.htm\n",
      "https://www.pro-football-reference.com/players/R/RisnDa00.htm\n",
      "https://www.pro-football-reference.com/players/B/BradGa00.htm\n",
      "https://www.pro-football-reference.com/players/I/IngrEd00.htm\n",
      "https://www.pro-football-reference.com/players/O/ONeiBr00.htm\n",
      "https://www.pro-football-reference.com/players/P/PhilHa00.htm\n",
      "https://www.pro-football-reference.com/players/B/BullJo00.htm\n",
      "https://www.pro-football-reference.com/players/H/HuntDa01.htm\n",
      "https://www.pro-football-reference.com/players/H/HickJo00.htm\n",
      "https://www.pro-football-reference.com/players/P/PaceIv00.htm\n",
      "https://www.pro-football-reference.com/players/W/WonnDJ00.htm\n",
      "https://www.pro-football-reference.com/players/E/EvanAk00.htm\n",
      "https://www.pro-football-reference.com/players/M/MurpBy00.htm\n",
      "https://www.pro-football-reference.com/players/B/BynuCa00.htm\n",
      "https://www.pro-football-reference.com/players/S/SmitHa00.htm\n",
      "https://www.pro-football-reference.com/players/M/MeteJo00.htm\n"
     ]
    }
   ],
   "source": [
    "for row in rows:\n",
    "    values = row.find_elements(By.TAG_NAME, \"td\")\n",
    "    for value in values:\n",
    "        try:\n",
    "            a_tag = value.find_elements(By.TAG_NAME, \"a\")\n",
    "            url = a_tag[0].get_attribute(\"href\")\n",
    "            print(url)\n",
    "        except:\n",
    "            pass"
   ]
  },
  {
   "cell_type": "code",
   "execution_count": 11,
   "id": "22f7fcec-8586-416d-9344-04bea869ee1c",
   "metadata": {},
   "outputs": [],
   "source": [
    "# Just using requests / BS"
   ]
  },
  {
   "cell_type": "code",
   "execution_count": 12,
   "id": "5746f3db-b8a3-4b9f-802b-efb2efa578c3",
   "metadata": {},
   "outputs": [],
   "source": [
    "from bs4 import BeautifulSoup as BS\n",
    "import requests\n",
    "import re"
   ]
  },
  {
   "cell_type": "code",
   "execution_count": 13,
   "id": "6d6b5e8d-3f9e-4c2c-8c94-1672a9a42fc6",
   "metadata": {},
   "outputs": [],
   "source": [
    "page = requests.get(\n",
    "    \"https://www.pro-football-reference.com/teams/min/2023_roster.htm\"\n",
    ").text"
   ]
  },
  {
   "cell_type": "code",
   "execution_count": 14,
   "id": "f12678ee-0bf3-4391-a00b-033538e5db98",
   "metadata": {},
   "outputs": [],
   "source": [
    "soup = BS(page)"
   ]
  },
  {
   "cell_type": "code",
   "execution_count": 15,
   "id": "36ea721a-d869-4817-b1f7-76d3ddff5ea2",
   "metadata": {},
   "outputs": [
    {
     "name": "stdout",
     "output_type": "stream",
     "text": [
      "/players/C/CousKi00.htm\n",
      "/players/M/MattAl01.htm\n",
      "/players/A/AddiJo00.htm\n",
      "/players/J/JeffJu00.htm\n",
      "/players/O/OsboKJ00.htm\n",
      "/players/H/HockTJ00.htm\n",
      "/players/D/DarrCh00.htm\n",
      "/players/R/RisnDa00.htm\n",
      "/players/B/BradGa00.htm\n",
      "/players/I/IngrEd00.htm\n",
      "/players/O/ONeiBr00.htm\n",
      "/players/P/PhilHa00.htm\n",
      "/players/B/BullJo00.htm\n",
      "/players/H/HuntDa01.htm\n",
      "/players/H/HickJo00.htm\n",
      "/players/P/PaceIv00.htm\n",
      "/players/W/WonnDJ00.htm\n",
      "/players/E/EvanAk00.htm\n",
      "/players/M/MurpBy00.htm\n",
      "/players/B/BynuCa00.htm\n",
      "/players/S/SmitHa00.htm\n",
      "/players/M/MeteJo00.htm\n",
      "/players/A/AiyuBr00.htm\n",
      "/players/P/PurdBr00.htm\n",
      "/players/M/McCaCh01.htm\n",
      "/players/B/BurrJo01.htm\n",
      "/players/S/SamuDe00.htm\n",
      "/players/R/RodgAa00.htm\n",
      "/players/B/BradTo00.htm\n",
      "/players/N/NewtCa00.htm\n",
      "/players/D/DonaAa00.htm\n",
      "/players/W/WilsRu00.htm\n",
      "/players/R/RodgAa00.htm\n",
      "/players/B/BeckOd00.htm\n",
      "/players/W/WattJ.00.htm\n",
      "/players/M/MannPe00.htm\n",
      "/players/M/MahoPa00.htm\n",
      "/players/J/JoneJu02.htm\n",
      "/players/B/BrowAn04.htm\n",
      "/players/R/RoetBe00.htm\n",
      "/players/B/BreeDr00.htm\n",
      "/players/G/GurlTo01.htm\n"
     ]
    }
   ],
   "source": [
    "for a in soup.find_all(\"a\", {\"href\": re.compile(r\"(/players)/[A-Z]\")}):\n",
    "    print(a[\"href\"])"
   ]
  },
  {
   "cell_type": "code",
   "execution_count": null,
   "id": "ec1f1510-4660-4534-9034-39a1f870b3d2",
   "metadata": {},
   "outputs": [],
   "source": []
  }
 ],
 "metadata": {
  "kernelspec": {
   "display_name": "Python 3 (ipykernel)",
   "language": "python",
   "name": "python3"
  },
  "language_info": {
   "codemirror_mode": {
    "name": "ipython",
    "version": 3
   },
   "file_extension": ".py",
   "mimetype": "text/x-python",
   "name": "python",
   "nbconvert_exporter": "python",
   "pygments_lexer": "ipython3",
   "version": "3.10.13"
  }
 },
 "nbformat": 4,
 "nbformat_minor": 5
}
