{
 "cells": [
  {
   "cell_type": "markdown",
   "id": "b959738e-d2cf-4dfc-8b52-5b81b9c12903",
   "metadata": {
    "tags": []
   },
   "source": [
    "# FRA Crossing General Data\n",
    "\n",
    "[Data Pulled 9/18/2023 - Source.](https://safetydata.fra.dot.gov/OfficeofSafety/publicsite/DownloadCrossingInventoryData.aspx)\n",
    "\n",
    "[FRA Guidance for Preparing Accident/Incident Reports](https://railroads.dot.gov/sites/fra.dot.gov/files/fra_net/18812/FRA%20GUIDE%202003.pdf)\n",
    "\n",
    "[Crossing Data Definitions](https://railroads.dot.gov/sites/fra.dot.gov/files/2023-08/GCIS_Data_Dictionary_External_Use_v3-2-0-152_Rel_06-21-2022.pdf)\n",
    "\n",
    "[Crossing Accident Data Definitions](https://railroads.dot.gov/sites/fra.dot.gov/files/2019-09/gxirfile_ThruMay2011.pdf) (Outdated for most recent form)\n",
    "\n",
    "[Crossing Accident Form](https://railroads.dot.gov/sites/fra.dot.gov/files/2021-12/FRA%20F%206180.57.pdf)\n",
    "\n",
    "Socrata endpoint for the API: [https://data.transportation.gov/resource/7wn6-i5b9.json](https://data.transportation.gov/resource/7wn6-i5b9.json) (Also available in csv)"
   ]
  },
  {
   "cell_type": "markdown",
   "id": "1897e81e-2f54-4da4-a099-d73f9c2b876a",
   "metadata": {},
   "source": [
    "## Purpose\n",
    "\n",
    "This document sets out to identify high risk crossings within the state of Ohio for potential elimination by various 'crossing elimination programs'\n",
    "\n",
    "Loading the crossing data;"
   ]
  },
  {
   "cell_type": "code",
   "execution_count": null,
   "id": "788c9d61-3cbf-4488-9dac-7e7b1cc07e75",
   "metadata": {
    "tags": []
   },
   "outputs": [],
   "source": [
    "import pandas as pd\n",
    "\n",
    "crossing_df = pd.read_csv(\n",
    "    \"C:\\\\Users\\\\Public\\\\PWDrive\\\\MBI\\\\DEV\\\\Railroad\\\\Reference\\\\FRA\\\\Data\\\\Crossings\\\\csv files\\\\OH_StateCrossingData.csv\",\n",
    "    low_memory=False,\n",
    ")"
   ]
  },
  {
   "cell_type": "markdown",
   "id": "eecc6ba7-f007-45ce-9206-586be3999dae",
   "metadata": {},
   "source": [
    "# Crossing Accident Data\n",
    "\n",
    "[Data Definition Location](https://safetydata.fra.dot.gov/OfficeofSafety/publicsite/Newregulation.aspx?doc=gxirfile_ThruMay2011.pdf)\n",
    "\n",
    "Notes:\n",
    "\n",
    "Data format notes are included below,\n",
    "\n",
    "1. Shown data was pulled in October for 2023, no months prior to July are included in the data.\n",
    "1. The `railroad` attribute is based on a 15,000 entry list of railroad owners/companys saved as RailroadsAndCompanies.csv in the Resource table folder.\n",
    "1. `iyr2`, `iyr3`, `imo2`, `imo3` seem to be columns storing the same information as `iyr` and `imo`, they also seem to be reported as floats"
   ]
  },
  {
   "cell_type": "markdown",
   "id": "371ea7de-dd9e-471c-8d02-2ef252a84201",
   "metadata": {},
   "source": [
    "## Loading The Accident Data Set from 2000 to 2023\n",
    "\n",
    "Note this could be replaced with direct calls to the FRA API, left this way "
   ]
  },
  {
   "cell_type": "code",
   "execution_count": null,
   "id": "8a0009ec-a117-481a-b298-e0cd10039eb9",
   "metadata": {},
   "outputs": [],
   "source": [
    "import pandas as pd\n",
    "from collections import defaultdict\n",
    "\n",
    "accident_df_2023 = pd.read_csv(\n",
    "    \"C:\\\\Users\\\\Public\\\\PWDrive\\\\MBI\\\\DEV\\\\Railroad\\\\Reference\\\\FRA\\Data\\\\Crossings\\\\Historic Data\\\\Accidents\\\\2023 All States.csv\",\n",
    "    dtype=str,\n",
    "    low_memory=False,\n",
    "    index_col=False,\n",
    "    keep_default_na=False,\n",
    ")\n",
    "accident_df_2022 = pd.read_csv(\n",
    "    \"C:\\\\Users\\\\Public\\\\PWDrive\\\\MBI\\\\DEV\\\\Railroad\\\\Reference\\\\FRA\\Data\\\\Crossings\\\\Historic Data\\\\Accidents\\\\2022 All States.csv\",\n",
    "    dtype=str,\n",
    "    low_memory=False,\n",
    "    index_col=False,\n",
    "    keep_default_na=False,\n",
    ")\n",
    "accident_df_2021 = pd.read_csv(\n",
    "    \"C:\\\\Users\\\\Public\\\\PWDrive\\\\MBI\\\\DEV\\\\Railroad\\\\Reference\\\\FRA\\Data\\\\Crossings\\\\Historic Data\\\\Accidents\\\\2021 All States.csv\",\n",
    "    dtype=str,\n",
    "    low_memory=False,\n",
    "    index_col=False,\n",
    "    keep_default_na=False,\n",
    ")\n",
    "accident_df_2020 = pd.read_csv(\n",
    "    \"C:\\\\Users\\\\Public\\\\PWDrive\\\\MBI\\\\DEV\\\\Railroad\\\\Reference\\\\FRA\\Data\\\\Crossings\\\\Historic Data\\\\Accidents\\\\2020 All States.csv\",\n",
    "    dtype=str,\n",
    "    low_memory=False,\n",
    "    index_col=False,\n",
    "    keep_default_na=False,\n",
    ")\n",
    "accident_df_2019 = pd.read_csv(\n",
    "    \"C:\\\\Users\\\\Public\\\\PWDrive\\\\MBI\\\\DEV\\\\Railroad\\\\Reference\\\\FRA\\Data\\\\Crossings\\\\Historic Data\\\\Accidents\\\\2019 All States.csv\",\n",
    "    dtype=str,\n",
    "    low_memory=False,\n",
    "    index_col=False,\n",
    "    keep_default_na=False,\n",
    ")\n",
    "accident_df_2018 = pd.read_csv(\n",
    "    \"C:\\\\Users\\\\Public\\\\PWDrive\\\\MBI\\\\DEV\\\\Railroad\\\\Reference\\\\FRA\\Data\\\\Crossings\\\\Historic Data\\\\Accidents\\\\2018 All States.csv\",\n",
    "    dtype=str,\n",
    "    low_memory=False,\n",
    "    index_col=False,\n",
    "    keep_default_na=False,\n",
    ")\n",
    "accident_df_2017 = pd.read_csv(\n",
    "    \"C:\\\\Users\\\\Public\\\\PWDrive\\\\MBI\\\\DEV\\\\Railroad\\\\Reference\\\\FRA\\Data\\\\Crossings\\\\Historic Data\\\\Accidents\\\\2017 All States.csv\",\n",
    "    dtype=str,\n",
    "    low_memory=False,\n",
    "    index_col=False,\n",
    "    keep_default_na=False,\n",
    ")\n",
    "accident_df_2016 = pd.read_csv(\n",
    "    \"C:\\\\Users\\\\Public\\\\PWDrive\\\\MBI\\\\DEV\\\\Railroad\\\\Reference\\\\FRA\\Data\\\\Crossings\\\\Historic Data\\\\Accidents\\\\2016 All States.csv\",\n",
    "    dtype=str,\n",
    "    low_memory=False,\n",
    "    index_col=False,\n",
    "    keep_default_na=False,\n",
    ")\n",
    "accident_df_2015 = pd.read_csv(\n",
    "    \"C:\\\\Users\\\\Public\\\\PWDrive\\\\MBI\\\\DEV\\\\Railroad\\\\Reference\\\\FRA\\Data\\\\Crossings\\\\Historic Data\\\\Accidents\\\\2015 All States.csv\",\n",
    "    dtype=str,\n",
    "    low_memory=False,\n",
    "    index_col=False,\n",
    "    keep_default_na=False,\n",
    ")\n",
    "accident_df_2014 = pd.read_csv(\n",
    "    \"C:\\\\Users\\\\Public\\\\PWDrive\\\\MBI\\\\DEV\\\\Railroad\\\\Reference\\\\FRA\\Data\\\\Crossings\\\\Historic Data\\\\Accidents\\\\2014 All States.csv\",\n",
    "    dtype=str,\n",
    "    low_memory=False,\n",
    "    index_col=False,\n",
    "    keep_default_na=False,\n",
    ")\n",
    "accident_df_2013 = pd.read_csv(\n",
    "    \"C:\\\\Users\\\\Public\\\\PWDrive\\\\MBI\\\\DEV\\\\Railroad\\\\Reference\\\\FRA\\Data\\\\Crossings\\\\Historic Data\\\\Accidents\\\\2013 All States.csv\",\n",
    "    dtype=str,\n",
    "    low_memory=False,\n",
    "    index_col=False,\n",
    "    keep_default_na=False,\n",
    ")\n",
    "accident_df_2012 = pd.read_csv(\n",
    "    \"C:\\\\Users\\\\Public\\\\PWDrive\\\\MBI\\\\DEV\\\\Railroad\\\\Reference\\\\FRA\\Data\\\\Crossings\\\\Historic Data\\\\Accidents\\\\2012 All States.csv\",\n",
    "    dtype=str,\n",
    "    low_memory=False,\n",
    "    index_col=False,\n",
    "    keep_default_na=False,\n",
    ")\n",
    "accident_df_2011 = pd.read_csv(\n",
    "    \"C:\\\\Users\\\\Public\\\\PWDrive\\\\MBI\\\\DEV\\\\Railroad\\\\Reference\\\\FRA\\Data\\\\Crossings\\\\Historic Data\\\\Accidents\\\\2011 All States.csv\",\n",
    "    dtype=str,\n",
    "    low_memory=False,\n",
    "    index_col=False,\n",
    "    keep_default_na=False,\n",
    ")\n",
    "accident_df_2010 = pd.read_csv(\n",
    "    \"C:\\\\Users\\\\Public\\\\PWDrive\\\\MBI\\\\DEV\\\\Railroad\\\\Reference\\\\FRA\\Data\\\\Crossings\\\\Historic Data\\\\Accidents\\\\2010 All States.csv\",\n",
    "    dtype=str,\n",
    "    low_memory=False,\n",
    "    index_col=False,\n",
    "    keep_default_na=False,\n",
    ")\n",
    "accident_df_2009 = pd.read_csv(\n",
    "    \"C:\\\\Users\\\\Public\\\\PWDrive\\\\MBI\\\\DEV\\\\Railroad\\\\Reference\\\\FRA\\Data\\\\Crossings\\\\Historic Data\\\\Accidents\\\\2009 All States.csv\",\n",
    "    dtype=str,\n",
    "    low_memory=False,\n",
    "    index_col=False,\n",
    "    keep_default_na=False,\n",
    ")\n",
    "accident_df_2008 = pd.read_csv(\n",
    "    \"C:\\\\Users\\\\Public\\\\PWDrive\\\\MBI\\\\DEV\\\\Railroad\\\\Reference\\\\FRA\\Data\\\\Crossings\\\\Historic Data\\\\Accidents\\\\2008 All States.csv\",\n",
    "    dtype=str,\n",
    "    low_memory=False,\n",
    "    index_col=False,\n",
    "    keep_default_na=False,\n",
    ")\n",
    "accident_df_2007 = pd.read_csv(\n",
    "    \"C:\\\\Users\\\\Public\\\\PWDrive\\\\MBI\\\\DEV\\\\Railroad\\\\Reference\\\\FRA\\Data\\\\Crossings\\\\Historic Data\\\\Accidents\\\\2007 All States.csv\",\n",
    "    dtype=str,\n",
    "    low_memory=False,\n",
    "    index_col=False,\n",
    "    keep_default_na=False,\n",
    ")\n",
    "accident_df_2006 = pd.read_csv(\n",
    "    \"C:\\\\Users\\\\Public\\\\PWDrive\\\\MBI\\\\DEV\\\\Railroad\\\\Reference\\\\FRA\\Data\\\\Crossings\\\\Historic Data\\\\Accidents\\\\2006 All States.csv\",\n",
    "    dtype=str,\n",
    "    low_memory=False,\n",
    "    index_col=False,\n",
    "    keep_default_na=False,\n",
    ")\n",
    "accident_df_2005 = pd.read_csv(\n",
    "    \"C:\\\\Users\\\\Public\\\\PWDrive\\\\MBI\\\\DEV\\\\Railroad\\\\Reference\\\\FRA\\Data\\\\Crossings\\\\Historic Data\\\\Accidents\\\\2005 All States.csv\",\n",
    "    dtype=str,\n",
    "    low_memory=False,\n",
    "    index_col=False,\n",
    "    keep_default_na=False,\n",
    ")\n",
    "accident_df_2004 = pd.read_csv(\n",
    "    \"C:\\\\Users\\\\Public\\\\PWDrive\\\\MBI\\\\DEV\\\\Railroad\\\\Reference\\\\FRA\\Data\\\\Crossings\\\\Historic Data\\\\Accidents\\\\2004 All States.csv\",\n",
    "    dtype=str,\n",
    "    low_memory=False,\n",
    "    index_col=False,\n",
    "    keep_default_na=False,\n",
    ")\n",
    "accident_df_2003 = pd.read_csv(\n",
    "    \"C:\\\\Users\\\\Public\\\\PWDrive\\\\MBI\\\\DEV\\\\Railroad\\\\Reference\\\\FRA\\Data\\\\Crossings\\\\Historic Data\\\\Accidents\\\\2003 All States.csv\",\n",
    "    dtype=str,\n",
    "    low_memory=False,\n",
    "    index_col=False,\n",
    "    keep_default_na=False,\n",
    ")\n",
    "accident_df_2002 = pd.read_csv(\n",
    "    \"C:\\\\Users\\\\Public\\\\PWDrive\\\\MBI\\\\DEV\\\\Railroad\\\\Reference\\\\FRA\\Data\\\\Crossings\\\\Historic Data\\\\Accidents\\\\2002 All States.csv\",\n",
    "    dtype=str,\n",
    "    low_memory=False,\n",
    "    index_col=False,\n",
    "    keep_default_na=False,\n",
    ")\n",
    "accident_df_2001 = pd.read_csv(\n",
    "    \"C:\\\\Users\\\\Public\\\\PWDrive\\\\MBI\\\\DEV\\\\Railroad\\\\Reference\\\\FRA\\Data\\\\Crossings\\\\Historic Data\\\\Accidents\\\\2001 All States.csv\",\n",
    "    dtype=str,\n",
    "    low_memory=False,\n",
    "    index_col=False,\n",
    "    keep_default_na=False,\n",
    ")\n",
    "accident_df_2000 = pd.read_csv(\n",
    "    \"C:\\\\Users\\\\Public\\\\PWDrive\\\\MBI\\\\DEV\\\\Railroad\\\\Reference\\\\FRA\\Data\\\\Crossings\\\\Historic Data\\\\Accidents\\\\2000 All States.csv\",\n",
    "    dtype=str,\n",
    "    low_memory=False,\n",
    "    index_col=False,\n",
    "    keep_default_na=False,\n",
    ")\n",
    "\n",
    "frames = [\n",
    "    accident_df_2023,\n",
    "    accident_df_2022,\n",
    "    accident_df_2021,\n",
    "    accident_df_2020,\n",
    "    accident_df_2019,\n",
    "    accident_df_2018,\n",
    "    accident_df_2017,\n",
    "    accident_df_2016,\n",
    "    accident_df_2015,\n",
    "    accident_df_2014,\n",
    "    accident_df_2013,\n",
    "    accident_df_2012,\n",
    "    accident_df_2011,\n",
    "    accident_df_2010,\n",
    "    accident_df_2009,\n",
    "    accident_df_2008,\n",
    "    accident_df_2007,\n",
    "    accident_df_2006,\n",
    "    accident_df_2005,\n",
    "    accident_df_2004,\n",
    "    accident_df_2003,\n",
    "    accident_df_2002,\n",
    "    accident_df_2001,\n",
    "    accident_df_2000,\n",
    "]\n",
    "all_accident_data = pd.concat(frames)"
   ]
  },
  {
   "cell_type": "code",
   "execution_count": null,
   "id": "2a91b472-f4d5-4178-afac-9c61952f76fa",
   "metadata": {
    "scrolled": true
   },
   "outputs": [],
   "source": [
    "all_accident_data"
   ]
  },
  {
   "cell_type": "markdown",
   "id": "18f9bbd7-7f22-4b55-8fad-82121f3bff1c",
   "metadata": {
    "tags": []
   },
   "source": [
    "### Define Values for Translation of Various Fields"
   ]
  },
  {
   "cell_type": "code",
   "execution_count": null,
   "id": "07c19e7c-5b5c-48e2-b236-921890913524",
   "metadata": {},
   "outputs": [],
   "source": [
    "\"\"\" # //TODO - Determine the following tanslations\n",
    "\n",
    "type of signaled crossing warning: \n",
    "if block 32 (crossing) = 01-06, then signal = 1-7\n",
    "(see back of form 57 for valid entries) (signal, sigwarnx)\n",
    "\n",
    "ICC categories (typrr)\n",
    "\n",
    "FIPS Codes (cntycd, stcnty, state, county, city)\n",
    "\n",
    "fix crossing translations\n",
    "\"\"\"\n",
    "\n",
    "fra_xing_val_definitions = {\n",
    "    \"typveh_vals\": {\n",
    "        \"A\": \"auto\",\n",
    "        \"B\": \"truck\",\n",
    "        \"C\": \"truck-trailer\",\n",
    "        \"D\": \"pick-up truck\",\n",
    "        \"E\": \"van\",\n",
    "        \"F\": \"bus\",\n",
    "        \"G\": \"school bus\",\n",
    "        \"H\": \"motorcycle\",\n",
    "        \"J\": \"other motor veh.\",\n",
    "        \"K\": \"pedestrian\",\n",
    "        \"M\": \"other\",\n",
    "        \" \": \"Unknown\",  # Added due to unknown values in dataset\n",
    "    },\n",
    "    \"trndir_vals\": {\n",
    "        \"1\": \"north\",\n",
    "        \"2\": \"south\",\n",
    "        \"3\": \"east\",\n",
    "        \"4\": \"west\",\n",
    "        \" \": \"Unknown\",  # Added due to unknown values in dataset\n",
    "    },\n",
    "    \"vehdir_vals\": {\"1\": \"north\", \"2\": \"south\", \"3\": \"east\", \"4\": \"west\"},\n",
    "    \"position_vals\": {\n",
    "        \"1\": \"stalled or stuck on crossing\",\n",
    "        \"2\": \"stopped on crossing\",\n",
    "        \"3\": \"moving over crossing\",\n",
    "        \"4\": \"trapped on crossing by traffic\",\n",
    "        \"5\": \"Blocked on crossing by gates\",\n",
    "    },\n",
    "    \"rrequip_vals\": {\n",
    "        \"1\": \"Train (units pulling)\",\n",
    "        \"2\": \"Train (units pushing)\",\n",
    "        \"3\": \"Train (standing)\",\n",
    "        \"4\": \"Cars moving\",\n",
    "        \"5\": \"Car/s (standing)\",\n",
    "        \"6\": \"Light loco/s (moving)\",\n",
    "        \"7\": \"Light loco/s (standing)\",\n",
    "        \"8\": \"Other\",\n",
    "        \"A\": \"Training pulling (RCL)\",\n",
    "        \"B\": \"Train pushing (RCL)\",\n",
    "        \"C\": \"Train standing (RCL)\",\n",
    "        \"D\": \"Electric Multiple Unit Locomotive(s)\",\n",
    "        \"E\": \"Diesel Multiple Unit Locomotive(s)\",\n",
    "        \" \": \"Unknown\",  # Added due to unknown values in dataset\n",
    "    },\n",
    "    \"typacc_vals\": {\n",
    "        \"1\": \"Rail equipment struck highway user\",\n",
    "        \"2\": \"Rail equipment struck by highway user\",\n",
    "        \" \": \"Unknown\",  # Added due to unknown values in dataset\n",
    "    },\n",
    "    \"hazard_vals\": {\n",
    "        \"1\": \"Highway user\",\n",
    "        \"2\": \"Rail equipment\",\n",
    "        \"3\": \"Both\",\n",
    "        \"4\": \"Neither\",\n",
    "        \" \": \"Unknown\",  # Added due to unknown values in dataset\n",
    "    },\n",
    "    \"visiblty_vals\": {\n",
    "        \"1\": \"dawn\",\n",
    "        \"2\": \"day\",\n",
    "        \"3\": \"dusk\",\n",
    "        \"4\": \"dark\",\n",
    "        \" \": \"Unknown\",  # Added due to unknown values in dataset\n",
    "    },\n",
    "    \"weather_vals\": {\n",
    "        \"1\": \"Clear\",\n",
    "        \"2\": \"Cloudy\",\n",
    "        \"3\": \"Rain\",\n",
    "        \"4\": \"Fog\",\n",
    "        \"5\": \"Sleet\",\n",
    "        \"6\": \"Snow\",\n",
    "        \" \": \"Unknown\",  # Added due to unknown values in dataset\n",
    "    },\n",
    "    \"typeq_vals\": {\n",
    "        \"1\": \"Freight train\",\n",
    "        \"2\": \"Passenger train\",\n",
    "        \"3\": \"Commuter train\",\n",
    "        \"4\": \"Work train\",\n",
    "        \"5\": \"Single car\",\n",
    "        \"6\": \"Cut of cars\",\n",
    "        \"7\": \"Yard / switching\",\n",
    "        \"8\": \"Light loco(s)\",\n",
    "        \"9\": \"Maint / inspec car\",\n",
    "        \"A\": \"Special MoW equipment\",\n",
    "        \"B\": \"Passenger Train-Pushing\",\n",
    "        \"C\": \"Commuter Train-Pushing\",\n",
    "        \"D\": \"Electrical Multiple Unit\",\n",
    "        \"E\": \"Diesel Multiple Unit\",\n",
    "        \" \": \"Unknown\",  # Added due to unknown values in dataset\n",
    "    },\n",
    "    \"typtrk_vals\": {\n",
    "        \"1\": \"main\",\n",
    "        \"2\": \"yard\",\n",
    "        \"3\": \"siding\",\n",
    "        \"4\": \"industry\",\n",
    "        \" \": \"Unknown\",  # Added due to unknown values in dataset\n",
    "    },\n",
    "    \"typspd_vals\": {\"E\": \"Estimated\", \"R\": \"Recorder\", \" \": \"Unknown\"},\n",
    "    \"locwarn_vals\": {\n",
    "        \"1\": \"both sides\",\n",
    "        \"2\": \"side of vehicle approach\",\n",
    "        \"3\": \"opposite side of vehicle approach\",\n",
    "        \" \": \"Unknown\",  # Added this one myself, values like '4' and 'u' were coming in despite not being on the form\n",
    "    },\n",
    "    \"warnsig_vals\": {\"1\": \"Yes\", \"2\": \"No\", \"3\": \"Unknown\"},\n",
    "    \"lights_vals\": {\"1\": \"Yes\", \"2\": \"No\", \"3\": \"Unknown\"},\n",
    "    \"standveh_vals\": {\"1\": \"Yes\", \"2\": \"No\", \"3\": \"Unknown\"},\n",
    "    \"train2_vals\": {\"1\": \"Yes\", \"2\": \"No\", \"3\": \"Unknown\"},\n",
    "    \"motorist_vals\": {\n",
    "        \"1\": \"Drove around or thru the gate\",\n",
    "        \"2\": \"Stopped and then proceeded\",\n",
    "        \"3\": \"Did not stop\",\n",
    "        \"4\": \"Stopped on crossing\",\n",
    "        \"5\": \"Other\",\n",
    "        \"6\": \"Went around/thru temporary barricade\",\n",
    "        \"7\": \"Wen thru the gate\",\n",
    "        \"8\": \"Suicide/Attempted Suicide\",\n",
    "        \" \": \"Unknown\",  # Added due to unknown values in dataset\n",
    "    },\n",
    "    \"view_vals\": {\n",
    "        \"1\": \"permanent structure\",\n",
    "        \"2\": \"standing RR equipment\",\n",
    "        \"3\": \"passing train\",\n",
    "        \"4\": \"topography\",\n",
    "        \"5\": \"vegetation\",\n",
    "        \"6\": \"highway vehicles\",\n",
    "        \"7\": \"other\",\n",
    "        \"8\": \"not obstructed\",\n",
    "        \" \": \"Unknown\",  # Added due to unknown values in dataset\n",
    "    },\n",
    "    \"driver_vals\": {\n",
    "        \"1\": \"killed\",\n",
    "        \"2\": \"injured\",\n",
    "        \"3\": \"uninjured\",\n",
    "        \" \": \"Unknown\",  # Added due to unknown values in dataset\n",
    "    },\n",
    "    \"inveh_vals\": {\n",
    "        \"1\": \"yes\",\n",
    "        \"2\": \"no\",\n",
    "        \" \": \"Unknown\",  # Added due to unknown values in dataset\n",
    "    },\n",
    "    \"incdrpt_vals\": {\n",
    "        \"1\": \"yes\",\n",
    "        \"2\": \"no\",\n",
    "        \" \": \"Unknown\",  # Added due to unknown values in dataset\n",
    "    },\n",
    "    \"crossing_vals\": {\n",
    "        \"01\": \"gates\",\n",
    "        \"02\": \"cantilever fls\",\n",
    "        \"03\": \"standard fls\",\n",
    "        \"04\": \"wig wags\",\n",
    "        \"05\": \"highway traffic Signals\",\n",
    "        \"06\": \"audible\",\n",
    "        \"07\": \"cross bucks\",\n",
    "        \"08\": \"stop signs\",\n",
    "        \"09\": \"watchman\",\n",
    "        \"10\": \"flagged by crew\",\n",
    "        \"11\": \"other (specify)\",\n",
    "        \"12\": \"none\",\n",
    "    },\n",
    "    \"hzmrlsed_vals\": {\n",
    "        \"1\": \"highway user\",\n",
    "        \"2\": \"rail equipment\",\n",
    "        \"3\": \"both\",\n",
    "        \"4\": \"neither\",\n",
    "        \" \": \"unknown\",  # Added due to unknown values in dataset\n",
    "    },\n",
    "    \"whisban_vals\": {\n",
    "        \"1\": \"yes\",\n",
    "        \"2\": \"no\",\n",
    "        \"3\": \"not provided\",\n",
    "        \" \": \"unknown\",  # Added due to unknown values in dataset\n",
    "    },\n",
    "    \"drivgen_vals\": {\"1\": \"male\", \"2\": \"female\", \" \": \"unknown\"},\n",
    "    \"roadcond_vals\": {\n",
    "        \"A\": \"Dry\",\n",
    "        \"B\": \"Wet\",\n",
    "        \"C\": \"Snow/slush\",\n",
    "        \"D\": \"Ice\",\n",
    "        \"E\": \"Sand, Mud, Dirt, Oil, Gravel\",\n",
    "        \"F\": \"Water (Standing, Moving)\",\n",
    "        \" \": \"Unknown\",\n",
    "    },\n",
    "    \"state_fips\": {\n",
    "        \"01\": \"Alabama\",\n",
    "        \"02\": \"Alaska\",\n",
    "        \"04\": \"Arizona\",\n",
    "        \"05\": \"Arkansas\",\n",
    "        \"06\": \"California\",\n",
    "        \"08\": \"Colorado\",\n",
    "        \"09\": \"Connecticut\",\n",
    "        \"10\": \"Delaware\",\n",
    "        \"11\": \"District of Columbia\",\n",
    "        \"12\": \"Florida\",\n",
    "        \"13\": \"Georgia\",\n",
    "        \"15\": \"Hawaii\",\n",
    "        \"16\": \"Idaho\",\n",
    "        \"17\": \"Illinois\",\n",
    "        \"18\": \"Indiana\",\n",
    "        \"19\": \"Iowa\",\n",
    "        \"20\": \"Kansas\",\n",
    "        \"21\": \"Kentucky\",\n",
    "        \"22\": \"Louisiana\",\n",
    "        \"23\": \"Maine\",\n",
    "        \"24\": \"Maryland\",\n",
    "        \"25\": \"Massachusetts\",\n",
    "        \"26\": \"Michigan\",\n",
    "        \"27\": \"Minnesota\",\n",
    "        \"28\": \"Mississippi\",\n",
    "        \"29\": \"Missouri\",\n",
    "        \"30\": \"Montana\",\n",
    "        \"31\": \"Nebraska\",\n",
    "        \"32\": \"Nevada\",\n",
    "        \"33\": \"New HampsireE\",\n",
    "        \"34\": \"New Jersey\",\n",
    "        \"35\": \"New Mexico\",\n",
    "        \"36\": \"New York\",\n",
    "        \"37\": \"North Carolina\",\n",
    "        \"38\": \"North Dakota\",\n",
    "        \"39\": \"Ohio\",\n",
    "        \"40\": \"Oklahoma\",\n",
    "        \"41\": \"Oregon\",\n",
    "        \"42\": \"Pennsylvania\",\n",
    "        \"44\": \"Rhode Island\",\n",
    "        \"45\": \"South Carolina\",\n",
    "        \"46\": \"South Dakota\",\n",
    "        \"47\": \"Tennessee\",\n",
    "        \"48\": \"Texas\",\n",
    "        \"49\": \"Utah\",\n",
    "        \"50\": \"Vermont\",\n",
    "        \"51\": \"Virginia\",\n",
    "        \"53\": \"Washington\",\n",
    "        \"54\": \"West Virginia\",\n",
    "        \"55\": \"Wisconsin\",\n",
    "        \"56\": \"Wyoming\",\n",
    "        \"\": \"Unknown\",  # Added due to unknown values in dataset\n",
    "    },\n",
    "}"
   ]
  },
  {
   "cell_type": "markdown",
   "id": "383093fc-73f9-452a-abcf-68cf23e50277",
   "metadata": {},
   "source": [
    "## Pulling and Cleaning Stats From All Crash Records in a Given Year\n",
    "\n",
    "Sometimes values make it into the data sets that are incorrect, in this example some values are coming in as `' '`, `''`, or `'u'`. It's assumed all of these values should be read as `unknown/NA`. Originally, some of the data was being interpreted as integers instead of strings, this was rectified by adding the `dtype=str` and `keep_default_na=False` to the `pandas.read_csv` call above."
   ]
  },
  {
   "cell_type": "code",
   "execution_count": null,
   "id": "e9182403-ff1c-473d-8d54-2c094a554690",
   "metadata": {},
   "outputs": [],
   "source": [
    "import numpy as np\n",
    "\n",
    "# Shows all unique values in the column\n",
    "print(all_accident_data[\"DRIVGEN\"].unique())\n",
    "\n",
    "# Converts undesired values 'u' and '' into the desired ' ' value\n",
    "all_accident_data[\"DRIVGEN\"] = all_accident_data[\"DRIVGEN\"].replace({\"u\": \" \", \"\": \" \"})\n",
    "\n",
    "# Show the Unique values again demonstrating that the errant data has been cleaned out\n",
    "print(all_accident_data[\"DRIVGEN\"].unique())"
   ]
  },
  {
   "cell_type": "code",
   "execution_count": null,
   "id": "b26a4edc-2e77-4a60-8463-1941528b4b99",
   "metadata": {},
   "outputs": [],
   "source": [
    "driver_gender = pd.DataFrame(all_accident_data[\"DRIVGEN\"].value_counts(normalize=True))\n",
    "driver_gender[\"Definition\"] = driver_gender.index.to_series().map(\n",
    "    fra_xing_val_definitions[\"drivgen_vals\"]\n",
    ")"
   ]
  },
  {
   "cell_type": "code",
   "execution_count": null,
   "id": "d62d0f4b-3e57-4be6-8ac4-cacabbeafde5",
   "metadata": {},
   "outputs": [],
   "source": [
    "print(driver_gender[[\"Definition\", \"proportion\"]])"
   ]
  },
  {
   "cell_type": "markdown",
   "id": "fc289e5d-273f-46ef-9531-9d3da86ea52c",
   "metadata": {},
   "source": [
    "The above shows 71.88% of grade crossing accidents from 2000 to 2023 had male drivers, 23.28% the driver was a female and 4.84% were unknown"
   ]
  },
  {
   "cell_type": "code",
   "execution_count": null,
   "id": "42f08625-ef2f-4c25-adbe-f5c513aa679c",
   "metadata": {},
   "outputs": [],
   "source": [
    "# Clean the data\n",
    "all_accident_data[\"VISIBLTY\"] = all_accident_data[\"VISIBLTY\"].replace(\n",
    "    {1: \"1\", 2: \"2\", 3: \"3\", 4: \"4\"}\n",
    ")\n",
    "\n",
    "# Get the statistics\n",
    "visibility_results = pd.DataFrame(\n",
    "    all_accident_data[\"VISIBLTY\"].value_counts(normalize=True)\n",
    ")\n",
    "visibility_results[\"Definition\"] = visibility_results.index.to_series().map(\n",
    "    fra_xing_val_definitions[\"visiblty_vals\"]\n",
    ")"
   ]
  },
  {
   "cell_type": "code",
   "execution_count": null,
   "id": "14c5b7c8-2ab4-4301-9299-d7ff31397440",
   "metadata": {},
   "outputs": [],
   "source": [
    "print(visibility_results[[\"Definition\", \"proportion\"]])"
   ]
  },
  {
   "cell_type": "markdown",
   "id": "c9b29d73-9e02-4085-8517-cfdc9fe4a06b",
   "metadata": {},
   "source": [
    "58.62% of incidents occur during the day, 30.4% occured at night"
   ]
  },
  {
   "cell_type": "code",
   "execution_count": null,
   "id": "452e21e9-997a-4ab3-a62b-e00b05b1a0a9",
   "metadata": {},
   "outputs": [],
   "source": [
    "vehicle_types = pd.DataFrame(all_accident_data[\"TYPVEH\"].value_counts(normalize=True))\n",
    "vehicle_types[\"Vehicle\"] = vehicle_types.index.to_series().map(\n",
    "    fra_xing_val_definitions[\"typveh_vals\"]\n",
    ")"
   ]
  },
  {
   "cell_type": "code",
   "execution_count": null,
   "id": "2ce193c8-3397-4bef-a573-2e478240b3f7",
   "metadata": {},
   "outputs": [],
   "source": [
    "print(\n",
    "    vehicle_types[[\"Vehicle\", \"proportion\"]].sort_values(\"proportion\", ascending=False)\n",
    ")"
   ]
  },
  {
   "cell_type": "markdown",
   "id": "a5381a0d-ab8f-4622-822d-b48c283a60ba",
   "metadata": {},
   "source": [
    "45% of accidents involved personal cars, 15.6% involved tractor trailers"
   ]
  },
  {
   "cell_type": "code",
   "execution_count": null,
   "id": "38023939-9267-4401-a2b9-a4548b4d671c",
   "metadata": {},
   "outputs": [],
   "source": [
    "state_of_incident = pd.DataFrame(\n",
    "    all_accident_data[\"STATE\"].value_counts(normalize=True)\n",
    ")\n",
    "state_of_incident[\"State\"] = state_of_incident.index.to_series().map(\n",
    "    fra_xing_val_definitions[\"state_fips\"]\n",
    ")"
   ]
  },
  {
   "cell_type": "code",
   "execution_count": null,
   "id": "d9edcbbe-dcd2-4961-b2c1-065ff4b5d475",
   "metadata": {},
   "outputs": [],
   "source": [
    "print(\n",
    "    state_of_incident[[\"State\", \"proportion\"]].sort_values(\n",
    "        \"proportion\", ascending=False\n",
    "    )\n",
    ")"
   ]
  },
  {
   "cell_type": "markdown",
   "id": "c9dda57b-049f-4942-a2c4-e1207c4cd198",
   "metadata": {},
   "source": [
    "### Remaining Fields That Require Cleaning\n",
    "\n",
    "The following values are only the values where the submittal forms had drop down menus, fields that relied on User input, like \"Highway Name\" or \"Name of Reporting Railroad\" weren't attempted to be cleaned due to the likelihood of human error occuring during input."
   ]
  },
  {
   "cell_type": "markdown",
   "id": "33be39ef-02fc-484e-b19e-7425e96fa62e",
   "metadata": {},
   "source": [
    "**Whistle bans (Removed from form and replaced with \"Road Condition\" Field**"
   ]
  },
  {
   "cell_type": "code",
   "execution_count": null,
   "id": "2b544f8c-9c04-4618-9ddf-db6c167f2a66",
   "metadata": {},
   "outputs": [],
   "source": [
    "all_accident_data[\"WHISBAN\"].unique()"
   ]
  },
  {
   "cell_type": "code",
   "execution_count": null,
   "id": "e5d0ebab-e727-4ef2-9432-9a4b7e060235",
   "metadata": {},
   "outputs": [],
   "source": [
    "all_accident_data[\"WHISBAN\"] = all_accident_data[\"WHISBAN\"].replace({\"N\": \" \", \"\": \" \"})"
   ]
  },
  {
   "cell_type": "markdown",
   "id": "2f9d01cf-db6b-46b8-b0f2-f87a1dc2b0cd",
   "metadata": {},
   "source": [
    "**Warning Signals connected to highway signals**"
   ]
  },
  {
   "cell_type": "code",
   "execution_count": null,
   "id": "e2200200-43b7-4d39-9dd7-9c2c11b5bd33",
   "metadata": {},
   "outputs": [],
   "source": [
    "all_accident_data[\"WARNSIG\"].unique()"
   ]
  },
  {
   "cell_type": "code",
   "execution_count": null,
   "id": "3f94e6a4-68d2-42d0-9940-df00b9a5702d",
   "metadata": {},
   "outputs": [],
   "source": [
    "all_accident_data[\"WARNSIG\"] = all_accident_data[\"WARNSIG\"].replace(\n",
    "    {\" \": \"3\", \"\": \"3\", \"0\": \"3\"}\n",
    ")"
   ]
  },
  {
   "cell_type": "markdown",
   "id": "1ee25925-9a00-497c-8ed0-fedb15de855a",
   "metadata": {},
   "source": [
    "**Driver Passed standing vehicle**"
   ]
  },
  {
   "cell_type": "code",
   "execution_count": null,
   "id": "89a68162-96cb-4f8d-8c63-f2f2144f3255",
   "metadata": {},
   "outputs": [],
   "source": [
    "all_accident_data[\"STANDVEH\"].unique()"
   ]
  },
  {
   "cell_type": "code",
   "execution_count": null,
   "id": "7bcf52c3-c959-490f-94e9-57c8c7ff2c5a",
   "metadata": {},
   "outputs": [],
   "source": [
    "all_accident_data[\"STANDVEH\"] = all_accident_data[\"STANDVEH\"].replace(\n",
    "    {\" \": \"3\", \"\": \"3\"}\n",
    ")"
   ]
  },
  {
   "cell_type": "markdown",
   "id": "801db7c6-2adf-402f-9ba7-303dbc2b084b",
   "metadata": {},
   "source": [
    "**Location of Warning Values**"
   ]
  },
  {
   "cell_type": "code",
   "execution_count": null,
   "id": "32f82388-710f-4d1d-b17f-0575bce2f02e",
   "metadata": {},
   "outputs": [],
   "source": [
    "all_accident_data[\"LOCWARN\"].unique()"
   ]
  },
  {
   "cell_type": "code",
   "execution_count": null,
   "id": "ac4d83cf-554c-4a0c-8d33-feddcd3cb90f",
   "metadata": {},
   "outputs": [],
   "source": [
    "all_accident_data[\"LOCWARN\"] = all_accident_data[\"LOCWARN\"].replace(\n",
    "    {\"N\": \" \", \"\": \" \", \"4\": \" \", \"0\": \" \"}\n",
    ")"
   ]
  },
  {
   "cell_type": "markdown",
   "id": "d8bc6db2-2269-424b-9bf0-db8b3d46ed0c",
   "metadata": {},
   "source": [
    "**Driver Values**"
   ]
  },
  {
   "cell_type": "code",
   "execution_count": null,
   "id": "c695f5ae-fcf7-4180-a5b8-268e43a8f57a",
   "metadata": {},
   "outputs": [],
   "source": [
    "all_accident_data[\"DRIVER\"].unique()"
   ]
  },
  {
   "cell_type": "code",
   "execution_count": null,
   "id": "5fd76974-43d0-4492-96c7-827aa3af7b54",
   "metadata": {},
   "outputs": [],
   "source": [
    "all_accident_data[\"DRIVER\"] = all_accident_data[\"DRIVER\"].replace(\n",
    "    {\"0\": \" \", \"\": \" \", \"4\": \" \", \"0\": \" \"}\n",
    ")"
   ]
  },
  {
   "cell_type": "markdown",
   "id": "1713721f-2bf7-4a54-9ce8-825bdc9c24df",
   "metadata": {},
   "source": [
    "**Motorist Values**"
   ]
  },
  {
   "cell_type": "code",
   "execution_count": null,
   "id": "064ea344-feb4-488d-9fc1-06f07f00bb39",
   "metadata": {},
   "outputs": [],
   "source": [
    "all_accident_data[\"MOTORIST\"].unique()"
   ]
  },
  {
   "cell_type": "code",
   "execution_count": null,
   "id": "fc2d9adb-5fa7-4247-9c6a-a26657fbde35",
   "metadata": {},
   "outputs": [],
   "source": [
    "all_accident_data[\"MOTORIST\"] = all_accident_data[\"MOTORIST\"].replace(\n",
    "    {\"0\": \" \", \"\": \" \"}\n",
    ")"
   ]
  },
  {
   "cell_type": "markdown",
   "id": "b2f49dd5-fcdc-488b-8a82-37a7ddc98eb5",
   "metadata": {},
   "source": [
    "**\"In Vehicle\" Values**"
   ]
  },
  {
   "cell_type": "code",
   "execution_count": null,
   "id": "b7c78c1d-1f67-4cf5-a843-9a41631940ac",
   "metadata": {},
   "outputs": [],
   "source": [
    "all_accident_data[\"INVEH\"].unique()"
   ]
  },
  {
   "cell_type": "code",
   "execution_count": null,
   "id": "1346eae3-b3fa-497f-beaf-c8ea0da5542a",
   "metadata": {},
   "outputs": [],
   "source": [
    "# one of the few were a value wasn't automatically assigned to \"Unknown\", 'N' is assumed to be 2 for 'No'\n",
    "all_accident_data[\"INVEH\"] = all_accident_data[\"INVEH\"].replace({\"N\": \"2\", \"\": \" \"})"
   ]
  },
  {
   "cell_type": "markdown",
   "id": "e54ffabb-5942-4f89-8d4e-97ecc069238b",
   "metadata": {},
   "source": [
    "**Second Train values**"
   ]
  },
  {
   "cell_type": "code",
   "execution_count": null,
   "id": "cabd178b-c3df-4189-91de-707d62279d8d",
   "metadata": {},
   "outputs": [],
   "source": [
    "all_accident_data[\"TRAIN2\"].unique()"
   ]
  },
  {
   "cell_type": "code",
   "execution_count": null,
   "id": "4a5a7415-7cc9-4e11-9b88-c35678f85a6c",
   "metadata": {},
   "outputs": [],
   "source": [
    "all_accident_data[\"TRAIN2\"] = all_accident_data[\"TRAIN2\"].replace(\n",
    "    {\"N\": \"3\", \"\": \"3\", \" \": \"3\", \"5\": \"3\"}\n",
    ")"
   ]
  },
  {
   "cell_type": "markdown",
   "id": "8fea2f85-1b4a-4e97-bf24-b48150692c42",
   "metadata": {},
   "source": [
    "**Road Condition values**"
   ]
  },
  {
   "cell_type": "code",
   "execution_count": null,
   "id": "917250b3-c456-451f-9d2d-9c0356b28ee7",
   "metadata": {},
   "outputs": [],
   "source": [
    "all_accident_data[\"ROADCOND\"].unique()"
   ]
  },
  {
   "cell_type": "code",
   "execution_count": null,
   "id": "3f5c2ac2-b8f2-4913-9d92-fcc2f7bc365d",
   "metadata": {},
   "outputs": [],
   "source": [
    "all_accident_data[\"ROADCOND\"] = all_accident_data[\"ROADCOND\"].replace({\"\": \" \"})"
   ]
  },
  {
   "cell_type": "markdown",
   "id": "6a084ce8-c054-42ab-8007-782abba6d873",
   "metadata": {},
   "source": [
    "**Hazmat Involved**"
   ]
  },
  {
   "cell_type": "code",
   "execution_count": null,
   "id": "374666db-83e2-4c70-9789-47f24c3ace4d",
   "metadata": {},
   "outputs": [],
   "source": [
    "all_accident_data[\"HAZARD\"].unique()"
   ]
  },
  {
   "cell_type": "code",
   "execution_count": null,
   "id": "7dab43b5-728d-4b58-8d35-73f4eb4a4f65",
   "metadata": {},
   "outputs": [],
   "source": [
    "all_accident_data[\"HAZARD\"] = all_accident_data[\"HAZARD\"].replace({\"0\": \" \"})"
   ]
  },
  {
   "cell_type": "markdown",
   "id": "7f6da9e6-8b2e-4cb8-a462-1521e93d3dda",
   "metadata": {},
   "source": [
    "**Hazmat Released values**"
   ]
  },
  {
   "cell_type": "code",
   "execution_count": null,
   "id": "682035e9-4073-4402-a01e-0fea409808c9",
   "metadata": {},
   "outputs": [],
   "source": [
    "all_accident_data[\"HZMRLSED\"].unique()"
   ]
  },
  {
   "cell_type": "code",
   "execution_count": null,
   "id": "70fa48ec-dd77-4334-b064-57eafc28d37f",
   "metadata": {},
   "outputs": [],
   "source": [
    "all_accident_data[\"HZMRLSED\"] = all_accident_data[\"HZMRLSED\"].replace(\n",
    "    {\"\": \" \", \"0\": \" \", \"9\": \" \"}\n",
    ")"
   ]
  },
  {
   "cell_type": "markdown",
   "id": "2ef3c108-0a3a-4605-bc64-d026db83f365",
   "metadata": {},
   "source": [
    "**Weather values**"
   ]
  },
  {
   "cell_type": "code",
   "execution_count": null,
   "id": "1d525e6f-be00-4de6-beb1-b2f3f4828924",
   "metadata": {},
   "outputs": [],
   "source": [
    "all_accident_data[\"WEATHER\"].unique()"
   ]
  },
  {
   "cell_type": "code",
   "execution_count": null,
   "id": "0ccdf815-233c-4453-bf24-e2ede7503a92",
   "metadata": {},
   "outputs": [],
   "source": [
    "all_accident_data[\"WEATHER\"] = all_accident_data[\"WEATHER\"].replace({\"0\": \" \"})"
   ]
  },
  {
   "cell_type": "markdown",
   "id": "46e1b929-1b2d-46fd-ab97-ed34afcffb84",
   "metadata": {},
   "source": [
    "**\"Type Speed\" Recording Method**"
   ]
  },
  {
   "cell_type": "code",
   "execution_count": null,
   "id": "00e1f125-c048-4f54-a0f1-88f162aac89e",
   "metadata": {},
   "outputs": [],
   "source": [
    "all_accident_data[\"TYPSPD\"].unique()"
   ]
  },
  {
   "cell_type": "code",
   "execution_count": null,
   "id": "e4e82bd9-cd36-46a8-a9b9-216450de2009",
   "metadata": {},
   "outputs": [],
   "source": [
    "all_accident_data[\"TYPSPD\"] = all_accident_data[\"TYPSPD\"].replace({\"\": \" \"})"
   ]
  },
  {
   "cell_type": "markdown",
   "id": "f5e0cb87-4616-4d99-b7c3-acd78c434bba",
   "metadata": {},
   "source": [
    "**\"Lights\" Values**"
   ]
  },
  {
   "cell_type": "code",
   "execution_count": null,
   "id": "8cd60ca4-0d06-4e17-a68b-ed92228aa82b",
   "metadata": {},
   "outputs": [],
   "source": [
    "all_accident_data[\"LIGHTS\"].unique()"
   ]
  },
  {
   "cell_type": "code",
   "execution_count": null,
   "id": "bd20e305-b775-46c3-b880-e2db6904d7dd",
   "metadata": {},
   "outputs": [],
   "source": [
    "all_accident_data[\"LIGHTS\"] = all_accident_data[\"LIGHTS\"].replace({\"\": \"3\", \" \": \"3\"})"
   ]
  },
  {
   "cell_type": "markdown",
   "id": "804f0fc2-f2a9-468e-a893-74af9431bb60",
   "metadata": {},
   "source": [
    "**\"Train Direction\" Values**"
   ]
  },
  {
   "cell_type": "code",
   "execution_count": null,
   "id": "b964fafd-9583-432f-963c-52c3b0fa700d",
   "metadata": {},
   "outputs": [],
   "source": [
    "all_accident_data[\"TRNDIR\"].unique()"
   ]
  },
  {
   "cell_type": "code",
   "execution_count": null,
   "id": "d20b7613-5db5-4535-baec-90d7dc8cbdf6",
   "metadata": {},
   "outputs": [],
   "source": [
    "all_accident_data[\"TRNDIR\"] = all_accident_data[\"TRNDIR\"].replace({\"\": \" \", \"A\": \" \"})"
   ]
  },
  {
   "cell_type": "markdown",
   "id": "94b3c450-ff61-4adc-b643-ee4ae9c232be",
   "metadata": {},
   "source": [
    "**\"Type of Track\" Values**"
   ]
  },
  {
   "cell_type": "code",
   "execution_count": null,
   "id": "7ef46cd2-2301-4a35-8809-006b07268e0c",
   "metadata": {},
   "outputs": [],
   "source": [
    "all_accident_data[\"TYPTRK\"].unique()"
   ]
  },
  {
   "cell_type": "code",
   "execution_count": null,
   "id": "5f0e318c-773c-4f0b-be10-7b743701d1a4",
   "metadata": {},
   "outputs": [],
   "source": [
    "all_accident_data[\"TYPTRK\"] = all_accident_data[\"TYPTRK\"].replace({\"\": \" \"})"
   ]
  },
  {
   "cell_type": "markdown",
   "id": "4014a104-8691-4fc9-888f-a1b4481ebaf8",
   "metadata": {},
   "source": [
    "**\"Incident Report\" Values**"
   ]
  },
  {
   "cell_type": "code",
   "execution_count": null,
   "id": "20abb196-536f-46e3-82bb-67a52b457281",
   "metadata": {},
   "outputs": [],
   "source": [
    "all_accident_data[\"INCDRPT\"].unique()"
   ]
  },
  {
   "cell_type": "code",
   "execution_count": null,
   "id": "88749a32-1331-46ec-b4c5-832861b7b418",
   "metadata": {},
   "outputs": [],
   "source": [
    "all_accident_data[\"INCDRPT\"] = all_accident_data[\"INCDRPT\"].replace({\"\": \" \", \"4\": \" \"})"
   ]
  },
  {
   "cell_type": "markdown",
   "id": "745185dd-fc14-418e-8d47-11e257d1e15a",
   "metadata": {},
   "source": [
    "**\"View\" Values**"
   ]
  },
  {
   "cell_type": "code",
   "execution_count": null,
   "id": "54bfcd56-f918-4896-a21e-fae21d517a32",
   "metadata": {},
   "outputs": [],
   "source": [
    "all_accident_data[\"VIEW\"].unique()"
   ]
  },
  {
   "cell_type": "code",
   "execution_count": null,
   "id": "a98d8c4d-53a8-44a7-bfa8-17fab437ccb1",
   "metadata": {},
   "outputs": [],
   "source": [
    "all_accident_data[\"VIEW\"] = all_accident_data[\"VIEW\"].replace({\"0\": \" \"})"
   ]
  },
  {
   "attachments": {
    "eb4d9268-9f68-4bac-a54c-32c3081b4b0d.png": {
     "image/png": "[encoded data removed]"
    }
   },
   "cell_type": "markdown",
   "id": "56d90563-d3f4-419e-84ed-8fd1d0193a47",
   "metadata": {},
   "source": [
    "These two fields were the most complicated on the form and required specific processing steps,\n",
    "\n",
    "![image.png](attachment:eb4d9268-9f68-4bac-a54c-32c3081b4b0d.png)"
   ]
  },
  {
   "cell_type": "code",
   "execution_count": null,
   "id": "b9276b79-6cba-4d2a-b8d8-6ba94685d277",
   "metadata": {},
   "outputs": [],
   "source": [
    "def translate_xing_warning(str_to_convert):\n",
    "    values = [str_to_convert[i : i + 2] for i in range(0, len(str_to_convert), 2)]\n",
    "    return_string = \"\"\n",
    "\n",
    "    for value in values:\n",
    "        if value == \"  \":\n",
    "            value = \"12\"\n",
    "        if value != \"12\":\n",
    "            return_string = (\n",
    "                return_string + fra_xing_val_definitions[\"crossing_vals\"][value] + \", \"\n",
    "            )\n",
    "\n",
    "    return return_string[:-2]"
   ]
  },
  {
   "cell_type": "markdown",
   "id": "37d17611-83a9-4f07-9a80-326ddadadd65",
   "metadata": {},
   "source": [
    "### Answering Specific Queries\n",
    "\n",
    "Which crossings had the most incidents in the given period within the US?"
   ]
  },
  {
   "cell_type": "code",
   "execution_count": null,
   "id": "2a5602b4-1975-406a-aee0-78f7c793035b",
   "metadata": {},
   "outputs": [],
   "source": [
    "# most incidents of any crossings\n",
    "all_accident_data[\"GXID\"].value_counts()[:50]"
   ]
  },
  {
   "cell_type": "markdown",
   "id": "a4df27dd-48c9-4e22-84a0-1c52301a5e52",
   "metadata": {},
   "source": [
    "What about just for Ohio?"
   ]
  },
  {
   "cell_type": "code",
   "execution_count": null,
   "id": "c92f2d3f-5712-43f1-ae8d-68375d368e0c",
   "metadata": {},
   "outputs": [],
   "source": [
    "# Sort incidents by State of Ohio\n",
    "ohio_incidents = all_accident_data.loc[all_accident_data[\"STATE\"] == \"39\"]"
   ]
  },
  {
   "cell_type": "code",
   "execution_count": null,
   "id": "17db249f-c3dc-4396-986c-d86ec1e4d43c",
   "metadata": {},
   "outputs": [],
   "source": [
    "top_50_dangerous_ohio_crossings = ohio_incidents[\"GXID\"].value_counts()[:50]\n",
    "top_50_dangerous_ohio_crossings"
   ]
  },
  {
   "cell_type": "markdown",
   "id": "7b0d6da5-9c2e-4971-acb1-fa6e5db53ea0",
   "metadata": {
    "tags": []
   },
   "source": [
    "## Pulling values for individual Incidents"
   ]
  },
  {
   "cell_type": "markdown",
   "id": "1ff0a243-d915-45c5-af84-9f840be5c83f",
   "metadata": {},
   "source": [
    "### Define Object to Hold/Translate Fields from Records"
   ]
  },
  {
   "cell_type": "code",
   "execution_count": null,
   "id": "f2724ba3-0907-435e-9ac6-92c92809eb6d",
   "metadata": {},
   "outputs": [],
   "source": [
    "from dataclasses import dataclass\n",
    "from numbers import Number\n",
    "\n",
    "\n",
    "@dataclass\n",
    "class XingAccident:\n",
    "    \"\"\"\n",
    "    Class to hold and translate Railroad Accident Data from the FRA online Database\n",
    "\n",
    "    Notes/TODO:\n",
    "    - `railroad` attribute is a lookup of another database table where the 4 digit code is translated to a more descriptive explanation of the owner\n",
    "    - First value in the comments is the data frame index representing that value\n",
    "    - Second value in the comments is the block on the standard input form the value is found\n",
    "    \"\"\"\n",
    "\n",
    "    amtrak: str  # 0       Amtrak involvement\n",
    "    iyr: str  # 1   5   Year of incident (report)\n",
    "    imo: str  # 2   5   Month of Incident\n",
    "    railroad: str  # 3   1a  Reporting Railroad (See Note)\n",
    "    incdtno: str  # 4   1b  Railroad assigned number\n",
    "    iyr2: str  # 5   5   Year of incident\n",
    "    imo2: str  # 6   5   month of incident\n",
    "    rr2: str  # 7   2a  railroad code (Other RR involved)\n",
    "    incdtno2: str  # 8   2b  other railroad assigned number\n",
    "    iyr3: str  # 9   5   year of incident\n",
    "    imo3: str  # 10  5   month of incident\n",
    "    rr3: str  # 11  3a  railroad code (RR responsible for track maintenance)\n",
    "    incdtno3: str  # 12  3b  RR assigned number\n",
    "    dummy1: str  # 13      Blank data expansion field\n",
    "    casinjrr: str  # 14      # of injured for reporting Railroad calculated from F6180.55a=s submitted\n",
    "    gxid: str  # 15  4   Grade crossing id number\n",
    "    year: str  # 16  5   Year of incident\n",
    "    month: str  # 17  5   Month of incident\n",
    "    day: str  # 18  5   Day of incident (int)\n",
    "    timehr: int  # 19  6   Hour of incident\n",
    "    timemin: int  # 20  6   Minute of incident\n",
    "    ampm: str  # 21  6   AM or PM\n",
    "    station: str  # 22  7   Nearest Timetable Station\n",
    "    county: str  # 23  9   County Name (see FIPS Codes for associated code)\n",
    "    state: str  # 24  10  FIPS State Code\n",
    "    region: str  # 25      FRA designated region\n",
    "    dummy2: str  # 26      Blank data expansion field\n",
    "    city: str  # 27  11  City name (see FIPS Codes for associated code)\n",
    "    highway: str  # 28  12  Highway name\n",
    "    vehspd: str  # 29  14  Vehicle estimated speed - Blank=Unknown\n",
    "    typveh: (\n",
    "        str  # 30  13  See Translation Table below Type of vehicle involved in accident\n",
    "    )\n",
    "    vehdir: str  # 31  15  Highway user direction\n",
    "    position: str  # 32  16  Position of higway (See defs below)\n",
    "    rrequip: str  # 33  17  RR Equipment involved (See defs)\n",
    "    rrcar: str  # 34  18  Position of car unit in train\n",
    "    typacc: str  # 35  19  Circumstance of accident (See defs)\n",
    "    hazard: str  # 36  20a Entity Transporting Hazmat (See defs)\n",
    "    temp: Number  # 37  21  Temperature in degrees Fahrenheit\n",
    "    visiblty: str  # 38  22  Visibility (See defs)\n",
    "    weather: str  # 39  23  Weather Conditions (See defs)\n",
    "    typeq: str  # 40  24  Type of consist (See defs)\n",
    "    typtrk: str  # 41  25  Type of track (See defs)\n",
    "    trkname: str  # 42  26  Track identification\n",
    "    trkclas: str  # 43  27  FRA track class: 1-9, X\n",
    "    nbrlocos: Number  # 44  28  Number of locomotive units\n",
    "    nbrcars: Number  # 45  29  Number of cars\n",
    "    trnspd: str  # 46  30  Speed of train (in mph), blank=unknown\n",
    "    typspd: str  # 47  30  Train speed type (See defs)\n",
    "    trndir: str  # 48  31  Time table direction\n",
    "    signal: str  # 49  33  Type of signaled crossing warning:\n",
    "    locwarn: str  # 50  35  Location of warning (See defs)\n",
    "    warnsig: str  # 51  36  Crossing warning interconnected with highway (See defs)\n",
    "    lights: str  # 52  37  Lights at crossing (See defs)\n",
    "    standveh: str  # 53  42  Motorist passed highway standing vehicle (See defs)\n",
    "    train2: str  # 54  40  Motorist struck or was struck by 2nd train (See defs)\n",
    "    motorist: str  # 55  41  Action of motorist (See defs)\n",
    "    view: str  # 56  43  Primary obstruction of track view (See defs)\n",
    "    vehdmg: Number  # 57  47  Highway vehicle property damage in $\n",
    "    driver: str  # 58  44  Highway vehicle driver casualty (See defs)\n",
    "    inveh: str  # 59  45  Highway driver in vehicle (See defs)\n",
    "    totkld: Number  # 60      Total killed for railroad as reported on F6180.57\n",
    "    totinj: Number  # 61      Total injured for railroad as reported on F6180.57\n",
    "    totocc: Number  # 62  48  Total # in highway vehicle\n",
    "    incdrpt: str  # 63  51  F6180.54 filed (See defs)\n",
    "    jointcd: str  # 64      Indicates railroad reporting\n",
    "    typrr: str  # 65      Type railroad - ICC categories\n",
    "    dummy3: str  # 66      Blank data expansion field\n",
    "    caskldrr: (\n",
    "        Number  # 67      # killed for reporting RR - calculated F6180.55a's submitted\n",
    "    )\n",
    "    dummy4: str  # 68      Blank data expansion field\n",
    "    crossing: (\n",
    "        str  # 69  32  Type of Warning device at crossing (series of 2 digit codes)\n",
    "    )\n",
    "    narrlen: Number  # 70      Length of narrative\n",
    "    dummy5: str  # 71      Blank data expansion field\n",
    "    year4: str  # 72  5   4 digit year of incident\n",
    "    division: str  # 73  8   Railroad division\n",
    "    public: str  # 74  12  Public crossing\n",
    "    cntycd: str  # 75      FIPS county code\n",
    "    stcnty: str  # 76      FIPS state and county code\n",
    "    hzmrlsed: str  # 77  20b Hazmat released by (See def)\n",
    "    hzmname: str  # 78  20c Name of hazmat released 20c\n",
    "    hzmqnty: str  # 79  20c Quantity of hazmat released 20c\n",
    "    hzmmeas: str  # 80  20c Measure used in hazmat quantity field 20c\n",
    "    sigwarnx: str  # 81  33  Further definition of signal field\n",
    "    whisban: str  # 82      whistle ban in effect (See def) Removed from form, replaced with roadcond\n",
    "    drivage: str  # 83  38  Vehcile Driver's age, Blank=Unknown\n",
    "    drivgen: str  # 84  39  Vehicle driver's Gender (See def)\n",
    "    pleontrn: str  # 85  50  Total # of people on train, includes passengers and crew, blank=unknown\n",
    "    ssb1: str  # 86  53a Special study block 1\n",
    "    ssb2: str  # 87  53b Special study block 2\n",
    "    userkld: Number  # 88  46  # of highway-rail crossing users killed as reported by railroad on F6180.57\n",
    "    userinj: Number  # 89  46  # of highway-rail crossing users injured as reported by railroad on F6180.57\n",
    "    rrempkld: Number  # 90  49  # of highway employees killed as reported by railroad on F6180.57\n",
    "    rrempinj: Number  # 91  49  # of railroad employees injured as reported by railroad on F6180.57\n",
    "    passkld: Number  # 92  52  # of train passengers killed as reported by railroad on F6180.57\n",
    "    passinj: Number  # 93  52  # of train passengers injured as reported by railroad on F6180.57\n",
    "    narr1: str  # 94  54  narrative\n",
    "    narr2: str  # 95  54  narrative\n",
    "    narr3: str  # 96  54  narrative\n",
    "    narr4: str  # 97  54  narrative\n",
    "    narr5: str  # 98  54  narrative\n",
    "    subdiv: str  # 99      Not defined in current FRA definitions documentation\n",
    "    roadcond: str  # 100 34  Definitions taken from form\n",
    "    videot: str  # 101     Not defined in current FRA definitions documentation\n",
    "    videou: str  # 102     Not defined in current FRA definitions documentation\n",
    "\n",
    "    def __post_init__(self):\n",
    "        # The following values have lookups associated with them due to being stored as coded values\n",
    "        self.state = fra_xing_val_definitions[\"state_fips\"][self.state]\n",
    "        self.typveh = fra_xing_val_definitions[\"typveh_vals\"][self.typveh]\n",
    "        self.trndir = fra_xing_val_definitions[\"trndir_vals\"][self.trndir]\n",
    "        self.rrequip = fra_xing_val_definitions[\"rrequip_vals\"][self.rrequip]\n",
    "        self.typacc = fra_xing_val_definitions[\"typacc_vals\"][self.typacc]\n",
    "        self.hazard = fra_xing_val_definitions[\"hazard_vals\"][self.hazard]\n",
    "        self.visiblty = fra_xing_val_definitions[\"visiblty_vals\"][self.visiblty]\n",
    "        self.weather = fra_xing_val_definitions[\"weather_vals\"][self.weather]\n",
    "        self.typeq = fra_xing_val_definitions[\"typeq_vals\"][self.typeq]\n",
    "        self.typtrk = fra_xing_val_definitions[\"typtrk_vals\"][self.typtrk]\n",
    "        self.typspd = fra_xing_val_definitions[\"typspd_vals\"][self.typspd]\n",
    "        self.locwarn = fra_xing_val_definitions[\"locwarn_vals\"][self.locwarn]\n",
    "        self.warnsig = fra_xing_val_definitions[\"warnsig_vals\"][self.warnsig]\n",
    "        self.lights = fra_xing_val_definitions[\"lights_vals\"][self.lights]\n",
    "        self.standveh = fra_xing_val_definitions[\"standveh_vals\"][self.standveh]\n",
    "        self.train2 = fra_xing_val_definitions[\"train2_vals\"][self.train2]\n",
    "        self.motorist = fra_xing_val_definitions[\"motorist_vals\"][self.motorist]\n",
    "        self.view = fra_xing_val_definitions[\"view_vals\"][self.view]\n",
    "        self.driver = fra_xing_val_definitions[\"driver_vals\"][self.driver]\n",
    "        self.inveh = fra_xing_val_definitions[\"inveh_vals\"][self.inveh]\n",
    "        self.incdrpt = fra_xing_val_definitions[\"incdrpt_vals\"][str(self.incdrpt)]\n",
    "        # self.crossing = value_definitions['crossing_vals'][self.crossing]\n",
    "        self.hzmrlsed = fra_xing_val_definitions[\"hzmrlsed_vals\"][self.hzmrlsed]\n",
    "        self.whisban = fra_xing_val_definitions[\"whisban_vals\"][self.whisban]\n",
    "        self.drivgen = fra_xing_val_definitions[\"drivgen_vals\"][self.drivgen]\n",
    "        self.roadcond = fra_xing_val_definitions[\"roadcond_vals\"][self.roadcond]\n",
    "        self.crossing = translate_xing_warning(self.crossing)\n",
    "\n",
    "        # Prints a summary of the translated value upon init for dubugging # //TOODO - Remove from init\n",
    "        self.print_summary()\n",
    "\n",
    "    def print_summary(self):\n",
    "        \"\"\"\n",
    "        Displays various important details about the incident to user after translating them.\n",
    "        \"\"\"\n",
    "\n",
    "        print(f\"Incident Description: \\n\")\n",
    "        [\n",
    "            print(f\"{value}\", end=\"\")\n",
    "            for value in [self.narr1, self.narr2, self.narr3, self.narr4, self.narr5]\n",
    "            if not pd.isna(value)\n",
    "        ]\n",
    "\n",
    "        print(\"\\n\\nDate (Y/M/D):\")\n",
    "        print(f\"20{self.year}/{self.month}/{self.day}\")\n",
    "        print(f\"State: {self.state}\")\n",
    "\n",
    "        print(f\"Xing Name: {self.gxid}\")\n",
    "\n",
    "        # The following functions translate values stored in the files into usable information\n",
    "        print(\"\\nThe following values were translated from their original records;\")\n",
    "        print(f\"Vehicle Type: {self.typveh}\")\n",
    "        print(f\"Train Direction: {self.trndir}\")\n",
    "        print(f\"Railroad Equipment: {self.rrequip}\")\n",
    "        print(f\"Accident Circumstances: {self.typacc}\")\n",
    "        print(f\"Entity Transporting Hazard: {self.hazard}\")\n",
    "        print(f\"Visibility: {self.visiblty}\")\n",
    "        print(f\"Weather: {self.weather}\")\n",
    "        print(f\"Type of Consist: {self.typeq}\")\n",
    "        print(f\"Type of Track: {self.typtrk}\")\n",
    "        print(f\"Train Speed Type: {self.typspd}\")\n",
    "        print(f\"Location of Warning: {self.locwarn}\")\n",
    "        print(f\"Crossing Warnings Connected with Highway: {self.warnsig}\")\n",
    "        print(f\"Lights at Crossing: {self.lights}\")\n",
    "        print(f\"Motorist Passed Standing Hwy Vehicle: {self.standveh}\")\n",
    "        print(f\"Motorist Struck by Second Train: {self.train2}\")\n",
    "        print(f\"Motorist Action: {self.motorist}\")\n",
    "        print(f\"Primary Obstruction of Track View: {self.view}\")\n",
    "        print(f\"Highway Driver Casualty: {self.driver}\")\n",
    "        print(f\"Highway Driver in Vehicle: {self.inveh}\")\n",
    "        print(f\"Report Filed: {self.incdrpt}\")\n",
    "        print(\n",
    "            f\"Type of Warning Device: {self.crossing}\"\n",
    "        )  # Needs updated to accomodate multiple values\n",
    "        print(f\"Hazmat Released by: {self.hzmrlsed}\")\n",
    "        print(f\"Whistle Ban in Effect: {self.whisban}\")\n",
    "        print(f\"Gender of Driver: {self.drivgen}\")\n",
    "        print(f\"Road Conditions: {self.roadcond}\")"
   ]
  },
  {
   "cell_type": "markdown",
   "id": "3bd613d4-efc5-4045-ba3e-eca13a0c7f60",
   "metadata": {},
   "source": [
    "### Pulling All Incidents for a Given Crossing\n",
    "\n",
    "looping through a random 100 records to check for errors reading the data to identify values that need more cleaning"
   ]
  },
  {
   "cell_type": "code",
   "execution_count": null,
   "id": "0fdbec13-e928-4d95-8c63-0115379d328c",
   "metadata": {},
   "outputs": [],
   "source": [
    "import random\n",
    "\n",
    "# list_to_check = []\n",
    "#\n",
    "# # Creates a list of 50,000 values between 0 and the number of rows in the accident data and appends them to a list\n",
    "# for i in range(0,50_000):\n",
    "# n = random.randint(0,len(all_accident_data)-1)\n",
    "# list_to_check.append(n)\n",
    "#\n",
    "# # Iterates through the above list and randomly checks entries translate without errors\n",
    "# for i, j in enumerate(list_to_check):\n",
    "# x = XingAccident(*all_accident_data.iloc[j].values)\n",
    "# print(f'\\n\\n\\n{i}')"
   ]
  },
  {
   "cell_type": "code",
   "execution_count": null,
   "id": "d924b271-149c-4900-b5f2-6f1687364742",
   "metadata": {},
   "outputs": [],
   "source": [
    "# Added this class to get Errors to print out red for user\n",
    "class bcolors:\n",
    "    HEADER = \"\\033[95m\"\n",
    "    OKBLUE = \"\\033[94m\"\n",
    "    OKCYAN = \"\\033[96m\"\n",
    "    OKGREEN = \"\\033[92m\"\n",
    "    WARNING = \"\\033[93m\"\n",
    "    FAIL = \"\\033[91m\"\n",
    "    ENDC = \"\\033[0m\"\n",
    "    BOLD = \"\\033[1m\"\n",
    "    UNDERLINE = \"\\033[4m\"\n",
    "\n",
    "\n",
    "def get_crossing_summary(crossing: str):\n",
    "    try:\n",
    "        # General Crossing Data\n",
    "        xing_details = crossing_df[crossing_df[\"CrossingID\"] == crossing]\n",
    "\n",
    "        print(f\"Crossing: {xing_details['CrossingID'].values[0]}\")\n",
    "        print(\n",
    "            f\"Road Name: {xing_details['Street'].values[0]} in {xing_details['CityName'].values[0]}, {xing_details['StateName'].values[0]}, {xing_details['CountyName'].values[0]} County\"\n",
    "        )\n",
    "        print(f\"Crossing Closed?: {xing_details['CrossingClosed'].values[0]}\")\n",
    "        print(f\"Railroad: {xing_details['Railroad'].values[0]}\")\n",
    "        print(\n",
    "            f\"Division: {xing_details['RrDiv'].values[0]}, MP: {xing_details['PrfxMilePost'].values[0]}-{xing_details['MilePost'].values[0]}\"\n",
    "        )\n",
    "        print(f\"Last Update: {xing_details['RevisionDate'].values[0]}\\n\")\n",
    "        print(\n",
    "            f\"Coordinates: {xing_details['Latitude'].values[0]}, {xing_details['Longitude'].values[0]}\"\n",
    "        )\n",
    "        print(\n",
    "            f\"Google Maps: https://maps.google.com/?t=k&q={xing_details['Latitude'].values[0]},{xing_details['Longitude'].values[0]}\"\n",
    "        )\n",
    "        print(\n",
    "            f\"Street View: https://maps.google.com/?t=k&layer=c&cbll={xing_details['Latitude'].values[0]},{xing_details['Longitude'].values[0]}\\n\"\n",
    "        )\n",
    "        print(f\"Railroad Speed: {xing_details['MaxTtSpd'].values[0]}\")\n",
    "        print(\n",
    "            f\"Railroad Traffic: {xing_details['DayThru'].values[0]+xing_details['NghtThru'].values[0]}\"\n",
    "        )\n",
    "        print(f\"Road LRSID: {xing_details['LrsRouteid'].values[0]}\")\n",
    "        print(f\"Road Speed: {xing_details['HwySpeed'].values[0]}\")\n",
    "        print(f\"Road AADT: {xing_details['Aadt'].values[0]}\")\n",
    "        print(f\"AADT Year: {xing_details['AadtYear'].values[0]}\")\n",
    "        print(f\"Road Speed: {xing_details['HwySpeed'].values[0]}\")\n",
    "\n",
    "    except IndexError as e:\n",
    "        print(\n",
    "            f'{bcolors.FAIL}Crossing: \"{crossing}\" is not in the FRA Crossing Inventory\\nERROR: {e}{bcolors.ENDC}\\n\\n'\n",
    "        )\n",
    "    # //TODO - Decode more values for this summary related to xing protection\n",
    "\n",
    "    # Create a list of incidents at the crossing\n",
    "    incidents_at_crossing = ohio_incidents[ohio_incidents[\"GXID\"] == crossing]\n",
    "\n",
    "    # Have to use a loop and if statement here in case any or all values aren't in dataset\n",
    "    print(\"Number of Fatalities/Injuries:\")\n",
    "    for value in incidents_at_crossing[\"DRIVER\"].value_counts().index:\n",
    "        if value == \"1\":\n",
    "            print(f\"Killed: {incidents_at_crossing['DRIVER'].value_counts()[value]}\")\n",
    "        elif value == \"2\":\n",
    "            print(f\"Injured: {incidents_at_crossing['DRIVER'].value_counts()[value]}\")\n",
    "        elif value == \"3\":\n",
    "            print(f\"Uninjured: {incidents_at_crossing['DRIVER'].value_counts()[value]}\")\n",
    "        else:\n",
    "            print(f\"Unknown: {incidents_at_crossing['DRIVER'].value_counts()[value]}\")\n",
    "\n",
    "    i = 0\n",
    "\n",
    "    for index, row in incidents_at_crossing.iterrows():\n",
    "        print(f\"\\n\\nIncident {i+1}\")\n",
    "        x = XingAccident(*row.values)\n",
    "        i += 1"
   ]
  },
  {
   "cell_type": "code",
   "execution_count": null,
   "id": "36b29f81-4f9a-4fb3-a9e4-0fee2d297bc9",
   "metadata": {},
   "outputs": [],
   "source": [
    "# General Crossing Data\n",
    "crossing = \"524223P\"\n",
    "get_crossing_summary(crossing)"
   ]
  },
  {
   "cell_type": "code",
   "execution_count": null,
   "id": "5df25c07-15f0-400b-96b6-7a12822d8aa6",
   "metadata": {},
   "outputs": [],
   "source": [
    "# General Crossing Data\n",
    "crossing = \"508943S\"\n",
    "get_crossing_summary(crossing)"
   ]
  },
  {
   "cell_type": "code",
   "execution_count": null,
   "id": "67160177-9975-4049-bd3c-d730d78f5650",
   "metadata": {},
   "outputs": [],
   "source": [
    "# General Crossing Data\n",
    "crossing = \"142007P\"\n",
    "get_crossing_summary(crossing)"
   ]
  },
  {
   "cell_type": "code",
   "execution_count": null,
   "id": "7de9149c-cad3-457f-a692-afe9a8e39e57",
   "metadata": {},
   "outputs": [],
   "source": [
    "crossing = \"524190E\"\n",
    "get_crossing_summary(crossing)"
   ]
  },
  {
   "cell_type": "code",
   "execution_count": null,
   "id": "e3fef977-5a6f-45f7-97e3-3495545cb822",
   "metadata": {},
   "outputs": [],
   "source": [
    "crossing = \"928702M\"\n",
    "get_crossing_summary(crossing)"
   ]
  },
  {
   "cell_type": "code",
   "execution_count": null,
   "id": "8bd2b3d7-8280-489d-8182-cad315a9edff",
   "metadata": {},
   "outputs": [],
   "source": [
    "crossing = \"524226K\"\n",
    "get_crossing_summary(crossing)"
   ]
  },
  {
   "cell_type": "code",
   "execution_count": null,
   "id": "bbe8770d-5227-480e-add2-16c14075cf68",
   "metadata": {},
   "outputs": [],
   "source": [
    "crossing = \"524340K\"\n",
    "get_crossing_summary(crossing)"
   ]
  },
  {
   "cell_type": "code",
   "execution_count": null,
   "id": "3164c1db-f5e8-452d-bf85-581fc854790e",
   "metadata": {},
   "outputs": [],
   "source": [
    "crossing = \"923040X\"\n",
    "get_crossing_summary(crossing)"
   ]
  },
  {
   "cell_type": "code",
   "execution_count": null,
   "id": "85df8225-d055-4e7c-991f-326f107bd775",
   "metadata": {},
   "outputs": [],
   "source": [
    "crossing = \"523793Y\"\n",
    "get_crossing_summary(crossing)"
   ]
  },
  {
   "cell_type": "code",
   "execution_count": null,
   "id": "c1d9cb04-1c66-4df1-9a9d-4b7c152b8150",
   "metadata": {},
   "outputs": [],
   "source": [
    "crossing = \"923039D\"\n",
    "get_crossing_summary(crossing)"
   ]
  },
  {
   "cell_type": "code",
   "execution_count": null,
   "id": "c3729cb8-23b3-454e-8d03-6115157c9989",
   "metadata": {},
   "outputs": [],
   "source": [
    "crossing = \"153762C\"\n",
    "get_crossing_summary(crossing)"
   ]
  },
  {
   "cell_type": "code",
   "execution_count": null,
   "id": "9d2f03de-dae1-4ff3-b766-a501e8b9171b",
   "metadata": {},
   "outputs": [],
   "source": [
    "crossing = \"RRYARD\"\n",
    "get_crossing_summary(crossing)"
   ]
  },
  {
   "cell_type": "code",
   "execution_count": null,
   "id": "299a741b-746d-47e1-8e9b-0c4a087456f7",
   "metadata": {},
   "outputs": [],
   "source": [
    "crossing = \"509454K\"\n",
    "get_crossing_summary(crossing)"
   ]
  },
  {
   "cell_type": "code",
   "execution_count": null,
   "id": "a5417e13-8fd3-4acd-bfda-98640c917c0f",
   "metadata": {},
   "outputs": [],
   "source": [
    "crossing = \"509519B\"\n",
    "get_crossing_summary(crossing)"
   ]
  },
  {
   "cell_type": "code",
   "execution_count": null,
   "id": "26505241-b65e-449d-90b4-ecadf1471fdf",
   "metadata": {},
   "outputs": [],
   "source": [
    "crossing = \"544662D\"\n",
    "get_crossing_summary(crossing)"
   ]
  },
  {
   "cell_type": "code",
   "execution_count": null,
   "id": "fccf57d6-3d8f-41d0-9290-a0831d563a8e",
   "metadata": {},
   "outputs": [],
   "source": [
    "crossing = \"523850K\"\n",
    "get_crossing_summary(crossing)"
   ]
  },
  {
   "cell_type": "code",
   "execution_count": null,
   "id": "d715bd4a-f083-49e9-af62-0af95bb619b3",
   "metadata": {},
   "outputs": [],
   "source": [
    "crossing = \"904514E\"\n",
    "get_crossing_summary(crossing)"
   ]
  },
  {
   "cell_type": "code",
   "execution_count": null,
   "id": "2869cca3-02c4-4a2b-a7d2-79475345a201",
   "metadata": {},
   "outputs": [],
   "source": [
    "crossing = \"923043T\"\n",
    "get_crossing_summary(crossing)"
   ]
  },
  {
   "cell_type": "code",
   "execution_count": null,
   "id": "d2a91374-ec88-4d66-977e-1ec3f0eb7c08",
   "metadata": {},
   "outputs": [],
   "source": [
    "crossing = \"503541T\"\n",
    "get_crossing_summary(crossing)"
   ]
  },
  {
   "cell_type": "code",
   "execution_count": null,
   "id": "52663e65-3593-4aad-9ca3-d0e7831ddda7",
   "metadata": {},
   "outputs": [],
   "source": [
    "crossing = \"528002B\"\n",
    "get_crossing_summary(crossing)"
   ]
  },
  {
   "cell_type": "code",
   "execution_count": null,
   "id": "1da69a79-810e-4e6f-8fad-0b166ebec718",
   "metadata": {},
   "outputs": [],
   "source": [
    "crossing = \"509522J\"\n",
    "get_crossing_summary(crossing)"
   ]
  },
  {
   "cell_type": "code",
   "execution_count": null,
   "id": "7a2fe2ef-dedd-46ef-ad86-e54679f5b08e",
   "metadata": {},
   "outputs": [],
   "source": [
    "crossing = \"524062W\"\n",
    "get_crossing_summary(crossing)"
   ]
  },
  {
   "cell_type": "code",
   "execution_count": null,
   "id": "205b0bce-65ba-4742-9359-7569f97e31eb",
   "metadata": {},
   "outputs": [],
   "source": [
    "crossing = \"524678V\"\n",
    "get_crossing_summary(crossing)"
   ]
  },
  {
   "cell_type": "code",
   "execution_count": null,
   "id": "05818d84-8c23-4faf-aa6c-34b0b54f6ad2",
   "metadata": {},
   "outputs": [],
   "source": [
    "crossing = \"503013S\"\n",
    "get_crossing_summary(crossing)"
   ]
  },
  {
   "cell_type": "code",
   "execution_count": null,
   "id": "97736ff9-37f3-4427-a7a7-b76880bbd3e6",
   "metadata": {},
   "outputs": [],
   "source": [
    "crossing = \"228816S\"\n",
    "get_crossing_summary(crossing)"
   ]
  },
  {
   "cell_type": "code",
   "execution_count": null,
   "id": "fefb129f-c3ca-4248-9af7-63492a8cc5af",
   "metadata": {},
   "outputs": [],
   "source": [
    "crossing = \"155053D\"\n",
    "get_crossing_summary(crossing)"
   ]
  },
  {
   "cell_type": "code",
   "execution_count": null,
   "id": "6d76caaf-f220-43ec-9908-e100fa0e5917",
   "metadata": {},
   "outputs": [],
   "source": [
    "crossing = \"509457F\"\n",
    "get_crossing_summary(crossing)"
   ]
  },
  {
   "cell_type": "code",
   "execution_count": null,
   "id": "cc89cf58-c9ff-4bce-be2a-c8b27fc4d7ae",
   "metadata": {},
   "outputs": [],
   "source": [
    "crossing = \"518540F\"\n",
    "get_crossing_summary(crossing)"
   ]
  },
  {
   "cell_type": "code",
   "execution_count": null,
   "id": "583b74d3-dbd4-4bb3-bea4-91e57e7cb431",
   "metadata": {},
   "outputs": [],
   "source": [
    "crossing = \"509379B\"\n",
    "get_crossing_summary(crossing)"
   ]
  },
  {
   "cell_type": "code",
   "execution_count": null,
   "id": "a5d3a3d2-05ec-4009-b5d2-8e63604431b4",
   "metadata": {},
   "outputs": [],
   "source": [
    "crossing = \"473711A\"\n",
    "get_crossing_summary(crossing)"
   ]
  },
  {
   "cell_type": "code",
   "execution_count": null,
   "id": "bbc1cc7e-6c90-4671-95fa-1d5a890ece39",
   "metadata": {},
   "outputs": [],
   "source": [
    "crossing = \"502876E\"\n",
    "get_crossing_summary(crossing)"
   ]
  },
  {
   "cell_type": "code",
   "execution_count": null,
   "id": "27713424-0cd9-4c70-b7ae-bb44d2d6adb3",
   "metadata": {},
   "outputs": [],
   "source": [
    "crossing = \"867103W\"\n",
    "get_crossing_summary(crossing)"
   ]
  },
  {
   "cell_type": "code",
   "execution_count": null,
   "id": "4f2f7207-5066-4634-addb-b1c2e34de3ec",
   "metadata": {},
   "outputs": [],
   "source": [
    "crossing = \"523890H\"\n",
    "get_crossing_summary(crossing)"
   ]
  },
  {
   "cell_type": "code",
   "execution_count": null,
   "id": "43d70188-6f1b-4c69-af1e-3c0b9876b3d0",
   "metadata": {},
   "outputs": [],
   "source": [
    "crossing = \"152380D\"\n",
    "get_crossing_summary(crossing)"
   ]
  },
  {
   "cell_type": "code",
   "execution_count": null,
   "id": "2990c48e-d57c-4c7b-a145-f886928e6107",
   "metadata": {},
   "outputs": [],
   "source": [
    "crossing = \"509368N\"\n",
    "get_crossing_summary(crossing)"
   ]
  },
  {
   "cell_type": "code",
   "execution_count": null,
   "id": "e68fb425-fae7-4717-b4b8-d6d29c1d8715",
   "metadata": {},
   "outputs": [],
   "source": [
    "crossing = \"472402J\"\n",
    "get_crossing_summary(crossing)"
   ]
  },
  {
   "cell_type": "code",
   "execution_count": null,
   "id": "c55d49fb-c27b-490e-85b0-8f9f53e82b18",
   "metadata": {},
   "outputs": [],
   "source": [
    "crossing = \"473552V\"\n",
    "get_crossing_summary(crossing)"
   ]
  },
  {
   "cell_type": "code",
   "execution_count": null,
   "id": "71e324de-526d-4124-9906-d1e35a896248",
   "metadata": {},
   "outputs": [],
   "source": [
    "crossing = \"152395T\"\n",
    "get_crossing_summary(crossing)"
   ]
  },
  {
   "cell_type": "code",
   "execution_count": null,
   "id": "8734caf8-305a-4df2-8115-d3d2f1c2e8fc",
   "metadata": {},
   "outputs": [],
   "source": [
    "crossing = \"524051J\"\n",
    "get_crossing_summary(crossing)"
   ]
  },
  {
   "cell_type": "code",
   "execution_count": null,
   "id": "f3bd4b12-bbca-44e4-bb30-e33f9d2e3e35",
   "metadata": {},
   "outputs": [],
   "source": [
    "crossing = \"525239P\"\n",
    "get_crossing_summary(crossing)"
   ]
  },
  {
   "cell_type": "code",
   "execution_count": null,
   "id": "98e88095-dc2c-4190-bebd-dfde5f24c32a",
   "metadata": {},
   "outputs": [],
   "source": [
    "crossing = \"523898M\"\n",
    "get_crossing_summary(crossing)"
   ]
  },
  {
   "cell_type": "code",
   "execution_count": null,
   "id": "1a50281b-abaa-4c03-9d2e-287a689dc19b",
   "metadata": {},
   "outputs": [],
   "source": [
    "crossing = \"518430V\"\n",
    "get_crossing_summary(crossing)"
   ]
  },
  {
   "cell_type": "code",
   "execution_count": null,
   "id": "62ffb5c6-d271-4711-b72f-082ca5a4cc1f",
   "metadata": {},
   "outputs": [],
   "source": [
    "crossing = \"002036P\"\n",
    "get_crossing_summary(crossing)"
   ]
  },
  {
   "cell_type": "code",
   "execution_count": null,
   "id": "e68797fe-96f2-4b9a-8de4-daa121c0dee0",
   "metadata": {},
   "outputs": [],
   "source": [
    "crossing = \"524339R\"\n",
    "get_crossing_summary(crossing)"
   ]
  },
  {
   "cell_type": "code",
   "execution_count": null,
   "id": "ddda3c6d-c060-4d75-a75f-56c921a5b751",
   "metadata": {},
   "outputs": [],
   "source": [
    "crossing = \"518948D\"\n",
    "get_crossing_summary(crossing)"
   ]
  },
  {
   "cell_type": "code",
   "execution_count": null,
   "id": "307916ac-0e4a-4581-8917-70ae0ab61ca6",
   "metadata": {},
   "outputs": [],
   "source": [
    "crossing = \"518491L\"\n",
    "get_crossing_summary(crossing)"
   ]
  },
  {
   "cell_type": "code",
   "execution_count": null,
   "id": "0ab500be-1333-420b-bd13-ea8aba84e22e",
   "metadata": {},
   "outputs": [],
   "source": [
    "crossing = \"527976F\"\n",
    "get_crossing_summary(crossing)"
   ]
  },
  {
   "cell_type": "code",
   "execution_count": null,
   "id": "e27f14f5-c48d-416b-8c24-0b6e594180f5",
   "metadata": {},
   "outputs": [],
   "source": [
    "crossing = \"141707T\"\n",
    "get_crossing_summary(crossing)"
   ]
  },
  {
   "cell_type": "code",
   "execution_count": null,
   "id": "bfbaadd4-70d1-4243-970b-502fa72cbbda",
   "metadata": {},
   "outputs": [],
   "source": [
    "crossing = \"509271S\"\n",
    "get_crossing_summary(crossing)"
   ]
  },
  {
   "cell_type": "markdown",
   "id": "8562a424-7096-44ca-b7e1-185a9f812607",
   "metadata": {},
   "source": [
    "# Translating data to Excel"
   ]
  },
  {
   "cell_type": "code",
   "execution_count": null,
   "id": "6c7582f2-e375-4530-8e04-20a4b61b87ff",
   "metadata": {},
   "outputs": [],
   "source": [
    "top_50_dangerous_ohio_crossings"
   ]
  },
  {
   "cell_type": "markdown",
   "id": "f13b7432-5cf4-4472-af57-586b07de85e5",
   "metadata": {},
   "source": [
    "## Create KML File"
   ]
  },
  {
   "cell_type": "code",
   "execution_count": null,
   "id": "5fe8f691-40f3-43fa-92fa-ecf3cc95997d",
   "metadata": {},
   "outputs": [],
   "source": [
    "# Opted for KML instead, this is how to get an excel file ready for writing though,\n",
    "# import xlsxwriter\n",
    "\n",
    "# workbook = xlsxwriter.Workbook(r\"C:\\Users\\dane.parks\\OneDrive - Michael Baker International\\Desktop\\RR_Crossing data.xlsx\")\n",
    "# worksheet = workbook.add_worksheet('Crossing Data')\n",
    "# workbook.close()"
   ]
  },
  {
   "cell_type": "code",
   "execution_count": null,
   "id": "217dbe4e-7314-4fae-adc8-5e8f572c6314",
   "metadata": {},
   "outputs": [],
   "source": [
    "import simplekml\n",
    "\n",
    "kml = simplekml.Kml()"
   ]
  },
  {
   "cell_type": "code",
   "execution_count": null,
   "id": "d5c4adb1-8211-4c10-b167-d3149243b44e",
   "metadata": {},
   "outputs": [],
   "source": [
    "top_50_dangerous_ohio_crossings.keys()[0]"
   ]
  },
  {
   "cell_type": "code",
   "execution_count": null,
   "id": "990efe7d-d788-451a-adfe-491ebfb02e2c",
   "metadata": {},
   "outputs": [],
   "source": [
    "# xing52422P = get_crossing_summary(top_50_dangerous_ohio_crossings.keys()[0])"
   ]
  },
  {
   "cell_type": "code",
   "execution_count": null,
   "id": "c34873af-7ee6-421e-9179-dbdec45a2bfe",
   "metadata": {},
   "outputs": [],
   "source": [
    "xing_details = crossing_df[\n",
    "    crossing_df[\"CrossingID\"] == top_50_dangerous_ohio_crossings.keys()[0]\n",
    "]"
   ]
  },
  {
   "cell_type": "code",
   "execution_count": null,
   "id": "7e7c6bde-70fb-44d1-a0d4-3a7e31be23e2",
   "metadata": {},
   "outputs": [],
   "source": [
    "xing_details"
   ]
  },
  {
   "cell_type": "code",
   "execution_count": null,
   "id": "0451d16d-2953-4e26-bf79-131377bba6d8",
   "metadata": {},
   "outputs": [],
   "source": [
    "from dataclasses import dataclass\n",
    "from numbers import Number\n",
    "\n",
    "\n",
    "@dataclass\n",
    "class XingAccidentString:\n",
    "    \"\"\"\n",
    "    Class to hold and translate Railroad Accident Data from the FRA online Database\n",
    "\n",
    "    Notes/TODO:\n",
    "    - `railroad` attribute is a lookup of another database table where the 4 digit code is translated to a more descriptive explanation of the owner\n",
    "    - First value in the comments is the data frame index representing that value\n",
    "    - Second value in the comments is the block on the standard input form the value is found\n",
    "    \"\"\"\n",
    "\n",
    "    amtrak: str  # 0       Amtrak involvement\n",
    "    iyr: str  # 1   5   Year of incident (report)\n",
    "    imo: str  # 2   5   Month of Incident\n",
    "    railroad: str  # 3   1a  Reporting Railroad (See Note)\n",
    "    incdtno: str  # 4   1b  Railroad assigned number\n",
    "    iyr2: str  # 5   5   Year of incident\n",
    "    imo2: str  # 6   5   month of incident\n",
    "    rr2: str  # 7   2a  railroad code (Other RR involved)\n",
    "    incdtno2: str  # 8   2b  other railroad assigned number\n",
    "    iyr3: str  # 9   5   year of incident\n",
    "    imo3: str  # 10  5   month of incident\n",
    "    rr3: str  # 11  3a  railroad code (RR responsible for track maintenance)\n",
    "    incdtno3: str  # 12  3b  RR assigned number\n",
    "    dummy1: str  # 13      Blank data expansion field\n",
    "    casinjrr: str  # 14      # of injured for reporting Railroad calculated from F6180.55a=s submitted\n",
    "    gxid: str  # 15  4   Grade crossing id number\n",
    "    year: str  # 16  5   Year of incident\n",
    "    month: str  # 17  5   Month of incident\n",
    "    day: str  # 18  5   Day of incident (int)\n",
    "    timehr: int  # 19  6   Hour of incident\n",
    "    timemin: int  # 20  6   Minute of incident\n",
    "    ampm: str  # 21  6   AM or PM\n",
    "    station: str  # 22  7   Nearest Timetable Station\n",
    "    county: str  # 23  9   County Name (see FIPS Codes for associated code)\n",
    "    state: str  # 24  10  FIPS State Code\n",
    "    region: str  # 25      FRA designated region\n",
    "    dummy2: str  # 26      Blank data expansion field\n",
    "    city: str  # 27  11  City name (see FIPS Codes for associated code)\n",
    "    highway: str  # 28  12  Highway name\n",
    "    vehspd: str  # 29  14  Vehicle estimated speed - Blank=Unknown\n",
    "    typveh: (\n",
    "        str  # 30  13  See Translation Table below Type of vehicle involved in accident\n",
    "    )\n",
    "    vehdir: str  # 31  15  Highway user direction\n",
    "    position: str  # 32  16  Position of higway (See defs below)\n",
    "    rrequip: str  # 33  17  RR Equipment involved (See defs)\n",
    "    rrcar: str  # 34  18  Position of car unit in train\n",
    "    typacc: str  # 35  19  Circumstance of accident (See defs)\n",
    "    hazard: str  # 36  20a Entity Transporting Hazmat (See defs)\n",
    "    temp: Number  # 37  21  Temperature in degrees Fahrenheit\n",
    "    visiblty: str  # 38  22  Visibility (See defs)\n",
    "    weather: str  # 39  23  Weather Conditions (See defs)\n",
    "    typeq: str  # 40  24  Type of consist (See defs)\n",
    "    typtrk: str  # 41  25  Type of track (See defs)\n",
    "    trkname: str  # 42  26  Track identification\n",
    "    trkclas: str  # 43  27  FRA track class: 1-9, X\n",
    "    nbrlocos: Number  # 44  28  Number of locomotive units\n",
    "    nbrcars: Number  # 45  29  Number of cars\n",
    "    trnspd: str  # 46  30  Speed of train (in mph), blank=unknown\n",
    "    typspd: str  # 47  30  Train speed type (See defs)\n",
    "    trndir: str  # 48  31  Time table direction\n",
    "    signal: str  # 49  33  Type of signaled crossing warning:\n",
    "    locwarn: str  # 50  35  Location of warning (See defs)\n",
    "    warnsig: str  # 51  36  Crossing warning interconnected with highway (See defs)\n",
    "    lights: str  # 52  37  Lights at crossing (See defs)\n",
    "    standveh: str  # 53  42  Motorist passed highway standing vehicle (See defs)\n",
    "    train2: str  # 54  40  Motorist struck or was struck by 2nd train (See defs)\n",
    "    motorist: str  # 55  41  Action of motorist (See defs)\n",
    "    view: str  # 56  43  Primary obstruction of track view (See defs)\n",
    "    vehdmg: Number  # 57  47  Highway vehicle property damage in $\n",
    "    driver: str  # 58  44  Highway vehicle driver casualty (See defs)\n",
    "    inveh: str  # 59  45  Highway driver in vehicle (See defs)\n",
    "    totkld: Number  # 60      Total killed for railroad as reported on F6180.57\n",
    "    totinj: Number  # 61      Total injured for railroad as reported on F6180.57\n",
    "    totocc: Number  # 62  48  Total # in highway vehicle\n",
    "    incdrpt: str  # 63  51  F6180.54 filed (See defs)\n",
    "    jointcd: str  # 64      Indicates railroad reporting\n",
    "    typrr: str  # 65      Type railroad - ICC categories\n",
    "    dummy3: str  # 66      Blank data expansion field\n",
    "    caskldrr: (\n",
    "        Number  # 67      # killed for reporting RR - calculated F6180.55a's submitted\n",
    "    )\n",
    "    dummy4: str  # 68      Blank data expansion field\n",
    "    crossing: (\n",
    "        str  # 69  32  Type of Warning device at crossing (series of 2 digit codes)\n",
    "    )\n",
    "    narrlen: Number  # 70      Length of narrative\n",
    "    dummy5: str  # 71      Blank data expansion field\n",
    "    year4: str  # 72  5   4 digit year of incident\n",
    "    division: str  # 73  8   Railroad division\n",
    "    public: str  # 74  12  Public crossing\n",
    "    cntycd: str  # 75      FIPS county code\n",
    "    stcnty: str  # 76      FIPS state and county code\n",
    "    hzmrlsed: str  # 77  20b Hazmat released by (See def)\n",
    "    hzmname: str  # 78  20c Name of hazmat released 20c\n",
    "    hzmqnty: str  # 79  20c Quantity of hazmat released 20c\n",
    "    hzmmeas: str  # 80  20c Measure used in hazmat quantity field 20c\n",
    "    sigwarnx: str  # 81  33  Further definition of signal field\n",
    "    whisban: str  # 82      whistle ban in effect (See def) Removed from form, replaced with roadcond\n",
    "    drivage: str  # 83  38  Vehcile Driver's age, Blank=Unknown\n",
    "    drivgen: str  # 84  39  Vehicle driver's Gender (See def)\n",
    "    pleontrn: str  # 85  50  Total # of people on train, includes passengers and crew, blank=unknown\n",
    "    ssb1: str  # 86  53a Special study block 1\n",
    "    ssb2: str  # 87  53b Special study block 2\n",
    "    userkld: Number  # 88  46  # of highway-rail crossing users killed as reported by railroad on F6180.57\n",
    "    userinj: Number  # 89  46  # of highway-rail crossing users injured as reported by railroad on F6180.57\n",
    "    rrempkld: Number  # 90  49  # of highway employees killed as reported by railroad on F6180.57\n",
    "    rrempinj: Number  # 91  49  # of railroad employees injured as reported by railroad on F6180.57\n",
    "    passkld: Number  # 92  52  # of train passengers killed as reported by railroad on F6180.57\n",
    "    passinj: Number  # 93  52  # of train passengers injured as reported by railroad on F6180.57\n",
    "    narr1: str  # 94  54  narrative\n",
    "    narr2: str  # 95  54  narrative\n",
    "    narr3: str  # 96  54  narrative\n",
    "    narr4: str  # 97  54  narrative\n",
    "    narr5: str  # 98  54  narrative\n",
    "    subdiv: str  # 99      Not defined in current FRA definitions documentation\n",
    "    roadcond: str  # 100 34  Definitions taken from form\n",
    "    videot: str  # 101     Not defined in current FRA definitions documentation\n",
    "    videou: str  # 102     Not defined in current FRA definitions documentation\n",
    "\n",
    "    def __post_init__(self):\n",
    "        # The following values have lookups associated with them due to being stored as coded values\n",
    "        self.state = fra_xing_val_definitions[\"state_fips\"][self.state]\n",
    "        self.typveh = fra_xing_val_definitions[\"typveh_vals\"][self.typveh]\n",
    "        self.trndir = fra_xing_val_definitions[\"trndir_vals\"][self.trndir]\n",
    "        self.rrequip = fra_xing_val_definitions[\"rrequip_vals\"][self.rrequip]\n",
    "        self.typacc = fra_xing_val_definitions[\"typacc_vals\"][self.typacc]\n",
    "        self.hazard = fra_xing_val_definitions[\"hazard_vals\"][self.hazard]\n",
    "        self.visiblty = fra_xing_val_definitions[\"visiblty_vals\"][self.visiblty]\n",
    "        self.weather = fra_xing_val_definitions[\"weather_vals\"][self.weather]\n",
    "        self.typeq = fra_xing_val_definitions[\"typeq_vals\"][self.typeq]\n",
    "        self.typtrk = fra_xing_val_definitions[\"typtrk_vals\"][self.typtrk]\n",
    "        self.typspd = fra_xing_val_definitions[\"typspd_vals\"][self.typspd]\n",
    "        self.locwarn = fra_xing_val_definitions[\"locwarn_vals\"][self.locwarn]\n",
    "        self.warnsig = fra_xing_val_definitions[\"warnsig_vals\"][self.warnsig]\n",
    "        self.lights = fra_xing_val_definitions[\"lights_vals\"][self.lights]\n",
    "        self.standveh = fra_xing_val_definitions[\"standveh_vals\"][self.standveh]\n",
    "        self.train2 = fra_xing_val_definitions[\"train2_vals\"][self.train2]\n",
    "        self.motorist = fra_xing_val_definitions[\"motorist_vals\"][self.motorist]\n",
    "        self.view = fra_xing_val_definitions[\"view_vals\"][self.view]\n",
    "        self.driver = fra_xing_val_definitions[\"driver_vals\"][self.driver]\n",
    "        self.inveh = fra_xing_val_definitions[\"inveh_vals\"][self.inveh]\n",
    "        self.incdrpt = fra_xing_val_definitions[\"incdrpt_vals\"][str(self.incdrpt)]\n",
    "        # self.crossing = value_definitions['crossing_vals'][self.crossing]\n",
    "        self.hzmrlsed = fra_xing_val_definitions[\"hzmrlsed_vals\"][self.hzmrlsed]\n",
    "        self.whisban = fra_xing_val_definitions[\"whisban_vals\"][self.whisban]\n",
    "        self.drivgen = fra_xing_val_definitions[\"drivgen_vals\"][self.drivgen]\n",
    "        self.roadcond = fra_xing_val_definitions[\"roadcond_vals\"][self.roadcond]\n",
    "        self.crossing = translate_xing_warning(self.crossing)\n",
    "        self.return_string = \"\"\n",
    "\n",
    "        # Prints a summary of the translated value upon init for dubugging # //TOODO - Remove from init\n",
    "        self.return_string = self.create_summary()\n",
    "\n",
    "    def create_summary(self):\n",
    "        \"\"\"\n",
    "        Displays various important details about the incident to user after translating them.\n",
    "        \"\"\"\n",
    "        return_string = \"\"\n",
    "        return_string = return_string + f\"<br>Incident Description: <br>\"\n",
    "        [\n",
    "            return_string := (return_string + f\"{value}\")\n",
    "            for value in [self.narr1, self.narr2, self.narr3, self.narr4, self.narr5]\n",
    "            if not pd.isna(value)\n",
    "        ]\n",
    "\n",
    "        return_string = return_string + \"<br><br>Date (Y/M/D):\"\n",
    "        return_string = return_string + f\"<br>20{self.year}/{self.month}/{self.day}\"\n",
    "        return_string = return_string + f\"<br>State: {self.state}\"\n",
    "\n",
    "        return_string = return_string + f\"<br>Xing Name: {self.gxid}\"\n",
    "\n",
    "        # The following functions translate values stored in the files into usable information\n",
    "        return_string = (\n",
    "            return_string\n",
    "            + \"<br>The following values were translated from their original records;\"\n",
    "        )\n",
    "        return_string = return_string + f\"<br>Vehicle Type: {self.typveh}\"\n",
    "        return_string = return_string + f\"<br>Train Direction: {self.trndir}\"\n",
    "        return_string = return_string + f\"<br>Railroad Equipment: {self.rrequip}\"\n",
    "        return_string = return_string + f\"<br>Accident Circumstances: {self.typacc}\"\n",
    "        return_string = return_string + f\"<br>Entity Transporting Hazard: {self.hazard}\"\n",
    "        return_string = return_string + f\"<br>Visibility: {self.visiblty}\"\n",
    "        return_string = return_string + f\"<br>Weather: {self.weather}\"\n",
    "        return_string = return_string + f\"<br>Type of Consist: {self.typeq}\"\n",
    "        return_string = return_string + f\"<br>Type of Track: {self.typtrk}\"\n",
    "        return_string = return_string + f\"<br>Train Speed Type: {self.typspd}\"\n",
    "        return_string = return_string + f\"<br>Location of Warning: {self.locwarn}\"\n",
    "        return_string = (\n",
    "            return_string\n",
    "            + f\"<br>Crossing Warnings Connected with Highway: {self.warnsig}\"\n",
    "        )\n",
    "        return_string = return_string + f\"<br>Lights at Crossing: {self.lights}\"\n",
    "        return_string = (\n",
    "            return_string + f\"<br>Motorist Passed Standing Hwy Vehicle: {self.standveh}\"\n",
    "        )\n",
    "        return_string = (\n",
    "            return_string + f\"<br>Motorist Struck by Second Train: {self.train2}\"\n",
    "        )\n",
    "        return_string = return_string + f\"<br>Motorist Action: {self.motorist}\"\n",
    "        return_string = (\n",
    "            return_string + f\"<br>Primary Obstruction of Track View: {self.view}\"\n",
    "        )\n",
    "        return_string = return_string + f\"<br>Highway Driver Casualty: {self.driver}\"\n",
    "        return_string = return_string + f\"<br>Highway Driver in Vehicle: {self.inveh}\"\n",
    "        return_string = return_string + f\"<br>Report Filed: {self.incdrpt}\"\n",
    "        return_string = (\n",
    "            return_string + f\"<br>Type of Warning Device: {self.crossing}\"\n",
    "        )  # Needs updated to accomodate multiple value\n",
    "        return_string = return_string + f\"<br>Hazmat Released by: {self.hzmrlsed}\"\n",
    "        return_string = return_string + f\"<br>Whistle Ban in Effect: {self.whisban}\"\n",
    "        return_string = return_string + f\"<br>Gender of Driver: {self.drivgen}\"\n",
    "        return_string = return_string + f\"<br>Road Conditions: {self.roadcond}\"\n",
    "\n",
    "        return return_string"
   ]
  },
  {
   "cell_type": "code",
   "execution_count": null,
   "id": "14d28f35-8a3b-4ca5-a27f-8cf5448e8cc2",
   "metadata": {},
   "outputs": [],
   "source": []
  },
  {
   "cell_type": "code",
   "execution_count": null,
   "id": "17fc3406-05d1-4b1c-821b-a9a94c238f75",
   "metadata": {},
   "outputs": [],
   "source": [
    "# Added this class to get Errors to print out red for user\n",
    "class bcolors:\n",
    "    HEADER = \"\\033[95m\"\n",
    "    OKBLUE = \"\\033[94m\"\n",
    "    OKCYAN = \"\\033[96m\"\n",
    "    OKGREEN = \"\\033[92m\"\n",
    "    WARNING = \"\\033[93m\"\n",
    "    FAIL = \"\\033[91m\"\n",
    "    ENDC = \"\\033[0m\"\n",
    "    BOLD = \"\\033[1m\"\n",
    "    UNDERLINE = \"\\033[4m\"\n",
    "\n",
    "\n",
    "def add_crossing_to_KML(crossing: str, kml, color):\n",
    "    try:\n",
    "        # General Crossing Data\n",
    "        xing_details = crossing_df[crossing_df[\"CrossingID\"] == crossing]\n",
    "\n",
    "        description = \"\"\n",
    "\n",
    "        description = (\n",
    "            description + f\"Crossing: {xing_details['CrossingID'].values[0]}<br>\"\n",
    "        )\n",
    "        description = (\n",
    "            description\n",
    "            + f\"Road Name: {xing_details['Street'].values[0]} in {xing_details['CityName'].values[0]}, {xing_details['StateName'].values[0]}, {xing_details['CountyName'].values[0]} County<br>\"\n",
    "        )\n",
    "        description = (\n",
    "            description\n",
    "            + f\"Crossing Closed?: {xing_details['CrossingClosed'].values[0]}<br>\"\n",
    "        )\n",
    "        description = (\n",
    "            description + f\"Railroad: {xing_details['Railroad'].values[0]}<br>\"\n",
    "        )\n",
    "        description = (\n",
    "            description\n",
    "            + f\"Division: {xing_details['RrDiv'].values[0]}, MP: {xing_details['PrfxMilePost'].values[0]}-{xing_details['MilePost'].values[0]}<br>\"\n",
    "        )\n",
    "        description = (\n",
    "            description + f\"Last Update: {xing_details['RevisionDate'].values[0]}<br>\"\n",
    "        )\n",
    "        description = (\n",
    "            description\n",
    "            + f\"Google Maps: https://maps.google.com/?t=k&q={xing_details['Latitude'].values[0]},{xing_details['Longitude'].values[0]}<br>\"\n",
    "        )\n",
    "        description = (\n",
    "            description\n",
    "            + f\"Street View: https://maps.google.com/?t=k&layer=c&cbll={xing_details['Latitude'].values[0]},{xing_details['Longitude'].values[0]}<br>\"\n",
    "        )\n",
    "        description = (\n",
    "            description + f\"Railroad Speed: {xing_details['MaxTtSpd'].values[0]}<br>\"\n",
    "        )\n",
    "        description = (\n",
    "            description\n",
    "            + f\"Railroad Traffic: {xing_details['DayThru'].values[0]+xing_details['NghtThru'].values[0]}<br>\"\n",
    "        )\n",
    "        description = (\n",
    "            description + f\"Road LRSID: {xing_details['LrsRouteid'].values[0]}<br>\"\n",
    "        )\n",
    "        description = (\n",
    "            description + f\"Road Speed: {xing_details['HwySpeed'].values[0]}<br>\"\n",
    "        )\n",
    "        description = description + f\"Road AADT: {xing_details['Aadt'].values[0]}<br>\"\n",
    "        description = (\n",
    "            description + f\"AADT Year: {xing_details['AadtYear'].values[0]}<br>\"\n",
    "        )\n",
    "        description = (\n",
    "            description + f\"Road Speed: {xing_details['HwySpeed'].values[0]}<br>\"\n",
    "        )\n",
    "\n",
    "    except IndexError as e:\n",
    "        description = (\n",
    "            description\n",
    "            + f'{bcolors.FAIL}Crossing: \"{crossing}\" is not in the FRA Crossing Inventory\\nERROR: {e}{bcolors.ENDC}\\n\\n'\n",
    "        )\n",
    "    # //TODO - Decode more values for this summary related to xing protection\n",
    "\n",
    "    # Create a list of incidents at the crossing\n",
    "    incidents_at_crossing = ohio_incidents[ohio_incidents[\"GXID\"] == crossing]\n",
    "\n",
    "    # Have to use a loop and if statement here in case any or all values aren't in dataset\n",
    "    description = description + \"<br>Number of Fatalities/Injuries:\"\n",
    "    for value in incidents_at_crossing[\"DRIVER\"].value_counts().index:\n",
    "        if value == \"1\":\n",
    "            description = (\n",
    "                description\n",
    "                + f\"<br>Killed: {incidents_at_crossing['DRIVER'].value_counts()[value]}\"\n",
    "            )\n",
    "        elif value == \"2\":\n",
    "            description = (\n",
    "                description\n",
    "                + f\"<br>Injured: {incidents_at_crossing['DRIVER'].value_counts()[value]}\"\n",
    "            )\n",
    "        elif value == \"3\":\n",
    "            description = (\n",
    "                description\n",
    "                + f\"<br>Uninjured: {incidents_at_crossing['DRIVER'].value_counts()[value]}\"\n",
    "            )\n",
    "        else:\n",
    "            description = (\n",
    "                description\n",
    "                + f\"<br>Unknown: {incidents_at_crossing['DRIVER'].value_counts()[value]}\"\n",
    "            )\n",
    "\n",
    "    i = 0\n",
    "\n",
    "    for index, row in incidents_at_crossing.iterrows():\n",
    "        description = description + f\"<br><br>Incident {i+1}\"\n",
    "        x = XingAccidentString(*row.values)\n",
    "        description = description + x.return_string + \"<br>\"\n",
    "        i += 1\n",
    "\n",
    "    if str(color) == \"red\":\n",
    "        color = \"#FF0000\"\n",
    "    elif str(color) == \"green\":\n",
    "        color = \"#008000\"\n",
    "    color = str(color).replace(\"#\", \"FF\")\n",
    "    color = list(color)\n",
    "    color[2:4], color[6:8] = color[6:8], color[2:4]\n",
    "    color = \"\".join(color)\n",
    "    print(color)\n",
    "\n",
    "    try:\n",
    "        kml.newpoint(\n",
    "            name=xing_details[\"CrossingID\"].values[0],\n",
    "            coords=[\n",
    "                (\n",
    "                    xing_details[\"Longitude\"].values[0],\n",
    "                    xing_details[\"Latitude\"].values[0],\n",
    "                )\n",
    "            ],\n",
    "            description=description,\n",
    "        ).style.iconstyle.color = str(color).replace(\"#\", \"FF\")\n",
    "    except:\n",
    "        print(\"Point Not Added\")"
   ]
  },
  {
   "cell_type": "code",
   "execution_count": null,
   "id": "42d62810-b82c-47de-bdea-02702d682be5",
   "metadata": {},
   "outputs": [],
   "source": [
    "# Create a color gradient for the pins\n",
    "from colour import Color\n",
    "\n",
    "red = Color(\"red\")\n",
    "colors = list(red.range_to(Color(\"green\"), 50))\n",
    "\n",
    "i = 0\n",
    "\n",
    "for crossing in top_50_dangerous_ohio_crossings.keys():\n",
    "    add_crossing_to_KML(crossing, kml, colors[i])\n",
    "    i += 1\n",
    "kml.save(\"output/Ohio_RR_Crossings.kml\")"
   ]
  },
  {
   "cell_type": "code",
   "execution_count": null,
   "id": "ed1f5776-8d98-4613-ae5f-5b52533ee914",
   "metadata": {},
   "outputs": [],
   "source": [
    "color = \"fffc0a00\""
   ]
  },
  {
   "cell_type": "code",
   "execution_count": null,
   "id": "538471c9-8945-415e-a040-711e1b37ba95",
   "metadata": {},
   "outputs": [],
   "source": [
    "color = list(color)\n",
    "color[2:4], color[6:8] = color[6:8], color[2:4]"
   ]
  },
  {
   "cell_type": "code",
   "execution_count": null,
   "id": "61726461-d8ac-4981-ae9c-1addb0da0267",
   "metadata": {},
   "outputs": [],
   "source": [
    "color"
   ]
  },
  {
   "cell_type": "code",
   "execution_count": null,
   "id": "89f6a183-907d-4674-bbfd-6b18a0ebf7f4",
   "metadata": {},
   "outputs": [],
   "source": [
    "\"\".join(color)"
   ]
  },
  {
   "cell_type": "code",
   "execution_count": null,
   "id": "0b342aaf-f6d0-4828-b2c4-2986f9602793",
   "metadata": {},
   "outputs": [],
   "source": [
    "color[2:4]"
   ]
  },
  {
   "cell_type": "code",
   "execution_count": null,
   "id": "fd2df3da-5839-4756-bf93-fc5ebee9d5e5",
   "metadata": {},
   "outputs": [],
   "source": [
    "color[6:8]"
   ]
  },
  {
   "cell_type": "code",
   "execution_count": null,
   "id": "84df0f71-d444-42bc-b2b7-5481f977df9d",
   "metadata": {},
   "outputs": [],
   "source": [
    "all_accident_data.to_csv(\"accident_data.csv\")"
   ]
  },
  {
   "cell_type": "code",
   "execution_count": null,
   "id": "dcebe7f4-0b34-4375-a6cc-54b79748258f",
   "metadata": {},
   "outputs": [],
   "source": [
    "# Getting a Listing of Closed Crossings\n",
    "\n",
    "crossing_df[crossing_df[\"CrossingClosed\"] == \"Yes\"]"
   ]
  },
  {
   "cell_type": "code",
   "execution_count": null,
   "id": "3f459de3-4706-49a6-8051-0d26f3e01387",
   "metadata": {},
   "outputs": [],
   "source": [
    "crossing_df[\"CrossingClosed\"].unique()"
   ]
  },
  {
   "cell_type": "markdown",
   "id": "37e1bc1f-ee17-4ff3-a966-23453078fb38",
   "metadata": {},
   "source": [
    "# ORDC Crossing RCCII Score\n",
    "\n",
    "[ORDC RCCII]"
   ]
  },
  {
   "cell_type": "code",
   "execution_count": null,
   "id": "af1f9347-2816-40a2-9232-2aa86688d63d",
   "metadata": {},
   "outputs": [],
   "source": [
    "import requests\n",
    "\n",
    "Headers = {\n",
    "    \"Accept\": \"application/json, text/plain, */*\",\n",
    "    \"Accept-Encoding\": \"gzip, deflate, br\",\n",
    "    \"Accept-Language\": \"en-US,en;q=0.9\",\n",
    "    \"ActivityId\": \"93b45d42-c24c-4588-8e38-46305b9a041f\",\n",
    "    \"Connection\": \"keep-alive\",\n",
    "    \"Content-Length\": \"7743\",\n",
    "    \"Content-Type\": \"application/json;charset=UTF-8\",\n",
    "    \"Host\": \"wabi-us-gov-virginia-api.analysis.usgovcloudapi.net\",\n",
    "    \"Origin\": \"https://app.powerbigov.us\",\n",
    "    \"Referer\": \"https://app.powerbigov.us/\",\n",
    "    \"RequestId\": \"e2b0da3a-b6c8-1e63-a78e-7ebef1492361\",\n",
    "    \"Sec-Fetch-Dest\": \"empty\",\n",
    "    \"Sec-Fetch-Mode\": \"cors\",\n",
    "    \"Sec-Fetch-Site\": \"cross-site\",\n",
    "    \"User-Agent\": \"Mozilla/5.0 (Windows NT 10.0; Win64; x64) AppleWebKit/537.36 (KHTML, like Gecko) Chrome/120.0.0.0 Safari/537.36\",\n",
    "    \"X-PowerBI-ResourceKey\": \"11cd79d2-0a06-4a84-b147-7ecfc102f2c1\",\n",
    "    \"sec-ch-ua\": '\"Not_A Brand\";v=\"8\", \"Chromium\";v=\"120\", \"Google Chrome\";v=\"120\"',\n",
    "    \"sec-ch-ua-mobile\": \"?0\",\n",
    "    \"sec-ch-ua-platform\": \"Windows\",\n",
    "}\n",
    "\n",
    "# Making a GET request\n",
    "r = requests.post(\n",
    "    \"https://wabi-us-gov-virginia-api.analysis.usgovcloudapi.net/public/reports/querydata?synchronous=true\",\n",
    "    json=Headers,\n",
    ")\n",
    "\n",
    "# check status code for response received\n",
    "# success code - 200\n",
    "print(r)\n",
    "\n",
    "# print content of request\n",
    "print(r.content)"
   ]
  },
  {
   "cell_type": "code",
   "execution_count": null,
   "id": "d34dff47-6715-4349-8583-e4416c1509ee",
   "metadata": {},
   "outputs": [],
   "source": [
    "import urllib.request\n",
    "import pandas as pd\n",
    "import json\n",
    "\n",
    "# Define the API endpoint\n",
    "url = \"https://wabi-us-gov-virginia-api.analysis.usgovcloudapi.net/public/reports/querydata?synchronous=true\"\n",
    "\n",
    "# Make a GET request and read the response\n",
    "data = urllib.parse.urlencode(Headers).encode(\"utf-8\")\n",
    "req = urllib.request.Request(url, data=data)\n",
    "response = urllib.request.urlopen(req)\n",
    "data = response.read()\n",
    "\n",
    "# Convert the response data to a pandas DataFrame\n",
    "df = pd.read_json(data)\n",
    "\n",
    "# Extract the rates as a list of tuples\n",
    "rates = list(df[\"rates\"].items())\n",
    "\n",
    "# Create a new DataFrame with the rates\n",
    "rates_df = pd.DataFrame(rates, columns=[\"Currency\", \"Rate\"])"
   ]
  },
  {
   "cell_type": "code",
   "execution_count": null,
   "id": "dd319489-e98a-433a-a02f-5ad6741a71a4",
   "metadata": {},
   "outputs": [],
   "source": []
  },
  {
   "cell_type": "code",
   "execution_count": null,
   "id": "f01a8b9b-bbf3-4b3f-84cc-6af5a665d2c8",
   "metadata": {},
   "outputs": [],
   "source": []
  }
 ],
 "metadata": {
  "kernelspec": {
   "display_name": "Python 3 (ipykernel)",
   "language": "python",
   "name": "python3"
  },
  "language_info": {
   "codemirror_mode": {
    "name": "ipython",
    "version": 3
   },
   "file_extension": ".py",
   "mimetype": "text/x-python",
   "name": "python",
   "nbconvert_exporter": "python",
   "pygments_lexer": "ipython3",
   "version": "3.11.9"
  },
  "toc-autonumbering": true
 },
 "nbformat": 4,
 "nbformat_minor": 5
}
