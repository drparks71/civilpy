{
 "cells": [
  {
   "cell_type": "raw",
   "id": "c2a4e01b-ff9a-4476-a071-34274f80b2c6",
   "metadata": {
    "editable": true,
    "raw_mimetype": "pdf",
    "slideshow": {
     "slide_type": ""
    },
    "tags": []
   },
   "source": [
    "\\documentclass{article}\n",
    "\\usepackage{blindtext}\n",
    "\\usepackage{multicol}\n",
    "\\title{Multicols Demo}"
   ]
  },
  {
   "cell_type": "markdown",
   "id": "5963476d-c701-4dd7-a281-4d1dde91834f",
   "metadata": {
    "editable": true,
    "slideshow": {
     "slide_type": ""
    },
    "tags": []
   },
   "source": [
    "<table style=\"font-family: 'Roboto Mono';font-size: 20px;\">\n",
    "<thead>\n",
    "    <tr>\n",
    "        <th style=\"width:70%\"></th>\n",
    "        <th></th>\n",
    "    </tr>\n",
    "    <tr>\n",
    "        <td>\n",
    "            <u><b>PROJECT:</b> Python Document Header Test</u><br>\n",
    "            <u><b>TASK:</b> Deliverable Document Generation</u><br>\n",
    "            <u><b>PROJECT NO:</b> 8675309</u><br>\n",
    "            <u><b>SUBJECT:</b> $\\LaTeX$ Example Document</u><br>\n",
    "            <u><b>CALCULATED BY:</b> DRP <b>&ensp;&ensp;DATE:</b> 10/31/2023</u><br>\n",
    "            <u><b>CHECKED BY: </b> XXX <b>&ensp;&ensp;&ensp;&ensp;&ensp;DATE:</b> ##/##/####</u>\n",
    "        </td>\n",
    "        <td>\n",
    "            <img class=\"left\" src=\"res/imgs/MB_Branding.jpg\">\n",
    "        </td>\n",
    "    </tr>\n",
    "</thead>\n",
    "</table>"
   ]
  },
  {
   "cell_type": "markdown",
   "id": "34ae8752-e62f-4cfe-b09f-5ae1b68fcfd1",
   "metadata": {
    "editable": true,
    "slideshow": {
     "slide_type": ""
    },
    "tags": []
   },
   "source": [
    "# Purpose\n",
    "\n",
    "This notebook is used to generate various types of text to test the \"export to .pdf\" functionality of jupyter notebooks. The purpose is to demonstrate the various formamtting options available when converting jupyter notebooks over to pdf via pandoc and LaTex Conversions. Throughout the notebook, 'raw' code cells are included with commands like `\\newpage` these are latex commands to maniuplate the document.  When you see the following text `Lorem ipsum dolor sit amet` it's just a placeholder to demonstrate how text will sit on the page."
   ]
  },
  {
   "cell_type": "markdown",
   "id": "ad4356da-7065-44d1-816d-888180818147",
   "metadata": {
    "editable": true,
    "slideshow": {
     "slide_type": ""
    },
    "tags": []
   },
   "source": [
    "Lorem ipsum dolor sit amet, consectetur adipisicing elit, sed do eiusmod tempor incididunt ut labore et dolore magna aliqua. Ut enim ad minim veniam, quis nostrud exercitation ullamco laboris nisi ut aliquip ex ea commodo consequat. Duis aute irure dolor in reprehenderit in voluptate velit esse cillum dolore eu fugiat nulla pariatur. Excepteur sint occaecat cupidatat non proident, sunt in culpa qui officia deserunt mollit anim id est laborum.\n",
    "\n",
    "Ut molestias ab incidunt tempore molestiae ipsum fugiat et, iure nobis dolor nisi voluptates tempora deserunt sequi, repellat accusamus ipsam distinctio atque quam libero corporis laudantium, dolorem dolores dignissimos. Alias exercitationem explicabo suscipit quis placeat necessitatibus, quasi cum consequuntur vel est cupiditate aliquid, corporis sed voluptate magni commodi obcaecati voluptatibus ut inventore vero soluta deserunt, quis dolor id facilis magni, eos nesciunt maiores praesentium dolores voluptatem corporis rem quod? Rem optio quod nesciunt, sapiente quae nostrum maxime, velit repellat nobis debitis?  \n",
    "\n",
    "Iusto asperiores tempore voluptas sunt at nemo dolores inventore, explicabo sequi sint, dolorum incidunt et numquam impedit omnis assumenda ad tempore optio sed aliquam. Excepturi quisquam eum accusantium, possimus voluptates ipsum sed ullam provident molestiae nemo. Laudantium veritatis odio amet, nemo at consectetur voluptas non harum, aliquid accusantium maxime quia fuga dolore praesentium saepe est nobis nam, eum harum earum temporibus quo, fugiat recusandae corporis eius?  \n",
    "\n",
    "Dicta recusandae incidunt nobis similique accusantium amet quae est dolorum voluptates, aut odio minus totam error reiciendis iure eum mollitia labore, sint fuga optio natus officia repellat eum necessitatibus hic. Saepe ea commodi esse quidem eligendi cum eos, tempore sapiente quaerat laborum aut vel ea excepturi non iusto rerum alias, repellendus veniam dolores maxime neque magni error maiores blanditiis accusamus ullam quam, pariatur obcaecati optio esse repellat nulla corporis natus expedita error dignissimos perferendis, provident quas accusantium assumenda neque minima magni voluptate tempora exercitationem? Aspernatur corporis accusantium earum illo, itaque deserunt magnam, quasi praesentium nisi culpa voluptates exercitationem dicta tenetur, soluta voluptatem sunt error non id placeat vero hic?  \n",
    "\n",
    "Tempore illum adipisci sunt soluta accusamus excepturi ex vitae aliquid, repudiandae qui quam expedita ducimus rerum quisquam, sint sed ab eaque aliquid distinctio alias veritatis totam placeat sapiente cum, perspiciatis autem aperiam quia beatae suscipit pariatur? Recusandae iste perspiciatis autem id facilis facere amet tempore omnis commodi, id sapiente distinctio ipsum ab molestias in, maxime sequi reiciendis quibusdam error. "
   ]
  },
  {
   "cell_type": "markdown",
   "id": "225edb72-bd34-4db1-b535-13ce2aa64ee1",
   "metadata": {
    "editable": true,
    "raw_mimetype": "",
    "slideshow": {
     "slide_type": ""
    },
    "tags": []
   },
   "source": [
    "Welcome to LaTeX Base, a web-based \\LaTeX{} editor with live document preview!\n",
    "Here are some things to try --"
   ]
  },
  {
   "cell_type": "raw",
   "id": "a8eb5f6f-21c7-49c7-b025-34447bf76125",
   "metadata": {
    "editable": true,
    "raw_mimetype": "pdf",
    "slideshow": {
     "slide_type": ""
    },
    "tags": []
   },
   "source": []
  },
  {
   "cell_type": "markdown",
   "id": "e44248a7-1e72-47f4-9af6-f9f249fc57ad",
   "metadata": {
    "editable": true,
    "raw_mimetype": "",
    "slideshow": {
     "slide_type": ""
    },
    "tags": []
   },
   "source": []
  },
  {
   "cell_type": "raw",
   "id": "c09ec421-4edf-4ade-b172-39f9a9eeba99",
   "metadata": {
    "editable": true,
    "raw_mimetype": "",
    "slideshow": {
     "slide_type": ""
    },
    "tags": []
   },
   "source": []
  },
  {
   "cell_type": "raw",
   "id": "207da2ec-18c9-474c-ad4c-5ff5faacd83a",
   "metadata": {},
   "source": []
  },
  {
   "cell_type": "raw",
   "id": "71d9fb0e-9b8f-4b9a-be0d-fa786b5d2bed",
   "metadata": {},
   "source": []
  },
  {
   "cell_type": "raw",
   "id": "95117103-3f1c-4858-b676-9a2756239c36",
   "metadata": {
    "editable": true,
    "raw_mimetype": "",
    "slideshow": {
     "slide_type": ""
    },
    "tags": []
   },
   "source": []
  },
  {
   "cell_type": "code",
   "execution_count": 1,
   "id": "de517d8b-352b-4330-b54f-938859fb7614",
   "metadata": {
    "editable": true,
    "slideshow": {
     "slide_type": ""
    },
    "tags": []
   },
   "outputs": [
    {
     "name": "stderr",
     "output_type": "stream",
     "text": [
      "[NbConvertApp] Converting notebook C:\\Users\\dane.parks\\PycharmProjects\\civilpy\\Training\\MIDAS API.ipynb to pdf\n",
      "[NbConvertApp] Support files will be in MIDAS API_files\\\n",
      "[NbConvertApp] Making directory .\\MIDAS API_files\n",
      "[NbConvertApp] Writing 1674727 bytes to notebook.tex\n",
      "[NbConvertApp] Building PDF\n",
      "[NbConvertApp] Running xelatex 3 times: ['xelatex', 'notebook.tex', '-quiet']\n",
      "[NbConvertApp] CRITICAL | x failed: xelatex notebook.tex -quiet\n",
      "b''\n",
      "Traceback (most recent call last):\n",
      "  File \"C:\\Users\\dane.parks\\AppData\\Local\\anaconda3\\envs\\lab\\lib\\runpy.py\", line 196, in _run_module_as_main\n",
      "    return _run_code(code, main_globals, None,\n",
      "  File \"C:\\Users\\dane.parks\\AppData\\Local\\anaconda3\\envs\\lab\\lib\\runpy.py\", line 86, in _run_code\n",
      "    exec(code, run_globals)\n",
      "  File \"C:\\Users\\dane.parks\\AppData\\Local\\anaconda3\\envs\\lab\\Scripts\\jupyter-nbconvert.EXE\\__main__.py\", line 7, in <module>\n",
      "  File \"C:\\Users\\dane.parks\\AppData\\Local\\anaconda3\\envs\\lab\\lib\\site-packages\\jupyter_core\\application.py\", line 280, in launch_instance\n",
      "    super().launch_instance(argv=argv, **kwargs)\n",
      "  File \"C:\\Users\\dane.parks\\AppData\\Roaming\\Python\\Python310\\site-packages\\traitlets\\config\\application.py\", line 1075, in launch_instance\n",
      "    app.start()\n",
      "  File \"C:\\Users\\dane.parks\\AppData\\Local\\anaconda3\\envs\\lab\\lib\\site-packages\\nbconvert\\nbconvertapp.py\", line 420, in start\n",
      "    self.convert_notebooks()\n",
      "  File \"C:\\Users\\dane.parks\\AppData\\Local\\anaconda3\\envs\\lab\\lib\\site-packages\\nbconvert\\nbconvertapp.py\", line 597, in convert_notebooks\n",
      "    self.convert_single_notebook(notebook_filename)\n",
      "  File \"C:\\Users\\dane.parks\\AppData\\Local\\anaconda3\\envs\\lab\\lib\\site-packages\\nbconvert\\nbconvertapp.py\", line 563, in convert_single_notebook\n",
      "    output, resources = self.export_single_notebook(\n",
      "  File \"C:\\Users\\dane.parks\\AppData\\Local\\anaconda3\\envs\\lab\\lib\\site-packages\\nbconvert\\nbconvertapp.py\", line 487, in export_single_notebook\n",
      "    output, resources = self.exporter.from_filename(\n",
      "  File \"C:\\Users\\dane.parks\\AppData\\Local\\anaconda3\\envs\\lab\\lib\\site-packages\\nbconvert\\exporters\\templateexporter.py\", line 386, in from_filename\n",
      "    return super().from_filename(filename, resources, **kw)  # type:ignore[return-value]\n",
      "  File \"C:\\Users\\dane.parks\\AppData\\Local\\anaconda3\\envs\\lab\\lib\\site-packages\\nbconvert\\exporters\\exporter.py\", line 201, in from_filename\n",
      "    return self.from_file(f, resources=resources, **kw)\n",
      "  File \"C:\\Users\\dane.parks\\AppData\\Local\\anaconda3\\envs\\lab\\lib\\site-packages\\nbconvert\\exporters\\templateexporter.py\", line 392, in from_file\n",
      "    return super().from_file(file_stream, resources, **kw)  # type:ignore[return-value]\n",
      "  File \"C:\\Users\\dane.parks\\AppData\\Local\\anaconda3\\envs\\lab\\lib\\site-packages\\nbconvert\\exporters\\exporter.py\", line 220, in from_file\n",
      "    return self.from_notebook_node(\n",
      "  File \"C:\\Users\\dane.parks\\AppData\\Local\\anaconda3\\envs\\lab\\lib\\site-packages\\nbconvert\\exporters\\pdf.py\", line 197, in from_notebook_node\n",
      "    self.run_latex(tex_file)\n",
      "  File \"C:\\Users\\dane.parks\\AppData\\Local\\anaconda3\\envs\\lab\\lib\\site-packages\\nbconvert\\exporters\\pdf.py\", line 166, in run_latex\n",
      "    return self.run_command(\n",
      "  File \"C:\\Users\\dane.parks\\AppData\\Local\\anaconda3\\envs\\lab\\lib\\site-packages\\nbconvert\\exporters\\pdf.py\", line 156, in run_command\n",
      "    raise raise_on_failure(msg)\n",
      "nbconvert.exporters.pdf.LatexFailed: PDF creating failed, captured latex output:\n",
      "Failed to run \"xelatex notebook.tex -quiet\" command:\n",
      "\n"
     ]
    }
   ],
   "source": [
    "!jupyter nbconvert \"C:\\Users\\dane.parks\\PycharmProjects\\civilpy\\Training\\MIDAS API.ipynb\" --to=pdf --TemplateExporter.exclude_input=True"
   ]
  },
  {
   "cell_type": "code",
   "execution_count": null,
   "id": "1163e579-985d-4946-bb2d-57986f826586",
   "metadata": {
    "editable": true,
    "slideshow": {
     "slide_type": ""
    },
    "tags": []
   },
   "outputs": [],
   "source": []
  },
  {
   "cell_type": "code",
   "execution_count": null,
   "id": "4e7e365c-2b36-4c11-9402-61f5016bae01",
   "metadata": {
    "editable": true,
    "slideshow": {
     "slide_type": ""
    },
    "tags": []
   },
   "outputs": [],
   "source": [
    "from lorem_text import lorem\n",
    "\n",
    "print(lorem.paragraphs(5))"
   ]
  }
 ],
 "metadata": {
  "kernelspec": {
   "display_name": "Python 3 (ipykernel)",
   "language": "python",
   "name": "python3"
  },
  "language_info": {
   "codemirror_mode": {
    "name": "ipython",
    "version": 3
   },
   "file_extension": ".py",
   "mimetype": "text/x-python",
   "name": "python",
   "nbconvert_exporter": "python",
   "pygments_lexer": "ipython3",
   "version": "3.10.13"
  },
  "toc": {
   "base_numbering": 0
  }
 },
 "nbformat": 4,
 "nbformat_minor": 5
}
