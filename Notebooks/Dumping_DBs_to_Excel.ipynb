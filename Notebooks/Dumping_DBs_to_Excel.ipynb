{
 "cells": [
  {
   "cell_type": "markdown",
   "id": "a3d85ed4-e426-4095-949a-7ecef84b77c6",
   "metadata": {},
   "source": [
    "# Create an SQLAlchemy Engine to connect to the Database"
   ]
  },
  {
   "cell_type": "code",
   "execution_count": 2,
   "id": "dcfb9f78-d1bd-4702-ad7c-b5d7686d92e6",
   "metadata": {},
   "outputs": [],
   "source": [
    "import pandas as pd\n",
    "from sqlalchemy import create_engine"
   ]
  },
  {
   "cell_type": "code",
   "execution_count": 3,
   "id": "ed193281-63c7-44c9-93ba-62d87ccff599",
   "metadata": {},
   "outputs": [],
   "source": [
    "# Create an engine.\n",
    "engine = create_engine(\n",
    "    \"sqlite:///C:\\\\Users\\\\Public\\\\PWDrive\\\\MBI\\\\DEV\\\\Code\\\\Data\\\\ohio_bidtabs.db\"\n",
    ")"
   ]
  },
  {
   "cell_type": "markdown",
   "id": "5d8b8554-af82-4f2e-a389-73848d285726",
   "metadata": {},
   "source": [
    "## Use the Engine to Load Database Tables as Pandas Dataframes"
   ]
  },
  {
   "cell_type": "code",
   "execution_count": 4,
   "id": "8f553380-aefa-4a0b-8924-f9f2e2a31f73",
   "metadata": {},
   "outputs": [],
   "source": [
    "with engine.connect() as conn, conn.begin():\n",
    "    bid_values_df = pd.read_sql_table(\"bid_values\", conn)\n",
    "    contractors_df = pd.read_sql_table(\"contractors\", conn)\n",
    "    projects_df = pd.read_sql_table(\"projects\", conn)"
   ]
  },
  {
   "cell_type": "code",
   "execution_count": 5,
   "id": "45cbfd72-5423-4b4e-a436-83966cdd58c1",
   "metadata": {},
   "outputs": [
    {
     "data": {
      "text/html": [
       "<div>\n",
       "<style scoped>\n",
       "    .dataframe tbody tr th:only-of-type {\n",
       "        vertical-align: middle;\n",
       "    }\n",
       "\n",
       "    .dataframe tbody tr th {\n",
       "        vertical-align: top;\n",
       "    }\n",
       "\n",
       "    .dataframe thead th {\n",
       "        text-align: right;\n",
       "    }\n",
       "</style>\n",
       "<table border=\"1\" class=\"dataframe\">\n",
       "  <thead>\n",
       "    <tr style=\"text-align: right;\">\n",
       "      <th></th>\n",
       "      <th>id</th>\n",
       "      <th>item_code</th>\n",
       "      <th>item_description</th>\n",
       "      <th>quantity</th>\n",
       "      <th>bid_amount</th>\n",
       "      <th>contractor</th>\n",
       "      <th>project</th>\n",
       "    </tr>\n",
       "  </thead>\n",
       "  <tbody>\n",
       "    <tr>\n",
       "      <th>0</th>\n",
       "      <td>1</td>\n",
       "      <td>832E30000</td>\n",
       "      <td>EROSION CONTROL</td>\n",
       "      <td>1000.0</td>\n",
       "      <td>37456.39</td>\n",
       "      <td>1.0</td>\n",
       "      <td>115012</td>\n",
       "    </tr>\n",
       "    <tr>\n",
       "      <th>1</th>\n",
       "      <td>2</td>\n",
       "      <td>832E30000</td>\n",
       "      <td>EROSION CONTROL</td>\n",
       "      <td>1000.0</td>\n",
       "      <td>70957.00</td>\n",
       "      <td>2.0</td>\n",
       "      <td>115012</td>\n",
       "    </tr>\n",
       "    <tr>\n",
       "      <th>2</th>\n",
       "      <td>3</td>\n",
       "      <td>832E30000</td>\n",
       "      <td>EROSION CONTROL</td>\n",
       "      <td>1000.0</td>\n",
       "      <td>177524.00</td>\n",
       "      <td>3.0</td>\n",
       "      <td>115012</td>\n",
       "    </tr>\n",
       "    <tr>\n",
       "      <th>3</th>\n",
       "      <td>4</td>\n",
       "      <td>614E11110</td>\n",
       "      <td>LAW ENFORCEMENT OFFICER WITH PATROL CAR FOR AS...</td>\n",
       "      <td>8.0</td>\n",
       "      <td>37456.39</td>\n",
       "      <td>1.0</td>\n",
       "      <td>115012</td>\n",
       "    </tr>\n",
       "    <tr>\n",
       "      <th>4</th>\n",
       "      <td>5</td>\n",
       "      <td>614E11110</td>\n",
       "      <td>LAW ENFORCEMENT OFFICER WITH PATROL CAR FOR AS...</td>\n",
       "      <td>8.0</td>\n",
       "      <td>70957.00</td>\n",
       "      <td>2.0</td>\n",
       "      <td>115012</td>\n",
       "    </tr>\n",
       "  </tbody>\n",
       "</table>\n",
       "</div>"
      ],
      "text/plain": [
       "   id  item_code                                   item_description  quantity  \\\n",
       "0   1  832E30000                                    EROSION CONTROL    1000.0   \n",
       "1   2  832E30000                                    EROSION CONTROL    1000.0   \n",
       "2   3  832E30000                                    EROSION CONTROL    1000.0   \n",
       "3   4  614E11110  LAW ENFORCEMENT OFFICER WITH PATROL CAR FOR AS...       8.0   \n",
       "4   5  614E11110  LAW ENFORCEMENT OFFICER WITH PATROL CAR FOR AS...       8.0   \n",
       "\n",
       "   bid_amount  contractor  project  \n",
       "0    37456.39         1.0   115012  \n",
       "1    70957.00         2.0   115012  \n",
       "2   177524.00         3.0   115012  \n",
       "3    37456.39         1.0   115012  \n",
       "4    70957.00         2.0   115012  "
      ]
     },
     "execution_count": 5,
     "metadata": {},
     "output_type": "execute_result"
    }
   ],
   "source": [
    "# Displays the first 5 rows of data\n",
    "bid_values_df.head()"
   ]
  },
  {
   "cell_type": "markdown",
   "id": "fa64a1c8-a7c1-446a-bcd9-ee2bafb949b2",
   "metadata": {},
   "source": [
    "# Export the tables to Excel Sheets"
   ]
  },
  {
   "cell_type": "code",
   "execution_count": 6,
   "id": "57bae5a1-d6db-4663-94a6-eed36ef48704",
   "metadata": {},
   "outputs": [],
   "source": [
    "bid_values_1 = bid_values_df.iloc[:1048570, :]\n",
    "bid_values_2 = bid_values_df.iloc[1048570:2097140, :]\n",
    "bid_values_3 = bid_values_df.iloc[2097140:, :]"
   ]
  },
  {
   "cell_type": "code",
   "execution_count": 7,
   "id": "26dd8b56-15e7-4338-aeb8-ae82da5c9890",
   "metadata": {},
   "outputs": [
    {
     "name": "stderr",
     "output_type": "stream",
     "text": [
      "C:\\Users\\dane.parks\\AppData\\Local\\Temp\\1\\ipykernel_48308\\2334280846.py:3: FutureWarning: Starting with pandas version 3.0 all arguments of to_excel except for the argument 'excel_writer' will be keyword-only.\n",
      "  bid_values_1.to_excel(writer, 'Bid Values 1')\n",
      "C:\\Users\\dane.parks\\AppData\\Local\\Temp\\1\\ipykernel_48308\\2334280846.py:4: FutureWarning: Starting with pandas version 3.0 all arguments of to_excel except for the argument 'excel_writer' will be keyword-only.\n",
      "  bid_values_2.to_excel(writer, 'Bid Values 2')\n",
      "C:\\Users\\dane.parks\\AppData\\Local\\Temp\\1\\ipykernel_48308\\2334280846.py:5: FutureWarning: Starting with pandas version 3.0 all arguments of to_excel except for the argument 'excel_writer' will be keyword-only.\n",
      "  bid_values_3.to_excel(writer, 'Bid Values 3')\n"
     ]
    }
   ],
   "source": [
    "# Doing this without a writer object overwrites the same sheet\n",
    "with pd.ExcelWriter(\"output/odot_bidtabs.xlsx\") as writer:\n",
    "    bid_values_1.to_excel(writer, sheet_name=\"Bid Values 1\")\n",
    "    bid_values_2.to_excel(writer, sheet_name=\"Bid Values 2\")\n",
    "    bid_values_3.to_excel(writer, sheet_name=\"Bid Values 3\")"
   ]
  },
  {
   "cell_type": "code",
   "execution_count": 10,
   "id": "ec274205-f518-4880-a422-98ebfebcdc17",
   "metadata": {},
   "outputs": [],
   "source": [
    "with pd.ExcelWriter(\"output/odot_bidtabs.xlsx\", engine=\"openpyxl\", mode=\"a\") as writer:\n",
    "    contractors_df.to_excel(writer, sheet_name=\"contractors\")"
   ]
  },
  {
   "cell_type": "code",
   "execution_count": 11,
   "id": "301299cb-22ab-4fd9-933e-8b3ef91d512a",
   "metadata": {},
   "outputs": [],
   "source": [
    "with pd.ExcelWriter(\"output/odot_bidtabs.xlsx\", engine=\"openpyxl\", mode=\"a\") as writer:\n",
    "    projects_df.to_excel(writer, sheet_name=\"projects\")"
   ]
  },
  {
   "cell_type": "code",
   "execution_count": null,
   "id": "3e18474b-9492-48b9-b588-2efc3b6a1710",
   "metadata": {},
   "outputs": [],
   "source": []
  },
  {
   "cell_type": "code",
   "execution_count": null,
   "id": "93a1143e-aa61-487e-910f-19512b0186c0",
   "metadata": {},
   "outputs": [],
   "source": []
  }
 ],
 "metadata": {
  "kernelspec": {
   "display_name": "Python 3 (ipykernel)",
   "language": "python",
   "name": "python3"
  },
  "language_info": {
   "codemirror_mode": {
    "name": "ipython",
    "version": 3
   },
   "file_extension": ".py",
   "mimetype": "text/x-python",
   "name": "python",
   "nbconvert_exporter": "python",
   "pygments_lexer": "ipython3",
   "version": "3.10.13"
  }
 },
 "nbformat": 4,
 "nbformat_minor": 5
}
