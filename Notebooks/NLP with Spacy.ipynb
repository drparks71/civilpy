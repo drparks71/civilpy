{
 "cells": [
  {
   "cell_type": "markdown",
   "id": "fb7fd721-3fba-4255-850a-188706fe7103",
   "metadata": {},
   "source": [
    "# Spacy vs NLTK\n",
    "\n",
    "Spacy is more user friendly, resulting in \"cleaner\" code more suitable for production purposes. NLTK is generally a more raw library, better suited for education and research purposes."
   ]
  }
 ],
 "metadata": {
  "kernelspec": {
   "display_name": "PyCharm (civilpy)",
   "language": "python",
   "name": "pycharm-29403787"
  },
  "language_info": {
   "codemirror_mode": {
    "name": "ipython",
    "version": 3
   },
   "file_extension": ".py",
   "mimetype": "text/x-python",
   "name": "python",
   "nbconvert_exporter": "python",
   "pygments_lexer": "ipython3",
   "version": "3.11.5"
  }
 },
 "nbformat": 4,
 "nbformat_minor": 5
}
