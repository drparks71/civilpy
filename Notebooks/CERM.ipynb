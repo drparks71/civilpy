{
 "cells": [
  {
   "cell_type": "markdown",
   "id": "351d2a25-6616-4e72-8730-cb0f20245d6b",
   "metadata": {},
   "source": [
    "# Topic 1 - Background and Support"
   ]
  },
  {
   "cell_type": "markdown",
   "id": "eb7558cf-7d14-4efa-a2ff-121be042f8ef",
   "metadata": {},
   "source": [
    "## Chapters 1-13\n",
    "\n",
    "Glossed over as they're out of scope for civilpy. Since these chapters are so general, there already exists python packages to address most of them. Interested parties should look into [pint](https://pint.readthedocs.io/en/stable/), [numpy](https://numpy.org/), [pandas](https://pandas.pydata.org/), [sympy](https://www.sympy.org/en/index.html), and [scipy](https://scipy.org/)."
   ]
  },
  {
   "cell_type": "code",
   "execution_count": 3,
   "id": "71b2e1ad-405f-4709-b206-88205d42add9",
   "metadata": {},
   "outputs": [],
   "source": [
    "from civilpy.general import units"
   ]
  },
  {
   "cell_type": "markdown",
   "id": "37680417-4180-4a62-bb7d-311b5d361cf7",
   "metadata": {},
   "source": [
    "# Topic 2 - Water Resources"
   ]
  },
  {
   "cell_type": "markdown",
   "id": "d91439a8-9729-42a1-aed2-6efdf66fd402",
   "metadata": {},
   "source": [
    "## Chapter 14 - Fluid Properties"
   ]
  },
  {
   "cell_type": "code",
   "execution_count": 6,
   "id": "3dc24982-0aa5-4fd1-aef4-49fd7c499860",
   "metadata": {},
   "outputs": [],
   "source": [
    "# 14.1 - Absolute vs. Gauge Pressure\n",
    "def gage_to_absolute_pressure(gage_pressure, atmospheric_pressure = 101325 * units.pascal):\n",
    "    \"\"\"\n",
    "    Convert gage pressure to absolute pressure.\n",
    "\n",
    "    Parameters:\n",
    "    gage_pressure (pint.Quantity): The gage pressure value.\n",
    "    atmospheric_pressure (pint.Quantity) = 101325 * units.pascal \n",
    "            (1 atm at sea level - default)\n",
    "\n",
    "    Returns:\n",
    "        pint.Quantity: The absolute pressure value.\n",
    "    \"\"\"\n",
    "    absolute_pressure = gage_pressure + atmospheric_pressure\n",
    "\n",
    "    return absolute_pressure"
   ]
  },
  {
   "cell_type": "code",
   "execution_count": 15,
   "id": "776e3cec-7d74-4434-8f86-f05ad844bd48",
   "metadata": {},
   "outputs": [
    {
     "data": {
      "text/html": [
       "2.5 standard_atmosphere"
      ],
      "text/latex": [
       "$2.5\\ \\mathrm{standard\\_atmosphere}$"
      ],
      "text/plain": [
       "<Quantity(2.5, 'standard_atmosphere')>"
      ]
     },
     "execution_count": 15,
     "metadata": {},
     "output_type": "execute_result"
    }
   ],
   "source": [
    "gage_to_absolute_pressure(1.5*units.atmosphere)  # Any units of pressure work here"
   ]
  },
  {
   "cell_type": "code",
   "execution_count": 23,
   "id": "6e3c374d-f9b8-437a-9a99-3a45eb1bee72",
   "metadata": {},
   "outputs": [],
   "source": [
    "# 14.2 - Absolute Pressure in a Vacuum\n",
    "def vacuum_pressure(vacuum_pressure, atmospheric_pressure = 101325 * units.pascal):\n",
    "    \"\"\"\n",
    "    Convert gage pressure to absolute pressure.\n",
    "\n",
    "    Parameters:\n",
    "        vacuum_pressure (pint.Quantity): The gage pressure value.\n",
    "        atmospheric_pressure (pint.Quantity) = 101325 * units.pascal \n",
    "            (1 atm at sea level - default)\n",
    "\n",
    "    Returns:\n",
    "        vacuum_pressure (pint.Quantity): The absolute pressure value.\n",
    "    \"\"\"\n",
    "    vacuum_pressure = atmospheric_pressure - vacuum_pressure\n",
    "\n",
    "    return vacuum_pressure"
   ]
  },
  {
   "cell_type": "code",
   "execution_count": 25,
   "id": "85952aec-d690-40c6-8c77-bf86b5c43d09",
   "metadata": {},
   "outputs": [
    {
     "data": {
      "text/html": [
       "25.92125557974848 inch_Hg"
      ],
      "text/latex": [
       "$25.92125557974848\\ \\mathrm{inch\\_Hg}$"
      ],
      "text/plain": [
       "<Quantity(25.9212556, 'inch_Hg')>"
      ]
     },
     "execution_count": 25,
     "metadata": {},
     "output_type": "execute_result"
    }
   ],
   "source": [
    "vacuum_pressure(4 * units(\"inHg\")).to('inHg')"
   ]
  },
  {
   "cell_type": "code",
   "execution_count": null,
   "id": "8ed0a14c-0c73-402f-8864-8f51eef4e7cc",
   "metadata": {},
   "outputs": [],
   "source": []
  },
  {
   "cell_type": "markdown",
   "id": "eac6224f-e771-4d77-a45c-fac142b2a9e5",
   "metadata": {},
   "source": [
    "# Topic 3 - Environmental"
   ]
  },
  {
   "cell_type": "markdown",
   "id": "918f606b-6cd2-48da-94c8-9a6fe72af2ef",
   "metadata": {},
   "source": [
    "# Topic 4 - Geotechnical"
   ]
  },
  {
   "cell_type": "markdown",
   "id": "f561f95f-bb71-4ab5-8db0-a1d0dda7ea26",
   "metadata": {},
   "source": [
    "# Topic 5 - Structural"
   ]
  },
  {
   "cell_type": "markdown",
   "id": "79d5a2a8-8a72-451f-b97b-88e1a5d80e51",
   "metadata": {},
   "source": [
    "# Topic 6 - Transportation"
   ]
  },
  {
   "cell_type": "markdown",
   "id": "6fca1e9d-2828-4ae3-9c7e-b0263bfe7957",
   "metadata": {},
   "source": [
    "# Topic 7 - Construction"
   ]
  },
  {
   "cell_type": "markdown",
   "id": "59661d86-d1bb-4a72-87c7-ddbc427a3d7b",
   "metadata": {},
   "source": [
    "# Topic 8 - Systems, Management and Professional"
   ]
  },
  {
   "cell_type": "markdown",
   "id": "5c544ab9-1dac-4ac0-8507-8f806daaef1a",
   "metadata": {},
   "source": [
    "# Topic 9 - Support Material"
   ]
  },
  {
   "cell_type": "code",
   "execution_count": null,
   "id": "0c2e7087-196e-4851-b16a-b6e7c8473172",
   "metadata": {},
   "outputs": [],
   "source": []
  }
 ],
 "metadata": {
  "kernelspec": {
   "display_name": "Python 3 (ipykernel)",
   "language": "python",
   "name": "python3"
  },
  "language_info": {
   "codemirror_mode": {
    "name": "ipython",
    "version": 3
   },
   "file_extension": ".py",
   "mimetype": "text/x-python",
   "name": "python",
   "nbconvert_exporter": "python",
   "pygments_lexer": "ipython3",
   "version": "3.12.2"
  }
 },
 "nbformat": 4,
 "nbformat_minor": 5
}
