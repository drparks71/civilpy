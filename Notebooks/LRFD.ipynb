{
 "cells": [
  {
   "cell_type": "markdown",
   "id": "7468b180-89c6-46f5-b6ce-23d08bf775dc",
   "metadata": {},
   "source": [
    "# LRFD"
   ]
  },
  {
   "cell_type": "code",
   "execution_count": 2,
   "id": "6e745e14-b116-4069-bbf1-f1fd5b3a62eb",
   "metadata": {},
   "outputs": [],
   "source": [
    "from civilpy.general import units"
   ]
  },
  {
   "cell_type": "markdown",
   "id": "d3963c08-ca2e-4904-a046-e33be015e30d",
   "metadata": {},
   "source": [
    "## ASD vs. LFD vs. LRFD"
   ]
  },
  {
   "cell_type": "markdown",
   "id": "7326bfd3-6aaf-4319-be45-ee3b7088b79b",
   "metadata": {},
   "source": [
    "### ASD \n",
    "\n",
    "$$ \\sum DL + \\sum LL = \\frac{R_u}{FS} \\tag{Eq. 1.2.2.2-1} $$\n",
    "\n",
    "Where:\n",
    "\n",
    "$ DL $ = Dead load  \n",
    "$ LL $ = Live load  \n",
    "$ R_u $ = Ultimate capacity of the component under consideration  \n",
    "$ FS $ = Factor of safety > 1.0  "
   ]
  },
  {
   "cell_type": "code",
   "execution_count": 5,
   "id": "c3fac8b0-acb7-4d37-b3af-09986e576d26",
   "metadata": {},
   "outputs": [],
   "source": [
    "# Inputs\n",
    "DL = 50 * units.kips\n",
    "LL = 25 * units.kips\n",
    "R_u = 150 * units.kips"
   ]
  },
  {
   "cell_type": "code",
   "execution_count": 6,
   "id": "05bf88f3-8f06-4a37-b39d-c6fdca34710d",
   "metadata": {},
   "outputs": [
    {
     "name": "stdout",
     "output_type": "stream",
     "text": [
      "2.0 dimensionless\n"
     ]
    }
   ],
   "source": [
    "FS = R_u / (DL+LL)\n",
    "print(FS)"
   ]
  },
  {
   "cell_type": "markdown",
   "id": "910575da-2865-4208-8993-5238e9c4f8fe",
   "metadata": {},
   "source": [
    "### LFD\n",
    "\n",
    "$$ \\gamma(\\sum \\beta_{DL} DL+\\sum \\beta_{LL} LL) = \\phi R_u \\tag{Eq. 1.2.2.3-1} $$\n",
    "\n",
    "Where:\n",
    "\n",
    "$DL$ = Dead loads applied to the component under consideration  \n",
    "$LL$ = Live loads applied to the component under consideration  \n",
    "$R_u$ = Ultimate capacity of the component under consideration  \n",
    "$\\gamma$ = load factor applied to all loads  \n",
    "$\\beta_{DL}$ = Load combination coefficient for dead loads  \n",
    "$\\beta_{LL}$ = Load combination coefficient for live loads  \n",
    "$\\phi$ = Reduction factor  \n"
   ]
  },
  {
   "cell_type": "code",
   "execution_count": 7,
   "id": "69f73178-ca8b-4b69-8d04-5361ffedc52b",
   "metadata": {},
   "outputs": [],
   "source": [
    "# Inputs\n",
    "gamma = 1.3\n",
    "b_dl = 1.0\n",
    "b_ll = 1.67\n",
    "phi = 0.9"
   ]
  },
  {
   "cell_type": "code",
   "execution_count": 10,
   "id": "d8efe6e5-711b-4501-85be-67564f334b04",
   "metadata": {},
   "outputs": [
    {
     "name": "stdout",
     "output_type": "stream",
     "text": [
      "OK - 119.275 kip <= 135.0 kip\n"
     ]
    }
   ],
   "source": [
    "if gamma * (b_dl * DL + b_ll * LL) <= phi * R_u:\n",
    "    print(f\"OK - {gamma * (b_dl * DL + b_ll * LL)} <= {phi * R_u}\")\n",
    "else:\n",
    "    print('NG')"
   ]
  },
  {
   "cell_type": "markdown",
   "id": "e04410f2-9818-46ca-b128-3dcc0ab73f09",
   "metadata": {},
   "source": [
    "### LRFD\n",
    "\n",
    "$$ (\\sum \\gamma_{DL} DL + \\sum \\gamma_{LL} LL) = \\phi R_n \\tag{Eq. 1.2.2.4-1} $$\n",
    "\n",
    "Where:\n",
    "\n",
    "$ DL $ = Dead loads applied to the component under consideration  \n",
    "$ LL $ = Live loads applied to the component under consideration  \n",
    "$ R_n $ = Nominal resistance or strength of the component under consideration  \n",
    "$ \\gamma_{DL} $ = Load factor for dead loads  \n",
    "$ \\gamma_{LL} $ = Load factor for live loads  \n",
    "$ \\phi $ = Resistance factor  \n",
    "\n",
    "Note: The AASHTO Formula (1.3.2.1-1) includes a load modifier ($\\eta$), which  \n",
    "is applied to all loads equally.\n",
    "\n",
    "Most Load factors are determined by from AASHTO LRFD Article 3.4.1 and  \n",
    "resistance factors from AASHTO LRFD 5.5.4.2 for concrete and 6.5.4.2 for  \n",
    "steel."
   ]
  },
  {
   "cell_type": "code",
   "execution_count": 11,
   "id": "0cc75011-8a11-4019-9012-1f9085e85065",
   "metadata": {},
   "outputs": [],
   "source": [
    "eta = 1.05\n",
    "gamma_dl = 1.25\n",
    "gamma_ll = 1.75\n",
    "phi = 0.9"
   ]
  },
  {
   "cell_type": "code",
   "execution_count": 16,
   "id": "a5109f7c-1d31-4289-bfc9-4b175e0f3165",
   "metadata": {},
   "outputs": [
    {
     "name": "stdout",
     "output_type": "stream",
     "text": [
      "OK - 111.5625 kip <= 135.0 kip\n"
     ]
    }
   ],
   "source": [
    "if eta * gamma_dl * DL + eta * gamma_ll * LL <= phi * R_u:\n",
    "    print(f\"OK - {eta * gamma_dl * DL + eta * gamma_ll * LL} <= {phi * R_u}\")\n",
    "else:\n",
    "    print('NG')"
   ]
  },
  {
   "cell_type": "markdown",
   "id": "0adc987f-4017-4d66-8d38-aa5c4ac3527b",
   "metadata": {},
   "source": [
    "## Limit States\n",
    "\n",
    "AASHTO Definition - a condition beyond which the bridge or component ceases  \n",
    "to satisfy the provisions for which it was designed.  LRFD limit states are  \n",
    "generally classed into ~~4~~[(5?)](https://www.fhwa.dot.gov/bridge/pubs/nhi15047.pdf#page=26) major categories.\n",
    "\n",
    "1. Service\n",
    "2. Fatigue and fracture\n",
    "3. Strength\n",
    "4. Extreme Event\n",
    "\n",
    "Different load combinations are intended to analyze a structure for certain  \n",
    "responses, such as deflections, permanent deformations, ultimate capacity,  \n",
    "and inelastic responses without failure.\n",
    "\n",
    "Failure does not mean catastrophic failure, it means no longer satisfying  \n",
    "the provisions for which it was designed."
   ]
  },
  {
   "cell_type": "markdown",
   "id": "adffb3eb-99f2-4a08-ad7c-142f5bcc2594",
   "metadata": {},
   "source": [
    "### Generalized Equation\n",
    "\n",
    "This form of the equation is how it's presented in AASHTO LRFD, \n",
    "\n",
    "$$ \\sum \\eta_i \\gamma_i Q_i \\leq \\phi R_n = R_r \\tag{1.3.2.1-1} $$\n",
    "\n",
    "where:\n",
    "\n",
    "$\\eta_i$ = load modifier, relating to ductility, redundancy, and  \n",
    "operational importance  \n",
    "$\\gamma_i$ = load factor; a statistically based multiplier applied to  \n",
    "force effects  \n",
    "$Q_i$ = Force effect  \n",
    "$\\phi$ = Resistance factor; a statistically based multiplier applied to  \n",
    "nominal resistance  \n",
    "$R_n$ = Nominal resistance  \n",
    "$R_r$ = Factored resistance  \n",
    "\n",
    "Load factors are statistically-based multipliers applied to the force  \n",
    "effects, and they are usually greater than 1.0. \n",
    "\n",
    "Resistance factors are also statistically-based multipliers, but they are  \n",
    "applied to the nominal resistance. Their values are less than or equal to  \n",
    "1.0.\n",
    "\n",
    "Both load and resistance factors are selected to yield reliability factors  \n",
    "close to the target reliability index, $\\beta_T$. For each load component  \n",
    "(such as dead load, live load, and wind load), the load factor, $\\gamma_i$,  \n",
    "is computed as a function of the bias factor (which is defined as the ratio  \n",
    "of the mean value to the nominal value) and the coefficient of variation  \n",
    "(which is defined as the standard deviation divided by the average value).\n",
    "\n",
    "Load factors are given in AASHTO LRFD Tables 3.4.1-1 and 3.4.1.-2.\n",
    "\n",
    "The calculation of the load modifier is computed as described in Section  \n",
    "1.3.6."
   ]
  },
  {
   "cell_type": "markdown",
   "id": "0047a24f-ef4b-4253-9fc7-a9399cc34aa7",
   "metadata": {},
   "source": [
    "### Service Limit State\n",
    "\n",
    "Service limit state provides restrictions on stress, deformation, and crack  \n",
    "width under regular service conditions. It provides experience-related  \n",
    "provisions that cannot necessarily be derived solely from statistical or  \n",
    "strength considerations.\n",
    "\n",
    "There are four load combinations, designated Service I - Service IV.\n",
    "\n",
    "These represent loadings exepcted to occur many times during the design  \n",
    "life of the structure.  The service limit state is intended to control  \n",
    "deflections in superstructures and cracks in prestressed concrete  \n",
    "structures.\n",
    "\n",
    "For the service limit state, failure means that stresses, deformations, or  \n",
    "crack widths exceed the limitations established by AASHTO."
   ]
  },
  {
   "cell_type": "markdown",
   "id": "c48e7113-7845-4487-8b6b-f56cf9ccff45",
   "metadata": {},
   "source": [
    "### Fatigue and Fracture Limit State\n",
    "\n",
    "The fatigue and fracture limit state provides restrictions on stress range  \n",
    "as a result of a single design truck occurring at the number of expected  \n",
    "stress range cycles.\n",
    "\n",
    "It also provides material toughness requiremetns as set forth in the AASHTO  \n",
    "Material Specifications.  The fatigue and fracture limit state consists of  \n",
    "two load combinations intended to produce the greatest effect of a stress  \n",
    "range on a structural component which controls the possibility for cracking  \n",
    "in steel members from a single truck loading, as specified in AASHTO LRFD  \n",
    "Article 3.6.1.4.\n",
    "\n",
    "These two load combinations are deisgnated Fatigue I and II, and they  \n",
    "relate to infinite load-induced fatigue life and finite load-induced  \n",
    "fatigue life, respectively.\n",
    "\n",
    "This limit state is not applicable to all bridge designs, and the design  \n",
    "engineer must determine whether the effects of fatigue and fracture could  \n",
    "be a problem for each specific bridge. For instance, according to LRFD  \n",
    "Article 9.5.3, AASHTO does not require fatigue limit state checks for  \n",
    "concrete decks or wood decks. For the fatigue and fracture limit state,  \n",
    "failure means that crack growth under repetitive loads exceeds the  \n",
    "limitations established by AASHTO to prevent fracture during the design  \n",
    "life of the bridge."
   ]
  },
  {
   "cell_type": "markdown",
   "id": "89676c85-b4c9-4925-9774-66519652243c",
   "metadata": {},
   "source": [
    "### Strength Limit State\n",
    "\n",
    "The strength limit state assures that strength and stability requirements,  \n",
    "both local and global, are satisfied to resist the specified statistically  \n",
    "significant load combinations that a bridge is expected to experience  \n",
    "during its design life. All members must satisfy ultimate capacity  \n",
    "requirements under various live load and wind load conditions. These load  \n",
    "combinations would not generally occur during normal daily operation of the  \n",
    "structure, but they could occur during the design life of the structure.\n",
    "\n",
    "There are five strength load combinations, designated Strength I-V. For the  \n",
    "strength limit state, failure means that the bridge resistance has been  \n",
    "exceeded. Extensive distress and structural damage may occur under the  \n",
    "strength limit state, but overall structural integrity is expected to be  \n",
    "maintained."
   ]
  },
  {
   "cell_type": "markdown",
   "id": "86926443-29cd-4b72-a39f-7fb024a9b974",
   "metadata": {},
   "source": [
    "### Extreme Limit State\n",
    "\n",
    "The extreme event limit state assures the structural survival of a bridge  \n",
    "during a major earthquake, flood, collision by a vessel, collision by a  \n",
    "vehicle or ice flow.\n",
    "\n",
    "The extreme event limit state represents unique loadings whose return  \n",
    "period may be significantly greater than the design life of the bridge.  \n",
    "Specific loads which apply only to the extreme event limit state are  \n",
    "earthquake loads, blast loading, ice load, vehicular collision force and  \n",
    "vessel collision force. Each of these five loadings is analyzed separately  \n",
    "and is not combined with any of the other four extreme event loadings.\n",
    "\n",
    "The two load combinations for this limit state are designated Extreme Event  \n",
    "I and Extreme Event II, each possessing different load factors for live  \n",
    "load.\n",
    "\n",
    "For the extreme event limit state, failure does not mean complete loss of  \n",
    "structural integrity or collapse under these extreme loading conditions.  \n",
    "However, the effects of an extreme event load combination are allowed to  \n",
    "cause damage to a structure. Stresses adn deformations well into the  \n",
    "inelastic range are permitted and, in some cases, expected for the extreme  \n",
    "event limit state."
   ]
  },
  {
   "cell_type": "markdown",
   "id": "d95ccb62-c114-489c-a64f-a103a4fba945",
   "metadata": {},
   "source": [
    "### Load Modifier, $\\eta$\n",
    "\n",
    "As described in section 1.3.1, AASHTO LRFD introduces the \"load modifier\"  \n",
    "into the design equation. AASHTO Article 1.3.2.1 defines the load modifier  \n",
    "$\\eta$ (eta) as a combination of factors due to the effects of ductility,  \n",
    "redundancy, and operational importance. These three terms are designated as  \n",
    "$\\eta_D$, $\\eta_R$ and $\\eta_I$ respectively.\n",
    "\n",
    "The original intent of the load modifier was to encourage enhanced  \n",
    "ductility and redundancy. Operational importance was included to provide  \n",
    "additional reliability for more important bridges.\n",
    "\n",
    "The placement of the load modifier on the load side of the basic LRFD  \n",
    "equation may seem counterintuitive since ductility and redundancy are  \n",
    "generally considered to be characteristics of resistance rather than load.  \n",
    "However, the load modifier was placed on the load side since the final  \n",
    "combination of $\\eta$ factors depends on the desired loading condition. For  \n",
    "maximum values of $\\gamma_i$:\n",
    "\n",
    "$$ \\eta_i = \\eta_D \\eta_R \\eta_I \\geq 0.95 \\tag{AASHTO 1.3.2.1-2} $$\n",
    "\n",
    "However, for minimum values of $\\gamma_i$:\n",
    "\n",
    "$$ \\eta_i = \\frac{1}{\\eta_D \\eta_R \\eta_I} \\leq 1.0 \\tag{AASHTO 1.3.2.1-3} $$"
   ]
  },
  {
   "cell_type": "markdown",
   "id": "c7a95b68-58f9-4d36-94ae-c590c897dae2",
   "metadata": {},
   "source": [
    "#### Ductility\n",
    "\n",
    "The ductility factor, $\\eta_D$, can be modified for the strength limit  \n",
    "state to reflect a bridge's ductility characteristics. A higher value of  \n",
    "1.05 is used for nonductile components and connections. A value of 1.00 is  \n",
    "used for conventional designs and details that comply with AASHTO LRFD. A  \n",
    "lower value of 0.95 is used for components and connections for which  \n",
    "measures have been taken beyond those required in AASHTO LRFD to enhance  \n",
    "ductility in the bridge.  For all non-strength limit states, a factor of  \n",
    "1.00 is used."
   ]
  },
  {
   "cell_type": "markdown",
   "id": "839a093d-d5f0-4b7b-a5c4-ff65cadce367",
   "metadata": {},
   "source": [
    "#### Redundancy\n",
    "\n",
    "The redundancy factor, $\\eta_R$, as the name implies, accounts for the  \n",
    "redundant nature of the bridge or component. The preference is to design  \n",
    "bridge members with a suitable level of redundancy unless there is a  \n",
    "specific reason not to do so. For the strength limit state, a value of 1.05  \n",
    "is used for nonredundant members, and a value of 0.95 is used for  \n",
    "exceptional levels of redundancy beyond girder continuity and a  \n",
    "torsionally-closed cross section. For bridges with conventional levels of  \n",
    "redundancy, and for all limit states other than strength, a value of 1.00  \n",
    "should be used.\n",
    "\n",
    "The value of $\\eta_R$ used for design is based largely on subjective  \n",
    "judgment. However, NCHRP Project No. 12-86 entitled \"Bridge System  \n",
    "Reliability for Redundancy\" quantifies the structural system redundancy  \n",
    "(that is, the system factor). The current AASHTO Manual for Bridge  \n",
    "Evaluation has already adopted the system factor on the resistance side of  \n",
    "the basic equation. It is anticipated that future editions of AASHTO LRFD  \n",
    "will adopt the system factor to quantify the redundancy of the structure."
   ]
  },
  {
   "cell_type": "markdown",
   "id": "6d581581-944a-4fb0-8226-50a24efa0551",
   "metadata": {},
   "source": [
    "#### Operational Importance\n",
    "\n",
    "The use of the operational importance factor, $\\eta_I$, is somewhat more  \n",
    "subjective than the ductility and redundancy factors. The operational  \n",
    "importance of a bridge is the decision of the Owner, although AASHTO LRFD  \n",
    "Article C1.3.5 provides some guidance. For the strength limit state,  \n",
    "operational importance can range from 1.05 for critical or essential  \n",
    "bridges to 0.95 for relatively less important bridges. For typical bridges,  \n",
    "and for all limit states other than strength, a factor of 1.00 should be  \n",
    "used."
   ]
  },
  {
   "cell_type": "code",
   "execution_count": null,
   "id": "54d8190c-3077-4275-b086-cd3dbaf7c633",
   "metadata": {},
   "outputs": [],
   "source": []
  }
 ],
 "metadata": {
  "kernelspec": {
   "display_name": "Python 3 (ipykernel)",
   "language": "python",
   "name": "python3"
  },
  "language_info": {
   "codemirror_mode": {
    "name": "ipython",
    "version": 3
   },
   "file_extension": ".py",
   "mimetype": "text/x-python",
   "name": "python",
   "nbconvert_exporter": "python",
   "pygments_lexer": "ipython3",
   "version": "3.9.21"
  }
 },
 "nbformat": 4,
 "nbformat_minor": 5
}
