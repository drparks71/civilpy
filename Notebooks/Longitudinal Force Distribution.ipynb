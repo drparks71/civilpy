{
 "cells": [
  {
   "cell_type": "markdown",
   "id": "47bf4465-d702-4c0c-b03d-d3378534b860",
   "metadata": {},
   "source": [
    "# Longitudinal Force Distribution Calculation"
   ]
  },
  {
   "cell_type": "code",
   "execution_count": 2,
   "id": "c5edbd42-5b2d-4b6b-ab75-336703301c2f",
   "metadata": {},
   "outputs": [],
   "source": [
    "# User Inputs\n",
    "number_of_spans = 3\n",
    "span_lengths = [24, 24, 24]\n",
    "bearing_fixity = {1: ('F', 'E'), 2: ('F', 'E'), 3: ('F', 'E')}\n",
    "shaft_length_to_fixity = [20, 20, 20, 20]\n",
    "shaft_group_I = [4200, 4200, 4200, 4200]\n",
    "shaft_e = [29000, 29000, 29000, 29000]\n",
    "\n",
    "# Additional Inputs\n",
    "# Average dist from bot of tie to top of backwall or girder surface engaging passive pressure\n",
    "h1 = 6.0\n",
    "# Average height of backwall or girder surface engaging passive pressure\n",
    "h2 = 8.4\n",
    "# Area of backwall or girder surface engaging passive pressure\n",
    "a_p = 177.2\n",
    "# Soil density\n",
    "gamma = 120\n",
    "# Soil Type (\"Loose Sand\", \"Medium Dense Sand\", \"Dense Sand\")\n",
    "soil_type = 'Loose Sand'\n",
    "# Rail size (100, 112, 115, 119, 132, 133, 136, 140, 141)\n",
    "rail_size = "
   ]
  },
  {
   "cell_type": "code",
   "execution_count": 3,
   "id": "8d00806f-1f2c-4b8b-a9ea-9ad50f7f79d7",
   "metadata": {},
   "outputs": [
    {
     "data": {
      "text/plain": [
       "30"
      ]
     },
     "execution_count": 3,
     "metadata": {},
     "output_type": "execute_result"
    }
   ],
   "source": [
    "soil_types = {\n",
    "    \"Loose Sand\": 30, \n",
    "    \"Medium Dense Sand\": 38, \n",
    "    \"Dense Sand\": 45\n",
    "}\n",
    "\n",
    "soil_angle = soil_types[soil_type]\n",
    "soil_angle"
   ]
  },
  {
   "cell_type": "code",
   "execution_count": 21,
   "id": "51b8f1e8-1727-4999-9f10-c772b41669a5",
   "metadata": {},
   "outputs": [],
   "source": [
    "# Graph out the structure/Input Validations\n",
    "import matplotlib as pyplot\n",
    "\n",
    "# Check to make sure the right number of inputs was entered for each entry\n",
    "if True in (len(shaft_e) != number_of_spans+1, len(shaft_group_I) != number_of_spans+1, len(shaft_length_to_fixity) != number_of_spans+1):\n",
    "    print(\"Check the `shaft_e`, `shaft_group_I` and `shaft_length_to_fixity` lists, they should have 1 more value than the number of spans.\")\n",
    "\n",
    "# Check to make sure the right number of inputs was entered for each entry\n",
    "if True in (len(bearing_fixity) != number_of_spans, len(span_lengths) != number_of_spans):\n",
    "    print(\"Check the `span_lengths`, and `bearing_fixity` lists, they should have the same number of values as the number of spans.\")"
   ]
  },
  {
   "cell_type": "code",
   "execution_count": 1,
   "id": "cc205dd3-3a22-49c5-b55b-2f544dd62714",
   "metadata": {},
   "outputs": [],
   "source": []
  },
  {
   "cell_type": "code",
   "execution_count": null,
   "id": "af9a2614-45a5-4815-93e9-de325fe80707",
   "metadata": {},
   "outputs": [],
   "source": []
  },
  {
   "cell_type": "code",
   "execution_count": null,
   "id": "1beaae07-9da1-4690-a457-da4709b8d996",
   "metadata": {},
   "outputs": [],
   "source": []
  },
  {
   "cell_type": "code",
   "execution_count": null,
   "id": "6805c82d-c5de-4274-a2bc-1192f4d2df88",
   "metadata": {},
   "outputs": [],
   "source": []
  },
  {
   "cell_type": "code",
   "execution_count": null,
   "id": "acf283a5-d790-4fbd-8ca5-efa40cafb0bc",
   "metadata": {},
   "outputs": [],
   "source": []
  },
  {
   "cell_type": "code",
   "execution_count": null,
   "id": "c7c039ce-05b9-470f-9bca-c3b9de4a2025",
   "metadata": {},
   "outputs": [],
   "source": []
  },
  {
   "cell_type": "code",
   "execution_count": null,
   "id": "ac7d2849-9583-41c5-a3bf-d828d75fede4",
   "metadata": {},
   "outputs": [],
   "source": []
  },
  {
   "cell_type": "code",
   "execution_count": 7,
   "id": "356a1135-e555-4af1-9d8c-29fa61f98cbd",
   "metadata": {},
   "outputs": [],
   "source": []
  },
  {
   "cell_type": "code",
   "execution_count": null,
   "id": "9bbfc73d-0b44-4d0d-8c4e-e98e367060d3",
   "metadata": {},
   "outputs": [],
   "source": []
  },
  {
   "cell_type": "code",
   "execution_count": null,
   "id": "1aa3741b-1875-4c10-b83c-f744d93a9028",
   "metadata": {},
   "outputs": [],
   "source": []
  },
  {
   "cell_type": "code",
   "execution_count": null,
   "id": "fa91c86d-c6ec-4101-a074-0eb5db4f0d2b",
   "metadata": {},
   "outputs": [],
   "source": []
  },
  {
   "cell_type": "code",
   "execution_count": null,
   "id": "39bd45a2-8118-479f-81d7-46cceba23709",
   "metadata": {},
   "outputs": [],
   "source": []
  }
 ],
 "metadata": {
  "kernelspec": {
   "display_name": "Python 3 (ipykernel)",
   "language": "python",
   "name": "python3"
  },
  "language_info": {
   "codemirror_mode": {
    "name": "ipython",
    "version": 3
   },
   "file_extension": ".py",
   "mimetype": "text/x-python",
   "name": "python",
   "nbconvert_exporter": "python",
   "pygments_lexer": "ipython3",
   "version": "3.12.6"
  }
 },
 "nbformat": 4,
 "nbformat_minor": 5
}
