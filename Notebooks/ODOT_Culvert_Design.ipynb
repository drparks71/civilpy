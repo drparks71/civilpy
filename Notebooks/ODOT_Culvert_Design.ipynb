{
 "cells": [
  {
   "cell_type": "code",
   "execution_count": 1,
   "id": "c46ce0f8-90d1-4ea8-a289-81c895371c9f",
   "metadata": {},
   "outputs": [],
   "source": [
    "from civilpy.water_resources.hydraulics import OhioCulvertDesign"
   ]
  },
  {
   "cell_type": "code",
   "execution_count": 4,
   "id": "069e5b0a-4210-4b56-9ffc-75c880f0f047",
   "metadata": {},
   "outputs": [],
   "source": [
    "headwall_type = \"A\"\n",
    "design_height = 10.5  # Units in feet\n",
    "span = 14  # In feet"
   ]
  },
  {
   "cell_type": "code",
   "execution_count": 6,
   "id": "4bbc04b9-5212-48c8-98ed-0c94fbc13bf5",
   "metadata": {},
   "outputs": [],
   "source": [
    "design_culvert = OhioCulvertDesign(\n",
    "    hw_type=headwall_type, des_h=design_height, span=span\n",
    ")"
   ]
  },
  {
   "cell_type": "code",
   "execution_count": 23,
   "id": "39080aea-b104-4c1f-b425-b121c54c3c01",
   "metadata": {},
   "outputs": [
    {
     "name": "stdout",
     "output_type": "stream",
     "text": [
      "des_h 10.5\n",
      "hw_type A\n",
      "span 14\n",
      "wall_theta All\n",
      "wall_thickness 12\n"
     ]
    }
   ],
   "source": [
    "atts_to_print = [\"des_h\", \"hw_type\", \"span\", \"wall_theta\", \"wall_thickness\"]\n",
    "\n",
    "for key in dir(design_culvert):\n",
    "    if key in atts_to_print:\n",
    "        print(key, getattr(design_culvert, key))"
   ]
  },
  {
   "cell_type": "code",
   "execution_count": null,
   "id": "f1901871-84db-4e06-a3ba-c2f4b4fb0f0b",
   "metadata": {},
   "outputs": [],
   "source": []
  },
  {
   "cell_type": "code",
   "execution_count": null,
   "id": "635ff268-695f-4bdc-bdbb-4f755553132e",
   "metadata": {},
   "outputs": [],
   "source": []
  }
 ],
 "metadata": {
  "kernelspec": {
   "display_name": "Python 3 (ipykernel)",
   "language": "python",
   "name": "python3"
  },
  "language_info": {
   "codemirror_mode": {
    "name": "ipython",
    "version": 3
   },
   "file_extension": ".py",
   "mimetype": "text/x-python",
   "name": "python",
   "nbconvert_exporter": "python",
   "pygments_lexer": "ipython3",
   "version": "3.10.13"
  }
 },
 "nbformat": 4,
 "nbformat_minor": 5
}
