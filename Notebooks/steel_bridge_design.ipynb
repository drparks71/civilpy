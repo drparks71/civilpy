{
 "cells": [
  {
   "attachments": {},
   "cell_type": "markdown",
   "id": "c7abb755-4571-401c-91b3-1dde542f3bef",
   "metadata": {
    "ExecuteTime": {
     "end_time": "2025-02-07T21:30:34.002648Z",
     "start_time": "2025-02-07T21:30:33.996359Z"
    }
   },
   "source": [
    "![mermaid-diagram-2025-02-07-165403.svg](file:///C:/Users/dane.parks/Downloads/mermaid-diagram-2025-02-07-165403.svg)"
   ]
  },
  {
   "cell_type": "markdown",
   "id": "9e2a3643-fc53-4ce9-b970-d97e3bbd14cf",
   "metadata": {},
   "source": [
    "<img src=\"data:img/svg+xml;base64, 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\">"
   ]
  },
  {
   "cell_type": "code",
   "execution_count": null,
   "id": "ae7dd84c-5b59-463a-8a3a-9e330c0a3ad8",
   "metadata": {},
   "outputs": [],
   "source": []
  },
  {
   "cell_type": "markdown",
   "id": "5d091b43-8321-4cd0-9eb6-afdb211fcb15",
   "metadata": {},
   "source": [
    "![mermaid-diagram-2025-02-07-165403.svg](attachment:b5e37b9a-58e0-4ed4-9396-094115509eca.svg)"
   ]
  },
  {
   "cell_type": "code",
   "execution_count": 2,
   "id": "e4da6a8e-136d-44b4-b24b-d81256861d84",
   "metadata": {
    "ExecuteTime": {
     "end_time": "2025-02-07T21:30:36.435969Z",
     "start_time": "2025-02-07T21:30:36.426084Z"
    }
   },
   "outputs": [
    {
     "data": {
      "text/html": [
       "<img src=\"https://mermaid.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\"/>"
      ],
      "text/plain": [
       "<IPython.core.display.Image object>"
      ]
     },
     "metadata": {},
     "output_type": "display_data"
    }
   ],
   "source": [
    "import base64\n",
    "from IPython.display import Image, display\n",
    "import matplotlib.pyplot as plt\n",
    "\n",
    "def mm(graph):\n",
    "  graphbytes = graph.encode(\"ascii\")\n",
    "  base64_bytes = base64.b64encode(graphbytes)\n",
    "  base64_string = base64_bytes.decode(\"ascii\")\n",
    "  display(\n",
    "    Image(\n",
    "      url=\"https://mermaid.ink/img/\"\n",
    "      + base64_string\n",
    "    )\n",
    "  )\n",
    "\n",
    "mm(\"\"\"\n",
    "flowchart TD\n",
    "%% Flowchart Structure %%\n",
    "    A[<a href='https://www.youtube.com/watch?v=-XV1JBfhgWo&list=PLw5h0DiJ-9PC49ItLKBQlWSMH1zolOCXS'>Input Bridge Geometry AREMA 15-1.3.3</a>] --> B(Determine Loading Conditions)\n",
    "    B --> C(Determine Section Properties)\n",
    "    C --> D[Determine Gross Section Properties] --> G[Satisfy Flange Safety Clearance Check]\n",
    "    C --> E[Determine Net Section Properties] --> G\n",
    "    C --> F[Determine Composite Section Properties] --> G\n",
    "    G --> H[Check Allowable Stresses AREMA 15-1-11]\n",
    "    H --> I[Check Tensile Stress due to Bending AREMA 15-1.3.14]\n",
    "    H --> J[Check Compressive Stress due to Bending AREMA 15-1-11]\n",
    "    H --> K[Check Shear Stress AREMA 15-1-11]\n",
    "    H --> L[Check Combined StressAREMA 15-1.3.14]\n",
    "    K --> M\n",
    "    J --> M\n",
    "    I --> M\n",
    "    L --> M[Do you have a Composite Deck?] --> |Yes| N[Check Deflection using Composite Moment of Inertia AREMA 15-1.2.5b]\n",
    "    M --> |No| O[Check Deflection using Net Moment of Inertia AREMA 15-1.2.5b]\n",
    "    O --> P[Check Web and Flange Properties]\n",
    "    N --> P\n",
    "    P --> Q[Check Web Thickness AREMA 15-1.7.3]\n",
    "    P --> R[Check Outstanding Flange in Compression AREMA 15-1.6.2]\n",
    "    R --> S[Check Intermediate Stiffener Requirements Transverse and Longitudinal]\n",
    "    Q --> S\n",
    "    S --> T[Check Fatigue AREMA 15-1.3.13]\n",
    "    T --> U[Check Base Metal AREMA 15-1.3.13f]\n",
    "    T --> V[Check Transverse Stiffener Weld on Flange AREMA 15-1.3.13f]\n",
    "    T --> W[Check Transverse Stiffener Weld on Web AREMA 15-1.3.13f]\n",
    "    U --> X[Design Bearing Stiffeners AREMA 15-1.7.7]\n",
    "    V --> X\n",
    "    W --> X\n",
    "    X --> Y[Check Compressive Stress Bearing Stiffener AREMA 15-1-12]\n",
    "    X --> Z[Check Bearing Stress Bearing Stiffeners AREMA 15-1-12]\n",
    "    Z --> AA[Generate Summary of Design and Clarify Elements to be Detailed.]\n",
    "    Y --> AA\n",
    "\"\"\")\n",
    "\n",
    "# %% AREMA Links %%\n",
    "#     click A 'https://www.youtube.com/watch?v=-XV1JBfhgWo&list=PLw5h0DiJ-9PC49ItLKBQlWSMH1zolOCXS'\n",
    "#     click H 'https://www.youtube.com/watch?v=-XV1JBfhgWo&list=PLw5h0DiJ-9PC49ItLKBQlWSMH1zolOCXS'\n",
    "#     click I 'https://www.youtube.com/watch?v=-XV1JBfhgWo&list=PLw5h0DiJ-9PC49ItLKBQlWSMH1zolOCXS'\n",
    "#     click J 'https://www.youtube.com/watch?v=-XV1JBfhgWo&list=PLw5h0DiJ-9PC49ItLKBQlWSMH1zolOCXS'\n",
    "#     click K 'https://www.youtube.com/watch?v=-XV1JBfhgWo&list=PLw5h0DiJ-9PC49ItLKBQlWSMH1zolOCXS'\n",
    "#     click L 'https://www.youtube.com/watch?v=-XV1JBfhgWo&list=PLw5h0DiJ-9PC49ItLKBQlWSMH1zolOCXS'\n",
    "#     click M 'https://www.youtube.com/watch?v=-XV1JBfhgWo&list=PLw5h0DiJ-9PC49ItLKBQlWSMH1zolOCXS'\n",
    "#     click N 'https://www.youtube.com/watch?v=-XV1JBfhgWo&list=PLw5h0DiJ-9PC49ItLKBQlWSMH1zolOCXS'\n",
    "#     click O 'https://www.youtube.com/watch?v=-XV1JBfhgWo&list=PLw5h0DiJ-9PC49ItLKBQlWSMH1zolOCXS'\n",
    "#     click R 'https://www.youtube.com/watch?v=-XV1JBfhgWo&list=PLw5h0DiJ-9PC49ItLKBQlWSMH1zolOCXS'\n",
    "#     click Q 'https://www.youtube.com/watch?v=-XV1JBfhgWo&list=PLw5h0DiJ-9PC49ItLKBQlWSMH1zolOCXS'\n",
    "#     click T 'https://www.youtube.com/watch?v=-XV1JBfhgWo&list=PLw5h0DiJ-9PC49ItLKBQlWSMH1zolOCXS'\n",
    "#     click U 'https://www.youtube.com/watch?v=-XV1JBfhgWo&list=PLw5h0DiJ-9PC49ItLKBQlWSMH1zolOCXS'\n",
    "#     click V 'https://www.youtube.com/watch?v=-XV1JBfhgWo&list=PLw5h0DiJ-9PC49ItLKBQlWSMH1zolOCXS'\n",
    "#     click W 'https://www.youtube.com/watch?v=-XV1JBfhgWo&list=PLw5h0DiJ-9PC49ItLKBQlWSMH1zolOCXS'\n",
    "#     click X 'https://www.youtube.com/watch?v=-XV1JBfhgWo&list=PLw5h0DiJ-9PC49ItLKBQlWSMH1zolOCXS'\n",
    "#     click Y 'https://www.youtube.com/watch?v=-XV1JBfhgWo&list=PLw5h0DiJ-9PC49ItLKBQlWSMH1zolOCXS'\n",
    "#     click Z 'https://www.youtube.com/watch?v=-XV1JBfhgWo&list=PLw5h0DiJ-9PC49ItLKBQlWSMH1zolOCXS'"
   ]
  },
  {
   "cell_type": "markdown",
   "id": "60dfe32f-565a-4586-a71f-d8e012bee743",
   "metadata": {},
   "source": [
    "<a href='https://www.youtube.com/watch?v=-XV1JBfhgWo&list=PLw5h0DiJ-9PC49ItLKBQlWSMH1zolOCXS'>Input Bridge Geometry AREMA 15-1.3.3</a>\n",
    "\n",
    "```mermaid\n",
    "flowchart TD\n",
    "%% Flowchart Structure %%\n",
    "    A[<a href='https://www.youtube.com/watch?v=-XV1JBfhgWo&list=PLw5h0DiJ-9PC49ItLKBQlWSMH1zolOCXS'>Input Bridge Geometry AREMA 15-1.3.3</>] --> B(Determine Loading Conditions)\n",
    "    B --> C(Determine Section Properties)\n",
    "    C --> D[Determine Gross Section Properties] --> G[Satisfy Flange Safety Clearance Check]\n",
    "    C --> E[Determine Net Section Properties] --> G\n",
    "    C --> F[Determine Composite Section Properties] --> G\n",
    "    G --> H[Check Allowable Stresses AREMA 15-1-11]\n",
    "    H --> I[Check Tensile Stress due to Bending AREMA 15-1.3.14]\n",
    "    H --> J[Check Compressive Stress due to Bending AREMA 15-1-11]\n",
    "    H --> K[Check Shear Stress AREMA 15-1-11]\n",
    "    H --> L[Check Combined StressAREMA 15-1.3.14]\n",
    "    K --> M\n",
    "    J --> M\n",
    "    I --> M\n",
    "    L --> M[Do you have a Composite Deck?] --> |Yes| N[Check Deflection using Composite Moment of Inertia AREMA 15-1.2.5b]\n",
    "    M --> |No| O[Check Deflection using Net Moment of Inertia AREMA 15-1.2.5b]\n",
    "    O --> P[Check Web and Flange Properties]\n",
    "    N --> P\n",
    "    P --> Q[Check Web Thickness AREMA 15-1.7.3]\n",
    "    P --> R[Check Outstanding Flange in Compression AREMA 15-1.6.2]\n",
    "    R --> S[Check Intermediate Stiffener Requirements Transverse and Longitudinal]\n",
    "    Q --> S\n",
    "    S --> T[Check Fatigue AREMA 15-1.3.13]\n",
    "    T --> U[Check Base Metal AREMA 15-1.3.13f]\n",
    "    T --> V[Check Transverse Stiffener Weld on Flange AREMA 15-1.3.13f]\n",
    "    T --> W[Check Transverse Stiffener Weld on Web AREMA 15-1.3.13f]\n",
    "    U --> X[Design Bearing Stiffeners AREMA 15-1.7.7]\n",
    "    V --> X\n",
    "    W --> X\n",
    "    X --> Y[Check Compressive Stress Bearing Stiffener AREMA 15-1-12]\n",
    "    X --> Z[Check Bearing Stress Bearing Stiffeners AREMA 15-1-12]\n",
    "    Z --> AA[Generate Summary of Design and Clarify Elements to be Detailed.]\n",
    "    Y --> AA\n",
    "\n",
    "%% AREMA Links %%\n",
    "    click A \"https://www.youtube.com/watch?v=-XV1JBfhgWo&list=PLw5h0DiJ-9PC49ItLKBQlWSMH1zolOCXS\"\n",
    "    click H \"https://www.youtube.com/watch?v=-XV1JBfhgWo&list=PLw5h0DiJ-9PC49ItLKBQlWSMH1zolOCXS\"\n",
    "    click I \"https://www.youtube.com/watch?v=-XV1JBfhgWo&list=PLw5h0DiJ-9PC49ItLKBQlWSMH1zolOCXS\"\n",
    "    click J \"https://www.youtube.com/watch?v=-XV1JBfhgWo&list=PLw5h0DiJ-9PC49ItLKBQlWSMH1zolOCXS\"\n",
    "    click K \"https://www.youtube.com/watch?v=-XV1JBfhgWo&list=PLw5h0DiJ-9PC49ItLKBQlWSMH1zolOCXS\"\n",
    "    click L \"https://www.youtube.com/watch?v=-XV1JBfhgWo&list=PLw5h0DiJ-9PC49ItLKBQlWSMH1zolOCXS\"\n",
    "    click M \"https://www.youtube.com/watch?v=-XV1JBfhgWo&list=PLw5h0DiJ-9PC49ItLKBQlWSMH1zolOCXS\"\n",
    "    click N \"https://www.youtube.com/watch?v=-XV1JBfhgWo&list=PLw5h0DiJ-9PC49ItLKBQlWSMH1zolOCXS\"\n",
    "    click O \"https://www.youtube.com/watch?v=-XV1JBfhgWo&list=PLw5h0DiJ-9PC49ItLKBQlWSMH1zolOCXS\"\n",
    "    click R \"https://www.youtube.com/watch?v=-XV1JBfhgWo&list=PLw5h0DiJ-9PC49ItLKBQlWSMH1zolOCXS\"\n",
    "    click Q \"https://www.youtube.com/watch?v=-XV1JBfhgWo&list=PLw5h0DiJ-9PC49ItLKBQlWSMH1zolOCXS\"\n",
    "    click T \"https://www.youtube.com/watch?v=-XV1JBfhgWo&list=PLw5h0DiJ-9PC49ItLKBQlWSMH1zolOCXS\"\n",
    "    click U \"https://www.youtube.com/watch?v=-XV1JBfhgWo&list=PLw5h0DiJ-9PC49ItLKBQlWSMH1zolOCXS\"\n",
    "    click V \"https://www.youtube.com/watch?v=-XV1JBfhgWo&list=PLw5h0DiJ-9PC49ItLKBQlWSMH1zolOCXS\"\n",
    "    click W \"https://www.youtube.com/watch?v=-XV1JBfhgWo&list=PLw5h0DiJ-9PC49ItLKBQlWSMH1zolOCXS\"\n",
    "    click X \"https://www.youtube.com/watch?v=-XV1JBfhgWo&list=PLw5h0DiJ-9PC49ItLKBQlWSMH1zolOCXS\"\n",
    "    click Y \"https://www.youtube.com/watch?v=-XV1JBfhgWo&list=PLw5h0DiJ-9PC49ItLKBQlWSMH1zolOCXS\"\n",
    "    click Z \"https://www.youtube.com/watch?v=-XV1JBfhgWo&list=PLw5h0DiJ-9PC49ItLKBQlWSMH1zolOCXS\"\n",
    "```"
   ]
  },
  {
   "cell_type": "code",
   "execution_count": null,
   "id": "5c32af9a-a697-4a51-b897-f3c9ae4751c7",
   "metadata": {},
   "outputs": [],
   "source": []
  }
 ],
 "metadata": {
  "kernelspec": {
   "display_name": "Python 3 (ipykernel)",
   "language": "python",
   "name": "python3"
  },
  "language_info": {
   "codemirror_mode": {
    "name": "ipython",
    "version": 3
   },
   "file_extension": ".py",
   "mimetype": "text/x-python",
   "name": "python",
   "nbconvert_exporter": "python",
   "pygments_lexer": "ipython3",
   "version": "3.12.6"
  }
 },
 "nbformat": 4,
 "nbformat_minor": 5
}
